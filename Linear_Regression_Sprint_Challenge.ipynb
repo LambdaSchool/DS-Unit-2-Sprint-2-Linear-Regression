{
  "nbformat": 4,
  "nbformat_minor": 0,
  "metadata": {
    "colab": {
      "name": "Linear Regression Sprint Challenge.ipynb",
      "version": "0.3.2",
      "provenance": [],
      "collapsed_sections": [
        "2WANs1UKuESM",
        "w9gkF-HNUFAV",
        "Vy1SWxcYTAC0",
        "Uf_SQswNUPwM",
        "0AdXWiwoUstf",
        "82fH2rilU7j3",
        "T0CV0OnDVZbu",
        "ZwQb3gE7VycT",
        "kIXhGHIgXHyJ",
        "ckQ5GsOtYsjn",
        "T3sZrru_YzFF",
        "Z_VNy7e3Y5sT",
        "G2T4FSqRZOJA",
        "R117rxnOZw6q",
        "QTf4gCaDaiCw",
        "NJgfD-JLayRA",
        "hf4_8FXrpHFY",
        "JUQwzfDRfrQi",
        "M_JLfReVeoYT",
        "unqhNRYnfIL4",
        "Gs20FOntprd_",
        "VJnxkobcpulV",
        "loKma3wspwVs"
      ],
      "include_colab_link": true
    },
    "kernelspec": {
      "name": "python3",
      "display_name": "Python 3"
    }
  },
  "cells": [
    {
      "cell_type": "markdown",
      "metadata": {
        "id": "view-in-github",
        "colab_type": "text"
      },
      "source": [
        "<a href=\"https://colab.research.google.com/github/zangell44/DS-Unit-2-Sprint-2-Linear-Regression/blob/master/Linear_Regression_Sprint_Challenge.ipynb\" target=\"_parent\"><img src=\"https://colab.research.google.com/assets/colab-badge.svg\" alt=\"Open In Colab\"/></a>"
      ]
    },
    {
      "metadata": {
        "id": "YbiJuv5d2jZ7",
        "colab_type": "code",
        "colab": {}
      },
      "cell_type": "code",
      "source": [
        "# Import everything you could ever need. ;)\n",
        "import pandas as pd\n",
        "import numpy as np\n",
        "import matplotlib.pyplot as plt\n",
        "import seaborn as sns\n",
        "import statsmodels.api as sm\n",
        "from statsmodels.stats.outliers_influence import variance_inflation_factor as vif\n",
        "from sklearn.model_selection import train_test_split\n",
        "from sklearn.linear_model import LinearRegression\n",
        "from sklearn.metrics import mean_squared_error, r2_score"
      ],
      "execution_count": 0,
      "outputs": []
    },
    {
      "metadata": {
        "id": "FgaItuSL3zxO",
        "colab_type": "code",
        "outputId": "df82f3bd-7216-4e1b-cdae-9f679a959560",
        "colab": {
          "base_uri": "https://localhost:8080/",
          "height": 215
        }
      },
      "cell_type": "code",
      "source": [
        "# Ukraine Used Car Sale Price Prediction\n",
        "df = pd.read_csv('https://raw.githubusercontent.com/ryanleeallred/datasets/master/car_regression.csv')\n",
        "print(df.shape)\n",
        "df.head()"
      ],
      "execution_count": 119,
      "outputs": [
        {
          "output_type": "stream",
          "text": [
            "(8495, 9)\n"
          ],
          "name": "stdout"
        },
        {
          "output_type": "execute_result",
          "data": {
            "text/html": [
              "<div>\n",
              "<style scoped>\n",
              "    .dataframe tbody tr th:only-of-type {\n",
              "        vertical-align: middle;\n",
              "    }\n",
              "\n",
              "    .dataframe tbody tr th {\n",
              "        vertical-align: top;\n",
              "    }\n",
              "\n",
              "    .dataframe thead th {\n",
              "        text-align: right;\n",
              "    }\n",
              "</style>\n",
              "<table border=\"1\" class=\"dataframe\">\n",
              "  <thead>\n",
              "    <tr style=\"text-align: right;\">\n",
              "      <th></th>\n",
              "      <th>make</th>\n",
              "      <th>price</th>\n",
              "      <th>body</th>\n",
              "      <th>mileage</th>\n",
              "      <th>engV</th>\n",
              "      <th>engType</th>\n",
              "      <th>registration</th>\n",
              "      <th>year</th>\n",
              "      <th>drive</th>\n",
              "    </tr>\n",
              "  </thead>\n",
              "  <tbody>\n",
              "    <tr>\n",
              "      <th>0</th>\n",
              "      <td>23</td>\n",
              "      <td>15500.0</td>\n",
              "      <td>0</td>\n",
              "      <td>68</td>\n",
              "      <td>2.5</td>\n",
              "      <td>1</td>\n",
              "      <td>1</td>\n",
              "      <td>2010</td>\n",
              "      <td>1</td>\n",
              "    </tr>\n",
              "    <tr>\n",
              "      <th>1</th>\n",
              "      <td>50</td>\n",
              "      <td>20500.0</td>\n",
              "      <td>3</td>\n",
              "      <td>173</td>\n",
              "      <td>1.8</td>\n",
              "      <td>1</td>\n",
              "      <td>1</td>\n",
              "      <td>2011</td>\n",
              "      <td>2</td>\n",
              "    </tr>\n",
              "    <tr>\n",
              "      <th>2</th>\n",
              "      <td>50</td>\n",
              "      <td>35000.0</td>\n",
              "      <td>2</td>\n",
              "      <td>135</td>\n",
              "      <td>5.5</td>\n",
              "      <td>3</td>\n",
              "      <td>1</td>\n",
              "      <td>2008</td>\n",
              "      <td>2</td>\n",
              "    </tr>\n",
              "    <tr>\n",
              "      <th>3</th>\n",
              "      <td>50</td>\n",
              "      <td>17800.0</td>\n",
              "      <td>5</td>\n",
              "      <td>162</td>\n",
              "      <td>1.8</td>\n",
              "      <td>0</td>\n",
              "      <td>1</td>\n",
              "      <td>2012</td>\n",
              "      <td>0</td>\n",
              "    </tr>\n",
              "    <tr>\n",
              "      <th>4</th>\n",
              "      <td>55</td>\n",
              "      <td>16600.0</td>\n",
              "      <td>0</td>\n",
              "      <td>83</td>\n",
              "      <td>2.0</td>\n",
              "      <td>3</td>\n",
              "      <td>1</td>\n",
              "      <td>2013</td>\n",
              "      <td>1</td>\n",
              "    </tr>\n",
              "  </tbody>\n",
              "</table>\n",
              "</div>"
            ],
            "text/plain": [
              "   make    price  body  mileage  engV  engType  registration  year  drive\n",
              "0    23  15500.0     0       68   2.5        1             1  2010      1\n",
              "1    50  20500.0     3      173   1.8        1             1  2011      2\n",
              "2    50  35000.0     2      135   5.5        3             1  2008      2\n",
              "3    50  17800.0     5      162   1.8        0             1  2012      0\n",
              "4    55  16600.0     0       83   2.0        3             1  2013      1"
            ]
          },
          "metadata": {
            "tags": []
          },
          "execution_count": 119
        }
      ]
    },
    {
      "metadata": {
        "id": "2WANs1UKuESM",
        "colab_type": "text"
      },
      "cell_type": "markdown",
      "source": [
        "# 0.Data Cleaning and Enhancement\n",
        "\n",
        "Checking for null values, some minor feature engineering, etc."
      ]
    },
    {
      "metadata": {
        "id": "DMibORgPx5Hq",
        "colab_type": "code",
        "colab": {}
      },
      "cell_type": "code",
      "source": [
        "assert 'object' not in df.dtypes, 'Please ensure all data types are integer or float'"
      ],
      "execution_count": 0,
      "outputs": []
    },
    {
      "metadata": {
        "id": "CI3TADCjuGN1",
        "colab_type": "code",
        "colab": {}
      },
      "cell_type": "code",
      "source": [
        "assert df.isnull().sum().sum() == 0, 'Please correct null values'"
      ],
      "execution_count": 0,
      "outputs": []
    },
    {
      "metadata": {
        "id": "X3xVSV7Pu_tp",
        "colab_type": "text"
      },
      "cell_type": "markdown",
      "source": [
        "Some of these variables seem more categorical or ordinal in nature than numeric. Let's look at the unique values for some of the suspicious ones.\n",
        "\n",
        "The only obvious exceptions to this are \n",
        "- year, likely either the year made or the year sold\n",
        "- mileage, likely the thousands of miles driven at time of sale\n",
        "- engV, likely the volume of the engine in some unit such as liters"
      ]
    },
    {
      "metadata": {
        "id": "-7DcmxiSuyGi",
        "colab_type": "code",
        "colab": {
          "base_uri": "https://localhost:8080/",
          "height": 158
        },
        "outputId": "1e82f0bf-4364-4c61-cc66-c6b596797d2e"
      },
      "cell_type": "code",
      "source": [
        "print ('Unique values of drive', df['drive'].unique())\n",
        "print ('Unique values of registration', df['registration'].unique())\n",
        "print ('Unique values of engType', df['engType'].unique())\n",
        "print ('Unique values of body', df['body'].unique())\n",
        "print ('Unique values of make', df['make'].unique())"
      ],
      "execution_count": 122,
      "outputs": [
        {
          "output_type": "stream",
          "text": [
            "Unique values of drive [1 2 0]\n",
            "Unique values of registration [1 0]\n",
            "Unique values of engType [1 3 0 2]\n",
            "Unique values of body [0 3 2 5 4 1]\n",
            "Unique values of make [23 50 55 30 59  5 77  4 13 37 52 39 58 74 33 56 12 67 42 17 49 43 34 70\n",
            " 76  1 68 57 71 11  7 78 80 14 19 22 38 69 66 47 15 32 26 48  6 10  0  3\n",
            " 73 61 24 25 45 53 20 75 72 81 44 51 28 27 54 63 41  2 21  8 16 60 46 64\n",
            " 36 65 40 18 29 62 82 35 31 79  9]\n"
          ],
          "name": "stdout"
        }
      ]
    },
    {
      "metadata": {
        "id": "JEI4OCsXw0w1",
        "colab_type": "text"
      },
      "cell_type": "markdown",
      "source": [
        "Based on the above, the only feature I would feel comfortable leaving is registration, which is likely a binary variable indicating whether or not the car is registered. (It is Eastern Europe after all, and rumor has it many cars are stolen out there lol)\n",
        "\n",
        "On the other hand, drive, engType, body, and make all seem to be categorical variables that we should one hot encode. I have no reason to assume they are in any order."
      ]
    },
    {
      "metadata": {
        "id": "c91_CWF7xPm4",
        "colab_type": "code",
        "colab": {
          "base_uri": "https://localhost:8080/",
          "height": 246
        },
        "outputId": "39878067-a39b-4791-e2a9-6136a8100f27"
      },
      "cell_type": "code",
      "source": [
        "df = pd.get_dummies(df, prefix_sep=\"__\",\n",
        "                   columns=['drive', 'engType', 'body', 'make'],\n",
        "                   drop_first=True) # get k-1 dummies\n",
        "df.head()"
      ],
      "execution_count": 123,
      "outputs": [
        {
          "output_type": "execute_result",
          "data": {
            "text/html": [
              "<div>\n",
              "<style scoped>\n",
              "    .dataframe tbody tr th:only-of-type {\n",
              "        vertical-align: middle;\n",
              "    }\n",
              "\n",
              "    .dataframe tbody tr th {\n",
              "        vertical-align: top;\n",
              "    }\n",
              "\n",
              "    .dataframe thead th {\n",
              "        text-align: right;\n",
              "    }\n",
              "</style>\n",
              "<table border=\"1\" class=\"dataframe\">\n",
              "  <thead>\n",
              "    <tr style=\"text-align: right;\">\n",
              "      <th></th>\n",
              "      <th>price</th>\n",
              "      <th>mileage</th>\n",
              "      <th>engV</th>\n",
              "      <th>registration</th>\n",
              "      <th>year</th>\n",
              "      <th>drive__1</th>\n",
              "      <th>drive__2</th>\n",
              "      <th>engType__1</th>\n",
              "      <th>engType__2</th>\n",
              "      <th>engType__3</th>\n",
              "      <th>...</th>\n",
              "      <th>make__73</th>\n",
              "      <th>make__74</th>\n",
              "      <th>make__75</th>\n",
              "      <th>make__76</th>\n",
              "      <th>make__77</th>\n",
              "      <th>make__78</th>\n",
              "      <th>make__79</th>\n",
              "      <th>make__80</th>\n",
              "      <th>make__81</th>\n",
              "      <th>make__82</th>\n",
              "    </tr>\n",
              "  </thead>\n",
              "  <tbody>\n",
              "    <tr>\n",
              "      <th>0</th>\n",
              "      <td>15500.0</td>\n",
              "      <td>68</td>\n",
              "      <td>2.5</td>\n",
              "      <td>1</td>\n",
              "      <td>2010</td>\n",
              "      <td>1</td>\n",
              "      <td>0</td>\n",
              "      <td>1</td>\n",
              "      <td>0</td>\n",
              "      <td>0</td>\n",
              "      <td>...</td>\n",
              "      <td>0</td>\n",
              "      <td>0</td>\n",
              "      <td>0</td>\n",
              "      <td>0</td>\n",
              "      <td>0</td>\n",
              "      <td>0</td>\n",
              "      <td>0</td>\n",
              "      <td>0</td>\n",
              "      <td>0</td>\n",
              "      <td>0</td>\n",
              "    </tr>\n",
              "    <tr>\n",
              "      <th>1</th>\n",
              "      <td>20500.0</td>\n",
              "      <td>173</td>\n",
              "      <td>1.8</td>\n",
              "      <td>1</td>\n",
              "      <td>2011</td>\n",
              "      <td>0</td>\n",
              "      <td>1</td>\n",
              "      <td>1</td>\n",
              "      <td>0</td>\n",
              "      <td>0</td>\n",
              "      <td>...</td>\n",
              "      <td>0</td>\n",
              "      <td>0</td>\n",
              "      <td>0</td>\n",
              "      <td>0</td>\n",
              "      <td>0</td>\n",
              "      <td>0</td>\n",
              "      <td>0</td>\n",
              "      <td>0</td>\n",
              "      <td>0</td>\n",
              "      <td>0</td>\n",
              "    </tr>\n",
              "    <tr>\n",
              "      <th>2</th>\n",
              "      <td>35000.0</td>\n",
              "      <td>135</td>\n",
              "      <td>5.5</td>\n",
              "      <td>1</td>\n",
              "      <td>2008</td>\n",
              "      <td>0</td>\n",
              "      <td>1</td>\n",
              "      <td>0</td>\n",
              "      <td>0</td>\n",
              "      <td>1</td>\n",
              "      <td>...</td>\n",
              "      <td>0</td>\n",
              "      <td>0</td>\n",
              "      <td>0</td>\n",
              "      <td>0</td>\n",
              "      <td>0</td>\n",
              "      <td>0</td>\n",
              "      <td>0</td>\n",
              "      <td>0</td>\n",
              "      <td>0</td>\n",
              "      <td>0</td>\n",
              "    </tr>\n",
              "    <tr>\n",
              "      <th>3</th>\n",
              "      <td>17800.0</td>\n",
              "      <td>162</td>\n",
              "      <td>1.8</td>\n",
              "      <td>1</td>\n",
              "      <td>2012</td>\n",
              "      <td>0</td>\n",
              "      <td>0</td>\n",
              "      <td>0</td>\n",
              "      <td>0</td>\n",
              "      <td>0</td>\n",
              "      <td>...</td>\n",
              "      <td>0</td>\n",
              "      <td>0</td>\n",
              "      <td>0</td>\n",
              "      <td>0</td>\n",
              "      <td>0</td>\n",
              "      <td>0</td>\n",
              "      <td>0</td>\n",
              "      <td>0</td>\n",
              "      <td>0</td>\n",
              "      <td>0</td>\n",
              "    </tr>\n",
              "    <tr>\n",
              "      <th>4</th>\n",
              "      <td>16600.0</td>\n",
              "      <td>83</td>\n",
              "      <td>2.0</td>\n",
              "      <td>1</td>\n",
              "      <td>2013</td>\n",
              "      <td>1</td>\n",
              "      <td>0</td>\n",
              "      <td>0</td>\n",
              "      <td>0</td>\n",
              "      <td>1</td>\n",
              "      <td>...</td>\n",
              "      <td>0</td>\n",
              "      <td>0</td>\n",
              "      <td>0</td>\n",
              "      <td>0</td>\n",
              "      <td>0</td>\n",
              "      <td>0</td>\n",
              "      <td>0</td>\n",
              "      <td>0</td>\n",
              "      <td>0</td>\n",
              "      <td>0</td>\n",
              "    </tr>\n",
              "  </tbody>\n",
              "</table>\n",
              "<p>5 rows × 97 columns</p>\n",
              "</div>"
            ],
            "text/plain": [
              "     price  mileage  engV  registration  year  drive__1  drive__2  engType__1  \\\n",
              "0  15500.0       68   2.5             1  2010         1         0           1   \n",
              "1  20500.0      173   1.8             1  2011         0         1           1   \n",
              "2  35000.0      135   5.5             1  2008         0         1           0   \n",
              "3  17800.0      162   1.8             1  2012         0         0           0   \n",
              "4  16600.0       83   2.0             1  2013         1         0           0   \n",
              "\n",
              "   engType__2  engType__3    ...     make__73  make__74  make__75  make__76  \\\n",
              "0           0           0    ...            0         0         0         0   \n",
              "1           0           0    ...            0         0         0         0   \n",
              "2           0           1    ...            0         0         0         0   \n",
              "3           0           0    ...            0         0         0         0   \n",
              "4           0           1    ...            0         0         0         0   \n",
              "\n",
              "   make__77  make__78  make__79  make__80  make__81  make__82  \n",
              "0         0         0         0         0         0         0  \n",
              "1         0         0         0         0         0         0  \n",
              "2         0         0         0         0         0         0  \n",
              "3         0         0         0         0         0         0  \n",
              "4         0         0         0         0         0         0  \n",
              "\n",
              "[5 rows x 97 columns]"
            ]
          },
          "metadata": {
            "tags": []
          },
          "execution_count": 123
        }
      ]
    },
    {
      "metadata": {
        "id": "yzO5fpHYyIBN",
        "colab_type": "text"
      },
      "cell_type": "markdown",
      "source": [
        "This obviously multiplies our feature space quite a bit, but its the only way I feel comfortable handling the data without an explicit explanation of the features."
      ]
    },
    {
      "metadata": {
        "id": "w9gkF-HNUFAV",
        "colab_type": "text"
      },
      "cell_type": "markdown",
      "source": [
        "# Predictive Modeling with Linear Regression"
      ]
    },
    {
      "metadata": {
        "id": "Vy1SWxcYTAC0",
        "colab_type": "text"
      },
      "cell_type": "markdown",
      "source": [
        "## 1.1 Divide the dataset features into an X matrix and y vector (\"price\" is what we want to predict)."
      ]
    },
    {
      "metadata": {
        "id": "dwMbM9tUUaOQ",
        "colab_type": "code",
        "colab": {}
      },
      "cell_type": "code",
      "source": [
        "features = df.columns.drop('price')\n",
        "target = 'price'\n",
        "\n",
        "X = df[features]\n",
        "y = df[target]"
      ],
      "execution_count": 0,
      "outputs": []
    },
    {
      "metadata": {
        "id": "Uf_SQswNUPwM",
        "colab_type": "text"
      },
      "cell_type": "markdown",
      "source": [
        "## 1.2 Split the data into test and train datasets using train_test_split"
      ]
    },
    {
      "metadata": {
        "id": "iIiELKuKUOgR",
        "colab_type": "code",
        "colab": {}
      },
      "cell_type": "code",
      "source": [
        "X_train, X_test, y_train, y_test = train_test_split(X, y,\n",
        "                                                    test_size=0.25,\n",
        "                                                    random_state=7)"
      ],
      "execution_count": 0,
      "outputs": []
    },
    {
      "metadata": {
        "id": "D2xlwizk2115",
        "colab_type": "text"
      },
      "cell_type": "markdown",
      "source": [
        "Let's take a quick peek at the distribution of price."
      ]
    },
    {
      "metadata": {
        "id": "2vZXt0J52mc_",
        "colab_type": "code",
        "colab": {
          "base_uri": "https://localhost:8080/",
          "height": 346
        },
        "outputId": "2de209c5-d8ce-4931-acf6-6e5933e33960"
      },
      "cell_type": "code",
      "source": [
        "y_train.hist(bins=30);"
      ],
      "execution_count": 126,
      "outputs": [
        {
          "output_type": "display_data",
          "data": {
            "image/png": "[encoded data removed]",
            "text/plain": [
              "<Figure size 576x396 with 1 Axes>"
            ]
          },
          "metadata": {
            "tags": []
          }
        }
      ]
    },
    {
      "metadata": {
        "id": "7jfti6TV25qh",
        "colab_type": "text"
      },
      "cell_type": "markdown",
      "source": [
        "The price variable is heavily skewed to the right, which will be tough for our regression to fit. The log transformation in part 2 should help."
      ]
    },
    {
      "metadata": {
        "id": "0AdXWiwoUstf",
        "colab_type": "text"
      },
      "cell_type": "markdown",
      "source": [
        "## 1.3 Use Scikit-Learn to fit a multiple regression model using your training data."
      ]
    },
    {
      "metadata": {
        "id": "Zw70rt71U1xf",
        "colab_type": "code",
        "colab": {
          "base_uri": "https://localhost:8080/",
          "height": 52
        },
        "outputId": "2902c5a3-aead-4103-b4c1-ca697a65f2b1"
      },
      "cell_type": "code",
      "source": [
        "lr = LinearRegression()\n",
        "lr.fit(X_train, y_train)"
      ],
      "execution_count": 127,
      "outputs": [
        {
          "output_type": "execute_result",
          "data": {
            "text/plain": [
              "LinearRegression(copy_X=True, fit_intercept=True, n_jobs=None,\n",
              "         normalize=False)"
            ]
          },
          "metadata": {
            "tags": []
          },
          "execution_count": 127
        }
      ]
    },
    {
      "metadata": {
        "id": "82fH2rilU7j3",
        "colab_type": "text"
      },
      "cell_type": "markdown",
      "source": [
        "## 1.4 Report the Intercept and Coefficient Values for the fitted model"
      ]
    },
    {
      "metadata": {
        "id": "ue6hCHGqVE83",
        "colab_type": "code",
        "colab": {
          "base_uri": "https://localhost:8080/",
          "height": 1741
        },
        "outputId": "ba983eeb-8cbb-4748-d2b5-1b9ed9c87ac6"
      },
      "cell_type": "code",
      "source": [
        "print ('Model Intercept', lr.intercept_)\n",
        "for i in range(X_train.shape[1]):\n",
        "  print ('Coefficient of feature name ' + str(X_train.columns[i]), lr.coef_[i])"
      ],
      "execution_count": 128,
      "outputs": [
        {
          "output_type": "stream",
          "text": [
            "Model Intercept -1457162.0734267577\n",
            "Coefficient of feature name mileage -58.12542756272534\n",
            "Coefficient of feature name engV 119.3642688796192\n",
            "Coefficient of feature name registration 7100.270346377771\n",
            "Coefficient of feature name year 732.7692153473529\n",
            "Coefficient of feature name drive__1 11577.143660508764\n",
            "Coefficient of feature name drive__2 -1911.3104165942168\n",
            "Coefficient of feature name engType__1 -3787.974760575429\n",
            "Coefficient of feature name engType__2 -3117.9530802244735\n",
            "Coefficient of feature name engType__3 -2369.8594568993503\n",
            "Coefficient of feature name body__1 -2871.155868172091\n",
            "Coefficient of feature name body__2 -598.7475755102478\n",
            "Coefficient of feature name body__3 -618.7839734919867\n",
            "Coefficient of feature name body__4 -2665.2802584986334\n",
            "Coefficient of feature name body__5 -2846.6138433971537\n",
            "Coefficient of feature name make__1 8572.06071362968\n",
            "Coefficient of feature name make__2 -12889.474686377387\n",
            "Coefficient of feature name make__3 78700.64874024753\n",
            "Coefficient of feature name make__4 8256.99116780927\n",
            "Coefficient of feature name make__5 15048.64539623993\n",
            "Coefficient of feature name make__6 -10558.058120614807\n",
            "Coefficient of feature name make__7 238915.3827854879\n",
            "Coefficient of feature name make__8 -16193.973202121051\n",
            "Coefficient of feature name make__9 8989.637119157378\n",
            "Coefficient of feature name make__10 41380.980639266505\n",
            "Coefficient of feature name make__11 -8239.41292564031\n",
            "Coefficient of feature name make__12 -2344.8752911010815\n",
            "Coefficient of feature name make__13 3683.369902043931\n",
            "Coefficient of feature name make__14 -2358.2229067238786\n",
            "Coefficient of feature name make__15 -5458.4762409380055\n",
            "Coefficient of feature name make__16 -11852.094764710819\n",
            "Coefficient of feature name make__17 -5390.753158795553\n",
            "Coefficient of feature name make__18 -3632.6611368067024\n",
            "Coefficient of feature name make__19 5350.60660862206\n",
            "Coefficient of feature name make__20 -15142.389566946247\n",
            "Coefficient of feature name make__21 148503.43263696655\n",
            "Coefficient of feature name make__22 -348.8768013999163\n",
            "Coefficient of feature name make__23 449.82183220061415\n",
            "Coefficient of feature name make__24 7345.9082549835875\n",
            "Coefficient of feature name make__25 3163.109946508652\n",
            "Coefficient of feature name make__26 -10371.803447421216\n",
            "Coefficient of feature name make__27 -15173.073809102483\n",
            "Coefficient of feature name make__28 1.4779288903810084e-12\n",
            "Coefficient of feature name make__29 -3.2741809263825417e-11\n",
            "Coefficient of feature name make__30 561.704735640611\n",
            "Coefficient of feature name make__31 -16368.482090031888\n",
            "Coefficient of feature name make__32 11970.109867546395\n",
            "Coefficient of feature name make__33 -5785.011335312982\n",
            "Coefficient of feature name make__34 5115.807485498954\n",
            "Coefficient of feature name make__35 -13762.59357769279\n",
            "Coefficient of feature name make__36 -12733.016446942034\n",
            "Coefficient of feature name make__37 12848.369098695162\n",
            "Coefficient of feature name make__38 5525.10715761045\n",
            "Coefficient of feature name make__39 -4712.97341185651\n",
            "Coefficient of feature name make__40 100618.36924165956\n",
            "Coefficient of feature name make__41 3389.0270072177664\n",
            "Coefficient of feature name make__42 28448.813866388104\n",
            "Coefficient of feature name make__43 12717.08299462642\n",
            "Coefficient of feature name make__44 -13647.625415130562\n",
            "Coefficient of feature name make__45 14904.450527722569\n",
            "Coefficient of feature name make__46 -8365.389816022915\n",
            "Coefficient of feature name make__47 5130.5492654885375\n",
            "Coefficient of feature name make__48 4.3655745685100555e-11\n",
            "Coefficient of feature name make__49 -909.1494807059644\n",
            "Coefficient of feature name make__50 22907.434094947588\n",
            "Coefficient of feature name make__51 14068.09223185198\n",
            "Coefficient of feature name make__52 -2819.76437548373\n",
            "Coefficient of feature name make__53 8251.345075041427\n",
            "Coefficient of feature name make__54 328.40789646914163\n",
            "Coefficient of feature name make__55 -939.1543423772728\n",
            "Coefficient of feature name make__56 4584.692005933695\n",
            "Coefficient of feature name make__57 -944.1149830816212\n",
            "Coefficient of feature name make__58 24385.08056398999\n",
            "Coefficient of feature name make__59 -1553.6589524715673\n",
            "Coefficient of feature name make__60 116700.35911286078\n",
            "Coefficient of feature name make__61 6925.884978006991\n",
            "Coefficient of feature name make__62 -6946.179456292142\n",
            "Coefficient of feature name make__63 6443.817785810001\n",
            "Coefficient of feature name make__64 -5392.193453210473\n",
            "Coefficient of feature name make__65 -1744.358572366441\n",
            "Coefficient of feature name make__66 846.289573312928\n",
            "Coefficient of feature name make__67 -97.79535065853997\n",
            "Coefficient of feature name make__68 -2445.0233149627747\n",
            "Coefficient of feature name make__69 -13807.088190607796\n",
            "Coefficient of feature name make__70 -8007.260550700994\n",
            "Coefficient of feature name make__71 -9101.923619517227\n",
            "Coefficient of feature name make__72 -18984.217823169074\n",
            "Coefficient of feature name make__73 39085.096959503084\n",
            "Coefficient of feature name make__74 5956.984278332144\n",
            "Coefficient of feature name make__75 -12039.708453007152\n",
            "Coefficient of feature name make__76 -3466.0920078629624\n",
            "Coefficient of feature name make__77 4277.0939937410585\n",
            "Coefficient of feature name make__78 4707.665134446511\n",
            "Coefficient of feature name make__79 1648.5921160000253\n",
            "Coefficient of feature name make__80 -6675.5625855626095\n",
            "Coefficient of feature name make__81 -7193.769892224427\n",
            "Coefficient of feature name make__82 -14887.910436083053\n"
          ],
          "name": "stdout"
        }
      ]
    },
    {
      "metadata": {
        "id": "T0CV0OnDVZbu",
        "colab_type": "text"
      },
      "cell_type": "markdown",
      "source": [
        "## 1.5 Use the test data to make predictions"
      ]
    },
    {
      "metadata": {
        "id": "vrR5b5c3VwE5",
        "colab_type": "code",
        "colab": {}
      },
      "cell_type": "code",
      "source": [
        "y_pred = lr.predict(X_test)"
      ],
      "execution_count": 0,
      "outputs": []
    },
    {
      "metadata": {
        "id": "ZwQb3gE7VycT",
        "colab_type": "text"
      },
      "cell_type": "markdown",
      "source": [
        "## 1.6 Calculate and report both the Root-Mean-Square error and $R^2$ for the model. "
      ]
    },
    {
      "metadata": {
        "id": "Ym2kjxWhU6b2",
        "colab_type": "code",
        "colab": {
          "base_uri": "https://localhost:8080/",
          "height": 141
        },
        "outputId": "106298a6-5c37-484e-bf63-5cc80a1b40c0"
      },
      "cell_type": "code",
      "source": [
        "print ('Training Data Performance:')\n",
        "print ('Train R-squared:', lr.score(X_train, y_train))\n",
        "print ('Train RMSE:', mean_squared_error(lr.predict(X_train), y_train)**0.5)\n",
        "\n",
        "print ('\\nTesting Data Performance:')\n",
        "print ('Test R-squared:', lr.score(X_test, y_test))\n",
        "print ('Test RMSE:', mean_squared_error(y_pred, y_test)**0.5)"
      ],
      "execution_count": 130,
      "outputs": [
        {
          "output_type": "stream",
          "text": [
            "Training Data Performance:\n",
            "Train R-squared: 0.5534340187362048\n",
            "Train RMSE: 17252.083614690455\n",
            "\n",
            "Testing Data Performance:\n",
            "Test R-squared: 0.35563445699046314\n",
            "Test RMSE: 15857.54083069887\n"
          ],
          "name": "stdout"
        }
      ]
    },
    {
      "metadata": {
        "id": "kIXhGHIgXHyJ",
        "colab_type": "text"
      },
      "cell_type": "markdown",
      "source": [
        "## 1.7 How should we interpret the coefficient corresponding to the \"year\" feature?"
      ]
    },
    {
      "metadata": {
        "id": "8jv2n0wAXgHU",
        "colab_type": "text"
      },
      "cell_type": "markdown",
      "source": [
        "The coefficient corresponding to the 'year' feature is ~732.77.\n",
        "\n",
        "Assuming 'year' indicates the year a car was made, we should interpret the coefficient to mean that on average, for each year newer a car is, price will increase by 732.77 units. In this case, the currency may be the Ukrainian hryvnia, or the currency may have been translated."
      ]
    },
    {
      "metadata": {
        "id": "ckQ5GsOtYsjn",
        "colab_type": "text"
      },
      "cell_type": "markdown",
      "source": [
        "## 1.8 How should we interpret the Root-Mean-Square Error?"
      ]
    },
    {
      "metadata": {
        "id": "F982IeSgYyp6",
        "colab_type": "text"
      },
      "cell_type": "markdown",
      "source": [
        "Root Mean Square Error is a measure of how well a model fits the observed data. Lower RMSE indicates better fit.\n",
        "\n",
        "Ideally, our prediction error (residuals) will follow a normal distribution around a mean of zero. RMSE is the standard deviation of unexplained residual distribution for the regression.\n",
        "\n",
        "RMSE is given in the units of the target variable, and therefore depends on the selection of target variable. In the log-linear regression below, for example, RMSE will almost certainly be lower because our new target is log(price)."
      ]
    },
    {
      "metadata": {
        "id": "T3sZrru_YzFF",
        "colab_type": "text"
      },
      "cell_type": "markdown",
      "source": [
        "## 1.9 How should we interpret the $R^2$?"
      ]
    },
    {
      "metadata": {
        "id": "5pN2Oet_Y5jR",
        "colab_type": "text"
      },
      "cell_type": "markdown",
      "source": [
        "R-squared is interpreted as the percent of variance in the target variable explained by the features. \n",
        "\n",
        "In our training data, we are able to explain around 55% of the total variance in price. In our test data, we do less well, explaining around 36% of the total variance in price.\n"
      ]
    },
    {
      "metadata": {
        "id": "Z_VNy7e3Y5sT",
        "colab_type": "text"
      },
      "cell_type": "markdown",
      "source": [
        "# Log-Linear and Polynomial Regression"
      ]
    },
    {
      "metadata": {
        "id": "G2T4FSqRZOJA",
        "colab_type": "text"
      },
      "cell_type": "markdown",
      "source": [
        "## 2.1 Engineer a new variable by taking the log of the price varible."
      ]
    },
    {
      "metadata": {
        "id": "7EChAFNxZX24",
        "colab_type": "code",
        "colab": {}
      },
      "cell_type": "code",
      "source": [
        "log_y = np.log(y)"
      ],
      "execution_count": 0,
      "outputs": []
    },
    {
      "metadata": {
        "id": "R117rxnOZw6q",
        "colab_type": "text"
      },
      "cell_type": "markdown",
      "source": [
        "## 2.2 Use scatterplots or seaborn's pairplot function to do the \"eyeball test\" for non-linearly distributed features."
      ]
    },
    {
      "metadata": {
        "id": "8ZVVEXNE5mhE",
        "colab_type": "text"
      },
      "cell_type": "markdown",
      "source": [
        "For this section, I'm lmited to the features I have not already one hot encoded: mileage, engV, and year."
      ]
    },
    {
      "metadata": {
        "id": "8l56Qk7VaBrU",
        "colab_type": "code",
        "colab": {
          "base_uri": "https://localhost:8080/",
          "height": 361
        },
        "outputId": "7b7660f5-6eb9-4f5b-db6b-cfb6cda9d5a9"
      },
      "cell_type": "code",
      "source": [
        "# put everything back in a dataframe for easier plotting\n",
        "df_log = X\n",
        "df_log['log_price'] = log_y\n",
        "\n",
        "features_numeric = ['mileage', 'engV', 'year']\n",
        "\n",
        "# plot against numeric features\n",
        "sns.pairplot(data=df_log, y_vars=['log_price'], x_vars=features_numeric, size=5);"
      ],
      "execution_count": 132,
      "outputs": [
        {
          "output_type": "display_data",
          "data": {
            "image/png": "[encoded data removed]",
            "text/plain": [
              "<Figure size 1080x360 with 3 Axes>"
            ]
          },
          "metadata": {
            "tags": []
          }
        }
      ]
    },
    {
      "metadata": {
        "id": "U4tqg_Qe5MVT",
        "colab_type": "text"
      },
      "cell_type": "markdown",
      "source": [
        "From the above, 'year' is a clear candidate for including a squared term. The relationship between year and log(price) seems to indicate a non-linear factor, where cars become increasingly less valuable as they get older.\n",
        "\n",
        "Further, something very strange is going on with 'engV'. If we continue to interpret the engine volume in liters, its seems possible that two different types of vehicles entirely are being sold, some are likely industrial vehicles. We need to do something to segment these out.\n",
        "\n",
        "Mileage is puzzling, as we would expect to see a downward trend when mileage increses. There should be no benefit to buying a car that has been driven more."
      ]
    },
    {
      "metadata": {
        "id": "2moapSu18-F1",
        "colab_type": "text"
      },
      "cell_type": "markdown",
      "source": [
        "Let's first explore the distribution of mileage."
      ]
    },
    {
      "metadata": {
        "id": "w2G9UUhU9bjI",
        "colab_type": "code",
        "colab": {
          "base_uri": "https://localhost:8080/",
          "height": 346
        },
        "outputId": "4f70aec5-2f06-4a95-a34e-23193a8dea0d"
      },
      "cell_type": "code",
      "source": [
        "# distribution of mileage\n",
        "df_log['mileage'].hist(bins=100);"
      ],
      "execution_count": 133,
      "outputs": [
        {
          "output_type": "display_data",
          "data": {
            "image/png": "[encoded data removed]",
            "text/plain": [
              "<Figure size 576x396 with 1 Axes>"
            ]
          },
          "metadata": {
            "tags": []
          }
        }
      ]
    },
    {
      "metadata": {
        "id": "tKSIM53i9r8x",
        "colab_type": "text"
      },
      "cell_type": "markdown",
      "source": [
        "Seems like there is **a lot** of cars with very little mileage, is it possible we have zeroes hiding in our data or that the data has been manipulated?"
      ]
    },
    {
      "metadata": {
        "id": "6CH3AmHz-ERU",
        "colab_type": "code",
        "colab": {
          "base_uri": "https://localhost:8080/",
          "height": 1118
        },
        "outputId": "35661d47-9beb-418d-8909-05976d78163d"
      },
      "cell_type": "code",
      "source": [
        "df_log['mileage'].value_counts(sort=False)"
      ],
      "execution_count": 134,
      "outputs": [
        {
          "output_type": "execute_result",
          "data": {
            "text/plain": [
              "0      282\n",
              "8        9\n",
              "16      18\n",
              "24      13\n",
              "32      15\n",
              "40      38\n",
              "48      19\n",
              "56      31\n",
              "64      24\n",
              "72      22\n",
              "80      66\n",
              "88      38\n",
              "96      27\n",
              "104     19\n",
              "112     44\n",
              "120     79\n",
              "128     34\n",
              "136     26\n",
              "144     23\n",
              "152     31\n",
              "160    106\n",
              "168     28\n",
              "176     24\n",
              "184     21\n",
              "192     10\n",
              "200    160\n",
              "208      9\n",
              "216     10\n",
              "224      4\n",
              "232     10\n",
              "      ... \n",
              "159     18\n",
              "167     37\n",
              "175     38\n",
              "183     15\n",
              "191     12\n",
              "199     18\n",
              "207     15\n",
              "215     32\n",
              "223     10\n",
              "231      9\n",
              "239      5\n",
              "247     13\n",
              "255     14\n",
              "263     11\n",
              "271      4\n",
              "279      2\n",
              "287     11\n",
              "295      7\n",
              "303      3\n",
              "311      3\n",
              "319      3\n",
              "327      4\n",
              "335      6\n",
              "367      3\n",
              "375      4\n",
              "407      1\n",
              "423      1\n",
              "535      1\n",
              "575      1\n",
              "999      2\n",
              "Name: mileage, Length: 435, dtype: int64"
            ]
          },
          "metadata": {
            "tags": []
          },
          "execution_count": 134
        }
      ]
    },
    {
      "metadata": {
        "id": "tq6iinWW-gjR",
        "colab_type": "text"
      },
      "cell_type": "markdown",
      "source": [
        "Maybe it would be best to correct for this issue with a variable indicating that a car with less than 'x' amount of mileage is considered new.\n",
        "\n",
        "In the meantime, let's look at other features associated with low mileage."
      ]
    },
    {
      "metadata": {
        "id": "MEwk4bYH_gBX",
        "colab_type": "code",
        "colab": {
          "base_uri": "https://localhost:8080/",
          "height": 287
        },
        "outputId": "c447ec1e-eec2-429a-b3b6-7e579f5be786"
      },
      "cell_type": "code",
      "source": [
        "df_log[df_log['mileage'] < 10][['year', 'engV', 'registration']].describe()\n"
      ],
      "execution_count": 135,
      "outputs": [
        {
          "output_type": "execute_result",
          "data": {
            "text/html": [
              "<div>\n",
              "<style scoped>\n",
              "    .dataframe tbody tr th:only-of-type {\n",
              "        vertical-align: middle;\n",
              "    }\n",
              "\n",
              "    .dataframe tbody tr th {\n",
              "        vertical-align: top;\n",
              "    }\n",
              "\n",
              "    .dataframe thead th {\n",
              "        text-align: right;\n",
              "    }\n",
              "</style>\n",
              "<table border=\"1\" class=\"dataframe\">\n",
              "  <thead>\n",
              "    <tr style=\"text-align: right;\">\n",
              "      <th></th>\n",
              "      <th>year</th>\n",
              "      <th>engV</th>\n",
              "      <th>registration</th>\n",
              "    </tr>\n",
              "  </thead>\n",
              "  <tbody>\n",
              "    <tr>\n",
              "      <th>count</th>\n",
              "      <td>655.000000</td>\n",
              "      <td>655.000000</td>\n",
              "      <td>655.000000</td>\n",
              "    </tr>\n",
              "    <tr>\n",
              "      <th>mean</th>\n",
              "      <td>2011.190840</td>\n",
              "      <td>2.483435</td>\n",
              "      <td>0.989313</td>\n",
              "    </tr>\n",
              "    <tr>\n",
              "      <th>std</th>\n",
              "      <td>9.728827</td>\n",
              "      <td>4.002232</td>\n",
              "      <td>0.102903</td>\n",
              "    </tr>\n",
              "    <tr>\n",
              "      <th>min</th>\n",
              "      <td>1959.000000</td>\n",
              "      <td>0.600000</td>\n",
              "      <td>0.000000</td>\n",
              "    </tr>\n",
              "    <tr>\n",
              "      <th>25%</th>\n",
              "      <td>2014.000000</td>\n",
              "      <td>1.600000</td>\n",
              "      <td>1.000000</td>\n",
              "    </tr>\n",
              "    <tr>\n",
              "      <th>50%</th>\n",
              "      <td>2016.000000</td>\n",
              "      <td>2.000000</td>\n",
              "      <td>1.000000</td>\n",
              "    </tr>\n",
              "    <tr>\n",
              "      <th>75%</th>\n",
              "      <td>2016.000000</td>\n",
              "      <td>2.800000</td>\n",
              "      <td>1.000000</td>\n",
              "    </tr>\n",
              "    <tr>\n",
              "      <th>max</th>\n",
              "      <td>2016.000000</td>\n",
              "      <td>99.990000</td>\n",
              "      <td>1.000000</td>\n",
              "    </tr>\n",
              "  </tbody>\n",
              "</table>\n",
              "</div>"
            ],
            "text/plain": [
              "              year        engV  registration\n",
              "count   655.000000  655.000000    655.000000\n",
              "mean   2011.190840    2.483435      0.989313\n",
              "std       9.728827    4.002232      0.102903\n",
              "min    1959.000000    0.600000      0.000000\n",
              "25%    2014.000000    1.600000      1.000000\n",
              "50%    2016.000000    2.000000      1.000000\n",
              "75%    2016.000000    2.800000      1.000000\n",
              "max    2016.000000   99.990000      1.000000"
            ]
          },
          "metadata": {
            "tags": []
          },
          "execution_count": 135
        }
      ]
    },
    {
      "metadata": {
        "id": "GA0RznbzAGzc",
        "colab_type": "text"
      },
      "cell_type": "markdown",
      "source": [
        "*Most* cars with low mileage are pretty new and *most* cars with low mileage are registered.\n",
        "\n",
        "However, an obvious outlier are the very old cars (minimum 1959) that still have low mileage on them. It is possible that either (1) these are fraudulent transaction where mileage has been lowered artifically or (2) these are classic cars that have been maintianed as investments.\n",
        "\n",
        "Without knowing more, we can definitely correct for (2) with a new binary variable."
      ]
    },
    {
      "metadata": {
        "id": "rhslPPI69rAr",
        "colab_type": "text"
      },
      "cell_type": "markdown",
      "source": [
        "With more time, I would want to understand what's driving this strange relationship between mileage and log(price). The coefficient in the regression below for mileage is negative, however, which leads me to believe we have capture some of the possible confounding variables in our regression."
      ]
    },
    {
      "metadata": {
        "id": "QTf4gCaDaiCw",
        "colab_type": "text"
      },
      "cell_type": "markdown",
      "source": [
        "## 2.3 If appropriate, create any polynomial features. "
      ]
    },
    {
      "metadata": {
        "id": "ipsCcH83ZMe8",
        "colab_type": "code",
        "colab": {}
      },
      "cell_type": "code",
      "source": [
        "# new term for year squared\n",
        "df_log['year_squared'] = df_log['year'] ** 2\n",
        "# new binary for large vehicle based on engV\n",
        "df_log['large_vehicle'] = df_log['engV'] > 20\n",
        "# new binary variable for new cars (less than 10k mileage)\n",
        "df_log['new_car'] = np.all([df_log['mileage'] < 10, df_log['year'] > 2006], axis=0)\n",
        "# binary variable for classic cars\n",
        "df_log['classic_car'] = np.all([df_log['mileage'] < 10, df_log['year'] < 2006], axis=0)"
      ],
      "execution_count": 0,
      "outputs": []
    },
    {
      "metadata": {
        "id": "NJgfD-JLayRA",
        "colab_type": "text"
      },
      "cell_type": "markdown",
      "source": [
        "## 2.4 Use the new log-transformed y variable and your x variables (including any new polynomial features) to fit a new linear regression model. Then report the: intercept, coefficients, RMSE, and $R^2$."
      ]
    },
    {
      "metadata": {
        "id": "uXmtVpnPcFij",
        "colab_type": "code",
        "colab": {
          "base_uri": "https://localhost:8080/",
          "height": 1812
        },
        "outputId": "dd4ac193-7bab-489b-83bf-beac35aeeaf4"
      },
      "cell_type": "code",
      "source": [
        "# set X and y\n",
        "features = df_log.columns.drop('log_price')\n",
        "target = 'log_price'\n",
        "\n",
        "X = df_log[features]\n",
        "y = df_log[target]\n",
        "\n",
        "# train test split\n",
        "X_train, X_test, y_train, y_test = train_test_split(X, y,\n",
        "                                                    test_size=0.25,\n",
        "                                                    random_state=7)\n",
        "\n",
        "# run regression\n",
        "lr_log = LinearRegression()\n",
        "lr_log.fit(X_train, y_train)\n",
        "\n",
        "# report coefficients\n",
        "print ('Model Intercept', lr_log.intercept_)\n",
        "for i in range(X_train.shape[1]):\n",
        "  print ('Coefficient of feature name ' + str(X_train.columns[i]), lr_log.coef_[i])"
      ],
      "execution_count": 137,
      "outputs": [
        {
          "output_type": "stream",
          "text": [
            "Model Intercept 6193.3855411059585\n",
            "Coefficient of feature name mileage -0.0005116711966009709\n",
            "Coefficient of feature name engV 0.033873347660408414\n",
            "Coefficient of feature name registration 0.8038111158204139\n",
            "Coefficient of feature name year -6.256476543432836\n",
            "Coefficient of feature name drive__1 0.4143929226681605\n",
            "Coefficient of feature name drive__2 0.049373354519781754\n",
            "Coefficient of feature name engType__1 -0.041491325770900644\n",
            "Coefficient of feature name engType__2 -0.04910597237808606\n",
            "Coefficient of feature name engType__3 -0.054277651062661136\n",
            "Coefficient of feature name body__1 -0.20364535570503772\n",
            "Coefficient of feature name body__2 -0.006925151991897804\n",
            "Coefficient of feature name body__3 -0.09401328159169609\n",
            "Coefficient of feature name body__4 -0.1607718845342987\n",
            "Coefficient of feature name body__5 -0.1799344766066897\n",
            "Coefficient of feature name make__1 0.007276136902205632\n",
            "Coefficient of feature name make__2 -0.4937396259041058\n",
            "Coefficient of feature name make__3 1.7294172751404802\n",
            "Coefficient of feature name make__4 0.2251889145282715\n",
            "Coefficient of feature name make__5 0.38943165871164753\n",
            "Coefficient of feature name make__6 -0.8537682727118006\n",
            "Coefficient of feature name make__7 1.779237017973423\n",
            "Coefficient of feature name make__8 -1.442191742867779\n",
            "Coefficient of feature name make__9 0.08250676349286845\n",
            "Coefficient of feature name make__10 0.6357237465878189\n",
            "Coefficient of feature name make__11 -1.0676378801609645\n",
            "Coefficient of feature name make__12 -0.4497188528025853\n",
            "Coefficient of feature name make__13 0.05397291329466869\n",
            "Coefficient of feature name make__14 -0.41724576885362574\n",
            "Coefficient of feature name make__15 -0.7406855528952583\n",
            "Coefficient of feature name make__16 -0.9384746430015847\n",
            "Coefficient of feature name make__17 -0.943678569531673\n",
            "Coefficient of feature name make__18 -0.1871462191718071\n",
            "Coefficient of feature name make__19 0.04472783443352296\n",
            "Coefficient of feature name make__20 -1.3416633509710671\n",
            "Coefficient of feature name make__21 2.0270326267436607\n",
            "Coefficient of feature name make__22 -0.46153811392925714\n",
            "Coefficient of feature name make__23 -0.3433028828225162\n",
            "Coefficient of feature name make__24 -0.7826047684219408\n",
            "Coefficient of feature name make__25 0.15905043497769977\n",
            "Coefficient of feature name make__26 -1.0494100304662135\n",
            "Coefficient of feature name make__27 -0.7945574202981198\n",
            "Coefficient of feature name make__28 3.294947648058155e-11\n",
            "Coefficient of feature name make__29 -1.3734535730947073e-10\n",
            "Coefficient of feature name make__30 -0.028802189929568733\n",
            "Coefficient of feature name make__31 -0.6864726817476097\n",
            "Coefficient of feature name make__32 0.5044684429566471\n",
            "Coefficient of feature name make__33 -0.36688580319315434\n",
            "Coefficient of feature name make__34 0.1770810051669265\n",
            "Coefficient of feature name make__35 -0.6228096175640996\n",
            "Coefficient of feature name make__36 -1.1780588388099682\n",
            "Coefficient of feature name make__37 0.4006233942266148\n",
            "Coefficient of feature name make__38 0.11547940991057379\n",
            "Coefficient of feature name make__39 -0.32141082674634724\n",
            "Coefficient of feature name make__40 1.8292535868369466\n",
            "Coefficient of feature name make__41 -0.23789371240497026\n",
            "Coefficient of feature name make__42 0.46777055546469387\n",
            "Coefficient of feature name make__43 0.3768765975542616\n",
            "Coefficient of feature name make__44 -1.2176831115475317\n",
            "Coefficient of feature name make__45 0.7105155384924546\n",
            "Coefficient of feature name make__46 -0.6550046034778115\n",
            "Coefficient of feature name make__47 0.2065896350473374\n",
            "Coefficient of feature name make__48 -2.6563640176391345e-11\n",
            "Coefficient of feature name make__49 -0.16388010297501795\n",
            "Coefficient of feature name make__50 0.41526876733385953\n",
            "Coefficient of feature name make__51 0.4978580629035536\n",
            "Coefficient of feature name make__52 -0.24881285540770684\n",
            "Coefficient of feature name make__53 -1.5861042548601703\n",
            "Coefficient of feature name make__54 -1.6735992399628914\n",
            "Coefficient of feature name make__55 -0.19945529617387991\n",
            "Coefficient of feature name make__56 -0.2018531613050789\n",
            "Coefficient of feature name make__57 -0.33608683307530773\n",
            "Coefficient of feature name make__58 0.6062565941103569\n",
            "Coefficient of feature name make__59 -0.4078583878531432\n",
            "Coefficient of feature name make__60 2.3331584355730737\n",
            "Coefficient of feature name make__61 0.08391804012867288\n",
            "Coefficient of feature name make__62 -1.2971771062715642\n",
            "Coefficient of feature name make__63 0.2674363760826998\n",
            "Coefficient of feature name make__64 -0.6032885094631784\n",
            "Coefficient of feature name make__65 -0.17785802755462457\n",
            "Coefficient of feature name make__66 -0.1566943456746227\n",
            "Coefficient of feature name make__67 -0.16991728141032725\n",
            "Coefficient of feature name make__68 -0.5278758747927539\n",
            "Coefficient of feature name make__69 -0.5489171981516564\n",
            "Coefficient of feature name make__70 -0.34665613153028874\n",
            "Coefficient of feature name make__71 -0.44841047613662344\n",
            "Coefficient of feature name make__72 -0.9336977859298272\n",
            "Coefficient of feature name make__73 1.0787176582217597\n",
            "Coefficient of feature name make__74 0.11286033381685079\n",
            "Coefficient of feature name make__75 -0.9043705486186908\n",
            "Coefficient of feature name make__76 -1.0307348228341313\n",
            "Coefficient of feature name make__77 -0.015173070140087397\n",
            "Coefficient of feature name make__78 -0.006804262667161165\n",
            "Coefficient of feature name make__79 -1.1158448968463117\n",
            "Coefficient of feature name make__80 -1.3680957695878324\n",
            "Coefficient of feature name make__81 -0.6123470773079308\n",
            "Coefficient of feature name make__82 -0.9490881040452877\n",
            "Coefficient of feature name year_squared 0.001581881949220043\n",
            "Coefficient of feature name large_vehicle -2.9273480463987704\n",
            "Coefficient of feature name new_car 0.10578290610596841\n",
            "Coefficient of feature name classic_car 0.0009599345733515147\n"
          ],
          "name": "stdout"
        }
      ]
    },
    {
      "metadata": {
        "id": "6o8n-MoG7tmS",
        "colab_type": "code",
        "colab": {
          "base_uri": "https://localhost:8080/",
          "height": 141
        },
        "outputId": "a08793f0-df2a-4929-a4a4-58076560f144"
      },
      "cell_type": "code",
      "source": [
        "# report results\n",
        "print ('Training Data Performance:')\n",
        "print ('Train R-squared:', lr_log.score(X_train, y_train))\n",
        "print ('Train RMSE:', mean_squared_error(lr_log.predict(X_train), y_train)**0.5)\n",
        "\n",
        "print ('\\nTesting Data Performance:')\n",
        "print ('Test R-squared:', lr_log.score(X_test, y_test))\n",
        "print ('Test RMSE:', mean_squared_error(lr_log.predict(X_test), y_test)**0.5)"
      ],
      "execution_count": 138,
      "outputs": [
        {
          "output_type": "stream",
          "text": [
            "Training Data Performance:\n",
            "Train R-squared: 0.8881144105343224\n",
            "Train RMSE: 0.3234650800297107\n",
            "\n",
            "Testing Data Performance:\n",
            "Test R-squared: 0.8894982247440062\n",
            "Test RMSE: 0.3142753923397625\n"
          ],
          "name": "stdout"
        }
      ]
    },
    {
      "metadata": {
        "id": "hf4_8FXrpHFY",
        "colab_type": "text"
      },
      "cell_type": "markdown",
      "source": [
        "## 2.5 How might we interpret the coefficient on \"year\" in this new regression model?"
      ]
    },
    {
      "metadata": {
        "id": "JVGKvt5WpTf2",
        "colab_type": "text"
      },
      "cell_type": "markdown",
      "source": [
        "In this case, the coefficient on 'year' is, counterintuitively, -6.26. This can be interpreted as meaning, on average, the price of a car will be 6.26% lower for every year newer it is.\n",
        "\n",
        "The negative coefficient likely arises because we have also included the squared term in our regression, whose is positive."
      ]
    },
    {
      "metadata": {
        "id": "JUQwzfDRfrQi",
        "colab_type": "text"
      },
      "cell_type": "markdown",
      "source": [
        "# Gradient Descent"
      ]
    },
    {
      "metadata": {
        "id": "M_JLfReVeoYT",
        "colab_type": "text"
      },
      "cell_type": "markdown",
      "source": [
        "## 3.1 What does Gradient Descent seek to minimize?"
      ]
    },
    {
      "metadata": {
        "id": "-ezM_NS2fIJe",
        "colab_type": "text"
      },
      "cell_type": "markdown",
      "source": [
        "Gradient descent seeks to minimize a cost function. This cost function can vary across implementations.\n",
        "\n",
        "In the trivial example of using gradient descent to solve linear regression, our cost function is the sum of squared errors from our regression estimate."
      ]
    },
    {
      "metadata": {
        "id": "unqhNRYnfIL4",
        "colab_type": "text"
      },
      "cell_type": "markdown",
      "source": [
        "## 3.2 What is the \"Learning Rate\" and what is its function?"
      ]
    },
    {
      "metadata": {
        "id": "7jhKwIOVfT6B",
        "colab_type": "text"
      },
      "cell_type": "markdown",
      "source": [
        "Learning Rate can be thought of as the rate in which errors are corrected in the gradient descent algorithm. 'Error', in this case, meaning the value of a cost function that we're seeking to minimize.\n",
        "\n",
        "The function of the Learning Rate is to ensure a happy medium between learning too slowly (taking too many iterations to converge) and learning too quickly (overshooting the optimum values and possible diverging).\n",
        "\n",
        "Let's examine this with variations of a joke, found [here](https://www.reddit.com/r/Jokes/comments/66kky1/interviewer_whats_your_biggest_strength/).\n",
        "\n",
        "\n",
        "### Learning Rate Too Low\n",
        "\n",
        "Interviewer: What's your biggest strength?\n",
        "\n",
        "Me: I'm a quick learner, possible too slow though.\n",
        "\n",
        "Interviewer: What's 11 * 11?\n",
        "\n",
        "Me: 0.\n",
        "\n",
        "Interviewer: Not even close. It's 121.\n",
        "\n",
        "Me: It's 1.\n",
        "\n",
        "Interviewer: Not even close. It's 121.\n",
        "\n",
        "Me: It's 2.\n",
        "\n",
        "*118 iterations later*\n",
        "\n",
        "Me: It's 120\n",
        "\n",
        "Interviewer: Getting closer. It's 121.\n",
        "\n",
        "Me: It's 121.\n",
        "\n",
        "\n",
        "\n",
        "### Learning Rate Too High\n",
        "\n",
        "Interviewer: What's your biggest strength?\n",
        "\n",
        "Me: I'm a quick learner, possibly too fast though.\n",
        "\n",
        "Interviewer: What's 11 * 11?\n",
        "\n",
        "Me: 0.\n",
        "\n",
        "Interviewer: Not even close. It's 121.\n",
        "\n",
        "Me: It's 200.\n",
        "\n",
        "Interviewer: Not even close. It's 121.\n",
        "\n",
        "Me: It's -110.\n",
        "\n",
        "*several iterations later*\n",
        "\n",
        "Me: It's 1,000,672\n",
        "\n",
        "Interviewer: Not even close. It's 121.\n",
        "\n",
        "Me: It's -1,500,802"
      ]
    },
    {
      "metadata": {
        "id": "Gs20FOntprd_",
        "colab_type": "text"
      },
      "cell_type": "markdown",
      "source": [
        "# Model Diagnostics"
      ]
    },
    {
      "metadata": {
        "id": "VJnxkobcpulV",
        "colab_type": "text"
      },
      "cell_type": "markdown",
      "source": [
        "## 4.1 Use statsmodels to run a log-linear or log-polynomial linear regression with robust standard errors."
      ]
    },
    {
      "metadata": {
        "id": "QqCVeYBTpvfQ",
        "colab_type": "code",
        "colab": {
          "base_uri": "https://localhost:8080/",
          "height": 2256
        },
        "outputId": "c64040f4-30b7-4c0b-e3c8-16c10ad3c3dd"
      },
      "cell_type": "code",
      "source": [
        "X = sm.add_constant(X)\n",
        "\n",
        "model = sm.OLS(y, X.astype(float)).fit(cov_type='HC3')\n",
        "predictions = model.predict(X) \n",
        "\n",
        "print_model = model.summary()\n",
        "print(print_model)"
      ],
      "execution_count": 139,
      "outputs": [
        {
          "output_type": "stream",
          "text": [
            "                            OLS Regression Results                            \n",
            "==============================================================================\n",
            "Dep. Variable:              log_price   R-squared:                       0.889\n",
            "Model:                            OLS   Adj. R-squared:                  0.888\n",
            "Method:                 Least Squares   F-statistic:                     666.3\n",
            "Date:                Fri, 18 Jan 2019   Prob (F-statistic):               0.00\n",
            "Time:                        18:29:32   Log-Likelihood:                -2372.3\n",
            "No. Observations:                8495   AIC:                             4947.\n",
            "Df Residuals:                    8394   BIC:                             5658.\n",
            "Df Model:                         100                                         \n",
            "Covariance Type:                  HC3                                         \n",
            "=================================================================================\n",
            "                    coef    std err          z      P>|z|      [0.025      0.975]\n",
            "---------------------------------------------------------------------------------\n",
            "const          6006.6317    578.692     10.380      0.000    4872.415    7140.848\n",
            "mileage          -0.0005   7.86e-05     -6.164      0.000      -0.001      -0.000\n",
            "engV              0.0313      0.012      2.687      0.007       0.008       0.054\n",
            "registration      0.8087      0.018     45.051      0.000       0.773       0.844\n",
            "year             -6.0695      0.578    -10.496      0.000      -7.203      -4.936\n",
            "drive__1          0.4168      0.019     21.684      0.000       0.379       0.454\n",
            "drive__2          0.0466      0.020      2.343      0.019       0.008       0.086\n",
            "engType__1       -0.0448      0.013     -3.567      0.000      -0.069      -0.020\n",
            "engType__2       -0.0426      0.028     -1.543      0.123      -0.097       0.012\n",
            "engType__3       -0.0577      0.012     -4.982      0.000      -0.080      -0.035\n",
            "body__1          -0.1954      0.019    -10.238      0.000      -0.233      -0.158\n",
            "body__2          -0.0036      0.022     -0.162      0.872      -0.047       0.040\n",
            "body__3          -0.0988      0.017     -5.854      0.000      -0.132      -0.066\n",
            "body__4          -0.1562      0.019     -8.192      0.000      -0.194      -0.119\n",
            "body__5          -0.1889      0.022     -8.430      0.000      -0.233      -0.145\n",
            "make__1          -0.0052      0.104     -0.050      0.960      -0.210       0.200\n",
            "make__2          -0.5039      2.382     -0.212      0.832      -5.173       4.165\n",
            "make__3           1.8014      0.110     16.336      0.000       1.585       2.018\n",
            "make__4           0.2159      0.053      4.096      0.000       0.113       0.319\n",
            "make__5           0.3845      0.053      7.299      0.000       0.281       0.488\n",
            "make__6          -0.7380      0.111     -6.624      0.000      -0.956      -0.520\n",
            "make__7           1.6144      0.143     11.278      0.000       1.334       1.895\n",
            "make__8          -1.4159      0.063    -22.484      0.000      -1.539      -1.292\n",
            "make__9           0.0817      2.304      0.035      0.972      -4.434       4.598\n",
            "make__10          0.6402      0.259      2.467      0.014       0.132       1.149\n",
            "make__11         -1.0816      0.063    -17.281      0.000      -1.204      -0.959\n",
            "make__12         -0.4496      0.058     -7.715      0.000      -0.564      -0.335\n",
            "make__13          0.1450      0.078      1.868      0.062      -0.007       0.297\n",
            "make__14         -0.4387      0.062     -7.047      0.000      -0.561      -0.317\n",
            "make__15         -0.7510      0.101     -7.429      0.000      -0.949      -0.553\n",
            "make__16         -0.9460      0.058    -16.394      0.000      -1.059      -0.833\n",
            "make__17         -0.9630      0.056    -17.087      0.000      -1.073      -0.853\n",
            "make__18         -0.1974      0.206     -0.956      0.339      -0.602       0.207\n",
            "make__19          0.0340      0.100      0.339      0.735      -0.163       0.231\n",
            "make__20         -1.3350     10.985     -0.122      0.903     -22.864      20.194\n",
            "make__21          2.0311      0.330      6.158      0.000       1.385       2.678\n",
            "make__22         -0.4638      0.060     -7.730      0.000      -0.581      -0.346\n",
            "make__23         -0.3465      0.055     -6.286      0.000      -0.455      -0.238\n",
            "make__24         -0.7887      0.191     -4.139      0.000      -1.162      -0.415\n",
            "make__25          0.1632      0.773      0.211      0.833      -1.351       1.678\n",
            "make__26         -1.0479      0.062    -16.839      0.000      -1.170      -0.926\n",
            "make__27         -0.7799      0.073    -10.647      0.000      -0.923      -0.636\n",
            "make__28         -0.9854      0.086    -11.514      0.000      -1.153      -0.818\n",
            "make__29         -0.5775      8.362     -0.069      0.945     -16.967      15.812\n",
            "make__30         -0.0272      0.053     -0.510      0.610      -0.132       0.077\n",
            "make__31         -0.6930     30.116     -0.023      0.982     -59.720      58.334\n",
            "make__32          0.4472      0.199      2.242      0.025       0.056       0.838\n",
            "make__33         -0.3650      0.053     -6.913      0.000      -0.469      -0.262\n",
            "make__34          0.1605      0.054      2.953      0.003       0.054       0.267\n",
            "make__35         -0.6325     16.437     -0.038      0.969     -32.848      31.583\n",
            "make__36         -1.1796      0.521     -2.265      0.024      -2.200      -0.159\n",
            "make__37          0.4315      0.103      4.206      0.000       0.230       0.633\n",
            "make__38          0.1032      0.092      1.116      0.264      -0.078       0.284\n",
            "make__39         -0.3247      0.053     -6.077      0.000      -0.429      -0.220\n",
            "make__40          1.8290      3.406      0.537      0.591      -4.847       8.505\n",
            "make__41         -0.2338      0.548     -0.426      0.670      -1.308       0.841\n",
            "make__42          0.4763      0.060      7.972      0.000       0.359       0.593\n",
            "make__43          0.3772      0.054      7.038      0.000       0.272       0.482\n",
            "make__44         -1.1288      0.134     -8.432      0.000      -1.391      -0.866\n",
            "make__45          0.6114      0.232      2.631      0.009       0.156       1.067\n",
            "make__46         -0.7207      0.080     -8.964      0.000      -0.878      -0.563\n",
            "make__47          0.1653      0.065      2.535      0.011       0.037       0.293\n",
            "make__48          1.4094      4.218      0.334      0.738      -6.858       9.677\n",
            "make__49         -0.1654      0.055     -3.028      0.002      -0.273      -0.058\n",
            "make__50          0.3995      0.054      7.381      0.000       0.293       0.506\n",
            "make__51          0.4992      6.736      0.074      0.941     -12.703      13.701\n",
            "make__52         -0.2576      0.053     -4.820      0.000      -0.362      -0.153\n",
            "make__53         -1.5383      0.223     -6.889      0.000      -1.976      -1.101\n",
            "make__54         -1.6743      0.232     -7.208      0.000      -2.129      -1.219\n",
            "make__55         -0.2126      0.055     -3.895      0.000      -0.320      -0.106\n",
            "make__56         -0.2090      0.054     -3.870      0.000      -0.315      -0.103\n",
            "make__57         -0.3410      0.058     -5.889      0.000      -0.454      -0.227\n",
            "make__58          0.5967      0.064      9.318      0.000       0.471       0.722\n",
            "make__59         -0.4071      0.054     -7.480      0.000      -0.514      -0.300\n",
            "make__60          2.3402      3.191      0.733      0.463      -3.914       8.594\n",
            "make__61          0.0800      0.072      1.105      0.269      -0.062       0.222\n",
            "make__62         -1.2988      4.623     -0.281      0.779     -10.361       7.763\n",
            "make__63          0.2609      7.891      0.033      0.974     -15.205      15.727\n",
            "make__64         -0.8083      0.293     -2.759      0.006      -1.383      -0.234\n",
            "make__65         -0.1815      3.801     -0.048      0.962      -7.632       7.269\n",
            "make__66         -0.2360      0.077     -3.081      0.002      -0.386      -0.086\n",
            "make__67         -0.1829      0.054     -3.417      0.001      -0.288      -0.078\n",
            "make__68         -0.5154      0.070     -7.379      0.000      -0.652      -0.378\n",
            "make__69         -0.5384      0.058     -9.253      0.000      -0.652      -0.424\n",
            "make__70         -0.3567      0.055     -6.453      0.000      -0.465      -0.248\n",
            "make__71         -0.4087      0.064     -6.414      0.000      -0.534      -0.284\n",
            "make__72         -0.9402      7.417     -0.127      0.899     -15.477      13.596\n",
            "make__73          1.0591      0.070     15.191      0.000       0.922       1.196\n",
            "make__74          0.1082      0.052      2.077      0.038       0.006       0.210\n",
            "make__75         -0.9642      0.192     -5.023      0.000      -1.340      -0.588\n",
            "make__76         -1.0315      0.055    -18.642      0.000      -1.140      -0.923\n",
            "make__77         -0.0209      0.053     -0.397      0.692      -0.124       0.082\n",
            "make__78         -0.0043      0.081     -0.053      0.958      -0.163       0.155\n",
            "make__79         -1.1183      2.630     -0.425      0.671      -6.273       4.036\n",
            "make__80         -1.3789      0.063    -21.972      0.000      -1.502      -1.256\n",
            "make__81         -0.6240    259.463     -0.002      0.998    -509.162     507.914\n",
            "make__82         -0.9557      0.304     -3.148      0.002      -1.551      -0.361\n",
            "year_squared      0.0015      0.000     10.627      0.000       0.001       0.002\n",
            "large_vehicle    -2.6142      1.119     -2.337      0.019      -4.807      -0.422\n",
            "new_car           0.1126      0.026      4.316      0.000       0.061       0.164\n",
            "classic_car      -0.0111      0.057     -0.195      0.845      -0.123       0.101\n",
            "==============================================================================\n",
            "Omnibus:                      949.096   Durbin-Watson:                   1.962\n",
            "Prob(Omnibus):                  0.000   Jarque-Bera (JB):             7071.572\n",
            "Skew:                           0.265   Prob(JB):                         0.00\n",
            "Kurtosis:                       7.438   Cond. No.                     2.45e+11\n",
            "==============================================================================\n",
            "\n",
            "Warnings:\n",
            "[1] Standard Errors are heteroscedasticity robust (HC3)\n",
            "[2] The condition number is large, 2.45e+11. This might indicate that there are\n",
            "strong multicollinearity or other numerical problems.\n"
          ],
          "name": "stdout"
        }
      ]
    },
    {
      "metadata": {
        "id": "loKma3wspwVs",
        "colab_type": "text"
      },
      "cell_type": "markdown",
      "source": [
        "## 4.2 Calculate the Variance Inflation Factor (VIF) of our X variables. Do we have multicollinearity problems?"
      ]
    },
    {
      "metadata": {
        "id": "EN1mPKWhp2Vn",
        "colab_type": "code",
        "colab": {
          "base_uri": "https://localhost:8080/",
          "height": 478
        },
        "outputId": "57091229-fb12-498e-f4ad-e5f61924f502"
      },
      "cell_type": "code",
      "source": [
        "vif_orig = [(X.columns[i],vif(X.astype(float).values, i)) for i in range(X.shape[1])]\n",
        "for feature in [vif_feature for vif_feature in vif_orig if vif_feature[1] > 10.0]:\n",
        "  print (feature) # print out feature and VIF if VIF(feature) exceeds 10"
      ],
      "execution_count": 140,
      "outputs": [
        {
          "output_type": "stream",
          "text": [
            "('const', 3704589960.1708803)\n",
            "('engV', 10.703753186837659)\n",
            "('year', 177768.51561794968)\n",
            "('make__4', 30.823099413627876)\n",
            "('make__5', 45.17224654344668)\n",
            "('make__12', 17.96779432825341)\n",
            "('make__17', 16.54220924941909)\n",
            "('make__23', 24.561524663565496)\n",
            "('make__30', 15.531092769269863)\n",
            "('make__33', 25.444924518139405)\n",
            "('make__39', 15.844033310686072)\n",
            "('make__42', 11.130502124875022)\n",
            "('make__43', 13.153587181483047)\n",
            "('make__49', 14.137593606143088)\n",
            "('make__50', 55.757264814863845)\n",
            "('make__52', 22.766213214345278)\n",
            "('make__55', 22.024789306862587)\n",
            "('make__56', 28.274097270944683)\n",
            "('make__57', 13.797122052480356)\n",
            "('make__59', 33.055636281258025)\n",
            "('make__67', 26.135757880938087)\n",
            "('make__74', 37.06382660163949)\n",
            "('make__76', 32.53887786340334)\n",
            "('make__77', 59.42747397648485)\n",
            "('year_squared', 178107.9265889071)\n",
            "('large_vehicle', 10.533200548093282)\n"
          ],
          "name": "stdout"
        }
      ]
    },
    {
      "metadata": {
        "id": "TrxBS61VIpK0",
        "colab_type": "text"
      },
      "cell_type": "markdown",
      "source": [
        "We definitely have a multicollinearity problem if we're going by the book.The general rule is that a Variance Inflation Factor exceeding 10 indicates multicollinearity.\n",
        "\n",
        "The mutlicollinearity issue may stem from one or more of the following in our data\n",
        "- 'make' is specific to a set of years\n",
        "- 'make' is specific to an engine volume\n",
        "- engine volumes tend toward an equilibrium in given years\n",
        "- year_squared and large_vehicle have been engineered from existin features\n",
        "- there is a substantial amount of dummy variables for 'make'\n",
        "\n",
        "Given the above causes, however, I may feel comfortable with the presence of multicollinearity in the features. With more information, particularly about 'make', it may be possible to engineer features to avoid such large VIFs."
      ]
    },
    {
      "metadata": {
        "id": "8TfzRgXpGvN6",
        "colab_type": "code",
        "colab": {}
      },
      "cell_type": "code",
      "source": [
        ""
      ],
      "execution_count": 0,
      "outputs": []
    }
  ]
}