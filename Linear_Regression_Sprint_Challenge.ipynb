{
  "nbformat": 4,
  "nbformat_minor": 0,
  "metadata": {
    "colab": {
      "name": "Copy of Linear Regression Sprint Challenge.ipynb",
      "version": "0.3.2",
      "provenance": [],
      "include_colab_link": true
    },
    "kernelspec": {
      "name": "python3",
      "display_name": "Python 3"
    }
  },
  "cells": [
    {
      "cell_type": "markdown",
      "metadata": {
        "id": "view-in-github",
        "colab_type": "text"
      },
      "source": [
        "<a href=\"https://colab.research.google.com/github/Phantasm320/DS-Unit-2-Sprint-2-Linear-Regression/blob/master/Linear_Regression_Sprint_Challenge.ipynb\" target=\"_parent\"><img src=\"https://colab.research.google.com/assets/colab-badge.svg\" alt=\"Open In Colab\"/></a>"
      ]
    },
    {
      "metadata": {
        "id": "YbiJuv5d2jZ7",
        "colab_type": "code",
        "colab": {}
      },
      "cell_type": "code",
      "source": [
        "# Import everything you could ever need. ;)\n",
        "import pandas as pd\n",
        "import numpy as np\n",
        "import matplotlib.pyplot as plt\n",
        "import seaborn as sns\n",
        "import statsmodels.api as sm\n",
        "from statsmodels.stats.outliers_influence import variance_inflation_factor\n",
        "from sklearn.model_selection import train_test_split\n",
        "from sklearn.linear_model import LinearRegression\n",
        "from sklearn.metrics import mean_squared_error, r2_score"
      ],
      "execution_count": 0,
      "outputs": []
    },
    {
      "metadata": {
        "id": "FgaItuSL3zxO",
        "colab_type": "code",
        "outputId": "3ceb39ca-1a67-48fb-8860-08185cd0dce9",
        "colab": {
          "base_uri": "https://localhost:8080/",
          "height": 212
        }
      },
      "cell_type": "code",
      "source": [
        "# Ukraine Used Car Sale Price Prediction\n",
        "df = pd.read_csv('https://raw.githubusercontent.com/ryanleeallred/datasets/master/car_regression.csv')\n",
        "print(df.shape)\n",
        "df.head()"
      ],
      "execution_count": 54,
      "outputs": [
        {
          "output_type": "stream",
          "text": [
            "(8495, 9)\n"
          ],
          "name": "stdout"
        },
        {
          "output_type": "execute_result",
          "data": {
            "text/html": [
              "<div>\n",
              "<style scoped>\n",
              "    .dataframe tbody tr th:only-of-type {\n",
              "        vertical-align: middle;\n",
              "    }\n",
              "\n",
              "    .dataframe tbody tr th {\n",
              "        vertical-align: top;\n",
              "    }\n",
              "\n",
              "    .dataframe thead th {\n",
              "        text-align: right;\n",
              "    }\n",
              "</style>\n",
              "<table border=\"1\" class=\"dataframe\">\n",
              "  <thead>\n",
              "    <tr style=\"text-align: right;\">\n",
              "      <th></th>\n",
              "      <th>make</th>\n",
              "      <th>price</th>\n",
              "      <th>body</th>\n",
              "      <th>mileage</th>\n",
              "      <th>engV</th>\n",
              "      <th>engType</th>\n",
              "      <th>registration</th>\n",
              "      <th>year</th>\n",
              "      <th>drive</th>\n",
              "    </tr>\n",
              "  </thead>\n",
              "  <tbody>\n",
              "    <tr>\n",
              "      <th>0</th>\n",
              "      <td>23</td>\n",
              "      <td>15500.0</td>\n",
              "      <td>0</td>\n",
              "      <td>68</td>\n",
              "      <td>2.5</td>\n",
              "      <td>1</td>\n",
              "      <td>1</td>\n",
              "      <td>2010</td>\n",
              "      <td>1</td>\n",
              "    </tr>\n",
              "    <tr>\n",
              "      <th>1</th>\n",
              "      <td>50</td>\n",
              "      <td>20500.0</td>\n",
              "      <td>3</td>\n",
              "      <td>173</td>\n",
              "      <td>1.8</td>\n",
              "      <td>1</td>\n",
              "      <td>1</td>\n",
              "      <td>2011</td>\n",
              "      <td>2</td>\n",
              "    </tr>\n",
              "    <tr>\n",
              "      <th>2</th>\n",
              "      <td>50</td>\n",
              "      <td>35000.0</td>\n",
              "      <td>2</td>\n",
              "      <td>135</td>\n",
              "      <td>5.5</td>\n",
              "      <td>3</td>\n",
              "      <td>1</td>\n",
              "      <td>2008</td>\n",
              "      <td>2</td>\n",
              "    </tr>\n",
              "    <tr>\n",
              "      <th>3</th>\n",
              "      <td>50</td>\n",
              "      <td>17800.0</td>\n",
              "      <td>5</td>\n",
              "      <td>162</td>\n",
              "      <td>1.8</td>\n",
              "      <td>0</td>\n",
              "      <td>1</td>\n",
              "      <td>2012</td>\n",
              "      <td>0</td>\n",
              "    </tr>\n",
              "    <tr>\n",
              "      <th>4</th>\n",
              "      <td>55</td>\n",
              "      <td>16600.0</td>\n",
              "      <td>0</td>\n",
              "      <td>83</td>\n",
              "      <td>2.0</td>\n",
              "      <td>3</td>\n",
              "      <td>1</td>\n",
              "      <td>2013</td>\n",
              "      <td>1</td>\n",
              "    </tr>\n",
              "  </tbody>\n",
              "</table>\n",
              "</div>"
            ],
            "text/plain": [
              "   make    price  body  mileage  engV  engType  registration  year  drive\n",
              "0    23  15500.0     0       68   2.5        1             1  2010      1\n",
              "1    50  20500.0     3      173   1.8        1             1  2011      2\n",
              "2    50  35000.0     2      135   5.5        3             1  2008      2\n",
              "3    50  17800.0     5      162   1.8        0             1  2012      0\n",
              "4    55  16600.0     0       83   2.0        3             1  2013      1"
            ]
          },
          "metadata": {
            "tags": []
          },
          "execution_count": 54
        }
      ]
    },
    {
      "metadata": {
        "id": "w9gkF-HNUFAV",
        "colab_type": "text"
      },
      "cell_type": "markdown",
      "source": [
        "# Predictive Modeling with Linear Regression"
      ]
    },
    {
      "metadata": {
        "id": "Vy1SWxcYTAC0",
        "colab_type": "text"
      },
      "cell_type": "markdown",
      "source": [
        "## 1.1 Divide the dataset features into an X matrix and y vector (\"price\" is what we want to predict)."
      ]
    },
    {
      "metadata": {
        "id": "X2-VJn5h_SDt",
        "colab_type": "text"
      },
      "cell_type": "markdown",
      "source": [
        "Steps to dividing dataset features in an X matrix and y vector:\n",
        "\n",
        "- Create a new dataframe, dropping the price column\n",
        "- Create a vector column for price \n",
        "- Check shapes of each feature to ensure proper execution "
      ]
    },
    {
      "metadata": {
        "id": "jf9xdgCfugNK",
        "colab_type": "code",
        "colab": {
          "base_uri": "https://localhost:8080/",
          "height": 70
        },
        "outputId": "9dfdc1d2-9200-4d6b-af29-2c397b56aa63"
      },
      "cell_type": "code",
      "source": [
        "# New dataframe without price column\n",
        "X_df = df.drop('price', axis=1)\n",
        "\n",
        "# Create y vector\n",
        "y_df = df['price']\n",
        "\n",
        "# Check shapes\n",
        "print(\"X matrix shape: {}\".format(X_df.shape))\n",
        "print(\"\")\n",
        "print(\"y vector shape: {}\".format(y_df.shape))"
      ],
      "execution_count": 55,
      "outputs": [
        {
          "output_type": "stream",
          "text": [
            "X matrix shape: (8495, 8)\n",
            "\n",
            "y vector shape: (8495,)\n"
          ],
          "name": "stdout"
        }
      ]
    },
    {
      "metadata": {
        "id": "aFuPvxJOPtdu",
        "colab_type": "code",
        "colab": {
          "base_uri": "https://localhost:8080/",
          "height": 185
        },
        "outputId": "51076b74-d2ae-4bad-eb95-6a936247e82a"
      },
      "cell_type": "code",
      "source": [
        "sns.set(style=\"ticks\", color_codes=True)\n",
        "sns.pairplot(data=df, y_vars=['price'], x_vars=X_df.columns);"
      ],
      "execution_count": 81,
      "outputs": [
        {
          "output_type": "display_data",
          "data": {
            "image/png": "[encoded data removed]",
            "text/plain": [
              "<Figure size 1440x180 with 8 Axes>"
            ]
          },
          "metadata": {
            "tags": []
          }
        }
      ]
    },
    {
      "metadata": {
        "id": "Uf_SQswNUPwM",
        "colab_type": "text"
      },
      "cell_type": "markdown",
      "source": [
        "## 1.2 Split the data into test and train datasets using train_test_split"
      ]
    },
    {
      "metadata": {
        "id": "iIiELKuKUOgR",
        "colab_type": "code",
        "colab": {}
      },
      "cell_type": "code",
      "source": [
        "# Using the X matrix and y vector in train_test_split\n",
        "X_train, X_test, y_train, y_test = train_test_split(X_df, y_df, random_state=42)"
      ],
      "execution_count": 0,
      "outputs": []
    },
    {
      "metadata": {
        "id": "0AdXWiwoUstf",
        "colab_type": "text"
      },
      "cell_type": "markdown",
      "source": [
        "## 1.3 Use Scikit-Learn to fit a multiple regression model using your training data."
      ]
    },
    {
      "metadata": {
        "id": "Zw70rt71U1xf",
        "colab_type": "code",
        "colab": {}
      },
      "cell_type": "code",
      "source": [
        "# Fitting the training data\n",
        "lm = LinearRegression().fit(X_train, y_train)"
      ],
      "execution_count": 0,
      "outputs": []
    },
    {
      "metadata": {
        "id": "82fH2rilU7j3",
        "colab_type": "text"
      },
      "cell_type": "markdown",
      "source": [
        "## 1.4 Report the Intercept and Coefficient Values for the fitted model"
      ]
    },
    {
      "metadata": {
        "id": "ue6hCHGqVE83",
        "colab_type": "code",
        "colab": {
          "base_uri": "https://localhost:8080/",
          "height": 126
        },
        "outputId": "c6f7090c-45b9-4d30-d3d9-fd7fb62869cc"
      },
      "cell_type": "code",
      "source": [
        "# Applying .coef_ to the fitted model\n",
        "print(\"Fitted Model Coefficient Values:\\n {}\".format(dict(zip(X_df.columns, lm.coef_))))\n",
        "print(\"\")\n",
        "# Applying the .intercept_ to the fitted model\n",
        "print(\"Fitted model Intercept value\\n {}\".format(lm.intercept_))"
      ],
      "execution_count": 68,
      "outputs": [
        {
          "output_type": "stream",
          "text": [
            "Fitted Model Coefficient Values:\n",
            " {'make': -33.80914554237605, 'body': -1721.0250109848403, 'mileage': -39.96352171750823, 'engV': 272.10204942616076, 'engType': -1085.3334443364547, 'registration': 4487.518109358849, 'year': 1145.2506680966533, 'drive': 8462.04541338759}\n",
            "\n",
            "Fitted model Intercept value\n",
            " -2278702.1490454697\n"
          ],
          "name": "stdout"
        }
      ]
    },
    {
      "metadata": {
        "id": "T0CV0OnDVZbu",
        "colab_type": "text"
      },
      "cell_type": "markdown",
      "source": [
        "## 1.5 Use the test data to make predictions"
      ]
    },
    {
      "metadata": {
        "id": "vrR5b5c3VwE5",
        "colab_type": "code",
        "colab": {
          "base_uri": "https://localhost:8080/",
          "height": 70
        },
        "outputId": "04dd6d11-0242-460c-fa8d-bc2a6273d5e6"
      },
      "cell_type": "code",
      "source": [
        "# Apply the .predict to the test data\n",
        "predictions = lm.predict(X_test)\n",
        "print(\"Test set predictions:\\n {}\".format(predictions))"
      ],
      "execution_count": 59,
      "outputs": [
        {
          "output_type": "stream",
          "text": [
            "Test set predictions:\n",
            " [19194.45968216  5367.93233327 26151.89784368 ... 21790.01574206\n",
            " 11486.29535553  8099.62613193]\n"
          ],
          "name": "stdout"
        }
      ]
    },
    {
      "metadata": {
        "id": "ZwQb3gE7VycT",
        "colab_type": "text"
      },
      "cell_type": "markdown",
      "source": [
        "## 1.6 Calculate and report both the Root-Mean-Square error and $R^2$ for the model. "
      ]
    },
    {
      "metadata": {
        "id": "nFnNSuS-2vgq",
        "colab_type": "code",
        "colab": {}
      },
      "cell_type": "code",
      "source": [
        "# Calculating the RMSE for the model\n",
        "RMSE = np.sqrt((mean_squared_error(y_test, predictions)))\n",
        "\n",
        "# Calculating the R^2 for the model\n",
        "r2 = r2_score(y_test, predictions)"
      ],
      "execution_count": 0,
      "outputs": []
    },
    {
      "metadata": {
        "id": "nD_AqLNX3c4j",
        "colab_type": "code",
        "colab": {
          "base_uri": "https://localhost:8080/",
          "height": 106
        },
        "outputId": "7ea209b5-4340-42bf-e99f-819b4fa4be97"
      },
      "cell_type": "code",
      "source": [
        "# Report the RMSE and R^2 for the model\n",
        "print(\"The RMSE:\\n{}\".format(RMSE))\n",
        "print(\"\")\n",
        "print(\"The R^2:\\n{}\".format(r2))"
      ],
      "execution_count": 62,
      "outputs": [
        {
          "output_type": "stream",
          "text": [
            "The RMSE:\n",
            "20338.843481632106\n",
            "\n",
            "The R^2:\n",
            "0.30479352255023595\n"
          ],
          "name": "stdout"
        }
      ]
    },
    {
      "metadata": {
        "id": "kIXhGHIgXHyJ",
        "colab_type": "text"
      },
      "cell_type": "markdown",
      "source": [
        "## 1.7 How should we interpret the coefficient corresponding to the \"year\" feature?"
      ]
    },
    {
      "metadata": {
        "id": "8jv2n0wAXgHU",
        "colab_type": "text"
      },
      "cell_type": "markdown",
      "source": [
        "The year feature appears to be a strong potenial feature for the data."
      ]
    },
    {
      "metadata": {
        "id": "ckQ5GsOtYsjn",
        "colab_type": "text"
      },
      "cell_type": "markdown",
      "source": [
        "## 1.8 How should we interpret the Root-Mean-Square Error?"
      ]
    },
    {
      "metadata": {
        "id": "F982IeSgYyp6",
        "colab_type": "text"
      },
      "cell_type": "markdown",
      "source": [
        "The RMSE is very high, indicating that there is not a good fit."
      ]
    },
    {
      "metadata": {
        "id": "T3sZrru_YzFF",
        "colab_type": "text"
      },
      "cell_type": "markdown",
      "source": [
        "## 1.9 How should we interpret the $R^2$?"
      ]
    },
    {
      "metadata": {
        "id": "5pN2Oet_Y5jR",
        "colab_type": "text"
      },
      "cell_type": "markdown",
      "source": [
        "The R^2 is very low, indicating that the predictive power is not strong"
      ]
    },
    {
      "metadata": {
        "id": "Z_VNy7e3Y5sT",
        "colab_type": "text"
      },
      "cell_type": "markdown",
      "source": [
        "# Log-Linear and Polynomial Regression"
      ]
    },
    {
      "metadata": {
        "id": "G2T4FSqRZOJA",
        "colab_type": "text"
      },
      "cell_type": "markdown",
      "source": [
        "## 2.1 Engineer a new variable by taking the log of the price varible."
      ]
    },
    {
      "metadata": {
        "id": "7EChAFNxZX24",
        "colab_type": "code",
        "colab": {
          "base_uri": "https://localhost:8080/",
          "height": 194
        },
        "outputId": "a2188230-8434-46ab-df23-413765d38664"
      },
      "cell_type": "code",
      "source": [
        "# Applying the log function to the price and adding it to the DataFrame\n",
        "df['log_price'] = np.log(df['price'])\n",
        "df.head()"
      ],
      "execution_count": 69,
      "outputs": [
        {
          "output_type": "execute_result",
          "data": {
            "text/html": [
              "<div>\n",
              "<style scoped>\n",
              "    .dataframe tbody tr th:only-of-type {\n",
              "        vertical-align: middle;\n",
              "    }\n",
              "\n",
              "    .dataframe tbody tr th {\n",
              "        vertical-align: top;\n",
              "    }\n",
              "\n",
              "    .dataframe thead th {\n",
              "        text-align: right;\n",
              "    }\n",
              "</style>\n",
              "<table border=\"1\" class=\"dataframe\">\n",
              "  <thead>\n",
              "    <tr style=\"text-align: right;\">\n",
              "      <th></th>\n",
              "      <th>make</th>\n",
              "      <th>price</th>\n",
              "      <th>body</th>\n",
              "      <th>mileage</th>\n",
              "      <th>engV</th>\n",
              "      <th>engType</th>\n",
              "      <th>registration</th>\n",
              "      <th>year</th>\n",
              "      <th>drive</th>\n",
              "      <th>log_price</th>\n",
              "    </tr>\n",
              "  </thead>\n",
              "  <tbody>\n",
              "    <tr>\n",
              "      <th>0</th>\n",
              "      <td>23</td>\n",
              "      <td>15500.0</td>\n",
              "      <td>0</td>\n",
              "      <td>68</td>\n",
              "      <td>2.5</td>\n",
              "      <td>1</td>\n",
              "      <td>1</td>\n",
              "      <td>2010</td>\n",
              "      <td>1</td>\n",
              "      <td>9.648595</td>\n",
              "    </tr>\n",
              "    <tr>\n",
              "      <th>1</th>\n",
              "      <td>50</td>\n",
              "      <td>20500.0</td>\n",
              "      <td>3</td>\n",
              "      <td>173</td>\n",
              "      <td>1.8</td>\n",
              "      <td>1</td>\n",
              "      <td>1</td>\n",
              "      <td>2011</td>\n",
              "      <td>2</td>\n",
              "      <td>9.928180</td>\n",
              "    </tr>\n",
              "    <tr>\n",
              "      <th>2</th>\n",
              "      <td>50</td>\n",
              "      <td>35000.0</td>\n",
              "      <td>2</td>\n",
              "      <td>135</td>\n",
              "      <td>5.5</td>\n",
              "      <td>3</td>\n",
              "      <td>1</td>\n",
              "      <td>2008</td>\n",
              "      <td>2</td>\n",
              "      <td>10.463103</td>\n",
              "    </tr>\n",
              "    <tr>\n",
              "      <th>3</th>\n",
              "      <td>50</td>\n",
              "      <td>17800.0</td>\n",
              "      <td>5</td>\n",
              "      <td>162</td>\n",
              "      <td>1.8</td>\n",
              "      <td>0</td>\n",
              "      <td>1</td>\n",
              "      <td>2012</td>\n",
              "      <td>0</td>\n",
              "      <td>9.786954</td>\n",
              "    </tr>\n",
              "    <tr>\n",
              "      <th>4</th>\n",
              "      <td>55</td>\n",
              "      <td>16600.0</td>\n",
              "      <td>0</td>\n",
              "      <td>83</td>\n",
              "      <td>2.0</td>\n",
              "      <td>3</td>\n",
              "      <td>1</td>\n",
              "      <td>2013</td>\n",
              "      <td>1</td>\n",
              "      <td>9.717158</td>\n",
              "    </tr>\n",
              "  </tbody>\n",
              "</table>\n",
              "</div>"
            ],
            "text/plain": [
              "   make    price  body  mileage  engV  engType  registration  year  drive  \\\n",
              "0    23  15500.0     0       68   2.5        1             1  2010      1   \n",
              "1    50  20500.0     3      173   1.8        1             1  2011      2   \n",
              "2    50  35000.0     2      135   5.5        3             1  2008      2   \n",
              "3    50  17800.0     5      162   1.8        0             1  2012      0   \n",
              "4    55  16600.0     0       83   2.0        3             1  2013      1   \n",
              "\n",
              "   log_price  \n",
              "0   9.648595  \n",
              "1   9.928180  \n",
              "2  10.463103  \n",
              "3   9.786954  \n",
              "4   9.717158  "
            ]
          },
          "metadata": {
            "tags": []
          },
          "execution_count": 69
        }
      ]
    },
    {
      "metadata": {
        "id": "yIkcbY7jLuvc",
        "colab_type": "code",
        "colab": {}
      },
      "cell_type": "code",
      "source": [
        "log_df_x = df.drop(['price', 'log_price'], axis=1)\n",
        "log_y = df['log_price']"
      ],
      "execution_count": 0,
      "outputs": []
    },
    {
      "metadata": {
        "id": "R117rxnOZw6q",
        "colab_type": "text"
      },
      "cell_type": "markdown",
      "source": [
        "## 2.2 Use scatterplots or seaborn's pairplot function to do the \"eyeball test\" for non-linearly distributed features."
      ]
    },
    {
      "metadata": {
        "id": "8l56Qk7VaBrU",
        "colab_type": "code",
        "colab": {
          "base_uri": "https://localhost:8080/",
          "height": 185
        },
        "outputId": "8313dd62-8dba-49c7-e594-8b1c4d852fb2"
      },
      "cell_type": "code",
      "source": [
        "X_columns = df.columns.drop(['price', 'log_price'])\n",
        "sns.set(style=\"ticks\", color_codes=True)\n",
        "sns.pairplot(data=df, y_vars=['log_price'], x_vars=X_columns);"
      ],
      "execution_count": 73,
      "outputs": [
        {
          "output_type": "display_data",
          "data": {
            "image/png": "[encoded data removed]",
            "text/plain": [
              "<Figure size 1440x180 with 8 Axes>"
            ]
          },
          "metadata": {
            "tags": []
          }
        }
      ]
    },
    {
      "metadata": {
        "id": "9R6dQHd-NCC7",
        "colab_type": "text"
      },
      "cell_type": "markdown",
      "source": [
        "The engV appears to be the strongest non-linear distributed feature"
      ]
    },
    {
      "metadata": {
        "id": "QTf4gCaDaiCw",
        "colab_type": "text"
      },
      "cell_type": "markdown",
      "source": [
        "## 2.3 If appropriate, create any polynomial features. "
      ]
    },
    {
      "metadata": {
        "id": "ipsCcH83ZMe8",
        "colab_type": "code",
        "colab": {}
      },
      "cell_type": "code",
      "source": [
        "# Not creating any polynomial features"
      ],
      "execution_count": 0,
      "outputs": []
    },
    {
      "metadata": {
        "id": "NJgfD-JLayRA",
        "colab_type": "text"
      },
      "cell_type": "markdown",
      "source": [
        "## 2.4 Use the new log-transformed y variable and your x variables (including any new polynomial features) to fit a new linear regression model. Then report the: intercept, coefficients, RMSE, and $R^2$."
      ]
    },
    {
      "metadata": {
        "id": "uXmtVpnPcFij",
        "colab_type": "code",
        "colab": {}
      },
      "cell_type": "code",
      "source": [
        "# Using the X matrix and y vector in train_test_split\n",
        "X_train1, X_test1, y_train1, y_test1 = train_test_split(log_df_x, log_y, random_state=42)"
      ],
      "execution_count": 0,
      "outputs": []
    },
    {
      "metadata": {
        "id": "DlpAhVrnOVt7",
        "colab_type": "code",
        "colab": {}
      },
      "cell_type": "code",
      "source": [
        "# Fitting the training data\n",
        "lm1 = LinearRegression().fit(X_train1, y_train1)"
      ],
      "execution_count": 0,
      "outputs": []
    },
    {
      "metadata": {
        "id": "zYVuBjROOaHz",
        "colab_type": "code",
        "colab": {
          "base_uri": "https://localhost:8080/",
          "height": 126
        },
        "outputId": "1db3b95a-b72e-4f92-e193-46a0ebc192cd"
      },
      "cell_type": "code",
      "source": [
        "# Applying .coef_ to the fitted model\n",
        "print(\"Fitted Model Coefficient Values:\\n {}\".format(dict(zip(log_df_x.columns, lm1.coef_))))\n",
        "print(\"\")\n",
        "# Applying the .intercept_ to the fitted model\n",
        "print(\"Fitted model Intercept value\\n {}\".format(lm1.intercept_))"
      ],
      "execution_count": 77,
      "outputs": [
        {
          "output_type": "stream",
          "text": [
            "Fitted Model Coefficient Values:\n",
            " {'make': -0.0014268497495636891, 'body': -0.08991450866562556, 'mileage': -2.5694216825133953e-05, 'engV': 0.008849929516122094, 'engType': -0.05850539073146145, 'registration': 0.7301084292756336, 'year': 0.09545435796934032, 'drive': 0.39562231097242434}\n",
            "\n",
            "Fitted model Intercept value\n",
            " -182.91291831659342\n"
          ],
          "name": "stdout"
        }
      ]
    },
    {
      "metadata": {
        "id": "Id1wF98sO6Gl",
        "colab_type": "code",
        "colab": {
          "base_uri": "https://localhost:8080/",
          "height": 52
        },
        "outputId": "87ab2a77-3681-4f5b-e227-51ae150046dd"
      },
      "cell_type": "code",
      "source": [
        "# Apply the .predict to the test data\n",
        "predictions1 = lm1.predict(X_test1)\n",
        "print(\"Test set predictions:\\n {}\".format(predictions1))"
      ],
      "execution_count": 78,
      "outputs": [
        {
          "output_type": "stream",
          "text": [
            "Test set predictions:\n",
            " [9.42250949 8.70112879 9.79139196 ... 9.51005757 8.95061883 8.23053577]\n"
          ],
          "name": "stdout"
        }
      ]
    },
    {
      "metadata": {
        "id": "Q3GqomUiPMKa",
        "colab_type": "code",
        "colab": {}
      },
      "cell_type": "code",
      "source": [
        "# Calculating the RMSE for the model\n",
        "RMSE1 = np.sqrt((mean_squared_error(y_test1, predictions1)))\n",
        "\n",
        "# Calculating the R^2 for the model\n",
        "r_2 = r2_score(y_test1, predictions1)"
      ],
      "execution_count": 0,
      "outputs": []
    },
    {
      "metadata": {
        "id": "BCzTEiDSPCZD",
        "colab_type": "code",
        "colab": {
          "base_uri": "https://localhost:8080/",
          "height": 106
        },
        "outputId": "87c92a2a-44d9-4cb7-9bee-955d5d8872fb"
      },
      "cell_type": "code",
      "source": [
        "# Report the RMSE and R^2 for the model\n",
        "print(\"The RMSE:\\n{}\".format(RMSE1))\n",
        "print(\"\")\n",
        "print(\"The R^2:\\n{}\".format(r_2))"
      ],
      "execution_count": 80,
      "outputs": [
        {
          "output_type": "stream",
          "text": [
            "The RMSE:\n",
            "0.5788740609262718\n",
            "\n",
            "The R^2:\n",
            "0.6447468333440143\n"
          ],
          "name": "stdout"
        }
      ]
    },
    {
      "metadata": {
        "id": "hf4_8FXrpHFY",
        "colab_type": "text"
      },
      "cell_type": "markdown",
      "source": [
        "## 2.5 How might we interpret the coefficient on \"year\" in this new regression model?"
      ]
    },
    {
      "metadata": {
        "id": "JVGKvt5WpTf2",
        "colab_type": "text"
      },
      "cell_type": "markdown",
      "source": [
        "The year coefficient is much stronger now after the transformation. The model fits the year feature extremely well."
      ]
    },
    {
      "metadata": {
        "id": "JUQwzfDRfrQi",
        "colab_type": "text"
      },
      "cell_type": "markdown",
      "source": [
        "# Gradient Descent"
      ]
    },
    {
      "metadata": {
        "id": "M_JLfReVeoYT",
        "colab_type": "text"
      },
      "cell_type": "markdown",
      "source": [
        "## 3.1 What does Gradient Descent seek to minimize?"
      ]
    },
    {
      "metadata": {
        "id": "-ezM_NS2fIJe",
        "colab_type": "text"
      },
      "cell_type": "markdown",
      "source": [
        "The gradient seeks to minimize a cost function. The gradient (or derivative) tells us the incline or slope of the cost function. Hence, to minimize the cost function, we move in the direction opposite to the gradient."
      ]
    },
    {
      "metadata": {
        "id": "unqhNRYnfIL4",
        "colab_type": "text"
      },
      "cell_type": "markdown",
      "source": [
        "## 3.2 What is the \"Learning Rate\" and what is its function?"
      ]
    },
    {
      "metadata": {
        "id": "7jhKwIOVfT6B",
        "colab_type": "text"
      },
      "cell_type": "markdown",
      "source": [
        "Learning rate (alpha) controls how much we are adjusting the weights/coeffients of our model with respect to the  loss gradient. The lower the value, the slower we travel along the downward slope. \n",
        "\n",
        "Using a low learning rate improves the possibility of not missing any local minima but at the cost of time. Using too high of a learning can cause oscillation or never reaching a minima."
      ]
    },
    {
      "metadata": {
        "id": "Gs20FOntprd_",
        "colab_type": "text"
      },
      "cell_type": "markdown",
      "source": [
        "# Model Diagnostics"
      ]
    },
    {
      "metadata": {
        "id": "VJnxkobcpulV",
        "colab_type": "text"
      },
      "cell_type": "markdown",
      "source": [
        "## 4.1 Use statsmodels to run a log-linear or log-polynomial linear regression with robust standard errors."
      ]
    },
    {
      "metadata": {
        "id": "QqCVeYBTpvfQ",
        "colab_type": "code",
        "colab": {
          "base_uri": "https://localhost:8080/",
          "height": 621
        },
        "outputId": "b350ce69-eaa4-49c9-a5a3-21c9eac4339f"
      },
      "cell_type": "code",
      "source": [
        "log_df_x = sm.add_constant(log_df_x)\n",
        "model = sm.OLS(log_y, log_df_x).fit(cov_type='HC3') \n",
        "predictions2 = model.predict(log_df_x) \n",
        "\n",
        "print_model = model.summary()\n",
        "print(print_model)"
      ],
      "execution_count": 89,
      "outputs": [
        {
          "output_type": "stream",
          "text": [
            "                            OLS Regression Results                            \n",
            "==============================================================================\n",
            "Dep. Variable:              log_price   R-squared:                       0.658\n",
            "Model:                            OLS   Adj. R-squared:                  0.658\n",
            "Method:                 Least Squares   F-statistic:                     1654.\n",
            "Date:                Fri, 18 Jan 2019   Prob (F-statistic):               0.00\n",
            "Time:                        18:51:49   Log-Likelihood:                -7167.0\n",
            "No. Observations:                8495   AIC:                         1.435e+04\n",
            "Df Residuals:                    8486   BIC:                         1.442e+04\n",
            "Df Model:                           8                                         \n",
            "Covariance Type:                  HC3                                         \n",
            "================================================================================\n",
            "                   coef    std err          z      P>|z|      [0.025      0.975]\n",
            "--------------------------------------------------------------------------------\n",
            "const         -181.8341      3.453    -52.653      0.000    -188.603    -175.066\n",
            "make            -0.0016      0.000     -5.505      0.000      -0.002      -0.001\n",
            "body            -0.0959      0.004    -23.564      0.000      -0.104      -0.088\n",
            "mileage      -9.471e-05      0.000     -0.890      0.374      -0.000       0.000\n",
            "engV             0.0092      0.002      3.772      0.000       0.004       0.014\n",
            "engType         -0.0581      0.005    -12.043      0.000      -0.068      -0.049\n",
            "registration     0.7220      0.020     36.493      0.000       0.683       0.761\n",
            "year             0.0949      0.002     55.309      0.000       0.092       0.098\n",
            "drive            0.3908      0.010     38.951      0.000       0.371       0.410\n",
            "==============================================================================\n",
            "Omnibus:                      429.442   Durbin-Watson:                   1.918\n",
            "Prob(Omnibus):                  0.000   Jarque-Bera (JB):             1600.078\n",
            "Skew:                           0.070   Prob(JB):                         0.00\n",
            "Kurtosis:                       5.122   Cond. No.                     7.06e+05\n",
            "==============================================================================\n",
            "\n",
            "Warnings:\n",
            "[1] Standard Errors are heteroscedasticity robust (HC3)\n",
            "[2] The condition number is large, 7.06e+05. This might indicate that there are\n",
            "strong multicollinearity or other numerical problems.\n"
          ],
          "name": "stdout"
        }
      ]
    },
    {
      "metadata": {
        "id": "loKma3wspwVs",
        "colab_type": "text"
      },
      "cell_type": "markdown",
      "source": [
        "## 4.2 Calculate the Variance Inflation Factor (VIF) of our X variables. Do we have multicollinearity problems?"
      ]
    },
    {
      "metadata": {
        "id": "EN1mPKWhp2Vn",
        "colab_type": "code",
        "colab": {}
      },
      "cell_type": "code",
      "source": [
        "# Calculate VIF\n",
        "vif = [variance_inflation_factor(log_df_x.values, i) for i in range(log_df_x.shape[1])]"
      ],
      "execution_count": 0,
      "outputs": []
    },
    {
      "metadata": {
        "id": "Nr7RfXB0R17S",
        "colab_type": "code",
        "colab": {
          "base_uri": "https://localhost:8080/",
          "height": 55
        },
        "outputId": "269a4141-d08d-4cf8-aead-efa4130a9ee3"
      },
      "cell_type": "code",
      "source": [
        "# Check for multicollinearity issues\n",
        "VIF = dict(zip(log_df_x.columns, vif))\n",
        "print(VIF)"
      ],
      "execution_count": 91,
      "outputs": [
        {
          "output_type": "stream",
          "text": [
            "{'const': 123262.01363199769, 'make': 1.0591492515492282, 'body': 1.1583256001339475, 'mileage': 1.5496097971160896, 'engV': 1.0093210319338703, 'engType': 1.1411828507373443, 'registration': 1.0918920928785216, 'year': 1.4585277185506464, 'drive': 1.1310208897031016}\n"
          ],
          "name": "stdout"
        }
      ]
    },
    {
      "metadata": {
        "id": "1Ov7p3g7SzgV",
        "colab_type": "text"
      },
      "cell_type": "markdown",
      "source": [
        "There are no numbers greater than 10. This means there are no multicollinearity issues"
      ]
    },
    {
      "metadata": {
        "id": "mTFw6lHpTyG0",
        "colab_type": "code",
        "colab": {
          "base_uri": "https://localhost:8080/",
          "height": 311
        },
        "outputId": "4cbbbe82-438a-45c2-9884-c4830a0f6947"
      },
      "cell_type": "code",
      "source": [
        "# Using a correlation matrix to verify if the variables highlighted by the VIF test are not highly correlated\n",
        "log_df_x.corr()"
      ],
      "execution_count": 92,
      "outputs": [
        {
          "output_type": "execute_result",
          "data": {
            "text/html": [
              "<div>\n",
              "<style scoped>\n",
              "    .dataframe tbody tr th:only-of-type {\n",
              "        vertical-align: middle;\n",
              "    }\n",
              "\n",
              "    .dataframe tbody tr th {\n",
              "        vertical-align: top;\n",
              "    }\n",
              "\n",
              "    .dataframe thead th {\n",
              "        text-align: right;\n",
              "    }\n",
              "</style>\n",
              "<table border=\"1\" class=\"dataframe\">\n",
              "  <thead>\n",
              "    <tr style=\"text-align: right;\">\n",
              "      <th></th>\n",
              "      <th>const</th>\n",
              "      <th>make</th>\n",
              "      <th>body</th>\n",
              "      <th>mileage</th>\n",
              "      <th>engV</th>\n",
              "      <th>engType</th>\n",
              "      <th>registration</th>\n",
              "      <th>year</th>\n",
              "      <th>drive</th>\n",
              "    </tr>\n",
              "  </thead>\n",
              "  <tbody>\n",
              "    <tr>\n",
              "      <th>const</th>\n",
              "      <td>NaN</td>\n",
              "      <td>NaN</td>\n",
              "      <td>NaN</td>\n",
              "      <td>NaN</td>\n",
              "      <td>NaN</td>\n",
              "      <td>NaN</td>\n",
              "      <td>NaN</td>\n",
              "      <td>NaN</td>\n",
              "      <td>NaN</td>\n",
              "    </tr>\n",
              "    <tr>\n",
              "      <th>make</th>\n",
              "      <td>NaN</td>\n",
              "      <td>1.000000</td>\n",
              "      <td>0.026127</td>\n",
              "      <td>-0.035097</td>\n",
              "      <td>-0.021246</td>\n",
              "      <td>-0.011880</td>\n",
              "      <td>0.104557</td>\n",
              "      <td>-0.013833</td>\n",
              "      <td>-0.196444</td>\n",
              "    </tr>\n",
              "    <tr>\n",
              "      <th>body</th>\n",
              "      <td>NaN</td>\n",
              "      <td>0.026127</td>\n",
              "      <td>1.000000</td>\n",
              "      <td>0.287060</td>\n",
              "      <td>-0.025320</td>\n",
              "      <td>-0.184007</td>\n",
              "      <td>-0.082643</td>\n",
              "      <td>-0.154554</td>\n",
              "      <td>-0.162235</td>\n",
              "    </tr>\n",
              "    <tr>\n",
              "      <th>mileage</th>\n",
              "      <td>NaN</td>\n",
              "      <td>-0.035097</td>\n",
              "      <td>0.287060</td>\n",
              "      <td>1.000000</td>\n",
              "      <td>0.042081</td>\n",
              "      <td>-0.229644</td>\n",
              "      <td>-0.229354</td>\n",
              "      <td>-0.503135</td>\n",
              "      <td>0.067962</td>\n",
              "    </tr>\n",
              "    <tr>\n",
              "      <th>engV</th>\n",
              "      <td>NaN</td>\n",
              "      <td>-0.021246</td>\n",
              "      <td>-0.025320</td>\n",
              "      <td>0.042081</td>\n",
              "      <td>1.000000</td>\n",
              "      <td>-0.004896</td>\n",
              "      <td>-0.015274</td>\n",
              "      <td>-0.041076</td>\n",
              "      <td>0.084756</td>\n",
              "    </tr>\n",
              "    <tr>\n",
              "      <th>engType</th>\n",
              "      <td>NaN</td>\n",
              "      <td>-0.011880</td>\n",
              "      <td>-0.184007</td>\n",
              "      <td>-0.229644</td>\n",
              "      <td>-0.004896</td>\n",
              "      <td>1.000000</td>\n",
              "      <td>0.152988</td>\n",
              "      <td>-0.040471</td>\n",
              "      <td>-0.044859</td>\n",
              "    </tr>\n",
              "    <tr>\n",
              "      <th>registration</th>\n",
              "      <td>NaN</td>\n",
              "      <td>0.104557</td>\n",
              "      <td>-0.082643</td>\n",
              "      <td>-0.229354</td>\n",
              "      <td>-0.015274</td>\n",
              "      <td>0.152988</td>\n",
              "      <td>1.000000</td>\n",
              "      <td>0.185104</td>\n",
              "      <td>-0.055793</td>\n",
              "    </tr>\n",
              "    <tr>\n",
              "      <th>year</th>\n",
              "      <td>NaN</td>\n",
              "      <td>-0.013833</td>\n",
              "      <td>-0.154554</td>\n",
              "      <td>-0.503135</td>\n",
              "      <td>-0.041076</td>\n",
              "      <td>-0.040471</td>\n",
              "      <td>0.185104</td>\n",
              "      <td>1.000000</td>\n",
              "      <td>-0.169709</td>\n",
              "    </tr>\n",
              "    <tr>\n",
              "      <th>drive</th>\n",
              "      <td>NaN</td>\n",
              "      <td>-0.196444</td>\n",
              "      <td>-0.162235</td>\n",
              "      <td>0.067962</td>\n",
              "      <td>0.084756</td>\n",
              "      <td>-0.044859</td>\n",
              "      <td>-0.055793</td>\n",
              "      <td>-0.169709</td>\n",
              "      <td>1.000000</td>\n",
              "    </tr>\n",
              "  </tbody>\n",
              "</table>\n",
              "</div>"
            ],
            "text/plain": [
              "              const      make      body   mileage      engV   engType  \\\n",
              "const           NaN       NaN       NaN       NaN       NaN       NaN   \n",
              "make            NaN  1.000000  0.026127 -0.035097 -0.021246 -0.011880   \n",
              "body            NaN  0.026127  1.000000  0.287060 -0.025320 -0.184007   \n",
              "mileage         NaN -0.035097  0.287060  1.000000  0.042081 -0.229644   \n",
              "engV            NaN -0.021246 -0.025320  0.042081  1.000000 -0.004896   \n",
              "engType         NaN -0.011880 -0.184007 -0.229644 -0.004896  1.000000   \n",
              "registration    NaN  0.104557 -0.082643 -0.229354 -0.015274  0.152988   \n",
              "year            NaN -0.013833 -0.154554 -0.503135 -0.041076 -0.040471   \n",
              "drive           NaN -0.196444 -0.162235  0.067962  0.084756 -0.044859   \n",
              "\n",
              "              registration      year     drive  \n",
              "const                  NaN       NaN       NaN  \n",
              "make              0.104557 -0.013833 -0.196444  \n",
              "body             -0.082643 -0.154554 -0.162235  \n",
              "mileage          -0.229354 -0.503135  0.067962  \n",
              "engV             -0.015274 -0.041076  0.084756  \n",
              "engType           0.152988 -0.040471 -0.044859  \n",
              "registration      1.000000  0.185104 -0.055793  \n",
              "year              0.185104  1.000000 -0.169709  \n",
              "drive            -0.055793 -0.169709  1.000000  "
            ]
          },
          "metadata": {
            "tags": []
          },
          "execution_count": 92
        }
      ]
    },
    {
      "metadata": {
        "id": "ZR6k62RnT7x9",
        "colab_type": "code",
        "colab": {}
      },
      "cell_type": "code",
      "source": [
        ""
      ],
      "execution_count": 0,
      "outputs": []
    }
  ]
}