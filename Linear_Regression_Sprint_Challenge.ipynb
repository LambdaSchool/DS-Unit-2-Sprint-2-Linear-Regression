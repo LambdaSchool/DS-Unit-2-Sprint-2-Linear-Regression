{
  "nbformat": 4,
  "nbformat_minor": 0,
  "metadata": {
    "colab": {
      "name": "Linear Regression Sprint Challenge.ipynb",
      "version": "0.3.2",
      "provenance": [],
      "include_colab_link": true
    },
    "kernelspec": {
      "name": "python3",
      "display_name": "Python 3"
    }
  },
  "cells": [
    {
      "cell_type": "markdown",
      "metadata": {
        "id": "view-in-github",
        "colab_type": "text"
      },
      "source": [
        "<a href=\"https://colab.research.google.com/github/edwardauron/DS-Unit-2-Sprint-2-Linear-Regression/blob/master/Linear_Regression_Sprint_Challenge.ipynb\" target=\"_parent\"><img src=\"https://colab.research.google.com/assets/colab-badge.svg\" alt=\"Open In Colab\"/></a>"
      ]
    },
    {
      "metadata": {
        "id": "YbiJuv5d2jZ7",
        "colab_type": "code",
        "colab": {}
      },
      "cell_type": "code",
      "source": [
        "# Import everything you could ever need. ;)\n",
        "import pandas as pd\n",
        "import numpy as np\n",
        "import matplotlib.pyplot as plt\n",
        "import seaborn as sns\n",
        "import statsmodels.api as sm\n",
        "\n",
        "from scipy import stats\n",
        "from sklearn.linear_model import LinearRegression\n",
        "from sklearn.metrics import mean_squared_error, r2_score\n",
        "from sklearn.model_selection import train_test_split\n",
        "from sklearn.preprocessing import RobustScaler\n",
        "from statsmodels.stats.outliers_influence import variance_inflation_factor"
      ],
      "execution_count": 0,
      "outputs": []
    },
    {
      "metadata": {
        "id": "FgaItuSL3zxO",
        "colab_type": "code",
        "outputId": "1d06f4d0-4c5d-4d71-ca4a-6098a8a8bfe9",
        "colab": {
          "base_uri": "https://localhost:8080/",
          "height": 212
        }
      },
      "cell_type": "code",
      "source": [
        "# Ukraine Used Car Sale Price Prediction\n",
        "df = pd.read_csv('https://raw.githubusercontent.com/ryanleeallred/datasets/master/car_regression.csv')\n",
        "print(df.shape)\n",
        "df.head()"
      ],
      "execution_count": 0,
      "outputs": [
        {
          "output_type": "stream",
          "text": [
            "(8495, 9)\n"
          ],
          "name": "stdout"
        },
        {
          "output_type": "execute_result",
          "data": {
            "text/html": [
              "<div>\n",
              "<style scoped>\n",
              "    .dataframe tbody tr th:only-of-type {\n",
              "        vertical-align: middle;\n",
              "    }\n",
              "\n",
              "    .dataframe tbody tr th {\n",
              "        vertical-align: top;\n",
              "    }\n",
              "\n",
              "    .dataframe thead th {\n",
              "        text-align: right;\n",
              "    }\n",
              "</style>\n",
              "<table border=\"1\" class=\"dataframe\">\n",
              "  <thead>\n",
              "    <tr style=\"text-align: right;\">\n",
              "      <th></th>\n",
              "      <th>make</th>\n",
              "      <th>price</th>\n",
              "      <th>body</th>\n",
              "      <th>mileage</th>\n",
              "      <th>engV</th>\n",
              "      <th>engType</th>\n",
              "      <th>registration</th>\n",
              "      <th>year</th>\n",
              "      <th>drive</th>\n",
              "    </tr>\n",
              "  </thead>\n",
              "  <tbody>\n",
              "    <tr>\n",
              "      <th>0</th>\n",
              "      <td>23</td>\n",
              "      <td>15500.0</td>\n",
              "      <td>0</td>\n",
              "      <td>68</td>\n",
              "      <td>2.5</td>\n",
              "      <td>1</td>\n",
              "      <td>1</td>\n",
              "      <td>2010</td>\n",
              "      <td>1</td>\n",
              "    </tr>\n",
              "    <tr>\n",
              "      <th>1</th>\n",
              "      <td>50</td>\n",
              "      <td>20500.0</td>\n",
              "      <td>3</td>\n",
              "      <td>173</td>\n",
              "      <td>1.8</td>\n",
              "      <td>1</td>\n",
              "      <td>1</td>\n",
              "      <td>2011</td>\n",
              "      <td>2</td>\n",
              "    </tr>\n",
              "    <tr>\n",
              "      <th>2</th>\n",
              "      <td>50</td>\n",
              "      <td>35000.0</td>\n",
              "      <td>2</td>\n",
              "      <td>135</td>\n",
              "      <td>5.5</td>\n",
              "      <td>3</td>\n",
              "      <td>1</td>\n",
              "      <td>2008</td>\n",
              "      <td>2</td>\n",
              "    </tr>\n",
              "    <tr>\n",
              "      <th>3</th>\n",
              "      <td>50</td>\n",
              "      <td>17800.0</td>\n",
              "      <td>5</td>\n",
              "      <td>162</td>\n",
              "      <td>1.8</td>\n",
              "      <td>0</td>\n",
              "      <td>1</td>\n",
              "      <td>2012</td>\n",
              "      <td>0</td>\n",
              "    </tr>\n",
              "    <tr>\n",
              "      <th>4</th>\n",
              "      <td>55</td>\n",
              "      <td>16600.0</td>\n",
              "      <td>0</td>\n",
              "      <td>83</td>\n",
              "      <td>2.0</td>\n",
              "      <td>3</td>\n",
              "      <td>1</td>\n",
              "      <td>2013</td>\n",
              "      <td>1</td>\n",
              "    </tr>\n",
              "  </tbody>\n",
              "</table>\n",
              "</div>"
            ],
            "text/plain": [
              "   make    price  body  mileage  engV  engType  registration  year  drive\n",
              "0    23  15500.0     0       68   2.5        1             1  2010      1\n",
              "1    50  20500.0     3      173   1.8        1             1  2011      2\n",
              "2    50  35000.0     2      135   5.5        3             1  2008      2\n",
              "3    50  17800.0     5      162   1.8        0             1  2012      0\n",
              "4    55  16600.0     0       83   2.0        3             1  2013      1"
            ]
          },
          "metadata": {
            "tags": []
          },
          "execution_count": 14
        }
      ]
    },
    {
      "metadata": {
        "id": "JN9Blq5BH0ya",
        "colab_type": "text"
      },
      "cell_type": "markdown",
      "source": [
        "# Model lead me to believe outliers were heavily affecting the year coeffecient, so i came back and removed them for both year and mileage."
      ]
    },
    {
      "metadata": {
        "id": "ucVIaOu_H-Te",
        "colab_type": "code",
        "colab": {}
      },
      "cell_type": "code",
      "source": [
        "df = df[((df.year - df.year.mean()) / df.year.std()).abs() < 3]\n",
        "df = df[((df.mileage - df.mileage.mean()) / df.mileage.std()).abs() < 3]"
      ],
      "execution_count": 0,
      "outputs": []
    },
    {
      "metadata": {
        "id": "DOnXxiPkJM6A",
        "colab_type": "code",
        "outputId": "8abeef36-a443-4183-e07e-533c3ad2a511",
        "colab": {
          "base_uri": "https://localhost:8080/",
          "height": 34
        }
      },
      "cell_type": "code",
      "source": [
        "df.shape"
      ],
      "execution_count": 0,
      "outputs": [
        {
          "output_type": "execute_result",
          "data": {
            "text/plain": [
              "(8326, 9)"
            ]
          },
          "metadata": {
            "tags": []
          },
          "execution_count": 16
        }
      ]
    },
    {
      "metadata": {
        "id": "NW_SJ0lbuQfa",
        "colab_type": "code",
        "outputId": "e7cacfac-07ee-491b-d705-2fce652ec6e5",
        "colab": {
          "base_uri": "https://localhost:8080/",
          "height": 185
        }
      },
      "cell_type": "code",
      "source": [
        "df.isna().sum()"
      ],
      "execution_count": 0,
      "outputs": [
        {
          "output_type": "execute_result",
          "data": {
            "text/plain": [
              "make            0\n",
              "price           0\n",
              "body            0\n",
              "mileage         0\n",
              "engV            0\n",
              "engType         0\n",
              "registration    0\n",
              "year            0\n",
              "drive           0\n",
              "dtype: int64"
            ]
          },
          "metadata": {
            "tags": []
          },
          "execution_count": 17
        }
      ]
    },
    {
      "metadata": {
        "id": "w9gkF-HNUFAV",
        "colab_type": "text"
      },
      "cell_type": "markdown",
      "source": [
        "# Predictive Modeling with Linear Regression"
      ]
    },
    {
      "metadata": {
        "id": "Vy1SWxcYTAC0",
        "colab_type": "text"
      },
      "cell_type": "markdown",
      "source": [
        "## 1.1 Divide the dataset features into an X matrix and y vector (\"price\" is what we want to predict)."
      ]
    },
    {
      "metadata": {
        "id": "dwMbM9tUUaOQ",
        "colab_type": "code",
        "colab": {}
      },
      "cell_type": "code",
      "source": [
        "X = df.drop(['price'], axis=1)\n",
        "y = df['price']"
      ],
      "execution_count": 0,
      "outputs": []
    },
    {
      "metadata": {
        "id": "Uf_SQswNUPwM",
        "colab_type": "text"
      },
      "cell_type": "markdown",
      "source": [
        "## 1.2 Split the data into test and train datasets using train_test_split"
      ]
    },
    {
      "metadata": {
        "id": "iIiELKuKUOgR",
        "colab_type": "code",
        "colab": {}
      },
      "cell_type": "code",
      "source": [
        "X_train, X_test, Y_train, Y_test = train_test_split(X, y, test_size=.30, random_state=42)"
      ],
      "execution_count": 0,
      "outputs": []
    },
    {
      "metadata": {
        "id": "0AdXWiwoUstf",
        "colab_type": "text"
      },
      "cell_type": "markdown",
      "source": [
        "## 1.3 Use Scikit-Learn to fit a multiple regression model using your training data."
      ]
    },
    {
      "metadata": {
        "id": "Zw70rt71U1xf",
        "colab_type": "code",
        "outputId": "9c249927-0d67-48b9-de2c-ae218b6af69e",
        "colab": {
          "base_uri": "https://localhost:8080/",
          "height": 50
        }
      },
      "cell_type": "code",
      "source": [
        "model = LinearRegression()\n",
        "model.fit(X_train, Y_train)"
      ],
      "execution_count": 0,
      "outputs": [
        {
          "output_type": "execute_result",
          "data": {
            "text/plain": [
              "LinearRegression(copy_X=True, fit_intercept=True, n_jobs=None,\n",
              "         normalize=False)"
            ]
          },
          "metadata": {
            "tags": []
          },
          "execution_count": 20
        }
      ]
    },
    {
      "metadata": {
        "id": "M8unUbX8JcbR",
        "colab_type": "code",
        "colab": {}
      },
      "cell_type": "code",
      "source": [
        "columns = X.columns.unique().tolist()"
      ],
      "execution_count": 0,
      "outputs": []
    },
    {
      "metadata": {
        "id": "82fH2rilU7j3",
        "colab_type": "text"
      },
      "cell_type": "markdown",
      "source": [
        "## 1.4 Report the Intercept and Coefficient Values for the fitted model"
      ]
    },
    {
      "metadata": {
        "id": "ue6hCHGqVE83",
        "colab_type": "code",
        "outputId": "3c19d710-68c3-4086-e268-2d80604f139e",
        "colab": {
          "base_uri": "https://localhost:8080/",
          "height": 202
        }
      },
      "cell_type": "code",
      "source": [
        "print(\"coefficients: \\n\", columns[0],model.coef_[0],'\\n', \n",
        "      columns[1],model.coef_[1],'\\n', \n",
        "      columns[2],model.coef_[2],'\\n', \n",
        "      columns[3],model.coef_[3],'\\n',\n",
        "      columns[4],model.coef_[4],'\\n', \n",
        "      columns[5],model.coef_[5],'\\n', \n",
        "      columns[6],model.coef_[6],'\\n',\n",
        "      columns[7],model.coef_[7],'\\n',)\n",
        "print(\"intercepts: \", model.intercept_)"
      ],
      "execution_count": 0,
      "outputs": [
        {
          "output_type": "stream",
          "text": [
            "coefficients: \n",
            " make -43.08100340418052 \n",
            " body -1724.1105836151473 \n",
            " mileage -51.35744101479031 \n",
            " engV 335.8491462360398 \n",
            " engType -1318.714597069526 \n",
            " registration 3576.512105885882 \n",
            " year 1203.8383165461403 \n",
            " drive 8301.206780293178 \n",
            "\n",
            "intercepts:  -2393215.2176582105\n"
          ],
          "name": "stdout"
        }
      ]
    },
    {
      "metadata": {
        "id": "Ee430_Jiy1Pq",
        "colab_type": "text"
      },
      "cell_type": "markdown",
      "source": [
        "# Note:\n",
        "\n",
        "We should have a model with a constant here as our baseline for price, we have no interest in the price of a car that has 0 as the value for all of it's features.\n",
        "\n",
        "The intercept acts as the constant, but this is detrimental, because its -2,263, 470."
      ]
    },
    {
      "metadata": {
        "id": "T0CV0OnDVZbu",
        "colab_type": "text"
      },
      "cell_type": "markdown",
      "source": [
        "## 1.5 Use the test data to make predictions"
      ]
    },
    {
      "metadata": {
        "id": "vrR5b5c3VwE5",
        "colab_type": "code",
        "colab": {}
      },
      "cell_type": "code",
      "source": [
        "y_pred = model.predict(X_test)"
      ],
      "execution_count": 0,
      "outputs": []
    },
    {
      "metadata": {
        "id": "ZwQb3gE7VycT",
        "colab_type": "text"
      },
      "cell_type": "markdown",
      "source": [
        "## 1.6 Calculate and report both the Root-Mean-Square error and $R^2$ for the model. "
      ]
    },
    {
      "metadata": {
        "id": "Ym2kjxWhU6b2",
        "colab_type": "code",
        "outputId": "420bdf05-c823-409d-c8f4-1960e9e79b1a",
        "colab": {
          "base_uri": "https://localhost:8080/",
          "height": 50
        }
      },
      "cell_type": "code",
      "source": [
        "RMSE = (np.sqrt(mean_squared_error(Y_test, y_pred)))\n",
        "R2 = r2_score(Y_test, y_pred)\n",
        "\n",
        "print('RMSE is {}'.format(RMSE))\n",
        "print('R^2 is {}'.format(R2))"
      ],
      "execution_count": 0,
      "outputs": [
        {
          "output_type": "stream",
          "text": [
            "RMSE is 18728.493853447377\n",
            "R^2 is 0.3228565433009254\n"
          ],
          "name": "stdout"
        }
      ]
    },
    {
      "metadata": {
        "id": "kIXhGHIgXHyJ",
        "colab_type": "text"
      },
      "cell_type": "markdown",
      "source": [
        "## 1.7 How should we interpret the coefficient corresponding to the \"year\" feature?"
      ]
    },
    {
      "metadata": {
        "id": "8jv2n0wAXgHU",
        "colab_type": "text"
      },
      "cell_type": "markdown",
      "source": [
        "# Coeffecients: Simple\n",
        "\n",
        "The size of the coefficient for each independent variable gives you the size of the effect that variable is having on your dependent variable, and the sign on the coefficient (positive or negative) gives you the direction of the effect.\n",
        "\n",
        "1. It has a greater effect on price than make, body, mileage, slightly bigger effect than engV.\n",
        "\n",
        "2. Because it's positive we expect the price to increase as the year of the car increases, meaning newer vehicles correspond with a higher price.\n",
        "\n"
      ]
    },
    {
      "metadata": {
        "id": "ckQ5GsOtYsjn",
        "colab_type": "text"
      },
      "cell_type": "markdown",
      "source": [
        "## 1.8 How should we interpret the Root-Mean-Square Error?"
      ]
    },
    {
      "metadata": {
        "id": "F982IeSgYyp6",
        "colab_type": "text"
      },
      "cell_type": "markdown",
      "source": [
        "#RMSE: Simple\n",
        "\n",
        "RMSE can be explained as the standard deviation of the unexplained variance. The lower of a value of RMSE, the better indication of a fighting model.\n",
        "\n",
        "RMSE is a good measure of model accuracy if our objection is to predict our target given our features.\n",
        "\n",
        "Given that the unexplained variance of price is near 20k, i'd say this model currently performs quite terribly. We're failing to account for what the most important features are, and we need to check for data skew/outliers/etc to ensure we're doing a more precise analysis."
      ]
    },
    {
      "metadata": {
        "id": "T3sZrru_YzFF",
        "colab_type": "text"
      },
      "cell_type": "markdown",
      "source": [
        "## 1.9 How should we interpret the $R^2$?"
      ]
    },
    {
      "metadata": {
        "id": "5pN2Oet_Y5jR",
        "colab_type": "text"
      },
      "cell_type": "markdown",
      "source": [
        "#On $R^2$:\n",
        "\n",
        "For multiple regression models R-squared is calculated with pairwise correlations among all the variables, including correlations of the independent variables with each other as well as with the dependent variable.\n",
        "\n",
        "We can only explain 30% of the variance of our data!  Or put another way, we can say the variance of its errors is 30% less than the variance of the dependent variable.\n",
        "\n",
        "That's awful! We also can explain only somewhere between 13% and 29% of the standard deviation. No beuno. This model really needs some help."
      ]
    },
    {
      "metadata": {
        "id": "Z_VNy7e3Y5sT",
        "colab_type": "text"
      },
      "cell_type": "markdown",
      "source": [
        "# Log-Linear and Polynomial Regression"
      ]
    },
    {
      "metadata": {
        "id": "G2T4FSqRZOJA",
        "colab_type": "text"
      },
      "cell_type": "markdown",
      "source": [
        "## 2.1 Engineer a new variable by taking the log of the price varible."
      ]
    },
    {
      "metadata": {
        "id": "7EChAFNxZX24",
        "colab_type": "code",
        "colab": {}
      },
      "cell_type": "code",
      "source": [
        "df['log_price'] = np.log(df['price'])"
      ],
      "execution_count": 0,
      "outputs": []
    },
    {
      "metadata": {
        "id": "R117rxnOZw6q",
        "colab_type": "text"
      },
      "cell_type": "markdown",
      "source": [
        "## 2.2 Use scatterplots or seaborn's pairplot function to do the \"eyeball test\" for non-linearly distributed features."
      ]
    },
    {
      "metadata": {
        "id": "Z8jn7DGB_8kN",
        "colab_type": "text"
      },
      "cell_type": "markdown",
      "source": [
        "The eyeball test works here, because we have many ordinal variables, and two very obvious polynomial candidates, that is, the line of best fit has curvature.\n",
        "\n",
        "\n",
        "I would have liked to have done a test for heteroscedasticity on the make! For the sake of the assignment, I chose not to. Real world I would."
      ]
    },
    {
      "metadata": {
        "id": "8l56Qk7VaBrU",
        "colab_type": "code",
        "outputId": "52386cb9-33f4-4875-d443-0fba7a3af130",
        "colab": {
          "base_uri": "https://localhost:8080/",
          "height": 218
        }
      },
      "cell_type": "code",
      "source": [
        "x_columns = df.columns.drop(['price', 'log_price'])\n",
        "sns.pairplot(df, x_vars=x_columns, y_vars=['log_price'], hue='drive')"
      ],
      "execution_count": 0,
      "outputs": [
        {
          "output_type": "execute_result",
          "data": {
            "text/plain": [
              "<seaborn.axisgrid.PairGrid at 0x7fe3662af048>"
            ]
          },
          "metadata": {
            "tags": []
          },
          "execution_count": 26
        },
        {
          "output_type": "display_data",
          "data": {
            "image/png": "[encoded data removed]",
            "text/plain": [
              "<Figure size 1481.62x180 with 8 Axes>"
            ]
          },
          "metadata": {
            "tags": []
          }
        }
      ]
    },
    {
      "metadata": {
        "id": "QTf4gCaDaiCw",
        "colab_type": "text"
      },
      "cell_type": "markdown",
      "source": [
        "## 2.3 If appropriate, create any polynomial features. "
      ]
    },
    {
      "metadata": {
        "id": "J2ylfr073t_V",
        "colab_type": "text"
      },
      "cell_type": "markdown",
      "source": [
        "It looks to me like mileage and especially year are good candidates for polynomial features. I want those outliers in mileage gone, but i can wait :)"
      ]
    },
    {
      "metadata": {
        "id": "ipsCcH83ZMe8",
        "colab_type": "code",
        "colab": {}
      },
      "cell_type": "code",
      "source": [
        "df['mileage_squared'] = df['mileage']**2\n",
        "df['year_squared'] = df['year']**2"
      ],
      "execution_count": 0,
      "outputs": []
    },
    {
      "metadata": {
        "id": "NJgfD-JLayRA",
        "colab_type": "text"
      },
      "cell_type": "markdown",
      "source": [
        "## 2.4 Use the new log-transformed y variable and your x variables (including any new polynomial features) to fit a new linear regression model. Then report the: intercept, coefficients, RMSE, and $R^2$."
      ]
    },
    {
      "metadata": {
        "id": "uXmtVpnPcFij",
        "colab_type": "code",
        "colab": {}
      },
      "cell_type": "code",
      "source": [
        "X = df.drop(['price', 'log_price'], axis=1)\n",
        "y = df['log_price']\n",
        "\n",
        "X_train, X_test, Y_train, Y_test = train_test_split(X, y, test_size=.30, random_state=42)\n",
        "model = LinearRegression()\n",
        "model.fit(X_train, Y_train)\n",
        "y_pred = model.predict(X_test)\n",
        "RMSE = (np.sqrt(mean_squared_error(Y_test, y_pred)))\n",
        "R2 = r2_score(Y_test, y_pred)\n",
        "\n",
        "\n"
      ],
      "execution_count": 0,
      "outputs": []
    },
    {
      "metadata": {
        "id": "AeYyK2t25Ooj",
        "colab_type": "code",
        "colab": {}
      },
      "cell_type": "code",
      "source": [
        "columns = X.columns.unique().tolist()"
      ],
      "execution_count": 0,
      "outputs": []
    },
    {
      "metadata": {
        "id": "uSxoOJuq5Sqi",
        "colab_type": "code",
        "outputId": "fc7b4693-f0ac-482d-85db-33f485b25ba4",
        "colab": {
          "base_uri": "https://localhost:8080/",
          "height": 286
        }
      },
      "cell_type": "code",
      "source": [
        "print(\"coefficients: \\n\", columns[0],model.coef_[0],'\\n', \n",
        "      columns[1],model.coef_[1],'\\n', \n",
        "      columns[2],model.coef_[2],'\\n', \n",
        "      columns[3],model.coef_[3],'\\n',\n",
        "      columns[4],model.coef_[4],'\\n', \n",
        "      columns[5],model.coef_[5],'\\n', \n",
        "      columns[6],model.coef_[6],'\\n',\n",
        "      columns[7],model.coef_[7],'\\n',\n",
        "      columns[8],model.coef_[8],'\\n', \n",
        "      columns[9],model.coef_[9],'\\n')\n",
        "print(\"intercepts: \", model.intercept_)\n",
        "print('\\nRMSE is {}'.format(RMSE))\n",
        "print('R^2 is {}'.format(R2))"
      ],
      "execution_count": 0,
      "outputs": [
        {
          "output_type": "stream",
          "text": [
            "coefficients: \n",
            " make -0.0014998424887387835 \n",
            " body -0.0922467792665972 \n",
            " mileage -0.0006406222292716726 \n",
            " engV 0.011728604368896348 \n",
            " engType -0.04745424551063527 \n",
            " registration 0.678160129672719 \n",
            " year -6.18301535054273 \n",
            " drive 0.38046069352850537 \n",
            " mileage_squared 4.0140727086690475e-06 \n",
            " year_squared 0.0015697350882998354 \n",
            "\n",
            "intercepts:  6094.963171546157\n",
            "\n",
            "RMSE is 0.5577717932664691\n",
            "R^2 is 0.6465572213853327\n"
          ],
          "name": "stdout"
        }
      ]
    },
    {
      "metadata": {
        "id": "hf4_8FXrpHFY",
        "colab_type": "text"
      },
      "cell_type": "markdown",
      "source": [
        "## 2.5 How might we interpret the coefficient on \"year\" in this new regression model?"
      ]
    },
    {
      "metadata": {
        "id": "JVGKvt5WpTf2",
        "colab_type": "text"
      },
      "cell_type": "markdown",
      "source": [
        "# Extra Extra read all about it: People like new things!\n",
        "\n",
        "Year is now the most significant contributer to the price of a car. And the indication is that the older the car is the lower the price of the car will be. In fact, the scale of the coeffecient compared to the others indicates it'll be a drastic change.\n"
      ]
    },
    {
      "metadata": {
        "id": "JUQwzfDRfrQi",
        "colab_type": "text"
      },
      "cell_type": "markdown",
      "source": [
        "# Gradient Descent"
      ]
    },
    {
      "metadata": {
        "id": "M_JLfReVeoYT",
        "colab_type": "text"
      },
      "cell_type": "markdown",
      "source": [
        "## 3.1 What does Gradient Descent seek to minimize?"
      ]
    },
    {
      "metadata": {
        "id": "-ezM_NS2fIJe",
        "colab_type": "text"
      },
      "cell_type": "markdown",
      "source": [
        "1. It seeks to find the minimum of a function. It depends on it's application. If we use it for n-dimensional space, the point is always to head towards the minimum. For our example we want to minimize the cost function. The higher the dimensonality, the greater your matrix will be when using a sum of error, typically SSE.\n",
        "\n",
        "2. It's an iterative process that starts with specified weights, it calculates the error, let's say SSE, and then it calculates the gradient, or the change in SSE when the weights are changed marginally. \n",
        "\n",
        "3. Given the gradient we just calculated, adjust the weights so that the we achieve optimal values of the minimum of our error, again in this example SSE.\n",
        "\n",
        "4. It now uses the new weights for the next prediction of the independent variables of our function and continues to repeat this process until adjust the weights fails to reduce error. (well significantly >.<)\n",
        "\n",
        "It's computationally much more effecient, as well as actually understandable (and depending on dimensionality, even possible )for humans to undertake.\n",
        "\n"
      ]
    },
    {
      "metadata": {
        "id": "unqhNRYnfIL4",
        "colab_type": "text"
      },
      "cell_type": "markdown",
      "source": [
        "## 3.2 What is the \"Learning Rate\" and what is its function?"
      ]
    },
    {
      "metadata": {
        "id": "7jhKwIOVfT6B",
        "colab_type": "text"
      },
      "cell_type": "markdown",
      "source": [
        "The learning rate is the size of the adjustments of our weights. A small learning rate means small adjustmens, and small adjustments mean that we can expect a more precise movement towards the local minumum, and because we know we're moving towards a set point given our function, this allows us to expect accuracy. \n",
        "\n",
        "You might use a high learning rate to begin with to get a feel for how large of an adjustment you can make without creating a large variance in error calculation, and reduce as needed."
      ]
    },
    {
      "metadata": {
        "id": "Gs20FOntprd_",
        "colab_type": "text"
      },
      "cell_type": "markdown",
      "source": [
        "# Model Diagnostics"
      ]
    },
    {
      "metadata": {
        "id": "VJnxkobcpulV",
        "colab_type": "text"
      },
      "cell_type": "markdown",
      "source": [
        "## 4.1 Use statsmodels to run a log-linear or log-polynomial linear regression with robust standard errors."
      ]
    },
    {
      "metadata": {
        "id": "QqCVeYBTpvfQ",
        "colab_type": "code",
        "outputId": "d264ef15-6d2f-4fc9-ad1e-5a619c81fa65",
        "colab": {
          "base_uri": "https://localhost:8080/",
          "height": 642
        }
      },
      "cell_type": "code",
      "source": [
        "X = df.drop(['price', 'log_price'], axis=1)\n",
        "y = df['log_price']\n",
        "\n",
        "# add constant for variance calculation\n",
        "X = sm.add_constant(X)\n",
        "\n",
        "model = sm.OLS(y, X).fit(cov_type='HC3')\n",
        "predictions = model.predict(X)\n",
        "\n",
        "print_model = model.summary()\n",
        "print(print_model)"
      ],
      "execution_count": 0,
      "outputs": [
        {
          "output_type": "stream",
          "text": [
            "                            OLS Regression Results                            \n",
            "==============================================================================\n",
            "Dep. Variable:              log_price   R-squared:                       0.669\n",
            "Model:                            OLS   Adj. R-squared:                  0.669\n",
            "Method:                 Least Squares   F-statistic:                     1717.\n",
            "Date:                Fri, 18 Jan 2019   Prob (F-statistic):               0.00\n",
            "Time:                        18:08:45   Log-Likelihood:                -6694.4\n",
            "No. Observations:                8326   AIC:                         1.341e+04\n",
            "Df Residuals:                    8315   BIC:                         1.349e+04\n",
            "Df Model:                          10                                         \n",
            "Covariance Type:                  HC3                                         \n",
            "===================================================================================\n",
            "                      coef    std err          z      P>|z|      [0.025      0.975]\n",
            "-----------------------------------------------------------------------------------\n",
            "const            6076.5228    658.329      9.230      0.000    4786.222    7366.824\n",
            "make               -0.0015      0.000     -5.544      0.000      -0.002      -0.001\n",
            "body               -0.0941      0.004    -23.542      0.000      -0.102      -0.086\n",
            "mileage            -0.0006      0.000     -1.919      0.055      -0.001    1.21e-05\n",
            "engV                0.0102      0.003      3.909      0.000       0.005       0.015\n",
            "engType            -0.0442      0.005     -9.457      0.000      -0.053      -0.035\n",
            "registration        0.6747      0.020     34.573      0.000       0.636       0.713\n",
            "year               -6.1652      0.658     -9.374      0.000      -7.454      -4.876\n",
            "drive               0.3805      0.010     38.308      0.000       0.361       0.400\n",
            "mileage_squared   4.11e-06   7.21e-07      5.697      0.000     2.7e-06    5.52e-06\n",
            "year_squared        0.0016      0.000      9.530      0.000       0.001       0.002\n",
            "==============================================================================\n",
            "Omnibus:                      230.185   Durbin-Watson:                   1.916\n",
            "Prob(Omnibus):                  0.000   Jarque-Bera (JB):              523.459\n",
            "Skew:                          -0.125   Prob(JB):                    2.15e-114\n",
            "Kurtosis:                       4.203   Cond. No.                     3.89e+11\n",
            "==============================================================================\n",
            "\n",
            "Warnings:\n",
            "[1] Standard Errors are heteroscedasticity robust (HC3)\n",
            "[2] The condition number is large, 3.89e+11. This might indicate that there are\n",
            "strong multicollinearity or other numerical problems.\n"
          ],
          "name": "stdout"
        }
      ]
    },
    {
      "metadata": {
        "id": "loKma3wspwVs",
        "colab_type": "text"
      },
      "cell_type": "markdown",
      "source": [
        "## 4.2 Calculate the Variance Inflation Factor (VIF) of our X variables. Do we have multicollinearity problems?"
      ]
    },
    {
      "metadata": {
        "id": "5lpiYwIcBoQF",
        "colab_type": "code",
        "colab": {}
      },
      "cell_type": "code",
      "source": [
        "vif = [variance_inflation_factor(X.values, i) for i in range(X.shape[1])]"
      ],
      "execution_count": 0,
      "outputs": []
    },
    {
      "metadata": {
        "id": "SNp7OUutB7hl",
        "colab_type": "code",
        "colab": {}
      },
      "cell_type": "code",
      "source": [
        "columns.insert(0, 'constant')"
      ],
      "execution_count": 0,
      "outputs": []
    },
    {
      "metadata": {
        "id": "EN1mPKWhp2Vn",
        "colab_type": "code",
        "outputId": "d6295cdf-2755-4709-fd07-79614f2e7ba2",
        "colab": {
          "base_uri": "https://localhost:8080/",
          "height": 218
        }
      },
      "cell_type": "code",
      "source": [
        "print(\"Variance Inflation Factors: \\n\", \n",
        "      columns[0],vif[0],'\\n', \n",
        "      columns[1],vif[1],'\\n', \n",
        "      columns[2],vif[2],'\\n', \n",
        "      columns[3],vif[3],'\\n',\n",
        "      columns[4],vif[4],'\\n', \n",
        "      columns[5],vif[5],'\\n', \n",
        "      columns[6],vif[6],'\\n',\n",
        "      columns[7],vif[7],'\\n',\n",
        "      columns[8],vif[8],'\\n', \n",
        "      columns[9],vif[9],'\\n',\n",
        "      columns[10],vif[10])"
      ],
      "execution_count": 0,
      "outputs": [
        {
          "output_type": "stream",
          "text": [
            "Variance Inflation Factors: \n",
            " constant 9307246259.659908 \n",
            " make 1.062153803876568 \n",
            " body 1.1770254847582378 \n",
            " mileage 15.378682502795684 \n",
            " engV 1.0092475690398628 \n",
            " engType 1.1801181616352372 \n",
            " registration 1.1200753549448776 \n",
            " year 358037.2145108427 \n",
            " drive 1.1354800494904929 \n",
            " mileage_squared 12.392822197647993 \n",
            " year_squared 358547.052348688\n"
          ],
          "name": "stdout"
        }
      ]
    },
    {
      "metadata": {
        "id": "1uxYXN04ChaZ",
        "colab_type": "text"
      },
      "cell_type": "markdown",
      "source": [
        "We have multicolinearity, but that might be because we have failed to do something important. We have not scaled our data appropriately, and we have not removed outliers.\n",
        "\n",
        "I'll use scikitlearn's robust scaler as it is quite adept at working with outliers."
      ]
    },
    {
      "metadata": {
        "id": "6LD6n_l_E0TT",
        "colab_type": "code",
        "colab": {}
      },
      "cell_type": "code",
      "source": [
        "X = df.drop(['price', 'log_price'], axis=1)\n",
        "y = df['log_price']\n"
      ],
      "execution_count": 0,
      "outputs": []
    },
    {
      "metadata": {
        "id": "G8QWCokiFMAM",
        "colab_type": "code",
        "outputId": "4b7656dc-6fe9-4210-aa31-a688cfa2d464",
        "colab": {
          "base_uri": "https://localhost:8080/",
          "height": 642
        }
      },
      "cell_type": "code",
      "source": [
        "X = sm.add_constant(X)\n",
        "\n",
        "model = sm.OLS(y, X).fit(cov_type='HC3')\n",
        "predictions = model.predict(X)\n",
        "\n",
        "print_model = model.summary()\n",
        "print(print_model)"
      ],
      "execution_count": 0,
      "outputs": [
        {
          "output_type": "stream",
          "text": [
            "                            OLS Regression Results                            \n",
            "==============================================================================\n",
            "Dep. Variable:              log_price   R-squared:                       0.669\n",
            "Model:                            OLS   Adj. R-squared:                  0.669\n",
            "Method:                 Least Squares   F-statistic:                     1717.\n",
            "Date:                Fri, 18 Jan 2019   Prob (F-statistic):               0.00\n",
            "Time:                        18:09:46   Log-Likelihood:                -6694.4\n",
            "No. Observations:                8326   AIC:                         1.341e+04\n",
            "Df Residuals:                    8315   BIC:                         1.349e+04\n",
            "Df Model:                          10                                         \n",
            "Covariance Type:                  HC3                                         \n",
            "===================================================================================\n",
            "                      coef    std err          z      P>|z|      [0.025      0.975]\n",
            "-----------------------------------------------------------------------------------\n",
            "const            6076.5228    658.329      9.230      0.000    4786.222    7366.824\n",
            "make               -0.0015      0.000     -5.544      0.000      -0.002      -0.001\n",
            "body               -0.0941      0.004    -23.542      0.000      -0.102      -0.086\n",
            "mileage            -0.0006      0.000     -1.919      0.055      -0.001    1.21e-05\n",
            "engV                0.0102      0.003      3.909      0.000       0.005       0.015\n",
            "engType            -0.0442      0.005     -9.457      0.000      -0.053      -0.035\n",
            "registration        0.6747      0.020     34.573      0.000       0.636       0.713\n",
            "year               -6.1652      0.658     -9.374      0.000      -7.454      -4.876\n",
            "drive               0.3805      0.010     38.308      0.000       0.361       0.400\n",
            "mileage_squared   4.11e-06   7.21e-07      5.697      0.000     2.7e-06    5.52e-06\n",
            "year_squared        0.0016      0.000      9.530      0.000       0.001       0.002\n",
            "==============================================================================\n",
            "Omnibus:                      230.185   Durbin-Watson:                   1.916\n",
            "Prob(Omnibus):                  0.000   Jarque-Bera (JB):              523.459\n",
            "Skew:                          -0.125   Prob(JB):                    2.15e-114\n",
            "Kurtosis:                       4.203   Cond. No.                     3.89e+11\n",
            "==============================================================================\n",
            "\n",
            "Warnings:\n",
            "[1] Standard Errors are heteroscedasticity robust (HC3)\n",
            "[2] The condition number is large, 3.89e+11. This might indicate that there are\n",
            "strong multicollinearity or other numerical problems.\n"
          ],
          "name": "stdout"
        }
      ]
    },
    {
      "metadata": {
        "id": "P-ohkC_9GhYb",
        "colab_type": "code",
        "colab": {}
      },
      "cell_type": "code",
      "source": [
        "vif = [variance_inflation_factor(X.values, i) for i in range(X.shape[1])]"
      ],
      "execution_count": 0,
      "outputs": []
    },
    {
      "metadata": {
        "id": "qIp3vcTiGxvg",
        "colab_type": "code",
        "outputId": "03149d15-ac9b-4a0b-b5ed-3f75f75c34d5",
        "colab": {
          "base_uri": "https://localhost:8080/",
          "height": 218
        }
      },
      "cell_type": "code",
      "source": [
        "print(\"Variance Inflation Factors: \\n\", \n",
        "      columns[0],vif[0],'\\n', \n",
        "      columns[1],vif[1],'\\n', \n",
        "      columns[2],vif[2],'\\n', \n",
        "      columns[3],vif[3],'\\n',\n",
        "      columns[4],vif[4],'\\n', \n",
        "      columns[5],vif[5],'\\n', \n",
        "      columns[6],vif[6],'\\n',\n",
        "      columns[7],vif[7],'\\n',\n",
        "      columns[8],vif[8],'\\n', \n",
        "      columns[9],vif[9],'\\n',\n",
        "      columns[10],vif[10])"
      ],
      "execution_count": 0,
      "outputs": [
        {
          "output_type": "stream",
          "text": [
            "Variance Inflation Factors: \n",
            " constant 9307246259.659908 \n",
            " make 1.062153803876568 \n",
            " body 1.1770254847582378 \n",
            " mileage 15.378682502795684 \n",
            " engV 1.0092475690398628 \n",
            " engType 1.1801181616352372 \n",
            " registration 1.1200753549448776 \n",
            " year 358037.2145108427 \n",
            " drive 1.1354800494904929 \n",
            " mileage_squared 12.392822197647993 \n",
            " year_squared 358547.052348688\n"
          ],
          "name": "stdout"
        }
      ]
    },
    {
      "metadata": {
        "id": "-DW4zwsOG2Qn",
        "colab_type": "text"
      },
      "cell_type": "markdown",
      "source": [
        "# Well.\n",
        "\n",
        " Extremely unreliable. But why? Is it due to outliers? Looking back at my pairplots, there are several outliers on the left hand side of the year data.\n",
        "\n",
        "I went back at this point and tried to get rid of them."
      ]
    },
    {
      "metadata": {
        "id": "Pi00ByRIKGXe",
        "colab_type": "text"
      },
      "cell_type": "markdown",
      "source": [
        "Just finished removing outliers for the two specified columns, and while it did reduce the collinearity of year, it still has a very high variance inflation factor, which means the coeffecient is not reliable. The year intuitively seems very important to price, but I'm not sure it's an accurate prediction of price in this case. There must be something we're missing, or have overlooked. Maybe if we split the data into each make having it's own unique independent variable. I also wonder if some of the features were removed on purpose? Or if the collection of data from the source was more minimal. There are so many more independent variables we're missing, our problem could be that we simply don't have enough data.\n",
        "\n",
        "I want to explore this more, rather than just dropping the unreliable coeffecient, but for the sake of time, it'll have to wait."
      ]
    }
  ]
}