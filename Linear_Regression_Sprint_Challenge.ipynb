{
  "nbformat": 4,
  "nbformat_minor": 0,
  "metadata": {
    "colab": {
      "name": "Linear Regression Sprint Challenge.ipynb",
      "version": "0.3.2",
      "provenance": [],
      "include_colab_link": true
    },
    "kernelspec": {
      "name": "python3",
      "display_name": "Python 3"
    }
  },
  "cells": [
    {
      "cell_type": "markdown",
      "metadata": {
        "id": "view-in-github",
        "colab_type": "text"
      },
      "source": [
        "<a href=\"https://colab.research.google.com/github/cocoisland/DS-Unit-2-Sprint-2-Linear-Regression/blob/master/Linear_Regression_Sprint_Challenge.ipynb\" target=\"_parent\"><img src=\"https://colab.research.google.com/assets/colab-badge.svg\" alt=\"Open In Colab\"/></a>"
      ]
    },
    {
      "metadata": {
        "id": "YbiJuv5d2jZ7",
        "colab_type": "code",
        "outputId": "bb8ff722-0921-45aa-ce3c-568ffe80bf11",
        "colab": {
          "base_uri": "https://localhost:8080/",
          "height": 71
        }
      },
      "cell_type": "code",
      "source": [
        "# Import everything you could ever need. ;)\n",
        "import pandas as pd\n",
        "import numpy as np\n",
        "import matplotlib.pyplot as plt\n",
        "import seaborn as sns\n",
        "import statsmodels.api as sm\n",
        "from statsmodels.stats.outliers_influence import variance_inflation_factor\n",
        "from sklearn.model_selection import train_test_split\n",
        "from sklearn.linear_model import LinearRegression\n",
        "from sklearn.metrics import mean_squared_error, r2_score"
      ],
      "execution_count": 1,
      "outputs": [
        {
          "output_type": "stream",
          "text": [
            "/usr/local/lib/python3.6/dist-packages/statsmodels/compat/pandas.py:56: FutureWarning: The pandas.core.datetools module is deprecated and will be removed in a future version. Please use the pandas.tseries module instead.\n",
            "  from pandas.core import datetools\n"
          ],
          "name": "stderr"
        }
      ]
    },
    {
      "metadata": {
        "id": "FgaItuSL3zxO",
        "colab_type": "code",
        "outputId": "26117318-6e59-4801-dcef-6f0dca018ce3",
        "colab": {
          "base_uri": "https://localhost:8080/",
          "height": 215
        }
      },
      "cell_type": "code",
      "source": [
        "# Ukraine Used Car Sale Price Prediction\n",
        "df = pd.read_csv('https://raw.githubusercontent.com/ryanleeallred/datasets/master/car_regression.csv')\n",
        "print(df.shape)\n",
        "df.head()"
      ],
      "execution_count": 2,
      "outputs": [
        {
          "output_type": "stream",
          "text": [
            "(8495, 9)\n"
          ],
          "name": "stdout"
        },
        {
          "output_type": "execute_result",
          "data": {
            "text/html": [
              "<div>\n",
              "<style scoped>\n",
              "    .dataframe tbody tr th:only-of-type {\n",
              "        vertical-align: middle;\n",
              "    }\n",
              "\n",
              "    .dataframe tbody tr th {\n",
              "        vertical-align: top;\n",
              "    }\n",
              "\n",
              "    .dataframe thead th {\n",
              "        text-align: right;\n",
              "    }\n",
              "</style>\n",
              "<table border=\"1\" class=\"dataframe\">\n",
              "  <thead>\n",
              "    <tr style=\"text-align: right;\">\n",
              "      <th></th>\n",
              "      <th>make</th>\n",
              "      <th>price</th>\n",
              "      <th>body</th>\n",
              "      <th>mileage</th>\n",
              "      <th>engV</th>\n",
              "      <th>engType</th>\n",
              "      <th>registration</th>\n",
              "      <th>year</th>\n",
              "      <th>drive</th>\n",
              "    </tr>\n",
              "  </thead>\n",
              "  <tbody>\n",
              "    <tr>\n",
              "      <th>0</th>\n",
              "      <td>23</td>\n",
              "      <td>15500.0</td>\n",
              "      <td>0</td>\n",
              "      <td>68</td>\n",
              "      <td>2.5</td>\n",
              "      <td>1</td>\n",
              "      <td>1</td>\n",
              "      <td>2010</td>\n",
              "      <td>1</td>\n",
              "    </tr>\n",
              "    <tr>\n",
              "      <th>1</th>\n",
              "      <td>50</td>\n",
              "      <td>20500.0</td>\n",
              "      <td>3</td>\n",
              "      <td>173</td>\n",
              "      <td>1.8</td>\n",
              "      <td>1</td>\n",
              "      <td>1</td>\n",
              "      <td>2011</td>\n",
              "      <td>2</td>\n",
              "    </tr>\n",
              "    <tr>\n",
              "      <th>2</th>\n",
              "      <td>50</td>\n",
              "      <td>35000.0</td>\n",
              "      <td>2</td>\n",
              "      <td>135</td>\n",
              "      <td>5.5</td>\n",
              "      <td>3</td>\n",
              "      <td>1</td>\n",
              "      <td>2008</td>\n",
              "      <td>2</td>\n",
              "    </tr>\n",
              "    <tr>\n",
              "      <th>3</th>\n",
              "      <td>50</td>\n",
              "      <td>17800.0</td>\n",
              "      <td>5</td>\n",
              "      <td>162</td>\n",
              "      <td>1.8</td>\n",
              "      <td>0</td>\n",
              "      <td>1</td>\n",
              "      <td>2012</td>\n",
              "      <td>0</td>\n",
              "    </tr>\n",
              "    <tr>\n",
              "      <th>4</th>\n",
              "      <td>55</td>\n",
              "      <td>16600.0</td>\n",
              "      <td>0</td>\n",
              "      <td>83</td>\n",
              "      <td>2.0</td>\n",
              "      <td>3</td>\n",
              "      <td>1</td>\n",
              "      <td>2013</td>\n",
              "      <td>1</td>\n",
              "    </tr>\n",
              "  </tbody>\n",
              "</table>\n",
              "</div>"
            ],
            "text/plain": [
              "   make    price  body  mileage  engV  engType  registration  year  drive\n",
              "0    23  15500.0     0       68   2.5        1             1  2010      1\n",
              "1    50  20500.0     3      173   1.8        1             1  2011      2\n",
              "2    50  35000.0     2      135   5.5        3             1  2008      2\n",
              "3    50  17800.0     5      162   1.8        0             1  2012      0\n",
              "4    55  16600.0     0       83   2.0        3             1  2013      1"
            ]
          },
          "metadata": {
            "tags": []
          },
          "execution_count": 2
        }
      ]
    },
    {
      "metadata": {
        "id": "w9gkF-HNUFAV",
        "colab_type": "text"
      },
      "cell_type": "markdown",
      "source": [
        "# Predictive Modeling with Linear Regression"
      ]
    },
    {
      "metadata": {
        "id": "Vy1SWxcYTAC0",
        "colab_type": "text"
      },
      "cell_type": "markdown",
      "source": [
        "## 1.1 Divide the dataset features into an X matrix and y vector (\"price\" is what we want to predict)."
      ]
    },
    {
      "metadata": {
        "id": "dwMbM9tUUaOQ",
        "colab_type": "code",
        "colab": {
          "base_uri": "https://localhost:8080/",
          "height": 232
        },
        "outputId": "7e767e5d-8707-4d2a-edba-4003d6191e52"
      },
      "cell_type": "code",
      "source": [
        "X=df[df.columns]\n",
        "X=X.drop(['price'], axis=1)\n",
        "y=df.price\n",
        "print('y shape :',y.shape)\n",
        "print('X shape :', X.shape)\n",
        "X.head()"
      ],
      "execution_count": 51,
      "outputs": [
        {
          "output_type": "stream",
          "text": [
            "y shape : (8495,)\n",
            "X shape : (8495, 8)\n"
          ],
          "name": "stdout"
        },
        {
          "output_type": "execute_result",
          "data": {
            "text/html": [
              "<div>\n",
              "<style scoped>\n",
              "    .dataframe tbody tr th:only-of-type {\n",
              "        vertical-align: middle;\n",
              "    }\n",
              "\n",
              "    .dataframe tbody tr th {\n",
              "        vertical-align: top;\n",
              "    }\n",
              "\n",
              "    .dataframe thead th {\n",
              "        text-align: right;\n",
              "    }\n",
              "</style>\n",
              "<table border=\"1\" class=\"dataframe\">\n",
              "  <thead>\n",
              "    <tr style=\"text-align: right;\">\n",
              "      <th></th>\n",
              "      <th>make</th>\n",
              "      <th>body</th>\n",
              "      <th>mileage</th>\n",
              "      <th>engV</th>\n",
              "      <th>engType</th>\n",
              "      <th>registration</th>\n",
              "      <th>year</th>\n",
              "      <th>drive</th>\n",
              "    </tr>\n",
              "  </thead>\n",
              "  <tbody>\n",
              "    <tr>\n",
              "      <th>0</th>\n",
              "      <td>23</td>\n",
              "      <td>0</td>\n",
              "      <td>68</td>\n",
              "      <td>2.5</td>\n",
              "      <td>1</td>\n",
              "      <td>1</td>\n",
              "      <td>2010</td>\n",
              "      <td>1</td>\n",
              "    </tr>\n",
              "    <tr>\n",
              "      <th>1</th>\n",
              "      <td>50</td>\n",
              "      <td>3</td>\n",
              "      <td>173</td>\n",
              "      <td>1.8</td>\n",
              "      <td>1</td>\n",
              "      <td>1</td>\n",
              "      <td>2011</td>\n",
              "      <td>2</td>\n",
              "    </tr>\n",
              "    <tr>\n",
              "      <th>2</th>\n",
              "      <td>50</td>\n",
              "      <td>2</td>\n",
              "      <td>135</td>\n",
              "      <td>5.5</td>\n",
              "      <td>3</td>\n",
              "      <td>1</td>\n",
              "      <td>2008</td>\n",
              "      <td>2</td>\n",
              "    </tr>\n",
              "    <tr>\n",
              "      <th>3</th>\n",
              "      <td>50</td>\n",
              "      <td>5</td>\n",
              "      <td>162</td>\n",
              "      <td>1.8</td>\n",
              "      <td>0</td>\n",
              "      <td>1</td>\n",
              "      <td>2012</td>\n",
              "      <td>0</td>\n",
              "    </tr>\n",
              "    <tr>\n",
              "      <th>4</th>\n",
              "      <td>55</td>\n",
              "      <td>0</td>\n",
              "      <td>83</td>\n",
              "      <td>2.0</td>\n",
              "      <td>3</td>\n",
              "      <td>1</td>\n",
              "      <td>2013</td>\n",
              "      <td>1</td>\n",
              "    </tr>\n",
              "  </tbody>\n",
              "</table>\n",
              "</div>"
            ],
            "text/plain": [
              "   make  body  mileage  engV  engType  registration  year  drive\n",
              "0    23     0       68   2.5        1             1  2010      1\n",
              "1    50     3      173   1.8        1             1  2011      2\n",
              "2    50     2      135   5.5        3             1  2008      2\n",
              "3    50     5      162   1.8        0             1  2012      0\n",
              "4    55     0       83   2.0        3             1  2013      1"
            ]
          },
          "metadata": {
            "tags": []
          },
          "execution_count": 51
        }
      ]
    },
    {
      "metadata": {
        "id": "Uf_SQswNUPwM",
        "colab_type": "text"
      },
      "cell_type": "markdown",
      "source": [
        "## 1.2 Split the data into test and train datasets using train_test_split"
      ]
    },
    {
      "metadata": {
        "id": "iIiELKuKUOgR",
        "colab_type": "code",
        "colab": {}
      },
      "cell_type": "code",
      "source": [
        "X_train, X_test, Y_train, Y_test = train_test_split(X, y, test_size=.5, random_state=42)\n"
      ],
      "execution_count": 0,
      "outputs": []
    },
    {
      "metadata": {
        "id": "0AdXWiwoUstf",
        "colab_type": "text"
      },
      "cell_type": "markdown",
      "source": [
        "## 1.3 Use Scikit-Learn to fit a multiple regression model using your training data."
      ]
    },
    {
      "metadata": {
        "id": "Zw70rt71U1xf",
        "colab_type": "code",
        "colab": {
          "base_uri": "https://localhost:8080/",
          "height": 51
        },
        "outputId": "75c58520-dd15-47fc-b2de-fcbd66de1514"
      },
      "cell_type": "code",
      "source": [
        "model = LinearRegression()\n",
        "model.fit(X_train, Y_train)\n"
      ],
      "execution_count": 53,
      "outputs": [
        {
          "output_type": "execute_result",
          "data": {
            "text/plain": [
              "LinearRegression(copy_X=True, fit_intercept=True, n_jobs=None,\n",
              "         normalize=False)"
            ]
          },
          "metadata": {
            "tags": []
          },
          "execution_count": 53
        }
      ]
    },
    {
      "metadata": {
        "id": "82fH2rilU7j3",
        "colab_type": "text"
      },
      "cell_type": "markdown",
      "source": [
        "## 1.4 Report the Intercept and Coefficient Values for the fitted model"
      ]
    },
    {
      "metadata": {
        "id": "ue6hCHGqVE83",
        "colab_type": "code",
        "colab": {
          "base_uri": "https://localhost:8080/",
          "height": 68
        },
        "outputId": "7e238d30-486f-4d6d-d525-611e4589f232"
      },
      "cell_type": "code",
      "source": [
        "# Coefficients\n",
        "beta_0 = model.intercept_\n",
        "beta_i = model.coef_\n",
        "\n",
        "print('Intercept: ', beta_0)\n",
        "print('Coefficient Values:', beta_i)"
      ],
      "execution_count": 54,
      "outputs": [
        {
          "output_type": "stream",
          "text": [
            "Intercept:  -2184591.0115608736\n",
            "Coefficient Values: [  -35.22479484 -1672.11973555   -37.12848399   269.61582544\n",
            " -1284.74375962  4649.46225339  1098.2829573   7886.89079148]\n"
          ],
          "name": "stdout"
        }
      ]
    },
    {
      "metadata": {
        "id": "T0CV0OnDVZbu",
        "colab_type": "text"
      },
      "cell_type": "markdown",
      "source": [
        "## 1.5 Use the test data to make predictions"
      ]
    },
    {
      "metadata": {
        "id": "vrR5b5c3VwE5",
        "colab_type": "code",
        "colab": {}
      },
      "cell_type": "code",
      "source": [
        "Y_test_predicted = model.predict(X_test)"
      ],
      "execution_count": 0,
      "outputs": []
    },
    {
      "metadata": {
        "id": "ZwQb3gE7VycT",
        "colab_type": "text"
      },
      "cell_type": "markdown",
      "source": [
        "## 1.6 Calculate and report both the Root-Mean-Square error and $R^2$ for the model. "
      ]
    },
    {
      "metadata": {
        "id": "Ym2kjxWhU6b2",
        "colab_type": "code",
        "colab": {
          "base_uri": "https://localhost:8080/",
          "height": 68
        },
        "outputId": "3b35dfc8-9746-49f8-d910-be3cd22d0906"
      },
      "cell_type": "code",
      "source": [
        "MSE = mean_squared_error(Y_test, Y_test_predicted)\n",
        "RMSE = (np.sqrt(mean_squared_error(Y_test, Y_test_predicted)))\n",
        "print('MSE is {}'.format(MSE))\n",
        "print('RMSE is {}'.format(RMSE))\n",
        "\n",
        "R2 = r2_score(Y_test, Y_test_predicted)\n",
        "print('R^2 is {}'.format(R2))"
      ],
      "execution_count": 56,
      "outputs": [
        {
          "output_type": "stream",
          "text": [
            "MSE is 504905647.2241802\n",
            "RMSE is 22470.10563446866\n",
            "R^2 is 0.2694482951962195\n"
          ],
          "name": "stdout"
        }
      ]
    },
    {
      "metadata": {
        "id": "kIXhGHIgXHyJ",
        "colab_type": "text"
      },
      "cell_type": "markdown",
      "source": [
        "## 1.7 How should we interpret the coefficient corresponding to the \"year\" feature?"
      ]
    },
    {
      "metadata": {
        "id": "8jv2n0wAXgHU",
        "colab_type": "text"
      },
      "cell_type": "markdown",
      "source": [
        "The year coefficient is 1098.2829573. This means for every one year changes in X observation, there is 1098.28 value impact on y predicted price."
      ]
    },
    {
      "metadata": {
        "id": "ckQ5GsOtYsjn",
        "colab_type": "text"
      },
      "cell_type": "markdown",
      "source": [
        "## 1.8 How should we interpret the Root-Mean-Square Error?"
      ]
    },
    {
      "metadata": {
        "id": "F982IeSgYyp6",
        "colab_type": "text"
      },
      "cell_type": "markdown",
      "source": [
        "Mean Square Error is summing up all the errors derived by substracting y test from y predicted, then squaring the substraction to remove any negative value and finally divided by number of observations to get the means.\n",
        "\n",
        "Root-Mean-Square is applying square root to bring down the enlargement effect of squaring in the Mean-Square-Error process.\n",
        "\n",
        "Quoted from.\n",
        "\n",
        "[Precision and Bias](http://www.statisticalengineering.com/Weibull/precision-bias.html)\n",
        "Bias is the average difference between the estimator and the true value.  Precision is the standard deviation of the estimator.  One measure of the overall variability is the Mean Squared Error, MSE, which is the average of the individual squared errors.  The MSE is also the sum of the square of the precision and the square of the bias,  Mean Squared Error, so the overall variability, in the same units as the parameter being estimated, is the Root Mean Squared Error, Root Mean Squared Error.   Often the overall variability of a biased estimator is smaller than that for an unbiased estimator,"
      ]
    },
    {
      "metadata": {
        "id": "T3sZrru_YzFF",
        "colab_type": "text"
      },
      "cell_type": "markdown",
      "source": [
        "## 1.9 How should we interpret the $R^2$?"
      ]
    },
    {
      "metadata": {
        "id": "5pN2Oet_Y5jR",
        "colab_type": "text"
      },
      "cell_type": "markdown",
      "source": [
        "R2 is the square of the coefficient of multiple correlation. It is the squaring of the proportional variance in the dependent y test from independent y predicted value. \n",
        "\n",
        "High R2 would likely indicates the predicted y output from the model is closely correlated to the true value y test values. It could mean accurate predictions or overfitting the Linear regression model.\n"
      ]
    },
    {
      "metadata": {
        "id": "Z_VNy7e3Y5sT",
        "colab_type": "text"
      },
      "cell_type": "markdown",
      "source": [
        "# Log-Linear and Polynomial Regression"
      ]
    },
    {
      "metadata": {
        "id": "G2T4FSqRZOJA",
        "colab_type": "text"
      },
      "cell_type": "markdown",
      "source": [
        "## 2.1 Engineer a new variable by taking the log of the price varible."
      ]
    },
    {
      "metadata": {
        "id": "7EChAFNxZX24",
        "colab_type": "code",
        "colab": {}
      },
      "cell_type": "code",
      "source": [
        "y_log = np.log(y)"
      ],
      "execution_count": 0,
      "outputs": []
    },
    {
      "metadata": {
        "id": "R117rxnOZw6q",
        "colab_type": "text"
      },
      "cell_type": "markdown",
      "source": [
        "## 2.2 Use scatterplots or seaborn's pairplot function to do the \"eyeball test\" for non-linearly distributed features."
      ]
    },
    {
      "metadata": {
        "id": "8l56Qk7VaBrU",
        "colab_type": "code",
        "colab": {
          "base_uri": "https://localhost:8080/",
          "height": 205
        },
        "outputId": "cb27a2f4-a7c6-4508-b7c4-d2489411b415"
      },
      "cell_type": "code",
      "source": [
        "sns.set(style=\"ticks\", color_codes=True)\n",
        "\n",
        "# Generate a list of column headers\n",
        "x_columns = X.columns\n",
        "\n",
        "X1 = X.copy()\n",
        "X1['price']=y_log\n",
        "\n",
        "# Only plot the scatterplot of x variables with our y variable\n",
        "fig = sns.pairplot(data=X1, y_vars=['price'], x_vars=x_columns)"
      ],
      "execution_count": 58,
      "outputs": [
        {
          "output_type": "display_data",
          "data": {
            "image/png": "[encoded data removed]",
            "text/plain": [
              "<Figure size 1440x180 with 8 Axes>"
            ]
          },
          "metadata": {
            "tags": []
          }
        }
      ]
    },
    {
      "metadata": {
        "id": "cYDDLdS7AGFs",
        "colab_type": "code",
        "colab": {
          "base_uri": "https://localhost:8080/",
          "height": 378
        },
        "outputId": "527de760-da3a-4fb9-fb04-badfd1b9f415"
      },
      "cell_type": "code",
      "source": [
        "sns.set(style=\"whitegrid\")\n",
        "fig, axs = plt.subplots(ncols=2, nrows=2)\n",
        "sns.residplot(X['mileage'], y_log, lowess=True, color=\"r\", ax=axs[0][0], scatter_kws={'color':'blue'})\n",
        "sns.residplot(X['year'], y_log, lowess=True, color=\"r\", ax=axs[0][1], scatter_kws={'color':'blue'})\n",
        "sns.residplot(X['make'], y_log, lowess=True, color=\"r\", ax=axs[1][0], scatter_kws={'color':'blue'})\n",
        "sns.residplot(X['engType'], y_log, lowess=True, color=\"r\", ax=axs[1][1], scatter_kws={'color':'blue'})"
      ],
      "execution_count": 59,
      "outputs": [
        {
          "output_type": "execute_result",
          "data": {
            "text/plain": [
              "<matplotlib.axes._subplots.AxesSubplot at 0x7f6a7167a0b8>"
            ]
          },
          "metadata": {
            "tags": []
          },
          "execution_count": 59
        },
        {
          "output_type": "display_data",
          "data": {
            "image/png": "[encoded data removed]",
            "text/plain": [
              "<Figure size 576x396 with 4 Axes>"
            ]
          },
          "metadata": {
            "tags": []
          }
        }
      ]
    },
    {
      "metadata": {
        "id": "QTf4gCaDaiCw",
        "colab_type": "text"
      },
      "cell_type": "markdown",
      "source": [
        "## 2.3 If appropriate, create any polynomial features. "
      ]
    },
    {
      "metadata": {
        "id": "ipsCcH83ZMe8",
        "colab_type": "code",
        "colab": {}
      },
      "cell_type": "code",
      "source": [
        "X['mileage_sq']=X['mileage']**2\n",
        "X['year_sq']=X['year']**2"
      ],
      "execution_count": 0,
      "outputs": []
    },
    {
      "metadata": {
        "id": "OJhvVkveDNjE",
        "colab_type": "code",
        "colab": {}
      },
      "cell_type": "code",
      "source": [
        "# to avoid high collinearity between mileage vs mileage_sq, year vs year_sq\n",
        "#X.drop(['mileage','year'], axis=1, inplace=True)"
      ],
      "execution_count": 0,
      "outputs": []
    },
    {
      "metadata": {
        "id": "NJgfD-JLayRA",
        "colab_type": "text"
      },
      "cell_type": "markdown",
      "source": [
        "## 2.4 Use the new log-transformed y variable and your x variables (including any new polynomial features) to fit a new linear regression model. Then report the: intercept, coefficients, RMSE, and $R^2$."
      ]
    },
    {
      "metadata": {
        "id": "uXmtVpnPcFij",
        "colab_type": "code",
        "colab": {
          "base_uri": "https://localhost:8080/",
          "height": 171
        },
        "outputId": "30b46c0f-7f79-48de-f5d6-a5b1aba36e2d"
      },
      "cell_type": "code",
      "source": [
        "X_train, X_test, Y_train, Y_test = train_test_split(X, y_log, test_size=.5, random_state=42)\n",
        "\n",
        "model = LinearRegression()\n",
        "model.fit(X_train, Y_train)\n",
        "\n",
        "intercept = model.intercept_\n",
        "coef = model.coef_\n",
        "\n",
        "print('Intercept: ', intercept)\n",
        "print('Coefficient Values:', coef)\n",
        "print('\\n')\n",
        "MSE = mean_squared_error(Y_test, Y_test_predicted)\n",
        "RMSE = (np.sqrt(mean_squared_error(Y_test, Y_test_predicted)))\n",
        "print('MSE is {}'.format(MSE))\n",
        "print('RMSE is {}'.format(RMSE))\n",
        "\n",
        "R2 = r2_score(Y_test, Y_test_predicted)\n",
        "print('R^2 is {}'.format(R2))"
      ],
      "execution_count": 61,
      "outputs": [
        {
          "output_type": "stream",
          "text": [
            "Intercept:  6367.884923503175\n",
            "Coefficient Values: [-1.60668375e-03 -8.64387922e-02  9.84119698e-04  9.60759460e-03\n",
            " -4.80294292e-02  6.72177364e-01 -6.45583602e+00  3.83372383e-01\n",
            " -6.05343073e-07  1.63788682e-03]\n",
            "\n",
            "\n",
            "MSE is 401703085.4794668\n",
            "RMSE is 20042.531912896306\n",
            "R^2 is -426683043.5545585\n"
          ],
          "name": "stdout"
        }
      ]
    },
    {
      "metadata": {
        "id": "O169Oq96DDxr",
        "colab_type": "code",
        "colab": {
          "base_uri": "https://localhost:8080/",
          "height": 68
        },
        "outputId": "c44071eb-f2cc-4cdb-e7e8-42eb0c96700c"
      },
      "cell_type": "code",
      "source": [
        "X.columns"
      ],
      "execution_count": 62,
      "outputs": [
        {
          "output_type": "execute_result",
          "data": {
            "text/plain": [
              "Index(['make', 'body', 'mileage', 'engV', 'engType', 'registration', 'year',\n",
              "       'drive', 'mileage_sq', 'year_sq'],\n",
              "      dtype='object')"
            ]
          },
          "metadata": {
            "tags": []
          },
          "execution_count": 62
        }
      ]
    },
    {
      "metadata": {
        "id": "hf4_8FXrpHFY",
        "colab_type": "text"
      },
      "cell_type": "markdown",
      "source": [
        "## 2.5 How might we interpret the coefficient on \"year\" in this new regression model?"
      ]
    },
    {
      "metadata": {
        "id": "JVGKvt5WpTf2",
        "colab_type": "text"
      },
      "cell_type": "markdown",
      "source": [
        "The new coefficient of the new year_sq, is much smaller 1.63e-03 than the original year 1098.\n",
        "\n",
        "Linear Regression model tries to correlate y predicted output values with respect to y test value, by causing the new year_sq coefficient very small to compensate for the very large value of year_sq."
      ]
    },
    {
      "metadata": {
        "id": "JUQwzfDRfrQi",
        "colab_type": "text"
      },
      "cell_type": "markdown",
      "source": [
        "# Gradient Descent"
      ]
    },
    {
      "metadata": {
        "id": "M_JLfReVeoYT",
        "colab_type": "text"
      },
      "cell_type": "markdown",
      "source": [
        "## 3.1 What does Gradient Descent seek to minimize?"
      ]
    },
    {
      "metadata": {
        "id": "-ezM_NS2fIJe",
        "colab_type": "text"
      },
      "cell_type": "markdown",
      "source": [
        "Gradient Descent seek to minimize the error of the function with respect to producing y predicted value output to better correlate with the true y test value."
      ]
    },
    {
      "metadata": {
        "id": "unqhNRYnfIL4",
        "colab_type": "text"
      },
      "cell_type": "markdown",
      "source": [
        "## 3.2 What is the \"Learning Rate\" and what is its function?"
      ]
    },
    {
      "metadata": {
        "id": "7jhKwIOVfT6B",
        "colab_type": "text"
      },
      "cell_type": "markdown",
      "source": [
        "Learning rate is a constant used to adjust the number of iterations of computing the cost functions until the cost functions return minimum cost reduction benefits."
      ]
    },
    {
      "metadata": {
        "id": "Gs20FOntprd_",
        "colab_type": "text"
      },
      "cell_type": "markdown",
      "source": [
        "# Model Diagnostics"
      ]
    },
    {
      "metadata": {
        "id": "VJnxkobcpulV",
        "colab_type": "text"
      },
      "cell_type": "markdown",
      "source": [
        "## 4.1 Use statsmodels to run a log-linear or log-polynomial linear regression with robust standard errors."
      ]
    },
    {
      "metadata": {
        "id": "QqCVeYBTpvfQ",
        "colab_type": "code",
        "colab": {
          "base_uri": "https://localhost:8080/",
          "height": 634
        },
        "outputId": "17d5b3dd-d4dc-44da-c3ea-df8cd3bab95c"
      },
      "cell_type": "code",
      "source": [
        "X = sm.add_constant(X)\n",
        "\n",
        "model = sm.OLS(y_log, X).fit(cov_type='HC3')\n",
        "predictions = model.predict(X) \n",
        "\n",
        "print_model = model.summary()\n",
        "print(print_model)"
      ],
      "execution_count": 63,
      "outputs": [
        {
          "output_type": "stream",
          "text": [
            "                            OLS Regression Results                            \n",
            "==============================================================================\n",
            "Dep. Variable:                  price   R-squared:                       0.674\n",
            "Model:                            OLS   Adj. R-squared:                  0.673\n",
            "Method:                 Least Squares   F-statistic:                     1693.\n",
            "Date:                Fri, 18 Jan 2019   Prob (F-statistic):               0.00\n",
            "Time:                        18:06:02   Log-Likelihood:                -6963.9\n",
            "No. Observations:                8495   AIC:                         1.395e+04\n",
            "Df Residuals:                    8484   BIC:                         1.403e+04\n",
            "Df Model:                          10                                         \n",
            "Covariance Type:                  HC3                                         \n",
            "================================================================================\n",
            "                   coef    std err          z      P>|z|      [0.025      0.975]\n",
            "--------------------------------------------------------------------------------\n",
            "const         6524.4284    685.467      9.518      0.000    5180.937    7867.919\n",
            "make            -0.0017      0.000     -6.269      0.000      -0.002      -0.001\n",
            "body            -0.0958      0.004    -23.863      0.000      -0.104      -0.088\n",
            "mileage          0.0008      0.000      3.241      0.001       0.000       0.001\n",
            "engV             0.0085      0.002      3.530      0.000       0.004       0.013\n",
            "engType         -0.0471      0.005     -9.980      0.000      -0.056      -0.038\n",
            "registration     0.6555      0.019     34.157      0.000       0.618       0.693\n",
            "year            -6.6127      0.685     -9.653      0.000      -7.955      -5.270\n",
            "drive            0.3758      0.010     38.521      0.000       0.357       0.395\n",
            "mileage_sq   -2.433e-07   5.07e-07     -0.480      0.631   -1.24e-06     7.5e-07\n",
            "year_sq          0.0017      0.000      9.799      0.000       0.001       0.002\n",
            "==============================================================================\n",
            "Omnibus:                      235.271   Durbin-Watson:                   1.921\n",
            "Prob(Omnibus):                  0.000   Jarque-Bera (JB):              570.046\n",
            "Skew:                          -0.081   Prob(JB):                    1.64e-124\n",
            "Kurtosis:                       4.259   Cond. No.                     2.35e+11\n",
            "==============================================================================\n",
            "\n",
            "Warnings:\n",
            "[1] Standard Errors are heteroscedasticity robust (HC3)\n",
            "[2] The condition number is large, 2.35e+11. This might indicate that there are\n",
            "strong multicollinearity or other numerical problems.\n"
          ],
          "name": "stdout"
        }
      ]
    },
    {
      "metadata": {
        "id": "loKma3wspwVs",
        "colab_type": "text"
      },
      "cell_type": "markdown",
      "source": [
        "## 4.2 Calculate the Variance Inflation Factor (VIF) of our X variables. Do we have multicollinearity problems?"
      ]
    },
    {
      "metadata": {
        "id": "EN1mPKWhp2Vn",
        "colab_type": "code",
        "colab": {
          "base_uri": "https://localhost:8080/",
          "height": 140
        },
        "outputId": "73eb7203-d79b-4281-c93e-dfcac43eec53"
      },
      "cell_type": "code",
      "source": [
        "print(X.columns, '\\n\\n')\n",
        "\n",
        "vif = [variance_inflation_factor(X.values, i) for i in range(X.shape[1])]\n",
        "print(vif)"
      ],
      "execution_count": 64,
      "outputs": [
        {
          "output_type": "stream",
          "text": [
            "Index(['const', 'make', 'body', 'mileage', 'engV', 'engType', 'registration',\n",
            "       'year', 'drive', 'mileage_sq', 'year_sq'],\n",
            "      dtype='object') \n",
            "\n",
            "\n",
            "[3417162393.281383, 1.060435781512386, 1.1700158474025166, 7.512926111847467, 1.010581750735653, 1.1717643635385866, 1.1087266992867202, 164006.04096347353, 1.140498591899409, 5.067267264795855, 164341.01383629531]\n"
          ],
          "name": "stdout"
        }
      ]
    },
    {
      "metadata": {
        "id": "z9LJlNMCHRD_",
        "colab_type": "text"
      },
      "cell_type": "markdown",
      "source": [
        "Yes, the const of all ones have high multicollinearity with all the features.\n",
        "\n",
        "Year and year_sq has high multicollinearity.\n",
        "\n",
        "Mileage and mileage_sq has high multicollinearity even though it is not seen above. Once the const and year are dropped, the high multicollinearity will manifest.\n"
      ]
    }
  ]
}