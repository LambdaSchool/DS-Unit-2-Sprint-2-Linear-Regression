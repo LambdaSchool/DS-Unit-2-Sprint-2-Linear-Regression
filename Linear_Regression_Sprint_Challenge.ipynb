{
 "cells": [
  {
   "cell_type": "code",
   "execution_count": 1,
   "metadata": {
    "colab": {
     "base_uri": "https://localhost:8080/",
     "height": 91
    },
    "colab_type": "code",
    "id": "YbiJuv5d2jZ7",
    "outputId": "749ce910-8342-4f4c-af06-77ae4af74804"
   },
   "outputs": [],
   "source": [
    "#Import everything you could ever need. ;)\n",
    "import pandas as pd\n",
    "import numpy as np\n",
    "import matplotlib.pyplot as plt\n",
    "import seaborn as sns\n",
    "import statsmodels.api as sm\n",
    "from statsmodels.stats.outliers_influence import variance_inflation_factor\n",
    "from sklearn.model_selection import train_test_split\n",
    "from sklearn.linear_model import LinearRegression\n",
    "from sklearn.metrics import mean_squared_error, r2_score"
   ]
  },
  {
   "cell_type": "code",
   "execution_count": 61,
   "metadata": {
    "colab": {
     "base_uri": "https://localhost:8080/",
     "height": 219
    },
    "colab_type": "code",
    "id": "FgaItuSL3zxO",
    "outputId": "839e29ca-12a8-4379-837b-3f869dff380c",
    "scrolled": true
   },
   "outputs": [
    {
     "name": "stdout",
     "output_type": "stream",
     "text": [
      "(8495, 9)\n"
     ]
    },
    {
     "data": {
      "text/html": [
       "<div>\n",
       "<style scoped>\n",
       "    .dataframe tbody tr th:only-of-type {\n",
       "        vertical-align: middle;\n",
       "    }\n",
       "\n",
       "    .dataframe tbody tr th {\n",
       "        vertical-align: top;\n",
       "    }\n",
       "\n",
       "    .dataframe thead th {\n",
       "        text-align: right;\n",
       "    }\n",
       "</style>\n",
       "<table border=\"1\" class=\"dataframe\">\n",
       "  <thead>\n",
       "    <tr style=\"text-align: right;\">\n",
       "      <th></th>\n",
       "      <th>make</th>\n",
       "      <th>price</th>\n",
       "      <th>body</th>\n",
       "      <th>mileage</th>\n",
       "      <th>engV</th>\n",
       "      <th>engType</th>\n",
       "      <th>registration</th>\n",
       "      <th>year</th>\n",
       "      <th>drive</th>\n",
       "    </tr>\n",
       "  </thead>\n",
       "  <tbody>\n",
       "    <tr>\n",
       "      <th>0</th>\n",
       "      <td>23</td>\n",
       "      <td>15500.0</td>\n",
       "      <td>0</td>\n",
       "      <td>68</td>\n",
       "      <td>2.5</td>\n",
       "      <td>1</td>\n",
       "      <td>1</td>\n",
       "      <td>2010</td>\n",
       "      <td>1</td>\n",
       "    </tr>\n",
       "    <tr>\n",
       "      <th>1</th>\n",
       "      <td>50</td>\n",
       "      <td>20500.0</td>\n",
       "      <td>3</td>\n",
       "      <td>173</td>\n",
       "      <td>1.8</td>\n",
       "      <td>1</td>\n",
       "      <td>1</td>\n",
       "      <td>2011</td>\n",
       "      <td>2</td>\n",
       "    </tr>\n",
       "    <tr>\n",
       "      <th>2</th>\n",
       "      <td>50</td>\n",
       "      <td>35000.0</td>\n",
       "      <td>2</td>\n",
       "      <td>135</td>\n",
       "      <td>5.5</td>\n",
       "      <td>3</td>\n",
       "      <td>1</td>\n",
       "      <td>2008</td>\n",
       "      <td>2</td>\n",
       "    </tr>\n",
       "    <tr>\n",
       "      <th>3</th>\n",
       "      <td>50</td>\n",
       "      <td>17800.0</td>\n",
       "      <td>5</td>\n",
       "      <td>162</td>\n",
       "      <td>1.8</td>\n",
       "      <td>0</td>\n",
       "      <td>1</td>\n",
       "      <td>2012</td>\n",
       "      <td>0</td>\n",
       "    </tr>\n",
       "    <tr>\n",
       "      <th>4</th>\n",
       "      <td>55</td>\n",
       "      <td>16600.0</td>\n",
       "      <td>0</td>\n",
       "      <td>83</td>\n",
       "      <td>2.0</td>\n",
       "      <td>3</td>\n",
       "      <td>1</td>\n",
       "      <td>2013</td>\n",
       "      <td>1</td>\n",
       "    </tr>\n",
       "  </tbody>\n",
       "</table>\n",
       "</div>"
      ],
      "text/plain": [
       "   make    price  body  mileage  engV  engType  registration  year  drive\n",
       "0    23  15500.0     0       68   2.5        1             1  2010      1\n",
       "1    50  20500.0     3      173   1.8        1             1  2011      2\n",
       "2    50  35000.0     2      135   5.5        3             1  2008      2\n",
       "3    50  17800.0     5      162   1.8        0             1  2012      0\n",
       "4    55  16600.0     0       83   2.0        3             1  2013      1"
      ]
     },
     "execution_count": 61,
     "metadata": {},
     "output_type": "execute_result"
    }
   ],
   "source": [
    "# Ukraine Used Car Sale Price Prediction\n",
    "df = pd.read_csv('https://raw.githubusercontent.com/ryanleeallred/datasets/master/car_regression.csv')\n",
    "print(df.shape)\n",
    "df.head()"
   ]
  },
  {
   "cell_type": "code",
   "execution_count": 57,
   "metadata": {
    "scrolled": true
   },
   "outputs": [
    {
     "data": {
      "text/html": [
       "<div>\n",
       "<style scoped>\n",
       "    .dataframe tbody tr th:only-of-type {\n",
       "        vertical-align: middle;\n",
       "    }\n",
       "\n",
       "    .dataframe tbody tr th {\n",
       "        vertical-align: top;\n",
       "    }\n",
       "\n",
       "    .dataframe thead th {\n",
       "        text-align: right;\n",
       "    }\n",
       "</style>\n",
       "<table border=\"1\" class=\"dataframe\">\n",
       "  <thead>\n",
       "    <tr style=\"text-align: right;\">\n",
       "      <th></th>\n",
       "      <th>make</th>\n",
       "      <th>price</th>\n",
       "      <th>body</th>\n",
       "      <th>mileage</th>\n",
       "      <th>engV</th>\n",
       "      <th>engType</th>\n",
       "      <th>registration</th>\n",
       "      <th>year</th>\n",
       "      <th>drive</th>\n",
       "    </tr>\n",
       "  </thead>\n",
       "  <tbody>\n",
       "    <tr>\n",
       "      <th>0</th>\n",
       "      <td>23</td>\n",
       "      <td>15500.000</td>\n",
       "      <td>0</td>\n",
       "      <td>68</td>\n",
       "      <td>2.50</td>\n",
       "      <td>1</td>\n",
       "      <td>1</td>\n",
       "      <td>2010</td>\n",
       "      <td>1</td>\n",
       "    </tr>\n",
       "    <tr>\n",
       "      <th>1</th>\n",
       "      <td>50</td>\n",
       "      <td>20500.000</td>\n",
       "      <td>3</td>\n",
       "      <td>173</td>\n",
       "      <td>1.80</td>\n",
       "      <td>1</td>\n",
       "      <td>1</td>\n",
       "      <td>2011</td>\n",
       "      <td>2</td>\n",
       "    </tr>\n",
       "    <tr>\n",
       "      <th>2</th>\n",
       "      <td>50</td>\n",
       "      <td>35000.000</td>\n",
       "      <td>2</td>\n",
       "      <td>135</td>\n",
       "      <td>5.50</td>\n",
       "      <td>3</td>\n",
       "      <td>1</td>\n",
       "      <td>2008</td>\n",
       "      <td>2</td>\n",
       "    </tr>\n",
       "    <tr>\n",
       "      <th>3</th>\n",
       "      <td>50</td>\n",
       "      <td>17800.000</td>\n",
       "      <td>5</td>\n",
       "      <td>162</td>\n",
       "      <td>1.80</td>\n",
       "      <td>0</td>\n",
       "      <td>1</td>\n",
       "      <td>2012</td>\n",
       "      <td>0</td>\n",
       "    </tr>\n",
       "    <tr>\n",
       "      <th>4</th>\n",
       "      <td>55</td>\n",
       "      <td>16600.000</td>\n",
       "      <td>0</td>\n",
       "      <td>83</td>\n",
       "      <td>2.00</td>\n",
       "      <td>3</td>\n",
       "      <td>1</td>\n",
       "      <td>2013</td>\n",
       "      <td>1</td>\n",
       "    </tr>\n",
       "    <tr>\n",
       "      <th>5</th>\n",
       "      <td>30</td>\n",
       "      <td>6500.000</td>\n",
       "      <td>3</td>\n",
       "      <td>199</td>\n",
       "      <td>2.00</td>\n",
       "      <td>3</td>\n",
       "      <td>1</td>\n",
       "      <td>2003</td>\n",
       "      <td>0</td>\n",
       "    </tr>\n",
       "    <tr>\n",
       "      <th>6</th>\n",
       "      <td>59</td>\n",
       "      <td>10500.000</td>\n",
       "      <td>4</td>\n",
       "      <td>185</td>\n",
       "      <td>1.50</td>\n",
       "      <td>0</td>\n",
       "      <td>1</td>\n",
       "      <td>2011</td>\n",
       "      <td>0</td>\n",
       "    </tr>\n",
       "    <tr>\n",
       "      <th>7</th>\n",
       "      <td>50</td>\n",
       "      <td>21500.000</td>\n",
       "      <td>3</td>\n",
       "      <td>146</td>\n",
       "      <td>1.80</td>\n",
       "      <td>1</td>\n",
       "      <td>1</td>\n",
       "      <td>2012</td>\n",
       "      <td>2</td>\n",
       "    </tr>\n",
       "    <tr>\n",
       "      <th>8</th>\n",
       "      <td>50</td>\n",
       "      <td>22700.000</td>\n",
       "      <td>3</td>\n",
       "      <td>125</td>\n",
       "      <td>2.20</td>\n",
       "      <td>0</td>\n",
       "      <td>1</td>\n",
       "      <td>2010</td>\n",
       "      <td>2</td>\n",
       "    </tr>\n",
       "    <tr>\n",
       "      <th>9</th>\n",
       "      <td>55</td>\n",
       "      <td>20447.154</td>\n",
       "      <td>0</td>\n",
       "      <td>0</td>\n",
       "      <td>1.20</td>\n",
       "      <td>3</td>\n",
       "      <td>1</td>\n",
       "      <td>2016</td>\n",
       "      <td>0</td>\n",
       "    </tr>\n",
       "    <tr>\n",
       "      <th>10</th>\n",
       "      <td>50</td>\n",
       "      <td>20400.000</td>\n",
       "      <td>3</td>\n",
       "      <td>190</td>\n",
       "      <td>1.80</td>\n",
       "      <td>1</td>\n",
       "      <td>1</td>\n",
       "      <td>2011</td>\n",
       "      <td>2</td>\n",
       "    </tr>\n",
       "    <tr>\n",
       "      <th>11</th>\n",
       "      <td>50</td>\n",
       "      <td>22500.000</td>\n",
       "      <td>3</td>\n",
       "      <td>164</td>\n",
       "      <td>1.80</td>\n",
       "      <td>1</td>\n",
       "      <td>1</td>\n",
       "      <td>2012</td>\n",
       "      <td>2</td>\n",
       "    </tr>\n",
       "    <tr>\n",
       "      <th>12</th>\n",
       "      <td>50</td>\n",
       "      <td>21500.000</td>\n",
       "      <td>3</td>\n",
       "      <td>159</td>\n",
       "      <td>1.80</td>\n",
       "      <td>1</td>\n",
       "      <td>1</td>\n",
       "      <td>2012</td>\n",
       "      <td>2</td>\n",
       "    </tr>\n",
       "    <tr>\n",
       "      <th>13</th>\n",
       "      <td>5</td>\n",
       "      <td>19999.000</td>\n",
       "      <td>3</td>\n",
       "      <td>290</td>\n",
       "      <td>4.80</td>\n",
       "      <td>3</td>\n",
       "      <td>1</td>\n",
       "      <td>2006</td>\n",
       "      <td>2</td>\n",
       "    </tr>\n",
       "    <tr>\n",
       "      <th>14</th>\n",
       "      <td>5</td>\n",
       "      <td>129222.000</td>\n",
       "      <td>3</td>\n",
       "      <td>2</td>\n",
       "      <td>5.00</td>\n",
       "      <td>3</td>\n",
       "      <td>1</td>\n",
       "      <td>2016</td>\n",
       "      <td>1</td>\n",
       "    </tr>\n",
       "    <tr>\n",
       "      <th>15</th>\n",
       "      <td>50</td>\n",
       "      <td>99999.000</td>\n",
       "      <td>0</td>\n",
       "      <td>0</td>\n",
       "      <td>3.00</td>\n",
       "      <td>3</td>\n",
       "      <td>1</td>\n",
       "      <td>2016</td>\n",
       "      <td>1</td>\n",
       "    </tr>\n",
       "    <tr>\n",
       "      <th>16</th>\n",
       "      <td>55</td>\n",
       "      <td>16600.000</td>\n",
       "      <td>0</td>\n",
       "      <td>83</td>\n",
       "      <td>2.00</td>\n",
       "      <td>3</td>\n",
       "      <td>1</td>\n",
       "      <td>2013</td>\n",
       "      <td>1</td>\n",
       "    </tr>\n",
       "    <tr>\n",
       "      <th>17</th>\n",
       "      <td>5</td>\n",
       "      <td>73900.000</td>\n",
       "      <td>3</td>\n",
       "      <td>57</td>\n",
       "      <td>4.40</td>\n",
       "      <td>3</td>\n",
       "      <td>1</td>\n",
       "      <td>2013</td>\n",
       "      <td>2</td>\n",
       "    </tr>\n",
       "    <tr>\n",
       "      <th>18</th>\n",
       "      <td>55</td>\n",
       "      <td>26033.553</td>\n",
       "      <td>0</td>\n",
       "      <td>0</td>\n",
       "      <td>1.60</td>\n",
       "      <td>0</td>\n",
       "      <td>1</td>\n",
       "      <td>2016</td>\n",
       "      <td>1</td>\n",
       "    </tr>\n",
       "    <tr>\n",
       "      <th>19</th>\n",
       "      <td>5</td>\n",
       "      <td>104999.000</td>\n",
       "      <td>0</td>\n",
       "      <td>2</td>\n",
       "      <td>3.00</td>\n",
       "      <td>0</td>\n",
       "      <td>1</td>\n",
       "      <td>2016</td>\n",
       "      <td>1</td>\n",
       "    </tr>\n",
       "    <tr>\n",
       "      <th>20</th>\n",
       "      <td>5</td>\n",
       "      <td>66500.000</td>\n",
       "      <td>0</td>\n",
       "      <td>1</td>\n",
       "      <td>2.00</td>\n",
       "      <td>0</td>\n",
       "      <td>1</td>\n",
       "      <td>2016</td>\n",
       "      <td>1</td>\n",
       "    </tr>\n",
       "    <tr>\n",
       "      <th>21</th>\n",
       "      <td>5</td>\n",
       "      <td>65099.000</td>\n",
       "      <td>0</td>\n",
       "      <td>0</td>\n",
       "      <td>2.00</td>\n",
       "      <td>0</td>\n",
       "      <td>1</td>\n",
       "      <td>2016</td>\n",
       "      <td>1</td>\n",
       "    </tr>\n",
       "    <tr>\n",
       "      <th>22</th>\n",
       "      <td>5</td>\n",
       "      <td>23900.000</td>\n",
       "      <td>0</td>\n",
       "      <td>235</td>\n",
       "      <td>3.00</td>\n",
       "      <td>0</td>\n",
       "      <td>1</td>\n",
       "      <td>2007</td>\n",
       "      <td>1</td>\n",
       "    </tr>\n",
       "    <tr>\n",
       "      <th>23</th>\n",
       "      <td>50</td>\n",
       "      <td>69999.000</td>\n",
       "      <td>0</td>\n",
       "      <td>0</td>\n",
       "      <td>2.20</td>\n",
       "      <td>0</td>\n",
       "      <td>1</td>\n",
       "      <td>2016</td>\n",
       "      <td>1</td>\n",
       "    </tr>\n",
       "    <tr>\n",
       "      <th>24</th>\n",
       "      <td>5</td>\n",
       "      <td>66200.000</td>\n",
       "      <td>0</td>\n",
       "      <td>70</td>\n",
       "      <td>3.00</td>\n",
       "      <td>0</td>\n",
       "      <td>1</td>\n",
       "      <td>2014</td>\n",
       "      <td>1</td>\n",
       "    </tr>\n",
       "    <tr>\n",
       "      <th>25</th>\n",
       "      <td>5</td>\n",
       "      <td>63000.000</td>\n",
       "      <td>0</td>\n",
       "      <td>0</td>\n",
       "      <td>2.00</td>\n",
       "      <td>0</td>\n",
       "      <td>1</td>\n",
       "      <td>2015</td>\n",
       "      <td>1</td>\n",
       "    </tr>\n",
       "    <tr>\n",
       "      <th>26</th>\n",
       "      <td>50</td>\n",
       "      <td>105999.000</td>\n",
       "      <td>0</td>\n",
       "      <td>0</td>\n",
       "      <td>2.98</td>\n",
       "      <td>0</td>\n",
       "      <td>1</td>\n",
       "      <td>2016</td>\n",
       "      <td>1</td>\n",
       "    </tr>\n",
       "    <tr>\n",
       "      <th>27</th>\n",
       "      <td>77</td>\n",
       "      <td>10700.000</td>\n",
       "      <td>3</td>\n",
       "      <td>147</td>\n",
       "      <td>2.00</td>\n",
       "      <td>3</td>\n",
       "      <td>1</td>\n",
       "      <td>2007</td>\n",
       "      <td>0</td>\n",
       "    </tr>\n",
       "    <tr>\n",
       "      <th>28</th>\n",
       "      <td>4</td>\n",
       "      <td>2600.000</td>\n",
       "      <td>4</td>\n",
       "      <td>273</td>\n",
       "      <td>2.50</td>\n",
       "      <td>0</td>\n",
       "      <td>0</td>\n",
       "      <td>1999</td>\n",
       "      <td>0</td>\n",
       "    </tr>\n",
       "    <tr>\n",
       "      <th>29</th>\n",
       "      <td>13</td>\n",
       "      <td>13700.000</td>\n",
       "      <td>3</td>\n",
       "      <td>70</td>\n",
       "      <td>2.40</td>\n",
       "      <td>3</td>\n",
       "      <td>1</td>\n",
       "      <td>2008</td>\n",
       "      <td>0</td>\n",
       "    </tr>\n",
       "    <tr>\n",
       "      <th>...</th>\n",
       "      <td>...</td>\n",
       "      <td>...</td>\n",
       "      <td>...</td>\n",
       "      <td>...</td>\n",
       "      <td>...</td>\n",
       "      <td>...</td>\n",
       "      <td>...</td>\n",
       "      <td>...</td>\n",
       "      <td>...</td>\n",
       "    </tr>\n",
       "    <tr>\n",
       "      <th>8465</th>\n",
       "      <td>55</td>\n",
       "      <td>20000.000</td>\n",
       "      <td>1</td>\n",
       "      <td>43</td>\n",
       "      <td>1.60</td>\n",
       "      <td>3</td>\n",
       "      <td>1</td>\n",
       "      <td>2013</td>\n",
       "      <td>0</td>\n",
       "    </tr>\n",
       "    <tr>\n",
       "      <th>8466</th>\n",
       "      <td>23</td>\n",
       "      <td>1200.000</td>\n",
       "      <td>4</td>\n",
       "      <td>242</td>\n",
       "      <td>2.90</td>\n",
       "      <td>3</td>\n",
       "      <td>1</td>\n",
       "      <td>1976</td>\n",
       "      <td>2</td>\n",
       "    </tr>\n",
       "    <tr>\n",
       "      <th>8467</th>\n",
       "      <td>52</td>\n",
       "      <td>12900.000</td>\n",
       "      <td>3</td>\n",
       "      <td>40</td>\n",
       "      <td>2.00</td>\n",
       "      <td>3</td>\n",
       "      <td>1</td>\n",
       "      <td>2013</td>\n",
       "      <td>1</td>\n",
       "    </tr>\n",
       "    <tr>\n",
       "      <th>8468</th>\n",
       "      <td>34</td>\n",
       "      <td>34600.000</td>\n",
       "      <td>0</td>\n",
       "      <td>31</td>\n",
       "      <td>2.50</td>\n",
       "      <td>3</td>\n",
       "      <td>1</td>\n",
       "      <td>2014</td>\n",
       "      <td>1</td>\n",
       "    </tr>\n",
       "    <tr>\n",
       "      <th>8469</th>\n",
       "      <td>67</td>\n",
       "      <td>9899.000</td>\n",
       "      <td>4</td>\n",
       "      <td>174</td>\n",
       "      <td>1.60</td>\n",
       "      <td>0</td>\n",
       "      <td>0</td>\n",
       "      <td>2012</td>\n",
       "      <td>0</td>\n",
       "    </tr>\n",
       "    <tr>\n",
       "      <th>8470</th>\n",
       "      <td>5</td>\n",
       "      <td>44800.000</td>\n",
       "      <td>3</td>\n",
       "      <td>63</td>\n",
       "      <td>4.40</td>\n",
       "      <td>3</td>\n",
       "      <td>1</td>\n",
       "      <td>2012</td>\n",
       "      <td>2</td>\n",
       "    </tr>\n",
       "    <tr>\n",
       "      <th>8471</th>\n",
       "      <td>56</td>\n",
       "      <td>10450.000</td>\n",
       "      <td>5</td>\n",
       "      <td>98</td>\n",
       "      <td>2.00</td>\n",
       "      <td>0</td>\n",
       "      <td>1</td>\n",
       "      <td>2013</td>\n",
       "      <td>0</td>\n",
       "    </tr>\n",
       "    <tr>\n",
       "      <th>8472</th>\n",
       "      <td>22</td>\n",
       "      <td>4500.000</td>\n",
       "      <td>5</td>\n",
       "      <td>190</td>\n",
       "      <td>1.90</td>\n",
       "      <td>0</td>\n",
       "      <td>1</td>\n",
       "      <td>2001</td>\n",
       "      <td>0</td>\n",
       "    </tr>\n",
       "    <tr>\n",
       "      <th>8473</th>\n",
       "      <td>76</td>\n",
       "      <td>2750.000</td>\n",
       "      <td>3</td>\n",
       "      <td>130</td>\n",
       "      <td>1.50</td>\n",
       "      <td>1</td>\n",
       "      <td>1</td>\n",
       "      <td>2007</td>\n",
       "      <td>0</td>\n",
       "    </tr>\n",
       "    <tr>\n",
       "      <th>8474</th>\n",
       "      <td>80</td>\n",
       "      <td>2100.000</td>\n",
       "      <td>3</td>\n",
       "      <td>68</td>\n",
       "      <td>1.20</td>\n",
       "      <td>3</td>\n",
       "      <td>1</td>\n",
       "      <td>2006</td>\n",
       "      <td>0</td>\n",
       "    </tr>\n",
       "    <tr>\n",
       "      <th>8475</th>\n",
       "      <td>50</td>\n",
       "      <td>2499.000</td>\n",
       "      <td>1</td>\n",
       "      <td>201</td>\n",
       "      <td>1.70</td>\n",
       "      <td>0</td>\n",
       "      <td>0</td>\n",
       "      <td>2001</td>\n",
       "      <td>0</td>\n",
       "    </tr>\n",
       "    <tr>\n",
       "      <th>8476</th>\n",
       "      <td>14</td>\n",
       "      <td>12700.000</td>\n",
       "      <td>2</td>\n",
       "      <td>86</td>\n",
       "      <td>1.60</td>\n",
       "      <td>3</td>\n",
       "      <td>1</td>\n",
       "      <td>2012</td>\n",
       "      <td>0</td>\n",
       "    </tr>\n",
       "    <tr>\n",
       "      <th>8477</th>\n",
       "      <td>77</td>\n",
       "      <td>9900.000</td>\n",
       "      <td>2</td>\n",
       "      <td>178</td>\n",
       "      <td>2.50</td>\n",
       "      <td>0</td>\n",
       "      <td>1</td>\n",
       "      <td>2007</td>\n",
       "      <td>0</td>\n",
       "    </tr>\n",
       "    <tr>\n",
       "      <th>8478</th>\n",
       "      <td>12</td>\n",
       "      <td>5600.000</td>\n",
       "      <td>1</td>\n",
       "      <td>159</td>\n",
       "      <td>1.60</td>\n",
       "      <td>3</td>\n",
       "      <td>1</td>\n",
       "      <td>2008</td>\n",
       "      <td>0</td>\n",
       "    </tr>\n",
       "    <tr>\n",
       "      <th>8479</th>\n",
       "      <td>74</td>\n",
       "      <td>21900.000</td>\n",
       "      <td>3</td>\n",
       "      <td>88</td>\n",
       "      <td>2.50</td>\n",
       "      <td>3</td>\n",
       "      <td>1</td>\n",
       "      <td>2012</td>\n",
       "      <td>0</td>\n",
       "    </tr>\n",
       "    <tr>\n",
       "      <th>8480</th>\n",
       "      <td>77</td>\n",
       "      <td>7900.000</td>\n",
       "      <td>2</td>\n",
       "      <td>168</td>\n",
       "      <td>1.90</td>\n",
       "      <td>0</td>\n",
       "      <td>1</td>\n",
       "      <td>2006</td>\n",
       "      <td>0</td>\n",
       "    </tr>\n",
       "    <tr>\n",
       "      <th>8481</th>\n",
       "      <td>33</td>\n",
       "      <td>5200.000</td>\n",
       "      <td>2</td>\n",
       "      <td>250</td>\n",
       "      <td>2.50</td>\n",
       "      <td>0</td>\n",
       "      <td>1</td>\n",
       "      <td>2005</td>\n",
       "      <td>2</td>\n",
       "    </tr>\n",
       "    <tr>\n",
       "      <th>8482</th>\n",
       "      <td>12</td>\n",
       "      <td>3250.000</td>\n",
       "      <td>3</td>\n",
       "      <td>200</td>\n",
       "      <td>1.60</td>\n",
       "      <td>3</td>\n",
       "      <td>1</td>\n",
       "      <td>2007</td>\n",
       "      <td>0</td>\n",
       "    </tr>\n",
       "    <tr>\n",
       "      <th>8483</th>\n",
       "      <td>67</td>\n",
       "      <td>6100.000</td>\n",
       "      <td>4</td>\n",
       "      <td>84</td>\n",
       "      <td>1.20</td>\n",
       "      <td>3</td>\n",
       "      <td>1</td>\n",
       "      <td>2007</td>\n",
       "      <td>0</td>\n",
       "    </tr>\n",
       "    <tr>\n",
       "      <th>8484</th>\n",
       "      <td>77</td>\n",
       "      <td>9300.000</td>\n",
       "      <td>5</td>\n",
       "      <td>176</td>\n",
       "      <td>1.90</td>\n",
       "      <td>0</td>\n",
       "      <td>1</td>\n",
       "      <td>2005</td>\n",
       "      <td>0</td>\n",
       "    </tr>\n",
       "    <tr>\n",
       "      <th>8485</th>\n",
       "      <td>50</td>\n",
       "      <td>8900.000</td>\n",
       "      <td>1</td>\n",
       "      <td>155</td>\n",
       "      <td>1.50</td>\n",
       "      <td>3</td>\n",
       "      <td>1</td>\n",
       "      <td>2005</td>\n",
       "      <td>0</td>\n",
       "    </tr>\n",
       "    <tr>\n",
       "      <th>8486</th>\n",
       "      <td>38</td>\n",
       "      <td>13990.000</td>\n",
       "      <td>0</td>\n",
       "      <td>210</td>\n",
       "      <td>3.00</td>\n",
       "      <td>0</td>\n",
       "      <td>1</td>\n",
       "      <td>2006</td>\n",
       "      <td>1</td>\n",
       "    </tr>\n",
       "    <tr>\n",
       "      <th>8487</th>\n",
       "      <td>50</td>\n",
       "      <td>5000.000</td>\n",
       "      <td>4</td>\n",
       "      <td>248</td>\n",
       "      <td>2.00</td>\n",
       "      <td>1</td>\n",
       "      <td>1</td>\n",
       "      <td>1996</td>\n",
       "      <td>2</td>\n",
       "    </tr>\n",
       "    <tr>\n",
       "      <th>8488</th>\n",
       "      <td>77</td>\n",
       "      <td>18000.000</td>\n",
       "      <td>0</td>\n",
       "      <td>155</td>\n",
       "      <td>2.00</td>\n",
       "      <td>0</td>\n",
       "      <td>1</td>\n",
       "      <td>2011</td>\n",
       "      <td>1</td>\n",
       "    </tr>\n",
       "    <tr>\n",
       "      <th>8489</th>\n",
       "      <td>74</td>\n",
       "      <td>14474.000</td>\n",
       "      <td>0</td>\n",
       "      <td>115</td>\n",
       "      <td>2.00</td>\n",
       "      <td>3</td>\n",
       "      <td>1</td>\n",
       "      <td>2007</td>\n",
       "      <td>1</td>\n",
       "    </tr>\n",
       "    <tr>\n",
       "      <th>8490</th>\n",
       "      <td>33</td>\n",
       "      <td>14500.000</td>\n",
       "      <td>0</td>\n",
       "      <td>140</td>\n",
       "      <td>2.00</td>\n",
       "      <td>1</td>\n",
       "      <td>1</td>\n",
       "      <td>2011</td>\n",
       "      <td>0</td>\n",
       "    </tr>\n",
       "    <tr>\n",
       "      <th>8491</th>\n",
       "      <td>77</td>\n",
       "      <td>2200.000</td>\n",
       "      <td>4</td>\n",
       "      <td>150</td>\n",
       "      <td>1.60</td>\n",
       "      <td>3</td>\n",
       "      <td>1</td>\n",
       "      <td>1986</td>\n",
       "      <td>0</td>\n",
       "    </tr>\n",
       "    <tr>\n",
       "      <th>8492</th>\n",
       "      <td>50</td>\n",
       "      <td>18500.000</td>\n",
       "      <td>0</td>\n",
       "      <td>180</td>\n",
       "      <td>3.50</td>\n",
       "      <td>3</td>\n",
       "      <td>1</td>\n",
       "      <td>2008</td>\n",
       "      <td>1</td>\n",
       "    </tr>\n",
       "    <tr>\n",
       "      <th>8493</th>\n",
       "      <td>43</td>\n",
       "      <td>16999.000</td>\n",
       "      <td>3</td>\n",
       "      <td>150</td>\n",
       "      <td>3.50</td>\n",
       "      <td>1</td>\n",
       "      <td>1</td>\n",
       "      <td>2008</td>\n",
       "      <td>0</td>\n",
       "    </tr>\n",
       "    <tr>\n",
       "      <th>8494</th>\n",
       "      <td>4</td>\n",
       "      <td>22500.000</td>\n",
       "      <td>2</td>\n",
       "      <td>71</td>\n",
       "      <td>3.60</td>\n",
       "      <td>3</td>\n",
       "      <td>1</td>\n",
       "      <td>2007</td>\n",
       "      <td>1</td>\n",
       "    </tr>\n",
       "  </tbody>\n",
       "</table>\n",
       "<p>8495 rows × 9 columns</p>\n",
       "</div>"
      ],
      "text/plain": [
       "      make       price  body  mileage  engV  engType  registration  year  \\\n",
       "0       23   15500.000     0       68  2.50        1             1  2010   \n",
       "1       50   20500.000     3      173  1.80        1             1  2011   \n",
       "2       50   35000.000     2      135  5.50        3             1  2008   \n",
       "3       50   17800.000     5      162  1.80        0             1  2012   \n",
       "4       55   16600.000     0       83  2.00        3             1  2013   \n",
       "5       30    6500.000     3      199  2.00        3             1  2003   \n",
       "6       59   10500.000     4      185  1.50        0             1  2011   \n",
       "7       50   21500.000     3      146  1.80        1             1  2012   \n",
       "8       50   22700.000     3      125  2.20        0             1  2010   \n",
       "9       55   20447.154     0        0  1.20        3             1  2016   \n",
       "10      50   20400.000     3      190  1.80        1             1  2011   \n",
       "11      50   22500.000     3      164  1.80        1             1  2012   \n",
       "12      50   21500.000     3      159  1.80        1             1  2012   \n",
       "13       5   19999.000     3      290  4.80        3             1  2006   \n",
       "14       5  129222.000     3        2  5.00        3             1  2016   \n",
       "15      50   99999.000     0        0  3.00        3             1  2016   \n",
       "16      55   16600.000     0       83  2.00        3             1  2013   \n",
       "17       5   73900.000     3       57  4.40        3             1  2013   \n",
       "18      55   26033.553     0        0  1.60        0             1  2016   \n",
       "19       5  104999.000     0        2  3.00        0             1  2016   \n",
       "20       5   66500.000     0        1  2.00        0             1  2016   \n",
       "21       5   65099.000     0        0  2.00        0             1  2016   \n",
       "22       5   23900.000     0      235  3.00        0             1  2007   \n",
       "23      50   69999.000     0        0  2.20        0             1  2016   \n",
       "24       5   66200.000     0       70  3.00        0             1  2014   \n",
       "25       5   63000.000     0        0  2.00        0             1  2015   \n",
       "26      50  105999.000     0        0  2.98        0             1  2016   \n",
       "27      77   10700.000     3      147  2.00        3             1  2007   \n",
       "28       4    2600.000     4      273  2.50        0             0  1999   \n",
       "29      13   13700.000     3       70  2.40        3             1  2008   \n",
       "...    ...         ...   ...      ...   ...      ...           ...   ...   \n",
       "8465    55   20000.000     1       43  1.60        3             1  2013   \n",
       "8466    23    1200.000     4      242  2.90        3             1  1976   \n",
       "8467    52   12900.000     3       40  2.00        3             1  2013   \n",
       "8468    34   34600.000     0       31  2.50        3             1  2014   \n",
       "8469    67    9899.000     4      174  1.60        0             0  2012   \n",
       "8470     5   44800.000     3       63  4.40        3             1  2012   \n",
       "8471    56   10450.000     5       98  2.00        0             1  2013   \n",
       "8472    22    4500.000     5      190  1.90        0             1  2001   \n",
       "8473    76    2750.000     3      130  1.50        1             1  2007   \n",
       "8474    80    2100.000     3       68  1.20        3             1  2006   \n",
       "8475    50    2499.000     1      201  1.70        0             0  2001   \n",
       "8476    14   12700.000     2       86  1.60        3             1  2012   \n",
       "8477    77    9900.000     2      178  2.50        0             1  2007   \n",
       "8478    12    5600.000     1      159  1.60        3             1  2008   \n",
       "8479    74   21900.000     3       88  2.50        3             1  2012   \n",
       "8480    77    7900.000     2      168  1.90        0             1  2006   \n",
       "8481    33    5200.000     2      250  2.50        0             1  2005   \n",
       "8482    12    3250.000     3      200  1.60        3             1  2007   \n",
       "8483    67    6100.000     4       84  1.20        3             1  2007   \n",
       "8484    77    9300.000     5      176  1.90        0             1  2005   \n",
       "8485    50    8900.000     1      155  1.50        3             1  2005   \n",
       "8486    38   13990.000     0      210  3.00        0             1  2006   \n",
       "8487    50    5000.000     4      248  2.00        1             1  1996   \n",
       "8488    77   18000.000     0      155  2.00        0             1  2011   \n",
       "8489    74   14474.000     0      115  2.00        3             1  2007   \n",
       "8490    33   14500.000     0      140  2.00        1             1  2011   \n",
       "8491    77    2200.000     4      150  1.60        3             1  1986   \n",
       "8492    50   18500.000     0      180  3.50        3             1  2008   \n",
       "8493    43   16999.000     3      150  3.50        1             1  2008   \n",
       "8494     4   22500.000     2       71  3.60        3             1  2007   \n",
       "\n",
       "      drive  \n",
       "0         1  \n",
       "1         2  \n",
       "2         2  \n",
       "3         0  \n",
       "4         1  \n",
       "5         0  \n",
       "6         0  \n",
       "7         2  \n",
       "8         2  \n",
       "9         0  \n",
       "10        2  \n",
       "11        2  \n",
       "12        2  \n",
       "13        2  \n",
       "14        1  \n",
       "15        1  \n",
       "16        1  \n",
       "17        2  \n",
       "18        1  \n",
       "19        1  \n",
       "20        1  \n",
       "21        1  \n",
       "22        1  \n",
       "23        1  \n",
       "24        1  \n",
       "25        1  \n",
       "26        1  \n",
       "27        0  \n",
       "28        0  \n",
       "29        0  \n",
       "...     ...  \n",
       "8465      0  \n",
       "8466      2  \n",
       "8467      1  \n",
       "8468      1  \n",
       "8469      0  \n",
       "8470      2  \n",
       "8471      0  \n",
       "8472      0  \n",
       "8473      0  \n",
       "8474      0  \n",
       "8475      0  \n",
       "8476      0  \n",
       "8477      0  \n",
       "8478      0  \n",
       "8479      0  \n",
       "8480      0  \n",
       "8481      2  \n",
       "8482      0  \n",
       "8483      0  \n",
       "8484      0  \n",
       "8485      0  \n",
       "8486      1  \n",
       "8487      2  \n",
       "8488      1  \n",
       "8489      1  \n",
       "8490      0  \n",
       "8491      0  \n",
       "8492      1  \n",
       "8493      0  \n",
       "8494      1  \n",
       "\n",
       "[8495 rows x 9 columns]"
      ]
     },
     "execution_count": 57,
     "metadata": {},
     "output_type": "execute_result"
    }
   ],
   "source": [
    "df"
   ]
  },
  {
   "cell_type": "markdown",
   "metadata": {},
   "source": [
    "### Let's print the columns of our dataframe to use them in creating X matrix and y vector"
   ]
  },
  {
   "cell_type": "code",
   "execution_count": 62,
   "metadata": {},
   "outputs": [
    {
     "name": "stdout",
     "output_type": "stream",
     "text": [
      "Index(['make', 'price', 'body', 'mileage', 'engV', 'engType', 'registration',\n",
      "       'year', 'drive'],\n",
      "      dtype='object')\n"
     ]
    }
   ],
   "source": [
    "print(df.columns)"
   ]
  },
  {
   "cell_type": "markdown",
   "metadata": {
    "colab_type": "text",
    "id": "w9gkF-HNUFAV"
   },
   "source": [
    "# Predictive Modeling with Linear Regression"
   ]
  },
  {
   "cell_type": "markdown",
   "metadata": {
    "colab_type": "text",
    "id": "Vy1SWxcYTAC0"
   },
   "source": [
    "## 1.1 Divide the dataset features into an X matrix and y vector (\"price\" is what we want to predict)."
   ]
  },
  {
   "cell_type": "markdown",
   "metadata": {},
   "source": [
    "#### We will make column 'price' the y variable and the rest will be the X matrix"
   ]
  },
  {
   "cell_type": "code",
   "execution_count": 63,
   "metadata": {
    "colab": {},
    "colab_type": "code",
    "id": "dwMbM9tUUaOQ"
   },
   "outputs": [],
   "source": [
    "#Lets divide the dataset into our X matrix and y vector\n",
    "y = df[['price']]\n",
    "X = df[['make', 'body', 'mileage', 'engV', 'engType', 'registration',\n",
    "       'year', 'drive']]"
   ]
  },
  {
   "cell_type": "code",
   "execution_count": 64,
   "metadata": {},
   "outputs": [
    {
     "name": "stdout",
     "output_type": "stream",
     "text": [
      "(8495, 1)\n",
      "(8495, 8)\n"
     ]
    }
   ],
   "source": [
    "#let's print the shape to shee if we have the correct dimensions\n",
    "print(y.shape)\n",
    "print(X.shape)"
   ]
  },
  {
   "cell_type": "markdown",
   "metadata": {
    "colab_type": "text",
    "id": "Uf_SQswNUPwM"
   },
   "source": [
    "## 1.2 Split the data into test and train datasets using train_test_split"
   ]
  },
  {
   "cell_type": "markdown",
   "metadata": {},
   "source": [
    "### It's important to divide the dataest into training and testing sets to see how well our model does with test set. This is crucial when we are trying to predict y on an untested future data "
   ]
  },
  {
   "cell_type": "code",
   "execution_count": 65,
   "metadata": {
    "colab": {},
    "colab_type": "code",
    "id": "iIiELKuKUOgR"
   },
   "outputs": [],
   "source": [
    "#although we have imported the libary inthe beginning\n",
    "#it's nice to know where it's coming from\n",
    "from sklearn.model_selection import train_test_split\n",
    "X_train, X_test, Y_train, Y_test = train_test_split(X, y, test_size=.5, random_state=42)"
   ]
  },
  {
   "cell_type": "code",
   "execution_count": 66,
   "metadata": {},
   "outputs": [
    {
     "name": "stdout",
     "output_type": "stream",
     "text": [
      "(8495, 8) \n",
      "\n",
      "(4247, 8)\n",
      "(4248, 8)\n",
      "(4247, 1)\n",
      "(4248, 1)\n"
     ]
    }
   ],
   "source": [
    "#let's print the shape of our X before the split and after the split \n",
    "#to see how the data is divided in terms of dimensions\n",
    "#\"\\n\" breaks the line/leaves a line space which is good for the readability\n",
    "print(X.shape, \"\\n\")\n",
    "\n",
    "\n",
    "print(X_train.shape)\n",
    "print(X_test.shape)\n",
    "print(Y_train.shape)\n",
    "print(Y_test.shape)"
   ]
  },
  {
   "cell_type": "code",
   "execution_count": 67,
   "metadata": {},
   "outputs": [
    {
     "data": {
      "text/html": [
       "<div>\n",
       "<style scoped>\n",
       "    .dataframe tbody tr th:only-of-type {\n",
       "        vertical-align: middle;\n",
       "    }\n",
       "\n",
       "    .dataframe tbody tr th {\n",
       "        vertical-align: top;\n",
       "    }\n",
       "\n",
       "    .dataframe thead th {\n",
       "        text-align: right;\n",
       "    }\n",
       "</style>\n",
       "<table border=\"1\" class=\"dataframe\">\n",
       "  <thead>\n",
       "    <tr style=\"text-align: right;\">\n",
       "      <th></th>\n",
       "      <th>make</th>\n",
       "      <th>body</th>\n",
       "      <th>mileage</th>\n",
       "      <th>engV</th>\n",
       "      <th>engType</th>\n",
       "      <th>registration</th>\n",
       "      <th>year</th>\n",
       "      <th>drive</th>\n",
       "    </tr>\n",
       "  </thead>\n",
       "  <tbody>\n",
       "    <tr>\n",
       "      <th>0</th>\n",
       "      <td>23</td>\n",
       "      <td>0</td>\n",
       "      <td>68</td>\n",
       "      <td>2.5</td>\n",
       "      <td>1</td>\n",
       "      <td>1</td>\n",
       "      <td>2010</td>\n",
       "      <td>1</td>\n",
       "    </tr>\n",
       "    <tr>\n",
       "      <th>1</th>\n",
       "      <td>50</td>\n",
       "      <td>3</td>\n",
       "      <td>173</td>\n",
       "      <td>1.8</td>\n",
       "      <td>1</td>\n",
       "      <td>1</td>\n",
       "      <td>2011</td>\n",
       "      <td>2</td>\n",
       "    </tr>\n",
       "    <tr>\n",
       "      <th>2</th>\n",
       "      <td>50</td>\n",
       "      <td>2</td>\n",
       "      <td>135</td>\n",
       "      <td>5.5</td>\n",
       "      <td>3</td>\n",
       "      <td>1</td>\n",
       "      <td>2008</td>\n",
       "      <td>2</td>\n",
       "    </tr>\n",
       "    <tr>\n",
       "      <th>3</th>\n",
       "      <td>50</td>\n",
       "      <td>5</td>\n",
       "      <td>162</td>\n",
       "      <td>1.8</td>\n",
       "      <td>0</td>\n",
       "      <td>1</td>\n",
       "      <td>2012</td>\n",
       "      <td>0</td>\n",
       "    </tr>\n",
       "    <tr>\n",
       "      <th>4</th>\n",
       "      <td>55</td>\n",
       "      <td>0</td>\n",
       "      <td>83</td>\n",
       "      <td>2.0</td>\n",
       "      <td>3</td>\n",
       "      <td>1</td>\n",
       "      <td>2013</td>\n",
       "      <td>1</td>\n",
       "    </tr>\n",
       "  </tbody>\n",
       "</table>\n",
       "</div>"
      ],
      "text/plain": [
       "   make  body  mileage  engV  engType  registration  year  drive\n",
       "0    23     0       68   2.5        1             1  2010      1\n",
       "1    50     3      173   1.8        1             1  2011      2\n",
       "2    50     2      135   5.5        3             1  2008      2\n",
       "3    50     5      162   1.8        0             1  2012      0\n",
       "4    55     0       83   2.0        3             1  2013      1"
      ]
     },
     "execution_count": 67,
     "metadata": {},
     "output_type": "execute_result"
    }
   ],
   "source": [
    "#let's check what our X looks like now\n",
    "X.head()"
   ]
  },
  {
   "cell_type": "markdown",
   "metadata": {
    "colab_type": "text",
    "id": "0AdXWiwoUstf"
   },
   "source": [
    "## 1.3 Use Scikit-Learn to fit a multiple regression model using your training data."
   ]
  },
  {
   "cell_type": "markdown",
   "metadata": {},
   "source": [
    "### We are using SciKit-Learn library that we imported in the beginning to fit our multiple regression model using training data. This is called model fitting"
   ]
  },
  {
   "cell_type": "code",
   "execution_count": 68,
   "metadata": {
    "colab": {},
    "colab_type": "code",
    "id": "Zw70rt71U1xf"
   },
   "outputs": [
    {
     "name": "stdout",
     "output_type": "stream",
     "text": [
      "Coefficient: \n",
      " [[  -35.22479484 -1672.11973555   -37.12848399   269.61582544\n",
      "  -1284.74375962  4649.46225339  1098.2829573   7886.89079148]]\n",
      "\n",
      " Intercept:  [-2184591.01156088]\n"
     ]
    }
   ],
   "source": [
    "#the library (we have imported it in the begining)\n",
    "from sklearn.linear_model import LinearRegression\n",
    "\n",
    "#use the training set to fit the model with multiple features\n",
    "model = LinearRegression()\n",
    "model.fit(X_train, Y_train)\n",
    "\n",
    "#let's print all the coefficients and the intercept \n",
    "print(\"Coefficient: \\n\", model.coef_)\n",
    "print(\"\\n Intercept: \", model.intercept_)"
   ]
  },
  {
   "cell_type": "markdown",
   "metadata": {
    "colab_type": "text",
    "id": "82fH2rilU7j3"
   },
   "source": [
    "## 1.4 Report the Intercept and Coefficient Values for the fitted model"
   ]
  },
  {
   "cell_type": "markdown",
   "metadata": {
    "colab": {},
    "colab_type": "code",
    "id": "ue6hCHGqVE83"
   },
   "source": [
    "### Below are our coefficients for different corresponding features and intercept for our fitted model\n",
    "### Coefficient: \n",
    " [[  -35.22479484 -1672.11973555   -37.12848399   269.61582544\n",
    "  -1284.74375962  4649.46225339  1098.2829573   7886.89079148]]\n",
    "\n",
    " ### Intercept:  \n",
    " [-2184591.01156088]"
   ]
  },
  {
   "cell_type": "markdown",
   "metadata": {
    "colab_type": "text",
    "id": "T0CV0OnDVZbu"
   },
   "source": [
    "## 1.5 Use the test data to make predictions"
   ]
  },
  {
   "cell_type": "markdown",
   "metadata": {},
   "source": []
  },
  {
   "cell_type": "code",
   "execution_count": 69,
   "metadata": {
    "colab": {},
    "colab_type": "code",
    "id": "vrR5b5c3VwE5"
   },
   "outputs": [
    {
     "name": "stdout",
     "output_type": "stream",
     "text": [
      "[[18501.5313198 ]\n",
      " [ 5449.53615628]\n",
      " [25121.57031334]\n",
      " ...\n",
      " [20204.90435025]\n",
      " [21612.72025077]\n",
      " [ 8218.38709262]]\n"
     ]
    }
   ],
   "source": [
    "#Let's predict our y  using test data\n",
    "y_test_predict = model.predict(X_test)\n",
    "\n",
    "#print the predicted y values\n",
    "print(y_test_predict)"
   ]
  },
  {
   "cell_type": "markdown",
   "metadata": {
    "colab_type": "text",
    "id": "ZwQb3gE7VycT"
   },
   "source": [
    "## 1.6 Calculate and report both the Root-Mean-Square error and $R^2$ for the model. "
   ]
  },
  {
   "cell_type": "markdown",
   "metadata": {},
   "source": [
    "### To calculate RMSE, we need y_test (from the original y that we split into train and test), and our predicted y (that we calculated just above). Becuase RMSE is basically the square root error (difference) of actual and predicted y (price)."
   ]
  },
  {
   "cell_type": "code",
   "execution_count": 70,
   "metadata": {
    "colab": {},
    "colab_type": "code",
    "id": "Ym2kjxWhU6b2"
   },
   "outputs": [
    {
     "name": "stdout",
     "output_type": "stream",
     "text": [
      "MSE is 504905647.22417927\n",
      "RMSE is 22470.10563446864\n",
      "R^2 is 0.26944829519622093\n"
     ]
    }
   ],
   "source": [
    "#that's the library we are using to calcualte MSE, RMSE adn R**2\n",
    "from sklearn.metrics import mean_squared_error, r2_score\n",
    "\n",
    "#the MSE \n",
    "MSE = mean_squared_error(Y_test, y_test_predict)\n",
    "\n",
    "#RMSE\n",
    "RMSE = (np.sqrt(mean_squared_error(Y_test, y_test_predict)))\n",
    "\n",
    "#let's neatly print both errors\n",
    "print('MSE is {}'.format(MSE))\n",
    "print('RMSE is {}'.format(RMSE))\n",
    "\n",
    "#Also print R**2\n",
    "R2 = r2_score(Y_test, y_test_predict)\n",
    "\n",
    "print('R^2 is {}'.format(R2))"
   ]
  },
  {
   "cell_type": "markdown",
   "metadata": {
    "colab_type": "text",
    "id": "kIXhGHIgXHyJ"
   },
   "source": [
    "## 1.7 How should we interpret the coefficient corresponding to the \"year\" feature?"
   ]
  },
  {
   "cell_type": "markdown",
   "metadata": {
    "colab_type": "text",
    "id": "8jv2n0wAXgHU"
   },
   "source": []
  },
  {
   "cell_type": "markdown",
   "metadata": {},
   "source": [
    "### The coefficients tell us the size of effect that variable has on precdicting y. In the same realm, 'year' coefficient tells us that every year price changes by 1098.2829573 * year. If we plot price in terms of only year, then the line will have very steep upwards slope. The year coeffcient indicates that every additional year, you can expect price to increase by 1098.2829573. "
   ]
  },
  {
   "cell_type": "markdown",
   "metadata": {
    "colab_type": "text",
    "id": "ckQ5GsOtYsjn"
   },
   "source": [
    "## 1.8 How should we interpret the Root-Mean-Square Error?"
   ]
  },
  {
   "cell_type": "markdown",
   "metadata": {
    "colab_type": "text",
    "id": "F982IeSgYyp6"
   },
   "source": [
    "### RMSE is the sqaure root of the mean (average) differerences sqaured between our predicted and actaul y (price). Very large RMSE means that the model is not a good fit for the type of data. \n"
   ]
  },
  {
   "cell_type": "markdown",
   "metadata": {
    "colab_type": "text",
    "id": "T3sZrru_YzFF"
   },
   "source": [
    "## 1.9 How should we interpret the $R^2$?"
   ]
  },
  {
   "cell_type": "markdown",
   "metadata": {
    "colab_type": "text",
    "id": "5pN2Oet_Y5jR"
   },
   "source": [
    "### R^2 tells us what percentge of y is explained through the features in our X matrix. Our result of R^2 R^2 is 0.26944829519622093 tells us that only about 27% of price (how price changes/works) is explained through our features (independent variables)"
   ]
  },
  {
   "cell_type": "markdown",
   "metadata": {
    "colab_type": "text",
    "id": "Z_VNy7e3Y5sT"
   },
   "source": [
    "# Log-Linear and Polynomial Regression"
   ]
  },
  {
   "cell_type": "markdown",
   "metadata": {
    "colab_type": "text",
    "id": "G2T4FSqRZOJA"
   },
   "source": [
    "## 2.1 Engineer a new variable by taking the log of the price varible."
   ]
  },
  {
   "cell_type": "code",
   "execution_count": 72,
   "metadata": {
    "colab": {},
    "colab_type": "code",
    "id": "7EChAFNxZX24"
   },
   "outputs": [],
   "source": [
    "#let's create a log linear price variable \n",
    "#use numpy log fucntion to convert price into a log variable\n",
    "#assign log price to a new variable in the same dataframe\n",
    "df['ln_price'] = np.log(df['price'])"
   ]
  },
  {
   "cell_type": "markdown",
   "metadata": {
    "colab_type": "text",
    "id": "R117rxnOZw6q"
   },
   "source": [
    "## 2.2 Use scatterplots or seaborn's pairplot function to do the \"eyeball test\" for non-linearly distributed features."
   ]
  },
  {
   "cell_type": "markdown",
   "metadata": {},
   "source": [
    "### It's very useful to be able to \"eyeball\" our data. Since we are interested in predicting price, we will scatterplot all our variables against price to see what kind of relationship they share. It's important because some variables might not be linear at all. "
   ]
  },
  {
   "cell_type": "code",
   "execution_count": 73,
   "metadata": {
    "colab": {},
    "colab_type": "code",
    "id": "8l56Qk7VaBrU"
   },
   "outputs": [
    {
     "data": {
      "image/png": "[encoded data removed]",
      "text/plain": [
       "<matplotlib.figure.Figure at 0x7fc9f43c25c0>"
      ]
     },
     "metadata": {},
     "output_type": "display_data"
    }
   ],
   "source": [
    "sns.set(style=\"ticks\", color_codes=True)\n",
    "\n",
    "# Generate a list of column headers that doesnt include price\n",
    "x_columns = df.columns.drop('price')\n",
    "\n",
    "# Only plot the scatterplot of x variables with our y variable\n",
    "fig = sns.pairplot(data=df, y_vars=['price'], x_vars=x_columns, height=2.5, aspect=2)"
   ]
  },
  {
   "cell_type": "markdown",
   "metadata": {
    "colab_type": "text",
    "id": "QTf4gCaDaiCw"
   },
   "source": [
    "## 2.3 If appropriate, create any polynomial features. "
   ]
  },
  {
   "cell_type": "markdown",
   "metadata": {},
   "source": [
    "### After checking all the scatterplots, I think all these features: make, engType, , body, and year are good candidates for polymonial transforamtions. Their shapes tell me that they are not linear in their nature. Year is more like an exponential form. "
   ]
  },
  {
   "cell_type": "code",
   "execution_count": 74,
   "metadata": {
    "colab": {},
    "colab_type": "code",
    "id": "ipsCcH83ZMe8"
   },
   "outputs": [],
   "source": [
    "#Let's engineer our features \n",
    "df['make_squared'] = df['make']**2\n",
    "df['engType_squared'] = df[\"engType\"]**2\n",
    "#df['registration_sqaured'] = df['registration']**2\n",
    "df['body_squared'] = df['body']**2\n",
    "df['year_sqaured'] = df['year']**2"
   ]
  },
  {
   "cell_type": "code",
   "execution_count": 75,
   "metadata": {},
   "outputs": [
    {
     "data": {
      "text/plain": [
       "Index(['make', 'price', 'body', 'mileage', 'engV', 'engType', 'registration',\n",
       "       'year', 'drive', 'ln_price', 'make_squared', 'engType_squared',\n",
       "       'body_squared', 'year_sqaured'],\n",
       "      dtype='object')"
      ]
     },
     "execution_count": 75,
     "metadata": {},
     "output_type": "execute_result"
    }
   ],
   "source": [
    "df.columns"
   ]
  },
  {
   "cell_type": "markdown",
   "metadata": {
    "colab_type": "text",
    "id": "NJgfD-JLayRA"
   },
   "source": [
    "## 2.4 Use the new log-transformed y variable and your x variables (including any new polynomial features) to fit a new linear regression model. Then report the: intercept, coefficients, RMSE, and $R^2$."
   ]
  },
  {
   "cell_type": "markdown",
   "metadata": {},
   "source": [
    "### we are using our log price and also new features. "
   ]
  },
  {
   "cell_type": "code",
   "execution_count": 77,
   "metadata": {},
   "outputs": [],
   "source": [
    "X = df.drop(['ln_price','price'], axis=1)"
   ]
  },
  {
   "cell_type": "code",
   "execution_count": 79,
   "metadata": {},
   "outputs": [
    {
     "data": {
      "text/plain": [
       "Index(['make', 'body', 'mileage', 'engV', 'engType', 'registration', 'year',\n",
       "       'drive', 'make_squared', 'engType_squared', 'body_squared',\n",
       "       'year_sqaured'],\n",
       "      dtype='object')"
      ]
     },
     "execution_count": 79,
     "metadata": {},
     "output_type": "execute_result"
    }
   ],
   "source": [
    "X.columns"
   ]
  },
  {
   "cell_type": "code",
   "execution_count": 76,
   "metadata": {
    "colab": {},
    "colab_type": "code",
    "id": "uXmtVpnPcFij"
   },
   "outputs": [
    {
     "name": "stdout",
     "output_type": "stream",
     "text": [
      "RMSE is 0.5525026958256892\n",
      "R^2 is 0.6753891103238063\n",
      "coefficients:  [-2.44648052e-03 -1.95855058e-01  6.00967260e-04  8.00273408e-03\n",
      " -2.60634684e-01  6.98848121e-01 -5.59836482e+00  3.66827864e-01\n",
      "  8.46734203e-06  7.17188136e-02  2.27391661e-02  1.42270959e-03]\n",
      "intercepts:  5513.834426587701\n"
     ]
    }
   ],
   "source": [
    "#Use log price, our new column\n",
    "y = df['ln_price']\n",
    "\n",
    "#this incldues all the new features we added to X matrix\n",
    "X = df.drop(['ln_price','price'], axis=1)\n",
    "\n",
    "#for consistency, we will stick to the same split model we train in our previous cells\n",
    "X_train, X_test, Y_train, Y_test = train_test_split(X, y, test_size=.3, random_state=42)\n",
    "\n",
    "# fit model using train datasets\n",
    "model = LinearRegression()\n",
    "model.fit(X_train, Y_train)\n",
    "\n",
    "# Create new predictions using x_test\n",
    "y_pred = model.predict(X_test)\n",
    "\n",
    "# Measure Accuracy using y_test and y_pred\n",
    "RMSE = (np.sqrt(mean_squared_error(Y_test, y_pred)))\n",
    "R2 = r2_score(Y_test, y_pred)\n",
    "\n",
    "#let's print MSE and RMSE\n",
    "rint('RMSE is {}'.format(RMSE))\n",
    "print('R^2 is {}'.format(R2))\n",
    "\n",
    "#Printing Coeffs and the intercept\n",
    "print(\"coefficients: \", model.coef_)\n",
    "print(\"intercepts: \", model.intercept_)\n"
   ]
  },
  {
   "cell_type": "markdown",
   "metadata": {},
   "source": [
    "### Since we are using log price, our RMSE is in percentage terms. Easier to interpret. \n",
    "\n",
    "#### RMSE is 0.5525026958256892\n",
    "#### R^2 is 0.6753891103238063\n",
    "#### coefficients:  [-2.44648052e-03 -1.95855058e-01  6.00967260e-04  8.00273408e-03\n",
    " -2.60634684e-01  6.98848121e-01 -5.59836482e+00  3.66827864e-01\n",
    "  8.46734203e-06  7.17188136e-02  2.27391661e-02  1.42270959e-03]\n",
    "#### intercepts:  5513.834426587701"
   ]
  },
  {
   "cell_type": "markdown",
   "metadata": {
    "colab_type": "text",
    "id": "hf4_8FXrpHFY"
   },
   "source": [
    "## 2.5 How might we interpret the coefficient on \"year\" in this new regression model?"
   ]
  },
  {
   "cell_type": "markdown",
   "metadata": {
    "colab_type": "text",
    "id": "JVGKvt5WpTf2"
   },
   "source": [
    "-5.59836482e+00 The year has now a negative coefficeint meaning that every additional year will lower the price by -5.59836482e+00. "
   ]
  },
  {
   "cell_type": "markdown",
   "metadata": {
    "colab_type": "text",
    "id": "JUQwzfDRfrQi"
   },
   "source": [
    "# Gradient Descent"
   ]
  },
  {
   "cell_type": "markdown",
   "metadata": {
    "colab_type": "text",
    "id": "M_JLfReVeoYT"
   },
   "source": [
    "## 3.1 What does Gradient Descent seek to minimize?"
   ]
  },
  {
   "cell_type": "markdown",
   "metadata": {
    "colab_type": "text",
    "id": "-ezM_NS2fIJe"
   },
   "source": [
    "It minimizes the cost by finding the local minima of the cost fucntion. "
   ]
  },
  {
   "cell_type": "markdown",
   "metadata": {
    "colab_type": "text",
    "id": "unqhNRYnfIL4"
   },
   "source": [
    "## 3.2 What is the \"Learning Rate\" and what is its function?"
   ]
  },
  {
   "cell_type": "raw",
   "metadata": {},
   "source": [
    "Write raw LaTeX or other formats here, for use with nbconvert. It will not be rendered in the notebook. When passing through nbconvert, a Raw Cell's content is added to the output unmodified. "
   ]
  },
  {
   "cell_type": "markdown",
   "metadata": {
    "colab_type": "text",
    "id": "7jhKwIOVfT6B"
   },
   "source": [
    "## Learning rate is the steps the gradeint descent take to reach the valley/minima. Basically, at each step what speed you want to go down the slope is the learning rate. \n",
    "\n",
    "### Step = learning rate * gradient. \n",
    "\n",
    "### x_next = x_current - learning rate * gradient. \n",
    "\n",
    "### x represents  parameters \n"
   ]
  },
  {
   "cell_type": "markdown",
   "metadata": {
    "colab_type": "text",
    "id": "Gs20FOntprd_"
   },
   "source": [
    "# Model Diagnostics"
   ]
  },
  {
   "cell_type": "markdown",
   "metadata": {
    "colab_type": "text",
    "id": "VJnxkobcpulV"
   },
   "source": [
    "## 4.1 Use statsmodels to run a log-linear or log-polynomial linear regression with robust standard errors."
   ]
  },
  {
   "cell_type": "markdown",
   "metadata": {},
   "source": [
    "### We are running a log-polynomial regression here, we incldue all the features we we engineered. "
   ]
  },
  {
   "cell_type": "code",
   "execution_count": 40,
   "metadata": {
    "colab": {},
    "colab_type": "code",
    "id": "QqCVeYBTpvfQ"
   },
   "outputs": [
    {
     "name": "stdout",
     "output_type": "stream",
     "text": [
      "                            OLS Regression Results                            \n",
      "==============================================================================\n",
      "Dep. Variable:               ln_price   R-squared:                       1.000\n",
      "Model:                            OLS   Adj. R-squared:                  1.000\n",
      "Method:                 Least Squares   F-statistic:                 1.369e+23\n",
      "Date:                Fri, 18 Jan 2019   Prob (F-statistic):               0.00\n",
      "Time:                        08:53:03   Log-Likelihood:             1.8736e+05\n",
      "No. Observations:                8495   AIC:                        -3.747e+05\n",
      "Df Residuals:                    8480   BIC:                        -3.746e+05\n",
      "Df Model:                          14                                         \n",
      "Covariance Type:                  HC3                                         \n",
      "========================================================================================\n",
      "                           coef    std err          z      P>|z|      [0.025      0.975]\n",
      "----------------------------------------------------------------------------------------\n",
      "const                -1.364e-11   3.93e-08     -0.000      1.000    -7.7e-08     7.7e-08\n",
      "make                  2.949e-17   1.17e-13      0.000      1.000   -2.29e-13    2.29e-13\n",
      "price                -1.948e-20    4.6e-17     -0.000      1.000   -9.02e-17    9.02e-17\n",
      "body                 -2.651e-15   1.48e-12     -0.002      0.999    -2.9e-12     2.9e-12\n",
      "mileage               3.795e-17   1.01e-14      0.004      0.997   -1.97e-14    1.97e-14\n",
      "engV                  -3.99e-17   1.35e-13     -0.000      1.000   -2.64e-13    2.64e-13\n",
      "engType               7.216e-16   3.03e-12      0.000      1.000   -5.93e-12    5.93e-12\n",
      "registration          8.743e-16   1.66e-12      0.001      1.000   -3.26e-12    3.26e-12\n",
      "year                 -1.155e-14   3.93e-11     -0.000      1.000   -7.71e-11     7.7e-11\n",
      "drive                -1.547e-15   1.11e-12     -0.001      0.999   -2.17e-12    2.17e-12\n",
      "ln_price                 1.0000   1.65e-12   6.05e+11      0.000       1.000       1.000\n",
      "make_squared         -6.912e-18   1.36e-15     -0.005      0.996   -2.67e-15    2.65e-15\n",
      "engType_squared       2.685e-15   9.21e-13      0.003      0.998    -1.8e-12    1.81e-12\n",
      "registration_sqaured  6.106e-16   1.66e-12      0.000      1.000   -3.26e-12    3.26e-12\n",
      "body_squared          3.385e-16   3.15e-13      0.001      0.999   -6.17e-13    6.18e-13\n",
      "year_sqaured         -6.722e-18   9.84e-15     -0.001      0.999   -1.93e-14    1.93e-14\n",
      "==============================================================================\n",
      "Omnibus:                     2254.936   Durbin-Watson:                   0.000\n",
      "Prob(Omnibus):                  0.000   Jarque-Bera (JB):             6124.792\n",
      "Skew:                          -1.415   Prob(JB):                         0.00\n",
      "Kurtosis:                       6.049   Cond. No.                     4.62e+21\n",
      "==============================================================================\n",
      "\n",
      "Warnings:\n",
      "[1] Standard Errors are heteroscedasticity robust (HC3)\n",
      "[2] The smallest eigenvalue is 6.45e-27. This might indicate that there are\n",
      "strong multicollinearity problems or that the design matrix is singular.\n"
     ]
    },
    {
     "name": "stderr",
     "output_type": "stream",
     "text": [
      "/home/mishraka/anaconda3/lib/python3.7/site-packages/statsmodels/base/model.py:1532: ValueWarning: covariance of constraints does not have full rank. The number of constraints is 15, but rank is 14\n",
      "  'rank is %d' % (J, J_), ValueWarning)\n"
     ]
    }
   ],
   "source": [
    "# X matrix\n",
    "X = df[['make', 'price', 'body', 'mileage', 'engV', 'engType', 'registration',\n",
    "       'year', 'drive', 'ln_price', 'make_squared', 'engType_squared',\n",
    "       'registration_sqaured', 'body_squared', 'year_sqaured']] \n",
    "\n",
    "#y vector\n",
    "y = df['ln_price']\n",
    "\n",
    "# This is like using np.ones to add a vector of ones\n",
    "X = sm.add_constant(X)\n",
    "\n",
    "#obust standard errors essentially correct heteroskedasticity in our data\n",
    "#cov_type = \"HC3\" is to compute robust standard error\n",
    "model = sm.OLS(y, X).fit(cov_type='HC3')\n",
    "predictions = model.predict(X) \n",
    "\n",
    "print_model = model.summary()\n",
    "print(print_model)"
   ]
  },
  {
   "cell_type": "markdown",
   "metadata": {},
   "source": [
    "### Lookign at the table above, most the p values (all of them are 1 or close to 1)indicate that our null hypothesis is true that mean those features have no relationhsip with price. Interesting. \n",
    "\n",
    "### all our standard errors are in terms of percentages now. "
   ]
  },
  {
   "cell_type": "markdown",
   "metadata": {
    "colab_type": "text",
    "id": "loKma3wspwVs"
   },
   "source": [
    "## 4.2 Calculate the Variance Inflation Factor (VIF) of our X variables. Do we have multicollinearity problems?"
   ]
  },
  {
   "cell_type": "code",
   "execution_count": 41,
   "metadata": {
    "colab": {},
    "colab_type": "code",
    "id": "EN1mPKWhp2Vn",
    "scrolled": true
   },
   "outputs": [
    {
     "name": "stdout",
     "output_type": "stream",
     "text": [
      "Index(['const', 'make', 'price', 'body', 'mileage', 'engV', 'engType',\n",
      "       'registration', 'year', 'drive', 'ln_price', 'make_squared',\n",
      "       'engType_squared', 'registration_sqaured', 'body_squared',\n",
      "       'year_sqaured'],\n",
      "      dtype='object') \n",
      "\n",
      "\n",
      "[3168613602.9407234, 16.997657675766465, 2.4536651168256673, 11.755535754257531, 1.9882675373582313, 1.0189060477794087, 34.17047145149341, inf, 152176.19614831373, 1.3993841812342045, 5.159611052410717, 16.873573865145197, 32.0728739328255, inf, 12.061800866360773, 152601.60053197082]\n"
     ]
    },
    {
     "name": "stderr",
     "output_type": "stream",
     "text": [
      "/home/mishraka/anaconda3/lib/python3.7/site-packages/statsmodels/stats/outliers_influence.py:181: RuntimeWarning: divide by zero encountered in double_scalars\n",
      "  vif = 1. / (1. - r_squared_i)\n"
     ]
    }
   ],
   "source": [
    "print(X.columns, '\\n\\n')\n",
    "\n",
    "vif = [variance_inflation_factor(X.values, i) for i in range(X.shape[1])]\n",
    "print(vif)"
   ]
  },
  {
   "cell_type": "markdown",
   "metadata": {},
   "source": [
    "### Yes, we clearly have multicollinearity problems here. \n",
    "### Rule of Thumb: If our VIF is greater than 10 for any features, that indicates multicollinearity problems. \n",
    "16.997657675766465\n",
    "inf\n",
    "152176.19614831373\n",
    "16.873573865145197, \n",
    "32.0728739328255, \n",
    "inf, \n",
    "12.061800866360773, \n",
    "152601.60053197082\n",
    "\n",
    "### As we can see, our dataset has lots or multicollinear features. This violates the OLS BLUE assumptions and OLS might the right type of regression model for this dataset. \n"
   ]
  }
 ],
 "metadata": {
  "colab": {
   "name": "Linear Regression Sprint Challenge.ipynb",
   "provenance": [],
   "version": "0.3.2"
  },
  "kernelspec": {
   "display_name": "Python 3",
   "language": "python",
   "name": "python3"
  },
  "language_info": {
   "codemirror_mode": {
    "name": "ipython",
    "version": 3
   },
   "file_extension": ".py",
   "mimetype": "text/x-python",
   "name": "python",
   "nbconvert_exporter": "python",
   "pygments_lexer": "ipython3",
   "version": "3.7.1"
  },
  "latex_envs": {
   "LaTeX_envs_menu_present": true,
   "autoclose": true,
   "autocomplete": true,
   "bibliofile": "biblio.bib",
   "cite_by": "apalike",
   "current_citInitial": 1,
   "eqLabelWithNumbers": true,
   "eqNumInitial": 1,
   "hotkeys": {
    "equation": "Ctrl-E",
    "itemize": "Ctrl-I"
   },
   "labels_anchors": false,
   "latex_user_defs": false,
   "report_style_numbering": false,
   "user_envs_cfg": false
  }
 },
 "nbformat": 4,
 "nbformat_minor": 1
}
