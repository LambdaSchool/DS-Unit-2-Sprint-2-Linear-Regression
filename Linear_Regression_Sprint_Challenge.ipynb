{
 "cells": [
  {
   "cell_type": "markdown",
   "metadata": {
    "colab_type": "text",
    "id": "view-in-github"
   },
   "source": [
    "<a href=\"https://colab.research.google.com/github/DanielleRomanoff/DS-Unit-2-Sprint-2-Linear-Regression/blob/master/Linear_Regression_Sprint_Challenge.ipynb\" target=\"_parent\"><img src=\"https://colab.research.google.com/assets/colab-badge.svg\" alt=\"Open In Colab\"/></a>"
   ]
  },
  {
   "cell_type": "code",
   "execution_count": 1,
   "metadata": {
    "colab": {
     "base_uri": "https://localhost:8080/",
     "height": 91
    },
    "colab_type": "code",
    "id": "YbiJuv5d2jZ7",
    "outputId": "749ce910-8342-4f4c-af06-77ae4af74804"
   },
   "outputs": [],
   "source": [
    "# Import everything you could ever need. ;)\n",
    "import pandas as pd\n",
    "import numpy as np\n",
    "import matplotlib.pyplot as plt\n",
    "import seaborn as sns\n",
    "from scipy import stats\n",
    "import statsmodels.api as sm\n",
    "from statsmodels.stats.outliers_influence import variance_inflation_factor\n",
    "from sklearn.model_selection import train_test_split\n",
    "from sklearn.linear_model import LinearRegression\n",
    "from sklearn.metrics import mean_squared_error, r2_score\n",
    "from mpl_toolkits.mplot3d import Axes3D"
   ]
  },
  {
   "cell_type": "code",
   "execution_count": 2,
   "metadata": {
    "colab": {
     "base_uri": "https://localhost:8080/",
     "height": 219
    },
    "colab_type": "code",
    "id": "FgaItuSL3zxO",
    "outputId": "839e29ca-12a8-4379-837b-3f869dff380c"
   },
   "outputs": [
    {
     "name": "stdout",
     "output_type": "stream",
     "text": [
      "(8495, 10)\n"
     ]
    },
    {
     "data": {
      "text/html": [
       "<div>\n",
       "<style scoped>\n",
       "    .dataframe tbody tr th:only-of-type {\n",
       "        vertical-align: middle;\n",
       "    }\n",
       "\n",
       "    .dataframe tbody tr th {\n",
       "        vertical-align: top;\n",
       "    }\n",
       "\n",
       "    .dataframe thead th {\n",
       "        text-align: right;\n",
       "    }\n",
       "</style>\n",
       "<table border=\"1\" class=\"dataframe\">\n",
       "  <thead>\n",
       "    <tr style=\"text-align: right;\">\n",
       "      <th></th>\n",
       "      <th>make</th>\n",
       "      <th>price</th>\n",
       "      <th>body</th>\n",
       "      <th>mileage</th>\n",
       "      <th>engV</th>\n",
       "      <th>engType</th>\n",
       "      <th>registration</th>\n",
       "      <th>year</th>\n",
       "      <th>drive</th>\n",
       "      <th>age</th>\n",
       "    </tr>\n",
       "  </thead>\n",
       "  <tbody>\n",
       "    <tr>\n",
       "      <th>0</th>\n",
       "      <td>23</td>\n",
       "      <td>15500.0</td>\n",
       "      <td>0</td>\n",
       "      <td>68</td>\n",
       "      <td>2.5</td>\n",
       "      <td>1</td>\n",
       "      <td>1</td>\n",
       "      <td>2010</td>\n",
       "      <td>1</td>\n",
       "      <td>9</td>\n",
       "    </tr>\n",
       "    <tr>\n",
       "      <th>1</th>\n",
       "      <td>50</td>\n",
       "      <td>20500.0</td>\n",
       "      <td>3</td>\n",
       "      <td>173</td>\n",
       "      <td>1.8</td>\n",
       "      <td>1</td>\n",
       "      <td>1</td>\n",
       "      <td>2011</td>\n",
       "      <td>2</td>\n",
       "      <td>8</td>\n",
       "    </tr>\n",
       "    <tr>\n",
       "      <th>2</th>\n",
       "      <td>50</td>\n",
       "      <td>35000.0</td>\n",
       "      <td>2</td>\n",
       "      <td>135</td>\n",
       "      <td>5.5</td>\n",
       "      <td>3</td>\n",
       "      <td>1</td>\n",
       "      <td>2008</td>\n",
       "      <td>2</td>\n",
       "      <td>11</td>\n",
       "    </tr>\n",
       "    <tr>\n",
       "      <th>3</th>\n",
       "      <td>50</td>\n",
       "      <td>17800.0</td>\n",
       "      <td>5</td>\n",
       "      <td>162</td>\n",
       "      <td>1.8</td>\n",
       "      <td>0</td>\n",
       "      <td>1</td>\n",
       "      <td>2012</td>\n",
       "      <td>0</td>\n",
       "      <td>7</td>\n",
       "    </tr>\n",
       "    <tr>\n",
       "      <th>4</th>\n",
       "      <td>55</td>\n",
       "      <td>16600.0</td>\n",
       "      <td>0</td>\n",
       "      <td>83</td>\n",
       "      <td>2.0</td>\n",
       "      <td>3</td>\n",
       "      <td>1</td>\n",
       "      <td>2013</td>\n",
       "      <td>1</td>\n",
       "      <td>6</td>\n",
       "    </tr>\n",
       "  </tbody>\n",
       "</table>\n",
       "</div>"
      ],
      "text/plain": [
       "   make    price  body  mileage  engV  engType  registration  year  drive  age\n",
       "0    23  15500.0     0       68   2.5        1             1  2010      1    9\n",
       "1    50  20500.0     3      173   1.8        1             1  2011      2    8\n",
       "2    50  35000.0     2      135   5.5        3             1  2008      2   11\n",
       "3    50  17800.0     5      162   1.8        0             1  2012      0    7\n",
       "4    55  16600.0     0       83   2.0        3             1  2013      1    6"
      ]
     },
     "execution_count": 2,
     "metadata": {},
     "output_type": "execute_result"
    }
   ],
   "source": [
    "# Ukraine Used Car Sale Price Prediction\n",
    "df = pd.read_csv('https://raw.githubusercontent.com/ryanleeallred/datasets/master/car_regression.csv')\n",
    "df['age'] = 2019 - df.year\n",
    "print(df.shape)\n",
    "df.head()"
   ]
  },
  {
   "cell_type": "markdown",
   "metadata": {
    "colab_type": "text",
    "id": "w9gkF-HNUFAV"
   },
   "source": [
    "# Predictive Modeling with Linear Regression"
   ]
  },
  {
   "cell_type": "markdown",
   "metadata": {
    "colab_type": "text",
    "id": "Vy1SWxcYTAC0"
   },
   "source": [
    "## 1.1 Divide the dataset features into an X matrix and y vector (\"price\" is what we want to predict)."
   ]
  },
  {
   "cell_type": "code",
   "execution_count": 13,
   "metadata": {
    "colab": {},
    "colab_type": "code",
    "id": "dwMbM9tUUaOQ"
   },
   "outputs": [
    {
     "name": "stdout",
     "output_type": "stream",
     "text": [
      "(8495, 9)\n",
      "(8495,)\n"
     ]
    },
    {
     "data": {
      "text/html": [
       "<div>\n",
       "<style scoped>\n",
       "    .dataframe tbody tr th:only-of-type {\n",
       "        vertical-align: middle;\n",
       "    }\n",
       "\n",
       "    .dataframe tbody tr th {\n",
       "        vertical-align: top;\n",
       "    }\n",
       "\n",
       "    .dataframe thead th {\n",
       "        text-align: right;\n",
       "    }\n",
       "</style>\n",
       "<table border=\"1\" class=\"dataframe\">\n",
       "  <thead>\n",
       "    <tr style=\"text-align: right;\">\n",
       "      <th></th>\n",
       "      <th>make</th>\n",
       "      <th>body</th>\n",
       "      <th>mileage</th>\n",
       "      <th>engV</th>\n",
       "      <th>engType</th>\n",
       "      <th>registration</th>\n",
       "      <th>year</th>\n",
       "      <th>drive</th>\n",
       "      <th>age</th>\n",
       "    </tr>\n",
       "  </thead>\n",
       "  <tbody>\n",
       "    <tr>\n",
       "      <th>0</th>\n",
       "      <td>23</td>\n",
       "      <td>0</td>\n",
       "      <td>68</td>\n",
       "      <td>2.5</td>\n",
       "      <td>1</td>\n",
       "      <td>1</td>\n",
       "      <td>2010</td>\n",
       "      <td>1</td>\n",
       "      <td>9</td>\n",
       "    </tr>\n",
       "    <tr>\n",
       "      <th>1</th>\n",
       "      <td>50</td>\n",
       "      <td>3</td>\n",
       "      <td>173</td>\n",
       "      <td>1.8</td>\n",
       "      <td>1</td>\n",
       "      <td>1</td>\n",
       "      <td>2011</td>\n",
       "      <td>2</td>\n",
       "      <td>8</td>\n",
       "    </tr>\n",
       "    <tr>\n",
       "      <th>2</th>\n",
       "      <td>50</td>\n",
       "      <td>2</td>\n",
       "      <td>135</td>\n",
       "      <td>5.5</td>\n",
       "      <td>3</td>\n",
       "      <td>1</td>\n",
       "      <td>2008</td>\n",
       "      <td>2</td>\n",
       "      <td>11</td>\n",
       "    </tr>\n",
       "    <tr>\n",
       "      <th>3</th>\n",
       "      <td>50</td>\n",
       "      <td>5</td>\n",
       "      <td>162</td>\n",
       "      <td>1.8</td>\n",
       "      <td>0</td>\n",
       "      <td>1</td>\n",
       "      <td>2012</td>\n",
       "      <td>0</td>\n",
       "      <td>7</td>\n",
       "    </tr>\n",
       "    <tr>\n",
       "      <th>4</th>\n",
       "      <td>55</td>\n",
       "      <td>0</td>\n",
       "      <td>83</td>\n",
       "      <td>2.0</td>\n",
       "      <td>3</td>\n",
       "      <td>1</td>\n",
       "      <td>2013</td>\n",
       "      <td>1</td>\n",
       "      <td>6</td>\n",
       "    </tr>\n",
       "  </tbody>\n",
       "</table>\n",
       "</div>"
      ],
      "text/plain": [
       "   make  body  mileage  engV  engType  registration  year  drive  age\n",
       "0    23     0       68   2.5        1             1  2010      1    9\n",
       "1    50     3      173   1.8        1             1  2011      2    8\n",
       "2    50     2      135   5.5        3             1  2008      2   11\n",
       "3    50     5      162   1.8        0             1  2012      0    7\n",
       "4    55     0       83   2.0        3             1  2013      1    6"
      ]
     },
     "execution_count": 13,
     "metadata": {},
     "output_type": "execute_result"
    }
   ],
   "source": [
    "y = df['price']\n",
    "X = df[['make', 'body', 'mileage', 'engV', 'engType', 'registration', 'year', 'drive', 'age']]\n",
    "# Our data needs to have this shape to be accepted by sklearn\n",
    "print(X.shape)\n",
    "print(y.shape)\n",
    "X.head()"
   ]
  },
  {
   "cell_type": "markdown",
   "metadata": {
    "colab_type": "text",
    "id": "Uf_SQswNUPwM"
   },
   "source": [
    "## 1.2 Split the data into test and train datasets using train_test_split"
   ]
  },
  {
   "cell_type": "code",
   "execution_count": 14,
   "metadata": {
    "colab": {},
    "colab_type": "code",
    "id": "iIiELKuKUOgR"
   },
   "outputs": [
    {
     "name": "stdout",
     "output_type": "stream",
     "text": [
      "(8495, 9) \n",
      "\n",
      "(6371, 9)\n",
      "(2124, 9)\n",
      "(6371,)\n",
      "(2124,)\n"
     ]
    },
    {
     "data": {
      "text/html": [
       "<div>\n",
       "<style scoped>\n",
       "    .dataframe tbody tr th:only-of-type {\n",
       "        vertical-align: middle;\n",
       "    }\n",
       "\n",
       "    .dataframe tbody tr th {\n",
       "        vertical-align: top;\n",
       "    }\n",
       "\n",
       "    .dataframe thead th {\n",
       "        text-align: right;\n",
       "    }\n",
       "</style>\n",
       "<table border=\"1\" class=\"dataframe\">\n",
       "  <thead>\n",
       "    <tr style=\"text-align: right;\">\n",
       "      <th></th>\n",
       "      <th>make</th>\n",
       "      <th>body</th>\n",
       "      <th>mileage</th>\n",
       "      <th>engV</th>\n",
       "      <th>engType</th>\n",
       "      <th>registration</th>\n",
       "      <th>year</th>\n",
       "      <th>drive</th>\n",
       "      <th>age</th>\n",
       "    </tr>\n",
       "  </thead>\n",
       "  <tbody>\n",
       "    <tr>\n",
       "      <th>3094</th>\n",
       "      <td>76</td>\n",
       "      <td>0</td>\n",
       "      <td>100</td>\n",
       "      <td>1.6</td>\n",
       "      <td>3</td>\n",
       "      <td>1</td>\n",
       "      <td>1992</td>\n",
       "      <td>1</td>\n",
       "      <td>27</td>\n",
       "    </tr>\n",
       "    <tr>\n",
       "      <th>110</th>\n",
       "      <td>42</td>\n",
       "      <td>0</td>\n",
       "      <td>50</td>\n",
       "      <td>3.5</td>\n",
       "      <td>0</td>\n",
       "      <td>1</td>\n",
       "      <td>2008</td>\n",
       "      <td>1</td>\n",
       "      <td>11</td>\n",
       "    </tr>\n",
       "    <tr>\n",
       "      <th>3213</th>\n",
       "      <td>76</td>\n",
       "      <td>1</td>\n",
       "      <td>188</td>\n",
       "      <td>1.3</td>\n",
       "      <td>3</td>\n",
       "      <td>1</td>\n",
       "      <td>1993</td>\n",
       "      <td>0</td>\n",
       "      <td>26</td>\n",
       "    </tr>\n",
       "    <tr>\n",
       "      <th>7150</th>\n",
       "      <td>14</td>\n",
       "      <td>5</td>\n",
       "      <td>350</td>\n",
       "      <td>10.0</td>\n",
       "      <td>1</td>\n",
       "      <td>1</td>\n",
       "      <td>2002</td>\n",
       "      <td>0</td>\n",
       "      <td>17</td>\n",
       "    </tr>\n",
       "    <tr>\n",
       "      <th>1079</th>\n",
       "      <td>50</td>\n",
       "      <td>2</td>\n",
       "      <td>71</td>\n",
       "      <td>5.5</td>\n",
       "      <td>3</td>\n",
       "      <td>1</td>\n",
       "      <td>2007</td>\n",
       "      <td>2</td>\n",
       "      <td>12</td>\n",
       "    </tr>\n",
       "  </tbody>\n",
       "</table>\n",
       "</div>"
      ],
      "text/plain": [
       "      make  body  mileage  engV  engType  registration  year  drive  age\n",
       "3094    76     0      100   1.6        3             1  1992      1   27\n",
       "110     42     0       50   3.5        0             1  2008      1   11\n",
       "3213    76     1      188   1.3        3             1  1993      0   26\n",
       "7150    14     5      350  10.0        1             1  2002      0   17\n",
       "1079    50     2       71   5.5        3             1  2007      2   12"
      ]
     },
     "execution_count": 14,
     "metadata": {},
     "output_type": "execute_result"
    }
   ],
   "source": [
    "# Slit into test and train datasets\n",
    "X_train, X_test, Y_train, Y_test = train_test_split(X, y, test_size = 0.25, random_state=42)\n",
    "\n",
    "# fit model using train datasets\n",
    "model = LinearRegression()\n",
    "model.fit(X_train, Y_train)\n",
    "\n",
    "print(X.shape, \"\\n\")\n",
    "\n",
    "print(X_train.shape)\n",
    "print(X_test.shape)\n",
    "print(Y_train.shape)\n",
    "print(Y_test.shape)\n",
    "\n",
    "X_train.head()"
   ]
  },
  {
   "cell_type": "markdown",
   "metadata": {
    "colab_type": "text",
    "id": "0AdXWiwoUstf"
   },
   "source": [
    "## 1.3 Use Scikit-Learn to fit a multiple regression model using your training data."
   ]
  },
  {
   "cell_type": "code",
   "execution_count": 15,
   "metadata": {
    "colab": {},
    "colab_type": "code",
    "id": "Zw70rt71U1xf"
   },
   "outputs": [
    {
     "data": {
      "text/plain": [
       "LinearRegression(copy_X=True, fit_intercept=True, n_jobs=None,\n",
       "         normalize=False)"
      ]
     },
     "execution_count": 15,
     "metadata": {},
     "output_type": "execute_result"
    }
   ],
   "source": [
    "model = LinearRegression()\n",
    "model.fit(X_train, Y_train)\n"
   ]
  },
  {
   "cell_type": "markdown",
   "metadata": {
    "colab_type": "text",
    "id": "82fH2rilU7j3"
   },
   "source": [
    "## 1.4 Report the Intercept and Coefficient Values for the fitted model"
   ]
  },
  {
   "cell_type": "code",
   "execution_count": 16,
   "metadata": {},
   "outputs": [
    {
     "name": "stdout",
     "output_type": "stream",
     "text": [
      "Coefficient: \n",
      " [  -33.80914554 -1721.02501098   -39.96352172   272.10204943\n",
      " -1085.33344434  4487.51810936   572.62533405  8462.04541339\n",
      "  -572.62533405]\n",
      "\n",
      " Intercept:  -1122571.5996018685\n"
     ]
    }
   ],
   "source": [
    "print(\"Coefficient: \\n\", model.coef_)\n",
    "print(\"\\n Intercept: \", model.intercept_)"
   ]
  },
  {
   "cell_type": "markdown",
   "metadata": {
    "colab_type": "text",
    "id": "T0CV0OnDVZbu"
   },
   "source": [
    "## 1.5 Use the test data to make predictions"
   ]
  },
  {
   "cell_type": "code",
   "execution_count": 17,
   "metadata": {
    "colab": {},
    "colab_type": "code",
    "id": "vrR5b5c3VwE5"
   },
   "outputs": [
    {
     "name": "stdout",
     "output_type": "stream",
     "text": [
      "coefficients:  [  -33.80914554 -1721.02501098   -39.96352172   272.10204943\n",
      " -1085.33344434  4487.51810936   572.62533405  8462.04541339\n",
      "  -572.62533405]\n",
      "intercepts:  -1122571.5996018685\n"
     ]
    }
   ],
   "source": [
    "# Split into test and train datasets\n",
    "X_train, X_test, Y_train, Y_test = train_test_split(X, y, test_size = 0.25, random_state=42)\n",
    "\n",
    "# fit model using train datasets\n",
    "model = LinearRegression()\n",
    "model.fit(X_train, Y_train)\n",
    "\n",
    "# Create new predictions using x_test\n",
    "y_pred = model.predict(X_test)\n",
    "\n",
    "print(\"coefficients: \", model.coef_)\n",
    "print(\"intercepts: \", model.intercept_)"
   ]
  },
  {
   "cell_type": "markdown",
   "metadata": {
    "colab_type": "text",
    "id": "ZwQb3gE7VycT"
   },
   "source": [
    "## 1.6 Calculate and report both the Root-Mean-Square error and $R^2$ for the model. "
   ]
  },
  {
   "cell_type": "code",
   "execution_count": 19,
   "metadata": {
    "colab": {},
    "colab_type": "code",
    "id": "Ym2kjxWhU6b2"
   },
   "outputs": [
    {
     "name": "stdout",
     "output_type": "stream",
     "text": [
      "MSE is 413668554.1703276\n",
      "RMSE is 20338.843481632077\n",
      "R^2 is 0.30479352255023784\n"
     ]
    }
   ],
   "source": [
    "MSE = mean_squared_error(Y_test, y_pred)\n",
    "\n",
    "RMSE = (np.sqrt(mean_squared_error(Y_test, y_pred)))\n",
    "\n",
    "print('MSE is {}'.format(MSE))\n",
    "print('RMSE is {}'.format(RMSE))\n",
    "\n",
    "R2 = r2_score(Y_test, y_pred)\n",
    "\n",
    "print('R^2 is {}'.format(R2))"
   ]
  },
  {
   "cell_type": "markdown",
   "metadata": {
    "colab_type": "text",
    "id": "kIXhGHIgXHyJ"
   },
   "source": [
    "## 1.7 How should we interpret the coefficient corresponding to the \"year\" feature?"
   ]
  },
  {
   "cell_type": "markdown",
   "metadata": {
    "colab_type": "text",
    "id": "8jv2n0wAXgHU"
   },
   "source": [
    "The coefficient for the year is positive. This would be that the newer the car, the more expensive it would be. It should be just the opposite of that."
   ]
  },
  {
   "cell_type": "markdown",
   "metadata": {
    "colab_type": "text",
    "id": "ckQ5GsOtYsjn"
   },
   "source": [
    "## 1.8 How should we interpret the Root-Mean-Square Error?"
   ]
  },
  {
   "cell_type": "markdown",
   "metadata": {
    "colab_type": "text",
    "id": "F982IeSgYyp6"
   },
   "source": [
    "The RSME is a variance.  It measures the average magnitute of the errors but is disinterested in the direction of the error. This is a measure of accuracy. It is the difference between the actual and the predicted values, each then squared, then averaged over the entire sample."
   ]
  },
  {
   "cell_type": "markdown",
   "metadata": {
    "colab_type": "text",
    "id": "T3sZrru_YzFF"
   },
   "source": [
    "## 1.9 How should we interpret the $R^2$?"
   ]
  },
  {
   "cell_type": "markdown",
   "metadata": {
    "colab_type": "text",
    "id": "5pN2Oet_Y5jR"
   },
   "source": [
    "The $R^2$ tells us how successful or not the fit is in explaining the variance of the data. It's the square of the correlation between the actual value and the predicted value. $R^2$ can lie anywhere between zero and 1. An $R^2$ closer to 1 tells us there is a greater proportion of variance. Here we get an $R^2$ equal to 0.2734264423377091 or about 27.34%. This means the fit explains 27.34% of the total variation in the data around the average."
   ]
  },
  {
   "cell_type": "markdown",
   "metadata": {
    "colab_type": "text",
    "id": "Z_VNy7e3Y5sT"
   },
   "source": [
    "# Log-Linear and Polynomial Regression"
   ]
  },
  {
   "cell_type": "markdown",
   "metadata": {
    "colab_type": "text",
    "id": "G2T4FSqRZOJA"
   },
   "source": [
    "## 2.1 Engineer a new variable by taking the log of the price varible."
   ]
  },
  {
   "cell_type": "code",
   "execution_count": 20,
   "metadata": {
    "colab": {},
    "colab_type": "code",
    "id": "7EChAFNxZX24"
   },
   "outputs": [],
   "source": [
    "## generate our ln(price) variable\n",
    "df['ln_price'] = np.log(df['price'])"
   ]
  },
  {
   "cell_type": "markdown",
   "metadata": {
    "colab_type": "text",
    "id": "R117rxnOZw6q"
   },
   "source": [
    "## 2.2 Use scatterplots or seaborn's pairplot function to do the \"eyeball test\" for non-linearly distributed features."
   ]
  },
  {
   "cell_type": "code",
   "execution_count": 21,
   "metadata": {
    "colab": {},
    "colab_type": "code",
    "id": "8l56Qk7VaBrU"
   },
   "outputs": [
    {
     "data": {
      "text/plain": [
       "<seaborn.axisgrid.PairGrid at 0x11ffb4eb8>"
      ]
     },
     "execution_count": 21,
     "metadata": {},
     "output_type": "execute_result"
    },
    {
     "data": {
      "image/png": "[encoded data removed]",
      "text/plain": [
       "<Figure size 1800x180 with 10 Axes>"
      ]
     },
     "metadata": {},
     "output_type": "display_data"
    }
   ],
   "source": [
    "sns.set(style = \"ticks\", color_codes = True)\n",
    "\n",
    "# Generate a list of column headers not including price\n",
    "x_columns = df.columns.drop('ln_price')\n",
    "\n",
    "# Sample our dataframe to take 1/20th the values\n",
    "sampled = df.sample(frac = 0.05, replace = True)\n",
    "# print(x_columns)\n",
    "\n",
    "# Only plot the scatterplot of x variables with our y variable\n",
    "sns.pairplot(data = sampled, y_vars = ['price'], x_vars = x_columns)"
   ]
  },
  {
   "cell_type": "markdown",
   "metadata": {
    "colab_type": "text",
    "id": "QTf4gCaDaiCw"
   },
   "source": [
    "## 2.3 If appropriate, create any polynomial features. "
   ]
  },
  {
   "cell_type": "markdown",
   "metadata": {},
   "source": [
    "The plots for mileage, year, and age all appear to have a curve. Those would be appropriate for polynomial features."
   ]
  },
  {
   "cell_type": "code",
   "execution_count": 22,
   "metadata": {
    "colab": {},
    "colab_type": "code",
    "id": "ipsCcH83ZMe8"
   },
   "outputs": [
    {
     "data": {
      "text/html": [
       "<div>\n",
       "<style scoped>\n",
       "    .dataframe tbody tr th:only-of-type {\n",
       "        vertical-align: middle;\n",
       "    }\n",
       "\n",
       "    .dataframe tbody tr th {\n",
       "        vertical-align: top;\n",
       "    }\n",
       "\n",
       "    .dataframe thead th {\n",
       "        text-align: right;\n",
       "    }\n",
       "</style>\n",
       "<table border=\"1\" class=\"dataframe\">\n",
       "  <thead>\n",
       "    <tr style=\"text-align: right;\">\n",
       "      <th></th>\n",
       "      <th>make</th>\n",
       "      <th>price</th>\n",
       "      <th>body</th>\n",
       "      <th>mileage</th>\n",
       "      <th>engV</th>\n",
       "      <th>engType</th>\n",
       "      <th>registration</th>\n",
       "      <th>year</th>\n",
       "      <th>drive</th>\n",
       "      <th>age</th>\n",
       "      <th>ln_price</th>\n",
       "      <th>mileage_sq</th>\n",
       "      <th>year_sq</th>\n",
       "      <th>age_sq</th>\n",
       "    </tr>\n",
       "  </thead>\n",
       "  <tbody>\n",
       "    <tr>\n",
       "      <th>0</th>\n",
       "      <td>23</td>\n",
       "      <td>15500.0</td>\n",
       "      <td>0</td>\n",
       "      <td>68</td>\n",
       "      <td>2.5</td>\n",
       "      <td>1</td>\n",
       "      <td>1</td>\n",
       "      <td>2010</td>\n",
       "      <td>1</td>\n",
       "      <td>9</td>\n",
       "      <td>9.648595</td>\n",
       "      <td>4624</td>\n",
       "      <td>4040100</td>\n",
       "      <td>81</td>\n",
       "    </tr>\n",
       "    <tr>\n",
       "      <th>1</th>\n",
       "      <td>50</td>\n",
       "      <td>20500.0</td>\n",
       "      <td>3</td>\n",
       "      <td>173</td>\n",
       "      <td>1.8</td>\n",
       "      <td>1</td>\n",
       "      <td>1</td>\n",
       "      <td>2011</td>\n",
       "      <td>2</td>\n",
       "      <td>8</td>\n",
       "      <td>9.928180</td>\n",
       "      <td>29929</td>\n",
       "      <td>4044121</td>\n",
       "      <td>64</td>\n",
       "    </tr>\n",
       "    <tr>\n",
       "      <th>2</th>\n",
       "      <td>50</td>\n",
       "      <td>35000.0</td>\n",
       "      <td>2</td>\n",
       "      <td>135</td>\n",
       "      <td>5.5</td>\n",
       "      <td>3</td>\n",
       "      <td>1</td>\n",
       "      <td>2008</td>\n",
       "      <td>2</td>\n",
       "      <td>11</td>\n",
       "      <td>10.463103</td>\n",
       "      <td>18225</td>\n",
       "      <td>4032064</td>\n",
       "      <td>121</td>\n",
       "    </tr>\n",
       "    <tr>\n",
       "      <th>3</th>\n",
       "      <td>50</td>\n",
       "      <td>17800.0</td>\n",
       "      <td>5</td>\n",
       "      <td>162</td>\n",
       "      <td>1.8</td>\n",
       "      <td>0</td>\n",
       "      <td>1</td>\n",
       "      <td>2012</td>\n",
       "      <td>0</td>\n",
       "      <td>7</td>\n",
       "      <td>9.786954</td>\n",
       "      <td>26244</td>\n",
       "      <td>4048144</td>\n",
       "      <td>49</td>\n",
       "    </tr>\n",
       "    <tr>\n",
       "      <th>4</th>\n",
       "      <td>55</td>\n",
       "      <td>16600.0</td>\n",
       "      <td>0</td>\n",
       "      <td>83</td>\n",
       "      <td>2.0</td>\n",
       "      <td>3</td>\n",
       "      <td>1</td>\n",
       "      <td>2013</td>\n",
       "      <td>1</td>\n",
       "      <td>6</td>\n",
       "      <td>9.717158</td>\n",
       "      <td>6889</td>\n",
       "      <td>4052169</td>\n",
       "      <td>36</td>\n",
       "    </tr>\n",
       "  </tbody>\n",
       "</table>\n",
       "</div>"
      ],
      "text/plain": [
       "   make    price  body  mileage  engV  engType  registration  year  drive  \\\n",
       "0    23  15500.0     0       68   2.5        1             1  2010      1   \n",
       "1    50  20500.0     3      173   1.8        1             1  2011      2   \n",
       "2    50  35000.0     2      135   5.5        3             1  2008      2   \n",
       "3    50  17800.0     5      162   1.8        0             1  2012      0   \n",
       "4    55  16600.0     0       83   2.0        3             1  2013      1   \n",
       "\n",
       "   age   ln_price  mileage_sq  year_sq  age_sq  \n",
       "0    9   9.648595        4624  4040100      81  \n",
       "1    8   9.928180       29929  4044121      64  \n",
       "2   11  10.463103       18225  4032064     121  \n",
       "3    7   9.786954       26244  4048144      49  \n",
       "4    6   9.717158        6889  4052169      36  "
      ]
     },
     "execution_count": 22,
     "metadata": {},
     "output_type": "execute_result"
    }
   ],
   "source": [
    "df['mileage_sq'] = df['mileage']**2\n",
    "df['year_sq'] = df['year']**2\n",
    "df['age_sq'] = df['age']**2\n",
    "df.head()"
   ]
  },
  {
   "cell_type": "markdown",
   "metadata": {
    "colab_type": "text",
    "id": "NJgfD-JLayRA"
   },
   "source": [
    "## 2.4 Use the new log-transformed y variable and your x variables (including any new polynomial features) to fit a new linear regression model. Then report the: intercept, coefficients, RMSE, and $R^2$."
   ]
  },
  {
   "cell_type": "code",
   "execution_count": 24,
   "metadata": {
    "colab": {},
    "colab_type": "code",
    "id": "uXmtVpnPcFij"
   },
   "outputs": [
    {
     "name": "stdout",
     "output_type": "stream",
     "text": [
      "RMSE is 0.695607561656902\n",
      "R^2 is 0.48604060820318506\n",
      "coefficients:  [[-0.00059336 -0.0915822 ]]\n",
      "intercepts:  [10.40434135]\n"
     ]
    }
   ],
   "source": [
    "# Separate dependent and independent variables\n",
    "y = df.loc[:, ['ln_price']].values\n",
    "X1 = df.loc[:, ['mileage', 'age']].values\n",
    "\n",
    "# Slit into test and train datasets\n",
    "X1_train, X1_test, Y_train, Y_test = train_test_split(X1, y, test_size=.5, random_state=42)\n",
    "\n",
    "# fit model using train datasets\n",
    "model = LinearRegression()\n",
    "model.fit(X1_train, Y_train)\n",
    "\n",
    "# Create new predictions using x_test\n",
    "y_pred = model.predict(X1_test)\n",
    "\n",
    "# Measure Accuracy using y_test and y_pred\n",
    "RMSE = (np.sqrt(mean_squared_error(Y_test, y_pred)))\n",
    "R2 = r2_score(Y_test, y_pred)\n",
    "\n",
    "print('RMSE is {}'.format(RMSE))\n",
    "print('R^2 is {}'.format(R2))\n",
    "\n",
    "print(\"coefficients: \", model.coef_)\n",
    "print(\"intercepts: \", model.intercept_)"
   ]
  },
  {
   "cell_type": "markdown",
   "metadata": {
    "colab_type": "text",
    "id": "hf4_8FXrpHFY"
   },
   "source": [
    "## 2.5 How might we interpret the coefficient on \"year\" in this new regression model?"
   ]
  },
  {
   "cell_type": "markdown",
   "metadata": {
    "colab_type": "text",
    "id": "JVGKvt5WpTf2"
   },
   "source": [
    "A change in a year, as the year gets older, causes the price of the vehicle to go down.\n",
    "\n",
    "The coefficients generally correspond to the percent changes in the dependent variable. This does not include the natural log of y. But, that only holds true for coefficient values that lie between -0.1 and 0.1. Coefficients that land outside that range, it's better to use the calculations before taking the natural log of y.\n",
    "\n",
    "In the linear model has parameters that will vary depending on the data. In contrast, the parameters of the log model assume a constant."
   ]
  },
  {
   "cell_type": "markdown",
   "metadata": {
    "colab_type": "text",
    "id": "JUQwzfDRfrQi"
   },
   "source": [
    "# Gradient Descent"
   ]
  },
  {
   "cell_type": "markdown",
   "metadata": {
    "colab_type": "text",
    "id": "M_JLfReVeoYT"
   },
   "source": [
    "## 3.1 What does Gradient Descent seek to minimize?"
   ]
  },
  {
   "cell_type": "markdown",
   "metadata": {
    "colab_type": "text",
    "id": "-ezM_NS2fIJe"
   },
   "source": [
    "It minimizes a function iteratively to find the local minimum. The gradient itself measures how much the output of a function changes every time you change the input slightly."
   ]
  },
  {
   "cell_type": "markdown",
   "metadata": {
    "colab_type": "text",
    "id": "unqhNRYnfIL4"
   },
   "source": [
    "## 3.2 What is the \"Learning Rate\" and what is its function?"
   ]
  },
  {
   "cell_type": "markdown",
   "metadata": {
    "colab_type": "text",
    "id": "7jhKwIOVfT6B"
   },
   "source": [
    "The Learning Rate is the size of the steps we take toward the negative gradient. We can have a big learning rate to cover more ground but we risk overshooting the lowest point. A small learning rate gives us more precsion but can be very slow. We can be more confident in getting the lowest point but it will take a long time."
   ]
  },
  {
   "cell_type": "markdown",
   "metadata": {
    "colab_type": "text",
    "id": "Gs20FOntprd_"
   },
   "source": [
    "# Model Diagnostics"
   ]
  },
  {
   "cell_type": "markdown",
   "metadata": {
    "colab_type": "text",
    "id": "VJnxkobcpulV"
   },
   "source": [
    "## 4.1 Use statsmodels to run a log-linear or log-polynomial linear regression with robust standard errors."
   ]
  },
  {
   "cell_type": "code",
   "execution_count": 26,
   "metadata": {
    "colab": {},
    "colab_type": "code",
    "id": "QqCVeYBTpvfQ"
   },
   "outputs": [
    {
     "name": "stdout",
     "output_type": "stream",
     "text": [
      "                            OLS Regression Results                            \n",
      "==============================================================================\n",
      "Dep. Variable:                  price   R-squared:                       0.285\n",
      "Model:                            OLS   Adj. R-squared:                  0.285\n",
      "Method:                 Least Squares   F-statistic:                     229.2\n",
      "Date:                Fri, 18 Jan 2019   Prob (F-statistic):               0.00\n",
      "Time:                        19:16:48   Log-Likelihood:                -96464.\n",
      "No. Observations:                8495   AIC:                         1.929e+05\n",
      "Df Residuals:                    8486   BIC:                         1.930e+05\n",
      "Df Model:                           8                                         \n",
      "Covariance Type:                  HC3                                         \n",
      "================================================================================\n",
      "                   coef    std err          z      P>|z|      [0.025      0.975]\n",
      "--------------------------------------------------------------------------------\n",
      "const         3.418e+04   1144.475     29.862      0.000    3.19e+04    3.64e+04\n",
      "make           -34.7990      9.265     -3.756      0.000     -52.958     -16.640\n",
      "body         -1821.8953    159.854    -11.397      0.000   -2135.204   -1508.587\n",
      "mileage        -40.8843      3.466    -11.795      0.000     -47.678     -34.091\n",
      "engV           278.5616     60.808      4.581      0.000     159.380     397.743\n",
      "engType      -1143.0140    192.184     -5.947      0.000   -1519.688    -766.340\n",
      "registration  4649.1778    477.573      9.735      0.000    3713.152    5585.204\n",
      "drive         8471.0352    360.555     23.494      0.000    7764.361    9177.710\n",
      "age          -1157.3580     40.612    -28.498      0.000   -1236.957   -1077.759\n",
      "==============================================================================\n",
      "Omnibus:                    12437.721   Durbin-Watson:                   1.943\n",
      "Prob(Omnibus):                  0.000   Jarque-Bera (JB):          7295992.890\n",
      "Skew:                           8.690   Prob(JB):                         0.00\n",
      "Kurtosis:                     145.515   Cond. No.                     1.20e+03\n",
      "==============================================================================\n",
      "\n",
      "Warnings:\n",
      "[1] Standard Errors are heteroscedasticity robust (HC3)\n",
      "[2] The condition number is large, 1.2e+03. This might indicate that there are\n",
      "strong multicollinearity or other numerical problems.\n"
     ]
    }
   ],
   "source": [
    "y = df['price']\n",
    "X2 = df[['make', 'body', 'mileage', 'engV', 'engType', 'registration', 'drive', 'age']]\n",
    "\n",
    "# add constant for variance calculation with robust standard errors\n",
    "X2 = sm.add_constant(X2)\n",
    "\n",
    "model = sm.OLS(y, X2).fit(cov_type = 'HC3')\n",
    "predictions = model.predict(X2) \n",
    "\n",
    "print_model = model.summary()\n",
    "print(print_model)"
   ]
  },
  {
   "cell_type": "markdown",
   "metadata": {
    "colab_type": "text",
    "id": "loKma3wspwVs"
   },
   "source": [
    "## 4.2 Calculate the Variance Inflation Factor (VIF) of our X variables. Do we have multicollinearity problems?"
   ]
  },
  {
   "cell_type": "code",
   "execution_count": 27,
   "metadata": {
    "colab": {},
    "colab_type": "code",
    "id": "EN1mPKWhp2Vn"
   },
   "outputs": [
    {
     "name": "stdout",
     "output_type": "stream",
     "text": [
      "Index(['const', 'make', 'body', 'mileage', 'engV', 'engType', 'registration',\n",
      "       'drive', 'age'],\n",
      "      dtype='object') \n",
      "\n",
      "\n",
      "[31.753439741147925, 1.0591492515492282, 1.158325600133946, 1.549609797116091, 1.0093210319338708, 1.141182850737344, 1.091892092878522, 1.131020889703103, 1.4585277185506413]\n"
     ]
    }
   ],
   "source": [
    "from statsmodels.stats.outliers_influence import variance_inflation_factor\n",
    "\n",
    "print(X2.columns, '\\n\\n')\n",
    "\n",
    "vif = [variance_inflation_factor(X2.values, i) for i in range(X2.shape[1])]\n",
    "print(vif)"
   ]
  },
  {
   "cell_type": "markdown",
   "metadata": {},
   "source": [
    "We do not have any over 10 but a couple are a little high. I would check those two. "
   ]
  },
  {
   "cell_type": "code",
   "execution_count": null,
   "metadata": {},
   "outputs": [],
   "source": []
  }
 ],
 "metadata": {
  "colab": {
   "include_colab_link": true,
   "name": "Linear Regression Sprint Challenge.ipynb",
   "provenance": [],
   "version": "0.3.2"
  },
  "kernelspec": {
   "display_name": "Python 3",
   "language": "python",
   "name": "python3"
  },
  "language_info": {
   "codemirror_mode": {
    "name": "ipython",
    "version": 3
   },
   "file_extension": ".py",
   "mimetype": "text/x-python",
   "name": "python",
   "nbconvert_exporter": "python",
   "pygments_lexer": "ipython3",
   "version": "3.6.6"
  }
 },
 "nbformat": 4,
 "nbformat_minor": 2
}
