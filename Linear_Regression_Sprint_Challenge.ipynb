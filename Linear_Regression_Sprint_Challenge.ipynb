{
  "nbformat": 4,
  "nbformat_minor": 0,
  "metadata": {
    "colab": {
      "name": "Linear Regression Sprint Challenge.ipynb",
      "version": "0.3.2",
      "provenance": [],
      "include_colab_link": true
    },
    "kernelspec": {
      "name": "python3",
      "display_name": "Python 3"
    }
  },
  "cells": [
    {
      "cell_type": "markdown",
      "metadata": {
        "id": "view-in-github",
        "colab_type": "text"
      },
      "source": [
        "<a href=\"https://colab.research.google.com/github/tesseract314/DS-Unit-2-Sprint-2-Linear-Regression/blob/master/Linear_Regression_Sprint_Challenge.ipynb\" target=\"_parent\"><img src=\"https://colab.research.google.com/assets/colab-badge.svg\" alt=\"Open In Colab\"/></a>"
      ]
    },
    {
      "metadata": {
        "id": "YbiJuv5d2jZ7",
        "colab_type": "code",
        "outputId": "c2edf434-86f2-4c90-cba0-248bc41f18c8",
        "colab": {
          "base_uri": "https://localhost:8080/",
          "height": 70
        }
      },
      "cell_type": "code",
      "source": [
        "# Import everything you could ever need. ;)\n",
        "import pandas as pd\n",
        "import numpy as np\n",
        "import matplotlib.pyplot as plt\n",
        "import seaborn as sns\n",
        "import statsmodels.api as sm\n",
        "from statsmodels.stats.outliers_influence import variance_inflation_factor\n",
        "from sklearn.model_selection import train_test_split\n",
        "from sklearn.linear_model import LinearRegression\n",
        "from sklearn.metrics import mean_squared_error, r2_score"
      ],
      "execution_count": 1,
      "outputs": [
        {
          "output_type": "stream",
          "text": [
            "/usr/local/lib/python3.6/dist-packages/statsmodels/compat/pandas.py:56: FutureWarning: The pandas.core.datetools module is deprecated and will be removed in a future version. Please use the pandas.tseries module instead.\n",
            "  from pandas.core import datetools\n"
          ],
          "name": "stderr"
        }
      ]
    },
    {
      "metadata": {
        "id": "FgaItuSL3zxO",
        "colab_type": "code",
        "outputId": "78fb4895-1f87-44c1-a4dd-2af158c65b80",
        "colab": {
          "base_uri": "https://localhost:8080/",
          "height": 212
        }
      },
      "cell_type": "code",
      "source": [
        "# Ukraine Used Car Sale Price Prediction\n",
        "df = pd.read_csv('https://raw.githubusercontent.com/ryanleeallred/datasets/master/car_regression.csv')\n",
        "print(df.shape)\n",
        "df.head()"
      ],
      "execution_count": 2,
      "outputs": [
        {
          "output_type": "stream",
          "text": [
            "(8495, 9)\n"
          ],
          "name": "stdout"
        },
        {
          "output_type": "execute_result",
          "data": {
            "text/html": [
              "<div>\n",
              "<style scoped>\n",
              "    .dataframe tbody tr th:only-of-type {\n",
              "        vertical-align: middle;\n",
              "    }\n",
              "\n",
              "    .dataframe tbody tr th {\n",
              "        vertical-align: top;\n",
              "    }\n",
              "\n",
              "    .dataframe thead th {\n",
              "        text-align: right;\n",
              "    }\n",
              "</style>\n",
              "<table border=\"1\" class=\"dataframe\">\n",
              "  <thead>\n",
              "    <tr style=\"text-align: right;\">\n",
              "      <th></th>\n",
              "      <th>make</th>\n",
              "      <th>price</th>\n",
              "      <th>body</th>\n",
              "      <th>mileage</th>\n",
              "      <th>engV</th>\n",
              "      <th>engType</th>\n",
              "      <th>registration</th>\n",
              "      <th>year</th>\n",
              "      <th>drive</th>\n",
              "    </tr>\n",
              "  </thead>\n",
              "  <tbody>\n",
              "    <tr>\n",
              "      <th>0</th>\n",
              "      <td>23</td>\n",
              "      <td>15500.0</td>\n",
              "      <td>0</td>\n",
              "      <td>68</td>\n",
              "      <td>2.5</td>\n",
              "      <td>1</td>\n",
              "      <td>1</td>\n",
              "      <td>2010</td>\n",
              "      <td>1</td>\n",
              "    </tr>\n",
              "    <tr>\n",
              "      <th>1</th>\n",
              "      <td>50</td>\n",
              "      <td>20500.0</td>\n",
              "      <td>3</td>\n",
              "      <td>173</td>\n",
              "      <td>1.8</td>\n",
              "      <td>1</td>\n",
              "      <td>1</td>\n",
              "      <td>2011</td>\n",
              "      <td>2</td>\n",
              "    </tr>\n",
              "    <tr>\n",
              "      <th>2</th>\n",
              "      <td>50</td>\n",
              "      <td>35000.0</td>\n",
              "      <td>2</td>\n",
              "      <td>135</td>\n",
              "      <td>5.5</td>\n",
              "      <td>3</td>\n",
              "      <td>1</td>\n",
              "      <td>2008</td>\n",
              "      <td>2</td>\n",
              "    </tr>\n",
              "    <tr>\n",
              "      <th>3</th>\n",
              "      <td>50</td>\n",
              "      <td>17800.0</td>\n",
              "      <td>5</td>\n",
              "      <td>162</td>\n",
              "      <td>1.8</td>\n",
              "      <td>0</td>\n",
              "      <td>1</td>\n",
              "      <td>2012</td>\n",
              "      <td>0</td>\n",
              "    </tr>\n",
              "    <tr>\n",
              "      <th>4</th>\n",
              "      <td>55</td>\n",
              "      <td>16600.0</td>\n",
              "      <td>0</td>\n",
              "      <td>83</td>\n",
              "      <td>2.0</td>\n",
              "      <td>3</td>\n",
              "      <td>1</td>\n",
              "      <td>2013</td>\n",
              "      <td>1</td>\n",
              "    </tr>\n",
              "  </tbody>\n",
              "</table>\n",
              "</div>"
            ],
            "text/plain": [
              "   make    price  body  mileage  engV  engType  registration  year  drive\n",
              "0    23  15500.0     0       68   2.5        1             1  2010      1\n",
              "1    50  20500.0     3      173   1.8        1             1  2011      2\n",
              "2    50  35000.0     2      135   5.5        3             1  2008      2\n",
              "3    50  17800.0     5      162   1.8        0             1  2012      0\n",
              "4    55  16600.0     0       83   2.0        3             1  2013      1"
            ]
          },
          "metadata": {
            "tags": []
          },
          "execution_count": 2
        }
      ]
    },
    {
      "metadata": {
        "id": "ZBPHzmzr8wwH",
        "colab_type": "code",
        "colab": {
          "base_uri": "https://localhost:8080/",
          "height": 185
        },
        "outputId": "35c529df-56bf-4e13-a499-4916ce72e0b0"
      },
      "cell_type": "code",
      "source": [
        "df.isnull().sum()"
      ],
      "execution_count": 5,
      "outputs": [
        {
          "output_type": "execute_result",
          "data": {
            "text/plain": [
              "make            0\n",
              "price           0\n",
              "body            0\n",
              "mileage         0\n",
              "engV            0\n",
              "engType         0\n",
              "registration    0\n",
              "year            0\n",
              "drive           0\n",
              "dtype: int64"
            ]
          },
          "metadata": {
            "tags": []
          },
          "execution_count": 5
        }
      ]
    },
    {
      "metadata": {
        "id": "w9gkF-HNUFAV",
        "colab_type": "text"
      },
      "cell_type": "markdown",
      "source": [
        "# Predictive Modeling with Linear Regression"
      ]
    },
    {
      "metadata": {
        "id": "Vy1SWxcYTAC0",
        "colab_type": "text"
      },
      "cell_type": "markdown",
      "source": [
        "## 1.1 Divide the dataset features into an X matrix and y vector (\"price\" is what we want to predict)."
      ]
    },
    {
      "metadata": {
        "id": "aIvgyD1J8RGb",
        "colab_type": "code",
        "colab": {
          "base_uri": "https://localhost:8080/",
          "height": 67
        },
        "outputId": "147e616d-331b-4564-d203-214b7ae16a68"
      },
      "cell_type": "code",
      "source": [
        "# Getting list of column names\n",
        "df.columns"
      ],
      "execution_count": 3,
      "outputs": [
        {
          "output_type": "execute_result",
          "data": {
            "text/plain": [
              "Index(['make', 'price', 'body', 'mileage', 'engV', 'engType', 'registration',\n",
              "       'year', 'drive'],\n",
              "      dtype='object')"
            ]
          },
          "metadata": {
            "tags": []
          },
          "execution_count": 3
        }
      ]
    },
    {
      "metadata": {
        "id": "dwMbM9tUUaOQ",
        "colab_type": "code",
        "colab": {}
      },
      "cell_type": "code",
      "source": [
        "# Making X and y variables\n",
        "X = df[['make', 'body', 'mileage', 'engV', 'engType', 'registration','year', 'drive']]\n",
        "\n",
        "y = df['price']"
      ],
      "execution_count": 0,
      "outputs": []
    },
    {
      "metadata": {
        "id": "Uf_SQswNUPwM",
        "colab_type": "text"
      },
      "cell_type": "markdown",
      "source": [
        "## 1.2 Split the data into test and train datasets using train_test_split"
      ]
    },
    {
      "metadata": {
        "id": "iIiELKuKUOgR",
        "colab_type": "code",
        "colab": {}
      },
      "cell_type": "code",
      "source": [
        "# Splitting data\n",
        "X_train, X_test, Y_train, Y_test = train_test_split(X, y, test_size=.2, random_state=42)"
      ],
      "execution_count": 0,
      "outputs": []
    },
    {
      "metadata": {
        "id": "0AdXWiwoUstf",
        "colab_type": "text"
      },
      "cell_type": "markdown",
      "source": [
        "## 1.3 Use Scikit-Learn to fit a multiple regression model using your training data."
      ]
    },
    {
      "metadata": {
        "id": "Zw70rt71U1xf",
        "colab_type": "code",
        "colab": {
          "base_uri": "https://localhost:8080/",
          "height": 50
        },
        "outputId": "9f022bfd-1178-4820-b16d-6dabeaf34561"
      },
      "cell_type": "code",
      "source": [
        "# Making model instance\n",
        "model = LinearRegression()\n",
        "\n",
        "# Fitting model to training data\n",
        "model.fit(X_train, Y_train)"
      ],
      "execution_count": 11,
      "outputs": [
        {
          "output_type": "execute_result",
          "data": {
            "text/plain": [
              "LinearRegression(copy_X=True, fit_intercept=True, n_jobs=None,\n",
              "         normalize=False)"
            ]
          },
          "metadata": {
            "tags": []
          },
          "execution_count": 11
        }
      ]
    },
    {
      "metadata": {
        "id": "82fH2rilU7j3",
        "colab_type": "text"
      },
      "cell_type": "markdown",
      "source": [
        "## 1.4 Report the Intercept and Coefficient Values for the fitted model"
      ]
    },
    {
      "metadata": {
        "id": "ue6hCHGqVE83",
        "colab_type": "code",
        "colab": {
          "base_uri": "https://localhost:8080/",
          "height": 101
        },
        "outputId": "1a2b29bf-66a7-4bea-e866-9ba524e4f470"
      },
      "cell_type": "code",
      "source": [
        "# Making variables for coefficients and intercept\n",
        "beta_i = model.coef_\n",
        "beta_0 = model.intercept_\n",
        "\n",
        "# Printing results\n",
        "print(\"Coefficients: \\n\", beta_i)\n",
        "print(\"\\n Intercept: \", beta_0)"
      ],
      "execution_count": 12,
      "outputs": [
        {
          "output_type": "stream",
          "text": [
            "Coefficients: \n",
            " [  -35.16726588 -1770.98509064   -40.26859658   273.03540784\n",
            " -1111.08031708  4535.06013378  1140.73124767  8292.04613874]\n",
            "\n",
            " Intercept:  -2269355.0772314165\n"
          ],
          "name": "stdout"
        }
      ]
    },
    {
      "metadata": {
        "id": "T0CV0OnDVZbu",
        "colab_type": "text"
      },
      "cell_type": "markdown",
      "source": [
        "## 1.5 Use the test data to make predictions"
      ]
    },
    {
      "metadata": {
        "id": "vrR5b5c3VwE5",
        "colab_type": "code",
        "colab": {
          "base_uri": "https://localhost:8080/",
          "height": 50
        },
        "outputId": "9f20b338-534c-4499-9013-085efd4b1bbd"
      },
      "cell_type": "code",
      "source": [
        "# Using model function to predict y values using X_test dataset\n",
        "y_test_predict = model.predict(X_test)\n",
        "\n",
        "# Showing some predictions\n",
        "y_test_predict"
      ],
      "execution_count": 14,
      "outputs": [
        {
          "output_type": "execute_result",
          "data": {
            "text/plain": [
              "array([19200.26639279,  5355.00284406, 26205.12415048, ...,\n",
              "       29728.80723151,  8920.98307381, 14092.87146182])"
            ]
          },
          "metadata": {
            "tags": []
          },
          "execution_count": 14
        }
      ]
    },
    {
      "metadata": {
        "id": "ZwQb3gE7VycT",
        "colab_type": "text"
      },
      "cell_type": "markdown",
      "source": [
        "## 1.6 Calculate and report both the Root-Mean-Square error and $R^2$ for the model. "
      ]
    },
    {
      "metadata": {
        "id": "Ym2kjxWhU6b2",
        "colab_type": "code",
        "colab": {
          "base_uri": "https://localhost:8080/",
          "height": 50
        },
        "outputId": "8c2e5049-83e5-4861-dc9e-99ee6ef0e6f9"
      },
      "cell_type": "code",
      "source": [
        "# Calculating RMSE and R^2\n",
        "RMSE = (np.sqrt(mean_squared_error(Y_test, y_test_predict)))\n",
        "R2 = r2_score(Y_test, y_test_predict)\n",
        "\n",
        "# Showing results\n",
        "print(\"RMSE:\", RMSE)\n",
        "print(\"R2:\", R2)"
      ],
      "execution_count": 16,
      "outputs": [
        {
          "output_type": "stream",
          "text": [
            "RMSE: 21394.43524600266\n",
            "R2: 0.29213322373743256\n"
          ],
          "name": "stdout"
        }
      ]
    },
    {
      "metadata": {
        "id": "kIXhGHIgXHyJ",
        "colab_type": "text"
      },
      "cell_type": "markdown",
      "source": [
        "## 1.7 How should we interpret the coefficient corresponding to the \"year\" feature?"
      ]
    },
    {
      "metadata": {
        "id": "8jv2n0wAXgHU",
        "colab_type": "text"
      },
      "cell_type": "markdown",
      "source": [
        "The corresponding coefficient to 'year' is approximately 1141. So, for every 1 year increase, we would expect the price of a car to go up $1,141."
      ]
    },
    {
      "metadata": {
        "id": "ckQ5GsOtYsjn",
        "colab_type": "text"
      },
      "cell_type": "markdown",
      "source": [
        "## 1.8 How should we interpret the Root-Mean-Square Error?"
      ]
    },
    {
      "metadata": {
        "id": "F982IeSgYyp6",
        "colab_type": "text"
      },
      "cell_type": "markdown",
      "source": [
        "The Root-Mean-Squared-Error is approximately 21394. This means the accuracy of our predictions, according to RMSE, is off by $21,394."
      ]
    },
    {
      "metadata": {
        "id": "T3sZrru_YzFF",
        "colab_type": "text"
      },
      "cell_type": "markdown",
      "source": [
        "## 1.9 How should we interpret the $R^2$?"
      ]
    },
    {
      "metadata": {
        "id": "5pN2Oet_Y5jR",
        "colab_type": "text"
      },
      "cell_type": "markdown",
      "source": [
        "R^2 is a measure of goodness of fit (i.e. how close the data are fit to the regression line). In this example, R^2 is about 0.29, so the data are not fit very closely."
      ]
    },
    {
      "metadata": {
        "id": "Z_VNy7e3Y5sT",
        "colab_type": "text"
      },
      "cell_type": "markdown",
      "source": [
        "# Log-Linear and Polynomial Regression"
      ]
    },
    {
      "metadata": {
        "id": "G2T4FSqRZOJA",
        "colab_type": "text"
      },
      "cell_type": "markdown",
      "source": [
        "## 2.1 Engineer a new variable by taking the log of the price varible."
      ]
    },
    {
      "metadata": {
        "id": "7EChAFNxZX24",
        "colab_type": "code",
        "colab": {
          "base_uri": "https://localhost:8080/",
          "height": 195
        },
        "outputId": "ea9bcecd-b4b9-4762-a50b-df2f12e33431"
      },
      "cell_type": "code",
      "source": [
        "# Making log price and seeing that it's added to df\n",
        "df['ln_price'] = np.log(df['price'])\n",
        "df.head()"
      ],
      "execution_count": 17,
      "outputs": [
        {
          "output_type": "execute_result",
          "data": {
            "text/html": [
              "<div>\n",
              "<style scoped>\n",
              "    .dataframe tbody tr th:only-of-type {\n",
              "        vertical-align: middle;\n",
              "    }\n",
              "\n",
              "    .dataframe tbody tr th {\n",
              "        vertical-align: top;\n",
              "    }\n",
              "\n",
              "    .dataframe thead th {\n",
              "        text-align: right;\n",
              "    }\n",
              "</style>\n",
              "<table border=\"1\" class=\"dataframe\">\n",
              "  <thead>\n",
              "    <tr style=\"text-align: right;\">\n",
              "      <th></th>\n",
              "      <th>make</th>\n",
              "      <th>price</th>\n",
              "      <th>body</th>\n",
              "      <th>mileage</th>\n",
              "      <th>engV</th>\n",
              "      <th>engType</th>\n",
              "      <th>registration</th>\n",
              "      <th>year</th>\n",
              "      <th>drive</th>\n",
              "      <th>ln_price</th>\n",
              "    </tr>\n",
              "  </thead>\n",
              "  <tbody>\n",
              "    <tr>\n",
              "      <th>0</th>\n",
              "      <td>23</td>\n",
              "      <td>15500.0</td>\n",
              "      <td>0</td>\n",
              "      <td>68</td>\n",
              "      <td>2.5</td>\n",
              "      <td>1</td>\n",
              "      <td>1</td>\n",
              "      <td>2010</td>\n",
              "      <td>1</td>\n",
              "      <td>9.648595</td>\n",
              "    </tr>\n",
              "    <tr>\n",
              "      <th>1</th>\n",
              "      <td>50</td>\n",
              "      <td>20500.0</td>\n",
              "      <td>3</td>\n",
              "      <td>173</td>\n",
              "      <td>1.8</td>\n",
              "      <td>1</td>\n",
              "      <td>1</td>\n",
              "      <td>2011</td>\n",
              "      <td>2</td>\n",
              "      <td>9.928180</td>\n",
              "    </tr>\n",
              "    <tr>\n",
              "      <th>2</th>\n",
              "      <td>50</td>\n",
              "      <td>35000.0</td>\n",
              "      <td>2</td>\n",
              "      <td>135</td>\n",
              "      <td>5.5</td>\n",
              "      <td>3</td>\n",
              "      <td>1</td>\n",
              "      <td>2008</td>\n",
              "      <td>2</td>\n",
              "      <td>10.463103</td>\n",
              "    </tr>\n",
              "    <tr>\n",
              "      <th>3</th>\n",
              "      <td>50</td>\n",
              "      <td>17800.0</td>\n",
              "      <td>5</td>\n",
              "      <td>162</td>\n",
              "      <td>1.8</td>\n",
              "      <td>0</td>\n",
              "      <td>1</td>\n",
              "      <td>2012</td>\n",
              "      <td>0</td>\n",
              "      <td>9.786954</td>\n",
              "    </tr>\n",
              "    <tr>\n",
              "      <th>4</th>\n",
              "      <td>55</td>\n",
              "      <td>16600.0</td>\n",
              "      <td>0</td>\n",
              "      <td>83</td>\n",
              "      <td>2.0</td>\n",
              "      <td>3</td>\n",
              "      <td>1</td>\n",
              "      <td>2013</td>\n",
              "      <td>1</td>\n",
              "      <td>9.717158</td>\n",
              "    </tr>\n",
              "  </tbody>\n",
              "</table>\n",
              "</div>"
            ],
            "text/plain": [
              "   make    price  body  mileage  engV  engType  registration  year  drive  \\\n",
              "0    23  15500.0     0       68   2.5        1             1  2010      1   \n",
              "1    50  20500.0     3      173   1.8        1             1  2011      2   \n",
              "2    50  35000.0     2      135   5.5        3             1  2008      2   \n",
              "3    50  17800.0     5      162   1.8        0             1  2012      0   \n",
              "4    55  16600.0     0       83   2.0        3             1  2013      1   \n",
              "\n",
              "    ln_price  \n",
              "0   9.648595  \n",
              "1   9.928180  \n",
              "2  10.463103  \n",
              "3   9.786954  \n",
              "4   9.717158  "
            ]
          },
          "metadata": {
            "tags": []
          },
          "execution_count": 17
        }
      ]
    },
    {
      "metadata": {
        "id": "R117rxnOZw6q",
        "colab_type": "text"
      },
      "cell_type": "markdown",
      "source": [
        "## 2.2 Use scatterplots or seaborn's pairplot function to do the \"eyeball test\" for non-linearly distributed features."
      ]
    },
    {
      "metadata": {
        "id": "8l56Qk7VaBrU",
        "colab_type": "code",
        "colab": {
          "base_uri": "https://localhost:8080/",
          "height": 222
        },
        "outputId": "5fde4d41-1b9c-4759-bbd5-f2f89d25bd17"
      },
      "cell_type": "code",
      "source": [
        "sns.set(style=\"ticks\", color_codes=True)\n",
        "\n",
        "# Generating list of column headers, except for ln_price\n",
        "x_columns = df.columns.drop('ln_price')\n",
        "\n",
        "# Plotting scatterplot of x variables with our y variable only\n",
        "sns.pairplot(data=df, y_vars=['ln_price'], x_vars=x_columns)"
      ],
      "execution_count": 18,
      "outputs": [
        {
          "output_type": "execute_result",
          "data": {
            "text/plain": [
              "<seaborn.axisgrid.PairGrid at 0x7f3a17773eb8>"
            ]
          },
          "metadata": {
            "tags": []
          },
          "execution_count": 18
        },
        {
          "output_type": "display_data",
          "data": {
            "image/png": "[encoded data removed]",
            "text/plain": [
              "<Figure size 1620x180 with 9 Axes>"
            ]
          },
          "metadata": {
            "tags": []
          }
        }
      ]
    },
    {
      "metadata": {
        "id": "QTf4gCaDaiCw",
        "colab_type": "text"
      },
      "cell_type": "markdown",
      "source": [
        "## 2.3 If appropriate, create any polynomial features. "
      ]
    },
    {
      "metadata": {
        "id": "ipsCcH83ZMe8",
        "colab_type": "code",
        "colab": {}
      },
      "cell_type": "code",
      "source": [
        "# Squaring year because it looks like it could be a good polynomial feature\n",
        "df['year_squared'] = df['year'] ** 2"
      ],
      "execution_count": 0,
      "outputs": []
    },
    {
      "metadata": {
        "id": "kPmUMnL5G8tr",
        "colab_type": "code",
        "colab": {
          "base_uri": "https://localhost:8080/",
          "height": 222
        },
        "outputId": "a145439c-cb40-4913-8121-7db8b3882778"
      },
      "cell_type": "code",
      "source": [
        "# Running another 'eyeball test' to see what the year_squared feature looks like\n",
        "sns.set(style=\"ticks\", color_codes=True)\n",
        "\n",
        "# Generating list of column headers, except for ln_price\n",
        "x_columns = df.columns.drop('ln_price')\n",
        "\n",
        "# Plotting scatterplot of x variables with our y variable only\n",
        "sns.pairplot(data=df, y_vars=['ln_price'], x_vars=x_columns)"
      ],
      "execution_count": 21,
      "outputs": [
        {
          "output_type": "execute_result",
          "data": {
            "text/plain": [
              "<seaborn.axisgrid.PairGrid at 0x7f39f97abf28>"
            ]
          },
          "metadata": {
            "tags": []
          },
          "execution_count": 21
        },
        {
          "output_type": "display_data",
          "data": {
            "image/png": "[encoded data removed]",
            "text/plain": [
              "<Figure size 1800x180 with 10 Axes>"
            ]
          },
          "metadata": {
            "tags": []
          }
        }
      ]
    },
    {
      "metadata": {
        "id": "NJgfD-JLayRA",
        "colab_type": "text"
      },
      "cell_type": "markdown",
      "source": [
        "## 2.4 Use the new log-transformed y variable and your x variables (including any new polynomial features) to fit a new linear regression model. Then report the: intercept, coefficients, RMSE, and $R^2$."
      ]
    },
    {
      "metadata": {
        "id": "uXmtVpnPcFij",
        "colab_type": "code",
        "colab": {
          "base_uri": "https://localhost:8080/",
          "height": 67
        },
        "outputId": "90b601f4-923a-48f7-a3d8-a4ebc5810f58"
      },
      "cell_type": "code",
      "source": [
        "# Getting list of columns\n",
        "df.columns"
      ],
      "execution_count": 22,
      "outputs": [
        {
          "output_type": "execute_result",
          "data": {
            "text/plain": [
              "Index(['make', 'price', 'body', 'mileage', 'engV', 'engType', 'registration',\n",
              "       'year', 'drive', 'ln_price', 'year_squared'],\n",
              "      dtype='object')"
            ]
          },
          "metadata": {
            "tags": []
          },
          "execution_count": 22
        }
      ]
    },
    {
      "metadata": {
        "id": "gACcZk3ZHVOO",
        "colab_type": "code",
        "colab": {
          "base_uri": "https://localhost:8080/",
          "height": 50
        },
        "outputId": "a0ca26e6-0c90-468a-dfb9-6565aec0b951"
      },
      "cell_type": "code",
      "source": [
        "# Adding squared X feature\n",
        "X = df[['make', 'body', 'mileage', 'engV', 'engType', 'registration', 'drive',\n",
        "        'year','year_squared']]\n",
        "\n",
        "# Using log price\n",
        "y = df['ln_price']\n",
        "\n",
        "# Splitting data\n",
        "X_train, X_test, Y_train, Y_test = train_test_split(X, y, test_size=.2, random_state=42)\n",
        "\n",
        "# Fitting model to training data\n",
        "model.fit(X_train, Y_train)"
      ],
      "execution_count": 27,
      "outputs": [
        {
          "output_type": "execute_result",
          "data": {
            "text/plain": [
              "LinearRegression(copy_X=True, fit_intercept=True, n_jobs=None,\n",
              "         normalize=False)"
            ]
          },
          "metadata": {
            "tags": []
          },
          "execution_count": 27
        }
      ]
    },
    {
      "metadata": {
        "id": "dQ4OOJQuHVVK",
        "colab_type": "code",
        "colab": {
          "base_uri": "https://localhost:8080/",
          "height": 118
        },
        "outputId": "df1893f8-f48e-4778-d47c-265066de20b6"
      },
      "cell_type": "code",
      "source": [
        "# Making variables for coefficients and intercept\n",
        "beta_i = model.coef_\n",
        "beta_0 = model.intercept_\n",
        "\n",
        "# Printing results\n",
        "print(\"Coefficients: \\n\", beta_i)\n",
        "print(\"\\n Intercept: \", beta_0)"
      ],
      "execution_count": 28,
      "outputs": [
        {
          "output_type": "stream",
          "text": [
            "Coefficients: \n",
            " [-1.69063291e-03 -9.39572722e-02  6.77678823e-04  8.23353557e-03\n",
            " -4.85002366e-02  6.71639900e-01  3.73889221e-01 -6.07868803e+00\n",
            "  1.54364627e-03]\n",
            "\n",
            " Intercept:  5990.619369451471\n"
          ],
          "name": "stdout"
        }
      ]
    },
    {
      "metadata": {
        "id": "_SNZ2z7SIvp8",
        "colab_type": "code",
        "colab": {
          "base_uri": "https://localhost:8080/",
          "height": 50
        },
        "outputId": "2d4a5f04-98b8-4eea-a5c9-9651d76aa8df"
      },
      "cell_type": "code",
      "source": [
        "# Using model function to predict y values using X_test dataset\n",
        "y_test_predict = model.predict(X_test)\n",
        "\n",
        "# Calculating RMSE and R^2\n",
        "RMSE = (np.sqrt(mean_squared_error(Y_test, y_test_predict)))\n",
        "R2 = r2_score(Y_test, y_test_predict)\n",
        "\n",
        "# Showing results\n",
        "print(\"RMSE:\", RMSE)\n",
        "print(\"R2:\", R2)"
      ],
      "execution_count": 29,
      "outputs": [
        {
          "output_type": "stream",
          "text": [
            "RMSE: 0.5628544021513837\n",
            "R2: 0.6694314006573964\n"
          ],
          "name": "stdout"
        }
      ]
    },
    {
      "metadata": {
        "id": "hf4_8FXrpHFY",
        "colab_type": "text"
      },
      "cell_type": "markdown",
      "source": [
        "## 2.5 How might we interpret the coefficient on \"year\" in this new regression model?"
      ]
    },
    {
      "metadata": {
        "id": "JVGKvt5WpTf2",
        "colab_type": "text"
      },
      "cell_type": "markdown",
      "source": [
        "In the new regression model, the 'year' feature coefficient is approximately -6. With the price now in log form, the coefficients can be interpreted as percents, instead of dollars. The -6 coefficient for 'year' is counterintuitive to me. It tells us that a 1 year increase decreases the price by 6%."
      ]
    },
    {
      "metadata": {
        "id": "JUQwzfDRfrQi",
        "colab_type": "text"
      },
      "cell_type": "markdown",
      "source": [
        "# Gradient Descent"
      ]
    },
    {
      "metadata": {
        "id": "M_JLfReVeoYT",
        "colab_type": "text"
      },
      "cell_type": "markdown",
      "source": [
        "## 3.1 What does Gradient Descent seek to minimize?"
      ]
    },
    {
      "metadata": {
        "id": "-ezM_NS2fIJe",
        "colab_type": "text"
      },
      "cell_type": "markdown",
      "source": [
        "Gradient Descent seeks to minimize the cost function (i.e. error), which is a comparison between our hypothesis regression and our actual y values. In other words, Gradient Descent looks to minimize error by finding the lowest point in the cost function."
      ]
    },
    {
      "metadata": {
        "id": "unqhNRYnfIL4",
        "colab_type": "text"
      },
      "cell_type": "markdown",
      "source": [
        "## 3.2 What is the \"Learning Rate\" and what is its function?"
      ]
    },
    {
      "metadata": {
        "id": "7jhKwIOVfT6B",
        "colab_type": "text"
      },
      "cell_type": "markdown",
      "source": [
        "If we think of Gradient Descent as a hiker trying to find the lowest point within a landscape, the initial step size that the hiker takes would be the Learning Rate. However, because the Learning Rate (step size) is multiplied by gradient (slope) in the gradient descent equation, the Learning Rate shrinks as it gets closer to the minimum point. Also, the Learning Rate must be set appropriately. If it's set too small, we may not reach the minimum point. But if it's set too high, we may skip over the minimum point."
      ]
    },
    {
      "metadata": {
        "id": "Gs20FOntprd_",
        "colab_type": "text"
      },
      "cell_type": "markdown",
      "source": [
        "# Model Diagnostics"
      ]
    },
    {
      "metadata": {
        "id": "VJnxkobcpulV",
        "colab_type": "text"
      },
      "cell_type": "markdown",
      "source": [
        "## 4.1 Use statsmodels to run a log-linear or log-polynomial linear regression with robust standard errors."
      ]
    },
    {
      "metadata": {
        "id": "QqCVeYBTpvfQ",
        "colab_type": "code",
        "colab": {}
      },
      "cell_type": "code",
      "source": [
        "# Using variables for log-polynomial linear regression\n",
        "\n",
        "X = df[['make', 'body', 'mileage', 'engV', 'engType', 'registration', 'drive',\n",
        "        'year','year_squared']]\n",
        "\n",
        "y = df['ln_price']"
      ],
      "execution_count": 0,
      "outputs": []
    },
    {
      "metadata": {
        "id": "gasRNolrRpkx",
        "colab_type": "code",
        "colab": {
          "base_uri": "https://localhost:8080/",
          "height": 605
        },
        "outputId": "15bb76fd-2cb1-43d5-f47d-a57abcabdc93"
      },
      "cell_type": "code",
      "source": [
        "# Adding vector of ones to X\n",
        "X = sm.add_constant(X)\n",
        "\n",
        "# Fitting statsmodels OLS model to data\n",
        "ols_model = sm.OLS(y, X).fit(cov_type='HC3') # Using robust std errors with \"cov_type='HC3'\" parameter\n",
        "predictions = ols_model.predict(X)\n",
        "\n",
        "# Printing model summary\n",
        "print(ols_model.summary())"
      ],
      "execution_count": 32,
      "outputs": [
        {
          "output_type": "stream",
          "text": [
            "                            OLS Regression Results                            \n",
            "==============================================================================\n",
            "Dep. Variable:               ln_price   R-squared:                       0.674\n",
            "Model:                            OLS   Adj. R-squared:                  0.673\n",
            "Method:                 Least Squares   F-statistic:                     1870.\n",
            "Date:                Fri, 22 Feb 2019   Prob (F-statistic):               0.00\n",
            "Time:                        17:39:08   Log-Likelihood:                -6964.2\n",
            "No. Observations:                8495   AIC:                         1.395e+04\n",
            "Df Residuals:                    8485   BIC:                         1.402e+04\n",
            "Df Model:                           9                                         \n",
            "Covariance Type:                  HC3                                         \n",
            "================================================================================\n",
            "                   coef    std err          z      P>|z|      [0.025      0.975]\n",
            "--------------------------------------------------------------------------------\n",
            "const         6418.6476    624.441     10.279      0.000    5194.765    7642.530\n",
            "make            -0.0017      0.000     -6.268      0.000      -0.002      -0.001\n",
            "body            -0.0955      0.004    -24.038      0.000      -0.103      -0.088\n",
            "mileage          0.0007      0.000      6.049      0.000       0.000       0.001\n",
            "engV             0.0086      0.002      3.538      0.000       0.004       0.013\n",
            "engType         -0.0476      0.005     -9.996      0.000      -0.057      -0.038\n",
            "registration     0.6552      0.019     34.061      0.000       0.618       0.693\n",
            "drive            0.3756      0.010     38.331      0.000       0.356       0.395\n",
            "year            -6.5067      0.624    -10.428      0.000      -7.730      -5.284\n",
            "year_squared     0.0017      0.000     10.589      0.000       0.001       0.002\n",
            "==============================================================================\n",
            "Omnibus:                      236.710   Durbin-Watson:                   1.921\n",
            "Prob(Omnibus):                  0.000   Jarque-Bera (JB):              571.052\n",
            "Skew:                          -0.088   Prob(JB):                    9.94e-125\n",
            "Kurtosis:                       4.258   Cond. No.                     2.19e+11\n",
            "==============================================================================\n",
            "\n",
            "Warnings:\n",
            "[1] Standard Errors are heteroscedasticity robust (HC3)\n",
            "[2] The condition number is large, 2.19e+11. This might indicate that there are\n",
            "strong multicollinearity or other numerical problems.\n"
          ],
          "name": "stdout"
        }
      ]
    },
    {
      "metadata": {
        "id": "loKma3wspwVs",
        "colab_type": "text"
      },
      "cell_type": "markdown",
      "source": [
        "## 4.2 Calculate the Variance Inflation Factor (VIF) of our X variables. Do we have multicollinearity problems?"
      ]
    },
    {
      "metadata": {
        "id": "EN1mPKWhp2Vn",
        "colab_type": "code",
        "colab": {
          "base_uri": "https://localhost:8080/",
          "height": 138
        },
        "outputId": "f1d3c223-5d7f-4f7c-b2a2-206849d109f2"
      },
      "cell_type": "code",
      "source": [
        "# Printing X columns for easy reference\n",
        "print(X.columns, '\\n\\n')\n",
        "\n",
        "# Calculating VIF for every feature in X\n",
        "vif = [variance_inflation_factor(X.values, i) for i in range(X.shape[1])]\n",
        "\n",
        "# Printing VIF results\n",
        "print(vif)"
      ],
      "execution_count": 33,
      "outputs": [
        {
          "output_type": "stream",
          "text": [
            "Index(['const', 'make', 'body', 'mileage', 'engV', 'engType', 'registration',\n",
            "       'drive', 'year', 'year_squared'],\n",
            "      dtype='object') \n",
            "\n",
            "\n",
            "[2953273039.000897, 1.0604314751619541, 1.1583527741914696, 1.9368892032943774, 1.0100376419582862, 1.1547598212320087, 1.108514698220217, 1.1396338223459779, 141693.16571434424, 141937.91485709895]\n"
          ],
          "name": "stdout"
        }
      ]
    },
    {
      "metadata": {
        "id": "1qRMvFCAUuYn",
        "colab_type": "code",
        "colab": {
          "base_uri": "https://localhost:8080/",
          "height": 343
        },
        "outputId": "4ff11927-946f-49c7-8b6c-2defe96ad7db"
      },
      "cell_type": "code",
      "source": [
        "# Looking at correlation to confirm high collinearity between year and year_squared\n",
        "X.corr()"
      ],
      "execution_count": 34,
      "outputs": [
        {
          "output_type": "execute_result",
          "data": {
            "text/html": [
              "<div>\n",
              "<style scoped>\n",
              "    .dataframe tbody tr th:only-of-type {\n",
              "        vertical-align: middle;\n",
              "    }\n",
              "\n",
              "    .dataframe tbody tr th {\n",
              "        vertical-align: top;\n",
              "    }\n",
              "\n",
              "    .dataframe thead th {\n",
              "        text-align: right;\n",
              "    }\n",
              "</style>\n",
              "<table border=\"1\" class=\"dataframe\">\n",
              "  <thead>\n",
              "    <tr style=\"text-align: right;\">\n",
              "      <th></th>\n",
              "      <th>const</th>\n",
              "      <th>make</th>\n",
              "      <th>body</th>\n",
              "      <th>mileage</th>\n",
              "      <th>engV</th>\n",
              "      <th>engType</th>\n",
              "      <th>registration</th>\n",
              "      <th>drive</th>\n",
              "      <th>year</th>\n",
              "      <th>year_squared</th>\n",
              "    </tr>\n",
              "  </thead>\n",
              "  <tbody>\n",
              "    <tr>\n",
              "      <th>const</th>\n",
              "      <td>NaN</td>\n",
              "      <td>NaN</td>\n",
              "      <td>NaN</td>\n",
              "      <td>NaN</td>\n",
              "      <td>NaN</td>\n",
              "      <td>NaN</td>\n",
              "      <td>NaN</td>\n",
              "      <td>NaN</td>\n",
              "      <td>NaN</td>\n",
              "      <td>NaN</td>\n",
              "    </tr>\n",
              "    <tr>\n",
              "      <th>make</th>\n",
              "      <td>NaN</td>\n",
              "      <td>1.000000</td>\n",
              "      <td>0.026127</td>\n",
              "      <td>-0.035097</td>\n",
              "      <td>-0.021246</td>\n",
              "      <td>-0.011880</td>\n",
              "      <td>0.104557</td>\n",
              "      <td>-0.196444</td>\n",
              "      <td>-0.013833</td>\n",
              "      <td>-0.013679</td>\n",
              "    </tr>\n",
              "    <tr>\n",
              "      <th>body</th>\n",
              "      <td>NaN</td>\n",
              "      <td>0.026127</td>\n",
              "      <td>1.000000</td>\n",
              "      <td>0.287060</td>\n",
              "      <td>-0.025320</td>\n",
              "      <td>-0.184007</td>\n",
              "      <td>-0.082643</td>\n",
              "      <td>-0.162235</td>\n",
              "      <td>-0.154554</td>\n",
              "      <td>-0.154919</td>\n",
              "    </tr>\n",
              "    <tr>\n",
              "      <th>mileage</th>\n",
              "      <td>NaN</td>\n",
              "      <td>-0.035097</td>\n",
              "      <td>0.287060</td>\n",
              "      <td>1.000000</td>\n",
              "      <td>0.042081</td>\n",
              "      <td>-0.229644</td>\n",
              "      <td>-0.229354</td>\n",
              "      <td>0.067962</td>\n",
              "      <td>-0.503135</td>\n",
              "      <td>-0.504345</td>\n",
              "    </tr>\n",
              "    <tr>\n",
              "      <th>engV</th>\n",
              "      <td>NaN</td>\n",
              "      <td>-0.021246</td>\n",
              "      <td>-0.025320</td>\n",
              "      <td>0.042081</td>\n",
              "      <td>1.000000</td>\n",
              "      <td>-0.004896</td>\n",
              "      <td>-0.015274</td>\n",
              "      <td>0.084756</td>\n",
              "      <td>-0.041076</td>\n",
              "      <td>-0.041024</td>\n",
              "    </tr>\n",
              "    <tr>\n",
              "      <th>engType</th>\n",
              "      <td>NaN</td>\n",
              "      <td>-0.011880</td>\n",
              "      <td>-0.184007</td>\n",
              "      <td>-0.229644</td>\n",
              "      <td>-0.004896</td>\n",
              "      <td>1.000000</td>\n",
              "      <td>0.152988</td>\n",
              "      <td>-0.044859</td>\n",
              "      <td>-0.040471</td>\n",
              "      <td>-0.040323</td>\n",
              "    </tr>\n",
              "    <tr>\n",
              "      <th>registration</th>\n",
              "      <td>NaN</td>\n",
              "      <td>0.104557</td>\n",
              "      <td>-0.082643</td>\n",
              "      <td>-0.229354</td>\n",
              "      <td>-0.015274</td>\n",
              "      <td>0.152988</td>\n",
              "      <td>1.000000</td>\n",
              "      <td>-0.055793</td>\n",
              "      <td>0.185104</td>\n",
              "      <td>0.185613</td>\n",
              "    </tr>\n",
              "    <tr>\n",
              "      <th>drive</th>\n",
              "      <td>NaN</td>\n",
              "      <td>-0.196444</td>\n",
              "      <td>-0.162235</td>\n",
              "      <td>0.067962</td>\n",
              "      <td>0.084756</td>\n",
              "      <td>-0.044859</td>\n",
              "      <td>-0.055793</td>\n",
              "      <td>1.000000</td>\n",
              "      <td>-0.169709</td>\n",
              "      <td>-0.169444</td>\n",
              "    </tr>\n",
              "    <tr>\n",
              "      <th>year</th>\n",
              "      <td>NaN</td>\n",
              "      <td>-0.013833</td>\n",
              "      <td>-0.154554</td>\n",
              "      <td>-0.503135</td>\n",
              "      <td>-0.041076</td>\n",
              "      <td>-0.040471</td>\n",
              "      <td>0.185104</td>\n",
              "      <td>-0.169709</td>\n",
              "      <td>1.000000</td>\n",
              "      <td>0.999995</td>\n",
              "    </tr>\n",
              "    <tr>\n",
              "      <th>year_squared</th>\n",
              "      <td>NaN</td>\n",
              "      <td>-0.013679</td>\n",
              "      <td>-0.154919</td>\n",
              "      <td>-0.504345</td>\n",
              "      <td>-0.041024</td>\n",
              "      <td>-0.040323</td>\n",
              "      <td>0.185613</td>\n",
              "      <td>-0.169444</td>\n",
              "      <td>0.999995</td>\n",
              "      <td>1.000000</td>\n",
              "    </tr>\n",
              "  </tbody>\n",
              "</table>\n",
              "</div>"
            ],
            "text/plain": [
              "              const      make      body   mileage      engV   engType  \\\n",
              "const           NaN       NaN       NaN       NaN       NaN       NaN   \n",
              "make            NaN  1.000000  0.026127 -0.035097 -0.021246 -0.011880   \n",
              "body            NaN  0.026127  1.000000  0.287060 -0.025320 -0.184007   \n",
              "mileage         NaN -0.035097  0.287060  1.000000  0.042081 -0.229644   \n",
              "engV            NaN -0.021246 -0.025320  0.042081  1.000000 -0.004896   \n",
              "engType         NaN -0.011880 -0.184007 -0.229644 -0.004896  1.000000   \n",
              "registration    NaN  0.104557 -0.082643 -0.229354 -0.015274  0.152988   \n",
              "drive           NaN -0.196444 -0.162235  0.067962  0.084756 -0.044859   \n",
              "year            NaN -0.013833 -0.154554 -0.503135 -0.041076 -0.040471   \n",
              "year_squared    NaN -0.013679 -0.154919 -0.504345 -0.041024 -0.040323   \n",
              "\n",
              "              registration     drive      year  year_squared  \n",
              "const                  NaN       NaN       NaN           NaN  \n",
              "make              0.104557 -0.196444 -0.013833     -0.013679  \n",
              "body             -0.082643 -0.162235 -0.154554     -0.154919  \n",
              "mileage          -0.229354  0.067962 -0.503135     -0.504345  \n",
              "engV             -0.015274  0.084756 -0.041076     -0.041024  \n",
              "engType           0.152988 -0.044859 -0.040471     -0.040323  \n",
              "registration      1.000000 -0.055793  0.185104      0.185613  \n",
              "drive            -0.055793  1.000000 -0.169709     -0.169444  \n",
              "year              0.185104 -0.169709  1.000000      0.999995  \n",
              "year_squared      0.185613 -0.169444  0.999995      1.000000  "
            ]
          },
          "metadata": {
            "tags": []
          },
          "execution_count": 34
        }
      ]
    },
    {
      "metadata": {
        "id": "ngTUfNdxUXqN",
        "colab_type": "text"
      },
      "cell_type": "markdown",
      "source": [
        "Both 'year' and 'year_squared' have VIFs much higher than 10, which means they are collinear. We can also see their collinearity by the very high correlation between the two features. This can cause problems, such as causing standard errors to increase drastically. These variables will need to be dealt with (dropped) to create a better regression model."
      ]
    }
  ]
}