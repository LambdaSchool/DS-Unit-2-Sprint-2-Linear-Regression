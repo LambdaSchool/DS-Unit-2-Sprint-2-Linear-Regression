{
  "nbformat": 4,
  "nbformat_minor": 0,
  "metadata": {
    "colab": {
      "name": "Linear Regression Sprint Challenge.ipynb",
      "version": "0.3.2",
      "provenance": [],
      "include_colab_link": true
    },
    "kernelspec": {
      "name": "python3",
      "display_name": "Python 3"
    }
  },
  "cells": [
    {
      "cell_type": "markdown",
      "metadata": {
        "id": "view-in-github",
        "colab_type": "text"
      },
      "source": [
        "<a href=\"https://colab.research.google.com/github/johnpharmd/DS-Unit-2-Sprint-2-Linear-Regression/blob/master/Linear_Regression_Sprint_Challenge.ipynb\" target=\"_parent\"><img src=\"https://colab.research.google.com/assets/colab-badge.svg\" alt=\"Open In Colab\"/></a>"
      ]
    },
    {
      "metadata": {
        "id": "YbiJuv5d2jZ7",
        "colab_type": "code",
        "colab": {}
      },
      "cell_type": "code",
      "source": [
        "# Import everything you could ever need. ;)\n",
        "import pandas as pd\n",
        "import numpy as np\n",
        "import matplotlib.pyplot as plt\n",
        "import seaborn as sns\n",
        "import statsmodels.api as sm\n",
        "from statsmodels.stats.outliers_influence import variance_inflation_factor\n",
        "from sklearn.model_selection import train_test_split as tts\n",
        "from sklearn.linear_model import LinearRegression\n",
        "from sklearn.metrics import mean_squared_error, r2_score"
      ],
      "execution_count": 0,
      "outputs": []
    },
    {
      "metadata": {
        "id": "FgaItuSL3zxO",
        "colab_type": "code",
        "outputId": "e3ce8624-25a9-4a2c-f3be-fdb98b02548b",
        "colab": {
          "base_uri": "https://localhost:8080/",
          "height": 225
        }
      },
      "cell_type": "code",
      "source": [
        "# Ukraine Used Car Sale Price Prediction\n",
        "df = pd.read_csv('https://raw.githubusercontent.com/ryanleeallred/datasets/master/car_regression.csv')\n",
        "print(df.shape)\n",
        "df.head()"
      ],
      "execution_count": 6,
      "outputs": [
        {
          "output_type": "stream",
          "text": [
            "(8495, 9)\n"
          ],
          "name": "stdout"
        },
        {
          "output_type": "execute_result",
          "data": {
            "text/html": [
              "<div>\n",
              "<style scoped>\n",
              "    .dataframe tbody tr th:only-of-type {\n",
              "        vertical-align: middle;\n",
              "    }\n",
              "\n",
              "    .dataframe tbody tr th {\n",
              "        vertical-align: top;\n",
              "    }\n",
              "\n",
              "    .dataframe thead th {\n",
              "        text-align: right;\n",
              "    }\n",
              "</style>\n",
              "<table border=\"1\" class=\"dataframe\">\n",
              "  <thead>\n",
              "    <tr style=\"text-align: right;\">\n",
              "      <th></th>\n",
              "      <th>make</th>\n",
              "      <th>price</th>\n",
              "      <th>body</th>\n",
              "      <th>mileage</th>\n",
              "      <th>engV</th>\n",
              "      <th>engType</th>\n",
              "      <th>registration</th>\n",
              "      <th>year</th>\n",
              "      <th>drive</th>\n",
              "    </tr>\n",
              "  </thead>\n",
              "  <tbody>\n",
              "    <tr>\n",
              "      <th>0</th>\n",
              "      <td>23</td>\n",
              "      <td>15500.0</td>\n",
              "      <td>0</td>\n",
              "      <td>68</td>\n",
              "      <td>2.5</td>\n",
              "      <td>1</td>\n",
              "      <td>1</td>\n",
              "      <td>2010</td>\n",
              "      <td>1</td>\n",
              "    </tr>\n",
              "    <tr>\n",
              "      <th>1</th>\n",
              "      <td>50</td>\n",
              "      <td>20500.0</td>\n",
              "      <td>3</td>\n",
              "      <td>173</td>\n",
              "      <td>1.8</td>\n",
              "      <td>1</td>\n",
              "      <td>1</td>\n",
              "      <td>2011</td>\n",
              "      <td>2</td>\n",
              "    </tr>\n",
              "    <tr>\n",
              "      <th>2</th>\n",
              "      <td>50</td>\n",
              "      <td>35000.0</td>\n",
              "      <td>2</td>\n",
              "      <td>135</td>\n",
              "      <td>5.5</td>\n",
              "      <td>3</td>\n",
              "      <td>1</td>\n",
              "      <td>2008</td>\n",
              "      <td>2</td>\n",
              "    </tr>\n",
              "    <tr>\n",
              "      <th>3</th>\n",
              "      <td>50</td>\n",
              "      <td>17800.0</td>\n",
              "      <td>5</td>\n",
              "      <td>162</td>\n",
              "      <td>1.8</td>\n",
              "      <td>0</td>\n",
              "      <td>1</td>\n",
              "      <td>2012</td>\n",
              "      <td>0</td>\n",
              "    </tr>\n",
              "    <tr>\n",
              "      <th>4</th>\n",
              "      <td>55</td>\n",
              "      <td>16600.0</td>\n",
              "      <td>0</td>\n",
              "      <td>83</td>\n",
              "      <td>2.0</td>\n",
              "      <td>3</td>\n",
              "      <td>1</td>\n",
              "      <td>2013</td>\n",
              "      <td>1</td>\n",
              "    </tr>\n",
              "  </tbody>\n",
              "</table>\n",
              "</div>"
            ],
            "text/plain": [
              "   make    price  body  mileage  engV  engType  registration  year  drive\n",
              "0    23  15500.0     0       68   2.5        1             1  2010      1\n",
              "1    50  20500.0     3      173   1.8        1             1  2011      2\n",
              "2    50  35000.0     2      135   5.5        3             1  2008      2\n",
              "3    50  17800.0     5      162   1.8        0             1  2012      0\n",
              "4    55  16600.0     0       83   2.0        3             1  2013      1"
            ]
          },
          "metadata": {
            "tags": []
          },
          "execution_count": 6
        }
      ]
    },
    {
      "metadata": {
        "id": "Gop_ltzptQZ2",
        "colab_type": "code",
        "colab": {
          "base_uri": "https://localhost:8080/",
          "height": 204
        },
        "outputId": "9d3dc0d1-7233-400c-acbd-4c2e071ccb82"
      },
      "cell_type": "code",
      "source": [
        "df1 = df.copy()\n",
        "df1.isna().sum()  # Thanks, Ryan A., for the clean dataset!"
      ],
      "execution_count": 7,
      "outputs": [
        {
          "output_type": "execute_result",
          "data": {
            "text/plain": [
              "make            0\n",
              "price           0\n",
              "body            0\n",
              "mileage         0\n",
              "engV            0\n",
              "engType         0\n",
              "registration    0\n",
              "year            0\n",
              "drive           0\n",
              "dtype: int64"
            ]
          },
          "metadata": {
            "tags": []
          },
          "execution_count": 7
        }
      ]
    },
    {
      "metadata": {
        "id": "w9gkF-HNUFAV",
        "colab_type": "text"
      },
      "cell_type": "markdown",
      "source": [
        "# Predictive Modeling with Linear Regression"
      ]
    },
    {
      "metadata": {
        "id": "Vy1SWxcYTAC0",
        "colab_type": "text"
      },
      "cell_type": "markdown",
      "source": [
        "## 1.1 Divide the dataset features into an X matrix and y vector (\"price\" is what we want to predict)."
      ]
    },
    {
      "metadata": {
        "id": "dwMbM9tUUaOQ",
        "colab_type": "code",
        "colab": {}
      },
      "cell_type": "code",
      "source": [
        "X = df1[['year', 'mileage']]\n",
        "y = df1['price']"
      ],
      "execution_count": 0,
      "outputs": []
    },
    {
      "metadata": {
        "id": "Uf_SQswNUPwM",
        "colab_type": "text"
      },
      "cell_type": "markdown",
      "source": [
        "## 1.2 Split the data into test and train datasets using train_test_split"
      ]
    },
    {
      "metadata": {
        "id": "iIiELKuKUOgR",
        "colab_type": "code",
        "colab": {}
      },
      "cell_type": "code",
      "source": [
        "X_train, X_test, y_train, y_test = tts(X, y, test_size=0.5, random_state=42)"
      ],
      "execution_count": 0,
      "outputs": []
    },
    {
      "metadata": {
        "id": "0AdXWiwoUstf",
        "colab_type": "text"
      },
      "cell_type": "markdown",
      "source": [
        "## 1.3 Use Scikit-Learn to fit a multiple regression model using your training data."
      ]
    },
    {
      "metadata": {
        "id": "Zw70rt71U1xf",
        "colab_type": "code",
        "colab": {}
      },
      "cell_type": "code",
      "source": [
        "# Format X_train and y_train\n",
        "X_train = X_train.values[:, np.newaxis]\n",
        "y_train = y_train.values\n",
        "\n"
      ],
      "execution_count": 0,
      "outputs": []
    },
    {
      "metadata": {
        "id": "82fH2rilU7j3",
        "colab_type": "text"
      },
      "cell_type": "markdown",
      "source": [
        "## 1.4 Report the Intercept and Coefficient Values for the fitted model"
      ]
    },
    {
      "metadata": {
        "id": "ue6hCHGqVE83",
        "colab_type": "code",
        "colab": {
          "base_uri": "https://localhost:8080/",
          "height": 54
        },
        "outputId": "a81109b2-1b54-481a-ce33-64b93f6ca4ec"
      },
      "cell_type": "code",
      "source": [
        "# Train regression model on X_train and y_train\n",
        "lin_reg = LinearRegression().fit(X_train, y_train)\n",
        "print('Intercept Value:', lin_reg.intercept_)\n",
        "print('Slope Coefficient:', lin_reg.coef_)"
      ],
      "execution_count": 22,
      "outputs": [
        {
          "output_type": "stream",
          "text": [
            "Intercept Value: -2044000.1475451824\n",
            "Slope Coefficient: [1029.53063214  -42.09855522]\n"
          ],
          "name": "stdout"
        }
      ]
    },
    {
      "metadata": {
        "id": "T0CV0OnDVZbu",
        "colab_type": "text"
      },
      "cell_type": "markdown",
      "source": [
        "## 1.5 Use the test data to make predictions"
      ]
    },
    {
      "metadata": {
        "id": "vrR5b5c3VwE5",
        "colab_type": "code",
        "colab": {}
      },
      "cell_type": "code",
      "source": [
        ""
      ],
      "execution_count": 0,
      "outputs": []
    },
    {
      "metadata": {
        "id": "ZwQb3gE7VycT",
        "colab_type": "text"
      },
      "cell_type": "markdown",
      "source": [
        "## 1.6 Calculate and report both the Root-Mean-Square error and $R^2$ for the model. "
      ]
    },
    {
      "metadata": {
        "id": "Ym2kjxWhU6b2",
        "colab_type": "code",
        "colab": {}
      },
      "cell_type": "code",
      "source": [
        ""
      ],
      "execution_count": 0,
      "outputs": []
    },
    {
      "metadata": {
        "id": "kIXhGHIgXHyJ",
        "colab_type": "text"
      },
      "cell_type": "markdown",
      "source": [
        "## 1.7 How should we interpret the coefficient corresponding to the \"year\" feature?"
      ]
    },
    {
      "metadata": {
        "id": "8jv2n0wAXgHU",
        "colab_type": "text"
      },
      "cell_type": "markdown",
      "source": [
        ""
      ]
    },
    {
      "metadata": {
        "id": "ckQ5GsOtYsjn",
        "colab_type": "text"
      },
      "cell_type": "markdown",
      "source": [
        "## 1.8 How should we interpret the Root-Mean-Square Error?"
      ]
    },
    {
      "metadata": {
        "id": "F982IeSgYyp6",
        "colab_type": "text"
      },
      "cell_type": "markdown",
      "source": [
        ""
      ]
    },
    {
      "metadata": {
        "id": "T3sZrru_YzFF",
        "colab_type": "text"
      },
      "cell_type": "markdown",
      "source": [
        "## 1.9 How should we interpret the $R^2$?"
      ]
    },
    {
      "metadata": {
        "id": "5pN2Oet_Y5jR",
        "colab_type": "text"
      },
      "cell_type": "markdown",
      "source": [
        ""
      ]
    },
    {
      "metadata": {
        "id": "Z_VNy7e3Y5sT",
        "colab_type": "text"
      },
      "cell_type": "markdown",
      "source": [
        "# Log-Linear and Polynomial Regression"
      ]
    },
    {
      "metadata": {
        "id": "G2T4FSqRZOJA",
        "colab_type": "text"
      },
      "cell_type": "markdown",
      "source": [
        "## 2.1 Engineer a new variable by taking the log of the price varible."
      ]
    },
    {
      "metadata": {
        "id": "7EChAFNxZX24",
        "colab_type": "code",
        "colab": {}
      },
      "cell_type": "code",
      "source": [
        ""
      ],
      "execution_count": 0,
      "outputs": []
    },
    {
      "metadata": {
        "id": "R117rxnOZw6q",
        "colab_type": "text"
      },
      "cell_type": "markdown",
      "source": [
        "## 2.2 Use scatterplots or seaborn's pairplot function to do the \"eyeball test\" for non-linearly distributed features."
      ]
    },
    {
      "metadata": {
        "id": "8l56Qk7VaBrU",
        "colab_type": "code",
        "colab": {}
      },
      "cell_type": "code",
      "source": [
        ""
      ],
      "execution_count": 0,
      "outputs": []
    },
    {
      "metadata": {
        "id": "QTf4gCaDaiCw",
        "colab_type": "text"
      },
      "cell_type": "markdown",
      "source": [
        "## 2.3 If appropriate, create any polynomial features. "
      ]
    },
    {
      "metadata": {
        "id": "ipsCcH83ZMe8",
        "colab_type": "code",
        "colab": {}
      },
      "cell_type": "code",
      "source": [
        ""
      ],
      "execution_count": 0,
      "outputs": []
    },
    {
      "metadata": {
        "id": "NJgfD-JLayRA",
        "colab_type": "text"
      },
      "cell_type": "markdown",
      "source": [
        "## 2.4 Use the new log-transformed y variable and your x variables (including any new polynomial features) to fit a new linear regression model. Then report the: intercept, coefficients, RMSE, and $R^2$."
      ]
    },
    {
      "metadata": {
        "id": "uXmtVpnPcFij",
        "colab_type": "code",
        "colab": {}
      },
      "cell_type": "code",
      "source": [
        ""
      ],
      "execution_count": 0,
      "outputs": []
    },
    {
      "metadata": {
        "id": "hf4_8FXrpHFY",
        "colab_type": "text"
      },
      "cell_type": "markdown",
      "source": [
        "## 2.5 How might we interpret the coefficient on \"year\" in this new regression model?"
      ]
    },
    {
      "metadata": {
        "id": "JVGKvt5WpTf2",
        "colab_type": "text"
      },
      "cell_type": "markdown",
      "source": [
        ""
      ]
    },
    {
      "metadata": {
        "id": "JUQwzfDRfrQi",
        "colab_type": "text"
      },
      "cell_type": "markdown",
      "source": [
        "# Gradient Descent"
      ]
    },
    {
      "metadata": {
        "id": "M_JLfReVeoYT",
        "colab_type": "text"
      },
      "cell_type": "markdown",
      "source": [
        "## 3.1 What does Gradient Descent seek to minimize?"
      ]
    },
    {
      "metadata": {
        "id": "-ezM_NS2fIJe",
        "colab_type": "text"
      },
      "cell_type": "markdown",
      "source": [
        ""
      ]
    },
    {
      "metadata": {
        "id": "unqhNRYnfIL4",
        "colab_type": "text"
      },
      "cell_type": "markdown",
      "source": [
        "## 3.2 What is the \"Learning Rate\" and what is its function?"
      ]
    },
    {
      "metadata": {
        "id": "7jhKwIOVfT6B",
        "colab_type": "text"
      },
      "cell_type": "markdown",
      "source": [
        ""
      ]
    },
    {
      "metadata": {
        "id": "Gs20FOntprd_",
        "colab_type": "text"
      },
      "cell_type": "markdown",
      "source": [
        "# Model Diagnostics"
      ]
    },
    {
      "metadata": {
        "id": "VJnxkobcpulV",
        "colab_type": "text"
      },
      "cell_type": "markdown",
      "source": [
        "## 4.1 Use statsmodels to run a log-linear or log-polynomial linear regression with robust standard errors."
      ]
    },
    {
      "metadata": {
        "id": "QqCVeYBTpvfQ",
        "colab_type": "code",
        "colab": {}
      },
      "cell_type": "code",
      "source": [
        ""
      ],
      "execution_count": 0,
      "outputs": []
    },
    {
      "metadata": {
        "id": "loKma3wspwVs",
        "colab_type": "text"
      },
      "cell_type": "markdown",
      "source": [
        "## 4.2 Calculate the Variance Inflation Factor (VIF) of our X variables. Do we have multicollinearity problems?"
      ]
    },
    {
      "metadata": {
        "id": "EN1mPKWhp2Vn",
        "colab_type": "code",
        "colab": {}
      },
      "cell_type": "code",
      "source": [
        ""
      ],
      "execution_count": 0,
      "outputs": []
    }
  ]
}