{
  "nbformat": 4,
  "nbformat_minor": 0,
  "metadata": {
    "colab": {
      "name": "Linear Regression Sprint Challenge.ipynb",
      "version": "0.3.2",
      "provenance": [],
      "collapsed_sections": [],
      "include_colab_link": true
    },
    "kernelspec": {
      "name": "python3",
      "display_name": "Python 3"
    }
  },
  "cells": [
    {
      "cell_type": "markdown",
      "metadata": {
        "id": "view-in-github",
        "colab_type": "text"
      },
      "source": [
        "<a href=\"https://colab.research.google.com/github/BrianBehnke/DS-Unit-2-Sprint-2-Linear-Regression/blob/master/Linear_Regression_Sprint_Challenge.ipynb\" target=\"_parent\"><img src=\"https://colab.research.google.com/assets/colab-badge.svg\" alt=\"Open In Colab\"/></a>"
      ]
    },
    {
      "metadata": {
        "id": "YbiJuv5d2jZ7",
        "colab_type": "code",
        "outputId": "d114dbc1-c243-46bb-8551-614f7812c30d",
        "colab": {
          "base_uri": "https://localhost:8080/",
          "height": 71
        }
      },
      "cell_type": "code",
      "source": [
        "# Import everything you could ever need. ;)\n",
        "import pandas as pd\n",
        "import numpy as np\n",
        "import matplotlib.pyplot as plt\n",
        "import seaborn as sns\n",
        "import statsmodels.api as sm\n",
        "from statsmodels.stats.outliers_influence import variance_inflation_factor\n",
        "from sklearn.model_selection import train_test_split\n",
        "from sklearn.linear_model import LinearRegression\n",
        "from sklearn.metrics import mean_squared_error, r2_score"
      ],
      "execution_count": 1,
      "outputs": [
        {
          "output_type": "stream",
          "text": [
            "/usr/local/lib/python3.6/dist-packages/statsmodels/compat/pandas.py:56: FutureWarning: The pandas.core.datetools module is deprecated and will be removed in a future version. Please use the pandas.tseries module instead.\n",
            "  from pandas.core import datetools\n"
          ],
          "name": "stderr"
        }
      ]
    },
    {
      "metadata": {
        "id": "FgaItuSL3zxO",
        "colab_type": "code",
        "outputId": "b6f9862a-6305-4b64-ca02-6e1935cf6515",
        "colab": {
          "base_uri": "https://localhost:8080/",
          "height": 221
        }
      },
      "cell_type": "code",
      "source": [
        "# Ukraine Used Car Sale Price Prediction\n",
        "df = pd.read_csv('https://raw.githubusercontent.com/ryanleeallred/datasets/master/car_regression.csv')\n",
        "print(df.shape)\n",
        "df.head()"
      ],
      "execution_count": 2,
      "outputs": [
        {
          "output_type": "stream",
          "text": [
            "(8495, 9)\n"
          ],
          "name": "stdout"
        },
        {
          "output_type": "execute_result",
          "data": {
            "text/html": [
              "<div>\n",
              "<style scoped>\n",
              "    .dataframe tbody tr th:only-of-type {\n",
              "        vertical-align: middle;\n",
              "    }\n",
              "\n",
              "    .dataframe tbody tr th {\n",
              "        vertical-align: top;\n",
              "    }\n",
              "\n",
              "    .dataframe thead th {\n",
              "        text-align: right;\n",
              "    }\n",
              "</style>\n",
              "<table border=\"1\" class=\"dataframe\">\n",
              "  <thead>\n",
              "    <tr style=\"text-align: right;\">\n",
              "      <th></th>\n",
              "      <th>make</th>\n",
              "      <th>price</th>\n",
              "      <th>body</th>\n",
              "      <th>mileage</th>\n",
              "      <th>engV</th>\n",
              "      <th>engType</th>\n",
              "      <th>registration</th>\n",
              "      <th>year</th>\n",
              "      <th>drive</th>\n",
              "    </tr>\n",
              "  </thead>\n",
              "  <tbody>\n",
              "    <tr>\n",
              "      <th>0</th>\n",
              "      <td>23</td>\n",
              "      <td>15500.0</td>\n",
              "      <td>0</td>\n",
              "      <td>68</td>\n",
              "      <td>2.5</td>\n",
              "      <td>1</td>\n",
              "      <td>1</td>\n",
              "      <td>2010</td>\n",
              "      <td>1</td>\n",
              "    </tr>\n",
              "    <tr>\n",
              "      <th>1</th>\n",
              "      <td>50</td>\n",
              "      <td>20500.0</td>\n",
              "      <td>3</td>\n",
              "      <td>173</td>\n",
              "      <td>1.8</td>\n",
              "      <td>1</td>\n",
              "      <td>1</td>\n",
              "      <td>2011</td>\n",
              "      <td>2</td>\n",
              "    </tr>\n",
              "    <tr>\n",
              "      <th>2</th>\n",
              "      <td>50</td>\n",
              "      <td>35000.0</td>\n",
              "      <td>2</td>\n",
              "      <td>135</td>\n",
              "      <td>5.5</td>\n",
              "      <td>3</td>\n",
              "      <td>1</td>\n",
              "      <td>2008</td>\n",
              "      <td>2</td>\n",
              "    </tr>\n",
              "    <tr>\n",
              "      <th>3</th>\n",
              "      <td>50</td>\n",
              "      <td>17800.0</td>\n",
              "      <td>5</td>\n",
              "      <td>162</td>\n",
              "      <td>1.8</td>\n",
              "      <td>0</td>\n",
              "      <td>1</td>\n",
              "      <td>2012</td>\n",
              "      <td>0</td>\n",
              "    </tr>\n",
              "    <tr>\n",
              "      <th>4</th>\n",
              "      <td>55</td>\n",
              "      <td>16600.0</td>\n",
              "      <td>0</td>\n",
              "      <td>83</td>\n",
              "      <td>2.0</td>\n",
              "      <td>3</td>\n",
              "      <td>1</td>\n",
              "      <td>2013</td>\n",
              "      <td>1</td>\n",
              "    </tr>\n",
              "  </tbody>\n",
              "</table>\n",
              "</div>"
            ],
            "text/plain": [
              "   make    price  body  mileage  engV  engType  registration  year  drive\n",
              "0    23  15500.0     0       68   2.5        1             1  2010      1\n",
              "1    50  20500.0     3      173   1.8        1             1  2011      2\n",
              "2    50  35000.0     2      135   5.5        3             1  2008      2\n",
              "3    50  17800.0     5      162   1.8        0             1  2012      0\n",
              "4    55  16600.0     0       83   2.0        3             1  2013      1"
            ]
          },
          "metadata": {
            "tags": []
          },
          "execution_count": 2
        }
      ]
    },
    {
      "metadata": {
        "id": "w9gkF-HNUFAV",
        "colab_type": "text"
      },
      "cell_type": "markdown",
      "source": [
        "# Predictive Modeling with Linear Regression"
      ]
    },
    {
      "metadata": {
        "id": "Vy1SWxcYTAC0",
        "colab_type": "text"
      },
      "cell_type": "markdown",
      "source": [
        "## 1.1 Divide the dataset features into an X matrix and y vector (\"price\" is what we want to predict)."
      ]
    },
    {
      "metadata": {
        "id": "dwMbM9tUUaOQ",
        "colab_type": "code",
        "colab": {
          "base_uri": "https://localhost:8080/",
          "height": 136
        },
        "outputId": "182fe576-5249-474a-c96c-fd4e8012c27c"
      },
      "cell_type": "code",
      "source": [
        "X = df[['make', 'body', 'mileage', 'engV', \n",
        "'engType', 'registration', 'year', 'drive']]\n",
        "\n",
        "y = df['price'].values\n",
        "\n",
        "print(X.head())\n",
        "print(y)"
      ],
      "execution_count": 6,
      "outputs": [
        {
          "output_type": "stream",
          "text": [
            "   make  body  mileage  engV  engType  registration  year  drive\n",
            "0    23     0       68   2.5        1             1  2010      1\n",
            "1    50     3      173   1.8        1             1  2011      2\n",
            "2    50     2      135   5.5        3             1  2008      2\n",
            "3    50     5      162   1.8        0             1  2012      0\n",
            "4    55     0       83   2.0        3             1  2013      1\n",
            "[15500. 20500. 35000. ... 18500. 16999. 22500.]\n"
          ],
          "name": "stdout"
        }
      ]
    },
    {
      "metadata": {
        "id": "k6c96KfB43Vo",
        "colab_type": "code",
        "colab": {
          "base_uri": "https://localhost:8080/",
          "height": 340
        },
        "outputId": "5877ca74-d928-40b0-f5f1-30f1e61eb4c3"
      },
      "cell_type": "code",
      "source": [
        "df.isnull().sum()"
      ],
      "execution_count": 103,
      "outputs": [
        {
          "output_type": "execute_result",
          "data": {
            "text/plain": [
              "make                    0\n",
              "price                   0\n",
              "body                    0\n",
              "mileage                 0\n",
              "engV                    0\n",
              "engType                 0\n",
              "registration            0\n",
              "year                    0\n",
              "drive                   0\n",
              "make_squared            0\n",
              "body_squared            0\n",
              "mileage_squared         0\n",
              "engV_squared            0\n",
              "engType_squared         0\n",
              "registration_squared    0\n",
              "year_squared            0\n",
              "drive_squared           0\n",
              "ln_price                0\n",
              "dtype: int64"
            ]
          },
          "metadata": {
            "tags": []
          },
          "execution_count": 103
        }
      ]
    },
    {
      "metadata": {
        "id": "j_xnW6gs5M3t",
        "colab_type": "code",
        "colab": {
          "base_uri": "https://localhost:8080/",
          "height": 317
        },
        "outputId": "fea76e22-cc3f-4a95-987f-d61ca9ebd3f8"
      },
      "cell_type": "code",
      "source": [
        "df.describe()"
      ],
      "execution_count": 47,
      "outputs": [
        {
          "output_type": "execute_result",
          "data": {
            "text/html": [
              "<div>\n",
              "<style scoped>\n",
              "    .dataframe tbody tr th:only-of-type {\n",
              "        vertical-align: middle;\n",
              "    }\n",
              "\n",
              "    .dataframe tbody tr th {\n",
              "        vertical-align: top;\n",
              "    }\n",
              "\n",
              "    .dataframe thead th {\n",
              "        text-align: right;\n",
              "    }\n",
              "</style>\n",
              "<table border=\"1\" class=\"dataframe\">\n",
              "  <thead>\n",
              "    <tr style=\"text-align: right;\">\n",
              "      <th></th>\n",
              "      <th>make</th>\n",
              "      <th>price</th>\n",
              "      <th>body</th>\n",
              "      <th>mileage</th>\n",
              "      <th>engV</th>\n",
              "      <th>engType</th>\n",
              "      <th>registration</th>\n",
              "      <th>year</th>\n",
              "      <th>drive</th>\n",
              "      <th>make_squared</th>\n",
              "      <th>body_squared</th>\n",
              "      <th>mileage_squared</th>\n",
              "      <th>engV_squared</th>\n",
              "      <th>engType_squared</th>\n",
              "      <th>registration_squared</th>\n",
              "      <th>year_squared</th>\n",
              "      <th>drive_squared</th>\n",
              "      <th>ln_price</th>\n",
              "    </tr>\n",
              "  </thead>\n",
              "  <tbody>\n",
              "    <tr>\n",
              "      <th>count</th>\n",
              "      <td>8495.000000</td>\n",
              "      <td>8495.000000</td>\n",
              "      <td>8495.000000</td>\n",
              "      <td>8495.000000</td>\n",
              "      <td>8495.000000</td>\n",
              "      <td>8495.000000</td>\n",
              "      <td>8495.000000</td>\n",
              "      <td>8495.000000</td>\n",
              "      <td>8495.000000</td>\n",
              "      <td>8495.000000</td>\n",
              "      <td>8495.000000</td>\n",
              "      <td>8495.000000</td>\n",
              "      <td>8495.000000</td>\n",
              "      <td>8495.000000</td>\n",
              "      <td>8495.000000</td>\n",
              "      <td>8.495000e+03</td>\n",
              "      <td>8495.000000</td>\n",
              "      <td>8495.000000</td>\n",
              "    </tr>\n",
              "    <tr>\n",
              "      <th>mean</th>\n",
              "      <td>46.535491</td>\n",
              "      <td>16185.453305</td>\n",
              "      <td>2.302295</td>\n",
              "      <td>141.744202</td>\n",
              "      <td>2.568337</td>\n",
              "      <td>1.650618</td>\n",
              "      <td>0.941613</td>\n",
              "      <td>2006.500883</td>\n",
              "      <td>0.575868</td>\n",
              "      <td>2767.018128</td>\n",
              "      <td>7.893349</td>\n",
              "      <td>29589.544085</td>\n",
              "      <td>35.615272</td>\n",
              "      <td>4.523367</td>\n",
              "      <td>0.941613</td>\n",
              "      <td>4.026094e+06</td>\n",
              "      <td>0.880989</td>\n",
              "      <td>9.187154</td>\n",
              "    </tr>\n",
              "    <tr>\n",
              "      <th>std</th>\n",
              "      <td>24.526251</td>\n",
              "      <td>24449.641512</td>\n",
              "      <td>1.610307</td>\n",
              "      <td>97.464062</td>\n",
              "      <td>5.387238</td>\n",
              "      <td>1.341282</td>\n",
              "      <td>0.234488</td>\n",
              "      <td>6.925907</td>\n",
              "      <td>0.741235</td>\n",
              "      <td>2100.158298</td>\n",
              "      <td>7.659776</td>\n",
              "      <td>45443.957337</td>\n",
              "      <td>519.813492</td>\n",
              "      <td>4.266812</td>\n",
              "      <td>0.234488</td>\n",
              "      <td>2.772353e+04</td>\n",
              "      <td>1.391330</td>\n",
              "      <td>0.961828</td>\n",
              "    </tr>\n",
              "    <tr>\n",
              "      <th>min</th>\n",
              "      <td>0.000000</td>\n",
              "      <td>259.350000</td>\n",
              "      <td>0.000000</td>\n",
              "      <td>0.000000</td>\n",
              "      <td>0.100000</td>\n",
              "      <td>0.000000</td>\n",
              "      <td>0.000000</td>\n",
              "      <td>1959.000000</td>\n",
              "      <td>0.000000</td>\n",
              "      <td>0.000000</td>\n",
              "      <td>0.000000</td>\n",
              "      <td>0.000000</td>\n",
              "      <td>0.010000</td>\n",
              "      <td>0.000000</td>\n",
              "      <td>0.000000</td>\n",
              "      <td>3.837681e+06</td>\n",
              "      <td>0.000000</td>\n",
              "      <td>5.558179</td>\n",
              "    </tr>\n",
              "    <tr>\n",
              "      <th>25%</th>\n",
              "      <td>23.000000</td>\n",
              "      <td>5490.000000</td>\n",
              "      <td>1.000000</td>\n",
              "      <td>74.000000</td>\n",
              "      <td>1.600000</td>\n",
              "      <td>0.000000</td>\n",
              "      <td>1.000000</td>\n",
              "      <td>2004.000000</td>\n",
              "      <td>0.000000</td>\n",
              "      <td>529.000000</td>\n",
              "      <td>1.000000</td>\n",
              "      <td>5476.000000</td>\n",
              "      <td>2.560000</td>\n",
              "      <td>0.000000</td>\n",
              "      <td>1.000000</td>\n",
              "      <td>4.016016e+06</td>\n",
              "      <td>0.000000</td>\n",
              "      <td>8.610684</td>\n",
              "    </tr>\n",
              "    <tr>\n",
              "      <th>50%</th>\n",
              "      <td>50.000000</td>\n",
              "      <td>9500.000000</td>\n",
              "      <td>3.000000</td>\n",
              "      <td>130.000000</td>\n",
              "      <td>2.000000</td>\n",
              "      <td>1.000000</td>\n",
              "      <td>1.000000</td>\n",
              "      <td>2008.000000</td>\n",
              "      <td>0.000000</td>\n",
              "      <td>2500.000000</td>\n",
              "      <td>9.000000</td>\n",
              "      <td>16900.000000</td>\n",
              "      <td>4.000000</td>\n",
              "      <td>1.000000</td>\n",
              "      <td>1.000000</td>\n",
              "      <td>4.032064e+06</td>\n",
              "      <td>0.000000</td>\n",
              "      <td>9.159047</td>\n",
              "    </tr>\n",
              "    <tr>\n",
              "      <th>75%</th>\n",
              "      <td>68.000000</td>\n",
              "      <td>17145.600000</td>\n",
              "      <td>3.000000</td>\n",
              "      <td>197.000000</td>\n",
              "      <td>2.500000</td>\n",
              "      <td>3.000000</td>\n",
              "      <td>1.000000</td>\n",
              "      <td>2011.000000</td>\n",
              "      <td>1.000000</td>\n",
              "      <td>4624.000000</td>\n",
              "      <td>9.000000</td>\n",
              "      <td>38809.000000</td>\n",
              "      <td>6.250000</td>\n",
              "      <td>9.000000</td>\n",
              "      <td>1.000000</td>\n",
              "      <td>4.044121e+06</td>\n",
              "      <td>1.000000</td>\n",
              "      <td>9.749493</td>\n",
              "    </tr>\n",
              "    <tr>\n",
              "      <th>max</th>\n",
              "      <td>82.000000</td>\n",
              "      <td>547800.000000</td>\n",
              "      <td>5.000000</td>\n",
              "      <td>999.000000</td>\n",
              "      <td>99.990000</td>\n",
              "      <td>3.000000</td>\n",
              "      <td>1.000000</td>\n",
              "      <td>2016.000000</td>\n",
              "      <td>2.000000</td>\n",
              "      <td>6724.000000</td>\n",
              "      <td>25.000000</td>\n",
              "      <td>998001.000000</td>\n",
              "      <td>9998.000100</td>\n",
              "      <td>9.000000</td>\n",
              "      <td>1.000000</td>\n",
              "      <td>4.064256e+06</td>\n",
              "      <td>4.000000</td>\n",
              "      <td>13.213666</td>\n",
              "    </tr>\n",
              "  </tbody>\n",
              "</table>\n",
              "</div>"
            ],
            "text/plain": [
              "              make          price         body      mileage         engV  \\\n",
              "count  8495.000000    8495.000000  8495.000000  8495.000000  8495.000000   \n",
              "mean     46.535491   16185.453305     2.302295   141.744202     2.568337   \n",
              "std      24.526251   24449.641512     1.610307    97.464062     5.387238   \n",
              "min       0.000000     259.350000     0.000000     0.000000     0.100000   \n",
              "25%      23.000000    5490.000000     1.000000    74.000000     1.600000   \n",
              "50%      50.000000    9500.000000     3.000000   130.000000     2.000000   \n",
              "75%      68.000000   17145.600000     3.000000   197.000000     2.500000   \n",
              "max      82.000000  547800.000000     5.000000   999.000000    99.990000   \n",
              "\n",
              "           engType  registration         year        drive  make_squared  \\\n",
              "count  8495.000000   8495.000000  8495.000000  8495.000000   8495.000000   \n",
              "mean      1.650618      0.941613  2006.500883     0.575868   2767.018128   \n",
              "std       1.341282      0.234488     6.925907     0.741235   2100.158298   \n",
              "min       0.000000      0.000000  1959.000000     0.000000      0.000000   \n",
              "25%       0.000000      1.000000  2004.000000     0.000000    529.000000   \n",
              "50%       1.000000      1.000000  2008.000000     0.000000   2500.000000   \n",
              "75%       3.000000      1.000000  2011.000000     1.000000   4624.000000   \n",
              "max       3.000000      1.000000  2016.000000     2.000000   6724.000000   \n",
              "\n",
              "       body_squared  mileage_squared  engV_squared  engType_squared  \\\n",
              "count   8495.000000      8495.000000   8495.000000      8495.000000   \n",
              "mean       7.893349     29589.544085     35.615272         4.523367   \n",
              "std        7.659776     45443.957337    519.813492         4.266812   \n",
              "min        0.000000         0.000000      0.010000         0.000000   \n",
              "25%        1.000000      5476.000000      2.560000         0.000000   \n",
              "50%        9.000000     16900.000000      4.000000         1.000000   \n",
              "75%        9.000000     38809.000000      6.250000         9.000000   \n",
              "max       25.000000    998001.000000   9998.000100         9.000000   \n",
              "\n",
              "       registration_squared  year_squared  drive_squared     ln_price  \n",
              "count           8495.000000  8.495000e+03    8495.000000  8495.000000  \n",
              "mean               0.941613  4.026094e+06       0.880989     9.187154  \n",
              "std                0.234488  2.772353e+04       1.391330     0.961828  \n",
              "min                0.000000  3.837681e+06       0.000000     5.558179  \n",
              "25%                1.000000  4.016016e+06       0.000000     8.610684  \n",
              "50%                1.000000  4.032064e+06       0.000000     9.159047  \n",
              "75%                1.000000  4.044121e+06       1.000000     9.749493  \n",
              "max                1.000000  4.064256e+06       4.000000    13.213666  "
            ]
          },
          "metadata": {
            "tags": []
          },
          "execution_count": 47
        }
      ]
    },
    {
      "metadata": {
        "id": "Uf_SQswNUPwM",
        "colab_type": "text"
      },
      "cell_type": "markdown",
      "source": [
        "## 1.2 Split the data into test and train datasets using train_test_split"
      ]
    },
    {
      "metadata": {
        "id": "iIiELKuKUOgR",
        "colab_type": "code",
        "colab": {
          "base_uri": "https://localhost:8080/",
          "height": 85
        },
        "outputId": "2ae5c967-953f-442f-f715-0a20d10a1059"
      },
      "cell_type": "code",
      "source": [
        "# As a polynomial regression\n",
        "# Slit into test and train datasets\n",
        "X_train, X_test, Y_train, Y_test = train_test_split(X, y, test_size=.5, random_state=15)\n",
        "\n",
        "# fit model using train datasets\n",
        "model = LinearRegression()\n",
        "model.fit(X_train, Y_train)\n",
        "\n",
        "# Create new predictions using x_test\n",
        "y_pred = model.predict(X_test)\n",
        "\n",
        "# Measure Accuracy using y_test and y_pred\n",
        "RMSE = (np.sqrt(mean_squared_error(Y_test, y_pred)))\n",
        "R2 = r2_score(Y_test, y_pred)\n",
        "\n",
        "print('RMSE is {}'.format(RMSE))\n",
        "print('R^2 is {}'.format(R2))\n",
        "print(\"coefficients: \", model.coef_[0])\n",
        "print(\"intercepts: \", model.intercept_)"
      ],
      "execution_count": 59,
      "outputs": [
        {
          "output_type": "stream",
          "text": [
            "RMSE is 18590.46142183066\n",
            "R^2 is 0.32788231510131516\n",
            "coefficients:  -38.60757654537541\n",
            "intercepts:  -2290142.05584031\n"
          ],
          "name": "stdout"
        }
      ]
    },
    {
      "metadata": {
        "id": "sJmrN-GpwU5E",
        "colab_type": "code",
        "colab": {
          "base_uri": "https://localhost:8080/",
          "height": 102
        },
        "outputId": "fddbdba3-4287-4ba9-b573-8815c035dc76"
      },
      "cell_type": "code",
      "source": [
        "# As a bivariate model\n",
        "# Separate dependent and independent variables\n",
        "y2 = df.loc[:, ['price']].values\n",
        "X2 = df.loc[:, ['make_squared', 'body_squared', 'mileage_squared',\n",
        "'engV_squared', 'engType_squared', 'registration_squared',\n",
        "'year_squared', 'drive_squared']].values\n",
        "\n",
        "# Slit into test and train datasets\n",
        "X_train, X_test, Y_train, Y_test = train_test_split(X2, y2, test_size=.5, random_state=15)\n",
        "\n",
        "# fit model using train datasets\n",
        "model = LinearRegression()\n",
        "model.fit(X_train, Y_train)\n",
        "\n",
        "# Create new predictions using x_test\n",
        "y_pred = model.predict(X_test)\n",
        "\n",
        "# Measure Accuracy using y_test and y_pred\n",
        "RMSE = (np.sqrt(mean_squared_error(Y_test, y_pred)))\n",
        "R2 = r2_score(Y_test, y_pred)\n",
        "\n",
        "print('RMSE is {}'.format(RMSE))\n",
        "print('R^2 is {}'.format(R2))\n",
        "print(\"coefficients: \", model.coef_[0])\n",
        "print(\"intercepts: \", model.intercept_)"
      ],
      "execution_count": 58,
      "outputs": [
        {
          "output_type": "stream",
          "text": [
            "RMSE is 19483.077637512517\n",
            "R^2 is 0.261789689619469\n",
            "coefficients:  [-3.94672067e-01 -4.99821730e+02 -1.54926297e-02  2.33170846e-01\n",
            " -2.08779908e+02  6.04826165e+03  3.52320974e-01  3.50132433e+03]\n",
            "intercepts:  [-1404592.86876725]\n"
          ],
          "name": "stdout"
        }
      ]
    },
    {
      "metadata": {
        "id": "0AdXWiwoUstf",
        "colab_type": "text"
      },
      "cell_type": "markdown",
      "source": [
        "## 1.3 Use Scikit-Learn to fit a multiple regression model using your training data."
      ]
    },
    {
      "metadata": {
        "id": "Zw70rt71U1xf",
        "colab_type": "code",
        "colab": {
          "base_uri": "https://localhost:8080/",
          "height": 136
        },
        "outputId": "e199d57a-0e31-443d-9b6a-34c150bd9012"
      },
      "cell_type": "code",
      "source": [
        "# As a multiple regression\n",
        "# Separate dependent and independent variables\n",
        "y3 = df.loc[:, ['price']].values\n",
        "X3 = df.loc[:, ['make', 'body', 'mileage', 'engV', 'engType', 'registration', \n",
        "                 'year', 'drive', 'make_squared', 'body_squared', 'mileage_squared',\n",
        "                 'engV_squared', 'engType_squared', 'registration_squared',\n",
        "                 'year_squared', 'drive_squared']].values\n",
        "\n",
        "# Slit into test and train datasets\n",
        "X_train, X_test, Y_train, Y_test = train_test_split(X3, y3, test_size=.5, random_state=15)\n",
        "\n",
        "# fit model using train datasets\n",
        "model = LinearRegression()\n",
        "model.fit(X_train, Y_train)\n",
        "\n",
        "# Create new predictions using x_test\n",
        "y_pred = model.predict(X_test)\n",
        "\n",
        "# Measure Accuracy using y_test and y_pred\n",
        "RMSE = (np.sqrt(mean_squared_error(Y_test, y_pred)))\n",
        "R2 = r2_score(Y_test, y_pred)\n",
        "\n",
        "print('RMSE is {}'.format(RMSE))\n",
        "print('R^2 is {}'.format(R2))\n",
        "print(\"coefficients: \", model.coef_[0])\n",
        "print(\"intercepts: \", model.intercept_)"
      ],
      "execution_count": 57,
      "outputs": [
        {
          "output_type": "stream",
          "text": [
            "RMSE is 16142.209669702452\n",
            "R^2 is 0.49325327298764976\n",
            "coefficients:  [-9.96495609e+01  1.04115335e+03 -8.68866932e+01  5.88481408e+03\n",
            " -5.48520508e+03  1.23941421e+03 -1.91718972e+05  2.26069802e+04\n",
            "  7.83995223e-01 -1.86653296e+02  1.48073877e-01 -6.03280380e+01\n",
            "  1.56637121e+03  1.23941421e+03  4.81580667e+01 -9.72619591e+03]\n",
            "intercepts:  [1.90803382e+08]\n"
          ],
          "name": "stdout"
        }
      ]
    },
    {
      "metadata": {
        "id": "82fH2rilU7j3",
        "colab_type": "text"
      },
      "cell_type": "markdown",
      "source": [
        "## 1.4 Report the Intercept and Coefficient Values for the fitted model"
      ]
    },
    {
      "metadata": {
        "id": "mI2ruveOx6YS",
        "colab_type": "code",
        "colab": {
          "base_uri": "https://localhost:8080/",
          "height": 102
        },
        "outputId": "421ac720-66de-4c35-b509-c73290f68cf7"
      },
      "cell_type": "code",
      "source": [
        "## Log-Linear Regression\n",
        "# Using variables assigned above, X here\n",
        "ylog = df.loc[:, ['ln_price']].values\n",
        "\n",
        "# Slit into test and train datasets\n",
        "X_train, X_test, Y_train, Y_test = train_test_split(X, ylog, test_size=.5, random_state=15)\n",
        "\n",
        "# fit model using train datasets\n",
        "model = LinearRegression()\n",
        "model.fit(X_train, Y_train)\n",
        "\n",
        "# Create new predictions using x_test\n",
        "y_pred = model.predict(X_test)\n",
        "\n",
        "# Measure Accuracy using y_test and y_pred\n",
        "RMSE = (np.sqrt(mean_squared_error(Y_test, y_pred)))\n",
        "R2 = r2_score(Y_test, y_pred)\n",
        "\n",
        "print('RMSE is {}'.format(RMSE))\n",
        "print('R^2 is {}'.format(R2))\n",
        "\n",
        "print(\"coefficients: \", model.coef_[0])\n",
        "print(\"intercepts: \", model.intercept_)"
      ],
      "execution_count": 66,
      "outputs": [
        {
          "output_type": "stream",
          "text": [
            "RMSE is 0.5643592878833026\n",
            "R^2 is 0.6567530903730265\n",
            "coefficients:  [-1.44984970e-03 -1.01196020e-01  1.37837870e-05  8.20943552e-03\n",
            " -6.28077318e-02  7.19528242e-01  9.35639300e-02  3.73452667e-01]\n",
            "intercepts:  [-179.06060083]\n"
          ],
          "name": "stdout"
        }
      ]
    },
    {
      "metadata": {
        "id": "uRdWHpFXyKYp",
        "colab_type": "code",
        "colab": {
          "base_uri": "https://localhost:8080/",
          "height": 102
        },
        "outputId": "9ee5f97a-6727-4218-dbd0-e8de88a8b6c3"
      },
      "cell_type": "code",
      "source": [
        "## Log-Linear Regression\n",
        "# Using variables assigned above, X2 and ylog\n",
        "\n",
        "# Slit into test and train datasets\n",
        "X_train, X_test, Y_train, Y_test = train_test_split(X2, ylog, test_size=.5, random_state=15)\n",
        "\n",
        "# fit model using train datasets\n",
        "model = LinearRegression()\n",
        "model.fit(X_train, Y_train)\n",
        "\n",
        "# Create new predictions using x_test\n",
        "y_pred = model.predict(X_test)\n",
        "\n",
        "# Measure Accuracy using y_test and y_pred\n",
        "RMSE2 = (np.sqrt(mean_squared_error(Y_test, y_pred)))\n",
        "R22 = r2_score(Y_test, y_pred)\n",
        "\n",
        "print('RMSE is {}'.format(RMSE2))\n",
        "print('R^2 is {}'.format(R22))\n",
        "\n",
        "print(\"coefficients: \", model.coef_[0])\n",
        "print(\"intercepts: \", model.intercept_)"
      ],
      "execution_count": 67,
      "outputs": [
        {
          "output_type": "stream",
          "text": [
            "RMSE is 0.6078515114529396\n",
            "R^2 is 0.6018100596186088\n",
            "coefficients:  [-1.98959743e-05 -2.20839609e-02  6.00842359e-07 -1.37513149e-05\n",
            " -2.08452738e-02  7.19343356e-01  2.42387581e-05  1.56698907e-01]\n",
            "intercepts:  [-88.90987296]\n"
          ],
          "name": "stdout"
        }
      ]
    },
    {
      "metadata": {
        "id": "KVEsDnAoyaDJ",
        "colab_type": "code",
        "colab": {
          "base_uri": "https://localhost:8080/",
          "height": 136
        },
        "outputId": "8de37e58-40e0-4c63-8281-faa628eabc91"
      },
      "cell_type": "code",
      "source": [
        "## Log-Linear Regression\n",
        "# Using variables assigned above, X3 here and ylog\n",
        "\n",
        "# Slit into test and train datasets\n",
        "X_train, X_test, Y_train, Y_test = train_test_split(X3, ylog, test_size=.5, random_state=15)\n",
        "\n",
        "# fit model using train datasets\n",
        "model = LinearRegression()\n",
        "model.fit(X_train, Y_train)\n",
        "\n",
        "# Create new predictions using x_test\n",
        "y_pred = model.predict(X_test)\n",
        "\n",
        "# Measure Accuracy using y_test and y_pred\n",
        "RMSE3 = (np.sqrt(mean_squared_error(Y_test, y_pred)))\n",
        "R23 = r2_score(Y_test, y_pred)\n",
        "\n",
        "print('RMSE is {}'.format(RMSE3))\n",
        "print('R^2 is {}'.format(R23))\n",
        "\n",
        "print(\"coefficients: \", model.coef_[0])\n",
        "print(\"intercepts: \", model.intercept_)"
      ],
      "execution_count": 68,
      "outputs": [
        {
          "output_type": "stream",
          "text": [
            "RMSE is 0.4608006913166855\n",
            "R^2 is 0.7711654867530041\n",
            "coefficients:  [-7.78857992e-04  4.06877295e-02  1.51980682e-04  2.00401190e-01\n",
            " -2.51086987e-01  3.39318458e-01 -5.67356752e+00  1.10934964e+00\n",
            " -5.92205540e-06 -1.24616407e-02  7.89714443e-07 -2.07248404e-03\n",
            "  6.74830292e-02  3.39318458e-01  1.43974340e-03 -4.61095733e-01]\n",
            "intercepts:  [5595.47369791]\n"
          ],
          "name": "stdout"
        }
      ]
    },
    {
      "metadata": {
        "id": "T0CV0OnDVZbu",
        "colab_type": "text"
      },
      "cell_type": "markdown",
      "source": [
        "## 1.5 Use the test data to make predictions"
      ]
    },
    {
      "metadata": {
        "id": "vrR5b5c3VwE5",
        "colab_type": "code",
        "colab": {
          "base_uri": "https://localhost:8080/",
          "height": 289
        },
        "outputId": "04f4f65b-c870-43ad-af6e-6c7db5cddf55"
      },
      "cell_type": "code",
      "source": [
        "# As a polynomial regression with regular variables\n",
        "print('polynomial regression with regular variables')\n",
        "#RMSE = (np.sqrt(mean_squared_error(Y_test, y_pred)))\n",
        "#R2 = r2_score(Y_test, y_pred)\n",
        "\n",
        "print('RMSE is {}'.format(RMSE))\n",
        "print('R^2 is {}'.format(R2), '\\n')\n",
        "\n",
        "\n",
        "# As a bivariate model with squared variables\n",
        "print('bivariate model with squared variables')\n",
        "#RMSE2 = (np.sqrt(mean_squared_error(Y_test, y_pred)))\n",
        "#R22 = r2_score(Y_test, y_pred)\n",
        "\n",
        "print('RMSE is {}'.format(RMSE2))\n",
        "print('R^2 is {}'.format(R22), '\\n')\n",
        "\n",
        "# As a multiple regression with both regular and squared variables\n",
        "print('multiple regression with both regular and squared variables')\n",
        "#RMSE3 = (np.sqrt(mean_squared_error(Y_test, y_pred)))\n",
        "#R23 = r2_score(Y_test, y_pred)\n",
        "\n",
        "print('RMSE is {}'.format(RMSE3))\n",
        "print('R^2 is {}'.format(R23))\n",
        "print(\"coefficients: \", model.coef_[0])\n",
        "print(\"intercepts: \", model.intercept_)"
      ],
      "execution_count": 69,
      "outputs": [
        {
          "output_type": "stream",
          "text": [
            "polynomial regression with regular variables\n",
            "RMSE is 0.5643592878833026\n",
            "R^2 is 0.6567530903730265 \n",
            "\n",
            "bivariate model with squared variables\n",
            "RMSE is 0.6078515114529396\n",
            "R^2 is 0.6018100596186088 \n",
            "\n",
            "multiple regression with both regular and squared variables\n",
            "RMSE is 0.4608006913166855\n",
            "R^2 is 0.7711654867530041\n",
            "coefficients:  [-7.78857992e-04  4.06877295e-02  1.51980682e-04  2.00401190e-01\n",
            " -2.51086987e-01  3.39318458e-01 -5.67356752e+00  1.10934964e+00\n",
            " -5.92205540e-06 -1.24616407e-02  7.89714443e-07 -2.07248404e-03\n",
            "  6.74830292e-02  3.39318458e-01  1.43974340e-03 -4.61095733e-01]\n",
            "intercepts:  [5595.47369791]\n"
          ],
          "name": "stdout"
        }
      ]
    },
    {
      "metadata": {
        "id": "cUItad45z1A_",
        "colab_type": "text"
      },
      "cell_type": "markdown",
      "source": [
        "Our RMSE  represents error in percentage terms. We're on agerage about 46.1% off in our predictions of house prices."
      ]
    },
    {
      "metadata": {
        "id": "ZwQb3gE7VycT",
        "colab_type": "text"
      },
      "cell_type": "markdown",
      "source": [
        "## 1.6 Calculate and report both the Root-Mean-Square error and $R^2$ for the model. "
      ]
    },
    {
      "metadata": {
        "id": "Ym2kjxWhU6b2",
        "colab_type": "code",
        "colab": {
          "base_uri": "https://localhost:8080/",
          "height": 204
        },
        "outputId": "6bf694f8-1616-41fc-ab3e-7e2bfabdcd12"
      },
      "cell_type": "code",
      "source": [
        "# I calculated these all above, I think\n",
        "# As a polynomial regression with regular variables\n",
        "print('polynomial regression with regular variables')\n",
        "\n",
        "print('RMSE is {}'.format(RMSE))\n",
        "print('R^2 is {}'.format(R2), '\\n')\n",
        "\n",
        "# As a bivariate model with squared variables\n",
        "print('bivariate model with squared variables')\n",
        "\n",
        "print('RMSE is {}'.format(RMSE2))\n",
        "print('R^2 is {}'.format(R22), '\\n')\n",
        "\n",
        "\n",
        "# As a multiple regression with both regular and squared variables\n",
        "print('multiple regression with both regular and squared variables')\n",
        "\n",
        "print('RMSE is {}'.format(RMSE3))\n",
        "print('R^2 is {}'.format(R23))\n"
      ],
      "execution_count": 72,
      "outputs": [
        {
          "output_type": "stream",
          "text": [
            "polynomial regression with regular variables\n",
            "RMSE is 0.5643592878833026\n",
            "R^2 is 0.6567530903730265 \n",
            "\n",
            "bivariate model with squared variables\n",
            "RMSE is 0.6078515114529396\n",
            "R^2 is 0.6018100596186088 \n",
            "\n",
            "multiple regression with both regular and squared variables\n",
            "RMSE is 0.4608006913166855\n",
            "R^2 is 0.7711654867530041\n"
          ],
          "name": "stdout"
        }
      ]
    },
    {
      "metadata": {
        "id": "kIXhGHIgXHyJ",
        "colab_type": "text"
      },
      "cell_type": "markdown",
      "source": [
        "## 1.7 How should we interpret the coefficient corresponding to the \"year\" feature?"
      ]
    },
    {
      "metadata": {
        "id": "8jv2n0wAXgHU",
        "colab_type": "text"
      },
      "cell_type": "markdown",
      "source": [
        "I think the year feature's coefficient is sufficiently large to show that it has a large affect on the price of the vehicle"
      ]
    },
    {
      "metadata": {
        "id": "ckQ5GsOtYsjn",
        "colab_type": "text"
      },
      "cell_type": "markdown",
      "source": [
        "## 1.8 How should we interpret the Root-Mean-Square Error?"
      ]
    },
    {
      "metadata": {
        "id": "F982IeSgYyp6",
        "colab_type": "text"
      },
      "cell_type": "markdown",
      "source": [
        "RMSE is 0.4608006913166855\n",
        "\n",
        "With an RMSE we can say we are on average about 46.1% off on our price predictions using these feauture. "
      ]
    },
    {
      "metadata": {
        "id": "T3sZrru_YzFF",
        "colab_type": "text"
      },
      "cell_type": "markdown",
      "source": [
        "## 1.9 How should we interpret the $R^2$?"
      ]
    },
    {
      "metadata": {
        "id": "5pN2Oet_Y5jR",
        "colab_type": "text"
      },
      "cell_type": "markdown",
      "source": [
        "R^2 is 0.17765374557597213\n",
        "\n",
        "A low R^2 shows that the features do a good job of explaining the variance we see in the data."
      ]
    },
    {
      "metadata": {
        "id": "Z_VNy7e3Y5sT",
        "colab_type": "text"
      },
      "cell_type": "markdown",
      "source": [
        "# Log-Linear and Polynomial Regression"
      ]
    },
    {
      "metadata": {
        "id": "G2T4FSqRZOJA",
        "colab_type": "text"
      },
      "cell_type": "markdown",
      "source": [
        "## 2.1 Engineer a new variable by taking the log of the price varible."
      ]
    },
    {
      "metadata": {
        "id": "ue6hCHGqVE83",
        "colab_type": "code",
        "colab": {}
      },
      "cell_type": "code",
      "source": [
        "## generate our ln(price) variable\n",
        "df['ln_price'] = np.log(df['price'])"
      ],
      "execution_count": 0,
      "outputs": []
    },
    {
      "metadata": {
        "id": "7EChAFNxZX24",
        "colab_type": "code",
        "colab": {
          "base_uri": "https://localhost:8080/",
          "height": 364
        },
        "outputId": "1dd167e7-efc1-444e-fef9-ea536b946d30"
      },
      "cell_type": "code",
      "source": [
        "df.price.hist()"
      ],
      "execution_count": 50,
      "outputs": [
        {
          "output_type": "execute_result",
          "data": {
            "text/plain": [
              "<matplotlib.axes._subplots.AxesSubplot at 0x7f32d798d9b0>"
            ]
          },
          "metadata": {
            "tags": []
          },
          "execution_count": 50
        },
        {
          "output_type": "display_data",
          "data": {
            "image/png": "[encoded data removed]",
            "text/plain": [
              "<Figure size 576x396 with 1 Axes>"
            ]
          },
          "metadata": {
            "tags": []
          }
        }
      ]
    },
    {
      "metadata": {
        "id": "mcLo7Iik8t1v",
        "colab_type": "code",
        "colab": {
          "base_uri": "https://localhost:8080/",
          "height": 364
        },
        "outputId": "a7064b85-8940-4646-c782-b9611090d7b6"
      },
      "cell_type": "code",
      "source": [
        "df.ln_price.hist()"
      ],
      "execution_count": 51,
      "outputs": [
        {
          "output_type": "execute_result",
          "data": {
            "text/plain": [
              "<matplotlib.axes._subplots.AxesSubplot at 0x7f32d79acb70>"
            ]
          },
          "metadata": {
            "tags": []
          },
          "execution_count": 51
        },
        {
          "output_type": "display_data",
          "data": {
            "image/png": "[encoded data removed]",
            "text/plain": [
              "<Figure size 576x396 with 1 Axes>"
            ]
          },
          "metadata": {
            "tags": []
          }
        }
      ]
    },
    {
      "metadata": {
        "id": "R117rxnOZw6q",
        "colab_type": "text"
      },
      "cell_type": "markdown",
      "source": [
        "## 2.2 Use scatterplots or seaborn's pairplot function to do the \"eyeball test\" for non-linearly distributed features."
      ]
    },
    {
      "metadata": {
        "id": "8l56Qk7VaBrU",
        "colab_type": "code",
        "colab": {
          "base_uri": "https://localhost:8080/",
          "height": 205
        },
        "outputId": "be0d661f-6742-4fcb-9c7f-58cddcbd4acc"
      },
      "cell_type": "code",
      "source": [
        "sns.set(style=\"ticks\", color_codes=True)\n",
        "\n",
        "# Generate a list of column headers not including price\n",
        "x_columns = df.columns.drop('price')\n",
        "\n",
        "# Only plot the scatterplot of x variables with our y variable\n",
        "sns.pairplot(data=df, y_vars=['price'], x_vars=x_columns);"
      ],
      "execution_count": 53,
      "outputs": [
        {
          "output_type": "display_data",
          "data": {
            "image/png": "[encoded data removed]",
            "text/plain": [
              "<Figure size 3060x180 with 17 Axes>"
            ]
          },
          "metadata": {
            "tags": []
          }
        }
      ]
    },
    {
      "metadata": {
        "id": "QTf4gCaDaiCw",
        "colab_type": "text"
      },
      "cell_type": "markdown",
      "source": [
        "## 2.3 If appropriate, create any polynomial features. "
      ]
    },
    {
      "metadata": {
        "id": "ipsCcH83ZMe8",
        "colab_type": "code",
        "colab": {
          "base_uri": "https://localhost:8080/",
          "height": 224
        },
        "outputId": "d2a95877-9da4-4c9d-d419-9109e312f920"
      },
      "cell_type": "code",
      "source": [
        "df['make_squared'] = df['make']**2\n",
        "df['body_squared'] = df['body']**2\n",
        "df['mileage_squared'] = df['mileage']**2\n",
        "df['engV_squared'] = df['engV']**2\n",
        "df['engType_squared'] = df['engType']**2\n",
        "df['registration_squared'] = df['registration']**2\n",
        "df['year_squared'] = df['year']**2\n",
        "df['drive_squared'] = df['drive']**2\n",
        "df.head()"
      ],
      "execution_count": 54,
      "outputs": [
        {
          "output_type": "execute_result",
          "data": {
            "text/html": [
              "<div>\n",
              "<style scoped>\n",
              "    .dataframe tbody tr th:only-of-type {\n",
              "        vertical-align: middle;\n",
              "    }\n",
              "\n",
              "    .dataframe tbody tr th {\n",
              "        vertical-align: top;\n",
              "    }\n",
              "\n",
              "    .dataframe thead th {\n",
              "        text-align: right;\n",
              "    }\n",
              "</style>\n",
              "<table border=\"1\" class=\"dataframe\">\n",
              "  <thead>\n",
              "    <tr style=\"text-align: right;\">\n",
              "      <th></th>\n",
              "      <th>make</th>\n",
              "      <th>price</th>\n",
              "      <th>body</th>\n",
              "      <th>mileage</th>\n",
              "      <th>engV</th>\n",
              "      <th>engType</th>\n",
              "      <th>registration</th>\n",
              "      <th>year</th>\n",
              "      <th>drive</th>\n",
              "      <th>make_squared</th>\n",
              "      <th>body_squared</th>\n",
              "      <th>mileage_squared</th>\n",
              "      <th>engV_squared</th>\n",
              "      <th>engType_squared</th>\n",
              "      <th>registration_squared</th>\n",
              "      <th>year_squared</th>\n",
              "      <th>drive_squared</th>\n",
              "      <th>ln_price</th>\n",
              "    </tr>\n",
              "  </thead>\n",
              "  <tbody>\n",
              "    <tr>\n",
              "      <th>0</th>\n",
              "      <td>23</td>\n",
              "      <td>15500.0</td>\n",
              "      <td>0</td>\n",
              "      <td>68</td>\n",
              "      <td>2.5</td>\n",
              "      <td>1</td>\n",
              "      <td>1</td>\n",
              "      <td>2010</td>\n",
              "      <td>1</td>\n",
              "      <td>529</td>\n",
              "      <td>0</td>\n",
              "      <td>4624</td>\n",
              "      <td>6.25</td>\n",
              "      <td>1</td>\n",
              "      <td>1</td>\n",
              "      <td>4040100</td>\n",
              "      <td>1</td>\n",
              "      <td>9.648595</td>\n",
              "    </tr>\n",
              "    <tr>\n",
              "      <th>1</th>\n",
              "      <td>50</td>\n",
              "      <td>20500.0</td>\n",
              "      <td>3</td>\n",
              "      <td>173</td>\n",
              "      <td>1.8</td>\n",
              "      <td>1</td>\n",
              "      <td>1</td>\n",
              "      <td>2011</td>\n",
              "      <td>2</td>\n",
              "      <td>2500</td>\n",
              "      <td>9</td>\n",
              "      <td>29929</td>\n",
              "      <td>3.24</td>\n",
              "      <td>1</td>\n",
              "      <td>1</td>\n",
              "      <td>4044121</td>\n",
              "      <td>4</td>\n",
              "      <td>9.928180</td>\n",
              "    </tr>\n",
              "    <tr>\n",
              "      <th>2</th>\n",
              "      <td>50</td>\n",
              "      <td>35000.0</td>\n",
              "      <td>2</td>\n",
              "      <td>135</td>\n",
              "      <td>5.5</td>\n",
              "      <td>3</td>\n",
              "      <td>1</td>\n",
              "      <td>2008</td>\n",
              "      <td>2</td>\n",
              "      <td>2500</td>\n",
              "      <td>4</td>\n",
              "      <td>18225</td>\n",
              "      <td>30.25</td>\n",
              "      <td>9</td>\n",
              "      <td>1</td>\n",
              "      <td>4032064</td>\n",
              "      <td>4</td>\n",
              "      <td>10.463103</td>\n",
              "    </tr>\n",
              "    <tr>\n",
              "      <th>3</th>\n",
              "      <td>50</td>\n",
              "      <td>17800.0</td>\n",
              "      <td>5</td>\n",
              "      <td>162</td>\n",
              "      <td>1.8</td>\n",
              "      <td>0</td>\n",
              "      <td>1</td>\n",
              "      <td>2012</td>\n",
              "      <td>0</td>\n",
              "      <td>2500</td>\n",
              "      <td>25</td>\n",
              "      <td>26244</td>\n",
              "      <td>3.24</td>\n",
              "      <td>0</td>\n",
              "      <td>1</td>\n",
              "      <td>4048144</td>\n",
              "      <td>0</td>\n",
              "      <td>9.786954</td>\n",
              "    </tr>\n",
              "    <tr>\n",
              "      <th>4</th>\n",
              "      <td>55</td>\n",
              "      <td>16600.0</td>\n",
              "      <td>0</td>\n",
              "      <td>83</td>\n",
              "      <td>2.0</td>\n",
              "      <td>3</td>\n",
              "      <td>1</td>\n",
              "      <td>2013</td>\n",
              "      <td>1</td>\n",
              "      <td>3025</td>\n",
              "      <td>0</td>\n",
              "      <td>6889</td>\n",
              "      <td>4.00</td>\n",
              "      <td>9</td>\n",
              "      <td>1</td>\n",
              "      <td>4052169</td>\n",
              "      <td>1</td>\n",
              "      <td>9.717158</td>\n",
              "    </tr>\n",
              "  </tbody>\n",
              "</table>\n",
              "</div>"
            ],
            "text/plain": [
              "   make    price  body  mileage  engV  engType  registration  year  drive  \\\n",
              "0    23  15500.0     0       68   2.5        1             1  2010      1   \n",
              "1    50  20500.0     3      173   1.8        1             1  2011      2   \n",
              "2    50  35000.0     2      135   5.5        3             1  2008      2   \n",
              "3    50  17800.0     5      162   1.8        0             1  2012      0   \n",
              "4    55  16600.0     0       83   2.0        3             1  2013      1   \n",
              "\n",
              "   make_squared  body_squared  mileage_squared  engV_squared  engType_squared  \\\n",
              "0           529             0             4624          6.25                1   \n",
              "1          2500             9            29929          3.24                1   \n",
              "2          2500             4            18225         30.25                9   \n",
              "3          2500            25            26244          3.24                0   \n",
              "4          3025             0             6889          4.00                9   \n",
              "\n",
              "   registration_squared  year_squared  drive_squared   ln_price  \n",
              "0                     1       4040100              1   9.648595  \n",
              "1                     1       4044121              4   9.928180  \n",
              "2                     1       4032064              4  10.463103  \n",
              "3                     1       4048144              0   9.786954  \n",
              "4                     1       4052169              1   9.717158  "
            ]
          },
          "metadata": {
            "tags": []
          },
          "execution_count": 54
        }
      ]
    },
    {
      "metadata": {
        "id": "NJgfD-JLayRA",
        "colab_type": "text"
      },
      "cell_type": "markdown",
      "source": [
        "## 2.4 Use the new log-transformed y variable and your x variables (including any new polynomial features) to fit a new linear regression model. Then report the: intercept, coefficients, RMSE, and $R^2$."
      ]
    },
    {
      "metadata": {
        "id": "uXmtVpnPcFij",
        "colab_type": "code",
        "colab": {
          "base_uri": "https://localhost:8080/",
          "height": 136
        },
        "outputId": "5ea78288-4a04-4564-8bc1-127a8305355e"
      },
      "cell_type": "code",
      "source": [
        "# As a multiple regression\n",
        "# Separate dependent and independent variables\n",
        "y3 = df.loc[:, ['price']].values\n",
        "X3 = df.loc[:, ['make', 'body', 'mileage', 'engV', 'engType', 'registration', \n",
        "                 'year', 'drive', 'make_squared', 'body_squared', 'mileage_squared',\n",
        "                 'engV_squared', 'engType_squared', 'registration_squared',\n",
        "                 'year_squared', 'drive_squared']].values\n",
        "\n",
        "# Slit into test and train datasets\n",
        "X_train, X_test, Y_train, Y_test = train_test_split(X3, y3, test_size=.5, random_state=15)\n",
        "\n",
        "# fit model using train datasets\n",
        "model = LinearRegression()\n",
        "model.fit(X_train, Y_train)\n",
        "\n",
        "# Create new predictions using x_test\n",
        "y_pred = model.predict(X_test)\n",
        "\n",
        "# Measure Accuracy using y_test and y_pred\n",
        "RMSE = (np.sqrt(mean_squared_error(Y_test, y_pred)))\n",
        "R2 = r2_score(Y_test, y_pred)\n",
        "\n",
        "print('RMSE is {}'.format(RMSE))\n",
        "print('R^2 is {}'.format(R2))\n",
        "print(\"coefficients: \", model.coef_[0])\n",
        "print(\"intercepts: \", model.intercept_)"
      ],
      "execution_count": 56,
      "outputs": [
        {
          "output_type": "stream",
          "text": [
            "RMSE is 16142.209669702452\n",
            "R^2 is 0.49325327298764976\n",
            "coefficients:  [-9.96495609e+01  1.04115335e+03 -8.68866932e+01  5.88481408e+03\n",
            " -5.48520508e+03  1.23941421e+03 -1.91718972e+05  2.26069802e+04\n",
            "  7.83995223e-01 -1.86653296e+02  1.48073877e-01 -6.03280380e+01\n",
            "  1.56637121e+03  1.23941421e+03  4.81580667e+01 -9.72619591e+03]\n",
            "intercepts:  [1.90803382e+08]\n"
          ],
          "name": "stdout"
        }
      ]
    },
    {
      "metadata": {
        "id": "hf4_8FXrpHFY",
        "colab_type": "text"
      },
      "cell_type": "markdown",
      "source": [
        "## 2.5 How might we interpret the coefficient on \"year\" in this new regression model?"
      ]
    },
    {
      "metadata": {
        "id": "JVGKvt5WpTf2",
        "colab_type": "text"
      },
      "cell_type": "markdown",
      "source": [
        "The year still shows a high affect on variability of price, around 4.8% of the price variation seems to be an affect of year."
      ]
    },
    {
      "metadata": {
        "id": "JUQwzfDRfrQi",
        "colab_type": "text"
      },
      "cell_type": "markdown",
      "source": [
        "# Gradient Descent"
      ]
    },
    {
      "metadata": {
        "id": "M_JLfReVeoYT",
        "colab_type": "text"
      },
      "cell_type": "markdown",
      "source": [
        "## 3.1 What does Gradient Descent seek to minimize?"
      ]
    },
    {
      "metadata": {
        "id": "-ezM_NS2fIJe",
        "colab_type": "text"
      },
      "cell_type": "markdown",
      "source": [
        "Gradient Descent looks to minimize the values for each value of a function. Once the minimum values are found for each, you have reached the optimal value of the function."
      ]
    },
    {
      "metadata": {
        "id": "unqhNRYnfIL4",
        "colab_type": "text"
      },
      "cell_type": "markdown",
      "source": [
        "## 3.2 What is the \"Learning Rate\" and what is its function?"
      ]
    },
    {
      "metadata": {
        "id": "7jhKwIOVfT6B",
        "colab_type": "text"
      },
      "cell_type": "markdown",
      "source": [
        "Learning rate is how quickly feature parameters are iterated over to find the optimal result. The rate is how far each \"step\" is towards the minimum and is controlled by the developer. These steps serve to move in towards the optial incremetally until the minimum is reached. "
      ]
    },
    {
      "metadata": {
        "id": "Gs20FOntprd_",
        "colab_type": "text"
      },
      "cell_type": "markdown",
      "source": [
        "# Model Diagnostics"
      ]
    },
    {
      "metadata": {
        "id": "VJnxkobcpulV",
        "colab_type": "text"
      },
      "cell_type": "markdown",
      "source": [
        "## 4.1 Use statsmodels to run a log-linear or log-polynomial linear regression with robust standard errors."
      ]
    },
    {
      "metadata": {
        "id": "j1EcayLZBcS3",
        "colab_type": "code",
        "colab": {
          "base_uri": "https://localhost:8080/",
          "height": 224
        },
        "outputId": "de29122b-f0f6-4071-81b4-094b064fedd4"
      },
      "cell_type": "code",
      "source": [
        "df.head()"
      ],
      "execution_count": 73,
      "outputs": [
        {
          "output_type": "execute_result",
          "data": {
            "text/html": [
              "<div>\n",
              "<style scoped>\n",
              "    .dataframe tbody tr th:only-of-type {\n",
              "        vertical-align: middle;\n",
              "    }\n",
              "\n",
              "    .dataframe tbody tr th {\n",
              "        vertical-align: top;\n",
              "    }\n",
              "\n",
              "    .dataframe thead th {\n",
              "        text-align: right;\n",
              "    }\n",
              "</style>\n",
              "<table border=\"1\" class=\"dataframe\">\n",
              "  <thead>\n",
              "    <tr style=\"text-align: right;\">\n",
              "      <th></th>\n",
              "      <th>make</th>\n",
              "      <th>price</th>\n",
              "      <th>body</th>\n",
              "      <th>mileage</th>\n",
              "      <th>engV</th>\n",
              "      <th>engType</th>\n",
              "      <th>registration</th>\n",
              "      <th>year</th>\n",
              "      <th>drive</th>\n",
              "      <th>make_squared</th>\n",
              "      <th>body_squared</th>\n",
              "      <th>mileage_squared</th>\n",
              "      <th>engV_squared</th>\n",
              "      <th>engType_squared</th>\n",
              "      <th>registration_squared</th>\n",
              "      <th>year_squared</th>\n",
              "      <th>drive_squared</th>\n",
              "      <th>ln_price</th>\n",
              "    </tr>\n",
              "  </thead>\n",
              "  <tbody>\n",
              "    <tr>\n",
              "      <th>0</th>\n",
              "      <td>23</td>\n",
              "      <td>15500.0</td>\n",
              "      <td>0</td>\n",
              "      <td>68</td>\n",
              "      <td>2.5</td>\n",
              "      <td>1</td>\n",
              "      <td>1</td>\n",
              "      <td>2010</td>\n",
              "      <td>1</td>\n",
              "      <td>529</td>\n",
              "      <td>0</td>\n",
              "      <td>4624</td>\n",
              "      <td>6.25</td>\n",
              "      <td>1</td>\n",
              "      <td>1</td>\n",
              "      <td>4040100</td>\n",
              "      <td>1</td>\n",
              "      <td>9.648595</td>\n",
              "    </tr>\n",
              "    <tr>\n",
              "      <th>1</th>\n",
              "      <td>50</td>\n",
              "      <td>20500.0</td>\n",
              "      <td>3</td>\n",
              "      <td>173</td>\n",
              "      <td>1.8</td>\n",
              "      <td>1</td>\n",
              "      <td>1</td>\n",
              "      <td>2011</td>\n",
              "      <td>2</td>\n",
              "      <td>2500</td>\n",
              "      <td>9</td>\n",
              "      <td>29929</td>\n",
              "      <td>3.24</td>\n",
              "      <td>1</td>\n",
              "      <td>1</td>\n",
              "      <td>4044121</td>\n",
              "      <td>4</td>\n",
              "      <td>9.928180</td>\n",
              "    </tr>\n",
              "    <tr>\n",
              "      <th>2</th>\n",
              "      <td>50</td>\n",
              "      <td>35000.0</td>\n",
              "      <td>2</td>\n",
              "      <td>135</td>\n",
              "      <td>5.5</td>\n",
              "      <td>3</td>\n",
              "      <td>1</td>\n",
              "      <td>2008</td>\n",
              "      <td>2</td>\n",
              "      <td>2500</td>\n",
              "      <td>4</td>\n",
              "      <td>18225</td>\n",
              "      <td>30.25</td>\n",
              "      <td>9</td>\n",
              "      <td>1</td>\n",
              "      <td>4032064</td>\n",
              "      <td>4</td>\n",
              "      <td>10.463103</td>\n",
              "    </tr>\n",
              "    <tr>\n",
              "      <th>3</th>\n",
              "      <td>50</td>\n",
              "      <td>17800.0</td>\n",
              "      <td>5</td>\n",
              "      <td>162</td>\n",
              "      <td>1.8</td>\n",
              "      <td>0</td>\n",
              "      <td>1</td>\n",
              "      <td>2012</td>\n",
              "      <td>0</td>\n",
              "      <td>2500</td>\n",
              "      <td>25</td>\n",
              "      <td>26244</td>\n",
              "      <td>3.24</td>\n",
              "      <td>0</td>\n",
              "      <td>1</td>\n",
              "      <td>4048144</td>\n",
              "      <td>0</td>\n",
              "      <td>9.786954</td>\n",
              "    </tr>\n",
              "    <tr>\n",
              "      <th>4</th>\n",
              "      <td>55</td>\n",
              "      <td>16600.0</td>\n",
              "      <td>0</td>\n",
              "      <td>83</td>\n",
              "      <td>2.0</td>\n",
              "      <td>3</td>\n",
              "      <td>1</td>\n",
              "      <td>2013</td>\n",
              "      <td>1</td>\n",
              "      <td>3025</td>\n",
              "      <td>0</td>\n",
              "      <td>6889</td>\n",
              "      <td>4.00</td>\n",
              "      <td>9</td>\n",
              "      <td>1</td>\n",
              "      <td>4052169</td>\n",
              "      <td>1</td>\n",
              "      <td>9.717158</td>\n",
              "    </tr>\n",
              "  </tbody>\n",
              "</table>\n",
              "</div>"
            ],
            "text/plain": [
              "   make    price  body  mileage  engV  engType  registration  year  drive  \\\n",
              "0    23  15500.0     0       68   2.5        1             1  2010      1   \n",
              "1    50  20500.0     3      173   1.8        1             1  2011      2   \n",
              "2    50  35000.0     2      135   5.5        3             1  2008      2   \n",
              "3    50  17800.0     5      162   1.8        0             1  2012      0   \n",
              "4    55  16600.0     0       83   2.0        3             1  2013      1   \n",
              "\n",
              "   make_squared  body_squared  mileage_squared  engV_squared  engType_squared  \\\n",
              "0           529             0             4624          6.25                1   \n",
              "1          2500             9            29929          3.24                1   \n",
              "2          2500             4            18225         30.25                9   \n",
              "3          2500            25            26244          3.24                0   \n",
              "4          3025             0             6889          4.00                9   \n",
              "\n",
              "   registration_squared  year_squared  drive_squared   ln_price  \n",
              "0                     1       4040100              1   9.648595  \n",
              "1                     1       4044121              4   9.928180  \n",
              "2                     1       4032064              4  10.463103  \n",
              "3                     1       4048144              0   9.786954  \n",
              "4                     1       4052169              1   9.717158  "
            ]
          },
          "metadata": {
            "tags": []
          },
          "execution_count": 73
        }
      ]
    },
    {
      "metadata": {
        "id": "QqCVeYBTpvfQ",
        "colab_type": "code",
        "colab": {
          "base_uri": "https://localhost:8080/",
          "height": 222
        },
        "outputId": "c91099b4-fc8d-4ee8-ed86-f0bc1b29b778"
      },
      "cell_type": "code",
      "source": [
        "sns.set(style=\"ticks\", color_codes=True)\n",
        "\n",
        "# Generate a list of column headers not including price\n",
        "x_columns = df.columns.drop('price')\n",
        "\n",
        "# Only plot the scatterplot of x variables with our y variable\n",
        "sns.pairplot(data=df, y_vars=['price'], x_vars=x_columns);"
      ],
      "execution_count": 74,
      "outputs": [
        {
          "output_type": "execute_result",
          "data": {
            "text/plain": [
              "<seaborn.axisgrid.PairGrid at 0x7f32d7402278>"
            ]
          },
          "metadata": {
            "tags": []
          },
          "execution_count": 74
        },
        {
          "output_type": "display_data",
          "data": {
            "image/png": "[encoded data removed]",
            "text/plain": [
              "<Figure size 3060x180 with 17 Axes>"
            ]
          },
          "metadata": {
            "tags": []
          }
        }
      ]
    },
    {
      "metadata": {
        "id": "4wAUhPsIBrZH",
        "colab_type": "code",
        "colab": {
          "base_uri": "https://localhost:8080/",
          "height": 34
        },
        "outputId": "66a746e0-e178-4d42-e7f9-6e1d735b04d1"
      },
      "cell_type": "code",
      "source": [
        "df.isna().sum().sum()"
      ],
      "execution_count": 76,
      "outputs": [
        {
          "output_type": "execute_result",
          "data": {
            "text/plain": [
              "0"
            ]
          },
          "metadata": {
            "tags": []
          },
          "execution_count": 76
        }
      ]
    },
    {
      "metadata": {
        "id": "FzjDUAtdCK7O",
        "colab_type": "code",
        "colab": {
          "base_uri": "https://localhost:8080/",
          "height": 483
        },
        "outputId": "ea870b55-51b5-49f0-b840-311fafe7e121"
      },
      "cell_type": "code",
      "source": [
        "df_drop = df.drop(['registration', 'registration_squared', 'drive', 'drive_squared'], axis=1)\n",
        "df_drop.head().T"
      ],
      "execution_count": 80,
      "outputs": [
        {
          "output_type": "execute_result",
          "data": {
            "text/html": [
              "<div>\n",
              "<style scoped>\n",
              "    .dataframe tbody tr th:only-of-type {\n",
              "        vertical-align: middle;\n",
              "    }\n",
              "\n",
              "    .dataframe tbody tr th {\n",
              "        vertical-align: top;\n",
              "    }\n",
              "\n",
              "    .dataframe thead th {\n",
              "        text-align: right;\n",
              "    }\n",
              "</style>\n",
              "<table border=\"1\" class=\"dataframe\">\n",
              "  <thead>\n",
              "    <tr style=\"text-align: right;\">\n",
              "      <th></th>\n",
              "      <th>0</th>\n",
              "      <th>1</th>\n",
              "      <th>2</th>\n",
              "      <th>3</th>\n",
              "      <th>4</th>\n",
              "    </tr>\n",
              "  </thead>\n",
              "  <tbody>\n",
              "    <tr>\n",
              "      <th>make</th>\n",
              "      <td>2.300000e+01</td>\n",
              "      <td>5.000000e+01</td>\n",
              "      <td>5.000000e+01</td>\n",
              "      <td>5.000000e+01</td>\n",
              "      <td>5.500000e+01</td>\n",
              "    </tr>\n",
              "    <tr>\n",
              "      <th>price</th>\n",
              "      <td>1.550000e+04</td>\n",
              "      <td>2.050000e+04</td>\n",
              "      <td>3.500000e+04</td>\n",
              "      <td>1.780000e+04</td>\n",
              "      <td>1.660000e+04</td>\n",
              "    </tr>\n",
              "    <tr>\n",
              "      <th>body</th>\n",
              "      <td>0.000000e+00</td>\n",
              "      <td>3.000000e+00</td>\n",
              "      <td>2.000000e+00</td>\n",
              "      <td>5.000000e+00</td>\n",
              "      <td>0.000000e+00</td>\n",
              "    </tr>\n",
              "    <tr>\n",
              "      <th>mileage</th>\n",
              "      <td>6.800000e+01</td>\n",
              "      <td>1.730000e+02</td>\n",
              "      <td>1.350000e+02</td>\n",
              "      <td>1.620000e+02</td>\n",
              "      <td>8.300000e+01</td>\n",
              "    </tr>\n",
              "    <tr>\n",
              "      <th>engV</th>\n",
              "      <td>2.500000e+00</td>\n",
              "      <td>1.800000e+00</td>\n",
              "      <td>5.500000e+00</td>\n",
              "      <td>1.800000e+00</td>\n",
              "      <td>2.000000e+00</td>\n",
              "    </tr>\n",
              "    <tr>\n",
              "      <th>engType</th>\n",
              "      <td>1.000000e+00</td>\n",
              "      <td>1.000000e+00</td>\n",
              "      <td>3.000000e+00</td>\n",
              "      <td>0.000000e+00</td>\n",
              "      <td>3.000000e+00</td>\n",
              "    </tr>\n",
              "    <tr>\n",
              "      <th>year</th>\n",
              "      <td>2.010000e+03</td>\n",
              "      <td>2.011000e+03</td>\n",
              "      <td>2.008000e+03</td>\n",
              "      <td>2.012000e+03</td>\n",
              "      <td>2.013000e+03</td>\n",
              "    </tr>\n",
              "    <tr>\n",
              "      <th>make_squared</th>\n",
              "      <td>5.290000e+02</td>\n",
              "      <td>2.500000e+03</td>\n",
              "      <td>2.500000e+03</td>\n",
              "      <td>2.500000e+03</td>\n",
              "      <td>3.025000e+03</td>\n",
              "    </tr>\n",
              "    <tr>\n",
              "      <th>body_squared</th>\n",
              "      <td>0.000000e+00</td>\n",
              "      <td>9.000000e+00</td>\n",
              "      <td>4.000000e+00</td>\n",
              "      <td>2.500000e+01</td>\n",
              "      <td>0.000000e+00</td>\n",
              "    </tr>\n",
              "    <tr>\n",
              "      <th>mileage_squared</th>\n",
              "      <td>4.624000e+03</td>\n",
              "      <td>2.992900e+04</td>\n",
              "      <td>1.822500e+04</td>\n",
              "      <td>2.624400e+04</td>\n",
              "      <td>6.889000e+03</td>\n",
              "    </tr>\n",
              "    <tr>\n",
              "      <th>engV_squared</th>\n",
              "      <td>6.250000e+00</td>\n",
              "      <td>3.240000e+00</td>\n",
              "      <td>3.025000e+01</td>\n",
              "      <td>3.240000e+00</td>\n",
              "      <td>4.000000e+00</td>\n",
              "    </tr>\n",
              "    <tr>\n",
              "      <th>engType_squared</th>\n",
              "      <td>1.000000e+00</td>\n",
              "      <td>1.000000e+00</td>\n",
              "      <td>9.000000e+00</td>\n",
              "      <td>0.000000e+00</td>\n",
              "      <td>9.000000e+00</td>\n",
              "    </tr>\n",
              "    <tr>\n",
              "      <th>year_squared</th>\n",
              "      <td>4.040100e+06</td>\n",
              "      <td>4.044121e+06</td>\n",
              "      <td>4.032064e+06</td>\n",
              "      <td>4.048144e+06</td>\n",
              "      <td>4.052169e+06</td>\n",
              "    </tr>\n",
              "    <tr>\n",
              "      <th>ln_price</th>\n",
              "      <td>9.648595e+00</td>\n",
              "      <td>9.928180e+00</td>\n",
              "      <td>1.046310e+01</td>\n",
              "      <td>9.786954e+00</td>\n",
              "      <td>9.717158e+00</td>\n",
              "    </tr>\n",
              "  </tbody>\n",
              "</table>\n",
              "</div>"
            ],
            "text/plain": [
              "                            0             1             2             3  \\\n",
              "make             2.300000e+01  5.000000e+01  5.000000e+01  5.000000e+01   \n",
              "price            1.550000e+04  2.050000e+04  3.500000e+04  1.780000e+04   \n",
              "body             0.000000e+00  3.000000e+00  2.000000e+00  5.000000e+00   \n",
              "mileage          6.800000e+01  1.730000e+02  1.350000e+02  1.620000e+02   \n",
              "engV             2.500000e+00  1.800000e+00  5.500000e+00  1.800000e+00   \n",
              "engType          1.000000e+00  1.000000e+00  3.000000e+00  0.000000e+00   \n",
              "year             2.010000e+03  2.011000e+03  2.008000e+03  2.012000e+03   \n",
              "make_squared     5.290000e+02  2.500000e+03  2.500000e+03  2.500000e+03   \n",
              "body_squared     0.000000e+00  9.000000e+00  4.000000e+00  2.500000e+01   \n",
              "mileage_squared  4.624000e+03  2.992900e+04  1.822500e+04  2.624400e+04   \n",
              "engV_squared     6.250000e+00  3.240000e+00  3.025000e+01  3.240000e+00   \n",
              "engType_squared  1.000000e+00  1.000000e+00  9.000000e+00  0.000000e+00   \n",
              "year_squared     4.040100e+06  4.044121e+06  4.032064e+06  4.048144e+06   \n",
              "ln_price         9.648595e+00  9.928180e+00  1.046310e+01  9.786954e+00   \n",
              "\n",
              "                            4  \n",
              "make             5.500000e+01  \n",
              "price            1.660000e+04  \n",
              "body             0.000000e+00  \n",
              "mileage          8.300000e+01  \n",
              "engV             2.000000e+00  \n",
              "engType          3.000000e+00  \n",
              "year             2.013000e+03  \n",
              "make_squared     3.025000e+03  \n",
              "body_squared     0.000000e+00  \n",
              "mileage_squared  6.889000e+03  \n",
              "engV_squared     4.000000e+00  \n",
              "engType_squared  9.000000e+00  \n",
              "year_squared     4.052169e+06  \n",
              "ln_price         9.717158e+00  "
            ]
          },
          "metadata": {
            "tags": []
          },
          "execution_count": 80
        }
      ]
    },
    {
      "metadata": {
        "id": "FG4DT-4MCgLO",
        "colab_type": "code",
        "colab": {
          "base_uri": "https://localhost:8080/",
          "height": 317
        },
        "outputId": "b3682bf9-683b-4a8f-96bf-f2c9109ef903"
      },
      "cell_type": "code",
      "source": [
        "df_drop.describe()"
      ],
      "execution_count": 81,
      "outputs": [
        {
          "output_type": "execute_result",
          "data": {
            "text/html": [
              "<div>\n",
              "<style scoped>\n",
              "    .dataframe tbody tr th:only-of-type {\n",
              "        vertical-align: middle;\n",
              "    }\n",
              "\n",
              "    .dataframe tbody tr th {\n",
              "        vertical-align: top;\n",
              "    }\n",
              "\n",
              "    .dataframe thead th {\n",
              "        text-align: right;\n",
              "    }\n",
              "</style>\n",
              "<table border=\"1\" class=\"dataframe\">\n",
              "  <thead>\n",
              "    <tr style=\"text-align: right;\">\n",
              "      <th></th>\n",
              "      <th>make</th>\n",
              "      <th>price</th>\n",
              "      <th>body</th>\n",
              "      <th>mileage</th>\n",
              "      <th>engV</th>\n",
              "      <th>engType</th>\n",
              "      <th>year</th>\n",
              "      <th>make_squared</th>\n",
              "      <th>body_squared</th>\n",
              "      <th>mileage_squared</th>\n",
              "      <th>engV_squared</th>\n",
              "      <th>engType_squared</th>\n",
              "      <th>year_squared</th>\n",
              "      <th>ln_price</th>\n",
              "    </tr>\n",
              "  </thead>\n",
              "  <tbody>\n",
              "    <tr>\n",
              "      <th>count</th>\n",
              "      <td>8495.000000</td>\n",
              "      <td>8495.000000</td>\n",
              "      <td>8495.000000</td>\n",
              "      <td>8495.000000</td>\n",
              "      <td>8495.000000</td>\n",
              "      <td>8495.000000</td>\n",
              "      <td>8495.000000</td>\n",
              "      <td>8495.000000</td>\n",
              "      <td>8495.000000</td>\n",
              "      <td>8495.000000</td>\n",
              "      <td>8495.000000</td>\n",
              "      <td>8495.000000</td>\n",
              "      <td>8.495000e+03</td>\n",
              "      <td>8495.000000</td>\n",
              "    </tr>\n",
              "    <tr>\n",
              "      <th>mean</th>\n",
              "      <td>46.535491</td>\n",
              "      <td>16185.453305</td>\n",
              "      <td>2.302295</td>\n",
              "      <td>141.744202</td>\n",
              "      <td>2.568337</td>\n",
              "      <td>1.650618</td>\n",
              "      <td>2006.500883</td>\n",
              "      <td>2767.018128</td>\n",
              "      <td>7.893349</td>\n",
              "      <td>29589.544085</td>\n",
              "      <td>35.615272</td>\n",
              "      <td>4.523367</td>\n",
              "      <td>4.026094e+06</td>\n",
              "      <td>9.187154</td>\n",
              "    </tr>\n",
              "    <tr>\n",
              "      <th>std</th>\n",
              "      <td>24.526251</td>\n",
              "      <td>24449.641512</td>\n",
              "      <td>1.610307</td>\n",
              "      <td>97.464062</td>\n",
              "      <td>5.387238</td>\n",
              "      <td>1.341282</td>\n",
              "      <td>6.925907</td>\n",
              "      <td>2100.158298</td>\n",
              "      <td>7.659776</td>\n",
              "      <td>45443.957337</td>\n",
              "      <td>519.813492</td>\n",
              "      <td>4.266812</td>\n",
              "      <td>2.772353e+04</td>\n",
              "      <td>0.961828</td>\n",
              "    </tr>\n",
              "    <tr>\n",
              "      <th>min</th>\n",
              "      <td>0.000000</td>\n",
              "      <td>259.350000</td>\n",
              "      <td>0.000000</td>\n",
              "      <td>0.000000</td>\n",
              "      <td>0.100000</td>\n",
              "      <td>0.000000</td>\n",
              "      <td>1959.000000</td>\n",
              "      <td>0.000000</td>\n",
              "      <td>0.000000</td>\n",
              "      <td>0.000000</td>\n",
              "      <td>0.010000</td>\n",
              "      <td>0.000000</td>\n",
              "      <td>3.837681e+06</td>\n",
              "      <td>5.558179</td>\n",
              "    </tr>\n",
              "    <tr>\n",
              "      <th>25%</th>\n",
              "      <td>23.000000</td>\n",
              "      <td>5490.000000</td>\n",
              "      <td>1.000000</td>\n",
              "      <td>74.000000</td>\n",
              "      <td>1.600000</td>\n",
              "      <td>0.000000</td>\n",
              "      <td>2004.000000</td>\n",
              "      <td>529.000000</td>\n",
              "      <td>1.000000</td>\n",
              "      <td>5476.000000</td>\n",
              "      <td>2.560000</td>\n",
              "      <td>0.000000</td>\n",
              "      <td>4.016016e+06</td>\n",
              "      <td>8.610684</td>\n",
              "    </tr>\n",
              "    <tr>\n",
              "      <th>50%</th>\n",
              "      <td>50.000000</td>\n",
              "      <td>9500.000000</td>\n",
              "      <td>3.000000</td>\n",
              "      <td>130.000000</td>\n",
              "      <td>2.000000</td>\n",
              "      <td>1.000000</td>\n",
              "      <td>2008.000000</td>\n",
              "      <td>2500.000000</td>\n",
              "      <td>9.000000</td>\n",
              "      <td>16900.000000</td>\n",
              "      <td>4.000000</td>\n",
              "      <td>1.000000</td>\n",
              "      <td>4.032064e+06</td>\n",
              "      <td>9.159047</td>\n",
              "    </tr>\n",
              "    <tr>\n",
              "      <th>75%</th>\n",
              "      <td>68.000000</td>\n",
              "      <td>17145.600000</td>\n",
              "      <td>3.000000</td>\n",
              "      <td>197.000000</td>\n",
              "      <td>2.500000</td>\n",
              "      <td>3.000000</td>\n",
              "      <td>2011.000000</td>\n",
              "      <td>4624.000000</td>\n",
              "      <td>9.000000</td>\n",
              "      <td>38809.000000</td>\n",
              "      <td>6.250000</td>\n",
              "      <td>9.000000</td>\n",
              "      <td>4.044121e+06</td>\n",
              "      <td>9.749493</td>\n",
              "    </tr>\n",
              "    <tr>\n",
              "      <th>max</th>\n",
              "      <td>82.000000</td>\n",
              "      <td>547800.000000</td>\n",
              "      <td>5.000000</td>\n",
              "      <td>999.000000</td>\n",
              "      <td>99.990000</td>\n",
              "      <td>3.000000</td>\n",
              "      <td>2016.000000</td>\n",
              "      <td>6724.000000</td>\n",
              "      <td>25.000000</td>\n",
              "      <td>998001.000000</td>\n",
              "      <td>9998.000100</td>\n",
              "      <td>9.000000</td>\n",
              "      <td>4.064256e+06</td>\n",
              "      <td>13.213666</td>\n",
              "    </tr>\n",
              "  </tbody>\n",
              "</table>\n",
              "</div>"
            ],
            "text/plain": [
              "              make          price         body      mileage         engV  \\\n",
              "count  8495.000000    8495.000000  8495.000000  8495.000000  8495.000000   \n",
              "mean     46.535491   16185.453305     2.302295   141.744202     2.568337   \n",
              "std      24.526251   24449.641512     1.610307    97.464062     5.387238   \n",
              "min       0.000000     259.350000     0.000000     0.000000     0.100000   \n",
              "25%      23.000000    5490.000000     1.000000    74.000000     1.600000   \n",
              "50%      50.000000    9500.000000     3.000000   130.000000     2.000000   \n",
              "75%      68.000000   17145.600000     3.000000   197.000000     2.500000   \n",
              "max      82.000000  547800.000000     5.000000   999.000000    99.990000   \n",
              "\n",
              "           engType         year  make_squared  body_squared  mileage_squared  \\\n",
              "count  8495.000000  8495.000000   8495.000000   8495.000000      8495.000000   \n",
              "mean      1.650618  2006.500883   2767.018128      7.893349     29589.544085   \n",
              "std       1.341282     6.925907   2100.158298      7.659776     45443.957337   \n",
              "min       0.000000  1959.000000      0.000000      0.000000         0.000000   \n",
              "25%       0.000000  2004.000000    529.000000      1.000000      5476.000000   \n",
              "50%       1.000000  2008.000000   2500.000000      9.000000     16900.000000   \n",
              "75%       3.000000  2011.000000   4624.000000      9.000000     38809.000000   \n",
              "max       3.000000  2016.000000   6724.000000     25.000000    998001.000000   \n",
              "\n",
              "       engV_squared  engType_squared  year_squared     ln_price  \n",
              "count   8495.000000      8495.000000  8.495000e+03  8495.000000  \n",
              "mean      35.615272         4.523367  4.026094e+06     9.187154  \n",
              "std      519.813492         4.266812  2.772353e+04     0.961828  \n",
              "min        0.010000         0.000000  3.837681e+06     5.558179  \n",
              "25%        2.560000         0.000000  4.016016e+06     8.610684  \n",
              "50%        4.000000         1.000000  4.032064e+06     9.159047  \n",
              "75%        6.250000         9.000000  4.044121e+06     9.749493  \n",
              "max     9998.000100         9.000000  4.064256e+06    13.213666  "
            ]
          },
          "metadata": {
            "tags": []
          },
          "execution_count": 81
        }
      ]
    },
    {
      "metadata": {
        "id": "s5cwZ2_5Bwye",
        "colab_type": "code",
        "colab": {
          "base_uri": "https://localhost:8080/",
          "height": 204
        },
        "outputId": "6d65d698-ea27-490a-8111-53c18094b3b2"
      },
      "cell_type": "code",
      "source": [
        "Xdrop = df_drop[['make', 'body', 'mileage', 'engV', \n",
        "'engType', 'year']] \n",
        "\n",
        "ydrop = df_drop['price']\n",
        "Xdrop.head()\n",
        "#ydrop.head()"
      ],
      "execution_count": 94,
      "outputs": [
        {
          "output_type": "execute_result",
          "data": {
            "text/html": [
              "<div>\n",
              "<style scoped>\n",
              "    .dataframe tbody tr th:only-of-type {\n",
              "        vertical-align: middle;\n",
              "    }\n",
              "\n",
              "    .dataframe tbody tr th {\n",
              "        vertical-align: top;\n",
              "    }\n",
              "\n",
              "    .dataframe thead th {\n",
              "        text-align: right;\n",
              "    }\n",
              "</style>\n",
              "<table border=\"1\" class=\"dataframe\">\n",
              "  <thead>\n",
              "    <tr style=\"text-align: right;\">\n",
              "      <th></th>\n",
              "      <th>make</th>\n",
              "      <th>body</th>\n",
              "      <th>mileage</th>\n",
              "      <th>engV</th>\n",
              "      <th>engType</th>\n",
              "      <th>year</th>\n",
              "    </tr>\n",
              "  </thead>\n",
              "  <tbody>\n",
              "    <tr>\n",
              "      <th>0</th>\n",
              "      <td>23</td>\n",
              "      <td>0</td>\n",
              "      <td>68</td>\n",
              "      <td>2.5</td>\n",
              "      <td>1</td>\n",
              "      <td>2010</td>\n",
              "    </tr>\n",
              "    <tr>\n",
              "      <th>1</th>\n",
              "      <td>50</td>\n",
              "      <td>3</td>\n",
              "      <td>173</td>\n",
              "      <td>1.8</td>\n",
              "      <td>1</td>\n",
              "      <td>2011</td>\n",
              "    </tr>\n",
              "    <tr>\n",
              "      <th>2</th>\n",
              "      <td>50</td>\n",
              "      <td>2</td>\n",
              "      <td>135</td>\n",
              "      <td>5.5</td>\n",
              "      <td>3</td>\n",
              "      <td>2008</td>\n",
              "    </tr>\n",
              "    <tr>\n",
              "      <th>3</th>\n",
              "      <td>50</td>\n",
              "      <td>5</td>\n",
              "      <td>162</td>\n",
              "      <td>1.8</td>\n",
              "      <td>0</td>\n",
              "      <td>2012</td>\n",
              "    </tr>\n",
              "    <tr>\n",
              "      <th>4</th>\n",
              "      <td>55</td>\n",
              "      <td>0</td>\n",
              "      <td>83</td>\n",
              "      <td>2.0</td>\n",
              "      <td>3</td>\n",
              "      <td>2013</td>\n",
              "    </tr>\n",
              "  </tbody>\n",
              "</table>\n",
              "</div>"
            ],
            "text/plain": [
              "   make  body  mileage  engV  engType  year\n",
              "0    23     0       68   2.5        1  2010\n",
              "1    50     3      173   1.8        1  2011\n",
              "2    50     2      135   5.5        3  2008\n",
              "3    50     5      162   1.8        0  2012\n",
              "4    55     0       83   2.0        3  2013"
            ]
          },
          "metadata": {
            "tags": []
          },
          "execution_count": 94
        }
      ]
    },
    {
      "metadata": {
        "id": "7ccS9JeDDJ7E",
        "colab_type": "code",
        "colab": {
          "base_uri": "https://localhost:8080/",
          "height": 561
        },
        "outputId": "a83331d5-65aa-42d9-ae07-7f192deb57fe"
      },
      "cell_type": "code",
      "source": [
        "# Use Statsmodels to run a regression\n",
        "\n",
        "# This is like using np.ones to add a vector of ones\n",
        "Xdrop = sm.add_constant(Xdrop)\n",
        "\n",
        "model = sm.OLS(ydrop, Xdrop).fit()\n",
        "predictions = model.predict(Xdrop) \n",
        "\n",
        "print_model = model.summary()\n",
        "print(print_model)"
      ],
      "execution_count": 95,
      "outputs": [
        {
          "output_type": "stream",
          "text": [
            "                            OLS Regression Results                            \n",
            "==============================================================================\n",
            "Dep. Variable:                  price   R-squared:                       0.225\n",
            "Model:                            OLS   Adj. R-squared:                  0.225\n",
            "Method:                 Least Squares   F-statistic:                     410.9\n",
            "Date:                Fri, 18 Jan 2019   Prob (F-statistic):               0.00\n",
            "Time:                        17:53:01   Log-Likelihood:                -96807.\n",
            "No. Observations:                8495   AIC:                         1.936e+05\n",
            "Df Residuals:                    8488   BIC:                         1.937e+05\n",
            "Df Model:                           6                                         \n",
            "Covariance Type:            nonrobust                                         \n",
            "==============================================================================\n",
            "                 coef    std err          t      P>|t|      [0.025      0.975]\n",
            "------------------------------------------------------------------------------\n",
            "const      -1.945e+06   8.01e+04    -24.269      0.000    -2.1e+06   -1.79e+06\n",
            "make         -79.9231      9.548     -8.370      0.000     -98.640     -61.206\n",
            "body       -2613.6512    152.985    -17.084      0.000   -2913.539   -2313.763\n",
            "mileage      -43.0974      2.965    -14.535      0.000     -48.910     -37.285\n",
            "engV         356.1248     43.456      8.195      0.000     270.939     441.310\n",
            "engType    -1484.5715    183.754     -8.079      0.000   -1844.774   -1124.369\n",
            "year         986.1062     39.790     24.783      0.000     908.108    1064.104\n",
            "==============================================================================\n",
            "Omnibus:                    12066.013   Durbin-Watson:                   1.933\n",
            "Prob(Omnibus):                  0.000   Jarque-Bera (JB):          5999174.607\n",
            "Skew:                           8.233   Prob(JB):                         0.00\n",
            "Kurtosis:                     132.142   Cond. No.                     6.90e+05\n",
            "==============================================================================\n",
            "\n",
            "Warnings:\n",
            "[1] Standard Errors assume that the covariance matrix of the errors is correctly specified.\n",
            "[2] The condition number is large, 6.9e+05. This might indicate that there are\n",
            "strong multicollinearity or other numerical problems.\n"
          ],
          "name": "stdout"
        }
      ]
    },
    {
      "metadata": {
        "id": "-C3e2INCDrzZ",
        "colab_type": "code",
        "colab": {
          "base_uri": "https://localhost:8080/",
          "height": 205
        },
        "outputId": "2f0b2b18-28c6-47de-81b1-54e5dbe1d6d0"
      },
      "cell_type": "code",
      "source": [
        "#df['ln_price'] = np.log(df['price']) -- Already did this step above\n",
        "\n",
        "sns.set(style=\"ticks\", color_codes=True)\n",
        "\n",
        "# Generate a list of column headers not including price\n",
        "x_columns = df_drop.columns.drop(['price','ln_price'])\n",
        "\n",
        "# Only plot the scatterplot of x variables with our y variable\n",
        "fig = sns.pairplot(data=df_drop, y_vars=['ln_price'], x_vars=x_columns)"
      ],
      "execution_count": 96,
      "outputs": [
        {
          "output_type": "display_data",
          "data": {
            "image/png": "[encoded data removed]",
            "text/plain": [
              "<Figure size 2160x180 with 12 Axes>"
            ]
          },
          "metadata": {
            "tags": []
          }
        }
      ]
    },
    {
      "metadata": {
        "id": "ECuuuV5SD2_k",
        "colab_type": "code",
        "colab": {
          "base_uri": "https://localhost:8080/",
          "height": 561
        },
        "outputId": "327d9bab-e68c-4ecf-a52f-b749a5e10db4"
      },
      "cell_type": "code",
      "source": [
        "Xdrop2 = df_drop[['make', 'body', 'mileage', 'engV', \n",
        "'engType', 'year']] \n",
        "\n",
        "ydrop2 = df_drop['ln_price']\n",
        "\n",
        "# Use Statsmodels to run a regression\n",
        "# This is like using np.ones to add a vector of ones\n",
        "Xdrop2 = sm.add_constant(Xdrop2)\n",
        "\n",
        "model = sm.OLS(ydrop2, Xdrop2).fit()\n",
        "predictions = model.predict(Xdrop) \n",
        "\n",
        "print_model = model.summary()\n",
        "print(print_model)"
      ],
      "execution_count": 98,
      "outputs": [
        {
          "output_type": "stream",
          "text": [
            "                            OLS Regression Results                            \n",
            "==============================================================================\n",
            "Dep. Variable:               ln_price   R-squared:                       0.549\n",
            "Model:                            OLS   Adj. R-squared:                  0.549\n",
            "Method:                 Least Squares   F-statistic:                     1724.\n",
            "Date:                Fri, 18 Jan 2019   Prob (F-statistic):               0.00\n",
            "Time:                        17:53:47   Log-Likelihood:                -8337.5\n",
            "No. Observations:                8495   AIC:                         1.669e+04\n",
            "Df Residuals:                    8488   BIC:                         1.674e+04\n",
            "Df Model:                           6                                         \n",
            "Covariance Type:            nonrobust                                         \n",
            "==============================================================================\n",
            "                 coef    std err          t      P>|t|      [0.025      0.975]\n",
            "------------------------------------------------------------------------------\n",
            "const       -169.1678      2.404    -70.356      0.000    -173.881    -164.454\n",
            "make          -0.0031      0.000    -10.934      0.000      -0.004      -0.003\n",
            "body          -0.1327      0.005    -28.918      0.000      -0.142      -0.124\n",
            "mileage       -0.0004    8.9e-05     -4.030      0.000      -0.001      -0.000\n",
            "engV           0.0127      0.001      9.743      0.000       0.010       0.015\n",
            "engType       -0.0625      0.006    -11.339      0.000      -0.073      -0.052\n",
            "year           0.0892      0.001     74.702      0.000       0.087       0.092\n",
            "==============================================================================\n",
            "Omnibus:                      313.913   Durbin-Watson:                   1.907\n",
            "Prob(Omnibus):                  0.000   Jarque-Bera (JB):              632.549\n",
            "Skew:                           0.263   Prob(JB):                    4.40e-138\n",
            "Kurtosis:                       4.229   Cond. No.                     6.90e+05\n",
            "==============================================================================\n",
            "\n",
            "Warnings:\n",
            "[1] Standard Errors assume that the covariance matrix of the errors is correctly specified.\n",
            "[2] The condition number is large, 6.9e+05. This might indicate that there are\n",
            "strong multicollinearity or other numerical problems.\n"
          ],
          "name": "stdout"
        }
      ]
    },
    {
      "metadata": {
        "id": "9MWAykTwEvGt",
        "colab_type": "code",
        "colab": {
          "base_uri": "https://localhost:8080/",
          "height": 561
        },
        "outputId": "9fe5ead0-469a-45ab-ecb2-03c8edd1a48d"
      },
      "cell_type": "code",
      "source": [
        "# Lets run our regression again using Robust Standard Errors\n",
        "# cov_type='HC3' parameter to .fit() function\n",
        "\n",
        "Xdrop2 = df_drop[['make', 'body', 'mileage', 'engV', \n",
        "'engType', 'year']] \n",
        "\n",
        "ydrop2 = df_drop['ln_price']\n",
        "\n",
        "# Use Statsmodels to run a regression\n",
        "# This is like using np.ones to add a vector of ones\n",
        "Xdrop2 = sm.add_constant(Xdrop2)\n",
        "\n",
        "model = sm.OLS(ydrop2, Xdrop2).fit(cov_type='HC3')\n",
        "predictions = model.predict(Xdrop) \n",
        "\n",
        "print_model = model.summary()\n",
        "print(print_model)"
      ],
      "execution_count": 99,
      "outputs": [
        {
          "output_type": "stream",
          "text": [
            "                            OLS Regression Results                            \n",
            "==============================================================================\n",
            "Dep. Variable:               ln_price   R-squared:                       0.549\n",
            "Model:                            OLS   Adj. R-squared:                  0.549\n",
            "Method:                 Least Squares   F-statistic:                     1174.\n",
            "Date:                Fri, 18 Jan 2019   Prob (F-statistic):               0.00\n",
            "Time:                        17:54:00   Log-Likelihood:                -8337.5\n",
            "No. Observations:                8495   AIC:                         1.669e+04\n",
            "Df Residuals:                    8488   BIC:                         1.674e+04\n",
            "Df Model:                           6                                         \n",
            "Covariance Type:                  HC3                                         \n",
            "==============================================================================\n",
            "                 coef    std err          z      P>|z|      [0.025      0.975]\n",
            "------------------------------------------------------------------------------\n",
            "const       -169.1678      3.650    -46.348      0.000    -176.322    -162.014\n",
            "make          -0.0031      0.000    -10.350      0.000      -0.004      -0.003\n",
            "body          -0.1327      0.004    -30.639      0.000      -0.141      -0.124\n",
            "mileage       -0.0004      0.000     -3.092      0.002      -0.001      -0.000\n",
            "engV           0.0127      0.003      4.290      0.000       0.007       0.019\n",
            "engType       -0.0625      0.005    -11.404      0.000      -0.073      -0.052\n",
            "year           0.0892      0.002     49.214      0.000       0.086       0.093\n",
            "==============================================================================\n",
            "Omnibus:                      313.913   Durbin-Watson:                   1.907\n",
            "Prob(Omnibus):                  0.000   Jarque-Bera (JB):              632.549\n",
            "Skew:                           0.263   Prob(JB):                    4.40e-138\n",
            "Kurtosis:                       4.229   Cond. No.                     6.90e+05\n",
            "==============================================================================\n",
            "\n",
            "Warnings:\n",
            "[1] Standard Errors are heteroscedasticity robust (HC3)\n",
            "[2] The condition number is large, 6.9e+05. This might indicate that there are\n",
            "strong multicollinearity or other numerical problems.\n"
          ],
          "name": "stdout"
        }
      ]
    },
    {
      "metadata": {
        "id": "loKma3wspwVs",
        "colab_type": "text"
      },
      "cell_type": "markdown",
      "source": [
        "## 4.2 Calculate the Variance Inflation Factor (VIF) of our X variables. Do we have multicollinearity problems?"
      ]
    },
    {
      "metadata": {
        "id": "EN1mPKWhp2Vn",
        "colab_type": "code",
        "colab": {
          "base_uri": "https://localhost:8080/",
          "height": 68
        },
        "outputId": "064f46fe-29b3-473b-ca3a-3f77ed49836c"
      },
      "cell_type": "code",
      "source": [
        "from statsmodels.stats.outliers_influence import variance_inflation_factor\n",
        "\n",
        "print(Xdrop2.columns, '\\n')\n",
        "\n",
        "vif = [variance_inflation_factor(Xdrop2.values, i) for i in range(Xdrop2.shape[1])]\n",
        "print(vif)"
      ],
      "execution_count": 104,
      "outputs": [
        {
          "output_type": "stream",
          "text": [
            "Index(['const', 'make', 'body', 'mileage', 'engV', 'engType', 'year'], dtype='object') \n",
            "\n",
            "[117714.01058340985, 1.0048803071479657, 1.1120372905881126, 1.530325341082054, 1.0042588401854933, 1.113059322623083, 1.3915669890199107]\n"
          ],
          "name": "stdout"
        }
      ]
    },
    {
      "metadata": {
        "id": "GushpHfMHG7n",
        "colab_type": "code",
        "colab": {
          "base_uri": "https://localhost:8080/",
          "height": 235
        },
        "outputId": "5493ab01-1bcd-4307-e005-e61a17e46bad"
      },
      "cell_type": "code",
      "source": [
        "no_const = Xdrop2.drop('const', axis=1)\n",
        "no_const.corr()"
      ],
      "execution_count": 101,
      "outputs": [
        {
          "output_type": "execute_result",
          "data": {
            "text/html": [
              "<div>\n",
              "<style scoped>\n",
              "    .dataframe tbody tr th:only-of-type {\n",
              "        vertical-align: middle;\n",
              "    }\n",
              "\n",
              "    .dataframe tbody tr th {\n",
              "        vertical-align: top;\n",
              "    }\n",
              "\n",
              "    .dataframe thead th {\n",
              "        text-align: right;\n",
              "    }\n",
              "</style>\n",
              "<table border=\"1\" class=\"dataframe\">\n",
              "  <thead>\n",
              "    <tr style=\"text-align: right;\">\n",
              "      <th></th>\n",
              "      <th>make</th>\n",
              "      <th>body</th>\n",
              "      <th>mileage</th>\n",
              "      <th>engV</th>\n",
              "      <th>engType</th>\n",
              "      <th>year</th>\n",
              "    </tr>\n",
              "  </thead>\n",
              "  <tbody>\n",
              "    <tr>\n",
              "      <th>make</th>\n",
              "      <td>1.000000</td>\n",
              "      <td>0.026127</td>\n",
              "      <td>-0.035097</td>\n",
              "      <td>-0.021246</td>\n",
              "      <td>-0.011880</td>\n",
              "      <td>-0.013833</td>\n",
              "    </tr>\n",
              "    <tr>\n",
              "      <th>body</th>\n",
              "      <td>0.026127</td>\n",
              "      <td>1.000000</td>\n",
              "      <td>0.287060</td>\n",
              "      <td>-0.025320</td>\n",
              "      <td>-0.184007</td>\n",
              "      <td>-0.154554</td>\n",
              "    </tr>\n",
              "    <tr>\n",
              "      <th>mileage</th>\n",
              "      <td>-0.035097</td>\n",
              "      <td>0.287060</td>\n",
              "      <td>1.000000</td>\n",
              "      <td>0.042081</td>\n",
              "      <td>-0.229644</td>\n",
              "      <td>-0.503135</td>\n",
              "    </tr>\n",
              "    <tr>\n",
              "      <th>engV</th>\n",
              "      <td>-0.021246</td>\n",
              "      <td>-0.025320</td>\n",
              "      <td>0.042081</td>\n",
              "      <td>1.000000</td>\n",
              "      <td>-0.004896</td>\n",
              "      <td>-0.041076</td>\n",
              "    </tr>\n",
              "    <tr>\n",
              "      <th>engType</th>\n",
              "      <td>-0.011880</td>\n",
              "      <td>-0.184007</td>\n",
              "      <td>-0.229644</td>\n",
              "      <td>-0.004896</td>\n",
              "      <td>1.000000</td>\n",
              "      <td>-0.040471</td>\n",
              "    </tr>\n",
              "    <tr>\n",
              "      <th>year</th>\n",
              "      <td>-0.013833</td>\n",
              "      <td>-0.154554</td>\n",
              "      <td>-0.503135</td>\n",
              "      <td>-0.041076</td>\n",
              "      <td>-0.040471</td>\n",
              "      <td>1.000000</td>\n",
              "    </tr>\n",
              "  </tbody>\n",
              "</table>\n",
              "</div>"
            ],
            "text/plain": [
              "             make      body   mileage      engV   engType      year\n",
              "make     1.000000  0.026127 -0.035097 -0.021246 -0.011880 -0.013833\n",
              "body     0.026127  1.000000  0.287060 -0.025320 -0.184007 -0.154554\n",
              "mileage -0.035097  0.287060  1.000000  0.042081 -0.229644 -0.503135\n",
              "engV    -0.021246 -0.025320  0.042081  1.000000 -0.004896 -0.041076\n",
              "engType -0.011880 -0.184007 -0.229644 -0.004896  1.000000 -0.040471\n",
              "year    -0.013833 -0.154554 -0.503135 -0.041076 -0.040471  1.000000"
            ]
          },
          "metadata": {
            "tags": []
          },
          "execution_count": 101
        }
      ]
    },
    {
      "metadata": {
        "id": "GoUGeIU6HZwl",
        "colab_type": "text"
      },
      "cell_type": "markdown",
      "source": [
        "Since I have low(<10) VIF scores for all of my X variables as well as low correlation between all X variables, I would surmise that I have no multicollinearity problems with this data."
      ]
    }
  ]
}