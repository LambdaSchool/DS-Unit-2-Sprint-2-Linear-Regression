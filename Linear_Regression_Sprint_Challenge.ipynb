{
  "nbformat": 4,
  "nbformat_minor": 0,
  "metadata": {
    "colab": {
      "name": "Linear Regression Sprint Challenge.ipynb",
      "version": "0.3.2",
      "provenance": [],
      "collapsed_sections": [],
      "include_colab_link": true
    },
    "kernelspec": {
      "name": "python3",
      "display_name": "Python 3"
    }
  },
  "cells": [
    {
      "cell_type": "markdown",
      "metadata": {
        "id": "view-in-github",
        "colab_type": "text"
      },
      "source": [
        "<a href=\"https://colab.research.google.com/github/extrajp2014/DS-Unit-2-Sprint-2-Linear-Regression/blob/master/Linear_Regression_Sprint_Challenge.ipynb\" target=\"_parent\"><img src=\"https://colab.research.google.com/assets/colab-badge.svg\" alt=\"Open In Colab\"/></a>"
      ]
    },
    {
      "metadata": {
        "id": "YbiJuv5d2jZ7",
        "colab_type": "code",
        "colab": {}
      },
      "cell_type": "code",
      "source": [
        "# Import everything you could ever need. ;)\n",
        "import pandas as pd\n",
        "import numpy as np\n",
        "import matplotlib.pyplot as plt\n",
        "import seaborn as sns\n",
        "import statsmodels.api as sm\n",
        "from statsmodels.stats.outliers_influence import variance_inflation_factor\n",
        "from sklearn.model_selection import train_test_split\n",
        "from sklearn.linear_model import LinearRegression\n",
        "from sklearn.metrics import mean_squared_error, r2_score"
      ],
      "execution_count": 0,
      "outputs": []
    },
    {
      "metadata": {
        "id": "FgaItuSL3zxO",
        "colab_type": "code",
        "outputId": "1a13ff87-9a99-49ef-b1b4-68ac5778d6ea",
        "colab": {
          "base_uri": "https://localhost:8080/",
          "height": 221
        }
      },
      "cell_type": "code",
      "source": [
        "# Ukraine Used Car Sale Price Prediction\n",
        "df = pd.read_csv('https://raw.githubusercontent.com/ryanleeallred/datasets/master/car_regression.csv')\n",
        "print(df.shape)\n",
        "df.head()"
      ],
      "execution_count": 105,
      "outputs": [
        {
          "output_type": "stream",
          "text": [
            "(8495, 9)\n"
          ],
          "name": "stdout"
        },
        {
          "output_type": "execute_result",
          "data": {
            "text/html": [
              "<div>\n",
              "<style scoped>\n",
              "    .dataframe tbody tr th:only-of-type {\n",
              "        vertical-align: middle;\n",
              "    }\n",
              "\n",
              "    .dataframe tbody tr th {\n",
              "        vertical-align: top;\n",
              "    }\n",
              "\n",
              "    .dataframe thead th {\n",
              "        text-align: right;\n",
              "    }\n",
              "</style>\n",
              "<table border=\"1\" class=\"dataframe\">\n",
              "  <thead>\n",
              "    <tr style=\"text-align: right;\">\n",
              "      <th></th>\n",
              "      <th>make</th>\n",
              "      <th>price</th>\n",
              "      <th>body</th>\n",
              "      <th>mileage</th>\n",
              "      <th>engV</th>\n",
              "      <th>engType</th>\n",
              "      <th>registration</th>\n",
              "      <th>year</th>\n",
              "      <th>drive</th>\n",
              "    </tr>\n",
              "  </thead>\n",
              "  <tbody>\n",
              "    <tr>\n",
              "      <th>0</th>\n",
              "      <td>23</td>\n",
              "      <td>15500.0</td>\n",
              "      <td>0</td>\n",
              "      <td>68</td>\n",
              "      <td>2.5</td>\n",
              "      <td>1</td>\n",
              "      <td>1</td>\n",
              "      <td>2010</td>\n",
              "      <td>1</td>\n",
              "    </tr>\n",
              "    <tr>\n",
              "      <th>1</th>\n",
              "      <td>50</td>\n",
              "      <td>20500.0</td>\n",
              "      <td>3</td>\n",
              "      <td>173</td>\n",
              "      <td>1.8</td>\n",
              "      <td>1</td>\n",
              "      <td>1</td>\n",
              "      <td>2011</td>\n",
              "      <td>2</td>\n",
              "    </tr>\n",
              "    <tr>\n",
              "      <th>2</th>\n",
              "      <td>50</td>\n",
              "      <td>35000.0</td>\n",
              "      <td>2</td>\n",
              "      <td>135</td>\n",
              "      <td>5.5</td>\n",
              "      <td>3</td>\n",
              "      <td>1</td>\n",
              "      <td>2008</td>\n",
              "      <td>2</td>\n",
              "    </tr>\n",
              "    <tr>\n",
              "      <th>3</th>\n",
              "      <td>50</td>\n",
              "      <td>17800.0</td>\n",
              "      <td>5</td>\n",
              "      <td>162</td>\n",
              "      <td>1.8</td>\n",
              "      <td>0</td>\n",
              "      <td>1</td>\n",
              "      <td>2012</td>\n",
              "      <td>0</td>\n",
              "    </tr>\n",
              "    <tr>\n",
              "      <th>4</th>\n",
              "      <td>55</td>\n",
              "      <td>16600.0</td>\n",
              "      <td>0</td>\n",
              "      <td>83</td>\n",
              "      <td>2.0</td>\n",
              "      <td>3</td>\n",
              "      <td>1</td>\n",
              "      <td>2013</td>\n",
              "      <td>1</td>\n",
              "    </tr>\n",
              "  </tbody>\n",
              "</table>\n",
              "</div>"
            ],
            "text/plain": [
              "   make    price  body  mileage  engV  engType  registration  year  drive\n",
              "0    23  15500.0     0       68   2.5        1             1  2010      1\n",
              "1    50  20500.0     3      173   1.8        1             1  2011      2\n",
              "2    50  35000.0     2      135   5.5        3             1  2008      2\n",
              "3    50  17800.0     5      162   1.8        0             1  2012      0\n",
              "4    55  16600.0     0       83   2.0        3             1  2013      1"
            ]
          },
          "metadata": {
            "tags": []
          },
          "execution_count": 105
        }
      ]
    },
    {
      "metadata": {
        "id": "1YyLAcyR8wDF",
        "colab_type": "code",
        "colab": {
          "base_uri": "https://localhost:8080/",
          "height": 1411
        },
        "outputId": "e6368a03-f510-4278-ddd0-2654669a0630"
      },
      "cell_type": "code",
      "source": [
        "# preview data\n",
        "print(\"df shape:\"), print(df.shape), print(\"\")\n",
        "print(\"df columns:\"), print(df.columns), print(\"\")\n",
        "print(\"df dtypes:\"), print(df.dtypes), print(\"\")\n",
        "print(\"df sample(7).T:\"), print(df.sample(7).T), print(\"\")\n",
        "print(\"df isnull().sum().sum():\"), print(df.isnull().sum().sum()), print(\"\")\n",
        "# stats data\n",
        "print(\"df corr().T:\"), print(df.corr().T), print(\"\")\n",
        "print(\"df describe(include='all').T:\"), print(df.describe(include='all').T), print(\"\")"
      ],
      "execution_count": 106,
      "outputs": [
        {
          "output_type": "stream",
          "text": [
            "df shape:\n",
            "(8495, 9)\n",
            "\n",
            "df columns:\n",
            "Index(['make', 'price', 'body', 'mileage', 'engV', 'engType', 'registration',\n",
            "       'year', 'drive'],\n",
            "      dtype='object')\n",
            "\n",
            "df dtypes:\n",
            "make              int64\n",
            "price           float64\n",
            "body              int64\n",
            "mileage           int64\n",
            "engV            float64\n",
            "engType           int64\n",
            "registration      int64\n",
            "year              int64\n",
            "drive             int64\n",
            "dtype: object\n",
            "\n",
            "df sample(7).T:\n",
            "                2487    6948    3422     998      2112    3849     3798\n",
            "make             4.0    76.0    17.0     67.0      5.0    50.0     33.0\n",
            "price         4700.0  2800.0  5400.0  11300.0  16700.0  7700.0  12650.0\n",
            "body             3.0     3.0     2.0      3.0      3.0     3.0      1.0\n",
            "mileage        400.0   167.0    15.0     70.0    150.0   230.0     36.0\n",
            "engV             2.6     1.5     1.5      1.8      2.0     2.0      1.4\n",
            "engType          3.0     3.0     1.0      3.0      0.0     3.0      0.0\n",
            "registration     1.0     1.0     1.0      1.0      1.0     1.0      1.0\n",
            "year          1996.0  2002.0  2014.0   2008.0   2008.0  2001.0   2014.0\n",
            "drive            0.0     0.0     0.0      0.0      2.0     2.0      0.0\n",
            "\n",
            "df isnull().sum().sum():\n",
            "0\n",
            "\n",
            "df corr().T:\n",
            "                  make     price      body   mileage      engV   engType  \\\n",
            "make          1.000000 -0.083205  0.026127 -0.035097 -0.021246 -0.011880   \n",
            "price        -0.083205  1.000000 -0.253726 -0.336940  0.066226 -0.021051   \n",
            "body          0.026127 -0.253726  1.000000  0.287060 -0.025320 -0.184007   \n",
            "mileage      -0.035097 -0.336940  0.287060  1.000000  0.042081 -0.229644   \n",
            "engV         -0.021246  0.066226 -0.025320  0.042081  1.000000 -0.004896   \n",
            "engType      -0.011880 -0.021051 -0.184007 -0.229644 -0.004896  1.000000   \n",
            "registration  0.104557  0.124062 -0.082643 -0.229354 -0.015274  0.152988   \n",
            "year         -0.013833  0.393562 -0.154554 -0.503135 -0.041076 -0.040471   \n",
            "drive        -0.196444  0.221952 -0.162235  0.067962  0.084756 -0.044859   \n",
            "\n",
            "              registration      year     drive  \n",
            "make              0.104557 -0.013833 -0.196444  \n",
            "price             0.124062  0.393562  0.221952  \n",
            "body             -0.082643 -0.154554 -0.162235  \n",
            "mileage          -0.229354 -0.503135  0.067962  \n",
            "engV             -0.015274 -0.041076  0.084756  \n",
            "engType           0.152988 -0.040471 -0.044859  \n",
            "registration      1.000000  0.185104 -0.055793  \n",
            "year              0.185104  1.000000 -0.169709  \n",
            "drive            -0.055793 -0.169709  1.000000  \n",
            "\n",
            "df describe(include='all').T:\n",
            "               count          mean           std      min     25%     50%  \\\n",
            "make          8495.0     46.535491     24.526251     0.00    23.0    50.0   \n",
            "price         8495.0  16185.453305  24449.641512   259.35  5490.0  9500.0   \n",
            "body          8495.0      2.302295      1.610307     0.00     1.0     3.0   \n",
            "mileage       8495.0    141.744202     97.464062     0.00    74.0   130.0   \n",
            "engV          8495.0      2.568337      5.387238     0.10     1.6     2.0   \n",
            "engType       8495.0      1.650618      1.341282     0.00     0.0     1.0   \n",
            "registration  8495.0      0.941613      0.234488     0.00     1.0     1.0   \n",
            "year          8495.0   2006.500883      6.925907  1959.00  2004.0  2008.0   \n",
            "drive         8495.0      0.575868      0.741235     0.00     0.0     0.0   \n",
            "\n",
            "                  75%        max  \n",
            "make             68.0      82.00  \n",
            "price         17145.6  547800.00  \n",
            "body              3.0       5.00  \n",
            "mileage         197.0     999.00  \n",
            "engV              2.5      99.99  \n",
            "engType           3.0       3.00  \n",
            "registration      1.0       1.00  \n",
            "year           2011.0    2016.00  \n",
            "drive             1.0       2.00  \n",
            "\n"
          ],
          "name": "stdout"
        },
        {
          "output_type": "execute_result",
          "data": {
            "text/plain": [
              "(None, None, None)"
            ]
          },
          "metadata": {
            "tags": []
          },
          "execution_count": 106
        }
      ]
    },
    {
      "metadata": {
        "id": "w9gkF-HNUFAV",
        "colab_type": "text"
      },
      "cell_type": "markdown",
      "source": [
        "# Predictive Modeling with Linear Regression"
      ]
    },
    {
      "metadata": {
        "id": "Vy1SWxcYTAC0",
        "colab_type": "text"
      },
      "cell_type": "markdown",
      "source": [
        "## 1.1 Divide the dataset features into an X matrix and y vector (\"price\" is what we want to predict)."
      ]
    },
    {
      "metadata": {
        "id": "dwMbM9tUUaOQ",
        "colab_type": "code",
        "colab": {
          "base_uri": "https://localhost:8080/",
          "height": 119
        },
        "outputId": "469e1c1d-2c9a-47d6-e88c-cb9e7955ed0f"
      },
      "cell_type": "code",
      "source": [
        "X = df.drop(columns=['price'], axis=1)\n",
        "y = df['price'].values\n",
        "print(X.head())"
      ],
      "execution_count": 107,
      "outputs": [
        {
          "output_type": "stream",
          "text": [
            "   make  body  mileage  engV  engType  registration  year  drive\n",
            "0    23     0       68   2.5        1             1  2010      1\n",
            "1    50     3      173   1.8        1             1  2011      2\n",
            "2    50     2      135   5.5        3             1  2008      2\n",
            "3    50     5      162   1.8        0             1  2012      0\n",
            "4    55     0       83   2.0        3             1  2013      1\n"
          ],
          "name": "stdout"
        }
      ]
    },
    {
      "metadata": {
        "id": "Uf_SQswNUPwM",
        "colab_type": "text"
      },
      "cell_type": "markdown",
      "source": [
        "## 1.2 Split the data into test and train datasets using train_test_split"
      ]
    },
    {
      "metadata": {
        "id": "iIiELKuKUOgR",
        "colab_type": "code",
        "colab": {}
      },
      "cell_type": "code",
      "source": [
        "# Split training sets\n",
        "X_train, X_test, Y_train, Y_test = train_test_split(X, y, test_size=.2, random_state=42)"
      ],
      "execution_count": 0,
      "outputs": []
    },
    {
      "metadata": {
        "id": "0AdXWiwoUstf",
        "colab_type": "text"
      },
      "cell_type": "markdown",
      "source": [
        "## 1.3 Use Scikit-Learn to fit a multiple regression model using your training data."
      ]
    },
    {
      "metadata": {
        "id": "Zw70rt71U1xf",
        "colab_type": "code",
        "colab": {}
      },
      "cell_type": "code",
      "source": [
        "# Linear Regression Train Model\n",
        "model = LinearRegression()\n",
        "model.fit(X_train, Y_train)\n",
        "\n",
        "y_test_predict = model.predict(X_test)\n",
        "MSE = mean_squared_error(Y_test, y_test_predict)\n",
        "RMSE = (np.sqrt(mean_squared_error(Y_test, y_test_predict)))\n",
        "R2 = r2_score(Y_test, y_test_predict)\n",
        "m_hat = model.coef_\n",
        "b_hat = model.intercept_"
      ],
      "execution_count": 0,
      "outputs": []
    },
    {
      "metadata": {
        "id": "82fH2rilU7j3",
        "colab_type": "text"
      },
      "cell_type": "markdown",
      "source": [
        "## 1.4 Report the Intercept and Coefficient Values for the fitted model"
      ]
    },
    {
      "metadata": {
        "id": "ue6hCHGqVE83",
        "colab_type": "code",
        "colab": {
          "base_uri": "https://localhost:8080/",
          "height": 85
        },
        "outputId": "976f21c2-7972-48ae-ba92-d9f246f9e9bb"
      },
      "cell_type": "code",
      "source": [
        "print(\"Features:\", X.columns.values)\n",
        "print(\"Coefficients:\", m_hat)\n",
        "print(\"Intercept:\", b_hat)"
      ],
      "execution_count": 110,
      "outputs": [
        {
          "output_type": "stream",
          "text": [
            "Features: ['make' 'body' 'mileage' 'engV' 'engType' 'registration' 'year' 'drive']\n",
            "Coefficients: [  -35.16726588 -1770.98509064   -40.26859658   273.03540784\n",
            " -1111.08031708  4535.06013378  1140.73124767  8292.04613874]\n",
            "Intercept: -2269355.0772314165\n"
          ],
          "name": "stdout"
        }
      ]
    },
    {
      "metadata": {
        "id": "T0CV0OnDVZbu",
        "colab_type": "text"
      },
      "cell_type": "markdown",
      "source": [
        "## 1.5 Use the test data to make predictions"
      ]
    },
    {
      "metadata": {
        "id": "vrR5b5c3VwE5",
        "colab_type": "code",
        "colab": {
          "base_uri": "https://localhost:8080/",
          "height": 187
        },
        "outputId": "1d39e8ce-0908-4145-becb-32cd9a5780c1"
      },
      "cell_type": "code",
      "source": [
        "print(\"------Verify data shape------\")\n",
        "print(\"X_train.shape:\", X_train.shape)\n",
        "print(\"X_test.shape:\", X_test.shape) \n",
        "print(\"Y_train.shape:\", Y_train.shape)\n",
        "print(\"Y_test.shape:\", Y_test.shape)\n",
        "print(\"y_test_predict.shape:\", y_test_predict.shape)\n",
        "\n",
        "print(\"\")\n",
        "print(\"------Use test data to make predictions------\")\n",
        "print(\"y_test_predict values:\", y_test_predict)"
      ],
      "execution_count": 111,
      "outputs": [
        {
          "output_type": "stream",
          "text": [
            "------Verify data shape------\n",
            "X_train.shape: (6796, 8)\n",
            "X_test.shape: (1699, 8)\n",
            "Y_train.shape: (6796,)\n",
            "Y_test.shape: (1699,)\n",
            "y_test_predict.shape: (1699,)\n",
            "\n",
            "------Use test data to make predictions------\n",
            "y_test_predict values: [19200.26639279  5355.00284406 26205.12415048 ... 29728.80723151\n",
            "  8920.98307381 14092.87146182]\n"
          ],
          "name": "stdout"
        }
      ]
    },
    {
      "metadata": {
        "id": "ZwQb3gE7VycT",
        "colab_type": "text"
      },
      "cell_type": "markdown",
      "source": [
        "## 1.6 Calculate and report both the Root-Mean-Square error and $R^2$ for the model. "
      ]
    },
    {
      "metadata": {
        "id": "Ym2kjxWhU6b2",
        "colab_type": "code",
        "colab": {
          "base_uri": "https://localhost:8080/",
          "height": 51
        },
        "outputId": "ec424952-e177-4628-ed15-e05a4a8d2e6a"
      },
      "cell_type": "code",
      "source": [
        "print('RMSE:',RMSE)\n",
        "print('R^2:',R2)"
      ],
      "execution_count": 112,
      "outputs": [
        {
          "output_type": "stream",
          "text": [
            "RMSE: 21394.43524600266\n",
            "R^2: 0.29213322373743256\n"
          ],
          "name": "stdout"
        }
      ]
    },
    {
      "metadata": {
        "id": "kIXhGHIgXHyJ",
        "colab_type": "text"
      },
      "cell_type": "markdown",
      "source": [
        "## 1.7 How should we interpret the coefficient corresponding to the \"year\" feature?"
      ]
    },
    {
      "metadata": {
        "id": "8jv2n0wAXgHU",
        "colab_type": "text"
      },
      "cell_type": "markdown",
      "source": [
        "Coefficient corresponding to the year is 1140.73124767.  If the year increase by 1 integer, the price also increase by $1140.73124767."
      ]
    },
    {
      "metadata": {
        "id": "ckQ5GsOtYsjn",
        "colab_type": "text"
      },
      "cell_type": "markdown",
      "source": [
        "## 1.8 How should we interpret the Root-Mean-Square Error?"
      ]
    },
    {
      "metadata": {
        "id": "F982IeSgYyp6",
        "colab_type": "text"
      },
      "cell_type": "markdown",
      "source": [
        "RMSE (root mean square error) is 21394.43524600266. Our predicted values have an average of $21394 difference from the actual values."
      ]
    },
    {
      "metadata": {
        "id": "T3sZrru_YzFF",
        "colab_type": "text"
      },
      "cell_type": "markdown",
      "source": [
        "## 1.9 How should we interpret the $R^2$?"
      ]
    },
    {
      "metadata": {
        "id": "5pN2Oet_Y5jR",
        "colab_type": "text"
      },
      "cell_type": "markdown",
      "source": [
        "R^2 is 0.29213322373743256.  It is a statistical measure of how close the data are fitted to our regression line.  Our prediction model can explain 29.21% of the variability of the response data around its mean."
      ]
    },
    {
      "metadata": {
        "id": "Z_VNy7e3Y5sT",
        "colab_type": "text"
      },
      "cell_type": "markdown",
      "source": [
        "# Log-Linear and Polynomial Regression"
      ]
    },
    {
      "metadata": {
        "id": "G2T4FSqRZOJA",
        "colab_type": "text"
      },
      "cell_type": "markdown",
      "source": [
        "## 2.1 Engineer a new variable by taking the log of the price varible."
      ]
    },
    {
      "metadata": {
        "id": "7EChAFNxZX24",
        "colab_type": "code",
        "colab": {
          "base_uri": "https://localhost:8080/",
          "height": 204
        },
        "outputId": "b5e711fa-4531-4ab9-b9e9-c4ecf43ae5af"
      },
      "cell_type": "code",
      "source": [
        "df['ln_price'] = np.log(df['price'])\n",
        "df.head(5)"
      ],
      "execution_count": 113,
      "outputs": [
        {
          "output_type": "execute_result",
          "data": {
            "text/html": [
              "<div>\n",
              "<style scoped>\n",
              "    .dataframe tbody tr th:only-of-type {\n",
              "        vertical-align: middle;\n",
              "    }\n",
              "\n",
              "    .dataframe tbody tr th {\n",
              "        vertical-align: top;\n",
              "    }\n",
              "\n",
              "    .dataframe thead th {\n",
              "        text-align: right;\n",
              "    }\n",
              "</style>\n",
              "<table border=\"1\" class=\"dataframe\">\n",
              "  <thead>\n",
              "    <tr style=\"text-align: right;\">\n",
              "      <th></th>\n",
              "      <th>make</th>\n",
              "      <th>price</th>\n",
              "      <th>body</th>\n",
              "      <th>mileage</th>\n",
              "      <th>engV</th>\n",
              "      <th>engType</th>\n",
              "      <th>registration</th>\n",
              "      <th>year</th>\n",
              "      <th>drive</th>\n",
              "      <th>ln_price</th>\n",
              "    </tr>\n",
              "  </thead>\n",
              "  <tbody>\n",
              "    <tr>\n",
              "      <th>0</th>\n",
              "      <td>23</td>\n",
              "      <td>15500.0</td>\n",
              "      <td>0</td>\n",
              "      <td>68</td>\n",
              "      <td>2.5</td>\n",
              "      <td>1</td>\n",
              "      <td>1</td>\n",
              "      <td>2010</td>\n",
              "      <td>1</td>\n",
              "      <td>9.648595</td>\n",
              "    </tr>\n",
              "    <tr>\n",
              "      <th>1</th>\n",
              "      <td>50</td>\n",
              "      <td>20500.0</td>\n",
              "      <td>3</td>\n",
              "      <td>173</td>\n",
              "      <td>1.8</td>\n",
              "      <td>1</td>\n",
              "      <td>1</td>\n",
              "      <td>2011</td>\n",
              "      <td>2</td>\n",
              "      <td>9.928180</td>\n",
              "    </tr>\n",
              "    <tr>\n",
              "      <th>2</th>\n",
              "      <td>50</td>\n",
              "      <td>35000.0</td>\n",
              "      <td>2</td>\n",
              "      <td>135</td>\n",
              "      <td>5.5</td>\n",
              "      <td>3</td>\n",
              "      <td>1</td>\n",
              "      <td>2008</td>\n",
              "      <td>2</td>\n",
              "      <td>10.463103</td>\n",
              "    </tr>\n",
              "    <tr>\n",
              "      <th>3</th>\n",
              "      <td>50</td>\n",
              "      <td>17800.0</td>\n",
              "      <td>5</td>\n",
              "      <td>162</td>\n",
              "      <td>1.8</td>\n",
              "      <td>0</td>\n",
              "      <td>1</td>\n",
              "      <td>2012</td>\n",
              "      <td>0</td>\n",
              "      <td>9.786954</td>\n",
              "    </tr>\n",
              "    <tr>\n",
              "      <th>4</th>\n",
              "      <td>55</td>\n",
              "      <td>16600.0</td>\n",
              "      <td>0</td>\n",
              "      <td>83</td>\n",
              "      <td>2.0</td>\n",
              "      <td>3</td>\n",
              "      <td>1</td>\n",
              "      <td>2013</td>\n",
              "      <td>1</td>\n",
              "      <td>9.717158</td>\n",
              "    </tr>\n",
              "  </tbody>\n",
              "</table>\n",
              "</div>"
            ],
            "text/plain": [
              "   make    price  body  mileage  engV  engType  registration  year  drive  \\\n",
              "0    23  15500.0     0       68   2.5        1             1  2010      1   \n",
              "1    50  20500.0     3      173   1.8        1             1  2011      2   \n",
              "2    50  35000.0     2      135   5.5        3             1  2008      2   \n",
              "3    50  17800.0     5      162   1.8        0             1  2012      0   \n",
              "4    55  16600.0     0       83   2.0        3             1  2013      1   \n",
              "\n",
              "    ln_price  \n",
              "0   9.648595  \n",
              "1   9.928180  \n",
              "2  10.463103  \n",
              "3   9.786954  \n",
              "4   9.717158  "
            ]
          },
          "metadata": {
            "tags": []
          },
          "execution_count": 113
        }
      ]
    },
    {
      "metadata": {
        "id": "R117rxnOZw6q",
        "colab_type": "text"
      },
      "cell_type": "markdown",
      "source": [
        "## 2.2 Use scatterplots or seaborn's pairplot function to do the \"eyeball test\" for non-linearly distributed features."
      ]
    },
    {
      "metadata": {
        "id": "8l56Qk7VaBrU",
        "colab_type": "code",
        "colab": {
          "base_uri": "https://localhost:8080/",
          "height": 222
        },
        "outputId": "62aebb1f-ac36-476a-ed46-9b805579a5a1"
      },
      "cell_type": "code",
      "source": [
        "# Preview graph 1\n",
        "sns.set(style=\"ticks\", color_codes=True)\n",
        "x_columns = df.columns.drop('price')\n",
        "sns.pairplot(data=df, y_vars=['price'], x_vars=x_columns)"
      ],
      "execution_count": 114,
      "outputs": [
        {
          "output_type": "execute_result",
          "data": {
            "text/plain": [
              "<seaborn.axisgrid.PairGrid at 0x7ff55551aeb8>"
            ]
          },
          "metadata": {
            "tags": []
          },
          "execution_count": 114
        },
        {
          "output_type": "display_data",
          "data": {
            "image/png": "[encoded data removed]",
            "text/plain": [
              "<Figure size 1620x180 with 9 Axes>"
            ]
          },
          "metadata": {
            "tags": []
          }
        }
      ]
    },
    {
      "metadata": {
        "id": "0p9ZgmL6B-K0",
        "colab_type": "code",
        "colab": {
          "base_uri": "https://localhost:8080/",
          "height": 222
        },
        "outputId": "c2146440-c2d3-4c46-e50a-f06bbb3611cf"
      },
      "cell_type": "code",
      "source": [
        "# Preview graph 2\n",
        "sns.set(style=\"ticks\", color_codes=True)\n",
        "x_columns = df.columns.drop('ln_price')\n",
        "sns.pairplot(data=df, y_vars=['ln_price'], x_vars=x_columns)"
      ],
      "execution_count": 115,
      "outputs": [
        {
          "output_type": "execute_result",
          "data": {
            "text/plain": [
              "<seaborn.axisgrid.PairGrid at 0x7ff555031748>"
            ]
          },
          "metadata": {
            "tags": []
          },
          "execution_count": 115
        },
        {
          "output_type": "display_data",
          "data": {
            "image/png": "[encoded data removed]",
            "text/plain": [
              "<Figure size 1620x180 with 9 Axes>"
            ]
          },
          "metadata": {
            "tags": []
          }
        }
      ]
    },
    {
      "metadata": {
        "id": "QTf4gCaDaiCw",
        "colab_type": "text"
      },
      "cell_type": "markdown",
      "source": [
        "## 2.3 If appropriate, create any polynomial features. "
      ]
    },
    {
      "metadata": {
        "id": "ipsCcH83ZMe8",
        "colab_type": "code",
        "colab": {
          "base_uri": "https://localhost:8080/",
          "height": 204
        },
        "outputId": "261933d9-f91b-4fb7-8382-58bba1ab51dc"
      },
      "cell_type": "code",
      "source": [
        "# mileage and engV graphs show they have potential nonlinear relationship with price\n",
        "df['square_mileage'] = df['mileage']**2\n",
        "df['square_engV'] = df['engV']**2\n",
        "df.head(5)"
      ],
      "execution_count": 116,
      "outputs": [
        {
          "output_type": "execute_result",
          "data": {
            "text/html": [
              "<div>\n",
              "<style scoped>\n",
              "    .dataframe tbody tr th:only-of-type {\n",
              "        vertical-align: middle;\n",
              "    }\n",
              "\n",
              "    .dataframe tbody tr th {\n",
              "        vertical-align: top;\n",
              "    }\n",
              "\n",
              "    .dataframe thead th {\n",
              "        text-align: right;\n",
              "    }\n",
              "</style>\n",
              "<table border=\"1\" class=\"dataframe\">\n",
              "  <thead>\n",
              "    <tr style=\"text-align: right;\">\n",
              "      <th></th>\n",
              "      <th>make</th>\n",
              "      <th>price</th>\n",
              "      <th>body</th>\n",
              "      <th>mileage</th>\n",
              "      <th>engV</th>\n",
              "      <th>engType</th>\n",
              "      <th>registration</th>\n",
              "      <th>year</th>\n",
              "      <th>drive</th>\n",
              "      <th>ln_price</th>\n",
              "      <th>square_mileage</th>\n",
              "      <th>square_engV</th>\n",
              "    </tr>\n",
              "  </thead>\n",
              "  <tbody>\n",
              "    <tr>\n",
              "      <th>0</th>\n",
              "      <td>23</td>\n",
              "      <td>15500.0</td>\n",
              "      <td>0</td>\n",
              "      <td>68</td>\n",
              "      <td>2.5</td>\n",
              "      <td>1</td>\n",
              "      <td>1</td>\n",
              "      <td>2010</td>\n",
              "      <td>1</td>\n",
              "      <td>9.648595</td>\n",
              "      <td>4624</td>\n",
              "      <td>6.25</td>\n",
              "    </tr>\n",
              "    <tr>\n",
              "      <th>1</th>\n",
              "      <td>50</td>\n",
              "      <td>20500.0</td>\n",
              "      <td>3</td>\n",
              "      <td>173</td>\n",
              "      <td>1.8</td>\n",
              "      <td>1</td>\n",
              "      <td>1</td>\n",
              "      <td>2011</td>\n",
              "      <td>2</td>\n",
              "      <td>9.928180</td>\n",
              "      <td>29929</td>\n",
              "      <td>3.24</td>\n",
              "    </tr>\n",
              "    <tr>\n",
              "      <th>2</th>\n",
              "      <td>50</td>\n",
              "      <td>35000.0</td>\n",
              "      <td>2</td>\n",
              "      <td>135</td>\n",
              "      <td>5.5</td>\n",
              "      <td>3</td>\n",
              "      <td>1</td>\n",
              "      <td>2008</td>\n",
              "      <td>2</td>\n",
              "      <td>10.463103</td>\n",
              "      <td>18225</td>\n",
              "      <td>30.25</td>\n",
              "    </tr>\n",
              "    <tr>\n",
              "      <th>3</th>\n",
              "      <td>50</td>\n",
              "      <td>17800.0</td>\n",
              "      <td>5</td>\n",
              "      <td>162</td>\n",
              "      <td>1.8</td>\n",
              "      <td>0</td>\n",
              "      <td>1</td>\n",
              "      <td>2012</td>\n",
              "      <td>0</td>\n",
              "      <td>9.786954</td>\n",
              "      <td>26244</td>\n",
              "      <td>3.24</td>\n",
              "    </tr>\n",
              "    <tr>\n",
              "      <th>4</th>\n",
              "      <td>55</td>\n",
              "      <td>16600.0</td>\n",
              "      <td>0</td>\n",
              "      <td>83</td>\n",
              "      <td>2.0</td>\n",
              "      <td>3</td>\n",
              "      <td>1</td>\n",
              "      <td>2013</td>\n",
              "      <td>1</td>\n",
              "      <td>9.717158</td>\n",
              "      <td>6889</td>\n",
              "      <td>4.00</td>\n",
              "    </tr>\n",
              "  </tbody>\n",
              "</table>\n",
              "</div>"
            ],
            "text/plain": [
              "   make    price  body  mileage  engV  engType  registration  year  drive  \\\n",
              "0    23  15500.0     0       68   2.5        1             1  2010      1   \n",
              "1    50  20500.0     3      173   1.8        1             1  2011      2   \n",
              "2    50  35000.0     2      135   5.5        3             1  2008      2   \n",
              "3    50  17800.0     5      162   1.8        0             1  2012      0   \n",
              "4    55  16600.0     0       83   2.0        3             1  2013      1   \n",
              "\n",
              "    ln_price  square_mileage  square_engV  \n",
              "0   9.648595            4624         6.25  \n",
              "1   9.928180           29929         3.24  \n",
              "2  10.463103           18225        30.25  \n",
              "3   9.786954           26244         3.24  \n",
              "4   9.717158            6889         4.00  "
            ]
          },
          "metadata": {
            "tags": []
          },
          "execution_count": 116
        }
      ]
    },
    {
      "metadata": {
        "id": "NJgfD-JLayRA",
        "colab_type": "text"
      },
      "cell_type": "markdown",
      "source": [
        "## 2.4 Use the new log-transformed y variable and your x variables (including any new polynomial features) to fit a new linear regression model. Then report the: intercept, coefficients, RMSE, and $R^2$."
      ]
    },
    {
      "metadata": {
        "id": "uXmtVpnPcFij",
        "colab_type": "code",
        "colab": {
          "base_uri": "https://localhost:8080/",
          "height": 374
        },
        "outputId": "80caa42b-d469-47dc-83eb-08ed40b55372"
      },
      "cell_type": "code",
      "source": [
        "def linear_regression(X,y,test_size=.2, random_state=42):\n",
        "  # Set values for Linear Regression\n",
        "  X_train, X_test, Y_train, Y_test = train_test_split(X, y, test_size=test_size, random_state=random_state)\n",
        "  # Linear Regression Train Model\n",
        "  model = LinearRegression()\n",
        "  model.fit(X_train, Y_train)\n",
        "  y_test_predict = model.predict(X_test)\n",
        "  MSE = mean_squared_error(Y_test, y_test_predict)\n",
        "  RMSE = (np.sqrt(mean_squared_error(Y_test, y_test_predict)))\n",
        "  R2 = r2_score(Y_test, y_test_predict)\n",
        "  m_hat = model.coef_[0]\n",
        "  b_hat = model.intercept_\n",
        "  return m_hat, b_hat, RMSE, R2\n",
        "\n",
        "X = df.drop(columns=['ln_price','price'], axis=1)\n",
        "y = df.loc[:, ['ln_price']].values\n",
        "m_hat, b_hat, RMSE, R2 = linear_regression(X,y)\n",
        "\n",
        "print(\"Features:\", X.columns.values)\n",
        "print(\"Coefficients:\", m_hat)\n",
        "print(\"Intercept:\", b_hat)\n",
        "print('RMSE:',RMSE)\n",
        "print('R^2:',R2)\n",
        "\n",
        "print(\"\")\n",
        "print(\"------------\")\n",
        "for i,j in enumerate(m_hat):\n",
        "  print(X.columns.values[i],\"coefficients:\",m_hat[i])\n",
        "print(\"------------\")"
      ],
      "execution_count": 117,
      "outputs": [
        {
          "output_type": "stream",
          "text": [
            "Features: ['make' 'body' 'mileage' 'engV' 'engType' 'registration' 'year' 'drive'\n",
            " 'square_mileage' 'square_engV']\n",
            "Coefficients: [-1.09835536e-03 -6.62990697e-02 -1.19465363e-03  2.54727623e-01\n",
            " -5.84376382e-02  7.38742756e-01  8.96707324e-02  2.67590057e-01\n",
            "  2.07652613e-06 -2.55409457e-03]\n",
            "Intercept: [-171.74460672]\n",
            "RMSE: 0.5408474049396205\n",
            "R^2: 0.6947758001447801\n",
            "\n",
            "------------\n",
            "make coefficients: -0.001098355355495426\n",
            "body coefficients: -0.06629906965414495\n",
            "mileage coefficients: -0.001194653628329601\n",
            "engV coefficients: 0.25472762255772696\n",
            "engType coefficients: -0.05843763815800732\n",
            "registration coefficients: 0.7387427555347323\n",
            "year coefficients: 0.08967073238031091\n",
            "drive coefficients: 0.26759005698532773\n",
            "square_mileage coefficients: 2.0765261262017942e-06\n",
            "square_engV coefficients: -0.002554094574345194\n",
            "------------\n"
          ],
          "name": "stdout"
        }
      ]
    },
    {
      "metadata": {
        "id": "hf4_8FXrpHFY",
        "colab_type": "text"
      },
      "cell_type": "markdown",
      "source": [
        "## 2.5 How might we interpret the coefficient on \"year\" in this new regression model?"
      ]
    },
    {
      "metadata": {
        "id": "JVGKvt5WpTf2",
        "colab_type": "text"
      },
      "cell_type": "markdown",
      "source": [
        "Coefficient corresponding to the year is 8.96707324e-02.  If the year increase by 1 integer, the price also increase by 8.967%"
      ]
    },
    {
      "metadata": {
        "id": "JUQwzfDRfrQi",
        "colab_type": "text"
      },
      "cell_type": "markdown",
      "source": [
        "# Gradient Descent"
      ]
    },
    {
      "metadata": {
        "id": "M_JLfReVeoYT",
        "colab_type": "text"
      },
      "cell_type": "markdown",
      "source": [
        "## 3.1 What does Gradient Descent seek to minimize?"
      ]
    },
    {
      "metadata": {
        "id": "-ezM_NS2fIJe",
        "colab_type": "text"
      },
      "cell_type": "markdown",
      "source": [
        "Gradient descent seek to minimize the cost function, which quantify the mean square difference  between the predicted value and the actual value.  It use derivative of the cost function to find the minimum of such function and update the parameters of our predict model to achieve accuracy. In linear regression, we use it  as an optimization algorithm to achieve the best fit line for our data."
      ]
    },
    {
      "metadata": {
        "id": "unqhNRYnfIL4",
        "colab_type": "text"
      },
      "cell_type": "markdown",
      "source": [
        "## 3.2 What is the \"Learning Rate\" and what is its function?"
      ]
    },
    {
      "metadata": {
        "id": "7jhKwIOVfT6B",
        "colab_type": "text"
      },
      "cell_type": "markdown",
      "source": [
        "The learning rate , also known as alpha, determine how fast we go through the iteration of gradient descent. If the learning rate is too small, it will take greater amount of iterations to reach the minimum of the cost function.  If it is too high, we might not converge and can lead to divergent behaviors."
      ]
    },
    {
      "metadata": {
        "id": "Gs20FOntprd_",
        "colab_type": "text"
      },
      "cell_type": "markdown",
      "source": [
        "# Model Diagnostics"
      ]
    },
    {
      "metadata": {
        "id": "VJnxkobcpulV",
        "colab_type": "text"
      },
      "cell_type": "markdown",
      "source": [
        "## 4.1 Use statsmodels to run a log-linear or log-polynomial linear regression with robust standard errors."
      ]
    },
    {
      "metadata": {
        "id": "QqCVeYBTpvfQ",
        "colab_type": "code",
        "colab": {
          "base_uri": "https://localhost:8080/",
          "height": 629
        },
        "outputId": "a27dd6cf-570a-4347-9ff7-5e1778cd9655"
      },
      "cell_type": "code",
      "source": [
        "# data source\n",
        "X = df.drop(columns=['ln_price','price'], axis=1)\n",
        "y = df.loc[:, ['ln_price']].values\n",
        "\n",
        "# Robust Standard Errors\n",
        "X = sm.add_constant(X) # Same as using np.ones to add a vector of ones\n",
        "model = sm.OLS(y, X).fit(cov_type='HC3')\n",
        "predictions = model.predict(X) \n",
        "print_model = model.summary()\n",
        "print(print_model)"
      ],
      "execution_count": 118,
      "outputs": [
        {
          "output_type": "stream",
          "text": [
            "                            OLS Regression Results                            \n",
            "==============================================================================\n",
            "Dep. Variable:                      y   R-squared:                       0.729\n",
            "Model:                            OLS   Adj. R-squared:                  0.728\n",
            "Method:                 Least Squares   F-statistic:                     1700.\n",
            "Date:                Fri, 22 Feb 2019   Prob (F-statistic):               0.00\n",
            "Time:                        17:56:21   Log-Likelihood:                -6184.9\n",
            "No. Observations:                8495   AIC:                         1.239e+04\n",
            "Df Residuals:                    8484   BIC:                         1.247e+04\n",
            "Df Model:                          10                                         \n",
            "Covariance Type:                  HC3                                         \n",
            "==================================================================================\n",
            "                     coef    std err          z      P>|z|      [0.025      0.975]\n",
            "----------------------------------------------------------------------------------\n",
            "const           -171.2212      3.379    -50.669      0.000    -177.844    -164.598\n",
            "make              -0.0011      0.000     -4.383      0.000      -0.002      -0.001\n",
            "body              -0.0714      0.005    -14.966      0.000      -0.081      -0.062\n",
            "mileage           -0.0013      0.000     -5.784      0.000      -0.002      -0.001\n",
            "engV               0.2322      0.025      9.166      0.000       0.183       0.282\n",
            "engType           -0.0611      0.004    -13.868      0.000      -0.070      -0.052\n",
            "registration       0.7289      0.024     30.433      0.000       0.682       0.776\n",
            "year               0.0895      0.002     53.029      0.000       0.086       0.093\n",
            "drive              0.2748      0.015     17.732      0.000       0.244       0.305\n",
            "square_mileage  2.293e-06   5.31e-07      4.318      0.000    1.25e-06    3.33e-06\n",
            "square_engV       -0.0024      0.000     -9.731      0.000      -0.003      -0.002\n",
            "==============================================================================\n",
            "Omnibus:                     2220.623   Durbin-Watson:                   1.939\n",
            "Prob(Omnibus):                  0.000   Jarque-Bera (JB):            20728.513\n",
            "Skew:                          -0.984   Prob(JB):                         0.00\n",
            "Kurtosis:                      10.395   Cond. No.                     1.93e+07\n",
            "==============================================================================\n",
            "\n",
            "Warnings:\n",
            "[1] Standard Errors are heteroscedasticity robust (HC3)\n",
            "[2] The condition number is large, 1.93e+07. This might indicate that there are\n",
            "strong multicollinearity or other numerical problems.\n"
          ],
          "name": "stdout"
        }
      ]
    },
    {
      "metadata": {
        "id": "loKma3wspwVs",
        "colab_type": "text"
      },
      "cell_type": "markdown",
      "source": [
        "## 4.2 Calculate the Variance Inflation Factor (VIF) of our X variables. Do we have multicollinearity problems?"
      ]
    },
    {
      "metadata": {
        "id": "EN1mPKWhp2Vn",
        "colab_type": "code",
        "colab": {
          "base_uri": "https://localhost:8080/",
          "height": 207
        },
        "outputId": "dc4399f5-3bff-4d95-9d74-1166ae730b88"
      },
      "cell_type": "code",
      "source": [
        "from statsmodels.stats.outliers_influence import variance_inflation_factor\n",
        "vif = [variance_inflation_factor(X.values, i ) for i in range(X.shape[1])]\n",
        "print(X.columns.values)\n",
        "print(vif)\n",
        "\n",
        "print(\"\")\n",
        "print(\"------------\")\n",
        "for i,j in enumerate(vif):\n",
        "  if vif[i] > 10: print(X.columns[i],\"VIF:\",vif[i])\n",
        "print(\"------------\")\n",
        "print(\"eng and square_engV have VIF > 10, which is a signal for multicollienearity problems\")"
      ],
      "execution_count": 119,
      "outputs": [
        {
          "output_type": "stream",
          "text": [
            "['const' 'make' 'body' 'mileage' 'engV' 'engType' 'registration' 'year'\n",
            " 'drive' 'square_mileage' 'square_engV']\n",
            "[126750.78969847022, 1.0613174325230188, 1.188380548045528, 5.4354121595903235, 23.656927948083766, 1.147303080438799, 1.0958895470883614, 1.499661052461688, 1.2443304886152922, 4.38273918065778, 23.497600495727244]\n",
            "\n",
            "------------\n",
            "const VIF: 126750.78969847022\n",
            "engV VIF: 23.656927948083766\n",
            "square_engV VIF: 23.497600495727244\n",
            "------------\n",
            "eng and square_engV have VIF > 10, which is a signal for multicollienearity problems\n"
          ],
          "name": "stdout"
        }
      ]
    },
    {
      "metadata": {
        "id": "_GLMK2nCHEOg",
        "colab_type": "code",
        "colab": {
          "base_uri": "https://localhost:8080/",
          "height": 393
        },
        "outputId": "de0dadf6-b892-46ca-8dc6-1e64a2c14c81"
      },
      "cell_type": "code",
      "source": [
        "# Variables that have high levels of multicollinearity should also be highly \n",
        "# correlated with each other\n",
        "fig = plt.figure(figsize=(5, 5))\n",
        "sns.heatmap(X.corr());"
      ],
      "execution_count": 120,
      "outputs": [
        {
          "output_type": "display_data",
          "data": {
            "image/png": "[encoded data removed]",
            "text/plain": [
              "<Figure size 360x360 with 2 Axes>"
            ]
          },
          "metadata": {
            "tags": []
          }
        }
      ]
    },
    {
      "metadata": {
        "id": "rujYbzOKK6GU",
        "colab_type": "code",
        "colab": {}
      },
      "cell_type": "code",
      "source": [
        ""
      ],
      "execution_count": 0,
      "outputs": []
    }
  ]
}