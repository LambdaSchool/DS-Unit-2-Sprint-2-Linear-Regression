{
 "cells": [
  {
   "cell_type": "code",
   "execution_count": 1,
   "metadata": {
    "colab": {
     "base_uri": "https://localhost:8080/",
     "height": 91
    },
    "colab_type": "code",
    "id": "YbiJuv5d2jZ7",
    "outputId": "749ce910-8342-4f4c-af06-77ae4af74804"
   },
   "outputs": [],
   "source": [
    "# Import everything you could ever need. ;)\n",
    "import pandas as pd\n",
    "import numpy as np\n",
    "import matplotlib.pyplot as plt\n",
    "import seaborn as sns\n",
    "import statsmodels.api as sm\n",
    "from statsmodels.stats.outliers_influence import variance_inflation_factor\n",
    "from sklearn.model_selection import train_test_split\n",
    "from sklearn.linear_model import LinearRegression\n",
    "from sklearn.metrics import mean_squared_error, r2_score"
   ]
  },
  {
   "cell_type": "code",
   "execution_count": 2,
   "metadata": {
    "colab": {
     "base_uri": "https://localhost:8080/",
     "height": 219
    },
    "colab_type": "code",
    "id": "FgaItuSL3zxO",
    "outputId": "839e29ca-12a8-4379-837b-3f869dff380c"
   },
   "outputs": [
    {
     "name": "stdout",
     "output_type": "stream",
     "text": [
      "(8495, 9)\n"
     ]
    },
    {
     "data": {
      "text/html": [
       "<div>\n",
       "<style scoped>\n",
       "    .dataframe tbody tr th:only-of-type {\n",
       "        vertical-align: middle;\n",
       "    }\n",
       "\n",
       "    .dataframe tbody tr th {\n",
       "        vertical-align: top;\n",
       "    }\n",
       "\n",
       "    .dataframe thead th {\n",
       "        text-align: right;\n",
       "    }\n",
       "</style>\n",
       "<table border=\"1\" class=\"dataframe\">\n",
       "  <thead>\n",
       "    <tr style=\"text-align: right;\">\n",
       "      <th></th>\n",
       "      <th>make</th>\n",
       "      <th>price</th>\n",
       "      <th>body</th>\n",
       "      <th>mileage</th>\n",
       "      <th>engV</th>\n",
       "      <th>engType</th>\n",
       "      <th>registration</th>\n",
       "      <th>year</th>\n",
       "      <th>drive</th>\n",
       "    </tr>\n",
       "  </thead>\n",
       "  <tbody>\n",
       "    <tr>\n",
       "      <th>0</th>\n",
       "      <td>23</td>\n",
       "      <td>15500.0</td>\n",
       "      <td>0</td>\n",
       "      <td>68</td>\n",
       "      <td>2.5</td>\n",
       "      <td>1</td>\n",
       "      <td>1</td>\n",
       "      <td>2010</td>\n",
       "      <td>1</td>\n",
       "    </tr>\n",
       "    <tr>\n",
       "      <th>1</th>\n",
       "      <td>50</td>\n",
       "      <td>20500.0</td>\n",
       "      <td>3</td>\n",
       "      <td>173</td>\n",
       "      <td>1.8</td>\n",
       "      <td>1</td>\n",
       "      <td>1</td>\n",
       "      <td>2011</td>\n",
       "      <td>2</td>\n",
       "    </tr>\n",
       "    <tr>\n",
       "      <th>2</th>\n",
       "      <td>50</td>\n",
       "      <td>35000.0</td>\n",
       "      <td>2</td>\n",
       "      <td>135</td>\n",
       "      <td>5.5</td>\n",
       "      <td>3</td>\n",
       "      <td>1</td>\n",
       "      <td>2008</td>\n",
       "      <td>2</td>\n",
       "    </tr>\n",
       "    <tr>\n",
       "      <th>3</th>\n",
       "      <td>50</td>\n",
       "      <td>17800.0</td>\n",
       "      <td>5</td>\n",
       "      <td>162</td>\n",
       "      <td>1.8</td>\n",
       "      <td>0</td>\n",
       "      <td>1</td>\n",
       "      <td>2012</td>\n",
       "      <td>0</td>\n",
       "    </tr>\n",
       "    <tr>\n",
       "      <th>4</th>\n",
       "      <td>55</td>\n",
       "      <td>16600.0</td>\n",
       "      <td>0</td>\n",
       "      <td>83</td>\n",
       "      <td>2.0</td>\n",
       "      <td>3</td>\n",
       "      <td>1</td>\n",
       "      <td>2013</td>\n",
       "      <td>1</td>\n",
       "    </tr>\n",
       "  </tbody>\n",
       "</table>\n",
       "</div>"
      ],
      "text/plain": [
       "   make    price  body  mileage  engV  engType  registration  year  drive\n",
       "0    23  15500.0     0       68   2.5        1             1  2010      1\n",
       "1    50  20500.0     3      173   1.8        1             1  2011      2\n",
       "2    50  35000.0     2      135   5.5        3             1  2008      2\n",
       "3    50  17800.0     5      162   1.8        0             1  2012      0\n",
       "4    55  16600.0     0       83   2.0        3             1  2013      1"
      ]
     },
     "execution_count": 2,
     "metadata": {},
     "output_type": "execute_result"
    }
   ],
   "source": [
    "# Ukraine Used Car Sale Price Prediction\n",
    "df = pd.read_csv('https://raw.githubusercontent.com/ryanleeallred/datasets/master/car_regression.csv')\n",
    "print(df.shape)\n",
    "df.head()"
   ]
  },
  {
   "cell_type": "code",
   "execution_count": 3,
   "metadata": {},
   "outputs": [
    {
     "data": {
      "text/plain": [
       "make            0\n",
       "price           0\n",
       "body            0\n",
       "mileage         0\n",
       "engV            0\n",
       "engType         0\n",
       "registration    0\n",
       "year            0\n",
       "drive           0\n",
       "dtype: int64"
      ]
     },
     "execution_count": 3,
     "metadata": {},
     "output_type": "execute_result"
    }
   ],
   "source": [
    "df.isna().sum()"
   ]
  },
  {
   "cell_type": "markdown",
   "metadata": {
    "colab_type": "text",
    "id": "w9gkF-HNUFAV"
   },
   "source": [
    "# Predictive Modeling with Linear Regression"
   ]
  },
  {
   "cell_type": "markdown",
   "metadata": {
    "colab_type": "text",
    "id": "Vy1SWxcYTAC0"
   },
   "source": [
    "## 1.1 Divide the dataset features into an X matrix and y vector (\"price\" is what we want to predict)."
   ]
  },
  {
   "cell_type": "code",
   "execution_count": 4,
   "metadata": {
    "colab": {},
    "colab_type": "code",
    "id": "dwMbM9tUUaOQ"
   },
   "outputs": [],
   "source": [
    "y = df.loc[:,['price']].values\n",
    "X = df.loc[:,['make','body','mileage','engV','engType','registration','year','drive']].values"
   ]
  },
  {
   "cell_type": "markdown",
   "metadata": {
    "colab_type": "text",
    "id": "Uf_SQswNUPwM"
   },
   "source": [
    "## 1.2 Split the data into test and train datasets using train_test_split"
   ]
  },
  {
   "cell_type": "code",
   "execution_count": 5,
   "metadata": {
    "colab": {},
    "colab_type": "code",
    "id": "iIiELKuKUOgR"
   },
   "outputs": [
    {
     "name": "stdout",
     "output_type": "stream",
     "text": [
      "Shape of X:  (8495, 8)\n",
      "Shape of X_train:  (4247, 8)\n",
      "Shape of X_test:  (4248, 8)\n",
      "--------------------------------\n",
      "Shape of y:  (8495, 1)\n",
      "Shape of y_train:  (4247, 1)\n",
      "Shape of y_test:  (4248, 1)\n"
     ]
    }
   ],
   "source": [
    "X_train,X_test,y_train,y_test = train_test_split(X,y,test_size=.5,random_state=42)\n",
    "print('Shape of X: ',X.shape)\n",
    "print('Shape of X_train: ',X_train.shape)\n",
    "print('Shape of X_test: ',X_test.shape)\n",
    "print('--------------------------------')\n",
    "print('Shape of y: ',y.shape)\n",
    "print('Shape of y_train: ',y_train.shape)\n",
    "print('Shape of y_test: ',y_test.shape)"
   ]
  },
  {
   "cell_type": "markdown",
   "metadata": {
    "colab_type": "text",
    "id": "0AdXWiwoUstf"
   },
   "source": [
    "## 1.3 Use Scikit-Learn to fit a multiple regression model using your training data."
   ]
  },
  {
   "cell_type": "code",
   "execution_count": 6,
   "metadata": {
    "colab": {},
    "colab_type": "code",
    "id": "Zw70rt71U1xf"
   },
   "outputs": [
    {
     "data": {
      "text/plain": [
       "LinearRegression(copy_X=True, fit_intercept=True, n_jobs=None,\n",
       "         normalize=False)"
      ]
     },
     "execution_count": 6,
     "metadata": {},
     "output_type": "execute_result"
    }
   ],
   "source": [
    "model = LinearRegression()\n",
    "model.fit(X_train,y_train)"
   ]
  },
  {
   "cell_type": "markdown",
   "metadata": {
    "colab_type": "text",
    "id": "82fH2rilU7j3"
   },
   "source": [
    "## 1.4 Report the Intercept and Coefficient Values for the fitted model"
   ]
  },
  {
   "cell_type": "code",
   "execution_count": 7,
   "metadata": {
    "colab": {},
    "colab_type": "code",
    "id": "ue6hCHGqVE83"
   },
   "outputs": [
    {
     "name": "stdout",
     "output_type": "stream",
     "text": [
      "Intercept :  [-2184591.01156087]\n",
      "Slope Coefficients:  [  -35.22479484 -1672.11973555   -37.12848399   269.61582544\n",
      " -1284.74375962  4649.46225339  1098.2829573   7886.89079148]\n"
     ]
    }
   ],
   "source": [
    "beta_0 = model.intercept_\n",
    "beta_i = model.coef_[0]\n",
    "\n",
    "print('Intercept : ', beta_0)\n",
    "print('Slope Coefficients: ', beta_i)"
   ]
  },
  {
   "cell_type": "markdown",
   "metadata": {
    "colab_type": "text",
    "id": "T0CV0OnDVZbu"
   },
   "source": [
    "## 1.5 Use the test data to make predictions"
   ]
  },
  {
   "cell_type": "code",
   "execution_count": 8,
   "metadata": {
    "colab": {},
    "colab_type": "code",
    "id": "vrR5b5c3VwE5"
   },
   "outputs": [],
   "source": [
    "predict_y_test = model.predict(X_test)"
   ]
  },
  {
   "cell_type": "markdown",
   "metadata": {
    "colab_type": "text",
    "id": "ZwQb3gE7VycT"
   },
   "source": [
    "## 1.6 Calculate and report both the Root-Mean-Square error and $R^2$ for the model. "
   ]
  },
  {
   "cell_type": "code",
   "execution_count": 9,
   "metadata": {
    "colab": {},
    "colab_type": "code",
    "id": "Ym2kjxWhU6b2"
   },
   "outputs": [
    {
     "name": "stdout",
     "output_type": "stream",
     "text": [
      "MSE :  504905647.2241809\n",
      "RMSE :  22470.105634468673\n",
      "R squared :  0.2694482951962186\n"
     ]
    }
   ],
   "source": [
    "from math import sqrt\n",
    "mse = mean_squared_error(y_test,predict_y_test)\n",
    "rmse = sqrt(mse)\n",
    "r2 = r2_score(y_test,predict_y_test)\n",
    "\n",
    "print('MSE : ',mse)\n",
    "print('RMSE : ',rmse)\n",
    "print('R squared : ',r2)\n"
   ]
  },
  {
   "cell_type": "markdown",
   "metadata": {
    "colab_type": "text",
    "id": "kIXhGHIgXHyJ"
   },
   "source": [
    "## 1.7 How should we interpret the coefficient corresponding to the \"year\" feature?"
   ]
  },
  {
   "cell_type": "markdown",
   "metadata": {
    "colab_type": "text",
    "id": "8jv2n0wAXgHU"
   },
   "source": [
    "Coefficients describe the relationship between the feature in question to the target. So what we can interpret from our year coefficient is that there is an average increase in price every year by 1098~."
   ]
  },
  {
   "cell_type": "markdown",
   "metadata": {
    "colab_type": "text",
    "id": "ckQ5GsOtYsjn"
   },
   "source": [
    "## 1.8 How should we interpret the Root-Mean-Square Error?"
   ]
  },
  {
   "cell_type": "markdown",
   "metadata": {
    "colab_type": "text",
    "id": "F982IeSgYyp6"
   },
   "source": [
    "The root mean squared error is a way to measure the relationship between the values predicted by our model and the raw values in observation."
   ]
  },
  {
   "cell_type": "markdown",
   "metadata": {
    "colab_type": "text",
    "id": "T3sZrru_YzFF"
   },
   "source": [
    "## 1.9 How should we interpret the $R^2$?"
   ]
  },
  {
   "cell_type": "markdown",
   "metadata": {
    "colab_type": "text",
    "id": "5pN2Oet_Y5jR"
   },
   "source": [
    "R Squared is a value that represents the percentage of the dependent variable that is explained by the independent variables in our predictive model."
   ]
  },
  {
   "cell_type": "markdown",
   "metadata": {
    "colab_type": "text",
    "id": "Z_VNy7e3Y5sT"
   },
   "source": [
    "# Log-Linear and Polynomial Regression"
   ]
  },
  {
   "cell_type": "markdown",
   "metadata": {
    "colab_type": "text",
    "id": "G2T4FSqRZOJA"
   },
   "source": [
    "## 2.1 Engineer a new variable by taking the log of the price varible."
   ]
  },
  {
   "cell_type": "code",
   "execution_count": 10,
   "metadata": {
    "colab": {},
    "colab_type": "code",
    "id": "7EChAFNxZX24"
   },
   "outputs": [],
   "source": [
    "df['ln_price'] = np.log(df['price'])"
   ]
  },
  {
   "cell_type": "markdown",
   "metadata": {
    "colab_type": "text",
    "id": "R117rxnOZw6q"
   },
   "source": [
    "## 2.2 Use scatterplots or seaborn's pairplot function to do the \"eyeball test\" for non-linearly distributed features."
   ]
  },
  {
   "cell_type": "code",
   "execution_count": 11,
   "metadata": {
    "colab": {},
    "colab_type": "code",
    "id": "8l56Qk7VaBrU"
   },
   "outputs": [
    {
     "data": {
      "image/png": "[encoded data removed]",
      "text/plain": [
       "<Figure size 1440x180 with 8 Axes>"
      ]
     },
     "metadata": {},
     "output_type": "display_data"
    }
   ],
   "source": [
    "sns.set(style='ticks')\n",
    "x = df.columns.drop(['price','ln_price'])\n",
    "sns.pairplot(data=df, y_vars=['ln_price'],x_vars=x);"
   ]
  },
  {
   "cell_type": "markdown",
   "metadata": {
    "colab_type": "text",
    "id": "QTf4gCaDaiCw"
   },
   "source": [
    "## 2.3 If appropriate, create any polynomial features. "
   ]
  },
  {
   "cell_type": "markdown",
   "metadata": {
    "colab": {},
    "colab_type": "code",
    "id": "ipsCcH83ZMe8"
   },
   "source": [
    "9:00AM Thinking:\n",
    "\n",
    "What nonlinear functions can you apply to some x variables to make the distribution of their plotted points to have them more fitted to a curve?"
   ]
  },
  {
   "cell_type": "code",
   "execution_count": 19,
   "metadata": {},
   "outputs": [
    {
     "data": {
      "image/png": "[encoded data removed]",
      "text/plain": [
       "<Figure size 720x180 with 4 Axes>"
      ]
     },
     "metadata": {},
     "output_type": "display_data"
    }
   ],
   "source": [
    "df['mileage_sqrt'] = np.sqrt(df['mileage'])\n",
    "df['engV_sqrt'] = np.sqrt(df['engV'])\n",
    "\n",
    "sns.pairplot(data=df,y_vars='ln_price',x_vars=['mileage_sqrt','engV_sqrt','mileage','engV']);"
   ]
  },
  {
   "cell_type": "code",
   "execution_count": 20,
   "metadata": {},
   "outputs": [
    {
     "data": {
      "text/html": [
       "<div>\n",
       "<style scoped>\n",
       "    .dataframe tbody tr th:only-of-type {\n",
       "        vertical-align: middle;\n",
       "    }\n",
       "\n",
       "    .dataframe tbody tr th {\n",
       "        vertical-align: top;\n",
       "    }\n",
       "\n",
       "    .dataframe thead th {\n",
       "        text-align: right;\n",
       "    }\n",
       "</style>\n",
       "<table border=\"1\" class=\"dataframe\">\n",
       "  <thead>\n",
       "    <tr style=\"text-align: right;\">\n",
       "      <th></th>\n",
       "      <th>make</th>\n",
       "      <th>price</th>\n",
       "      <th>body</th>\n",
       "      <th>mileage</th>\n",
       "      <th>engV</th>\n",
       "      <th>engType</th>\n",
       "      <th>registration</th>\n",
       "      <th>year</th>\n",
       "      <th>drive</th>\n",
       "      <th>ln_price</th>\n",
       "      <th>mileage_sqrt</th>\n",
       "      <th>engV_sqrt</th>\n",
       "    </tr>\n",
       "  </thead>\n",
       "  <tbody>\n",
       "    <tr>\n",
       "      <th>0</th>\n",
       "      <td>23</td>\n",
       "      <td>15500.0</td>\n",
       "      <td>0</td>\n",
       "      <td>68</td>\n",
       "      <td>2.5</td>\n",
       "      <td>1</td>\n",
       "      <td>1</td>\n",
       "      <td>2010</td>\n",
       "      <td>1</td>\n",
       "      <td>9.648595</td>\n",
       "      <td>8.246211</td>\n",
       "      <td>1.581139</td>\n",
       "    </tr>\n",
       "    <tr>\n",
       "      <th>1</th>\n",
       "      <td>50</td>\n",
       "      <td>20500.0</td>\n",
       "      <td>3</td>\n",
       "      <td>173</td>\n",
       "      <td>1.8</td>\n",
       "      <td>1</td>\n",
       "      <td>1</td>\n",
       "      <td>2011</td>\n",
       "      <td>2</td>\n",
       "      <td>9.928180</td>\n",
       "      <td>13.152946</td>\n",
       "      <td>1.341641</td>\n",
       "    </tr>\n",
       "    <tr>\n",
       "      <th>2</th>\n",
       "      <td>50</td>\n",
       "      <td>35000.0</td>\n",
       "      <td>2</td>\n",
       "      <td>135</td>\n",
       "      <td>5.5</td>\n",
       "      <td>3</td>\n",
       "      <td>1</td>\n",
       "      <td>2008</td>\n",
       "      <td>2</td>\n",
       "      <td>10.463103</td>\n",
       "      <td>11.618950</td>\n",
       "      <td>2.345208</td>\n",
       "    </tr>\n",
       "    <tr>\n",
       "      <th>3</th>\n",
       "      <td>50</td>\n",
       "      <td>17800.0</td>\n",
       "      <td>5</td>\n",
       "      <td>162</td>\n",
       "      <td>1.8</td>\n",
       "      <td>0</td>\n",
       "      <td>1</td>\n",
       "      <td>2012</td>\n",
       "      <td>0</td>\n",
       "      <td>9.786954</td>\n",
       "      <td>12.727922</td>\n",
       "      <td>1.341641</td>\n",
       "    </tr>\n",
       "    <tr>\n",
       "      <th>4</th>\n",
       "      <td>55</td>\n",
       "      <td>16600.0</td>\n",
       "      <td>0</td>\n",
       "      <td>83</td>\n",
       "      <td>2.0</td>\n",
       "      <td>3</td>\n",
       "      <td>1</td>\n",
       "      <td>2013</td>\n",
       "      <td>1</td>\n",
       "      <td>9.717158</td>\n",
       "      <td>9.110434</td>\n",
       "      <td>1.414214</td>\n",
       "    </tr>\n",
       "  </tbody>\n",
       "</table>\n",
       "</div>"
      ],
      "text/plain": [
       "   make    price  body  mileage  engV  engType  registration  year  drive  \\\n",
       "0    23  15500.0     0       68   2.5        1             1  2010      1   \n",
       "1    50  20500.0     3      173   1.8        1             1  2011      2   \n",
       "2    50  35000.0     2      135   5.5        3             1  2008      2   \n",
       "3    50  17800.0     5      162   1.8        0             1  2012      0   \n",
       "4    55  16600.0     0       83   2.0        3             1  2013      1   \n",
       "\n",
       "    ln_price  mileage_sqrt  engV_sqrt  \n",
       "0   9.648595      8.246211   1.581139  \n",
       "1   9.928180     13.152946   1.341641  \n",
       "2  10.463103     11.618950   2.345208  \n",
       "3   9.786954     12.727922   1.341641  \n",
       "4   9.717158      9.110434   1.414214  "
      ]
     },
     "execution_count": 20,
     "metadata": {},
     "output_type": "execute_result"
    }
   ],
   "source": [
    "df = df.drop(columns=['mileage_SQ','engV_SQ'])\n",
    "df.head()"
   ]
  },
  {
   "cell_type": "markdown",
   "metadata": {
    "colab_type": "text",
    "id": "NJgfD-JLayRA"
   },
   "source": [
    "## 2.4 Use the new log-transformed y variable and your x variables (including any new polynomial features) to fit a new linear regression model. Then report the: intercept, coefficients, RMSE, and $R^2$."
   ]
  },
  {
   "cell_type": "code",
   "execution_count": 23,
   "metadata": {
    "colab": {},
    "colab_type": "code",
    "id": "uXmtVpnPcFij"
   },
   "outputs": [
    {
     "name": "stdout",
     "output_type": "stream",
     "text": [
      "Intercept:  [-166.16560093]\n",
      "Slope Coefficients:  [-4.34634788e-04 -4.38924363e-02  2.07909172e-03 -1.59991294e-01\n",
      " -4.00927084e-02  7.70890807e-01  8.61269326e-02  1.84170388e-01\n",
      " -5.95773771e-02  1.77424737e+00]\n",
      "--------------------------\n",
      "MSE :  0.19103780272312032\n",
      "RMSE :  0.43707871456194286\n",
      "R Squared :  0.7970824864498566\n"
     ]
    }
   ],
   "source": [
    "y = df.loc[:, ['ln_price']].values\n",
    "X = df.drop(columns=['price','ln_price']).values\n",
    "\n",
    "X_train, X_test, y_train, y_test = train_test_split(X,y,test_size=0.5,random_state=42)\n",
    "\n",
    "model = LinearRegression()\n",
    "model.fit(X_train,y_train)\n",
    "\n",
    "beta_0=model.intercept_\n",
    "beta_i=model.coef_[0]\n",
    "\n",
    "predict_y_test = model.predict(X_test)\n",
    "\n",
    "mse = mean_squared_error(y_test,predict_y_test)\n",
    "rmse = sqrt(mse)\n",
    "r2 = r2_score(y_test,predict_y_test)\n",
    "\n",
    "print('Intercept: ',beta_0)\n",
    "print('Slope Coefficients: ',beta_i)\n",
    "print('--------------------------')\n",
    "print('MSE : ',mse)\n",
    "print('RMSE : ',rmse)\n",
    "print('R Squared : ',r2)"
   ]
  },
  {
   "cell_type": "markdown",
   "metadata": {},
   "source": [
    "OK .79 Not b a d???"
   ]
  },
  {
   "cell_type": "markdown",
   "metadata": {
    "colab_type": "text",
    "id": "hf4_8FXrpHFY"
   },
   "source": [
    "## 2.5 How might we interpret the coefficient on \"year\" in this new regression model?"
   ]
  },
  {
   "cell_type": "markdown",
   "metadata": {
    "colab_type": "text",
    "id": "JVGKvt5WpTf2"
   },
   "source": [
    "log price is honestly overpowered for linear regression because it lets us use our coefficients to identify a percentage increase or decrease in variation. So the year coefficient now shows us what percentage of increase in house price will be in the span of the years"
   ]
  },
  {
   "cell_type": "markdown",
   "metadata": {
    "colab_type": "text",
    "id": "JUQwzfDRfrQi"
   },
   "source": [
    "# Gradient Descent"
   ]
  },
  {
   "cell_type": "markdown",
   "metadata": {
    "colab_type": "text",
    "id": "M_JLfReVeoYT"
   },
   "source": [
    "## 3.1 What does Gradient Descent seek to minimize?"
   ]
  },
  {
   "cell_type": "markdown",
   "metadata": {
    "colab_type": "text",
    "id": "-ezM_NS2fIJe"
   },
   "source": [
    "Gradient Descent seeks to minimize the cost function by iteratively adjusting its values using derivatives.\n",
    "\n",
    "In essence, gradient descent is a mathematical approach to determine the step(s) necessary to reach the minimum(s) without knowing where the minimum(s) may be."
   ]
  },
  {
   "cell_type": "markdown",
   "metadata": {
    "colab_type": "text",
    "id": "unqhNRYnfIL4"
   },
   "source": [
    "## 3.2 What is the \"Learning Rate\" and what is its function?"
   ]
  },
  {
   "cell_type": "markdown",
   "metadata": {
    "colab_type": "text",
    "id": "7jhKwIOVfT6B"
   },
   "source": [
    "The learning rate is the alpha parameter which basically determines how fast or slow Gradient Descent reaches optimization. So the slower the more accurate the optimization, the faster the lesser."
   ]
  },
  {
   "cell_type": "markdown",
   "metadata": {
    "colab_type": "text",
    "id": "Gs20FOntprd_"
   },
   "source": [
    "# Model Diagnostics"
   ]
  },
  {
   "cell_type": "markdown",
   "metadata": {
    "colab_type": "text",
    "id": "VJnxkobcpulV"
   },
   "source": [
    "## 4.1 Use statsmodels to run a log-linear or log-polynomial linear regression with robust standard errors."
   ]
  },
  {
   "cell_type": "code",
   "execution_count": 24,
   "metadata": {
    "colab": {},
    "colab_type": "code",
    "id": "QqCVeYBTpvfQ"
   },
   "outputs": [
    {
     "name": "stdout",
     "output_type": "stream",
     "text": [
      "                            OLS Regression Results                            \n",
      "==============================================================================\n",
      "Dep. Variable:               ln_price   R-squared:                       0.791\n",
      "Model:                            OLS   Adj. R-squared:                  0.791\n",
      "Method:                 Least Squares   F-statistic:                     2448.\n",
      "Date:                Fri, 22 Feb 2019   Prob (F-statistic):               0.00\n",
      "Time:                        09:43:53   Log-Likelihood:                -5072.6\n",
      "No. Observations:                8495   AIC:                         1.017e+04\n",
      "Df Residuals:                    8484   BIC:                         1.024e+04\n",
      "Df Model:                          10                                         \n",
      "Covariance Type:                  HC3                                         \n",
      "================================================================================\n",
      "                   coef    std err          z      P>|z|      [0.025      0.975]\n",
      "--------------------------------------------------------------------------------\n",
      "const         -165.2504      3.047    -54.233      0.000    -171.222    -159.278\n",
      "make            -0.0007      0.000     -2.983      0.003      -0.001      -0.000\n",
      "body            -0.0511      0.004    -14.148      0.000      -0.058      -0.044\n",
      "mileage          0.0023      0.000     11.466      0.000       0.002       0.003\n",
      "engV            -0.1645      0.005    -31.663      0.000      -0.175      -0.154\n",
      "engType         -0.0431      0.004    -11.273      0.000      -0.051      -0.036\n",
      "registration     0.7482      0.020     37.049      0.000       0.709       0.788\n",
      "year             0.0857      0.002     56.251      0.000       0.083       0.089\n",
      "drive            0.1665      0.011     15.245      0.000       0.145       0.188\n",
      "mileage_sqrt    -0.0666      0.004    -16.268      0.000      -0.075      -0.059\n",
      "engV_sqrt        1.8111      0.057     31.917      0.000       1.700       1.922\n",
      "==============================================================================\n",
      "Omnibus:                     1558.443   Durbin-Watson:                   1.958\n",
      "Prob(Omnibus):                  0.000   Jarque-Bera (JB):            11144.790\n",
      "Skew:                          -0.691   Prob(JB):                         0.00\n",
      "Kurtosis:                       8.438   Cond. No.                     7.13e+05\n",
      "==============================================================================\n",
      "\n",
      "Warnings:\n",
      "[1] Standard Errors are heteroscedasticity robust (HC3)\n",
      "[2] The condition number is large, 7.13e+05. This might indicate that there are\n",
      "strong multicollinearity or other numerical problems.\n"
     ]
    }
   ],
   "source": [
    "y = df['ln_price']\n",
    "X = df.drop(columns=['ln_price','price'])\n",
    "\n",
    "X = sm.add_constant(X)\n",
    "model = sm.OLS(y,X).fit(cov_type='HC3')\n",
    "preds = model.predict(X)\n",
    "print(model.summary())"
   ]
  },
  {
   "cell_type": "markdown",
   "metadata": {
    "colab_type": "text",
    "id": "loKma3wspwVs"
   },
   "source": [
    "## 4.2 Calculate the Variance Inflation Factor (VIF) of our X variables. Do we have multicollinearity problems?"
   ]
  },
  {
   "cell_type": "code",
   "execution_count": 35,
   "metadata": {
    "colab": {},
    "colab_type": "code",
    "id": "EN1mPKWhp2Vn"
   },
   "outputs": [
    {
     "name": "stdout",
     "output_type": "stream",
     "text": [
      "const                125496.732648 Outlier Here\n",
      "make                 1.063825 \n",
      "body                 1.200452 \n",
      "mileage              9.948811 Outlier Here\n",
      "engV                 8.603821 Outlier Here\n",
      "engType              1.145172 \n",
      "registration         1.092204 \n",
      "year                 1.491843 \n",
      "drive                1.355470 \n",
      "mileage_sqrt         9.495798 Outlier Here\n",
      "engV_sqrt            9.147020 Outlier Here\n"
     ]
    }
   ],
   "source": [
    "vifs = [variance_inflation_factor(X.values,i) for i in range(X.shape[1])]\n",
    "\n",
    "outliers = [i > 4 for i in vifs]\n",
    "\n",
    "for col, vif, outlier in zip(X.columns,vifs,outliers):\n",
    "    print(f'{col:20} {vif:2f} {\"Outlier Here\" if outlier else \"\"}')"
   ]
  },
  {
   "cell_type": "markdown",
   "metadata": {},
   "source": [
    "So there might be colinearity problems with mileage because I feature engineered it?"
   ]
  },
  {
   "cell_type": "code",
   "execution_count": 36,
   "metadata": {},
   "outputs": [
    {
     "data": {
      "text/html": [
       "<div>\n",
       "<style scoped>\n",
       "    .dataframe tbody tr th:only-of-type {\n",
       "        vertical-align: middle;\n",
       "    }\n",
       "\n",
       "    .dataframe tbody tr th {\n",
       "        vertical-align: top;\n",
       "    }\n",
       "\n",
       "    .dataframe thead th {\n",
       "        text-align: right;\n",
       "    }\n",
       "</style>\n",
       "<table border=\"1\" class=\"dataframe\">\n",
       "  <thead>\n",
       "    <tr style=\"text-align: right;\">\n",
       "      <th></th>\n",
       "      <th>make</th>\n",
       "      <th>price</th>\n",
       "      <th>body</th>\n",
       "      <th>mileage</th>\n",
       "      <th>engV</th>\n",
       "      <th>engType</th>\n",
       "      <th>registration</th>\n",
       "      <th>year</th>\n",
       "      <th>drive</th>\n",
       "      <th>ln_price</th>\n",
       "      <th>mileage_sqrt</th>\n",
       "      <th>engV_sqrt</th>\n",
       "    </tr>\n",
       "  </thead>\n",
       "  <tbody>\n",
       "    <tr>\n",
       "      <th>make</th>\n",
       "      <td>1.000000</td>\n",
       "      <td>-0.083205</td>\n",
       "      <td>0.026127</td>\n",
       "      <td>-0.035097</td>\n",
       "      <td>-0.021246</td>\n",
       "      <td>-0.011880</td>\n",
       "      <td>0.104557</td>\n",
       "      <td>-0.013833</td>\n",
       "      <td>-0.196444</td>\n",
       "      <td>-0.093754</td>\n",
       "      <td>-0.028706</td>\n",
       "      <td>-0.076139</td>\n",
       "    </tr>\n",
       "    <tr>\n",
       "      <th>price</th>\n",
       "      <td>-0.083205</td>\n",
       "      <td>1.000000</td>\n",
       "      <td>-0.253726</td>\n",
       "      <td>-0.336940</td>\n",
       "      <td>0.066226</td>\n",
       "      <td>-0.021051</td>\n",
       "      <td>0.124062</td>\n",
       "      <td>0.393562</td>\n",
       "      <td>0.221952</td>\n",
       "      <td>0.731059</td>\n",
       "      <td>-0.418954</td>\n",
       "      <td>0.230000</td>\n",
       "    </tr>\n",
       "    <tr>\n",
       "      <th>body</th>\n",
       "      <td>0.026127</td>\n",
       "      <td>-0.253726</td>\n",
       "      <td>1.000000</td>\n",
       "      <td>0.287060</td>\n",
       "      <td>-0.025320</td>\n",
       "      <td>-0.184007</td>\n",
       "      <td>-0.082643</td>\n",
       "      <td>-0.154554</td>\n",
       "      <td>-0.162235</td>\n",
       "      <td>-0.319724</td>\n",
       "      <td>0.290119</td>\n",
       "      <td>-0.104916</td>\n",
       "    </tr>\n",
       "    <tr>\n",
       "      <th>mileage</th>\n",
       "      <td>-0.035097</td>\n",
       "      <td>-0.336940</td>\n",
       "      <td>0.287060</td>\n",
       "      <td>1.000000</td>\n",
       "      <td>0.042081</td>\n",
       "      <td>-0.229644</td>\n",
       "      <td>-0.229354</td>\n",
       "      <td>-0.503135</td>\n",
       "      <td>0.067962</td>\n",
       "      <td>-0.397370</td>\n",
       "      <td>0.944824</td>\n",
       "      <td>0.056899</td>\n",
       "    </tr>\n",
       "    <tr>\n",
       "      <th>engV</th>\n",
       "      <td>-0.021246</td>\n",
       "      <td>0.066226</td>\n",
       "      <td>-0.025320</td>\n",
       "      <td>0.042081</td>\n",
       "      <td>1.000000</td>\n",
       "      <td>-0.004896</td>\n",
       "      <td>-0.015274</td>\n",
       "      <td>-0.041076</td>\n",
       "      <td>0.084756</td>\n",
       "      <td>0.050991</td>\n",
       "      <td>0.035366</td>\n",
       "      <td>0.925988</td>\n",
       "    </tr>\n",
       "    <tr>\n",
       "      <th>engType</th>\n",
       "      <td>-0.011880</td>\n",
       "      <td>-0.021051</td>\n",
       "      <td>-0.184007</td>\n",
       "      <td>-0.229644</td>\n",
       "      <td>-0.004896</td>\n",
       "      <td>1.000000</td>\n",
       "      <td>0.152988</td>\n",
       "      <td>-0.040471</td>\n",
       "      <td>-0.044859</td>\n",
       "      <td>-0.063324</td>\n",
       "      <td>-0.203189</td>\n",
       "      <td>-0.029524</td>\n",
       "    </tr>\n",
       "    <tr>\n",
       "      <th>registration</th>\n",
       "      <td>0.104557</td>\n",
       "      <td>0.124062</td>\n",
       "      <td>-0.082643</td>\n",
       "      <td>-0.229354</td>\n",
       "      <td>-0.015274</td>\n",
       "      <td>0.152988</td>\n",
       "      <td>1.000000</td>\n",
       "      <td>0.185104</td>\n",
       "      <td>-0.055793</td>\n",
       "      <td>0.283911</td>\n",
       "      <td>-0.213167</td>\n",
       "      <td>-0.027803</td>\n",
       "    </tr>\n",
       "    <tr>\n",
       "      <th>year</th>\n",
       "      <td>-0.013833</td>\n",
       "      <td>0.393562</td>\n",
       "      <td>-0.154554</td>\n",
       "      <td>-0.503135</td>\n",
       "      <td>-0.041076</td>\n",
       "      <td>-0.040471</td>\n",
       "      <td>0.185104</td>\n",
       "      <td>1.000000</td>\n",
       "      <td>-0.169709</td>\n",
       "      <td>0.696450</td>\n",
       "      <td>-0.480963</td>\n",
       "      <td>-0.019836</td>\n",
       "    </tr>\n",
       "    <tr>\n",
       "      <th>drive</th>\n",
       "      <td>-0.196444</td>\n",
       "      <td>0.221952</td>\n",
       "      <td>-0.162235</td>\n",
       "      <td>0.067962</td>\n",
       "      <td>0.084756</td>\n",
       "      <td>-0.044859</td>\n",
       "      <td>-0.055793</td>\n",
       "      <td>-0.169709</td>\n",
       "      <td>1.000000</td>\n",
       "      <td>0.216488</td>\n",
       "      <td>0.026612</td>\n",
       "      <td>0.237793</td>\n",
       "    </tr>\n",
       "    <tr>\n",
       "      <th>ln_price</th>\n",
       "      <td>-0.093754</td>\n",
       "      <td>0.731059</td>\n",
       "      <td>-0.319724</td>\n",
       "      <td>-0.397370</td>\n",
       "      <td>0.050991</td>\n",
       "      <td>-0.063324</td>\n",
       "      <td>0.283911</td>\n",
       "      <td>0.696450</td>\n",
       "      <td>0.216488</td>\n",
       "      <td>1.000000</td>\n",
       "      <td>-0.424689</td>\n",
       "      <td>0.238186</td>\n",
       "    </tr>\n",
       "    <tr>\n",
       "      <th>mileage_sqrt</th>\n",
       "      <td>-0.028706</td>\n",
       "      <td>-0.418954</td>\n",
       "      <td>0.290119</td>\n",
       "      <td>0.944824</td>\n",
       "      <td>0.035366</td>\n",
       "      <td>-0.203189</td>\n",
       "      <td>-0.213167</td>\n",
       "      <td>-0.480963</td>\n",
       "      <td>0.026612</td>\n",
       "      <td>-0.424689</td>\n",
       "      <td>1.000000</td>\n",
       "      <td>0.045312</td>\n",
       "    </tr>\n",
       "    <tr>\n",
       "      <th>engV_sqrt</th>\n",
       "      <td>-0.076139</td>\n",
       "      <td>0.230000</td>\n",
       "      <td>-0.104916</td>\n",
       "      <td>0.056899</td>\n",
       "      <td>0.925988</td>\n",
       "      <td>-0.029524</td>\n",
       "      <td>-0.027803</td>\n",
       "      <td>-0.019836</td>\n",
       "      <td>0.237793</td>\n",
       "      <td>0.238186</td>\n",
       "      <td>0.045312</td>\n",
       "      <td>1.000000</td>\n",
       "    </tr>\n",
       "  </tbody>\n",
       "</table>\n",
       "</div>"
      ],
      "text/plain": [
       "                  make     price      body   mileage      engV   engType  \\\n",
       "make          1.000000 -0.083205  0.026127 -0.035097 -0.021246 -0.011880   \n",
       "price        -0.083205  1.000000 -0.253726 -0.336940  0.066226 -0.021051   \n",
       "body          0.026127 -0.253726  1.000000  0.287060 -0.025320 -0.184007   \n",
       "mileage      -0.035097 -0.336940  0.287060  1.000000  0.042081 -0.229644   \n",
       "engV         -0.021246  0.066226 -0.025320  0.042081  1.000000 -0.004896   \n",
       "engType      -0.011880 -0.021051 -0.184007 -0.229644 -0.004896  1.000000   \n",
       "registration  0.104557  0.124062 -0.082643 -0.229354 -0.015274  0.152988   \n",
       "year         -0.013833  0.393562 -0.154554 -0.503135 -0.041076 -0.040471   \n",
       "drive        -0.196444  0.221952 -0.162235  0.067962  0.084756 -0.044859   \n",
       "ln_price     -0.093754  0.731059 -0.319724 -0.397370  0.050991 -0.063324   \n",
       "mileage_sqrt -0.028706 -0.418954  0.290119  0.944824  0.035366 -0.203189   \n",
       "engV_sqrt    -0.076139  0.230000 -0.104916  0.056899  0.925988 -0.029524   \n",
       "\n",
       "              registration      year     drive  ln_price  mileage_sqrt  \\\n",
       "make              0.104557 -0.013833 -0.196444 -0.093754     -0.028706   \n",
       "price             0.124062  0.393562  0.221952  0.731059     -0.418954   \n",
       "body             -0.082643 -0.154554 -0.162235 -0.319724      0.290119   \n",
       "mileage          -0.229354 -0.503135  0.067962 -0.397370      0.944824   \n",
       "engV             -0.015274 -0.041076  0.084756  0.050991      0.035366   \n",
       "engType           0.152988 -0.040471 -0.044859 -0.063324     -0.203189   \n",
       "registration      1.000000  0.185104 -0.055793  0.283911     -0.213167   \n",
       "year              0.185104  1.000000 -0.169709  0.696450     -0.480963   \n",
       "drive            -0.055793 -0.169709  1.000000  0.216488      0.026612   \n",
       "ln_price          0.283911  0.696450  0.216488  1.000000     -0.424689   \n",
       "mileage_sqrt     -0.213167 -0.480963  0.026612 -0.424689      1.000000   \n",
       "engV_sqrt        -0.027803 -0.019836  0.237793  0.238186      0.045312   \n",
       "\n",
       "              engV_sqrt  \n",
       "make          -0.076139  \n",
       "price          0.230000  \n",
       "body          -0.104916  \n",
       "mileage        0.056899  \n",
       "engV           0.925988  \n",
       "engType       -0.029524  \n",
       "registration  -0.027803  \n",
       "year          -0.019836  \n",
       "drive          0.237793  \n",
       "ln_price       0.238186  \n",
       "mileage_sqrt   0.045312  \n",
       "engV_sqrt      1.000000  "
      ]
     },
     "execution_count": 36,
     "metadata": {},
     "output_type": "execute_result"
    }
   ],
   "source": [
    "df.corr()"
   ]
  },
  {
   "cell_type": "code",
   "execution_count": 38,
   "metadata": {},
   "outputs": [
    {
     "data": {
      "text/html": [
       "<div>\n",
       "<style scoped>\n",
       "    .dataframe tbody tr th:only-of-type {\n",
       "        vertical-align: middle;\n",
       "    }\n",
       "\n",
       "    .dataframe tbody tr th {\n",
       "        vertical-align: top;\n",
       "    }\n",
       "\n",
       "    .dataframe thead th {\n",
       "        text-align: right;\n",
       "    }\n",
       "</style>\n",
       "<table border=\"1\" class=\"dataframe\">\n",
       "  <thead>\n",
       "    <tr style=\"text-align: right;\">\n",
       "      <th></th>\n",
       "      <th>make</th>\n",
       "      <th>price</th>\n",
       "      <th>body</th>\n",
       "      <th>mileage</th>\n",
       "      <th>engV</th>\n",
       "      <th>engType</th>\n",
       "      <th>registration</th>\n",
       "      <th>year</th>\n",
       "      <th>drive</th>\n",
       "      <th>ln_price</th>\n",
       "      <th>mileage_sqrt</th>\n",
       "      <th>engV_sqrt</th>\n",
       "    </tr>\n",
       "  </thead>\n",
       "  <tbody>\n",
       "    <tr>\n",
       "      <th>make</th>\n",
       "      <td>601.536973</td>\n",
       "      <td>-4.989457e+04</td>\n",
       "      <td>1.031888</td>\n",
       "      <td>-83.896206</td>\n",
       "      <td>-2.807241</td>\n",
       "      <td>-0.390824</td>\n",
       "      <td>0.601319</td>\n",
       "      <td>-2.349719</td>\n",
       "      <td>-3.571300</td>\n",
       "      <td>-2.211651</td>\n",
       "      <td>-3.231733</td>\n",
       "      <td>-1.058531</td>\n",
       "    </tr>\n",
       "    <tr>\n",
       "      <th>price</th>\n",
       "      <td>-49894.566284</td>\n",
       "      <td>5.977850e+08</td>\n",
       "      <td>-9989.557078</td>\n",
       "      <td>-802915.182490</td>\n",
       "      <td>8722.978559</td>\n",
       "      <td>-690.339415</td>\n",
       "      <td>711.265933</td>\n",
       "      <td>66644.200218</td>\n",
       "      <td>4022.413209</td>\n",
       "      <td>17191.844974</td>\n",
       "      <td>-47019.170326</td>\n",
       "      <td>3187.594424</td>\n",
       "    </tr>\n",
       "    <tr>\n",
       "      <th>body</th>\n",
       "      <td>1.031888</td>\n",
       "      <td>-9.989557e+03</td>\n",
       "      <td>2.593090</td>\n",
       "      <td>45.053201</td>\n",
       "      <td>-0.219654</td>\n",
       "      <td>-0.397432</td>\n",
       "      <td>-0.031206</td>\n",
       "      <td>-1.723719</td>\n",
       "      <td>-0.193646</td>\n",
       "      <td>-0.495201</td>\n",
       "      <td>2.144474</td>\n",
       "      <td>-0.095767</td>\n",
       "    </tr>\n",
       "    <tr>\n",
       "      <th>mileage</th>\n",
       "      <td>-83.896206</td>\n",
       "      <td>-8.029152e+05</td>\n",
       "      <td>45.053201</td>\n",
       "      <td>9499.243366</td>\n",
       "      <td>22.095237</td>\n",
       "      <td>-30.020627</td>\n",
       "      <td>-5.241685</td>\n",
       "      <td>-339.629689</td>\n",
       "      <td>4.909861</td>\n",
       "      <td>-37.250926</td>\n",
       "      <td>422.699236</td>\n",
       "      <td>3.143477</td>\n",
       "    </tr>\n",
       "    <tr>\n",
       "      <th>engV</th>\n",
       "      <td>-2.807241</td>\n",
       "      <td>8.722979e+03</td>\n",
       "      <td>-0.219654</td>\n",
       "      <td>22.095237</td>\n",
       "      <td>29.022335</td>\n",
       "      <td>-0.035379</td>\n",
       "      <td>-0.019294</td>\n",
       "      <td>-1.532625</td>\n",
       "      <td>0.338448</td>\n",
       "      <td>0.264213</td>\n",
       "      <td>0.874555</td>\n",
       "      <td>2.827709</td>\n",
       "    </tr>\n",
       "    <tr>\n",
       "      <th>engType</th>\n",
       "      <td>-0.390824</td>\n",
       "      <td>-6.903394e+02</td>\n",
       "      <td>-0.397432</td>\n",
       "      <td>-30.020627</td>\n",
       "      <td>-0.035379</td>\n",
       "      <td>1.799039</td>\n",
       "      <td>0.048117</td>\n",
       "      <td>-0.375957</td>\n",
       "      <td>-0.044599</td>\n",
       "      <td>-0.081693</td>\n",
       "      <td>-1.250995</td>\n",
       "      <td>-0.022447</td>\n",
       "    </tr>\n",
       "    <tr>\n",
       "      <th>registration</th>\n",
       "      <td>0.601319</td>\n",
       "      <td>7.112659e+02</td>\n",
       "      <td>-0.031206</td>\n",
       "      <td>-5.241685</td>\n",
       "      <td>-0.019294</td>\n",
       "      <td>0.048117</td>\n",
       "      <td>0.054985</td>\n",
       "      <td>0.300617</td>\n",
       "      <td>-0.009697</td>\n",
       "      <td>0.064033</td>\n",
       "      <td>-0.229444</td>\n",
       "      <td>-0.003696</td>\n",
       "    </tr>\n",
       "    <tr>\n",
       "      <th>year</th>\n",
       "      <td>-2.349719</td>\n",
       "      <td>6.664420e+04</td>\n",
       "      <td>-1.723719</td>\n",
       "      <td>-339.629689</td>\n",
       "      <td>-1.532625</td>\n",
       "      <td>-0.375957</td>\n",
       "      <td>0.300617</td>\n",
       "      <td>47.968183</td>\n",
       "      <td>-0.871241</td>\n",
       "      <td>4.639425</td>\n",
       "      <td>-15.290602</td>\n",
       "      <td>-0.077873</td>\n",
       "    </tr>\n",
       "    <tr>\n",
       "      <th>drive</th>\n",
       "      <td>-3.571300</td>\n",
       "      <td>4.022413e+03</td>\n",
       "      <td>-0.193646</td>\n",
       "      <td>4.909861</td>\n",
       "      <td>0.338448</td>\n",
       "      <td>-0.044599</td>\n",
       "      <td>-0.009697</td>\n",
       "      <td>-0.871241</td>\n",
       "      <td>0.549429</td>\n",
       "      <td>0.154343</td>\n",
       "      <td>0.090545</td>\n",
       "      <td>0.099912</td>\n",
       "    </tr>\n",
       "    <tr>\n",
       "      <th>ln_price</th>\n",
       "      <td>-2.211651</td>\n",
       "      <td>1.719184e+04</td>\n",
       "      <td>-0.495201</td>\n",
       "      <td>-37.250926</td>\n",
       "      <td>0.264213</td>\n",
       "      <td>-0.081693</td>\n",
       "      <td>0.064033</td>\n",
       "      <td>4.639425</td>\n",
       "      <td>0.154343</td>\n",
       "      <td>0.925113</td>\n",
       "      <td>-1.875014</td>\n",
       "      <td>0.129860</td>\n",
       "    </tr>\n",
       "    <tr>\n",
       "      <th>mileage_sqrt</th>\n",
       "      <td>-3.231733</td>\n",
       "      <td>-4.701917e+04</td>\n",
       "      <td>2.144474</td>\n",
       "      <td>422.699236</td>\n",
       "      <td>0.874555</td>\n",
       "      <td>-1.250995</td>\n",
       "      <td>-0.229444</td>\n",
       "      <td>-15.290602</td>\n",
       "      <td>0.090545</td>\n",
       "      <td>-1.875014</td>\n",
       "      <td>21.070354</td>\n",
       "      <td>0.117899</td>\n",
       "    </tr>\n",
       "    <tr>\n",
       "      <th>engV_sqrt</th>\n",
       "      <td>-1.058531</td>\n",
       "      <td>3.187594e+03</td>\n",
       "      <td>-0.095767</td>\n",
       "      <td>3.143477</td>\n",
       "      <td>2.827709</td>\n",
       "      <td>-0.022447</td>\n",
       "      <td>-0.003696</td>\n",
       "      <td>-0.077873</td>\n",
       "      <td>0.099912</td>\n",
       "      <td>0.129860</td>\n",
       "      <td>0.117899</td>\n",
       "      <td>0.321312</td>\n",
       "    </tr>\n",
       "  </tbody>\n",
       "</table>\n",
       "</div>"
      ],
      "text/plain": [
       "                      make         price         body        mileage  \\\n",
       "make            601.536973 -4.989457e+04     1.031888     -83.896206   \n",
       "price        -49894.566284  5.977850e+08 -9989.557078 -802915.182490   \n",
       "body              1.031888 -9.989557e+03     2.593090      45.053201   \n",
       "mileage         -83.896206 -8.029152e+05    45.053201    9499.243366   \n",
       "engV             -2.807241  8.722979e+03    -0.219654      22.095237   \n",
       "engType          -0.390824 -6.903394e+02    -0.397432     -30.020627   \n",
       "registration      0.601319  7.112659e+02    -0.031206      -5.241685   \n",
       "year             -2.349719  6.664420e+04    -1.723719    -339.629689   \n",
       "drive            -3.571300  4.022413e+03    -0.193646       4.909861   \n",
       "ln_price         -2.211651  1.719184e+04    -0.495201     -37.250926   \n",
       "mileage_sqrt     -3.231733 -4.701917e+04     2.144474     422.699236   \n",
       "engV_sqrt        -1.058531  3.187594e+03    -0.095767       3.143477   \n",
       "\n",
       "                     engV     engType  registration          year  \\\n",
       "make            -2.807241   -0.390824      0.601319     -2.349719   \n",
       "price         8722.978559 -690.339415    711.265933  66644.200218   \n",
       "body            -0.219654   -0.397432     -0.031206     -1.723719   \n",
       "mileage         22.095237  -30.020627     -5.241685   -339.629689   \n",
       "engV            29.022335   -0.035379     -0.019294     -1.532625   \n",
       "engType         -0.035379    1.799039      0.048117     -0.375957   \n",
       "registration    -0.019294    0.048117      0.054985      0.300617   \n",
       "year            -1.532625   -0.375957      0.300617     47.968183   \n",
       "drive            0.338448   -0.044599     -0.009697     -0.871241   \n",
       "ln_price         0.264213   -0.081693      0.064033      4.639425   \n",
       "mileage_sqrt     0.874555   -1.250995     -0.229444    -15.290602   \n",
       "engV_sqrt        2.827709   -0.022447     -0.003696     -0.077873   \n",
       "\n",
       "                    drive      ln_price  mileage_sqrt    engV_sqrt  \n",
       "make            -3.571300     -2.211651     -3.231733    -1.058531  \n",
       "price         4022.413209  17191.844974 -47019.170326  3187.594424  \n",
       "body            -0.193646     -0.495201      2.144474    -0.095767  \n",
       "mileage          4.909861    -37.250926    422.699236     3.143477  \n",
       "engV             0.338448      0.264213      0.874555     2.827709  \n",
       "engType         -0.044599     -0.081693     -1.250995    -0.022447  \n",
       "registration    -0.009697      0.064033     -0.229444    -0.003696  \n",
       "year            -0.871241      4.639425    -15.290602    -0.077873  \n",
       "drive            0.549429      0.154343      0.090545     0.099912  \n",
       "ln_price         0.154343      0.925113     -1.875014     0.129860  \n",
       "mileage_sqrt     0.090545     -1.875014     21.070354     0.117899  \n",
       "engV_sqrt        0.099912      0.129860      0.117899     0.321312  "
      ]
     },
     "execution_count": 38,
     "metadata": {},
     "output_type": "execute_result"
    }
   ],
   "source": [
    "df.cov()"
   ]
  },
  {
   "cell_type": "code",
   "execution_count": 39,
   "metadata": {},
   "outputs": [
    {
     "name": "stdout",
     "output_type": "stream",
     "text": [
      "                            OLS Regression Results                            \n",
      "==============================================================================\n",
      "Dep. Variable:               ln_price   R-squared:                       0.655\n",
      "Model:                            OLS   Adj. R-squared:                  0.655\n",
      "Method:                 Least Squares   F-statistic:                     2163.\n",
      "Date:                Fri, 22 Feb 2019   Prob (F-statistic):               0.00\n",
      "Time:                        09:58:54   Log-Likelihood:                -7199.8\n",
      "No. Observations:                8495   AIC:                         1.441e+04\n",
      "Df Residuals:                    8488   BIC:                         1.446e+04\n",
      "Df Model:                           6                                         \n",
      "Covariance Type:                  HC3                                         \n",
      "================================================================================\n",
      "                   coef    std err          z      P>|z|      [0.025      0.975]\n",
      "--------------------------------------------------------------------------------\n",
      "const         -182.6450      2.727    -66.977      0.000    -187.990    -177.300\n",
      "make            -0.0015      0.000     -5.481      0.000      -0.002      -0.001\n",
      "body            -0.0974      0.004    -24.708      0.000      -0.105      -0.090\n",
      "engType         -0.0569      0.005    -12.056      0.000      -0.066      -0.048\n",
      "registration     0.7245      0.020     35.893      0.000       0.685       0.764\n",
      "year             0.0953      0.001     70.083      0.000       0.093       0.098\n",
      "drive            0.3959      0.010     39.279      0.000       0.376       0.416\n",
      "==============================================================================\n",
      "Omnibus:                      444.787   Durbin-Watson:                   1.913\n",
      "Prob(Omnibus):                  0.000   Jarque-Bera (JB):             1637.557\n",
      "Skew:                           0.114   Prob(JB):                         0.00\n",
      "Kurtosis:                       5.139   Cond. No.                     6.15e+05\n",
      "==============================================================================\n",
      "\n",
      "Warnings:\n",
      "[1] Standard Errors are heteroscedasticity robust (HC3)\n",
      "[2] The condition number is large, 6.15e+05. This might indicate that there are\n",
      "strong multicollinearity or other numerical problems.\n"
     ]
    }
   ],
   "source": [
    "#trying without the outliers\n",
    "\n",
    "y = df['ln_price']\n",
    "X = df.drop(columns=['ln_price','price','mileage','engV','mileage_sqrt','engV_sqrt'])\n",
    "\n",
    "X = sm.add_constant(X)\n",
    "model = sm.OLS(y,X).fit(cov_type='HC3')\n",
    "preds = model.predict(X)\n",
    "print(model.summary())"
   ]
  },
  {
   "cell_type": "code",
   "execution_count": 40,
   "metadata": {},
   "outputs": [],
   "source": [
    "#that seems worse LOL"
   ]
  }
 ],
 "metadata": {
  "colab": {
   "name": "Linear Regression Sprint Challenge.ipynb",
   "provenance": [],
   "version": "0.3.2"
  },
  "kernelspec": {
   "display_name": "Python 3",
   "language": "python",
   "name": "python3"
  },
  "language_info": {
   "codemirror_mode": {
    "name": "ipython",
    "version": 3
   },
   "file_extension": ".py",
   "mimetype": "text/x-python",
   "name": "python",
   "nbconvert_exporter": "python",
   "pygments_lexer": "ipython3",
   "version": "3.7.1"
  }
 },
 "nbformat": 4,
 "nbformat_minor": 1
}
