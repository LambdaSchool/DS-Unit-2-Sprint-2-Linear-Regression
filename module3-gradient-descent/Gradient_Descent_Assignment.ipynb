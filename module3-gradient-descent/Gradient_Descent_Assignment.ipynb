{
  "nbformat": 4,
  "nbformat_minor": 0,
  "metadata": {
    "colab": {
      "name": "Gradient Descent Assignment.ipynb",
      "version": "0.3.2",
      "provenance": [],
      "include_colab_link": true
    },
    "kernelspec": {
      "name": "python3",
      "display_name": "Python 3"
    }
  },
  "cells": [
    {
      "cell_type": "markdown",
      "metadata": {
        "id": "view-in-github",
        "colab_type": "text"
      },
      "source": [
        "<a href=\"https://colab.research.google.com/github/DimaKav/DS-Unit-2-Sprint-2-Linear-Regression/blob/master/module3-gradient-descent/Gradient_Descent_Assignment.ipynb\" target=\"_parent\"><img src=\"https://colab.research.google.com/assets/colab-badge.svg\" alt=\"Open In Colab\"/></a>"
      ]
    },
    {
      "metadata": {
        "id": "Qhm0Y_jqXKRv",
        "colab_type": "text"
      },
      "cell_type": "markdown",
      "source": [
        "# Gradient Descent Implementation Challenge!!\n",
        "\n",
        "## Use gradient descent to find the optimal parameters of a **multiple** regression model. (We only showed an implementation for a bivariate model during lecture.)\n",
        "\n",
        "A note: Implementing gradient descent in any context is not trivial, particularly the step where we calculate the gradient will change based on the number of parameters that we're trying to optimize for. You will need to research what the gradient of a multiple regression model looks like. This challenge is pretty open-ended but I hope it will be thrilling. Please work together, help each other, share resources and generally expand your understanding of gradient descent as you try and achieve this implementation. \n",
        "\n",
        "## Suggestions:\n",
        "\n",
        "Start off with a model that has just two $X$ variables You can use any datasets that have at least two x variables. Potential candidates might be the blood pressure dataset that we used during lecture on Monday: [HERE](https://college.cengage.com/mathematics/brase/understandable_statistics/7e/students/datasets/mlr/excel/mlr02.xls) or any of the housing datasets. You would just need to select from them the two varaibles $x$ variables and one y variable that you want to work with that you most want to work with. \n",
        "\n",
        "Use Sklearn to find the optimal parameters of your model first. (like we did during the lecture.) So that you can compare the parameter estimates of your gradient-descent linear regression to the estimates of OLS linear regression. If implemented correctly they should be nearly identical.\n",
        "\n",
        "Becoming a Data Scientist is all about striking out into the unknown, getting stuck and then researching and fighting and learning until you get yourself unstuck. Work together! And fight to take your own learning-rate fueled step towards your own optimal understanding of gradient descent! \n"
      ]
    },
    {
      "metadata": {
        "id": "_tWzF6IqXIIq",
        "colab_type": "code",
        "colab": {}
      },
      "cell_type": "code",
      "source": [
        "import pandas as pd\n",
        "import numpy as np\n",
        "import matplotlib.pyplot as plt\n",
        "import seaborn as sns\n",
        "from mpl_toolkits.mplot3d import Axes3D\n",
        "from sklearn.linear_model import LinearRegression\n",
        "from sklearn.model_selection import train_test_split\n",
        "from sklearn.metrics import mean_squared_error, r2_score\n",
        "from sklearn.preprocessing import StandardScaler\n",
        "%config InlineBackend.figure_format='retina'"
      ],
      "execution_count": 0,
      "outputs": []
    },
    {
      "metadata": {
        "id": "ftNkU28lDO5C",
        "colab_type": "text"
      },
      "cell_type": "markdown",
      "source": [
        "# Multiple Regression Base Case"
      ]
    },
    {
      "metadata": {
        "id": "RtaIXrNs-hJ8",
        "colab_type": "code",
        "colab": {
          "base_uri": "https://localhost:8080/",
          "height": 34
        },
        "outputId": "166351a4-6ec3-4570-be2e-6736518c3a00"
      },
      "cell_type": "code",
      "source": [
        "# Housing dataset again\n",
        "df = pd.read_csv('https://raw.githubusercontent.com/ryanleeallred/datasets/master/Ames%20Housing%20Data/train.csv')\n",
        "df.shape"
      ],
      "execution_count": 39,
      "outputs": [
        {
          "output_type": "execute_result",
          "data": {
            "text/plain": [
              "(1460, 81)"
            ]
          },
          "metadata": {
            "tags": []
          },
          "execution_count": 39
        }
      ]
    },
    {
      "metadata": {
        "id": "gcQk0vKi-kVt",
        "colab_type": "code",
        "colab": {}
      },
      "cell_type": "code",
      "source": [
        "# Log transform the y\n",
        "df['ln_price'] = np.log(df['SalePrice'])"
      ],
      "execution_count": 0,
      "outputs": []
    },
    {
      "metadata": {
        "id": "5n6otjML-uki",
        "colab_type": "code",
        "colab": {
          "base_uri": "https://localhost:8080/",
          "height": 34
        },
        "outputId": "4e4c2af9-34a6-4662-abbc-37ec1be4ef72"
      },
      "cell_type": "code",
      "source": [
        "# Work out the nans and drop objects\n",
        "df['GarageYrBlt'].fillna(df['YearBuilt'], inplace=True)\n",
        "df.drop(df.select_dtypes('object'),axis=1,inplace=True)\n",
        "df.drop('LotFrontage',axis=1,inplace=True)\n",
        "df.dropna(inplace=True, axis=0)\n",
        "df.shape"
      ],
      "execution_count": 42,
      "outputs": [
        {
          "output_type": "execute_result",
          "data": {
            "text/plain": [
              "(1452, 38)"
            ]
          },
          "metadata": {
            "tags": []
          },
          "execution_count": 42
        }
      ]
    },
    {
      "metadata": {
        "id": "Nqj1G1ff_6hv",
        "colab_type": "code",
        "colab": {
          "base_uri": "https://localhost:8080/",
          "height": 119
        },
        "outputId": "8ccc4d5e-1d97-48fa-c1ce-01f76a09db93"
      },
      "cell_type": "code",
      "source": [
        "df.isna().sum().sort_values()[-5:]"
      ],
      "execution_count": 44,
      "outputs": [
        {
          "output_type": "execute_result",
          "data": {
            "text/plain": [
              "LowQualFinSF    0\n",
              "GrLivArea       0\n",
              "BsmtFullBath    0\n",
              "BsmtFinSF2      0\n",
              "ln_price        0\n",
              "dtype: int64"
            ]
          },
          "metadata": {
            "tags": []
          },
          "execution_count": 44
        }
      ]
    },
    {
      "metadata": {
        "id": "H8lC9cEL-8qJ",
        "colab_type": "code",
        "colab": {}
      },
      "cell_type": "code",
      "source": [
        "# Regression function\n",
        "def run_regression(X, y):\n",
        "    # Split data 80/20 for training and testing\n",
        "    X_train, X_test, y_train, y_test = train_test_split(X, y, test_size=.2, random_state=42)\n",
        "\n",
        "    # Train the model using the training sets\n",
        "    model = LinearRegression()\n",
        "    model.fit(X_train, y_train)\n",
        "\n",
        "    # Make predictions using the testing set\n",
        "    y_pred = model.predict(X_test)\n",
        "\n",
        "    # Intercept value\n",
        "    print(\"\\nIntercept Value:\", model.intercept_)\n",
        "\n",
        "    # The slope coefficient\n",
        "    print(\"Slope Coefficients:\", model.coef_[0])\n",
        "\n",
        "    # Root mean squared error\n",
        "    print(\"RMSE: %.2f\" % mean_squared_error(y_test, y_pred)**0.5)\n",
        "\n",
        "    # Explained variance score: 1 is perfect prediction\n",
        "    print('R^2: %.2f' % r2_score(y_test, y_pred))"
      ],
      "execution_count": 0,
      "outputs": []
    },
    {
      "metadata": {
        "id": "KkKl64c5_O2G",
        "colab_type": "code",
        "colab": {
          "base_uri": "https://localhost:8080/",
          "height": 238
        },
        "outputId": "f58b0e42-980a-49f5-b261-7eb474757ec5"
      },
      "cell_type": "code",
      "source": [
        "# Run the OLS regression \n",
        "# on everything except Id and sale prince and lnprice\n",
        "X = df.iloc[:,1:-2]\n",
        "y = df[['ln_price']]\n",
        "run_regression(X,y)"
      ],
      "execution_count": 208,
      "outputs": [
        {
          "output_type": "stream",
          "text": [
            "\n",
            "Intercept Value: [16.06485943]\n",
            "Slope Coefficients: [-6.19853849e-04  1.82001046e-06  8.77762608e-02  4.59494873e-02\n",
            "  2.93399966e-03  1.28225251e-03  1.37042797e-05  1.94509993e-05\n",
            "  1.11885066e-05 -1.15644272e-06  2.94830632e-05  5.32236159e-05\n",
            "  1.36950494e-05  7.00412192e-05  1.36959885e-04  6.88497755e-02\n",
            "  1.87077018e-02  3.93654815e-02  1.62562910e-02  1.98823329e-03\n",
            " -5.61044819e-02  1.52132635e-02  4.57797192e-02 -1.90661390e-04\n",
            "  7.45466507e-02  1.06694490e-05  1.28615683e-04 -4.42124765e-05\n",
            "  2.07481070e-04  2.87890064e-04  3.21436814e-04 -3.41442467e-04\n",
            " -2.61858972e-06  9.90759951e-04 -6.68234001e-03]\n",
            "RMSE: 0.14\n",
            "R^2: 0.89\n"
          ],
          "name": "stdout"
        }
      ]
    },
    {
      "metadata": {
        "id": "Oj2hXjBjCDu4",
        "colab_type": "text"
      },
      "cell_type": "markdown",
      "source": [
        "# Bivariate Regression Gradient Descent"
      ]
    },
    {
      "metadata": {
        "id": "hfUT5RTyMnuQ",
        "colab_type": "code",
        "colab": {
          "base_uri": "https://localhost:8080/",
          "height": 119
        },
        "outputId": "07338d15-df34-46a5-e5c0-e13921b025ee"
      },
      "cell_type": "code",
      "source": [
        "df.corr()['ln_price'].sort_values()[-5:]"
      ],
      "execution_count": 74,
      "outputs": [
        {
          "output_type": "execute_result",
          "data": {
            "text/plain": [
              "GarageCars     0.679780\n",
              "GrLivArea      0.701458\n",
              "OverallQual    0.816432\n",
              "SalePrice      0.948430\n",
              "ln_price       1.000000\n",
              "Name: ln_price, dtype: float64"
            ]
          },
          "metadata": {
            "tags": []
          },
          "execution_count": 74
        }
      ]
    },
    {
      "metadata": {
        "id": "DatqezTvDWm-",
        "colab_type": "code",
        "colab": {
          "base_uri": "https://localhost:8080/",
          "height": 34
        },
        "outputId": "e2c011a1-a019-430d-f003-3ed6b60c80ed"
      },
      "cell_type": "code",
      "source": [
        "#Grab the relevant data, scale the predictor variable, and add a column of 1s for the gradient descent...\n",
        "x = df['OverallQual']\n",
        "y = df['ln_price']\n",
        "\n",
        "x = (x - x.mean()) / x.std()\n",
        "x = np.c_[np.ones(x.shape[0]), x] \n",
        "\n",
        "# Hyperparams\n",
        "alpha = 0.01 #Step size\n",
        "iterations = 500 #No. of iterations\n",
        "m = y.size #No. of data points\n",
        "np.random.seed(42) #Set the seed\n",
        "theta = np.random.rand(2) #Pick some random values to start with\n",
        "\n",
        "\n",
        "# Gradient descent function\n",
        "def gradient_descent(x, y, theta, iterations, alpha):\n",
        "    past_costs = []\n",
        "    past_thetas = [theta]\n",
        "    for i in range(iterations):\n",
        "        prediction = np.dot(x, theta)\n",
        "        error = prediction - y\n",
        "        cost = 1/(2*m) * np.dot(error.T, error)\n",
        "        past_costs.append(cost)\n",
        "        theta = theta - (alpha * (1/m) * np.dot(x.T, error))\n",
        "        past_thetas.append(theta)\n",
        "        \n",
        "    return past_thetas, past_costs\n",
        "\n",
        "#Pass the relevant variables to the function and get the new values back...\n",
        "past_thetas, past_costs = gradient_descent(x, y, theta, iterations, alpha)\n",
        "theta = past_thetas[-1]\n",
        "\n",
        "#Print the results...\n",
        "print(\"Gradient Descent: {:.2f}, {:.2f}\".format(theta[0], theta[1]))"
      ],
      "execution_count": 210,
      "outputs": [
        {
          "output_type": "stream",
          "text": [
            "Gradient Descent: 11.95, 0.33\n"
          ],
          "name": "stdout"
        }
      ]
    },
    {
      "metadata": {
        "id": "KP1Jx3lYVHSL",
        "colab_type": "code",
        "colab": {
          "base_uri": "https://localhost:8080/",
          "height": 375
        },
        "outputId": "5aaead77-5e96-420a-bbb2-bfb040a88ee4"
      },
      "cell_type": "code",
      "source": [
        "#Plot the cost function...\n",
        "plt.title('Cost Function J')\n",
        "plt.xlabel('No. of iterations')\n",
        "plt.ylabel('Cost')\n",
        "plt.plot(past_costs)\n",
        "plt.show()"
      ],
      "execution_count": 211,
      "outputs": [
        {
          "output_type": "display_data",
          "data": {
            "image/png": "[encoded data removed]",
            "text/plain": [
              "<Figure size 576x396 with 1 Axes>"
            ]
          },
          "metadata": {
            "tags": [],
            "image/png": {
              "width": 493,
              "height": 358
            }
          }
        }
      ]
    },
    {
      "metadata": {
        "id": "Va14wZyHIScO",
        "colab_type": "text"
      },
      "cell_type": "markdown",
      "source": [
        "**Theta list needs to be updated for multi variate cost functions. This is important.**"
      ]
    },
    {
      "metadata": {
        "id": "mq5G-d2fXSSC",
        "colab_type": "text"
      },
      "cell_type": "markdown",
      "source": [
        "# Multiple Regression Gradient Descent"
      ]
    },
    {
      "metadata": {
        "id": "lnq-oyUGhMW1",
        "colab_type": "code",
        "colab": {
          "base_uri": "https://localhost:8080/",
          "height": 34
        },
        "outputId": "f299302e-590c-4a02-b173-2b0f2e214da7"
      },
      "cell_type": "code",
      "source": [
        "# how many 0s to add\n",
        "len(df.iloc[:,1:-2].columns)"
      ],
      "execution_count": 212,
      "outputs": [
        {
          "output_type": "execute_result",
          "data": {
            "text/plain": [
              "35"
            ]
          },
          "metadata": {
            "tags": []
          },
          "execution_count": 212
        }
      ]
    },
    {
      "metadata": {
        "id": "FalrVGJ3GMu9",
        "colab_type": "code",
        "colab": {}
      },
      "cell_type": "code",
      "source": [
        "# Load and standardize x and y\n",
        "imp\n",
        "x = df.iloc[:,1:-2]\n",
        "y = df[['ln_price']].values\n",
        "x = (x - x.mean()) / x.std()\n",
        "y = (y - y.mean()) / y.std()\n",
        "\n",
        "# Setting the matrixes\n",
        "ones = np.ones([x.shape[0],1])\n",
        "x = np.concatenate((ones,x),axis=1)\n",
        "theta = np.zeros([1,36])\n",
        "\n",
        "# Set hyperparams\n",
        "alpha = 0.01\n",
        "iters = 150"
      ],
      "execution_count": 0,
      "outputs": []
    },
    {
      "metadata": {
        "id": "EF3ro9LVa8xR",
        "colab_type": "code",
        "colab": {
          "base_uri": "https://localhost:8080/",
          "height": 34
        },
        "outputId": "3193f2a3-0844-4ee6-c00f-78131d27562b"
      },
      "cell_type": "code",
      "source": [
        "# Cost function\n",
        "def Cost(X,y,theta):\n",
        "    tobesummed = np.power(((X @ theta.T)-y),2)\n",
        "    return np.sum(tobesummed)/(2 * len(X))\n",
        "  \n",
        "Cost(x,y,theta)"
      ],
      "execution_count": 215,
      "outputs": [
        {
          "output_type": "execute_result",
          "data": {
            "text/plain": [
              "0.5"
            ]
          },
          "metadata": {
            "tags": []
          },
          "execution_count": 215
        }
      ]
    },
    {
      "metadata": {
        "id": "XAlv3EyBbubr",
        "colab_type": "text"
      },
      "cell_type": "markdown",
      "source": [
        "Let's use gradient descent to minimize this cost"
      ]
    },
    {
      "metadata": {
        "id": "KWF5nr3tbyK5",
        "colab_type": "code",
        "colab": {
          "base_uri": "https://localhost:8080/",
          "height": 204
        },
        "outputId": "cc09c93e-baa8-4f3f-95b0-74174284ccc3"
      },
      "cell_type": "code",
      "source": [
        "# Gradient descent function\n",
        "def gradientDescent(X,y,theta,iters,alpha):\n",
        "    cost = np.zeros(iters)\n",
        "    for i in range(iters):\n",
        "        theta = theta - (alpha/len(X)) * np.sum(X * (X @ theta.T - y), axis=0)\n",
        "        cost[i] = Cost(X, y, theta)\n",
        "    \n",
        "    return theta,cost\n",
        "\n",
        "# Running the gradient descent and cost function\n",
        "t,cost = gradientDescent(x,y,theta,iters,alpha)\n",
        "print('Updated thetas:\\n',t)\n",
        "\n",
        "finalCost = Cost(x,y,t)\n",
        "print('Mean squared error has been minimized to',finalCost)"
      ],
      "execution_count": 216,
      "outputs": [
        {
          "output_type": "stream",
          "text": [
            "Updated thetas:\n",
            " [[ 4.12954030e-16 -3.79203909e-02  4.02765400e-02  1.92069102e-01\n",
            "   8.58059469e-02  9.84689783e-02  1.04890017e-01  3.01327139e-02\n",
            "   5.66244646e-02  1.28108908e-02  1.62478495e-02  7.99766250e-02\n",
            "   7.95409862e-02  5.63579980e-02 -2.31962506e-03  1.04835848e-01\n",
            "   5.84817237e-02  7.03608209e-03  7.88868495e-02  4.70880969e-02\n",
            "   1.28368406e-02 -5.40713799e-02  7.24320159e-02  9.22495518e-02\n",
            "   6.34665478e-02  9.34332557e-02  6.77456675e-02  4.34862798e-02\n",
            "   1.35763613e-02  7.51654641e-03  1.56405655e-02  4.09170322e-02\n",
            "  -2.24342881e-02 -1.18880041e-03  8.84980147e-03 -1.41493673e-02]]\n",
            "Mean squared error has been minimized to 0.07131740259857636\n"
          ],
          "name": "stdout"
        }
      ]
    },
    {
      "metadata": {
        "id": "r4PGy6ukdrak",
        "colab_type": "code",
        "colab": {
          "base_uri": "https://localhost:8080/",
          "height": 375
        },
        "outputId": "2e72f6f3-bcf3-499a-b9c6-acd0ce5a3630"
      },
      "cell_type": "code",
      "source": [
        "fig, ax = plt.subplots()  \n",
        "ax.plot(np.arange(iters), cost, 'r')  \n",
        "ax.set_xlabel('Iterations')  \n",
        "ax.set_ylabel('Cost')  \n",
        "ax.set_title('Error vs. Training Epoch');"
      ],
      "execution_count": 217,
      "outputs": [
        {
          "output_type": "display_data",
          "data": {
            "image/png": "[encoded data removed]",
            "text/plain": [
              "<Figure size 576x396 with 1 Axes>"
            ]
          },
          "metadata": {
            "tags": [],
            "image/png": {
              "width": 501,
              "height": 358
            }
          }
        }
      ]
    },
    {
      "metadata": {
        "id": "Og6m_SnEGnCX",
        "colab_type": "code",
        "colab": {
          "base_uri": "https://localhost:8080/",
          "height": 105
        },
        "outputId": "e5693b09-7c57-403d-ec65-a1219012d604"
      },
      "cell_type": "code",
      "source": [
        "# # Load and standardize features\n",
        "# X = df.iloc[:,1:-2]\n",
        "# y = df[['ln_price']]\n",
        "# scaler = StandardScaler()\n",
        "# X_std = scaler.fit_transform(X)"
      ],
      "execution_count": 221,
      "outputs": [
        {
          "output_type": "stream",
          "text": [
            "/usr/local/lib/python3.6/dist-packages/sklearn/preprocessing/data.py:625: DataConversionWarning: Data with input dtype int64, float64 were all converted to float64 by StandardScaler.\n",
            "  return self.partial_fit(X, y)\n",
            "/usr/local/lib/python3.6/dist-packages/sklearn/base.py:462: DataConversionWarning: Data with input dtype int64, float64 were all converted to float64 by StandardScaler.\n",
            "  return self.fit(X, **fit_params).transform(X)\n"
          ],
          "name": "stderr"
        }
      ]
    },
    {
      "metadata": {
        "id": "Qtci-rD2K24_",
        "colab_type": "text"
      },
      "cell_type": "markdown",
      "source": [
        "**Gradient Descent Overview**\n",
        "\n",
        "Traditional gradient descent methods don't work well when there's lots of data. Stochastic gradient descent can be used to greatly reduce the time. By randomly select a subset of data at every step in the gradient, SGD reduces the time spent calculating the derivatives of the loss function. Regardless of which loss function we use, gradient descent works the same way:\n",
        "\n",
        "1. Take the derivative of the loss function for each parameter in it. (gradient of the loss function).\n",
        "2. Pick random values for the parameters.\n",
        "3. Plug the parameter values into the derivatives (gradient).\n",
        "4. Calculate the step sizes. Step size = slope * learning rate\n",
        "5. Calculate the new parameters. New parameter = old param - step size.\n",
        "6. Go back to step 3 until step size is very small or you reach the maximum number of iterations."
      ]
    },
    {
      "metadata": {
        "id": "RCs6EmWhYPM-",
        "colab_type": "text"
      },
      "cell_type": "markdown",
      "source": [
        "## Stretch Goals\n",
        "\n",
        "If you happen upon the most useful resources for accomplishing this challenge first, I want you to spend time today studying other variations of Gradient Descent-Based Optimizers.\n",
        "\n",
        "- Try and write a function that can perform gradient descent for arbitarily large (in dimensionality) multiple regression models. \n",
        "- Create a notebook for yourself exploring these topics\n",
        "- How do they differ from the \"vanilla\" gradient descent we explored today\n",
        "- How do these different gradient descent-based optimizers seek to overcome the challenge of finding the global minimum among various local minima?\n",
        "- Write a blog post that reteaches what you have learned about these other gradient descent-based optimizers.\n",
        "\n",
        "[Overview of GD-based optimizers](http://ruder.io/optimizing-gradient-descent/)\n",
        "\n",
        "[Siraj Raval - Evolution of Gradient Descent-Based Optimizers](https://youtu.be/nhqo0u1a6fw)"
      ]
    }
  ]
}