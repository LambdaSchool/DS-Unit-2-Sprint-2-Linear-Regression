{
  "nbformat": 4,
  "nbformat_minor": 0,
  "metadata": {
    "colab": {
      "name": "Gradient Descent Assignment.ipynb",
      "version": "0.3.2",
      "provenance": [],
      "collapsed_sections": [],
      "include_colab_link": true
    },
    "kernelspec": {
      "name": "python3",
      "display_name": "Python 3"
    }
  },
  "cells": [
    {
      "cell_type": "markdown",
      "metadata": {
        "id": "view-in-github",
        "colab_type": "text"
      },
      "source": [
        "<a href=\"https://colab.research.google.com/github/BrianBehnke/DS-Unit-2-Sprint-2-Linear-Regression/blob/master/module3-gradient-descent/Gradient_Descent_Assignment.ipynb\" target=\"_parent\"><img src=\"https://colab.research.google.com/assets/colab-badge.svg\" alt=\"Open In Colab\"/></a>"
      ]
    },
    {
      "metadata": {
        "id": "Qhm0Y_jqXKRv",
        "colab_type": "text"
      },
      "cell_type": "markdown",
      "source": [
        "# Gradient Descent Implementation Challenge!!\n",
        "\n",
        "## Use gradient descent to find the optimal parameters of a **multiple** regression model. (We only showed an implementation for a bivariate model during lecture.)\n",
        "\n",
        "A note: Implementing gradient descent in any context is not trivial, particularly the step where we calculate the gradient will change based on the number of parameters that we're trying to optimize for. You will need to research what the gradient of a multiple regression model looks like. This challenge is pretty open-ended but I hope it will be thrilling. Please work together, help each other, share resources and generally expand your understanding of gradient descent as you try and achieve this implementation. \n",
        "\n",
        "## Suggestions:\n",
        "\n",
        "Start off with a model that has just two $X$ variables You can use any datasets that have at least two x variables. Potential candidates might be the blood pressure dataset that we used during lecture on Monday: [HERE](https://college.cengage.com/mathematics/brase/understandable_statistics/7e/students/datasets/mlr/excel/mlr02.xls) or any of the housing datasets. You would just need to select from them the two varaibles $x$ variables and one y variable that you want to work with that you most want to work with. \n",
        "\n",
        "Use Sklearn to find the optimal parameters of your model first. (like we did during the lecture.) So that you can compare the parameter estimates of your gradient-descent linear regression to the estimates of OLS linear regression. If implemented correctly they should be nearly identical.\n",
        "\n",
        "Becoming a Data Scientist is all about striking out into the unknown, getting stuck and then researching and fighting and learning until you get yourself unstuck. Work together! And fight to take your own learning-rate fueled step towards your own optimal understanding of gradient descent! \n"
      ]
    },
    {
      "metadata": {
        "id": "_tWzF6IqXIIq",
        "colab_type": "code",
        "colab": {}
      },
      "cell_type": "code",
      "source": [
        "import pandas as pd\n",
        "import numpy as np\n",
        "import matplotlib.pyplot as plt\n",
        "from sklearn.linear_model import LinearRegression"
      ],
      "execution_count": 0,
      "outputs": []
    },
    {
      "metadata": {
        "id": "zQoZJXLMKPP4",
        "colab_type": "code",
        "colab": {
          "base_uri": "https://localhost:8080/",
          "height": 221
        },
        "outputId": "23208be5-b731-4ac7-8249-ceb5586b5cbf"
      },
      "cell_type": "code",
      "source": [
        "# # Read Data\n",
        "df = pd.read_excel('https://college.cengage.com/mathematics/brase/understandable_statistics/7e/students/datasets/mlr/excel/mlr02.xls')\n",
        "df.head()"
      ],
      "execution_count": 28,
      "outputs": [
        {
          "output_type": "stream",
          "text": [
            "*** No CODEPAGE record, no encoding_override: will use 'ascii'\n"
          ],
          "name": "stdout"
        },
        {
          "output_type": "execute_result",
          "data": {
            "text/html": [
              "<div>\n",
              "<style scoped>\n",
              "    .dataframe tbody tr th:only-of-type {\n",
              "        vertical-align: middle;\n",
              "    }\n",
              "\n",
              "    .dataframe tbody tr th {\n",
              "        vertical-align: top;\n",
              "    }\n",
              "\n",
              "    .dataframe thead th {\n",
              "        text-align: right;\n",
              "    }\n",
              "</style>\n",
              "<table border=\"1\" class=\"dataframe\">\n",
              "  <thead>\n",
              "    <tr style=\"text-align: right;\">\n",
              "      <th></th>\n",
              "      <th>X1</th>\n",
              "      <th>X2</th>\n",
              "      <th>X3</th>\n",
              "    </tr>\n",
              "  </thead>\n",
              "  <tbody>\n",
              "    <tr>\n",
              "      <th>0</th>\n",
              "      <td>132</td>\n",
              "      <td>52</td>\n",
              "      <td>173</td>\n",
              "    </tr>\n",
              "    <tr>\n",
              "      <th>1</th>\n",
              "      <td>143</td>\n",
              "      <td>59</td>\n",
              "      <td>184</td>\n",
              "    </tr>\n",
              "    <tr>\n",
              "      <th>2</th>\n",
              "      <td>153</td>\n",
              "      <td>67</td>\n",
              "      <td>194</td>\n",
              "    </tr>\n",
              "    <tr>\n",
              "      <th>3</th>\n",
              "      <td>162</td>\n",
              "      <td>73</td>\n",
              "      <td>211</td>\n",
              "    </tr>\n",
              "    <tr>\n",
              "      <th>4</th>\n",
              "      <td>154</td>\n",
              "      <td>64</td>\n",
              "      <td>196</td>\n",
              "    </tr>\n",
              "  </tbody>\n",
              "</table>\n",
              "</div>"
            ],
            "text/plain": [
              "    X1  X2   X3\n",
              "0  132  52  173\n",
              "1  143  59  184\n",
              "2  153  67  194\n",
              "3  162  73  211\n",
              "4  154  64  196"
            ]
          },
          "metadata": {
            "tags": []
          },
          "execution_count": 28
        }
      ]
    },
    {
      "metadata": {
        "id": "lDlpKWYvoA_r",
        "colab_type": "code",
        "colab": {
          "base_uri": "https://localhost:8080/",
          "height": 376
        },
        "outputId": "9efd2da6-e36d-4381-cb38-57ca0c0d9441"
      },
      "cell_type": "code",
      "source": [
        "# Creat Scatterplot\n",
        "plt.scatter(df.X1, df.X2)\n",
        "\n",
        "X = df.X1[:, np.newaxis]\n",
        "y = df.X2\n",
        "\n",
        "# Create Hypothesis Function Lines\n",
        "h1 = [30*x - 500 for x in X]\n",
        "h2 = [10*x + 0 for x in X]\n",
        "h3 = [-10*x + 1000 for x in X]\n",
        "plt.plot(X, h1)\n",
        "plt.plot(X, h2)\n",
        "plt.plot(X, h3)\n",
        "# plt.plot(x_value, prediction, 'ro')\n",
        "\n",
        "# Graph axes and title\n",
        "plt.ylabel(\"X1\")\n",
        "plt.xlabel(\"X2\")\n",
        "plt.title(\"Hypothesis Functions\")\n",
        "\n",
        "# Plot Hypothesis Functions\n",
        "plt.show();"
      ],
      "execution_count": 29,
      "outputs": [
        {
          "output_type": "display_data",
          "data": {
            "image/png": "[encoded data removed]",
            "text/plain": [
              "<matplotlib.figure.Figure at 0x7fbfdc12ecf8>"
            ]
          },
          "metadata": {
            "tags": []
          }
        }
      ]
    },
    {
      "metadata": {
        "id": "aSOgvXtgo-Gh",
        "colab_type": "code",
        "colab": {
          "base_uri": "https://localhost:8080/",
          "height": 410
        },
        "outputId": "ba4ba337-c115-497b-fcb3-92b3d3cf3b60"
      },
      "cell_type": "code",
      "source": [
        "# Fit Model\n",
        "model = LinearRegression()\n",
        "model.fit(X, y)\n",
        "\n",
        "# Assign coefficient and intercept to variables (beta_1, and beta_0)\n",
        "beta_1 = model.coef_[0]\n",
        "beta_0 = model.intercept_\n",
        "\n",
        "print(beta_1)\n",
        "print(beta_0)\n",
        "\n",
        "# Make a single prediction for 145 X2\n",
        "x_value = 145\n",
        "\n",
        "# Calculate predicted value\n",
        "prediction = beta_1*x_value + beta_0\n",
        "\n",
        "# Creat Scatterplot\n",
        "plt.scatter(df.X1, df.X2)\n",
        "\n",
        "# Plot the Regression Line and predicted value\n",
        "y_hat = [beta_1*x + beta_0 for x in X]\n",
        "plt.plot(X, y_hat)\n",
        "plt.plot(x_value, prediction, 'ro')\n",
        "\n",
        "# Graph axes and title\n",
        "plt.ylabel(\"X1\")\n",
        "plt.xlabel(\"X2\")\n",
        "plt.title(\"Blood Pressure\")\n",
        "\n",
        "# Plot the error (residual)\n",
        "plt.arrow(55.2, 600, 0, 150, color='black')\n",
        "plt.show();"
      ],
      "execution_count": 31,
      "outputs": [
        {
          "output_type": "stream",
          "text": [
            "0.6546068735924802\n",
            "-35.795995300107705\n"
          ],
          "name": "stdout"
        },
        {
          "output_type": "display_data",
          "data": {
            "image/png": "[encoded data removed]",
            "text/plain": [
              "<matplotlib.figure.Figure at 0x7fbfdbf89f98>"
            ]
          },
          "metadata": {
            "tags": []
          }
        }
      ]
    },
    {
      "metadata": {
        "id": "wMFqKz9Rp-So",
        "colab_type": "code",
        "colab": {
          "base_uri": "https://localhost:8080/",
          "height": 529
        },
        "outputId": "e58afe5c-3cc5-4a77-d63f-efef8324c431"
      },
      "cell_type": "code",
      "source": [
        "# Define a function that can calculate SSE for any hypothesis function\n",
        "# print(X)\n",
        "# print(y)\n",
        "\n",
        "def SSE(theta_0, theta_1, y, X):\n",
        "  squared_residuals = []\n",
        "  for index, value in enumerate(y):\n",
        "    h_x = theta_0 + theta_1*X[index][0]\n",
        "    residual = h_x - value\n",
        "    squared_residual = residual**2\n",
        "    squared_residuals.append(squared_residual)\n",
        "  return sum(squared_residuals)\n",
        "    \n",
        "SSE_1 = SSE(-36, .57, y, X)\n",
        "SSE_2 = SSE(-36, .59, y, X)\n",
        "SSE_3 = SSE(-36, .61, y, X)\n",
        "SSE_4 = SSE(-36, .63, y, X)\n",
        "SSE_5 = SSE(-36, .65, y, X)\n",
        "SSE_6 = SSE(-36, .67, y, X)\n",
        "SSE_7 = SSE(-36, .69, y, X)\n",
        "SSE_8 = SSE(-36, .71, y, X)\n",
        "SSE_9 = SSE(-36, .73, y, X)\n",
        "\n",
        "print(SSE_1)\n",
        "print(SSE_2)\n",
        "print(SSE_3)\n",
        "print(SSE_4)\n",
        "print(SSE_5)\n",
        "print(SSE_6)\n",
        "print(SSE_7)\n",
        "print(SSE_8)\n",
        "print(SSE_9)\n",
        "\n",
        "plt.scatter([.57,.59,.61,.63,.65,.67,.69,.71,.73], [SSE_1, SSE_2, SSE_3, SSE_4, SSE_5, SSE_6, SSE_7, SSE_8, SSE_9])\n",
        "plt.title(\"Cost Function h(x) holding theta_0 fixed\")\n",
        "plt.xlabel('theta_1')\n",
        "plt.ylabel('SSE');"
      ],
      "execution_count": 33,
      "outputs": [
        {
          "output_type": "stream",
          "text": [
            "1879.5993000000024\n",
            "1121.081700000001\n",
            "562.2897000000004\n",
            "203.2232999999999\n",
            "43.88250000000005\n",
            "84.26730000000028\n",
            "324.377699999999\n",
            "764.2136999999994\n",
            "1403.775299999999\n"
          ],
          "name": "stdout"
        },
        {
          "output_type": "display_data",
          "data": {
            "image/png": "[encoded data removed]",
            "text/plain": [
              "<matplotlib.figure.Figure at 0x7fbfdbf03400>"
            ]
          },
          "metadata": {
            "tags": []
          }
        }
      ]
    },
    {
      "metadata": {
        "id": "G_LaKvLZqnNu",
        "colab_type": "code",
        "colab": {
          "base_uri": "https://localhost:8080/",
          "height": 51
        },
        "outputId": "afff11f0-3a0d-4e15-a2f2-3debeca5fefa"
      },
      "cell_type": "code",
      "source": [
        "## Lets implement it and see how close GD comes to sklearn!\n",
        "# Lets Implement it!!!\n",
        "# First we'll calculate our parameters using sklearn to see how close our \n",
        "# Gradient Descent Method gets. \n",
        "\n",
        "# Read Data\n",
        "#df = pd.read_csv('https://raw.githubusercontent.com/ryanleeallred/datasets/master/Ice_Cream_Sales.csv')\n",
        "\n",
        "# Create X matrix and y vector\n",
        "X = df['X1'].values[:, np.newaxis]\n",
        "\n",
        "# If we don't do this our GD stuff will break\n",
        "X = (X - X.mean()) / X.std()\n",
        "\n",
        "# Matrix version makes cool linalg tricks possible\n",
        "X_linalg = np.c_[np.ones(X.shape[0]), X] \n",
        "\n",
        "#print(X_linalg)\n",
        "\n",
        "# Boring y variable list\n",
        "y = df['X2'].values\n",
        "\n",
        "# Fit Model\n",
        "model = LinearRegression()\n",
        "model.fit(X, y)\n",
        "\n",
        "# Assign coefficient and intercept to variables (beta_1, and beta_0)\n",
        "beta_1 = model.coef_[0]\n",
        "beta_0 = model.intercept_\n",
        "\n",
        "print(\"beta_1: \", beta_1)\n",
        "print(\"beta_0: \", beta_0);"
      ],
      "execution_count": 37,
      "outputs": [
        {
          "output_type": "stream",
          "text": [
            "beta_1:  8.50510226387961\n",
            "beta_0:  62.45454545454545\n"
          ],
          "name": "stdout"
        }
      ]
    },
    {
      "metadata": {
        "id": "SltoBXzkrDp-",
        "colab_type": "code",
        "colab": {
          "base_uri": "https://localhost:8080/",
          "height": 376
        },
        "outputId": "ff8ec335-25a0-478f-e780-6cf28c533f95"
      },
      "cell_type": "code",
      "source": [
        "plt.scatter(X,y)\n",
        "\n",
        "# Add axes and title\n",
        "plt.ylabel(\"X2\")\n",
        "plt.xlabel(\"X1\")\n",
        "plt.title(\"Blood Pressure, systolic and diastolic\")\n",
        "plt.show();"
      ],
      "execution_count": 40,
      "outputs": [
        {
          "output_type": "display_data",
          "data": {
            "image/png": "[encoded data removed]",
            "text/plain": [
              "<matplotlib.figure.Figure at 0x7fbfdc03afd0>"
            ]
          },
          "metadata": {
            "tags": []
          }
        }
      ]
    },
    {
      "metadata": {
        "id": "wonNII1Ors8N",
        "colab_type": "code",
        "colab": {}
      },
      "cell_type": "code",
      "source": [
        "# Initial Variables\n",
        "alpha = .01\n",
        "iterations = 2000\n",
        "n = len(y)\n",
        "np.random.seed(15)\n",
        "theta = [0, 0]"
      ],
      "execution_count": 0,
      "outputs": []
    },
    {
      "metadata": {
        "id": "2frzHYFArvPH",
        "colab_type": "code",
        "colab": {
          "base_uri": "https://localhost:8080/",
          "height": 34
        },
        "outputId": "238179e0-70e0-452b-af9e-fd7ef1a36463"
      },
      "cell_type": "code",
      "source": [
        "prediction = np.dot(X_linalg, theta)\n",
        "# print(X_linalg)\n",
        "print(prediction)"
      ],
      "execution_count": 43,
      "outputs": [
        {
          "output_type": "stream",
          "text": [
            "[0. 0. 0. 0. 0. 0. 0. 0. 0. 0. 0.]\n"
          ],
          "name": "stdout"
        }
      ]
    },
    {
      "metadata": {
        "id": "EMvyBndTrzL1",
        "colab_type": "code",
        "colab": {
          "base_uri": "https://localhost:8080/",
          "height": 34
        },
        "outputId": "4d8b0929-e626-4062-b56e-9f71790f4e50"
      },
      "cell_type": "code",
      "source": [
        "# print('y: \\n', y)\n",
        "error = prediction - y\n",
        "print(error)"
      ],
      "execution_count": 44,
      "outputs": [
        {
          "output_type": "stream",
          "text": [
            "[-52. -59. -67. -73. -64. -74. -54. -61. -65. -46. -72.]\n"
          ],
          "name": "stdout"
        }
      ]
    },
    {
      "metadata": {
        "id": "Kz75D1Tir1XM",
        "colab_type": "code",
        "colab": {
          "base_uri": "https://localhost:8080/",
          "height": 34
        },
        "outputId": "b900116f-879c-4d52-9e80-31e3adba2364"
      },
      "cell_type": "code",
      "source": [
        "theta = theta - (alpha * (1/n) * np.dot(X.T, error))\n",
        "# print((alpha * (1/n) * np.dot(X.T, error)))\n",
        "print(theta)"
      ],
      "execution_count": 45,
      "outputs": [
        {
          "output_type": "stream",
          "text": [
            "[0.08505102 0.08505102]\n"
          ],
          "name": "stdout"
        }
      ]
    },
    {
      "metadata": {
        "id": "jGs3qqQXr3uF",
        "colab_type": "code",
        "colab": {
          "base_uri": "https://localhost:8080/",
          "height": 34
        },
        "outputId": "b7699841-318f-4914-a3d6-b959ea514292"
      },
      "cell_type": "code",
      "source": [
        "# Put it all together\n",
        "def gradient_descent(X, y, theta, iterations, alpha):\n",
        "  for _ in range(iterations):\n",
        "    prediction = np.dot(X, theta)\n",
        "    error = prediction - y\n",
        "    updates = (alpha * (1/n) * np.dot(X.T, error))\n",
        "#     print(updates)\n",
        "    theta = theta - updates\n",
        "  return theta\n",
        "  \n",
        "gradient_descent(X_linalg, y, theta, iterations, alpha)"
      ],
      "execution_count": 46,
      "outputs": [
        {
          "output_type": "execute_result",
          "data": {
            "text/plain": [
              "array([62.45454534,  8.50510225])"
            ]
          },
          "metadata": {
            "tags": []
          },
          "execution_count": 46
        }
      ]
    },
    {
      "metadata": {
        "id": "s4YPw3mjsWSb",
        "colab_type": "code",
        "colab": {
          "base_uri": "https://localhost:8080/",
          "height": 34
        },
        "outputId": "a20a6302-bc84-4c15-a73b-da59aca629db"
      },
      "cell_type": "code",
      "source": [
        "# We need to save all of our thetas so that we can make our animation\n",
        "\n",
        "# Put it all together\n",
        "def gradient_descent(x, y, theta, iterations, alpha):\n",
        "    past_costs = []\n",
        "    past_thetas = [theta]\n",
        "    for i in range(iterations):\n",
        "        prediction = np.dot(x, theta)\n",
        "        error = prediction - y\n",
        "        cost = 1/(2*n) * np.dot(error.T, error)\n",
        "        past_costs.append(cost)\n",
        "        theta = theta - (alpha * (1/n) * np.dot(x.T, error))\n",
        "        past_thetas.append(theta)\n",
        "    return past_thetas, past_costs\n",
        "\n",
        "past_thetas, past_costs = gradient_descent(X_linalg, y, theta, iterations, alpha)\n",
        "\n",
        "final_theta = past_thetas[-1]\n",
        "\n",
        "print(\"Gradient Descent Results: {:.5f}, {:.5f}\".format(final_theta[0], final_theta[1]))"
      ],
      "execution_count": 47,
      "outputs": [
        {
          "output_type": "stream",
          "text": [
            "Gradient Descent Results: 62.45455, 8.50510\n"
          ],
          "name": "stdout"
        }
      ]
    },
    {
      "metadata": {
        "id": "w2fnzDqks4_E",
        "colab_type": "code",
        "colab": {}
      },
      "cell_type": "code",
      "source": [
        ""
      ],
      "execution_count": 0,
      "outputs": []
    },
    {
      "metadata": {
        "id": "RCs6EmWhYPM-",
        "colab_type": "text"
      },
      "cell_type": "markdown",
      "source": [
        "## Stretch Goals\n",
        "\n",
        "If you happen upon the most useful resources for accomplishing this challenge first, I want you to spend time today studying other variations of Gradient Descent-Based Optimizers.\n",
        "\n",
        "- Try and write a function that can perform gradient descent for arbitarily large (in dimensionality) multiple regression models. \n",
        "- Create a notebook for yourself exploring these topics\n",
        "- How do they differ from the \"vanilla\" gradient descent we explored today\n",
        "- How do these different gradient descent-based optimizers seek to overcome the challenge of finding the global minimum among various local minima?\n",
        "- Write a blog post that reteaches what you have learned about these other gradient descent-based optimizers.\n",
        "\n",
        "[Overview of GD-based optimizers](http://ruder.io/optimizing-gradient-descent/)\n",
        "\n",
        "[Siraj Raval - Evolution of Gradient Descent-Based Optimizers](https://youtu.be/nhqo0u1a6fw)"
      ]
    }
  ]
}