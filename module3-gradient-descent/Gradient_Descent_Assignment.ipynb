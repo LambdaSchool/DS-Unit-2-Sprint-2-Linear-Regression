{
  "nbformat": 4,
  "nbformat_minor": 0,
  "metadata": {
    "colab": {
      "name": "Gradient Descent Assignment.ipynb",
      "version": "0.3.2",
      "provenance": []
    },
    "kernelspec": {
      "name": "python3",
      "display_name": "Python 3"
    }
  },
  "cells": [
    {
      "metadata": {
        "id": "Qhm0Y_jqXKRv",
        "colab_type": "text"
      },
      "cell_type": "markdown",
      "source": [
        "# Gradient Descent Implementation Challenge!!\n",
        "\n",
        "## Use gradient descent to find the optimal parameters of a **multiple** regression model. (We only showed an implementation for a bivariate model during lecture.)\n",
        "\n",
        "A note: Implementing gradient descent in any context is not trivial, particularly the step where we calculate the gradient will change based on the number of parameters that we're trying to optimize for. You will need to research what the gradient of a multiple regression model looks like. This challenge is pretty open-ended but I hope it will be thrilling. Please work together, help each other, share resources and generally expand your understanding of gradient descent as you try and achieve this implementation. \n",
        "\n",
        "## Suggestions:\n",
        "\n",
        "Start off with a model that has just two $X$ variables You can use any datasets that have at least two x variables. Potential candidates might be the blood pressure dataset that we used during lecture on Monday: [HERE](https://college.cengage.com/mathematics/brase/understandable_statistics/7e/students/datasets/mlr/excel/mlr02.xls) or any of the housing datasets. You would just need to select from them the two varaibles $x$ variables and one y variable that you want to work with that you most want to work with. \n",
        "\n",
        "Use Sklearn to find the optimal parameters of your model first. (like we did during the lecture.) So that you can compare the parameter estimates of your gradient-descent linear regression to the estimates of OLS linear regression. If implemented correctly they should be nearly identical.\n",
        "\n",
        "Becoming a Data Scientist is all about striking out into the unknown, getting stuck and then researching and fighting and learning until you get yourself unstuck. Work together! And fight to take your own learning-rate fueled step towards your own optimal understanding of gradient descent! \n"
      ]
    },
    {
      "metadata": {
        "id": "YEb8PI1mlCZH",
        "colab_type": "code",
        "outputId": "be1c9542-9dc4-4f6e-da59-e9c34fe726d9",
        "colab": {
          "base_uri": "https://localhost:8080/",
          "height": 101
        }
      },
      "cell_type": "code",
      "source": [
        "!pip3 uninstall seaborn"
      ],
      "execution_count": 0,
      "outputs": [
        {
          "output_type": "stream",
          "text": [
            "Uninstalling seaborn-0.9.0:\n",
            "  Would remove:\n",
            "    /usr/local/lib/python3.6/dist-packages/seaborn-0.9.0.dist-info/*\n",
            "    /usr/local/lib/python3.6/dist-packages/seaborn/*\n",
            "Proceed (y/n)? n\n"
          ],
          "name": "stdout"
        }
      ]
    },
    {
      "metadata": {
        "id": "JhkJfdddlCh2",
        "colab_type": "code",
        "outputId": "3326fb58-bb62-432f-a627-4027520bdd5a",
        "colab": {
          "base_uri": "https://localhost:8080/",
          "height": 238
        }
      },
      "cell_type": "code",
      "source": [
        "!pip3 --no-cache-dir install seaborn"
      ],
      "execution_count": 0,
      "outputs": [
        {
          "output_type": "stream",
          "text": [
            "Requirement already satisfied: seaborn in /usr/local/lib/python3.6/dist-packages (0.9.0)\n",
            "Requirement already satisfied: scipy>=0.14.0 in /usr/local/lib/python3.6/dist-packages (from seaborn) (1.1.0)\n",
            "Requirement already satisfied: matplotlib>=1.4.3 in /usr/local/lib/python3.6/dist-packages (from seaborn) (3.0.2)\n",
            "Requirement already satisfied: numpy>=1.9.3 in /usr/local/lib/python3.6/dist-packages (from seaborn) (1.14.6)\n",
            "Requirement already satisfied: pandas>=0.15.2 in /usr/local/lib/python3.6/dist-packages (from seaborn) (0.22.0)\n",
            "Requirement already satisfied: cycler>=0.10 in /usr/local/lib/python3.6/dist-packages (from matplotlib>=1.4.3->seaborn) (0.10.0)\n",
            "Requirement already satisfied: kiwisolver>=1.0.1 in /usr/local/lib/python3.6/dist-packages (from matplotlib>=1.4.3->seaborn) (1.0.1)\n",
            "Requirement already satisfied: python-dateutil>=2.1 in /usr/local/lib/python3.6/dist-packages (from matplotlib>=1.4.3->seaborn) (2.5.3)\n",
            "Requirement already satisfied: pyparsing!=2.0.4,!=2.1.2,!=2.1.6,>=2.0.1 in /usr/local/lib/python3.6/dist-packages (from matplotlib>=1.4.3->seaborn) (2.3.1)\n",
            "Requirement already satisfied: pytz>=2011k in /usr/local/lib/python3.6/dist-packages (from pandas>=0.15.2->seaborn) (2018.9)\n",
            "Requirement already satisfied: six in /usr/local/lib/python3.6/dist-packages (from cycler>=0.10->matplotlib>=1.4.3->seaborn) (1.11.0)\n",
            "Requirement already satisfied: setuptools in /usr/local/lib/python3.6/dist-packages (from kiwisolver>=1.0.1->matplotlib>=1.4.3->seaborn) (40.6.3)\n"
          ],
          "name": "stdout"
        }
      ]
    },
    {
      "metadata": {
        "id": "e0VmHG4Ky4ou",
        "colab_type": "code",
        "colab": {}
      },
      "cell_type": "code",
      "source": [
        "import matplotlib.pyplot as plt\n",
        "import numpy as np\n",
        "import pandas as pd\n",
        "import seaborn as sns\n",
        "\n",
        "from matplotlib import animation\n",
        "from mpl_toolkits.mplot3d import Axes3D\n",
        "from scipy import stats\n",
        "from sklearn.linear_model import LinearRegression\n",
        "from sklearn.metrics import mean_squared_error, r2_score\n",
        "from sklearn.model_selection import train_test_split\n",
        "from sklearn.preprocessing import MinMaxScaler, RobustScaler, StandardScaler "
      ],
      "execution_count": 0,
      "outputs": []
    },
    {
      "metadata": {
        "id": "6qhtaYS3D6et",
        "colab_type": "text"
      },
      "cell_type": "markdown",
      "source": [
        "# Spring Cleaning"
      ]
    },
    {
      "metadata": {
        "id": "HpeAQTz2y-6b",
        "colab_type": "code",
        "colab": {}
      },
      "cell_type": "code",
      "source": [
        "df = pd.read_csv('https://raw.githubusercontent.com/ryanleeallred/datasets/master/Ames%20Housing%20Data/train.csv')\n",
        "df = df.drop(['Id'], axis=1)\n",
        "df = df.fillna(0)\n",
        "\n",
        "\n",
        "def clean_cat(df):\n",
        "  for col_name in df.columns:\n",
        "      if(df[col_name].dtype == 'object'):\n",
        "          df[col_name]= df[col_name].astype('category')\n",
        "          df[col_name] = df[col_name].cat.codes\n",
        "          \n",
        "\n",
        "\n",
        "clean_cat(df)\n",
        "\n"
      ],
      "execution_count": 0,
      "outputs": []
    },
    {
      "metadata": {
        "id": "K0gAAnPiSJH8",
        "colab_type": "text"
      },
      "cell_type": "markdown",
      "source": [
        "# Kill The Outliers~"
      ]
    },
    {
      "metadata": {
        "id": "nq_hb9RZSLmu",
        "colab_type": "code",
        "colab": {}
      },
      "cell_type": "code",
      "source": [
        "df = df[(np.abs(stats.zscore(df)) < 3).all(axis=1)]"
      ],
      "execution_count": 0,
      "outputs": []
    },
    {
      "metadata": {
        "id": "5oxzQSn1SRmu",
        "colab_type": "text"
      },
      "cell_type": "markdown",
      "source": [
        "# There's a bump on the log in the whole at the bottom of the sea!"
      ]
    },
    {
      "metadata": {
        "id": "qyPkhV8PSWr6",
        "colab_type": "code",
        "colab": {}
      },
      "cell_type": "code",
      "source": [
        "df['log_price'] = np.log(df['SalePrice'])"
      ],
      "execution_count": 0,
      "outputs": []
    },
    {
      "metadata": {
        "id": "K9yF47vkSNJq",
        "colab_type": "code",
        "colab": {}
      },
      "cell_type": "code",
      "source": [
        "df = df.astype('float64')"
      ],
      "execution_count": 0,
      "outputs": []
    },
    {
      "metadata": {
        "id": "Nu1TkIcLNZhA",
        "colab_type": "code",
        "outputId": "9379e050-9e12-4095-dc02-29bf085f8644",
        "colab": {
          "base_uri": "https://localhost:8080/",
          "height": 34
        }
      },
      "cell_type": "code",
      "source": [
        "df.shape"
      ],
      "execution_count": 0,
      "outputs": [
        {
          "output_type": "execute_result",
          "data": {
            "text/plain": [
              "(601, 81)"
            ]
          },
          "metadata": {
            "tags": []
          },
          "execution_count": 59
        }
      ]
    },
    {
      "metadata": {
        "id": "M9sgfjbAh_Co",
        "colab_type": "text"
      },
      "cell_type": "markdown",
      "source": [
        "Filter the features you want"
      ]
    },
    {
      "metadata": {
        "id": "YcRNMbcZPsXI",
        "colab_type": "code",
        "colab": {}
      },
      "cell_type": "code",
      "source": [
        "\n",
        "df1 = df[['GrLivArea', 'OverallQual', 'TotalBsmtSF', 'GarageArea', \n",
        "               'GarageCars', 'OverallCond']]\n",
        "\n",
        "df2 = df[['log_price']]\n",
        "\n",
        "df_X = df1.values\n",
        "df_y = df2.values"
      ],
      "execution_count": 0,
      "outputs": []
    },
    {
      "metadata": {
        "id": "B_d3M6myqV-l",
        "colab_type": "text"
      },
      "cell_type": "markdown",
      "source": [
        "#'\"One road leads home and a thousand roads lead into the wilderness'"
      ]
    },
    {
      "metadata": {
        "id": "iEJvuRZoqksA",
        "colab_type": "code",
        "outputId": "20faf87a-e1f9-426a-9209-183c34a7dfba",
        "colab": {
          "base_uri": "https://localhost:8080/",
          "height": 104
        }
      },
      "cell_type": "code",
      "source": [
        "# Slit into test and train datasets\n",
        "X_train, X_test, Y_train, Y_test = train_test_split(df_X, df_y, test_size=.30, \n",
        "                                                    random_state=42)\n",
        "\n",
        "# i use the StadardScaler here because i took the liberty of identifying and \n",
        "# removing my outliers previously with the IQR as a baseline\n",
        "scaler = StandardScaler() \n",
        "\n",
        "X_train = scaler.fit_transform(X_train)\n",
        "\n",
        "# do not fit the test data\n",
        "X_test = scaler.transform(X_test)\n",
        "\n",
        "# fit model using train datasets\n",
        "model = LinearRegression()\n",
        "model.fit(X_train, Y_train)\n",
        "\n",
        "# Create new predictions using x_test\n",
        "y_pred = model.predict(X_test)\n",
        "\n",
        "# Measure Accuracy using y_test and y_pred\n",
        "RMSE = (np.sqrt(mean_squared_error(Y_test, y_pred)))\n",
        "R2 = r2_score(Y_test, y_pred)\n",
        "\n",
        "print('RMSE is {}'.format(RMSE))\n",
        "print('R^2 is {}'.format(R2))\n",
        "\n",
        "print(\"coefficients: \", model.coef_)\n",
        "print(\"intercepts: \", model.intercept_)\n",
        "\n",
        "\n",
        "n_weights = model.coef_[0]"
      ],
      "execution_count": 0,
      "outputs": [
        {
          "output_type": "stream",
          "text": [
            "RMSE is 0.10617469002991745\n",
            "R^2 is 0.8830403545738551\n",
            "coefficients:  [[0.12305334 0.10919061 0.06822874 0.01890223 0.04837632 0.01921387]]\n",
            "intercepts:  [12.06716579]\n"
          ],
          "name": "stdout"
        }
      ]
    },
    {
      "metadata": {
        "id": "ESi6IB95rKos",
        "colab_type": "code",
        "outputId": "760c5d5a-373b-4057-e109-9acb6ac5fc00",
        "colab": {
          "base_uri": "https://localhost:8080/",
          "height": 50
        }
      },
      "cell_type": "code",
      "source": [
        "n_weights"
      ],
      "execution_count": 0,
      "outputs": [
        {
          "output_type": "execute_result",
          "data": {
            "text/plain": [
              "array([0.12305334, 0.10919061, 0.06822874, 0.01890223, 0.04837632,\n",
              "       0.01921387])"
            ]
          },
          "metadata": {
            "tags": []
          },
          "execution_count": 62
        }
      ]
    },
    {
      "metadata": {
        "id": "SP16VFgi9L8f",
        "colab_type": "text"
      },
      "cell_type": "markdown",
      "source": [
        "# Normalin! Normalin!\n",
        "\n",
        "I want to compare gradient descent to my previous implementation of multivariate linear regression, given that the features selected were done so with a correlational matrix to log(sales price of home)."
      ]
    },
    {
      "metadata": {
        "id": "klITa2T9zL7X",
        "colab_type": "code",
        "colab": {}
      },
      "cell_type": "code",
      "source": [
        "def normalize(features):\n",
        "    '''\n",
        "    features     -   (1460, 80)\n",
        "    features.T   -   (80, 1460)\n",
        "\n",
        "    We transpose the input matrix, swapping\n",
        "    cols and rows to make vector math easier\n",
        "    '''\n",
        "\n",
        "    for feature in features.T:\n",
        "        fmean = np.mean(feature)\n",
        "        frange = np.amax(feature) - np.amin(feature)\n",
        "\n",
        "        #Vector Subtraction\n",
        "        feature -= fmean\n",
        "\n",
        "        #Vector Division\n",
        "        feature /= frange\n",
        "    \n",
        "\n",
        "    return features"
      ],
      "execution_count": 0,
      "outputs": []
    },
    {
      "metadata": {
        "id": "6yHh2JtaPFoD",
        "colab_type": "code",
        "colab": {}
      },
      "cell_type": "code",
      "source": [
        "df_X = normalize(df_X)"
      ],
      "execution_count": 0,
      "outputs": []
    },
    {
      "metadata": {
        "id": "BBGai_qCgusO",
        "colab_type": "code",
        "outputId": "52943232-e77e-46f6-9313-b67216e0a017",
        "colab": {
          "base_uri": "https://localhost:8080/",
          "height": 34
        }
      },
      "cell_type": "code",
      "source": [
        "df_X.shape"
      ],
      "execution_count": 0,
      "outputs": [
        {
          "output_type": "execute_result",
          "data": {
            "text/plain": [
              "(601, 6)"
            ]
          },
          "metadata": {
            "tags": []
          },
          "execution_count": 65
        }
      ]
    },
    {
      "metadata": {
        "id": "W47al07S9m03",
        "colab_type": "text"
      },
      "cell_type": "markdown",
      "source": [
        "# Hypothesis\n",
        "\\begin{align}\n",
        "h\\theta(x) = \\theta_{0} + \\theta_{1}OverallQual +\\theta_{2}GrLivArea +\\theta_{3}TotalBsmtSF + \\theta_{4}GarageArea + \\theta_{5}GarageCars + \\theta_{6}OverallCond\n",
        "\\end{align}"
      ]
    },
    {
      "metadata": {
        "id": "2BCUW5Ns-7k6",
        "colab_type": "text"
      },
      "cell_type": "markdown",
      "source": [
        "# Explanation of reduction to singular value by transposing theta and multiplying it by our feature matrix for multivariate linear regression\n",
        "\n",
        "Given the hypothesis, $X_{0} = 1$\n",
        "\n",
        "$X = \\begin{bmatrix}X_{0} \\\\ X_{1} \\\\ X_{2} \\\\ X_{n}\\end{bmatrix} \\varepsilon\\mathbb{R}$     $\\theta = \\begin{bmatrix}\\theta_{0} \\\\ \\theta_{1} \\\\ \\theta_{2}\\\\ \\theta_{n}\\end{bmatrix} \\varepsilon\\mathbb{R}$\n",
        "\n",
        "\n",
        "-----------------------------------------------------------------------------------------\n",
        "\n",
        "$\\theta^T = \\begin{bmatrix} \n",
        "\\theta_{0}& \\theta_{1} &...\\theta_{n}\\\\ \n",
        "\\end{bmatrix}$\n",
        "\n",
        "\n",
        "#Our $\\theta^T$ values multiplied by our X or features \n",
        "\n",
        "$\\theta_{0}X_{0} + \\theta_{1}X_{1} + \\theta_{n}X_{n} = \\theta^TX$"
      ]
    },
    {
      "metadata": {
        "id": "_zPvP7ytHOKB",
        "colab_type": "text"
      },
      "cell_type": "markdown",
      "source": [
        "# Gradient Descent given Multivariate\n",
        "\n",
        "$h_\\theta(x) = \\theta^Tx$"
      ]
    },
    {
      "metadata": {
        "id": "1RQYM9AWH243",
        "colab_type": "text"
      },
      "cell_type": "markdown",
      "source": [
        "#Calculating our cost function \n",
        "\\begin{align}\n",
        "MSE =  \\frac{1}{2N} \\sum_{i=1}^{n} (y_i - (W_1 x_1 + W_2 x_2 + W_3 x_3 + W_4 x_4 + W_5 x_5 + W_6 x_6))^2\n",
        "\\end{align}\n",
        "\n",
        "\n",
        "\n",
        "\n",
        "\n",
        "\n",
        "\n",
        "---\n",
        "\n",
        "\n",
        "*   Divide by 2 to make finding the derivative easier later. \n",
        "\n",
        "\n"
      ]
    },
    {
      "metadata": {
        "id": "VX-nkHyD-5EF",
        "colab_type": "code",
        "colab": {}
      },
      "cell_type": "code",
      "source": [
        "# init weights\n",
        "\n",
        "w1, w2, w3, w4, w5, w6 = 22923.80954877, 20028.1271326 , 12808.56803715,  6995.98580636, 6365.11949262, 3176.33604353\n",
        "\n",
        "weights = np.array([[w1], \n",
        "                    [w2], \n",
        "                    [w3], \n",
        "                    [w4], \n",
        "                    [w5], \n",
        "                    [w6]])\n",
        "\n",
        "def cost_function(features, target, weights):\n",
        "    '''\n",
        "    returns 1d matrix of predictions \n",
        "    '''\n",
        "    \n",
        "    N = len(target)\n",
        "    \n",
        "    predictions = predict(features, weights)\n",
        "    squared_error = (predictions - target)**2\n",
        "    \n",
        "    return 1.0/(2*N) * squared_error.sum()"
      ],
      "execution_count": 0,
      "outputs": []
    },
    {
      "metadata": {
        "id": "MpGwd7GTJhcU",
        "colab_type": "code",
        "outputId": "67690474-f36d-460a-8c6b-da9e5644f537",
        "colab": {
          "base_uri": "https://localhost:8080/",
          "height": 34
        }
      },
      "cell_type": "code",
      "source": [
        "weights.shape"
      ],
      "execution_count": 0,
      "outputs": [
        {
          "output_type": "execute_result",
          "data": {
            "text/plain": [
              "(6, 1)"
            ]
          },
          "metadata": {
            "tags": []
          },
          "execution_count": 67
        }
      ]
    },
    {
      "metadata": {
        "id": "qTgkot8gTpLj",
        "colab_type": "code",
        "colab": {}
      },
      "cell_type": "code",
      "source": [
        "weights = weights.astype('float64')"
      ],
      "execution_count": 0,
      "outputs": []
    },
    {
      "metadata": {
        "id": "KaUB-N9xRTLS",
        "colab_type": "text"
      },
      "cell_type": "markdown",
      "source": [
        "# Bad news bears...I literally spent 5 hours fighting with getting correct matrix shapes for everything for this to work. Was it worth it? we shall see....\n",
        "\n",
        "Otherwise, this is a working multivariate gradient descent. What a freaking nightmare."
      ]
    },
    {
      "metadata": {
        "id": "cY8lZ6u-RSio",
        "colab_type": "code",
        "outputId": "e8203e5c-3a98-4214-b5a2-454f46736a01",
        "colab": {
          "base_uri": "https://localhost:8080/",
          "height": 101
        }
      },
      "cell_type": "code",
      "source": [
        "def predict(features, weights):\n",
        "  \n",
        "  return np.dot(features, weights)\n",
        "\n",
        "temp_predictions = predict(df_X, weights)\n",
        "temp_predictions[0:5]"
      ],
      "execution_count": 0,
      "outputs": [
        {
          "output_type": "execute_result",
          "data": {
            "text/plain": [
              "array([[  3608.47468672],\n",
              "       [  5355.86844436],\n",
              "       [ 18584.47874654],\n",
              "       [ 13192.37214398],\n",
              "       [-12235.3358625 ]])"
            ]
          },
          "metadata": {
            "tags": []
          },
          "execution_count": 69
        }
      ]
    },
    {
      "metadata": {
        "id": "EdtnUikF7rV4",
        "colab_type": "text"
      },
      "cell_type": "markdown",
      "source": [
        "# Finally defining gradient descent :) \n",
        "\n"
      ]
    },
    {
      "metadata": {
        "id": "hbXUgy5M57vJ",
        "colab_type": "code",
        "colab": {}
      },
      "cell_type": "code",
      "source": [
        "def gradient_descent(features, targets, weights, learning_rate):\n",
        "  \n",
        "  predictions = predict(features, weights)\n",
        "  \n",
        "  feature_length = len(features)\n",
        "  \n",
        "  #1. Time to predict!\n",
        "  predictions = predict(features, weights)\n",
        "  #2 - Calculate error/loss\n",
        "  error = targets - predictions\n",
        "  #3 Transpose features \n",
        "    # So we can multiply w the error matrix.\n",
        "    # Returns a (6,1) matrix holding 6 partial derivatives --\n",
        "    # one for each feature -- representing the aggregate\n",
        "    # slope of the cost function across all observations\n",
        "  gradient = np.dot(-features.T,  error)\n",
        "    \n",
        "  #4 Take the average error derivative for each feature\n",
        "  gradient /= feature_length\n",
        "    \n",
        "  #5 - Multiply the gradient by our learning rate\n",
        "  gradient *= learning_rate\n",
        "  \n",
        "  #6 - Subtract from our weights to minimize cost\n",
        "  weights -= gradient\n",
        "  \n",
        "  return weights\n",
        "  \n",
        "  \n",
        "  #reference : https://github.com/bfortuner/ml-cheatsheet "
      ],
      "execution_count": 0,
      "outputs": []
    },
    {
      "metadata": {
        "id": "VVBUKBS0hdoW",
        "colab_type": "code",
        "colab": {}
      },
      "cell_type": "code",
      "source": [
        "def mesh_data_z(x, y):\n",
        "    # Calculate values of Z from the created grid\n",
        "    z = x**2/5. + x*y/50. + y**2/5.\n",
        "\n",
        "    return z\n",
        "  \n",
        "mesa1 = []\n",
        "mesa2 = []\n",
        "mesaZ1 = []\n",
        "  \n",
        "mesa3 = []\n",
        "mesa4 = []\n",
        "mesaZ2 = []\n",
        "  \n",
        "mesa5 = []\n",
        "mesa6 = []\n",
        "mesaZ3 = []\n",
        "  \n",
        "costs = []\n",
        "\n",
        "def gradient_run():\n",
        "  for i in range(500):\n",
        "    mesa = gradient_descent(df_X, df_y, weights, .25)\n",
        "    mesa1.append(mesa[0][0])\n",
        "    mesa2.append(mesa[1][0])\n",
        "    mesa3.append(mesa[2][0])\n",
        "    mesa4.append(mesa[3][0])\n",
        "    mesa5.append(mesa[4][0])\n",
        "    mesa6.append(mesa[5][0])\n",
        "    costs.append(cost_function(df_X, df_y, weights))\n",
        "    mesaZ1.append(mesh_data_z(mesa[0][0], mesa[1][0]))\n",
        "    mesaZ2.append(mesh_data_z(mesa[2][0], mesa[3][0]))\n",
        "    mesaZ3.append(mesh_data_z(mesa[4][0], mesa[5][0]))\n",
        "   \n",
        "  \n",
        "  \n",
        " "
      ],
      "execution_count": 0,
      "outputs": []
    },
    {
      "metadata": {
        "id": "Jayg3O6a5Guh",
        "colab_type": "code",
        "colab": {}
      },
      "cell_type": "code",
      "source": [
        "gradient_run()"
      ],
      "execution_count": 0,
      "outputs": []
    },
    {
      "metadata": {
        "id": "lXpkcex1hoFu",
        "colab_type": "code",
        "outputId": "77739185-1eb1-4fef-98aa-b379d05d1a1a",
        "colab": {
          "base_uri": "https://localhost:8080/",
          "height": 293
        }
      },
      "cell_type": "code",
      "source": [
        "# plot costs\n",
        "  costs = pd.DataFrame(costs)\n",
        "  costs.plot()"
      ],
      "execution_count": 0,
      "outputs": [
        {
          "output_type": "execute_result",
          "data": {
            "text/plain": [
              "<matplotlib.axes._subplots.AxesSubplot at 0x7f8b69ecd518>"
            ]
          },
          "metadata": {
            "tags": []
          },
          "execution_count": 73
        },
        {
          "output_type": "display_data",
          "data": {
            "image/png": "[encoded data removed]",
            "text/plain": [
              "<Figure size 432x288 with 1 Axes>"
            ]
          },
          "metadata": {
            "tags": []
          }
        }
      ]
    },
    {
      "metadata": {
        "id": "YQqF2cdV2tNA",
        "colab_type": "code",
        "outputId": "08f9a0c4-95f8-4098-fdbe-33ae24bea441",
        "colab": {
          "base_uri": "https://localhost:8080/",
          "height": 34
        }
      },
      "cell_type": "code",
      "source": [
        "max(mesa1)\n"
      ],
      "execution_count": 0,
      "outputs": [
        {
          "output_type": "execute_result",
          "data": {
            "text/plain": [
              "22513.088357987283"
            ]
          },
          "metadata": {
            "tags": []
          },
          "execution_count": 77
        }
      ]
    },
    {
      "metadata": {
        "id": "tQAhPK6E23lR",
        "colab_type": "code",
        "outputId": "7d21f7cf-af7e-479c-87e3-5be4d5c0d8f5",
        "colab": {
          "base_uri": "https://localhost:8080/",
          "height": 34
        }
      },
      "cell_type": "code",
      "source": [
        "max(mesa5)"
      ],
      "execution_count": 0,
      "outputs": [
        {
          "output_type": "execute_result",
          "data": {
            "text/plain": [
              "5958.879770335803"
            ]
          },
          "metadata": {
            "tags": []
          },
          "execution_count": 89
        }
      ]
    },
    {
      "metadata": {
        "id": "aRGkAfdL0Lxk",
        "colab_type": "code",
        "outputId": "834dc090-5802-437b-a618-1647bf1bda7a",
        "colab": {
          "base_uri": "https://localhost:8080/",
          "height": 319
        }
      },
      "cell_type": "code",
      "source": [
        "a = np.arange(729, 22513, 500)\n",
        "b = np.arange(-3683, 5958, 100)\n",
        "\n",
        "x, y = np.meshgrid(a, b)\n",
        "z = mesh_data_z(x, y)\n",
        "\n",
        "fig1 = plt.figure()\n",
        "ax1 = Axes3D(fig1)\n",
        "surf = ax1.plot_surface(x, y, z, edgecolor='none', rstride=1,\n",
        "                        cstride=1, cmap='jet')\n",
        "\n",
        "min_point = np.array([0., 0.])\n",
        "min_point_ = min_point[:, np.newaxis]\n",
        "ax1.plot(*min_point_, mesh_data_z(*min_point_), 'r*', markersize=2)\n",
        "\n",
        "ax1.set_xlabel(r'$Living Area$')\n",
        "ax1.set_ylabel(r'$Garage Cars$')\n",
        "ax1.set_zlabel(r'$z$');\n"
      ],
      "execution_count": 0,
      "outputs": [
        {
          "output_type": "display_data",
          "data": {
            "image/png": "[encoded data removed]",
            "text/plain": [
              "<Figure size 432x288 with 1 Axes>"
            ]
          },
          "metadata": {
            "tags": []
          }
        }
      ]
    },
    {
      "metadata": {
        "id": "PNFnqFoF1jbC",
        "colab_type": "code",
        "colab": {}
      },
      "cell_type": "code",
      "source": [
        ""
      ],
      "execution_count": 0,
      "outputs": []
    },
    {
      "metadata": {
        "id": "RCs6EmWhYPM-",
        "colab_type": "text"
      },
      "cell_type": "markdown",
      "source": [
        "## Stretch Goals\n",
        "\n",
        "If you happen upon the most useful resources for accomplishing this challenge first, I want you to spend time today studying other variations of Gradient Descent-Based Optimizers.\n",
        "\n",
        "- Try and write a function that can perform gradient descent for arbitarily large (in dimensionality) multiple regression models. \n",
        "- Create a notebook for yourself exploring these topics\n",
        "- How do they differ from the \"vanilla\" gradient descent we explored today\n",
        "- How do these different gradient descent-based optimizers seek to overcome the challenge of finding the global minimum among various local minima?\n",
        "- Write a blog post that reteaches what you have learned about these other gradient descent-based optimizers.\n",
        "\n",
        "[Overview of GD-based optimizers](http://ruder.io/optimizing-gradient-descent/)\n",
        "\n",
        "[Siraj Raval - Evolution of Gradient Descent-Based Optimizers](https://youtu.be/nhqo0u1a6fw)"
      ]
    }
  ]
}