{
 "cells": [
  {
   "cell_type": "markdown",
   "metadata": {
    "colab_type": "text",
    "id": "Qhm0Y_jqXKRv"
   },
   "source": [
    "# Gradient Descent Implementation Challenge!!\n",
    "\n",
    "## Use gradient descent to find the optimal parameters of a **multiple** regression model. (We only showed an implementation for a bivariate model during lecture.)\n",
    "\n",
    "A note: Implementing gradient descent in any context is not trivial, particularly the step where we calculate the gradient will change based on the number of parameters that we're trying to optimize for. You will need to research what the gradient of a multiple regression model looks like. This challenge is pretty open-ended but I hope it will be thrilling. Please work together, help each other, share resources and generally expand your understanding of gradient descent as you try and achieve this implementation. \n",
    "\n",
    "## Suggestions:\n",
    "\n",
    "Start off with a model that has just two $X$ variables You can use any datasets that have at least two x variables. Potential candidates might be the blood pressure dataset that we used during lecture on Monday: [HERE](https://college.cengage.com/mathematics/brase/understandable_statistics/7e/students/datasets/mlr/excel/mlr02.xls) or any of the housing datasets. You would just need to select from them the two varaibles $x$ variables and one y variable that you want to work with that you most want to work with. \n",
    "\n",
    "Use Sklearn to find the optimal parameters of your model first. (like we did during the lecture.) So that you can compare the parameter estimates of your gradient-descent linear regression to the estimates of OLS linear regression. If implemented correctly they should be nearly identical.\n",
    "\n",
    "Becoming a Data Scientist is all about striking out into the unknown, getting stuck and then researching and fighting and learning until you get yourself unstuck. Work together! And fight to take your own learning-rate fueled step towards your own optimal understanding of gradient descent! \n"
   ]
  },
  {
   "cell_type": "code",
   "execution_count": 147,
   "metadata": {},
   "outputs": [],
   "source": [
    "import pandas as pd\n",
    "import numpy as np\n",
    "import matplotlib.pyplot as plt\n",
    "from sklearn.utils import shuffle\n",
    "from sklearn.linear_model import LinearRegression\n",
    "df =pd.read_csv(\"mlb_battin_2018g - Sheet1.csv\")"
   ]
  },
  {
   "cell_type": "code",
   "execution_count": 95,
   "metadata": {},
   "outputs": [
    {
     "data": {
      "text/plain": [
       "array(['Tm', '#Bat', 'BatAge', 'R/G', 'G', 'PA', 'AB', 'R', 'H', '2B',\n",
       "       '3B', 'HR', 'RBI', 'SB', 'CS', 'BB', 'SO', 'BA', 'OBP', 'SLG',\n",
       "       'OPS', 'OPS+', 'TB', 'GDP', 'HBP', 'SH', 'SF', 'IBB', 'LOB'],\n",
       "      dtype=object)"
      ]
     },
     "execution_count": 95,
     "metadata": {},
     "output_type": "execute_result"
    }
   ],
   "source": [
    "df.columns.values\n"
   ]
  },
  {
   "cell_type": "code",
   "execution_count": 96,
   "metadata": {
    "colab": {},
    "colab_type": "code",
    "id": "_tWzF6IqXIIq"
   },
   "outputs": [],
   "source": [
    "##### Make it Hap'n Cap'n #####"
   ]
  },
  {
   "cell_type": "code",
   "execution_count": 97,
   "metadata": {},
   "outputs": [],
   "source": [
    "alpha = 0.01"
   ]
  },
  {
   "cell_type": "code",
   "execution_count": 98,
   "metadata": {},
   "outputs": [],
   "source": [
    "y = df['R/G'] *df['G']\n",
    "x = df[['H','2B','3B','HR','BB','SO','IBB']]\n",
    "x = np.c_[np.ones(x.shape[0]),x]\n",
    "#Standardizing these is important, not sure why, but everything goes to infiniti without doing so.\n",
    "x = (x - x.mean()) / x.std()"
   ]
  },
  {
   "cell_type": "code",
   "execution_count": 99,
   "metadata": {},
   "outputs": [
    {
     "data": {
      "text/html": [
       "<div>\n",
       "<style scoped>\n",
       "    .dataframe tbody tr th:only-of-type {\n",
       "        vertical-align: middle;\n",
       "    }\n",
       "\n",
       "    .dataframe tbody tr th {\n",
       "        vertical-align: top;\n",
       "    }\n",
       "\n",
       "    .dataframe thead th {\n",
       "        text-align: right;\n",
       "    }\n",
       "</style>\n",
       "<table border=\"1\" class=\"dataframe\">\n",
       "  <thead>\n",
       "    <tr style=\"text-align: right;\">\n",
       "      <th></th>\n",
       "      <th>H</th>\n",
       "      <th>2B</th>\n",
       "      <th>3B</th>\n",
       "      <th>HR</th>\n",
       "      <th>BB</th>\n",
       "      <th>SO</th>\n",
       "      <th>IBB</th>\n",
       "    </tr>\n",
       "  </thead>\n",
       "  <tbody>\n",
       "    <tr>\n",
       "      <th>0</th>\n",
       "      <td>1283</td>\n",
       "      <td>259</td>\n",
       "      <td>50</td>\n",
       "      <td>176</td>\n",
       "      <td>560</td>\n",
       "      <td>1460</td>\n",
       "      <td>36</td>\n",
       "    </tr>\n",
       "    <tr>\n",
       "      <th>1</th>\n",
       "      <td>1433</td>\n",
       "      <td>314</td>\n",
       "      <td>29</td>\n",
       "      <td>175</td>\n",
       "      <td>511</td>\n",
       "      <td>1290</td>\n",
       "      <td>53</td>\n",
       "    </tr>\n",
       "    <tr>\n",
       "      <th>2</th>\n",
       "      <td>1317</td>\n",
       "      <td>242</td>\n",
       "      <td>15</td>\n",
       "      <td>188</td>\n",
       "      <td>422</td>\n",
       "      <td>1412</td>\n",
       "      <td>19</td>\n",
       "    </tr>\n",
       "    <tr>\n",
       "      <th>3</th>\n",
       "      <td>1509</td>\n",
       "      <td>355</td>\n",
       "      <td>31</td>\n",
       "      <td>208</td>\n",
       "      <td>569</td>\n",
       "      <td>1253</td>\n",
       "      <td>38</td>\n",
       "    </tr>\n",
       "    <tr>\n",
       "      <th>4</th>\n",
       "      <td>1453</td>\n",
       "      <td>286</td>\n",
       "      <td>34</td>\n",
       "      <td>167</td>\n",
       "      <td>576</td>\n",
       "      <td>1388</td>\n",
       "      <td>67</td>\n",
       "    </tr>\n",
       "    <tr>\n",
       "      <th>5</th>\n",
       "      <td>1332</td>\n",
       "      <td>259</td>\n",
       "      <td>40</td>\n",
       "      <td>182</td>\n",
       "      <td>425</td>\n",
       "      <td>1594</td>\n",
       "      <td>18</td>\n",
       "    </tr>\n",
       "    <tr>\n",
       "      <th>6</th>\n",
       "      <td>1404</td>\n",
       "      <td>251</td>\n",
       "      <td>25</td>\n",
       "      <td>172</td>\n",
       "      <td>559</td>\n",
       "      <td>1376</td>\n",
       "      <td>35</td>\n",
       "    </tr>\n",
       "    <tr>\n",
       "      <th>7</th>\n",
       "      <td>1447</td>\n",
       "      <td>297</td>\n",
       "      <td>19</td>\n",
       "      <td>216</td>\n",
       "      <td>554</td>\n",
       "      <td>1189</td>\n",
       "      <td>32</td>\n",
       "    </tr>\n",
       "    <tr>\n",
       "      <th>8</th>\n",
       "      <td>1418</td>\n",
       "      <td>280</td>\n",
       "      <td>42</td>\n",
       "      <td>210</td>\n",
       "      <td>507</td>\n",
       "      <td>1397</td>\n",
       "      <td>38</td>\n",
       "    </tr>\n",
       "    <tr>\n",
       "      <th>9</th>\n",
       "      <td>1326</td>\n",
       "      <td>284</td>\n",
       "      <td>35</td>\n",
       "      <td>135</td>\n",
       "      <td>428</td>\n",
       "      <td>1341</td>\n",
       "      <td>18</td>\n",
       "    </tr>\n",
       "    <tr>\n",
       "      <th>10</th>\n",
       "      <td>1390</td>\n",
       "      <td>278</td>\n",
       "      <td>18</td>\n",
       "      <td>205</td>\n",
       "      <td>565</td>\n",
       "      <td>1197</td>\n",
       "      <td>19</td>\n",
       "    </tr>\n",
       "    <tr>\n",
       "      <th>11</th>\n",
       "      <td>1350</td>\n",
       "      <td>283</td>\n",
       "      <td>29</td>\n",
       "      <td>155</td>\n",
       "      <td>427</td>\n",
       "      <td>1310</td>\n",
       "      <td>13</td>\n",
       "    </tr>\n",
       "    <tr>\n",
       "      <th>12</th>\n",
       "      <td>1323</td>\n",
       "      <td>249</td>\n",
       "      <td>23</td>\n",
       "      <td>214</td>\n",
       "      <td>514</td>\n",
       "      <td>1300</td>\n",
       "      <td>38</td>\n",
       "    </tr>\n",
       "    <tr>\n",
       "      <th>13</th>\n",
       "      <td>1394</td>\n",
       "      <td>296</td>\n",
       "      <td>33</td>\n",
       "      <td>235</td>\n",
       "      <td>647</td>\n",
       "      <td>1436</td>\n",
       "      <td>47</td>\n",
       "    </tr>\n",
       "    <tr>\n",
       "      <th>14</th>\n",
       "      <td>1303</td>\n",
       "      <td>222</td>\n",
       "      <td>24</td>\n",
       "      <td>128</td>\n",
       "      <td>455</td>\n",
       "      <td>1384</td>\n",
       "      <td>26</td>\n",
       "    </tr>\n",
       "    <tr>\n",
       "      <th>15</th>\n",
       "      <td>1398</td>\n",
       "      <td>252</td>\n",
       "      <td>24</td>\n",
       "      <td>218</td>\n",
       "      <td>537</td>\n",
       "      <td>1458</td>\n",
       "      <td>32</td>\n",
       "    </tr>\n",
       "    <tr>\n",
       "      <th>16</th>\n",
       "      <td>1380</td>\n",
       "      <td>318</td>\n",
       "      <td>22</td>\n",
       "      <td>166</td>\n",
       "      <td>534</td>\n",
       "      <td>1328</td>\n",
       "      <td>25</td>\n",
       "    </tr>\n",
       "    <tr>\n",
       "      <th>17</th>\n",
       "      <td>1282</td>\n",
       "      <td>265</td>\n",
       "      <td>34</td>\n",
       "      <td>170</td>\n",
       "      <td>566</td>\n",
       "      <td>1404</td>\n",
       "      <td>36</td>\n",
       "    </tr>\n",
       "    <tr>\n",
       "      <th>18</th>\n",
       "      <td>1374</td>\n",
       "      <td>269</td>\n",
       "      <td>23</td>\n",
       "      <td>267</td>\n",
       "      <td>625</td>\n",
       "      <td>1421</td>\n",
       "      <td>21</td>\n",
       "    </tr>\n",
       "    <tr>\n",
       "      <th>19</th>\n",
       "      <td>1407</td>\n",
       "      <td>322</td>\n",
       "      <td>20</td>\n",
       "      <td>227</td>\n",
       "      <td>550</td>\n",
       "      <td>1381</td>\n",
       "      <td>18</td>\n",
       "    </tr>\n",
       "    <tr>\n",
       "      <th>20</th>\n",
       "      <td>1271</td>\n",
       "      <td>241</td>\n",
       "      <td>30</td>\n",
       "      <td>186</td>\n",
       "      <td>582</td>\n",
       "      <td>1520</td>\n",
       "      <td>33</td>\n",
       "    </tr>\n",
       "    <tr>\n",
       "      <th>21</th>\n",
       "      <td>1381</td>\n",
       "      <td>290</td>\n",
       "      <td>38</td>\n",
       "      <td>157</td>\n",
       "      <td>474</td>\n",
       "      <td>1229</td>\n",
       "      <td>38</td>\n",
       "    </tr>\n",
       "    <tr>\n",
       "      <th>22</th>\n",
       "      <td>1289</td>\n",
       "      <td>250</td>\n",
       "      <td>30</td>\n",
       "      <td>162</td>\n",
       "      <td>471</td>\n",
       "      <td>1523</td>\n",
       "      <td>28</td>\n",
       "    </tr>\n",
       "    <tr>\n",
       "      <th>23</th>\n",
       "      <td>1402</td>\n",
       "      <td>256</td>\n",
       "      <td>32</td>\n",
       "      <td>176</td>\n",
       "      <td>430</td>\n",
       "      <td>1221</td>\n",
       "      <td>17</td>\n",
       "    </tr>\n",
       "    <tr>\n",
       "      <th>24</th>\n",
       "      <td>1324</td>\n",
       "      <td>255</td>\n",
       "      <td>30</td>\n",
       "      <td>133</td>\n",
       "      <td>448</td>\n",
       "      <td>1467</td>\n",
       "      <td>40</td>\n",
       "    </tr>\n",
       "    <tr>\n",
       "      <th>25</th>\n",
       "      <td>1369</td>\n",
       "      <td>248</td>\n",
       "      <td>9</td>\n",
       "      <td>205</td>\n",
       "      <td>525</td>\n",
       "      <td>1380</td>\n",
       "      <td>40</td>\n",
       "    </tr>\n",
       "    <tr>\n",
       "      <th>26</th>\n",
       "      <td>1415</td>\n",
       "      <td>274</td>\n",
       "      <td>43</td>\n",
       "      <td>150</td>\n",
       "      <td>540</td>\n",
       "      <td>1388</td>\n",
       "      <td>17</td>\n",
       "    </tr>\n",
       "    <tr>\n",
       "      <th>27</th>\n",
       "      <td>1308</td>\n",
       "      <td>266</td>\n",
       "      <td>24</td>\n",
       "      <td>194</td>\n",
       "      <td>555</td>\n",
       "      <td>1484</td>\n",
       "      <td>16</td>\n",
       "    </tr>\n",
       "    <tr>\n",
       "      <th>28</th>\n",
       "      <td>1336</td>\n",
       "      <td>320</td>\n",
       "      <td>16</td>\n",
       "      <td>217</td>\n",
       "      <td>499</td>\n",
       "      <td>1387</td>\n",
       "      <td>15</td>\n",
       "    </tr>\n",
       "    <tr>\n",
       "      <th>29</th>\n",
       "      <td>1402</td>\n",
       "      <td>284</td>\n",
       "      <td>25</td>\n",
       "      <td>191</td>\n",
       "      <td>631</td>\n",
       "      <td>1289</td>\n",
       "      <td>56</td>\n",
       "    </tr>\n",
       "    <tr>\n",
       "      <th>30</th>\n",
       "      <td>1367</td>\n",
       "      <td>276</td>\n",
       "      <td>28</td>\n",
       "      <td>186</td>\n",
       "      <td>523</td>\n",
       "      <td>1374</td>\n",
       "      <td>31</td>\n",
       "    </tr>\n",
       "  </tbody>\n",
       "</table>\n",
       "</div>"
      ],
      "text/plain": [
       "       H   2B  3B   HR   BB    SO  IBB\n",
       "0   1283  259  50  176  560  1460   36\n",
       "1   1433  314  29  175  511  1290   53\n",
       "2   1317  242  15  188  422  1412   19\n",
       "3   1509  355  31  208  569  1253   38\n",
       "4   1453  286  34  167  576  1388   67\n",
       "5   1332  259  40  182  425  1594   18\n",
       "6   1404  251  25  172  559  1376   35\n",
       "7   1447  297  19  216  554  1189   32\n",
       "8   1418  280  42  210  507  1397   38\n",
       "9   1326  284  35  135  428  1341   18\n",
       "10  1390  278  18  205  565  1197   19\n",
       "11  1350  283  29  155  427  1310   13\n",
       "12  1323  249  23  214  514  1300   38\n",
       "13  1394  296  33  235  647  1436   47\n",
       "14  1303  222  24  128  455  1384   26\n",
       "15  1398  252  24  218  537  1458   32\n",
       "16  1380  318  22  166  534  1328   25\n",
       "17  1282  265  34  170  566  1404   36\n",
       "18  1374  269  23  267  625  1421   21\n",
       "19  1407  322  20  227  550  1381   18\n",
       "20  1271  241  30  186  582  1520   33\n",
       "21  1381  290  38  157  474  1229   38\n",
       "22  1289  250  30  162  471  1523   28\n",
       "23  1402  256  32  176  430  1221   17\n",
       "24  1324  255  30  133  448  1467   40\n",
       "25  1369  248   9  205  525  1380   40\n",
       "26  1415  274  43  150  540  1388   17\n",
       "27  1308  266  24  194  555  1484   16\n",
       "28  1336  320  16  217  499  1387   15\n",
       "29  1402  284  25  191  631  1289   56\n",
       "30  1367  276  28  186  523  1374   31"
      ]
     },
     "execution_count": 99,
     "metadata": {},
     "output_type": "execute_result"
    }
   ],
   "source": [
    "x = df[['H','2B','3B','HR','BB','SO','IBB']]\n",
    "x"
   ]
  },
  {
   "cell_type": "code",
   "execution_count": null,
   "metadata": {},
   "outputs": [],
   "source": []
  },
  {
   "cell_type": "code",
   "execution_count": 100,
   "metadata": {},
   "outputs": [
    {
     "data": {
      "text/plain": [
       "(7,)"
      ]
     },
     "execution_count": 100,
     "metadata": {},
     "output_type": "execute_result"
    }
   ],
   "source": [
    "thetas = np.zeros((x.shape[1]))\n",
    "thetas.shape"
   ]
  },
  {
   "cell_type": "code",
   "execution_count": 101,
   "metadata": {},
   "outputs": [
    {
     "data": {
      "text/plain": [
       "0     693.36\n",
       "1     759.78\n",
       "2     622.08\n",
       "3     876.42\n",
       "4     761.21\n",
       "5     656.10\n",
       "6     696.60\n",
       "7     818.10\n",
       "8     780.77\n",
       "9     630.18\n",
       "10    797.04\n",
       "11    638.28\n",
       "12    720.90\n",
       "13    803.59\n",
       "14    589.26\n",
       "15    754.69\n",
       "16    738.72\n",
       "17    675.54\n",
       "18    850.50\n",
       "19    813.24\n",
       "20    677.16\n",
       "21    692.30\n",
       "22    617.22\n",
       "23    677.16\n",
       "24    602.64\n",
       "25    759.78\n",
       "26    716.04\n",
       "27    737.10\n",
       "28    709.56\n",
       "29    771.12\n",
       "30    720.90\n",
       "dtype: float64"
      ]
     },
     "execution_count": 101,
     "metadata": {},
     "output_type": "execute_result"
    }
   ],
   "source": [
    "y"
   ]
  },
  {
   "cell_type": "code",
   "execution_count": 102,
   "metadata": {},
   "outputs": [],
   "source": [
    "prediction = np.dot(x,thetas)"
   ]
  },
  {
   "cell_type": "code",
   "execution_count": 103,
   "metadata": {},
   "outputs": [
    {
     "data": {
      "text/plain": [
       "0    -693.36\n",
       "1    -759.78\n",
       "2    -622.08\n",
       "3    -876.42\n",
       "4    -761.21\n",
       "5    -656.10\n",
       "6    -696.60\n",
       "7    -818.10\n",
       "8    -780.77\n",
       "9    -630.18\n",
       "10   -797.04\n",
       "11   -638.28\n",
       "12   -720.90\n",
       "13   -803.59\n",
       "14   -589.26\n",
       "15   -754.69\n",
       "16   -738.72\n",
       "17   -675.54\n",
       "18   -850.50\n",
       "19   -813.24\n",
       "20   -677.16\n",
       "21   -692.30\n",
       "22   -617.22\n",
       "23   -677.16\n",
       "24   -602.64\n",
       "25   -759.78\n",
       "26   -716.04\n",
       "27   -737.10\n",
       "28   -709.56\n",
       "29   -771.12\n",
       "30   -720.90\n",
       "dtype: float64"
      ]
     },
     "execution_count": 103,
     "metadata": {},
     "output_type": "execute_result"
    }
   ],
   "source": [
    "error = prediction - y\n",
    "error"
   ]
  },
  {
   "cell_type": "code",
   "execution_count": 104,
   "metadata": {},
   "outputs": [
    {
     "data": {
      "text/plain": [
       "array([-9890.63493226, -1999.68727097,  -202.39137097, -1360.1126129 ,\n",
       "       -3803.89176452, -9881.48678387,  -225.86530323])"
      ]
     },
     "execution_count": 104,
     "metadata": {},
     "output_type": "execute_result"
    }
   ],
   "source": [
    "alpha *(1/len(y)) * np.dot(x.T,error)"
   ]
  },
  {
   "cell_type": "code",
   "execution_count": 105,
   "metadata": {},
   "outputs": [
    {
     "data": {
      "text/plain": [
       "array([9890.63493226, 1999.68727097,  202.39137097, 1360.1126129 ,\n",
       "       3803.89176452, 9881.48678387,  225.86530323])"
      ]
     },
     "execution_count": 105,
     "metadata": {},
     "output_type": "execute_result"
    }
   ],
   "source": [
    "thetas =thetas - (alpha * 1/len(y)) * np.dot(x.T, error)\n",
    "thetas"
   ]
  },
  {
   "cell_type": "code",
   "execution_count": 106,
   "metadata": {},
   "outputs": [
    {
     "data": {
      "text/plain": [
       "array([-9890.63493226, -1999.68727097,  -202.39137097, -1360.1126129 ,\n",
       "       -3803.89176452, -9881.48678387,  -225.86530323])"
      ]
     },
     "execution_count": 106,
     "metadata": {},
     "output_type": "execute_result"
    }
   ],
   "source": [
    "(alpha * 1/len(y) * np.dot(x.T, error))"
   ]
  },
  {
   "cell_type": "code",
   "execution_count": 107,
   "metadata": {},
   "outputs": [
    {
     "data": {
      "text/plain": [
       "(array([-30660968.29,  -6199030.54,   -627413.25,  -4216349.1 ,\n",
       "        -11792064.47, -30632609.03,   -700182.44]), (7, 31))"
      ]
     },
     "execution_count": 107,
     "metadata": {},
     "output_type": "execute_result"
    }
   ],
   "source": [
    "np.dot(x.T, error), x.T.shape"
   ]
  },
  {
   "cell_type": "code",
   "execution_count": 108,
   "metadata": {},
   "outputs": [
    {
     "data": {
      "text/plain": [
       "(array([-4.08924136e+08, -8.24031920e+07, -8.45456344e+06, -5.57665012e+07,\n",
       "        -1.56600755e+08, -4.11298008e+08, -9.28809116e+06]), 0     3.002169e+07\n",
       " 1     2.974719e+07\n",
       " 2     2.933020e+07\n",
       " 3     3.047766e+07\n",
       " 4     3.109794e+07\n",
       " 5     3.131903e+07\n",
       " 6     3.035788e+07\n",
       " 7     2.906614e+07\n",
       " 8     3.061977e+07\n",
       " 9     2.875617e+07\n",
       " 10    2.856719e+07\n",
       " 11    2.870626e+07\n",
       " 12    2.868795e+07\n",
       " 13    3.136650e+07\n",
       " 14    2.892241e+07\n",
       " 15    3.108876e+07\n",
       " 16    2.967401e+07\n",
       " 17    2.948188e+07\n",
       " 18    3.091837e+07\n",
       " 19    3.061454e+07\n",
       " 20    3.055248e+07\n",
       " 21    2.841539e+07\n",
       " 22    3.032220e+07\n",
       " 23    2.832858e+07\n",
       " 24    3.000080e+07\n",
       " 25    2.995862e+07\n",
       " 26    3.052861e+07\n",
       " 27    3.051575e+07\n",
       " 28    2.975861e+07\n",
       " 29    2.984879e+07\n",
       " 30    2.990394e+07\n",
       " dtype: float64)"
      ]
     },
     "execution_count": 108,
     "metadata": {},
     "output_type": "execute_result"
    }
   ],
   "source": [
    "prediction = np.dot(x,thetas)\n",
    "error = prediction - y\n",
    "thetas =thetas - (alpha * 1/len(y) * np.dot(x.T, error))\n",
    "thetas,error"
   ]
  },
  {
   "cell_type": "code",
   "execution_count": 109,
   "metadata": {},
   "outputs": [
    {
     "data": {
      "text/plain": [
       "array([30022384.25318387, 29747948.22195806, 29330820.67136129,\n",
       "       30478534.88567742, 31098701.51672581, 31319690.39220323,\n",
       "       30358578.70018065, 29066957.14015806, 30620549.89930323,\n",
       "       28756797.03369677, 28567991.71549677, 28706901.18025161,\n",
       "       28688667.31405807, 31367306.56958065, 28923000.65785807,\n",
       "       31089516.06822903, 29674747.3464    , 29482552.89495484,\n",
       "       30919221.58606129, 30615355.33595484, 30553152.79177097,\n",
       "       28416079.53763226, 30322821.85125484, 28329254.99213871,\n",
       "       30001406.85762258, 29959375.8236871 , 30529327.38128387,\n",
       "       30516486.7067    , 29759323.03441291, 29849563.27811936,\n",
       "       29904659.60185162])"
      ]
     },
     "execution_count": 109,
     "metadata": {},
     "output_type": "execute_result"
    }
   ],
   "source": [
    "prediction"
   ]
  },
  {
   "cell_type": "code",
   "execution_count": 110,
   "metadata": {},
   "outputs": [
    {
     "data": {
      "text/plain": [
       "(31, 7)"
      ]
     },
     "execution_count": 110,
     "metadata": {},
     "output_type": "execute_result"
    }
   ],
   "source": [
    "x.shape"
   ]
  },
  {
   "cell_type": "code",
   "execution_count": 111,
   "metadata": {},
   "outputs": [],
   "source": [
    "def gd(x, y, iterations, alpha):\n",
    "    #Standardizing these is important, not sure why, but everything goes to infiniti without doing so.\n",
    "    x = (x - x.mean()) / x.std()\n",
    "    # add a vector of ones to the beginning for theta_0\n",
    "    x = np.c_[np.ones(x.shape[0]),x]\n",
    "    \n",
    "    past_costs = []\n",
    "    thetas = np.zeros((x.shape[1]))\n",
    "    n = len(y)\n",
    "    for i in range(iterations):\n",
    "        prediction = np.dot(x,thetas)          #coeficients times training data\n",
    "        error  = prediction - y                #difference between training data and predictions\n",
    "        cost = 1/(2*n) * np.dot(error.T, error)\n",
    "        past_costs.append(cost)\n",
    "        thetas = thetas - (alpha * (1/n) * np.dot(x.T, error)) #\n",
    "    return thetas ,past_costs"
   ]
  },
  {
   "cell_type": "code",
   "execution_count": 112,
   "metadata": {},
   "outputs": [
    {
     "data": {
      "text/plain": [
       "array([716.46585409,  24.50493767,  12.57362548,   1.87737907,\n",
       "        31.98448991,  25.39510707,  -5.50273904,  -1.45592395])"
      ]
     },
     "execution_count": 112,
     "metadata": {},
     "output_type": "execute_result"
    }
   ],
   "source": [
    "y = df['R/G'] *df['G']\n",
    "x = df[['H','2B','3B','HR','BB','SO','IBB']]\n",
    "final_thetas, past_costs  = gd(x=x,y=y, iterations = 500, alpha = 0.01)\n",
    "final_thetas"
   ]
  },
  {
   "cell_type": "code",
   "execution_count": 113,
   "metadata": {},
   "outputs": [
    {
     "data": {
      "image/png": "[encoded data removed]",
      "text/plain": [
       "<Figure size 432x288 with 1 Axes>"
      ]
     },
     "metadata": {},
     "output_type": "display_data"
    }
   ],
   "source": [
    "plt.title('Cost Function J')\n",
    "plt.xlabel('No. of iterations')\n",
    "plt.ylabel('Cost')\n",
    "plt.plot(past_costs)\n",
    "plt.show()"
   ]
  },
  {
   "cell_type": "markdown",
   "metadata": {},
   "source": [
    "## Test"
   ]
  },
  {
   "cell_type": "code",
   "execution_count": 114,
   "metadata": {},
   "outputs": [
    {
     "data": {
      "text/plain": [
       "(721.2045161290323,\n",
       " array([26.7699554 , 10.46009993,  2.73047801, 32.13270139, 25.96843292,\n",
       "        -5.48614613, -2.87743694]))"
      ]
     },
     "execution_count": 114,
     "metadata": {},
     "output_type": "execute_result"
    }
   ],
   "source": [
    "y = df['R/G'] *df['G']\n",
    "x = df[['H','2B','3B','HR','BB','SO','IBB']]\n",
    "x = (x - x.mean()) / x.std()\n",
    "model = LinearRegression()\n",
    "model.fit(x, y)\n",
    "model.intercept_, model.coef_"
   ]
  },
  {
   "cell_type": "code",
   "execution_count": 141,
   "metadata": {},
   "outputs": [],
   "source": [
    "x = np.array(df[['H','2B','3B','HR','BB','SO','IBB']])\n",
    "np.random.shuffle(x)"
   ]
  },
  {
   "cell_type": "markdown",
   "metadata": {
    "colab_type": "text",
    "id": "RCs6EmWhYPM-"
   },
   "source": [
    "## Stretch Goals\n",
    "\n",
    "If you happen upon the most useful resources for accomplishing this challenge first, I want you to spend time today studying other variations of Gradient Descent-Based Optimizers.\n",
    "\n",
    "- Try and write a function that can perform gradient descent for arbitarily large (in dimensionality) multiple regression models. \n",
    "- Create a notebook for yourself exploring these topics\n",
    "- How do they differ from the \"vanilla\" gradient descent we explored today\n",
    "- How do these different gradient descent-based optimizers seek to overcome the challenge of finding the global minimum among various local minima?\n",
    "- Write a blog post that reteaches what you have learned about these other gradient descent-based optimizers.\n",
    "\n",
    "[Overview of GD-based optimizers](http://ruder.io/optimizing-gradient-descent/)\n",
    "\n",
    "[Siraj Raval - Evolution of Gradient Descent-Based Optimizers](https://youtu.be/nhqo0u1a6fw)"
   ]
  },
  {
   "cell_type": "markdown",
   "metadata": {},
   "source": [
    "# SGD"
   ]
  },
  {
   "cell_type": "code",
   "execution_count": 148,
   "metadata": {},
   "outputs": [],
   "source": [
    "def sgd(x, y, iterations, alpha):\n",
    "    #Standardizing these is important, not sure why, but everything goes to infiniti without doing so.\n",
    "    x = (x - x.mean()) / x.std()\n",
    "    # add a vector of ones to the beginning for theta_0\n",
    "    x = np.c_[np.ones(x.shape[0]),x]\n",
    "    past_costs = []\n",
    "    thetas = np.zeros((x.shape[1]))\n",
    "    n = len(y)\n",
    "    for i in range(iterations):\n",
    "        shuffle(x)\n",
    "        prediction = np.dot(x,thetas)          #coeficients times training data\n",
    "        error  = prediction - y                #difference between training data and predictions\n",
    "        cost = 1/(2*n) * np.dot(error.T, error)\n",
    "        past_costs.append(cost)\n",
    "        thetas = thetas - (alpha * (1/n) * np.dot(x.T, error)) #\n",
    "    return thetas ,past_costs,x"
   ]
  },
  {
   "cell_type": "code",
   "execution_count": 149,
   "metadata": {},
   "outputs": [
    {
     "data": {
      "text/plain": [
       "array([716.46585409,  24.50493767,  12.57362548,   1.87737907,\n",
       "        31.98448991,  25.39510707,  -5.50273904,  -1.45592395])"
      ]
     },
     "execution_count": 149,
     "metadata": {},
     "output_type": "execute_result"
    }
   ],
   "source": [
    "y = df['R/G'] *df['G']\n",
    "x = df[['H','2B','3B','HR','BB','SO','IBB']]\n",
    "final_thetas_sgd, past_costs_sgd,x  = sgd(x=x,y=y, iterations = 500, alpha = 0.01)\n",
    "final_thetas_sgd"
   ]
  },
  {
   "cell_type": "code",
   "execution_count": 150,
   "metadata": {},
   "outputs": [
    {
     "data": {
      "image/png": "[encoded data removed]",
      "text/plain": [
       "<Figure size 432x288 with 1 Axes>"
      ]
     },
     "metadata": {},
     "output_type": "display_data"
    }
   ],
   "source": [
    "plt.title('Cost Function J')\n",
    "plt.xlabel('No. of iterations')\n",
    "plt.ylabel('Cost')\n",
    "plt.plot(past_costs_sgd)\n",
    "plt.show()"
   ]
  },
  {
   "cell_type": "code",
   "execution_count": null,
   "metadata": {},
   "outputs": [],
   "source": []
  }
 ],
 "metadata": {
  "colab": {
   "name": "Gradient Descent Assignment.ipynb",
   "provenance": [],
   "version": "0.3.2"
  },
  "kernelspec": {
   "display_name": "Python 3",
   "language": "python",
   "name": "python3"
  },
  "language_info": {
   "codemirror_mode": {
    "name": "ipython",
    "version": 3
   },
   "file_extension": ".py",
   "mimetype": "text/x-python",
   "name": "python",
   "nbconvert_exporter": "python",
   "pygments_lexer": "ipython3",
   "version": "3.6.5"
  }
 },
 "nbformat": 4,
 "nbformat_minor": 1
}
