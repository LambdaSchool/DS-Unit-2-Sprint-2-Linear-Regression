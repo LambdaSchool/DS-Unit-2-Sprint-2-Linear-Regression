{
  "nbformat": 4,
  "nbformat_minor": 0,
  "metadata": {
    "colab": {
      "name": "Gradient Descent Assignment.ipynb",
      "version": "0.3.2",
      "provenance": []
    },
    "kernelspec": {
      "name": "python3",
      "display_name": "Python 3"
    }
  },
  "cells": [
    {
      "metadata": {
        "id": "Qhm0Y_jqXKRv",
        "colab_type": "text"
      },
      "cell_type": "markdown",
      "source": [
        "# Gradient Descent Implementation Challenge!!\n",
        "\n",
        "## Use gradient descent to find the optimal parameters of a **multiple** regression model. (We only showed an implementation for a bivariate model during lecture.)\n",
        "\n",
        "A note: Implementing gradient descent in any context is not trivial, particularly the step where we calculate the gradient will change based on the number of parameters that we're trying to optimize for. You will need to research what the gradient of a multiple regression model looks like. This challenge is pretty open-ended but I hope it will be thrilling. Please work together, help each other, share resources and generally expand your understanding of gradient descent as you try and achieve this implementation. \n",
        "\n",
        "## Suggestions:\n",
        "\n",
        "Start off with a model that has just two $X$ variables You can use any datasets that have at least two x variables. Potential candidates might be the blood pressure dataset that we used during lecture on Monday: [HERE](https://college.cengage.com/mathematics/brase/understandable_statistics/7e/students/datasets/mlr/excel/mlr02.xls) or any of the housing datasets. You would just need to select from them the two varaibles $x$ variables and one y variable that you want to work with that you most want to work with. \n",
        "\n",
        "Use Sklearn to find the optimal parameters of your model first. (like we did during the lecture.) So that you can compare the parameter estimates of your gradient-descent linear regression to the estimates of OLS linear regression. If implemented correctly they should be nearly identical.\n",
        "\n",
        "Becoming a Data Scientist is all about striking out into the unknown, getting stuck and then researching and fighting and learning until you get yourself unstuck. Work together! And fight to take your own learning-rate fueled step towards your own optimal understanding of gradient descent! \n"
      ]
    },
    {
      "metadata": {
        "id": "SP16VFgi9L8f",
        "colab_type": "text"
      },
      "cell_type": "markdown",
      "source": [
        "# Selecting them features\n",
        "\n",
        "I want to compare gradient descent to my previous implementation of multivariate linear regression, given that the features selected were done so with a correlational matrix to log(sales price of home)."
      ]
    },
    {
      "metadata": {
        "id": "W47al07S9m03",
        "colab_type": "text"
      },
      "cell_type": "markdown",
      "source": [
        "# Hypothesis\n",
        "\n",
        "$h\\theta(x) = \\theta_{0} + \\theta_{1}OverallQual +\\theta_{2}GrLivArea +\\theta_{3}TotalBsmtSF + \\theta_{4}GarageArea + \\theta_{5}GarageCars + \\theta_{6}OverallCond + \\theta_{7}FullBath$"
      ]
    },
    {
      "metadata": {
        "id": "2BCUW5Ns-7k6",
        "colab_type": "text"
      },
      "cell_type": "markdown",
      "source": [
        "# Explanation of reduction to singular value by transposing theta and multiplying it by our feature matrix for multivariate linear regression\n",
        "\n",
        "Given the hypothesis, $X_{0} = 1$\n",
        "\n",
        "$X = \\begin{bmatrix}X_{0} \\\\ X_{1} \\\\ X_{2} \\\\ X_{n}\\end{bmatrix} \\varepsilon\\mathbb{R}$     $\\theta = \\begin{bmatrix}\\theta_{0} \\\\ \\theta_{1} \\\\ \\theta_{2}\\\\ \\theta_{n}\\end{bmatrix} \\varepsilon\\mathbb{R}$\n",
        "\n",
        "\n",
        "-----------------------------------------------------------------------------------------\n",
        "\n",
        "$\\theta^T = \\begin{bmatrix} \n",
        "\\theta_{0}& \\theta_{1} &...\\theta_{n}\\\\ \n",
        "\\end{bmatrix}$\n",
        "\n",
        "\n",
        "#Our $\\theta^T$ values multiplied by our X or features \n",
        "\n",
        "$\\theta_{0}X_{0} + \\theta_{1}X_{1} + \\theta_{n}X_{n} = \\theta^TX$"
      ]
    },
    {
      "metadata": {
        "id": "_zPvP7ytHOKB",
        "colab_type": "text"
      },
      "cell_type": "markdown",
      "source": [
        "# Gradient Descent given Multivariate\n",
        "\n",
        "$h_\\theta(x) = \\theta^Tx$"
      ]
    },
    {
      "metadata": {
        "id": "1RQYM9AWH243",
        "colab_type": "text"
      },
      "cell_type": "markdown",
      "source": [
        "#Calculating our cost function \n",
        "\n",
        "\n",
        "$J(\\theta) = 1/2m $ "
      ]
    },
    {
      "metadata": {
        "id": "VX-nkHyD-5EF",
        "colab_type": "code",
        "colab": {}
      },
      "cell_type": "code",
      "source": [
        ""
      ],
      "execution_count": 0,
      "outputs": []
    },
    {
      "metadata": {
        "id": "RCs6EmWhYPM-",
        "colab_type": "text"
      },
      "cell_type": "markdown",
      "source": [
        "## Stretch Goals\n",
        "\n",
        "If you happen upon the most useful resources for accomplishing this challenge first, I want you to spend time today studying other variations of Gradient Descent-Based Optimizers.\n",
        "\n",
        "- Try and write a function that can perform gradient descent for arbitarily large (in dimensionality) multiple regression models. \n",
        "- Create a notebook for yourself exploring these topics\n",
        "- How do they differ from the \"vanilla\" gradient descent we explored today\n",
        "- How do these different gradient descent-based optimizers seek to overcome the challenge of finding the global minimum among various local minima?\n",
        "- Write a blog post that reteaches what you have learned about these other gradient descent-based optimizers.\n",
        "\n",
        "[Overview of GD-based optimizers](http://ruder.io/optimizing-gradient-descent/)\n",
        "\n",
        "[Siraj Raval - Evolution of Gradient Descent-Based Optimizers](https://youtu.be/nhqo0u1a6fw)"
      ]
    }
  ]
}