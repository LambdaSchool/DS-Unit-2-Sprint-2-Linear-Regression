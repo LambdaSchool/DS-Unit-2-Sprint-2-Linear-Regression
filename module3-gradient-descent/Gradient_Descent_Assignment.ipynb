{
 "cells": [
  {
   "cell_type": "markdown",
   "metadata": {
    "colab_type": "text",
    "id": "Qhm0Y_jqXKRv"
   },
   "source": [
    "# Gradient Descent Implementation Challenge!!\n",
    "\n",
    "## Use gradient descent to find the optimal parameters of a **multiple** regression model. (We only showed an implementation for a bivariate model during lecture.)\n",
    "\n",
    "A note: Implementing gradient descent in any context is not trivial, particularly the step where we calculate the gradient will change based on the number of parameters that we're trying to optimize for. You will need to research what the gradient of a multiple regression model looks like. This challenge is pretty open-ended but I hope it will be thrilling. Please work together, help each other, share resources and generally expand your understanding of gradient descent as you try and achieve this implementation. \n",
    "\n",
    "## Suggestions:\n",
    "\n",
    "Start off with a model that has just two $X$ variables You can use any datasets that have at least two x variables. Potential candidates might be the blood pressure dataset that we used during lecture on Monday: [HERE](https://college.cengage.com/mathematics/brase/understandable_statistics/7e/students/datasets/mlr/excel/mlr02.xls) or any of the housing datasets. You would just need to select from them the two varaibles $x$ variables and one y variable that you want to work with that you most want to work with. \n",
    "\n",
    "Use Sklearn to find the optimal parameters of your model first. (like we did during the lecture.) So that you can compare the parameter estimates of your gradient-descent linear regression to the estimates of OLS linear regression. If implemented correctly they should be nearly identical.\n",
    "\n",
    "Becoming a Data Scientist is all about striking out into the unknown, getting stuck and then researching and fighting and learning until you get yourself unstuck. Work together! And fight to take your own learning-rate fueled step towards your own optimal understanding of gradient descent! \n"
   ]
  },
  {
   "cell_type": "code",
   "execution_count": 121,
   "metadata": {
    "colab": {},
    "colab_type": "code",
    "id": "_tWzF6IqXIIq"
   },
   "outputs": [],
   "source": [
    "import pandas as pd\n",
    "import numpy as np\n",
    "import matplotlib.pyplot as plt\n",
    "from scipy.stats import zscore\n",
    "from mpl_toolkits.mplot3d import Axes3D\n",
    "from sklearn.linear_model import LinearRegression"
   ]
  },
  {
   "cell_type": "code",
   "execution_count": 88,
   "metadata": {},
   "outputs": [
    {
     "data": {
      "image/png": "[encoded data removed]",
      "text/plain": [
       "<Figure size 432x288 with 1 Axes>"
      ]
     },
     "metadata": {
      "needs_background": "light"
     },
     "output_type": "display_data"
    }
   ],
   "source": [
    "# # Read Data\n",
    "df = pd.read_csv('data.csv')\n",
    "\n",
    "# Creat Scatterplot\n",
    "plt.scatter(df.X1, df.X3)\n",
    "\n",
    "X = df.X1[:, np.newaxis]\n",
    "y = df.X3\n",
    "\n",
    "# Create Hypothesis Function Lines\n",
    "h1 = [1.2*x + 10 for x in X]\n",
    "h2 = [x + 50 for x in X]\n",
    "h3 = [x + 30 for x in X]\n",
    "plt.plot(X, h1)\n",
    "plt.plot(X, h2)\n",
    "plt.plot(X, h3)\n",
    "# plt.plot(x_value, prediction, 'ro')\n",
    "\n",
    "# Graph axes and title\n",
    "plt.ylabel(\"X3\")\n",
    "plt.xlabel(\"X1\")\n",
    "plt.title(\"Hypothesis Functions\")\n",
    "\n",
    "# Plot Hypothesis Functions\n",
    "plt.show()"
   ]
  },
  {
   "cell_type": "code",
   "execution_count": 113,
   "metadata": {},
   "outputs": [
    {
     "name": "stdout",
     "output_type": "stream",
     "text": [
      "1.2332321550964458\n",
      "9.903064721433452\n"
     ]
    },
    {
     "data": {
      "image/png": "[encoded data removed]",
      "text/plain": [
       "<Figure size 432x288 with 1 Axes>"
      ]
     },
     "metadata": {
      "needs_background": "light"
     },
     "output_type": "display_data"
    }
   ],
   "source": [
    "# Fit Model\n",
    "model = LinearRegression()\n",
    "model.fit(X, y)\n",
    "\n",
    "# Assign coefficient and intercept to variables (beta_1, and beta_0)\n",
    "beta_1 = model.coef_[0]\n",
    "beta_0 = model.intercept_\n",
    "\n",
    "print(beta_1)\n",
    "print(beta_0)\n",
    "\n",
    "# Make a single prediction for X1\n",
    "x_value = 137\n",
    "\n",
    "# Calculate predicted value\n",
    "prediction = beta_1*x_value + beta_0\n",
    "\n",
    "# Creat Scatterplot\n",
    "plt.scatter(df.X1, df.X3)\n",
    "\n",
    "# Plot the Regression Line and predicted value\n",
    "y_hat = [beta_1*x + beta_0 for x in X]\n",
    "plt.plot(X, y_hat)\n",
    "plt.plot(x_value, prediction, 'ro')\n",
    "\n",
    "# Graph axes and title\n",
    "plt.ylabel(\"X3\")\n",
    "plt.xlabel(\"X1\")\n",
    "\n",
    "# Plot the error (residual)\n",
    "plt.arrow(137, 179, 0, 8.2, color='black')\n",
    "plt.show()"
   ]
  },
  {
   "cell_type": "code",
   "execution_count": 151,
   "metadata": {},
   "outputs": [
    {
     "name": "stdout",
     "output_type": "stream",
     "text": [
      "(11, 3)\n"
     ]
    },
    {
     "data": {
      "text/html": [
       "<div>\n",
       "<style scoped>\n",
       "    .dataframe tbody tr th:only-of-type {\n",
       "        vertical-align: middle;\n",
       "    }\n",
       "\n",
       "    .dataframe tbody tr th {\n",
       "        vertical-align: top;\n",
       "    }\n",
       "\n",
       "    .dataframe thead th {\n",
       "        text-align: right;\n",
       "    }\n",
       "</style>\n",
       "<table border=\"1\" class=\"dataframe\">\n",
       "  <thead>\n",
       "    <tr style=\"text-align: right;\">\n",
       "      <th></th>\n",
       "      <th>bp</th>\n",
       "      <th>age</th>\n",
       "      <th>weight</th>\n",
       "    </tr>\n",
       "  </thead>\n",
       "  <tbody>\n",
       "    <tr>\n",
       "      <th>0</th>\n",
       "      <td>-1.392392</td>\n",
       "      <td>-1.203018</td>\n",
       "      <td>-1.332610</td>\n",
       "    </tr>\n",
       "    <tr>\n",
       "      <th>1</th>\n",
       "      <td>-0.545762</td>\n",
       "      <td>-0.397519</td>\n",
       "      <td>-0.666305</td>\n",
       "    </tr>\n",
       "    <tr>\n",
       "      <th>2</th>\n",
       "      <td>0.223902</td>\n",
       "      <td>0.523051</td>\n",
       "      <td>-0.060573</td>\n",
       "    </tr>\n",
       "    <tr>\n",
       "      <th>3</th>\n",
       "      <td>0.916600</td>\n",
       "      <td>1.213479</td>\n",
       "      <td>0.969171</td>\n",
       "    </tr>\n",
       "    <tr>\n",
       "      <th>4</th>\n",
       "      <td>0.300869</td>\n",
       "      <td>0.177837</td>\n",
       "      <td>0.060573</td>\n",
       "    </tr>\n",
       "    <tr>\n",
       "      <th>5</th>\n",
       "      <td>1.378398</td>\n",
       "      <td>1.328551</td>\n",
       "      <td>1.514330</td>\n",
       "    </tr>\n",
       "    <tr>\n",
       "      <th>6</th>\n",
       "      <td>-1.007560</td>\n",
       "      <td>-0.972876</td>\n",
       "      <td>-0.424012</td>\n",
       "    </tr>\n",
       "    <tr>\n",
       "      <th>7</th>\n",
       "      <td>-0.083963</td>\n",
       "      <td>-0.167376</td>\n",
       "      <td>-0.424012</td>\n",
       "    </tr>\n",
       "    <tr>\n",
       "      <th>8</th>\n",
       "      <td>0.685700</td>\n",
       "      <td>0.292909</td>\n",
       "      <td>0.726878</td>\n",
       "    </tr>\n",
       "    <tr>\n",
       "      <th>9</th>\n",
       "      <td>-1.700257</td>\n",
       "      <td>-1.893446</td>\n",
       "      <td>-1.696050</td>\n",
       "    </tr>\n",
       "    <tr>\n",
       "      <th>10</th>\n",
       "      <td>1.224465</td>\n",
       "      <td>1.098408</td>\n",
       "      <td>1.332610</td>\n",
       "    </tr>\n",
       "  </tbody>\n",
       "</table>\n",
       "</div>"
      ],
      "text/plain": [
       "          bp       age    weight\n",
       "0  -1.392392 -1.203018 -1.332610\n",
       "1  -0.545762 -0.397519 -0.666305\n",
       "2   0.223902  0.523051 -0.060573\n",
       "3   0.916600  1.213479  0.969171\n",
       "4   0.300869  0.177837  0.060573\n",
       "5   1.378398  1.328551  1.514330\n",
       "6  -1.007560 -0.972876 -0.424012\n",
       "7  -0.083963 -0.167376 -0.424012\n",
       "8   0.685700  0.292909  0.726878\n",
       "9  -1.700257 -1.893446 -1.696050\n",
       "10  1.224465  1.098408  1.332610"
      ]
     },
     "execution_count": 151,
     "metadata": {},
     "output_type": "execute_result"
    }
   ],
   "source": [
    "# Normalize the dataframe\n",
    "bp = df.rename(index=str, columns={\"X1\": \"bp\", \"X2\": \"age\", \"X3\": \"weight\"})\n",
    "print(bp.shape)\n",
    "bp.head()\n",
    "bp.apply(zscore)"
   ]
  },
  {
   "cell_type": "code",
   "execution_count": 152,
   "metadata": {},
   "outputs": [
    {
     "data": {
      "image/png": "[encoded data removed]",
      "text/plain": [
       "<Figure size 432x288 with 1 Axes>"
      ]
     },
     "metadata": {
      "needs_background": "light"
     },
     "output_type": "display_data"
    }
   ],
   "source": [
    "fig = plt.figure()\n",
    "ax = fig.add_subplot(111, projection='3d')\n",
    "\n",
    "ax.scatter(df.X2, df.X3, df.X1, c='r', marker='o')\n",
    "ax.view_init(30, 185)\n",
    "\n",
    "ax.set_xlabel('Age')\n",
    "ax.set_ylabel('Weight')\n",
    "ax.set_zlabel('BP')\n",
    "\n",
    "plt.show()"
   ]
  },
  {
   "cell_type": "code",
   "execution_count": 167,
   "metadata": {},
   "outputs": [
    {
     "ename": "ValueError",
     "evalue": "operands could not be broadcast together with shapes (11,3) (3,1) ",
     "output_type": "error",
     "traceback": [
      "\u001b[0;31m---------------------------------------------------------------------------\u001b[0m",
      "\u001b[0;31mValueError\u001b[0m                                Traceback (most recent call last)",
      "\u001b[0;32m<ipython-input-167-003cf9e327c7>\u001b[0m in \u001b[0;36m<module>\u001b[0;34m\u001b[0m\n\u001b[1;32m     12\u001b[0m     \u001b[0;32mreturn\u001b[0m \u001b[0mnp\u001b[0m\u001b[0;34m.\u001b[0m\u001b[0msum\u001b[0m\u001b[0;34m(\u001b[0m\u001b[0mtobesummed\u001b[0m\u001b[0;34m)\u001b[0m\u001b[0;34m/\u001b[0m\u001b[0;34m(\u001b[0m\u001b[0;36m2\u001b[0m \u001b[0;34m*\u001b[0m \u001b[0mlen\u001b[0m\u001b[0;34m(\u001b[0m\u001b[0mX\u001b[0m\u001b[0;34m)\u001b[0m\u001b[0;34m)\u001b[0m\u001b[0;34m\u001b[0m\u001b[0m\n\u001b[1;32m     13\u001b[0m \u001b[0;34m\u001b[0m\u001b[0m\n\u001b[0;32m---> 14\u001b[0;31m \u001b[0mcomputeCost\u001b[0m\u001b[0;34m(\u001b[0m\u001b[0mX\u001b[0m\u001b[0;34m,\u001b[0m \u001b[0my\u001b[0m\u001b[0;34m,\u001b[0m \u001b[0mtheta\u001b[0m\u001b[0;34m)\u001b[0m\u001b[0;34m\u001b[0m\u001b[0m\n\u001b[0m",
      "\u001b[0;32m<ipython-input-167-003cf9e327c7>\u001b[0m in \u001b[0;36mcomputeCost\u001b[0;34m(X, y, theta)\u001b[0m\n\u001b[1;32m      9\u001b[0m \u001b[0;31m#computecost\u001b[0m\u001b[0;34m\u001b[0m\u001b[0;34m\u001b[0m\u001b[0m\n\u001b[1;32m     10\u001b[0m \u001b[0;32mdef\u001b[0m \u001b[0mcomputeCost\u001b[0m\u001b[0;34m(\u001b[0m\u001b[0mX\u001b[0m\u001b[0;34m,\u001b[0m \u001b[0my\u001b[0m\u001b[0;34m,\u001b[0m \u001b[0mtheta\u001b[0m\u001b[0;34m)\u001b[0m\u001b[0;34m:\u001b[0m\u001b[0;34m\u001b[0m\u001b[0m\n\u001b[0;32m---> 11\u001b[0;31m     \u001b[0mtobesummed\u001b[0m \u001b[0;34m=\u001b[0m \u001b[0;34m(\u001b[0m\u001b[0;34m(\u001b[0m\u001b[0mX\u001b[0m \u001b[0;34m*\u001b[0m \u001b[0mtheta\u001b[0m\u001b[0;34m.\u001b[0m\u001b[0mT\u001b[0m\u001b[0;34m)\u001b[0m \u001b[0;34m-\u001b[0m \u001b[0my\u001b[0m\u001b[0;34m)\u001b[0m\u001b[0;34m**\u001b[0m\u001b[0;36m2\u001b[0m\u001b[0;34m\u001b[0m\u001b[0m\n\u001b[0m\u001b[1;32m     12\u001b[0m     \u001b[0;32mreturn\u001b[0m \u001b[0mnp\u001b[0m\u001b[0;34m.\u001b[0m\u001b[0msum\u001b[0m\u001b[0;34m(\u001b[0m\u001b[0mtobesummed\u001b[0m\u001b[0;34m)\u001b[0m\u001b[0;34m/\u001b[0m\u001b[0;34m(\u001b[0m\u001b[0;36m2\u001b[0m \u001b[0;34m*\u001b[0m \u001b[0mlen\u001b[0m\u001b[0;34m(\u001b[0m\u001b[0mX\u001b[0m\u001b[0;34m)\u001b[0m\u001b[0;34m)\u001b[0m\u001b[0;34m\u001b[0m\u001b[0m\n\u001b[1;32m     13\u001b[0m \u001b[0;34m\u001b[0m\u001b[0m\n",
      "\u001b[0;31mValueError\u001b[0m: operands could not be broadcast together with shapes (11,3) (3,1) "
     ]
    }
   ],
   "source": [
    "#Extract our features\n",
    "x1 = features[:,0]\n",
    "x2 = features[:,1]\n",
    "x3 = features[:,2]\n",
    "\n",
    "# Use matrix cross product (*) to simultaneously\n",
    "# calculate the derivative for each weight\n",
    "d_w1 = -x1*(targets - predictions)\n",
    "d_w2 = -x2*(targets - predictions)\n",
    "d_w3 = -x3*(targets - predictions)\n",
    "\n",
    "# Multiply the mean derivative by the learning rate\n",
    "# and subtract from our weights (remember gradient points in direction of steepest ASCENT)\n",
    "weights[0][0] -= (lr * np.mean(d_w1))\n",
    "weights[1][0] -= (lr * np.mean(d_w2))\n",
    "weights[2][0] -= (lr * np.mean(d_w3))\n",
    "\n",
    "#setting the matrixes\n",
    "X = bp.iloc[:,0:2]\n",
    "ones = np.ones([X.shape[0],1])\n",
    "X = np.concatenate((ones, X),axis=1)\n",
    "\n",
    "y = bp.iloc[:,2:3].values #.values converts it from pandas.core.frame.DataFrame to numpy.ndarray\n",
    "theta = np.zeros([1,3])\n",
    "\n",
    "#computecost\n",
    "def computeCost(X, y, theta):\n",
    "    tobesummed = ((X * theta.T) - y)**2\n",
    "    return np.sum(tobesummed)/(2 * len(X))\n",
    "\n",
    "computeCost(X, y, theta)"
   ]
  },
  {
   "cell_type": "code",
   "execution_count": 165,
   "metadata": {},
   "outputs": [
    {
     "ename": "SyntaxError",
     "evalue": "invalid syntax (<ipython-input-165-17a697fc8e61>, line 8)",
     "output_type": "error",
     "traceback": [
      "\u001b[0;36m  File \u001b[0;32m\"<ipython-input-165-17a697fc8e61>\"\u001b[0;36m, line \u001b[0;32m8\u001b[0m\n\u001b[0;31m    theta = theta - (alpha/len(X)) * (np.sum(X * (np.dot(X, theta.T - y), axis = 0)))\u001b[0m\n\u001b[0m                                                                               ^\u001b[0m\n\u001b[0;31mSyntaxError\u001b[0m\u001b[0;31m:\u001b[0m invalid syntax\n"
     ]
    }
   ],
   "source": [
    "#set hyper parameters\n",
    "alpha = 0.01\n",
    "iters = 1000\n",
    "\n",
    "def gradientDescent(X,y,theta,iters,alpha):\n",
    "    cost = np.zeros(iters)\n",
    "    for i in range(iters):\n",
    "        theta = theta - (alpha/len(X)) * (np.sum(X * X * (theta.T - y), axis = 0))\n",
    "        cost[i] = computeCost(X, y, theta)\n",
    "    \n",
    "    return theta, cost\n",
    "\n",
    "g = gradientDescent(X, y, theta, iters, alpha)\n",
    "print(g)\n",
    "\n",
    "finalCost = computeCost(X, y, g)\n",
    "print(finalCost)"
   ]
  },
  {
   "cell_type": "code",
   "execution_count": 156,
   "metadata": {},
   "outputs": [
    {
     "data": {
      "text/plain": [
       "Text(0.5, 1.0, 'Gradient Descent')"
      ]
     },
     "execution_count": 156,
     "metadata": {},
     "output_type": "execute_result"
    },
    {
     "data": {
      "image/png": "[encoded data removed]",
      "text/plain": [
       "<Figure size 432x288 with 1 Axes>"
      ]
     },
     "metadata": {
      "needs_background": "light"
     },
     "output_type": "display_data"
    }
   ],
   "source": [
    "fig, ax = plt.subplots()  \n",
    "ax.plot(np.arange(iters), cost, 'r')  \n",
    "ax.set_xlabel('Iterations')  \n",
    "ax.set_ylabel('Cost')  \n",
    "ax.set_title('Gradient Descent')  "
   ]
  },
  {
   "cell_type": "markdown",
   "metadata": {
    "colab_type": "text",
    "id": "RCs6EmWhYPM-"
   },
   "source": [
    "## Stretch Goals\n",
    "\n",
    "If you happen upon the most useful resources for accomplishing this challenge first, I want you to spend time today studying other variations of Gradient Descent-Based Optimizers.\n",
    "\n",
    "- Try and write a function that can perform gradient descent for arbitarily large (in dimensionality) multiple regression models. \n",
    "- Create a notebook for yourself exploring these topics\n",
    "- How do they differ from the \"vanilla\" gradient descent we explored today\n",
    "- How do these different gradient descent-based optimizers seek to overcome the challenge of finding the global minimum among various local minima?\n",
    "- Write a blog post that reteaches what you have learned about these other gradient descent-based optimizers.\n",
    "\n",
    "[Overview of GD-based optimizers](http://ruder.io/optimizing-gradient-descent/)\n",
    "\n",
    "[Siraj Raval - Evolution of Gradient Descent-Based Optimizers](https://youtu.be/nhqo0u1a6fw)"
   ]
  },
  {
   "cell_type": "code",
   "execution_count": null,
   "metadata": {},
   "outputs": [],
   "source": []
  }
 ],
 "metadata": {
  "colab": {
   "name": "Gradient Descent Assignment.ipynb",
   "provenance": [],
   "version": "0.3.2"
  },
  "kernelspec": {
   "display_name": "Python 3",
   "language": "python",
   "name": "python3"
  },
  "language_info": {
   "codemirror_mode": {
    "name": "ipython",
    "version": 3
   },
   "file_extension": ".py",
   "mimetype": "text/x-python",
   "name": "python",
   "nbconvert_exporter": "python",
   "pygments_lexer": "ipython3",
   "version": "3.6.6"
  }
 },
 "nbformat": 4,
 "nbformat_minor": 2
}
