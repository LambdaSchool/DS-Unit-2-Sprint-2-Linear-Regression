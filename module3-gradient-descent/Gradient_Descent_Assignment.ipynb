{
  "nbformat": 4,
  "nbformat_minor": 0,
  "metadata": {
    "colab": {
      "name": "Gradient Descent Assignment.ipynb",
      "version": "0.3.2",
      "provenance": [],
      "collapsed_sections": [],
      "include_colab_link": true
    },
    "kernelspec": {
      "name": "python3",
      "display_name": "Python 3"
    }
  },
  "cells": [
    {
      "cell_type": "markdown",
      "metadata": {
        "id": "view-in-github",
        "colab_type": "text"
      },
      "source": [
        "<a href=\"https://colab.research.google.com/github/extrajp2014/DS-Unit-2-Sprint-2-Linear-Regression/blob/master/module3-gradient-descent/Gradient_Descent_Assignment.ipynb\" target=\"_parent\"><img src=\"https://colab.research.google.com/assets/colab-badge.svg\" alt=\"Open In Colab\"/></a>"
      ]
    },
    {
      "metadata": {
        "id": "Qhm0Y_jqXKRv",
        "colab_type": "text"
      },
      "cell_type": "markdown",
      "source": [
        "# Gradient Descent Implementation Challenge!!\n",
        "\n",
        "## Use gradient descent to find the optimal parameters of a **multiple** regression model. (We only showed an implementation for a bivariate model during lecture.)\n",
        "\n",
        "A note: Implementing gradient descent in any context is not trivial, particularly the step where we calculate the gradient will change based on the number of parameters that we're trying to optimize for. You will need to research what the gradient of a multiple regression model looks like. This challenge is pretty open-ended but I hope it will be thrilling. Please work together, help each other, share resources and generally expand your understanding of gradient descent as you try and achieve this implementation. \n",
        "\n",
        "## Suggestions:\n",
        "\n",
        "Start off with a model that has just two $X$ variables You can use any datasets that have at least two $x$ variables. Potential candidates might be the blood pressure dataset that we used during lecture on Monday: [HERE](https://college.cengage.com/mathematics/brase/understandable_statistics/7e/students/datasets/mlr/excel/mlr02.xls) or any of the housing datasets. You would just need to select from them the two $x$ variables and one $y$ variable that you want to work with. \n",
        "\n",
        "Use Sklearn to find the optimal parameters of your model first. (like we did during the lecture.) So that you can compare the parameter estimates of your gradient-descent linear regression to the estimates of OLS linear regression. If implemented correctly they should be nearly identical.\n",
        "\n",
        "Becoming a Data Scientist is all about striking out into the unknown, getting stuck and then researching and fighting and learning until you get yourself unstuck. Work together! And fight to take your own learning-rate fueled step towards your own optimal understanding of gradient descent! \n"
      ]
    },
    {
      "metadata": {
        "id": "xXTBGjPiZ5Mm",
        "colab_type": "code",
        "colab": {}
      },
      "cell_type": "code",
      "source": [
        "\n",
        "from scipy import stats\n",
        "import numpy as np\n",
        "import pandas as pd\n",
        "import matplotlib.pyplot as plt\n",
        "%matplotlib inline\n",
        "import math\n",
        "import seaborn as sns\n",
        "from sklearn.decomposition import PCA\n",
        "from sklearn.cluster import KMeans\n",
        "from sklearn.preprocessing import StandardScaler\n",
        "from sklearn.metrics import mean_squared_error, r2_score\n",
        "from sklearn.linear_model import LinearRegression\n",
        "from sklearn.model_selection import train_test_split\n",
        "\n",
        "pd.set_option('display.height', 500)\n",
        "pd.set_option('display.max_rows', 500)\n",
        "pd.set_option('display.max_columns', 500)\n",
        "pd.set_option('display.width', 500)\n",
        "pd.options.display.float_format = '{:,}'.format\n",
        "\n",
        "df = pd.read_csv('https://raw.githubusercontent.com/ryanleeallred/datasets/master/Ames%20Housing%20Data/train.csv') \n"
      ],
      "execution_count": 0,
      "outputs": []
    },
    {
      "metadata": {
        "id": "_tWzF6IqXIIq",
        "colab_type": "code",
        "outputId": "cacc1f42-5da1-4900-82ee-181618ef376d",
        "colab": {
          "base_uri": "https://localhost:8080/",
          "height": 430
        }
      },
      "cell_type": "code",
      "source": [
        "# \"Multiple Variables\" Gradient Descent Version\n",
        "################################ \n",
        "# https://medium.com/we-are-orb/multivariate-linear-regression-in-python-without-scikit-learn-7091b1d45905\n",
        "\n",
        "# data source\n",
        "temp = df[list(df.select_dtypes(include=[np.number]))].copy()\n",
        "temp.fillna(0, inplace=True)\n",
        "\n",
        "# normalize the features using mean normalization\n",
        "# temp = (temp - temp.mean())/temp.std() - be careful with this, CAUSE unequal beta0 and beta1 between methods!\n",
        "\n",
        "# Create matrices\n",
        "# Set X, y, theta values for Gradient Descent - Multivariate\n",
        "X = temp[['LotFrontage','LotArea']]\n",
        "y = temp[['SalePrice']].values\n",
        "\n",
        "# y = temp.loc[:, ['SalePrice']].values\n",
        "\n",
        "# Normalize X values\n",
        "X = (X - X.mean()) / X.std()\n",
        "# Turn X into a matrix by stacking the arrays\n",
        "# ones = np.ones([X.shape[0],1])\n",
        "# X_linalg = np.concatenate((ones,X),axis=1)\n",
        "X_linalg = np.concatenate((np.ones([X.shape[0],1]),X),axis=1)\n",
        "\n",
        "\n",
        "# Linear Regression Method\n",
        "################################ \n",
        "def linear_regression_std(X,y):\n",
        "  model = LinearRegression()\n",
        "  model.fit(X, y)\n",
        "  # Assign coefficient and intercept to variables (beta_1, and beta_0)\n",
        "  beta_1 = model.coef_[0]\n",
        "  beta_0 = model.intercept_\n",
        "  print(\"-----Standard Linear Regression-------\")\n",
        "  print(\"beta_1: \", beta_1)\n",
        "  print(\"beta_0: \", beta_0)\n",
        "linear_regression_std(X,y)\n",
        "print(\"\")\n",
        "\n",
        "\n",
        "#Gradient Descent Method\n",
        "################################ \n",
        "# set hyper parameters\n",
        "alpha = 0.01\n",
        "iters = 1000\n",
        "# Other Important Variables\n",
        "n = y.size\n",
        "np.random.seed(42)\n",
        "theta = np.zeros([1,3]) # set 0 for null theta\n",
        "\n",
        "# computecost\n",
        "# gradient descent to minimize this cost\n",
        "def computeCost(X,y,theta):\n",
        "    tobesummed = np.power(((X @ theta.T)-y),2)\n",
        "    return np.sum(tobesummed)/(2 * len(X))\n",
        "\n",
        "\n",
        "# blog function\n",
        "def gradientDescent(X,y,theta,iters,alpha):\n",
        "    cost = np.zeros(iters)\n",
        "    for i in range(iters):\n",
        "        theta = theta - (alpha/len(X)) * np.sum(X * (X @ theta.T - y), axis=0)\n",
        "        cost[i] = computeCost(X, y, theta)\n",
        "    return theta,cost\n",
        "\n",
        "#running the gd and cost function\n",
        "print(\"------MultigradientDescent v2.0------\")\n",
        "g,cost = gradientDescent(X_linalg,y,theta,iters,alpha)\n",
        "print(g)\n",
        "print(\"\")\n",
        "finalCost = computeCost(X_linalg,y,g)\n",
        "print('finalCost:',finalCost)\n",
        "\n",
        "#plot the cost\n",
        "fig, ax = plt.subplots()  \n",
        "ax.plot(np.arange(iters), cost, 'r')  \n",
        "ax.set_xlabel('Iterations')  \n",
        "ax.set_ylabel('Cost')  \n",
        "ax.set_title('Error vs. Training Epoch')\n",
        "plt.show()"
      ],
      "execution_count": 3,
      "outputs": [
        {
          "output_type": "stream",
          "text": [
            "-----Standard Linear Regression-------\n",
            "beta_1:  [14690.61232484 19480.4616011 ]\n",
            "beta_0:  [180921.19589041]\n",
            "\n",
            "------MultigradientDescent v2.0------\n",
            "[[180913.3852967   14690.63146119  19479.90541239]]\n",
            "\n",
            "finalCost: 2827137279.4628644\n"
          ],
          "name": "stdout"
        },
        {
          "output_type": "display_data",
          "data": {
            "image/png": "[encoded data removed]",
            "text/plain": [
              "<Figure size 432x288 with 1 Axes>"
            ]
          },
          "metadata": {
            "tags": []
          }
        }
      ]
    },
    {
      "metadata": {
        "id": "NIG760KnuUG7",
        "colab_type": "code",
        "outputId": "14f99ba1-8398-4b3e-b72e-feb5957e1e30",
        "colab": {
          "base_uri": "https://localhost:8080/",
          "height": 430
        }
      },
      "cell_type": "code",
      "source": [
        "# Bivariate Gradient Descent\n",
        "################################ \n",
        "\n",
        "temp = df[list(df.select_dtypes(include=[np.number]))].copy()\n",
        "temp.fillna(0, inplace=True)\n",
        "\n",
        "# normalize the features using mean normalization\n",
        "# temp = (temp - temp.mean())/temp.std()\n",
        "\n",
        "# Create matrices\n",
        "# Set X, y, theta values for Gradient Descent - Multivariate\n",
        "X = temp['LotFrontage'].values[:, np.newaxis]\n",
        "y = temp['SalePrice'].values\n",
        "# Normalize X values\n",
        "X = (X - X.mean()) / X.std()\n",
        "# Turn X into a matrix by stacking the arrays\n",
        "X_linalg = np.c_[np.ones(X.shape[0]), X] \n",
        "# Create y variable list\n",
        "\n",
        "# Linear Regression Method - No Training\n",
        "################################ \n",
        "def linear_regression_std(X,y):\n",
        "  model = LinearRegression()\n",
        "  model.fit(X, y)\n",
        "  # Assign coefficient and intercept to variables (beta_1, and beta_0)\n",
        "  beta_1 = model.coef_[0]\n",
        "  beta_0 = model.intercept_\n",
        "  print(\"-----Standard Linear Regression-------\")\n",
        "  print(\"beta_1: \", beta_1)\n",
        "  print(\"beta_0: \", beta_0)\n",
        "linear_regression_std(X,y)\n",
        "print(\"\")\n",
        "\n",
        "# Bivariate Gradient-Descent Method\n",
        "################################ \n",
        "# Set hyperparameters\n",
        "alpha = .01\n",
        "iterations = 2000\n",
        "n = len(y)\n",
        "np.random.seed(42)\n",
        "theta = [0,0]\n",
        "\n",
        "def gradient_descent(x, y, theta, iterations, alpha):\n",
        "  past_costs = []\n",
        "  for i in range(iterations):\n",
        "    prediction = np.dot(X_linalg, theta)\n",
        "    error = prediction - y\n",
        "    theta = theta - (alpha * (1/n)*np.dot(X_linalg.T, error))\n",
        "    cost = np.dot(error.T, error)\n",
        "    past_costs.append(cost)\n",
        "  return theta, past_costs\n",
        "\n",
        "theta, past_costs = gradient_descent(X_linalg, y, theta, iterations, alpha)\n",
        "print(\"-----Bivariate Gradient-Descent-------\")\n",
        "print(\"beta_1: \", theta[1])\n",
        "print(\"beta_0: \", theta[0])\n",
        "print(\"\")\n",
        "\n",
        "#plot the cost\n",
        "plt.plot(past_costs,c='g')\n",
        "plt.title('Cost Reduction by Iteration')\n",
        "plt.xlabel('No. of iterations')\n",
        "plt.ylabel('Cost')\n",
        "plt.show()"
      ],
      "execution_count": 4,
      "outputs": [
        {
          "output_type": "stream",
          "text": [
            "-----Standard Linear Regression-------\n",
            "beta_1:  16647.34676255992\n",
            "beta_0:  180921.19589041095\n",
            "\n",
            "-----Bivariate Gradient-Descent-------\n",
            "beta_1:  16647.346731533326\n",
            "beta_0:  180921.1955532178\n",
            "\n"
          ],
          "name": "stdout"
        },
        {
          "output_type": "display_data",
          "data": {
            "image/png": "[encoded data removed]",
            "text/plain": [
              "<Figure size 432x288 with 1 Axes>"
            ]
          },
          "metadata": {
            "tags": []
          }
        }
      ]
    },
    {
      "metadata": {
        "id": "RCs6EmWhYPM-",
        "colab_type": "text"
      },
      "cell_type": "markdown",
      "source": [
        "## Stretch Goals\n",
        "\n",
        "If you happen upon the most useful resources for accomplishing this challenge first, I want you to spend time today studying other variations of Gradient Descent-Based Optimizers. A good list of the most common optimizers can be found in the Keras Documentation: <https://keras.io/optimizers/>\n",
        "\n",
        "- Try and write a function that can perform gradient descent for arbitarily large (in dimensionality) multiple regression models. \n",
        "- Create a notebook for yourself exploring the different gradient descent based optimizers.\n",
        "- How do the above differ from the \"vanilla\" gradient descent we explored today?\n",
        "- How do these different gradient descent-based optimizers seek to overcome the challenge of finding the global minimum among various local minima?\n",
        "- Write a blog post that reteaches what you have learned about these other gradient descent-based optimizers.\n",
        "\n",
        "[Overview of GD-based optimizers](http://ruder.io/optimizing-gradient-descent/)\n",
        "\n",
        "[Siraj Raval - Evolution of Gradient Descent-Based Optimizers](https://youtu.be/nhqo0u1a6fw)"
      ]
    }
  ]
}