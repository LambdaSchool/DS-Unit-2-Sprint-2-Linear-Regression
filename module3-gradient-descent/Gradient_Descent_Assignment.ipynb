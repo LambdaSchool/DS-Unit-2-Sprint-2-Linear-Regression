{
  "nbformat": 4,
  "nbformat_minor": 0,
  "metadata": {
    "colab": {
      "name": "Gradient Descent Assignment.ipynb",
      "version": "0.3.2",
      "provenance": []
    },
    "kernelspec": {
      "name": "python3",
      "display_name": "Python 3"
    }
  },
  "cells": [
    {
      "metadata": {
        "id": "Qhm0Y_jqXKRv",
        "colab_type": "text"
      },
      "cell_type": "markdown",
      "source": [
        "# Gradient Descent Implementation Challenge!!\n",
        "\n",
        "## Use gradient descent to find the optimal parameters of a **multiple** regression model. (We only showed an implementation for a bivariate model during lecture.)\n",
        "\n",
        "A note: Implementing gradient descent in any context is not trivial, particularly the step where we calculate the gradient will change based on the number of parameters that we're trying to optimize for. You will need to research what the gradient of a multiple regression model looks like. This challenge is pretty open-ended but I hope it will be thrilling. Please work together, help each other, share resources and generally expand your understanding of gradient descent as you try and achieve this implementation. \n",
        "\n",
        "## Suggestions:\n",
        "\n",
        "Start off with a model that has just two $X$ variables You can use any datasets that have at least two x variables. Potential candidates might be the blood pressure dataset that we used during lecture on Monday: [HERE](https://college.cengage.com/mathematics/brase/understandable_statistics/7e/students/datasets/mlr/excel/mlr02.xls) or any of the housing datasets. You would just need to select from them the two varaibles $x$ variables and one y variable that you want to work with that you most want to work with. \n",
        "\n",
        "Use Sklearn to find the optimal parameters of your model first. (like we did during the lecture.) So that you can compare the parameter estimates of your gradient-descent linear regression to the estimates of OLS linear regression. If implemented correctly they should be nearly identical.\n",
        "\n",
        "Becoming a Data Scientist is all about striking out into the unknown, getting stuck and then researching and fighting and learning until you get yourself unstuck. Work together! And fight to take your own learning-rate fueled step towards your own optimal understanding of gradient descent! \n"
      ]
    },
    {
      "metadata": {
        "id": "_tWzF6IqXIIq",
        "colab_type": "code",
        "colab": {}
      },
      "cell_type": "code",
      "source": [
        "#!pip install seaborn --upgrade\n",
        "\n",
        "import pandas as pd\n",
        "import numpy as np\n",
        "import matplotlib.pyplot as plt\n",
        "import seaborn as sns\n",
        "import missingno as msno\n",
        "from scipy.stats import norm\n",
        "from sklearn.preprocessing import StandardScaler\n",
        "from scipy import stats\n",
        "import warnings\n",
        "\n",
        "warnings.filterwarnings('ignore')\n",
        "pd.set_option('display.height', 1000)\n",
        "pd.set_option('display.max_rows', 500)\n",
        "pd.set_option('display.max_columns', 500)\n",
        "pd.set_option('display.width', 1000)\n",
        "\n",
        "pd.set_option('chop_threshold', 0.001)\n",
        "pd.set_option('precision',4)"
      ],
      "execution_count": 0,
      "outputs": []
    },
    {
      "metadata": {
        "id": "sb1wi8MItNF_",
        "colab_type": "code",
        "colab": {
          "base_uri": "https://localhost:8080/",
          "height": 351
        },
        "outputId": "e9c3a2f6-10e5-4274-bc86-2aa37ecd8b66"
      },
      "cell_type": "code",
      "source": [
        "df = pd.read_csv(\"https://raw.githubusercontent.com/ryanleeallred/datasets/master/Ames%20Housing%20Data/train.csv\")\n",
        "df['log_price'] = np.log(df['SalePrice'])\n",
        "df = df[['log_price','OverallQual', 'GrLivArea','GarageCars', 'GarageArea','TotalBsmtSF',]]\n",
        "correlation_matrix = df.corr()\n",
        "f, ax = plt.subplots(figsize=(5, 5))\n",
        "sns.heatmap(correlation_matrix, vmax=.95, square=True);"
      ],
      "execution_count": 2,
      "outputs": [
        {
          "output_type": "display_data",
          "data": {
            "image/png": "[encoded data removed]",
            "text/plain": [
              "<Figure size 360x360 with 2 Axes>"
            ]
          },
          "metadata": {
            "tags": []
          }
        }
      ]
    },
    {
      "metadata": {
        "id": "V1MAYXJStHMl",
        "colab_type": "code",
        "colab": {
          "base_uri": "https://localhost:8080/",
          "height": 119
        },
        "outputId": "d49778da-f078-41a9-8da9-a7f1770ce1bb"
      },
      "cell_type": "code",
      "source": [
        "data = df[[\"OverallQual\",\"GrLivArea\",\"log_price\"]]\n",
        "print(data.head())"
      ],
      "execution_count": 3,
      "outputs": [
        {
          "output_type": "stream",
          "text": [
            "   OverallQual  GrLivArea  log_price\n",
            "0            7       1710    12.2477\n",
            "1            6       1262    12.1090\n",
            "2            7       1786    12.3172\n",
            "3            7       1717    11.8494\n",
            "4            8       2198    12.4292\n"
          ],
          "name": "stdout"
        }
      ]
    },
    {
      "metadata": {
        "id": "e0KcwO5w4bOJ",
        "colab_type": "text"
      },
      "cell_type": "markdown",
      "source": [
        "## Linear Regression with Gradient Descent"
      ]
    },
    {
      "metadata": {
        "id": "baxSSsgR2MN7",
        "colab_type": "text"
      },
      "cell_type": "markdown",
      "source": [
        "Linear regression, an approach to modeling the relationship between a dependent variable and one or more independent variables (if there's one independent variable then it's called simple linear regression, and if there's more than one independent variable then it's called multiple linear regression).\n",
        "\n",
        "Try to create a *linear model of the data X*, using some number of *parameters theta,* that describes the variance of the data such so we can accurately predict what the outcome y would be without actually knowing what y is by inputting a new data point that's not in X. "
      ]
    },
    {
      "metadata": {
        "id": "L7uoSbxf1Bzb",
        "colab_type": "code",
        "colab": {
          "base_uri": "https://localhost:8080/",
          "height": 34
        },
        "outputId": "83daa90f-12da-4443-9208-059ad7158237"
      },
      "cell_type": "code",
      "source": [
        "#### This is the cost function.###\n",
        "# It evaluates the quality of the model by calculating the error between our\n",
        "# model's parameters (theta) and the actual values (Y). This determines it's precision. \n",
        "\n",
        "def computeCost(X, y, theta):\n",
        "    inner = np.power(((X * theta.T) - y), 2)\n",
        "    return np.sum(inner) / (2 * len(X))\n",
        "\n",
        "# Column of 1's needed to make the dataset work right. \n",
        "# append a ones column to the front of the data set\n",
        "data.insert(0, 'Ones', 1)\n",
        "\n",
        "# set X (training data) and y (target variable)\n",
        "cols = data.shape[1]\n",
        "X = data.iloc[:,0:cols-2] # Only doing the first column first. \n",
        "y = data.iloc[:,cols-1:cols]\n",
        " \n",
        "# convert from dataframe to numpy matrices and initialize with empty theta. \n",
        "X = np.matrix(X.values)\n",
        "y = np.matrix(y.values)\n",
        "theta = np.matrix(np.array([0,0]))\n",
        "\n",
        "#check the shapes\n",
        "X.shape, theta.shape, y.shape"
      ],
      "execution_count": 4,
      "outputs": [
        {
          "output_type": "execute_result",
          "data": {
            "text/plain": [
              "((1460, 2), (1, 2), (1460, 1))"
            ]
          },
          "metadata": {
            "tags": []
          },
          "execution_count": 4
        }
      ]
    },
    {
      "metadata": {
        "id": "7eMy--pH4SCy",
        "colab_type": "code",
        "colab": {
          "base_uri": "https://localhost:8080/",
          "height": 34
        },
        "outputId": "c4ed2c71-c1f8-45bb-f217-0d1a41d48046"
      },
      "cell_type": "code",
      "source": [
        "# Just testing that the function works \n",
        "# (theta is set to zero which obviously isn't the answer.\n",
        "computeCost(X, y, theta)"
      ],
      "execution_count": 5,
      "outputs": [
        {
          "output_type": "execute_result",
          "data": {
            "text/plain": [
              "72.36862628931299"
            ]
          },
          "metadata": {
            "tags": []
          },
          "execution_count": 5
        }
      ]
    },
    {
      "metadata": {
        "id": "4w0T3Ycm5dsW",
        "colab_type": "code",
        "colab": {}
      },
      "cell_type": "code",
      "source": [
        "# Gradient Descent function. Each iteration computes the gradient of the error\n",
        "# term and decides which direction to move in. We calculate the changes we need \n",
        "# to make to our model's parameters and make it more accurate. \n",
        "\n",
        "def gradientDescent (X, y, theta, alpha, iters):\n",
        "  temp = np.matrix(np.zeros(theta.shape))\n",
        "  parameters = int(theta.ravel().shape[1])\n",
        "  cost = np.zeros(iters)\n",
        "  \n",
        "  for i in range(iters):\n",
        "    error = (X * theta.T) - y #Uses matrix calculations so X can be any width.(features) \n",
        "    \n",
        "    for j in range (parameters):\n",
        "      term = np.multiply(error, X[:,j])\n",
        "      temp[0,j] = theta[0,j] - ((alpha / len(X)) * np.sum(term))\n",
        "    \n",
        "    theta = temp\n",
        "    cost[i] = computeCost(X, y, theta)\n",
        "    \n",
        "  return theta, cost"
      ],
      "execution_count": 0,
      "outputs": []
    },
    {
      "metadata": {
        "id": "LHyYjzvb7Eoa",
        "colab_type": "code",
        "colab": {
          "base_uri": "https://localhost:8080/",
          "height": 51
        },
        "outputId": "498429de-0f82-4fff-bf4f-e6a70c80936d"
      },
      "cell_type": "code",
      "source": [
        "# initialize variables for learning rate and iterations\n",
        "alpha = 0.01\n",
        "iters = 100\n",
        "\n",
        "# perform gradient descent to \"fit\" the model parameters\n",
        "g, cost = gradientDescent(X, y, theta, alpha, iters)\n",
        "print(f'Output of gradient descent:  {g}')\n",
        "\n",
        "print(f\"Cost Function Output: {computeCost(X,y,g)}\")"
      ],
      "execution_count": 7,
      "outputs": [
        {
          "output_type": "stream",
          "text": [
            "Output of gradient descent:  [[0.7676426  1.76873707]]\n",
            "Cost Function Output: 2.381241195257083\n"
          ],
          "name": "stdout"
        }
      ]
    },
    {
      "metadata": {
        "id": "j5TUIZbu7eRC",
        "colab_type": "code",
        "colab": {
          "base_uri": "https://localhost:8080/",
          "height": 590
        },
        "outputId": "0de4766f-29d8-46bf-c228-f41375c2bd83"
      },
      "cell_type": "code",
      "source": [
        "# Plot the trained model's predicted line vs the train data. \n",
        "x = np.linspace(data.OverallQual.min(), data.OverallQual.max(), 100)\n",
        "f = g[0, 0] + (g[0, 1] * x)\n",
        "\n",
        "fig, ax = plt.subplots(figsize=(6,4))\n",
        "ax.plot(x, f, 'r', label='Prediction')\n",
        "ax.scatter(data.OverallQual, data.log_price, label='Traning Data')\n",
        "ax.legend(loc=2)\n",
        "ax.set_xlabel('Overall Quality')\n",
        "ax.set_ylabel('Sale Price')\n",
        "ax.set_title('Predicted Sale Price vs. Overall Quality')\n",
        "\n",
        "# Plot training curve\n",
        "fig, ax = plt.subplots(figsize=(6,4))\n",
        "ax.plot(np.arange(iters), cost, 'r')\n",
        "ax.set_xlabel('Iterations')\n",
        "ax.set_ylabel('Cost')\n",
        "ax.set_title('Error vs. Training Epoch')"
      ],
      "execution_count": 8,
      "outputs": [
        {
          "output_type": "execute_result",
          "data": {
            "text/plain": [
              "Text(0.5, 1.0, 'Error vs. Training Epoch')"
            ]
          },
          "metadata": {
            "tags": []
          },
          "execution_count": 8
        },
        {
          "output_type": "display_data",
          "data": {
            "image/png": "[encoded data removed]",
            "text/plain": [
              "<Figure size 432x288 with 1 Axes>"
            ]
          },
          "metadata": {
            "tags": []
          }
        },
        {
          "output_type": "display_data",
          "data": {
            "image/png": "[encoded data removed]",
            "text/plain": [
              "<Figure size 432x288 with 1 Axes>"
            ]
          },
          "metadata": {
            "tags": []
          }
        }
      ]
    },
    {
      "metadata": {
        "id": "8F4BbMEw8rHP",
        "colab_type": "text"
      },
      "cell_type": "markdown",
      "source": [
        "### Now lets try with some more iterations! \n",
        "\n",
        "\n",
        "## Nailed it! \n",
        "\n"
      ]
    },
    {
      "metadata": {
        "id": "jrnOi0US8taK",
        "colab_type": "code",
        "colab": {
          "base_uri": "https://localhost:8080/",
          "height": 624
        },
        "outputId": "02c32442-e54b-4f3e-cd16-4982e5d3fa44"
      },
      "cell_type": "code",
      "source": [
        "# initialize variables for learning rate and iterations\n",
        "alpha = 0.01\n",
        "iters = 10000\n",
        "\n",
        "# perform gradient descent to \"fit\" the model parameters\n",
        "g, cost = gradientDescent(X, y, theta, alpha, iters)\n",
        "print(f'Output of gradient descent:  {g}')\n",
        "\n",
        "print(f\"Cost Function Output: {computeCost(X,y,g)}\")\n",
        "\n",
        "# Plot the trained model's predicted line vs the train data.\n",
        "x = np.linspace(data.OverallQual.min(), data.OverallQual.max(), 100)\n",
        "f = g[0, 0] + (g[0, 1] * x)\n",
        "\n",
        "fig, ax = plt.subplots(figsize=(6,4))\n",
        "ax.plot(x, f, 'r', label='Prediction')\n",
        "ax.scatter(data.OverallQual, data.log_price, label='Traning Data')\n",
        "ax.legend(loc=2)\n",
        "ax.set_xlabel('Overall Quality')\n",
        "ax.set_ylabel('Sale Price')\n",
        "ax.set_title('Predicted Sale Price vs. Overall Quality')\n",
        "\n",
        "# Plot training curve\n",
        "fig, ax = plt.subplots(figsize=(6,4))\n",
        "ax.plot(np.arange(iters), cost, 'r')\n",
        "ax.set_xlabel('Iterations')\n",
        "ax.set_ylabel('Cost')\n",
        "ax.set_title('Error vs. Training Epoch')"
      ],
      "execution_count": 9,
      "outputs": [
        {
          "output_type": "stream",
          "text": [
            "Output of gradient descent:  [[10.49727772  0.24963703]]\n",
            "Cost Function Output: 0.026671473972374495\n"
          ],
          "name": "stdout"
        },
        {
          "output_type": "execute_result",
          "data": {
            "text/plain": [
              "Text(0.5, 1.0, 'Error vs. Training Epoch')"
            ]
          },
          "metadata": {
            "tags": []
          },
          "execution_count": 9
        },
        {
          "output_type": "display_data",
          "data": {
            "image/png": "[encoded data removed]",
            "text/plain": [
              "<Figure size 432x288 with 1 Axes>"
            ]
          },
          "metadata": {
            "tags": []
          }
        },
        {
          "output_type": "display_data",
          "data": {
            "image/png": "[encoded data removed]",
            "text/plain": [
              "<Figure size 432x288 with 1 Axes>"
            ]
          },
          "metadata": {
            "tags": []
          }
        }
      ]
    },
    {
      "metadata": {
        "id": "YugXiO9U4RhG",
        "colab_type": "text"
      },
      "cell_type": "markdown",
      "source": [
        "## Multiple Regession with Gradient Descent"
      ]
    },
    {
      "metadata": {
        "id": "jtAJ2sd9-XKh",
        "colab_type": "code",
        "colab": {
          "base_uri": "https://localhost:8080/",
          "height": 297
        },
        "outputId": "a4275b1c-a443-43a1-9aa5-625f1cd88842"
      },
      "cell_type": "code",
      "source": [
        "# Same starting data \n",
        "data = df[[\"OverallQual\",\"GrLivArea\",\"log_price\"]]\n",
        "\n",
        "# Feature Normalization - Standardize the data to ensure evenly weighted data.\n",
        "# Centers the means on zero. Each value on a scale of 1 standard deviation. \n",
        "data2 = (data - data.mean()) / data.std()\n",
        "data2.describe()"
      ],
      "execution_count": 10,
      "outputs": [
        {
          "output_type": "execute_result",
          "data": {
            "text/html": [
              "<div>\n",
              "<style scoped>\n",
              "    .dataframe tbody tr th:only-of-type {\n",
              "        vertical-align: middle;\n",
              "    }\n",
              "\n",
              "    .dataframe tbody tr th {\n",
              "        vertical-align: top;\n",
              "    }\n",
              "\n",
              "    .dataframe thead th {\n",
              "        text-align: right;\n",
              "    }\n",
              "</style>\n",
              "<table border=\"1\" class=\"dataframe\">\n",
              "  <thead>\n",
              "    <tr style=\"text-align: right;\">\n",
              "      <th></th>\n",
              "      <th>OverallQual</th>\n",
              "      <th>GrLivArea</th>\n",
              "      <th>log_price</th>\n",
              "    </tr>\n",
              "  </thead>\n",
              "  <tbody>\n",
              "    <tr>\n",
              "      <th>count</th>\n",
              "      <td>1.4600e+03</td>\n",
              "      <td>1.4600e+03</td>\n",
              "      <td>1.4600e+03</td>\n",
              "    </tr>\n",
              "    <tr>\n",
              "      <th>mean</th>\n",
              "      <td>0.0000e+00</td>\n",
              "      <td>0.0000e+00</td>\n",
              "      <td>0.0000e+00</td>\n",
              "    </tr>\n",
              "    <tr>\n",
              "      <th>std</th>\n",
              "      <td>1.0000e+00</td>\n",
              "      <td>1.0000e+00</td>\n",
              "      <td>1.0000e+00</td>\n",
              "    </tr>\n",
              "    <tr>\n",
              "      <th>min</th>\n",
              "      <td>-3.6871e+00</td>\n",
              "      <td>-2.2483e+00</td>\n",
              "      <td>-3.9149e+00</td>\n",
              "    </tr>\n",
              "    <tr>\n",
              "      <th>25%</th>\n",
              "      <td>-7.9488e-01</td>\n",
              "      <td>-7.3450e-01</td>\n",
              "      <td>-6.2324e-01</td>\n",
              "    </tr>\n",
              "    <tr>\n",
              "      <th>50%</th>\n",
              "      <td>-7.1812e-02</td>\n",
              "      <td>-9.7936e-02</td>\n",
              "      <td>-5.6441e-02</td>\n",
              "    </tr>\n",
              "    <tr>\n",
              "      <th>75%</th>\n",
              "      <td>6.5126e-01</td>\n",
              "      <td>4.9723e-01</td>\n",
              "      <td>6.2506e-01</td>\n",
              "    </tr>\n",
              "    <tr>\n",
              "      <th>max</th>\n",
              "      <td>2.8205e+00</td>\n",
              "      <td>7.8529e+00</td>\n",
              "      <td>3.7812e+00</td>\n",
              "    </tr>\n",
              "  </tbody>\n",
              "</table>\n",
              "</div>"
            ],
            "text/plain": [
              "       OverallQual   GrLivArea   log_price\n",
              "count   1.4600e+03  1.4600e+03  1.4600e+03\n",
              "mean    0.0000e+00  0.0000e+00  0.0000e+00\n",
              "std     1.0000e+00  1.0000e+00  1.0000e+00\n",
              "min    -3.6871e+00 -2.2483e+00 -3.9149e+00\n",
              "25%    -7.9488e-01 -7.3450e-01 -6.2324e-01\n",
              "50%    -7.1812e-02 -9.7936e-02 -5.6441e-02\n",
              "75%     6.5126e-01  4.9723e-01  6.2506e-01\n",
              "max     2.8205e+00  7.8529e+00  3.7812e+00"
            ]
          },
          "metadata": {
            "tags": []
          },
          "execution_count": 10
        }
      ]
    },
    {
      "metadata": {
        "id": "D7UTn85JAqEr",
        "colab_type": "code",
        "colab": {}
      },
      "cell_type": "code",
      "source": [
        "# Prep the data  \n",
        "# add ones column\n",
        "data2.insert(0, 'Ones', 1)\n",
        "\n",
        "# set X (training data) and y (target variable)\n",
        "cols = data2.shape[1]\n",
        "X2 = data2.iloc[:,0:cols-1]\n",
        "y2 = data2.iloc[:,cols-1:cols]\n",
        "\n",
        "# convert to matrices and initialize theta\n",
        "X2 = np.matrix(X2.values)\n",
        "y2 = np.matrix(y2.values)\n",
        "theta2 = np.matrix(np.array([0,0,0]))"
      ],
      "execution_count": 0,
      "outputs": []
    },
    {
      "metadata": {
        "id": "C_NjaKd3CosJ",
        "colab_type": "code",
        "colab": {
          "base_uri": "https://localhost:8080/",
          "height": 51
        },
        "outputId": "89f4153e-bea8-452e-de1d-fc7c0f1406cf"
      },
      "cell_type": "code",
      "source": [
        "# initialize variables for learning rate and iterations\n",
        "alpha = 0.01\n",
        "iters = 10000\n",
        "\n",
        "# perform linear regression on the data set\n",
        "g2, cost2 = gradientDescent(X2, y2, theta2, alpha, iters)\n",
        "print(f'Output of gradient descent:  {g2}')\n",
        "\n",
        "# get the cost (error) of the model\n",
        "print(f\"Cost Function Output: {computeCost(X2,y2,g2)}\")"
      ],
      "execution_count": 12,
      "outputs": [
        {
          "output_type": "stream",
          "text": [
            "Output of gradient descent:  [[2.47578700e-14 6.19317565e-01 3.33666735e-01]]\n",
            "Cost Function Output: 0.12992466379960282\n"
          ],
          "name": "stdout"
        }
      ]
    },
    {
      "metadata": {
        "id": "C9FzmeLaCPnV",
        "colab_type": "code",
        "colab": {
          "base_uri": "https://localhost:8080/",
          "height": 530
        },
        "outputId": "c683564a-1bf5-440e-83ee-cb1354a18d2b"
      },
      "cell_type": "code",
      "source": [
        "# Plot the cost function\n",
        "fig, ax = plt.subplots(figsize=(12,8))\n",
        "ax.plot(np.arange(iters), cost2, 'r')\n",
        "ax.set_xlabel('Iterations')\n",
        "ax.set_ylabel('Cost')\n",
        "ax.set_title('Error vs. Training Epoch')"
      ],
      "execution_count": 13,
      "outputs": [
        {
          "output_type": "execute_result",
          "data": {
            "text/plain": [
              "Text(0.5, 1.0, 'Error vs. Training Epoch')"
            ]
          },
          "metadata": {
            "tags": []
          },
          "execution_count": 13
        },
        {
          "output_type": "display_data",
          "data": {
            "image/png": "[encoded data removed]",
            "text/plain": [
              "<Figure size 864x576 with 1 Axes>"
            ]
          },
          "metadata": {
            "tags": []
          }
        }
      ]
    },
    {
      "metadata": {
        "id": "RCs6EmWhYPM-",
        "colab_type": "text"
      },
      "cell_type": "markdown",
      "source": [
        "## Stretch Goals\n",
        "\n",
        "If you happen upon the most useful resources for accomplishing this challenge first, I want you to spend time today studying other variations of Gradient Descent-Based Optimizers.\n",
        "\n",
        "- Try and write a function that can perform gradient descent for arbitarily large (in dimensionality) multiple regression models. \n",
        "- Create a notebook for yourself exploring these topics\n",
        "- How do they differ from the \"vanilla\" gradient descent we explored today\n",
        "- How do these different gradient descent-based optimizers seek to overcome the challenge of finding the global minimum among various local minima?\n",
        "- Write a blog post that reteaches what you have learned about these other gradient descent-based optimizers.\n",
        "\n",
        "[Overview of GD-based optimizers](http://ruder.io/optimizing-gradient-descent/)\n",
        "\n",
        "[Siraj Raval - Evolution of Gradient Descent-Based Optimizers](https://youtu.be/nhqo0u1a6fw)"
      ]
    }
  ]
}