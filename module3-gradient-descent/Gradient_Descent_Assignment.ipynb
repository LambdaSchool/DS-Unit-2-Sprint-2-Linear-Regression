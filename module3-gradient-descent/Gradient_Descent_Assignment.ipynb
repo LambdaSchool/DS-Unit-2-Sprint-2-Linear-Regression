{
 "cells": [
  {
   "cell_type": "markdown",
   "metadata": {
    "colab_type": "text",
    "id": "Qhm0Y_jqXKRv"
   },
   "source": [
    "# Gradient Descent Implementation Challenge!!\n",
    "\n",
    "## Use gradient descent to find the optimal parameters of a **multiple** regression model. (We only showed an implementation for a bivariate model during lecture.)\n",
    "\n",
    "A note: Implementing gradient descent in any context is not trivial, particularly the step where we calculate the gradient will change based on the number of parameters that we're trying to optimize for. You will need to research what the gradient of a multiple regression model looks like. This challenge is pretty open-ended but I hope it will be thrilling. Please work together, help each other, share resources and generally expand your understanding of gradient descent as you try and achieve this implementation. \n",
    "\n",
    "## Suggestions:\n",
    "\n",
    "Start off with a model that has just two $X$ variables You can use any datasets that have at least two x variables. Potential candidates might be the blood pressure dataset that we used during lecture on Monday: [HERE](https://college.cengage.com/mathematics/brase/understandable_statistics/7e/students/datasets/mlr/excel/mlr02.xls) or any of the housing datasets. You would just need to select from them the two varaibles $x$ variables and one y variable that you want to work with that you most want to work with. \n",
    "\n",
    "Use Sklearn to find the optimal parameters of your model first. (like we did during the lecture.) So that you can compare the parameter estimates of your gradient-descent linear regression to the estimates of OLS linear regression. If implemented correctly they should be nearly identical.\n",
    "\n",
    "Becoming a Data Scientist is all about striking out into the unknown, getting stuck and then researching and fighting and learning until you get yourself unstuck. Work together! And fight to take your own learning-rate fueled step towards your own optimal understanding of gradient descent! \n"
   ]
  },
  {
   "cell_type": "code",
   "execution_count": 4,
   "metadata": {
    "colab": {},
    "colab_type": "code",
    "id": "_tWzF6IqXIIq"
   },
   "outputs": [],
   "source": [
    "import pandas as pd \n",
    "import numpy as np\n",
    "import matplotlib as plt\n",
    "import seaborn as sns\n",
    "\n"
   ]
  },
  {
   "cell_type": "code",
   "execution_count": 6,
   "metadata": {},
   "outputs": [],
   "source": [
    "df = pd.read_csv('https://raw.githubusercontent.com/ryanleeallred/datasets/master/car_regression.csv')"
   ]
  },
  {
   "cell_type": "code",
   "execution_count": 7,
   "metadata": {
    "scrolled": true
   },
   "outputs": [
    {
     "data": {
      "text/html": [
       "<div>\n",
       "<style scoped>\n",
       "    .dataframe tbody tr th:only-of-type {\n",
       "        vertical-align: middle;\n",
       "    }\n",
       "\n",
       "    .dataframe tbody tr th {\n",
       "        vertical-align: top;\n",
       "    }\n",
       "\n",
       "    .dataframe thead th {\n",
       "        text-align: right;\n",
       "    }\n",
       "</style>\n",
       "<table border=\"1\" class=\"dataframe\">\n",
       "  <thead>\n",
       "    <tr style=\"text-align: right;\">\n",
       "      <th></th>\n",
       "      <th>make</th>\n",
       "      <th>price</th>\n",
       "      <th>body</th>\n",
       "      <th>mileage</th>\n",
       "      <th>engV</th>\n",
       "      <th>engType</th>\n",
       "      <th>registration</th>\n",
       "      <th>year</th>\n",
       "      <th>drive</th>\n",
       "    </tr>\n",
       "  </thead>\n",
       "  <tbody>\n",
       "    <tr>\n",
       "      <th>0</th>\n",
       "      <td>23</td>\n",
       "      <td>15500.0</td>\n",
       "      <td>0</td>\n",
       "      <td>68</td>\n",
       "      <td>2.5</td>\n",
       "      <td>1</td>\n",
       "      <td>1</td>\n",
       "      <td>2010</td>\n",
       "      <td>1</td>\n",
       "    </tr>\n",
       "    <tr>\n",
       "      <th>1</th>\n",
       "      <td>50</td>\n",
       "      <td>20500.0</td>\n",
       "      <td>3</td>\n",
       "      <td>173</td>\n",
       "      <td>1.8</td>\n",
       "      <td>1</td>\n",
       "      <td>1</td>\n",
       "      <td>2011</td>\n",
       "      <td>2</td>\n",
       "    </tr>\n",
       "    <tr>\n",
       "      <th>2</th>\n",
       "      <td>50</td>\n",
       "      <td>35000.0</td>\n",
       "      <td>2</td>\n",
       "      <td>135</td>\n",
       "      <td>5.5</td>\n",
       "      <td>3</td>\n",
       "      <td>1</td>\n",
       "      <td>2008</td>\n",
       "      <td>2</td>\n",
       "    </tr>\n",
       "    <tr>\n",
       "      <th>3</th>\n",
       "      <td>50</td>\n",
       "      <td>17800.0</td>\n",
       "      <td>5</td>\n",
       "      <td>162</td>\n",
       "      <td>1.8</td>\n",
       "      <td>0</td>\n",
       "      <td>1</td>\n",
       "      <td>2012</td>\n",
       "      <td>0</td>\n",
       "    </tr>\n",
       "    <tr>\n",
       "      <th>4</th>\n",
       "      <td>55</td>\n",
       "      <td>16600.0</td>\n",
       "      <td>0</td>\n",
       "      <td>83</td>\n",
       "      <td>2.0</td>\n",
       "      <td>3</td>\n",
       "      <td>1</td>\n",
       "      <td>2013</td>\n",
       "      <td>1</td>\n",
       "    </tr>\n",
       "  </tbody>\n",
       "</table>\n",
       "</div>"
      ],
      "text/plain": [
       "   make    price  body  mileage  engV  engType  registration  year  drive\n",
       "0    23  15500.0     0       68   2.5        1             1  2010      1\n",
       "1    50  20500.0     3      173   1.8        1             1  2011      2\n",
       "2    50  35000.0     2      135   5.5        3             1  2008      2\n",
       "3    50  17800.0     5      162   1.8        0             1  2012      0\n",
       "4    55  16600.0     0       83   2.0        3             1  2013      1"
      ]
     },
     "execution_count": 7,
     "metadata": {},
     "output_type": "execute_result"
    }
   ],
   "source": [
    "df.head()"
   ]
  },
  {
   "cell_type": "code",
   "execution_count": 11,
   "metadata": {
    "scrolled": true
   },
   "outputs": [
    {
     "data": {
      "text/html": [
       "<div>\n",
       "<style scoped>\n",
       "    .dataframe tbody tr th:only-of-type {\n",
       "        vertical-align: middle;\n",
       "    }\n",
       "\n",
       "    .dataframe tbody tr th {\n",
       "        vertical-align: top;\n",
       "    }\n",
       "\n",
       "    .dataframe thead th {\n",
       "        text-align: right;\n",
       "    }\n",
       "</style>\n",
       "<table border=\"1\" class=\"dataframe\">\n",
       "  <thead>\n",
       "    <tr style=\"text-align: right;\">\n",
       "      <th></th>\n",
       "      <th>make</th>\n",
       "      <th>price</th>\n",
       "      <th>body</th>\n",
       "      <th>mileage</th>\n",
       "      <th>engV</th>\n",
       "      <th>engType</th>\n",
       "      <th>registration</th>\n",
       "      <th>year</th>\n",
       "      <th>drive</th>\n",
       "    </tr>\n",
       "  </thead>\n",
       "  <tbody>\n",
       "    <tr>\n",
       "      <th>0</th>\n",
       "      <td>-0.959604</td>\n",
       "      <td>-0.028035</td>\n",
       "      <td>-1.429724</td>\n",
       "      <td>-0.756630</td>\n",
       "      <td>-0.012685</td>\n",
       "      <td>-0.485072</td>\n",
       "      <td>0.248999</td>\n",
       "      <td>0.505222</td>\n",
       "      <td>0.572196</td>\n",
       "    </tr>\n",
       "    <tr>\n",
       "      <th>1</th>\n",
       "      <td>0.141257</td>\n",
       "      <td>0.176467</td>\n",
       "      <td>0.433274</td>\n",
       "      <td>0.320690</td>\n",
       "      <td>-0.142622</td>\n",
       "      <td>-0.485072</td>\n",
       "      <td>0.248999</td>\n",
       "      <td>0.649607</td>\n",
       "      <td>1.921296</td>\n",
       "    </tr>\n",
       "    <tr>\n",
       "      <th>2</th>\n",
       "      <td>0.141257</td>\n",
       "      <td>0.769522</td>\n",
       "      <td>-0.187725</td>\n",
       "      <td>-0.069197</td>\n",
       "      <td>0.544187</td>\n",
       "      <td>1.006039</td>\n",
       "      <td>0.248999</td>\n",
       "      <td>0.216451</td>\n",
       "      <td>1.921296</td>\n",
       "    </tr>\n",
       "    <tr>\n",
       "      <th>3</th>\n",
       "      <td>0.141257</td>\n",
       "      <td>0.066036</td>\n",
       "      <td>1.675273</td>\n",
       "      <td>0.207828</td>\n",
       "      <td>-0.142622</td>\n",
       "      <td>-1.230627</td>\n",
       "      <td>0.248999</td>\n",
       "      <td>0.793992</td>\n",
       "      <td>-0.776904</td>\n",
       "    </tr>\n",
       "    <tr>\n",
       "      <th>4</th>\n",
       "      <td>0.345120</td>\n",
       "      <td>0.016955</td>\n",
       "      <td>-1.429724</td>\n",
       "      <td>-0.602727</td>\n",
       "      <td>-0.105497</td>\n",
       "      <td>1.006039</td>\n",
       "      <td>0.248999</td>\n",
       "      <td>0.938378</td>\n",
       "      <td>0.572196</td>\n",
       "    </tr>\n",
       "  </tbody>\n",
       "</table>\n",
       "</div>"
      ],
      "text/plain": [
       "       make     price      body   mileage      engV   engType  registration  \\\n",
       "0 -0.959604 -0.028035 -1.429724 -0.756630 -0.012685 -0.485072      0.248999   \n",
       "1  0.141257  0.176467  0.433274  0.320690 -0.142622 -0.485072      0.248999   \n",
       "2  0.141257  0.769522 -0.187725 -0.069197  0.544187  1.006039      0.248999   \n",
       "3  0.141257  0.066036  1.675273  0.207828 -0.142622 -1.230627      0.248999   \n",
       "4  0.345120  0.016955 -1.429724 -0.602727 -0.105497  1.006039      0.248999   \n",
       "\n",
       "       year     drive  \n",
       "0  0.505222  0.572196  \n",
       "1  0.649607  1.921296  \n",
       "2  0.216451  1.921296  \n",
       "3  0.793992 -0.776904  \n",
       "4  0.938378  0.572196  "
      ]
     },
     "execution_count": 11,
     "metadata": {},
     "output_type": "execute_result"
    }
   ],
   "source": [
    "standard_df = (df - df.mean())/df.std()\n",
    "standard_df.head()"
   ]
  },
  {
   "cell_type": "code",
   "execution_count": 12,
   "metadata": {},
   "outputs": [],
   "source": [
    "standard_df = standard_df[['price','make', 'body', 'mileage', 'engV', 'engType', 'registration', 'year', 'drive']]"
   ]
  },
  {
   "cell_type": "code",
   "execution_count": 29,
   "metadata": {
    "scrolled": true
   },
   "outputs": [
    {
     "data": {
      "text/html": [
       "<div>\n",
       "<style scoped>\n",
       "    .dataframe tbody tr th:only-of-type {\n",
       "        vertical-align: middle;\n",
       "    }\n",
       "\n",
       "    .dataframe tbody tr th {\n",
       "        vertical-align: top;\n",
       "    }\n",
       "\n",
       "    .dataframe thead th {\n",
       "        text-align: right;\n",
       "    }\n",
       "</style>\n",
       "<table border=\"1\" class=\"dataframe\">\n",
       "  <thead>\n",
       "    <tr style=\"text-align: right;\">\n",
       "      <th></th>\n",
       "      <th>price</th>\n",
       "      <th>make</th>\n",
       "      <th>body</th>\n",
       "      <th>mileage</th>\n",
       "      <th>engV</th>\n",
       "      <th>engType</th>\n",
       "      <th>registration</th>\n",
       "      <th>year</th>\n",
       "      <th>drive</th>\n",
       "    </tr>\n",
       "  </thead>\n",
       "  <tbody>\n",
       "    <tr>\n",
       "      <th>0</th>\n",
       "      <td>-0.028035</td>\n",
       "      <td>-0.959604</td>\n",
       "      <td>-1.429724</td>\n",
       "      <td>-0.756630</td>\n",
       "      <td>-0.012685</td>\n",
       "      <td>-0.485072</td>\n",
       "      <td>0.248999</td>\n",
       "      <td>0.505222</td>\n",
       "      <td>0.572196</td>\n",
       "    </tr>\n",
       "    <tr>\n",
       "      <th>1</th>\n",
       "      <td>0.176467</td>\n",
       "      <td>0.141257</td>\n",
       "      <td>0.433274</td>\n",
       "      <td>0.320690</td>\n",
       "      <td>-0.142622</td>\n",
       "      <td>-0.485072</td>\n",
       "      <td>0.248999</td>\n",
       "      <td>0.649607</td>\n",
       "      <td>1.921296</td>\n",
       "    </tr>\n",
       "    <tr>\n",
       "      <th>2</th>\n",
       "      <td>0.769522</td>\n",
       "      <td>0.141257</td>\n",
       "      <td>-0.187725</td>\n",
       "      <td>-0.069197</td>\n",
       "      <td>0.544187</td>\n",
       "      <td>1.006039</td>\n",
       "      <td>0.248999</td>\n",
       "      <td>0.216451</td>\n",
       "      <td>1.921296</td>\n",
       "    </tr>\n",
       "    <tr>\n",
       "      <th>3</th>\n",
       "      <td>0.066036</td>\n",
       "      <td>0.141257</td>\n",
       "      <td>1.675273</td>\n",
       "      <td>0.207828</td>\n",
       "      <td>-0.142622</td>\n",
       "      <td>-1.230627</td>\n",
       "      <td>0.248999</td>\n",
       "      <td>0.793992</td>\n",
       "      <td>-0.776904</td>\n",
       "    </tr>\n",
       "    <tr>\n",
       "      <th>4</th>\n",
       "      <td>0.016955</td>\n",
       "      <td>0.345120</td>\n",
       "      <td>-1.429724</td>\n",
       "      <td>-0.602727</td>\n",
       "      <td>-0.105497</td>\n",
       "      <td>1.006039</td>\n",
       "      <td>0.248999</td>\n",
       "      <td>0.938378</td>\n",
       "      <td>0.572196</td>\n",
       "    </tr>\n",
       "  </tbody>\n",
       "</table>\n",
       "</div>"
      ],
      "text/plain": [
       "      price      make      body   mileage      engV   engType  registration  \\\n",
       "0 -0.028035 -0.959604 -1.429724 -0.756630 -0.012685 -0.485072      0.248999   \n",
       "1  0.176467  0.141257  0.433274  0.320690 -0.142622 -0.485072      0.248999   \n",
       "2  0.769522  0.141257 -0.187725 -0.069197  0.544187  1.006039      0.248999   \n",
       "3  0.066036  0.141257  1.675273  0.207828 -0.142622 -1.230627      0.248999   \n",
       "4  0.016955  0.345120 -1.429724 -0.602727 -0.105497  1.006039      0.248999   \n",
       "\n",
       "       year     drive  \n",
       "0  0.505222  0.572196  \n",
       "1  0.649607  1.921296  \n",
       "2  0.216451  1.921296  \n",
       "3  0.793992 -0.776904  \n",
       "4  0.938378  0.572196  "
      ]
     },
     "execution_count": 29,
     "metadata": {},
     "output_type": "execute_result"
    }
   ],
   "source": [
    "standard_df.head()"
   ]
  },
  {
   "cell_type": "code",
   "execution_count": 78,
   "metadata": {},
   "outputs": [],
   "source": [
    "X = standard_df.iloc[:,1:]\n",
    "ones = np.ones([X.shape[0],1])\n",
    "X = np.concatenate((ones, X), axis=1)\n",
    "y = standard_df.iloc[:,:1].values\n",
    "theta = np.zeros([1,9])\n",
    "\n",
    "alpha = 0.01\n",
    "iters = 1000\n",
    "\n",
    "#Theta = [Len(X), number of variables the result will print]"
   ]
  },
  {
   "cell_type": "code",
   "execution_count": 79,
   "metadata": {},
   "outputs": [
    {
     "data": {
      "text/plain": [
       "array([[ 1.        , -0.95960413, -1.42972422, ...,  0.2489989 ,\n",
       "         0.50522153,  0.57219617],\n",
       "       [ 1.        ,  0.14125716,  0.43327413, ...,  0.2489989 ,\n",
       "         0.64960696,  1.92129594],\n",
       "       [ 1.        ,  0.14125716, -0.18772532, ...,  0.2489989 ,\n",
       "         0.21645067,  1.92129594],\n",
       "       ...,\n",
       "       [ 1.        ,  0.14125716, -1.42972422, ...,  0.2489989 ,\n",
       "         0.21645067,  0.57219617],\n",
       "       [ 1.        , -0.14415132,  0.43327413, ...,  0.2489989 ,\n",
       "         0.21645067, -0.7769036 ],\n",
       "       [ 1.        , -1.7342843 , -0.18772532, ...,  0.2489989 ,\n",
       "         0.07206524,  0.57219617]])"
      ]
     },
     "execution_count": 79,
     "metadata": {},
     "output_type": "execute_result"
    }
   ],
   "source": [
    "X"
   ]
  },
  {
   "cell_type": "code",
   "execution_count": 80,
   "metadata": {},
   "outputs": [
    {
     "data": {
      "text/plain": [
       "(8495, 9)"
      ]
     },
     "execution_count": 80,
     "metadata": {},
     "output_type": "execute_result"
    }
   ],
   "source": [
    "X.shape"
   ]
  },
  {
   "cell_type": "code",
   "execution_count": 81,
   "metadata": {},
   "outputs": [],
   "source": [
    "def computeCost(X,y,theta):\n",
    "    to_be_summed = np.power(((X @ theta.T)-y),9)\n",
    "    return np.sum(to_be_summed)/(2 * len(X))"
   ]
  },
  {
   "cell_type": "code",
   "execution_count": 82,
   "metadata": {},
   "outputs": [
    {
     "data": {
      "text/plain": [
       "(8495, 1)"
      ]
     },
     "execution_count": 82,
     "metadata": {},
     "output_type": "execute_result"
    }
   ],
   "source": [
    "y.shape\n"
   ]
  },
  {
   "cell_type": "code",
   "execution_count": 83,
   "metadata": {
    "scrolled": true
   },
   "outputs": [
    {
     "data": {
      "text/plain": [
       "array([[-0.02803531],\n",
       "       [ 0.17646666],\n",
       "       [ 0.7695224 ],\n",
       "       ...,\n",
       "       [ 0.09466587],\n",
       "       [ 0.03327438],\n",
       "       [ 0.25826746]])"
      ]
     },
     "execution_count": 83,
     "metadata": {},
     "output_type": "execute_result"
    }
   ],
   "source": [
    "y"
   ]
  },
  {
   "cell_type": "code",
   "execution_count": 84,
   "metadata": {},
   "outputs": [
    {
     "data": {
      "text/plain": [
       "(1, 9)"
      ]
     },
     "execution_count": 84,
     "metadata": {},
     "output_type": "execute_result"
    }
   ],
   "source": [
    "theta.shape"
   ]
  },
  {
   "cell_type": "code",
   "execution_count": 85,
   "metadata": {},
   "outputs": [
    {
     "name": "stdout",
     "output_type": "stream",
     "text": [
      "[[ 6.73802783e-16 -3.52257207e-02 -1.20103556e-01 -1.64183930e-01\n",
      "   6.14248159e-02 -6.33810193e-02  4.47151804e-02  3.26549396e-01\n",
      "   2.56344118e-01]]\n",
      "-78688550.23675889\n"
     ]
    }
   ],
   "source": [
    "def gradientDescent(X,y,theta,iters,alpha):\n",
    "    cost = np.zeros(iters)\n",
    "    for i in range(iters):\n",
    "        theta = theta - (alpha/len(X)) * np.sum(X * (np.matmul(X, theta.T) - y), axis=0)\n",
    "        cost[i] = computeCost(X, y, theta)\n",
    "    \n",
    "    return theta,cost\n",
    "\n",
    "#running the gd and cost function\n",
    "g, cost = gradientDescent(X,y,theta,iters,alpha)\n",
    "print(g)\n",
    "\n",
    "finalCost = computeCost(X,y,g)\n",
    "print(finalCost)"
   ]
  },
  {
   "cell_type": "markdown",
   "metadata": {
    "colab_type": "text",
    "id": "RCs6EmWhYPM-"
   },
   "source": [
    "## Stretch Goals\n",
    "\n",
    "If you happen upon the most useful resources for accomplishing this challenge first, I want you to spend time today studying other variations of Gradient Descent-Based Optimizers.\n",
    "\n",
    "- Try and write a function that can perform gradient descent for arbitarily large (in dimensionality) multiple regression models. \n",
    "- Create a notebook for yourself exploring these topics\n",
    "- How do they differ from the \"vanilla\" gradient descent we explored today\n",
    "- How do these different gradient descent-based optimizers seek to overcome the challenge of finding the global minimum among various local minima?\n",
    "- Write a blog post that reteaches what you have learned about these other gradient descent-based optimizers.\n",
    "\n",
    "[Overview of GD-based optimizers](http://ruder.io/optimizing-gradient-descent/)\n",
    "\n",
    "[Siraj Raval - Evolution of Gradient Descent-Based Optimizers](https://youtu.be/nhqo0u1a6fw)"
   ]
  }
 ],
 "metadata": {
  "colab": {
   "name": "Gradient Descent Assignment.ipynb",
   "provenance": [],
   "version": "0.3.2"
  },
  "kernelspec": {
   "display_name": "Python 3",
   "language": "python",
   "name": "python3"
  },
  "language_info": {
   "codemirror_mode": {
    "name": "ipython",
    "version": 3
   },
   "file_extension": ".py",
   "mimetype": "text/x-python",
   "name": "python",
   "nbconvert_exporter": "python",
   "pygments_lexer": "ipython3",
   "version": "3.7.1"
  }
 },
 "nbformat": 4,
 "nbformat_minor": 1
}
