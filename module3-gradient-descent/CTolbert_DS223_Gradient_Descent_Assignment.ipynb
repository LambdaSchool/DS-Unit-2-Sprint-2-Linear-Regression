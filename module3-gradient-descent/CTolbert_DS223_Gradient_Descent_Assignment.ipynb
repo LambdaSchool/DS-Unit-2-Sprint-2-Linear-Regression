{
  "nbformat": 4,
  "nbformat_minor": 0,
  "metadata": {
    "colab": {
      "name": "CTolbert DS223 Gradient Descent Assignment.ipynb",
      "version": "0.3.2",
      "provenance": [],
      "include_colab_link": true
    },
    "kernelspec": {
      "name": "python3",
      "display_name": "Python 3"
    },
    "accelerator": "GPU"
  },
  "cells": [
    {
      "cell_type": "markdown",
      "metadata": {
        "id": "view-in-github",
        "colab_type": "text"
      },
      "source": [
        "<a href=\"https://colab.research.google.com/github/hughjafro/DS-Unit-2-Sprint-2-Linear-Regression/blob/master/module3-gradient-descent/CTolbert_DS223_Gradient_Descent_Assignment.ipynb\" target=\"_parent\"><img src=\"https://colab.research.google.com/assets/colab-badge.svg\" alt=\"Open In Colab\"/></a>"
      ]
    },
    {
      "metadata": {
        "id": "Qhm0Y_jqXKRv",
        "colab_type": "text"
      },
      "cell_type": "markdown",
      "source": [
        "# Gradient Descent Implementation Challenge!!\n",
        "\n",
        "## Use gradient descent to find the optimal parameters of a **multiple** regression model. (We only showed an implementation for a bivariate model during lecture.)\n",
        "\n",
        "A note: Implementing gradient descent in any context is not trivial, particularly the step where we calculate the gradient will change based on the number of parameters that we're trying to optimize for. You will need to research what the gradient of a multiple regression model looks like. This challenge is pretty open-ended but I hope it will be thrilling. Please work together, help each other, share resources and generally expand your understanding of gradient descent as you try and achieve this implementation. \n",
        "\n",
        "## Suggestions:\n",
        "\n",
        "Start off with a model that has just two $X$ variables You can use any datasets that have at least two x variables. Potential candidates might be the blood pressure dataset that we used during lecture on Monday: [HERE](https://college.cengage.com/mathematics/brase/understandable_statistics/7e/students/datasets/mlr/excel/mlr02.xls) or any of the housing datasets. You would just need to select from them the two varaibles $x$ variables and one y variable that you want to work with that you most want to work with. \n",
        "\n",
        "Use Sklearn to find the optimal parameters of your model first. (like we did during the lecture.) So that you can compare the parameter estimates of your gradient-descent linear regression to the estimates of OLS linear regression. If implemented correctly they should be nearly identical.\n",
        "\n",
        "Becoming a Data Scientist is all about striking out into the unknown, getting stuck and then researching and fighting and learning until you get yourself unstuck. Work together! And fight to take your own learning-rate fueled step towards your own optimal understanding of gradient descent! \n"
      ]
    },
    {
      "metadata": {
        "id": "_tWzF6IqXIIq",
        "colab_type": "code",
        "colab": {}
      },
      "cell_type": "code",
      "source": [
        "##### Make it Hap'n Cap'n #####\n",
        "import pandas as pd\n",
        "import numpy as np\n",
        "import matplotlib.pyplot as plt\n",
        "from sklearn.linear_model import LinearRegression"
      ],
      "execution_count": 0,
      "outputs": []
    },
    {
      "metadata": {
        "colab_type": "code",
        "id": "wuEYq_tX0mI6",
        "colab": {}
      },
      "cell_type": "code",
      "source": [
        "# import pandas as pd\n",
        "\n",
        "# df = pd.read_excel('https://college.cengage.com/mathematics/brase/understandable_statistics/7e/students/datasets/mlr/excel/mlr02.xls')\n",
        "# df = df.rename(index=str, columns={\"X1\": \"y\", \"X2\": \"age\", \"X3\": \"weight\"})\n",
        "# print(df.shape)\n",
        "# df.head()"
      ],
      "execution_count": 0,
      "outputs": []
    },
    {
      "metadata": {
        "id": "S7yHhzcZzV0E",
        "colab_type": "code",
        "colab": {
          "base_uri": "https://localhost:8080/",
          "height": 238
        },
        "outputId": "27547f98-c3d0-4def-83c0-5c709a27367d"
      },
      "cell_type": "code",
      "source": [
        "# Import data\n",
        "df = pd.read_excel('https://github.com/hughjafro/DS-Unit-2-Sprint-2-Linear-Regression/blob/master/module3-gradient-descent/mlr02.xls?raw=true', index=0)\n",
        "\n",
        "df = df.rename(index=str, columns={'X1': 'y', 'X2': 'age', 'X3': 'weight'})\n",
        "print(df.shape)\n",
        "df.head()"
      ],
      "execution_count": 4,
      "outputs": [
        {
          "output_type": "stream",
          "text": [
            "*** No CODEPAGE record, no encoding_override: will use 'ascii'\n",
            "(11, 3)\n"
          ],
          "name": "stdout"
        },
        {
          "output_type": "execute_result",
          "data": {
            "text/html": [
              "<div>\n",
              "<style scoped>\n",
              "    .dataframe tbody tr th:only-of-type {\n",
              "        vertical-align: middle;\n",
              "    }\n",
              "\n",
              "    .dataframe tbody tr th {\n",
              "        vertical-align: top;\n",
              "    }\n",
              "\n",
              "    .dataframe thead th {\n",
              "        text-align: right;\n",
              "    }\n",
              "</style>\n",
              "<table border=\"1\" class=\"dataframe\">\n",
              "  <thead>\n",
              "    <tr style=\"text-align: right;\">\n",
              "      <th></th>\n",
              "      <th>y</th>\n",
              "      <th>age</th>\n",
              "      <th>weight</th>\n",
              "    </tr>\n",
              "  </thead>\n",
              "  <tbody>\n",
              "    <tr>\n",
              "      <th>0</th>\n",
              "      <td>132</td>\n",
              "      <td>52</td>\n",
              "      <td>173</td>\n",
              "    </tr>\n",
              "    <tr>\n",
              "      <th>1</th>\n",
              "      <td>143</td>\n",
              "      <td>59</td>\n",
              "      <td>184</td>\n",
              "    </tr>\n",
              "    <tr>\n",
              "      <th>2</th>\n",
              "      <td>153</td>\n",
              "      <td>67</td>\n",
              "      <td>194</td>\n",
              "    </tr>\n",
              "    <tr>\n",
              "      <th>3</th>\n",
              "      <td>162</td>\n",
              "      <td>73</td>\n",
              "      <td>211</td>\n",
              "    </tr>\n",
              "    <tr>\n",
              "      <th>4</th>\n",
              "      <td>154</td>\n",
              "      <td>64</td>\n",
              "      <td>196</td>\n",
              "    </tr>\n",
              "  </tbody>\n",
              "</table>\n",
              "</div>"
            ],
            "text/plain": [
              "     y  age  weight\n",
              "0  132   52     173\n",
              "1  143   59     184\n",
              "2  153   67     194\n",
              "3  162   73     211\n",
              "4  154   64     196"
            ]
          },
          "metadata": {
            "tags": []
          },
          "execution_count": 4
        }
      ]
    },
    {
      "metadata": {
        "id": "U5vUbR4cIv8k",
        "colab_type": "text"
      },
      "cell_type": "markdown",
      "source": [
        "##Calculate with sklearn first"
      ]
    },
    {
      "metadata": {
        "id": "l5Lg6Vw71Wkj",
        "colab_type": "code",
        "colab": {
          "base_uri": "https://localhost:8080/",
          "height": 238
        },
        "outputId": "a4d8afdd-fbfb-4c09-ba2e-de897d3a74b5"
      },
      "cell_type": "code",
      "source": [
        "# Calculate parameters using sklearn\n",
        "\n",
        "# Create X matrix and y vector\n",
        "y = df['y'].values\n",
        "#X = df.loc[:,['age', 'weight']].values[:, np.newaxis]\n",
        "X = df['age'].values[:, np.newaxis]\n",
        "\n",
        "# Standardize the X\n",
        "X = (X - X.mean()) /X.std()\n",
        "\n",
        "# Matrix version\n",
        "X_linalg = np.c_[np.ones(X.shape[0]), X]\n",
        "\n",
        "print(X_linalg)\n",
        "\n",
        "# Fit model\n",
        "model = LinearRegression()\n",
        "model.fit(X,y)\n",
        "\n",
        "# Assign coefficient and intercept to varibales (beta_0, beta_1)\n",
        "beta_1 = model.coef_[0]\n",
        "beta_0 = model.intercept_\n",
        "\n",
        "print('beta_1: ', beta_1)\n",
        "print('beta_0: ', beta_0)"
      ],
      "execution_count": 5,
      "outputs": [
        {
          "output_type": "stream",
          "text": [
            "[[ 1.         -1.20301838]\n",
            " [ 1.         -0.39751912]\n",
            " [ 1.          0.52305147]\n",
            " [ 1.          1.21347941]\n",
            " [ 1.          0.1778375 ]\n",
            " [ 1.          1.32855074]\n",
            " [ 1.         -0.97287574]\n",
            " [ 1.         -0.16737647]\n",
            " [ 1.          0.29290882]\n",
            " [ 1.         -1.89344632]\n",
            " [ 1.          1.09840809]]\n",
            "beta_1:  12.715856751330023\n",
            "beta_0:  150.0909090909091\n"
          ],
          "name": "stdout"
        }
      ]
    },
    {
      "metadata": {
        "id": "JqlTbssvKFr0",
        "colab_type": "code",
        "colab": {
          "base_uri": "https://localhost:8080/",
          "height": 34
        },
        "outputId": "52951819-4b74-4abb-ee38-2af2653050bd"
      },
      "cell_type": "code",
      "source": [
        "y"
      ],
      "execution_count": 6,
      "outputs": [
        {
          "output_type": "execute_result",
          "data": {
            "text/plain": [
              "array([132, 143, 153, 162, 154, 168, 137, 149, 159, 128, 166])"
            ]
          },
          "metadata": {
            "tags": []
          },
          "execution_count": 6
        }
      ]
    },
    {
      "metadata": {
        "id": "4HwCsdC1IGe3",
        "colab_type": "code",
        "colab": {
          "base_uri": "https://localhost:8080/",
          "height": 376
        },
        "outputId": "8fec2d3e-9744-4aeb-f30c-b170a5772d05"
      },
      "cell_type": "code",
      "source": [
        "# Plot sklearn version\n",
        "plt.scatter(X,y)\n",
        "# plt.xlim(0,100)\n",
        "# plt.ylim(100, 200)\n",
        "plt.xlabel('age')\n",
        "plt.ylabel('blood pressure')\n",
        "plt.title('Age vs Blood Pressure')\n",
        "plt.show();"
      ],
      "execution_count": 7,
      "outputs": [
        {
          "output_type": "display_data",
          "data": {
            "image/png": "[encoded data removed]",
            "text/plain": [
              "<Figure size 576x396 with 1 Axes>"
            ]
          },
          "metadata": {
            "tags": []
          }
        }
      ]
    },
    {
      "metadata": {
        "id": "TaGBZbIYJNIg",
        "colab_type": "text"
      },
      "cell_type": "markdown",
      "source": [
        "## Calculate using Gradient Descent"
      ]
    },
    {
      "metadata": {
        "id": "WuoSa1QxJRfe",
        "colab_type": "code",
        "colab": {
          "base_uri": "https://localhost:8080/",
          "height": 153
        },
        "outputId": "4a15063a-01aa-4b1a-805c-e5276b4d83e4"
      },
      "cell_type": "code",
      "source": [
        "# Choose a learning rate, alpha\n",
        "alpha = .01\n",
        "iterations = 2000\n",
        "n = len(y)\n",
        "np.random.seed(42)\n",
        "theta = [0,0]\n",
        "\n",
        "# Calculate predictions\n",
        "prediction = np.dot(X_linalg, theta)\n",
        "print('Prediction: \\n', prediction, '\\n')\n",
        "\n",
        "# Calculate error\n",
        "error = prediction - y\n",
        "print('Error: \\n', error, '\\n')\n",
        "\n",
        "# Calculate updated theta values\n",
        "theta = theta - (alpha * (1/n) * np.dot(X.T, error))\n",
        "print('Theta: \\n', theta)\n"
      ],
      "execution_count": 14,
      "outputs": [
        {
          "output_type": "stream",
          "text": [
            "Prediction: \n",
            " [0. 0. 0. 0. 0. 0. 0. 0. 0. 0. 0.] \n",
            "\n",
            "Error: \n",
            " [-132. -143. -153. -162. -154. -168. -137. -149. -159. -128. -166.] \n",
            "\n",
            "Theta: \n",
            " [0.12715857 0.12715857]\n"
          ],
          "name": "stdout"
        }
      ]
    },
    {
      "metadata": {
        "id": "XjJCqwLCJRWv",
        "colab_type": "code",
        "colab": {
          "base_uri": "https://localhost:8080/",
          "height": 34
        },
        "outputId": "ea69faa1-0cbc-43bc-aa70-cd842ab91c7c"
      },
      "cell_type": "code",
      "source": [
        "# Put it all together \n",
        "# Minimal gradient descent implementation\n",
        "\n",
        "def gradient_descent(X, y, theta, iterations, alpha):\n",
        "  for _ in range(iterations):\n",
        "    prediction = np.dot(X, theta)\n",
        "    error = prediction - y\n",
        "    updates = (alpha * (1/n) * np.dot(X.T, error))\n",
        "#     print(updates)\n",
        "    theta = theta - updates\n",
        "  return theta\n",
        "\n",
        "final_theta = gradient_descent(X_linalg, y, theta, iterations, alpha)\n",
        "print(final_theta)"
      ],
      "execution_count": 15,
      "outputs": [
        {
          "output_type": "stream",
          "text": [
            "[150.09090881  12.71585673]\n"
          ],
          "name": "stdout"
        }
      ]
    },
    {
      "metadata": {
        "id": "rUsYQmHlJfP5",
        "colab_type": "text"
      },
      "cell_type": "markdown",
      "source": [
        "###Multivariate"
      ]
    },
    {
      "metadata": {
        "id": "ni_EMjs5JROy",
        "colab_type": "code",
        "colab": {
          "base_uri": "https://localhost:8080/",
          "height": 221
        },
        "outputId": "f47c875e-f39f-4880-9d88-7e2868c060e5"
      },
      "cell_type": "code",
      "source": [
        "# Normalize dataset\n",
        "\n",
        "df_norm = (df-df.mean()) / df.std()\n",
        "\n",
        "print(df_norm.shape)\n",
        "df_norm.head()"
      ],
      "execution_count": 16,
      "outputs": [
        {
          "output_type": "stream",
          "text": [
            "(11, 3)\n"
          ],
          "name": "stdout"
        },
        {
          "output_type": "execute_result",
          "data": {
            "text/html": [
              "<div>\n",
              "<style scoped>\n",
              "    .dataframe tbody tr th:only-of-type {\n",
              "        vertical-align: middle;\n",
              "    }\n",
              "\n",
              "    .dataframe tbody tr th {\n",
              "        vertical-align: top;\n",
              "    }\n",
              "\n",
              "    .dataframe thead th {\n",
              "        text-align: right;\n",
              "    }\n",
              "</style>\n",
              "<table border=\"1\" class=\"dataframe\">\n",
              "  <thead>\n",
              "    <tr style=\"text-align: right;\">\n",
              "      <th></th>\n",
              "      <th>y</th>\n",
              "      <th>age</th>\n",
              "      <th>weight</th>\n",
              "    </tr>\n",
              "  </thead>\n",
              "  <tbody>\n",
              "    <tr>\n",
              "      <th>0</th>\n",
              "      <td>-1.327593</td>\n",
              "      <td>-1.147033</td>\n",
              "      <td>-1.270594</td>\n",
              "    </tr>\n",
              "    <tr>\n",
              "      <th>1</th>\n",
              "      <td>-0.520363</td>\n",
              "      <td>-0.379020</td>\n",
              "      <td>-0.635297</td>\n",
              "    </tr>\n",
              "    <tr>\n",
              "      <th>2</th>\n",
              "      <td>0.213482</td>\n",
              "      <td>0.498710</td>\n",
              "      <td>-0.057754</td>\n",
              "    </tr>\n",
              "    <tr>\n",
              "      <th>3</th>\n",
              "      <td>0.873943</td>\n",
              "      <td>1.157007</td>\n",
              "      <td>0.924069</td>\n",
              "    </tr>\n",
              "    <tr>\n",
              "      <th>4</th>\n",
              "      <td>0.286867</td>\n",
              "      <td>0.169561</td>\n",
              "      <td>0.057754</td>\n",
              "    </tr>\n",
              "  </tbody>\n",
              "</table>\n",
              "</div>"
            ],
            "text/plain": [
              "          y       age    weight\n",
              "0 -1.327593 -1.147033 -1.270594\n",
              "1 -0.520363 -0.379020 -0.635297\n",
              "2  0.213482  0.498710 -0.057754\n",
              "3  0.873943  1.157007  0.924069\n",
              "4  0.286867  0.169561  0.057754"
            ]
          },
          "metadata": {
            "tags": []
          },
          "execution_count": 16
        }
      ]
    },
    {
      "metadata": {
        "id": "BlNTaqZkJRLY",
        "colab_type": "code",
        "colab": {
          "base_uri": "https://localhost:8080/",
          "height": 51
        },
        "outputId": "7109889b-ef0f-457f-8800-22e98141b368"
      },
      "cell_type": "code",
      "source": [
        "# Create X matrix and y vector\n",
        "y = df_norm['y'].values\n",
        "X = df_norm.iloc[:,1:3]\n",
        "\n",
        "# Matrix version\n",
        "X_linalg = np.c_[np.ones(X.shape[0]), X]\n",
        "\n",
        "#print(X_linalg)\n",
        "\n",
        "# Fit model\n",
        "model = LinearRegression()\n",
        "model.fit(X,y)\n",
        "\n",
        "\n",
        "# Assign coefficient and intercept to varibales (beta_0, beta_1)\n",
        "beta_1 = model.coef_\n",
        "beta_0 = model.intercept_\n",
        "\n",
        "print('beta_1: ', beta_1)\n",
        "print('beta_0: ', beta_0)"
      ],
      "execution_count": 22,
      "outputs": [
        {
          "output_type": "stream",
          "text": [
            "beta_1:  [0.57616409 0.4254835 ]\n",
            "beta_0:  -2.949017333121613e-16\n"
          ],
          "name": "stdout"
        }
      ]
    },
    {
      "metadata": {
        "id": "tNnjsIBxMJD5",
        "colab_type": "text"
      },
      "cell_type": "markdown",
      "source": [
        "### Cost Function"
      ]
    },
    {
      "metadata": {
        "id": "3rt_KqaUMHIP",
        "colab_type": "code",
        "colab": {}
      },
      "cell_type": "code",
      "source": [
        "# Cost Funtion\n",
        "\n",
        "def"
      ],
      "execution_count": 0,
      "outputs": []
    },
    {
      "metadata": {
        "id": "Af2U_TO7NanB",
        "colab_type": "code",
        "colab": {
          "base_uri": "https://localhost:8080/",
          "height": 34
        },
        "outputId": "e346a96c-3150-4524-e49b-181aeb90307f"
      },
      "cell_type": "code",
      "source": [
        "# Minimal gradient descent implementation\n",
        "def gradient_descent(X, y, theta, iterations, alpha):\n",
        "  for _ in range(iterations):\n",
        "    prediction = np.dot(X,theta)\n",
        "    error = prediction - y\n",
        "    updates = (alpha * (1/n) * np.dot(X.T,error))\n",
        "    theta = theta - updates\n",
        "  return theta\n",
        "\n",
        "gradient_descent(X_linalg, y, theta, iterations, alpha)\n"
      ],
      "execution_count": 23,
      "outputs": [
        {
          "output_type": "execute_result",
          "data": {
            "text/plain": [
              "array([-2.78565050e-16,  5.76164087e-01,  4.25483502e-01])"
            ]
          },
          "metadata": {
            "tags": []
          },
          "execution_count": 23
        }
      ]
    },
    {
      "metadata": {
        "id": "RCs6EmWhYPM-",
        "colab_type": "text"
      },
      "cell_type": "markdown",
      "source": [
        "## Stretch Goals\n",
        "\n",
        "If you happen upon the most useful resources for accomplishing this challenge first, I want you to spend time today studying other variations of Gradient Descent-Based Optimizers.\n",
        "\n",
        "- Try and write a function that can perform gradient descent for arbitarily large (in dimensionality) multiple regression models. \n",
        "- Create a notebook for yourself exploring these topics\n",
        "- How do they differ from the \"vanilla\" gradient descent we explored today\n",
        "- How do these different gradient descent-based optimizers seek to overcome the challenge of finding the global minimum among various local minima?\n",
        "- Write a blog post that reteaches what you have learned about these other gradient descent-based optimizers.\n",
        "\n",
        "[Overview of GD-based optimizers](http://ruder.io/optimizing-gradient-descent/)\n",
        "\n",
        "[Siraj Raval - Evolution of Gradient Descent-Based Optimizers](https://youtu.be/nhqo0u1a6fw)"
      ]
    }
  ]
}