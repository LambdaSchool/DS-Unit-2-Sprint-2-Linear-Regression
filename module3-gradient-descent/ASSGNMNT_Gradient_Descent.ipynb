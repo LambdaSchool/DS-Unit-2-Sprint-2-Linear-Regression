{
  "nbformat": 4,
  "nbformat_minor": 0,
  "metadata": {
    "colab": {
      "name": "ASSGNMNT: Gradient Descent.ipynb",
      "version": "0.3.2",
      "provenance": [],
      "include_colab_link": true
    },
    "kernelspec": {
      "name": "python3",
      "display_name": "Python 3"
    }
  },
  "cells": [
    {
      "cell_type": "markdown",
      "metadata": {
        "id": "view-in-github",
        "colab_type": "text"
      },
      "source": [
        "<a href=\"https://colab.research.google.com/github/quinn-dougherty/DS-Unit-2-Sprint-2-Linear-Regression/blob/master/module3-gradient-descent/ASSGNMNT_Gradient_Descent.ipynb\" target=\"_parent\"><img src=\"https://colab.research.google.com/assets/colab-badge.svg\" alt=\"Open In Colab\"/></a>"
      ]
    },
    {
      "metadata": {
        "id": "Qhm0Y_jqXKRv",
        "colab_type": "text"
      },
      "cell_type": "markdown",
      "source": [
        "# Gradient Descent Implementation Challenge!!\n",
        "\n",
        "## Use gradient descent to find the optimal parameters of a **multiple** regression model. (We only showed an implementation for a bivariate model during lecture.)\n",
        "\n",
        "A note: Implementing gradient descent in any context is not trivial, particularly the step where we calculate the gradient will change based on the number of parameters that we're trying to optimize for. You will need to research what the gradient of a multiple regression model looks like. This challenge is pretty open-ended but I hope it will be thrilling. Please work together, help each other, share resources and generally expand your understanding of gradient descent as you try and achieve this implementation. \n",
        "\n",
        "## Suggestions:\n",
        "\n",
        "Start off with a model that has just two $X$ variables You can use any datasets that have at least two x variables. Potential candidates might be the blood pressure dataset that we used during lecture on Monday: [HERE](https://college.cengage.com/mathematics/brase/understandable_statistics/7e/students/datasets/mlr/excel/mlr02.xls) or any of the housing datasets. You would just need to select from them the two varaibles $x$ variables and one y variable that you want to work with that you most want to work with. \n",
        "\n",
        "Use Sklearn to find the optimal parameters of your model first. (like we did during the lecture.) So that you can compare the parameter estimates of your gradient-descent linear regression to the estimates of OLS linear regression. If implemented correctly they should be nearly identical.\n",
        "\n",
        "Becoming a Data Scientist is all about striking out into the unknown, getting stuck and then researching and fighting and learning until you get yourself unstuck. Work together! And fight to take your own learning-rate fueled step towards your own optimal understanding of gradient descent! \n"
      ]
    },
    {
      "metadata": {
        "id": "_tWzF6IqXIIq",
        "colab_type": "code",
        "colab": {
          "base_uri": "https://localhost:8080/",
          "height": 206
        },
        "outputId": "6430588e-cf30-4d5f-e659-34d233320540"
      },
      "cell_type": "code",
      "source": [
        "##\n",
        "### https://web.stanford.edu/~hastie/ElemStatLearn/\n",
        "\n",
        "'''Prostate data info\n",
        "\n",
        "Predictors (columns 1--8)\n",
        "\n",
        "lcavol\n",
        "lweight\n",
        "age\n",
        "lbph\n",
        "svi\n",
        "lcp\n",
        "gleason\n",
        "pgg45\n",
        "\n",
        "outcome (column 9)\n",
        "\n",
        "lpsa\n",
        "\n",
        "train/test indicator (column 10)\n",
        "\n",
        "This last column indicates which 67 observations were used as the \n",
        "\"training set\" and which 30 as the test set, as described on page 48\n",
        "in the book.\n",
        "\n",
        "There was an error in these data in the first edition of this\n",
        "book. Subject 32 had a value of 6.1 for lweight, which translates to a\n",
        "449 gm prostate! The correct value is 44.9 gm. We are grateful to\n",
        "Prof. Stephen W. Link for alerting us to this error.\n",
        "\n",
        "The features must first be scaled to have mean zero and  variance 96 (=n)\n",
        "before the analyses in Tables 3.1 and beyond.  That is, if x is the  96 by 8 matrix\n",
        "of features, we compute xp <- scale(x,TRUE,TRUE)\n",
        "\n",
        "'''\n",
        "import pandas as pd\n",
        "import altair as alt\n",
        "import numpy as np\n",
        "from sklearn.linear_model import LinearRegression\n",
        "from sklearn.metrics import mean_squared_error, r2_score\n",
        "from sklearn.model_selection import train_test_split\n",
        "from functools import reduce\n",
        "\n",
        "\n",
        "def repeatedly(f, n): \n",
        "  def composition(f,g):\n",
        "    # \"f after g\" \n",
        "    return lambda x: f(g(x))\n",
        "  return reduce(lambda f, ff: composition(f, ff), [f]*n)\n",
        "\n",
        "cols = ['praf', 'pmek', 'plcg', 'PIP2', 'PIP3', 'p44/42', 'pakts473', 'PKA', 'PKC', 'P38', 'pjnk']\n",
        "df = pd.read_csv(\"https://web.stanford.edu/~hastie/ElemStatLearn/datasets/prostate.data\", \n",
        "                 delim_whitespace=True)\n",
        "\n",
        "df['ones'] = np.ones(df.shape[0])\n",
        "\n",
        "df.head()"
      ],
      "execution_count": 215,
      "outputs": [
        {
          "output_type": "execute_result",
          "data": {
            "text/html": [
              "<div>\n",
              "<style scoped>\n",
              "    .dataframe tbody tr th:only-of-type {\n",
              "        vertical-align: middle;\n",
              "    }\n",
              "\n",
              "    .dataframe tbody tr th {\n",
              "        vertical-align: top;\n",
              "    }\n",
              "\n",
              "    .dataframe thead th {\n",
              "        text-align: right;\n",
              "    }\n",
              "</style>\n",
              "<table border=\"1\" class=\"dataframe\">\n",
              "  <thead>\n",
              "    <tr style=\"text-align: right;\">\n",
              "      <th></th>\n",
              "      <th>lcavol</th>\n",
              "      <th>lweight</th>\n",
              "      <th>age</th>\n",
              "      <th>lbph</th>\n",
              "      <th>svi</th>\n",
              "      <th>lcp</th>\n",
              "      <th>gleason</th>\n",
              "      <th>pgg45</th>\n",
              "      <th>lpsa</th>\n",
              "      <th>train</th>\n",
              "      <th>ones</th>\n",
              "    </tr>\n",
              "  </thead>\n",
              "  <tbody>\n",
              "    <tr>\n",
              "      <th>1</th>\n",
              "      <td>-0.579818</td>\n",
              "      <td>2.769459</td>\n",
              "      <td>50</td>\n",
              "      <td>-1.386294</td>\n",
              "      <td>0</td>\n",
              "      <td>-1.386294</td>\n",
              "      <td>6</td>\n",
              "      <td>0</td>\n",
              "      <td>-0.430783</td>\n",
              "      <td>T</td>\n",
              "      <td>1.0</td>\n",
              "    </tr>\n",
              "    <tr>\n",
              "      <th>2</th>\n",
              "      <td>-0.994252</td>\n",
              "      <td>3.319626</td>\n",
              "      <td>58</td>\n",
              "      <td>-1.386294</td>\n",
              "      <td>0</td>\n",
              "      <td>-1.386294</td>\n",
              "      <td>6</td>\n",
              "      <td>0</td>\n",
              "      <td>-0.162519</td>\n",
              "      <td>T</td>\n",
              "      <td>1.0</td>\n",
              "    </tr>\n",
              "    <tr>\n",
              "      <th>3</th>\n",
              "      <td>-0.510826</td>\n",
              "      <td>2.691243</td>\n",
              "      <td>74</td>\n",
              "      <td>-1.386294</td>\n",
              "      <td>0</td>\n",
              "      <td>-1.386294</td>\n",
              "      <td>7</td>\n",
              "      <td>20</td>\n",
              "      <td>-0.162519</td>\n",
              "      <td>T</td>\n",
              "      <td>1.0</td>\n",
              "    </tr>\n",
              "    <tr>\n",
              "      <th>4</th>\n",
              "      <td>-1.203973</td>\n",
              "      <td>3.282789</td>\n",
              "      <td>58</td>\n",
              "      <td>-1.386294</td>\n",
              "      <td>0</td>\n",
              "      <td>-1.386294</td>\n",
              "      <td>6</td>\n",
              "      <td>0</td>\n",
              "      <td>-0.162519</td>\n",
              "      <td>T</td>\n",
              "      <td>1.0</td>\n",
              "    </tr>\n",
              "    <tr>\n",
              "      <th>5</th>\n",
              "      <td>0.751416</td>\n",
              "      <td>3.432373</td>\n",
              "      <td>62</td>\n",
              "      <td>-1.386294</td>\n",
              "      <td>0</td>\n",
              "      <td>-1.386294</td>\n",
              "      <td>6</td>\n",
              "      <td>0</td>\n",
              "      <td>0.371564</td>\n",
              "      <td>T</td>\n",
              "      <td>1.0</td>\n",
              "    </tr>\n",
              "  </tbody>\n",
              "</table>\n",
              "</div>"
            ],
            "text/plain": [
              "     lcavol   lweight  age      lbph  svi       lcp  gleason  pgg45      lpsa  \\\n",
              "1 -0.579818  2.769459   50 -1.386294    0 -1.386294        6      0 -0.430783   \n",
              "2 -0.994252  3.319626   58 -1.386294    0 -1.386294        6      0 -0.162519   \n",
              "3 -0.510826  2.691243   74 -1.386294    0 -1.386294        7     20 -0.162519   \n",
              "4 -1.203973  3.282789   58 -1.386294    0 -1.386294        6      0 -0.162519   \n",
              "5  0.751416  3.432373   62 -1.386294    0 -1.386294        6      0  0.371564   \n",
              "\n",
              "  train  ones  \n",
              "1     T   1.0  \n",
              "2     T   1.0  \n",
              "3     T   1.0  \n",
              "4     T   1.0  \n",
              "5     T   1.0  "
            ]
          },
          "metadata": {
            "tags": []
          },
          "execution_count": 215
        }
      ]
    },
    {
      "metadata": {
        "id": "WhUjX-8MP-Um",
        "colab_type": "code",
        "colab": {}
      },
      "cell_type": "code",
      "source": [
        "def LR(X, y, testsize=0.3): \n",
        "  #print(X.shape, y.shape)\n",
        "  # X is a dataframe with arbitrary features\n",
        "  # y is a dataframe with one feature\n",
        "  # they are each sliced from the same master df. \n",
        "  \n",
        "  # Split into test and train datasets\n",
        "  X_train, X_test, Y_train, Y_test = train_test_split(X, y, test_size=testsize, random_state=42)\n",
        "\n",
        "  # fit model using train datasets\n",
        "  model = LinearRegression()\n",
        "  model.fit(X_train, Y_train)\n",
        "\n",
        "  # Create new predictions using x_test\n",
        "  y_pred = model.predict(X_test)\n",
        "\n",
        "  # Measure Accuracy using y_test and y_pred\n",
        "  RMSE = (np.sqrt(mean_squared_error(Y_test, y_pred)))\n",
        "  R2 = r2_score(Y_test, y_pred)\n",
        "\n",
        "  print('RMSE is {}'.format(RMSE))\n",
        "  print('R^2 is {}'.format(R2))\n",
        "\n",
        "  print(\"coefficients: \", model.coef_)\n",
        "  print(\"intercepts: \", model.intercept_)\n",
        "  \n",
        "  return {'RMSE': RMSE, 'R2': R2, 'coefficients': model.coef_, 'intercept': model.intercept_}"
      ],
      "execution_count": 0,
      "outputs": []
    },
    {
      "metadata": {
        "id": "DA8LU8fTQKRd",
        "colab_type": "code",
        "colab": {
          "base_uri": "https://localhost:8080/",
          "height": 86
        },
        "outputId": "b64e1930-e836-4ac5-b0ac-42c247cc458c"
      },
      "cell_type": "code",
      "source": [
        "X = df[['ones', 'lcavol']]\n",
        "y = df.lpsa\n",
        "\n",
        "from_sklearn = LR(X.drop('ones', axis=1),y)\n"
      ],
      "execution_count": 212,
      "outputs": [
        {
          "output_type": "stream",
          "text": [
            "RMSE is 0.7856818244526866\n",
            "R^2 is 0.4699726156051881\n",
            "coefficients:  [0.76784083]\n",
            "intercepts:  1.4138982670092684\n"
          ],
          "name": "stdout"
        }
      ]
    },
    {
      "metadata": {
        "id": "tMeV2J9TQiG8",
        "colab_type": "code",
        "colab": {}
      },
      "cell_type": "code",
      "source": [
        "epochs = 2000\n",
        "theta = np.ones(X.shape[1])[:, np.newaxis]\n",
        "gamma = 0.11 # learning rate. \n",
        "\n",
        "def yhat(theta): \n",
        "  # long form: X.ones1 * theta[0] + X.lcavol * theta[1]\n",
        "  return pd.DataFrame(np.matmul(X, theta))\n",
        "\n",
        "def cost(theta): \n",
        "  sqrd_residuals = (y[:, np.newaxis] - yhat(theta)) ** 2\n",
        "  return (1/X.shape[1]) * sqrd_residuals.sum().values\n",
        "\n",
        "def del_cost_0(theta): \n",
        "  N = X.shape[1]\n",
        "  return np.divide(-2,N) * (y[:, np.newaxis] - yhat(theta)).sum()\n",
        "\n",
        "def del_cost_1(theta): \n",
        "  N = X.shape[1]\n",
        "  return np.divide(-2,N) * (X.lcavol[:, np.newaxis] * (y[:, np.newaxis] - yhat(theta))).sum()\n",
        "\n",
        "# algorithm: repeat theta_k <- theta_k - alpha * del H / del theta_k `epochs` times, for k in range(len(theta))\n",
        "\n",
        "def update(theta): \n",
        "  return [theta[0] - gamma * del_cost_0(theta).values, theta[1] - gamma * del_cost_1(theta).values]\n",
        "\n",
        "\n",
        "sqrd_residuals = (y[:, np.newaxis] - yhat(theta)) ** 2\n",
        "\n",
        "#np.gradient(lambda theta_0, theta_1: Hhat([theta_0, theta_1]))\n",
        "\n",
        "X.shape, y.shape, yhat(theta).shape, sqrd_residuals.shape\n",
        "\n"
      ],
      "execution_count": 0,
      "outputs": []
    },
    {
      "metadata": {
        "id": "c5yDF040QiFm",
        "colab_type": "code",
        "colab": {
          "base_uri": "https://localhost:8080/",
          "height": 52
        },
        "outputId": "e8adfb61-05ae-48ad-dd98-157ddd8719cf"
      },
      "cell_type": "code",
      "source": [
        "(y[:, np.newaxis] - yhat(theta)).sum()"
      ],
      "execution_count": 134,
      "outputs": [
        {
          "output_type": "execute_result",
          "data": {
            "text/plain": [
              "0    12.452598\n",
              "dtype: float64"
            ]
          },
          "metadata": {
            "tags": []
          },
          "execution_count": 134
        }
      ]
    },
    {
      "metadata": {
        "id": "wRQI_RrwQiEL",
        "colab_type": "code",
        "colab": {
          "base_uri": "https://localhost:8080/",
          "height": 34
        },
        "outputId": "dd7b248d-3f4e-4ba0-aca8-a8ef18caecb1"
      },
      "cell_type": "code",
      "source": [
        "cost(theta)[0]"
      ],
      "execution_count": 141,
      "outputs": [
        {
          "output_type": "execute_result",
          "data": {
            "text/plain": [
              "35.509789318731464"
            ]
          },
          "metadata": {
            "tags": []
          },
          "execution_count": 141
        }
      ]
    },
    {
      "metadata": {
        "id": "3GdnhUE1QiCF",
        "colab_type": "code",
        "colab": {
          "base_uri": "https://localhost:8080/",
          "height": 34
        },
        "outputId": "742108cf-8940-45d8-a0ee-14f2bf1d2166"
      },
      "cell_type": "code",
      "source": [
        "theta_from_sklearn = [from_sklearn['intercept'], from_sklearn['coefficients'][0]]\n",
        "\n",
        "theta_ours = repeatedly(update, epochs//12)(theta)\n",
        "\n",
        "#np.testing.assert_almost_equal(theta_ours, theta_from_sklearn)\n",
        "\n",
        "list(map(lambda l: l[0], theta_ours)), theta_from_sklearn\n",
        "\n",
        "cost(theta_ours), cost(theta_from_sklearn)"
      ],
      "execution_count": 233,
      "outputs": [
        {
          "output_type": "execute_result",
          "data": {
            "text/plain": [
              "(array([inf]), array([29.65211356]))"
            ]
          },
          "metadata": {
            "tags": []
          },
          "execution_count": 233
        }
      ]
    },
    {
      "metadata": {
        "id": "fSx7cCA7Qh_a",
        "colab_type": "code",
        "colab": {}
      },
      "cell_type": "code",
      "source": [
        ""
      ],
      "execution_count": 0,
      "outputs": []
    },
    {
      "metadata": {
        "id": "RCs6EmWhYPM-",
        "colab_type": "text"
      },
      "cell_type": "markdown",
      "source": [
        "## Stretch Goals\n",
        "\n",
        "If you happen upon the most useful resources for accomplishing this challenge first, I want you to spend time today studying other variations of Gradient Descent-Based Optimizers.\n",
        "\n",
        "- Try and write a function that can perform gradient descent for arbitarily large (in dimensionality) multiple regression models. \n",
        "- Create a notebook for yourself exploring these topics\n",
        "- How do they differ from the \"vanilla\" gradient descent we explored today\n",
        "- How do these different gradient descent-based optimizers seek to overcome the challenge of finding the global minimum among various local minima?\n",
        "- Write a blog post that reteaches what you have learned about these other gradient descent-based optimizers.\n",
        "\n",
        "[Overview of GD-based optimizers](http://ruder.io/optimizing-gradient-descent/)\n",
        "\n",
        "[Siraj Raval - Evolution of Gradient Descent-Based Optimizers](https://youtu.be/nhqo0u1a6fw)"
      ]
    },
    {
      "metadata": {
        "id": "sgmw05C6dZmB",
        "colab_type": "text"
      },
      "cell_type": "markdown",
      "source": [
        "# What you need to know about derivatives for this\n",
        "\n"
      ]
    }
  ]
}