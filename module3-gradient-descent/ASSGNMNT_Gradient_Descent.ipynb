{
  "nbformat": 4,
  "nbformat_minor": 0,
  "metadata": {
    "colab": {
      "name": "ASSGNMNT: Gradient Descent.ipynb",
      "version": "0.3.2",
      "provenance": [],
      "include_colab_link": true
    },
    "kernelspec": {
      "name": "python3",
      "display_name": "Python 3"
    }
  },
  "cells": [
    {
      "cell_type": "markdown",
      "metadata": {
        "id": "view-in-github",
        "colab_type": "text"
      },
      "source": [
        "<a href=\"https://colab.research.google.com/github/quinn-dougherty/DS-Unit-2-Sprint-2-Linear-Regression/blob/master/module3-gradient-descent/ASSGNMNT_Gradient_Descent.ipynb\" target=\"_parent\"><img src=\"https://colab.research.google.com/assets/colab-badge.svg\" alt=\"Open In Colab\"/></a>"
      ]
    },
    {
      "metadata": {
        "id": "Qhm0Y_jqXKRv",
        "colab_type": "text"
      },
      "cell_type": "markdown",
      "source": [
        "# Gradient Descent Implementation Challenge!!\n",
        "\n",
        "## Use gradient descent to find the optimal parameters of a **multiple** regression model. (We only showed an implementation for a bivariate model during lecture.)\n",
        "\n",
        "A note: Implementing gradient descent in any context is not trivial, particularly the step where we calculate the gradient will change based on the number of parameters that we're trying to optimize for. You will need to research what the gradient of a multiple regression model looks like. This challenge is pretty open-ended but I hope it will be thrilling. Please work together, help each other, share resources and generally expand your understanding of gradient descent as you try and achieve this implementation. \n",
        "\n",
        "## Suggestions:\n",
        "\n",
        "Start off with a model that has just two $X$ variables You can use any datasets that have at least two x variables. Potential candidates might be the blood pressure dataset that we used during lecture on Monday: [HERE](https://college.cengage.com/mathematics/brase/understandable_statistics/7e/students/datasets/mlr/excel/mlr02.xls) or any of the housing datasets. You would just need to select from them the two varaibles $x$ variables and one y variable that you want to work with that you most want to work with. \n",
        "\n",
        "Use Sklearn to find the optimal parameters of your model first. (like we did during the lecture.) So that you can compare the parameter estimates of your gradient-descent linear regression to the estimates of OLS linear regression. If implemented correctly they should be nearly identical.\n",
        "\n",
        "Becoming a Data Scientist is all about striking out into the unknown, getting stuck and then researching and fighting and learning until you get yourself unstuck. Work together! And fight to take your own learning-rate fueled step towards your own optimal understanding of gradient descent! \n"
      ]
    },
    {
      "metadata": {
        "id": "_tWzF6IqXIIq",
        "colab_type": "code",
        "colab": {
          "base_uri": "https://localhost:8080/",
          "height": 296
        },
        "outputId": "00179823-b6b0-4028-dd85-92a3e7e323c0"
      },
      "cell_type": "code",
      "source": [
        "##\n",
        "### https://web.stanford.edu/~hastie/ElemStatLearn/\n",
        "\n",
        "'''Prostate data info\n",
        "\n",
        "Predictors (columns 1--8)\n",
        "\n",
        "lcavol\n",
        "lweight\n",
        "age\n",
        "lbph\n",
        "svi\n",
        "lcp\n",
        "gleason\n",
        "pgg45\n",
        "\n",
        "outcome (column 9)\n",
        "\n",
        "lpsa\n",
        "\n",
        "train/test indicator (column 10)\n",
        "\n",
        "This last column indicates which 67 observations were used as the \n",
        "\"training set\" and which 30 as the test set, as described on page 48\n",
        "in the book.\n",
        "\n",
        "There was an error in these data in the first edition of this\n",
        "book. Subject 32 had a value of 6.1 for lweight, which translates to a\n",
        "449 gm prostate! The correct value is 44.9 gm. We are grateful to\n",
        "Prof. Stephen W. Link for alerting us to this error.\n",
        "\n",
        "The features must first be scaled to have mean zero and  variance 96 (=n)\n",
        "before the analyses in Tables 3.1 and beyond.  That is, if x is the  96 by 8 matrix\n",
        "of features, we compute xp <- scale(x,TRUE,TRUE)\n",
        "\n",
        "'''\n",
        "import pandas as pd\n",
        "import altair as alt\n",
        "import numpy as np\n",
        "from sklearn.linear_model import LinearRegression\n",
        "from sklearn.metrics import mean_squared_error, r2_score\n",
        "from sklearn.model_selection import train_test_split\n",
        "from sklearn.preprocessing import StandardScaler\n",
        "from functools import reduce\n",
        "\n",
        "\n",
        "def repeatedly(f, n): \n",
        "  def composition(f,g):\n",
        "    # \"f after g\" \n",
        "    return lambda x: f(g(x))\n",
        "  return reduce(lambda ma, mma: composition(ma, mma), [f]*n)\n",
        "\n",
        "df = pd.read_csv(\"https://web.stanford.edu/~hastie/ElemStatLearn/datasets/prostate.data\", \n",
        "                 delim_whitespace=True)\n",
        "\n",
        "df['ones'] = np.ones(df.shape[0])\n",
        "\n",
        "sc = StandardScaler()\n",
        "\n",
        "#df.select_dtypes(include=['float', 'int']).shape, df.shape\n",
        "\n",
        "df_normalized = pd.DataFrame(sc.fit_transform(df.select_dtypes(include=['float', 'int'])), columns=df.select_dtypes(include=['float', 'int']).columns)\n",
        "\n",
        "df_normalized.head()\n"
      ],
      "execution_count": 294,
      "outputs": [
        {
          "output_type": "stream",
          "text": [
            "/usr/local/lib/python3.6/dist-packages/sklearn/preprocessing/data.py:625: DataConversionWarning: Data with input dtype int64, float64 were all converted to float64 by StandardScaler.\n",
            "  return self.partial_fit(X, y)\n",
            "/usr/local/lib/python3.6/dist-packages/sklearn/base.py:462: DataConversionWarning: Data with input dtype int64, float64 were all converted to float64 by StandardScaler.\n",
            "  return self.fit(X, **fit_params).transform(X)\n"
          ],
          "name": "stderr"
        },
        {
          "output_type": "execute_result",
          "data": {
            "text/html": [
              "<div>\n",
              "<style scoped>\n",
              "    .dataframe tbody tr th:only-of-type {\n",
              "        vertical-align: middle;\n",
              "    }\n",
              "\n",
              "    .dataframe tbody tr th {\n",
              "        vertical-align: top;\n",
              "    }\n",
              "\n",
              "    .dataframe thead th {\n",
              "        text-align: right;\n",
              "    }\n",
              "</style>\n",
              "<table border=\"1\" class=\"dataframe\">\n",
              "  <thead>\n",
              "    <tr style=\"text-align: right;\">\n",
              "      <th></th>\n",
              "      <th>lcavol</th>\n",
              "      <th>lweight</th>\n",
              "      <th>age</th>\n",
              "      <th>lbph</th>\n",
              "      <th>svi</th>\n",
              "      <th>lcp</th>\n",
              "      <th>gleason</th>\n",
              "      <th>pgg45</th>\n",
              "      <th>lpsa</th>\n",
              "      <th>ones</th>\n",
              "    </tr>\n",
              "  </thead>\n",
              "  <tbody>\n",
              "    <tr>\n",
              "      <th>0</th>\n",
              "      <td>-1.645861</td>\n",
              "      <td>-2.016634</td>\n",
              "      <td>-1.872101</td>\n",
              "      <td>-1.030029</td>\n",
              "      <td>-0.525657</td>\n",
              "      <td>-0.867655</td>\n",
              "      <td>-1.047571</td>\n",
              "      <td>-0.868957</td>\n",
              "      <td>-2.533318</td>\n",
              "      <td>0.0</td>\n",
              "    </tr>\n",
              "    <tr>\n",
              "      <th>1</th>\n",
              "      <td>-1.999313</td>\n",
              "      <td>-0.725759</td>\n",
              "      <td>-0.791989</td>\n",
              "      <td>-1.030029</td>\n",
              "      <td>-0.525657</td>\n",
              "      <td>-0.867655</td>\n",
              "      <td>-1.047571</td>\n",
              "      <td>-0.868957</td>\n",
              "      <td>-2.299712</td>\n",
              "      <td>0.0</td>\n",
              "    </tr>\n",
              "    <tr>\n",
              "      <th>2</th>\n",
              "      <td>-1.587021</td>\n",
              "      <td>-2.200154</td>\n",
              "      <td>1.368234</td>\n",
              "      <td>-1.030029</td>\n",
              "      <td>-0.525657</td>\n",
              "      <td>-0.867655</td>\n",
              "      <td>0.344407</td>\n",
              "      <td>-0.156155</td>\n",
              "      <td>-2.299712</td>\n",
              "      <td>0.0</td>\n",
              "    </tr>\n",
              "    <tr>\n",
              "      <th>3</th>\n",
              "      <td>-2.178174</td>\n",
              "      <td>-0.812191</td>\n",
              "      <td>-0.791989</td>\n",
              "      <td>-1.030029</td>\n",
              "      <td>-0.525657</td>\n",
              "      <td>-0.867655</td>\n",
              "      <td>-1.047571</td>\n",
              "      <td>-0.868957</td>\n",
              "      <td>-2.299712</td>\n",
              "      <td>0.0</td>\n",
              "    </tr>\n",
              "    <tr>\n",
              "      <th>4</th>\n",
              "      <td>-0.510513</td>\n",
              "      <td>-0.461218</td>\n",
              "      <td>-0.251933</td>\n",
              "      <td>-1.030029</td>\n",
              "      <td>-0.525657</td>\n",
              "      <td>-0.867655</td>\n",
              "      <td>-1.047571</td>\n",
              "      <td>-0.868957</td>\n",
              "      <td>-1.834631</td>\n",
              "      <td>0.0</td>\n",
              "    </tr>\n",
              "  </tbody>\n",
              "</table>\n",
              "</div>"
            ],
            "text/plain": [
              "     lcavol   lweight       age      lbph       svi       lcp   gleason  \\\n",
              "0 -1.645861 -2.016634 -1.872101 -1.030029 -0.525657 -0.867655 -1.047571   \n",
              "1 -1.999313 -0.725759 -0.791989 -1.030029 -0.525657 -0.867655 -1.047571   \n",
              "2 -1.587021 -2.200154  1.368234 -1.030029 -0.525657 -0.867655  0.344407   \n",
              "3 -2.178174 -0.812191 -0.791989 -1.030029 -0.525657 -0.867655 -1.047571   \n",
              "4 -0.510513 -0.461218 -0.251933 -1.030029 -0.525657 -0.867655 -1.047571   \n",
              "\n",
              "      pgg45      lpsa  ones  \n",
              "0 -0.868957 -2.533318   0.0  \n",
              "1 -0.868957 -2.299712   0.0  \n",
              "2 -0.156155 -2.299712   0.0  \n",
              "3 -0.868957 -2.299712   0.0  \n",
              "4 -0.868957 -1.834631   0.0  "
            ]
          },
          "metadata": {
            "tags": []
          },
          "execution_count": 294
        }
      ]
    },
    {
      "metadata": {
        "id": "WhUjX-8MP-Um",
        "colab_type": "code",
        "colab": {}
      },
      "cell_type": "code",
      "source": [
        "def LR(X, y, testsize=0.3): \n",
        "  #print(X.shape, y.shape)\n",
        "  # X is a dataframe with arbitrary features\n",
        "  # y is a dataframe with one feature\n",
        "  # they are each sliced from the same master df. \n",
        "  \n",
        "  # Split into test and train datasets\n",
        "  X_train, X_test, Y_train, Y_test = train_test_split(X, y, test_size=testsize, random_state=42)\n",
        "\n",
        "  # fit model using train datasets\n",
        "  model = LinearRegression()\n",
        "  model.fit(X_train, Y_train)\n",
        "\n",
        "  # Create new predictions using x_test\n",
        "  y_pred = model.predict(X_test)\n",
        "\n",
        "  # Measure Accuracy using y_test and y_pred\n",
        "  RMSE = (np.sqrt(mean_squared_error(Y_test, y_pred)))\n",
        "  R2 = r2_score(Y_test, y_pred)\n",
        "\n",
        "  print('RMSE is {}'.format(RMSE))\n",
        "  print('R^2 is {}'.format(R2))\n",
        "\n",
        "  print(\"coefficients: \", model.coef_)\n",
        "  print(\"intercepts: \", model.intercept_)\n",
        "  \n",
        "  return {'RMSE': RMSE, 'R2': R2, 'coefficients': model.coef_, 'intercept': model.intercept_}"
      ],
      "execution_count": 0,
      "outputs": []
    },
    {
      "metadata": {
        "id": "DA8LU8fTQKRd",
        "colab_type": "code",
        "colab": {
          "base_uri": "https://localhost:8080/",
          "height": 86
        },
        "outputId": "c07de168-f796-4251-ada0-0b6de9c98ba3"
      },
      "cell_type": "code",
      "source": [
        "X = df[['ones', 'lweight']]\n",
        "y = df.lpsa\n",
        "\n",
        "from_sklearn = LR(X.drop('ones', axis=1),y)\n"
      ],
      "execution_count": 322,
      "outputs": [
        {
          "output_type": "stream",
          "text": [
            "RMSE is 0.9707535248091201\n",
            "R^2 is 0.19086153418651874\n",
            "coefficients:  [1.12248257]\n",
            "intercepts:  -1.603690194602804\n"
          ],
          "name": "stdout"
        }
      ]
    },
    {
      "metadata": {
        "id": "tMeV2J9TQiG8",
        "colab_type": "code",
        "colab": {
          "base_uri": "https://localhost:8080/",
          "height": 34
        },
        "outputId": "5c9bd948-b00a-41bc-aee4-ae854475c687"
      },
      "cell_type": "code",
      "source": [
        "\n",
        "class GDOLSR: \n",
        "  def __init__(self, df, feat, target, epochs=2000, gamma=0.11):\n",
        "    self.df = df\n",
        "    self.X = df[['ones', feat]]\n",
        "    self.y = df[target]\n",
        "    self.theta = np.ones(X.shape[1])[:, np.newaxis]\n",
        "    self.epochs = epochs\n",
        "    self.gamma = gamma\n",
        "    self.N = self.X.shape[1]\n",
        "    self.feat = feat\n",
        "    #self.X[feat] = self.normalize(feat)\n",
        "    \n",
        "  def normalize(self, feat):\n",
        "    self.X[feat] = (self.X[feat] - self.X[feat].mean()) / self.X[feat].std()\n",
        "\n",
        "  def yhat(self, theta): \n",
        "    # long form: X.ones1 * theta[0] + X.lcavol * theta[1]\n",
        "    return pd.DataFrame(np.matmul(self.X, theta))\n",
        "\n",
        "  def cost(self, theta): \n",
        "    sqrd_residuals = (self.y[:, np.newaxis] - self.yhat(theta)) ** 2\n",
        "    return ((1/self.X.shape[1]) * sqrd_residuals.sum().values)[0]\n",
        "\n",
        "  def del_cost_0(self, theta): \n",
        "    return np.divide(-2,self.N) * (self.y[:, np.newaxis] - self.yhat(theta)).sum()\n",
        "\n",
        "  def del_cost_1(self, theta): \n",
        "    return np.divide(-2,self.N) * (self.X[self.feat][:, np.newaxis] * (self.y[:, np.newaxis] - self.yhat(theta))).sum()\n",
        "\n",
        "# algorithm: repeat theta_k <- theta_k - alpha * del H / del theta_k `epochs` times, for k in range(len(theta))\n",
        "\n",
        "  def update(self, theta): \n",
        "    \n",
        "    return [theta[0] - self.gamma * self.del_cost_0(theta).values, theta[1] - self.gamma * self.del_cost_1(theta).values]\n",
        "\n",
        "  def update_25x(self, the):\n",
        "    return repeatedly(self.update, 25)(the)\n",
        "\n",
        "\n",
        "test = GDOLSR(df_normalized, 'lweight', 'lpsa', 1000, gamma=0.0015)\n",
        "\n",
        "test.cost(theta), test.cost(test.update_25x(test.theta)), test.cost(test.update_25x(test.update_25x(test.theta)))\n",
        "\n",
        "\n",
        "theta_from_sklearn = [from_sklearn['intercept'], from_sklearn['coefficients'][0]]\n",
        "\n",
        "test.cost(theta_from_sklearn), test.cost(test.update_25x(test.update_25x(test.theta)))"
      ],
      "execution_count": 324,
      "outputs": [
        {
          "output_type": "execute_result",
          "data": {
            "text/plain": [
              "(62.42824056776314, 39.393366478746515)"
            ]
          },
          "metadata": {
            "tags": []
          },
          "execution_count": 324
        }
      ]
    },
    {
      "metadata": {
        "id": "4CedaNT9LVyE",
        "colab_type": "code",
        "colab": {}
      },
      "cell_type": "code",
      "source": [
        ""
      ],
      "execution_count": 0,
      "outputs": []
    },
    {
      "metadata": {
        "id": "4Ib7F2cUMMSv",
        "colab_type": "code",
        "colab": {}
      },
      "cell_type": "code",
      "source": [
        "# F : R -> R\n"
      ],
      "execution_count": 0,
      "outputs": []
    },
    {
      "metadata": {
        "id": "2teqUvYbMMNn",
        "colab_type": "code",
        "colab": {}
      },
      "cell_type": "code",
      "source": [
        ""
      ],
      "execution_count": 0,
      "outputs": []
    },
    {
      "metadata": {
        "id": "RABrnEP4LVuv",
        "colab_type": "code",
        "colab": {}
      },
      "cell_type": "code",
      "source": [
        "def update(theta): \n",
        "  theta -= partial_cost_0,1\n",
        "  return None\n",
        "\n",
        "for k in range(epochs): \n",
        "  update(theta)\n",
        "  \n",
        "\n",
        "def update(theta): \n",
        "  return theta - partial_cost"
      ],
      "execution_count": 0,
      "outputs": []
    },
    {
      "metadata": {
        "id": "Giyy9d3MLVoK",
        "colab_type": "code",
        "colab": {}
      },
      "cell_type": "code",
      "source": [
        ""
      ],
      "execution_count": 0,
      "outputs": []
    },
    {
      "metadata": {
        "id": "c5yDF040QiFm",
        "colab_type": "code",
        "colab": {
          "base_uri": "https://localhost:8080/",
          "height": 52
        },
        "outputId": "8ffdd95a-711e-46be-98f4-04636214599e"
      },
      "cell_type": "code",
      "source": [
        "(y[:, np.newaxis] - yhat(theta)).sum()"
      ],
      "execution_count": 238,
      "outputs": [
        {
          "output_type": "execute_result",
          "data": {
            "text/plain": [
              "0    12.452598\n",
              "dtype: float64"
            ]
          },
          "metadata": {
            "tags": []
          },
          "execution_count": 238
        }
      ]
    },
    {
      "metadata": {
        "id": "wRQI_RrwQiEL",
        "colab_type": "code",
        "colab": {
          "base_uri": "https://localhost:8080/",
          "height": 34
        },
        "outputId": "dd7b248d-3f4e-4ba0-aca8-a8ef18caecb1"
      },
      "cell_type": "code",
      "source": [
        "cost(theta)[0]"
      ],
      "execution_count": 141,
      "outputs": [
        {
          "output_type": "execute_result",
          "data": {
            "text/plain": [
              "35.509789318731464"
            ]
          },
          "metadata": {
            "tags": []
          },
          "execution_count": 141
        }
      ]
    },
    {
      "metadata": {
        "id": "3GdnhUE1QiCF",
        "colab_type": "code",
        "colab": {
          "base_uri": "https://localhost:8080/",
          "height": 52
        },
        "outputId": "a1c43993-0c70-4b46-dcea-ed5c1a552db2"
      },
      "cell_type": "code",
      "source": [
        "theta_from_sklearn = [from_sklearn['intercept'], from_sklearn['coefficients'][0]]\n",
        "\n",
        "theta_ours = repeatedly(update, epochs//12)(theta)\n",
        "\n",
        "#np.testing.assert_almost_equal(theta_ours, theta_from_sklearn)\n",
        "\n",
        "list(map(lambda l: l[0], theta_ours)), theta_from_sklearn\n",
        "\n",
        "cost(theta_ours), cost(theta_from_sklearn)\n",
        "\n",
        "# in theory, sklearn's theta is already veyr good, so update won't do much at all\n",
        "theta_from_sklearn, update(theta_from_sklearn) ## haha, there must be a mistake somewhere"
      ],
      "execution_count": 241,
      "outputs": [
        {
          "output_type": "execute_result",
          "data": {
            "text/plain": [
              "([1.4138982670092684, 0.7678408275710042],\n",
              " [array([1.71155006]), array([0.45790337])])"
            ]
          },
          "metadata": {
            "tags": []
          },
          "execution_count": 241
        }
      ]
    },
    {
      "metadata": {
        "id": "fSx7cCA7Qh_a",
        "colab_type": "code",
        "colab": {
          "base_uri": "https://localhost:8080/",
          "height": 69
        },
        "outputId": "33d7d115-c0ed-42b3-8749-e764c43b28e9"
      },
      "cell_type": "code",
      "source": [
        "dDD = {k: cost(F(theta)) for F in [repeatedly(update_25x, k) for k in range(1, 80)]}\n",
        "\n",
        "## run once cuz it takes FOREVER. \n",
        "#alt.Chart(pd.DataFrame.from_dict(dDD.reset_index)).mark_line().encode(x='')"
      ],
      "execution_count": 253,
      "outputs": [
        {
          "output_type": "stream",
          "text": [
            "/usr/local/lib/python3.6/dist-packages/numpy/core/_methods.py:32: RuntimeWarning: overflow encountered in reduce\n",
            "  return umr_sum(a, axis, dtype, out, keepdims)\n",
            "/usr/local/lib/python3.6/dist-packages/ipykernel_launcher.py:24: RuntimeWarning: invalid value encountered in subtract\n"
          ],
          "name": "stderr"
        }
      ]
    },
    {
      "metadata": {
        "id": "-7uGJZLv2T-V",
        "colab_type": "code",
        "colab": {
          "base_uri": "https://localhost:8080/",
          "height": 86
        },
        "outputId": "2d62c978-948d-4c81-8bf5-97f397c6818b"
      },
      "cell_type": "code",
      "source": [
        "cost(repeatedly(update_25x, 10)(theta))"
      ],
      "execution_count": 252,
      "outputs": [
        {
          "output_type": "stream",
          "text": [
            "/usr/local/lib/python3.6/dist-packages/numpy/core/_methods.py:32: RuntimeWarning: overflow encountered in reduce\n",
            "  return umr_sum(a, axis, dtype, out, keepdims)\n",
            "/usr/local/lib/python3.6/dist-packages/ipykernel_launcher.py:24: RuntimeWarning: invalid value encountered in subtract\n"
          ],
          "name": "stderr"
        },
        {
          "output_type": "execute_result",
          "data": {
            "text/plain": [
              "array([0.])"
            ]
          },
          "metadata": {
            "tags": []
          },
          "execution_count": 252
        }
      ]
    },
    {
      "metadata": {
        "id": "RCs6EmWhYPM-",
        "colab_type": "text"
      },
      "cell_type": "markdown",
      "source": [
        "## Stretch Goals\n",
        "\n",
        "If you happen upon the most useful resources for accomplishing this challenge first, I want you to spend time today studying other variations of Gradient Descent-Based Optimizers.\n",
        "\n",
        "- Try and write a function that can perform gradient descent for arbitarily large (in dimensionality) multiple regression models. \n",
        "- Create a notebook for yourself exploring these topics\n",
        "- How do they differ from the \"vanilla\" gradient descent we explored today\n",
        "- How do these different gradient descent-based optimizers seek to overcome the challenge of finding the global minimum among various local minima?\n",
        "- Write a blog post that reteaches what you have learned about these other gradient descent-based optimizers.\n",
        "\n",
        "[Overview of GD-based optimizers](http://ruder.io/optimizing-gradient-descent/)\n",
        "\n",
        "[Siraj Raval - Evolution of Gradient Descent-Based Optimizers](https://youtu.be/nhqo0u1a6fw)"
      ]
    },
    {
      "metadata": {
        "id": "sgmw05C6dZmB",
        "colab_type": "text"
      },
      "cell_type": "markdown",
      "source": [
        "# What you need to know about derivatives for this\n",
        "\n"
      ]
    },
    {
      "metadata": {
        "id": "c8zMsHuVCsov",
        "colab_type": "code",
        "colab": {}
      },
      "cell_type": "code",
      "source": [
        ""
      ],
      "execution_count": 0,
      "outputs": []
    },
    {
      "metadata": {
        "id": "lg7X9tZJCslp",
        "colab_type": "code",
        "colab": {
          "base_uri": "https://localhost:8080/",
          "height": 52
        },
        "outputId": "e162dacd-d53e-41b6-90f8-bee41393493a"
      },
      "cell_type": "code",
      "source": [
        "class A: \n",
        "  def __init__(self, p, q, r=5): \n",
        "    self.p = p\n",
        "    self.q = q\n",
        "    self.r = r\n",
        "    self.s = p ** q / r\n",
        "  \n",
        "  def getvals(self): \n",
        "    print(self.p, self.q, self.r, self.s)\n",
        "    return (self.p,self.q,self.r,self.s)\n",
        "\n",
        "aaaaaa = A(1,2)\n",
        "\n",
        "aaaaaa.getvals()"
      ],
      "execution_count": 261,
      "outputs": [
        {
          "output_type": "stream",
          "text": [
            "1 2 5 0.2\n"
          ],
          "name": "stdout"
        },
        {
          "output_type": "execute_result",
          "data": {
            "text/plain": [
              "(1, 2, 5, 0.2)"
            ]
          },
          "metadata": {
            "tags": []
          },
          "execution_count": 261
        }
      ]
    }
  ]
}