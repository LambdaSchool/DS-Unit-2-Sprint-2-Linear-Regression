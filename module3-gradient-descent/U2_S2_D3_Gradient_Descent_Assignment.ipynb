{
  "nbformat": 4,
  "nbformat_minor": 0,
  "metadata": {
    "colab": {
      "name": "U2-S2-D3-Gradient Descent Assignment.ipynb",
      "version": "0.3.2",
      "provenance": [],
      "include_colab_link": true
    },
    "kernelspec": {
      "name": "python3",
      "display_name": "Python 3"
    }
  },
  "cells": [
    {
      "cell_type": "markdown",
      "metadata": {
        "id": "view-in-github",
        "colab_type": "text"
      },
      "source": [
        "<a href=\"https://colab.research.google.com/github/zarrinan/DS-Unit-2-Sprint-2-Linear-Regression/blob/master/module3-gradient-descent/U2_S2_D3_Gradient_Descent_Assignment.ipynb\" target=\"_parent\"><img src=\"https://colab.research.google.com/assets/colab-badge.svg\" alt=\"Open In Colab\"/></a>"
      ]
    },
    {
      "metadata": {
        "id": "Qhm0Y_jqXKRv",
        "colab_type": "text"
      },
      "cell_type": "markdown",
      "source": [
        "# Gradient Descent Implementation Challenge!!\n",
        "\n",
        "## Use gradient descent to find the optimal parameters of a **multiple** regression model. (We only showed an implementation for a bivariate model during lecture.)\n",
        "\n",
        "A note: Implementing gradient descent in any context is not trivial, particularly the step where we calculate the gradient will change based on the number of parameters that we're trying to optimize for. You will need to research what the gradient of a multiple regression model looks like. This challenge is pretty open-ended but I hope it will be thrilling. Please work together, help each other, share resources and generally expand your understanding of gradient descent as you try and achieve this implementation. \n",
        "\n",
        "## Suggestions:\n",
        "\n",
        "Start off with a model that has just two $X$ variables You can use any datasets that have at least two x variables. Potential candidates might be the blood pressure dataset that we used during lecture on Monday: [HERE](https://college.cengage.com/mathematics/brase/understandable_statistics/7e/students/datasets/mlr/excel/mlr02.xls) or any of the housing datasets. You would just need to select from them the two varaibles $x$ variables and one y variable that you want to work with that you most want to work with. \n",
        "\n",
        "Use Sklearn to find the optimal parameters of your model first. (like we did during the lecture.) So that you can compare the parameter estimates of your gradient-descent linear regression to the estimates of OLS linear regression. If implemented correctly they should be nearly identical.\n",
        "\n",
        "Becoming a Data Scientist is all about striking out into the unknown, getting stuck and then researching and fighting and learning until you get yourself unstuck. Work together! And fight to take your own learning-rate fueled step towards your own optimal understanding of gradient descent! \n"
      ]
    },
    {
      "metadata": {
        "id": "eyP_07g27nIm",
        "colab_type": "text"
      },
      "cell_type": "markdown",
      "source": [
        "###OSL"
      ]
    },
    {
      "metadata": {
        "id": "_tWzF6IqXIIq",
        "colab_type": "code",
        "colab": {}
      },
      "cell_type": "code",
      "source": [
        "##### Make it Hap'n Cap'n #####"
      ],
      "execution_count": 0,
      "outputs": []
    },
    {
      "metadata": {
        "id": "v_xBAX3N4zsG",
        "colab_type": "code",
        "colab": {}
      },
      "cell_type": "code",
      "source": [
        "!pip install seaborn==0.9.0 -q"
      ],
      "execution_count": 0,
      "outputs": []
    },
    {
      "metadata": {
        "id": "yBv3zaCIiDoP",
        "colab_type": "code",
        "colab": {}
      },
      "cell_type": "code",
      "source": [
        "!pip install scipy"
      ],
      "execution_count": 0,
      "outputs": []
    },
    {
      "metadata": {
        "id": "eno5JiUirKXY",
        "colab_type": "code",
        "colab": {}
      },
      "cell_type": "code",
      "source": [
        "#IMPORTS\n",
        "import pandas as pd\n",
        "import numpy as np\n",
        "import seaborn as sns\n",
        "import matplotlib.pyplot as plt\n",
        "from sklearn.preprocessing import LabelEncoder\n",
        "from sklearn.linear_model import LinearRegression\n",
        "from sklearn.metrics import mean_squared_error, r2_score\n",
        "from sklearn.model_selection import train_test_split\n",
        "from scipy import optimize"
      ],
      "execution_count": 0,
      "outputs": []
    },
    {
      "metadata": {
        "id": "pvoS4kU445YT",
        "colab_type": "code",
        "colab": {}
      },
      "cell_type": "code",
      "source": [
        "sns.__version__"
      ],
      "execution_count": 0,
      "outputs": []
    },
    {
      "metadata": {
        "id": "0tLRJJV-4_bH",
        "colab_type": "code",
        "colab": {}
      },
      "cell_type": "code",
      "source": [
        "raw = pd.read_csv('https://raw.githubusercontent.com/ryanleeallred/datasets/master/Ames%20Housing%20Data/train.csv', index_col=0)\n",
        "raw2 = raw.drop(columns=['Alley', 'PoolQC', 'Fence', 'MiscFeature', 'FireplaceQu',\n",
        "                  'MasVnrType', 'MasVnrArea','BsmtExposure','BsmtQual','BsmtCond','BsmtFinType1',\n",
        "                  'BsmtFinType2','GarageQual', 'GarageCond', 'Electrical', \n",
        "                  'FireplaceQu', 'GarageFinish', 'PoolQC', 'Fence', 'MiscFeature',\n",
        "                  'LandSlope', 'LotConfig', 'LotShape', 'MSZoning', 'Utilities',\n",
        "                  'LandContour', 'Street', 'SaleType', 'SaleCondition', 'LotFrontage',\n",
        "                   'HouseStyle', 'RoofStyle', 'Exterior1st', 'Exterior2nd','BsmtUnfSF',\n",
        "                   'BsmtFinSF2','Heating','KitchenQual','PavedDrive', 'WoodDeckSF',\n",
        "                   'PoolArea', 'MiscVal', 'GarageType', 'GarageYrBlt', 'Condition2', \n",
        "                   'BldgType', 'RoofMatl', 'ExterQual', 'Foundation', 'HeatingQC',\n",
        "                   'LowQualFinSF', 'Condition1', 'ExterCond', 'CentralAir', 'BsmtHalfBath', \n",
        "                   'KitchenAbvGr', 'Functional', 'EnclosedPorch', '3SsnPorch', \n",
        "                   'ScreenPorch'], axis=1)"
      ],
      "execution_count": 0,
      "outputs": []
    },
    {
      "metadata": {
        "id": "HmxnMFm05ScD",
        "colab_type": "code",
        "colab": {}
      },
      "cell_type": "code",
      "source": [
        "#Auto encodes any dataframe column of type category or object.\n",
        "def dummy_encode(df):\n",
        "        columnsToEncode = list(df.select_dtypes(include=['category','object']))\n",
        "        le = LabelEncoder()\n",
        "        for feature in columnsToEncode:\n",
        "            try:\n",
        "                df[feature] = le.fit_transform(df[feature])\n",
        "            except:\n",
        "                print('Error encoding '+feature)\n",
        "        return df\n",
        "df = dummy_encode(raw2)"
      ],
      "execution_count": 0,
      "outputs": []
    },
    {
      "metadata": {
        "id": "NHc0ZfCG5Tsq",
        "colab_type": "code",
        "colab": {}
      },
      "cell_type": "code",
      "source": [
        "df['ln_price'] = np.log(df['SalePrice'])"
      ],
      "execution_count": 0,
      "outputs": []
    },
    {
      "metadata": {
        "id": "RfCjSQp95h-K",
        "colab_type": "code",
        "colab": {
          "base_uri": "https://localhost:8080/",
          "height": 35
        },
        "outputId": "b166ff85-8b83-4603-c345-a8a37322f737"
      },
      "cell_type": "code",
      "source": [
        "Q1 = df.quantile(0.25)\n",
        "Q3 = df.quantile(0.75)\n",
        "IQR = Q3 - Q1\n",
        "\n",
        "df = df[~((df < (Q1 - 1.5 * IQR)) |(df > (Q3 + 1.5 * IQR))).any(axis=1)]\n",
        "df.shape"
      ],
      "execution_count": 19,
      "outputs": [
        {
          "output_type": "execute_result",
          "data": {
            "text/plain": [
              "(998, 25)"
            ]
          },
          "metadata": {
            "tags": []
          },
          "execution_count": 19
        }
      ]
    },
    {
      "metadata": {
        "id": "beJDLCmO6h4D",
        "colab_type": "code",
        "colab": {}
      },
      "cell_type": "code",
      "source": [
        "df.columns\n",
        "cols = ['OverallQual', 'GrLivArea']"
      ],
      "execution_count": 0,
      "outputs": []
    },
    {
      "metadata": {
        "id": "WNxVbh5prM3i",
        "colab_type": "code",
        "colab": {
          "base_uri": "https://localhost:8080/",
          "height": 86
        },
        "outputId": "b7f2833e-67c8-4a53-af24-3ddb9ee5b5ac"
      },
      "cell_type": "code",
      "source": [
        "#OSL\n",
        "def print_rse_r2(df, target, cols):\n",
        "  y = df.loc[:, [target]].values\n",
        "  \n",
        "  \n",
        "  X = df.loc[:, cols].values\n",
        "  # Slit into test and train datasets\n",
        "  X_train, X_test, Y_train, Y_test = train_test_split(X, y, test_size=.25, random_state=42)\n",
        "\n",
        "  # fit model using train datasets\n",
        "  model = LinearRegression()\n",
        "  model.fit(X_train, Y_train)\n",
        "\n",
        "  # Create new predictions using x_test\n",
        "  y_pred = model.predict(X_test)\n",
        "\n",
        "  # Measure Accuracy using y_test and y_pred\n",
        "  RMSE = (np.sqrt(mean_squared_error(Y_test, y_pred)))\n",
        "  R2 = r2_score(Y_test, y_pred)\n",
        "\n",
        "  print('RMSE is {}'.format(RMSE))\n",
        "  print('R^2 is {}'.format(R2))\n",
        "  print(\"coefficients: \", model.coef_[0])\n",
        "  print(\"intercepts: \", model.intercept_)\n",
        "  \n",
        "print_rse_r2(df, 'ln_price', cols)"
      ],
      "execution_count": 21,
      "outputs": [
        {
          "output_type": "stream",
          "text": [
            "RMSE is 0.14785406464580433\n",
            "R^2 is 0.7628692105591616\n",
            "coefficients:  [0.15039181 0.00031138]\n",
            "intercepts:  [10.6534229]\n"
          ],
          "name": "stdout"
        }
      ]
    },
    {
      "metadata": {
        "id": "nvyiuW2Q7W8J",
        "colab_type": "text"
      },
      "cell_type": "markdown",
      "source": [
        "### Gradient Descent"
      ]
    },
    {
      "metadata": {
        "id": "JL-TeIYq8iPr",
        "colab_type": "text"
      },
      "cell_type": "markdown",
      "source": [
        "<b>Cost</b>\n",
        "\\begin{equation}\n",
        "J(\\theta) = 1/2m \\sum_{i=1}^{m} (h(\\theta)^{(i)} - y^{(i)})^2 \n",
        "\\end{equation}\n",
        "\n",
        "<b>Gradient</b>\n",
        "\n",
        "\\begin{equation}\n",
        "\\frac{\\partial J(\\theta)}{\\partial \\theta_j} = 1/m\\sum_{i=1}^{m}(h(\\theta^{(i)} - y^{(i)}).X_j^{(i)}\n",
        "\\end{equation}\n",
        "\n",
        "<b>Gradients</b>\n",
        "\\begin{equation}\n",
        "\\theta_0: = \\theta_0 -\\alpha . (1/m .\\sum_{i=1}^{m}(h(\\theta^{(i)} - y^{(i)}).X_0^{(i)})\n",
        "\\end{equation}\n",
        "\\begin{equation}\n",
        "\\theta_1: = \\theta_1 -\\alpha . (1/m .\\sum_{i=1}^{m}(h(\\theta^{(i)} - y^{(i)}).X_1^{(i)})\n",
        "\\end{equation}\n",
        "\\begin{equation}\n",
        "\\theta_2: = \\theta_2 -\\alpha . (1/m .\\sum_{i=1}^{m}(h(\\theta^{(i)} - y^{(i)}).X_2^{(i)})\n",
        "\\end{equation}\n",
        "\n",
        "\\begin{equation}\n",
        "\\theta_j: = \\theta_j -\\alpha . (1/m .\\sum_{i=1}^{m}(h(\\theta^{(i)} - y^{(i)}).X_0^{(i)})\n",
        "\\end{equation}"
      ]
    },
    {
      "metadata": {
        "id": "UxaVRkN67UFF",
        "colab_type": "code",
        "colab": {
          "base_uri": "https://localhost:8080/",
          "height": 138
        },
        "outputId": "9116e68c-dc01-4701-c864-1af51c2b8c79"
      },
      "cell_type": "code",
      "source": [
        "### Define X and y variables\n",
        "\n",
        "X = df[['OverallQual', 'GrLivArea']].values\n",
        "\n",
        "# Normalize X\n",
        "X = (X - X.mean()) / X.std()\n",
        "\n",
        "# Matrix version \n",
        "X = np.c_[np.ones((X.shape[0], 1)), X]\n",
        "\n",
        "y = df['ln_price'][:, np.newaxis]\n",
        "\n",
        "theta = np.zeros((X.shape[1], 1))\n"
      ],
      "execution_count": 62,
      "outputs": [
        {
          "output_type": "stream",
          "text": [
            "[[ 1.         -0.92859113  1.29154308]\n",
            " [ 1.         -0.92859113  1.3906213 ]\n",
            " [ 1.         -0.92859113  1.30066871]\n",
            " ...\n",
            " [ 1.         -0.92989479  1.76477192]\n",
            " [ 1.         -0.93119846  0.4676295 ]\n",
            " [ 1.         -0.93119846  0.69968111]]\n"
          ],
          "name": "stdout"
        }
      ]
    },
    {
      "metadata": {
        "id": "M1Q9HNO1mcDK",
        "colab_type": "code",
        "colab": {}
      },
      "cell_type": "code",
      "source": [
        "class LinearRegressionUsingGD:\n",
        "    \"\"\"Linear Regression Using Gradient Descent.\n",
        "    Parameters\n",
        "    ----------\n",
        "    eta : float\n",
        "        Learning rate\n",
        "    n_iterations : int\n",
        "        No of passes over the training set\n",
        "    Attributes\n",
        "    ----------\n",
        "    w_ : weights/ after fitting the model\n",
        "    cost_ : total error of the model after each iteration\n",
        "    \"\"\"\n",
        "\n",
        "    def __init__(self, eta=0.05, n_iterations=100):\n",
        "        self.eta = eta\n",
        "        self.n_iterations = n_iterations\n",
        "\n",
        "    def fit(self, x, y):\n",
        "        \"\"\"Fit the training data\n",
        "        Parameters\n",
        "        ----------\n",
        "        x : array-like, shape = [n_samples, n_features]\n",
        "            Training samples\n",
        "        y : array-like, shape = [n_samples, n_target_values]\n",
        "            Target values\n",
        "        Returns\n",
        "        -------\n",
        "        self : object\n",
        "        \"\"\"\n",
        "\n",
        "        self.cost_ = []\n",
        "        self.w_ = np.zeros((x.shape[1], 1))\n",
        "        m = x.shape[0]\n",
        "\n",
        "        for _ in range(self.n_iterations):\n",
        "            y_pred = self.predict(X)\n",
        "            residual = y_pred - y\n",
        "            sse = np.sum(residual**2) / len(y)\n",
        "            \n",
        "            gradient_vector = np.dot(X.T, residual)\n",
        "            \n",
        "            self.w_ -= (self.eta / len(y)) * gradient_vector\n",
        "            cost = np.sum((residual ** 2)) / (2 * len(y))\n",
        "            self.cost_.append(cost)\n",
        "            \n",
        "        return self\n",
        "\n",
        "    def predict(self, x):\n",
        "        \"\"\" Predicts the value after the model has been trained.\n",
        "        Parameters\n",
        "        ----------\n",
        "        x : array-like, shape = [n_samples, n_features]\n",
        "            Test samples\n",
        "        Returns\n",
        "        -------\n",
        "        Predicted value\n",
        "        \"\"\"\n",
        "        return np.dot(x, self.w_)"
      ],
      "execution_count": 0,
      "outputs": []
    },
    {
      "metadata": {
        "id": "NfyoWzqEndu9",
        "colab_type": "code",
        "colab": {
          "base_uri": "https://localhost:8080/",
          "height": 69
        },
        "outputId": "96c3a4b6-fc0b-49f2-df50-1a1602aa21a8"
      },
      "cell_type": "code",
      "source": [
        "gd = LinearRegressionUsingGD(eta=0.1, n_iterations=1000)\n",
        "gd.fit(X,y)\n",
        "gd.w_"
      ],
      "execution_count": 86,
      "outputs": [
        {
          "output_type": "execute_result",
          "data": {
            "text/plain": [
              "array([[ 6.22333223],\n",
              "       [-5.77605767],\n",
              "       [ 0.45402076]])"
            ]
          },
          "metadata": {
            "tags": []
          },
          "execution_count": 86
        }
      ]
    },
    {
      "metadata": {
        "id": "HqsmgxJfp3r8",
        "colab_type": "code",
        "colab": {
          "base_uri": "https://localhost:8080/",
          "height": 269
        },
        "outputId": "a80fc48e-3da6-4c0b-e6f3-f0d51d9b8879"
      },
      "cell_type": "code",
      "source": [
        "epochs = np.arange(len(gd.cost_))\n",
        "plt.scatter(x=epochs, y=gd.cost_)\n",
        "plt.show()\n"
      ],
      "execution_count": 87,
      "outputs": [
        {
          "output_type": "display_data",
          "data": {
            "image/png": "[encoded data removed]",
            "text/plain": [
              "<matplotlib.figure.Figure at 0x7fed41f2c550>"
            ]
          },
          "metadata": {
            "tags": []
          }
        }
      ]
    },
    {
      "metadata": {
        "id": "h6bTRYfxmYKW",
        "colab_type": "text"
      },
      "cell_type": "markdown",
      "source": [
        "### Using scipy fmin_tnc function"
      ]
    },
    {
      "metadata": {
        "id": "kmO_o2jdlC0P",
        "colab_type": "code",
        "colab": {}
      },
      "cell_type": "code",
      "source": [
        "def sigmoid(x):\n",
        "    # Activation function used to map any real value between 0 and 1\n",
        "    return 1 / (1 + np.exp(-x))\n",
        "\n",
        "def net_input(theta, x):\n",
        "    # Computes the weighted sum of inputs\n",
        "    return np.dot(x, theta)\n",
        "\n",
        "def probability(theta, x):\n",
        "    # Returns the probability after passing through sigmoid\n",
        "    return sigmoid(net_input(theta, x))"
      ],
      "execution_count": 0,
      "outputs": []
    },
    {
      "metadata": {
        "id": "_PaIoLYhlH1b",
        "colab_type": "code",
        "colab": {}
      },
      "cell_type": "code",
      "source": [
        "def cost_function(theta, x, y):\n",
        "    # Computes the cost function for all the training samples\n",
        "    m = x.shape[0]\n",
        "    total_cost = -(1 / m) * np.sum(\n",
        "        y * np.log(probability(theta, x)) + (1 - y) * np.log(\n",
        "            1 - probability(theta, x)))\n",
        "    return total_cost\n",
        "\n",
        "def gradient(theta, x, y):\n",
        "    # Computes the gradient of the cost function at the point theta\n",
        "    m = x.shape[0]\n",
        "    return (1 / m) * np.dot(x.T, sigmoid(net_input(theta,   x)) - y)"
      ],
      "execution_count": 0,
      "outputs": []
    },
    {
      "metadata": {
        "id": "_r65Q7m5lMz-",
        "colab_type": "code",
        "colab": {
          "base_uri": "https://localhost:8080/",
          "height": 52
        },
        "outputId": "161f1f0d-5fb4-4033-dd30-2f4ddb713228"
      },
      "cell_type": "code",
      "source": [
        "def fit( x, y, theta):\n",
        "    opt_weights = optimize.fmin_tnc(func=cost_function, x0=theta,\n",
        "                  fprime=gradient,args=(x, y.flatten()))\n",
        "    return opt_weights[0]\n",
        "parameters = fit(X, y, theta)"
      ],
      "execution_count": 67,
      "outputs": [
        {
          "output_type": "stream",
          "text": [
            "/usr/local/lib/python3.6/dist-packages/ipykernel_launcher.py:6: RuntimeWarning: divide by zero encountered in log\n",
            "  \n"
          ],
          "name": "stderr"
        }
      ]
    },
    {
      "metadata": {
        "id": "SzAZN_b8lRHw",
        "colab_type": "code",
        "colab": {
          "base_uri": "https://localhost:8080/",
          "height": 35
        },
        "outputId": "286c7af1-e721-41fd-afe0-5fdb213e98fb"
      },
      "cell_type": "code",
      "source": [
        "print(parameters)"
      ],
      "execution_count": 68,
      "outputs": [
        {
          "output_type": "stream",
          "text": [
            "[ 6.03199181 -5.60816309  5.67129453]\n"
          ],
          "name": "stdout"
        }
      ]
    },
    {
      "metadata": {
        "id": "RCs6EmWhYPM-",
        "colab_type": "text"
      },
      "cell_type": "markdown",
      "source": [
        "## Stretch Goals\n",
        "\n",
        "If you happen upon the most useful resources for accomplishing this challenge first, I want you to spend time today studying other variations of Gradient Descent-Based Optimizers.\n",
        "\n",
        "- Try and write a function that can perform gradient descent for arbitarily large (in dimensionality) multiple regression models. \n",
        "- Create a notebook for yourself exploring these topics\n",
        "- How do they differ from the \"vanilla\" gradient descent we explored today\n",
        "- How do these different gradient descent-based optimizers seek to overcome the challenge of finding the global minimum among various local minima?\n",
        "- Write a blog post that reteaches what you have learned about these other gradient descent-based optimizers.\n",
        "\n",
        "[Overview of GD-based optimizers](http://ruder.io/optimizing-gradient-descent/)\n",
        "\n",
        "[Siraj Raval - Evolution of Gradient Descent-Based Optimizers](https://youtu.be/nhqo0u1a6fw)"
      ]
    }
  ]
}