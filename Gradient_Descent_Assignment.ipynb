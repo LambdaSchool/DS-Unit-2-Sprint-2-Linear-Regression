{
  "nbformat": 4,
  "nbformat_minor": 0,
  "metadata": {
    "colab": {
      "name": "Gradient Descent Assignment.ipynb",
      "version": "0.3.2",
      "provenance": [],
      "collapsed_sections": [],
      "include_colab_link": true
    },
    "kernelspec": {
      "name": "python3",
      "display_name": "Python 3"
    }
  },
  "cells": [
    {
      "cell_type": "markdown",
      "metadata": {
        "id": "view-in-github",
        "colab_type": "text"
      },
      "source": [
        "<a href=\"https://colab.research.google.com/github/a-apte/DS-Unit-2-Sprint-2-Linear-Regression/blob/master/Gradient_Descent_Assignment.ipynb\" target=\"_parent\"><img src=\"https://colab.research.google.com/assets/colab-badge.svg\" alt=\"Open In Colab\"/></a>"
      ]
    },
    {
      "metadata": {
        "id": "Qhm0Y_jqXKRv",
        "colab_type": "text"
      },
      "cell_type": "markdown",
      "source": [
        "# Gradient Descent Implementation Challenge!!\n",
        "\n",
        "## Use gradient descent to find the optimal parameters of a **multiple** regression model. (We only showed an implementation for a bivariate model during lecture.)\n",
        "\n",
        "A note: Implementing gradient descent in any context is not trivial, particularly the step where we calculate the gradient will change based on the number of parameters that we're trying to optimize for. You will need to research what the gradient of a multiple regression model looks like. This challenge is pretty open-ended but I hope it will be thrilling. Please work together, help each other, share resources and generally expand your understanding of gradient descent as you try and achieve this implementation. \n",
        "\n",
        "## Suggestions:\n",
        "\n",
        "Start off with a model that has just two $X$ variables You can use any datasets that have at least two x variables. Potential candidates might be the blood pressure dataset that we used during lecture on Monday: [HERE](https://college.cengage.com/mathematics/brase/understandable_statistics/7e/students/datasets/mlr/excel/mlr02.xls) or any of the housing datasets. You would just need to select from them the two varaibles $x$ variables and one y variable that you want to work with that you most want to work with. \n",
        "\n",
        "Use Sklearn to find the optimal parameters of your model first. (like we did during the lecture.) So that you can compare the parameter estimates of your gradient-descent linear regression to the estimates of OLS linear regression. If implemented correctly they should be nearly identical.\n",
        "\n",
        "Becoming a Data Scientist is all about striking out into the unknown, getting stuck and then researching and fighting and learning until you get yourself unstuck. Work together! And fight to take your own learning-rate fueled step towards your own optimal understanding of gradient descent! \n"
      ]
    },
    {
      "metadata": {
        "id": "hPG43SAi0eYX",
        "colab_type": "text"
      },
      "cell_type": "markdown",
      "source": [
        "### IMPORT PACKAGES"
      ]
    },
    {
      "metadata": {
        "id": "GgAtXR1h0h4m",
        "colab_type": "code",
        "colab": {}
      },
      "cell_type": "code",
      "source": [
        "import pandas as pd\n",
        "import numpy as np\n",
        "import matplotlib.pyplot as plt\n",
        "import matplotlib.style as style\n",
        "style.use('seaborn-white')\n",
        "from sklearn.linear_model import LinearRegression"
      ],
      "execution_count": 0,
      "outputs": []
    },
    {
      "metadata": {
        "id": "xUgId5Ol0jO0",
        "colab_type": "text"
      },
      "cell_type": "markdown",
      "source": [
        "### DATA LOAD - ABALONE DATASET"
      ]
    },
    {
      "metadata": {
        "id": "_tWzF6IqXIIq",
        "colab_type": "code",
        "outputId": "b4ad7193-c5dd-4c62-9e71-ccdaa5c60fa3",
        "colab": {
          "base_uri": "https://localhost:8080/",
          "height": 220
        }
      },
      "cell_type": "code",
      "source": [
        "##### Make it Hap'n Cap'n #####\n",
        "\n",
        "url = 'https://archive.ics.uci.edu/ml/machine-learning-databases/abalone/abalone.data'\n",
        "\n",
        "header = ['Sex','Length','Diameter','Height','Whole_weight','Shucked_weight','Viscera_weight','Shell_weight','Rings']\n",
        "\n",
        "df = pd.read_csv(url, names = header)\n",
        "print(df.shape)\n",
        "df.head()"
      ],
      "execution_count": 0,
      "outputs": [
        {
          "output_type": "stream",
          "text": [
            "(4177, 9)\n"
          ],
          "name": "stdout"
        },
        {
          "output_type": "execute_result",
          "data": {
            "text/html": [
              "<div>\n",
              "<style scoped>\n",
              "    .dataframe tbody tr th:only-of-type {\n",
              "        vertical-align: middle;\n",
              "    }\n",
              "\n",
              "    .dataframe tbody tr th {\n",
              "        vertical-align: top;\n",
              "    }\n",
              "\n",
              "    .dataframe thead th {\n",
              "        text-align: right;\n",
              "    }\n",
              "</style>\n",
              "<table border=\"1\" class=\"dataframe\">\n",
              "  <thead>\n",
              "    <tr style=\"text-align: right;\">\n",
              "      <th></th>\n",
              "      <th>Sex</th>\n",
              "      <th>Length</th>\n",
              "      <th>Diameter</th>\n",
              "      <th>Height</th>\n",
              "      <th>Whole_weight</th>\n",
              "      <th>Shucked_weight</th>\n",
              "      <th>Viscera_weight</th>\n",
              "      <th>Shell_weight</th>\n",
              "      <th>Rings</th>\n",
              "    </tr>\n",
              "  </thead>\n",
              "  <tbody>\n",
              "    <tr>\n",
              "      <th>0</th>\n",
              "      <td>M</td>\n",
              "      <td>0.455</td>\n",
              "      <td>0.365</td>\n",
              "      <td>0.095</td>\n",
              "      <td>0.5140</td>\n",
              "      <td>0.2245</td>\n",
              "      <td>0.1010</td>\n",
              "      <td>0.150</td>\n",
              "      <td>15</td>\n",
              "    </tr>\n",
              "    <tr>\n",
              "      <th>1</th>\n",
              "      <td>M</td>\n",
              "      <td>0.350</td>\n",
              "      <td>0.265</td>\n",
              "      <td>0.090</td>\n",
              "      <td>0.2255</td>\n",
              "      <td>0.0995</td>\n",
              "      <td>0.0485</td>\n",
              "      <td>0.070</td>\n",
              "      <td>7</td>\n",
              "    </tr>\n",
              "    <tr>\n",
              "      <th>2</th>\n",
              "      <td>F</td>\n",
              "      <td>0.530</td>\n",
              "      <td>0.420</td>\n",
              "      <td>0.135</td>\n",
              "      <td>0.6770</td>\n",
              "      <td>0.2565</td>\n",
              "      <td>0.1415</td>\n",
              "      <td>0.210</td>\n",
              "      <td>9</td>\n",
              "    </tr>\n",
              "    <tr>\n",
              "      <th>3</th>\n",
              "      <td>M</td>\n",
              "      <td>0.440</td>\n",
              "      <td>0.365</td>\n",
              "      <td>0.125</td>\n",
              "      <td>0.5160</td>\n",
              "      <td>0.2155</td>\n",
              "      <td>0.1140</td>\n",
              "      <td>0.155</td>\n",
              "      <td>10</td>\n",
              "    </tr>\n",
              "    <tr>\n",
              "      <th>4</th>\n",
              "      <td>I</td>\n",
              "      <td>0.330</td>\n",
              "      <td>0.255</td>\n",
              "      <td>0.080</td>\n",
              "      <td>0.2050</td>\n",
              "      <td>0.0895</td>\n",
              "      <td>0.0395</td>\n",
              "      <td>0.055</td>\n",
              "      <td>7</td>\n",
              "    </tr>\n",
              "  </tbody>\n",
              "</table>\n",
              "</div>"
            ],
            "text/plain": [
              "  Sex  Length  Diameter  Height  Whole_weight  Shucked_weight  Viscera_weight  \\\n",
              "0   M   0.455     0.365   0.095        0.5140          0.2245          0.1010   \n",
              "1   M   0.350     0.265   0.090        0.2255          0.0995          0.0485   \n",
              "2   F   0.530     0.420   0.135        0.6770          0.2565          0.1415   \n",
              "3   M   0.440     0.365   0.125        0.5160          0.2155          0.1140   \n",
              "4   I   0.330     0.255   0.080        0.2050          0.0895          0.0395   \n",
              "\n",
              "   Shell_weight  Rings  \n",
              "0         0.150     15  \n",
              "1         0.070      7  \n",
              "2         0.210      9  \n",
              "3         0.155     10  \n",
              "4         0.055      7  "
            ]
          },
          "metadata": {
            "tags": []
          },
          "execution_count": 11
        }
      ]
    },
    {
      "metadata": {
        "id": "9Qneo6cTbmO-",
        "colab_type": "text"
      },
      "cell_type": "markdown",
      "source": [
        "### CLEANUP AND FEATURE ENGINEERING"
      ]
    },
    {
      "metadata": {
        "id": "gAHmDOuWF6fO",
        "colab_type": "code",
        "outputId": "655517ac-edfb-45ec-bba5-6b92597d7611",
        "colab": {
          "base_uri": "https://localhost:8080/",
          "height": 190
        }
      },
      "cell_type": "code",
      "source": [
        "df.isnull().sum()"
      ],
      "execution_count": 0,
      "outputs": [
        {
          "output_type": "execute_result",
          "data": {
            "text/plain": [
              "Sex               0\n",
              "Length            0\n",
              "Diameter          0\n",
              "Height            0\n",
              "Whole_weight      0\n",
              "Shucked_weight    0\n",
              "Viscera_weight    0\n",
              "Shell_weight      0\n",
              "Rings             0\n",
              "dtype: int64"
            ]
          },
          "metadata": {
            "tags": []
          },
          "execution_count": 13
        }
      ]
    },
    {
      "metadata": {
        "id": "9lcqvhZPRYiG",
        "colab_type": "code",
        "outputId": "52ef0f22-c343-40ed-8115-0a294b569e8b",
        "colab": {
          "base_uri": "https://localhost:8080/",
          "height": 294
        }
      },
      "cell_type": "code",
      "source": [
        "df.corr()"
      ],
      "execution_count": 0,
      "outputs": [
        {
          "output_type": "execute_result",
          "data": {
            "text/html": [
              "<div>\n",
              "<style scoped>\n",
              "    .dataframe tbody tr th:only-of-type {\n",
              "        vertical-align: middle;\n",
              "    }\n",
              "\n",
              "    .dataframe tbody tr th {\n",
              "        vertical-align: top;\n",
              "    }\n",
              "\n",
              "    .dataframe thead th {\n",
              "        text-align: right;\n",
              "    }\n",
              "</style>\n",
              "<table border=\"1\" class=\"dataframe\">\n",
              "  <thead>\n",
              "    <tr style=\"text-align: right;\">\n",
              "      <th></th>\n",
              "      <th>Length</th>\n",
              "      <th>Diameter</th>\n",
              "      <th>Height</th>\n",
              "      <th>Whole_weight</th>\n",
              "      <th>Shucked_weight</th>\n",
              "      <th>Viscera_weight</th>\n",
              "      <th>Shell_weight</th>\n",
              "      <th>Rings</th>\n",
              "    </tr>\n",
              "  </thead>\n",
              "  <tbody>\n",
              "    <tr>\n",
              "      <th>Length</th>\n",
              "      <td>1.000000</td>\n",
              "      <td>0.986812</td>\n",
              "      <td>0.827554</td>\n",
              "      <td>0.925261</td>\n",
              "      <td>0.897914</td>\n",
              "      <td>0.903018</td>\n",
              "      <td>0.897706</td>\n",
              "      <td>0.556720</td>\n",
              "    </tr>\n",
              "    <tr>\n",
              "      <th>Diameter</th>\n",
              "      <td>0.986812</td>\n",
              "      <td>1.000000</td>\n",
              "      <td>0.833684</td>\n",
              "      <td>0.925452</td>\n",
              "      <td>0.893162</td>\n",
              "      <td>0.899724</td>\n",
              "      <td>0.905330</td>\n",
              "      <td>0.574660</td>\n",
              "    </tr>\n",
              "    <tr>\n",
              "      <th>Height</th>\n",
              "      <td>0.827554</td>\n",
              "      <td>0.833684</td>\n",
              "      <td>1.000000</td>\n",
              "      <td>0.819221</td>\n",
              "      <td>0.774972</td>\n",
              "      <td>0.798319</td>\n",
              "      <td>0.817338</td>\n",
              "      <td>0.557467</td>\n",
              "    </tr>\n",
              "    <tr>\n",
              "      <th>Whole_weight</th>\n",
              "      <td>0.925261</td>\n",
              "      <td>0.925452</td>\n",
              "      <td>0.819221</td>\n",
              "      <td>1.000000</td>\n",
              "      <td>0.969405</td>\n",
              "      <td>0.966375</td>\n",
              "      <td>0.955355</td>\n",
              "      <td>0.540390</td>\n",
              "    </tr>\n",
              "    <tr>\n",
              "      <th>Shucked_weight</th>\n",
              "      <td>0.897914</td>\n",
              "      <td>0.893162</td>\n",
              "      <td>0.774972</td>\n",
              "      <td>0.969405</td>\n",
              "      <td>1.000000</td>\n",
              "      <td>0.931961</td>\n",
              "      <td>0.882617</td>\n",
              "      <td>0.420884</td>\n",
              "    </tr>\n",
              "    <tr>\n",
              "      <th>Viscera_weight</th>\n",
              "      <td>0.903018</td>\n",
              "      <td>0.899724</td>\n",
              "      <td>0.798319</td>\n",
              "      <td>0.966375</td>\n",
              "      <td>0.931961</td>\n",
              "      <td>1.000000</td>\n",
              "      <td>0.907656</td>\n",
              "      <td>0.503819</td>\n",
              "    </tr>\n",
              "    <tr>\n",
              "      <th>Shell_weight</th>\n",
              "      <td>0.897706</td>\n",
              "      <td>0.905330</td>\n",
              "      <td>0.817338</td>\n",
              "      <td>0.955355</td>\n",
              "      <td>0.882617</td>\n",
              "      <td>0.907656</td>\n",
              "      <td>1.000000</td>\n",
              "      <td>0.627574</td>\n",
              "    </tr>\n",
              "    <tr>\n",
              "      <th>Rings</th>\n",
              "      <td>0.556720</td>\n",
              "      <td>0.574660</td>\n",
              "      <td>0.557467</td>\n",
              "      <td>0.540390</td>\n",
              "      <td>0.420884</td>\n",
              "      <td>0.503819</td>\n",
              "      <td>0.627574</td>\n",
              "      <td>1.000000</td>\n",
              "    </tr>\n",
              "  </tbody>\n",
              "</table>\n",
              "</div>"
            ],
            "text/plain": [
              "                  Length  Diameter    Height  Whole_weight  Shucked_weight  \\\n",
              "Length          1.000000  0.986812  0.827554      0.925261        0.897914   \n",
              "Diameter        0.986812  1.000000  0.833684      0.925452        0.893162   \n",
              "Height          0.827554  0.833684  1.000000      0.819221        0.774972   \n",
              "Whole_weight    0.925261  0.925452  0.819221      1.000000        0.969405   \n",
              "Shucked_weight  0.897914  0.893162  0.774972      0.969405        1.000000   \n",
              "Viscera_weight  0.903018  0.899724  0.798319      0.966375        0.931961   \n",
              "Shell_weight    0.897706  0.905330  0.817338      0.955355        0.882617   \n",
              "Rings           0.556720  0.574660  0.557467      0.540390        0.420884   \n",
              "\n",
              "                Viscera_weight  Shell_weight     Rings  \n",
              "Length                0.903018      0.897706  0.556720  \n",
              "Diameter              0.899724      0.905330  0.574660  \n",
              "Height                0.798319      0.817338  0.557467  \n",
              "Whole_weight          0.966375      0.955355  0.540390  \n",
              "Shucked_weight        0.931961      0.882617  0.420884  \n",
              "Viscera_weight        1.000000      0.907656  0.503819  \n",
              "Shell_weight          0.907656      1.000000  0.627574  \n",
              "Rings                 0.503819      0.627574  1.000000  "
            ]
          },
          "metadata": {
            "tags": []
          },
          "execution_count": 14
        }
      ]
    },
    {
      "metadata": {
        "id": "qLbulW16Re_8",
        "colab_type": "code",
        "outputId": "36f4524f-8303-4604-8710-6b7d41ade30c",
        "colab": {
          "base_uri": "https://localhost:8080/",
          "height": 356
        }
      },
      "cell_type": "code",
      "source": [
        "# FEATURE ENGINEERING\n",
        "\n",
        "df['Volume'] = df.Length * df.Diameter * df.Height\n",
        "\n",
        "df['Rings_squared'] = df['Rings']**2\n",
        "\n",
        "df.corr()"
      ],
      "execution_count": 0,
      "outputs": [
        {
          "output_type": "execute_result",
          "data": {
            "text/html": [
              "<div>\n",
              "<style scoped>\n",
              "    .dataframe tbody tr th:only-of-type {\n",
              "        vertical-align: middle;\n",
              "    }\n",
              "\n",
              "    .dataframe tbody tr th {\n",
              "        vertical-align: top;\n",
              "    }\n",
              "\n",
              "    .dataframe thead th {\n",
              "        text-align: right;\n",
              "    }\n",
              "</style>\n",
              "<table border=\"1\" class=\"dataframe\">\n",
              "  <thead>\n",
              "    <tr style=\"text-align: right;\">\n",
              "      <th></th>\n",
              "      <th>Length</th>\n",
              "      <th>Diameter</th>\n",
              "      <th>Height</th>\n",
              "      <th>Whole_weight</th>\n",
              "      <th>Shucked_weight</th>\n",
              "      <th>Viscera_weight</th>\n",
              "      <th>Shell_weight</th>\n",
              "      <th>Rings</th>\n",
              "      <th>Volume</th>\n",
              "      <th>Rings_squared</th>\n",
              "    </tr>\n",
              "  </thead>\n",
              "  <tbody>\n",
              "    <tr>\n",
              "      <th>Length</th>\n",
              "      <td>1.000000</td>\n",
              "      <td>0.986812</td>\n",
              "      <td>0.827554</td>\n",
              "      <td>0.925261</td>\n",
              "      <td>0.897914</td>\n",
              "      <td>0.903018</td>\n",
              "      <td>0.897706</td>\n",
              "      <td>0.556720</td>\n",
              "      <td>0.917937</td>\n",
              "      <td>0.443257</td>\n",
              "    </tr>\n",
              "    <tr>\n",
              "      <th>Diameter</th>\n",
              "      <td>0.986812</td>\n",
              "      <td>1.000000</td>\n",
              "      <td>0.833684</td>\n",
              "      <td>0.925452</td>\n",
              "      <td>0.893162</td>\n",
              "      <td>0.899724</td>\n",
              "      <td>0.905330</td>\n",
              "      <td>0.574660</td>\n",
              "      <td>0.923353</td>\n",
              "      <td>0.462183</td>\n",
              "    </tr>\n",
              "    <tr>\n",
              "      <th>Height</th>\n",
              "      <td>0.827554</td>\n",
              "      <td>0.833684</td>\n",
              "      <td>1.000000</td>\n",
              "      <td>0.819221</td>\n",
              "      <td>0.774972</td>\n",
              "      <td>0.798319</td>\n",
              "      <td>0.817338</td>\n",
              "      <td>0.557467</td>\n",
              "      <td>0.905318</td>\n",
              "      <td>0.466378</td>\n",
              "    </tr>\n",
              "    <tr>\n",
              "      <th>Whole_weight</th>\n",
              "      <td>0.925261</td>\n",
              "      <td>0.925452</td>\n",
              "      <td>0.819221</td>\n",
              "      <td>1.000000</td>\n",
              "      <td>0.969405</td>\n",
              "      <td>0.966375</td>\n",
              "      <td>0.955355</td>\n",
              "      <td>0.540390</td>\n",
              "      <td>0.959871</td>\n",
              "      <td>0.455743</td>\n",
              "    </tr>\n",
              "    <tr>\n",
              "      <th>Shucked_weight</th>\n",
              "      <td>0.897914</td>\n",
              "      <td>0.893162</td>\n",
              "      <td>0.774972</td>\n",
              "      <td>0.969405</td>\n",
              "      <td>1.000000</td>\n",
              "      <td>0.931961</td>\n",
              "      <td>0.882617</td>\n",
              "      <td>0.420884</td>\n",
              "      <td>0.922982</td>\n",
              "      <td>0.331492</td>\n",
              "    </tr>\n",
              "    <tr>\n",
              "      <th>Viscera_weight</th>\n",
              "      <td>0.903018</td>\n",
              "      <td>0.899724</td>\n",
              "      <td>0.798319</td>\n",
              "      <td>0.966375</td>\n",
              "      <td>0.931961</td>\n",
              "      <td>1.000000</td>\n",
              "      <td>0.907656</td>\n",
              "      <td>0.503819</td>\n",
              "      <td>0.933789</td>\n",
              "      <td>0.414162</td>\n",
              "    </tr>\n",
              "    <tr>\n",
              "      <th>Shell_weight</th>\n",
              "      <td>0.897706</td>\n",
              "      <td>0.905330</td>\n",
              "      <td>0.817338</td>\n",
              "      <td>0.955355</td>\n",
              "      <td>0.882617</td>\n",
              "      <td>0.907656</td>\n",
              "      <td>1.000000</td>\n",
              "      <td>0.627574</td>\n",
              "      <td>0.938357</td>\n",
              "      <td>0.552341</td>\n",
              "    </tr>\n",
              "    <tr>\n",
              "      <th>Rings</th>\n",
              "      <td>0.556720</td>\n",
              "      <td>0.574660</td>\n",
              "      <td>0.557467</td>\n",
              "      <td>0.540390</td>\n",
              "      <td>0.420884</td>\n",
              "      <td>0.503819</td>\n",
              "      <td>0.627574</td>\n",
              "      <td>1.000000</td>\n",
              "      <td>0.544952</td>\n",
              "      <td>0.972071</td>\n",
              "    </tr>\n",
              "    <tr>\n",
              "      <th>Volume</th>\n",
              "      <td>0.917937</td>\n",
              "      <td>0.923353</td>\n",
              "      <td>0.905318</td>\n",
              "      <td>0.959871</td>\n",
              "      <td>0.922982</td>\n",
              "      <td>0.933789</td>\n",
              "      <td>0.938357</td>\n",
              "      <td>0.544952</td>\n",
              "      <td>1.000000</td>\n",
              "      <td>0.460591</td>\n",
              "    </tr>\n",
              "    <tr>\n",
              "      <th>Rings_squared</th>\n",
              "      <td>0.443257</td>\n",
              "      <td>0.462183</td>\n",
              "      <td>0.466378</td>\n",
              "      <td>0.455743</td>\n",
              "      <td>0.331492</td>\n",
              "      <td>0.414162</td>\n",
              "      <td>0.552341</td>\n",
              "      <td>0.972071</td>\n",
              "      <td>0.460591</td>\n",
              "      <td>1.000000</td>\n",
              "    </tr>\n",
              "  </tbody>\n",
              "</table>\n",
              "</div>"
            ],
            "text/plain": [
              "                  Length  Diameter    Height  Whole_weight  Shucked_weight  \\\n",
              "Length          1.000000  0.986812  0.827554      0.925261        0.897914   \n",
              "Diameter        0.986812  1.000000  0.833684      0.925452        0.893162   \n",
              "Height          0.827554  0.833684  1.000000      0.819221        0.774972   \n",
              "Whole_weight    0.925261  0.925452  0.819221      1.000000        0.969405   \n",
              "Shucked_weight  0.897914  0.893162  0.774972      0.969405        1.000000   \n",
              "Viscera_weight  0.903018  0.899724  0.798319      0.966375        0.931961   \n",
              "Shell_weight    0.897706  0.905330  0.817338      0.955355        0.882617   \n",
              "Rings           0.556720  0.574660  0.557467      0.540390        0.420884   \n",
              "Volume          0.917937  0.923353  0.905318      0.959871        0.922982   \n",
              "Rings_squared   0.443257  0.462183  0.466378      0.455743        0.331492   \n",
              "\n",
              "                Viscera_weight  Shell_weight     Rings    Volume  \\\n",
              "Length                0.903018      0.897706  0.556720  0.917937   \n",
              "Diameter              0.899724      0.905330  0.574660  0.923353   \n",
              "Height                0.798319      0.817338  0.557467  0.905318   \n",
              "Whole_weight          0.966375      0.955355  0.540390  0.959871   \n",
              "Shucked_weight        0.931961      0.882617  0.420884  0.922982   \n",
              "Viscera_weight        1.000000      0.907656  0.503819  0.933789   \n",
              "Shell_weight          0.907656      1.000000  0.627574  0.938357   \n",
              "Rings                 0.503819      0.627574  1.000000  0.544952   \n",
              "Volume                0.933789      0.938357  0.544952  1.000000   \n",
              "Rings_squared         0.414162      0.552341  0.972071  0.460591   \n",
              "\n",
              "                Rings_squared  \n",
              "Length               0.443257  \n",
              "Diameter             0.462183  \n",
              "Height               0.466378  \n",
              "Whole_weight         0.455743  \n",
              "Shucked_weight       0.331492  \n",
              "Viscera_weight       0.414162  \n",
              "Shell_weight         0.552341  \n",
              "Rings                0.972071  \n",
              "Volume               0.460591  \n",
              "Rings_squared        1.000000  "
            ]
          },
          "metadata": {
            "tags": []
          },
          "execution_count": 45
        }
      ]
    },
    {
      "metadata": {
        "id": "rAIqDdmRR5Tc",
        "colab_type": "code",
        "outputId": "77a54d65-8db8-495d-d142-3210cd21c47b",
        "colab": {
          "base_uri": "https://localhost:8080/",
          "height": 376
        }
      },
      "cell_type": "code",
      "source": [
        "plt.scatter(df.Rings_squared, df.Whole_weight)\n",
        "plt.grid(True)\n",
        "plt.xlabel(\"Rings^2\")\n",
        "plt.ylabel(\"Whole Weight\")\n",
        "plt.title(\"Scatterplot - Weight vs Rings^2\")\n",
        "\n",
        "plt.show()"
      ],
      "execution_count": 0,
      "outputs": [
        {
          "output_type": "display_data",
          "data": {
            "image/png": "[encoded data removed]",
            "text/plain": [
              "<matplotlib.figure.Figure at 0x7f7379126518>"
            ]
          },
          "metadata": {
            "tags": []
          }
        }
      ]
    },
    {
      "metadata": {
        "id": "1Ds27k8JSSpB",
        "colab_type": "code",
        "outputId": "eb2a8789-2383-4838-b9d1-e0f51ce98b6b",
        "colab": {
          "base_uri": "https://localhost:8080/",
          "height": 376
        }
      },
      "cell_type": "code",
      "source": [
        "plt.scatter(df.Volume, df.Whole_weight)\n",
        "plt.grid(True)\n",
        "plt.xlabel(\"Volume\")\n",
        "plt.ylabel(\"Whole Weight\")\n",
        "plt.title(\"Scatterplot - Weight vs Volume\")\n",
        "\n",
        "plt.show()"
      ],
      "execution_count": 0,
      "outputs": [
        {
          "output_type": "display_data",
          "data": {
            "image/png": "[encoded data removed]",
            "text/plain": [
              "<matplotlib.figure.Figure at 0x7f737d1e5588>"
            ]
          },
          "metadata": {
            "tags": []
          }
        }
      ]
    },
    {
      "metadata": {
        "id": "R2E1sAuNThOY",
        "colab_type": "text"
      },
      "cell_type": "markdown",
      "source": [
        "### GRADIENT DESCENT"
      ]
    },
    {
      "metadata": {
        "id": "MftNA8obTko1",
        "colab_type": "code",
        "colab": {}
      },
      "cell_type": "code",
      "source": [
        "X1 = df.Volume\n",
        "X2 = df.Rings_squared\n",
        "y = df.Whole_weight"
      ],
      "execution_count": 0,
      "outputs": []
    },
    {
      "metadata": {
        "id": "qTJrWvQnW0Uw",
        "colab_type": "text"
      },
      "cell_type": "markdown",
      "source": [
        "#### Bivariate Gradient Descent"
      ]
    },
    {
      "metadata": {
        "id": "772cm20LXNw-",
        "colab_type": "text"
      },
      "cell_type": "markdown",
      "source": [
        "**sklearn**"
      ]
    },
    {
      "metadata": {
        "id": "U4h-saYtXS6Y",
        "colab_type": "code",
        "colab": {}
      },
      "cell_type": "code",
      "source": [
        "def grad_desc_one(X,y):\n",
        "  X = X.values[:, np.newaxis]\n",
        "  X = (X - X.mean()) / X.std()\n",
        "  X_linalg = np.c_[np.ones(X.shape[0]), X]\n",
        "  print(X_linalg)\n",
        "  y = y.values\n",
        "  \n",
        "  model = LinearRegression()\n",
        "  model.fit(X, y)\n",
        "  \n",
        "  beta_1 = model.coef_[0]\n",
        "  beta_0 = model.intercept_\n",
        "  print(\"\\n\")\n",
        "  print(\"beta_0: \", beta_0)\n",
        "  print(\"beta_1: \", beta_1)\n",
        "  \n",
        "  \n",
        "  return None"
      ],
      "execution_count": 0,
      "outputs": []
    },
    {
      "metadata": {
        "id": "Xmhd9ZYxTkIq",
        "colab_type": "code",
        "outputId": "eff3e6ab-f9d4-4c35-a486-de7e2fbd2acd",
        "colab": {
          "base_uri": "https://localhost:8080/",
          "height": 208
        }
      },
      "cell_type": "code",
      "source": [
        "grad_desc_one(X1,y)"
      ],
      "execution_count": 0,
      "outputs": [
        {
          "output_type": "stream",
          "text": [
            "[[ 1.         -0.89538645]\n",
            " [ 1.         -1.24665803]\n",
            " [ 1.         -0.22051972]\n",
            " ...\n",
            " [ 1.          1.12099887]\n",
            " [ 1.          0.50842926]\n",
            " [ 1.          1.99164557]]\n",
            "\n",
            "\n",
            "beta_0:  0.8287421594445774\n",
            "beta_1:  0.47065367306764533\n"
          ],
          "name": "stdout"
        }
      ]
    },
    {
      "metadata": {
        "id": "HoZ7uiZqYEC3",
        "colab_type": "code",
        "outputId": "587d0f86-2d20-4ec5-8ed0-97680ada421c",
        "colab": {
          "base_uri": "https://localhost:8080/",
          "height": 208
        }
      },
      "cell_type": "code",
      "source": [
        "grad_desc_one(X2,y)"
      ],
      "execution_count": 0,
      "outputs": [
        {
          "output_type": "stream",
          "text": [
            "[[ 1.          1.49018266]\n",
            " [ 1.         -0.7721662 ]\n",
            " [ 1.         -0.36083004]\n",
            " ...\n",
            " [ 1.         -0.36083004]\n",
            " [ 1.         -0.1165992 ]\n",
            " [ 1.          0.44898801]]\n",
            "\n",
            "\n",
            "beta_0:  0.8287421594445774\n",
            "beta_1:  0.2234644992866717\n"
          ],
          "name": "stdout"
        }
      ]
    },
    {
      "metadata": {
        "id": "OOWoPziLYIzl",
        "colab_type": "text"
      },
      "cell_type": "markdown",
      "source": [
        "**Gradient Descent through recursion**"
      ]
    },
    {
      "metadata": {
        "id": "cUmVTMN3nABG",
        "colab_type": "code",
        "colab": {}
      },
      "cell_type": "code",
      "source": [
        "def clean_X(X):\n",
        "  X = X.values[:, np.newaxis]\n",
        "  X = (X - X.mean()) / X.std()\n",
        "  X_linalg = np.c_[np.ones(X.shape[0]), X]\n",
        "  \n",
        "  return X_linalg"
      ],
      "execution_count": 0,
      "outputs": []
    },
    {
      "metadata": {
        "id": "TA1m1MusYJYX",
        "colab_type": "code",
        "colab": {}
      },
      "cell_type": "code",
      "source": [
        "def gradient_descent(X, y, theta, iterations, alpha):\n",
        "\n",
        "  past_costs = []\n",
        "  past_thetas = [theta]\n",
        "  for i in range(iterations):\n",
        "      prediction = np.dot(X, theta)\n",
        "      error = prediction - y\n",
        "      cost = 1/(2*n) * np.dot(error.T, error)\n",
        "      past_costs.append(cost)\n",
        "      theta = theta - (alpha * (1/n) * np.dot(X.T, error))\n",
        "      past_thetas.append(theta)\n",
        "  return past_thetas, past_costs\n",
        "\n"
      ],
      "execution_count": 0,
      "outputs": []
    },
    {
      "metadata": {
        "id": "Mv9JufyFnNX7",
        "colab_type": "code",
        "colab": {}
      },
      "cell_type": "code",
      "source": [
        "# Initial Variables\n",
        "alpha = .01\n",
        "iterations = 2000\n",
        "n = len(y)\n",
        "np.random.seed(237)\n",
        "theta = [0, 0]\n",
        "\n",
        "\n"
      ],
      "execution_count": 0,
      "outputs": []
    },
    {
      "metadata": {
        "id": "IoK5SjQhmi-W",
        "colab_type": "code",
        "outputId": "ae6703c8-a9b7-47b1-f9a4-342400c40981",
        "colab": {
          "base_uri": "https://localhost:8080/",
          "height": 34
        }
      },
      "cell_type": "code",
      "source": [
        "past_thetas1, past_costs1 = gradient_descent(clean_X(X1), y, theta, iterations, alpha)\n",
        "\n",
        "final_theta1 = past_thetas1[-1]\n",
        "\n",
        "print(\"Gradient Descent Results: {:.5f}, {:.5f}\".format(final_theta1[0], final_theta1[1]))"
      ],
      "execution_count": 0,
      "outputs": [
        {
          "output_type": "stream",
          "text": [
            "Gradient Descent Results: 0.82874, 0.47065\n"
          ],
          "name": "stdout"
        }
      ]
    },
    {
      "metadata": {
        "id": "mMpocC8fqH8x",
        "colab_type": "code",
        "outputId": "018d879a-f1d8-4ed9-e81a-ad4b67c93c50",
        "colab": {
          "base_uri": "https://localhost:8080/",
          "height": 376
        }
      },
      "cell_type": "code",
      "source": [
        "# Show cost decreasing with additional iterations\n",
        "plt.title('Cost per Iteration')\n",
        "plt.grid(True)\n",
        "plt.xlabel('No. of iterations')\n",
        "plt.ylabel('Cost')\n",
        "plt.plot(past_costs1)\n",
        "plt.show()"
      ],
      "execution_count": 0,
      "outputs": [
        {
          "output_type": "display_data",
          "data": {
            "image/png": "[encoded data removed]",
            "text/plain": [
              "<matplotlib.figure.Figure at 0x7f7379026dd8>"
            ]
          },
          "metadata": {
            "tags": []
          }
        }
      ]
    },
    {
      "metadata": {
        "id": "zM8SrHs4mi1z",
        "colab_type": "code",
        "outputId": "2433fc8e-e55e-481a-9ae8-2a40524d9e3c",
        "colab": {
          "base_uri": "https://localhost:8080/",
          "height": 34
        }
      },
      "cell_type": "code",
      "source": [
        "past_thetas2, past_costs2 = gradient_descent(clean_X(X2), y, theta, iterations, alpha)\n",
        "\n",
        "final_theta2 = past_thetas2[-1]\n",
        "\n",
        "print(\"Gradient Descent Results: {:.5f}, {:.5f}\".format(final_theta2[0], final_theta2[1]))"
      ],
      "execution_count": 0,
      "outputs": [
        {
          "output_type": "stream",
          "text": [
            "Gradient Descent Results: 0.82874, 0.22346\n"
          ],
          "name": "stdout"
        }
      ]
    },
    {
      "metadata": {
        "id": "O_nO8C1dqL8T",
        "colab_type": "code",
        "outputId": "12281788-ca8d-49cc-c269-e7b6667b0a59",
        "colab": {
          "base_uri": "https://localhost:8080/",
          "height": 376
        }
      },
      "cell_type": "code",
      "source": [
        "# Show cost decreasing with additional iterations\n",
        "plt.title('Cost per Iteration')\n",
        "plt.grid(True)\n",
        "plt.xlabel('No. of iterations')\n",
        "plt.ylabel('Cost')\n",
        "plt.plot(past_costs1)\n",
        "plt.show()"
      ],
      "execution_count": 0,
      "outputs": [
        {
          "output_type": "display_data",
          "data": {
            "image/png": "[encoded data removed]",
            "text/plain": [
              "<matplotlib.figure.Figure at 0x7f73792200b8>"
            ]
          },
          "metadata": {
            "tags": []
          }
        }
      ]
    },
    {
      "metadata": {
        "id": "s2Ly-gP0c3Jr",
        "colab_type": "text"
      },
      "cell_type": "markdown",
      "source": [
        "#### Multivariate Gradient Descent"
      ]
    },
    {
      "metadata": {
        "colab_type": "text",
        "id": "G-Jjc4m7dWj4"
      },
      "cell_type": "markdown",
      "source": [
        "**sklearn**"
      ]
    },
    {
      "metadata": {
        "id": "QPpKgoFUdvp2",
        "colab_type": "code",
        "colab": {}
      },
      "cell_type": "code",
      "source": [
        "def grad_desc_two(X,y):\n",
        "  X = X.values\n",
        "  X = (X - X.mean()) / X.std()\n",
        "  X_linalg = np.c_[np.ones(X.shape[0]), X]\n",
        "  print(X_linalg)\n",
        "  y = y.values\n",
        "  \n",
        "  model = LinearRegression()\n",
        "  model.fit(X, y)\n",
        "  \n",
        "  beta_1 = model.coef_[0]\n",
        "  beta_2 = model.coef_[1]\n",
        "  beta_0 = model.intercept_\n",
        "  print(\"\\n\")\n",
        "  print(\"beta_0: \", beta_0)\n",
        "  print(\"beta_1: \", beta_1)\n",
        "  print(\"beta_2: \", beta_2)\n",
        " \n",
        "  \n",
        "  return None"
      ],
      "execution_count": 0,
      "outputs": []
    },
    {
      "metadata": {
        "id": "kxLn9DhJdIPN",
        "colab_type": "code",
        "outputId": "6fa15647-061f-43c8-f61b-73aac0224160",
        "colab": {
          "base_uri": "https://localhost:8080/",
          "height": 225
        }
      },
      "cell_type": "code",
      "source": [
        "X3 = df[['Volume','Rings_squared']]\n",
        "\n",
        "grad_desc_two(X3,y)"
      ],
      "execution_count": 0,
      "outputs": [
        {
          "output_type": "stream",
          "text": [
            "[[ 1.         -0.70417125  2.20078108]\n",
            " [ 1.         -0.70426718 -0.07169654]\n",
            " [ 1.         -0.70398695  0.34148121]\n",
            " ...\n",
            " [ 1.         -0.70362059  0.34148121]\n",
            " [ 1.         -0.70378788  0.5868055 ]\n",
            " [ 1.         -0.70338282  1.15492491]]\n",
            "\n",
            "\n",
            "beta_0:  1203.9084323643099\n",
            "beta_1:  1709.1063418581946\n",
            "beta_2:  0.008447849910297511\n"
          ],
          "name": "stdout"
        }
      ]
    },
    {
      "metadata": {
        "colab_type": "text",
        "id": "VnddDsg0dWj7"
      },
      "cell_type": "markdown",
      "source": [
        "**Gradient Descent through recursion**"
      ]
    },
    {
      "metadata": {
        "id": "amcmvi0MdH_-",
        "colab_type": "code",
        "colab": {}
      },
      "cell_type": "code",
      "source": [
        "def clean_X_mult(X):\n",
        "  X = X.values\n",
        "  X = (X - X.mean()) / X.std()\n",
        "  X_linalg = np.c_[np.ones(X.shape[0]), X]\n",
        "  \n",
        "  return X_linalg\n",
        "\n",
        "# clean_X_mult(X3)"
      ],
      "execution_count": 0,
      "outputs": []
    },
    {
      "metadata": {
        "id": "_mrEH6_dEkQU",
        "colab_type": "code",
        "colab": {}
      },
      "cell_type": "code",
      "source": [
        "def gradient_descent_mult(X, y, theta, iterations, alpha):\n",
        "\n",
        "  past_costs = []\n",
        "  past_thetas = [theta]\n",
        "  for i in range(iterations):\n",
        "      prediction = np.dot(X, theta)\n",
        "      error = prediction - y\n",
        "      cost = 1/(2*n) * np.dot(error.T, error)\n",
        "      past_costs.append(cost)\n",
        "      theta_0 = theta[0] - (alpha * (1/n) * np.dot(X.T[0], error))\n",
        "      theta_1 = theta[1] - (alpha * (1/n) * np.dot(X.T[1], error))\n",
        "      theta_2 = theta[2] - (alpha * (1/n) * np.dot(X.T[2], error))   \n",
        "      theta = [theta_0,theta_1,theta_2]\n",
        "      past_thetas.append(theta)\n",
        "  return past_thetas, past_costs"
      ],
      "execution_count": 0,
      "outputs": []
    },
    {
      "metadata": {
        "id": "iFzD7cGo045Y",
        "colab_type": "code",
        "colab": {
          "base_uri": "https://localhost:8080/",
          "height": 34
        },
        "outputId": "6363a928-c047-4b18-8219-5b353dfbe495"
      },
      "cell_type": "code",
      "source": [
        "theta3 = [0,0,0]\n",
        "alpha3 = .01\n",
        "\n",
        "past_thetas3, past_costs3 = gradient_descent_mult(clean_X_mult(X3), y, theta3, iterations, alpha3)\n",
        "\n",
        "final_theta3 = past_thetas3[-1]\n",
        "\n",
        "print(\"Gradient Descent Results: {:.10f}, {:.10f}, {:.10f}\".format(final_theta3[0], final_theta3[1], final_theta3[2]))"
      ],
      "execution_count": 166,
      "outputs": [
        {
          "output_type": "stream",
          "text": [
            "Gradient Descent Results: 0.4503121357, -0.3149897396, 0.2225413649\n"
          ],
          "name": "stdout"
        }
      ]
    },
    {
      "metadata": {
        "id": "Uuykq4pF0nfa",
        "colab_type": "code",
        "colab": {
          "base_uri": "https://localhost:8080/",
          "height": 376
        },
        "outputId": "0ad32876-313d-4494-fed9-e8e1409eaadd"
      },
      "cell_type": "code",
      "source": [
        "# Show cost decreasing with additional iterations\n",
        "plt.title('Cost per Iteration')\n",
        "plt.grid(True)\n",
        "plt.xlabel('No. of iterations')\n",
        "plt.ylabel('Cost')\n",
        "plt.plot(past_costs3)\n",
        "plt.show()"
      ],
      "execution_count": 162,
      "outputs": [
        {
          "output_type": "display_data",
          "data": {
            "image/png": "[encoded data removed]",
            "text/plain": [
              "<matplotlib.figure.Figure at 0x7f737690acf8>"
            ]
          },
          "metadata": {
            "tags": []
          }
        }
      ]
    },
    {
      "metadata": {
        "id": "zAG4GxP73ElA",
        "colab_type": "text"
      },
      "cell_type": "markdown",
      "source": [
        "**TIE BREAKER**"
      ]
    },
    {
      "metadata": {
        "id": "osTukGjO2cGd",
        "colab_type": "code",
        "colab": {
          "base_uri": "https://localhost:8080/",
          "height": 557
        },
        "outputId": "0e3dd787-d7d5-4140-ded3-7a4b4b21b5da"
      },
      "cell_type": "code",
      "source": [
        "import statsmodels.api as sm\n",
        "\n",
        "X3_2 = df[['Volume','Rings_squared']]\n",
        "\n",
        "X3_2 = clean_X_mult(X3_2)\n",
        "\n",
        "\n",
        "print(sm.OLS(y, X3_2).fit().summary())"
      ],
      "execution_count": 139,
      "outputs": [
        {
          "output_type": "stream",
          "text": [
            "/usr/local/lib/python3.6/dist-packages/statsmodels/compat/pandas.py:56: FutureWarning: The pandas.core.datetools module is deprecated and will be removed in a future version. Please use the pandas.tseries module instead.\n",
            "  from pandas.core import datetools\n"
          ],
          "name": "stderr"
        },
        {
          "output_type": "stream",
          "text": [
            "                            OLS Regression Results                            \n",
            "==============================================================================\n",
            "Dep. Variable:           Whole_weight   R-squared:                       0.922\n",
            "Model:                            OLS   Adj. R-squared:                  0.922\n",
            "Method:                 Least Squares   F-statistic:                 2.453e+04\n",
            "Date:                Wed, 16 Jan 2019   Prob (F-statistic):               0.00\n",
            "Time:                        22:50:45   Log-Likelihood:                 2366.8\n",
            "No. Observations:                4177   AIC:                            -4728.\n",
            "Df Residuals:                    4174   BIC:                            -4709.\n",
            "Df Model:                           2                                         \n",
            "Covariance Type:            nonrobust                                         \n",
            "==============================================================================\n",
            "                 coef    std err          t      P>|t|      [0.025      0.975]\n",
            "------------------------------------------------------------------------------\n",
            "const       1203.9084      6.172    195.048      0.000    1191.807    1216.010\n",
            "x1          1709.1063      8.767    194.939      0.000    1691.918    1726.295\n",
            "x2             0.0084      0.002      3.544      0.000       0.004       0.013\n",
            "==============================================================================\n",
            "Omnibus:                     4481.094   Durbin-Watson:                   1.723\n",
            "Prob(Omnibus):                  0.000   Jarque-Bera (JB):          2676182.970\n",
            "Skew:                          -4.595   Prob(JB):                         0.00\n",
            "Kurtosis:                     126.662   Cond. No.                     7.75e+03\n",
            "==============================================================================\n",
            "\n",
            "Warnings:\n",
            "[1] Standard Errors assume that the covariance matrix of the errors is correctly specified.\n",
            "[2] The condition number is large, 7.75e+03. This might indicate that there are\n",
            "strong multicollinearity or other numerical problems.\n"
          ],
          "name": "stdout"
        }
      ]
    },
    {
      "metadata": {
        "id": "u1uVy0U05MvC",
        "colab_type": "text"
      },
      "cell_type": "markdown",
      "source": [
        "**It appears as if the gradient descent in the multivariate case converged to a local minimum which doesn't correspond to the global minimum found under OLS.**"
      ]
    },
    {
      "metadata": {
        "id": "RCs6EmWhYPM-",
        "colab_type": "text"
      },
      "cell_type": "markdown",
      "source": [
        "### Stretch Goals\n",
        "\n",
        "If you happen upon the most useful resources for accomplishing this challenge first, I want you to spend time today studying other variations of Gradient Descent-Based Optimizers.\n",
        "\n",
        "- Try and write a function that can perform gradient descent for arbitarily large (in dimensionality) multiple regression models. \n",
        "- Create a notebook for yourself exploring these topics\n",
        "- How do they differ from the \"vanilla\" gradient descent we explored today\n",
        "- How do these different gradient descent-based optimizers seek to overcome the challenge of finding the global minimum among various local minima?\n",
        "- Write a blog post that reteaches what you have learned about these other gradient descent-based optimizers.\n",
        "\n",
        "[Overview of GD-based optimizers](http://ruder.io/optimizing-gradient-descent/)\n",
        "\n",
        "[Siraj Raval - Evolution of Gradient Descent-Based Optimizers](https://youtu.be/nhqo0u1a6fw)"
      ]
    },
    {
      "metadata": {
        "id": "uNKy_LbPdLcK",
        "colab_type": "code",
        "colab": {}
      },
      "cell_type": "code",
      "source": [
        ""
      ],
      "execution_count": 0,
      "outputs": []
    }
  ]
}