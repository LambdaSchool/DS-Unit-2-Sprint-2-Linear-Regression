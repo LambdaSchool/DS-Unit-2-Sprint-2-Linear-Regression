{
  "nbformat": 4,
  "nbformat_minor": 0,
  "metadata": {
    "colab": {
      "name": "Copy of Polynomial/Log-linear Regression Assignment.ipynb",
      "version": "0.3.2",
      "provenance": [],
      "include_colab_link": true
    },
    "kernelspec": {
      "name": "python3",
      "display_name": "Python 3"
    }
  },
  "cells": [
    {
      "cell_type": "markdown",
      "metadata": {
        "id": "view-in-github",
        "colab_type": "text"
      },
      "source": [
        "<a href=\"https://colab.research.google.com/github/quinn-dougherty/DS-Unit-2-Sprint-2-Linear-Regression/blob/master/module2-polynomial-regression/Copy_of_Polynomial_Log_linear_Regression_Assignment.ipynb\" target=\"_parent\"><img src=\"https://colab.research.google.com/assets/colab-badge.svg\" alt=\"Open In Colab\"/></a>"
      ]
    },
    {
      "metadata": {
        "id": "Dc4kEVNWo4yZ",
        "colab_type": "text"
      },
      "cell_type": "markdown",
      "source": [
        "# Intermediate Linear Regression Practice\n",
        "\n",
        "\n",
        "## Use a Linear Regression model to get the lowest RMSE possible on the following dataset:\n",
        "\n",
        "[Dataset Folder](https://github.com/ryanleeallred/datasets/tree/master/Ames%20Housing%20Data)\n",
        "\n",
        "[Raw CSV](https://raw.githubusercontent.com/ryanleeallred/datasets/master/Ames%20Housing%20Data/train.csv)\n",
        "\n",
        "## You model must include (at least):\n",
        "- A log-transformed y variable\n",
        "- Two polynomial features\n",
        "- One interaction feature\n",
        "- 10 other engineered features\n",
        "\n",
        "What is the lowest Root-Mean-Squared Error that you are able to obtain? Share your best RMSEs in Slack!"
      ]
    },
    {
      "metadata": {
        "id": "XYZSkixpo2qD",
        "colab_type": "code",
        "outputId": "ddc15d95-535e-4144-8ba8-70e5939e2255",
        "colab": {
          "base_uri": "https://localhost:8080/",
          "height": 273
        }
      },
      "cell_type": "code",
      "source": [
        "import pandas as pd\n",
        "import seaborn as sns\n",
        "import altair as alt\n",
        "import numpy as np\n",
        "from sklearn.linear_model import LinearRegression\n",
        "from sklearn.metrics import mean_squared_error, r2_score\n",
        "from sklearn.model_selection import train_test_split\n",
        "\n",
        "\n",
        "url = \"https://raw.githubusercontent.com/ryanleeallred/datasets/master/Ames%20Housing%20Data/train.csv\"\n",
        "\n",
        "df = pd.read_csv(url)\n",
        "\n",
        "print(df.shape)\n",
        "docs = ''''''\n",
        "df.head()\n",
        "\n",
        "# df.isna().sum()"
      ],
      "execution_count": 14,
      "outputs": [
        {
          "output_type": "stream",
          "text": [
            "(1460, 81)\n"
          ],
          "name": "stdout"
        },
        {
          "output_type": "execute_result",
          "data": {
            "text/html": [
              "<div>\n",
              "<style scoped>\n",
              "    .dataframe tbody tr th:only-of-type {\n",
              "        vertical-align: middle;\n",
              "    }\n",
              "\n",
              "    .dataframe tbody tr th {\n",
              "        vertical-align: top;\n",
              "    }\n",
              "\n",
              "    .dataframe thead th {\n",
              "        text-align: right;\n",
              "    }\n",
              "</style>\n",
              "<table border=\"1\" class=\"dataframe\">\n",
              "  <thead>\n",
              "    <tr style=\"text-align: right;\">\n",
              "      <th></th>\n",
              "      <th>Id</th>\n",
              "      <th>MSSubClass</th>\n",
              "      <th>MSZoning</th>\n",
              "      <th>LotFrontage</th>\n",
              "      <th>LotArea</th>\n",
              "      <th>Street</th>\n",
              "      <th>Alley</th>\n",
              "      <th>LotShape</th>\n",
              "      <th>LandContour</th>\n",
              "      <th>Utilities</th>\n",
              "      <th>...</th>\n",
              "      <th>PoolArea</th>\n",
              "      <th>PoolQC</th>\n",
              "      <th>Fence</th>\n",
              "      <th>MiscFeature</th>\n",
              "      <th>MiscVal</th>\n",
              "      <th>MoSold</th>\n",
              "      <th>YrSold</th>\n",
              "      <th>SaleType</th>\n",
              "      <th>SaleCondition</th>\n",
              "      <th>SalePrice</th>\n",
              "    </tr>\n",
              "  </thead>\n",
              "  <tbody>\n",
              "    <tr>\n",
              "      <th>0</th>\n",
              "      <td>1</td>\n",
              "      <td>60</td>\n",
              "      <td>RL</td>\n",
              "      <td>65.0</td>\n",
              "      <td>8450</td>\n",
              "      <td>Pave</td>\n",
              "      <td>NaN</td>\n",
              "      <td>Reg</td>\n",
              "      <td>Lvl</td>\n",
              "      <td>AllPub</td>\n",
              "      <td>...</td>\n",
              "      <td>0</td>\n",
              "      <td>NaN</td>\n",
              "      <td>NaN</td>\n",
              "      <td>NaN</td>\n",
              "      <td>0</td>\n",
              "      <td>2</td>\n",
              "      <td>2008</td>\n",
              "      <td>WD</td>\n",
              "      <td>Normal</td>\n",
              "      <td>208500</td>\n",
              "    </tr>\n",
              "    <tr>\n",
              "      <th>1</th>\n",
              "      <td>2</td>\n",
              "      <td>20</td>\n",
              "      <td>RL</td>\n",
              "      <td>80.0</td>\n",
              "      <td>9600</td>\n",
              "      <td>Pave</td>\n",
              "      <td>NaN</td>\n",
              "      <td>Reg</td>\n",
              "      <td>Lvl</td>\n",
              "      <td>AllPub</td>\n",
              "      <td>...</td>\n",
              "      <td>0</td>\n",
              "      <td>NaN</td>\n",
              "      <td>NaN</td>\n",
              "      <td>NaN</td>\n",
              "      <td>0</td>\n",
              "      <td>5</td>\n",
              "      <td>2007</td>\n",
              "      <td>WD</td>\n",
              "      <td>Normal</td>\n",
              "      <td>181500</td>\n",
              "    </tr>\n",
              "    <tr>\n",
              "      <th>2</th>\n",
              "      <td>3</td>\n",
              "      <td>60</td>\n",
              "      <td>RL</td>\n",
              "      <td>68.0</td>\n",
              "      <td>11250</td>\n",
              "      <td>Pave</td>\n",
              "      <td>NaN</td>\n",
              "      <td>IR1</td>\n",
              "      <td>Lvl</td>\n",
              "      <td>AllPub</td>\n",
              "      <td>...</td>\n",
              "      <td>0</td>\n",
              "      <td>NaN</td>\n",
              "      <td>NaN</td>\n",
              "      <td>NaN</td>\n",
              "      <td>0</td>\n",
              "      <td>9</td>\n",
              "      <td>2008</td>\n",
              "      <td>WD</td>\n",
              "      <td>Normal</td>\n",
              "      <td>223500</td>\n",
              "    </tr>\n",
              "    <tr>\n",
              "      <th>3</th>\n",
              "      <td>4</td>\n",
              "      <td>70</td>\n",
              "      <td>RL</td>\n",
              "      <td>60.0</td>\n",
              "      <td>9550</td>\n",
              "      <td>Pave</td>\n",
              "      <td>NaN</td>\n",
              "      <td>IR1</td>\n",
              "      <td>Lvl</td>\n",
              "      <td>AllPub</td>\n",
              "      <td>...</td>\n",
              "      <td>0</td>\n",
              "      <td>NaN</td>\n",
              "      <td>NaN</td>\n",
              "      <td>NaN</td>\n",
              "      <td>0</td>\n",
              "      <td>2</td>\n",
              "      <td>2006</td>\n",
              "      <td>WD</td>\n",
              "      <td>Abnorml</td>\n",
              "      <td>140000</td>\n",
              "    </tr>\n",
              "    <tr>\n",
              "      <th>4</th>\n",
              "      <td>5</td>\n",
              "      <td>60</td>\n",
              "      <td>RL</td>\n",
              "      <td>84.0</td>\n",
              "      <td>14260</td>\n",
              "      <td>Pave</td>\n",
              "      <td>NaN</td>\n",
              "      <td>IR1</td>\n",
              "      <td>Lvl</td>\n",
              "      <td>AllPub</td>\n",
              "      <td>...</td>\n",
              "      <td>0</td>\n",
              "      <td>NaN</td>\n",
              "      <td>NaN</td>\n",
              "      <td>NaN</td>\n",
              "      <td>0</td>\n",
              "      <td>12</td>\n",
              "      <td>2008</td>\n",
              "      <td>WD</td>\n",
              "      <td>Normal</td>\n",
              "      <td>250000</td>\n",
              "    </tr>\n",
              "  </tbody>\n",
              "</table>\n",
              "<p>5 rows × 81 columns</p>\n",
              "</div>"
            ],
            "text/plain": [
              "   Id  MSSubClass MSZoning  LotFrontage  LotArea Street Alley LotShape  \\\n",
              "0   1          60       RL         65.0     8450   Pave   NaN      Reg   \n",
              "1   2          20       RL         80.0     9600   Pave   NaN      Reg   \n",
              "2   3          60       RL         68.0    11250   Pave   NaN      IR1   \n",
              "3   4          70       RL         60.0     9550   Pave   NaN      IR1   \n",
              "4   5          60       RL         84.0    14260   Pave   NaN      IR1   \n",
              "\n",
              "  LandContour Utilities    ...     PoolArea PoolQC Fence MiscFeature MiscVal  \\\n",
              "0         Lvl    AllPub    ...            0    NaN   NaN         NaN       0   \n",
              "1         Lvl    AllPub    ...            0    NaN   NaN         NaN       0   \n",
              "2         Lvl    AllPub    ...            0    NaN   NaN         NaN       0   \n",
              "3         Lvl    AllPub    ...            0    NaN   NaN         NaN       0   \n",
              "4         Lvl    AllPub    ...            0    NaN   NaN         NaN       0   \n",
              "\n",
              "  MoSold YrSold  SaleType  SaleCondition  SalePrice  \n",
              "0      2   2008        WD         Normal     208500  \n",
              "1      5   2007        WD         Normal     181500  \n",
              "2      9   2008        WD         Normal     223500  \n",
              "3      2   2006        WD        Abnorml     140000  \n",
              "4     12   2008        WD         Normal     250000  \n",
              "\n",
              "[5 rows x 81 columns]"
            ]
          },
          "metadata": {
            "tags": []
          },
          "execution_count": 14
        }
      ]
    },
    {
      "metadata": {
        "id": "aMCDmL2YusPv",
        "colab_type": "code",
        "colab": {}
      },
      "cell_type": "code",
      "source": [
        "\n",
        "from sklearn.preprocessing import LabelEncoder\n",
        "\n",
        "#Auto encodes any dataframe column of type category or object.\n",
        "def dummyEncode(df):\n",
        "        columnsToEncode = list(df.select_dtypes(include=['category','object']))\n",
        "        le = LabelEncoder()\n",
        "        for feature in columnsToEncode:\n",
        "            try:\n",
        "                df[feature] = le.fit_transform(df[feature])\n",
        "            except:\n",
        "                print('Error encoding '+feature)\n",
        "        return df.getDummies()"
      ],
      "execution_count": 0,
      "outputs": []
    },
    {
      "metadata": {
        "id": "AftTXyoPusmg",
        "colab_type": "code",
        "colab": {}
      },
      "cell_type": "code",
      "source": [
        "def LR(X, y, testsize=0.3): \n",
        "  #print(X.shape, y.shape)\n",
        "  # X is a dataframe with arbitrary features\n",
        "  # y is a dataframe with one feature\n",
        "  # they are each sliced from the same master df. \n",
        "  \n",
        "  # Split into test and train datasets\n",
        "  X_train, X_test, Y_train, Y_test = train_test_split(X, y, test_size=testsize, random_state=42)\n",
        "\n",
        "  # fit model using train datasets\n",
        "  model = LinearRegression()\n",
        "  model.fit(X_train, Y_train)\n",
        "\n",
        "  # Create new predictions using x_test\n",
        "  y_pred = model.predict(X_test)\n",
        "\n",
        "  # Measure Accuracy using y_test and y_pred\n",
        "  RMSE = (np.sqrt(mean_squared_error(Y_test, y_pred)))\n",
        "  R2 = r2_score(Y_test, y_pred)\n",
        "\n",
        "  print('RMSE is {}'.format(RMSE))\n",
        "  print('R^2 is {}'.format(R2))\n",
        "\n",
        "  print(\"coefficients: \", model.coef_)\n",
        "  print(\"intercepts: \", model.intercept_)\n",
        "  \n",
        "  return {'RMSE': RMSE, 'R2': R2, 'coefficients': model.coef_, 'intercept': model.intercept_}"
      ],
      "execution_count": 0,
      "outputs": []
    },
    {
      "metadata": {
        "id": "e5qB0tO8uskl",
        "colab_type": "code",
        "colab": {
          "base_uri": "https://localhost:8080/",
          "height": 225
        },
        "outputId": "705d2701-d575-4904-a29d-e23dd485da9e"
      },
      "cell_type": "code",
      "source": [
        "df2 = df.select_dtypes(include=['float', 'int']).dropna(axis='columns')\n",
        "\n",
        "y = df2.SalePrice\n",
        "\n",
        "X = df2.drop('SalePrice', axis=1)\n",
        "\n",
        "each_numeric_feature = LR(X,y)"
      ],
      "execution_count": 140,
      "outputs": [
        {
          "output_type": "stream",
          "text": [
            "RMSE is 35803.233385786545\n",
            "R^2 is 0.8163006166451179\n",
            "coefficients:  [-2.27069494e+00 -2.01032862e+02  3.95140782e-01  1.88008225e+04\n",
            "  2.93995375e+03  3.21625450e+02  1.80848171e+02  9.08878872e+00\n",
            " -5.36329103e+00 -6.27105990e-01  3.09839170e+00  1.10658816e+01\n",
            "  1.26726161e+01  8.16960684e+00  3.19081045e+01  1.19331017e+04\n",
            "  6.76005166e+01  4.37161486e+03 -1.66529393e+03 -9.60549983e+03\n",
            " -9.47311483e+03  5.34326868e+03  4.80848587e+03  1.46598382e+04\n",
            " -5.36677168e+00  2.27111035e+01 -1.84670026e+01  1.36407856e-01\n",
            "  4.37006963e+01  7.28167496e+01 -2.87978103e+01 -2.08178895e+00\n",
            " -3.64068313e+01 -1.43115696e+02]\n",
            "intercepts:  -757306.5937962856\n"
          ],
          "name": "stdout"
        }
      ]
    },
    {
      "metadata": {
        "id": "Iabos1IK7-Ca",
        "colab_type": "code",
        "colab": {
          "base_uri": "https://localhost:8080/",
          "height": 173
        },
        "outputId": "4f02bf35-ff46-4564-ae6e-d0fd1cb5bd38"
      },
      "cell_type": "code",
      "source": [
        "df2['ln_price'] = np.log(df2.SalePrice)\n",
        "df2['Total_bath'] = df2.BsmtFullBath + 0.5 * df2.BsmtHalfBath + df2.FullBath + 0.5 * df2.HalfBath\n",
        "dropbath = ['BsmtFullBath', 'BsmtHalfBath', 'FullBath', 'HalfBath'] \n",
        "## according to docs, Fullbath and Halfbath only count above ground. \n",
        "\n",
        "# lets make a total square footage, then decide that LowQualFinSF is worth less by a weighting. \n",
        "# similarly, that exterior (porches) matter, but not as much as interior by a weighting\n",
        "dropSF = ['1stFlrSF', '2ndFlrSF', 'LowQualFinSF', 'SF_aboveground_interior']\n",
        "df2['SF_aboveground_interior'] = df2['1stFlrSF'] + df2['2ndFlrSF']\n",
        "df2['weighted_SF_aboveground_interior'] = df2['SF_aboveground_interior'] - 0.2 * df2.LowQualFinSF\n",
        "\n",
        "drop_porch = ['WoodDeckSF', 'OpenPorchSF', 'EnclosedPorch', '3SsnPorch', 'ScreenPorch']\n",
        "# arbitrarily assigning weights based on which of these sound bougier\n",
        "df2['porch_weighted_area'] = np.dot([0.23, 0.25, 0.6, 0.65, 0.3], list(map(lambda feat: df2[feat], drop_porch)))\n",
        "\n",
        "#df2['porch_total_area_1'] = 0.2 * df2.WoodDeckSF + 0.25 * df2.OpenPorchSF + 0.6 * df2.EnclosedPorch + 0.55 * df2['3SsnPorch'] + 0.2 * df2.ScreenPorch\n",
        "\n",
        "from numpy.testing import assert_almost_equal\n",
        "assert_almost_equal(np.dot([0.2, 0.25, 0.6, 0.55, 0.2], list(map(lambda feat: df2[feat], drop_porch))), 0.2 * df2.WoodDeckSF + 0.25 * df2.OpenPorchSF + 0.6 * df2.EnclosedPorch + 0.55 * df2['3SsnPorch'] + 0.2 * df2.ScreenPorch)\n",
        "\n",
        "df2['SF_aboveground_weighted'] = df2.weighted_SF_aboveground_interior + df2.porch_weighted_area + 0.78 * df2.PoolArea + 0.845 * df2.GarageArea\n",
        "\n",
        "outdoor = drop_porch + ['PoolArea', 'GarageArea']\n",
        "\n",
        "# lets decide to care about condition as it relates to time\n",
        "time_and_qual = ['OverallQual', 'OverallCond', 'YearBuilt', 'YearRemodAdd', 'YrSold']\n",
        "df2['complicated_quality'] = (np.divide(df2.OverallQual * df2.OverallCond, \n",
        "                                       (0.7*(df2.YrSold - df2.YearRemodAdd) + 0.3*(df2.YrSold - df2.YearBuilt))**2 + df2.YearBuilt))\n",
        "\n",
        "df2['polynomial_overall'] = np.divide(np.sqrt(df2.OverallQual ** 2 + df2.OverallCond ** 2), 2)\n",
        "\n",
        "y = df2.ln_price\n",
        "\n",
        "TO_DROP = ['SalePrice', 'ln_price', 'Id'] + dropbath + dropSF + outdoor + ['LotArea'] + time_and_qual\n",
        "X = df2.drop(TO_DROP, axis=1)\n",
        "print(X.shape)\n",
        "\n",
        "X.complicated_quality\n",
        "fancy_model = LR(X,y, 0.225)\n",
        "\n",
        "#X.columns\n",
        "\n",
        "#df2[time_and_qual]\n"
      ],
      "execution_count": 145,
      "outputs": [
        {
          "output_type": "stream",
          "text": [
            "(1460, 19)\n",
            "RMSE is 0.15761604807549534\n",
            "R^2 is 0.857466894311116\n",
            "coefficients:  [-5.16281498e-04  3.55066952e-05  2.31338877e-05  2.98797085e-05\n",
            "  8.85203048e-05  7.06505755e-05 -2.92927256e-03 -1.21679847e-01\n",
            "  1.75813410e-02  6.51435732e-02  1.26592500e-01 -2.89522985e-06\n",
            "  1.40451666e-03  9.06043528e-02  9.63364919e-05  2.22394904e-04\n",
            " -4.42766646e-05  1.71231247e+01  6.75400867e-02]\n",
            "intercepts:  10.794812254628777\n"
          ],
          "name": "stdout"
        }
      ]
    },
    {
      "metadata": {
        "id": "JKxhj0fDNvo0",
        "colab_type": "code",
        "colab": {}
      },
      "cell_type": "code",
      "source": [
        "# from scipy import stats\n",
        "# y[(np.abs(stats.zscore(df)) < 3).all(axis=1)]"
      ],
      "execution_count": 0,
      "outputs": []
    },
    {
      "metadata": {
        "id": "T2Gu2ae5usfz",
        "colab_type": "code",
        "colab": {
          "base_uri": "https://localhost:8080/",
          "height": 330
        },
        "outputId": "28b221a9-bcd6-4f33-c75b-f1390df61c2f"
      },
      "cell_type": "code",
      "source": [
        "with_single_log = LR(X,y, 0.225)\n",
        "with_double_log = LR(X,np.log(y), 0.225)\n",
        "\n",
        "\n",
        "print('difference in RMSE when when applying a second log to log(y): {:.4}'.format(with_single_log['RMSE']-with_double_log['RMSE']))\n",
        "print('difference in R2 when when applying a second log to log(y): {:.4}'.format(with_single_log['R2']-with_double_log['R2']))"
      ],
      "execution_count": 156,
      "outputs": [
        {
          "output_type": "stream",
          "text": [
            "RMSE is 0.15761604807549534\n",
            "R^2 is 0.857466894311116\n",
            "coefficients:  [-5.16281498e-04  3.55066952e-05  2.31338877e-05  2.98797085e-05\n",
            "  8.85203048e-05  7.06505755e-05 -2.92927256e-03 -1.21679847e-01\n",
            "  1.75813410e-02  6.51435732e-02  1.26592500e-01 -2.89522985e-06\n",
            "  1.40451666e-03  9.06043528e-02  9.63364919e-05  2.22394904e-04\n",
            " -4.42766646e-05  1.71231247e+01  6.75400867e-02]\n",
            "intercepts:  10.794812254628777\n",
            "RMSE is 0.0135011274810375\n",
            "R^2 is 0.8494035153072341\n",
            "coefficients:  [-4.11413086e-05  2.75197547e-06  2.17021508e-06  2.45203664e-06\n",
            "  7.37422830e-06  5.55019722e-06  1.37236498e-04 -1.00547664e-02\n",
            "  1.35488750e-03  5.52226975e-03  1.06844792e-02 -2.20364580e-07\n",
            "  1.25059258e-04  7.67352317e-03  7.66669844e-06  1.81340114e-05\n",
            " -3.64232661e-06  1.41209331e+00  5.85273936e-03]\n",
            "intercepts:  2.3830870767876693\n",
            "difference in RMSE when when applying a second log to log(y): 0.1441\n",
            "difference in R2 when when applying a second log to log(y): 0.008063\n"
          ],
          "name": "stdout"
        }
      ]
    },
    {
      "metadata": {
        "id": "BiZjakSIVqvD",
        "colab_type": "text"
      },
      "cell_type": "markdown",
      "source": [
        ""
      ]
    },
    {
      "metadata": {
        "id": "Byb-AAY_usNO",
        "colab_type": "code",
        "colab": {
          "base_uri": "https://localhost:8080/",
          "height": 173
        },
        "outputId": "f98c129c-9bec-40b5-89ad-76ff46a8ec77"
      },
      "cell_type": "code",
      "source": [
        "LR(X,y, 0.225)['RMSE']"
      ],
      "execution_count": 153,
      "outputs": [
        {
          "output_type": "stream",
          "text": [
            "RMSE is 0.15761604807549534\n",
            "R^2 is 0.857466894311116\n",
            "coefficients:  [-5.16281498e-04  3.55066952e-05  2.31338877e-05  2.98797085e-05\n",
            "  8.85203048e-05  7.06505755e-05 -2.92927256e-03 -1.21679847e-01\n",
            "  1.75813410e-02  6.51435732e-02  1.26592500e-01 -2.89522985e-06\n",
            "  1.40451666e-03  9.06043528e-02  9.63364919e-05  2.22394904e-04\n",
            " -4.42766646e-05  1.71231247e+01  6.75400867e-02]\n",
            "intercepts:  10.794812254628777\n"
          ],
          "name": "stdout"
        },
        {
          "output_type": "execute_result",
          "data": {
            "text/plain": [
              "0.15761604807549534"
            ]
          },
          "metadata": {
            "tags": []
          },
          "execution_count": 153
        }
      ]
    },
    {
      "metadata": {
        "id": "mUbqAZJWusLX",
        "colab_type": "code",
        "colab": {}
      },
      "cell_type": "code",
      "source": [
        "from numpy.testing import assert_almost_equal\n",
        "assert_almost_equal(np.dot([0.2, 0.25, 0.6, 0.55, 0.2], list(map(lambda feat: df2[feat], drop_porch))), \n",
        "                    0.2*df2.WoodDeckSF + 0.25*df2.OpenPorchSF + 0.6*df2.EnclosedPorch + 0.55*df2['3SsnPorch'] + 0.2*df2.ScreenPorch)"
      ],
      "execution_count": 0,
      "outputs": []
    },
    {
      "metadata": {
        "id": "yIeG6-OTusDT",
        "colab_type": "code",
        "colab": {}
      },
      "cell_type": "code",
      "source": [
        ""
      ],
      "execution_count": 0,
      "outputs": []
    },
    {
      "metadata": {
        "id": "PSXcN1DmQ8j0",
        "colab_type": "code",
        "colab": {
          "base_uri": "https://localhost:8080/",
          "height": 34
        },
        "outputId": "8535960a-9289-4ef9-ca0b-9b0331018d30"
      },
      "cell_type": "code",
      "source": [
        "(1 + 2 + \n",
        "  3 + 4)"
      ],
      "execution_count": 105,
      "outputs": [
        {
          "output_type": "execute_result",
          "data": {
            "text/plain": [
              "10"
            ]
          },
          "metadata": {
            "tags": []
          },
          "execution_count": 105
        }
      ]
    }
  ]
}