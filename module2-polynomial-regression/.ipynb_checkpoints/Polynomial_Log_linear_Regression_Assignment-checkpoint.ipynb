{
 "cells": [
  {
   "cell_type": "markdown",
   "metadata": {
    "colab_type": "text",
    "id": "Dc4kEVNWo4yZ"
   },
   "source": [
    "# Intermediate Linear Regression Practice\n",
    "\n",
    "## Use a Linear Regression model to get the lowest RMSE possible on the following dataset:\n",
    "\n",
    "[Dataset Folder](https://github.com/ryanleeallred/datasets/tree/master/Ames%20Housing%20Data)\n",
    "\n",
    "[Raw CSV](https://raw.githubusercontent.com/ryanleeallred/datasets/master/Ames%20Housing%20Data/train.csv)\n",
    "\n",
    "## You model must include (at least):\n",
    "- A log-transformed y variable\n",
    "- Two polynomial features\n",
    "- One interaction feature\n",
    "- 10 other engineered features\n",
    "\n",
    "What is the lowest Root-Mean-Squared Error that you are able to obtain? Share your best RMSEs in Slack!\n",
    "\n",
    "Notes:\n",
    "\n",
    "There may be some data cleaning that you need to do on some features of this dataset. Linear Regression will only accept numeric values and will not accept\n",
    "\n",
    "Note* There may not be a clear candidate for an interaction term in this dataset. Include one anyway, sometimes it's a good practice for predictive modeling feature engineering in general. "
   ]
  },
  {
   "cell_type": "code",
   "execution_count": 539,
   "metadata": {
    "colab": {},
    "colab_type": "code",
    "id": "XYZSkixpo2qD",
    "scrolled": true
   },
   "outputs": [
    {
     "data": {
      "text/html": [
       "<div>\n",
       "<style scoped>\n",
       "    .dataframe tbody tr th:only-of-type {\n",
       "        vertical-align: middle;\n",
       "    }\n",
       "\n",
       "    .dataframe tbody tr th {\n",
       "        vertical-align: top;\n",
       "    }\n",
       "\n",
       "    .dataframe thead th {\n",
       "        text-align: right;\n",
       "    }\n",
       "</style>\n",
       "<table border=\"1\" class=\"dataframe\">\n",
       "  <thead>\n",
       "    <tr style=\"text-align: right;\">\n",
       "      <th></th>\n",
       "      <th>Id</th>\n",
       "      <th>MSSubClass</th>\n",
       "      <th>MSZoning</th>\n",
       "      <th>LotFrontage</th>\n",
       "      <th>LotArea</th>\n",
       "      <th>Street</th>\n",
       "      <th>Alley</th>\n",
       "      <th>LotShape</th>\n",
       "      <th>LandContour</th>\n",
       "      <th>Utilities</th>\n",
       "      <th>...</th>\n",
       "      <th>PoolArea</th>\n",
       "      <th>PoolQC</th>\n",
       "      <th>Fence</th>\n",
       "      <th>MiscFeature</th>\n",
       "      <th>MiscVal</th>\n",
       "      <th>MoSold</th>\n",
       "      <th>YrSold</th>\n",
       "      <th>SaleType</th>\n",
       "      <th>SaleCondition</th>\n",
       "      <th>SalePrice</th>\n",
       "    </tr>\n",
       "  </thead>\n",
       "  <tbody>\n",
       "    <tr>\n",
       "      <th>0</th>\n",
       "      <td>1</td>\n",
       "      <td>60</td>\n",
       "      <td>RL</td>\n",
       "      <td>65.0</td>\n",
       "      <td>8450</td>\n",
       "      <td>Pave</td>\n",
       "      <td>0</td>\n",
       "      <td>Reg</td>\n",
       "      <td>Lvl</td>\n",
       "      <td>AllPub</td>\n",
       "      <td>...</td>\n",
       "      <td>0</td>\n",
       "      <td>0</td>\n",
       "      <td>0</td>\n",
       "      <td>0</td>\n",
       "      <td>0</td>\n",
       "      <td>2</td>\n",
       "      <td>2008</td>\n",
       "      <td>WD</td>\n",
       "      <td>Normal</td>\n",
       "      <td>208500</td>\n",
       "    </tr>\n",
       "    <tr>\n",
       "      <th>1</th>\n",
       "      <td>2</td>\n",
       "      <td>20</td>\n",
       "      <td>RL</td>\n",
       "      <td>80.0</td>\n",
       "      <td>9600</td>\n",
       "      <td>Pave</td>\n",
       "      <td>0</td>\n",
       "      <td>Reg</td>\n",
       "      <td>Lvl</td>\n",
       "      <td>AllPub</td>\n",
       "      <td>...</td>\n",
       "      <td>0</td>\n",
       "      <td>0</td>\n",
       "      <td>0</td>\n",
       "      <td>0</td>\n",
       "      <td>0</td>\n",
       "      <td>5</td>\n",
       "      <td>2007</td>\n",
       "      <td>WD</td>\n",
       "      <td>Normal</td>\n",
       "      <td>181500</td>\n",
       "    </tr>\n",
       "    <tr>\n",
       "      <th>2</th>\n",
       "      <td>3</td>\n",
       "      <td>60</td>\n",
       "      <td>RL</td>\n",
       "      <td>68.0</td>\n",
       "      <td>11250</td>\n",
       "      <td>Pave</td>\n",
       "      <td>0</td>\n",
       "      <td>IR1</td>\n",
       "      <td>Lvl</td>\n",
       "      <td>AllPub</td>\n",
       "      <td>...</td>\n",
       "      <td>0</td>\n",
       "      <td>0</td>\n",
       "      <td>0</td>\n",
       "      <td>0</td>\n",
       "      <td>0</td>\n",
       "      <td>9</td>\n",
       "      <td>2008</td>\n",
       "      <td>WD</td>\n",
       "      <td>Normal</td>\n",
       "      <td>223500</td>\n",
       "    </tr>\n",
       "    <tr>\n",
       "      <th>3</th>\n",
       "      <td>4</td>\n",
       "      <td>70</td>\n",
       "      <td>RL</td>\n",
       "      <td>60.0</td>\n",
       "      <td>9550</td>\n",
       "      <td>Pave</td>\n",
       "      <td>0</td>\n",
       "      <td>IR1</td>\n",
       "      <td>Lvl</td>\n",
       "      <td>AllPub</td>\n",
       "      <td>...</td>\n",
       "      <td>0</td>\n",
       "      <td>0</td>\n",
       "      <td>0</td>\n",
       "      <td>0</td>\n",
       "      <td>0</td>\n",
       "      <td>2</td>\n",
       "      <td>2006</td>\n",
       "      <td>WD</td>\n",
       "      <td>Abnorml</td>\n",
       "      <td>140000</td>\n",
       "    </tr>\n",
       "    <tr>\n",
       "      <th>4</th>\n",
       "      <td>5</td>\n",
       "      <td>60</td>\n",
       "      <td>RL</td>\n",
       "      <td>84.0</td>\n",
       "      <td>14260</td>\n",
       "      <td>Pave</td>\n",
       "      <td>0</td>\n",
       "      <td>IR1</td>\n",
       "      <td>Lvl</td>\n",
       "      <td>AllPub</td>\n",
       "      <td>...</td>\n",
       "      <td>0</td>\n",
       "      <td>0</td>\n",
       "      <td>0</td>\n",
       "      <td>0</td>\n",
       "      <td>0</td>\n",
       "      <td>12</td>\n",
       "      <td>2008</td>\n",
       "      <td>WD</td>\n",
       "      <td>Normal</td>\n",
       "      <td>250000</td>\n",
       "    </tr>\n",
       "  </tbody>\n",
       "</table>\n",
       "<p>5 rows × 81 columns</p>\n",
       "</div>"
      ],
      "text/plain": [
       "   Id  MSSubClass MSZoning  LotFrontage  LotArea Street Alley LotShape  \\\n",
       "0   1          60       RL         65.0     8450   Pave     0      Reg   \n",
       "1   2          20       RL         80.0     9600   Pave     0      Reg   \n",
       "2   3          60       RL         68.0    11250   Pave     0      IR1   \n",
       "3   4          70       RL         60.0     9550   Pave     0      IR1   \n",
       "4   5          60       RL         84.0    14260   Pave     0      IR1   \n",
       "\n",
       "  LandContour Utilities    ...     PoolArea PoolQC Fence MiscFeature MiscVal  \\\n",
       "0         Lvl    AllPub    ...            0      0     0           0       0   \n",
       "1         Lvl    AllPub    ...            0      0     0           0       0   \n",
       "2         Lvl    AllPub    ...            0      0     0           0       0   \n",
       "3         Lvl    AllPub    ...            0      0     0           0       0   \n",
       "4         Lvl    AllPub    ...            0      0     0           0       0   \n",
       "\n",
       "  MoSold YrSold  SaleType  SaleCondition  SalePrice  \n",
       "0      2   2008        WD         Normal     208500  \n",
       "1      5   2007        WD         Normal     181500  \n",
       "2      9   2008        WD         Normal     223500  \n",
       "3      2   2006        WD        Abnorml     140000  \n",
       "4     12   2008        WD         Normal     250000  \n",
       "\n",
       "[5 rows x 81 columns]"
      ]
     },
     "execution_count": 539,
     "metadata": {},
     "output_type": "execute_result"
    }
   ],
   "source": [
    "##### Your Code Here #####\n",
    "import pandas as pd\n",
    "import numpy as np\n",
    "import seaborn as sns\n",
    "import matplotlib.pyplot as plt\n",
    "from sklearn.model_selection import train_test_split\n",
    "from sklearn.linear_model import LinearRegression\n",
    "from sklearn.metrics import mean_squared_error, r2_score\n",
    "model = LinearRegression()\n",
    "df = pd.read_csv(\"https://raw.githubusercontent.com/ryanleeallred/datasets/master/Ames%20Housing%20Data/train.csv\")\n",
    "df = df.replace(np.nan,0)\n",
    "df.head()"
   ]
  },
  {
   "cell_type": "code",
   "execution_count": 1101,
   "metadata": {},
   "outputs": [],
   "source": [
    "df = df[(df[\"SalePrice\"] <= df[\"SalePrice\"].quantile(.95)) | (df[\"SalePrice\"] >= df[\"SalePrice\"].quantile(.05))]"
   ]
  },
  {
   "cell_type": "code",
   "execution_count": 1116,
   "metadata": {},
   "outputs": [],
   "source": [
    "# y = df[\"price\"]\n",
    "# x = df[[\"bedrooms\",\"sqft_lot\"]]\n",
    "def lr(x,y):\n",
    "    \n",
    "    X_train, X_test, Y_train, Y_test = train_test_split(x,y, test_size = 0.1)\n",
    "\n",
    "    m1 = model.fit(X_train, Y_train)\n",
    "\n",
    "    y_test_prediction = model.predict(X_test)\n",
    "    MSE = mean_squared_error(Y_test, y_test_prediction)\n",
    "    RMSE = np.sqrt(mean_squared_error(Y_test, y_test_prediction))\n",
    "    R2 = r2_score(Y_test, y_test_prediction)\n",
    "    return MSE,RMSE,R2,m1.coef_,m1.intercept_\n",
    "    "
   ]
  },
  {
   "cell_type": "code",
   "execution_count": 1054,
   "metadata": {},
   "outputs": [
    {
     "data": {
      "text/plain": [
       "array(['Id', 'MSSubClass', 'MSZoning', 'LotFrontage', 'LotArea', 'Street',\n",
       "       'Alley', 'LotShape', 'LandContour', 'Utilities', 'LotConfig',\n",
       "       'LandSlope', 'Neighborhood', 'Condition1', 'Condition2',\n",
       "       'BldgType', 'HouseStyle', 'OverallQual', 'OverallCond',\n",
       "       'YearBuilt', 'YearRemodAdd', 'RoofStyle', 'RoofMatl',\n",
       "       'Exterior1st', 'Exterior2nd', 'MasVnrType', 'MasVnrArea',\n",
       "       'ExterQual', 'ExterCond', 'Foundation', 'BsmtQual', 'BsmtCond',\n",
       "       'BsmtExposure', 'BsmtFinType1', 'BsmtFinSF1', 'BsmtFinType2',\n",
       "       'BsmtFinSF2', 'BsmtUnfSF', 'TotalBsmtSF', 'Heating', 'HeatingQC',\n",
       "       'CentralAir', 'Electrical', '1stFlrSF', '2ndFlrSF', 'LowQualFinSF',\n",
       "       'GrLivArea', 'BsmtFullBath', 'BsmtHalfBath', 'FullBath',\n",
       "       'HalfBath', 'BedroomAbvGr', 'KitchenAbvGr', 'KitchenQual',\n",
       "       'TotRmsAbvGrd', 'Functional', 'Fireplaces', 'FireplaceQu',\n",
       "       'GarageType', 'GarageYrBlt', 'GarageFinish', 'GarageCars',\n",
       "       'GarageArea', 'GarageQual', 'GarageCond', 'PavedDrive',\n",
       "       'WoodDeckSF', 'OpenPorchSF', 'EnclosedPorch', '3SsnPorch',\n",
       "       'ScreenPorch', 'PoolArea', 'PoolQC', 'Fence', 'MiscFeature',\n",
       "       'MiscVal', 'MoSold', 'YrSold', 'SaleType', 'SaleCondition',\n",
       "       'SalePrice', 'lnPrice', 'PriceQuantile'], dtype=object)"
      ]
     },
     "execution_count": 1054,
     "metadata": {},
     "output_type": "execute_result"
    }
   ],
   "source": [
    "df[\"lnPrice\"] = df[\"SalePrice\"].apply(np.log)\n",
    "y = df[\"lnPrice\"]\n",
    "df.columns.values"
   ]
  },
  {
   "cell_type": "code",
   "execution_count": 1055,
   "metadata": {},
   "outputs": [
    {
     "data": {
      "text/plain": [
       "<matplotlib.collections.PathCollection at 0x17f13dd6e10>"
      ]
     },
     "execution_count": 1055,
     "metadata": {},
     "output_type": "execute_result"
    },
    {
     "data": {
      "image/png": "[encoded data removed]",
      "text/plain": [
       "<Figure size 432x288 with 1 Axes>"
      ]
     },
     "metadata": {},
     "output_type": "display_data"
    }
   ],
   "source": [
    "#plt.scatter(df[\"RoofMatl\"].replace(0,\"\"),df[\"lnPrice\"])\n",
    "\n",
    "plt.scatter(df[\"MSSubClass\"],df[\"lnPrice\"])\n"
   ]
  },
  {
   "cell_type": "code",
   "execution_count": 1056,
   "metadata": {},
   "outputs": [
    {
     "data": {
      "text/html": [
       "<div>\n",
       "<style scoped>\n",
       "    .dataframe tbody tr th:only-of-type {\n",
       "        vertical-align: middle;\n",
       "    }\n",
       "\n",
       "    .dataframe tbody tr th {\n",
       "        vertical-align: top;\n",
       "    }\n",
       "\n",
       "    .dataframe thead th {\n",
       "        text-align: right;\n",
       "    }\n",
       "</style>\n",
       "<table border=\"1\" class=\"dataframe\">\n",
       "  <thead>\n",
       "    <tr style=\"text-align: right;\">\n",
       "      <th></th>\n",
       "      <th>Id</th>\n",
       "      <th>MSSubClass</th>\n",
       "      <th>MSZoning</th>\n",
       "      <th>LotFrontage</th>\n",
       "      <th>LotArea</th>\n",
       "      <th>Street</th>\n",
       "      <th>Alley</th>\n",
       "      <th>LotShape</th>\n",
       "      <th>LandContour</th>\n",
       "      <th>Utilities</th>\n",
       "      <th>...</th>\n",
       "      <th>Fence</th>\n",
       "      <th>MiscFeature</th>\n",
       "      <th>MiscVal</th>\n",
       "      <th>MoSold</th>\n",
       "      <th>YrSold</th>\n",
       "      <th>SaleType</th>\n",
       "      <th>SaleCondition</th>\n",
       "      <th>SalePrice</th>\n",
       "      <th>lnPrice</th>\n",
       "      <th>PriceQuantile</th>\n",
       "    </tr>\n",
       "  </thead>\n",
       "  <tbody>\n",
       "    <tr>\n",
       "      <th>0</th>\n",
       "      <td>1</td>\n",
       "      <td>60</td>\n",
       "      <td>RL</td>\n",
       "      <td>65.0</td>\n",
       "      <td>8450</td>\n",
       "      <td>Pave</td>\n",
       "      <td>0</td>\n",
       "      <td>Reg</td>\n",
       "      <td>Lvl</td>\n",
       "      <td>AllPub</td>\n",
       "      <td>...</td>\n",
       "      <td>0</td>\n",
       "      <td>0</td>\n",
       "      <td>0</td>\n",
       "      <td>2</td>\n",
       "      <td>2008</td>\n",
       "      <td>WD</td>\n",
       "      <td>Normal</td>\n",
       "      <td>208500</td>\n",
       "      <td>12.247694</td>\n",
       "      <td>(207500.0, 210660.0]</td>\n",
       "    </tr>\n",
       "    <tr>\n",
       "      <th>1</th>\n",
       "      <td>2</td>\n",
       "      <td>20</td>\n",
       "      <td>RL</td>\n",
       "      <td>80.0</td>\n",
       "      <td>9600</td>\n",
       "      <td>Pave</td>\n",
       "      <td>0</td>\n",
       "      <td>Reg</td>\n",
       "      <td>Lvl</td>\n",
       "      <td>AllPub</td>\n",
       "      <td>...</td>\n",
       "      <td>0</td>\n",
       "      <td>0</td>\n",
       "      <td>0</td>\n",
       "      <td>5</td>\n",
       "      <td>2007</td>\n",
       "      <td>WD</td>\n",
       "      <td>Normal</td>\n",
       "      <td>181500</td>\n",
       "      <td>12.109011</td>\n",
       "      <td>(181000.0, 184017.0]</td>\n",
       "    </tr>\n",
       "    <tr>\n",
       "      <th>2</th>\n",
       "      <td>3</td>\n",
       "      <td>60</td>\n",
       "      <td>RL</td>\n",
       "      <td>68.0</td>\n",
       "      <td>11250</td>\n",
       "      <td>Pave</td>\n",
       "      <td>0</td>\n",
       "      <td>IR1</td>\n",
       "      <td>Lvl</td>\n",
       "      <td>AllPub</td>\n",
       "      <td>...</td>\n",
       "      <td>0</td>\n",
       "      <td>0</td>\n",
       "      <td>0</td>\n",
       "      <td>9</td>\n",
       "      <td>2008</td>\n",
       "      <td>WD</td>\n",
       "      <td>Normal</td>\n",
       "      <td>223500</td>\n",
       "      <td>12.317167</td>\n",
       "      <td>(220000.0, 224508.0]</td>\n",
       "    </tr>\n",
       "    <tr>\n",
       "      <th>3</th>\n",
       "      <td>4</td>\n",
       "      <td>70</td>\n",
       "      <td>RL</td>\n",
       "      <td>60.0</td>\n",
       "      <td>9550</td>\n",
       "      <td>Pave</td>\n",
       "      <td>0</td>\n",
       "      <td>IR1</td>\n",
       "      <td>Lvl</td>\n",
       "      <td>AllPub</td>\n",
       "      <td>...</td>\n",
       "      <td>0</td>\n",
       "      <td>0</td>\n",
       "      <td>0</td>\n",
       "      <td>2</td>\n",
       "      <td>2006</td>\n",
       "      <td>WD</td>\n",
       "      <td>Abnorml</td>\n",
       "      <td>140000</td>\n",
       "      <td>11.849398</td>\n",
       "      <td>(139000.0, 140000.0]</td>\n",
       "    </tr>\n",
       "    <tr>\n",
       "      <th>4</th>\n",
       "      <td>5</td>\n",
       "      <td>60</td>\n",
       "      <td>RL</td>\n",
       "      <td>84.0</td>\n",
       "      <td>14260</td>\n",
       "      <td>Pave</td>\n",
       "      <td>0</td>\n",
       "      <td>IR1</td>\n",
       "      <td>Lvl</td>\n",
       "      <td>AllPub</td>\n",
       "      <td>...</td>\n",
       "      <td>0</td>\n",
       "      <td>0</td>\n",
       "      <td>0</td>\n",
       "      <td>12</td>\n",
       "      <td>2008</td>\n",
       "      <td>WD</td>\n",
       "      <td>Normal</td>\n",
       "      <td>250000</td>\n",
       "      <td>12.429216</td>\n",
       "      <td>(244824.0, 250000.0]</td>\n",
       "    </tr>\n",
       "  </tbody>\n",
       "</table>\n",
       "<p>5 rows × 83 columns</p>\n",
       "</div>"
      ],
      "text/plain": [
       "   Id  MSSubClass MSZoning  LotFrontage  LotArea Street Alley LotShape  \\\n",
       "0   1          60       RL         65.0     8450   Pave     0      Reg   \n",
       "1   2          20       RL         80.0     9600   Pave     0      Reg   \n",
       "2   3          60       RL         68.0    11250   Pave     0      IR1   \n",
       "3   4          70       RL         60.0     9550   Pave     0      IR1   \n",
       "4   5          60       RL         84.0    14260   Pave     0      IR1   \n",
       "\n",
       "  LandContour Utilities          ...          Fence MiscFeature MiscVal  \\\n",
       "0         Lvl    AllPub          ...              0           0       0   \n",
       "1         Lvl    AllPub          ...              0           0       0   \n",
       "2         Lvl    AllPub          ...              0           0       0   \n",
       "3         Lvl    AllPub          ...              0           0       0   \n",
       "4         Lvl    AllPub          ...              0           0       0   \n",
       "\n",
       "  MoSold YrSold SaleType SaleCondition  SalePrice    lnPrice  \\\n",
       "0      2   2008       WD        Normal     208500  12.247694   \n",
       "1      5   2007       WD        Normal     181500  12.109011   \n",
       "2      9   2008       WD        Normal     223500  12.317167   \n",
       "3      2   2006       WD       Abnorml     140000  11.849398   \n",
       "4     12   2008       WD        Normal     250000  12.429216   \n",
       "\n",
       "          PriceQuantile  \n",
       "0  (207500.0, 210660.0]  \n",
       "1  (181000.0, 184017.0]  \n",
       "2  (220000.0, 224508.0]  \n",
       "3  (139000.0, 140000.0]  \n",
       "4  (244824.0, 250000.0]  \n",
       "\n",
       "[5 rows x 83 columns]"
      ]
     },
     "execution_count": 1056,
     "metadata": {},
     "output_type": "execute_result"
    }
   ],
   "source": [
    "df.head()"
   ]
  },
  {
   "cell_type": "markdown",
   "metadata": {},
   "source": [
    "## neighborhood"
   ]
  },
  {
   "cell_type": "code",
   "execution_count": 1057,
   "metadata": {},
   "outputs": [
    {
     "data": {
      "text/plain": [
       "(0.06299417611093922,\n",
       " 0.25098640622738755,\n",
       " 0.5353238205429166,\n",
       " array([-1.05338721e+13, -1.05338721e+13, -1.05338721e+13, -1.05338721e+13,\n",
       "        -1.05338721e+13, -1.05338721e+13, -1.05338721e+13, -1.05338721e+13,\n",
       "        -1.05338721e+13, -1.05338721e+13, -1.05338721e+13, -1.05338721e+13,\n",
       "        -1.05338721e+13, -1.05338721e+13, -1.05338721e+13, -1.05338721e+13,\n",
       "        -1.05338721e+13, -1.05338721e+13, -1.05338721e+13, -1.05338721e+13,\n",
       "        -1.05338721e+13, -1.05338721e+13, -1.05338721e+13, -1.05338721e+13,\n",
       "        -1.05338721e+13]),\n",
       " 10533872096008.734)"
      ]
     },
     "execution_count": 1057,
     "metadata": {},
     "output_type": "execute_result"
    }
   ],
   "source": [
    "df_neighborhoods= pd.get_dummies(df[\"Neighborhood\"])\n",
    "\n",
    "\n",
    "lr(x=df_neighborhoods, y = y )"
   ]
  },
  {
   "cell_type": "markdown",
   "metadata": {},
   "source": [
    "## MSZoning"
   ]
  },
  {
   "cell_type": "code",
   "execution_count": 1058,
   "metadata": {},
   "outputs": [
    {
     "data": {
      "text/plain": [
       "(0.0656381849221674,\n",
       " 0.25619950218953863,\n",
       " 0.4892903349792177,\n",
       " array([-2.25514732e+13, -2.25514732e+13, -2.25514732e+13, -2.25514732e+13,\n",
       "        -2.25514732e+13, -2.25514732e+13, -2.25514732e+13, -2.25514732e+13,\n",
       "        -2.25514732e+13, -2.25514732e+13, -2.25514732e+13, -2.25514732e+13,\n",
       "        -2.25514732e+13, -2.25514732e+13, -2.25514732e+13, -2.25514732e+13,\n",
       "        -2.25514732e+13, -2.25514732e+13, -2.25514732e+13, -2.25514732e+13,\n",
       "        -2.25514732e+13, -2.25514732e+13, -2.25514732e+13, -2.25514732e+13,\n",
       "        -2.25514732e+13]),\n",
       " 22551473218733.363)"
      ]
     },
     "execution_count": 1058,
     "metadata": {},
     "output_type": "execute_result"
    }
   ],
   "source": [
    "## MSZoning\n",
    "\n",
    "df_MSZoning= pd.get_dummies(df[\"Neighborhood\"])\n",
    "\n",
    "\n",
    "\n",
    "lr(x=df_MSZoning, y = y )"
   ]
  },
  {
   "cell_type": "markdown",
   "metadata": {},
   "source": [
    "## Sale Condition"
   ]
  },
  {
   "cell_type": "code",
   "execution_count": 1059,
   "metadata": {},
   "outputs": [
    {
     "data": {
      "text/plain": [
       "(0.10959651685426113,\n",
       " 0.3310536464899022,\n",
       " 0.05516706776180602,\n",
       " array([-0.16075269, -0.20926063,  0.03795389, -0.1214144 ,  0.0531983 ,\n",
       "         0.40027552]),\n",
       " 11.965132272285237)"
      ]
     },
     "execution_count": 1059,
     "metadata": {},
     "output_type": "execute_result"
    }
   ],
   "source": [
    "df_SaleCondition= pd.get_dummies(df[\"SaleCondition\"])\n",
    "\n",
    "\n",
    "lr(x=df_SaleCondition, y = y )"
   ]
  },
  {
   "cell_type": "markdown",
   "metadata": {},
   "source": [
    "## Has Pool"
   ]
  },
  {
   "cell_type": "code",
   "execution_count": 1060,
   "metadata": {},
   "outputs": [
    {
     "data": {
      "text/plain": [
       "(0.12238123853838077,\n",
       " 0.34983029962880685,\n",
       " -0.01150582513658338,\n",
       " array([0.22016748]),\n",
       " 12.023094938848518)"
      ]
     },
     "execution_count": 1060,
     "metadata": {},
     "output_type": "execute_result"
    }
   ],
   "source": [
    "df_hasPool = df[\"PoolArea\"].apply(lambda x: 1 if x>0 else 0)\n",
    "\n",
    "\n",
    "lr(x=np.array(df_hasPool).reshape(-1,1), y = y )"
   ]
  },
  {
   "cell_type": "markdown",
   "metadata": {},
   "source": [
    "## HouseSTyle"
   ]
  },
  {
   "cell_type": "code",
   "execution_count": 1061,
   "metadata": {},
   "outputs": [
    {
     "data": {
      "text/plain": [
       "(0.12622756884543754,\n",
       " 0.3552851936760629,\n",
       " 0.07202977124398136,\n",
       " array([-0.11920997, -0.33698465, -0.01469948, -0.03098754,  0.06658567,\n",
       "         0.43529597]),\n",
       " 11.937689071232645)"
      ]
     },
     "execution_count": 1061,
     "metadata": {},
     "output_type": "execute_result"
    }
   ],
   "source": [
    "df_HouseStyle = pd.get_dummies(df[\"HouseStyle\"])\n",
    "\n",
    "\n",
    "lr(x=df_SaleCondition, y = y )"
   ]
  },
  {
   "cell_type": "markdown",
   "metadata": {},
   "source": [
    "## OverallCond"
   ]
  },
  {
   "cell_type": "code",
   "execution_count": 1062,
   "metadata": {},
   "outputs": [
    {
     "data": {
      "text/plain": [
       "(0.1106592778498072,\n",
       " 0.3326548930194883,\n",
       " 0.09159202272171585,\n",
       " array([-0.24872442, -0.30010096, -0.14861109,  0.2842179 ,  0.05638628,\n",
       "         0.05952703,  0.03430602,  0.26299925]),\n",
       " 11.842077597934388)"
      ]
     },
     "execution_count": 1062,
     "metadata": {},
     "output_type": "execute_result"
    }
   ],
   "source": [
    "df_OverallCond = pd.get_dummies(df[\"OverallCond\"])\n",
    "\n",
    "\n",
    "lr(x=df_OverallCond, y = y )"
   ]
  },
  {
   "cell_type": "markdown",
   "metadata": {},
   "source": [
    "## OverallQual"
   ]
  },
  {
   "cell_type": "code",
   "execution_count": 1063,
   "metadata": {},
   "outputs": [
    {
     "data": {
      "text/plain": [
       "(0.049898788176004086,\n",
       " 0.22338036658579483,\n",
       " 0.6408858968488166,\n",
       " array([ 0.03737869,  0.24105451, -0.0055117 ]),\n",
       " 10.52722529519487)"
      ]
     },
     "execution_count": 1063,
     "metadata": {},
     "output_type": "execute_result"
    }
   ],
   "source": [
    "lr(x=pd.concat([df[\"OverallCond\"], df[\"OverallQual\"],df[\"OverallCond\"] * df[\"OverallQual\"]], axis=1), y = y )"
   ]
  },
  {
   "cell_type": "code",
   "execution_count": 1064,
   "metadata": {},
   "outputs": [
    {
     "data": {
      "text/plain": [
       "(0.05220155343221148,\n",
       " 0.22847659274466495,\n",
       " 0.641011966948416,\n",
       " array([0.21132703]),\n",
       " 10.731537681750446)"
      ]
     },
     "execution_count": 1064,
     "metadata": {},
     "output_type": "execute_result"
    }
   ],
   "source": [
    "lr(x=pd.concat([df[\"OverallQual\"]],axis=1),y=y)"
   ]
  },
  {
   "cell_type": "code",
   "execution_count": 1065,
   "metadata": {},
   "outputs": [
    {
     "data": {
      "text/plain": [
       "(0.09286554748077615,\n",
       " 0.30473849031715067,\n",
       " 0.2588411215873929,\n",
       " array([0.10432359]),\n",
       " 11.334986899871504)"
      ]
     },
     "execution_count": 1065,
     "metadata": {},
     "output_type": "execute_result"
    }
   ],
   "source": [
    "lr(x=pd.concat([df[\"TotRmsAbvGrd\"]],axis=1),y=y)"
   ]
  },
  {
   "cell_type": "code",
   "execution_count": 1066,
   "metadata": {},
   "outputs": [
    {
     "data": {
      "text/plain": [
       "0        7\n",
       "1        6\n",
       "2        7\n",
       "3        7\n",
       "4        8\n",
       "5        5\n",
       "6        8\n",
       "7        7\n",
       "8        7\n",
       "9        5\n",
       "10       5\n",
       "11       9\n",
       "12       5\n",
       "13       7\n",
       "14       6\n",
       "15       7\n",
       "16       6\n",
       "17       4\n",
       "18       5\n",
       "19       5\n",
       "20       8\n",
       "21       7\n",
       "22       8\n",
       "23       5\n",
       "24       5\n",
       "25       8\n",
       "26       5\n",
       "27       8\n",
       "28       5\n",
       "29       4\n",
       "        ..\n",
       "1430     5\n",
       "1431     6\n",
       "1432     4\n",
       "1433     6\n",
       "1434     5\n",
       "1435     6\n",
       "1436     4\n",
       "1437     8\n",
       "1438     6\n",
       "1439     7\n",
       "1440     6\n",
       "1441     6\n",
       "1442    10\n",
       "1443     6\n",
       "1444     7\n",
       "1445     6\n",
       "1446     5\n",
       "1447     8\n",
       "1448     4\n",
       "1449     5\n",
       "1450     5\n",
       "1451     8\n",
       "1452     5\n",
       "1453     5\n",
       "1454     7\n",
       "1455     6\n",
       "1456     6\n",
       "1457     7\n",
       "1458     5\n",
       "1459     5\n",
       "Name: OverallQual, Length: 1415, dtype: int64"
      ]
     },
     "execution_count": 1066,
     "metadata": {},
     "output_type": "execute_result"
    }
   ],
   "source": [
    "#Thermometer\n",
    "#df_OverallQual.head()\n",
    "df[\"OverallQual\"]"
   ]
  },
  {
   "cell_type": "markdown",
   "metadata": {},
   "source": [
    "## Exterior Quality"
   ]
  },
  {
   "cell_type": "code",
   "execution_count": 1067,
   "metadata": {},
   "outputs": [
    {
     "data": {
      "text/plain": [
       "(0.07388359840552998,\n",
       " 0.2718153755870517,\n",
       " 0.44162602184282596,\n",
       " array([ 0.56578279, -0.54094021,  0.20823183, -0.23307441]),\n",
       " 12.087870127477084)"
      ]
     },
     "execution_count": 1067,
     "metadata": {},
     "output_type": "execute_result"
    }
   ],
   "source": [
    "df_ExterQual = pd.get_dummies(df[\"ExterQual\"])\n",
    "\n",
    "\n",
    "lr(x=df_ExterQual, y = y )"
   ]
  },
  {
   "cell_type": "code",
   "execution_count": 1068,
   "metadata": {},
   "outputs": [
    {
     "ename": "ValueError",
     "evalue": "Found input variables with inconsistent numbers of samples: [1460, 1415]",
     "output_type": "error",
     "traceback": [
      "\u001b[1;31m---------------------------------------------------------------------------\u001b[0m",
      "\u001b[1;31mValueError\u001b[0m                                Traceback (most recent call last)",
      "\u001b[1;32m<ipython-input-1068-ae7895bc03b8>\u001b[0m in \u001b[0;36m<module>\u001b[1;34m()\u001b[0m\n\u001b[1;32m----> 1\u001b[1;33m \u001b[0mlr\u001b[0m\u001b[1;33m(\u001b[0m\u001b[0mx\u001b[0m\u001b[1;33m=\u001b[0m\u001b[0mpd\u001b[0m\u001b[1;33m.\u001b[0m\u001b[0mconcat\u001b[0m\u001b[1;33m(\u001b[0m\u001b[1;33m[\u001b[0m\u001b[0mdf_ExterQual\u001b[0m\u001b[1;33m,\u001b[0m\u001b[0mdf_OverallQual\u001b[0m\u001b[1;33m]\u001b[0m\u001b[1;33m,\u001b[0m\u001b[0maxis\u001b[0m\u001b[1;33m=\u001b[0m\u001b[1;36m1\u001b[0m\u001b[1;33m)\u001b[0m\u001b[1;33m,\u001b[0m \u001b[0my\u001b[0m \u001b[1;33m=\u001b[0m \u001b[0my\u001b[0m \u001b[1;33m)\u001b[0m\u001b[1;33m\u001b[0m\u001b[0m\n\u001b[0m",
      "\u001b[1;32m<ipython-input-1053-f90224d513c6>\u001b[0m in \u001b[0;36mlr\u001b[1;34m(x, y)\u001b[0m\n\u001b[0;32m      3\u001b[0m \u001b[1;32mdef\u001b[0m \u001b[0mlr\u001b[0m\u001b[1;33m(\u001b[0m\u001b[0mx\u001b[0m\u001b[1;33m,\u001b[0m\u001b[0my\u001b[0m\u001b[1;33m)\u001b[0m\u001b[1;33m:\u001b[0m\u001b[1;33m\u001b[0m\u001b[0m\n\u001b[0;32m      4\u001b[0m \u001b[1;33m\u001b[0m\u001b[0m\n\u001b[1;32m----> 5\u001b[1;33m     \u001b[0mX_train\u001b[0m\u001b[1;33m,\u001b[0m \u001b[0mX_test\u001b[0m\u001b[1;33m,\u001b[0m \u001b[0mY_train\u001b[0m\u001b[1;33m,\u001b[0m \u001b[0mY_test\u001b[0m \u001b[1;33m=\u001b[0m \u001b[0mtrain_test_split\u001b[0m\u001b[1;33m(\u001b[0m\u001b[0mx\u001b[0m\u001b[1;33m,\u001b[0m\u001b[0my\u001b[0m\u001b[1;33m,\u001b[0m \u001b[0mtest_size\u001b[0m \u001b[1;33m=\u001b[0m \u001b[1;36m0.25\u001b[0m\u001b[1;33m)\u001b[0m\u001b[1;33m\u001b[0m\u001b[0m\n\u001b[0m\u001b[0;32m      6\u001b[0m \u001b[1;33m\u001b[0m\u001b[0m\n\u001b[0;32m      7\u001b[0m     \u001b[0mm1\u001b[0m \u001b[1;33m=\u001b[0m \u001b[0mmodel\u001b[0m\u001b[1;33m.\u001b[0m\u001b[0mfit\u001b[0m\u001b[1;33m(\u001b[0m\u001b[0mX_train\u001b[0m\u001b[1;33m,\u001b[0m \u001b[0mY_train\u001b[0m\u001b[1;33m)\u001b[0m\u001b[1;33m\u001b[0m\u001b[0m\n",
      "\u001b[1;32m~\\Anaconda3\\lib\\site-packages\\sklearn\\model_selection\\_split.py\u001b[0m in \u001b[0;36mtrain_test_split\u001b[1;34m(*arrays, **options)\u001b[0m\n\u001b[0;32m   2029\u001b[0m         \u001b[0mtest_size\u001b[0m \u001b[1;33m=\u001b[0m \u001b[1;36m0.25\u001b[0m\u001b[1;33m\u001b[0m\u001b[0m\n\u001b[0;32m   2030\u001b[0m \u001b[1;33m\u001b[0m\u001b[0m\n\u001b[1;32m-> 2031\u001b[1;33m     \u001b[0marrays\u001b[0m \u001b[1;33m=\u001b[0m \u001b[0mindexable\u001b[0m\u001b[1;33m(\u001b[0m\u001b[1;33m*\u001b[0m\u001b[0marrays\u001b[0m\u001b[1;33m)\u001b[0m\u001b[1;33m\u001b[0m\u001b[0m\n\u001b[0m\u001b[0;32m   2032\u001b[0m \u001b[1;33m\u001b[0m\u001b[0m\n\u001b[0;32m   2033\u001b[0m     \u001b[1;32mif\u001b[0m \u001b[0mshuffle\u001b[0m \u001b[1;32mis\u001b[0m \u001b[1;32mFalse\u001b[0m\u001b[1;33m:\u001b[0m\u001b[1;33m\u001b[0m\u001b[0m\n",
      "\u001b[1;32m~\\Anaconda3\\lib\\site-packages\\sklearn\\utils\\validation.py\u001b[0m in \u001b[0;36mindexable\u001b[1;34m(*iterables)\u001b[0m\n\u001b[0;32m    227\u001b[0m         \u001b[1;32melse\u001b[0m\u001b[1;33m:\u001b[0m\u001b[1;33m\u001b[0m\u001b[0m\n\u001b[0;32m    228\u001b[0m             \u001b[0mresult\u001b[0m\u001b[1;33m.\u001b[0m\u001b[0mappend\u001b[0m\u001b[1;33m(\u001b[0m\u001b[0mnp\u001b[0m\u001b[1;33m.\u001b[0m\u001b[0marray\u001b[0m\u001b[1;33m(\u001b[0m\u001b[0mX\u001b[0m\u001b[1;33m)\u001b[0m\u001b[1;33m)\u001b[0m\u001b[1;33m\u001b[0m\u001b[0m\n\u001b[1;32m--> 229\u001b[1;33m     \u001b[0mcheck_consistent_length\u001b[0m\u001b[1;33m(\u001b[0m\u001b[1;33m*\u001b[0m\u001b[0mresult\u001b[0m\u001b[1;33m)\u001b[0m\u001b[1;33m\u001b[0m\u001b[0m\n\u001b[0m\u001b[0;32m    230\u001b[0m     \u001b[1;32mreturn\u001b[0m \u001b[0mresult\u001b[0m\u001b[1;33m\u001b[0m\u001b[0m\n\u001b[0;32m    231\u001b[0m \u001b[1;33m\u001b[0m\u001b[0m\n",
      "\u001b[1;32m~\\Anaconda3\\lib\\site-packages\\sklearn\\utils\\validation.py\u001b[0m in \u001b[0;36mcheck_consistent_length\u001b[1;34m(*arrays)\u001b[0m\n\u001b[0;32m    202\u001b[0m     \u001b[1;32mif\u001b[0m \u001b[0mlen\u001b[0m\u001b[1;33m(\u001b[0m\u001b[0muniques\u001b[0m\u001b[1;33m)\u001b[0m \u001b[1;33m>\u001b[0m \u001b[1;36m1\u001b[0m\u001b[1;33m:\u001b[0m\u001b[1;33m\u001b[0m\u001b[0m\n\u001b[0;32m    203\u001b[0m         raise ValueError(\"Found input variables with inconsistent numbers of\"\n\u001b[1;32m--> 204\u001b[1;33m                          \" samples: %r\" % [int(l) for l in lengths])\n\u001b[0m\u001b[0;32m    205\u001b[0m \u001b[1;33m\u001b[0m\u001b[0m\n\u001b[0;32m    206\u001b[0m \u001b[1;33m\u001b[0m\u001b[0m\n",
      "\u001b[1;31mValueError\u001b[0m: Found input variables with inconsistent numbers of samples: [1460, 1415]"
     ]
    }
   ],
   "source": [
    "lr(x=pd.concat([df_ExterQual,df_OverallQual],axis=1), y = y )"
   ]
  },
  {
   "cell_type": "markdown",
   "metadata": {},
   "source": [
    "## Year Sold"
   ]
  },
  {
   "cell_type": "code",
   "execution_count": 1069,
   "metadata": {},
   "outputs": [
    {
     "data": {
      "text/plain": [
       "(0.12402086891175154,\n",
       " 0.3521659678500345,\n",
       " 0.0008762178027912348,\n",
       " array([2.08596171e+13, 2.08596171e+13, 2.08596171e+13, 2.08596171e+13,\n",
       "        2.08596171e+13]),\n",
       " -20859617062773.047)"
      ]
     },
     "execution_count": 1069,
     "metadata": {},
     "output_type": "execute_result"
    }
   ],
   "source": [
    "df_YearSold = pd.get_dummies(df[\"YrSold\"])\n",
    "\n",
    "\n",
    "lr(x=df_YearSold, y = y )"
   ]
  },
  {
   "cell_type": "markdown",
   "metadata": {},
   "source": [
    "## BLDGType"
   ]
  },
  {
   "cell_type": "code",
   "execution_count": 1070,
   "metadata": {},
   "outputs": [
    {
     "data": {
      "text/plain": [
       "(0.11741047131300962,\n",
       " 0.34265211412307034,\n",
       " 0.022497210075791974,\n",
       " array([ 0.16584288, -0.15776796, -0.0943452 , -0.09640907,  0.18267936]),\n",
       " 11.880172313701804)"
      ]
     },
     "execution_count": 1070,
     "metadata": {},
     "output_type": "execute_result"
    }
   ],
   "source": [
    "df_BldgType = pd.get_dummies(df[\"BldgType\"])\n",
    "\n",
    "\n",
    "lr(x=df_BldgType, y = y )"
   ]
  },
  {
   "cell_type": "code",
   "execution_count": 1071,
   "metadata": {},
   "outputs": [
    {
     "data": {
      "text/plain": [
       "(0.1063598527679828,\n",
       " 0.32612858318151566,\n",
       " 0.22183691531376415,\n",
       " array([ 0.11934485, -0.19347011,  0.02715708, -0.18636203,  0.23333021]),\n",
       " 12.10217552913083)"
      ]
     },
     "execution_count": 1071,
     "metadata": {},
     "output_type": "execute_result"
    }
   ],
   "source": [
    "df[\"MasVnrType\"]= df[\"MasVnrType\"].replace(0,\"\")\n",
    "df_MasVnrType = pd.get_dummies(df[\"MasVnrType\"])\n",
    "\n",
    "\n",
    "lr(x=df_MasVnrType, y = y )"
   ]
  },
  {
   "cell_type": "markdown",
   "metadata": {},
   "source": [
    "## ScreenPorch"
   ]
  },
  {
   "cell_type": "code",
   "execution_count": 1072,
   "metadata": {},
   "outputs": [
    {
     "data": {
      "text/plain": [
       "(0.11212031037409108,\n",
       " 0.3348437103696157,\n",
       " 0.0038973040880316834,\n",
       " array([ 0.0012564 , -0.13654367]),\n",
       " 12.016704948513738)"
      ]
     },
     "execution_count": 1072,
     "metadata": {},
     "output_type": "execute_result"
    }
   ],
   "source": [
    "df_hasScreenPorch = df[\"ScreenPorch\"].apply(lambda x : 1 if x >0 else 0)\n",
    "df_SP = pd.concat([df[\"ScreenPorch\"],df_hasScreenPorch],axis=1 )\n",
    "\n",
    "\n",
    "lr(x=df_SP, y = y )"
   ]
  },
  {
   "cell_type": "code",
   "execution_count": 1073,
   "metadata": {},
   "outputs": [
    {
     "data": {
      "text/plain": [
       "(0.12345418838096195,\n",
       " 0.35136048209917115,\n",
       " 0.028616544787608333,\n",
       " array([-2.29151584e+13, -2.29151584e+13, -2.29151584e+13, -2.29151584e+13,\n",
       "        -2.29151584e+13, -2.29151584e+13, -2.29151584e+13, -2.29151584e+13,\n",
       "        -2.29151584e+13]),\n",
       " 22915158438394.293)"
      ]
     },
     "execution_count": 1073,
     "metadata": {},
     "output_type": "execute_result"
    }
   ],
   "source": [
    "df_Condition1 = pd.get_dummies(df[\"Condition1\"])\n",
    "\n",
    "\n",
    "lr(x=df_Condition1, y = y )\n"
   ]
  },
  {
   "cell_type": "code",
   "execution_count": null,
   "metadata": {},
   "outputs": [],
   "source": []
  },
  {
   "cell_type": "markdown",
   "metadata": {},
   "source": [
    "LotShape"
   ]
  },
  {
   "cell_type": "code",
   "execution_count": 1074,
   "metadata": {},
   "outputs": [
    {
     "data": {
      "text/plain": [
       "(0.114254219018637,\n",
       " 0.338015116553442,\n",
       " 0.028009150127461413,\n",
       " array([ 0.05290469,  0.05501855,  0.06948628, -0.17740951]),\n",
       " 12.11079117598164)"
      ]
     },
     "execution_count": 1074,
     "metadata": {},
     "output_type": "execute_result"
    }
   ],
   "source": [
    "df_LotShape =  pd.get_dummies(df[\"LotShape\"])\n",
    "\n",
    "\n",
    "\n",
    "lr(x=df_LotShape, y = y )"
   ]
  },
  {
   "cell_type": "markdown",
   "metadata": {},
   "source": [
    "## LotConfig"
   ]
  },
  {
   "cell_type": "code",
   "execution_count": null,
   "metadata": {},
   "outputs": [],
   "source": []
  },
  {
   "cell_type": "code",
   "execution_count": 1075,
   "metadata": {},
   "outputs": [
    {
     "ename": "SyntaxError",
     "evalue": "invalid syntax (<ipython-input-1075-d6ddc6afc487>, line 1)",
     "output_type": "error",
     "traceback": [
      "\u001b[1;36m  File \u001b[1;32m\"<ipython-input-1075-d6ddc6afc487>\"\u001b[1;36m, line \u001b[1;32m1\u001b[0m\n\u001b[1;33m    df_LandShape =  df[\"df_LandShape\"y(lambda x : 1 if x >0 else 0)\u001b[0m\n\u001b[1;37m                                     ^\u001b[0m\n\u001b[1;31mSyntaxError\u001b[0m\u001b[1;31m:\u001b[0m invalid syntax\n"
     ]
    }
   ],
   "source": [
    "df_LandShape =  df[\"df_LandShape\"y(lambda x : 1 if x >0 else 0)\n",
    "\n",
    "\n",
    "\n",
    "lr(x=df_LotConfig, y = y )"
   ]
  },
  {
   "cell_type": "markdown",
   "metadata": {},
   "source": [
    "# Basics"
   ]
  },
  {
   "cell_type": "code",
   "execution_count": 1076,
   "metadata": {},
   "outputs": [
    {
     "data": {
      "text/plain": [
       "(0.07400202895359696,\n",
       " 0.2720331394400266,\n",
       " 0.3700395827671211,\n",
       " array([0.3245518]),\n",
       " 11.440127636381506)"
      ]
     },
     "execution_count": 1076,
     "metadata": {},
     "output_type": "execute_result"
    }
   ],
   "source": [
    "lr(x=np.array(df[\"GarageCars\"]).reshape(-1,1), y = y )"
   ]
  },
  {
   "cell_type": "code",
   "execution_count": 1077,
   "metadata": {},
   "outputs": [
    {
     "data": {
      "text/plain": [
       "(0.09561301845224263,\n",
       " 0.30921354829994535,\n",
       " 0.1885600384823123,\n",
       " array([0.26676453]),\n",
       " 11.852105693525058)"
      ]
     },
     "execution_count": 1077,
     "metadata": {},
     "output_type": "execute_result"
    }
   ],
   "source": [
    "lr(x=np.array(df[\"Fireplaces\"]).reshape(-1,1), y = y )"
   ]
  },
  {
   "cell_type": "code",
   "execution_count": 1078,
   "metadata": {},
   "outputs": [
    {
     "data": {
      "text/plain": [
       "(0.12121304310539584,\n",
       " 0.3481566358772957,\n",
       " 0.00022480855058837346,\n",
       " array([-0.00071329]),\n",
       " 12.061223611896756)"
      ]
     },
     "execution_count": 1078,
     "metadata": {},
     "output_type": "execute_result"
    }
   ],
   "source": [
    "lr(x=np.array(df[\"MSSubClass\"]).reshape(-1,1), y = y )"
   ]
  },
  {
   "cell_type": "code",
   "execution_count": 1079,
   "metadata": {},
   "outputs": [
    {
     "data": {
      "text/plain": [
       "(0.0822596776109784,\n",
       " 0.2868094796393215,\n",
       " 0.34497841227449444,\n",
       " array([0.36822302, 0.16025269]),\n",
       " 11.380215725525426)"
      ]
     },
     "execution_count": 1079,
     "metadata": {},
     "output_type": "execute_result"
    }
   ],
   "source": [
    "lr(x=df[[\"FullBath\",\"HalfBath\"]],y=y)"
   ]
  },
  {
   "cell_type": "code",
   "execution_count": 1080,
   "metadata": {},
   "outputs": [
    {
     "data": {
      "text/plain": [
       "(0.06849986881697222,\n",
       " 0.2617247959536357,\n",
       " 0.45346992332160074,\n",
       " array([0.24448223]),\n",
       " 11.424458809318466)"
      ]
     },
     "execution_count": 1080,
     "metadata": {},
     "output_type": "execute_result"
    }
   ],
   "source": [
    "\n",
    "baths = df[\"BsmtFullBath\"]+df[\"BsmtHalfBath\"]+df[\"FullBath\"]+df[\"HalfBath\"]\n",
    "\n",
    "\n",
    "lr(x=np.array(baths).reshape(-1,1), y = y )"
   ]
  },
  {
   "cell_type": "code",
   "execution_count": 1081,
   "metadata": {},
   "outputs": [
    {
     "data": {
      "text/plain": [
       "(0.11739950353525491,\n",
       " 0.3426361095028586,\n",
       " -0.002112728301397304,\n",
       " array([-0.07388807, -0.13527881, -0.18576261,  0.01234546,  0.19555576,\n",
       "         0.18702826]),\n",
       " 12.124579867714575)"
      ]
     },
     "execution_count": 1081,
     "metadata": {},
     "output_type": "execute_result"
    }
   ],
   "source": [
    "df_roof= pd.get_dummies(df[\"RoofStyle\"])\n",
    "lr(x=df_roof, y = y )"
   ]
  },
  {
   "cell_type": "markdown",
   "metadata": {},
   "source": [
    "## Central Air"
   ]
  },
  {
   "cell_type": "code",
   "execution_count": 1082,
   "metadata": {},
   "outputs": [
    {
     "data": {
      "text/plain": [
       "(0.10530606891206365,\n",
       " 0.32450896584233796,\n",
       " 0.08835975527379025,\n",
       " array([0.43636163]),\n",
       " 11.601650498834427)"
      ]
     },
     "execution_count": 1082,
     "metadata": {},
     "output_type": "execute_result"
    }
   ],
   "source": [
    "df['CentralAir']=df['CentralAir'].replace(\"N\",0)\n",
    "df['CentralAir']=df['CentralAir'].replace(\"Y\",1)\n",
    "lr(np.array(df[\"CentralAir\"]).reshape(-1,1),y)"
   ]
  },
  {
   "cell_type": "code",
   "execution_count": 1083,
   "metadata": {},
   "outputs": [
    {
     "data": {
      "text/plain": [
       "(0.10660540941530859,\n",
       " 0.3265048382724345,\n",
       " 0.014514343666956364,\n",
       " array([0.08272112]),\n",
       " 11.781895697987444)"
      ]
     },
     "execution_count": 1083,
     "metadata": {},
     "output_type": "execute_result"
    }
   ],
   "source": [
    "lr(np.array(df[\"BedroomAbvGr\"]).reshape(-1,1),y)"
   ]
  },
  {
   "cell_type": "markdown",
   "metadata": {},
   "source": [
    "# SQFT Calcs"
   ]
  },
  {
   "cell_type": "code",
   "execution_count": 1084,
   "metadata": {},
   "outputs": [
    {
     "data": {
      "text/plain": [
       "(0.07956921865616108,\n",
       " 0.2820801635283153,\n",
       " 0.3298051633452792,\n",
       " array([ 0.07031655, -0.00045174]),\n",
       " 10.18635542557397)"
      ]
     },
     "execution_count": 1084,
     "metadata": {},
     "output_type": "execute_result"
    }
   ],
   "source": [
    "sq1f= df[[\"1stFlrSF\"]]**0.5\n",
    "f1 = pd.concat([sq1f,df[\"1stFlrSF\"]],axis=1)\n",
    "lr(f1, df[\"lnPrice\"])"
   ]
  },
  {
   "cell_type": "code",
   "execution_count": 1085,
   "metadata": {},
   "outputs": [
    {
     "data": {
      "text/plain": [
       "(0.09501516728009199,\n",
       " 0.3082453037437748,\n",
       " 0.18355728107032576,\n",
       " array([-0.04242791,  0.00163169]),\n",
       " 11.962028194222048)"
      ]
     },
     "execution_count": 1085,
     "metadata": {},
     "output_type": "execute_result"
    }
   ],
   "source": [
    "sq2f= df[[\"2ndFlrSF\"]]**0.5\n",
    "f2 = pd.concat([sq2f,df[\"2ndFlrSF\"]],axis=1)\n",
    "lr(f2 , df[\"lnPrice\"])"
   ]
  },
  {
   "cell_type": "code",
   "execution_count": 1086,
   "metadata": {},
   "outputs": [
    {
     "data": {
      "text/plain": [
       "(0.05892122036870152,\n",
       " 0.24273693655622647,\n",
       " 0.5363614693117617,\n",
       " array([0.00068997]),\n",
       " 11.132335522696005)"
      ]
     },
     "execution_count": 1086,
     "metadata": {},
     "output_type": "execute_result"
    }
   ],
   "source": [
    "f12 = df[\"1stFlrSF\"]+df[\"2ndFlrSF\"]\n",
    "euc_f12 = np.sqrt(df[\"1stFlrSF\"]**2+df[\"2ndFlrSF\"]**2)\n",
    "lr(np.array(euc_f12).reshape(-1,1) , df[\"lnPrice\"])"
   ]
  },
  {
   "cell_type": "code",
   "execution_count": 1087,
   "metadata": {},
   "outputs": [
    {
     "data": {
      "text/plain": [
       "(0.12363388613050723,\n",
       " 0.35161610618756817,\n",
       " 0.09330993628803941,\n",
       " array([ 1.45749417e-03, -1.44641005e-06]),\n",
       " 11.909468096082064)"
      ]
     },
     "execution_count": 1087,
     "metadata": {},
     "output_type": "execute_result"
    }
   ],
   "source": [
    "wd = df[\"WoodDeckSF\"]\n",
    "wd2 = wd**2\n",
    "wd= pd.concat([wd,wd2],axis=1)\n",
    "lr(wd, df[\"lnPrice\"])"
   ]
  },
  {
   "cell_type": "code",
   "execution_count": 1088,
   "metadata": {},
   "outputs": [],
   "source": [
    "sqfteq = pd.concat([df[\"1stFlrSF\"],df[\"1stFlrSF\"]**2,df[\"2ndFlrSF\"],df[\"2ndFlrSF\"]**2,df[\"1stFlrSF\"]*df[\"2ndFlrSF\"]],axis=1)"
   ]
  },
  {
   "cell_type": "code",
   "execution_count": 1089,
   "metadata": {},
   "outputs": [
    {
     "data": {
      "text/plain": [
       "(0.047548203758758095,\n",
       " 0.21805550614180347,\n",
       " 0.5858879262747017,\n",
       " array([ 1.32880105e-03, -1.97671133e-07,  7.50436944e-04,  3.21872397e-07,\n",
       "        -5.78793455e-07]),\n",
       " 10.624465011033653)"
      ]
     },
     "execution_count": 1089,
     "metadata": {},
     "output_type": "execute_result"
    }
   ],
   "source": [
    "lr(sqfteq,y)"
   ]
  },
  {
   "cell_type": "code",
   "execution_count": null,
   "metadata": {},
   "outputs": [],
   "source": []
  },
  {
   "cell_type": "markdown",
   "metadata": {},
   "source": [
    "## Multi"
   ]
  },
  {
   "cell_type": "code",
   "execution_count": 1090,
   "metadata": {},
   "outputs": [],
   "source": [
    "#df_neighborhoods, df_hasPool,df_SaleCondition,df_MSZoning"
   ]
  },
  {
   "cell_type": "code",
   "execution_count": 1117,
   "metadata": {},
   "outputs": [
    {
     "data": {
      "text/plain": [
       "(0.016790627135993812,\n",
       " 0.12957865231585722,\n",
       " 0.8767363406209888,\n",
       " array([-8.64613269e+05, -8.64613362e+05, -8.64613436e+05, -8.64613248e+05,\n",
       "        -8.64613121e+05, -8.64613167e+05, -8.64613111e+05, -8.64613293e+05,\n",
       "        -8.64613190e+05, -8.64613279e+05, -8.64613416e+05, -8.64613244e+05,\n",
       "        -8.64613261e+05, -8.64613344e+05, -8.64613269e+05, -8.64613118e+05,\n",
       "        -8.64613097e+05, -8.64613344e+05, -8.64613267e+05, -8.64613246e+05,\n",
       "        -8.64613247e+05, -8.64613140e+05, -8.64613099e+05, -8.64613167e+05,\n",
       "        -8.64613125e+05,  6.84357093e-04, -1.25454904e-07,  2.58507394e-04,\n",
       "         1.04488608e-07, -1.60596619e-07,  2.92860746e-04, -2.75974221e-02,\n",
       "         5.33525101e-02,  8.39559940e-02,  6.14247536e-02,  1.32806169e-01,\n",
       "        -6.71728922e-03,  3.18172878e-02, -8.72495942e-03,  6.60165543e-02]),\n",
       " 864623.7458273901)"
      ]
     },
     "execution_count": 1117,
     "metadata": {},
     "output_type": "execute_result"
    }
   ],
   "source": [
    "df_multi= pd.concat([df_neighborhoods,sqfteq,df_SP,df[\"GarageCars\"],df[\"OverallQual\"],baths, df[\"CentralAir\"],\\\n",
    "                     df[\"TotRmsAbvGrd\"],df[\"Fireplaces\"],df[\"BedroomAbvGr\"], df_hasPool ],axis=1)\n",
    "\n",
    "\n",
    "lr(df_multi, df[\"lnPrice\"])"
   ]
  },
  {
   "cell_type": "code",
   "execution_count": 1118,
   "metadata": {},
   "outputs": [
    {
     "data": {
      "text/plain": [
       "(0.016170309709075122,\n",
       " 0.1271625326465116,\n",
       " 0.8719307391520852,\n",
       " array([ 9.50862697e+05,  9.50862604e+05,  9.50862551e+05,  9.50862743e+05,\n",
       "         9.50862875e+05,  9.50862816e+05,  9.50862873e+05,  9.50862693e+05,\n",
       "         9.50862799e+05,  9.50862685e+05,  9.50862581e+05,  9.50862747e+05,\n",
       "         9.50862730e+05,  9.50862637e+05,  9.50862729e+05,  9.50862864e+05,\n",
       "         9.50862880e+05,  9.50862650e+05,  9.50862712e+05,  9.50862743e+05,\n",
       "         9.50862739e+05,  9.50862840e+05,  9.50862871e+05,  9.50862831e+05,\n",
       "         9.50862866e+05,  7.37728839e-04, -1.43704972e-07,  2.67022106e-04,\n",
       "         1.21163646e-07, -1.73601357e-07,  3.91511448e-04, -4.62533952e-02,\n",
       "         5.17975116e-02,  8.43094007e-02,  6.49876614e-02,  1.31817065e-01,\n",
       "        -5.84132435e-03,  2.93417278e-02, -1.84208160e-02, -9.70938302e-03]),\n",
       " -950852.2638049674)"
      ]
     },
     "execution_count": 1118,
     "metadata": {},
     "output_type": "execute_result"
    }
   ],
   "source": [
    "df_multi1= pd.concat([df_MSZoning, sqfteq,df_SP,df[\"GarageCars\"],df[\"OverallQual\"],baths, df[\"CentralAir\"],\\\n",
    "                     df[\"TotRmsAbvGrd\"],df[\"Fireplaces\"],df[\"BedroomAbvGr\"], df_hasPool ],axis=1)\n",
    "\n",
    "\n",
    "lr(df_multi1, df[\"lnPrice\"])"
   ]
  },
  {
   "cell_type": "code",
   "execution_count": 1121,
   "metadata": {},
   "outputs": [
    {
     "data": {
      "text/plain": [
       "(0.030537292564821773,\n",
       " 0.17474922765157438,\n",
       " 0.780336720285548,\n",
       " array([1.36095154e-01, 7.53947189e-05, 5.73223258e-05, 2.65172203e-05,\n",
       "        1.49543399e-04, 1.07313998e-02, 3.23642065e-04]),\n",
       " 10.618250323701702)"
      ]
     },
     "execution_count": 1121,
     "metadata": {},
     "output_type": "execute_result"
    }
   ],
   "source": [
    "df_Samir = df[[\"OverallQual\", \"BsmtFinSF1\", \"TotalBsmtSF\", \"1stFlrSF\",  \"GrLivArea\", \"TotRmsAbvGrd\", \"GarageArea\"]]\n",
    "lr(df_Samir,y)"
   ]
  },
  {
   "cell_type": "code",
   "execution_count": 1120,
   "metadata": {},
   "outputs": [
    {
     "data": {
      "text/html": [
       "<div>\n",
       "<style scoped>\n",
       "    .dataframe tbody tr th:only-of-type {\n",
       "        vertical-align: middle;\n",
       "    }\n",
       "\n",
       "    .dataframe tbody tr th {\n",
       "        vertical-align: top;\n",
       "    }\n",
       "\n",
       "    .dataframe thead th {\n",
       "        text-align: right;\n",
       "    }\n",
       "</style>\n",
       "<table border=\"1\" class=\"dataframe\">\n",
       "  <thead>\n",
       "    <tr style=\"text-align: right;\">\n",
       "      <th></th>\n",
       "      <th>Blmngtn</th>\n",
       "      <th>Blueste</th>\n",
       "      <th>BrDale</th>\n",
       "      <th>BrkSide</th>\n",
       "      <th>ClearCr</th>\n",
       "      <th>CollgCr</th>\n",
       "      <th>Crawfor</th>\n",
       "      <th>Edwards</th>\n",
       "      <th>Gilbert</th>\n",
       "      <th>IDOTRR</th>\n",
       "      <th>...</th>\n",
       "      <th>ScreenPorch</th>\n",
       "      <th>ScreenPorch</th>\n",
       "      <th>GarageCars</th>\n",
       "      <th>OverallQual</th>\n",
       "      <th>0</th>\n",
       "      <th>CentralAir</th>\n",
       "      <th>TotRmsAbvGrd</th>\n",
       "      <th>Fireplaces</th>\n",
       "      <th>BedroomAbvGr</th>\n",
       "      <th>PoolArea</th>\n",
       "    </tr>\n",
       "  </thead>\n",
       "  <tbody>\n",
       "    <tr>\n",
       "      <th>0</th>\n",
       "      <td>0</td>\n",
       "      <td>0</td>\n",
       "      <td>0</td>\n",
       "      <td>0</td>\n",
       "      <td>0</td>\n",
       "      <td>1</td>\n",
       "      <td>0</td>\n",
       "      <td>0</td>\n",
       "      <td>0</td>\n",
       "      <td>0</td>\n",
       "      <td>...</td>\n",
       "      <td>0</td>\n",
       "      <td>0</td>\n",
       "      <td>2</td>\n",
       "      <td>7</td>\n",
       "      <td>4</td>\n",
       "      <td>1</td>\n",
       "      <td>8</td>\n",
       "      <td>0</td>\n",
       "      <td>3</td>\n",
       "      <td>0</td>\n",
       "    </tr>\n",
       "    <tr>\n",
       "      <th>1</th>\n",
       "      <td>0</td>\n",
       "      <td>0</td>\n",
       "      <td>0</td>\n",
       "      <td>0</td>\n",
       "      <td>0</td>\n",
       "      <td>0</td>\n",
       "      <td>0</td>\n",
       "      <td>0</td>\n",
       "      <td>0</td>\n",
       "      <td>0</td>\n",
       "      <td>...</td>\n",
       "      <td>0</td>\n",
       "      <td>0</td>\n",
       "      <td>2</td>\n",
       "      <td>6</td>\n",
       "      <td>3</td>\n",
       "      <td>1</td>\n",
       "      <td>6</td>\n",
       "      <td>1</td>\n",
       "      <td>3</td>\n",
       "      <td>0</td>\n",
       "    </tr>\n",
       "    <tr>\n",
       "      <th>2</th>\n",
       "      <td>0</td>\n",
       "      <td>0</td>\n",
       "      <td>0</td>\n",
       "      <td>0</td>\n",
       "      <td>0</td>\n",
       "      <td>1</td>\n",
       "      <td>0</td>\n",
       "      <td>0</td>\n",
       "      <td>0</td>\n",
       "      <td>0</td>\n",
       "      <td>...</td>\n",
       "      <td>0</td>\n",
       "      <td>0</td>\n",
       "      <td>2</td>\n",
       "      <td>7</td>\n",
       "      <td>4</td>\n",
       "      <td>1</td>\n",
       "      <td>6</td>\n",
       "      <td>1</td>\n",
       "      <td>3</td>\n",
       "      <td>0</td>\n",
       "    </tr>\n",
       "    <tr>\n",
       "      <th>3</th>\n",
       "      <td>0</td>\n",
       "      <td>0</td>\n",
       "      <td>0</td>\n",
       "      <td>0</td>\n",
       "      <td>0</td>\n",
       "      <td>0</td>\n",
       "      <td>1</td>\n",
       "      <td>0</td>\n",
       "      <td>0</td>\n",
       "      <td>0</td>\n",
       "      <td>...</td>\n",
       "      <td>0</td>\n",
       "      <td>0</td>\n",
       "      <td>3</td>\n",
       "      <td>7</td>\n",
       "      <td>2</td>\n",
       "      <td>1</td>\n",
       "      <td>7</td>\n",
       "      <td>1</td>\n",
       "      <td>3</td>\n",
       "      <td>0</td>\n",
       "    </tr>\n",
       "    <tr>\n",
       "      <th>4</th>\n",
       "      <td>0</td>\n",
       "      <td>0</td>\n",
       "      <td>0</td>\n",
       "      <td>0</td>\n",
       "      <td>0</td>\n",
       "      <td>0</td>\n",
       "      <td>0</td>\n",
       "      <td>0</td>\n",
       "      <td>0</td>\n",
       "      <td>0</td>\n",
       "      <td>...</td>\n",
       "      <td>0</td>\n",
       "      <td>0</td>\n",
       "      <td>3</td>\n",
       "      <td>8</td>\n",
       "      <td>4</td>\n",
       "      <td>1</td>\n",
       "      <td>9</td>\n",
       "      <td>1</td>\n",
       "      <td>4</td>\n",
       "      <td>0</td>\n",
       "    </tr>\n",
       "  </tbody>\n",
       "</table>\n",
       "<p>5 rows × 40 columns</p>\n",
       "</div>"
      ],
      "text/plain": [
       "   Blmngtn  Blueste  BrDale  BrkSide  ClearCr  CollgCr  Crawfor  Edwards  \\\n",
       "0        0        0       0        0        0        1        0        0   \n",
       "1        0        0       0        0        0        0        0        0   \n",
       "2        0        0       0        0        0        1        0        0   \n",
       "3        0        0       0        0        0        0        1        0   \n",
       "4        0        0       0        0        0        0        0        0   \n",
       "\n",
       "   Gilbert  IDOTRR    ...     ScreenPorch  ScreenPorch  GarageCars  \\\n",
       "0        0       0    ...               0            0           2   \n",
       "1        0       0    ...               0            0           2   \n",
       "2        0       0    ...               0            0           2   \n",
       "3        0       0    ...               0            0           3   \n",
       "4        0       0    ...               0            0           3   \n",
       "\n",
       "   OverallQual  0  CentralAir  TotRmsAbvGrd  Fireplaces  BedroomAbvGr  \\\n",
       "0            7  4           1             8           0             3   \n",
       "1            6  3           1             6           1             3   \n",
       "2            7  4           1             6           1             3   \n",
       "3            7  2           1             7           1             3   \n",
       "4            8  4           1             9           1             4   \n",
       "\n",
       "   PoolArea  \n",
       "0         0  \n",
       "1         0  \n",
       "2         0  \n",
       "3         0  \n",
       "4         0  \n",
       "\n",
       "[5 rows x 40 columns]"
      ]
     },
     "execution_count": 1120,
     "metadata": {},
     "output_type": "execute_result"
    }
   ],
   "source": [
    "df_multi.head()"
   ]
  },
  {
   "cell_type": "markdown",
   "metadata": {
    "colab_type": "text",
    "id": "Uvbg4rRPW2Ex"
   },
   "source": [
    "# Stretch Goals\n",
    "\n",
    "- Write a blog post explaining one of today's topics.\n",
    "- Find a new regression dataset from the UCI machine learning repository and use it to test out your new modeling skillz.\n",
    " [ - UCI Machine Learning Repository - Regression Datasets](https://)\n",
    "- Make a list for yourself of common feature engineering techniques. Browse Kaggle kernels to learn more methods.\n",
    "- Start studying for tomorrow's topic: Gradient Descent\n",
    "- Try and make the ultimate model with this dataset. clean as many features as possible, engineer the most sensible features as possible and see how accurate of a prediction you can make. \n",
    "- Learn about the \"Dummy Variable Trap\" and how it applies to linear regression modeling.\n",
    "- Learning about using linear regression to model time series data"
   ]
  },
  {
   "cell_type": "code",
   "execution_count": null,
   "metadata": {},
   "outputs": [],
   "source": []
  }
 ],
 "metadata": {
  "colab": {
   "name": "Polynomial/Log-linear Regression Assignment.ipynb",
   "provenance": [],
   "version": "0.3.2"
  },
  "kernelspec": {
   "display_name": "Python 3",
   "language": "python",
   "name": "python3"
  },
  "language_info": {
   "codemirror_mode": {
    "name": "ipython",
    "version": 3
   },
   "file_extension": ".py",
   "mimetype": "text/x-python",
   "name": "python",
   "nbconvert_exporter": "python",
   "pygments_lexer": "ipython3",
   "version": "3.6.5"
  }
 },
 "nbformat": 4,
 "nbformat_minor": 1
}
