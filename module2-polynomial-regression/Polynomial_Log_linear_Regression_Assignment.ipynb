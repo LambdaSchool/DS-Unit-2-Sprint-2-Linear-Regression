{
 "cells": [
  {
   "cell_type": "markdown",
   "metadata": {
    "colab_type": "text",
    "id": "Dc4kEVNWo4yZ"
   },
   "source": [
    "# Intermediate Linear Regression Practice\n",
    "\n",
    "## Use a Linear Regression model to get the lowest RMSE possible on the following dataset:\n",
    "\n",
    "[Dataset Folder](https://github.com/ryanleeallred/datasets/tree/master/Ames%20Housing%20Data)\n",
    "\n",
    "[Raw CSV](https://raw.githubusercontent.com/ryanleeallred/datasets/master/Ames%20Housing%20Data/train.csv)\n",
    "\n",
    "## You model must include (at least):\n",
    "- A log-transformed y variable\n",
    "- Two polynomial features\n",
    "- One interaction feature\n",
    "- 10 other engineered features\n",
    "\n",
    "What is the lowest Root-Mean-Squared Error that you are able to obtain? Share your best RMSEs in Slack!\n",
    "\n",
    "Notes:\n",
    "\n",
    "There may be some data cleaning that you need to do on some features of this dataset. Linear Regression will only accept numeric values and will not accept\n",
    "\n",
    "Note* There may not be a clear candidate for an interaction term in this dataset. Include one anyway, sometimes it's a good practice for predictive modeling feature engineering in general. "
   ]
  },
  {
   "cell_type": "code",
   "execution_count": 1,
   "metadata": {
    "colab": {},
    "colab_type": "code",
    "id": "XYZSkixpo2qD",
    "scrolled": true
   },
   "outputs": [
    {
     "data": {
      "text/html": [
       "<div>\n",
       "<style scoped>\n",
       "    .dataframe tbody tr th:only-of-type {\n",
       "        vertical-align: middle;\n",
       "    }\n",
       "\n",
       "    .dataframe tbody tr th {\n",
       "        vertical-align: top;\n",
       "    }\n",
       "\n",
       "    .dataframe thead th {\n",
       "        text-align: right;\n",
       "    }\n",
       "</style>\n",
       "<table border=\"1\" class=\"dataframe\">\n",
       "  <thead>\n",
       "    <tr style=\"text-align: right;\">\n",
       "      <th></th>\n",
       "      <th>Id</th>\n",
       "      <th>MSSubClass</th>\n",
       "      <th>MSZoning</th>\n",
       "      <th>LotFrontage</th>\n",
       "      <th>LotArea</th>\n",
       "      <th>Street</th>\n",
       "      <th>Alley</th>\n",
       "      <th>LotShape</th>\n",
       "      <th>LandContour</th>\n",
       "      <th>Utilities</th>\n",
       "      <th>...</th>\n",
       "      <th>PoolArea</th>\n",
       "      <th>PoolQC</th>\n",
       "      <th>Fence</th>\n",
       "      <th>MiscFeature</th>\n",
       "      <th>MiscVal</th>\n",
       "      <th>MoSold</th>\n",
       "      <th>YrSold</th>\n",
       "      <th>SaleType</th>\n",
       "      <th>SaleCondition</th>\n",
       "      <th>SalePrice</th>\n",
       "    </tr>\n",
       "  </thead>\n",
       "  <tbody>\n",
       "    <tr>\n",
       "      <th>0</th>\n",
       "      <td>1</td>\n",
       "      <td>60</td>\n",
       "      <td>RL</td>\n",
       "      <td>65.0</td>\n",
       "      <td>8450</td>\n",
       "      <td>Pave</td>\n",
       "      <td>0</td>\n",
       "      <td>Reg</td>\n",
       "      <td>Lvl</td>\n",
       "      <td>AllPub</td>\n",
       "      <td>...</td>\n",
       "      <td>0</td>\n",
       "      <td>0</td>\n",
       "      <td>0</td>\n",
       "      <td>0</td>\n",
       "      <td>0</td>\n",
       "      <td>2</td>\n",
       "      <td>2008</td>\n",
       "      <td>WD</td>\n",
       "      <td>Normal</td>\n",
       "      <td>208500</td>\n",
       "    </tr>\n",
       "    <tr>\n",
       "      <th>1</th>\n",
       "      <td>2</td>\n",
       "      <td>20</td>\n",
       "      <td>RL</td>\n",
       "      <td>80.0</td>\n",
       "      <td>9600</td>\n",
       "      <td>Pave</td>\n",
       "      <td>0</td>\n",
       "      <td>Reg</td>\n",
       "      <td>Lvl</td>\n",
       "      <td>AllPub</td>\n",
       "      <td>...</td>\n",
       "      <td>0</td>\n",
       "      <td>0</td>\n",
       "      <td>0</td>\n",
       "      <td>0</td>\n",
       "      <td>0</td>\n",
       "      <td>5</td>\n",
       "      <td>2007</td>\n",
       "      <td>WD</td>\n",
       "      <td>Normal</td>\n",
       "      <td>181500</td>\n",
       "    </tr>\n",
       "    <tr>\n",
       "      <th>2</th>\n",
       "      <td>3</td>\n",
       "      <td>60</td>\n",
       "      <td>RL</td>\n",
       "      <td>68.0</td>\n",
       "      <td>11250</td>\n",
       "      <td>Pave</td>\n",
       "      <td>0</td>\n",
       "      <td>IR1</td>\n",
       "      <td>Lvl</td>\n",
       "      <td>AllPub</td>\n",
       "      <td>...</td>\n",
       "      <td>0</td>\n",
       "      <td>0</td>\n",
       "      <td>0</td>\n",
       "      <td>0</td>\n",
       "      <td>0</td>\n",
       "      <td>9</td>\n",
       "      <td>2008</td>\n",
       "      <td>WD</td>\n",
       "      <td>Normal</td>\n",
       "      <td>223500</td>\n",
       "    </tr>\n",
       "    <tr>\n",
       "      <th>3</th>\n",
       "      <td>4</td>\n",
       "      <td>70</td>\n",
       "      <td>RL</td>\n",
       "      <td>60.0</td>\n",
       "      <td>9550</td>\n",
       "      <td>Pave</td>\n",
       "      <td>0</td>\n",
       "      <td>IR1</td>\n",
       "      <td>Lvl</td>\n",
       "      <td>AllPub</td>\n",
       "      <td>...</td>\n",
       "      <td>0</td>\n",
       "      <td>0</td>\n",
       "      <td>0</td>\n",
       "      <td>0</td>\n",
       "      <td>0</td>\n",
       "      <td>2</td>\n",
       "      <td>2006</td>\n",
       "      <td>WD</td>\n",
       "      <td>Abnorml</td>\n",
       "      <td>140000</td>\n",
       "    </tr>\n",
       "    <tr>\n",
       "      <th>4</th>\n",
       "      <td>5</td>\n",
       "      <td>60</td>\n",
       "      <td>RL</td>\n",
       "      <td>84.0</td>\n",
       "      <td>14260</td>\n",
       "      <td>Pave</td>\n",
       "      <td>0</td>\n",
       "      <td>IR1</td>\n",
       "      <td>Lvl</td>\n",
       "      <td>AllPub</td>\n",
       "      <td>...</td>\n",
       "      <td>0</td>\n",
       "      <td>0</td>\n",
       "      <td>0</td>\n",
       "      <td>0</td>\n",
       "      <td>0</td>\n",
       "      <td>12</td>\n",
       "      <td>2008</td>\n",
       "      <td>WD</td>\n",
       "      <td>Normal</td>\n",
       "      <td>250000</td>\n",
       "    </tr>\n",
       "  </tbody>\n",
       "</table>\n",
       "<p>5 rows × 81 columns</p>\n",
       "</div>"
      ],
      "text/plain": [
       "   Id  MSSubClass MSZoning  LotFrontage  LotArea Street Alley LotShape  \\\n",
       "0   1          60       RL         65.0     8450   Pave     0      Reg   \n",
       "1   2          20       RL         80.0     9600   Pave     0      Reg   \n",
       "2   3          60       RL         68.0    11250   Pave     0      IR1   \n",
       "3   4          70       RL         60.0     9550   Pave     0      IR1   \n",
       "4   5          60       RL         84.0    14260   Pave     0      IR1   \n",
       "\n",
       "  LandContour Utilities    ...     PoolArea PoolQC Fence MiscFeature MiscVal  \\\n",
       "0         Lvl    AllPub    ...            0      0     0           0       0   \n",
       "1         Lvl    AllPub    ...            0      0     0           0       0   \n",
       "2         Lvl    AllPub    ...            0      0     0           0       0   \n",
       "3         Lvl    AllPub    ...            0      0     0           0       0   \n",
       "4         Lvl    AllPub    ...            0      0     0           0       0   \n",
       "\n",
       "  MoSold YrSold  SaleType  SaleCondition  SalePrice  \n",
       "0      2   2008        WD         Normal     208500  \n",
       "1      5   2007        WD         Normal     181500  \n",
       "2      9   2008        WD         Normal     223500  \n",
       "3      2   2006        WD        Abnorml     140000  \n",
       "4     12   2008        WD         Normal     250000  \n",
       "\n",
       "[5 rows x 81 columns]"
      ]
     },
     "execution_count": 1,
     "metadata": {},
     "output_type": "execute_result"
    }
   ],
   "source": [
    "##### Your Code Here #####\n",
    "import pandas as pd\n",
    "import numpy as np\n",
    "import seaborn as sns\n",
    "import matplotlib.pyplot as plt\n",
    "from sklearn.model_selection import train_test_split\n",
    "from sklearn.linear_model import LinearRegression\n",
    "from sklearn.metrics import mean_squared_error, r2_score\n",
    "model = LinearRegression()\n",
    "df = pd.read_csv(\"https://raw.githubusercontent.com/ryanleeallred/datasets/master/Ames%20Housing%20Data/train.csv\")\n",
    "df = df.replace(np.nan,0)\n",
    "df.head()"
   ]
  },
  {
   "cell_type": "code",
   "execution_count": 2,
   "metadata": {},
   "outputs": [],
   "source": [
    "df = df[(df[\"SalePrice\"] <= df[\"SalePrice\"].quantile(.95)) & (df[\"SalePrice\"] >= df[\"SalePrice\"].quantile(.05))]"
   ]
  },
  {
   "cell_type": "code",
   "execution_count": 3,
   "metadata": {},
   "outputs": [],
   "source": [
    "# y = df[\"price\"]\n",
    "# x = df[[\"bedrooms\",\"sqft_lot\"]]\n",
    "def lr(x,y):\n",
    "    \n",
    "    X_train, X_test, Y_train, Y_test = train_test_split(x,y, test_size = 0.1)\n",
    "\n",
    "    m1 = model.fit(X_train, Y_train)\n",
    "\n",
    "    y_test_prediction = model.predict(X_test)\n",
    "    MSE = mean_squared_error(Y_test, y_test_prediction)\n",
    "    RMSE = np.sqrt(mean_squared_error(Y_test, y_test_prediction))\n",
    "    R2 = r2_score(Y_test, y_test_prediction)\n",
    "    return MSE,RMSE,R2,m1.coef_,m1.intercept_\n",
    "    "
   ]
  },
  {
   "cell_type": "code",
   "execution_count": 4,
   "metadata": {},
   "outputs": [
    {
     "data": {
      "text/plain": [
       "array(['Id', 'MSSubClass', 'MSZoning', 'LotFrontage', 'LotArea', 'Street',\n",
       "       'Alley', 'LotShape', 'LandContour', 'Utilities', 'LotConfig',\n",
       "       'LandSlope', 'Neighborhood', 'Condition1', 'Condition2',\n",
       "       'BldgType', 'HouseStyle', 'OverallQual', 'OverallCond',\n",
       "       'YearBuilt', 'YearRemodAdd', 'RoofStyle', 'RoofMatl',\n",
       "       'Exterior1st', 'Exterior2nd', 'MasVnrType', 'MasVnrArea',\n",
       "       'ExterQual', 'ExterCond', 'Foundation', 'BsmtQual', 'BsmtCond',\n",
       "       'BsmtExposure', 'BsmtFinType1', 'BsmtFinSF1', 'BsmtFinType2',\n",
       "       'BsmtFinSF2', 'BsmtUnfSF', 'TotalBsmtSF', 'Heating', 'HeatingQC',\n",
       "       'CentralAir', 'Electrical', '1stFlrSF', '2ndFlrSF', 'LowQualFinSF',\n",
       "       'GrLivArea', 'BsmtFullBath', 'BsmtHalfBath', 'FullBath',\n",
       "       'HalfBath', 'BedroomAbvGr', 'KitchenAbvGr', 'KitchenQual',\n",
       "       'TotRmsAbvGrd', 'Functional', 'Fireplaces', 'FireplaceQu',\n",
       "       'GarageType', 'GarageYrBlt', 'GarageFinish', 'GarageCars',\n",
       "       'GarageArea', 'GarageQual', 'GarageCond', 'PavedDrive',\n",
       "       'WoodDeckSF', 'OpenPorchSF', 'EnclosedPorch', '3SsnPorch',\n",
       "       'ScreenPorch', 'PoolArea', 'PoolQC', 'Fence', 'MiscFeature',\n",
       "       'MiscVal', 'MoSold', 'YrSold', 'SaleType', 'SaleCondition',\n",
       "       'SalePrice', 'lnPrice'], dtype=object)"
      ]
     },
     "execution_count": 4,
     "metadata": {},
     "output_type": "execute_result"
    }
   ],
   "source": [
    "df[\"lnPrice\"] = df[\"SalePrice\"].apply(np.log)\n",
    "y = df[\"lnPrice\"]\n",
    "df.columns.values"
   ]
  },
  {
   "cell_type": "code",
   "execution_count": 5,
   "metadata": {},
   "outputs": [
    {
     "data": {
      "text/plain": [
       "<matplotlib.collections.PathCollection at 0x1a3991b0588>"
      ]
     },
     "execution_count": 5,
     "metadata": {},
     "output_type": "execute_result"
    },
    {
     "data": {
      "image/png": "[encoded data removed]",
      "text/plain": [
       "<Figure size 432x288 with 1 Axes>"
      ]
     },
     "metadata": {},
     "output_type": "display_data"
    }
   ],
   "source": [
    "#plt.scatter(df[\"RoofMatl\"].replace(0,\"\"),df[\"lnPrice\"])\n",
    "\n",
    "plt.scatter(df[\"MSSubClass\"],df[\"lnPrice\"])\n"
   ]
  },
  {
   "cell_type": "code",
   "execution_count": 6,
   "metadata": {},
   "outputs": [
    {
     "data": {
      "text/html": [
       "<div>\n",
       "<style scoped>\n",
       "    .dataframe tbody tr th:only-of-type {\n",
       "        vertical-align: middle;\n",
       "    }\n",
       "\n",
       "    .dataframe tbody tr th {\n",
       "        vertical-align: top;\n",
       "    }\n",
       "\n",
       "    .dataframe thead th {\n",
       "        text-align: right;\n",
       "    }\n",
       "</style>\n",
       "<table border=\"1\" class=\"dataframe\">\n",
       "  <thead>\n",
       "    <tr style=\"text-align: right;\">\n",
       "      <th></th>\n",
       "      <th>Id</th>\n",
       "      <th>MSSubClass</th>\n",
       "      <th>MSZoning</th>\n",
       "      <th>LotFrontage</th>\n",
       "      <th>LotArea</th>\n",
       "      <th>Street</th>\n",
       "      <th>Alley</th>\n",
       "      <th>LotShape</th>\n",
       "      <th>LandContour</th>\n",
       "      <th>Utilities</th>\n",
       "      <th>...</th>\n",
       "      <th>PoolQC</th>\n",
       "      <th>Fence</th>\n",
       "      <th>MiscFeature</th>\n",
       "      <th>MiscVal</th>\n",
       "      <th>MoSold</th>\n",
       "      <th>YrSold</th>\n",
       "      <th>SaleType</th>\n",
       "      <th>SaleCondition</th>\n",
       "      <th>SalePrice</th>\n",
       "      <th>lnPrice</th>\n",
       "    </tr>\n",
       "  </thead>\n",
       "  <tbody>\n",
       "    <tr>\n",
       "      <th>0</th>\n",
       "      <td>1</td>\n",
       "      <td>60</td>\n",
       "      <td>RL</td>\n",
       "      <td>65.0</td>\n",
       "      <td>8450</td>\n",
       "      <td>Pave</td>\n",
       "      <td>0</td>\n",
       "      <td>Reg</td>\n",
       "      <td>Lvl</td>\n",
       "      <td>AllPub</td>\n",
       "      <td>...</td>\n",
       "      <td>0</td>\n",
       "      <td>0</td>\n",
       "      <td>0</td>\n",
       "      <td>0</td>\n",
       "      <td>2</td>\n",
       "      <td>2008</td>\n",
       "      <td>WD</td>\n",
       "      <td>Normal</td>\n",
       "      <td>208500</td>\n",
       "      <td>12.247694</td>\n",
       "    </tr>\n",
       "    <tr>\n",
       "      <th>1</th>\n",
       "      <td>2</td>\n",
       "      <td>20</td>\n",
       "      <td>RL</td>\n",
       "      <td>80.0</td>\n",
       "      <td>9600</td>\n",
       "      <td>Pave</td>\n",
       "      <td>0</td>\n",
       "      <td>Reg</td>\n",
       "      <td>Lvl</td>\n",
       "      <td>AllPub</td>\n",
       "      <td>...</td>\n",
       "      <td>0</td>\n",
       "      <td>0</td>\n",
       "      <td>0</td>\n",
       "      <td>0</td>\n",
       "      <td>5</td>\n",
       "      <td>2007</td>\n",
       "      <td>WD</td>\n",
       "      <td>Normal</td>\n",
       "      <td>181500</td>\n",
       "      <td>12.109011</td>\n",
       "    </tr>\n",
       "    <tr>\n",
       "      <th>2</th>\n",
       "      <td>3</td>\n",
       "      <td>60</td>\n",
       "      <td>RL</td>\n",
       "      <td>68.0</td>\n",
       "      <td>11250</td>\n",
       "      <td>Pave</td>\n",
       "      <td>0</td>\n",
       "      <td>IR1</td>\n",
       "      <td>Lvl</td>\n",
       "      <td>AllPub</td>\n",
       "      <td>...</td>\n",
       "      <td>0</td>\n",
       "      <td>0</td>\n",
       "      <td>0</td>\n",
       "      <td>0</td>\n",
       "      <td>9</td>\n",
       "      <td>2008</td>\n",
       "      <td>WD</td>\n",
       "      <td>Normal</td>\n",
       "      <td>223500</td>\n",
       "      <td>12.317167</td>\n",
       "    </tr>\n",
       "    <tr>\n",
       "      <th>3</th>\n",
       "      <td>4</td>\n",
       "      <td>70</td>\n",
       "      <td>RL</td>\n",
       "      <td>60.0</td>\n",
       "      <td>9550</td>\n",
       "      <td>Pave</td>\n",
       "      <td>0</td>\n",
       "      <td>IR1</td>\n",
       "      <td>Lvl</td>\n",
       "      <td>AllPub</td>\n",
       "      <td>...</td>\n",
       "      <td>0</td>\n",
       "      <td>0</td>\n",
       "      <td>0</td>\n",
       "      <td>0</td>\n",
       "      <td>2</td>\n",
       "      <td>2006</td>\n",
       "      <td>WD</td>\n",
       "      <td>Abnorml</td>\n",
       "      <td>140000</td>\n",
       "      <td>11.849398</td>\n",
       "    </tr>\n",
       "    <tr>\n",
       "      <th>4</th>\n",
       "      <td>5</td>\n",
       "      <td>60</td>\n",
       "      <td>RL</td>\n",
       "      <td>84.0</td>\n",
       "      <td>14260</td>\n",
       "      <td>Pave</td>\n",
       "      <td>0</td>\n",
       "      <td>IR1</td>\n",
       "      <td>Lvl</td>\n",
       "      <td>AllPub</td>\n",
       "      <td>...</td>\n",
       "      <td>0</td>\n",
       "      <td>0</td>\n",
       "      <td>0</td>\n",
       "      <td>0</td>\n",
       "      <td>12</td>\n",
       "      <td>2008</td>\n",
       "      <td>WD</td>\n",
       "      <td>Normal</td>\n",
       "      <td>250000</td>\n",
       "      <td>12.429216</td>\n",
       "    </tr>\n",
       "  </tbody>\n",
       "</table>\n",
       "<p>5 rows × 82 columns</p>\n",
       "</div>"
      ],
      "text/plain": [
       "   Id  MSSubClass MSZoning  LotFrontage  LotArea Street Alley LotShape  \\\n",
       "0   1          60       RL         65.0     8450   Pave     0      Reg   \n",
       "1   2          20       RL         80.0     9600   Pave     0      Reg   \n",
       "2   3          60       RL         68.0    11250   Pave     0      IR1   \n",
       "3   4          70       RL         60.0     9550   Pave     0      IR1   \n",
       "4   5          60       RL         84.0    14260   Pave     0      IR1   \n",
       "\n",
       "  LandContour Utilities    ...     PoolQC Fence MiscFeature MiscVal MoSold  \\\n",
       "0         Lvl    AllPub    ...          0     0           0       0      2   \n",
       "1         Lvl    AllPub    ...          0     0           0       0      5   \n",
       "2         Lvl    AllPub    ...          0     0           0       0      9   \n",
       "3         Lvl    AllPub    ...          0     0           0       0      2   \n",
       "4         Lvl    AllPub    ...          0     0           0       0     12   \n",
       "\n",
       "  YrSold SaleType  SaleCondition  SalePrice    lnPrice  \n",
       "0   2008       WD         Normal     208500  12.247694  \n",
       "1   2007       WD         Normal     181500  12.109011  \n",
       "2   2008       WD         Normal     223500  12.317167  \n",
       "3   2006       WD        Abnorml     140000  11.849398  \n",
       "4   2008       WD         Normal     250000  12.429216  \n",
       "\n",
       "[5 rows x 82 columns]"
      ]
     },
     "execution_count": 6,
     "metadata": {},
     "output_type": "execute_result"
    }
   ],
   "source": [
    "df.head()"
   ]
  },
  {
   "cell_type": "markdown",
   "metadata": {},
   "source": [
    "## neighborhood"
   ]
  },
  {
   "cell_type": "code",
   "execution_count": 7,
   "metadata": {},
   "outputs": [
    {
     "data": {
      "text/plain": [
       "(0.04034673242355372,\n",
       " 0.20086496066649784,\n",
       " 0.5137092641543002,\n",
       " array([-1.5743923e+13, -1.5743923e+13, -1.5743923e+13, -1.5743923e+13,\n",
       "        -1.5743923e+13, -1.5743923e+13, -1.5743923e+13, -1.5743923e+13,\n",
       "        -1.5743923e+13, -1.5743923e+13, -1.5743923e+13, -1.5743923e+13,\n",
       "        -1.5743923e+13, -1.5743923e+13, -1.5743923e+13, -1.5743923e+13,\n",
       "        -1.5743923e+13, -1.5743923e+13, -1.5743923e+13, -1.5743923e+13,\n",
       "        -1.5743923e+13, -1.5743923e+13, -1.5743923e+13, -1.5743923e+13,\n",
       "        -1.5743923e+13]),\n",
       " 15743923022400.076)"
      ]
     },
     "execution_count": 7,
     "metadata": {},
     "output_type": "execute_result"
    }
   ],
   "source": [
    "df_neighborhoods= pd.get_dummies(df[\"Neighborhood\"])\n",
    "\n",
    "\n",
    "lr(x=df_neighborhoods, y = y )"
   ]
  },
  {
   "cell_type": "markdown",
   "metadata": {},
   "source": [
    "## MSZoning"
   ]
  },
  {
   "cell_type": "code",
   "execution_count": 8,
   "metadata": {},
   "outputs": [
    {
     "data": {
      "text/plain": [
       "(0.03131160686493622,\n",
       " 0.176950860028812,\n",
       " 0.5828515775071264,\n",
       " array([1.11205417e+13, 1.11205417e+13, 1.11205417e+13, 1.11205417e+13,\n",
       "        1.11205417e+13, 1.11205417e+13, 1.11205417e+13, 1.11205417e+13,\n",
       "        1.11205417e+13, 1.11205417e+13, 1.11205417e+13, 1.11205417e+13,\n",
       "        1.11205417e+13, 1.11205417e+13, 1.11205417e+13, 1.11205417e+13,\n",
       "        1.11205417e+13, 1.11205417e+13, 1.11205417e+13, 1.11205417e+13,\n",
       "        1.11205417e+13, 1.11205417e+13, 1.11205417e+13, 1.11205417e+13,\n",
       "        1.11205417e+13]),\n",
       " -11120541745056.395)"
      ]
     },
     "execution_count": 8,
     "metadata": {},
     "output_type": "execute_result"
    }
   ],
   "source": [
    "## MSZoning\n",
    "\n",
    "df_MSZoning= pd.get_dummies(df[\"Neighborhood\"])\n",
    "\n",
    "\n",
    "\n",
    "lr(x=df_MSZoning, y = y )"
   ]
  },
  {
   "cell_type": "markdown",
   "metadata": {},
   "source": [
    "## Sale Condition"
   ]
  },
  {
   "cell_type": "code",
   "execution_count": 9,
   "metadata": {},
   "outputs": [
    {
     "data": {
      "text/plain": [
       "(0.08687938160976079,\n",
       " 0.2947530858358582,\n",
       " 0.015514685192319688,\n",
       " array([-0.08051201, -0.20478993, -0.02982882, -0.06035359,  0.05107727,\n",
       "         0.32440708]),\n",
       " 11.954744342877476)"
      ]
     },
     "execution_count": 9,
     "metadata": {},
     "output_type": "execute_result"
    }
   ],
   "source": [
    "df_SaleCondition= pd.get_dummies(df[\"SaleCondition\"])\n",
    "\n",
    "\n",
    "lr(x=df_SaleCondition, y = y )"
   ]
  },
  {
   "cell_type": "markdown",
   "metadata": {},
   "source": [
    "## Has Pool"
   ]
  },
  {
   "cell_type": "code",
   "execution_count": 10,
   "metadata": {},
   "outputs": [
    {
     "data": {
      "text/plain": [
       "(0.09910963650594978,\n",
       " 0.31481683008687733,\n",
       " -5.003295056704715e-06,\n",
       " array([0.22410603]),\n",
       " 12.019156386213842)"
      ]
     },
     "execution_count": 10,
     "metadata": {},
     "output_type": "execute_result"
    }
   ],
   "source": [
    "df_hasPool = df[\"PoolArea\"].apply(lambda x: 1 if x>0 else 0)\n",
    "\n",
    "\n",
    "lr(x=np.array(df_hasPool).reshape(-1,1), y = y )"
   ]
  },
  {
   "cell_type": "markdown",
   "metadata": {},
   "source": [
    "## HouseSTyle"
   ]
  },
  {
   "cell_type": "code",
   "execution_count": 11,
   "metadata": {},
   "outputs": [
    {
     "data": {
      "text/plain": [
       "(0.08753682519416314,\n",
       " 0.2958662285462184,\n",
       " 0.0915027799021415,\n",
       " array([-0.08315689, -0.20088017, -0.02591907, -0.05746212,  0.05945194,\n",
       "         0.3079663 ]),\n",
       " 11.950834584461585)"
      ]
     },
     "execution_count": 11,
     "metadata": {},
     "output_type": "execute_result"
    }
   ],
   "source": [
    "df_HouseStyle = pd.get_dummies(df[\"HouseStyle\"])\n",
    "\n",
    "\n",
    "lr(x=df_SaleCondition, y = y )"
   ]
  },
  {
   "cell_type": "markdown",
   "metadata": {},
   "source": [
    "## OverallCond"
   ]
  },
  {
   "cell_type": "code",
   "execution_count": 12,
   "metadata": {},
   "outputs": [
    {
     "data": {
      "text/plain": [
       "(0.08341530039772556,\n",
       " 0.28881707082117836,\n",
       " 0.07067475472003681,\n",
       " array([-0.16482858, -0.18847877,  0.17806632, -0.01004956,  0.01008195,\n",
       "        -0.02021166,  0.19542029]),\n",
       " 11.927251430084382)"
      ]
     },
     "execution_count": 12,
     "metadata": {},
     "output_type": "execute_result"
    }
   ],
   "source": [
    "df_OverallCond = pd.get_dummies(df[\"OverallCond\"])\n",
    "\n",
    "\n",
    "lr(x=df_OverallCond, y = y )"
   ]
  },
  {
   "cell_type": "markdown",
   "metadata": {},
   "source": [
    "## OverallQual"
   ]
  },
  {
   "cell_type": "code",
   "execution_count": 13,
   "metadata": {},
   "outputs": [
    {
     "data": {
      "text/plain": [
       "(0.03443563272925908,\n",
       " 0.1855684044476836,\n",
       " 0.6115805830237688,\n",
       " array([ 0.01524921,  0.20840802, -0.00291607]),\n",
       " 10.770954815894992)"
      ]
     },
     "execution_count": 13,
     "metadata": {},
     "output_type": "execute_result"
    }
   ],
   "source": [
    "lr(x=pd.concat([df[\"OverallCond\"], df[\"OverallQual\"],df[\"OverallCond\"] * df[\"OverallQual\"]], axis=1), y = y )"
   ]
  },
  {
   "cell_type": "code",
   "execution_count": 14,
   "metadata": {},
   "outputs": [
    {
     "data": {
      "text/plain": [
       "(0.03452477416040799,\n",
       " 0.18580843404002947,\n",
       " 0.6125809908944742,\n",
       " array([0.19161722]),\n",
       " 10.858802401493914)"
      ]
     },
     "execution_count": 14,
     "metadata": {},
     "output_type": "execute_result"
    }
   ],
   "source": [
    "lr(x=pd.concat([df[\"OverallQual\"]],axis=1),y=y)"
   ]
  },
  {
   "cell_type": "code",
   "execution_count": 15,
   "metadata": {},
   "outputs": [
    {
     "data": {
      "text/plain": [
       "(0.06134626390715,\n",
       " 0.2476817795219301,\n",
       " 0.2668586130569721,\n",
       " array([0.08353705]),\n",
       " 11.478908505627594)"
      ]
     },
     "execution_count": 15,
     "metadata": {},
     "output_type": "execute_result"
    }
   ],
   "source": [
    "lr(x=pd.concat([df[\"TotRmsAbvGrd\"]],axis=1),y=y)"
   ]
  },
  {
   "cell_type": "code",
   "execution_count": 16,
   "metadata": {},
   "outputs": [
    {
     "data": {
      "text/plain": [
       "0        7\n",
       "1        6\n",
       "2        7\n",
       "3        7\n",
       "4        8\n",
       "5        5\n",
       "6        8\n",
       "7        7\n",
       "8        7\n",
       "9        5\n",
       "10       5\n",
       "12       5\n",
       "13       7\n",
       "14       6\n",
       "15       7\n",
       "16       6\n",
       "17       4\n",
       "18       5\n",
       "19       5\n",
       "20       8\n",
       "21       7\n",
       "22       8\n",
       "23       5\n",
       "24       5\n",
       "25       8\n",
       "26       5\n",
       "27       8\n",
       "28       5\n",
       "31       5\n",
       "32       8\n",
       "        ..\n",
       "1427     5\n",
       "1428     5\n",
       "1429     6\n",
       "1430     5\n",
       "1431     6\n",
       "1433     6\n",
       "1434     5\n",
       "1435     6\n",
       "1436     4\n",
       "1438     6\n",
       "1439     7\n",
       "1440     6\n",
       "1441     6\n",
       "1442    10\n",
       "1443     6\n",
       "1444     7\n",
       "1445     6\n",
       "1446     5\n",
       "1447     8\n",
       "1448     4\n",
       "1449     5\n",
       "1450     5\n",
       "1451     8\n",
       "1452     5\n",
       "1454     7\n",
       "1455     6\n",
       "1456     6\n",
       "1457     7\n",
       "1458     5\n",
       "1459     5\n",
       "Name: OverallQual, Length: 1316, dtype: int64"
      ]
     },
     "execution_count": 16,
     "metadata": {},
     "output_type": "execute_result"
    }
   ],
   "source": [
    "#Thermometer\n",
    "#df_OverallQual.head()\n",
    "df[\"OverallQual\"]"
   ]
  },
  {
   "cell_type": "markdown",
   "metadata": {},
   "source": [
    "## Exterior Quality"
   ]
  },
  {
   "cell_type": "code",
   "execution_count": 17,
   "metadata": {},
   "outputs": [
    {
     "data": {
      "text/plain": [
       "(0.05758743895472296,\n",
       " 0.23997382972883305,\n",
       " 0.36175321446186914,\n",
       " array([ 0.39465956, -0.37570435,  0.18533088, -0.20428609]),\n",
       " 12.081335352491667)"
      ]
     },
     "execution_count": 17,
     "metadata": {},
     "output_type": "execute_result"
    }
   ],
   "source": [
    "df_ExterQual = pd.get_dummies(df[\"ExterQual\"])\n",
    "\n",
    "\n",
    "lr(x=df_ExterQual, y = y )"
   ]
  },
  {
   "cell_type": "code",
   "execution_count": 18,
   "metadata": {},
   "outputs": [
    {
     "ename": "NameError",
     "evalue": "name 'df_OverallQual' is not defined",
     "output_type": "error",
     "traceback": [
      "\u001b[1;31m---------------------------------------------------------------------------\u001b[0m",
      "\u001b[1;31mNameError\u001b[0m                                 Traceback (most recent call last)",
      "\u001b[1;32m<ipython-input-18-ae7895bc03b8>\u001b[0m in \u001b[0;36m<module>\u001b[1;34m()\u001b[0m\n\u001b[1;32m----> 1\u001b[1;33m \u001b[0mlr\u001b[0m\u001b[1;33m(\u001b[0m\u001b[0mx\u001b[0m\u001b[1;33m=\u001b[0m\u001b[0mpd\u001b[0m\u001b[1;33m.\u001b[0m\u001b[0mconcat\u001b[0m\u001b[1;33m(\u001b[0m\u001b[1;33m[\u001b[0m\u001b[0mdf_ExterQual\u001b[0m\u001b[1;33m,\u001b[0m\u001b[0mdf_OverallQual\u001b[0m\u001b[1;33m]\u001b[0m\u001b[1;33m,\u001b[0m\u001b[0maxis\u001b[0m\u001b[1;33m=\u001b[0m\u001b[1;36m1\u001b[0m\u001b[1;33m)\u001b[0m\u001b[1;33m,\u001b[0m \u001b[0my\u001b[0m \u001b[1;33m=\u001b[0m \u001b[0my\u001b[0m \u001b[1;33m)\u001b[0m\u001b[1;33m\u001b[0m\u001b[0m\n\u001b[0m",
      "\u001b[1;31mNameError\u001b[0m: name 'df_OverallQual' is not defined"
     ]
    }
   ],
   "source": [
    "lr(x=pd.concat([df_ExterQual,df_OverallQual],axis=1), y = y )"
   ]
  },
  {
   "cell_type": "markdown",
   "metadata": {},
   "source": [
    "## Year Sold"
   ]
  },
  {
   "cell_type": "code",
   "execution_count": 19,
   "metadata": {},
   "outputs": [
    {
     "data": {
      "text/plain": [
       "(0.09954122264137877,\n",
       " 0.3155015414247271,\n",
       " -0.006676005839779897,\n",
       " array([ 0.00171052,  0.01268272,  0.00021603, -0.00877577, -0.00583349]),\n",
       " 12.01639911121054)"
      ]
     },
     "execution_count": 19,
     "metadata": {},
     "output_type": "execute_result"
    }
   ],
   "source": [
    "df_YearSold = pd.get_dummies(df[\"YrSold\"])\n",
    "\n",
    "\n",
    "lr(x=df_YearSold, y = y )"
   ]
  },
  {
   "cell_type": "markdown",
   "metadata": {},
   "source": [
    "## BLDGType"
   ]
  },
  {
   "cell_type": "code",
   "execution_count": 20,
   "metadata": {},
   "outputs": [
    {
     "data": {
      "text/plain": [
       "(0.08341446124463543,\n",
       " 0.2888156180760234,\n",
       " 0.04703361127059014,\n",
       " array([-2.71866646e+13, -2.71866646e+13, -2.71866646e+13, -2.71866646e+13,\n",
       "        -2.71866646e+13]),\n",
       " 27186664582641.836)"
      ]
     },
     "execution_count": 20,
     "metadata": {},
     "output_type": "execute_result"
    }
   ],
   "source": [
    "df_BldgType = pd.get_dummies(df[\"BldgType\"])\n",
    "\n",
    "\n",
    "lr(x=df_BldgType, y = y )"
   ]
  },
  {
   "cell_type": "code",
   "execution_count": 21,
   "metadata": {},
   "outputs": [
    {
     "data": {
      "text/plain": [
       "(0.06526014366565698,\n",
       " 0.25546064993586975,\n",
       " 0.20922743698623125,\n",
       " array([ 0.13864367, -0.241056  ,  0.03291163, -0.14482644,  0.21432715]),\n",
       " 12.082876709595073)"
      ]
     },
     "execution_count": 21,
     "metadata": {},
     "output_type": "execute_result"
    }
   ],
   "source": [
    "df[\"MasVnrType\"]= df[\"MasVnrType\"].replace(0,\"\")\n",
    "df_MasVnrType = pd.get_dummies(df[\"MasVnrType\"])\n",
    "\n",
    "\n",
    "lr(x=df_MasVnrType, y = y )"
   ]
  },
  {
   "cell_type": "markdown",
   "metadata": {},
   "source": [
    "## ScreenPorch"
   ]
  },
  {
   "cell_type": "code",
   "execution_count": 22,
   "metadata": {},
   "outputs": [
    {
     "data": {
      "text/plain": [
       "(0.09811812854630353,\n",
       " 0.31323813392737404,\n",
       " 0.013055217499992944,\n",
       " array([ 0.00125697, -0.16088514]),\n",
       " 12.01416988594431)"
      ]
     },
     "execution_count": 22,
     "metadata": {},
     "output_type": "execute_result"
    }
   ],
   "source": [
    "df_hasScreenPorch = df[\"ScreenPorch\"].apply(lambda x : 1 if x >0 else 0)\n",
    "df_SP = pd.concat([df[\"ScreenPorch\"],df_hasScreenPorch],axis=1 )\n",
    "\n",
    "\n",
    "lr(x=df_SP, y = y )"
   ]
  },
  {
   "cell_type": "code",
   "execution_count": 23,
   "metadata": {},
   "outputs": [
    {
     "data": {
      "text/plain": [
       "(0.09088543561616208,\n",
       " 0.30147211416010283,\n",
       " 0.03092123106235478,\n",
       " array([3.64658939e+13, 3.64658939e+13, 3.64658939e+13, 3.64658939e+13,\n",
       "        3.64658939e+13, 3.64658939e+13, 3.64658939e+13, 3.64658939e+13,\n",
       "        3.64658939e+13]),\n",
       " -36465893928197.625)"
      ]
     },
     "execution_count": 23,
     "metadata": {},
     "output_type": "execute_result"
    }
   ],
   "source": [
    "df_Condition1 = pd.get_dummies(df[\"Condition1\"])\n",
    "\n",
    "\n",
    "lr(x=df_Condition1, y = y )\n"
   ]
  },
  {
   "cell_type": "code",
   "execution_count": null,
   "metadata": {},
   "outputs": [],
   "source": []
  },
  {
   "cell_type": "markdown",
   "metadata": {},
   "source": [
    "LotShape"
   ]
  },
  {
   "cell_type": "code",
   "execution_count": 24,
   "metadata": {},
   "outputs": [
    {
     "data": {
      "text/plain": [
       "(0.0845250874017544,\n",
       " 0.29073198551544754,\n",
       " 0.08128408096581496,\n",
       " array([-0.00804731,  0.05846558,  0.14359423, -0.1940125 ]),\n",
       " 12.147592422024566)"
      ]
     },
     "execution_count": 24,
     "metadata": {},
     "output_type": "execute_result"
    }
   ],
   "source": [
    "df_LotShape =  pd.get_dummies(df[\"LotShape\"])\n",
    "\n",
    "\n",
    "\n",
    "lr(x=df_LotShape, y = y )"
   ]
  },
  {
   "cell_type": "markdown",
   "metadata": {},
   "source": [
    "## LotConfig"
   ]
  },
  {
   "cell_type": "code",
   "execution_count": null,
   "metadata": {},
   "outputs": [],
   "source": []
  },
  {
   "cell_type": "code",
   "execution_count": 26,
   "metadata": {},
   "outputs": [
    {
     "ename": "SyntaxError",
     "evalue": "invalid syntax (<ipython-input-26-d6ddc6afc487>, line 1)",
     "output_type": "error",
     "traceback": [
      "\u001b[1;36m  File \u001b[1;32m\"<ipython-input-26-d6ddc6afc487>\"\u001b[1;36m, line \u001b[1;32m1\u001b[0m\n\u001b[1;33m    df_LandShape =  df[\"df_LandShape\"y(lambda x : 1 if x >0 else 0)\u001b[0m\n\u001b[1;37m                                     ^\u001b[0m\n\u001b[1;31mSyntaxError\u001b[0m\u001b[1;31m:\u001b[0m invalid syntax\n"
     ]
    }
   ],
   "source": [
    "df_LandShape =  df[\"df_LandShape\"y(lambda x : 1 if x >0 else 0)\n",
    "\n",
    "\n",
    "\n",
    "lr(x=df_LotConfig, y = y )"
   ]
  },
  {
   "cell_type": "markdown",
   "metadata": {},
   "source": [
    "# Basics"
   ]
  },
  {
   "cell_type": "code",
   "execution_count": 27,
   "metadata": {},
   "outputs": [
    {
     "data": {
      "text/plain": [
       "(0.05743455049659471,\n",
       " 0.23965506566019987,\n",
       " 0.3849871945903064,\n",
       " array([0.27285358]),\n",
       " 11.537331888546085)"
      ]
     },
     "execution_count": 27,
     "metadata": {},
     "output_type": "execute_result"
    }
   ],
   "source": [
    "lr(x=np.array(df[\"GarageCars\"]).reshape(-1,1), y = y )"
   ]
  },
  {
   "cell_type": "code",
   "execution_count": 28,
   "metadata": {},
   "outputs": [
    {
     "data": {
      "text/plain": [
       "(0.07009174895643738,\n",
       " 0.26474846355821857,\n",
       " 0.23134346192219557,\n",
       " array([0.19978062]),\n",
       " 11.898180639410766)"
      ]
     },
     "execution_count": 28,
     "metadata": {},
     "output_type": "execute_result"
    }
   ],
   "source": [
    "lr(x=np.array(df[\"Fireplaces\"]).reshape(-1,1), y = y )"
   ]
  },
  {
   "cell_type": "code",
   "execution_count": 29,
   "metadata": {},
   "outputs": [
    {
     "data": {
      "text/plain": [
       "(0.1026498184381362,\n",
       " 0.32039010352714736,\n",
       " -0.004381273581241629,\n",
       " array([-0.00044855]),\n",
       " 12.048338606311987)"
      ]
     },
     "execution_count": 29,
     "metadata": {},
     "output_type": "execute_result"
    }
   ],
   "source": [
    "lr(x=np.array(df[\"MSSubClass\"]).reshape(-1,1), y = y )"
   ]
  },
  {
   "cell_type": "code",
   "execution_count": 30,
   "metadata": {},
   "outputs": [
    {
     "data": {
      "text/plain": [
       "(0.059189320025874646,\n",
       " 0.2432885530103598,\n",
       " 0.4172076685172774,\n",
       " array([0.30666147, 0.12503234]),\n",
       " 11.48865579265501)"
      ]
     },
     "execution_count": 30,
     "metadata": {},
     "output_type": "execute_result"
    }
   ],
   "source": [
    "lr(x=df[[\"FullBath\",\"HalfBath\"]],y=y)"
   ]
  },
  {
   "cell_type": "code",
   "execution_count": 31,
   "metadata": {},
   "outputs": [
    {
     "data": {
      "text/plain": [
       "(0.04983510889365201,\n",
       " 0.22323778554190152,\n",
       " 0.4122273267142129,\n",
       " array([0.20448704]),\n",
       " 11.525870430258138)"
      ]
     },
     "execution_count": 31,
     "metadata": {},
     "output_type": "execute_result"
    }
   ],
   "source": [
    "\n",
    "baths = df[\"BsmtFullBath\"]+df[\"BsmtHalfBath\"]+df[\"FullBath\"]+df[\"HalfBath\"]\n",
    "\n",
    "\n",
    "lr(x=np.array(baths).reshape(-1,1), y = y )"
   ]
  },
  {
   "cell_type": "code",
   "execution_count": 32,
   "metadata": {},
   "outputs": [
    {
     "data": {
      "text/plain": [
       "(0.0926870726488948,\n",
       " 0.30444551671669395,\n",
       " -0.017768521438608964,\n",
       " array([ 0.08712516, -0.10054511, -0.13188899, -0.01741435, -0.04572979,\n",
       "         0.20845309]),\n",
       " 12.103155038705571)"
      ]
     },
     "execution_count": 32,
     "metadata": {},
     "output_type": "execute_result"
    }
   ],
   "source": [
    "df_roof= pd.get_dummies(df[\"RoofStyle\"])\n",
    "lr(x=df_roof, y = y )"
   ]
  },
  {
   "cell_type": "markdown",
   "metadata": {},
   "source": [
    "## Central Air"
   ]
  },
  {
   "cell_type": "code",
   "execution_count": 33,
   "metadata": {},
   "outputs": [
    {
     "data": {
      "text/plain": [
       "(0.08812658846508496,\n",
       " 0.2968612276217374,\n",
       " 0.03675312648682383,\n",
       " array([0.33145712]),\n",
       " 11.707007881149465)"
      ]
     },
     "execution_count": 33,
     "metadata": {},
     "output_type": "execute_result"
    }
   ],
   "source": [
    "df['CentralAir']=df['CentralAir'].replace(\"N\",0)\n",
    "df['CentralAir']=df['CentralAir'].replace(\"Y\",1)\n",
    "lr(np.array(df[\"CentralAir\"]).reshape(-1,1),y)"
   ]
  },
  {
   "cell_type": "code",
   "execution_count": 34,
   "metadata": {},
   "outputs": [
    {
     "data": {
      "text/plain": [
       "(0.08900236394130685,\n",
       " 0.2983326397518496,\n",
       " 0.027770314622972636,\n",
       " array([0.05459275]),\n",
       " 11.86475609475261)"
      ]
     },
     "execution_count": 34,
     "metadata": {},
     "output_type": "execute_result"
    }
   ],
   "source": [
    "lr(np.array(df[\"BedroomAbvGr\"]).reshape(-1,1),y)"
   ]
  },
  {
   "cell_type": "markdown",
   "metadata": {},
   "source": [
    "# SQFT Calcs"
   ]
  },
  {
   "cell_type": "code",
   "execution_count": 35,
   "metadata": {},
   "outputs": [
    {
     "data": {
      "text/plain": [
       "(0.0656018342324537,\n",
       " 0.2561285502095651,\n",
       " 0.22244968839916068,\n",
       " array([ 0.06197042, -0.00045211]),\n",
       " 10.463793253146086)"
      ]
     },
     "execution_count": 35,
     "metadata": {},
     "output_type": "execute_result"
    }
   ],
   "source": [
    "sq1f= df[[\"1stFlrSF\"]]**0.5\n",
    "f1 = pd.concat([sq1f,df[\"1stFlrSF\"]],axis=1)\n",
    "lr(f1, df[\"lnPrice\"])"
   ]
  },
  {
   "cell_type": "code",
   "execution_count": 36,
   "metadata": {},
   "outputs": [
    {
     "data": {
      "text/plain": [
       "(0.08439059645068514,\n",
       " 0.2905005963000509,\n",
       " 0.061559328267983604,\n",
       " array([-0.04042208,  0.00152849]),\n",
       " 11.986311136276203)"
      ]
     },
     "execution_count": 36,
     "metadata": {},
     "output_type": "execute_result"
    }
   ],
   "source": [
    "sq2f= df[[\"2ndFlrSF\"]]**0.5\n",
    "f2 = pd.concat([sq2f,df[\"2ndFlrSF\"]],axis=1)\n",
    "lr(f2 , df[\"lnPrice\"])"
   ]
  },
  {
   "cell_type": "code",
   "execution_count": 37,
   "metadata": {},
   "outputs": [
    {
     "data": {
      "text/plain": [
       "(0.0372704633149649,\n",
       " 0.19305559643523648,\n",
       " 0.4807628663652349,\n",
       " array([0.00059338]),\n",
       " 11.267061950215792)"
      ]
     },
     "execution_count": 37,
     "metadata": {},
     "output_type": "execute_result"
    }
   ],
   "source": [
    "f12 = df[\"1stFlrSF\"]+df[\"2ndFlrSF\"]\n",
    "euc_f12 = np.sqrt(df[\"1stFlrSF\"]**2+df[\"2ndFlrSF\"]**2)\n",
    "lr(np.array(euc_f12).reshape(-1,1) , df[\"lnPrice\"])"
   ]
  },
  {
   "cell_type": "code",
   "execution_count": 38,
   "metadata": {},
   "outputs": [
    {
     "data": {
      "text/plain": [
       "(0.09274881381625795,\n",
       " 0.3045468992064407,\n",
       " 0.009942823182248928,\n",
       " array([ 1.43144512e-03, -1.95872606e-06]),\n",
       " 11.927384168282758)"
      ]
     },
     "execution_count": 38,
     "metadata": {},
     "output_type": "execute_result"
    }
   ],
   "source": [
    "wd = df[\"WoodDeckSF\"]\n",
    "wd2 = wd**2\n",
    "wd= pd.concat([wd,wd2],axis=1)\n",
    "lr(wd, df[\"lnPrice\"])"
   ]
  },
  {
   "cell_type": "code",
   "execution_count": 39,
   "metadata": {},
   "outputs": [],
   "source": [
    "sqfteq = pd.concat([df[\"1stFlrSF\"],df[\"1stFlrSF\"]**2,df[\"2ndFlrSF\"],df[\"2ndFlrSF\"]**2,df[\"1stFlrSF\"]*df[\"2ndFlrSF\"]],axis=1)"
   ]
  },
  {
   "cell_type": "code",
   "execution_count": 40,
   "metadata": {},
   "outputs": [
    {
     "data": {
      "text/plain": [
       "(0.038710057812314645,\n",
       " 0.1967487174349928,\n",
       " 0.5489919531311386,\n",
       " array([ 1.02652201e-03, -1.21060039e-07,  6.68802880e-04,  2.41339412e-07,\n",
       "        -4.81202313e-07]),\n",
       " 10.883755119331097)"
      ]
     },
     "execution_count": 40,
     "metadata": {},
     "output_type": "execute_result"
    }
   ],
   "source": [
    "lr(sqfteq,y)"
   ]
  },
  {
   "cell_type": "code",
   "execution_count": null,
   "metadata": {},
   "outputs": [],
   "source": []
  },
  {
   "cell_type": "markdown",
   "metadata": {},
   "source": [
    "## Multi"
   ]
  },
  {
   "cell_type": "code",
   "execution_count": 41,
   "metadata": {},
   "outputs": [],
   "source": [
    "#df_neighborhoods, df_hasPool,df_SaleCondition,df_MSZoning"
   ]
  },
  {
   "cell_type": "code",
   "execution_count": 55,
   "metadata": {},
   "outputs": [
    {
     "data": {
      "text/plain": [
       "(0.014349519620171341,\n",
       " 0.11978948042366383,\n",
       " 0.8291983231550453,\n",
       " array([-1.91601936e+06, -1.91601952e+06, -1.91601955e+06, -1.91601937e+06,\n",
       "        -1.91601924e+06, -1.91601928e+06, -1.91601925e+06, -1.91601942e+06,\n",
       "        -1.91601931e+06, -1.91601940e+06, -1.91601952e+06, -1.91601937e+06,\n",
       "        -1.91601939e+06, -1.91601947e+06, -1.91601937e+06, -1.91601921e+06,\n",
       "        -1.91601920e+06, -1.91601947e+06, -1.91601941e+06, -1.91601937e+06,\n",
       "        -1.91601933e+06, -1.91601925e+06, -1.91601926e+06, -1.91601928e+06,\n",
       "        -1.91601924e+06,  6.52198082e-04, -1.20654381e-07,  2.49350934e-04,\n",
       "         1.18923767e-07, -1.68542598e-07,  5.78429825e-04, -7.47892719e-02,\n",
       "         4.86244365e-02,  7.14682222e-02,  5.29367234e-02,  1.04322953e-01,\n",
       "        -4.38452596e-03,  3.00150665e-02, -1.38062299e-02,  1.50944192e-01]),\n",
       " 1916030.0304281341)"
      ]
     },
     "execution_count": 55,
     "metadata": {},
     "output_type": "execute_result"
    }
   ],
   "source": [
    "df_multi= pd.concat([df_neighborhoods,sqfteq,df_SP,df[\"GarageCars\"],df[\"OverallQual\"],baths, df[\"CentralAir\"],\\\n",
    "                     df[\"TotRmsAbvGrd\"],df[\"Fireplaces\"],df[\"BedroomAbvGr\"], df_hasPool ],axis=1)\n",
    "\n",
    "\n",
    "lr(df_multi, df[\"lnPrice\"])"
   ]
  },
  {
   "cell_type": "code",
   "execution_count": 47,
   "metadata": {},
   "outputs": [
    {
     "data": {
      "text/plain": [
       "(0.0108109572195756,\n",
       " 0.10397575303682874,\n",
       " 0.8764178553578224,\n",
       " array([-1.12612777e+06, -1.12612791e+06, -1.12612796e+06, -1.12612778e+06,\n",
       "        -1.12612765e+06, -1.12612769e+06, -1.12612768e+06, -1.12612783e+06,\n",
       "        -1.12612772e+06, -1.12612782e+06, -1.12612792e+06, -1.12612777e+06,\n",
       "        -1.12612780e+06, -1.12612788e+06, -1.12612778e+06, -1.12612764e+06,\n",
       "        -1.12612762e+06, -1.12612786e+06, -1.12612781e+06, -1.12612779e+06,\n",
       "        -1.12612776e+06, -1.12612767e+06, -1.12612769e+06, -1.12612770e+06,\n",
       "        -1.12612766e+06,  6.56179687e-04, -1.20426857e-07,  2.56303136e-04,\n",
       "         1.16674439e-07, -1.62383738e-07,  3.54786806e-04, -3.79661157e-02,\n",
       "         4.84845267e-02,  7.64329905e-02,  4.91160699e-02,  9.66086719e-02,\n",
       "        -7.31096471e-03,  2.98098461e-02, -1.11106072e-02,  8.46611377e-02]),\n",
       " 1126138.4313885944)"
      ]
     },
     "execution_count": 47,
     "metadata": {},
     "output_type": "execute_result"
    }
   ],
   "source": [
    "df_multi1= pd.concat([df_MSZoning, sqfteq,df_SP,df[\"GarageCars\"],df[\"OverallQual\"],baths, df[\"CentralAir\"],\\\n",
    "                     df[\"TotRmsAbvGrd\"],df[\"Fireplaces\"],df[\"BedroomAbvGr\"], df_hasPool ],axis=1)\n",
    "\n",
    "\n",
    "lr(df_multi1, df[\"lnPrice\"])"
   ]
  },
  {
   "cell_type": "code",
   "execution_count": 44,
   "metadata": {},
   "outputs": [
    {
     "data": {
      "text/plain": [
       "(0.02600620136751481,\n",
       " 0.16126438344381816,\n",
       " 0.71069630734855,\n",
       " array([1.26976352e-01, 5.16178421e-05, 6.99690181e-05, 4.84059934e-06,\n",
       "        1.41728827e-04, 7.38786346e-03, 3.04553695e-04]),\n",
       " 10.749092558694631)"
      ]
     },
     "execution_count": 44,
     "metadata": {},
     "output_type": "execute_result"
    }
   ],
   "source": [
    "df_Samir = df[[\"OverallQual\", \"BsmtFinSF1\", \"TotalBsmtSF\", \"1stFlrSF\",  \"GrLivArea\", \"TotRmsAbvGrd\", \"GarageArea\"]]\n",
    "lr(df_Samir,y)"
   ]
  },
  {
   "cell_type": "code",
   "execution_count": 45,
   "metadata": {},
   "outputs": [
    {
     "data": {
      "text/html": [
       "<div>\n",
       "<style scoped>\n",
       "    .dataframe tbody tr th:only-of-type {\n",
       "        vertical-align: middle;\n",
       "    }\n",
       "\n",
       "    .dataframe tbody tr th {\n",
       "        vertical-align: top;\n",
       "    }\n",
       "\n",
       "    .dataframe thead th {\n",
       "        text-align: right;\n",
       "    }\n",
       "</style>\n",
       "<table border=\"1\" class=\"dataframe\">\n",
       "  <thead>\n",
       "    <tr style=\"text-align: right;\">\n",
       "      <th></th>\n",
       "      <th>Blmngtn</th>\n",
       "      <th>Blueste</th>\n",
       "      <th>BrDale</th>\n",
       "      <th>BrkSide</th>\n",
       "      <th>ClearCr</th>\n",
       "      <th>CollgCr</th>\n",
       "      <th>Crawfor</th>\n",
       "      <th>Edwards</th>\n",
       "      <th>Gilbert</th>\n",
       "      <th>IDOTRR</th>\n",
       "      <th>...</th>\n",
       "      <th>ScreenPorch</th>\n",
       "      <th>ScreenPorch</th>\n",
       "      <th>GarageCars</th>\n",
       "      <th>OverallQual</th>\n",
       "      <th>0</th>\n",
       "      <th>CentralAir</th>\n",
       "      <th>TotRmsAbvGrd</th>\n",
       "      <th>Fireplaces</th>\n",
       "      <th>BedroomAbvGr</th>\n",
       "      <th>PoolArea</th>\n",
       "    </tr>\n",
       "  </thead>\n",
       "  <tbody>\n",
       "    <tr>\n",
       "      <th>0</th>\n",
       "      <td>0</td>\n",
       "      <td>0</td>\n",
       "      <td>0</td>\n",
       "      <td>0</td>\n",
       "      <td>0</td>\n",
       "      <td>1</td>\n",
       "      <td>0</td>\n",
       "      <td>0</td>\n",
       "      <td>0</td>\n",
       "      <td>0</td>\n",
       "      <td>...</td>\n",
       "      <td>0</td>\n",
       "      <td>0</td>\n",
       "      <td>2</td>\n",
       "      <td>7</td>\n",
       "      <td>4</td>\n",
       "      <td>1</td>\n",
       "      <td>8</td>\n",
       "      <td>0</td>\n",
       "      <td>3</td>\n",
       "      <td>0</td>\n",
       "    </tr>\n",
       "    <tr>\n",
       "      <th>1</th>\n",
       "      <td>0</td>\n",
       "      <td>0</td>\n",
       "      <td>0</td>\n",
       "      <td>0</td>\n",
       "      <td>0</td>\n",
       "      <td>0</td>\n",
       "      <td>0</td>\n",
       "      <td>0</td>\n",
       "      <td>0</td>\n",
       "      <td>0</td>\n",
       "      <td>...</td>\n",
       "      <td>0</td>\n",
       "      <td>0</td>\n",
       "      <td>2</td>\n",
       "      <td>6</td>\n",
       "      <td>3</td>\n",
       "      <td>1</td>\n",
       "      <td>6</td>\n",
       "      <td>1</td>\n",
       "      <td>3</td>\n",
       "      <td>0</td>\n",
       "    </tr>\n",
       "    <tr>\n",
       "      <th>2</th>\n",
       "      <td>0</td>\n",
       "      <td>0</td>\n",
       "      <td>0</td>\n",
       "      <td>0</td>\n",
       "      <td>0</td>\n",
       "      <td>1</td>\n",
       "      <td>0</td>\n",
       "      <td>0</td>\n",
       "      <td>0</td>\n",
       "      <td>0</td>\n",
       "      <td>...</td>\n",
       "      <td>0</td>\n",
       "      <td>0</td>\n",
       "      <td>2</td>\n",
       "      <td>7</td>\n",
       "      <td>4</td>\n",
       "      <td>1</td>\n",
       "      <td>6</td>\n",
       "      <td>1</td>\n",
       "      <td>3</td>\n",
       "      <td>0</td>\n",
       "    </tr>\n",
       "    <tr>\n",
       "      <th>3</th>\n",
       "      <td>0</td>\n",
       "      <td>0</td>\n",
       "      <td>0</td>\n",
       "      <td>0</td>\n",
       "      <td>0</td>\n",
       "      <td>0</td>\n",
       "      <td>1</td>\n",
       "      <td>0</td>\n",
       "      <td>0</td>\n",
       "      <td>0</td>\n",
       "      <td>...</td>\n",
       "      <td>0</td>\n",
       "      <td>0</td>\n",
       "      <td>3</td>\n",
       "      <td>7</td>\n",
       "      <td>2</td>\n",
       "      <td>1</td>\n",
       "      <td>7</td>\n",
       "      <td>1</td>\n",
       "      <td>3</td>\n",
       "      <td>0</td>\n",
       "    </tr>\n",
       "    <tr>\n",
       "      <th>4</th>\n",
       "      <td>0</td>\n",
       "      <td>0</td>\n",
       "      <td>0</td>\n",
       "      <td>0</td>\n",
       "      <td>0</td>\n",
       "      <td>0</td>\n",
       "      <td>0</td>\n",
       "      <td>0</td>\n",
       "      <td>0</td>\n",
       "      <td>0</td>\n",
       "      <td>...</td>\n",
       "      <td>0</td>\n",
       "      <td>0</td>\n",
       "      <td>3</td>\n",
       "      <td>8</td>\n",
       "      <td>4</td>\n",
       "      <td>1</td>\n",
       "      <td>9</td>\n",
       "      <td>1</td>\n",
       "      <td>4</td>\n",
       "      <td>0</td>\n",
       "    </tr>\n",
       "  </tbody>\n",
       "</table>\n",
       "<p>5 rows × 40 columns</p>\n",
       "</div>"
      ],
      "text/plain": [
       "   Blmngtn  Blueste  BrDale  BrkSide  ClearCr  CollgCr  Crawfor  Edwards  \\\n",
       "0        0        0       0        0        0        1        0        0   \n",
       "1        0        0       0        0        0        0        0        0   \n",
       "2        0        0       0        0        0        1        0        0   \n",
       "3        0        0       0        0        0        0        1        0   \n",
       "4        0        0       0        0        0        0        0        0   \n",
       "\n",
       "   Gilbert  IDOTRR    ...     ScreenPorch  ScreenPorch  GarageCars  \\\n",
       "0        0       0    ...               0            0           2   \n",
       "1        0       0    ...               0            0           2   \n",
       "2        0       0    ...               0            0           2   \n",
       "3        0       0    ...               0            0           3   \n",
       "4        0       0    ...               0            0           3   \n",
       "\n",
       "   OverallQual  0  CentralAir  TotRmsAbvGrd  Fireplaces  BedroomAbvGr  \\\n",
       "0            7  4           1             8           0             3   \n",
       "1            6  3           1             6           1             3   \n",
       "2            7  4           1             6           1             3   \n",
       "3            7  2           1             7           1             3   \n",
       "4            8  4           1             9           1             4   \n",
       "\n",
       "   PoolArea  \n",
       "0         0  \n",
       "1         0  \n",
       "2         0  \n",
       "3         0  \n",
       "4         0  \n",
       "\n",
       "[5 rows x 40 columns]"
      ]
     },
     "execution_count": 45,
     "metadata": {},
     "output_type": "execute_result"
    }
   ],
   "source": [
    "df_multi.head()"
   ]
  },
  {
   "cell_type": "markdown",
   "metadata": {
    "colab_type": "text",
    "id": "Uvbg4rRPW2Ex"
   },
   "source": [
    "# Stretch Goals\n",
    "\n",
    "- Write a blog post explaining one of today's topics.\n",
    "- Find a new regression dataset from the UCI machine learning repository and use it to test out your new modeling skillz.\n",
    " [ - UCI Machine Learning Repository - Regression Datasets](https://)\n",
    "- Make a list for yourself of common feature engineering techniques. Browse Kaggle kernels to learn more methods.\n",
    "- Start studying for tomorrow's topic: Gradient Descent\n",
    "- Try and make the ultimate model with this dataset. clean as many features as possible, engineer the most sensible features as possible and see how accurate of a prediction you can make. \n",
    "- Learn about the \"Dummy Variable Trap\" and how it applies to linear regression modeling.\n",
    "- Learning about using linear regression to model time series data"
   ]
  },
  {
   "cell_type": "code",
   "execution_count": null,
   "metadata": {},
   "outputs": [],
   "source": []
  }
 ],
 "metadata": {
  "colab": {
   "name": "Polynomial/Log-linear Regression Assignment.ipynb",
   "provenance": [],
   "version": "0.3.2"
  },
  "kernelspec": {
   "display_name": "Python 3",
   "language": "python",
   "name": "python3"
  },
  "language_info": {
   "codemirror_mode": {
    "name": "ipython",
    "version": 3
   },
   "file_extension": ".py",
   "mimetype": "text/x-python",
   "name": "python",
   "nbconvert_exporter": "python",
   "pygments_lexer": "ipython3",
   "version": "3.6.5"
  }
 },
 "nbformat": 4,
 "nbformat_minor": 1
}
