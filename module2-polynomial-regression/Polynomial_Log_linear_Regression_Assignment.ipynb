{
  "nbformat": 4,
  "nbformat_minor": 0,
  "metadata": {
    "colab": {
      "name": "Polynomial/Log-linear Regression Assignment.ipynb",
      "version": "0.3.2",
      "provenance": [],
      "include_colab_link": true
    },
    "kernelspec": {
      "name": "python3",
      "display_name": "Python 3"
    }
  },
  "cells": [
    {
      "cell_type": "markdown",
      "metadata": {
        "id": "view-in-github",
        "colab_type": "text"
      },
      "source": [
        "<a href=\"https://colab.research.google.com/github/macscheffer/DS-Unit-2-Sprint-2-Linear-Regression/blob/master/module2-polynomial-regression/Polynomial_Log_linear_Regression_Assignment.ipynb\" target=\"_parent\"><img src=\"https://colab.research.google.com/assets/colab-badge.svg\" alt=\"Open In Colab\"/></a>"
      ]
    },
    {
      "metadata": {
        "id": "Dc4kEVNWo4yZ",
        "colab_type": "text"
      },
      "cell_type": "markdown",
      "source": [
        "# Intermediate Linear Regression Practice\n",
        "\n",
        "## Use a Linear Regression model to get the lowest RMSE possible on the following dataset:\n",
        "\n",
        "[Dataset Folder](https://github.com/ryanleeallred/datasets/tree/master/Ames%20Housing%20Data)\n",
        "\n",
        "[Raw CSV](https://raw.githubusercontent.com/ryanleeallred/datasets/master/Ames%20Housing%20Data/train.csv)\n",
        "\n",
        "## You model must include (at least):\n",
        "- A log-transformed y variable\n",
        "- Two polynomial features\n",
        "- One interaction feature\n",
        "- 10 other engineered features\n",
        "\n",
        "What is the lowest Root-Mean-Squared Error that you are able to obtain? Share your best RMSEs in Slack!\n",
        "\n",
        "Notes:\n",
        "\n",
        "There may be some data cleaning that you need to do on some features of this dataset. Linear Regression will only accept numeric values and will not accept\n",
        "\n",
        "Note* There may not be a clear candidate for an interaction term in this dataset. Include one anyway, sometimes it's a good practice for predictive modeling feature engineering in general. "
      ]
    },
    {
      "metadata": {
        "id": "XYZSkixpo2qD",
        "colab_type": "code",
        "outputId": "c7b4b28e-ae9a-4352-e0a5-1b2817a392bc",
        "colab": {
          "base_uri": "https://localhost:8080/",
          "height": 34
        }
      },
      "cell_type": "code",
      "source": [
        "import pandas as pd\n",
        "\n",
        "df = pd.read_csv('https://raw.githubusercontent.com/ryanleeallred/datasets/master/Ames%20Housing%20Data/train.csv')\n",
        "\n",
        "df.shape"
      ],
      "execution_count": 1,
      "outputs": [
        {
          "output_type": "execute_result",
          "data": {
            "text/plain": [
              "(1460, 81)"
            ]
          },
          "metadata": {
            "tags": []
          },
          "execution_count": 1
        }
      ]
    },
    {
      "metadata": {
        "id": "wiwVoPKXWiVj",
        "colab_type": "code",
        "outputId": "8838b39c-d416-40c6-e7c7-9e9d199ed30e",
        "colab": {
          "base_uri": "https://localhost:8080/",
          "height": 34
        }
      },
      "cell_type": "code",
      "source": [
        "df[df.PoolArea > 0].SalePrice.mean()"
      ],
      "execution_count": 24,
      "outputs": [
        {
          "output_type": "execute_result",
          "data": {
            "text/plain": [
              "288138.5714285714"
            ]
          },
          "metadata": {
            "tags": []
          },
          "execution_count": 24
        }
      ]
    },
    {
      "metadata": {
        "id": "kLPotpv3dtHn",
        "colab_type": "code",
        "colab": {}
      },
      "cell_type": "code",
      "source": [
        "df['matching_exterior_type'] = (df.Exterior1st == df.Exterior2nd)"
      ],
      "execution_count": 0,
      "outputs": []
    },
    {
      "metadata": {
        "id": "zuRGSPqCdzCY",
        "colab_type": "code",
        "colab": {
          "base_uri": "https://localhost:8080/",
          "height": 137
        },
        "outputId": "06cff063-47a5-41b9-9f34-25db3b1b9fbb"
      },
      "cell_type": "code",
      "source": [
        "df.pivot_table(index='matching_exterior_type', values='SalePrice')"
      ],
      "execution_count": 46,
      "outputs": [
        {
          "output_type": "execute_result",
          "data": {
            "text/html": [
              "<div>\n",
              "<style scoped>\n",
              "    .dataframe tbody tr th:only-of-type {\n",
              "        vertical-align: middle;\n",
              "    }\n",
              "\n",
              "    .dataframe tbody tr th {\n",
              "        vertical-align: top;\n",
              "    }\n",
              "\n",
              "    .dataframe thead th {\n",
              "        text-align: right;\n",
              "    }\n",
              "</style>\n",
              "<table border=\"1\" class=\"dataframe\">\n",
              "  <thead>\n",
              "    <tr style=\"text-align: right;\">\n",
              "      <th></th>\n",
              "      <th>SalePrice</th>\n",
              "    </tr>\n",
              "    <tr>\n",
              "      <th>matching_exterior_type</th>\n",
              "      <th></th>\n",
              "    </tr>\n",
              "  </thead>\n",
              "  <tbody>\n",
              "    <tr>\n",
              "      <th>False</th>\n",
              "      <td>182820.093023</td>\n",
              "    </tr>\n",
              "    <tr>\n",
              "      <th>True</th>\n",
              "      <td>180593.273896</td>\n",
              "    </tr>\n",
              "  </tbody>\n",
              "</table>\n",
              "</div>"
            ],
            "text/plain": [
              "                            SalePrice\n",
              "matching_exterior_type               \n",
              "False                   182820.093023\n",
              "True                    180593.273896"
            ]
          },
          "metadata": {
            "tags": []
          },
          "execution_count": 46
        }
      ]
    },
    {
      "metadata": {
        "id": "aZWp0rLxd48h",
        "colab_type": "code",
        "colab": {
          "base_uri": "https://localhost:8080/",
          "height": 364
        },
        "outputId": "0d2b8d7b-694e-4d47-d875-45a3b9f7a857"
      },
      "cell_type": "code",
      "source": [
        "df.pivot_table(index='Exterior1st',values='SalePrice').plot.barh()"
      ],
      "execution_count": 49,
      "outputs": [
        {
          "output_type": "execute_result",
          "data": {
            "text/plain": [
              "<matplotlib.axes._subplots.AxesSubplot at 0x7f391ac7a978>"
            ]
          },
          "metadata": {
            "tags": []
          },
          "execution_count": 49
        },
        {
          "output_type": "display_data",
          "data": {
            "image/png": "[encoded data removed]",
            "text/plain": [
              "<Figure size 576x396 with 1 Axes>"
            ]
          },
          "metadata": {
            "tags": []
          }
        }
      ]
    },
    {
      "metadata": {
        "id": "bzSb7AmTeKhI",
        "colab_type": "code",
        "colab": {
          "base_uri": "https://localhost:8080/",
          "height": 69
        },
        "outputId": "d600d5d6-c49b-4be0-dad0-2a1d82a0ab79"
      },
      "cell_type": "code",
      "source": [
        "df.Street.value_counts()"
      ],
      "execution_count": 50,
      "outputs": [
        {
          "output_type": "execute_result",
          "data": {
            "text/plain": [
              "Pave    1454\n",
              "Grvl       6\n",
              "Name: Street, dtype: int64"
            ]
          },
          "metadata": {
            "tags": []
          },
          "execution_count": 50
        }
      ]
    },
    {
      "metadata": {
        "id": "kv6kXq1Se1zP",
        "colab_type": "code",
        "colab": {
          "base_uri": "https://localhost:8080/",
          "height": 137
        },
        "outputId": "7fc5e777-465a-4138-d792-7262286e9416"
      },
      "cell_type": "code",
      "source": [
        "df.pivot_table(index='Street', values='SalePrice')"
      ],
      "execution_count": 52,
      "outputs": [
        {
          "output_type": "execute_result",
          "data": {
            "text/html": [
              "<div>\n",
              "<style scoped>\n",
              "    .dataframe tbody tr th:only-of-type {\n",
              "        vertical-align: middle;\n",
              "    }\n",
              "\n",
              "    .dataframe tbody tr th {\n",
              "        vertical-align: top;\n",
              "    }\n",
              "\n",
              "    .dataframe thead th {\n",
              "        text-align: right;\n",
              "    }\n",
              "</style>\n",
              "<table border=\"1\" class=\"dataframe\">\n",
              "  <thead>\n",
              "    <tr style=\"text-align: right;\">\n",
              "      <th></th>\n",
              "      <th>SalePrice</th>\n",
              "    </tr>\n",
              "    <tr>\n",
              "      <th>Street</th>\n",
              "      <th></th>\n",
              "    </tr>\n",
              "  </thead>\n",
              "  <tbody>\n",
              "    <tr>\n",
              "      <th>Grvl</th>\n",
              "      <td>130190.500000</td>\n",
              "    </tr>\n",
              "    <tr>\n",
              "      <th>Pave</th>\n",
              "      <td>181130.538514</td>\n",
              "    </tr>\n",
              "  </tbody>\n",
              "</table>\n",
              "</div>"
            ],
            "text/plain": [
              "            SalePrice\n",
              "Street               \n",
              "Grvl    130190.500000\n",
              "Pave    181130.538514"
            ]
          },
          "metadata": {
            "tags": []
          },
          "execution_count": 52
        }
      ]
    },
    {
      "metadata": {
        "id": "q8XrEoVDVvho",
        "colab_type": "code",
        "colab": {
          "base_uri": "https://localhost:8080/",
          "height": 173
        },
        "outputId": "367bec00-1752-429c-b01e-8b70c8a88906"
      },
      "cell_type": "code",
      "source": [
        "df.SalePrice.describe()"
      ],
      "execution_count": 8,
      "outputs": [
        {
          "output_type": "execute_result",
          "data": {
            "text/plain": [
              "count      1460.000000\n",
              "mean     180921.195890\n",
              "std       79442.502883\n",
              "min       34900.000000\n",
              "25%      129975.000000\n",
              "50%      163000.000000\n",
              "75%      214000.000000\n",
              "max      755000.000000\n",
              "Name: SalePrice, dtype: float64"
            ]
          },
          "metadata": {
            "tags": []
          },
          "execution_count": 8
        }
      ]
    },
    {
      "metadata": {
        "id": "K3flkeB4WI7z",
        "colab_type": "code",
        "colab": {
          "base_uri": "https://localhost:8080/",
          "height": 34
        },
        "outputId": "7c293508-4716-41e9-db5c-373d8ff4650b"
      },
      "cell_type": "code",
      "source": [
        "df[df.SalePrice > 250000].shape[0] / df.shape[0]"
      ],
      "execution_count": 16,
      "outputs": [
        {
          "output_type": "execute_result",
          "data": {
            "text/plain": [
              "0.14863013698630137"
            ]
          },
          "metadata": {
            "tags": []
          },
          "execution_count": 16
        }
      ]
    },
    {
      "metadata": {
        "id": "qrU-84FLWMyL",
        "colab_type": "code",
        "colab": {
          "base_uri": "https://localhost:8080/",
          "height": 34
        },
        "outputId": "1484d77d-8f17-4e56-87e6-9181a546e60b"
      },
      "cell_type": "code",
      "source": [
        "df[df.SalePrice < 110000].shape[0] / df.shape[0]"
      ],
      "execution_count": 17,
      "outputs": [
        {
          "output_type": "execute_result",
          "data": {
            "text/plain": [
              "0.11986301369863013"
            ]
          },
          "metadata": {
            "tags": []
          },
          "execution_count": 17
        }
      ]
    },
    {
      "metadata": {
        "id": "NOoXsb5nXY5g",
        "colab_type": "code",
        "colab": {
          "base_uri": "https://localhost:8080/",
          "height": 138
        },
        "outputId": "78a4445e-8270-4276-d349-2e3a324a0eba"
      },
      "cell_type": "code",
      "source": [
        "df.SaleCondition.value_counts()"
      ],
      "execution_count": 20,
      "outputs": [
        {
          "output_type": "execute_result",
          "data": {
            "text/plain": [
              "Normal     1198\n",
              "Partial     125\n",
              "Abnorml     101\n",
              "Family       20\n",
              "Alloca       12\n",
              "AdjLand       4\n",
              "Name: SaleCondition, dtype: int64"
            ]
          },
          "metadata": {
            "tags": []
          },
          "execution_count": 20
        }
      ]
    },
    {
      "metadata": {
        "id": "GWOAHnoVcOJ6",
        "colab_type": "code",
        "colab": {
          "base_uri": "https://localhost:8080/",
          "height": 364
        },
        "outputId": "4424848e-2e6a-431f-fb10-bdff768e6b6f"
      },
      "cell_type": "code",
      "source": [
        "import matplotlib.pyplot as plt\n",
        "import numpy as np\n",
        "\n",
        "plt.scatter(df.TotRmsAbvGrd**2,df.SalePrice)"
      ],
      "execution_count": 40,
      "outputs": [
        {
          "output_type": "execute_result",
          "data": {
            "text/plain": [
              "<matplotlib.collections.PathCollection at 0x7f391bdef8d0>"
            ]
          },
          "metadata": {
            "tags": []
          },
          "execution_count": 40
        },
        {
          "output_type": "display_data",
          "data": {
            "image/png": "[encoded data removed]",
            "text/plain": [
              "<Figure size 576x396 with 1 Axes>"
            ]
          },
          "metadata": {
            "tags": []
          }
        }
      ]
    },
    {
      "metadata": {
        "id": "lLEbbbCJXGSA",
        "colab_type": "code",
        "colab": {
          "base_uri": "https://localhost:8080/",
          "height": 364
        },
        "outputId": "1e1e08b2-5d14-47b0-bb96-be9fa503348f"
      },
      "cell_type": "code",
      "source": [
        "df.pivot_table(index='ExterCond', values='SalePrice').plot.barh()"
      ],
      "execution_count": 41,
      "outputs": [
        {
          "output_type": "execute_result",
          "data": {
            "text/plain": [
              "<matplotlib.axes._subplots.AxesSubplot at 0x7f391ad94390>"
            ]
          },
          "metadata": {
            "tags": []
          },
          "execution_count": 41
        },
        {
          "output_type": "display_data",
          "data": {
            "image/png": "[encoded data removed]",
            "text/plain": [
              "<Figure size 576x396 with 1 Axes>"
            ]
          },
          "metadata": {
            "tags": []
          }
        }
      ]
    },
    {
      "metadata": {
        "id": "4tEMdjIDXNI9",
        "colab_type": "code",
        "colab": {
          "base_uri": "https://localhost:8080/",
          "height": 364
        },
        "outputId": "182e6307-6617-4ef8-8601-5ae9390738a6"
      },
      "cell_type": "code",
      "source": [
        "df.pivot_table(index='PavedDrive', values='SalePrice').plot.barh()"
      ],
      "execution_count": 25,
      "outputs": [
        {
          "output_type": "execute_result",
          "data": {
            "text/plain": [
              "<matplotlib.axes._subplots.AxesSubplot at 0x7f391c2fe358>"
            ]
          },
          "metadata": {
            "tags": []
          },
          "execution_count": 25
        },
        {
          "output_type": "display_data",
          "data": {
            "image/png": "[encoded data removed]",
            "text/plain": [
              "<Figure size 576x396 with 1 Axes>"
            ]
          },
          "metadata": {
            "tags": []
          }
        }
      ]
    },
    {
      "metadata": {
        "id": "MtOysGceZVAr",
        "colab_type": "code",
        "colab": {
          "base_uri": "https://localhost:8080/",
          "height": 364
        },
        "outputId": "83d7eba6-1f7d-40f4-f198-291dcd5a5bcf"
      },
      "cell_type": "code",
      "source": [
        "df.pivot_table(index='MasVnrType', values='SalePrice').plot.barh()"
      ],
      "execution_count": 43,
      "outputs": [
        {
          "output_type": "execute_result",
          "data": {
            "text/plain": [
              "<matplotlib.axes._subplots.AxesSubplot at 0x7f391ad1a780>"
            ]
          },
          "metadata": {
            "tags": []
          },
          "execution_count": 43
        },
        {
          "output_type": "display_data",
          "data": {
            "image/png": "[encoded data removed]",
            "text/plain": [
              "<Figure size 576x396 with 1 Axes>"
            ]
          },
          "metadata": {
            "tags": []
          }
        }
      ]
    },
    {
      "metadata": {
        "id": "RPm3D_g4dVhG",
        "colab_type": "code",
        "colab": {
          "base_uri": "https://localhost:8080/",
          "height": 104
        },
        "outputId": "1f53f28b-8089-4e06-9900-b3acc2dafcd5"
      },
      "cell_type": "code",
      "source": [
        "df.MasVnrType.value_counts()"
      ],
      "execution_count": 44,
      "outputs": [
        {
          "output_type": "execute_result",
          "data": {
            "text/plain": [
              "None       864\n",
              "BrkFace    445\n",
              "Stone      128\n",
              "BrkCmn      15\n",
              "Name: MasVnrType, dtype: int64"
            ]
          },
          "metadata": {
            "tags": []
          },
          "execution_count": 44
        }
      ]
    },
    {
      "metadata": {
        "id": "xYeH_icebORH",
        "colab_type": "code",
        "colab": {
          "base_uri": "https://localhost:8080/",
          "height": 121
        },
        "outputId": "0e89f8c8-54ff-4f18-d51f-e237e3602a0a"
      },
      "cell_type": "code",
      "source": [
        "df.ExterCond.value_counts()"
      ],
      "execution_count": 42,
      "outputs": [
        {
          "output_type": "execute_result",
          "data": {
            "text/plain": [
              "TA    1282\n",
              "Gd     146\n",
              "Fa      28\n",
              "Ex       3\n",
              "Po       1\n",
              "Name: ExterCond, dtype: int64"
            ]
          },
          "metadata": {
            "tags": []
          },
          "execution_count": 42
        }
      ]
    },
    {
      "metadata": {
        "id": "3eoBsk8yZZFJ",
        "colab_type": "code",
        "colab": {
          "base_uri": "https://localhost:8080/",
          "height": 138
        },
        "outputId": "c580d76e-b97e-4fa8-bff8-a170c1bc9217"
      },
      "cell_type": "code",
      "source": [
        "df.Foundation.value_counts()"
      ],
      "execution_count": 31,
      "outputs": [
        {
          "output_type": "execute_result",
          "data": {
            "text/plain": [
              "PConc     647\n",
              "CBlock    634\n",
              "BrkTil    146\n",
              "Slab       24\n",
              "Stone       6\n",
              "Wood        3\n",
              "Name: Foundation, dtype: int64"
            ]
          },
          "metadata": {
            "tags": []
          },
          "execution_count": 31
        }
      ]
    },
    {
      "metadata": {
        "id": "t_CX2-MjZrqg",
        "colab_type": "code",
        "colab": {
          "base_uri": "https://localhost:8080/",
          "height": 86
        },
        "outputId": "67016283-816a-44b0-c812-909633813e52"
      },
      "cell_type": "code",
      "source": [
        "df.GarageFinish.value_counts()"
      ],
      "execution_count": 30,
      "outputs": [
        {
          "output_type": "execute_result",
          "data": {
            "text/plain": [
              "Unf    605\n",
              "RFn    422\n",
              "Fin    352\n",
              "Name: GarageFinish, dtype: int64"
            ]
          },
          "metadata": {
            "tags": []
          },
          "execution_count": 30
        }
      ]
    },
    {
      "metadata": {
        "id": "PHeU4-g7Yrfg",
        "colab_type": "code",
        "colab": {
          "base_uri": "https://localhost:8080/",
          "height": 86
        },
        "outputId": "0b467509-18e9-4311-bcec-75e6171cd0da"
      },
      "cell_type": "code",
      "source": [
        "df.PavedDrive.value_counts()"
      ],
      "execution_count": 26,
      "outputs": [
        {
          "output_type": "execute_result",
          "data": {
            "text/plain": [
              "Y    1340\n",
              "N      90\n",
              "P      30\n",
              "Name: PavedDrive, dtype: int64"
            ]
          },
          "metadata": {
            "tags": []
          },
          "execution_count": 26
        }
      ]
    },
    {
      "metadata": {
        "id": "1KXraGZCbjhD",
        "colab_type": "code",
        "colab": {
          "base_uri": "https://localhost:8080/",
          "height": 121
        },
        "outputId": "d9fe1795-d655-4c0d-d94e-2c3e59c6fb21"
      },
      "cell_type": "code",
      "source": [
        "df.Electrical.value_counts()"
      ],
      "execution_count": 35,
      "outputs": [
        {
          "output_type": "execute_result",
          "data": {
            "text/plain": [
              "SBrkr    1334\n",
              "FuseA      94\n",
              "FuseF      27\n",
              "FuseP       3\n",
              "Mix         1\n",
              "Name: Electrical, dtype: int64"
            ]
          },
          "metadata": {
            "tags": []
          },
          "execution_count": 35
        }
      ]
    },
    {
      "metadata": {
        "id": "SqfK-rHDbnCi",
        "colab_type": "code",
        "colab": {
          "base_uri": "https://localhost:8080/",
          "height": 227
        },
        "outputId": "e9a7069f-266b-4aa6-a2df-db8401e0b87c"
      },
      "cell_type": "code",
      "source": [
        "df.pivot_table(index='Electrical', values='SalePrice')"
      ],
      "execution_count": 36,
      "outputs": [
        {
          "output_type": "execute_result",
          "data": {
            "text/html": [
              "<div>\n",
              "<style scoped>\n",
              "    .dataframe tbody tr th:only-of-type {\n",
              "        vertical-align: middle;\n",
              "    }\n",
              "\n",
              "    .dataframe tbody tr th {\n",
              "        vertical-align: top;\n",
              "    }\n",
              "\n",
              "    .dataframe thead th {\n",
              "        text-align: right;\n",
              "    }\n",
              "</style>\n",
              "<table border=\"1\" class=\"dataframe\">\n",
              "  <thead>\n",
              "    <tr style=\"text-align: right;\">\n",
              "      <th></th>\n",
              "      <th>SalePrice</th>\n",
              "    </tr>\n",
              "    <tr>\n",
              "      <th>Electrical</th>\n",
              "      <th></th>\n",
              "    </tr>\n",
              "  </thead>\n",
              "  <tbody>\n",
              "    <tr>\n",
              "      <th>FuseA</th>\n",
              "      <td>122196.893617</td>\n",
              "    </tr>\n",
              "    <tr>\n",
              "      <th>FuseF</th>\n",
              "      <td>107675.444444</td>\n",
              "    </tr>\n",
              "    <tr>\n",
              "      <th>FuseP</th>\n",
              "      <td>97333.333333</td>\n",
              "    </tr>\n",
              "    <tr>\n",
              "      <th>Mix</th>\n",
              "      <td>67000.000000</td>\n",
              "    </tr>\n",
              "    <tr>\n",
              "      <th>SBrkr</th>\n",
              "      <td>186825.113193</td>\n",
              "    </tr>\n",
              "  </tbody>\n",
              "</table>\n",
              "</div>"
            ],
            "text/plain": [
              "                SalePrice\n",
              "Electrical               \n",
              "FuseA       122196.893617\n",
              "FuseF       107675.444444\n",
              "FuseP        97333.333333\n",
              "Mix          67000.000000\n",
              "SBrkr       186825.113193"
            ]
          },
          "metadata": {
            "tags": []
          },
          "execution_count": 36
        }
      ]
    },
    {
      "metadata": {
        "id": "NRzHvLdhWz3q",
        "colab_type": "code",
        "colab": {
          "base_uri": "https://localhost:8080/",
          "height": 364
        },
        "outputId": "99666306-34af-47aa-bdad-e8f6a67044be"
      },
      "cell_type": "code",
      "source": [
        "import numpy as np\n",
        "\n",
        "np.log(df.SalePrice).plot.hist()"
      ],
      "execution_count": 53,
      "outputs": [
        {
          "output_type": "execute_result",
          "data": {
            "text/plain": [
              "<matplotlib.axes._subplots.AxesSubplot at 0x7f391ac13780>"
            ]
          },
          "metadata": {
            "tags": []
          },
          "execution_count": 53
        },
        {
          "output_type": "display_data",
          "data": {
            "image/png": "[encoded data removed]",
            "text/plain": [
              "<Figure size 576x396 with 1 Axes>"
            ]
          },
          "metadata": {
            "tags": []
          }
        }
      ]
    },
    {
      "metadata": {
        "id": "UUKBpWD0Wjw4",
        "colab_type": "code",
        "colab": {}
      },
      "cell_type": "code",
      "source": [
        "df['logprice'] = np.log(df.SalePrice)"
      ],
      "execution_count": 0,
      "outputs": []
    },
    {
      "metadata": {
        "id": "CoHROtugWj15",
        "colab_type": "code",
        "colab": {}
      },
      "cell_type": "code",
      "source": [
        "from sklearn.model_selection import train_test_split\n",
        "from sklearn.linear_model import LinearRegression\n",
        "from sklearn.metrics import mean_squared_error, r2_score, mean_absolute_error\n",
        "import matplotlib.pyplot as plt\n",
        "\n",
        "X = df.loc[:, ['LotArea']].values\n",
        "y = df.loc[:,['logprice']].values\n",
        "\n",
        "X_train, X_test, y_train, y_test = train_test_split(X, y, test_size=0.5)\n",
        "\n",
        "\n",
        "lr = LinearRegression()\n",
        "lr.fit(X_train, y_train)\n",
        "\n",
        "\n",
        "oos_pred = lr.predict(X_test)\n",
        "oos_mse = mean_squared_error(y_test, oos_pred)\n",
        "oos_r2 = r2_score(y_test, oos_pred)\n",
        "rmse = (np.sqrt(oos_mse))"
      ],
      "execution_count": 0,
      "outputs": []
    },
    {
      "metadata": {
        "id": "s-XXRAJPWj5D",
        "colab_type": "code",
        "outputId": "c8c04ef7-4ea5-4f41-d97b-522bbf129e75",
        "colab": {
          "base_uri": "https://localhost:8080/",
          "height": 217
        }
      },
      "cell_type": "code",
      "source": [
        "pd.set_option('display.max_columns', 500)\n",
        "df.head()"
      ],
      "execution_count": 56,
      "outputs": [
        {
          "output_type": "execute_result",
          "data": {
            "text/html": [
              "<div>\n",
              "<style scoped>\n",
              "    .dataframe tbody tr th:only-of-type {\n",
              "        vertical-align: middle;\n",
              "    }\n",
              "\n",
              "    .dataframe tbody tr th {\n",
              "        vertical-align: top;\n",
              "    }\n",
              "\n",
              "    .dataframe thead th {\n",
              "        text-align: right;\n",
              "    }\n",
              "</style>\n",
              "<table border=\"1\" class=\"dataframe\">\n",
              "  <thead>\n",
              "    <tr style=\"text-align: right;\">\n",
              "      <th></th>\n",
              "      <th>Id</th>\n",
              "      <th>MSSubClass</th>\n",
              "      <th>MSZoning</th>\n",
              "      <th>LotFrontage</th>\n",
              "      <th>LotArea</th>\n",
              "      <th>Street</th>\n",
              "      <th>Alley</th>\n",
              "      <th>LotShape</th>\n",
              "      <th>LandContour</th>\n",
              "      <th>Utilities</th>\n",
              "      <th>LotConfig</th>\n",
              "      <th>LandSlope</th>\n",
              "      <th>Neighborhood</th>\n",
              "      <th>Condition1</th>\n",
              "      <th>Condition2</th>\n",
              "      <th>BldgType</th>\n",
              "      <th>HouseStyle</th>\n",
              "      <th>OverallQual</th>\n",
              "      <th>OverallCond</th>\n",
              "      <th>YearBuilt</th>\n",
              "      <th>YearRemodAdd</th>\n",
              "      <th>RoofStyle</th>\n",
              "      <th>RoofMatl</th>\n",
              "      <th>Exterior1st</th>\n",
              "      <th>Exterior2nd</th>\n",
              "      <th>MasVnrType</th>\n",
              "      <th>MasVnrArea</th>\n",
              "      <th>ExterQual</th>\n",
              "      <th>ExterCond</th>\n",
              "      <th>Foundation</th>\n",
              "      <th>BsmtQual</th>\n",
              "      <th>BsmtCond</th>\n",
              "      <th>BsmtExposure</th>\n",
              "      <th>BsmtFinType1</th>\n",
              "      <th>BsmtFinSF1</th>\n",
              "      <th>BsmtFinType2</th>\n",
              "      <th>BsmtFinSF2</th>\n",
              "      <th>BsmtUnfSF</th>\n",
              "      <th>TotalBsmtSF</th>\n",
              "      <th>Heating</th>\n",
              "      <th>HeatingQC</th>\n",
              "      <th>CentralAir</th>\n",
              "      <th>Electrical</th>\n",
              "      <th>1stFlrSF</th>\n",
              "      <th>2ndFlrSF</th>\n",
              "      <th>LowQualFinSF</th>\n",
              "      <th>GrLivArea</th>\n",
              "      <th>BsmtFullBath</th>\n",
              "      <th>BsmtHalfBath</th>\n",
              "      <th>FullBath</th>\n",
              "      <th>HalfBath</th>\n",
              "      <th>BedroomAbvGr</th>\n",
              "      <th>KitchenAbvGr</th>\n",
              "      <th>KitchenQual</th>\n",
              "      <th>TotRmsAbvGrd</th>\n",
              "      <th>Functional</th>\n",
              "      <th>Fireplaces</th>\n",
              "      <th>FireplaceQu</th>\n",
              "      <th>GarageType</th>\n",
              "      <th>GarageYrBlt</th>\n",
              "      <th>GarageFinish</th>\n",
              "      <th>GarageCars</th>\n",
              "      <th>GarageArea</th>\n",
              "      <th>GarageQual</th>\n",
              "      <th>GarageCond</th>\n",
              "      <th>PavedDrive</th>\n",
              "      <th>WoodDeckSF</th>\n",
              "      <th>OpenPorchSF</th>\n",
              "      <th>EnclosedPorch</th>\n",
              "      <th>3SsnPorch</th>\n",
              "      <th>ScreenPorch</th>\n",
              "      <th>PoolArea</th>\n",
              "      <th>PoolQC</th>\n",
              "      <th>Fence</th>\n",
              "      <th>MiscFeature</th>\n",
              "      <th>MiscVal</th>\n",
              "      <th>MoSold</th>\n",
              "      <th>YrSold</th>\n",
              "      <th>SaleType</th>\n",
              "      <th>SaleCondition</th>\n",
              "      <th>SalePrice</th>\n",
              "      <th>matching_exterior_type</th>\n",
              "      <th>logprice</th>\n",
              "    </tr>\n",
              "  </thead>\n",
              "  <tbody>\n",
              "    <tr>\n",
              "      <th>0</th>\n",
              "      <td>1</td>\n",
              "      <td>60</td>\n",
              "      <td>RL</td>\n",
              "      <td>65.0</td>\n",
              "      <td>8450</td>\n",
              "      <td>Pave</td>\n",
              "      <td>NaN</td>\n",
              "      <td>Reg</td>\n",
              "      <td>Lvl</td>\n",
              "      <td>AllPub</td>\n",
              "      <td>Inside</td>\n",
              "      <td>Gtl</td>\n",
              "      <td>CollgCr</td>\n",
              "      <td>Norm</td>\n",
              "      <td>Norm</td>\n",
              "      <td>1Fam</td>\n",
              "      <td>2Story</td>\n",
              "      <td>7</td>\n",
              "      <td>5</td>\n",
              "      <td>2003</td>\n",
              "      <td>2003</td>\n",
              "      <td>Gable</td>\n",
              "      <td>CompShg</td>\n",
              "      <td>VinylSd</td>\n",
              "      <td>VinylSd</td>\n",
              "      <td>BrkFace</td>\n",
              "      <td>196.0</td>\n",
              "      <td>Gd</td>\n",
              "      <td>TA</td>\n",
              "      <td>PConc</td>\n",
              "      <td>Gd</td>\n",
              "      <td>TA</td>\n",
              "      <td>No</td>\n",
              "      <td>GLQ</td>\n",
              "      <td>706</td>\n",
              "      <td>Unf</td>\n",
              "      <td>0</td>\n",
              "      <td>150</td>\n",
              "      <td>856</td>\n",
              "      <td>GasA</td>\n",
              "      <td>Ex</td>\n",
              "      <td>Y</td>\n",
              "      <td>SBrkr</td>\n",
              "      <td>856</td>\n",
              "      <td>854</td>\n",
              "      <td>0</td>\n",
              "      <td>1710</td>\n",
              "      <td>1</td>\n",
              "      <td>0</td>\n",
              "      <td>2</td>\n",
              "      <td>1</td>\n",
              "      <td>3</td>\n",
              "      <td>1</td>\n",
              "      <td>Gd</td>\n",
              "      <td>8</td>\n",
              "      <td>Typ</td>\n",
              "      <td>0</td>\n",
              "      <td>NaN</td>\n",
              "      <td>Attchd</td>\n",
              "      <td>2003.0</td>\n",
              "      <td>RFn</td>\n",
              "      <td>2</td>\n",
              "      <td>548</td>\n",
              "      <td>TA</td>\n",
              "      <td>TA</td>\n",
              "      <td>Y</td>\n",
              "      <td>0</td>\n",
              "      <td>61</td>\n",
              "      <td>0</td>\n",
              "      <td>0</td>\n",
              "      <td>0</td>\n",
              "      <td>0</td>\n",
              "      <td>NaN</td>\n",
              "      <td>NaN</td>\n",
              "      <td>NaN</td>\n",
              "      <td>0</td>\n",
              "      <td>2</td>\n",
              "      <td>2008</td>\n",
              "      <td>WD</td>\n",
              "      <td>Normal</td>\n",
              "      <td>208500</td>\n",
              "      <td>True</td>\n",
              "      <td>12.247694</td>\n",
              "    </tr>\n",
              "    <tr>\n",
              "      <th>1</th>\n",
              "      <td>2</td>\n",
              "      <td>20</td>\n",
              "      <td>RL</td>\n",
              "      <td>80.0</td>\n",
              "      <td>9600</td>\n",
              "      <td>Pave</td>\n",
              "      <td>NaN</td>\n",
              "      <td>Reg</td>\n",
              "      <td>Lvl</td>\n",
              "      <td>AllPub</td>\n",
              "      <td>FR2</td>\n",
              "      <td>Gtl</td>\n",
              "      <td>Veenker</td>\n",
              "      <td>Feedr</td>\n",
              "      <td>Norm</td>\n",
              "      <td>1Fam</td>\n",
              "      <td>1Story</td>\n",
              "      <td>6</td>\n",
              "      <td>8</td>\n",
              "      <td>1976</td>\n",
              "      <td>1976</td>\n",
              "      <td>Gable</td>\n",
              "      <td>CompShg</td>\n",
              "      <td>MetalSd</td>\n",
              "      <td>MetalSd</td>\n",
              "      <td>None</td>\n",
              "      <td>0.0</td>\n",
              "      <td>TA</td>\n",
              "      <td>TA</td>\n",
              "      <td>CBlock</td>\n",
              "      <td>Gd</td>\n",
              "      <td>TA</td>\n",
              "      <td>Gd</td>\n",
              "      <td>ALQ</td>\n",
              "      <td>978</td>\n",
              "      <td>Unf</td>\n",
              "      <td>0</td>\n",
              "      <td>284</td>\n",
              "      <td>1262</td>\n",
              "      <td>GasA</td>\n",
              "      <td>Ex</td>\n",
              "      <td>Y</td>\n",
              "      <td>SBrkr</td>\n",
              "      <td>1262</td>\n",
              "      <td>0</td>\n",
              "      <td>0</td>\n",
              "      <td>1262</td>\n",
              "      <td>0</td>\n",
              "      <td>1</td>\n",
              "      <td>2</td>\n",
              "      <td>0</td>\n",
              "      <td>3</td>\n",
              "      <td>1</td>\n",
              "      <td>TA</td>\n",
              "      <td>6</td>\n",
              "      <td>Typ</td>\n",
              "      <td>1</td>\n",
              "      <td>TA</td>\n",
              "      <td>Attchd</td>\n",
              "      <td>1976.0</td>\n",
              "      <td>RFn</td>\n",
              "      <td>2</td>\n",
              "      <td>460</td>\n",
              "      <td>TA</td>\n",
              "      <td>TA</td>\n",
              "      <td>Y</td>\n",
              "      <td>298</td>\n",
              "      <td>0</td>\n",
              "      <td>0</td>\n",
              "      <td>0</td>\n",
              "      <td>0</td>\n",
              "      <td>0</td>\n",
              "      <td>NaN</td>\n",
              "      <td>NaN</td>\n",
              "      <td>NaN</td>\n",
              "      <td>0</td>\n",
              "      <td>5</td>\n",
              "      <td>2007</td>\n",
              "      <td>WD</td>\n",
              "      <td>Normal</td>\n",
              "      <td>181500</td>\n",
              "      <td>True</td>\n",
              "      <td>12.109011</td>\n",
              "    </tr>\n",
              "    <tr>\n",
              "      <th>2</th>\n",
              "      <td>3</td>\n",
              "      <td>60</td>\n",
              "      <td>RL</td>\n",
              "      <td>68.0</td>\n",
              "      <td>11250</td>\n",
              "      <td>Pave</td>\n",
              "      <td>NaN</td>\n",
              "      <td>IR1</td>\n",
              "      <td>Lvl</td>\n",
              "      <td>AllPub</td>\n",
              "      <td>Inside</td>\n",
              "      <td>Gtl</td>\n",
              "      <td>CollgCr</td>\n",
              "      <td>Norm</td>\n",
              "      <td>Norm</td>\n",
              "      <td>1Fam</td>\n",
              "      <td>2Story</td>\n",
              "      <td>7</td>\n",
              "      <td>5</td>\n",
              "      <td>2001</td>\n",
              "      <td>2002</td>\n",
              "      <td>Gable</td>\n",
              "      <td>CompShg</td>\n",
              "      <td>VinylSd</td>\n",
              "      <td>VinylSd</td>\n",
              "      <td>BrkFace</td>\n",
              "      <td>162.0</td>\n",
              "      <td>Gd</td>\n",
              "      <td>TA</td>\n",
              "      <td>PConc</td>\n",
              "      <td>Gd</td>\n",
              "      <td>TA</td>\n",
              "      <td>Mn</td>\n",
              "      <td>GLQ</td>\n",
              "      <td>486</td>\n",
              "      <td>Unf</td>\n",
              "      <td>0</td>\n",
              "      <td>434</td>\n",
              "      <td>920</td>\n",
              "      <td>GasA</td>\n",
              "      <td>Ex</td>\n",
              "      <td>Y</td>\n",
              "      <td>SBrkr</td>\n",
              "      <td>920</td>\n",
              "      <td>866</td>\n",
              "      <td>0</td>\n",
              "      <td>1786</td>\n",
              "      <td>1</td>\n",
              "      <td>0</td>\n",
              "      <td>2</td>\n",
              "      <td>1</td>\n",
              "      <td>3</td>\n",
              "      <td>1</td>\n",
              "      <td>Gd</td>\n",
              "      <td>6</td>\n",
              "      <td>Typ</td>\n",
              "      <td>1</td>\n",
              "      <td>TA</td>\n",
              "      <td>Attchd</td>\n",
              "      <td>2001.0</td>\n",
              "      <td>RFn</td>\n",
              "      <td>2</td>\n",
              "      <td>608</td>\n",
              "      <td>TA</td>\n",
              "      <td>TA</td>\n",
              "      <td>Y</td>\n",
              "      <td>0</td>\n",
              "      <td>42</td>\n",
              "      <td>0</td>\n",
              "      <td>0</td>\n",
              "      <td>0</td>\n",
              "      <td>0</td>\n",
              "      <td>NaN</td>\n",
              "      <td>NaN</td>\n",
              "      <td>NaN</td>\n",
              "      <td>0</td>\n",
              "      <td>9</td>\n",
              "      <td>2008</td>\n",
              "      <td>WD</td>\n",
              "      <td>Normal</td>\n",
              "      <td>223500</td>\n",
              "      <td>True</td>\n",
              "      <td>12.317167</td>\n",
              "    </tr>\n",
              "    <tr>\n",
              "      <th>3</th>\n",
              "      <td>4</td>\n",
              "      <td>70</td>\n",
              "      <td>RL</td>\n",
              "      <td>60.0</td>\n",
              "      <td>9550</td>\n",
              "      <td>Pave</td>\n",
              "      <td>NaN</td>\n",
              "      <td>IR1</td>\n",
              "      <td>Lvl</td>\n",
              "      <td>AllPub</td>\n",
              "      <td>Corner</td>\n",
              "      <td>Gtl</td>\n",
              "      <td>Crawfor</td>\n",
              "      <td>Norm</td>\n",
              "      <td>Norm</td>\n",
              "      <td>1Fam</td>\n",
              "      <td>2Story</td>\n",
              "      <td>7</td>\n",
              "      <td>5</td>\n",
              "      <td>1915</td>\n",
              "      <td>1970</td>\n",
              "      <td>Gable</td>\n",
              "      <td>CompShg</td>\n",
              "      <td>Wd Sdng</td>\n",
              "      <td>Wd Shng</td>\n",
              "      <td>None</td>\n",
              "      <td>0.0</td>\n",
              "      <td>TA</td>\n",
              "      <td>TA</td>\n",
              "      <td>BrkTil</td>\n",
              "      <td>TA</td>\n",
              "      <td>Gd</td>\n",
              "      <td>No</td>\n",
              "      <td>ALQ</td>\n",
              "      <td>216</td>\n",
              "      <td>Unf</td>\n",
              "      <td>0</td>\n",
              "      <td>540</td>\n",
              "      <td>756</td>\n",
              "      <td>GasA</td>\n",
              "      <td>Gd</td>\n",
              "      <td>Y</td>\n",
              "      <td>SBrkr</td>\n",
              "      <td>961</td>\n",
              "      <td>756</td>\n",
              "      <td>0</td>\n",
              "      <td>1717</td>\n",
              "      <td>1</td>\n",
              "      <td>0</td>\n",
              "      <td>1</td>\n",
              "      <td>0</td>\n",
              "      <td>3</td>\n",
              "      <td>1</td>\n",
              "      <td>Gd</td>\n",
              "      <td>7</td>\n",
              "      <td>Typ</td>\n",
              "      <td>1</td>\n",
              "      <td>Gd</td>\n",
              "      <td>Detchd</td>\n",
              "      <td>1998.0</td>\n",
              "      <td>Unf</td>\n",
              "      <td>3</td>\n",
              "      <td>642</td>\n",
              "      <td>TA</td>\n",
              "      <td>TA</td>\n",
              "      <td>Y</td>\n",
              "      <td>0</td>\n",
              "      <td>35</td>\n",
              "      <td>272</td>\n",
              "      <td>0</td>\n",
              "      <td>0</td>\n",
              "      <td>0</td>\n",
              "      <td>NaN</td>\n",
              "      <td>NaN</td>\n",
              "      <td>NaN</td>\n",
              "      <td>0</td>\n",
              "      <td>2</td>\n",
              "      <td>2006</td>\n",
              "      <td>WD</td>\n",
              "      <td>Abnorml</td>\n",
              "      <td>140000</td>\n",
              "      <td>False</td>\n",
              "      <td>11.849398</td>\n",
              "    </tr>\n",
              "    <tr>\n",
              "      <th>4</th>\n",
              "      <td>5</td>\n",
              "      <td>60</td>\n",
              "      <td>RL</td>\n",
              "      <td>84.0</td>\n",
              "      <td>14260</td>\n",
              "      <td>Pave</td>\n",
              "      <td>NaN</td>\n",
              "      <td>IR1</td>\n",
              "      <td>Lvl</td>\n",
              "      <td>AllPub</td>\n",
              "      <td>FR2</td>\n",
              "      <td>Gtl</td>\n",
              "      <td>NoRidge</td>\n",
              "      <td>Norm</td>\n",
              "      <td>Norm</td>\n",
              "      <td>1Fam</td>\n",
              "      <td>2Story</td>\n",
              "      <td>8</td>\n",
              "      <td>5</td>\n",
              "      <td>2000</td>\n",
              "      <td>2000</td>\n",
              "      <td>Gable</td>\n",
              "      <td>CompShg</td>\n",
              "      <td>VinylSd</td>\n",
              "      <td>VinylSd</td>\n",
              "      <td>BrkFace</td>\n",
              "      <td>350.0</td>\n",
              "      <td>Gd</td>\n",
              "      <td>TA</td>\n",
              "      <td>PConc</td>\n",
              "      <td>Gd</td>\n",
              "      <td>TA</td>\n",
              "      <td>Av</td>\n",
              "      <td>GLQ</td>\n",
              "      <td>655</td>\n",
              "      <td>Unf</td>\n",
              "      <td>0</td>\n",
              "      <td>490</td>\n",
              "      <td>1145</td>\n",
              "      <td>GasA</td>\n",
              "      <td>Ex</td>\n",
              "      <td>Y</td>\n",
              "      <td>SBrkr</td>\n",
              "      <td>1145</td>\n",
              "      <td>1053</td>\n",
              "      <td>0</td>\n",
              "      <td>2198</td>\n",
              "      <td>1</td>\n",
              "      <td>0</td>\n",
              "      <td>2</td>\n",
              "      <td>1</td>\n",
              "      <td>4</td>\n",
              "      <td>1</td>\n",
              "      <td>Gd</td>\n",
              "      <td>9</td>\n",
              "      <td>Typ</td>\n",
              "      <td>1</td>\n",
              "      <td>TA</td>\n",
              "      <td>Attchd</td>\n",
              "      <td>2000.0</td>\n",
              "      <td>RFn</td>\n",
              "      <td>3</td>\n",
              "      <td>836</td>\n",
              "      <td>TA</td>\n",
              "      <td>TA</td>\n",
              "      <td>Y</td>\n",
              "      <td>192</td>\n",
              "      <td>84</td>\n",
              "      <td>0</td>\n",
              "      <td>0</td>\n",
              "      <td>0</td>\n",
              "      <td>0</td>\n",
              "      <td>NaN</td>\n",
              "      <td>NaN</td>\n",
              "      <td>NaN</td>\n",
              "      <td>0</td>\n",
              "      <td>12</td>\n",
              "      <td>2008</td>\n",
              "      <td>WD</td>\n",
              "      <td>Normal</td>\n",
              "      <td>250000</td>\n",
              "      <td>True</td>\n",
              "      <td>12.429216</td>\n",
              "    </tr>\n",
              "  </tbody>\n",
              "</table>\n",
              "</div>"
            ],
            "text/plain": [
              "   Id  MSSubClass MSZoning  LotFrontage  LotArea Street Alley LotShape  \\\n",
              "0   1          60       RL         65.0     8450   Pave   NaN      Reg   \n",
              "1   2          20       RL         80.0     9600   Pave   NaN      Reg   \n",
              "2   3          60       RL         68.0    11250   Pave   NaN      IR1   \n",
              "3   4          70       RL         60.0     9550   Pave   NaN      IR1   \n",
              "4   5          60       RL         84.0    14260   Pave   NaN      IR1   \n",
              "\n",
              "  LandContour Utilities LotConfig LandSlope Neighborhood Condition1  \\\n",
              "0         Lvl    AllPub    Inside       Gtl      CollgCr       Norm   \n",
              "1         Lvl    AllPub       FR2       Gtl      Veenker      Feedr   \n",
              "2         Lvl    AllPub    Inside       Gtl      CollgCr       Norm   \n",
              "3         Lvl    AllPub    Corner       Gtl      Crawfor       Norm   \n",
              "4         Lvl    AllPub       FR2       Gtl      NoRidge       Norm   \n",
              "\n",
              "  Condition2 BldgType HouseStyle  OverallQual  OverallCond  YearBuilt  \\\n",
              "0       Norm     1Fam     2Story            7            5       2003   \n",
              "1       Norm     1Fam     1Story            6            8       1976   \n",
              "2       Norm     1Fam     2Story            7            5       2001   \n",
              "3       Norm     1Fam     2Story            7            5       1915   \n",
              "4       Norm     1Fam     2Story            8            5       2000   \n",
              "\n",
              "   YearRemodAdd RoofStyle RoofMatl Exterior1st Exterior2nd MasVnrType  \\\n",
              "0          2003     Gable  CompShg     VinylSd     VinylSd    BrkFace   \n",
              "1          1976     Gable  CompShg     MetalSd     MetalSd       None   \n",
              "2          2002     Gable  CompShg     VinylSd     VinylSd    BrkFace   \n",
              "3          1970     Gable  CompShg     Wd Sdng     Wd Shng       None   \n",
              "4          2000     Gable  CompShg     VinylSd     VinylSd    BrkFace   \n",
              "\n",
              "   MasVnrArea ExterQual ExterCond Foundation BsmtQual BsmtCond BsmtExposure  \\\n",
              "0       196.0        Gd        TA      PConc       Gd       TA           No   \n",
              "1         0.0        TA        TA     CBlock       Gd       TA           Gd   \n",
              "2       162.0        Gd        TA      PConc       Gd       TA           Mn   \n",
              "3         0.0        TA        TA     BrkTil       TA       Gd           No   \n",
              "4       350.0        Gd        TA      PConc       Gd       TA           Av   \n",
              "\n",
              "  BsmtFinType1  BsmtFinSF1 BsmtFinType2  BsmtFinSF2  BsmtUnfSF  TotalBsmtSF  \\\n",
              "0          GLQ         706          Unf           0        150          856   \n",
              "1          ALQ         978          Unf           0        284         1262   \n",
              "2          GLQ         486          Unf           0        434          920   \n",
              "3          ALQ         216          Unf           0        540          756   \n",
              "4          GLQ         655          Unf           0        490         1145   \n",
              "\n",
              "  Heating HeatingQC CentralAir Electrical  1stFlrSF  2ndFlrSF  LowQualFinSF  \\\n",
              "0    GasA        Ex          Y      SBrkr       856       854             0   \n",
              "1    GasA        Ex          Y      SBrkr      1262         0             0   \n",
              "2    GasA        Ex          Y      SBrkr       920       866             0   \n",
              "3    GasA        Gd          Y      SBrkr       961       756             0   \n",
              "4    GasA        Ex          Y      SBrkr      1145      1053             0   \n",
              "\n",
              "   GrLivArea  BsmtFullBath  BsmtHalfBath  FullBath  HalfBath  BedroomAbvGr  \\\n",
              "0       1710             1             0         2         1             3   \n",
              "1       1262             0             1         2         0             3   \n",
              "2       1786             1             0         2         1             3   \n",
              "3       1717             1             0         1         0             3   \n",
              "4       2198             1             0         2         1             4   \n",
              "\n",
              "   KitchenAbvGr KitchenQual  TotRmsAbvGrd Functional  Fireplaces FireplaceQu  \\\n",
              "0             1          Gd             8        Typ           0         NaN   \n",
              "1             1          TA             6        Typ           1          TA   \n",
              "2             1          Gd             6        Typ           1          TA   \n",
              "3             1          Gd             7        Typ           1          Gd   \n",
              "4             1          Gd             9        Typ           1          TA   \n",
              "\n",
              "  GarageType  GarageYrBlt GarageFinish  GarageCars  GarageArea GarageQual  \\\n",
              "0     Attchd       2003.0          RFn           2         548         TA   \n",
              "1     Attchd       1976.0          RFn           2         460         TA   \n",
              "2     Attchd       2001.0          RFn           2         608         TA   \n",
              "3     Detchd       1998.0          Unf           3         642         TA   \n",
              "4     Attchd       2000.0          RFn           3         836         TA   \n",
              "\n",
              "  GarageCond PavedDrive  WoodDeckSF  OpenPorchSF  EnclosedPorch  3SsnPorch  \\\n",
              "0         TA          Y           0           61              0          0   \n",
              "1         TA          Y         298            0              0          0   \n",
              "2         TA          Y           0           42              0          0   \n",
              "3         TA          Y           0           35            272          0   \n",
              "4         TA          Y         192           84              0          0   \n",
              "\n",
              "   ScreenPorch  PoolArea PoolQC Fence MiscFeature  MiscVal  MoSold  YrSold  \\\n",
              "0            0         0    NaN   NaN         NaN        0       2    2008   \n",
              "1            0         0    NaN   NaN         NaN        0       5    2007   \n",
              "2            0         0    NaN   NaN         NaN        0       9    2008   \n",
              "3            0         0    NaN   NaN         NaN        0       2    2006   \n",
              "4            0         0    NaN   NaN         NaN        0      12    2008   \n",
              "\n",
              "  SaleType SaleCondition  SalePrice  matching_exterior_type   logprice  \n",
              "0       WD        Normal     208500                    True  12.247694  \n",
              "1       WD        Normal     181500                    True  12.109011  \n",
              "2       WD        Normal     223500                    True  12.317167  \n",
              "3       WD       Abnorml     140000                   False  11.849398  \n",
              "4       WD        Normal     250000                    True  12.429216  "
            ]
          },
          "metadata": {
            "tags": []
          },
          "execution_count": 56
        }
      ]
    },
    {
      "metadata": {
        "id": "VYBN1g64Wj8y",
        "colab_type": "code",
        "outputId": "f3f4c7e2-c1d9-4e9d-8807-ad6736d57daa",
        "colab": {
          "base_uri": "https://localhost:8080/",
          "height": 34
        }
      },
      "cell_type": "code",
      "source": [
        "features = ['LotArea', 'OverallQual']\n",
        "X = df[features].values\n",
        "y = df.loc[:,['logprice']].values\n",
        "\n",
        "X_train, X_test, y_train, y_test = train_test_split(X, y, test_size=0.25, random_state=42)\n",
        "\n",
        "\n",
        "lr = LinearRegression()\n",
        "lr.fit(X_train, y_train)\n",
        "\n",
        "\n",
        "oos_pred = lr.predict(X_test)\n",
        "oos_mse = mean_squared_error(y_test, oos_pred)\n",
        "oos_r2 = r2_score(y_test, oos_pred)\n",
        "rmse = (np.sqrt(oos_mse))\n",
        "rmse"
      ],
      "execution_count": 57,
      "outputs": [
        {
          "output_type": "execute_result",
          "data": {
            "text/plain": [
              "0.219812430665842"
            ]
          },
          "metadata": {
            "tags": []
          },
          "execution_count": 57
        }
      ]
    },
    {
      "metadata": {
        "id": "0KzMm-EFX4_b",
        "colab_type": "code",
        "outputId": "abc0551a-ea81-4bb3-d36c-2e9f5a7929f7",
        "colab": {
          "base_uri": "https://localhost:8080/",
          "height": 34
        }
      },
      "cell_type": "code",
      "source": [
        "features = ['LotArea', 'OverallQual', 'OverallCond', 'GrLivArea','GarageArea', 'GarageCars']\n",
        "X = df[features].values\n",
        "y = df.loc[:,['logprice']].values\n",
        "\n",
        "X_train, X_test, y_train, y_test = train_test_split(X, y, test_size=0.25, random_state=42)\n",
        "\n",
        "\n",
        "lr = LinearRegression()\n",
        "lr.fit(X_train, y_train)\n",
        "\n",
        "\n",
        "oos_pred = lr.predict(X_test)\n",
        "oos_mse = mean_squared_error(y_test, oos_pred)\n",
        "oos_r2 = r2_score(y_test, oos_pred)\n",
        "rmse = (np.sqrt(oos_mse))\n",
        "rmse"
      ],
      "execution_count": 58,
      "outputs": [
        {
          "output_type": "execute_result",
          "data": {
            "text/plain": [
              "0.18045001504174427"
            ]
          },
          "metadata": {
            "tags": []
          },
          "execution_count": 58
        }
      ]
    },
    {
      "metadata": {
        "id": "-Prshkm0YKxj",
        "colab_type": "code",
        "outputId": "85d23103-4853-4d48-fb44-fd0e77658f1e",
        "colab": {
          "base_uri": "https://localhost:8080/",
          "height": 34
        }
      },
      "cell_type": "code",
      "source": [
        "features = ['LotArea', 'OverallQual', 'OverallCond', 'GrLivArea','GarageArea', 'GarageCars', 'FullBath', 'HalfBath']\n",
        "X = df[features].values\n",
        "y = df.loc[:,['logprice']].values\n",
        "\n",
        "X_train, X_test, y_train, y_test = train_test_split(X, y, test_size=0.25, random_state=42)\n",
        "\n",
        "\n",
        "lr = LinearRegression()\n",
        "lr.fit(X_train, y_train)\n",
        "\n",
        "\n",
        "oos_pred = lr.predict(X_test)\n",
        "oos_mse = mean_squared_error(y_test, oos_pred)\n",
        "oos_r2 = r2_score(y_test, oos_pred)\n",
        "rmse = (np.sqrt(oos_mse))\n",
        "rmse"
      ],
      "execution_count": 59,
      "outputs": [
        {
          "output_type": "execute_result",
          "data": {
            "text/plain": [
              "0.17990333103566045"
            ]
          },
          "metadata": {
            "tags": []
          },
          "execution_count": 59
        }
      ]
    },
    {
      "metadata": {
        "id": "2FobYmaQY0bE",
        "colab_type": "code",
        "colab": {}
      },
      "cell_type": "code",
      "source": [
        "df['fullhalfbath_interaction'] = df.FullBath * df.HalfBath"
      ],
      "execution_count": 0,
      "outputs": []
    },
    {
      "metadata": {
        "id": "TO527LpxY7E4",
        "colab_type": "code",
        "outputId": "d87b73a8-c981-485d-abf5-bdf870acb4d7",
        "colab": {
          "base_uri": "https://localhost:8080/",
          "height": 34
        }
      },
      "cell_type": "code",
      "source": [
        "features = ['LotArea', 'OverallQual', 'OverallCond', 'GrLivArea','GarageArea', 'GarageCars', 'FullBath', 'HalfBath', 'fullhalfbath_interaction']\n",
        "X = df[features].values\n",
        "y = df.loc[:,['logprice']].values\n",
        "\n",
        "X_train, X_test, y_train, y_test = train_test_split(X, y, test_size=0.25, random_state=42)\n",
        "\n",
        "\n",
        "lr = LinearRegression()\n",
        "lr.fit(X_train, y_train)\n",
        "\n",
        "\n",
        "oos_pred = lr.predict(X_test)\n",
        "oos_mse = mean_squared_error(y_test, oos_pred)\n",
        "oos_r2 = r2_score(y_test, oos_pred)\n",
        "rmse = (np.sqrt(oos_mse))\n",
        "rmse"
      ],
      "execution_count": 61,
      "outputs": [
        {
          "output_type": "execute_result",
          "data": {
            "text/plain": [
              "0.17941350562118014"
            ]
          },
          "metadata": {
            "tags": []
          },
          "execution_count": 61
        }
      ]
    },
    {
      "metadata": {
        "id": "n0B_Rt0xZEmT",
        "colab_type": "code",
        "outputId": "b790c5d0-c4dd-44f8-80b7-9f2b36b19a3d",
        "colab": {
          "base_uri": "https://localhost:8080/",
          "height": 34
        }
      },
      "cell_type": "code",
      "source": [
        "features = ['LotArea', 'OverallQual', 'OverallCond', 'GrLivArea','GarageArea', 'GarageCars', 'FullBath', 'HalfBath', 'fullhalfbath_interaction', 'BedroomAbvGr']\n",
        "X = df[features].values\n",
        "y = df.loc[:,['logprice']].values\n",
        "\n",
        "X_train, X_test, y_train, y_test = train_test_split(X, y, test_size=0.25, random_state=42)\n",
        "\n",
        "\n",
        "lr = LinearRegression()\n",
        "lr.fit(X_train, y_train)\n",
        "\n",
        "\n",
        "oos_pred = lr.predict(X_test)\n",
        "oos_mse = mean_squared_error(y_test, oos_pred)\n",
        "oos_r2 = r2_score(y_test, oos_pred)\n",
        "rmse = (np.sqrt(oos_mse))\n",
        "rmse"
      ],
      "execution_count": 64,
      "outputs": [
        {
          "output_type": "execute_result",
          "data": {
            "text/plain": [
              "0.17876742238505144"
            ]
          },
          "metadata": {
            "tags": []
          },
          "execution_count": 64
        }
      ]
    },
    {
      "metadata": {
        "id": "d9UjZoFGgTAc",
        "colab_type": "code",
        "colab": {
          "base_uri": "https://localhost:8080/",
          "height": 227
        },
        "outputId": "97552843-f3e3-4b10-e27d-afeb2587c6b7"
      },
      "cell_type": "code",
      "source": [
        "df.pivot_table(index='YrSold', values='SalePrice')"
      ],
      "execution_count": 65,
      "outputs": [
        {
          "output_type": "execute_result",
          "data": {
            "text/html": [
              "<div>\n",
              "<style scoped>\n",
              "    .dataframe tbody tr th:only-of-type {\n",
              "        vertical-align: middle;\n",
              "    }\n",
              "\n",
              "    .dataframe tbody tr th {\n",
              "        vertical-align: top;\n",
              "    }\n",
              "\n",
              "    .dataframe thead th {\n",
              "        text-align: right;\n",
              "    }\n",
              "</style>\n",
              "<table border=\"1\" class=\"dataframe\">\n",
              "  <thead>\n",
              "    <tr style=\"text-align: right;\">\n",
              "      <th></th>\n",
              "      <th>SalePrice</th>\n",
              "    </tr>\n",
              "    <tr>\n",
              "      <th>YrSold</th>\n",
              "      <th></th>\n",
              "    </tr>\n",
              "  </thead>\n",
              "  <tbody>\n",
              "    <tr>\n",
              "      <th>2006</th>\n",
              "      <td>182549.458599</td>\n",
              "    </tr>\n",
              "    <tr>\n",
              "      <th>2007</th>\n",
              "      <td>186063.151976</td>\n",
              "    </tr>\n",
              "    <tr>\n",
              "      <th>2008</th>\n",
              "      <td>177360.838816</td>\n",
              "    </tr>\n",
              "    <tr>\n",
              "      <th>2009</th>\n",
              "      <td>179432.103550</td>\n",
              "    </tr>\n",
              "    <tr>\n",
              "      <th>2010</th>\n",
              "      <td>177393.674286</td>\n",
              "    </tr>\n",
              "  </tbody>\n",
              "</table>\n",
              "</div>"
            ],
            "text/plain": [
              "            SalePrice\n",
              "YrSold               \n",
              "2006    182549.458599\n",
              "2007    186063.151976\n",
              "2008    177360.838816\n",
              "2009    179432.103550\n",
              "2010    177393.674286"
            ]
          },
          "metadata": {
            "tags": []
          },
          "execution_count": 65
        }
      ]
    },
    {
      "metadata": {
        "id": "K29YPbQBZjj4",
        "colab_type": "code",
        "outputId": "e42704a4-8a64-43c1-ec95-60c9283e3140",
        "colab": {
          "base_uri": "https://localhost:8080/",
          "height": 121
        }
      },
      "cell_type": "code",
      "source": [
        "df.YrSold.value_counts()"
      ],
      "execution_count": 66,
      "outputs": [
        {
          "output_type": "execute_result",
          "data": {
            "text/plain": [
              "2009    338\n",
              "2007    329\n",
              "2006    314\n",
              "2008    304\n",
              "2010    175\n",
              "Name: YrSold, dtype: int64"
            ]
          },
          "metadata": {
            "tags": []
          },
          "execution_count": 66
        }
      ]
    },
    {
      "metadata": {
        "id": "9FprE6fHaDRd",
        "colab_type": "code",
        "colab": {}
      },
      "cell_type": "code",
      "source": [
        "df['sold_pre_2008'] = (df.YrSold < 2008)"
      ],
      "execution_count": 0,
      "outputs": []
    },
    {
      "metadata": {
        "id": "MmZkwK79aWfr",
        "colab_type": "code",
        "outputId": "8afe8c98-13c2-47c6-a9d1-839b446478ac",
        "colab": {
          "base_uri": "https://localhost:8080/",
          "height": 34
        }
      },
      "cell_type": "code",
      "source": [
        "features = ['LotArea', 'OverallQual', 'OverallCond', 'GrLivArea','GarageArea', 'GarageCars', 'FullBath', 'HalfBath', 'fullhalfbath_interaction', 'BedroomAbvGr',\n",
        "            'sold_pre_2008']\n",
        "X = df[features].values\n",
        "y = df.loc[:,['logprice']].values\n",
        "\n",
        "X_train, X_test, y_train, y_test = train_test_split(X, y, test_size=0.25, random_state=42)\n",
        "\n",
        "\n",
        "lr = LinearRegression()\n",
        "lr.fit(X_train, y_train)\n",
        "\n",
        "\n",
        "oos_pred = lr.predict(X_test)\n",
        "oos_mse = mean_squared_error(y_test, oos_pred)\n",
        "oos_r2 = r2_score(y_test, oos_pred)\n",
        "rmse = (np.sqrt(oos_mse))\n",
        "rmse"
      ],
      "execution_count": 68,
      "outputs": [
        {
          "output_type": "execute_result",
          "data": {
            "text/plain": [
              "0.17857500842915905"
            ]
          },
          "metadata": {
            "tags": []
          },
          "execution_count": 68
        }
      ]
    },
    {
      "metadata": {
        "id": "F45uiewpahDj",
        "colab_type": "code",
        "colab": {}
      },
      "cell_type": "code",
      "source": [
        "df['age_sold'] = df.YrSold - df.YearBuilt\n",
        "df['age_sold_squared'] = df.age_sold ** 2"
      ],
      "execution_count": 0,
      "outputs": []
    },
    {
      "metadata": {
        "id": "h1cEL5hPbAKV",
        "colab_type": "code",
        "outputId": "3e104c4f-ff73-47f8-e23c-9c18bc0ca4b3",
        "colab": {
          "base_uri": "https://localhost:8080/",
          "height": 34
        }
      },
      "cell_type": "code",
      "source": [
        "features = ['LotArea', 'OverallQual', 'OverallCond', 'GrLivArea','GarageArea', 'GarageCars', 'FullBath', 'HalfBath', 'fullhalfbath_interaction', 'BedroomAbvGr',\n",
        "            'sold_pre_2008', 'age_sold', 'age_sold_squared']\n",
        "X = df[features].values\n",
        "y = df.loc[:,['logprice']].values\n",
        "\n",
        "X_train, X_test, y_train, y_test = train_test_split(X, y, test_size=0.25, random_state=42)\n",
        "\n",
        "\n",
        "lr = LinearRegression()\n",
        "lr.fit(X_train, y_train)\n",
        "\n",
        "\n",
        "oos_pred = lr.predict(X_test)\n",
        "oos_mse = mean_squared_error(y_test, oos_pred)\n",
        "oos_r2 = r2_score(y_test, oos_pred)\n",
        "rmse = (np.sqrt(oos_mse))\n",
        "rmse"
      ],
      "execution_count": 86,
      "outputs": [
        {
          "output_type": "execute_result",
          "data": {
            "text/plain": [
              "0.16114651181543724"
            ]
          },
          "metadata": {
            "tags": []
          },
          "execution_count": 86
        }
      ]
    },
    {
      "metadata": {
        "id": "a0pa-HmSbFfJ",
        "colab_type": "code",
        "colab": {}
      },
      "cell_type": "code",
      "source": [
        "df['years_since_remod'] = df.YrSold - df.YearRemodAdd\n",
        "df['years_since_remod_squared'] = df.YrSold - df.YearRemodAdd"
      ],
      "execution_count": 0,
      "outputs": []
    },
    {
      "metadata": {
        "id": "4_D45rkwbVH7",
        "colab_type": "code",
        "outputId": "564bfe6e-64d6-48e2-8fc0-6d78b6ea1982",
        "colab": {
          "base_uri": "https://localhost:8080/",
          "height": 34
        }
      },
      "cell_type": "code",
      "source": [
        "features = ['LotArea', 'OverallQual', 'OverallCond', 'GrLivArea','GarageArea', 'GarageCars', 'FullBath', 'HalfBath', 'fullhalfbath_interaction', 'BedroomAbvGr',\n",
        "            'sold_pre_2008', 'age_sold', 'age_sold_squared', 'years_since_remod', 'years_since_remod_squared']\n",
        "X = df[features].values\n",
        "y = df.loc[:,['logprice']].values\n",
        "\n",
        "X_train, X_test, y_train, y_test = train_test_split(X, y, test_size=0.25, random_state=42)\n",
        "\n",
        "\n",
        "lr = LinearRegression()\n",
        "lr.fit(X_train, y_train)\n",
        "\n",
        "\n",
        "oos_pred = lr.predict(X_test)\n",
        "oos_mse = mean_squared_error(y_test, oos_pred)\n",
        "oos_r2 = r2_score(y_test, oos_pred)\n",
        "rmse = (np.sqrt(oos_mse))\n",
        "rmse"
      ],
      "execution_count": 92,
      "outputs": [
        {
          "output_type": "execute_result",
          "data": {
            "text/plain": [
              "0.16162938032681207"
            ]
          },
          "metadata": {
            "tags": []
          },
          "execution_count": 92
        }
      ]
    },
    {
      "metadata": {
        "id": "FhsftcJHbZOx",
        "colab_type": "code",
        "colab": {}
      },
      "cell_type": "code",
      "source": [
        "df['age_remod_interaction'] = df.age_sold * df.years_since_remod\n",
        "df['age_remod_interaction_squared'] = df.age_sold_squared * df.years_since_remod_squared"
      ],
      "execution_count": 0,
      "outputs": []
    },
    {
      "metadata": {
        "id": "qI2qP_6hbtgP",
        "colab_type": "code",
        "outputId": "d97d510b-c7f9-41a6-f1ae-a917ec2871b5",
        "colab": {
          "base_uri": "https://localhost:8080/",
          "height": 34
        }
      },
      "cell_type": "code",
      "source": [
        "features = ['LotArea', 'OverallQual', 'OverallCond', 'GrLivArea','GarageArea', 'GarageCars', 'FullBath', 'HalfBath', 'fullhalfbath_interaction', 'BedroomAbvGr',\n",
        "            'sold_pre_2008', 'age_sold', 'years_since_remod', 'age_remod_interaction', 'years_since_remod_squared', 'age_sold_squared', 'age_remod_interaction_squared']\n",
        "X = df[features].values\n",
        "y = df.loc[:,['logprice']].values\n",
        "\n",
        "X_train, X_test, y_train, y_test = train_test_split(X, y, test_size=0.25, random_state=42)\n",
        "\n",
        "\n",
        "lr = LinearRegression()\n",
        "lr.fit(X_train, y_train)\n",
        "\n",
        "\n",
        "oos_pred = lr.predict(X_test)\n",
        "oos_mse = mean_squared_error(y_test, oos_pred)\n",
        "oos_r2 = r2_score(y_test, oos_pred)\n",
        "rmse = (np.sqrt(oos_mse))\n",
        "rmse"
      ],
      "execution_count": 96,
      "outputs": [
        {
          "output_type": "execute_result",
          "data": {
            "text/plain": [
              "0.1616454002308544"
            ]
          },
          "metadata": {
            "tags": []
          },
          "execution_count": 96
        }
      ]
    },
    {
      "metadata": {
        "id": "An_HMRfObxcZ",
        "colab_type": "code",
        "outputId": "b9a17ff4-488e-49e3-bbc5-e52f8f3b953c",
        "colab": {
          "base_uri": "https://localhost:8080/",
          "height": 34
        }
      },
      "cell_type": "code",
      "source": [
        "features = ['LotArea', 'OverallQual', 'OverallCond', 'GrLivArea','GarageArea', 'GarageCars', 'FullBath', 'HalfBath', 'fullhalfbath_interaction', 'BedroomAbvGr',\n",
        "            'sold_pre_2008', 'age_sold', 'years_since_remod', 'age_remod_interaction', '1stFlrSF', '2ndFlrSF']\n",
        "X = df[features].values\n",
        "y = df.loc[:,['logprice']].values\n",
        "\n",
        "X_train, X_test, y_train, y_test = train_test_split(X, y, test_size=0.25, random_state=42)\n",
        "\n",
        "\n",
        "lr = LinearRegression()\n",
        "lr.fit(X_train, y_train)\n",
        "\n",
        "\n",
        "oos_pred = lr.predict(X_test)\n",
        "oos_mse = mean_squared_error(y_test, oos_pred)\n",
        "oos_r2 = r2_score(y_test, oos_pred)\n",
        "rmse = (np.sqrt(oos_mse))\n",
        "rmse"
      ],
      "execution_count": 97,
      "outputs": [
        {
          "output_type": "execute_result",
          "data": {
            "text/plain": [
              "0.15511110951231402"
            ]
          },
          "metadata": {
            "tags": []
          },
          "execution_count": 97
        }
      ]
    },
    {
      "metadata": {
        "id": "KeKp5gvec0Ok",
        "colab_type": "code",
        "colab": {}
      },
      "cell_type": "code",
      "source": [
        "df['floor_interaction'] = df['1stFlrSF'] * df['2ndFlrSF']"
      ],
      "execution_count": 0,
      "outputs": []
    },
    {
      "metadata": {
        "id": "OpIJSIOwc7dB",
        "colab_type": "code",
        "outputId": "18dfe9a9-222f-4b76-9137-54fea10eaddf",
        "colab": {
          "base_uri": "https://localhost:8080/",
          "height": 34
        }
      },
      "cell_type": "code",
      "source": [
        "features = ['LotArea', 'OverallQual', 'OverallCond', 'GrLivArea','GarageArea', 'GarageCars', 'FullBath', 'HalfBath', 'fullhalfbath_interaction', 'BedroomAbvGr',\n",
        "            'sold_pre_2008', 'age_sold', 'years_since_remod', 'age_remod_interaction', '1stFlrSF', '2ndFlrSF', 'floor_interaction']\n",
        "X = df[features].values\n",
        "y = df.loc[:,['logprice']].values\n",
        "\n",
        "X_train, X_test, y_train, y_test = train_test_split(X, y, test_size=0.25, random_state=42)\n",
        "\n",
        "\n",
        "lr = LinearRegression()\n",
        "lr.fit(X_train, y_train)\n",
        "\n",
        "\n",
        "oos_pred = lr.predict(X_test)\n",
        "oos_mse = mean_squared_error(y_test, oos_pred)\n",
        "oos_r2 = r2_score(y_test, oos_pred)\n",
        "rmse = (np.sqrt(oos_mse))\n",
        "rmse"
      ],
      "execution_count": 99,
      "outputs": [
        {
          "output_type": "execute_result",
          "data": {
            "text/plain": [
              "0.1548967916031227"
            ]
          },
          "metadata": {
            "tags": []
          },
          "execution_count": 99
        }
      ]
    },
    {
      "metadata": {
        "id": "gHB0r980dow8",
        "colab_type": "code",
        "colab": {}
      },
      "cell_type": "code",
      "source": [
        "df['mszoning_RL'] = (df.MSZoning == 'RL')\n",
        "df['mszoning_c'] = (df.MSZoning == 'C (all)')\n",
        "df['mszoning_RM'] = (df.MSZoning == 'RM')\n",
        "df['mszoning_FV'] = (df.MSZoning == 'FV')"
      ],
      "execution_count": 0,
      "outputs": []
    },
    {
      "metadata": {
        "id": "TbMQHt8yd371",
        "colab_type": "code",
        "outputId": "aa5ac87a-9e81-45e2-e3d9-6753f7a9eb6d",
        "colab": {
          "base_uri": "https://localhost:8080/",
          "height": 34
        }
      },
      "cell_type": "code",
      "source": [
        "features = ['LotArea', 'OverallQual', 'OverallCond', 'GrLivArea','GarageArea', 'GarageCars', 'FullBath', 'HalfBath', 'fullhalfbath_interaction', 'BedroomAbvGr',\n",
        "            'sold_pre_2008', 'age_sold', 'years_since_remod', 'age_remod_interaction', '1stFlrSF', '2ndFlrSF', 'floor_interaction', 'mszoning_RL', 'mszoning_c',\n",
        "            'mszoning_RM', 'mszoning_FV']\n",
        "X = df[features].values\n",
        "y = df.loc[:,['logprice']].values\n",
        "\n",
        "X_train, X_test, y_train, y_test = train_test_split(X, y, test_size=0.25, random_state=42)\n",
        "\n",
        "\n",
        "lr = LinearRegression()\n",
        "lr.fit(X_train, y_train)\n",
        "\n",
        "\n",
        "oos_pred = lr.predict(X_test)\n",
        "oos_mse = mean_squared_error(y_test, oos_pred)\n",
        "oos_r2 = r2_score(y_test, oos_pred)\n",
        "rmse = (np.sqrt(oos_mse))\n",
        "rmse"
      ],
      "execution_count": 103,
      "outputs": [
        {
          "output_type": "execute_result",
          "data": {
            "text/plain": [
              "0.14361104119158047"
            ]
          },
          "metadata": {
            "tags": []
          },
          "execution_count": 103
        }
      ]
    },
    {
      "metadata": {
        "id": "mwLj51KzgZdJ",
        "colab_type": "code",
        "colab": {}
      },
      "cell_type": "code",
      "source": [
        "df['good_area'] = ((df.Neighborhood == 'NoRidge') | (df.Neighborhood == 'NridgeHt') | (df.Neighborhood == 'StoneBr'))\n",
        "df['bad_area'] = ((df.Neighborhood == 'MeadowV') | (df.Neighborhood == 'IDOTRR') | (df.Neighborhood == 'BrDale'))"
      ],
      "execution_count": 0,
      "outputs": []
    },
    {
      "metadata": {
        "id": "_mnVG0IciKi-",
        "colab_type": "code",
        "outputId": "bf579f97-ca89-47ce-f487-426510be7c87",
        "colab": {
          "base_uri": "https://localhost:8080/",
          "height": 34
        }
      },
      "cell_type": "code",
      "source": [
        "features = ['LotArea', 'OverallQual', 'OverallCond', 'GrLivArea','GarageArea', 'GarageCars', 'FullBath', 'HalfBath', 'fullhalfbath_interaction', 'BedroomAbvGr',\n",
        "            'sold_pre_2008', 'age_sold', 'years_since_remod', 'age_remod_interaction', '1stFlrSF', '2ndFlrSF', 'floor_interaction', 'mszoning_RL', 'mszoning_c',\n",
        "            'mszoning_RM', 'mszoning_FV', 'good_area', 'bad_area']\n",
        "X = df[features].values\n",
        "y = df.loc[:,['logprice']].values\n",
        "\n",
        "X_train, X_test, y_train, y_test = train_test_split(X, y, test_size=0.25, random_state=42)\n",
        "\n",
        "\n",
        "lr = LinearRegression()\n",
        "lr.fit(X_train, y_train)\n",
        "\n",
        "\n",
        "oos_pred = lr.predict(X_test)\n",
        "oos_mse = mean_squared_error(y_test, oos_pred)\n",
        "oos_r2 = r2_score(y_test, oos_pred)\n",
        "rmse = (np.sqrt(oos_mse))\n",
        "rmse"
      ],
      "execution_count": 105,
      "outputs": [
        {
          "output_type": "execute_result",
          "data": {
            "text/plain": [
              "0.14186182624711163"
            ]
          },
          "metadata": {
            "tags": []
          },
          "execution_count": 105
        }
      ]
    },
    {
      "metadata": {
        "id": "HZSK8RzzjAp8",
        "colab_type": "code",
        "outputId": "5537c128-ff83-491d-d46a-2ec6d9d5a573",
        "colab": {
          "base_uri": "https://localhost:8080/",
          "height": 364
        }
      },
      "cell_type": "code",
      "source": [
        "df.pivot_table(index='BldgType', values='SalePrice').plot.barh()"
      ],
      "execution_count": 106,
      "outputs": [
        {
          "output_type": "execute_result",
          "data": {
            "text/plain": [
              "<matplotlib.axes._subplots.AxesSubplot at 0x7f391740b7b8>"
            ]
          },
          "metadata": {
            "tags": []
          },
          "execution_count": 106
        },
        {
          "output_type": "display_data",
          "data": {
            "image/png": "[encoded data removed]",
            "text/plain": [
              "<Figure size 576x396 with 1 Axes>"
            ]
          },
          "metadata": {
            "tags": []
          }
        }
      ]
    },
    {
      "metadata": {
        "id": "iA24cKv3iws9",
        "colab_type": "code",
        "colab": {
          "base_uri": "https://localhost:8080/",
          "height": 121
        },
        "outputId": "df9335fa-7303-4197-a577-71ae7b26c545"
      },
      "cell_type": "code",
      "source": [
        "df.BldgType.value_counts()"
      ],
      "execution_count": 107,
      "outputs": [
        {
          "output_type": "execute_result",
          "data": {
            "text/plain": [
              "1Fam      1220\n",
              "TwnhsE     114\n",
              "Duplex      52\n",
              "Twnhs       43\n",
              "2fmCon      31\n",
              "Name: BldgType, dtype: int64"
            ]
          },
          "metadata": {
            "tags": []
          },
          "execution_count": 107
        }
      ]
    },
    {
      "metadata": {
        "id": "7e1SrirCjvEt",
        "colab_type": "code",
        "colab": {}
      },
      "cell_type": "code",
      "source": [
        "df['one_fam_home'] = (df.BldgType == '1Fam')\n",
        "df['townhouse'] = (df.BldgType == 'TwnhsE')"
      ],
      "execution_count": 0,
      "outputs": []
    },
    {
      "metadata": {
        "id": "WH9a6kJkj_Df",
        "colab_type": "code",
        "outputId": "68c0f2f9-3ade-42f9-c565-ddebfbe5d7e8",
        "colab": {
          "base_uri": "https://localhost:8080/",
          "height": 34
        }
      },
      "cell_type": "code",
      "source": [
        "features = ['LotArea', 'OverallQual', 'OverallCond', 'GrLivArea','GarageArea', 'GarageCars', 'FullBath', 'HalfBath', 'fullhalfbath_interaction', 'BedroomAbvGr',\n",
        "            'sold_pre_2008', 'age_sold', 'age_sold_squared', '1stFlrSF', '2ndFlrSF', 'floor_interaction', 'mszoning_RL', 'mszoning_c',\n",
        "            'mszoning_RM', 'mszoning_FV', 'good_area', 'bad_area', 'one_fam_home', 'townhouse']\n",
        "X = df[features].values\n",
        "y = df.loc[:,['logprice']].values\n",
        "\n",
        "X_train, X_test, y_train, y_test = train_test_split(X, y, test_size=0.25, random_state=42)\n",
        "\n",
        "\n",
        "lr = LinearRegression()\n",
        "lr.fit(X_train, y_train)\n",
        "\n",
        "\n",
        "oos_pred = lr.predict(X_test)\n",
        "oos_mse = mean_squared_error(y_test, oos_pred)\n",
        "oos_r2 = r2_score(y_test, oos_pred)\n",
        "rmse = (np.sqrt(oos_mse))\n",
        "rmse"
      ],
      "execution_count": 110,
      "outputs": [
        {
          "output_type": "execute_result",
          "data": {
            "text/plain": [
              "0.14079685931357241"
            ]
          },
          "metadata": {
            "tags": []
          },
          "execution_count": 110
        }
      ]
    },
    {
      "metadata": {
        "id": "fHqybm80kG2M",
        "colab_type": "code",
        "outputId": "2fa67591-54d6-46ee-eff7-7943fd5fb8f7",
        "colab": {
          "base_uri": "https://localhost:8080/",
          "height": 104
        }
      },
      "cell_type": "code",
      "source": [
        "df.MiscFeature.value_counts()"
      ],
      "execution_count": 111,
      "outputs": [
        {
          "output_type": "execute_result",
          "data": {
            "text/plain": [
              "Shed    49\n",
              "Othr     2\n",
              "Gar2     2\n",
              "TenC     1\n",
              "Name: MiscFeature, dtype: int64"
            ]
          },
          "metadata": {
            "tags": []
          },
          "execution_count": 111
        }
      ]
    },
    {
      "metadata": {
        "id": "hGQLcbu7kpLH",
        "colab_type": "code",
        "colab": {}
      },
      "cell_type": "code",
      "source": [
        "df.MiscFeature = df.MiscFeature.fillna('None')"
      ],
      "execution_count": 0,
      "outputs": []
    },
    {
      "metadata": {
        "id": "Tumi2z45lLY9",
        "colab_type": "code",
        "colab": {}
      },
      "cell_type": "code",
      "source": [
        "df['miscfeature_isnone'] = (df.MiscFeature == 'None')\n",
        "df['has_shed'] = (df.MiscFeature == 'Shed')"
      ],
      "execution_count": 0,
      "outputs": []
    },
    {
      "metadata": {
        "id": "VnYUHorlluvE",
        "colab_type": "code",
        "outputId": "732ff363-b604-41e9-bd2d-e8f7ebce6fd3",
        "colab": {
          "base_uri": "https://localhost:8080/",
          "height": 34
        }
      },
      "cell_type": "code",
      "source": [
        "features = ['LotArea', 'OverallQual', 'OverallCond', 'GrLivArea','GarageArea', 'GarageCars', 'FullBath', 'HalfBath', 'fullhalfbath_interaction', 'BedroomAbvGr',\n",
        "            'sold_pre_2008', 'age_sold', 'age_sold_squared', '1stFlrSF', '2ndFlrSF', 'floor_interaction', 'mszoning_RL', 'mszoning_c',\n",
        "            'mszoning_RM', 'mszoning_FV', 'good_area', 'bad_area', 'one_fam_home', 'townhouse', 'miscfeature_isnone']\n",
        "X = df[features].values\n",
        "y = df.loc[:,['logprice']].values\n",
        "\n",
        "X_train, X_test, y_train, y_test = train_test_split(X, y, test_size=0.25, random_state=42)\n",
        "\n",
        "\n",
        "lr = LinearRegression()\n",
        "lr.fit(X_train, y_train)\n",
        "\n",
        "\n",
        "oos_pred = lr.predict(X_test)\n",
        "oos_mse = mean_squared_error(y_test, oos_pred)\n",
        "oos_r2 = r2_score(y_test, oos_pred)\n",
        "rmse = (np.sqrt(oos_mse))\n",
        "rmse"
      ],
      "execution_count": 115,
      "outputs": [
        {
          "output_type": "execute_result",
          "data": {
            "text/plain": [
              "0.1406222601032142"
            ]
          },
          "metadata": {
            "tags": []
          },
          "execution_count": 115
        }
      ]
    },
    {
      "metadata": {
        "id": "y45aKyxrmN8Z",
        "colab_type": "code",
        "outputId": "e5b92193-1992-45d6-9ae5-516d2dbf06a7",
        "colab": {
          "base_uri": "https://localhost:8080/",
          "height": 191
        }
      },
      "cell_type": "code",
      "source": [
        "df.SaleType.value_counts()"
      ],
      "execution_count": 116,
      "outputs": [
        {
          "output_type": "execute_result",
          "data": {
            "text/plain": [
              "WD       1267\n",
              "New       122\n",
              "COD        43\n",
              "ConLD       9\n",
              "ConLw       5\n",
              "ConLI       5\n",
              "CWD         4\n",
              "Oth         3\n",
              "Con         2\n",
              "Name: SaleType, dtype: int64"
            ]
          },
          "metadata": {
            "tags": []
          },
          "execution_count": 116
        }
      ]
    },
    {
      "metadata": {
        "id": "y0YdJ_f6mgiB",
        "colab_type": "code",
        "colab": {}
      },
      "cell_type": "code",
      "source": [
        "df['new_home'] = (df.SaleType == 'New')\n",
        "df['saletype_cod'] = (df.SaleType == 'COD')\n",
        "df['saletype_lowdn_lowint'] = ((df.SaleType == 'ConLD') | (df.SaleType == 'ConLw'))"
      ],
      "execution_count": 0,
      "outputs": []
    },
    {
      "metadata": {
        "id": "4qNVFDjYmrW7",
        "colab_type": "code",
        "outputId": "b51f65ed-17b4-4f3d-e818-213f09796239",
        "colab": {
          "base_uri": "https://localhost:8080/",
          "height": 34
        }
      },
      "cell_type": "code",
      "source": [
        "features = ['LotArea', 'OverallQual', 'OverallCond', 'GrLivArea','GarageArea', 'GarageCars', 'FullBath', 'HalfBath', 'fullhalfbath_interaction', 'BedroomAbvGr',\n",
        "            'sold_pre_2008', 'age_sold', 'age_sold_squared', '1stFlrSF', '2ndFlrSF', 'floor_interaction', 'mszoning_RL', 'mszoning_c',\n",
        "            'mszoning_RM', 'mszoning_FV', 'good_area', 'bad_area', 'one_fam_home', 'townhouse', 'miscfeature_isnone', 'has_shed', 'new_home', 'saletype_lowdn_lowint',\n",
        "            'saletype_cod']\n",
        "X = df[features].values\n",
        "y = df.loc[:,['logprice']].values\n",
        "\n",
        "X_train, X_test, y_train, y_test = train_test_split(X, y, test_size=0.25, random_state=42)\n",
        "\n",
        "\n",
        "lr = LinearRegression()\n",
        "lr.fit(X_train, y_train)\n",
        "\n",
        "\n",
        "oos_pred = lr.predict(X_test)\n",
        "oos_mse = mean_squared_error(y_test, oos_pred)\n",
        "oos_r2 = r2_score(y_test, oos_pred)\n",
        "rmse = (np.sqrt(oos_mse))\n",
        "rmse"
      ],
      "execution_count": 121,
      "outputs": [
        {
          "output_type": "execute_result",
          "data": {
            "text/plain": [
              "0.1400335528866995"
            ]
          },
          "metadata": {
            "tags": []
          },
          "execution_count": 121
        }
      ]
    },
    {
      "metadata": {
        "id": "x3jamcSsnq1y",
        "colab_type": "code",
        "colab": {}
      },
      "cell_type": "code",
      "source": [
        "df['attached_garage'] = (df.GarageType == 'Attchd')\n",
        "df['detchd_garage'] = (df.GarageType == 'Detchd')"
      ],
      "execution_count": 0,
      "outputs": []
    },
    {
      "metadata": {
        "id": "77IMbs_MonBW",
        "colab_type": "code",
        "outputId": "0bd3a72b-b87a-4880-a6f7-5a7a1974a6ca",
        "colab": {
          "base_uri": "https://localhost:8080/",
          "height": 34
        }
      },
      "cell_type": "code",
      "source": [
        "features = ['LotArea', 'OverallQual', 'OverallCond', 'GrLivArea','GarageArea', 'GarageCars', 'FullBath', 'HalfBath', 'fullhalfbath_interaction', 'BedroomAbvGr',\n",
        "            'sold_pre_2008', 'age_sold', 'age_sold_squared', '1stFlrSF', '2ndFlrSF', 'floor_interaction', 'mszoning_RL', 'mszoning_c',\n",
        "            'mszoning_RM', 'mszoning_FV', 'good_area', 'bad_area', 'one_fam_home', 'townhouse', 'miscfeature_isnone', 'has_shed', 'new_home', 'saletype_lowdn_lowint',\n",
        "            'saletype_cod', 'attached_garage', 'detchd_garage']\n",
        "X = df[features].values\n",
        "y = df.loc[:,['logprice']].values\n",
        "\n",
        "X_train, X_test, y_train, y_test = train_test_split(X, y, test_size=0.25, random_state=42)\n",
        "\n",
        "\n",
        "lr = LinearRegression()\n",
        "lr.fit(X_train, y_train)\n",
        "\n",
        "\n",
        "oos_pred = lr.predict(X_test)\n",
        "oos_mse = mean_squared_error(y_test, oos_pred)\n",
        "oos_r2 = r2_score(y_test, oos_pred)\n",
        "rmse = (np.sqrt(oos_mse))\n",
        "rmse"
      ],
      "execution_count": 124,
      "outputs": [
        {
          "output_type": "execute_result",
          "data": {
            "text/plain": [
              "0.13995145968023726"
            ]
          },
          "metadata": {
            "tags": []
          },
          "execution_count": 124
        }
      ]
    },
    {
      "metadata": {
        "id": "dq5QLVSSo3fa",
        "colab_type": "code",
        "colab": {}
      },
      "cell_type": "code",
      "source": [
        "df['lotarea_squared'] = df.LotArea ** 2\n",
        "df['overallqual_squared'] = df.OverallQual ** 2\n",
        "df['overallcond_squared'] = df.OverallCond ** 2\n"
      ],
      "execution_count": 0,
      "outputs": []
    },
    {
      "metadata": {
        "id": "yOpG7aGdpPD9",
        "colab_type": "code",
        "outputId": "6daf8333-be7f-4e8b-cdc2-fb3b8796823e",
        "colab": {
          "base_uri": "https://localhost:8080/",
          "height": 34
        }
      },
      "cell_type": "code",
      "source": [
        "features = ['LotArea', 'OverallQual', 'OverallCond', 'GrLivArea','GarageArea', 'GarageCars', 'FullBath', 'HalfBath', 'fullhalfbath_interaction', 'BedroomAbvGr',\n",
        "            'sold_pre_2008', 'age_sold', 'age_sold_squared', '1stFlrSF', '2ndFlrSF', 'floor_interaction', 'mszoning_RL', 'mszoning_c',\n",
        "            'mszoning_RM', 'mszoning_FV', 'good_area', 'bad_area', 'one_fam_home', 'townhouse', 'miscfeature_isnone', 'has_shed', 'new_home', 'saletype_lowdn_lowint',\n",
        "            'saletype_cod', 'attached_garage', 'detchd_garage', 'lotarea_squared', 'overallqual_squared', 'overallcond_squared']\n",
        "\n",
        "X = df[features].values\n",
        "y = df.loc[:,['logprice']].values\n",
        "\n",
        "X_train, X_test, y_train, y_test = train_test_split(X, y, test_size=0.25, random_state=42)\n",
        "\n",
        "\n",
        "lr = LinearRegression()\n",
        "lr.fit(X_train, y_train)\n",
        "\n",
        "\n",
        "oos_pred = lr.predict(X_test)\n",
        "oos_mse = mean_squared_error(y_test, oos_pred)\n",
        "oos_r2 = r2_score(y_test, oos_pred)\n",
        "rmse = (np.sqrt(oos_mse))\n",
        "rmse"
      ],
      "execution_count": 127,
      "outputs": [
        {
          "output_type": "execute_result",
          "data": {
            "text/plain": [
              "0.13867660428394862"
            ]
          },
          "metadata": {
            "tags": []
          },
          "execution_count": 127
        }
      ]
    },
    {
      "metadata": {
        "id": "HckPc52-qC2K",
        "colab_type": "code",
        "colab": {}
      },
      "cell_type": "code",
      "source": [
        "df['is_start_of_school'] = (df.MoSold == 9)\n",
        "df['is_spring'] = ((df.MoSold == 4) | (df.MoSold == 5))"
      ],
      "execution_count": 0,
      "outputs": []
    },
    {
      "metadata": {
        "id": "QZxZLAvOqMc_",
        "colab_type": "code",
        "outputId": "24b9e4e7-7a62-4a67-b1d6-fc2ef9d8d1e1",
        "colab": {
          "base_uri": "https://localhost:8080/",
          "height": 34
        }
      },
      "cell_type": "code",
      "source": [
        "features = ['LotArea', 'OverallQual', 'OverallCond', 'GrLivArea','GarageArea', 'GarageCars', 'FullBath', 'HalfBath', 'fullhalfbath_interaction', 'BedroomAbvGr',\n",
        "            'sold_pre_2008', 'age_sold', 'years_since_remod', 'age_remod_interaction', '1stFlrSF', '2ndFlrSF', 'floor_interaction', 'mszoning_RL', 'mszoning_c',\n",
        "            'mszoning_RM', 'mszoning_FV', 'good_area', 'bad_area', 'one_fam_home', 'townhouse', 'miscfeature_isnone', 'has_shed', 'new_home', 'attached_garage',\n",
        "            'detchd_garage', 'lotarea_squared', 'overallqual_squared', 'overallcond_squared', 'is_start_of_school', 'is_spring']\n",
        "\n",
        "X = df[features].values\n",
        "y = df.loc[:,['logprice']].values\n",
        "\n",
        "X_train, X_test, y_train, y_test = train_test_split(X, y, test_size=0.25, random_state=42)\n",
        "\n",
        "\n",
        "lr = LinearRegression()\n",
        "lr.fit(X_train, y_train)\n",
        "\n",
        "\n",
        "oos_pred = lr.predict(X_test)\n",
        "oos_mse = mean_squared_error(y_test, oos_pred)\n",
        "oos_r2 = r2_score(y_test, oos_pred)\n",
        "rmse = (np.sqrt(oos_mse))\n",
        "rmse"
      ],
      "execution_count": 129,
      "outputs": [
        {
          "output_type": "execute_result",
          "data": {
            "text/plain": [
              "0.13965680003416253"
            ]
          },
          "metadata": {
            "tags": []
          },
          "execution_count": 129
        }
      ]
    },
    {
      "metadata": {
        "id": "-1ZuiXljquMM",
        "colab_type": "code",
        "colab": {}
      },
      "cell_type": "code",
      "source": [
        "df['remodeled?'] = (df.YearBuilt != df.YearRemodAdd)"
      ],
      "execution_count": 0,
      "outputs": []
    },
    {
      "metadata": {
        "id": "h0oznm21rX36",
        "colab_type": "code",
        "outputId": "405a31a6-255b-4403-984a-70de378cb829",
        "colab": {
          "base_uri": "https://localhost:8080/",
          "height": 34
        }
      },
      "cell_type": "code",
      "source": [
        "features = ['LotArea', 'OverallQual', 'OverallCond', 'GrLivArea','GarageArea', 'GarageCars', 'FullBath', 'HalfBath', 'fullhalfbath_interaction', 'BedroomAbvGr',\n",
        "            'sold_pre_2008', 'age_sold', 'years_since_remod', 'age_remod_interaction', '1stFlrSF', '2ndFlrSF', 'floor_interaction', 'mszoning_RL', 'mszoning_c',\n",
        "            'mszoning_RM', 'mszoning_FV', 'good_area', 'bad_area', 'one_fam_home', 'townhouse', 'miscfeature_isnone', 'has_shed', 'new_home', 'attached_garage',\n",
        "            'detchd_garage', 'lotarea_squared', 'overallqual_squared', 'overallcond_squared', 'is_start_of_school', 'is_spring', 'remodeled?']\n",
        "\n",
        "X = df[features].values\n",
        "y = df.loc[:,['logprice']].values\n",
        "\n",
        "X_train, X_test, y_train, y_test = train_test_split(X, y, test_size=0.25, random_state=42)\n",
        "\n",
        "\n",
        "lr = LinearRegression()\n",
        "lr.fit(X_train, y_train)\n",
        "\n",
        "\n",
        "oos_pred = lr.predict(X_test)\n",
        "oos_mse = mean_squared_error(y_test, oos_pred)\n",
        "oos_r2 = r2_score(y_test, oos_pred)\n",
        "rmse = (np.sqrt(oos_mse))\n",
        "rmse"
      ],
      "execution_count": 134,
      "outputs": [
        {
          "output_type": "execute_result",
          "data": {
            "text/plain": [
              "0.1397498301197803"
            ]
          },
          "metadata": {
            "tags": []
          },
          "execution_count": 134
        }
      ]
    },
    {
      "metadata": {
        "id": "-pab4hODrcTt",
        "colab_type": "code",
        "colab": {}
      },
      "cell_type": "code",
      "source": [
        "df['age_remodeled_interaction_good'] = (df.age_sold * df['remodeled?']) "
      ],
      "execution_count": 0,
      "outputs": []
    },
    {
      "metadata": {
        "id": "3PZlcblyrvsI",
        "colab_type": "code",
        "outputId": "5400e394-a989-47f2-ab63-5445245a86d7",
        "colab": {
          "base_uri": "https://localhost:8080/",
          "height": 34
        }
      },
      "cell_type": "code",
      "source": [
        "features = ['LotArea', 'OverallQual', 'OverallCond', 'GrLivArea','GarageArea', 'GarageCars', 'FullBath', 'HalfBath', 'fullhalfbath_interaction', 'BedroomAbvGr',\n",
        "            'sold_pre_2008', 'age_sold', 'years_since_remod', 'age_remod_interaction', '1stFlrSF', '2ndFlrSF', 'floor_interaction', 'mszoning_RL', 'mszoning_c',\n",
        "            'mszoning_RM', 'mszoning_FV', 'good_area', 'bad_area', 'one_fam_home', 'townhouse', 'miscfeature_isnone', 'has_shed', 'new_home', 'attached_garage',\n",
        "            'detchd_garage', 'lotarea_squared', 'overallqual_squared', 'overallcond_squared', 'is_start_of_school', 'is_spring', 'remodeled?', 'age_remodeled_interaction_good']\n",
        "\n",
        "X = df[features].values\n",
        "y = df.loc[:,['logprice']].values\n",
        "\n",
        "X_train, X_test, y_train, y_test = train_test_split(X, y, test_size=0.25, random_state=42)\n",
        "\n",
        "\n",
        "lr = LinearRegression()\n",
        "lr.fit(X_train, y_train)\n",
        "\n",
        "\n",
        "oos_pred = lr.predict(X_test)\n",
        "oos_mse = mean_squared_error(y_test, oos_pred)\n",
        "oos_r2 = r2_score(y_test, oos_pred)\n",
        "rmse = (np.sqrt(oos_mse))\n",
        "rmse, oos_r2"
      ],
      "execution_count": 136,
      "outputs": [
        {
          "output_type": "execute_result",
          "data": {
            "text/plain": [
              "(0.13951684598359806, 0.8875894154193711)"
            ]
          },
          "metadata": {
            "tags": []
          },
          "execution_count": 136
        }
      ]
    },
    {
      "metadata": {
        "id": "p6P27XHFrvnR",
        "colab_type": "code",
        "colab": {}
      },
      "cell_type": "code",
      "source": [
        "df['sq_footage_fsb'] = df['1stFlrSF'] + df['2ndFlrSF'] + df.BsmtFinSF1\n",
        "df['sqfootage_fsb_squared'] = df.sq_footage_fsb ** 2"
      ],
      "execution_count": 0,
      "outputs": []
    },
    {
      "metadata": {
        "id": "ufsz7rCYthtl",
        "colab_type": "code",
        "outputId": "b905b9ca-ef90-4485-be77-4c0798577bb0",
        "colab": {
          "base_uri": "https://localhost:8080/",
          "height": 34
        }
      },
      "cell_type": "code",
      "source": [
        "features = ['LotArea', 'OverallQual', 'OverallCond', 'GrLivArea','GarageArea', 'GarageCars', 'FullBath', 'HalfBath', 'fullhalfbath_interaction', 'BedroomAbvGr',\n",
        "            'sold_pre_2008', 'age_sold', 'age_sold_squared', 'years_since_remod', 'age_remod_interaction', '1stFlrSF', '2ndFlrSF', 'floor_interaction', 'mszoning_RL', 'mszoning_c',\n",
        "            'mszoning_RM', 'mszoning_FV', 'good_area', 'bad_area', 'one_fam_home', 'townhouse', 'miscfeature_isnone', 'has_shed', 'new_home', 'attached_garage',\n",
        "            'detchd_garage', 'lotarea_squared', 'overallqual_squared', 'overallcond_squared', 'is_start_of_school', 'is_spring', 'remodeled?', 'age_remodeled_interaction_good',\n",
        "            'sq_footage_fsb', 'sqfootage_fsb_squared']\n",
        "\n",
        "X = df[features].values\n",
        "y = df.loc[:,['logprice']].values\n",
        "\n",
        "X_train, X_test, y_train, y_test = train_test_split(X, y, test_size=0.25, random_state=42)\n",
        "\n",
        "\n",
        "lr = LinearRegression()\n",
        "lr.fit(X_train, y_train)\n",
        "\n",
        "\n",
        "oos_pred = lr.predict(X_test)\n",
        "oos_mse = mean_squared_error(y_test, oos_pred)\n",
        "oos_r2 = r2_score(y_test, oos_pred)\n",
        "rmse = (np.sqrt(oos_mse))\n",
        "rmse, oos_r2"
      ],
      "execution_count": 142,
      "outputs": [
        {
          "output_type": "execute_result",
          "data": {
            "text/plain": [
              "(0.12416043117731722, 0.9109732885955805)"
            ]
          },
          "metadata": {
            "tags": []
          },
          "execution_count": 142
        }
      ]
    },
    {
      "metadata": {
        "id": "X9B-iwdDuaEH",
        "colab_type": "code",
        "colab": {}
      },
      "cell_type": "code",
      "source": [
        "df['fullbath_squared'] = df.FullBath ** 2\n",
        "df['grlivarea_squared'] = df.GrLivArea ** 2"
      ],
      "execution_count": 0,
      "outputs": []
    },
    {
      "metadata": {
        "id": "9ldaFNAmuplU",
        "colab_type": "code",
        "outputId": "a1812a0c-0afd-4958-d16b-ba5ee186f31a",
        "colab": {
          "base_uri": "https://localhost:8080/",
          "height": 34
        }
      },
      "cell_type": "code",
      "source": [
        "features = ['LotArea', 'OverallQual', 'OverallCond', 'GrLivArea','GarageArea', 'GarageCars', 'FullBath', 'HalfBath', 'fullhalfbath_interaction', 'BedroomAbvGr',\n",
        "            'sold_pre_2008', 'age_sold','age_sold_squared', 'years_since_remod', 'age_remod_interaction', '1stFlrSF', '2ndFlrSF', 'floor_interaction', 'mszoning_RL', 'mszoning_c',\n",
        "            'mszoning_RM', 'mszoning_FV', 'good_area', 'bad_area', 'one_fam_home', 'townhouse', 'miscfeature_isnone', 'has_shed', 'new_home', 'attached_garage',\n",
        "            'detchd_garage', 'lotarea_squared', 'overallqual_squared', 'overallcond_squared', 'is_start_of_school', 'is_spring', 'remodeled?', 'age_remodeled_interaction_good',\n",
        "            'sq_footage_fsb', 'sqfootage_fsb_squared', 'grlivarea_squared']\n",
        "\n",
        "X = df[features].values\n",
        "y = df.loc[:,['logprice']].values\n",
        "\n",
        "X_train, X_test, y_train, y_test = train_test_split(X, y, test_size=0.25, random_state=42)\n",
        "\n",
        "\n",
        "lr = LinearRegression()\n",
        "lr.fit(X_train, y_train)\n",
        "\n",
        "\n",
        "oos_pred = lr.predict(X_test)\n",
        "oos_mse = mean_squared_error(y_test, oos_pred)\n",
        "oos_r2 = r2_score(y_test, oos_pred)\n",
        "rmse = (np.sqrt(oos_mse))\n",
        "rmse, oos_r2"
      ],
      "execution_count": 149,
      "outputs": [
        {
          "output_type": "execute_result",
          "data": {
            "text/plain": [
              "(0.12372682436024579, 0.9115940206997053)"
            ]
          },
          "metadata": {
            "tags": []
          },
          "execution_count": 149
        }
      ]
    },
    {
      "metadata": {
        "id": "Fd4xy01yu5rT",
        "colab_type": "code",
        "outputId": "e17f9854-3eea-40f3-921b-c89d8cc58160",
        "colab": {
          "base_uri": "https://localhost:8080/",
          "height": 364
        }
      },
      "cell_type": "code",
      "source": [
        "df.pivot_table(index='HeatingQC', values='SalePrice').plot.barh()"
      ],
      "execution_count": 154,
      "outputs": [
        {
          "output_type": "execute_result",
          "data": {
            "text/plain": [
              "<matplotlib.axes._subplots.AxesSubplot at 0x7f39149e6438>"
            ]
          },
          "metadata": {
            "tags": []
          },
          "execution_count": 154
        },
        {
          "output_type": "display_data",
          "data": {
            "image/png": "[encoded data removed]",
            "text/plain": [
              "<Figure size 576x396 with 1 Axes>"
            ]
          },
          "metadata": {
            "tags": []
          }
        }
      ]
    },
    {
      "metadata": {
        "id": "4jlOhawymxKi",
        "colab_type": "code",
        "colab": {
          "base_uri": "https://localhost:8080/",
          "height": 121
        },
        "outputId": "f51c279a-8974-473f-97af-496fa0b95c47"
      },
      "cell_type": "code",
      "source": [
        "df.HeatingQC.value_counts()"
      ],
      "execution_count": 153,
      "outputs": [
        {
          "output_type": "execute_result",
          "data": {
            "text/plain": [
              "Ex    741\n",
              "TA    428\n",
              "Gd    241\n",
              "Fa     49\n",
              "Po      1\n",
              "Name: HeatingQC, dtype: int64"
            ]
          },
          "metadata": {
            "tags": []
          },
          "execution_count": 153
        }
      ]
    },
    {
      "metadata": {
        "id": "SEQhEp-XvVUq",
        "colab_type": "code",
        "colab": {}
      },
      "cell_type": "code",
      "source": [
        "df['heating_gasa'] = (df.Heating == 'GasA')\n",
        "df['heating_qual_ex'] = (df.HeatingQC == 'Ex')\n",
        "df['heating_qual_pr'] = (df.HeatingQC == 'Po')\n",
        "df['heating_qual_fa'] = (df.HeatingQC == 'Fa')"
      ],
      "execution_count": 0,
      "outputs": []
    },
    {
      "metadata": {
        "id": "QBDeTIbJvlFw",
        "colab_type": "code",
        "outputId": "996ab523-c9bc-49d9-9876-a28133cc6b2a",
        "colab": {
          "base_uri": "https://localhost:8080/",
          "height": 34
        }
      },
      "cell_type": "code",
      "source": [
        "features = ['LotArea', 'OverallQual', 'OverallCond', 'GrLivArea','GarageArea', 'GarageCars', 'FullBath', 'HalfBath', 'fullhalfbath_interaction', 'BedroomAbvGr',\n",
        "            'sold_pre_2008', 'age_sold','age_sold_squared', 'years_since_remod', 'age_remod_interaction', '1stFlrSF', '2ndFlrSF', 'floor_interaction', 'mszoning_RL', 'mszoning_c',\n",
        "            'mszoning_RM', 'mszoning_FV', 'good_area', 'bad_area', 'one_fam_home', 'townhouse', 'miscfeature_isnone', 'has_shed', 'new_home', 'attached_garage',\n",
        "            'detchd_garage', 'lotarea_squared', 'overallqual_squared', 'overallcond_squared', 'is_start_of_school', 'is_spring', 'remodeled?', 'age_remodeled_interaction_good',\n",
        "            'sq_footage_fsb', 'sqfootage_fsb_squared', 'grlivarea_squared', 'heating_qual_ex', 'heating_qual_pr', 'heating_qual_fa']\n",
        "\n",
        "X = df[features].values\n",
        "y = df.loc[:,['logprice']].values\n",
        "\n",
        "X_train, X_test, y_train, y_test = train_test_split(X, y, test_size=0.25, random_state=42)\n",
        "\n",
        "\n",
        "lr = LinearRegression()\n",
        "lr.fit(X_train, y_train)\n",
        "\n",
        "\n",
        "oos_pred = lr.predict(X_test)\n",
        "oos_mse = mean_squared_error(y_test, oos_pred)\n",
        "oos_r2 = r2_score(y_test, oos_pred)\n",
        "rmse = (np.sqrt(oos_mse))\n",
        "rmse, oos_r2"
      ],
      "execution_count": 165,
      "outputs": [
        {
          "output_type": "execute_result",
          "data": {
            "text/plain": [
              "(0.1232043653009085, 0.9123390650396819)"
            ]
          },
          "metadata": {
            "tags": []
          },
          "execution_count": 165
        }
      ]
    },
    {
      "metadata": {
        "id": "tku-u_dyvppD",
        "colab_type": "code",
        "colab": {}
      },
      "cell_type": "code",
      "source": [
        "df['bsmt_unfin_percent'] = df.BsmtUnfSF / df.TotalBsmtSF\n",
        "df.bsmt_unfin_percent = df.bsmt_unfin_percent.fillna(1)"
      ],
      "execution_count": 0,
      "outputs": []
    },
    {
      "metadata": {
        "id": "QIuORTZiwEmb",
        "colab_type": "code",
        "outputId": "4c852975-3938-4eef-c295-6a8d8cea83e9",
        "colab": {
          "base_uri": "https://localhost:8080/",
          "height": 34
        }
      },
      "cell_type": "code",
      "source": [
        "df.bsmt_unfin_percent.isna().sum()"
      ],
      "execution_count": 167,
      "outputs": [
        {
          "output_type": "execute_result",
          "data": {
            "text/plain": [
              "37"
            ]
          },
          "metadata": {
            "tags": []
          },
          "execution_count": 167
        }
      ]
    },
    {
      "metadata": {
        "id": "Q20YlAzPwNIW",
        "colab_type": "code",
        "colab": {}
      },
      "cell_type": "code",
      "source": [
        "df.bsmt_unfin_percent = df.bsmt_unfin_percent.fillna(1)"
      ],
      "execution_count": 0,
      "outputs": []
    },
    {
      "metadata": {
        "id": "yQcRUO5qv-LZ",
        "colab_type": "code",
        "outputId": "2f2017fb-0e04-4796-f0a0-df21170373cb",
        "colab": {
          "base_uri": "https://localhost:8080/",
          "height": 34
        }
      },
      "cell_type": "code",
      "source": [
        "features = ['LotArea', 'OverallQual', 'OverallCond', 'GrLivArea','GarageArea', 'GarageCars', 'FullBath', 'HalfBath', 'fullhalfbath_interaction', 'BedroomAbvGr',\n",
        "            'sold_pre_2008', 'age_sold','age_sold_squared', 'years_since_remod', 'age_remod_interaction', '1stFlrSF', '2ndFlrSF', 'floor_interaction', 'mszoning_RL', 'mszoning_c',\n",
        "            'mszoning_RM', 'mszoning_FV', 'good_area', 'bad_area', 'one_fam_home', 'townhouse', 'miscfeature_isnone', 'has_shed', 'new_home', 'attached_garage',\n",
        "            'detchd_garage', 'lotarea_squared', 'overallqual_squared', 'overallcond_squared', 'is_start_of_school', 'is_spring', 'remodeled?', 'age_remodeled_interaction_good',\n",
        "            'sq_footage_fsb', 'sqfootage_fsb_squared', 'grlivarea_squared', 'heating_qual_ex', 'heating_qual_pr', 'heating_qual_fa']\n",
        "\n",
        "\n",
        "\n",
        "X = df[features].values\n",
        "y = df.loc[:,['logprice']].values\n",
        "\n",
        "X_train, X_test, y_train, y_test = train_test_split(X, y, test_size=0.25, random_state=42)\n",
        "\n",
        "\n",
        "lr = LinearRegression()\n",
        "lr.fit(X_train, y_train)\n",
        "\n",
        "\n",
        "oos_pred = lr.predict(X_test)\n",
        "oos_mse = mean_squared_error(y_test, oos_pred)\n",
        "oos_r2 = r2_score(y_test, oos_pred)\n",
        "rmse = (np.sqrt(oos_mse))\n",
        "rmse, oos_r2"
      ],
      "execution_count": 179,
      "outputs": [
        {
          "output_type": "execute_result",
          "data": {
            "text/plain": [
              "(0.12346706914557265, 0.9119648345266984)"
            ]
          },
          "metadata": {
            "tags": []
          },
          "execution_count": 179
        }
      ]
    },
    {
      "metadata": {
        "id": "N9x5LB6Rw1oK",
        "colab_type": "code",
        "colab": {}
      },
      "cell_type": "code",
      "source": [
        "df['finished_bsmt'] = (df.bsmt_unfin_percent == 0)"
      ],
      "execution_count": 0,
      "outputs": []
    },
    {
      "metadata": {
        "id": "9JLyU8ZXxQYX",
        "colab_type": "code",
        "outputId": "7a030377-16b5-45e0-85c5-1aede2a401c2",
        "colab": {
          "base_uri": "https://localhost:8080/",
          "height": 34
        }
      },
      "cell_type": "code",
      "source": [
        "features = ['LotArea', 'OverallQual', 'OverallCond', 'GrLivArea','GarageArea', 'GarageCars', 'FullBath', 'HalfBath', 'fullhalfbath_interaction', 'BedroomAbvGr',\n",
        "            'sold_pre_2008', 'age_sold','age_sold_squared', 'years_since_remod', 'age_remod_interaction', '1stFlrSF', '2ndFlrSF', 'floor_interaction', 'mszoning_RL', 'mszoning_c',\n",
        "            'mszoning_RM', 'mszoning_FV', 'good_area', 'bad_area', 'one_fam_home', 'townhouse', 'miscfeature_isnone', 'has_shed', 'new_home', 'attached_garage',\n",
        "            'detchd_garage', 'lotarea_squared', 'overallqual_squared', 'overallcond_squared', 'is_start_of_school', 'is_spring', 'remodeled?', 'age_remodeled_interaction_good',\n",
        "            'sq_footage_fsb', 'sqfootage_fsb_squared', 'grlivarea_squared', 'heating_qual_ex', 'heating_qual_pr', 'heating_qual_fa', 'finished_bsmt']\n",
        "\n",
        "\n",
        "\n",
        "X = df[features].values\n",
        "y = df.loc[:,['logprice']].values\n",
        "\n",
        "X_train, X_test, y_train, y_test = train_test_split(X, y, test_size=0.25, random_state=42)\n",
        "\n",
        "\n",
        "lr = LinearRegression()\n",
        "lr.fit(X_train, y_train)\n",
        "\n",
        "\n",
        "oos_pred = lr.predict(X_test)\n",
        "oos_mse = mean_squared_error(y_test, oos_pred)\n",
        "oos_r2 = r2_score(y_test, oos_pred)\n",
        "rmse = (np.sqrt(oos_mse))\n",
        "rmse, oos_r2"
      ],
      "execution_count": 184,
      "outputs": [
        {
          "output_type": "execute_result",
          "data": {
            "text/plain": [
              "(0.12323313695498979, 0.9122981177146883)"
            ]
          },
          "metadata": {
            "tags": []
          },
          "execution_count": 184
        }
      ]
    },
    {
      "metadata": {
        "id": "gy2hWV_vxaUF",
        "colab_type": "code",
        "outputId": "00c6bfed-c6f3-47d3-a89a-4d318fb26324",
        "colab": {
          "base_uri": "https://localhost:8080/",
          "height": 191
        }
      },
      "cell_type": "code",
      "source": [
        "df.Condition1.value_counts()"
      ],
      "execution_count": 185,
      "outputs": [
        {
          "output_type": "execute_result",
          "data": {
            "text/plain": [
              "Norm      1260\n",
              "Feedr       81\n",
              "Artery      48\n",
              "RRAn        26\n",
              "PosN        19\n",
              "RRAe        11\n",
              "PosA         8\n",
              "RRNn         5\n",
              "RRNe         2\n",
              "Name: Condition1, dtype: int64"
            ]
          },
          "metadata": {
            "tags": []
          },
          "execution_count": 185
        }
      ]
    },
    {
      "metadata": {
        "id": "78U7w6YBxvCs",
        "colab_type": "code",
        "outputId": "cbf8a7a6-c0d1-4fcc-b288-62199c8330a4",
        "colab": {
          "base_uri": "https://localhost:8080/",
          "height": 173
        }
      },
      "cell_type": "code",
      "source": [
        "df.Condition2.value_counts()"
      ],
      "execution_count": 186,
      "outputs": [
        {
          "output_type": "execute_result",
          "data": {
            "text/plain": [
              "Norm      1445\n",
              "Feedr        6\n",
              "Artery       2\n",
              "PosN         2\n",
              "RRNn         2\n",
              "PosA         1\n",
              "RRAe         1\n",
              "RRAn         1\n",
              "Name: Condition2, dtype: int64"
            ]
          },
          "metadata": {
            "tags": []
          },
          "execution_count": 186
        }
      ]
    },
    {
      "metadata": {
        "id": "GXSVbJpqxfbh",
        "colab_type": "code",
        "outputId": "a65f84d1-6f56-4cc0-f7a1-72cb74f22124",
        "colab": {
          "base_uri": "https://localhost:8080/",
          "height": 51
        }
      },
      "cell_type": "code",
      "source": [
        "df['pos1_feedr_art'] = ((df.Condition1 == 'Feedr') | (df.Condition1 == 'Artery'))\n",
        "df['pos2_feedr_art'] = ((df.Condition2 == 'Feedr') | (df.Condition2 == 'Artery'))\n",
        "df['pos1_pos2_sum1'] = (df.pos1_feedr_art + df.pos2_feedr_art == 1)\n",
        "df['pos1_pos2_sum2'] = (df.pos1_feedr_art + df.pos2_feedr_art == 2) "
      ],
      "execution_count": 188,
      "outputs": [
        {
          "output_type": "stream",
          "text": [
            "/usr/local/lib/python3.6/dist-packages/pandas/core/computation/expressions.py:179: UserWarning: evaluating in Python space because the '+' operator is not supported by numexpr for the bool dtype, use '|' instead\n",
            "  .format(op=op_str, alt_op=unsupported[op_str]))\n"
          ],
          "name": "stderr"
        }
      ]
    },
    {
      "metadata": {
        "id": "w3Hx_3Ezyt0T",
        "colab_type": "code",
        "outputId": "b707579b-9c24-4d7d-ee26-74206ca26773",
        "colab": {
          "base_uri": "https://localhost:8080/",
          "height": 34
        }
      },
      "cell_type": "code",
      "source": [
        "features = ['LotArea', 'OverallQual', 'OverallCond', 'GrLivArea','GarageArea', 'GarageCars', 'FullBath', 'HalfBath', 'fullhalfbath_interaction', 'BedroomAbvGr',\n",
        "            'sold_pre_2008', 'age_sold','age_sold_squared', 'years_since_remod', 'age_remod_interaction', '1stFlrSF', '2ndFlrSF', 'floor_interaction', 'mszoning_RL', 'mszoning_c',\n",
        "            'mszoning_RM', 'mszoning_FV', 'good_area', 'bad_area', 'one_fam_home', 'townhouse', 'miscfeature_isnone', 'has_shed', 'new_home', 'attached_garage',\n",
        "            'detchd_garage', 'lotarea_squared', 'overallqual_squared', 'overallcond_squared', 'is_start_of_school', 'is_spring', 'remodeled?', 'age_remodeled_interaction_good',\n",
        "            'sq_footage_fsb', 'sqfootage_fsb_squared', 'grlivarea_squared', 'heating_qual_ex', 'heating_qual_pr', 'heating_qual_fa', 'finished_bsmt', 'pos1_feedr_art', 'pos2_feedr_art',\n",
        "            'pos1_pos2_sum1', 'pos1_pos2_sum2']\n",
        "\n",
        "\n",
        "\n",
        "X = df[features].values\n",
        "y = df.loc[:,['logprice']].values\n",
        "\n",
        "X_train, X_test, y_train, y_test = train_test_split(X, y, test_size=0.25, random_state=42)\n",
        "\n",
        "\n",
        "lr = LinearRegression()\n",
        "lr.fit(X_train, y_train)\n",
        "\n",
        "\n",
        "oos_pred = lr.predict(X_test)\n",
        "oos_mse = mean_squared_error(y_test, oos_pred)\n",
        "oos_r2 = r2_score(y_test, oos_pred)\n",
        "rmse = (np.sqrt(oos_mse))\n",
        "rmse, oos_r2"
      ],
      "execution_count": 190,
      "outputs": [
        {
          "output_type": "execute_result",
          "data": {
            "text/plain": [
              "(0.12146824916294878, 0.914792180805353)"
            ]
          },
          "metadata": {
            "tags": []
          },
          "execution_count": 190
        }
      ]
    },
    {
      "metadata": {
        "id": "iSz8EUeB0TUW",
        "colab_type": "code",
        "colab": {}
      },
      "cell_type": "code",
      "source": [
        "df['onehalf_fin'] = (df.HouseStyle == '1.5Fin')\n",
        "df['onehalf_unfin'] = (df.HouseStyle == '1.5Unf')\n"
      ],
      "execution_count": 0,
      "outputs": []
    },
    {
      "metadata": {
        "id": "qXQmVPPK0pS8",
        "colab_type": "code",
        "outputId": "5c9c6549-570d-4a19-ea83-dd192fc791c1",
        "colab": {
          "base_uri": "https://localhost:8080/",
          "height": 34
        }
      },
      "cell_type": "code",
      "source": [
        "features = ['LotArea', 'OverallQual', 'OverallCond', 'GrLivArea','GarageArea', 'GarageCars', 'FullBath', 'HalfBath', 'fullhalfbath_interaction', 'BedroomAbvGr',\n",
        "            'sold_pre_2008', 'age_sold','age_sold_squared', 'years_since_remod', 'age_remod_interaction', '1stFlrSF', '2ndFlrSF', 'floor_interaction', 'mszoning_RL', 'mszoning_c',\n",
        "            'mszoning_RM', 'mszoning_FV', 'good_area', 'bad_area', 'one_fam_home', 'townhouse', 'miscfeature_isnone', 'has_shed', 'new_home', 'attached_garage',\n",
        "            'detchd_garage', 'lotarea_squared', 'overallqual_squared', 'overallcond_squared', 'is_start_of_school', 'is_spring', 'remodeled?', 'age_remodeled_interaction_good',\n",
        "            'sq_footage_fsb', 'sqfootage_fsb_squared', 'grlivarea_squared', 'heating_qual_ex', 'heating_qual_pr', 'heating_qual_fa', 'finished_bsmt', 'pos1_feedr_art', 'pos2_feedr_art',\n",
        "            'pos1_pos2_sum1', 'pos1_pos2_sum2', 'onehalf_fin', 'onehalf_unfin']\n",
        "\n",
        "\n",
        "\n",
        "X = df[features].values\n",
        "y = df.loc[:,['logprice']].values\n",
        "\n",
        "X_train, X_test, y_train, y_test = train_test_split(X, y, test_size=0.25, random_state=42)\n",
        "\n",
        "\n",
        "lr = LinearRegression()\n",
        "lr.fit(X_train, y_train)\n",
        "\n",
        "\n",
        "oos_pred = lr.predict(X_test)\n",
        "oos_mse = mean_squared_error(y_test, oos_pred)\n",
        "oos_r2 = r2_score(y_test, oos_pred)\n",
        "rmse = (np.sqrt(oos_mse))\n",
        "rmse, oos_r2"
      ],
      "execution_count": 192,
      "outputs": [
        {
          "output_type": "execute_result",
          "data": {
            "text/plain": [
              "(0.12154190209804065, 0.9146888170258582)"
            ]
          },
          "metadata": {
            "tags": []
          },
          "execution_count": 192
        }
      ]
    },
    {
      "metadata": {
        "id": "Eko5F2Jy00BN",
        "colab_type": "code",
        "outputId": "a9115896-f8b1-4556-dbd0-18711ec4a38e",
        "colab": {
          "base_uri": "https://localhost:8080/",
          "height": 104
        }
      },
      "cell_type": "code",
      "source": [
        "df.KitchenQual.value_counts()"
      ],
      "execution_count": 0,
      "outputs": [
        {
          "output_type": "execute_result",
          "data": {
            "text/plain": [
              "TA    735\n",
              "Gd    586\n",
              "Ex    100\n",
              "Fa     39\n",
              "Name: KitchenQual, dtype: int64"
            ]
          },
          "metadata": {
            "tags": []
          },
          "execution_count": 276
        }
      ]
    },
    {
      "metadata": {
        "id": "1WV-WBHB2E2k",
        "colab_type": "code",
        "colab": {}
      },
      "cell_type": "code",
      "source": [
        "df['kitchen_numeric'] = df.KitchenQual.map({'Po': 1, 'Fa':2, 'TA':3, 'Gd':4, 'Ex':5})\n",
        "df['kitchen_numeric_squared'] = df.kitchen_numeric ** 2"
      ],
      "execution_count": 0,
      "outputs": []
    },
    {
      "metadata": {
        "id": "8v2VT77W2w9B",
        "colab_type": "code",
        "outputId": "a7560845-c462-4d9f-96ae-624e67226a9f",
        "colab": {
          "base_uri": "https://localhost:8080/",
          "height": 34
        }
      },
      "cell_type": "code",
      "source": [
        "features = ['LotArea', 'OverallQual', 'OverallCond', 'GrLivArea','GarageArea', 'GarageCars', 'FullBath', 'HalfBath', 'fullhalfbath_interaction', 'BedroomAbvGr',\n",
        "            'sold_pre_2008', 'age_sold','age_sold_squared', 'years_since_remod', 'age_remod_interaction', '1stFlrSF', '2ndFlrSF', 'floor_interaction', 'mszoning_RL', 'mszoning_c',\n",
        "            'mszoning_RM', 'mszoning_FV', 'good_area', 'bad_area', 'one_fam_home', 'townhouse', 'miscfeature_isnone', 'has_shed', 'new_home', 'attached_garage',\n",
        "            'detchd_garage', 'lotarea_squared', 'overallqual_squared', 'overallcond_squared', 'is_start_of_school', 'is_spring', 'remodeled?', 'age_remodeled_interaction_good',\n",
        "            'sq_footage_fsb', 'sqfootage_fsb_squared', 'grlivarea_squared', 'heating_qual_ex', 'heating_qual_pr', 'heating_qual_fa', 'finished_bsmt', 'pos1_feedr_art', 'pos2_feedr_art',\n",
        "            'pos1_pos2_sum1', 'pos1_pos2_sum2', 'kitchen_numeric_squared']\n",
        "\n",
        "\n",
        "\n",
        "X = df[features].values\n",
        "y = df.loc[:,['logprice']].values\n",
        "\n",
        "X_train, X_test, y_train, y_test = train_test_split(X, y, test_size=0.25, random_state=42)\n",
        "\n",
        "\n",
        "lr = LinearRegression()\n",
        "lr.fit(X_train, y_train)\n",
        "\n",
        "\n",
        "oos_pred = lr.predict(X_test)\n",
        "oos_mse = mean_squared_error(y_test, oos_pred)\n",
        "oos_r2 = r2_score(y_test, oos_pred)\n",
        "rmse = (np.sqrt(oos_mse))\n",
        "rmse, oos_r2"
      ],
      "execution_count": 203,
      "outputs": [
        {
          "output_type": "execute_result",
          "data": {
            "text/plain": [
              "(0.1205835657844388, 0.9160288402483376)"
            ]
          },
          "metadata": {
            "tags": []
          },
          "execution_count": 203
        }
      ]
    },
    {
      "metadata": {
        "id": "QIu7OvEz3J8i",
        "colab_type": "code",
        "colab": {}
      },
      "cell_type": "code",
      "source": [
        "df['garage_cars_squared'] = df.GarageCars ** 2"
      ],
      "execution_count": 0,
      "outputs": []
    },
    {
      "metadata": {
        "id": "xobeTJzC3X8H",
        "colab_type": "code",
        "outputId": "7c3f6d4c-0970-4651-99c8-656f10464609",
        "colab": {
          "base_uri": "https://localhost:8080/",
          "height": 34
        }
      },
      "cell_type": "code",
      "source": [
        "features = ['LotArea','OverallQual', 'OverallCond', 'GrLivArea','GarageArea', 'FullBath', 'HalfBath', 'fullhalfbath_interaction', 'BedroomAbvGr',\n",
        "            'sold_pre_2008', 'age_sold','age_sold_squared', 'years_since_remod', 'age_remod_interaction', '1stFlrSF', '2ndFlrSF', 'floor_interaction', 'mszoning_RL', 'mszoning_c',\n",
        "            'mszoning_RM', 'mszoning_FV', 'good_area', 'bad_area', 'one_fam_home', 'townhouse', 'miscfeature_isnone', 'has_shed', 'new_home', 'attached_garage',\n",
        "            'detchd_garage', 'lotarea_squared', 'overallqual_squared', 'overallcond_squared', 'is_start_of_school', 'is_spring', 'remodeled?', 'age_remodeled_interaction_good',\n",
        "            'sq_footage_fsb', 'sqfootage_fsb_squared', 'grlivarea_squared', 'heating_qual_ex', 'heating_qual_pr', 'heating_qual_fa', 'finished_bsmt', 'pos1_feedr_art', 'pos2_feedr_art',\n",
        "            'pos1_pos2_sum1', 'pos1_pos2_sum2', 'kitchen_numeric_squared', 'garage_cars_squared']\n",
        "\n",
        "\n",
        "\n",
        "X = df[features].values\n",
        "y = df.loc[:,['logprice']].values\n",
        "\n",
        "X_train, X_test, y_train, y_test = train_test_split(X, y, test_size=0.25, random_state=42)\n",
        "\n",
        "\n",
        "lr = LinearRegression()\n",
        "lr.fit(X_train, y_train)\n",
        "\n",
        "\n",
        "oos_pred = lr.predict(X_test)\n",
        "oos_mse = mean_squared_error(y_test, oos_pred)\n",
        "oos_r2 = r2_score(y_test, oos_pred)\n",
        "rmse = (np.sqrt(oos_mse))\n",
        "rmse, oos_r2"
      ],
      "execution_count": 209,
      "outputs": [
        {
          "output_type": "execute_result",
          "data": {
            "text/plain": [
              "(0.12007130581281764, 0.9167407730211599)"
            ]
          },
          "metadata": {
            "tags": []
          },
          "execution_count": 209
        }
      ]
    },
    {
      "metadata": {
        "id": "7fYqT6Kr3b2F",
        "colab_type": "code",
        "outputId": "61b246a8-0692-4d01-baa3-0b032e052ed8",
        "colab": {
          "base_uri": "https://localhost:8080/",
          "height": 156
        }
      },
      "cell_type": "code",
      "source": [
        "df.Functional.value_counts()"
      ],
      "execution_count": 210,
      "outputs": [
        {
          "output_type": "execute_result",
          "data": {
            "text/plain": [
              "Typ     1360\n",
              "Min2      34\n",
              "Min1      31\n",
              "Mod       15\n",
              "Maj1      14\n",
              "Maj2       5\n",
              "Sev        1\n",
              "Name: Functional, dtype: int64"
            ]
          },
          "metadata": {
            "tags": []
          },
          "execution_count": 210
        }
      ]
    },
    {
      "metadata": {
        "id": "ikudXPWS3y7N",
        "colab_type": "code",
        "colab": {}
      },
      "cell_type": "code",
      "source": [
        "df['atypical_function'] = (df.Functional != 'Typ')"
      ],
      "execution_count": 0,
      "outputs": []
    },
    {
      "metadata": {
        "id": "j1Zys0oi4CB8",
        "colab_type": "code",
        "outputId": "ce0f181d-cecb-4e48-ff91-22e77e2e3e09",
        "colab": {
          "base_uri": "https://localhost:8080/",
          "height": 34
        }
      },
      "cell_type": "code",
      "source": [
        "features = ['LotArea','OverallQual', 'OverallCond', 'GrLivArea','GarageArea', 'FullBath', 'HalfBath', 'fullhalfbath_interaction', 'BedroomAbvGr',\n",
        "            'sold_pre_2008', 'age_sold','age_sold_squared', 'years_since_remod', 'age_remod_interaction', '1stFlrSF', '2ndFlrSF', 'floor_interaction', 'mszoning_RL', 'mszoning_c',\n",
        "            'mszoning_RM', 'mszoning_FV', 'good_area', 'bad_area', 'one_fam_home', 'townhouse', 'miscfeature_isnone', 'has_shed', 'new_home', 'attached_garage',\n",
        "            'detchd_garage', 'lotarea_squared', 'overallqual_squared', 'overallcond_squared', 'is_start_of_school', 'is_spring', 'remodeled?', 'age_remodeled_interaction_good',\n",
        "            'sq_footage_fsb', 'sqfootage_fsb_squared', 'grlivarea_squared', 'heating_qual_ex', 'heating_qual_pr', 'heating_qual_fa', 'finished_bsmt', 'pos1_feedr_art', 'pos2_feedr_art',\n",
        "            'pos1_pos2_sum1', 'pos1_pos2_sum2', 'kitchen_numeric_squared', 'garage_cars_squared', 'atypical_function']\n",
        "\n",
        "\n",
        "\n",
        "X = df[features].values\n",
        "y = df.loc[:,['logprice']].values\n",
        "\n",
        "X_train, X_test, y_train, y_test = train_test_split(X, y, test_size=0.25, random_state=42)\n",
        "\n",
        "\n",
        "lr = LinearRegression()\n",
        "lr.fit(X_train, y_train)\n",
        "\n",
        "\n",
        "oos_pred = lr.predict(X_test)\n",
        "oos_mse = mean_squared_error(y_test, oos_pred)\n",
        "oos_r2 = r2_score(y_test, oos_pred)\n",
        "rmse = (np.sqrt(oos_mse))\n",
        "rmse, oos_r2"
      ],
      "execution_count": 212,
      "outputs": [
        {
          "output_type": "execute_result",
          "data": {
            "text/plain": [
              "(0.11987873325267971, 0.9170076242063212)"
            ]
          },
          "metadata": {
            "tags": []
          },
          "execution_count": 212
        }
      ]
    },
    {
      "metadata": {
        "id": "bZYhIRaX4MVY",
        "colab_type": "code",
        "colab": {}
      },
      "cell_type": "code",
      "source": [
        "df['exterior_exc'] = (df.ExterQual == 'Ex')"
      ],
      "execution_count": 0,
      "outputs": []
    },
    {
      "metadata": {
        "id": "xbSxxWwW5_2y",
        "colab_type": "code",
        "outputId": "f51c5b17-4037-4d44-95a9-df9c02c4a8a6",
        "colab": {
          "base_uri": "https://localhost:8080/",
          "height": 34
        }
      },
      "cell_type": "code",
      "source": [
        "features = ['LotArea','OverallQual', 'OverallCond', 'GrLivArea','GarageArea', 'FullBath', 'HalfBath', 'fullhalfbath_interaction', 'BedroomAbvGr',\n",
        "            'sold_pre_2008', 'age_sold','age_sold_squared', 'years_since_remod', 'age_remod_interaction', '1stFlrSF', '2ndFlrSF', 'floor_interaction', 'mszoning_RL', 'mszoning_c',\n",
        "            'mszoning_RM', 'mszoning_FV', 'good_area', 'bad_area', 'one_fam_home', 'townhouse', 'miscfeature_isnone', 'has_shed', 'new_home', 'attached_garage',\n",
        "            'detchd_garage', 'lotarea_squared', 'overallqual_squared', 'overallcond_squared', 'is_start_of_school', 'is_spring', 'remodeled?', 'age_remodeled_interaction_good',\n",
        "            'sq_footage_fsb', 'sqfootage_fsb_squared', 'grlivarea_squared', 'heating_qual_ex', 'heating_qual_pr', 'heating_qual_fa', 'finished_bsmt', 'pos1_feedr_art', 'pos2_feedr_art',\n",
        "            'pos1_pos2_sum1', 'pos1_pos2_sum2', 'kitchen_numeric_squared', 'garage_cars_squared', 'atypical_function', 'exterior_exc']\n",
        "\n",
        "\n",
        "\n",
        "X = df[features].values\n",
        "y = df.loc[:,['logprice']].values\n",
        "\n",
        "X_train, X_test, y_train, y_test = train_test_split(X, y, test_size=0.25, random_state=42)\n",
        "\n",
        "\n",
        "lr = LinearRegression()\n",
        "lr.fit(X_train, y_train)\n",
        "\n",
        "\n",
        "oos_pred = lr.predict(X_test)\n",
        "oos_mse = mean_squared_error(y_test, oos_pred)\n",
        "oos_r2 = r2_score(y_test, oos_pred)\n",
        "rmse = (np.sqrt(oos_mse))\n",
        "rmse, oos_r2"
      ],
      "execution_count": 214,
      "outputs": [
        {
          "output_type": "execute_result",
          "data": {
            "text/plain": [
              "(0.11972087547131459, 0.9172260510479195)"
            ]
          },
          "metadata": {
            "tags": []
          },
          "execution_count": 214
        }
      ]
    },
    {
      "metadata": {
        "id": "kZKHa-sP6nA3",
        "colab_type": "code",
        "colab": {}
      },
      "cell_type": "code",
      "source": [
        "df['salecond_partial'] = (df.SaleCondition == 'Partial')"
      ],
      "execution_count": 0,
      "outputs": []
    },
    {
      "metadata": {
        "id": "IqqOyjNgr585",
        "colab_type": "code",
        "colab": {
          "base_uri": "https://localhost:8080/",
          "height": 138
        },
        "outputId": "a182c768-5660-4f83-94b8-c709f6e02087"
      },
      "cell_type": "code",
      "source": [
        "df.SaleCondition.value_counts()"
      ],
      "execution_count": 219,
      "outputs": [
        {
          "output_type": "execute_result",
          "data": {
            "text/plain": [
              "Normal     1198\n",
              "Partial     125\n",
              "Abnorml     101\n",
              "Family       20\n",
              "Alloca       12\n",
              "AdjLand       4\n",
              "Name: SaleCondition, dtype: int64"
            ]
          },
          "metadata": {
            "tags": []
          },
          "execution_count": 219
        }
      ]
    },
    {
      "metadata": {
        "id": "9SM5ba0fr8oq",
        "colab_type": "code",
        "colab": {
          "base_uri": "https://localhost:8080/",
          "height": 364
        },
        "outputId": "7ed0e9f7-14d1-4454-b6e1-1a4f85b295fb"
      },
      "cell_type": "code",
      "source": [
        "df.pivot_table(index='SaleCondition', values='SalePrice').plot.barh()"
      ],
      "execution_count": 221,
      "outputs": [
        {
          "output_type": "execute_result",
          "data": {
            "text/plain": [
              "<matplotlib.axes._subplots.AxesSubplot at 0x7f39147fa7b8>"
            ]
          },
          "metadata": {
            "tags": []
          },
          "execution_count": 221
        },
        {
          "output_type": "display_data",
          "data": {
            "image/png": "[encoded data removed]",
            "text/plain": [
              "<Figure size 576x396 with 1 Axes>"
            ]
          },
          "metadata": {
            "tags": []
          }
        }
      ]
    },
    {
      "metadata": {
        "id": "rs4D3WzSsH1k",
        "colab_type": "code",
        "colab": {}
      },
      "cell_type": "code",
      "source": [
        "df['salecond_partial'] = (df.SaleCondition == 'Partial')\n",
        "df['salecond_abnorml'] = (df.SaleCondition == 'Abnorml')"
      ],
      "execution_count": 0,
      "outputs": []
    },
    {
      "metadata": {
        "id": "Gc6LI1x163VK",
        "colab_type": "code",
        "outputId": "83fab73c-aa61-4d44-bc7f-79e4f619426f",
        "colab": {
          "base_uri": "https://localhost:8080/",
          "height": 34
        }
      },
      "cell_type": "code",
      "source": [
        "features = ['LotArea','OverallQual', 'OverallCond', 'GrLivArea','GarageArea', 'FullBath', 'HalfBath', 'fullhalfbath_interaction', 'BedroomAbvGr',\n",
        "            'sold_pre_2008', 'age_sold','age_sold_squared', 'years_since_remod', 'age_remod_interaction', '1stFlrSF', '2ndFlrSF', 'floor_interaction', 'mszoning_RL', 'mszoning_c',\n",
        "            'mszoning_RM', 'mszoning_FV', 'good_area', 'bad_area', 'one_fam_home', 'townhouse', 'miscfeature_isnone', 'has_shed', 'new_home', 'attached_garage',\n",
        "            'detchd_garage', 'lotarea_squared', 'overallqual_squared', 'overallcond_squared', 'is_start_of_school', 'is_spring', 'remodeled?', 'age_remodeled_interaction_good',\n",
        "            'sq_footage_fsb', 'sqfootage_fsb_squared', 'grlivarea_squared', 'heating_qual_ex', 'heating_qual_pr', 'heating_qual_fa', 'finished_bsmt', 'pos1_feedr_art', 'pos2_feedr_art',\n",
        "            'pos1_pos2_sum1', 'pos1_pos2_sum2', 'kitchen_numeric_squared', 'garage_cars_squared', 'atypical_function', 'exterior_exc', 'salecond_abnorml']\n",
        "\n",
        "\n",
        "\n",
        "X = df[features].values\n",
        "y = df.loc[:,['logprice']].values\n",
        "\n",
        "X_train, X_test, y_train, y_test = train_test_split(X, y, test_size=0.25, random_state=42)\n",
        "\n",
        "\n",
        "lr = LinearRegression()\n",
        "lr.fit(X_train, y_train)\n",
        "\n",
        "\n",
        "oos_pred = lr.predict(X_test)\n",
        "oos_mse = mean_squared_error(y_test, oos_pred)\n",
        "oos_r2 = r2_score(y_test, oos_pred)\n",
        "rmse = (np.sqrt(oos_mse))\n",
        "rmse, oos_r2"
      ],
      "execution_count": 225,
      "outputs": [
        {
          "output_type": "execute_result",
          "data": {
            "text/plain": [
              "(0.11739263940115659, 0.9204141899047777)"
            ]
          },
          "metadata": {
            "tags": []
          },
          "execution_count": 225
        }
      ]
    },
    {
      "metadata": {
        "id": "Nvdf694N7Ebz",
        "colab_type": "code",
        "colab": {}
      },
      "cell_type": "code",
      "source": [
        "df['no_fireplace'] = (df.Fireplaces == 0)\n",
        "df['two_or_more_fireplaces'] = (df.Fireplaces >= 2)"
      ],
      "execution_count": 0,
      "outputs": []
    },
    {
      "metadata": {
        "id": "K_aZR1yc7jx9",
        "colab_type": "code",
        "outputId": "051ed3bf-3271-4ae8-ab15-c09345ece1ec",
        "colab": {
          "base_uri": "https://localhost:8080/",
          "height": 34
        }
      },
      "cell_type": "code",
      "source": [
        "features = ['LotArea','OverallQual', 'OverallCond', 'GrLivArea','GarageArea', 'FullBath', 'HalfBath', 'fullhalfbath_interaction', 'BedroomAbvGr',\n",
        "            'sold_pre_2008', 'age_sold','age_sold_squared', 'years_since_remod', 'age_remod_interaction', '1stFlrSF', '2ndFlrSF', 'floor_interaction', 'mszoning_RL', 'mszoning_c',\n",
        "            'mszoning_RM', 'mszoning_FV', 'good_area', 'bad_area', 'one_fam_home', 'townhouse', 'miscfeature_isnone', 'has_shed', 'new_home', 'attached_garage',\n",
        "            'detchd_garage', 'lotarea_squared', 'overallqual_squared', 'overallcond_squared', 'is_start_of_school', 'is_spring', 'remodeled?', 'age_remodeled_interaction_good',\n",
        "            'sq_footage_fsb', 'sqfootage_fsb_squared', 'grlivarea_squared', 'heating_qual_ex', 'heating_qual_pr', 'heating_qual_fa', 'finished_bsmt', 'pos1_feedr_art', 'pos2_feedr_art',\n",
        "            'pos1_pos2_sum1', 'pos1_pos2_sum2', 'kitchen_numeric_squared', 'garage_cars_squared', 'atypical_function', 'exterior_exc', 'salecond_abnorml', 'no_fireplace']\n",
        "\n",
        "\n",
        "\n",
        "X = df[features].values\n",
        "y = df.loc[:,['logprice']].values\n",
        "\n",
        "X_train, X_test, y_train, y_test = train_test_split(X, y, test_size=0.25, random_state=42)\n",
        "\n",
        "\n",
        "lr = LinearRegression()\n",
        "lr.fit(X_train, y_train)\n",
        "\n",
        "\n",
        "oos_pred = lr.predict(X_test)\n",
        "oos_mse = mean_squared_error(y_test, oos_pred)\n",
        "oos_r2 = r2_score(y_test, oos_pred)\n",
        "rmse = (np.sqrt(oos_mse))\n",
        "rmse, oos_r2"
      ],
      "execution_count": 232,
      "outputs": [
        {
          "output_type": "execute_result",
          "data": {
            "text/plain": [
              "(0.11659242700654791, 0.9214954926888741)"
            ]
          },
          "metadata": {
            "tags": []
          },
          "execution_count": 232
        }
      ]
    },
    {
      "metadata": {
        "id": "W44LO_qM8kzq",
        "colab_type": "code",
        "colab": {}
      },
      "cell_type": "code",
      "source": [
        "df.LotFrontage = df.LotFrontage.fillna(0)\n",
        "df['lotfrontage_squared'] = df.LotFrontage ** 2"
      ],
      "execution_count": 0,
      "outputs": []
    },
    {
      "metadata": {
        "id": "RArMBoQy8Y9X",
        "colab_type": "code",
        "outputId": "c8f9f073-9b5a-4f6a-c51e-42f39d259d29",
        "colab": {
          "base_uri": "https://localhost:8080/",
          "height": 34
        }
      },
      "cell_type": "code",
      "source": [
        "features = ['LotArea','OverallQual', 'OverallCond', 'GrLivArea','GarageArea', 'FullBath', 'HalfBath', 'fullhalfbath_interaction', 'BedroomAbvGr',\n",
        "            'sold_pre_2008', 'age_sold','age_sold_squared', 'years_since_remod', 'age_remod_interaction', '1stFlrSF', '2ndFlrSF', 'floor_interaction', 'mszoning_RL', 'mszoning_c',\n",
        "            'mszoning_RM', 'mszoning_FV', 'good_area', 'bad_area', 'one_fam_home', 'townhouse', 'miscfeature_isnone', 'has_shed', 'new_home', 'attached_garage',\n",
        "            'detchd_garage', 'lotarea_squared', 'overallqual_squared', 'overallcond_squared', 'is_start_of_school', 'is_spring', 'remodeled?', 'age_remodeled_interaction_good',\n",
        "            'sq_footage_fsb', 'sqfootage_fsb_squared', 'grlivarea_squared', 'heating_qual_ex', 'heating_qual_pr', 'heating_qual_fa', 'finished_bsmt', 'pos1_feedr_art', 'pos2_feedr_art',\n",
        "            'pos1_pos2_sum1', 'pos1_pos2_sum2', 'kitchen_numeric_squared', 'garage_cars_squared', 'atypical_function', 'exterior_exc', 'salecond_abnorml', 'no_fireplace', 'lotfrontage_squared']\n",
        "\n",
        "\n",
        "\n",
        "X = df[features].values\n",
        "y = df.loc[:,['logprice']].values\n",
        "\n",
        "X_train, X_test, y_train, y_test = train_test_split(X, y, test_size=0.25, random_state=42)\n",
        "\n",
        "\n",
        "lr = LinearRegression()\n",
        "lr.fit(X_train, y_train)\n",
        "\n",
        "\n",
        "oos_pred = lr.predict(X_test)\n",
        "oos_mse = mean_squared_error(y_test, oos_pred)\n",
        "oos_r2 = r2_score(y_test, oos_pred)\n",
        "rmse = (np.sqrt(oos_mse))\n",
        "rmse, oos_r2"
      ],
      "execution_count": 253,
      "outputs": [
        {
          "output_type": "execute_result",
          "data": {
            "text/plain": [
              "(0.11653697505214211, 0.9215701492212575)"
            ]
          },
          "metadata": {
            "tags": []
          },
          "execution_count": 253
        }
      ]
    },
    {
      "metadata": {
        "id": "OLss2kRY84qr",
        "colab_type": "code",
        "outputId": "77874876-752e-4ec5-b08d-7a83dc8c9c3f",
        "colab": {
          "base_uri": "https://localhost:8080/",
          "height": 121
        }
      },
      "cell_type": "code",
      "source": [
        "df.Electrical.value_counts()"
      ],
      "execution_count": 238,
      "outputs": [
        {
          "output_type": "execute_result",
          "data": {
            "text/plain": [
              "SBrkr    1334\n",
              "FuseA      94\n",
              "FuseF      27\n",
              "FuseP       3\n",
              "Mix         1\n",
              "Name: Electrical, dtype: int64"
            ]
          },
          "metadata": {
            "tags": []
          },
          "execution_count": 238
        }
      ]
    },
    {
      "metadata": {
        "id": "OUu3k5ny9T6P",
        "colab_type": "code",
        "colab": {}
      },
      "cell_type": "code",
      "source": [
        "df.Electrical = df.Electrical.fillna('missing')"
      ],
      "execution_count": 0,
      "outputs": []
    },
    {
      "metadata": {
        "id": "rhcrSIW6tWVB",
        "colab_type": "code",
        "colab": {
          "base_uri": "https://localhost:8080/",
          "height": 364
        },
        "outputId": "e7124b53-8843-41b6-c59d-4d0f955328fa"
      },
      "cell_type": "code",
      "source": [
        "df.pivot_table(index='Electrical', values='SalePrice').plot.barh()"
      ],
      "execution_count": 241,
      "outputs": [
        {
          "output_type": "execute_result",
          "data": {
            "text/plain": [
              "<matplotlib.axes._subplots.AxesSubplot at 0x7f39149a7710>"
            ]
          },
          "metadata": {
            "tags": []
          },
          "execution_count": 241
        },
        {
          "output_type": "display_data",
          "data": {
            "image/png": "[encoded data removed]",
            "text/plain": [
              "<Figure size 576x396 with 1 Axes>"
            ]
          },
          "metadata": {
            "tags": []
          }
        }
      ]
    },
    {
      "metadata": {
        "id": "IumPq1Jbtn7A",
        "colab_type": "code",
        "colab": {
          "base_uri": "https://localhost:8080/",
          "height": 138
        },
        "outputId": "927fd458-869d-4883-d35a-4417b3e22203"
      },
      "cell_type": "code",
      "source": [
        "df.Electrical.value_counts()"
      ],
      "execution_count": 245,
      "outputs": [
        {
          "output_type": "execute_result",
          "data": {
            "text/plain": [
              "SBrkr      1334\n",
              "FuseA        94\n",
              "FuseF        27\n",
              "FuseP         3\n",
              "missing       1\n",
              "Mix           1\n",
              "Name: Electrical, dtype: int64"
            ]
          },
          "metadata": {
            "tags": []
          },
          "execution_count": 245
        }
      ]
    },
    {
      "metadata": {
        "id": "89KBz6fr9nZe",
        "colab_type": "code",
        "colab": {}
      },
      "cell_type": "code",
      "source": [
        "df['electrical_is_brkr'] = (df.Electrical == 'SBrkr')\n",
        "df['electrical_is_F'] = (df.Electrical == 'FuseF')\n",
        "df['electrical_is_A'] = (df.Electrical == 'FuseA')\n",
        "df['electrical_is_P'] = (df.Electrical == 'FuseP')"
      ],
      "execution_count": 0,
      "outputs": []
    },
    {
      "metadata": {
        "id": "f_jmcnZS9jVF",
        "colab_type": "code",
        "outputId": "cc80b5c4-7695-4ee6-e1b8-e80cf97037fc",
        "colab": {
          "base_uri": "https://localhost:8080/",
          "height": 34
        }
      },
      "cell_type": "code",
      "source": [
        "features = ['LotArea','OverallQual', 'OverallCond', 'GrLivArea','GarageArea', 'FullBath', 'HalfBath', 'fullhalfbath_interaction', 'BedroomAbvGr',\n",
        "            'sold_pre_2008', 'age_sold','age_sold_squared', 'years_since_remod', 'age_remod_interaction', '1stFlrSF', '2ndFlrSF', 'floor_interaction', 'mszoning_RL', 'mszoning_c',\n",
        "            'mszoning_RM', 'mszoning_FV', 'good_area', 'bad_area', 'one_fam_home', 'townhouse', 'miscfeature_isnone', 'has_shed', 'new_home', 'attached_garage',\n",
        "            'detchd_garage', 'lotarea_squared', 'overallqual_squared', 'overallcond_squared', 'is_start_of_school', 'is_spring', 'remodeled?', 'age_remodeled_interaction_good',\n",
        "            'sq_footage_fsb', 'sqfootage_fsb_squared', 'grlivarea_squared', 'heating_qual_ex', 'heating_qual_pr', 'heating_qual_fa', 'finished_bsmt', 'pos1_feedr_art', 'pos2_feedr_art',\n",
        "            'pos1_pos2_sum1', 'pos1_pos2_sum2', 'kitchen_numeric_squared', 'garage_cars_squared', 'atypical_function', 'exterior_exc', 'salecond_abnorml', 'no_fireplace', 'lotfrontage_squared']\n",
        "\n",
        "\n",
        "\n",
        "X = df[features].values\n",
        "y = df.loc[:,['logprice']].values\n",
        "\n",
        "X_train, X_test, y_train, y_test = train_test_split(X, y, test_size=0.25, random_state=42)\n",
        "\n",
        "\n",
        "lr = LinearRegression()\n",
        "lr.fit(X_train, y_train)\n",
        "\n",
        "\n",
        "oos_pred = lr.predict(X_test)\n",
        "oos_mse = mean_squared_error(y_test, oos_pred)\n",
        "oos_r2 = r2_score(y_test, oos_pred)\n",
        "rmse = (np.sqrt(oos_mse))\n",
        "rmse, oos_r2"
      ],
      "execution_count": 255,
      "outputs": [
        {
          "output_type": "execute_result",
          "data": {
            "text/plain": [
              "(0.11653697505214211, 0.9215701492212575)"
            ]
          },
          "metadata": {
            "tags": []
          },
          "execution_count": 255
        }
      ]
    },
    {
      "metadata": {
        "id": "UE0B0Gh_DIpa",
        "colab_type": "code",
        "colab": {}
      },
      "cell_type": "code",
      "source": [
        "df['overallcond_5over'] = (df.OverallCond >= 5)"
      ],
      "execution_count": 0,
      "outputs": []
    },
    {
      "metadata": {
        "id": "dcASihHP9150",
        "colab_type": "code",
        "outputId": "7a171671-ed69-400d-9d1f-ae01771da198",
        "colab": {
          "base_uri": "https://localhost:8080/",
          "height": 34
        }
      },
      "cell_type": "code",
      "source": [
        "features = ['LotArea','OverallQual', 'OverallCond', 'GrLivArea','GarageArea', 'FullBath', 'HalfBath', 'fullhalfbath_interaction', 'BedroomAbvGr',\n",
        "            'sold_pre_2008', 'age_sold','age_sold_squared', 'years_since_remod', 'age_remod_interaction', '1stFlrSF', '2ndFlrSF', 'floor_interaction', 'mszoning_RL', 'mszoning_c',\n",
        "            'mszoning_RM', 'mszoning_FV', 'good_area', 'bad_area', 'one_fam_home', 'townhouse', 'miscfeature_isnone', 'has_shed', 'new_home', 'attached_garage',\n",
        "            'detchd_garage', 'lotarea_squared', 'overallqual_squared', 'overallcond_squared', 'is_start_of_school', 'is_spring', 'remodeled?', 'age_remodeled_interaction_good',\n",
        "            'sq_footage_fsb', 'sqfootage_fsb_squared', 'grlivarea_squared', 'heating_qual_ex', 'heating_qual_pr', 'heating_qual_fa', 'finished_bsmt', 'pos1_feedr_art', 'pos2_feedr_art',\n",
        "            'pos1_pos2_sum1', 'pos1_pos2_sum2', 'kitchen_numeric_squared', 'garage_cars_squared', 'atypical_function', 'exterior_exc', 'salecond_abnorml', 'no_fireplace', 'lotfrontage_squared',\n",
        "            'overallcond_5over']\n",
        "\n",
        "\n",
        "\n",
        "X = df[features].values\n",
        "y = df.loc[:,['logprice']].values\n",
        "\n",
        "X_train, X_test, y_train, y_test = train_test_split(X, y, test_size=0.25, random_state=42)\n",
        "\n",
        "\n",
        "lr = LinearRegression()\n",
        "lr.fit(X_train, y_train)\n",
        "\n",
        "\n",
        "oos_pred = lr.predict(X_test)\n",
        "oos_mse = mean_squared_error(y_test, oos_pred)\n",
        "oos_r2 = r2_score(y_test, oos_pred)\n",
        "rmse = (np.sqrt(oos_mse))\n",
        "rmse, oos_r2"
      ],
      "execution_count": 257,
      "outputs": [
        {
          "output_type": "execute_result",
          "data": {
            "text/plain": [
              "(0.11657167806265542, 0.9215234317363747)"
            ]
          },
          "metadata": {
            "tags": []
          },
          "execution_count": 257
        }
      ]
    },
    {
      "metadata": {
        "id": "2uU_KUOzEnZi",
        "colab_type": "code",
        "colab": {}
      },
      "cell_type": "code",
      "source": [
        "df['garagearea_squared'] = df.GarageArea ** 2"
      ],
      "execution_count": 0,
      "outputs": []
    },
    {
      "metadata": {
        "id": "ZZrHlT6vFj0J",
        "colab_type": "code",
        "outputId": "af572559-285b-4c2b-c9df-e3776dc5b036",
        "colab": {
          "base_uri": "https://localhost:8080/",
          "height": 34
        }
      },
      "cell_type": "code",
      "source": [
        "features = ['LotArea','OverallQual', 'OverallCond', 'GrLivArea','GarageArea', 'FullBath', 'HalfBath', 'fullhalfbath_interaction', 'BedroomAbvGr',\n",
        "            'sold_pre_2008', 'age_sold','age_sold_squared', 'years_since_remod', 'age_remod_interaction', '1stFlrSF', '2ndFlrSF', 'floor_interaction', 'mszoning_RL', 'mszoning_c',\n",
        "            'mszoning_RM', 'mszoning_FV', 'good_area', 'bad_area', 'one_fam_home', 'townhouse', 'miscfeature_isnone', 'has_shed', 'new_home', 'attached_garage',\n",
        "            'detchd_garage', 'lotarea_squared', 'overallqual_squared', 'overallcond_squared', 'is_start_of_school', 'is_spring', 'remodeled?', 'age_remodeled_interaction_good',\n",
        "            'sq_footage_fsb', 'sqfootage_fsb_squared', 'grlivarea_squared', 'heating_qual_ex', 'heating_qual_pr', 'heating_qual_fa', 'finished_bsmt', 'pos1_feedr_art', 'pos2_feedr_art',\n",
        "            'pos1_pos2_sum1', 'pos1_pos2_sum2', 'kitchen_numeric_squared', 'garage_cars_squared', 'atypical_function', 'exterior_exc', 'salecond_abnorml', 'no_fireplace', 'lotfrontage_squared',\n",
        "            'garagearea_squared']\n",
        "\n",
        "\n",
        "\n",
        "X = df[features].values\n",
        "y = df.loc[:,['logprice']].values\n",
        "\n",
        "X_train, X_test, y_train, y_test = train_test_split(X, y, test_size=0.25, random_state=42)\n",
        "\n",
        "\n",
        "lr = LinearRegression()\n",
        "lr.fit(X_train, y_train)\n",
        "\n",
        "\n",
        "oos_pred = lr.predict(X_test)\n",
        "oos_mse = mean_squared_error(y_test, oos_pred)\n",
        "oos_r2 = r2_score(y_test, oos_pred)\n",
        "rmse = (np.sqrt(oos_mse))\n",
        "rmse, oos_r2"
      ],
      "execution_count": 262,
      "outputs": [
        {
          "output_type": "execute_result",
          "data": {
            "text/plain": [
              "(0.11652871573637749, 0.9215812659324599)"
            ]
          },
          "metadata": {
            "tags": []
          },
          "execution_count": 262
        }
      ]
    },
    {
      "metadata": {
        "id": "rKQ-KKj6FzJu",
        "colab_type": "code",
        "colab": {}
      },
      "cell_type": "code",
      "source": [
        "df['sq_footage_fsbg'] = df['sq_footage_fsb'] + df.GarageArea\n",
        "df['sq_footage_fsbg_squared'] = df.sq_footage_fsbg ** 2 "
      ],
      "execution_count": 0,
      "outputs": []
    },
    {
      "metadata": {
        "id": "O7O7whmhGFCI",
        "colab_type": "code",
        "outputId": "842fef95-ac6b-4771-c0d8-0abed174da72",
        "colab": {
          "base_uri": "https://localhost:8080/",
          "height": 34
        }
      },
      "cell_type": "code",
      "source": [
        "features = ['LotArea','OverallQual', 'OverallCond', 'GrLivArea','GarageArea', 'FullBath', 'HalfBath', 'fullhalfbath_interaction', 'BedroomAbvGr',\n",
        "            'sold_pre_2008', 'age_sold','age_sold_squared', 'years_since_remod', 'age_remod_interaction', '1stFlrSF', '2ndFlrSF', 'floor_interaction', 'mszoning_RL', 'mszoning_c',\n",
        "            'mszoning_RM', 'mszoning_FV', 'good_area', 'bad_area', 'one_fam_home', 'townhouse', 'miscfeature_isnone', 'has_shed', 'new_home', 'attached_garage',\n",
        "            'detchd_garage', 'lotarea_squared', 'overallqual_squared', 'overallcond_squared', 'is_start_of_school', 'is_spring', 'remodeled?', 'age_remodeled_interaction_good',\n",
        "            'sq_footage_fsb', 'sqfootage_fsb_squared', 'grlivarea_squared', 'heating_qual_ex', 'heating_qual_pr', 'heating_qual_fa', 'finished_bsmt', 'pos1_feedr_art', 'pos2_feedr_art',\n",
        "            'pos1_pos2_sum1', 'pos1_pos2_sum2', 'kitchen_numeric_squared', 'garage_cars_squared', 'atypical_function', 'exterior_exc', 'salecond_abnorml', 'no_fireplace', 'lotfrontage_squared',\n",
        "            'garagearea_squared', 'sq_footage_fsbg']\n",
        "\n",
        "\n",
        "\n",
        "X = df[features].values\n",
        "y = df.loc[:,['logprice']].values\n",
        "\n",
        "X_train, X_test, y_train, y_test = train_test_split(X, y, test_size=0.25, random_state=42)\n",
        "\n",
        "\n",
        "lr = LinearRegression()\n",
        "lr.fit(X_train, y_train)\n",
        "\n",
        "\n",
        "oos_pred = lr.predict(X_test)\n",
        "oos_mse = mean_squared_error(y_test, oos_pred)\n",
        "oos_r2 = r2_score(y_test, oos_pred)\n",
        "rmse = (np.sqrt(oos_mse))\n",
        "rmse, oos_r2"
      ],
      "execution_count": 267,
      "outputs": [
        {
          "output_type": "execute_result",
          "data": {
            "text/plain": [
              "(0.11652871605635162, 0.9215812655018027)"
            ]
          },
          "metadata": {
            "tags": []
          },
          "execution_count": 267
        }
      ]
    },
    {
      "metadata": {
        "id": "ULCvxkwaIgBd",
        "colab_type": "code",
        "colab": {}
      },
      "cell_type": "code",
      "source": [
        "df['banked_land'] = (df.LandContour == 'Bnk')\n",
        "df['HLS_land'] = (df.LandContour == 'HLS_land')"
      ],
      "execution_count": 0,
      "outputs": []
    },
    {
      "metadata": {
        "id": "Z-_noDkuIp2Y",
        "colab_type": "code",
        "outputId": "b40a6e35-9969-45a2-f97d-1230c363f964",
        "colab": {
          "base_uri": "https://localhost:8080/",
          "height": 34
        }
      },
      "cell_type": "code",
      "source": [
        "features = ['LotArea','OverallQual', 'OverallCond', 'GrLivArea','GarageArea', 'FullBath', 'HalfBath', 'fullhalfbath_interaction', 'BedroomAbvGr',\n",
        "            'sold_pre_2008', 'age_sold','age_sold_squared', 'years_since_remod', 'age_remod_interaction', '1stFlrSF', '2ndFlrSF', 'floor_interaction', 'mszoning_RL', 'mszoning_c',\n",
        "            'mszoning_RM', 'mszoning_FV', 'good_area', 'bad_area', 'one_fam_home', 'townhouse', 'miscfeature_isnone', 'has_shed', 'new_home', 'attached_garage',\n",
        "            'detchd_garage', 'lotarea_squared', 'overallqual_squared', 'overallcond_squared', 'is_start_of_school', 'is_spring', 'remodeled?', 'age_remodeled_interaction_good',\n",
        "            'sq_footage_fsb', 'sqfootage_fsb_squared', 'grlivarea_squared', 'heating_qual_ex', 'heating_qual_pr', 'heating_qual_fa', 'finished_bsmt', 'pos1_feedr_art', 'pos2_feedr_art',\n",
        "            'pos1_pos2_sum1', 'pos1_pos2_sum2', 'kitchen_numeric_squared', 'garage_cars_squared', 'atypical_function', 'exterior_exc', 'salecond_abnorml', 'no_fireplace', 'lotfrontage_squared',\n",
        "            'garagearea_squared', 'sq_footage_fsbg', 'banked_land', 'HLS_land']\n",
        "\n",
        "\n",
        "\n",
        "X = df[features].values\n",
        "y = df.loc[:,['logprice']].values\n",
        "\n",
        "X_train, X_test, y_train, y_test = train_test_split(X, y, test_size=0.25, random_state=42)\n",
        "\n",
        "\n",
        "lr = LinearRegression()\n",
        "lr.fit(X_train, y_train)\n",
        "\n",
        "\n",
        "oos_pred = lr.predict(X_test)\n",
        "oos_mse = mean_squared_error(y_test, oos_pred)\n",
        "oos_r2 = r2_score(y_test, oos_pred)\n",
        "rmse = (np.sqrt(oos_mse))\n",
        "rmse, oos_r2"
      ],
      "execution_count": 274,
      "outputs": [
        {
          "output_type": "execute_result",
          "data": {
            "text/plain": [
              "(0.11619218552070094, 0.9220335521573846)"
            ]
          },
          "metadata": {
            "tags": []
          },
          "execution_count": 274
        }
      ]
    },
    {
      "metadata": {
        "id": "iAy_kGZSJY38",
        "colab_type": "code",
        "colab": {}
      },
      "cell_type": "code",
      "source": [
        "df['landslope_mod_sev'] = (df.LandSlope != 'Gtl')"
      ],
      "execution_count": 0,
      "outputs": []
    },
    {
      "metadata": {
        "id": "479K68PSJlTt",
        "colab_type": "code",
        "outputId": "2df77aac-2f9f-4005-aea0-1dbec48f6bdd",
        "colab": {
          "base_uri": "https://localhost:8080/",
          "height": 34
        }
      },
      "cell_type": "code",
      "source": [
        "features = ['LotArea','OverallQual', 'OverallCond', 'GrLivArea','GarageArea', 'FullBath', 'HalfBath', 'fullhalfbath_interaction', 'BedroomAbvGr',\n",
        "            'sold_pre_2008', 'age_sold','age_sold_squared', 'years_since_remod', 'age_remod_interaction', '1stFlrSF', '2ndFlrSF', 'floor_interaction', 'mszoning_RL', 'mszoning_c',\n",
        "            'mszoning_RM', 'mszoning_FV', 'good_area', 'bad_area', 'one_fam_home', 'townhouse', 'miscfeature_isnone', 'has_shed', 'new_home', 'attached_garage',\n",
        "            'detchd_garage', 'lotarea_squared', 'overallqual_squared', 'overallcond_squared', 'is_start_of_school', 'is_spring', 'remodeled?', 'age_remodeled_interaction_good',\n",
        "            'sq_footage_fsb', 'sqfootage_fsb_squared', 'grlivarea_squared', 'heating_qual_ex', 'heating_qual_pr', 'heating_qual_fa', 'finished_bsmt', 'pos1_feedr_art', 'pos2_feedr_art',\n",
        "            'pos1_pos2_sum1', 'pos1_pos2_sum2', 'kitchen_numeric_squared', 'garage_cars_squared', 'atypical_function', 'exterior_exc', 'salecond_abnorml', 'no_fireplace', 'lotfrontage_squared',\n",
        "            'garagearea_squared', 'sq_footage_fsbg', 'banked_land', 'HLS_land', 'landslope_mod_sev']\n",
        "\n",
        "\n",
        "\n",
        "X = df[features].values\n",
        "y = df.loc[:,['logprice']].values\n",
        "\n",
        "X_train, X_test, y_train, y_test = train_test_split(X, y, test_size=0.25, random_state=42)\n",
        "\n",
        "\n",
        "lr = LinearRegression()\n",
        "lr.fit(X_train, y_train)\n",
        "\n",
        "\n",
        "oos_pred = lr.predict(X_test)\n",
        "oos_mse = mean_squared_error(y_test, oos_pred)\n",
        "oos_r2 = r2_score(y_test, oos_pred)\n",
        "rmse = (np.sqrt(oos_mse))\n",
        "rmse, oos_r2"
      ],
      "execution_count": 276,
      "outputs": [
        {
          "output_type": "execute_result",
          "data": {
            "text/plain": [
              "(0.11652685263988825, 0.9215837734774758)"
            ]
          },
          "metadata": {
            "tags": []
          },
          "execution_count": 276
        }
      ]
    },
    {
      "metadata": {
        "id": "TnhV0jukJugf",
        "colab_type": "code",
        "outputId": "e71334df-5353-46ec-9597-ce5b6ec2fe6a",
        "colab": {
          "base_uri": "https://localhost:8080/",
          "height": 51
        }
      },
      "cell_type": "code",
      "source": [
        "df['land_interaction'] = df.HLS_land + df.landslope_mod_sev"
      ],
      "execution_count": 277,
      "outputs": [
        {
          "output_type": "stream",
          "text": [
            "/usr/local/lib/python3.6/dist-packages/pandas/core/computation/expressions.py:179: UserWarning: evaluating in Python space because the '+' operator is not supported by numexpr for the bool dtype, use '|' instead\n",
            "  .format(op=op_str, alt_op=unsupported[op_str]))\n"
          ],
          "name": "stderr"
        }
      ]
    },
    {
      "metadata": {
        "id": "f2xVFcJdJ2Ua",
        "colab_type": "code",
        "outputId": "4904fd9e-686d-45e7-d3bf-372294fc59ee",
        "colab": {
          "base_uri": "https://localhost:8080/",
          "height": 34
        }
      },
      "cell_type": "code",
      "source": [
        "features = ['LotArea','OverallQual', 'OverallCond', 'GrLivArea','GarageArea', 'FullBath', 'HalfBath', 'fullhalfbath_interaction', 'BedroomAbvGr',\n",
        "            'sold_pre_2008', 'age_sold','age_sold_squared', 'years_since_remod', 'age_remod_interaction', '1stFlrSF', '2ndFlrSF', 'floor_interaction', 'mszoning_RL', 'mszoning_c',\n",
        "            'mszoning_RM', 'mszoning_FV', 'good_area', 'bad_area', 'one_fam_home', 'townhouse', 'miscfeature_isnone', 'has_shed', 'new_home', 'attached_garage',\n",
        "            'detchd_garage', 'lotarea_squared', 'overallqual_squared', 'overallcond_squared', 'is_start_of_school', 'is_spring', 'remodeled?', 'age_remodeled_interaction_good',\n",
        "            'sq_footage_fsb', 'sqfootage_fsb_squared', 'grlivarea_squared', 'heating_qual_ex', 'heating_qual_pr', 'heating_qual_fa', 'finished_bsmt', 'pos1_feedr_art', 'pos2_feedr_art',\n",
        "            'pos1_pos2_sum1', 'pos1_pos2_sum2', 'kitchen_numeric_squared', 'garage_cars_squared', 'atypical_function', 'exterior_exc', 'salecond_abnorml', 'no_fireplace', 'lotfrontage_squared',\n",
        "            'garagearea_squared', 'sq_footage_fsbg', 'banked_land', 'HLS_land', 'landslope_mod_sev', 'land_interaction']\n",
        "\n",
        "\n",
        "\n",
        "X = df[features].values\n",
        "y = df.loc[:,['logprice']].values\n",
        "\n",
        "X_train, X_test, y_train, y_test = train_test_split(X, y, test_size=0.25, random_state=42)\n",
        "\n",
        "\n",
        "lr = LinearRegression()\n",
        "lr.fit(X_train, y_train)\n",
        "\n",
        "\n",
        "oos_pred = lr.predict(X_test)\n",
        "oos_mse = mean_squared_error(y_test, oos_pred)\n",
        "oos_r2 = r2_score(y_test, oos_pred)\n",
        "rmse = (np.sqrt(oos_mse))\n",
        "rmse, oos_r2"
      ],
      "execution_count": 278,
      "outputs": [
        {
          "output_type": "execute_result",
          "data": {
            "text/plain": [
              "(0.1165268523715938, 0.9215837738385709)"
            ]
          },
          "metadata": {
            "tags": []
          },
          "execution_count": 278
        }
      ]
    },
    {
      "metadata": {
        "id": "CwJmgtN6OBtJ",
        "colab_type": "code",
        "colab": {
          "base_uri": "https://localhost:8080/",
          "height": 34
        },
        "outputId": "6f5fdcff-6f6a-4123-eee9-9087adeb63b3"
      },
      "cell_type": "code",
      "source": [
        "features = ['LotArea','OverallQual', 'OverallCond', 'GrLivArea','GarageArea', 'FullBath', 'HalfBath', 'fullhalfbath_interaction', 'BedroomAbvGr',\n",
        "            'sold_pre_2008', 'age_sold','age_sold_squared', 'years_since_remod', 'age_remod_interaction', '1stFlrSF', '2ndFlrSF', 'floor_interaction', 'mszoning_RL', 'mszoning_c',\n",
        "            'mszoning_RM', 'mszoning_FV', 'good_area', 'bad_area', 'one_fam_home', 'townhouse', 'miscfeature_isnone', 'has_shed', 'new_home', 'attached_garage',\n",
        "            'detchd_garage', 'lotarea_squared', 'overallqual_squared', 'overallcond_squared', 'is_start_of_school', 'is_spring', 'remodeled?', 'age_remodeled_interaction_good',\n",
        "            'sq_footage_fsb', 'sqfootage_fsb_squared', 'grlivarea_squared', 'heating_qual_ex', 'heating_qual_pr', 'heating_qual_fa', 'finished_bsmt', 'pos1_feedr_art', 'pos2_feedr_art',\n",
        "            'pos1_pos2_sum1', 'pos1_pos2_sum2', 'kitchen_numeric_squared', 'garage_cars_squared', 'atypical_function', 'exterior_exc', 'salecond_abnorml', 'no_fireplace', 'lotfrontage_squared',\n",
        "            'garagearea_squared', 'sq_footage_fsbg', 'banked_land', 'HLS_land']\n",
        "\n",
        "\n",
        "\n",
        "X = df[features].values\n",
        "y = df.loc[:,['logprice']].values\n",
        "\n",
        "X_train, X_test, y_train, y_test = train_test_split(X, y, test_size=0.25, random_state=42)\n",
        "\n",
        "\n",
        "lr = LinearRegression()\n",
        "lr.fit(X_train, y_train)\n",
        "\n",
        "\n",
        "oos_pred = lr.predict(X_test)\n",
        "oos_mse = mean_squared_error(y_test, oos_pred)\n",
        "oos_r2 = r2_score(y_test, oos_pred)\n",
        "rmse = (np.sqrt(oos_mse))\n",
        "rmse, oos_r2"
      ],
      "execution_count": 341,
      "outputs": [
        {
          "output_type": "execute_result",
          "data": {
            "text/plain": [
              "(0.11619218552070094, 0.9220335521573846)"
            ]
          },
          "metadata": {
            "tags": []
          },
          "execution_count": 341
        }
      ]
    },
    {
      "metadata": {
        "id": "Uvbg4rRPW2Ex",
        "colab_type": "text"
      },
      "cell_type": "markdown",
      "source": [
        "# Stretch Goals\n",
        "\n",
        "- Write a blog post explaining one of today's topics.\n",
        "- Find a new regression dataset from the UCI machine learning repository and use it to test out your new modeling skillz.\n",
        " [ - UCI Machine Learning Repository - Regression Datasets](https://)\n",
        "- Make a list for yourself of common feature engineering techniques. Browse Kaggle kernels to learn more methods.\n",
        "- Start studying for tomorrow's topic: Gradient Descent\n",
        "- Try and make the ultimate model with this dataset. clean as many features as possible, engineer the most sensible features as possible and see how accurate of a prediction you can make. \n",
        "- Learn about the \"Dummy Variable Trap\" and how it applies to linear regression modeling.\n",
        "- Learning about using linear regression to model time series data"
      ]
    },
    {
      "metadata": {
        "id": "LKFvQlnNimd4",
        "colab_type": "code",
        "outputId": "fcc9819d-a0c3-4043-f24a-7bafd281156b",
        "colab": {
          "base_uri": "https://localhost:8080/",
          "height": 104
        }
      },
      "cell_type": "code",
      "source": [
        "from sklearn.ensemble import GradientBoostingRegressor\n",
        "from sklearn.ensemble import RandomForestRegressor\n",
        "from sklearn.linear_model import Ridge\n",
        "from sklearn.linear_model import Lasso\n",
        "\n",
        "features = ['LotArea','OverallQual', 'OverallCond', 'GrLivArea','GarageArea', 'FullBath', 'HalfBath', 'fullhalfbath_interaction', 'BedroomAbvGr',\n",
        "            'sold_pre_2008', 'age_sold','age_sold_squared', 'years_since_remod', 'age_remod_interaction', '1stFlrSF', '2ndFlrSF', 'floor_interaction', 'mszoning_RL', 'mszoning_c',\n",
        "            'mszoning_RM', 'mszoning_FV', 'good_area', 'bad_area', 'one_fam_home', 'townhouse', 'miscfeature_isnone', 'has_shed', 'new_home', 'attached_garage',\n",
        "            'detchd_garage', 'lotarea_squared', 'overallqual_squared', 'overallcond_squared', 'is_start_of_school', 'is_spring', 'remodeled?', 'age_remodeled_interaction_good',\n",
        "            'sq_footage_fsb', 'sqfootage_fsb_squared', 'grlivarea_squared', 'heating_qual_ex', 'heating_qual_pr', 'heating_qual_fa', 'finished_bsmt', 'pos1_feedr_art', 'pos2_feedr_art',\n",
        "            'pos1_pos2_sum1', 'pos1_pos2_sum2', 'kitchen_numeric_squared', 'garage_cars_squared', 'atypical_function', 'exterior_exc', 'salecond_abnorml', 'no_fireplace', 'lotfrontage_squared',\n",
        "            'garagearea_squared', 'sq_footage_fsbg', 'banked_land', 'HLS_land']\n",
        "\n",
        "\n",
        "X = df[features].values\n",
        "y = df.logprice\n",
        "\n",
        "X_train, X_test, y_train, y_test = train_test_split(X, y, test_size=0.25, random_state=42)\n",
        "\n",
        "\n",
        "lr = Ridge()\n",
        "lr.fit(X_train, y_train)\n",
        "\n",
        "\n",
        "oos_pred = lr.predict(X_test)\n",
        "oos_mse = mean_squared_error(y_test, oos_pred)\n",
        "oos_r2 = r2_score(y_test, oos_pred)\n",
        "rmse = (np.sqrt(oos_mse))\n",
        "rmse, oos_r2"
      ],
      "execution_count": 343,
      "outputs": [
        {
          "output_type": "stream",
          "text": [
            "/usr/local/lib/python3.6/dist-packages/sklearn/linear_model/ridge.py:125: LinAlgWarning: scipy.linalg.solve\n",
            "Ill-conditioned matrix detected. Result is not guaranteed to be accurate.\n",
            "Reciprocal condition number2.676697e-22\n",
            "  overwrite_a=True).T\n"
          ],
          "name": "stderr"
        },
        {
          "output_type": "execute_result",
          "data": {
            "text/plain": [
              "(0.1172621461198108, 0.9205910262271344)"
            ]
          },
          "metadata": {
            "tags": []
          },
          "execution_count": 343
        }
      ]
    },
    {
      "metadata": {
        "id": "UtV7El1sxZPj",
        "colab_type": "code",
        "colab": {
          "base_uri": "https://localhost:8080/",
          "height": 34
        },
        "outputId": "22c53bfe-43a8-4767-b0d1-dc0d3579c980"
      },
      "cell_type": "code",
      "source": [
        "from sklearn.ensemble import GradientBoostingRegressor\n",
        "from sklearn.ensemble import RandomForestRegressor\n",
        "from sklearn.linear_model import Ridge\n",
        "from sklearn.linear_model import Lasso\n",
        "\n",
        "features = ['LotArea','OverallQual', 'OverallCond', 'GrLivArea','GarageArea', 'FullBath', 'HalfBath', 'fullhalfbath_interaction', 'BedroomAbvGr',\n",
        "            'sold_pre_2008', 'age_sold','age_sold_squared', 'years_since_remod', 'age_remod_interaction', '1stFlrSF', '2ndFlrSF', 'floor_interaction', 'mszoning_RL', 'mszoning_c',\n",
        "            'mszoning_RM', 'mszoning_FV', 'good_area', 'bad_area', 'one_fam_home', 'townhouse', 'miscfeature_isnone', 'has_shed', 'new_home', 'attached_garage',\n",
        "            'detchd_garage', 'lotarea_squared', 'overallqual_squared', 'overallcond_squared', 'is_start_of_school', 'is_spring', 'remodeled?', 'age_remodeled_interaction_good',\n",
        "            'sq_footage_fsb', 'sqfootage_fsb_squared', 'grlivarea_squared', 'heating_qual_ex', 'heating_qual_pr', 'heating_qual_fa', 'finished_bsmt', 'pos1_feedr_art', 'pos2_feedr_art',\n",
        "            'pos1_pos2_sum1', 'pos1_pos2_sum2', 'kitchen_numeric_squared', 'garage_cars_squared', 'atypical_function', 'exterior_exc', 'salecond_abnorml', 'no_fireplace', 'lotfrontage_squared',\n",
        "            'garagearea_squared', 'sq_footage_fsbg', 'banked_land', 'HLS_land']\n",
        "\n",
        "\n",
        "X = df[features].values\n",
        "y = df.logprice\n",
        "\n",
        "X_train, X_test, y_train, y_test = train_test_split(X, y, test_size=0.25, random_state=42)\n",
        "\n",
        "\n",
        "lr = GradientBoostingRegressor(n_estimators=1000)\n",
        "lr.fit(X_train, y_train)\n",
        "\n",
        "\n",
        "oos_pred = lr.predict(X_test)\n",
        "oos_mse = mean_squared_error(y_test, oos_pred)\n",
        "oos_r2 = r2_score(y_test, oos_pred)\n",
        "rmse = (np.sqrt(oos_mse))\n",
        "rmse, oos_r2"
      ],
      "execution_count": 342,
      "outputs": [
        {
          "output_type": "execute_result",
          "data": {
            "text/plain": [
              "(0.1260510965933175, 0.9082413187484265)"
            ]
          },
          "metadata": {
            "tags": []
          },
          "execution_count": 342
        }
      ]
    },
    {
      "metadata": {
        "id": "weqb9fWfxe6B",
        "colab_type": "code",
        "colab": {
          "base_uri": "https://localhost:8080/",
          "height": 34
        },
        "outputId": "6d97c13d-5387-4259-99c8-a0107037ee94"
      },
      "cell_type": "code",
      "source": [
        "from sklearn.ensemble import GradientBoostingRegressor\n",
        "from sklearn.ensemble import RandomForestRegressor\n",
        "from sklearn.linear_model import Ridge\n",
        "from sklearn.linear_model import Lasso\n",
        "\n",
        "features = ['LotArea','OverallQual', 'OverallCond', 'GrLivArea','GarageArea', 'FullBath', 'HalfBath', 'fullhalfbath_interaction', 'BedroomAbvGr',\n",
        "            'sold_pre_2008', 'age_sold','age_sold_squared', 'years_since_remod', 'age_remod_interaction', '1stFlrSF', '2ndFlrSF', 'floor_interaction', 'mszoning_RL', 'mszoning_c',\n",
        "            'mszoning_RM', 'mszoning_FV', 'good_area', 'bad_area', 'one_fam_home', 'townhouse', 'miscfeature_isnone', 'has_shed', 'new_home', 'attached_garage',\n",
        "            'detchd_garage', 'lotarea_squared', 'overallqual_squared', 'overallcond_squared', 'is_start_of_school', 'is_spring', 'remodeled?', 'age_remodeled_interaction_good',\n",
        "            'sq_footage_fsb', 'sqfootage_fsb_squared', 'grlivarea_squared', 'heating_qual_ex', 'heating_qual_pr', 'heating_qual_fa', 'finished_bsmt', 'pos1_feedr_art', 'pos2_feedr_art',\n",
        "            'pos1_pos2_sum1', 'pos1_pos2_sum2', 'kitchen_numeric_squared', 'garage_cars_squared', 'atypical_function', 'exterior_exc', 'salecond_abnorml', 'no_fireplace', 'lotfrontage_squared',\n",
        "            'garagearea_squared', 'sq_footage_fsbg', 'banked_land', 'HLS_land']\n",
        "\n",
        "\n",
        "X = df[features].values\n",
        "y = df.logprice\n",
        "\n",
        "X_train, X_test, y_train, y_test = train_test_split(X, y, test_size=0.25, random_state=42)\n",
        "\n",
        "\n",
        "lr = RandomForestRegressor(n_estimators=300,max_features=10)\n",
        "lr.fit(X_train, y_train)\n",
        "\n",
        "\n",
        "oos_pred = lr.predict(X_test)\n",
        "oos_mse = mean_squared_error(y_test, oos_pred)\n",
        "oos_r2 = r2_score(y_test, oos_pred)\n",
        "rmse = (np.sqrt(oos_mse))\n",
        "rmse, oos_r2"
      ],
      "execution_count": 344,
      "outputs": [
        {
          "output_type": "execute_result",
          "data": {
            "text/plain": [
              "(0.1339719596767472, 0.8963470356285553)"
            ]
          },
          "metadata": {
            "tags": []
          },
          "execution_count": 344
        }
      ]
    },
    {
      "metadata": {
        "id": "Zuhy38hCxkET",
        "colab_type": "code",
        "colab": {
          "base_uri": "https://localhost:8080/",
          "height": 34
        },
        "outputId": "0e15d19d-f97a-41d0-87f6-a9854919191c"
      },
      "cell_type": "code",
      "source": [
        "features = ['LotArea','OverallQual', 'OverallCond', 'GrLivArea','GarageArea', 'FullBath', 'HalfBath', 'fullhalfbath_interaction', 'BedroomAbvGr',\n",
        "            'sold_pre_2008', 'age_sold','age_sold_squared', 'years_since_remod', 'age_remod_interaction', '1stFlrSF', '2ndFlrSF', 'floor_interaction', 'mszoning_RL', 'mszoning_c',\n",
        "            'mszoning_RM', 'mszoning_FV', 'good_area', 'bad_area', 'one_fam_home', 'townhouse', 'miscfeature_isnone', 'has_shed', 'new_home', 'attached_garage',\n",
        "            'detchd_garage', 'lotarea_squared', 'overallqual_squared', 'overallcond_squared', 'is_start_of_school', 'is_spring', 'remodeled?', 'age_remodeled_interaction_good',\n",
        "            'sq_footage_fsb', 'sqfootage_fsb_squared', 'grlivarea_squared', 'heating_qual_ex', 'heating_qual_pr', 'heating_qual_fa', 'finished_bsmt', 'pos1_feedr_art', 'pos2_feedr_art',\n",
        "            'pos1_pos2_sum1', 'pos1_pos2_sum2', 'kitchen_numeric_squared', 'garage_cars_squared', 'atypical_function', 'exterior_exc', 'salecond_abnorml', 'no_fireplace', 'lotfrontage_squared',\n",
        "            'garagearea_squared', 'sq_footage_fsbg', 'banked_land', 'HLS_land']\n",
        "\n",
        "\n",
        "\n",
        "X = df[features].values\n",
        "y = df.loc[:,['logprice']].values\n",
        "\n",
        "X_train, X_test, y_train, y_test = train_test_split(X, y, test_size=0.25, random_state=42)\n",
        "\n",
        "\n",
        "lr = LinearRegression()\n",
        "lr.fit(X_train, y_train)\n",
        "\n",
        "\n",
        "oos_pred = lr.predict(X_test)\n",
        "oos_mse = mean_squared_error(y_test, oos_pred)\n",
        "oos_r2 = r2_score(y_test, oos_pred)\n",
        "rmse = (np.sqrt(oos_mse))\n",
        "rmse, oos_r2"
      ],
      "execution_count": 360,
      "outputs": [
        {
          "output_type": "execute_result",
          "data": {
            "text/plain": [
              "(0.11619218552070094, 0.9220335521573846)"
            ]
          },
          "metadata": {
            "tags": []
          },
          "execution_count": 360
        }
      ]
    },
    {
      "metadata": {
        "id": "dSKHOXJAzWR6",
        "colab_type": "code",
        "colab": {
          "base_uri": "https://localhost:8080/",
          "height": 138
        },
        "outputId": "3084c7c6-8004-44aa-a72f-8e68cb1c0217"
      },
      "cell_type": "code",
      "source": [
        "df.SaleCondition.value_counts()"
      ],
      "execution_count": 362,
      "outputs": [
        {
          "output_type": "execute_result",
          "data": {
            "text/plain": [
              "Normal     1198\n",
              "Partial     125\n",
              "Abnorml     101\n",
              "Family       20\n",
              "Alloca       12\n",
              "AdjLand       4\n",
              "Name: SaleCondition, dtype: int64"
            ]
          },
          "metadata": {
            "tags": []
          },
          "execution_count": 362
        }
      ]
    },
    {
      "metadata": {
        "id": "vntuUjwZ0Ttd",
        "colab_type": "code",
        "colab": {
          "base_uri": "https://localhost:8080/",
          "height": 364
        },
        "outputId": "a36c30f2-a3dc-4942-d954-414a46937a6b"
      },
      "cell_type": "code",
      "source": [
        "df.pivot_table(index='SaleCondition', values='SalePrice').plot.barh()"
      ],
      "execution_count": 364,
      "outputs": [
        {
          "output_type": "execute_result",
          "data": {
            "text/plain": [
              "<matplotlib.axes._subplots.AxesSubplot at 0x7f3914670c88>"
            ]
          },
          "metadata": {
            "tags": []
          },
          "execution_count": 364
        },
        {
          "output_type": "display_data",
          "data": {
            "image/png": "[encoded data removed]",
            "text/plain": [
              "<Figure size 576x396 with 1 Axes>"
            ]
          },
          "metadata": {
            "tags": []
          }
        }
      ]
    },
    {
      "metadata": {
        "id": "OOgZWJIK0cMu",
        "colab_type": "code",
        "colab": {}
      },
      "cell_type": "code",
      "source": [
        "df['salecond_adjland'] = (df.SaleCondition == 'AdjLand')\n",
        "df['salecond_alloca'] = (df.SaleCondition == 'Alloca') "
      ],
      "execution_count": 0,
      "outputs": []
    },
    {
      "metadata": {
        "id": "zvcVDnR71HoL",
        "colab_type": "code",
        "colab": {
          "base_uri": "https://localhost:8080/",
          "height": 34
        },
        "outputId": "83704e7d-a145-41ed-b930-97785278005e"
      },
      "cell_type": "code",
      "source": [
        "features = ['LotArea','OverallQual', 'OverallCond', 'GrLivArea','GarageArea', 'FullBath', 'HalfBath', 'fullhalfbath_interaction', 'BedroomAbvGr',\n",
        "            'sold_pre_2008', 'age_sold','age_sold_squared', 'years_since_remod', 'age_remod_interaction', '1stFlrSF', '2ndFlrSF', 'floor_interaction', 'mszoning_RL', 'mszoning_c',\n",
        "            'mszoning_RM', 'mszoning_FV', 'good_area', 'bad_area', 'one_fam_home', 'townhouse', 'miscfeature_isnone', 'has_shed', 'new_home', 'attached_garage',\n",
        "            'detchd_garage', 'lotarea_squared', 'overallqual_squared', 'overallcond_squared', 'is_start_of_school', 'is_spring', 'remodeled?', 'age_remodeled_interaction_good',\n",
        "            'sq_footage_fsb', 'sqfootage_fsb_squared', 'grlivarea_squared', 'heating_qual_ex', 'heating_qual_pr', 'heating_qual_fa', 'finished_bsmt', 'pos1_feedr_art', 'pos2_feedr_art',\n",
        "            'pos1_pos2_sum1', 'pos1_pos2_sum2', 'kitchen_numeric_squared', 'garage_cars_squared', 'atypical_function', 'exterior_exc', 'salecond_abnorml', 'no_fireplace', 'lotfrontage_squared',\n",
        "            'garagearea_squared', 'sq_footage_fsbg', 'banked_land', 'HLS_land']\n",
        "\n",
        "\n",
        "\n",
        "X = df[features].values\n",
        "y = df.loc[:,['logprice']].values\n",
        "\n",
        "X_train, X_test, y_train, y_test = train_test_split(X, y, test_size=0.25, random_state=42)\n",
        "\n",
        "\n",
        "lr = LinearRegression()\n",
        "lr.fit(X_train, y_train)\n",
        "\n",
        "\n",
        "oos_pred = lr.predict(X_test)\n",
        "oos_mse = mean_squared_error(y_test, oos_pred)\n",
        "oos_r2 = r2_score(y_test, oos_pred)\n",
        "rmse = (np.sqrt(oos_mse))\n",
        "rmse, oos_r2"
      ],
      "execution_count": 368,
      "outputs": [
        {
          "output_type": "execute_result",
          "data": {
            "text/plain": [
              "(0.11619218552070094, 0.9220335521573846)"
            ]
          },
          "metadata": {
            "tags": []
          },
          "execution_count": 368
        }
      ]
    },
    {
      "metadata": {
        "id": "3jEe4QQI1OoF",
        "colab_type": "code",
        "colab": {}
      },
      "cell_type": "code",
      "source": [
        "df['salecond_family'] = (df.SaleCondition == 'Family')"
      ],
      "execution_count": 0,
      "outputs": []
    },
    {
      "metadata": {
        "id": "-Fg6SSQ01mA2",
        "colab_type": "code",
        "colab": {
          "base_uri": "https://localhost:8080/",
          "height": 34
        },
        "outputId": "4a65224d-cb04-418c-bed9-d163c30d0bdb"
      },
      "cell_type": "code",
      "source": [
        "features = ['LotArea','OverallQual', 'OverallCond', 'GrLivArea','GarageArea', 'FullBath', 'HalfBath', 'fullhalfbath_interaction', 'BedroomAbvGr',\n",
        "            'sold_pre_2008', 'age_sold','age_sold_squared', 'years_since_remod', 'age_remod_interaction', '1stFlrSF', '2ndFlrSF', 'floor_interaction', 'mszoning_RL', 'mszoning_c',\n",
        "            'mszoning_RM', 'mszoning_FV', 'good_area', 'bad_area', 'one_fam_home', 'townhouse', 'miscfeature_isnone', 'has_shed', 'new_home', 'attached_garage',\n",
        "            'detchd_garage', 'lotarea_squared', 'overallqual_squared', 'overallcond_squared', 'is_start_of_school', 'is_spring', 'remodeled?', 'age_remodeled_interaction_good',\n",
        "            'sq_footage_fsb', 'sqfootage_fsb_squared', 'grlivarea_squared', 'heating_qual_ex', 'heating_qual_pr', 'heating_qual_fa', 'finished_bsmt', 'pos1_feedr_art', 'pos2_feedr_art',\n",
        "            'pos1_pos2_sum1', 'pos1_pos2_sum2', 'kitchen_numeric_squared', 'garage_cars_squared', 'atypical_function', 'exterior_exc', 'salecond_abnorml', 'no_fireplace', 'lotfrontage_squared',\n",
        "            'garagearea_squared', 'sq_footage_fsbg', 'banked_land', 'HLS_land', 'salecond_family']\n",
        "\n",
        "\n",
        "\n",
        "X = df[features].values\n",
        "y = df.loc[:,['logprice']].values\n",
        "\n",
        "X_train, X_test, y_train, y_test = train_test_split(X, y, test_size=0.25, random_state=42)\n",
        "\n",
        "\n",
        "lr = LinearRegression()\n",
        "lr.fit(X_train, y_train)\n",
        "\n",
        "\n",
        "oos_pred = lr.predict(X_test)\n",
        "oos_mse = mean_squared_error(y_test, oos_pred)\n",
        "oos_r2 = r2_score(y_test, oos_pred)\n",
        "rmse = (np.sqrt(oos_mse))\n",
        "rmse, oos_r2"
      ],
      "execution_count": 372,
      "outputs": [
        {
          "output_type": "execute_result",
          "data": {
            "text/plain": [
              "(0.11582708418637891, 0.9225227577153594)"
            ]
          },
          "metadata": {
            "tags": []
          },
          "execution_count": 372
        }
      ]
    },
    {
      "metadata": {
        "id": "IVjK0ZER1pKn",
        "colab_type": "code",
        "colab": {
          "base_uri": "https://localhost:8080/",
          "height": 173
        },
        "outputId": "5c594b43-6d43-496a-d784-e7cc595696d3"
      },
      "cell_type": "code",
      "source": [
        "df.PoolArea.value_counts()"
      ],
      "execution_count": 373,
      "outputs": [
        {
          "output_type": "execute_result",
          "data": {
            "text/plain": [
              "0      1453\n",
              "738       1\n",
              "648       1\n",
              "576       1\n",
              "555       1\n",
              "519       1\n",
              "512       1\n",
              "480       1\n",
              "Name: PoolArea, dtype: int64"
            ]
          },
          "metadata": {
            "tags": []
          },
          "execution_count": 373
        }
      ]
    },
    {
      "metadata": {
        "id": "9pNwKx_91_6f",
        "colab_type": "code",
        "colab": {}
      },
      "cell_type": "code",
      "source": [
        "df['has_pool'] = (df.PoolArea > 0)"
      ],
      "execution_count": 0,
      "outputs": []
    },
    {
      "metadata": {
        "id": "pHLIfKpo2M_g",
        "colab_type": "code",
        "colab": {
          "base_uri": "https://localhost:8080/",
          "height": 34
        },
        "outputId": "9f749cb0-620b-4404-fc0e-1bc595cdad0e"
      },
      "cell_type": "code",
      "source": [
        "features = ['LotArea','OverallQual', 'OverallCond', 'GrLivArea','GarageArea', 'FullBath', 'HalfBath', 'fullhalfbath_interaction', 'BedroomAbvGr',\n",
        "            'sold_pre_2008', 'age_sold','age_sold_squared', 'years_since_remod', 'age_remod_interaction', '1stFlrSF', '2ndFlrSF', 'floor_interaction', 'mszoning_RL', 'mszoning_c',\n",
        "            'mszoning_RM', 'mszoning_FV', 'good_area', 'bad_area', 'one_fam_home', 'townhouse', 'miscfeature_isnone', 'has_shed', 'new_home', 'attached_garage',\n",
        "            'detchd_garage', 'lotarea_squared', 'overallqual_squared', 'overallcond_squared', 'is_start_of_school', 'is_spring', 'remodeled?', 'age_remodeled_interaction_good',\n",
        "            'sq_footage_fsb', 'sqfootage_fsb_squared', 'grlivarea_squared', 'heating_qual_ex', 'heating_qual_pr', 'heating_qual_fa', 'finished_bsmt', 'pos1_feedr_art', 'pos2_feedr_art',\n",
        "            'pos1_pos2_sum1', 'pos1_pos2_sum2', 'kitchen_numeric_squared', 'garage_cars_squared', 'atypical_function', 'exterior_exc', 'salecond_abnorml', 'no_fireplace', 'lotfrontage_squared',\n",
        "            'garagearea_squared', 'sq_footage_fsbg', 'banked_land', 'HLS_land', 'salecond_family', 'has_pool']\n",
        "\n",
        "\n",
        "\n",
        "X = df[features].values\n",
        "y = df.loc[:,['logprice']].values\n",
        "\n",
        "X_train, X_test, y_train, y_test = train_test_split(X, y, test_size=0.25, random_state=42)\n",
        "\n",
        "\n",
        "lr = LinearRegression()\n",
        "lr.fit(X_train, y_train)\n",
        "\n",
        "\n",
        "oos_pred = lr.predict(X_test)\n",
        "oos_mse = mean_squared_error(y_test, oos_pred)\n",
        "oos_r2 = r2_score(y_test, oos_pred)\n",
        "rmse = (np.sqrt(oos_mse))\n",
        "rmse, oos_r2"
      ],
      "execution_count": 379,
      "outputs": [
        {
          "output_type": "execute_result",
          "data": {
            "text/plain": [
              "(0.1161828020436709, 0.9220461445159489)"
            ]
          },
          "metadata": {
            "tags": []
          },
          "execution_count": 379
        }
      ]
    },
    {
      "metadata": {
        "id": "H-G5j9PP2P9R",
        "colab_type": "code",
        "colab": {
          "base_uri": "https://localhost:8080/",
          "height": 34
        },
        "outputId": "86ec67d8-e0be-4061-890a-5a9f17e85ad4"
      },
      "cell_type": "code",
      "source": [
        "features = ['LotArea','OverallQual', 'OverallCond', 'GrLivArea','GarageArea', 'FullBath', 'HalfBath', 'fullhalfbath_interaction', 'BedroomAbvGr',\n",
        "            'sold_pre_2008', 'age_sold','age_sold_squared', 'years_since_remod', 'age_remod_interaction', '1stFlrSF', '2ndFlrSF', 'floor_interaction', 'mszoning_RL', 'mszoning_c',\n",
        "            'mszoning_RM', 'mszoning_FV', 'good_area', 'bad_area', 'one_fam_home', 'townhouse', 'miscfeature_isnone', 'has_shed', 'new_home', 'attached_garage',\n",
        "            'detchd_garage', 'lotarea_squared', 'overallqual_squared', 'overallcond_squared', 'is_start_of_school', 'is_spring', 'remodeled?', 'age_remodeled_interaction_good',\n",
        "            'sq_footage_fsb', 'sqfootage_fsb_squared', 'grlivarea_squared', 'heating_qual_ex', 'heating_qual_pr', 'heating_qual_fa', 'finished_bsmt', 'pos1_feedr_art', 'pos2_feedr_art',\n",
        "            'pos1_pos2_sum1', 'pos1_pos2_sum2', 'kitchen_numeric_squared', 'garage_cars_squared', 'atypical_function', 'exterior_exc', 'salecond_abnorml', 'no_fireplace', 'lotfrontage_squared',\n",
        "            'garagearea_squared', 'sq_footage_fsbg', 'banked_land', 'HLS_land', 'salecond_family']\n",
        "\n",
        "\n",
        "\n",
        "X = df[features].values\n",
        "y = df.loc[:,['logprice']].values\n",
        "\n",
        "X_train, X_test, y_train, y_test = train_test_split(X, y, test_size=0.25, random_state=42)\n",
        "\n",
        "\n",
        "lr = LinearRegression()\n",
        "lr.fit(X_train, y_train)\n",
        "\n",
        "\n",
        "oos_pred = lr.predict(X_test)\n",
        "oos_mse = mean_squared_error(y_test, oos_pred)\n",
        "oos_r2 = r2_score(y_test, oos_pred)\n",
        "rmse = (np.sqrt(oos_mse))\n",
        "rmse, oos_r2"
      ],
      "execution_count": 380,
      "outputs": [
        {
          "output_type": "execute_result",
          "data": {
            "text/plain": [
              "(0.11582708418637891, 0.9225227577153594)"
            ]
          },
          "metadata": {
            "tags": []
          },
          "execution_count": 380
        }
      ]
    },
    {
      "metadata": {
        "id": "h6g3VcrB2m-S",
        "colab_type": "code",
        "colab": {}
      },
      "cell_type": "code",
      "source": [
        "df['pool_exc'] = (df.PoolQC == 'Ex')"
      ],
      "execution_count": 0,
      "outputs": []
    },
    {
      "metadata": {
        "id": "9cV169Ky2rdL",
        "colab_type": "code",
        "colab": {
          "base_uri": "https://localhost:8080/",
          "height": 34
        },
        "outputId": "777dd9d5-544f-4863-d190-331060451986"
      },
      "cell_type": "code",
      "source": [
        "features = ['LotArea','OverallQual', 'OverallCond', 'GrLivArea','GarageArea', 'FullBath', 'HalfBath', 'fullhalfbath_interaction', 'BedroomAbvGr',\n",
        "            'sold_pre_2008', 'age_sold','age_sold_squared', 'years_since_remod', 'age_remod_interaction', '1stFlrSF', '2ndFlrSF', 'floor_interaction', 'mszoning_RL', 'mszoning_c',\n",
        "            'mszoning_RM', 'mszoning_FV', 'good_area', 'bad_area', 'one_fam_home', 'townhouse', 'miscfeature_isnone', 'has_shed', 'new_home', 'attached_garage',\n",
        "            'detchd_garage', 'lotarea_squared', 'overallqual_squared', 'overallcond_squared', 'is_start_of_school', 'is_spring', 'remodeled?', 'age_remodeled_interaction_good',\n",
        "            'sq_footage_fsb', 'sqfootage_fsb_squared', 'grlivarea_squared', 'heating_qual_ex', 'heating_qual_pr', 'heating_qual_fa', 'finished_bsmt', 'pos1_feedr_art', 'pos2_feedr_art',\n",
        "            'pos1_pos2_sum1', 'pos1_pos2_sum2', 'kitchen_numeric_squared', 'garage_cars_squared', 'atypical_function', 'exterior_exc', 'salecond_abnorml', 'no_fireplace', 'lotfrontage_squared',\n",
        "            'garagearea_squared', 'sq_footage_fsbg', 'banked_land', 'HLS_land', 'salecond_family']\n",
        "\n",
        "\n",
        "\n",
        "X = df[features].values\n",
        "y = df.loc[:,['logprice']].values\n",
        "\n",
        "X_train, X_test, y_train, y_test = train_test_split(X, y, test_size=0.25, random_state=42)\n",
        "\n",
        "\n",
        "lr = LinearRegression()\n",
        "lr.fit(X_train, y_train)\n",
        "\n",
        "\n",
        "oos_pred = lr.predict(X_test)\n",
        "oos_mse = mean_squared_error(y_test, oos_pred)\n",
        "oos_r2 = r2_score(y_test, oos_pred)\n",
        "rmse = (np.sqrt(oos_mse))\n",
        "rmse, oos_r2"
      ],
      "execution_count": 386,
      "outputs": [
        {
          "output_type": "execute_result",
          "data": {
            "text/plain": [
              "(0.11582708418637891, 0.9225227577153594)"
            ]
          },
          "metadata": {
            "tags": []
          },
          "execution_count": 386
        }
      ]
    },
    {
      "metadata": {
        "id": "QdIn6KDP26Rs",
        "colab_type": "code",
        "colab": {
          "base_uri": "https://localhost:8080/",
          "height": 217
        },
        "outputId": "58bc052a-ce4f-483e-c3ee-eec5b3d172e2"
      },
      "cell_type": "code",
      "source": [
        "df.head()"
      ],
      "execution_count": 387,
      "outputs": [
        {
          "output_type": "execute_result",
          "data": {
            "text/html": [
              "<div>\n",
              "<style scoped>\n",
              "    .dataframe tbody tr th:only-of-type {\n",
              "        vertical-align: middle;\n",
              "    }\n",
              "\n",
              "    .dataframe tbody tr th {\n",
              "        vertical-align: top;\n",
              "    }\n",
              "\n",
              "    .dataframe thead th {\n",
              "        text-align: right;\n",
              "    }\n",
              "</style>\n",
              "<table border=\"1\" class=\"dataframe\">\n",
              "  <thead>\n",
              "    <tr style=\"text-align: right;\">\n",
              "      <th></th>\n",
              "      <th>Id</th>\n",
              "      <th>MSSubClass</th>\n",
              "      <th>MSZoning</th>\n",
              "      <th>LotFrontage</th>\n",
              "      <th>LotArea</th>\n",
              "      <th>Street</th>\n",
              "      <th>Alley</th>\n",
              "      <th>LotShape</th>\n",
              "      <th>LandContour</th>\n",
              "      <th>Utilities</th>\n",
              "      <th>LotConfig</th>\n",
              "      <th>LandSlope</th>\n",
              "      <th>Neighborhood</th>\n",
              "      <th>Condition1</th>\n",
              "      <th>Condition2</th>\n",
              "      <th>BldgType</th>\n",
              "      <th>HouseStyle</th>\n",
              "      <th>OverallQual</th>\n",
              "      <th>OverallCond</th>\n",
              "      <th>YearBuilt</th>\n",
              "      <th>YearRemodAdd</th>\n",
              "      <th>RoofStyle</th>\n",
              "      <th>RoofMatl</th>\n",
              "      <th>Exterior1st</th>\n",
              "      <th>Exterior2nd</th>\n",
              "      <th>MasVnrType</th>\n",
              "      <th>MasVnrArea</th>\n",
              "      <th>ExterQual</th>\n",
              "      <th>ExterCond</th>\n",
              "      <th>Foundation</th>\n",
              "      <th>BsmtQual</th>\n",
              "      <th>BsmtCond</th>\n",
              "      <th>BsmtExposure</th>\n",
              "      <th>BsmtFinType1</th>\n",
              "      <th>BsmtFinSF1</th>\n",
              "      <th>BsmtFinType2</th>\n",
              "      <th>BsmtFinSF2</th>\n",
              "      <th>BsmtUnfSF</th>\n",
              "      <th>TotalBsmtSF</th>\n",
              "      <th>Heating</th>\n",
              "      <th>HeatingQC</th>\n",
              "      <th>CentralAir</th>\n",
              "      <th>Electrical</th>\n",
              "      <th>1stFlrSF</th>\n",
              "      <th>2ndFlrSF</th>\n",
              "      <th>LowQualFinSF</th>\n",
              "      <th>GrLivArea</th>\n",
              "      <th>BsmtFullBath</th>\n",
              "      <th>BsmtHalfBath</th>\n",
              "      <th>FullBath</th>\n",
              "      <th>HalfBath</th>\n",
              "      <th>BedroomAbvGr</th>\n",
              "      <th>KitchenAbvGr</th>\n",
              "      <th>KitchenQual</th>\n",
              "      <th>TotRmsAbvGrd</th>\n",
              "      <th>Functional</th>\n",
              "      <th>Fireplaces</th>\n",
              "      <th>FireplaceQu</th>\n",
              "      <th>GarageType</th>\n",
              "      <th>GarageYrBlt</th>\n",
              "      <th>GarageFinish</th>\n",
              "      <th>GarageCars</th>\n",
              "      <th>GarageArea</th>\n",
              "      <th>GarageQual</th>\n",
              "      <th>GarageCond</th>\n",
              "      <th>PavedDrive</th>\n",
              "      <th>WoodDeckSF</th>\n",
              "      <th>OpenPorchSF</th>\n",
              "      <th>EnclosedPorch</th>\n",
              "      <th>3SsnPorch</th>\n",
              "      <th>ScreenPorch</th>\n",
              "      <th>PoolArea</th>\n",
              "      <th>PoolQC</th>\n",
              "      <th>Fence</th>\n",
              "      <th>MiscFeature</th>\n",
              "      <th>MiscVal</th>\n",
              "      <th>MoSold</th>\n",
              "      <th>YrSold</th>\n",
              "      <th>SaleType</th>\n",
              "      <th>SaleCondition</th>\n",
              "      <th>SalePrice</th>\n",
              "      <th>matching_exterior_type</th>\n",
              "      <th>logprice</th>\n",
              "      <th>fullhalfbath_interaction</th>\n",
              "      <th>sold_pre_2008</th>\n",
              "      <th>age_sold</th>\n",
              "      <th>years_since_remod</th>\n",
              "      <th>age_remod_interaction</th>\n",
              "      <th>age_sold_squared</th>\n",
              "      <th>years_since_remod_squared</th>\n",
              "      <th>age_remod_interaction_squared</th>\n",
              "      <th>floor_interaction</th>\n",
              "      <th>mszoning_RL</th>\n",
              "      <th>mszoning_c</th>\n",
              "      <th>mszoning_RM</th>\n",
              "      <th>mszoning_FV</th>\n",
              "      <th>good_area</th>\n",
              "      <th>bad_area</th>\n",
              "      <th>one_fam_home</th>\n",
              "      <th>townhouse</th>\n",
              "      <th>miscfeature_isnone</th>\n",
              "      <th>has_shed</th>\n",
              "      <th>new_home</th>\n",
              "      <th>saletype_cod</th>\n",
              "      <th>saletype_lowdn_lowint</th>\n",
              "      <th>attached_garage</th>\n",
              "      <th>detchd_garage</th>\n",
              "      <th>lotarea_squared</th>\n",
              "      <th>overallqual_squared</th>\n",
              "      <th>overallcond_squared</th>\n",
              "      <th>is_start_of_school</th>\n",
              "      <th>is_spring</th>\n",
              "      <th>remodeled?</th>\n",
              "      <th>age_remodeled_interaction_good</th>\n",
              "      <th>sq_footage_fsb</th>\n",
              "      <th>sqfootage_fsb_squared</th>\n",
              "      <th>fullbath_squared</th>\n",
              "      <th>grlivarea_squared</th>\n",
              "      <th>heating_gasa</th>\n",
              "      <th>heating_qual_ex</th>\n",
              "      <th>heating_qual_pr</th>\n",
              "      <th>heating_qual_fa</th>\n",
              "      <th>bsmt_unfin_percent</th>\n",
              "      <th>finished_bsmt</th>\n",
              "      <th>pos1_feedr_art</th>\n",
              "      <th>pos2_feedr_art</th>\n",
              "      <th>pos1_pos2_sum1</th>\n",
              "      <th>pos1_pos2_sum2</th>\n",
              "      <th>onehalf_fin</th>\n",
              "      <th>onehalf_unfin</th>\n",
              "      <th>kitchen_numeric</th>\n",
              "      <th>kitchen_numeric_squared</th>\n",
              "      <th>garage_cars_squared</th>\n",
              "      <th>atypical_function</th>\n",
              "      <th>exterior_exc</th>\n",
              "      <th>salecond_partial</th>\n",
              "      <th>salecond_abnorml</th>\n",
              "      <th>no_fireplace</th>\n",
              "      <th>two_or_more_fireplaces</th>\n",
              "      <th>lotfrontage_squared</th>\n",
              "      <th>electrical_is_brkr</th>\n",
              "      <th>electrical_is_F</th>\n",
              "      <th>electrical_is_A</th>\n",
              "      <th>electrical_is_P</th>\n",
              "      <th>overallcond_5over</th>\n",
              "      <th>garagearea_squared</th>\n",
              "      <th>sq_footage_fsbg</th>\n",
              "      <th>sq_footage_fsbg_squared</th>\n",
              "      <th>banked_land</th>\n",
              "      <th>HLS_land</th>\n",
              "      <th>landslope_mod_sev</th>\n",
              "      <th>land_interaction</th>\n",
              "      <th>salecond_adjland</th>\n",
              "      <th>salecond_alloca</th>\n",
              "      <th>salecond_family</th>\n",
              "      <th>has_pool</th>\n",
              "      <th>pool_exc</th>\n",
              "    </tr>\n",
              "  </thead>\n",
              "  <tbody>\n",
              "    <tr>\n",
              "      <th>0</th>\n",
              "      <td>1</td>\n",
              "      <td>60</td>\n",
              "      <td>RL</td>\n",
              "      <td>65.0</td>\n",
              "      <td>8450</td>\n",
              "      <td>Pave</td>\n",
              "      <td>NaN</td>\n",
              "      <td>Reg</td>\n",
              "      <td>Lvl</td>\n",
              "      <td>AllPub</td>\n",
              "      <td>Inside</td>\n",
              "      <td>Gtl</td>\n",
              "      <td>CollgCr</td>\n",
              "      <td>Norm</td>\n",
              "      <td>Norm</td>\n",
              "      <td>1Fam</td>\n",
              "      <td>2Story</td>\n",
              "      <td>7</td>\n",
              "      <td>5</td>\n",
              "      <td>2003</td>\n",
              "      <td>2003</td>\n",
              "      <td>Gable</td>\n",
              "      <td>CompShg</td>\n",
              "      <td>VinylSd</td>\n",
              "      <td>VinylSd</td>\n",
              "      <td>BrkFace</td>\n",
              "      <td>196.0</td>\n",
              "      <td>Gd</td>\n",
              "      <td>TA</td>\n",
              "      <td>PConc</td>\n",
              "      <td>Gd</td>\n",
              "      <td>TA</td>\n",
              "      <td>No</td>\n",
              "      <td>GLQ</td>\n",
              "      <td>706</td>\n",
              "      <td>Unf</td>\n",
              "      <td>0</td>\n",
              "      <td>150</td>\n",
              "      <td>856</td>\n",
              "      <td>GasA</td>\n",
              "      <td>Ex</td>\n",
              "      <td>Y</td>\n",
              "      <td>SBrkr</td>\n",
              "      <td>856</td>\n",
              "      <td>854</td>\n",
              "      <td>0</td>\n",
              "      <td>1710</td>\n",
              "      <td>1</td>\n",
              "      <td>0</td>\n",
              "      <td>2</td>\n",
              "      <td>1</td>\n",
              "      <td>3</td>\n",
              "      <td>1</td>\n",
              "      <td>Gd</td>\n",
              "      <td>8</td>\n",
              "      <td>Typ</td>\n",
              "      <td>0</td>\n",
              "      <td>NaN</td>\n",
              "      <td>Attchd</td>\n",
              "      <td>2003.0</td>\n",
              "      <td>RFn</td>\n",
              "      <td>2</td>\n",
              "      <td>548</td>\n",
              "      <td>TA</td>\n",
              "      <td>TA</td>\n",
              "      <td>Y</td>\n",
              "      <td>0</td>\n",
              "      <td>61</td>\n",
              "      <td>0</td>\n",
              "      <td>0</td>\n",
              "      <td>0</td>\n",
              "      <td>0</td>\n",
              "      <td>NaN</td>\n",
              "      <td>NaN</td>\n",
              "      <td>None</td>\n",
              "      <td>0</td>\n",
              "      <td>2</td>\n",
              "      <td>2008</td>\n",
              "      <td>WD</td>\n",
              "      <td>Normal</td>\n",
              "      <td>208500</td>\n",
              "      <td>True</td>\n",
              "      <td>12.247694</td>\n",
              "      <td>2</td>\n",
              "      <td>False</td>\n",
              "      <td>5</td>\n",
              "      <td>5</td>\n",
              "      <td>25</td>\n",
              "      <td>25</td>\n",
              "      <td>5</td>\n",
              "      <td>125</td>\n",
              "      <td>731024</td>\n",
              "      <td>True</td>\n",
              "      <td>False</td>\n",
              "      <td>False</td>\n",
              "      <td>False</td>\n",
              "      <td>False</td>\n",
              "      <td>False</td>\n",
              "      <td>True</td>\n",
              "      <td>False</td>\n",
              "      <td>True</td>\n",
              "      <td>False</td>\n",
              "      <td>False</td>\n",
              "      <td>False</td>\n",
              "      <td>False</td>\n",
              "      <td>True</td>\n",
              "      <td>False</td>\n",
              "      <td>71402500</td>\n",
              "      <td>49</td>\n",
              "      <td>25</td>\n",
              "      <td>False</td>\n",
              "      <td>False</td>\n",
              "      <td>False</td>\n",
              "      <td>0</td>\n",
              "      <td>2416</td>\n",
              "      <td>5837056</td>\n",
              "      <td>4</td>\n",
              "      <td>2924100</td>\n",
              "      <td>True</td>\n",
              "      <td>True</td>\n",
              "      <td>False</td>\n",
              "      <td>False</td>\n",
              "      <td>0.175234</td>\n",
              "      <td>False</td>\n",
              "      <td>False</td>\n",
              "      <td>False</td>\n",
              "      <td>False</td>\n",
              "      <td>False</td>\n",
              "      <td>False</td>\n",
              "      <td>False</td>\n",
              "      <td>4</td>\n",
              "      <td>16</td>\n",
              "      <td>4</td>\n",
              "      <td>False</td>\n",
              "      <td>False</td>\n",
              "      <td>False</td>\n",
              "      <td>False</td>\n",
              "      <td>True</td>\n",
              "      <td>False</td>\n",
              "      <td>4225.0</td>\n",
              "      <td>True</td>\n",
              "      <td>False</td>\n",
              "      <td>False</td>\n",
              "      <td>False</td>\n",
              "      <td>True</td>\n",
              "      <td>300304</td>\n",
              "      <td>2964</td>\n",
              "      <td>8785296</td>\n",
              "      <td>False</td>\n",
              "      <td>False</td>\n",
              "      <td>False</td>\n",
              "      <td>False</td>\n",
              "      <td>False</td>\n",
              "      <td>False</td>\n",
              "      <td>False</td>\n",
              "      <td>False</td>\n",
              "      <td>False</td>\n",
              "    </tr>\n",
              "    <tr>\n",
              "      <th>1</th>\n",
              "      <td>2</td>\n",
              "      <td>20</td>\n",
              "      <td>RL</td>\n",
              "      <td>80.0</td>\n",
              "      <td>9600</td>\n",
              "      <td>Pave</td>\n",
              "      <td>NaN</td>\n",
              "      <td>Reg</td>\n",
              "      <td>Lvl</td>\n",
              "      <td>AllPub</td>\n",
              "      <td>FR2</td>\n",
              "      <td>Gtl</td>\n",
              "      <td>Veenker</td>\n",
              "      <td>Feedr</td>\n",
              "      <td>Norm</td>\n",
              "      <td>1Fam</td>\n",
              "      <td>1Story</td>\n",
              "      <td>6</td>\n",
              "      <td>8</td>\n",
              "      <td>1976</td>\n",
              "      <td>1976</td>\n",
              "      <td>Gable</td>\n",
              "      <td>CompShg</td>\n",
              "      <td>MetalSd</td>\n",
              "      <td>MetalSd</td>\n",
              "      <td>None</td>\n",
              "      <td>0.0</td>\n",
              "      <td>TA</td>\n",
              "      <td>TA</td>\n",
              "      <td>CBlock</td>\n",
              "      <td>Gd</td>\n",
              "      <td>TA</td>\n",
              "      <td>Gd</td>\n",
              "      <td>ALQ</td>\n",
              "      <td>978</td>\n",
              "      <td>Unf</td>\n",
              "      <td>0</td>\n",
              "      <td>284</td>\n",
              "      <td>1262</td>\n",
              "      <td>GasA</td>\n",
              "      <td>Ex</td>\n",
              "      <td>Y</td>\n",
              "      <td>SBrkr</td>\n",
              "      <td>1262</td>\n",
              "      <td>0</td>\n",
              "      <td>0</td>\n",
              "      <td>1262</td>\n",
              "      <td>0</td>\n",
              "      <td>1</td>\n",
              "      <td>2</td>\n",
              "      <td>0</td>\n",
              "      <td>3</td>\n",
              "      <td>1</td>\n",
              "      <td>TA</td>\n",
              "      <td>6</td>\n",
              "      <td>Typ</td>\n",
              "      <td>1</td>\n",
              "      <td>TA</td>\n",
              "      <td>Attchd</td>\n",
              "      <td>1976.0</td>\n",
              "      <td>RFn</td>\n",
              "      <td>2</td>\n",
              "      <td>460</td>\n",
              "      <td>TA</td>\n",
              "      <td>TA</td>\n",
              "      <td>Y</td>\n",
              "      <td>298</td>\n",
              "      <td>0</td>\n",
              "      <td>0</td>\n",
              "      <td>0</td>\n",
              "      <td>0</td>\n",
              "      <td>0</td>\n",
              "      <td>NaN</td>\n",
              "      <td>NaN</td>\n",
              "      <td>None</td>\n",
              "      <td>0</td>\n",
              "      <td>5</td>\n",
              "      <td>2007</td>\n",
              "      <td>WD</td>\n",
              "      <td>Normal</td>\n",
              "      <td>181500</td>\n",
              "      <td>True</td>\n",
              "      <td>12.109011</td>\n",
              "      <td>0</td>\n",
              "      <td>True</td>\n",
              "      <td>31</td>\n",
              "      <td>31</td>\n",
              "      <td>961</td>\n",
              "      <td>961</td>\n",
              "      <td>31</td>\n",
              "      <td>29791</td>\n",
              "      <td>0</td>\n",
              "      <td>True</td>\n",
              "      <td>False</td>\n",
              "      <td>False</td>\n",
              "      <td>False</td>\n",
              "      <td>False</td>\n",
              "      <td>False</td>\n",
              "      <td>True</td>\n",
              "      <td>False</td>\n",
              "      <td>True</td>\n",
              "      <td>False</td>\n",
              "      <td>False</td>\n",
              "      <td>False</td>\n",
              "      <td>False</td>\n",
              "      <td>True</td>\n",
              "      <td>False</td>\n",
              "      <td>92160000</td>\n",
              "      <td>36</td>\n",
              "      <td>64</td>\n",
              "      <td>False</td>\n",
              "      <td>True</td>\n",
              "      <td>False</td>\n",
              "      <td>0</td>\n",
              "      <td>2240</td>\n",
              "      <td>5017600</td>\n",
              "      <td>4</td>\n",
              "      <td>1592644</td>\n",
              "      <td>True</td>\n",
              "      <td>True</td>\n",
              "      <td>False</td>\n",
              "      <td>False</td>\n",
              "      <td>0.225040</td>\n",
              "      <td>False</td>\n",
              "      <td>True</td>\n",
              "      <td>False</td>\n",
              "      <td>True</td>\n",
              "      <td>False</td>\n",
              "      <td>False</td>\n",
              "      <td>False</td>\n",
              "      <td>3</td>\n",
              "      <td>9</td>\n",
              "      <td>4</td>\n",
              "      <td>False</td>\n",
              "      <td>False</td>\n",
              "      <td>False</td>\n",
              "      <td>False</td>\n",
              "      <td>False</td>\n",
              "      <td>False</td>\n",
              "      <td>6400.0</td>\n",
              "      <td>True</td>\n",
              "      <td>False</td>\n",
              "      <td>False</td>\n",
              "      <td>False</td>\n",
              "      <td>True</td>\n",
              "      <td>211600</td>\n",
              "      <td>2700</td>\n",
              "      <td>7290000</td>\n",
              "      <td>False</td>\n",
              "      <td>False</td>\n",
              "      <td>False</td>\n",
              "      <td>False</td>\n",
              "      <td>False</td>\n",
              "      <td>False</td>\n",
              "      <td>False</td>\n",
              "      <td>False</td>\n",
              "      <td>False</td>\n",
              "    </tr>\n",
              "    <tr>\n",
              "      <th>2</th>\n",
              "      <td>3</td>\n",
              "      <td>60</td>\n",
              "      <td>RL</td>\n",
              "      <td>68.0</td>\n",
              "      <td>11250</td>\n",
              "      <td>Pave</td>\n",
              "      <td>NaN</td>\n",
              "      <td>IR1</td>\n",
              "      <td>Lvl</td>\n",
              "      <td>AllPub</td>\n",
              "      <td>Inside</td>\n",
              "      <td>Gtl</td>\n",
              "      <td>CollgCr</td>\n",
              "      <td>Norm</td>\n",
              "      <td>Norm</td>\n",
              "      <td>1Fam</td>\n",
              "      <td>2Story</td>\n",
              "      <td>7</td>\n",
              "      <td>5</td>\n",
              "      <td>2001</td>\n",
              "      <td>2002</td>\n",
              "      <td>Gable</td>\n",
              "      <td>CompShg</td>\n",
              "      <td>VinylSd</td>\n",
              "      <td>VinylSd</td>\n",
              "      <td>BrkFace</td>\n",
              "      <td>162.0</td>\n",
              "      <td>Gd</td>\n",
              "      <td>TA</td>\n",
              "      <td>PConc</td>\n",
              "      <td>Gd</td>\n",
              "      <td>TA</td>\n",
              "      <td>Mn</td>\n",
              "      <td>GLQ</td>\n",
              "      <td>486</td>\n",
              "      <td>Unf</td>\n",
              "      <td>0</td>\n",
              "      <td>434</td>\n",
              "      <td>920</td>\n",
              "      <td>GasA</td>\n",
              "      <td>Ex</td>\n",
              "      <td>Y</td>\n",
              "      <td>SBrkr</td>\n",
              "      <td>920</td>\n",
              "      <td>866</td>\n",
              "      <td>0</td>\n",
              "      <td>1786</td>\n",
              "      <td>1</td>\n",
              "      <td>0</td>\n",
              "      <td>2</td>\n",
              "      <td>1</td>\n",
              "      <td>3</td>\n",
              "      <td>1</td>\n",
              "      <td>Gd</td>\n",
              "      <td>6</td>\n",
              "      <td>Typ</td>\n",
              "      <td>1</td>\n",
              "      <td>TA</td>\n",
              "      <td>Attchd</td>\n",
              "      <td>2001.0</td>\n",
              "      <td>RFn</td>\n",
              "      <td>2</td>\n",
              "      <td>608</td>\n",
              "      <td>TA</td>\n",
              "      <td>TA</td>\n",
              "      <td>Y</td>\n",
              "      <td>0</td>\n",
              "      <td>42</td>\n",
              "      <td>0</td>\n",
              "      <td>0</td>\n",
              "      <td>0</td>\n",
              "      <td>0</td>\n",
              "      <td>NaN</td>\n",
              "      <td>NaN</td>\n",
              "      <td>None</td>\n",
              "      <td>0</td>\n",
              "      <td>9</td>\n",
              "      <td>2008</td>\n",
              "      <td>WD</td>\n",
              "      <td>Normal</td>\n",
              "      <td>223500</td>\n",
              "      <td>True</td>\n",
              "      <td>12.317167</td>\n",
              "      <td>2</td>\n",
              "      <td>False</td>\n",
              "      <td>7</td>\n",
              "      <td>6</td>\n",
              "      <td>42</td>\n",
              "      <td>49</td>\n",
              "      <td>6</td>\n",
              "      <td>294</td>\n",
              "      <td>796720</td>\n",
              "      <td>True</td>\n",
              "      <td>False</td>\n",
              "      <td>False</td>\n",
              "      <td>False</td>\n",
              "      <td>False</td>\n",
              "      <td>False</td>\n",
              "      <td>True</td>\n",
              "      <td>False</td>\n",
              "      <td>True</td>\n",
              "      <td>False</td>\n",
              "      <td>False</td>\n",
              "      <td>False</td>\n",
              "      <td>False</td>\n",
              "      <td>True</td>\n",
              "      <td>False</td>\n",
              "      <td>126562500</td>\n",
              "      <td>49</td>\n",
              "      <td>25</td>\n",
              "      <td>True</td>\n",
              "      <td>False</td>\n",
              "      <td>True</td>\n",
              "      <td>7</td>\n",
              "      <td>2272</td>\n",
              "      <td>5161984</td>\n",
              "      <td>4</td>\n",
              "      <td>3189796</td>\n",
              "      <td>True</td>\n",
              "      <td>True</td>\n",
              "      <td>False</td>\n",
              "      <td>False</td>\n",
              "      <td>0.471739</td>\n",
              "      <td>False</td>\n",
              "      <td>False</td>\n",
              "      <td>False</td>\n",
              "      <td>False</td>\n",
              "      <td>False</td>\n",
              "      <td>False</td>\n",
              "      <td>False</td>\n",
              "      <td>4</td>\n",
              "      <td>16</td>\n",
              "      <td>4</td>\n",
              "      <td>False</td>\n",
              "      <td>False</td>\n",
              "      <td>False</td>\n",
              "      <td>False</td>\n",
              "      <td>False</td>\n",
              "      <td>False</td>\n",
              "      <td>4624.0</td>\n",
              "      <td>True</td>\n",
              "      <td>False</td>\n",
              "      <td>False</td>\n",
              "      <td>False</td>\n",
              "      <td>True</td>\n",
              "      <td>369664</td>\n",
              "      <td>2880</td>\n",
              "      <td>8294400</td>\n",
              "      <td>False</td>\n",
              "      <td>False</td>\n",
              "      <td>False</td>\n",
              "      <td>False</td>\n",
              "      <td>False</td>\n",
              "      <td>False</td>\n",
              "      <td>False</td>\n",
              "      <td>False</td>\n",
              "      <td>False</td>\n",
              "    </tr>\n",
              "    <tr>\n",
              "      <th>3</th>\n",
              "      <td>4</td>\n",
              "      <td>70</td>\n",
              "      <td>RL</td>\n",
              "      <td>60.0</td>\n",
              "      <td>9550</td>\n",
              "      <td>Pave</td>\n",
              "      <td>NaN</td>\n",
              "      <td>IR1</td>\n",
              "      <td>Lvl</td>\n",
              "      <td>AllPub</td>\n",
              "      <td>Corner</td>\n",
              "      <td>Gtl</td>\n",
              "      <td>Crawfor</td>\n",
              "      <td>Norm</td>\n",
              "      <td>Norm</td>\n",
              "      <td>1Fam</td>\n",
              "      <td>2Story</td>\n",
              "      <td>7</td>\n",
              "      <td>5</td>\n",
              "      <td>1915</td>\n",
              "      <td>1970</td>\n",
              "      <td>Gable</td>\n",
              "      <td>CompShg</td>\n",
              "      <td>Wd Sdng</td>\n",
              "      <td>Wd Shng</td>\n",
              "      <td>None</td>\n",
              "      <td>0.0</td>\n",
              "      <td>TA</td>\n",
              "      <td>TA</td>\n",
              "      <td>BrkTil</td>\n",
              "      <td>TA</td>\n",
              "      <td>Gd</td>\n",
              "      <td>No</td>\n",
              "      <td>ALQ</td>\n",
              "      <td>216</td>\n",
              "      <td>Unf</td>\n",
              "      <td>0</td>\n",
              "      <td>540</td>\n",
              "      <td>756</td>\n",
              "      <td>GasA</td>\n",
              "      <td>Gd</td>\n",
              "      <td>Y</td>\n",
              "      <td>SBrkr</td>\n",
              "      <td>961</td>\n",
              "      <td>756</td>\n",
              "      <td>0</td>\n",
              "      <td>1717</td>\n",
              "      <td>1</td>\n",
              "      <td>0</td>\n",
              "      <td>1</td>\n",
              "      <td>0</td>\n",
              "      <td>3</td>\n",
              "      <td>1</td>\n",
              "      <td>Gd</td>\n",
              "      <td>7</td>\n",
              "      <td>Typ</td>\n",
              "      <td>1</td>\n",
              "      <td>Gd</td>\n",
              "      <td>Detchd</td>\n",
              "      <td>1998.0</td>\n",
              "      <td>Unf</td>\n",
              "      <td>3</td>\n",
              "      <td>642</td>\n",
              "      <td>TA</td>\n",
              "      <td>TA</td>\n",
              "      <td>Y</td>\n",
              "      <td>0</td>\n",
              "      <td>35</td>\n",
              "      <td>272</td>\n",
              "      <td>0</td>\n",
              "      <td>0</td>\n",
              "      <td>0</td>\n",
              "      <td>NaN</td>\n",
              "      <td>NaN</td>\n",
              "      <td>None</td>\n",
              "      <td>0</td>\n",
              "      <td>2</td>\n",
              "      <td>2006</td>\n",
              "      <td>WD</td>\n",
              "      <td>Abnorml</td>\n",
              "      <td>140000</td>\n",
              "      <td>False</td>\n",
              "      <td>11.849398</td>\n",
              "      <td>0</td>\n",
              "      <td>True</td>\n",
              "      <td>91</td>\n",
              "      <td>36</td>\n",
              "      <td>3276</td>\n",
              "      <td>8281</td>\n",
              "      <td>36</td>\n",
              "      <td>298116</td>\n",
              "      <td>726516</td>\n",
              "      <td>True</td>\n",
              "      <td>False</td>\n",
              "      <td>False</td>\n",
              "      <td>False</td>\n",
              "      <td>False</td>\n",
              "      <td>False</td>\n",
              "      <td>True</td>\n",
              "      <td>False</td>\n",
              "      <td>True</td>\n",
              "      <td>False</td>\n",
              "      <td>False</td>\n",
              "      <td>False</td>\n",
              "      <td>False</td>\n",
              "      <td>False</td>\n",
              "      <td>True</td>\n",
              "      <td>91202500</td>\n",
              "      <td>49</td>\n",
              "      <td>25</td>\n",
              "      <td>False</td>\n",
              "      <td>False</td>\n",
              "      <td>True</td>\n",
              "      <td>91</td>\n",
              "      <td>1933</td>\n",
              "      <td>3736489</td>\n",
              "      <td>1</td>\n",
              "      <td>2948089</td>\n",
              "      <td>True</td>\n",
              "      <td>False</td>\n",
              "      <td>False</td>\n",
              "      <td>False</td>\n",
              "      <td>0.714286</td>\n",
              "      <td>False</td>\n",
              "      <td>False</td>\n",
              "      <td>False</td>\n",
              "      <td>False</td>\n",
              "      <td>False</td>\n",
              "      <td>False</td>\n",
              "      <td>False</td>\n",
              "      <td>4</td>\n",
              "      <td>16</td>\n",
              "      <td>9</td>\n",
              "      <td>False</td>\n",
              "      <td>False</td>\n",
              "      <td>False</td>\n",
              "      <td>True</td>\n",
              "      <td>False</td>\n",
              "      <td>False</td>\n",
              "      <td>3600.0</td>\n",
              "      <td>True</td>\n",
              "      <td>False</td>\n",
              "      <td>False</td>\n",
              "      <td>False</td>\n",
              "      <td>True</td>\n",
              "      <td>412164</td>\n",
              "      <td>2575</td>\n",
              "      <td>6630625</td>\n",
              "      <td>False</td>\n",
              "      <td>False</td>\n",
              "      <td>False</td>\n",
              "      <td>False</td>\n",
              "      <td>False</td>\n",
              "      <td>False</td>\n",
              "      <td>False</td>\n",
              "      <td>False</td>\n",
              "      <td>False</td>\n",
              "    </tr>\n",
              "    <tr>\n",
              "      <th>4</th>\n",
              "      <td>5</td>\n",
              "      <td>60</td>\n",
              "      <td>RL</td>\n",
              "      <td>84.0</td>\n",
              "      <td>14260</td>\n",
              "      <td>Pave</td>\n",
              "      <td>NaN</td>\n",
              "      <td>IR1</td>\n",
              "      <td>Lvl</td>\n",
              "      <td>AllPub</td>\n",
              "      <td>FR2</td>\n",
              "      <td>Gtl</td>\n",
              "      <td>NoRidge</td>\n",
              "      <td>Norm</td>\n",
              "      <td>Norm</td>\n",
              "      <td>1Fam</td>\n",
              "      <td>2Story</td>\n",
              "      <td>8</td>\n",
              "      <td>5</td>\n",
              "      <td>2000</td>\n",
              "      <td>2000</td>\n",
              "      <td>Gable</td>\n",
              "      <td>CompShg</td>\n",
              "      <td>VinylSd</td>\n",
              "      <td>VinylSd</td>\n",
              "      <td>BrkFace</td>\n",
              "      <td>350.0</td>\n",
              "      <td>Gd</td>\n",
              "      <td>TA</td>\n",
              "      <td>PConc</td>\n",
              "      <td>Gd</td>\n",
              "      <td>TA</td>\n",
              "      <td>Av</td>\n",
              "      <td>GLQ</td>\n",
              "      <td>655</td>\n",
              "      <td>Unf</td>\n",
              "      <td>0</td>\n",
              "      <td>490</td>\n",
              "      <td>1145</td>\n",
              "      <td>GasA</td>\n",
              "      <td>Ex</td>\n",
              "      <td>Y</td>\n",
              "      <td>SBrkr</td>\n",
              "      <td>1145</td>\n",
              "      <td>1053</td>\n",
              "      <td>0</td>\n",
              "      <td>2198</td>\n",
              "      <td>1</td>\n",
              "      <td>0</td>\n",
              "      <td>2</td>\n",
              "      <td>1</td>\n",
              "      <td>4</td>\n",
              "      <td>1</td>\n",
              "      <td>Gd</td>\n",
              "      <td>9</td>\n",
              "      <td>Typ</td>\n",
              "      <td>1</td>\n",
              "      <td>TA</td>\n",
              "      <td>Attchd</td>\n",
              "      <td>2000.0</td>\n",
              "      <td>RFn</td>\n",
              "      <td>3</td>\n",
              "      <td>836</td>\n",
              "      <td>TA</td>\n",
              "      <td>TA</td>\n",
              "      <td>Y</td>\n",
              "      <td>192</td>\n",
              "      <td>84</td>\n",
              "      <td>0</td>\n",
              "      <td>0</td>\n",
              "      <td>0</td>\n",
              "      <td>0</td>\n",
              "      <td>NaN</td>\n",
              "      <td>NaN</td>\n",
              "      <td>None</td>\n",
              "      <td>0</td>\n",
              "      <td>12</td>\n",
              "      <td>2008</td>\n",
              "      <td>WD</td>\n",
              "      <td>Normal</td>\n",
              "      <td>250000</td>\n",
              "      <td>True</td>\n",
              "      <td>12.429216</td>\n",
              "      <td>2</td>\n",
              "      <td>False</td>\n",
              "      <td>8</td>\n",
              "      <td>8</td>\n",
              "      <td>64</td>\n",
              "      <td>64</td>\n",
              "      <td>8</td>\n",
              "      <td>512</td>\n",
              "      <td>1205685</td>\n",
              "      <td>True</td>\n",
              "      <td>False</td>\n",
              "      <td>False</td>\n",
              "      <td>False</td>\n",
              "      <td>True</td>\n",
              "      <td>False</td>\n",
              "      <td>True</td>\n",
              "      <td>False</td>\n",
              "      <td>True</td>\n",
              "      <td>False</td>\n",
              "      <td>False</td>\n",
              "      <td>False</td>\n",
              "      <td>False</td>\n",
              "      <td>True</td>\n",
              "      <td>False</td>\n",
              "      <td>203347600</td>\n",
              "      <td>64</td>\n",
              "      <td>25</td>\n",
              "      <td>False</td>\n",
              "      <td>False</td>\n",
              "      <td>False</td>\n",
              "      <td>0</td>\n",
              "      <td>2853</td>\n",
              "      <td>8139609</td>\n",
              "      <td>4</td>\n",
              "      <td>4831204</td>\n",
              "      <td>True</td>\n",
              "      <td>True</td>\n",
              "      <td>False</td>\n",
              "      <td>False</td>\n",
              "      <td>0.427948</td>\n",
              "      <td>False</td>\n",
              "      <td>False</td>\n",
              "      <td>False</td>\n",
              "      <td>False</td>\n",
              "      <td>False</td>\n",
              "      <td>False</td>\n",
              "      <td>False</td>\n",
              "      <td>4</td>\n",
              "      <td>16</td>\n",
              "      <td>9</td>\n",
              "      <td>False</td>\n",
              "      <td>False</td>\n",
              "      <td>False</td>\n",
              "      <td>False</td>\n",
              "      <td>False</td>\n",
              "      <td>False</td>\n",
              "      <td>7056.0</td>\n",
              "      <td>True</td>\n",
              "      <td>False</td>\n",
              "      <td>False</td>\n",
              "      <td>False</td>\n",
              "      <td>True</td>\n",
              "      <td>698896</td>\n",
              "      <td>3689</td>\n",
              "      <td>13608721</td>\n",
              "      <td>False</td>\n",
              "      <td>False</td>\n",
              "      <td>False</td>\n",
              "      <td>False</td>\n",
              "      <td>False</td>\n",
              "      <td>False</td>\n",
              "      <td>False</td>\n",
              "      <td>False</td>\n",
              "      <td>False</td>\n",
              "    </tr>\n",
              "  </tbody>\n",
              "</table>\n",
              "</div>"
            ],
            "text/plain": [
              "   Id  MSSubClass MSZoning  LotFrontage  LotArea Street Alley LotShape  \\\n",
              "0   1          60       RL         65.0     8450   Pave   NaN      Reg   \n",
              "1   2          20       RL         80.0     9600   Pave   NaN      Reg   \n",
              "2   3          60       RL         68.0    11250   Pave   NaN      IR1   \n",
              "3   4          70       RL         60.0     9550   Pave   NaN      IR1   \n",
              "4   5          60       RL         84.0    14260   Pave   NaN      IR1   \n",
              "\n",
              "  LandContour Utilities LotConfig LandSlope Neighborhood Condition1  \\\n",
              "0         Lvl    AllPub    Inside       Gtl      CollgCr       Norm   \n",
              "1         Lvl    AllPub       FR2       Gtl      Veenker      Feedr   \n",
              "2         Lvl    AllPub    Inside       Gtl      CollgCr       Norm   \n",
              "3         Lvl    AllPub    Corner       Gtl      Crawfor       Norm   \n",
              "4         Lvl    AllPub       FR2       Gtl      NoRidge       Norm   \n",
              "\n",
              "  Condition2 BldgType HouseStyle  OverallQual  OverallCond  YearBuilt  \\\n",
              "0       Norm     1Fam     2Story            7            5       2003   \n",
              "1       Norm     1Fam     1Story            6            8       1976   \n",
              "2       Norm     1Fam     2Story            7            5       2001   \n",
              "3       Norm     1Fam     2Story            7            5       1915   \n",
              "4       Norm     1Fam     2Story            8            5       2000   \n",
              "\n",
              "   YearRemodAdd RoofStyle RoofMatl Exterior1st Exterior2nd MasVnrType  \\\n",
              "0          2003     Gable  CompShg     VinylSd     VinylSd    BrkFace   \n",
              "1          1976     Gable  CompShg     MetalSd     MetalSd       None   \n",
              "2          2002     Gable  CompShg     VinylSd     VinylSd    BrkFace   \n",
              "3          1970     Gable  CompShg     Wd Sdng     Wd Shng       None   \n",
              "4          2000     Gable  CompShg     VinylSd     VinylSd    BrkFace   \n",
              "\n",
              "   MasVnrArea ExterQual ExterCond Foundation BsmtQual BsmtCond BsmtExposure  \\\n",
              "0       196.0        Gd        TA      PConc       Gd       TA           No   \n",
              "1         0.0        TA        TA     CBlock       Gd       TA           Gd   \n",
              "2       162.0        Gd        TA      PConc       Gd       TA           Mn   \n",
              "3         0.0        TA        TA     BrkTil       TA       Gd           No   \n",
              "4       350.0        Gd        TA      PConc       Gd       TA           Av   \n",
              "\n",
              "  BsmtFinType1  BsmtFinSF1 BsmtFinType2  BsmtFinSF2  BsmtUnfSF  TotalBsmtSF  \\\n",
              "0          GLQ         706          Unf           0        150          856   \n",
              "1          ALQ         978          Unf           0        284         1262   \n",
              "2          GLQ         486          Unf           0        434          920   \n",
              "3          ALQ         216          Unf           0        540          756   \n",
              "4          GLQ         655          Unf           0        490         1145   \n",
              "\n",
              "  Heating HeatingQC CentralAir Electrical  1stFlrSF  2ndFlrSF  LowQualFinSF  \\\n",
              "0    GasA        Ex          Y      SBrkr       856       854             0   \n",
              "1    GasA        Ex          Y      SBrkr      1262         0             0   \n",
              "2    GasA        Ex          Y      SBrkr       920       866             0   \n",
              "3    GasA        Gd          Y      SBrkr       961       756             0   \n",
              "4    GasA        Ex          Y      SBrkr      1145      1053             0   \n",
              "\n",
              "   GrLivArea  BsmtFullBath  BsmtHalfBath  FullBath  HalfBath  BedroomAbvGr  \\\n",
              "0       1710             1             0         2         1             3   \n",
              "1       1262             0             1         2         0             3   \n",
              "2       1786             1             0         2         1             3   \n",
              "3       1717             1             0         1         0             3   \n",
              "4       2198             1             0         2         1             4   \n",
              "\n",
              "   KitchenAbvGr KitchenQual  TotRmsAbvGrd Functional  Fireplaces FireplaceQu  \\\n",
              "0             1          Gd             8        Typ           0         NaN   \n",
              "1             1          TA             6        Typ           1          TA   \n",
              "2             1          Gd             6        Typ           1          TA   \n",
              "3             1          Gd             7        Typ           1          Gd   \n",
              "4             1          Gd             9        Typ           1          TA   \n",
              "\n",
              "  GarageType  GarageYrBlt GarageFinish  GarageCars  GarageArea GarageQual  \\\n",
              "0     Attchd       2003.0          RFn           2         548         TA   \n",
              "1     Attchd       1976.0          RFn           2         460         TA   \n",
              "2     Attchd       2001.0          RFn           2         608         TA   \n",
              "3     Detchd       1998.0          Unf           3         642         TA   \n",
              "4     Attchd       2000.0          RFn           3         836         TA   \n",
              "\n",
              "  GarageCond PavedDrive  WoodDeckSF  OpenPorchSF  EnclosedPorch  3SsnPorch  \\\n",
              "0         TA          Y           0           61              0          0   \n",
              "1         TA          Y         298            0              0          0   \n",
              "2         TA          Y           0           42              0          0   \n",
              "3         TA          Y           0           35            272          0   \n",
              "4         TA          Y         192           84              0          0   \n",
              "\n",
              "   ScreenPorch  PoolArea PoolQC Fence MiscFeature  MiscVal  MoSold  YrSold  \\\n",
              "0            0         0    NaN   NaN        None        0       2    2008   \n",
              "1            0         0    NaN   NaN        None        0       5    2007   \n",
              "2            0         0    NaN   NaN        None        0       9    2008   \n",
              "3            0         0    NaN   NaN        None        0       2    2006   \n",
              "4            0         0    NaN   NaN        None        0      12    2008   \n",
              "\n",
              "  SaleType SaleCondition  SalePrice  matching_exterior_type   logprice  \\\n",
              "0       WD        Normal     208500                    True  12.247694   \n",
              "1       WD        Normal     181500                    True  12.109011   \n",
              "2       WD        Normal     223500                    True  12.317167   \n",
              "3       WD       Abnorml     140000                   False  11.849398   \n",
              "4       WD        Normal     250000                    True  12.429216   \n",
              "\n",
              "   fullhalfbath_interaction  sold_pre_2008  age_sold  years_since_remod  \\\n",
              "0                         2          False         5                  5   \n",
              "1                         0           True        31                 31   \n",
              "2                         2          False         7                  6   \n",
              "3                         0           True        91                 36   \n",
              "4                         2          False         8                  8   \n",
              "\n",
              "   age_remod_interaction  age_sold_squared  years_since_remod_squared  \\\n",
              "0                     25                25                          5   \n",
              "1                    961               961                         31   \n",
              "2                     42                49                          6   \n",
              "3                   3276              8281                         36   \n",
              "4                     64                64                          8   \n",
              "\n",
              "   age_remod_interaction_squared  floor_interaction  mszoning_RL  mszoning_c  \\\n",
              "0                            125             731024         True       False   \n",
              "1                          29791                  0         True       False   \n",
              "2                            294             796720         True       False   \n",
              "3                         298116             726516         True       False   \n",
              "4                            512            1205685         True       False   \n",
              "\n",
              "   mszoning_RM  mszoning_FV  good_area  bad_area  one_fam_home  townhouse  \\\n",
              "0        False        False      False     False          True      False   \n",
              "1        False        False      False     False          True      False   \n",
              "2        False        False      False     False          True      False   \n",
              "3        False        False      False     False          True      False   \n",
              "4        False        False       True     False          True      False   \n",
              "\n",
              "   miscfeature_isnone  has_shed  new_home  saletype_cod  \\\n",
              "0                True     False     False         False   \n",
              "1                True     False     False         False   \n",
              "2                True     False     False         False   \n",
              "3                True     False     False         False   \n",
              "4                True     False     False         False   \n",
              "\n",
              "   saletype_lowdn_lowint  attached_garage  detchd_garage  lotarea_squared  \\\n",
              "0                  False             True          False         71402500   \n",
              "1                  False             True          False         92160000   \n",
              "2                  False             True          False        126562500   \n",
              "3                  False            False           True         91202500   \n",
              "4                  False             True          False        203347600   \n",
              "\n",
              "   overallqual_squared  overallcond_squared  is_start_of_school  is_spring  \\\n",
              "0                   49                   25               False      False   \n",
              "1                   36                   64               False       True   \n",
              "2                   49                   25                True      False   \n",
              "3                   49                   25               False      False   \n",
              "4                   64                   25               False      False   \n",
              "\n",
              "   remodeled?  age_remodeled_interaction_good  sq_footage_fsb  \\\n",
              "0       False                               0            2416   \n",
              "1       False                               0            2240   \n",
              "2        True                               7            2272   \n",
              "3        True                              91            1933   \n",
              "4       False                               0            2853   \n",
              "\n",
              "   sqfootage_fsb_squared  fullbath_squared  grlivarea_squared  heating_gasa  \\\n",
              "0                5837056                 4            2924100          True   \n",
              "1                5017600                 4            1592644          True   \n",
              "2                5161984                 4            3189796          True   \n",
              "3                3736489                 1            2948089          True   \n",
              "4                8139609                 4            4831204          True   \n",
              "\n",
              "   heating_qual_ex  heating_qual_pr  heating_qual_fa  bsmt_unfin_percent  \\\n",
              "0             True            False            False            0.175234   \n",
              "1             True            False            False            0.225040   \n",
              "2             True            False            False            0.471739   \n",
              "3            False            False            False            0.714286   \n",
              "4             True            False            False            0.427948   \n",
              "\n",
              "   finished_bsmt  pos1_feedr_art  pos2_feedr_art  pos1_pos2_sum1  \\\n",
              "0          False           False           False           False   \n",
              "1          False            True           False            True   \n",
              "2          False           False           False           False   \n",
              "3          False           False           False           False   \n",
              "4          False           False           False           False   \n",
              "\n",
              "   pos1_pos2_sum2  onehalf_fin  onehalf_unfin  kitchen_numeric  \\\n",
              "0           False        False          False                4   \n",
              "1           False        False          False                3   \n",
              "2           False        False          False                4   \n",
              "3           False        False          False                4   \n",
              "4           False        False          False                4   \n",
              "\n",
              "   kitchen_numeric_squared  garage_cars_squared  atypical_function  \\\n",
              "0                       16                    4              False   \n",
              "1                        9                    4              False   \n",
              "2                       16                    4              False   \n",
              "3                       16                    9              False   \n",
              "4                       16                    9              False   \n",
              "\n",
              "   exterior_exc  salecond_partial  salecond_abnorml  no_fireplace  \\\n",
              "0         False             False             False          True   \n",
              "1         False             False             False         False   \n",
              "2         False             False             False         False   \n",
              "3         False             False              True         False   \n",
              "4         False             False             False         False   \n",
              "\n",
              "   two_or_more_fireplaces  lotfrontage_squared  electrical_is_brkr  \\\n",
              "0                   False               4225.0                True   \n",
              "1                   False               6400.0                True   \n",
              "2                   False               4624.0                True   \n",
              "3                   False               3600.0                True   \n",
              "4                   False               7056.0                True   \n",
              "\n",
              "   electrical_is_F  electrical_is_A  electrical_is_P  overallcond_5over  \\\n",
              "0            False            False            False               True   \n",
              "1            False            False            False               True   \n",
              "2            False            False            False               True   \n",
              "3            False            False            False               True   \n",
              "4            False            False            False               True   \n",
              "\n",
              "   garagearea_squared  sq_footage_fsbg  sq_footage_fsbg_squared  banked_land  \\\n",
              "0              300304             2964                  8785296        False   \n",
              "1              211600             2700                  7290000        False   \n",
              "2              369664             2880                  8294400        False   \n",
              "3              412164             2575                  6630625        False   \n",
              "4              698896             3689                 13608721        False   \n",
              "\n",
              "   HLS_land  landslope_mod_sev  land_interaction  salecond_adjland  \\\n",
              "0     False              False             False             False   \n",
              "1     False              False             False             False   \n",
              "2     False              False             False             False   \n",
              "3     False              False             False             False   \n",
              "4     False              False             False             False   \n",
              "\n",
              "   salecond_alloca  salecond_family  has_pool  pool_exc  \n",
              "0            False            False     False     False  \n",
              "1            False            False     False     False  \n",
              "2            False            False     False     False  \n",
              "3            False            False     False     False  \n",
              "4            False            False     False     False  "
            ]
          },
          "metadata": {
            "tags": []
          },
          "execution_count": 387
        }
      ]
    },
    {
      "metadata": {
        "id": "9uT8L0DX3T3z",
        "colab_type": "code",
        "colab": {
          "base_uri": "https://localhost:8080/",
          "height": 364
        },
        "outputId": "23700bd4-7169-46b0-d9cf-e66e7dfeea78"
      },
      "cell_type": "code",
      "source": [
        "df.pivot_table(index='PavedDrive', values='SalePrice').plot.barh()"
      ],
      "execution_count": 392,
      "outputs": [
        {
          "output_type": "execute_result",
          "data": {
            "text/plain": [
              "<matplotlib.axes._subplots.AxesSubplot at 0x7f39135c4e10>"
            ]
          },
          "metadata": {
            "tags": []
          },
          "execution_count": 392
        },
        {
          "output_type": "display_data",
          "data": {
            "image/png": "[encoded data removed]",
            "text/plain": [
              "<Figure size 576x396 with 1 Axes>"
            ]
          },
          "metadata": {
            "tags": []
          }
        }
      ]
    },
    {
      "metadata": {
        "id": "cqXKvfNm3zA6",
        "colab_type": "code",
        "colab": {
          "base_uri": "https://localhost:8080/",
          "height": 86
        },
        "outputId": "7d6368e4-25fc-4cbd-efeb-7adaed90a800"
      },
      "cell_type": "code",
      "source": [
        "df.PavedDrive.value_counts()"
      ],
      "execution_count": 393,
      "outputs": [
        {
          "output_type": "execute_result",
          "data": {
            "text/plain": [
              "Y    1340\n",
              "N      90\n",
              "P      30\n",
              "Name: PavedDrive, dtype: int64"
            ]
          },
          "metadata": {
            "tags": []
          },
          "execution_count": 393
        }
      ]
    },
    {
      "metadata": {
        "id": "NHm3bElQ4DNp",
        "colab_type": "code",
        "colab": {}
      },
      "cell_type": "code",
      "source": [
        "df['paved_drive_numeric'] = df.PavedDrive.map({'Y': 2, 'P': 1, 'N': 0})\n",
        "df['paved_drive_squared'] = df.paved_drive_numeric ** 2"
      ],
      "execution_count": 0,
      "outputs": []
    },
    {
      "metadata": {
        "id": "6cw1IA0w4eWJ",
        "colab_type": "code",
        "colab": {
          "base_uri": "https://localhost:8080/",
          "height": 34
        },
        "outputId": "56b4a1cf-73e8-459b-e6fe-24d67856d954"
      },
      "cell_type": "code",
      "source": [
        "features = ['LotArea','OverallQual', 'OverallCond', 'GrLivArea','GarageArea', 'FullBath', 'HalfBath', 'fullhalfbath_interaction', 'BedroomAbvGr',\n",
        "            'sold_pre_2008', 'age_sold','age_sold_squared', 'years_since_remod', 'age_remod_interaction', '1stFlrSF', '2ndFlrSF', 'floor_interaction', 'mszoning_RL', 'mszoning_c',\n",
        "            'mszoning_RM', 'mszoning_FV', 'good_area', 'bad_area', 'one_fam_home', 'townhouse', 'miscfeature_isnone', 'has_shed', 'new_home', 'attached_garage',\n",
        "            'detchd_garage', 'lotarea_squared', 'overallqual_squared', 'overallcond_squared', 'is_start_of_school', 'is_spring', 'remodeled?', 'age_remodeled_interaction_good',\n",
        "            'sq_footage_fsb', 'sqfootage_fsb_squared', 'grlivarea_squared', 'heating_qual_ex', 'heating_qual_pr', 'heating_qual_fa', 'finished_bsmt', 'pos1_feedr_art', 'pos2_feedr_art',\n",
        "            'pos1_pos2_sum1', 'pos1_pos2_sum2', 'kitchen_numeric_squared', 'garage_cars_squared', 'atypical_function', 'exterior_exc', 'salecond_abnorml', 'no_fireplace', 'lotfrontage_squared',\n",
        "            'garagearea_squared', 'sq_footage_fsbg', 'banked_land', 'HLS_land', 'salecond_family', 'paved_drive_numeric', 'paved_drive_squared']\n",
        "\n",
        "\n",
        "\n",
        "X = df[features].values\n",
        "y = df.loc[:,['logprice']].values\n",
        "\n",
        "X_train, X_test, y_train, y_test = train_test_split(X, y, test_size=0.25, random_state=42)\n",
        "\n",
        "\n",
        "lr = LinearRegression()\n",
        "lr.fit(X_train, y_train)\n",
        "\n",
        "\n",
        "oos_pred = lr.predict(X_test)\n",
        "oos_mse = mean_squared_error(y_test, oos_pred)\n",
        "oos_r2 = r2_score(y_test, oos_pred)\n",
        "rmse = (np.sqrt(oos_mse))\n",
        "rmse, oos_r2"
      ],
      "execution_count": 416,
      "outputs": [
        {
          "output_type": "execute_result",
          "data": {
            "text/plain": [
              "(0.1155816036866106, 0.9228508156644238)"
            ]
          },
          "metadata": {
            "tags": []
          },
          "execution_count": 416
        }
      ]
    },
    {
      "metadata": {
        "id": "C111Q2dP4r5T",
        "colab_type": "code",
        "colab": {
          "base_uri": "https://localhost:8080/",
          "height": 34
        },
        "outputId": "c3d8e2c4-77ed-46d7-daa5-fcc2348366ae"
      },
      "cell_type": "code",
      "source": [
        "df.WoodDeckSF.corr(df.SalePrice)"
      ],
      "execution_count": 417,
      "outputs": [
        {
          "output_type": "execute_result",
          "data": {
            "text/plain": [
              "0.3244134445681294"
            ]
          },
          "metadata": {
            "tags": []
          },
          "execution_count": 417
        }
      ]
    },
    {
      "metadata": {
        "id": "SPoUefum5SBp",
        "colab_type": "code",
        "colab": {
          "base_uri": "https://localhost:8080/",
          "height": 34
        },
        "outputId": "55e57200-0d2e-4172-e4c2-6e540be534d3"
      },
      "cell_type": "code",
      "source": [
        "df.OpenPorchSF.corr(df.SalePrice)"
      ],
      "execution_count": 418,
      "outputs": [
        {
          "output_type": "execute_result",
          "data": {
            "text/plain": [
              "0.3158562271160555"
            ]
          },
          "metadata": {
            "tags": []
          },
          "execution_count": 418
        }
      ]
    },
    {
      "metadata": {
        "id": "br2R9Cvf5U_F",
        "colab_type": "code",
        "colab": {
          "base_uri": "https://localhost:8080/",
          "height": 34
        },
        "outputId": "10567b29-92fc-4fc4-d1bb-562c8c996c4c"
      },
      "cell_type": "code",
      "source": [
        "df.EnclosedPorch.corr(df.SalePrice)"
      ],
      "execution_count": 419,
      "outputs": [
        {
          "output_type": "execute_result",
          "data": {
            "text/plain": [
              "-0.12857795792595653"
            ]
          },
          "metadata": {
            "tags": []
          },
          "execution_count": 419
        }
      ]
    },
    {
      "metadata": {
        "id": "i2tNup0d5ZRU",
        "colab_type": "code",
        "colab": {
          "base_uri": "https://localhost:8080/",
          "height": 34
        },
        "outputId": "30a7ebc1-c1cb-483d-86c7-c21c62a83f36"
      },
      "cell_type": "code",
      "source": [
        "df['3SsnPorch'].corr(df.SalePrice)"
      ],
      "execution_count": 420,
      "outputs": [
        {
          "output_type": "execute_result",
          "data": {
            "text/plain": [
              "0.04458366533574846"
            ]
          },
          "metadata": {
            "tags": []
          },
          "execution_count": 420
        }
      ]
    },
    {
      "metadata": {
        "id": "EIHegBMg5qtN",
        "colab_type": "code",
        "colab": {
          "base_uri": "https://localhost:8080/",
          "height": 34
        },
        "outputId": "0f4aa5ea-1a02-4100-a4a1-aa68c6685855"
      },
      "cell_type": "code",
      "source": [
        "features = ['LotArea','OverallQual', 'OverallCond', 'GrLivArea','GarageArea', 'FullBath', 'HalfBath', 'fullhalfbath_interaction', 'BedroomAbvGr',\n",
        "            'sold_pre_2008', 'age_sold','age_sold_squared', 'years_since_remod', 'age_remod_interaction', '1stFlrSF', '2ndFlrSF', 'floor_interaction', 'mszoning_RL', 'mszoning_c',\n",
        "            'mszoning_RM', 'mszoning_FV', 'good_area', 'bad_area', 'one_fam_home', 'townhouse', 'miscfeature_isnone', 'has_shed', 'new_home', 'attached_garage',\n",
        "            'detchd_garage', 'lotarea_squared', 'overallqual_squared', 'overallcond_squared', 'is_start_of_school', 'is_spring', 'remodeled?', 'age_remodeled_interaction_good',\n",
        "            'sq_footage_fsb', 'sqfootage_fsb_squared', 'grlivarea_squared', 'heating_qual_ex', 'heating_qual_pr', 'heating_qual_fa', 'finished_bsmt', 'pos1_feedr_art', 'pos2_feedr_art',\n",
        "            'pos1_pos2_sum1', 'pos1_pos2_sum2', 'kitchen_numeric_squared', 'garage_cars_squared', 'atypical_function', 'exterior_exc', 'salecond_abnorml', 'no_fireplace', 'lotfrontage_squared',\n",
        "            'garagearea_squared', 'sq_footage_fsbg', 'banked_land', 'HLS_land', 'salecond_family', 'paved_drive_numeric', 'paved_drive_squared', 'OpenPorchSF', 'WoodDeckSF', 'EnclosedPorch',\n",
        "            'ScreenPorch']\n",
        "\n",
        "\n",
        "\n",
        "X = df[features].values\n",
        "y = df.loc[:,['logprice']].values\n",
        "\n",
        "X_train, X_test, y_train, y_test = train_test_split(X, y, test_size=0.25, random_state=42)\n",
        "\n",
        "\n",
        "lr = LinearRegression()\n",
        "lr.fit(X_train, y_train)\n",
        "\n",
        "\n",
        "oos_pred = lr.predict(X_test)\n",
        "oos_mse = mean_squared_error(y_test, oos_pred)\n",
        "oos_r2 = r2_score(y_test, oos_pred)\n",
        "rmse = (np.sqrt(oos_mse))\n",
        "rmse, oos_r2"
      ],
      "execution_count": 430,
      "outputs": [
        {
          "output_type": "execute_result",
          "data": {
            "text/plain": [
              "(0.11464563857309795, 0.9240952451126676)"
            ]
          },
          "metadata": {
            "tags": []
          },
          "execution_count": 430
        }
      ]
    },
    {
      "metadata": {
        "id": "-Mlw7SH95y2A",
        "colab_type": "code",
        "colab": {}
      },
      "cell_type": "code",
      "source": [
        "df['OpenPorchSF_squared'] = df.OpenPorchSF ** 2\n",
        "df['WoodDeckSF_squared'] = df.WoodDeckSF ** 2\n",
        "df['EnclosedPorch_squared'] = df.EnclosedPorch ** 2\n",
        "df['ScreenPorch_squared'] = df.ScreenPorch ** 2"
      ],
      "execution_count": 0,
      "outputs": []
    },
    {
      "metadata": {
        "id": "tgXYwCBX6MiD",
        "colab_type": "code",
        "colab": {
          "base_uri": "https://localhost:8080/",
          "height": 34
        },
        "outputId": "375930b9-3907-4b53-c007-78d666e6f865"
      },
      "cell_type": "code",
      "source": [
        "features = ['LotArea','OverallQual', 'OverallCond', 'GrLivArea','GarageArea', 'FullBath', 'HalfBath', 'fullhalfbath_interaction', 'BedroomAbvGr',\n",
        "            'sold_pre_2008', 'age_sold','age_sold_squared', 'years_since_remod', 'age_remod_interaction', '1stFlrSF', '2ndFlrSF', 'floor_interaction', 'mszoning_RL', 'mszoning_c',\n",
        "            'mszoning_RM', 'mszoning_FV', 'good_area', 'bad_area', 'one_fam_home', 'townhouse', 'miscfeature_isnone', 'has_shed', 'new_home', 'attached_garage',\n",
        "            'detchd_garage', 'lotarea_squared', 'overallqual_squared', 'overallcond_squared', 'is_start_of_school', 'is_spring', 'remodeled?', 'age_remodeled_interaction_good',\n",
        "            'sq_footage_fsb', 'sqfootage_fsb_squared', 'grlivarea_squared', 'heating_qual_ex', 'heating_qual_pr', 'heating_qual_fa', 'finished_bsmt', 'pos1_feedr_art', 'pos2_feedr_art',\n",
        "            'pos1_pos2_sum1', 'pos1_pos2_sum2', 'kitchen_numeric_squared', 'garage_cars_squared', 'atypical_function', 'exterior_exc', 'salecond_abnorml', 'no_fireplace', 'lotfrontage_squared',\n",
        "            'garagearea_squared', 'sq_footage_fsbg', 'banked_land', 'HLS_land', 'salecond_family', 'paved_drive_numeric', 'paved_drive_squared', 'OpenPorchSF', 'WoodDeckSF', 'EnclosedPorch',\n",
        "            'ScreenPorch']\n",
        "\n",
        "\n",
        "\n",
        "X = df[features].values\n",
        "y = df.loc[:,['logprice']].values\n",
        "\n",
        "X_train, X_test, y_train, y_test = train_test_split(X, y, test_size=0.25, random_state=42)\n",
        "\n",
        "\n",
        "lr = LinearRegression()\n",
        "lr.fit(X_train, y_train)\n",
        "\n",
        "\n",
        "oos_pred = lr.predict(X_test)\n",
        "oos_mse = mean_squared_error(y_test, oos_pred)\n",
        "oos_r2 = r2_score(y_test, oos_pred)\n",
        "rmse = (np.sqrt(oos_mse))\n",
        "rmse, oos_r2"
      ],
      "execution_count": 437,
      "outputs": [
        {
          "output_type": "execute_result",
          "data": {
            "text/plain": [
              "(0.11464563857309795, 0.9240952451126676)"
            ]
          },
          "metadata": {
            "tags": []
          },
          "execution_count": 437
        }
      ]
    },
    {
      "metadata": {
        "id": "T7zU00aQ6Qb2",
        "colab_type": "code",
        "colab": {
          "base_uri": "https://localhost:8080/",
          "height": 121
        },
        "outputId": "78e8e198-e5d9-4247-8e12-d7cb240fc3c0"
      },
      "cell_type": "code",
      "source": [
        "df.GarageQual.value_counts()"
      ],
      "execution_count": 438,
      "outputs": [
        {
          "output_type": "execute_result",
          "data": {
            "text/plain": [
              "TA    1311\n",
              "Fa      48\n",
              "Gd      14\n",
              "Ex       3\n",
              "Po       3\n",
              "Name: GarageQual, dtype: int64"
            ]
          },
          "metadata": {
            "tags": []
          },
          "execution_count": 438
        }
      ]
    },
    {
      "metadata": {
        "id": "Kh3JDyA47ALR",
        "colab_type": "code",
        "colab": {
          "base_uri": "https://localhost:8080/",
          "height": 364
        },
        "outputId": "81c29db8-9bf7-4f14-e2d7-9d4d493c6fd1"
      },
      "cell_type": "code",
      "source": [
        "df.pivot_table(index='GarageQual', values='SalePrice').plot.barh()"
      ],
      "execution_count": 440,
      "outputs": [
        {
          "output_type": "execute_result",
          "data": {
            "text/plain": [
              "<matplotlib.axes._subplots.AxesSubplot at 0x7f391345b438>"
            ]
          },
          "metadata": {
            "tags": []
          },
          "execution_count": 440
        },
        {
          "output_type": "display_data",
          "data": {
            "image/png": "[encoded data removed]",
            "text/plain": [
              "<Figure size 576x396 with 1 Axes>"
            ]
          },
          "metadata": {
            "tags": []
          }
        }
      ]
    },
    {
      "metadata": {
        "id": "Zxsur0Mf7FM-",
        "colab_type": "code",
        "colab": {}
      },
      "cell_type": "code",
      "source": [
        "# df['GarageQual_numeric']\n",
        "\n",
        "df.GarageQual = df.GarageQual.fillna('missing')"
      ],
      "execution_count": 0,
      "outputs": []
    },
    {
      "metadata": {
        "id": "USJ1aoya7SeO",
        "colab_type": "code",
        "colab": {
          "base_uri": "https://localhost:8080/",
          "height": 364
        },
        "outputId": "b02897f4-764d-48b5-88ea-a19ac7552fae"
      },
      "cell_type": "code",
      "source": [
        "df.pivot_table(index='GarageQual', values='SalePrice').plot.barh()"
      ],
      "execution_count": 444,
      "outputs": [
        {
          "output_type": "execute_result",
          "data": {
            "text/plain": [
              "<matplotlib.axes._subplots.AxesSubplot at 0x7f3913334630>"
            ]
          },
          "metadata": {
            "tags": []
          },
          "execution_count": 444
        },
        {
          "output_type": "display_data",
          "data": {
            "image/png": "[encoded data removed]",
            "text/plain": [
              "<Figure size 576x396 with 1 Axes>"
            ]
          },
          "metadata": {
            "tags": []
          }
        }
      ]
    },
    {
      "metadata": {
        "id": "xIP_xbjo7jHE",
        "colab_type": "code",
        "colab": {}
      },
      "cell_type": "code",
      "source": [
        "df.GarageQual = df.GarageQual.fillna('missing')\n",
        "df['garageQual_numeric'] = df.GarageQual.map({'missing': 0, 'Po': 0, 'Fa': 1, 'TA': 2, 'Gd':3, 'Ex': 4})"
      ],
      "execution_count": 0,
      "outputs": []
    },
    {
      "metadata": {
        "id": "_DFZi9wE72oM",
        "colab_type": "code",
        "colab": {
          "base_uri": "https://localhost:8080/",
          "height": 34
        },
        "outputId": "1e3d91fc-18eb-4444-a4b4-fe6911ae819b"
      },
      "cell_type": "code",
      "source": [
        "features = ['LotArea','OverallQual', 'OverallCond', 'GrLivArea','GarageArea', 'FullBath', 'HalfBath', 'fullhalfbath_interaction', 'BedroomAbvGr',\n",
        "            'sold_pre_2008', 'age_sold','age_sold_squared', 'years_since_remod', 'age_remod_interaction', '1stFlrSF', '2ndFlrSF', 'floor_interaction', 'mszoning_RL', 'mszoning_c',\n",
        "            'mszoning_RM', 'mszoning_FV', 'good_area', 'bad_area', 'one_fam_home', 'townhouse', 'miscfeature_isnone', 'has_shed', 'new_home', 'attached_garage',\n",
        "            'detchd_garage', 'lotarea_squared', 'overallqual_squared', 'overallcond_squared', 'is_start_of_school', 'is_spring', 'remodeled?', 'age_remodeled_interaction_good',\n",
        "            'sq_footage_fsb', 'sqfootage_fsb_squared', 'grlivarea_squared', 'heating_qual_ex', 'heating_qual_pr', 'heating_qual_fa', 'finished_bsmt', 'pos1_feedr_art', 'pos2_feedr_art',\n",
        "            'pos1_pos2_sum1', 'pos1_pos2_sum2', 'kitchen_numeric_squared', 'garage_cars_squared', 'atypical_function', 'exterior_exc', 'salecond_abnorml', 'no_fireplace', 'lotfrontage_squared',\n",
        "            'garagearea_squared', 'sq_footage_fsbg', 'banked_land', 'HLS_land', 'salecond_family', 'paved_drive_numeric', 'paved_drive_squared', 'OpenPorchSF', 'WoodDeckSF', 'EnclosedPorch',\n",
        "            'ScreenPorch', 'garageQual_numeric']\n",
        "\n",
        "\n",
        "\n",
        "X = df[features].values\n",
        "y = df.loc[:,['logprice']].values\n",
        "\n",
        "X_train, X_test, y_train, y_test = train_test_split(X, y, test_size=0.25, random_state=42)\n",
        "\n",
        "\n",
        "lr = LinearRegression()\n",
        "lr.fit(X_train, y_train)\n",
        "\n",
        "\n",
        "oos_pred = lr.predict(X_test)\n",
        "oos_mse = mean_squared_error(y_test, oos_pred)\n",
        "oos_r2 = r2_score(y_test, oos_pred)\n",
        "rmse = (np.sqrt(oos_mse))\n",
        "rmse, oos_r2"
      ],
      "execution_count": 447,
      "outputs": [
        {
          "output_type": "execute_result",
          "data": {
            "text/plain": [
              "(0.11494503940940237, 0.923698271932472)"
            ]
          },
          "metadata": {
            "tags": []
          },
          "execution_count": 447
        }
      ]
    },
    {
      "metadata": {
        "id": "bcqyPKMH8B33",
        "colab_type": "code",
        "colab": {}
      },
      "cell_type": "code",
      "source": [
        "df.GarageQual = df.GarageQual.fillna('missing')\n",
        "df['garageQual_numeric'] = df.GarageQual.map({'missing': 0, 'Po': 0, 'Fa': 1, 'TA': 2, 'Gd':3, 'Ex': 4})\n",
        "df['garageQual_numeric_squared'] = df.garageQual_numeric ** 2"
      ],
      "execution_count": 0,
      "outputs": []
    },
    {
      "metadata": {
        "id": "r_bJ9g7c8Iup",
        "colab_type": "code",
        "colab": {
          "base_uri": "https://localhost:8080/",
          "height": 34
        },
        "outputId": "3e0dc5aa-b169-4c05-a7d4-6006ee7f25ee"
      },
      "cell_type": "code",
      "source": [
        "features = ['LotArea','OverallQual', 'OverallCond', 'GrLivArea','GarageArea', 'FullBath', 'HalfBath', 'fullhalfbath_interaction', 'BedroomAbvGr',\n",
        "            'sold_pre_2008', 'age_sold','age_sold_squared', 'years_since_remod', 'age_remod_interaction', '1stFlrSF', '2ndFlrSF', 'floor_interaction', 'mszoning_RL', 'mszoning_c',\n",
        "            'mszoning_RM', 'mszoning_FV', 'good_area', 'bad_area', 'one_fam_home', 'townhouse', 'miscfeature_isnone', 'has_shed', 'new_home', 'attached_garage',\n",
        "            'detchd_garage', 'lotarea_squared', 'overallqual_squared', 'overallcond_squared', 'is_start_of_school', 'is_spring', 'remodeled?', 'age_remodeled_interaction_good',\n",
        "            'sq_footage_fsb', 'sqfootage_fsb_squared', 'grlivarea_squared', 'heating_qual_ex', 'heating_qual_pr', 'heating_qual_fa', 'finished_bsmt', 'pos1_feedr_art', 'pos2_feedr_art',\n",
        "            'pos1_pos2_sum1', 'pos1_pos2_sum2', 'kitchen_numeric_squared', 'garage_cars_squared', 'atypical_function', 'exterior_exc', 'salecond_abnorml', 'no_fireplace', 'lotfrontage_squared',\n",
        "            'garagearea_squared', 'sq_footage_fsbg', 'banked_land', 'HLS_land', 'salecond_family', 'paved_drive_numeric', 'paved_drive_squared', 'OpenPorchSF', 'WoodDeckSF', 'EnclosedPorch',\n",
        "            'ScreenPorch', 'garageQual_numeric_squared']\n",
        "\n",
        "\n",
        "\n",
        "X = df[features].values\n",
        "y = df.loc[:,['logprice']].values\n",
        "\n",
        "X_train, X_test, y_train, y_test = train_test_split(X, y, test_size=0.25, random_state=42)\n",
        "\n",
        "\n",
        "lr = LinearRegression()\n",
        "lr.fit(X_train, y_train)\n",
        "\n",
        "\n",
        "oos_pred = lr.predict(X_test)\n",
        "oos_mse = mean_squared_error(y_test, oos_pred)\n",
        "oos_r2 = r2_score(y_test, oos_pred)\n",
        "rmse = (np.sqrt(oos_mse))\n",
        "rmse, oos_r2"
      ],
      "execution_count": 456,
      "outputs": [
        {
          "output_type": "execute_result",
          "data": {
            "text/plain": [
              "(0.11474459909345137, 0.9239641486997976)"
            ]
          },
          "metadata": {
            "tags": []
          },
          "execution_count": 456
        }
      ]
    },
    {
      "metadata": {
        "id": "1rDOUR9Z8MrT",
        "colab_type": "code",
        "colab": {
          "base_uri": "https://localhost:8080/",
          "height": 86
        },
        "outputId": "70fe90a5-8038-41e2-bd78-d38e41209809"
      },
      "cell_type": "code",
      "source": [
        "df.GarageFinish.value_counts()"
      ],
      "execution_count": 457,
      "outputs": [
        {
          "output_type": "execute_result",
          "data": {
            "text/plain": [
              "Unf    605\n",
              "RFn    422\n",
              "Fin    352\n",
              "Name: GarageFinish, dtype: int64"
            ]
          },
          "metadata": {
            "tags": []
          },
          "execution_count": 457
        }
      ]
    },
    {
      "metadata": {
        "id": "mgo42rfE8rZm",
        "colab_type": "code",
        "colab": {
          "base_uri": "https://localhost:8080/",
          "height": 167
        },
        "outputId": "b5b5f638-86ca-4dee-f1a4-78e9d59db6cc"
      },
      "cell_type": "code",
      "source": [
        "df.pivot_table(index='GarageFinish', values='SalePrice')"
      ],
      "execution_count": 458,
      "outputs": [
        {
          "output_type": "execute_result",
          "data": {
            "text/html": [
              "<div>\n",
              "<style scoped>\n",
              "    .dataframe tbody tr th:only-of-type {\n",
              "        vertical-align: middle;\n",
              "    }\n",
              "\n",
              "    .dataframe tbody tr th {\n",
              "        vertical-align: top;\n",
              "    }\n",
              "\n",
              "    .dataframe thead th {\n",
              "        text-align: right;\n",
              "    }\n",
              "</style>\n",
              "<table border=\"1\" class=\"dataframe\">\n",
              "  <thead>\n",
              "    <tr style=\"text-align: right;\">\n",
              "      <th></th>\n",
              "      <th>SalePrice</th>\n",
              "    </tr>\n",
              "    <tr>\n",
              "      <th>GarageFinish</th>\n",
              "      <th></th>\n",
              "    </tr>\n",
              "  </thead>\n",
              "  <tbody>\n",
              "    <tr>\n",
              "      <th>Fin</th>\n",
              "      <td>240052.690341</td>\n",
              "    </tr>\n",
              "    <tr>\n",
              "      <th>RFn</th>\n",
              "      <td>202068.869668</td>\n",
              "    </tr>\n",
              "    <tr>\n",
              "      <th>Unf</th>\n",
              "      <td>142156.423140</td>\n",
              "    </tr>\n",
              "  </tbody>\n",
              "</table>\n",
              "</div>"
            ],
            "text/plain": [
              "                  SalePrice\n",
              "GarageFinish               \n",
              "Fin           240052.690341\n",
              "RFn           202068.869668\n",
              "Unf           142156.423140"
            ]
          },
          "metadata": {
            "tags": []
          },
          "execution_count": 458
        }
      ]
    },
    {
      "metadata": {
        "id": "uhiGuyHp8wZ4",
        "colab_type": "code",
        "colab": {}
      },
      "cell_type": "code",
      "source": [
        "df['garage_unf'] = (df.GarageFinish == 'Unf')\n",
        "df['garage_Fin'] = (df.GarageFinish == 'Fin')"
      ],
      "execution_count": 0,
      "outputs": []
    },
    {
      "metadata": {
        "id": "7MVOzag6899y",
        "colab_type": "code",
        "colab": {
          "base_uri": "https://localhost:8080/",
          "height": 34
        },
        "outputId": "eecd280b-7ac3-4c5c-bc03-e32bec12e983"
      },
      "cell_type": "code",
      "source": [
        "features = ['LotArea','OverallQual', 'OverallCond', 'GrLivArea','GarageArea', 'FullBath', 'HalfBath', 'fullhalfbath_interaction', 'BedroomAbvGr',\n",
        "            'sold_pre_2008', 'age_sold','age_sold_squared', 'years_since_remod', 'age_remod_interaction', '1stFlrSF', '2ndFlrSF', 'floor_interaction', 'mszoning_RL', 'mszoning_c',\n",
        "            'mszoning_RM', 'mszoning_FV', 'good_area', 'bad_area', 'one_fam_home', 'townhouse', 'miscfeature_isnone', 'has_shed', 'new_home', 'attached_garage',\n",
        "            'detchd_garage', 'lotarea_squared', 'overallqual_squared', 'overallcond_squared', 'is_start_of_school', 'is_spring', 'remodeled?', 'age_remodeled_interaction_good',\n",
        "            'sq_footage_fsb', 'sqfootage_fsb_squared', 'grlivarea_squared', 'heating_qual_ex', 'heating_qual_pr', 'heating_qual_fa', 'finished_bsmt', 'pos1_feedr_art', 'pos2_feedr_art',\n",
        "            'pos1_pos2_sum1', 'pos1_pos2_sum2', 'kitchen_numeric_squared', 'garage_cars_squared', 'atypical_function', 'exterior_exc', 'salecond_abnorml', 'no_fireplace', 'lotfrontage_squared',\n",
        "            'garagearea_squared', 'sq_footage_fsbg', 'banked_land', 'HLS_land', 'salecond_family', 'paved_drive_numeric', 'paved_drive_squared', 'OpenPorchSF', 'WoodDeckSF', 'EnclosedPorch',\n",
        "            'ScreenPorch', 'garageQual_numeric_squared', 'garage_unf', 'garage_Fin']\n",
        "\n",
        "\n",
        "\n",
        "X = df[features].values\n",
        "y = df.loc[:,['logprice']].values\n",
        "\n",
        "X_train, X_test, y_train, y_test = train_test_split(X, y, test_size=0.25, random_state=42)\n",
        "\n",
        "\n",
        "lr = LinearRegression()\n",
        "lr.fit(X_train, y_train)\n",
        "\n",
        "\n",
        "oos_pred = lr.predict(X_test)\n",
        "oos_mse = mean_squared_error(y_test, oos_pred)\n",
        "oos_r2 = r2_score(y_test, oos_pred)\n",
        "rmse = (np.sqrt(oos_mse))\n",
        "rmse, oos_r2"
      ],
      "execution_count": 485,
      "outputs": [
        {
          "output_type": "execute_result",
          "data": {
            "text/plain": [
              "(0.11464370617210806, 0.9240978039049451)"
            ]
          },
          "metadata": {
            "tags": []
          },
          "execution_count": 485
        }
      ]
    },
    {
      "metadata": {
        "id": "LmEKHBG49A_6",
        "colab_type": "code",
        "colab": {
          "base_uri": "https://localhost:8080/",
          "height": 34
        },
        "outputId": "728dc0b7-1f3b-4780-8e5d-2fd41b531d75"
      },
      "cell_type": "code",
      "source": [
        "from sklearn.ensemble import GradientBoostingRegressor\n",
        "from sklearn.ensemble import RandomForestRegressor\n",
        "from sklearn.linear_model import Ridge\n",
        "from sklearn.linear_model import Lasso\n",
        "\n",
        "features = ['LotArea','OverallQual', 'OverallCond', 'GrLivArea','GarageArea', 'FullBath', 'HalfBath', 'fullhalfbath_interaction', 'BedroomAbvGr',\n",
        "            'sold_pre_2008', 'age_sold','age_sold_squared', 'years_since_remod', 'age_remod_interaction', '1stFlrSF', '2ndFlrSF', 'floor_interaction', 'mszoning_RL', 'mszoning_c',\n",
        "            'mszoning_RM', 'mszoning_FV', 'good_area', 'bad_area', 'one_fam_home', 'townhouse', 'miscfeature_isnone', 'has_shed', 'new_home', 'attached_garage',\n",
        "            'detchd_garage', 'lotarea_squared', 'overallqual_squared', 'overallcond_squared', 'is_start_of_school', 'is_spring', 'remodeled?', 'age_remodeled_interaction_good',\n",
        "            'sq_footage_fsb', 'sqfootage_fsb_squared', 'grlivarea_squared', 'heating_qual_ex', 'heating_qual_pr', 'heating_qual_fa', 'finished_bsmt', 'pos1_feedr_art', 'pos2_feedr_art',\n",
        "            'pos1_pos2_sum1', 'pos1_pos2_sum2', 'kitchen_numeric_squared', 'garage_cars_squared', 'atypical_function', 'exterior_exc', 'salecond_abnorml', 'no_fireplace', 'lotfrontage_squared',\n",
        "            'garagearea_squared', 'sq_footage_fsbg', 'banked_land', 'HLS_land', 'salecond_family', 'paved_drive_numeric', 'paved_drive_squared', 'OpenPorchSF', 'WoodDeckSF', 'EnclosedPorch',\n",
        "            'ScreenPorch', 'garageQual_numeric_squared', 'garage_unf', 'garage_Fin']\n",
        "\n",
        "X = df[features].values\n",
        "y = df.logprice\n",
        "\n",
        "X_train, X_test, y_train, y_test = train_test_split(X, y, test_size=0.25, random_state=42)\n",
        "\n",
        "\n",
        "lr = GradientBoostingRegressor(n_estimators=1000, max_features=10)\n",
        "lr.fit(X_train, y_train)\n",
        "\n",
        "\n",
        "oos_pred = lr.predict(X_test)\n",
        "oos_mse = mean_squared_error(y_test, oos_pred)\n",
        "oos_r2 = r2_score(y_test, oos_pred)\n",
        "rmse = (np.sqrt(oos_mse))\n",
        "rmse, oos_r2"
      ],
      "execution_count": 473,
      "outputs": [
        {
          "output_type": "execute_result",
          "data": {
            "text/plain": [
              "(0.12268481240690764, 0.9130768386041219)"
            ]
          },
          "metadata": {
            "tags": []
          },
          "execution_count": 473
        }
      ]
    },
    {
      "metadata": {
        "id": "UwtjDMF99cFB",
        "colab_type": "code",
        "colab": {
          "base_uri": "https://localhost:8080/",
          "height": 104
        },
        "outputId": "65c0d55a-aed5-46ec-f516-4dc062362bf6"
      },
      "cell_type": "code",
      "source": [
        "from sklearn.ensemble import GradientBoostingRegressor\n",
        "from sklearn.ensemble import RandomForestRegressor\n",
        "from sklearn.linear_model import Ridge\n",
        "from sklearn.linear_model import Lasso\n",
        "\n",
        "features = ['LotArea','OverallQual', 'OverallCond', 'GrLivArea','GarageArea', 'FullBath', 'HalfBath', 'fullhalfbath_interaction', 'BedroomAbvGr',\n",
        "            'sold_pre_2008', 'age_sold','age_sold_squared', 'years_since_remod', 'age_remod_interaction', '1stFlrSF', '2ndFlrSF', 'floor_interaction', 'mszoning_RL', 'mszoning_c',\n",
        "            'mszoning_RM', 'mszoning_FV', 'good_area', 'bad_area', 'one_fam_home', 'townhouse', 'miscfeature_isnone', 'has_shed', 'new_home', 'attached_garage',\n",
        "            'detchd_garage', 'lotarea_squared', 'overallqual_squared', 'overallcond_squared', 'is_start_of_school', 'is_spring', 'remodeled?', 'age_remodeled_interaction_good',\n",
        "            'sq_footage_fsb', 'sqfootage_fsb_squared', 'grlivarea_squared', 'heating_qual_ex', 'heating_qual_pr', 'heating_qual_fa', 'finished_bsmt', 'pos1_feedr_art', 'pos2_feedr_art',\n",
        "            'pos1_pos2_sum1', 'pos1_pos2_sum2', 'kitchen_numeric_squared', 'garage_cars_squared', 'atypical_function', 'exterior_exc', 'salecond_abnorml', 'no_fireplace', 'lotfrontage_squared',\n",
        "            'garagearea_squared', 'sq_footage_fsbg', 'banked_land', 'HLS_land', 'salecond_family', 'paved_drive_numeric', 'paved_drive_squared', 'OpenPorchSF', 'WoodDeckSF', 'EnclosedPorch',\n",
        "            'ScreenPorch', 'garageQual_numeric_squared', 'garage_unf', 'garage_Fin']\n",
        "\n",
        "X = df[features].values\n",
        "y = df.logprice\n",
        "\n",
        "X_train, X_test, y_train, y_test = train_test_split(X, y, test_size=0.25, random_state=42)\n",
        "\n",
        "\n",
        "lr = Ridge()\n",
        "lr.fit(X_train, y_train)\n",
        "\n",
        "\n",
        "oos_pred = lr.predict(X_test)\n",
        "oos_mse = mean_squared_error(y_test, oos_pred)\n",
        "oos_r2 = r2_score(y_test, oos_pred)\n",
        "rmse = (np.sqrt(oos_mse))\n",
        "rmse, oos_r2"
      ],
      "execution_count": 486,
      "outputs": [
        {
          "output_type": "stream",
          "text": [
            "/usr/local/lib/python3.6/dist-packages/sklearn/linear_model/ridge.py:125: LinAlgWarning: scipy.linalg.solve\n",
            "Ill-conditioned matrix detected. Result is not guaranteed to be accurate.\n",
            "Reciprocal condition number2.676651e-22\n",
            "  overwrite_a=True).T\n"
          ],
          "name": "stderr"
        },
        {
          "output_type": "execute_result",
          "data": {
            "text/plain": [
              "(0.11566304354323854, 0.922742057317992)"
            ]
          },
          "metadata": {
            "tags": []
          },
          "execution_count": 486
        }
      ]
    },
    {
      "metadata": {
        "id": "11IlJZoD-NBq",
        "colab_type": "code",
        "colab": {}
      },
      "cell_type": "code",
      "source": [
        "df['no_central_air'] = (df.CentralAir == 'N')"
      ],
      "execution_count": 0,
      "outputs": []
    },
    {
      "metadata": {
        "id": "HhvP3r33-S04",
        "colab_type": "code",
        "colab": {
          "base_uri": "https://localhost:8080/",
          "height": 34
        },
        "outputId": "9b980d91-66f5-4689-e0c4-58a472fd8416"
      },
      "cell_type": "code",
      "source": [
        "from sklearn.ensemble import GradientBoostingRegressor\n",
        "from sklearn.ensemble import RandomForestRegressor\n",
        "from sklearn.linear_model import Ridge\n",
        "from sklearn.linear_model import Lasso\n",
        "\n",
        "features = ['LotArea','OverallQual', 'OverallCond', 'GrLivArea','GarageArea', 'FullBath', 'HalfBath', 'fullhalfbath_interaction', 'BedroomAbvGr',\n",
        "            'sold_pre_2008', 'age_sold','age_sold_squared', 'years_since_remod', 'age_remod_interaction', '1stFlrSF', '2ndFlrSF', 'floor_interaction', 'mszoning_RL', 'mszoning_c',\n",
        "            'mszoning_RM', 'mszoning_FV', 'good_area', 'bad_area', 'one_fam_home', 'townhouse', 'miscfeature_isnone', 'has_shed', 'new_home', 'attached_garage',\n",
        "            'detchd_garage', 'lotarea_squared', 'overallqual_squared', 'overallcond_squared', 'is_start_of_school', 'is_spring', 'remodeled?', 'age_remodeled_interaction_good',\n",
        "            'sq_footage_fsb', 'sqfootage_fsb_squared', 'grlivarea_squared', 'heating_qual_ex', 'heating_qual_pr', 'heating_qual_fa', 'finished_bsmt', 'pos1_feedr_art', 'pos2_feedr_art',\n",
        "            'pos1_pos2_sum1', 'pos1_pos2_sum2', 'kitchen_numeric_squared', 'garage_cars_squared', 'atypical_function', 'exterior_exc', 'salecond_abnorml', 'no_fireplace', 'lotfrontage_squared',\n",
        "            'garagearea_squared', 'sq_footage_fsbg', 'banked_land', 'HLS_land', 'salecond_family', 'paved_drive_numeric', 'paved_drive_squared', 'OpenPorchSF', 'WoodDeckSF', 'EnclosedPorch',\n",
        "            'ScreenPorch', 'garageQual_numeric_squared', 'garage_unf', 'garage_Fin', 'no_central_air']\n",
        "\n",
        "X = df[features].values\n",
        "y = df.logprice\n",
        "\n",
        "X_train, X_test, y_train, y_test = train_test_split(X, y, test_size=0.25, random_state=42)\n",
        "\n",
        "\n",
        "lr = LinearRegression()\n",
        "lr.fit(X_train, y_train)\n",
        "\n",
        "\n",
        "oos_pred = lr.predict(X_test)\n",
        "oos_mse = mean_squared_error(y_test, oos_pred)\n",
        "oos_r2 = r2_score(y_test, oos_pred)\n",
        "rmse = (np.sqrt(oos_mse))\n",
        "rmse, oos_r2"
      ],
      "execution_count": 490,
      "outputs": [
        {
          "output_type": "execute_result",
          "data": {
            "text/plain": [
              "(0.11402154630320285, 0.9249193956676783)"
            ]
          },
          "metadata": {
            "tags": []
          },
          "execution_count": 490
        }
      ]
    },
    {
      "metadata": {
        "id": "10yB2Rin9iiD",
        "colab_type": "code",
        "colab": {
          "base_uri": "https://localhost:8080/",
          "height": 138
        },
        "outputId": "8ca6855c-79b7-4a9b-d5fb-c55319883c6b"
      },
      "cell_type": "code",
      "source": [
        "df.Foundation.value_counts()"
      ],
      "execution_count": 491,
      "outputs": [
        {
          "output_type": "execute_result",
          "data": {
            "text/plain": [
              "PConc     647\n",
              "CBlock    634\n",
              "BrkTil    146\n",
              "Slab       24\n",
              "Stone       6\n",
              "Wood        3\n",
              "Name: Foundation, dtype: int64"
            ]
          },
          "metadata": {
            "tags": []
          },
          "execution_count": 491
        }
      ]
    },
    {
      "metadata": {
        "id": "LqD5uKix-Wa5",
        "colab_type": "code",
        "colab": {}
      },
      "cell_type": "code",
      "source": [
        "df = pd.get_dummies(df, prefix='Foundation_', columns=['Foundation'])"
      ],
      "execution_count": 0,
      "outputs": []
    },
    {
      "metadata": {
        "id": "3dVu5rX5-o8w",
        "colab_type": "code",
        "colab": {
          "base_uri": "https://localhost:8080/",
          "height": 217
        },
        "outputId": "9ba44dd4-c660-46fb-8451-720257f9e4fe"
      },
      "cell_type": "code",
      "source": [
        "df.head()"
      ],
      "execution_count": 495,
      "outputs": [
        {
          "output_type": "execute_result",
          "data": {
            "text/html": [
              "<div>\n",
              "<style scoped>\n",
              "    .dataframe tbody tr th:only-of-type {\n",
              "        vertical-align: middle;\n",
              "    }\n",
              "\n",
              "    .dataframe tbody tr th {\n",
              "        vertical-align: top;\n",
              "    }\n",
              "\n",
              "    .dataframe thead th {\n",
              "        text-align: right;\n",
              "    }\n",
              "</style>\n",
              "<table border=\"1\" class=\"dataframe\">\n",
              "  <thead>\n",
              "    <tr style=\"text-align: right;\">\n",
              "      <th></th>\n",
              "      <th>Id</th>\n",
              "      <th>MSSubClass</th>\n",
              "      <th>MSZoning</th>\n",
              "      <th>LotFrontage</th>\n",
              "      <th>LotArea</th>\n",
              "      <th>Street</th>\n",
              "      <th>Alley</th>\n",
              "      <th>LotShape</th>\n",
              "      <th>LandContour</th>\n",
              "      <th>Utilities</th>\n",
              "      <th>LotConfig</th>\n",
              "      <th>LandSlope</th>\n",
              "      <th>Neighborhood</th>\n",
              "      <th>Condition1</th>\n",
              "      <th>Condition2</th>\n",
              "      <th>BldgType</th>\n",
              "      <th>HouseStyle</th>\n",
              "      <th>OverallQual</th>\n",
              "      <th>OverallCond</th>\n",
              "      <th>YearBuilt</th>\n",
              "      <th>YearRemodAdd</th>\n",
              "      <th>RoofStyle</th>\n",
              "      <th>RoofMatl</th>\n",
              "      <th>Exterior1st</th>\n",
              "      <th>Exterior2nd</th>\n",
              "      <th>MasVnrType</th>\n",
              "      <th>MasVnrArea</th>\n",
              "      <th>ExterQual</th>\n",
              "      <th>ExterCond</th>\n",
              "      <th>BsmtQual</th>\n",
              "      <th>BsmtCond</th>\n",
              "      <th>BsmtExposure</th>\n",
              "      <th>BsmtFinType1</th>\n",
              "      <th>BsmtFinSF1</th>\n",
              "      <th>BsmtFinType2</th>\n",
              "      <th>BsmtFinSF2</th>\n",
              "      <th>BsmtUnfSF</th>\n",
              "      <th>TotalBsmtSF</th>\n",
              "      <th>Heating</th>\n",
              "      <th>HeatingQC</th>\n",
              "      <th>CentralAir</th>\n",
              "      <th>Electrical</th>\n",
              "      <th>1stFlrSF</th>\n",
              "      <th>2ndFlrSF</th>\n",
              "      <th>LowQualFinSF</th>\n",
              "      <th>GrLivArea</th>\n",
              "      <th>BsmtFullBath</th>\n",
              "      <th>BsmtHalfBath</th>\n",
              "      <th>FullBath</th>\n",
              "      <th>HalfBath</th>\n",
              "      <th>BedroomAbvGr</th>\n",
              "      <th>KitchenAbvGr</th>\n",
              "      <th>KitchenQual</th>\n",
              "      <th>TotRmsAbvGrd</th>\n",
              "      <th>Functional</th>\n",
              "      <th>Fireplaces</th>\n",
              "      <th>FireplaceQu</th>\n",
              "      <th>GarageType</th>\n",
              "      <th>GarageYrBlt</th>\n",
              "      <th>GarageFinish</th>\n",
              "      <th>GarageCars</th>\n",
              "      <th>GarageArea</th>\n",
              "      <th>GarageQual</th>\n",
              "      <th>GarageCond</th>\n",
              "      <th>PavedDrive</th>\n",
              "      <th>WoodDeckSF</th>\n",
              "      <th>OpenPorchSF</th>\n",
              "      <th>EnclosedPorch</th>\n",
              "      <th>3SsnPorch</th>\n",
              "      <th>ScreenPorch</th>\n",
              "      <th>PoolArea</th>\n",
              "      <th>PoolQC</th>\n",
              "      <th>Fence</th>\n",
              "      <th>MiscFeature</th>\n",
              "      <th>MiscVal</th>\n",
              "      <th>MoSold</th>\n",
              "      <th>YrSold</th>\n",
              "      <th>SaleType</th>\n",
              "      <th>SaleCondition</th>\n",
              "      <th>SalePrice</th>\n",
              "      <th>matching_exterior_type</th>\n",
              "      <th>logprice</th>\n",
              "      <th>fullhalfbath_interaction</th>\n",
              "      <th>sold_pre_2008</th>\n",
              "      <th>age_sold</th>\n",
              "      <th>years_since_remod</th>\n",
              "      <th>age_remod_interaction</th>\n",
              "      <th>age_sold_squared</th>\n",
              "      <th>years_since_remod_squared</th>\n",
              "      <th>age_remod_interaction_squared</th>\n",
              "      <th>floor_interaction</th>\n",
              "      <th>mszoning_RL</th>\n",
              "      <th>mszoning_c</th>\n",
              "      <th>mszoning_RM</th>\n",
              "      <th>mszoning_FV</th>\n",
              "      <th>good_area</th>\n",
              "      <th>bad_area</th>\n",
              "      <th>one_fam_home</th>\n",
              "      <th>townhouse</th>\n",
              "      <th>miscfeature_isnone</th>\n",
              "      <th>has_shed</th>\n",
              "      <th>new_home</th>\n",
              "      <th>saletype_cod</th>\n",
              "      <th>saletype_lowdn_lowint</th>\n",
              "      <th>attached_garage</th>\n",
              "      <th>detchd_garage</th>\n",
              "      <th>lotarea_squared</th>\n",
              "      <th>overallqual_squared</th>\n",
              "      <th>overallcond_squared</th>\n",
              "      <th>is_start_of_school</th>\n",
              "      <th>is_spring</th>\n",
              "      <th>remodeled?</th>\n",
              "      <th>age_remodeled_interaction_good</th>\n",
              "      <th>sq_footage_fsb</th>\n",
              "      <th>sqfootage_fsb_squared</th>\n",
              "      <th>fullbath_squared</th>\n",
              "      <th>grlivarea_squared</th>\n",
              "      <th>heating_gasa</th>\n",
              "      <th>heating_qual_ex</th>\n",
              "      <th>heating_qual_pr</th>\n",
              "      <th>heating_qual_fa</th>\n",
              "      <th>bsmt_unfin_percent</th>\n",
              "      <th>finished_bsmt</th>\n",
              "      <th>pos1_feedr_art</th>\n",
              "      <th>pos2_feedr_art</th>\n",
              "      <th>pos1_pos2_sum1</th>\n",
              "      <th>pos1_pos2_sum2</th>\n",
              "      <th>onehalf_fin</th>\n",
              "      <th>onehalf_unfin</th>\n",
              "      <th>kitchen_numeric</th>\n",
              "      <th>kitchen_numeric_squared</th>\n",
              "      <th>garage_cars_squared</th>\n",
              "      <th>atypical_function</th>\n",
              "      <th>exterior_exc</th>\n",
              "      <th>salecond_partial</th>\n",
              "      <th>salecond_abnorml</th>\n",
              "      <th>no_fireplace</th>\n",
              "      <th>two_or_more_fireplaces</th>\n",
              "      <th>lotfrontage_squared</th>\n",
              "      <th>electrical_is_brkr</th>\n",
              "      <th>electrical_is_F</th>\n",
              "      <th>electrical_is_A</th>\n",
              "      <th>electrical_is_P</th>\n",
              "      <th>overallcond_5over</th>\n",
              "      <th>garagearea_squared</th>\n",
              "      <th>sq_footage_fsbg</th>\n",
              "      <th>sq_footage_fsbg_squared</th>\n",
              "      <th>banked_land</th>\n",
              "      <th>HLS_land</th>\n",
              "      <th>landslope_mod_sev</th>\n",
              "      <th>land_interaction</th>\n",
              "      <th>salecond_adjland</th>\n",
              "      <th>salecond_alloca</th>\n",
              "      <th>salecond_family</th>\n",
              "      <th>has_pool</th>\n",
              "      <th>pool_exc</th>\n",
              "      <th>paved_drive_numeric</th>\n",
              "      <th>paved_drive_squared</th>\n",
              "      <th>OpenPorchSF_squared</th>\n",
              "      <th>WoodDeckSF_squared</th>\n",
              "      <th>EnclosedPorch_squared</th>\n",
              "      <th>ScreenPorch_squared</th>\n",
              "      <th>garageQual_numeric</th>\n",
              "      <th>garageQual_numeric_squared</th>\n",
              "      <th>garage_unf</th>\n",
              "      <th>garage_Fin</th>\n",
              "      <th>no_central_air</th>\n",
              "      <th>Foundation__BrkTil</th>\n",
              "      <th>Foundation__CBlock</th>\n",
              "      <th>Foundation__PConc</th>\n",
              "      <th>Foundation__Slab</th>\n",
              "      <th>Foundation__Stone</th>\n",
              "      <th>Foundation__Wood</th>\n",
              "    </tr>\n",
              "  </thead>\n",
              "  <tbody>\n",
              "    <tr>\n",
              "      <th>0</th>\n",
              "      <td>1</td>\n",
              "      <td>60</td>\n",
              "      <td>RL</td>\n",
              "      <td>65.0</td>\n",
              "      <td>8450</td>\n",
              "      <td>Pave</td>\n",
              "      <td>NaN</td>\n",
              "      <td>Reg</td>\n",
              "      <td>Lvl</td>\n",
              "      <td>AllPub</td>\n",
              "      <td>Inside</td>\n",
              "      <td>Gtl</td>\n",
              "      <td>CollgCr</td>\n",
              "      <td>Norm</td>\n",
              "      <td>Norm</td>\n",
              "      <td>1Fam</td>\n",
              "      <td>2Story</td>\n",
              "      <td>7</td>\n",
              "      <td>5</td>\n",
              "      <td>2003</td>\n",
              "      <td>2003</td>\n",
              "      <td>Gable</td>\n",
              "      <td>CompShg</td>\n",
              "      <td>VinylSd</td>\n",
              "      <td>VinylSd</td>\n",
              "      <td>BrkFace</td>\n",
              "      <td>196.0</td>\n",
              "      <td>Gd</td>\n",
              "      <td>TA</td>\n",
              "      <td>Gd</td>\n",
              "      <td>TA</td>\n",
              "      <td>No</td>\n",
              "      <td>GLQ</td>\n",
              "      <td>706</td>\n",
              "      <td>Unf</td>\n",
              "      <td>0</td>\n",
              "      <td>150</td>\n",
              "      <td>856</td>\n",
              "      <td>GasA</td>\n",
              "      <td>Ex</td>\n",
              "      <td>Y</td>\n",
              "      <td>SBrkr</td>\n",
              "      <td>856</td>\n",
              "      <td>854</td>\n",
              "      <td>0</td>\n",
              "      <td>1710</td>\n",
              "      <td>1</td>\n",
              "      <td>0</td>\n",
              "      <td>2</td>\n",
              "      <td>1</td>\n",
              "      <td>3</td>\n",
              "      <td>1</td>\n",
              "      <td>Gd</td>\n",
              "      <td>8</td>\n",
              "      <td>Typ</td>\n",
              "      <td>0</td>\n",
              "      <td>NaN</td>\n",
              "      <td>Attchd</td>\n",
              "      <td>2003.0</td>\n",
              "      <td>RFn</td>\n",
              "      <td>2</td>\n",
              "      <td>548</td>\n",
              "      <td>TA</td>\n",
              "      <td>TA</td>\n",
              "      <td>Y</td>\n",
              "      <td>0</td>\n",
              "      <td>61</td>\n",
              "      <td>0</td>\n",
              "      <td>0</td>\n",
              "      <td>0</td>\n",
              "      <td>0</td>\n",
              "      <td>NaN</td>\n",
              "      <td>NaN</td>\n",
              "      <td>None</td>\n",
              "      <td>0</td>\n",
              "      <td>2</td>\n",
              "      <td>2008</td>\n",
              "      <td>WD</td>\n",
              "      <td>Normal</td>\n",
              "      <td>208500</td>\n",
              "      <td>True</td>\n",
              "      <td>12.247694</td>\n",
              "      <td>2</td>\n",
              "      <td>False</td>\n",
              "      <td>5</td>\n",
              "      <td>5</td>\n",
              "      <td>25</td>\n",
              "      <td>25</td>\n",
              "      <td>5</td>\n",
              "      <td>125</td>\n",
              "      <td>731024</td>\n",
              "      <td>True</td>\n",
              "      <td>False</td>\n",
              "      <td>False</td>\n",
              "      <td>False</td>\n",
              "      <td>False</td>\n",
              "      <td>False</td>\n",
              "      <td>True</td>\n",
              "      <td>False</td>\n",
              "      <td>True</td>\n",
              "      <td>False</td>\n",
              "      <td>False</td>\n",
              "      <td>False</td>\n",
              "      <td>False</td>\n",
              "      <td>True</td>\n",
              "      <td>False</td>\n",
              "      <td>71402500</td>\n",
              "      <td>49</td>\n",
              "      <td>25</td>\n",
              "      <td>False</td>\n",
              "      <td>False</td>\n",
              "      <td>False</td>\n",
              "      <td>0</td>\n",
              "      <td>2416</td>\n",
              "      <td>5837056</td>\n",
              "      <td>4</td>\n",
              "      <td>2924100</td>\n",
              "      <td>True</td>\n",
              "      <td>True</td>\n",
              "      <td>False</td>\n",
              "      <td>False</td>\n",
              "      <td>0.175234</td>\n",
              "      <td>False</td>\n",
              "      <td>False</td>\n",
              "      <td>False</td>\n",
              "      <td>False</td>\n",
              "      <td>False</td>\n",
              "      <td>False</td>\n",
              "      <td>False</td>\n",
              "      <td>4</td>\n",
              "      <td>16</td>\n",
              "      <td>4</td>\n",
              "      <td>False</td>\n",
              "      <td>False</td>\n",
              "      <td>False</td>\n",
              "      <td>False</td>\n",
              "      <td>True</td>\n",
              "      <td>False</td>\n",
              "      <td>4225.0</td>\n",
              "      <td>True</td>\n",
              "      <td>False</td>\n",
              "      <td>False</td>\n",
              "      <td>False</td>\n",
              "      <td>True</td>\n",
              "      <td>300304</td>\n",
              "      <td>2964</td>\n",
              "      <td>8785296</td>\n",
              "      <td>False</td>\n",
              "      <td>False</td>\n",
              "      <td>False</td>\n",
              "      <td>False</td>\n",
              "      <td>False</td>\n",
              "      <td>False</td>\n",
              "      <td>False</td>\n",
              "      <td>False</td>\n",
              "      <td>False</td>\n",
              "      <td>2</td>\n",
              "      <td>4</td>\n",
              "      <td>3721</td>\n",
              "      <td>0</td>\n",
              "      <td>0</td>\n",
              "      <td>0</td>\n",
              "      <td>2</td>\n",
              "      <td>4</td>\n",
              "      <td>False</td>\n",
              "      <td>False</td>\n",
              "      <td>False</td>\n",
              "      <td>0</td>\n",
              "      <td>0</td>\n",
              "      <td>1</td>\n",
              "      <td>0</td>\n",
              "      <td>0</td>\n",
              "      <td>0</td>\n",
              "    </tr>\n",
              "    <tr>\n",
              "      <th>1</th>\n",
              "      <td>2</td>\n",
              "      <td>20</td>\n",
              "      <td>RL</td>\n",
              "      <td>80.0</td>\n",
              "      <td>9600</td>\n",
              "      <td>Pave</td>\n",
              "      <td>NaN</td>\n",
              "      <td>Reg</td>\n",
              "      <td>Lvl</td>\n",
              "      <td>AllPub</td>\n",
              "      <td>FR2</td>\n",
              "      <td>Gtl</td>\n",
              "      <td>Veenker</td>\n",
              "      <td>Feedr</td>\n",
              "      <td>Norm</td>\n",
              "      <td>1Fam</td>\n",
              "      <td>1Story</td>\n",
              "      <td>6</td>\n",
              "      <td>8</td>\n",
              "      <td>1976</td>\n",
              "      <td>1976</td>\n",
              "      <td>Gable</td>\n",
              "      <td>CompShg</td>\n",
              "      <td>MetalSd</td>\n",
              "      <td>MetalSd</td>\n",
              "      <td>None</td>\n",
              "      <td>0.0</td>\n",
              "      <td>TA</td>\n",
              "      <td>TA</td>\n",
              "      <td>Gd</td>\n",
              "      <td>TA</td>\n",
              "      <td>Gd</td>\n",
              "      <td>ALQ</td>\n",
              "      <td>978</td>\n",
              "      <td>Unf</td>\n",
              "      <td>0</td>\n",
              "      <td>284</td>\n",
              "      <td>1262</td>\n",
              "      <td>GasA</td>\n",
              "      <td>Ex</td>\n",
              "      <td>Y</td>\n",
              "      <td>SBrkr</td>\n",
              "      <td>1262</td>\n",
              "      <td>0</td>\n",
              "      <td>0</td>\n",
              "      <td>1262</td>\n",
              "      <td>0</td>\n",
              "      <td>1</td>\n",
              "      <td>2</td>\n",
              "      <td>0</td>\n",
              "      <td>3</td>\n",
              "      <td>1</td>\n",
              "      <td>TA</td>\n",
              "      <td>6</td>\n",
              "      <td>Typ</td>\n",
              "      <td>1</td>\n",
              "      <td>TA</td>\n",
              "      <td>Attchd</td>\n",
              "      <td>1976.0</td>\n",
              "      <td>RFn</td>\n",
              "      <td>2</td>\n",
              "      <td>460</td>\n",
              "      <td>TA</td>\n",
              "      <td>TA</td>\n",
              "      <td>Y</td>\n",
              "      <td>298</td>\n",
              "      <td>0</td>\n",
              "      <td>0</td>\n",
              "      <td>0</td>\n",
              "      <td>0</td>\n",
              "      <td>0</td>\n",
              "      <td>NaN</td>\n",
              "      <td>NaN</td>\n",
              "      <td>None</td>\n",
              "      <td>0</td>\n",
              "      <td>5</td>\n",
              "      <td>2007</td>\n",
              "      <td>WD</td>\n",
              "      <td>Normal</td>\n",
              "      <td>181500</td>\n",
              "      <td>True</td>\n",
              "      <td>12.109011</td>\n",
              "      <td>0</td>\n",
              "      <td>True</td>\n",
              "      <td>31</td>\n",
              "      <td>31</td>\n",
              "      <td>961</td>\n",
              "      <td>961</td>\n",
              "      <td>31</td>\n",
              "      <td>29791</td>\n",
              "      <td>0</td>\n",
              "      <td>True</td>\n",
              "      <td>False</td>\n",
              "      <td>False</td>\n",
              "      <td>False</td>\n",
              "      <td>False</td>\n",
              "      <td>False</td>\n",
              "      <td>True</td>\n",
              "      <td>False</td>\n",
              "      <td>True</td>\n",
              "      <td>False</td>\n",
              "      <td>False</td>\n",
              "      <td>False</td>\n",
              "      <td>False</td>\n",
              "      <td>True</td>\n",
              "      <td>False</td>\n",
              "      <td>92160000</td>\n",
              "      <td>36</td>\n",
              "      <td>64</td>\n",
              "      <td>False</td>\n",
              "      <td>True</td>\n",
              "      <td>False</td>\n",
              "      <td>0</td>\n",
              "      <td>2240</td>\n",
              "      <td>5017600</td>\n",
              "      <td>4</td>\n",
              "      <td>1592644</td>\n",
              "      <td>True</td>\n",
              "      <td>True</td>\n",
              "      <td>False</td>\n",
              "      <td>False</td>\n",
              "      <td>0.225040</td>\n",
              "      <td>False</td>\n",
              "      <td>True</td>\n",
              "      <td>False</td>\n",
              "      <td>True</td>\n",
              "      <td>False</td>\n",
              "      <td>False</td>\n",
              "      <td>False</td>\n",
              "      <td>3</td>\n",
              "      <td>9</td>\n",
              "      <td>4</td>\n",
              "      <td>False</td>\n",
              "      <td>False</td>\n",
              "      <td>False</td>\n",
              "      <td>False</td>\n",
              "      <td>False</td>\n",
              "      <td>False</td>\n",
              "      <td>6400.0</td>\n",
              "      <td>True</td>\n",
              "      <td>False</td>\n",
              "      <td>False</td>\n",
              "      <td>False</td>\n",
              "      <td>True</td>\n",
              "      <td>211600</td>\n",
              "      <td>2700</td>\n",
              "      <td>7290000</td>\n",
              "      <td>False</td>\n",
              "      <td>False</td>\n",
              "      <td>False</td>\n",
              "      <td>False</td>\n",
              "      <td>False</td>\n",
              "      <td>False</td>\n",
              "      <td>False</td>\n",
              "      <td>False</td>\n",
              "      <td>False</td>\n",
              "      <td>2</td>\n",
              "      <td>4</td>\n",
              "      <td>0</td>\n",
              "      <td>88804</td>\n",
              "      <td>0</td>\n",
              "      <td>0</td>\n",
              "      <td>2</td>\n",
              "      <td>4</td>\n",
              "      <td>False</td>\n",
              "      <td>False</td>\n",
              "      <td>False</td>\n",
              "      <td>0</td>\n",
              "      <td>1</td>\n",
              "      <td>0</td>\n",
              "      <td>0</td>\n",
              "      <td>0</td>\n",
              "      <td>0</td>\n",
              "    </tr>\n",
              "    <tr>\n",
              "      <th>2</th>\n",
              "      <td>3</td>\n",
              "      <td>60</td>\n",
              "      <td>RL</td>\n",
              "      <td>68.0</td>\n",
              "      <td>11250</td>\n",
              "      <td>Pave</td>\n",
              "      <td>NaN</td>\n",
              "      <td>IR1</td>\n",
              "      <td>Lvl</td>\n",
              "      <td>AllPub</td>\n",
              "      <td>Inside</td>\n",
              "      <td>Gtl</td>\n",
              "      <td>CollgCr</td>\n",
              "      <td>Norm</td>\n",
              "      <td>Norm</td>\n",
              "      <td>1Fam</td>\n",
              "      <td>2Story</td>\n",
              "      <td>7</td>\n",
              "      <td>5</td>\n",
              "      <td>2001</td>\n",
              "      <td>2002</td>\n",
              "      <td>Gable</td>\n",
              "      <td>CompShg</td>\n",
              "      <td>VinylSd</td>\n",
              "      <td>VinylSd</td>\n",
              "      <td>BrkFace</td>\n",
              "      <td>162.0</td>\n",
              "      <td>Gd</td>\n",
              "      <td>TA</td>\n",
              "      <td>Gd</td>\n",
              "      <td>TA</td>\n",
              "      <td>Mn</td>\n",
              "      <td>GLQ</td>\n",
              "      <td>486</td>\n",
              "      <td>Unf</td>\n",
              "      <td>0</td>\n",
              "      <td>434</td>\n",
              "      <td>920</td>\n",
              "      <td>GasA</td>\n",
              "      <td>Ex</td>\n",
              "      <td>Y</td>\n",
              "      <td>SBrkr</td>\n",
              "      <td>920</td>\n",
              "      <td>866</td>\n",
              "      <td>0</td>\n",
              "      <td>1786</td>\n",
              "      <td>1</td>\n",
              "      <td>0</td>\n",
              "      <td>2</td>\n",
              "      <td>1</td>\n",
              "      <td>3</td>\n",
              "      <td>1</td>\n",
              "      <td>Gd</td>\n",
              "      <td>6</td>\n",
              "      <td>Typ</td>\n",
              "      <td>1</td>\n",
              "      <td>TA</td>\n",
              "      <td>Attchd</td>\n",
              "      <td>2001.0</td>\n",
              "      <td>RFn</td>\n",
              "      <td>2</td>\n",
              "      <td>608</td>\n",
              "      <td>TA</td>\n",
              "      <td>TA</td>\n",
              "      <td>Y</td>\n",
              "      <td>0</td>\n",
              "      <td>42</td>\n",
              "      <td>0</td>\n",
              "      <td>0</td>\n",
              "      <td>0</td>\n",
              "      <td>0</td>\n",
              "      <td>NaN</td>\n",
              "      <td>NaN</td>\n",
              "      <td>None</td>\n",
              "      <td>0</td>\n",
              "      <td>9</td>\n",
              "      <td>2008</td>\n",
              "      <td>WD</td>\n",
              "      <td>Normal</td>\n",
              "      <td>223500</td>\n",
              "      <td>True</td>\n",
              "      <td>12.317167</td>\n",
              "      <td>2</td>\n",
              "      <td>False</td>\n",
              "      <td>7</td>\n",
              "      <td>6</td>\n",
              "      <td>42</td>\n",
              "      <td>49</td>\n",
              "      <td>6</td>\n",
              "      <td>294</td>\n",
              "      <td>796720</td>\n",
              "      <td>True</td>\n",
              "      <td>False</td>\n",
              "      <td>False</td>\n",
              "      <td>False</td>\n",
              "      <td>False</td>\n",
              "      <td>False</td>\n",
              "      <td>True</td>\n",
              "      <td>False</td>\n",
              "      <td>True</td>\n",
              "      <td>False</td>\n",
              "      <td>False</td>\n",
              "      <td>False</td>\n",
              "      <td>False</td>\n",
              "      <td>True</td>\n",
              "      <td>False</td>\n",
              "      <td>126562500</td>\n",
              "      <td>49</td>\n",
              "      <td>25</td>\n",
              "      <td>True</td>\n",
              "      <td>False</td>\n",
              "      <td>True</td>\n",
              "      <td>7</td>\n",
              "      <td>2272</td>\n",
              "      <td>5161984</td>\n",
              "      <td>4</td>\n",
              "      <td>3189796</td>\n",
              "      <td>True</td>\n",
              "      <td>True</td>\n",
              "      <td>False</td>\n",
              "      <td>False</td>\n",
              "      <td>0.471739</td>\n",
              "      <td>False</td>\n",
              "      <td>False</td>\n",
              "      <td>False</td>\n",
              "      <td>False</td>\n",
              "      <td>False</td>\n",
              "      <td>False</td>\n",
              "      <td>False</td>\n",
              "      <td>4</td>\n",
              "      <td>16</td>\n",
              "      <td>4</td>\n",
              "      <td>False</td>\n",
              "      <td>False</td>\n",
              "      <td>False</td>\n",
              "      <td>False</td>\n",
              "      <td>False</td>\n",
              "      <td>False</td>\n",
              "      <td>4624.0</td>\n",
              "      <td>True</td>\n",
              "      <td>False</td>\n",
              "      <td>False</td>\n",
              "      <td>False</td>\n",
              "      <td>True</td>\n",
              "      <td>369664</td>\n",
              "      <td>2880</td>\n",
              "      <td>8294400</td>\n",
              "      <td>False</td>\n",
              "      <td>False</td>\n",
              "      <td>False</td>\n",
              "      <td>False</td>\n",
              "      <td>False</td>\n",
              "      <td>False</td>\n",
              "      <td>False</td>\n",
              "      <td>False</td>\n",
              "      <td>False</td>\n",
              "      <td>2</td>\n",
              "      <td>4</td>\n",
              "      <td>1764</td>\n",
              "      <td>0</td>\n",
              "      <td>0</td>\n",
              "      <td>0</td>\n",
              "      <td>2</td>\n",
              "      <td>4</td>\n",
              "      <td>False</td>\n",
              "      <td>False</td>\n",
              "      <td>False</td>\n",
              "      <td>0</td>\n",
              "      <td>0</td>\n",
              "      <td>1</td>\n",
              "      <td>0</td>\n",
              "      <td>0</td>\n",
              "      <td>0</td>\n",
              "    </tr>\n",
              "    <tr>\n",
              "      <th>3</th>\n",
              "      <td>4</td>\n",
              "      <td>70</td>\n",
              "      <td>RL</td>\n",
              "      <td>60.0</td>\n",
              "      <td>9550</td>\n",
              "      <td>Pave</td>\n",
              "      <td>NaN</td>\n",
              "      <td>IR1</td>\n",
              "      <td>Lvl</td>\n",
              "      <td>AllPub</td>\n",
              "      <td>Corner</td>\n",
              "      <td>Gtl</td>\n",
              "      <td>Crawfor</td>\n",
              "      <td>Norm</td>\n",
              "      <td>Norm</td>\n",
              "      <td>1Fam</td>\n",
              "      <td>2Story</td>\n",
              "      <td>7</td>\n",
              "      <td>5</td>\n",
              "      <td>1915</td>\n",
              "      <td>1970</td>\n",
              "      <td>Gable</td>\n",
              "      <td>CompShg</td>\n",
              "      <td>Wd Sdng</td>\n",
              "      <td>Wd Shng</td>\n",
              "      <td>None</td>\n",
              "      <td>0.0</td>\n",
              "      <td>TA</td>\n",
              "      <td>TA</td>\n",
              "      <td>TA</td>\n",
              "      <td>Gd</td>\n",
              "      <td>No</td>\n",
              "      <td>ALQ</td>\n",
              "      <td>216</td>\n",
              "      <td>Unf</td>\n",
              "      <td>0</td>\n",
              "      <td>540</td>\n",
              "      <td>756</td>\n",
              "      <td>GasA</td>\n",
              "      <td>Gd</td>\n",
              "      <td>Y</td>\n",
              "      <td>SBrkr</td>\n",
              "      <td>961</td>\n",
              "      <td>756</td>\n",
              "      <td>0</td>\n",
              "      <td>1717</td>\n",
              "      <td>1</td>\n",
              "      <td>0</td>\n",
              "      <td>1</td>\n",
              "      <td>0</td>\n",
              "      <td>3</td>\n",
              "      <td>1</td>\n",
              "      <td>Gd</td>\n",
              "      <td>7</td>\n",
              "      <td>Typ</td>\n",
              "      <td>1</td>\n",
              "      <td>Gd</td>\n",
              "      <td>Detchd</td>\n",
              "      <td>1998.0</td>\n",
              "      <td>Unf</td>\n",
              "      <td>3</td>\n",
              "      <td>642</td>\n",
              "      <td>TA</td>\n",
              "      <td>TA</td>\n",
              "      <td>Y</td>\n",
              "      <td>0</td>\n",
              "      <td>35</td>\n",
              "      <td>272</td>\n",
              "      <td>0</td>\n",
              "      <td>0</td>\n",
              "      <td>0</td>\n",
              "      <td>NaN</td>\n",
              "      <td>NaN</td>\n",
              "      <td>None</td>\n",
              "      <td>0</td>\n",
              "      <td>2</td>\n",
              "      <td>2006</td>\n",
              "      <td>WD</td>\n",
              "      <td>Abnorml</td>\n",
              "      <td>140000</td>\n",
              "      <td>False</td>\n",
              "      <td>11.849398</td>\n",
              "      <td>0</td>\n",
              "      <td>True</td>\n",
              "      <td>91</td>\n",
              "      <td>36</td>\n",
              "      <td>3276</td>\n",
              "      <td>8281</td>\n",
              "      <td>36</td>\n",
              "      <td>298116</td>\n",
              "      <td>726516</td>\n",
              "      <td>True</td>\n",
              "      <td>False</td>\n",
              "      <td>False</td>\n",
              "      <td>False</td>\n",
              "      <td>False</td>\n",
              "      <td>False</td>\n",
              "      <td>True</td>\n",
              "      <td>False</td>\n",
              "      <td>True</td>\n",
              "      <td>False</td>\n",
              "      <td>False</td>\n",
              "      <td>False</td>\n",
              "      <td>False</td>\n",
              "      <td>False</td>\n",
              "      <td>True</td>\n",
              "      <td>91202500</td>\n",
              "      <td>49</td>\n",
              "      <td>25</td>\n",
              "      <td>False</td>\n",
              "      <td>False</td>\n",
              "      <td>True</td>\n",
              "      <td>91</td>\n",
              "      <td>1933</td>\n",
              "      <td>3736489</td>\n",
              "      <td>1</td>\n",
              "      <td>2948089</td>\n",
              "      <td>True</td>\n",
              "      <td>False</td>\n",
              "      <td>False</td>\n",
              "      <td>False</td>\n",
              "      <td>0.714286</td>\n",
              "      <td>False</td>\n",
              "      <td>False</td>\n",
              "      <td>False</td>\n",
              "      <td>False</td>\n",
              "      <td>False</td>\n",
              "      <td>False</td>\n",
              "      <td>False</td>\n",
              "      <td>4</td>\n",
              "      <td>16</td>\n",
              "      <td>9</td>\n",
              "      <td>False</td>\n",
              "      <td>False</td>\n",
              "      <td>False</td>\n",
              "      <td>True</td>\n",
              "      <td>False</td>\n",
              "      <td>False</td>\n",
              "      <td>3600.0</td>\n",
              "      <td>True</td>\n",
              "      <td>False</td>\n",
              "      <td>False</td>\n",
              "      <td>False</td>\n",
              "      <td>True</td>\n",
              "      <td>412164</td>\n",
              "      <td>2575</td>\n",
              "      <td>6630625</td>\n",
              "      <td>False</td>\n",
              "      <td>False</td>\n",
              "      <td>False</td>\n",
              "      <td>False</td>\n",
              "      <td>False</td>\n",
              "      <td>False</td>\n",
              "      <td>False</td>\n",
              "      <td>False</td>\n",
              "      <td>False</td>\n",
              "      <td>2</td>\n",
              "      <td>4</td>\n",
              "      <td>1225</td>\n",
              "      <td>0</td>\n",
              "      <td>73984</td>\n",
              "      <td>0</td>\n",
              "      <td>2</td>\n",
              "      <td>4</td>\n",
              "      <td>True</td>\n",
              "      <td>False</td>\n",
              "      <td>False</td>\n",
              "      <td>1</td>\n",
              "      <td>0</td>\n",
              "      <td>0</td>\n",
              "      <td>0</td>\n",
              "      <td>0</td>\n",
              "      <td>0</td>\n",
              "    </tr>\n",
              "    <tr>\n",
              "      <th>4</th>\n",
              "      <td>5</td>\n",
              "      <td>60</td>\n",
              "      <td>RL</td>\n",
              "      <td>84.0</td>\n",
              "      <td>14260</td>\n",
              "      <td>Pave</td>\n",
              "      <td>NaN</td>\n",
              "      <td>IR1</td>\n",
              "      <td>Lvl</td>\n",
              "      <td>AllPub</td>\n",
              "      <td>FR2</td>\n",
              "      <td>Gtl</td>\n",
              "      <td>NoRidge</td>\n",
              "      <td>Norm</td>\n",
              "      <td>Norm</td>\n",
              "      <td>1Fam</td>\n",
              "      <td>2Story</td>\n",
              "      <td>8</td>\n",
              "      <td>5</td>\n",
              "      <td>2000</td>\n",
              "      <td>2000</td>\n",
              "      <td>Gable</td>\n",
              "      <td>CompShg</td>\n",
              "      <td>VinylSd</td>\n",
              "      <td>VinylSd</td>\n",
              "      <td>BrkFace</td>\n",
              "      <td>350.0</td>\n",
              "      <td>Gd</td>\n",
              "      <td>TA</td>\n",
              "      <td>Gd</td>\n",
              "      <td>TA</td>\n",
              "      <td>Av</td>\n",
              "      <td>GLQ</td>\n",
              "      <td>655</td>\n",
              "      <td>Unf</td>\n",
              "      <td>0</td>\n",
              "      <td>490</td>\n",
              "      <td>1145</td>\n",
              "      <td>GasA</td>\n",
              "      <td>Ex</td>\n",
              "      <td>Y</td>\n",
              "      <td>SBrkr</td>\n",
              "      <td>1145</td>\n",
              "      <td>1053</td>\n",
              "      <td>0</td>\n",
              "      <td>2198</td>\n",
              "      <td>1</td>\n",
              "      <td>0</td>\n",
              "      <td>2</td>\n",
              "      <td>1</td>\n",
              "      <td>4</td>\n",
              "      <td>1</td>\n",
              "      <td>Gd</td>\n",
              "      <td>9</td>\n",
              "      <td>Typ</td>\n",
              "      <td>1</td>\n",
              "      <td>TA</td>\n",
              "      <td>Attchd</td>\n",
              "      <td>2000.0</td>\n",
              "      <td>RFn</td>\n",
              "      <td>3</td>\n",
              "      <td>836</td>\n",
              "      <td>TA</td>\n",
              "      <td>TA</td>\n",
              "      <td>Y</td>\n",
              "      <td>192</td>\n",
              "      <td>84</td>\n",
              "      <td>0</td>\n",
              "      <td>0</td>\n",
              "      <td>0</td>\n",
              "      <td>0</td>\n",
              "      <td>NaN</td>\n",
              "      <td>NaN</td>\n",
              "      <td>None</td>\n",
              "      <td>0</td>\n",
              "      <td>12</td>\n",
              "      <td>2008</td>\n",
              "      <td>WD</td>\n",
              "      <td>Normal</td>\n",
              "      <td>250000</td>\n",
              "      <td>True</td>\n",
              "      <td>12.429216</td>\n",
              "      <td>2</td>\n",
              "      <td>False</td>\n",
              "      <td>8</td>\n",
              "      <td>8</td>\n",
              "      <td>64</td>\n",
              "      <td>64</td>\n",
              "      <td>8</td>\n",
              "      <td>512</td>\n",
              "      <td>1205685</td>\n",
              "      <td>True</td>\n",
              "      <td>False</td>\n",
              "      <td>False</td>\n",
              "      <td>False</td>\n",
              "      <td>True</td>\n",
              "      <td>False</td>\n",
              "      <td>True</td>\n",
              "      <td>False</td>\n",
              "      <td>True</td>\n",
              "      <td>False</td>\n",
              "      <td>False</td>\n",
              "      <td>False</td>\n",
              "      <td>False</td>\n",
              "      <td>True</td>\n",
              "      <td>False</td>\n",
              "      <td>203347600</td>\n",
              "      <td>64</td>\n",
              "      <td>25</td>\n",
              "      <td>False</td>\n",
              "      <td>False</td>\n",
              "      <td>False</td>\n",
              "      <td>0</td>\n",
              "      <td>2853</td>\n",
              "      <td>8139609</td>\n",
              "      <td>4</td>\n",
              "      <td>4831204</td>\n",
              "      <td>True</td>\n",
              "      <td>True</td>\n",
              "      <td>False</td>\n",
              "      <td>False</td>\n",
              "      <td>0.427948</td>\n",
              "      <td>False</td>\n",
              "      <td>False</td>\n",
              "      <td>False</td>\n",
              "      <td>False</td>\n",
              "      <td>False</td>\n",
              "      <td>False</td>\n",
              "      <td>False</td>\n",
              "      <td>4</td>\n",
              "      <td>16</td>\n",
              "      <td>9</td>\n",
              "      <td>False</td>\n",
              "      <td>False</td>\n",
              "      <td>False</td>\n",
              "      <td>False</td>\n",
              "      <td>False</td>\n",
              "      <td>False</td>\n",
              "      <td>7056.0</td>\n",
              "      <td>True</td>\n",
              "      <td>False</td>\n",
              "      <td>False</td>\n",
              "      <td>False</td>\n",
              "      <td>True</td>\n",
              "      <td>698896</td>\n",
              "      <td>3689</td>\n",
              "      <td>13608721</td>\n",
              "      <td>False</td>\n",
              "      <td>False</td>\n",
              "      <td>False</td>\n",
              "      <td>False</td>\n",
              "      <td>False</td>\n",
              "      <td>False</td>\n",
              "      <td>False</td>\n",
              "      <td>False</td>\n",
              "      <td>False</td>\n",
              "      <td>2</td>\n",
              "      <td>4</td>\n",
              "      <td>7056</td>\n",
              "      <td>36864</td>\n",
              "      <td>0</td>\n",
              "      <td>0</td>\n",
              "      <td>2</td>\n",
              "      <td>4</td>\n",
              "      <td>False</td>\n",
              "      <td>False</td>\n",
              "      <td>False</td>\n",
              "      <td>0</td>\n",
              "      <td>0</td>\n",
              "      <td>1</td>\n",
              "      <td>0</td>\n",
              "      <td>0</td>\n",
              "      <td>0</td>\n",
              "    </tr>\n",
              "  </tbody>\n",
              "</table>\n",
              "</div>"
            ],
            "text/plain": [
              "   Id  MSSubClass MSZoning  LotFrontage  LotArea Street Alley LotShape  \\\n",
              "0   1          60       RL         65.0     8450   Pave   NaN      Reg   \n",
              "1   2          20       RL         80.0     9600   Pave   NaN      Reg   \n",
              "2   3          60       RL         68.0    11250   Pave   NaN      IR1   \n",
              "3   4          70       RL         60.0     9550   Pave   NaN      IR1   \n",
              "4   5          60       RL         84.0    14260   Pave   NaN      IR1   \n",
              "\n",
              "  LandContour Utilities LotConfig LandSlope Neighborhood Condition1  \\\n",
              "0         Lvl    AllPub    Inside       Gtl      CollgCr       Norm   \n",
              "1         Lvl    AllPub       FR2       Gtl      Veenker      Feedr   \n",
              "2         Lvl    AllPub    Inside       Gtl      CollgCr       Norm   \n",
              "3         Lvl    AllPub    Corner       Gtl      Crawfor       Norm   \n",
              "4         Lvl    AllPub       FR2       Gtl      NoRidge       Norm   \n",
              "\n",
              "  Condition2 BldgType HouseStyle  OverallQual  OverallCond  YearBuilt  \\\n",
              "0       Norm     1Fam     2Story            7            5       2003   \n",
              "1       Norm     1Fam     1Story            6            8       1976   \n",
              "2       Norm     1Fam     2Story            7            5       2001   \n",
              "3       Norm     1Fam     2Story            7            5       1915   \n",
              "4       Norm     1Fam     2Story            8            5       2000   \n",
              "\n",
              "   YearRemodAdd RoofStyle RoofMatl Exterior1st Exterior2nd MasVnrType  \\\n",
              "0          2003     Gable  CompShg     VinylSd     VinylSd    BrkFace   \n",
              "1          1976     Gable  CompShg     MetalSd     MetalSd       None   \n",
              "2          2002     Gable  CompShg     VinylSd     VinylSd    BrkFace   \n",
              "3          1970     Gable  CompShg     Wd Sdng     Wd Shng       None   \n",
              "4          2000     Gable  CompShg     VinylSd     VinylSd    BrkFace   \n",
              "\n",
              "   MasVnrArea ExterQual ExterCond BsmtQual BsmtCond BsmtExposure BsmtFinType1  \\\n",
              "0       196.0        Gd        TA       Gd       TA           No          GLQ   \n",
              "1         0.0        TA        TA       Gd       TA           Gd          ALQ   \n",
              "2       162.0        Gd        TA       Gd       TA           Mn          GLQ   \n",
              "3         0.0        TA        TA       TA       Gd           No          ALQ   \n",
              "4       350.0        Gd        TA       Gd       TA           Av          GLQ   \n",
              "\n",
              "   BsmtFinSF1 BsmtFinType2  BsmtFinSF2  BsmtUnfSF  TotalBsmtSF Heating  \\\n",
              "0         706          Unf           0        150          856    GasA   \n",
              "1         978          Unf           0        284         1262    GasA   \n",
              "2         486          Unf           0        434          920    GasA   \n",
              "3         216          Unf           0        540          756    GasA   \n",
              "4         655          Unf           0        490         1145    GasA   \n",
              "\n",
              "  HeatingQC CentralAir Electrical  1stFlrSF  2ndFlrSF  LowQualFinSF  \\\n",
              "0        Ex          Y      SBrkr       856       854             0   \n",
              "1        Ex          Y      SBrkr      1262         0             0   \n",
              "2        Ex          Y      SBrkr       920       866             0   \n",
              "3        Gd          Y      SBrkr       961       756             0   \n",
              "4        Ex          Y      SBrkr      1145      1053             0   \n",
              "\n",
              "   GrLivArea  BsmtFullBath  BsmtHalfBath  FullBath  HalfBath  BedroomAbvGr  \\\n",
              "0       1710             1             0         2         1             3   \n",
              "1       1262             0             1         2         0             3   \n",
              "2       1786             1             0         2         1             3   \n",
              "3       1717             1             0         1         0             3   \n",
              "4       2198             1             0         2         1             4   \n",
              "\n",
              "   KitchenAbvGr KitchenQual  TotRmsAbvGrd Functional  Fireplaces FireplaceQu  \\\n",
              "0             1          Gd             8        Typ           0         NaN   \n",
              "1             1          TA             6        Typ           1          TA   \n",
              "2             1          Gd             6        Typ           1          TA   \n",
              "3             1          Gd             7        Typ           1          Gd   \n",
              "4             1          Gd             9        Typ           1          TA   \n",
              "\n",
              "  GarageType  GarageYrBlt GarageFinish  GarageCars  GarageArea GarageQual  \\\n",
              "0     Attchd       2003.0          RFn           2         548         TA   \n",
              "1     Attchd       1976.0          RFn           2         460         TA   \n",
              "2     Attchd       2001.0          RFn           2         608         TA   \n",
              "3     Detchd       1998.0          Unf           3         642         TA   \n",
              "4     Attchd       2000.0          RFn           3         836         TA   \n",
              "\n",
              "  GarageCond PavedDrive  WoodDeckSF  OpenPorchSF  EnclosedPorch  3SsnPorch  \\\n",
              "0         TA          Y           0           61              0          0   \n",
              "1         TA          Y         298            0              0          0   \n",
              "2         TA          Y           0           42              0          0   \n",
              "3         TA          Y           0           35            272          0   \n",
              "4         TA          Y         192           84              0          0   \n",
              "\n",
              "   ScreenPorch  PoolArea PoolQC Fence MiscFeature  MiscVal  MoSold  YrSold  \\\n",
              "0            0         0    NaN   NaN        None        0       2    2008   \n",
              "1            0         0    NaN   NaN        None        0       5    2007   \n",
              "2            0         0    NaN   NaN        None        0       9    2008   \n",
              "3            0         0    NaN   NaN        None        0       2    2006   \n",
              "4            0         0    NaN   NaN        None        0      12    2008   \n",
              "\n",
              "  SaleType SaleCondition  SalePrice  matching_exterior_type   logprice  \\\n",
              "0       WD        Normal     208500                    True  12.247694   \n",
              "1       WD        Normal     181500                    True  12.109011   \n",
              "2       WD        Normal     223500                    True  12.317167   \n",
              "3       WD       Abnorml     140000                   False  11.849398   \n",
              "4       WD        Normal     250000                    True  12.429216   \n",
              "\n",
              "   fullhalfbath_interaction  sold_pre_2008  age_sold  years_since_remod  \\\n",
              "0                         2          False         5                  5   \n",
              "1                         0           True        31                 31   \n",
              "2                         2          False         7                  6   \n",
              "3                         0           True        91                 36   \n",
              "4                         2          False         8                  8   \n",
              "\n",
              "   age_remod_interaction  age_sold_squared  years_since_remod_squared  \\\n",
              "0                     25                25                          5   \n",
              "1                    961               961                         31   \n",
              "2                     42                49                          6   \n",
              "3                   3276              8281                         36   \n",
              "4                     64                64                          8   \n",
              "\n",
              "   age_remod_interaction_squared  floor_interaction  mszoning_RL  mszoning_c  \\\n",
              "0                            125             731024         True       False   \n",
              "1                          29791                  0         True       False   \n",
              "2                            294             796720         True       False   \n",
              "3                         298116             726516         True       False   \n",
              "4                            512            1205685         True       False   \n",
              "\n",
              "   mszoning_RM  mszoning_FV  good_area  bad_area  one_fam_home  townhouse  \\\n",
              "0        False        False      False     False          True      False   \n",
              "1        False        False      False     False          True      False   \n",
              "2        False        False      False     False          True      False   \n",
              "3        False        False      False     False          True      False   \n",
              "4        False        False       True     False          True      False   \n",
              "\n",
              "   miscfeature_isnone  has_shed  new_home  saletype_cod  \\\n",
              "0                True     False     False         False   \n",
              "1                True     False     False         False   \n",
              "2                True     False     False         False   \n",
              "3                True     False     False         False   \n",
              "4                True     False     False         False   \n",
              "\n",
              "   saletype_lowdn_lowint  attached_garage  detchd_garage  lotarea_squared  \\\n",
              "0                  False             True          False         71402500   \n",
              "1                  False             True          False         92160000   \n",
              "2                  False             True          False        126562500   \n",
              "3                  False            False           True         91202500   \n",
              "4                  False             True          False        203347600   \n",
              "\n",
              "   overallqual_squared  overallcond_squared  is_start_of_school  is_spring  \\\n",
              "0                   49                   25               False      False   \n",
              "1                   36                   64               False       True   \n",
              "2                   49                   25                True      False   \n",
              "3                   49                   25               False      False   \n",
              "4                   64                   25               False      False   \n",
              "\n",
              "   remodeled?  age_remodeled_interaction_good  sq_footage_fsb  \\\n",
              "0       False                               0            2416   \n",
              "1       False                               0            2240   \n",
              "2        True                               7            2272   \n",
              "3        True                              91            1933   \n",
              "4       False                               0            2853   \n",
              "\n",
              "   sqfootage_fsb_squared  fullbath_squared  grlivarea_squared  heating_gasa  \\\n",
              "0                5837056                 4            2924100          True   \n",
              "1                5017600                 4            1592644          True   \n",
              "2                5161984                 4            3189796          True   \n",
              "3                3736489                 1            2948089          True   \n",
              "4                8139609                 4            4831204          True   \n",
              "\n",
              "   heating_qual_ex  heating_qual_pr  heating_qual_fa  bsmt_unfin_percent  \\\n",
              "0             True            False            False            0.175234   \n",
              "1             True            False            False            0.225040   \n",
              "2             True            False            False            0.471739   \n",
              "3            False            False            False            0.714286   \n",
              "4             True            False            False            0.427948   \n",
              "\n",
              "   finished_bsmt  pos1_feedr_art  pos2_feedr_art  pos1_pos2_sum1  \\\n",
              "0          False           False           False           False   \n",
              "1          False            True           False            True   \n",
              "2          False           False           False           False   \n",
              "3          False           False           False           False   \n",
              "4          False           False           False           False   \n",
              "\n",
              "   pos1_pos2_sum2  onehalf_fin  onehalf_unfin  kitchen_numeric  \\\n",
              "0           False        False          False                4   \n",
              "1           False        False          False                3   \n",
              "2           False        False          False                4   \n",
              "3           False        False          False                4   \n",
              "4           False        False          False                4   \n",
              "\n",
              "   kitchen_numeric_squared  garage_cars_squared  atypical_function  \\\n",
              "0                       16                    4              False   \n",
              "1                        9                    4              False   \n",
              "2                       16                    4              False   \n",
              "3                       16                    9              False   \n",
              "4                       16                    9              False   \n",
              "\n",
              "   exterior_exc  salecond_partial  salecond_abnorml  no_fireplace  \\\n",
              "0         False             False             False          True   \n",
              "1         False             False             False         False   \n",
              "2         False             False             False         False   \n",
              "3         False             False              True         False   \n",
              "4         False             False             False         False   \n",
              "\n",
              "   two_or_more_fireplaces  lotfrontage_squared  electrical_is_brkr  \\\n",
              "0                   False               4225.0                True   \n",
              "1                   False               6400.0                True   \n",
              "2                   False               4624.0                True   \n",
              "3                   False               3600.0                True   \n",
              "4                   False               7056.0                True   \n",
              "\n",
              "   electrical_is_F  electrical_is_A  electrical_is_P  overallcond_5over  \\\n",
              "0            False            False            False               True   \n",
              "1            False            False            False               True   \n",
              "2            False            False            False               True   \n",
              "3            False            False            False               True   \n",
              "4            False            False            False               True   \n",
              "\n",
              "   garagearea_squared  sq_footage_fsbg  sq_footage_fsbg_squared  banked_land  \\\n",
              "0              300304             2964                  8785296        False   \n",
              "1              211600             2700                  7290000        False   \n",
              "2              369664             2880                  8294400        False   \n",
              "3              412164             2575                  6630625        False   \n",
              "4              698896             3689                 13608721        False   \n",
              "\n",
              "   HLS_land  landslope_mod_sev  land_interaction  salecond_adjland  \\\n",
              "0     False              False             False             False   \n",
              "1     False              False             False             False   \n",
              "2     False              False             False             False   \n",
              "3     False              False             False             False   \n",
              "4     False              False             False             False   \n",
              "\n",
              "   salecond_alloca  salecond_family  has_pool  pool_exc  paved_drive_numeric  \\\n",
              "0            False            False     False     False                    2   \n",
              "1            False            False     False     False                    2   \n",
              "2            False            False     False     False                    2   \n",
              "3            False            False     False     False                    2   \n",
              "4            False            False     False     False                    2   \n",
              "\n",
              "   paved_drive_squared  OpenPorchSF_squared  WoodDeckSF_squared  \\\n",
              "0                    4                 3721                   0   \n",
              "1                    4                    0               88804   \n",
              "2                    4                 1764                   0   \n",
              "3                    4                 1225                   0   \n",
              "4                    4                 7056               36864   \n",
              "\n",
              "   EnclosedPorch_squared  ScreenPorch_squared  garageQual_numeric  \\\n",
              "0                      0                    0                   2   \n",
              "1                      0                    0                   2   \n",
              "2                      0                    0                   2   \n",
              "3                  73984                    0                   2   \n",
              "4                      0                    0                   2   \n",
              "\n",
              "   garageQual_numeric_squared  garage_unf  garage_Fin  no_central_air  \\\n",
              "0                           4       False       False           False   \n",
              "1                           4       False       False           False   \n",
              "2                           4       False       False           False   \n",
              "3                           4        True       False           False   \n",
              "4                           4       False       False           False   \n",
              "\n",
              "   Foundation__BrkTil  Foundation__CBlock  Foundation__PConc  \\\n",
              "0                   0                   0                  1   \n",
              "1                   0                   1                  0   \n",
              "2                   0                   0                  1   \n",
              "3                   1                   0                  0   \n",
              "4                   0                   0                  1   \n",
              "\n",
              "   Foundation__Slab  Foundation__Stone  Foundation__Wood  \n",
              "0                 0                  0                 0  \n",
              "1                 0                  0                 0  \n",
              "2                 0                  0                 0  \n",
              "3                 0                  0                 0  \n",
              "4                 0                  0                 0  "
            ]
          },
          "metadata": {
            "tags": []
          },
          "execution_count": 495
        }
      ]
    },
    {
      "metadata": {
        "id": "vdo-iSx8_Gm_",
        "colab_type": "code",
        "colab": {
          "base_uri": "https://localhost:8080/",
          "height": 34
        },
        "outputId": "d519cc25-b03b-4622-fdbe-22bd17ffb6ec"
      },
      "cell_type": "code",
      "source": [
        "from sklearn.ensemble import GradientBoostingRegressor\n",
        "from sklearn.ensemble import RandomForestRegressor\n",
        "from sklearn.linear_model import Ridge\n",
        "from sklearn.linear_model import Lasso\n",
        "\n",
        "features = ['LotArea','OverallQual', 'OverallCond', 'GrLivArea','GarageArea', 'FullBath', 'HalfBath', 'fullhalfbath_interaction', 'BedroomAbvGr',\n",
        "            'sold_pre_2008', 'age_sold','age_sold_squared', 'years_since_remod', 'age_remod_interaction', '1stFlrSF', '2ndFlrSF', 'floor_interaction', 'mszoning_RL', 'mszoning_c',\n",
        "            'mszoning_RM', 'mszoning_FV', 'good_area', 'bad_area', 'one_fam_home', 'townhouse', 'miscfeature_isnone', 'has_shed', 'new_home', 'attached_garage',\n",
        "            'detchd_garage', 'lotarea_squared', 'overallqual_squared', 'overallcond_squared', 'is_start_of_school', 'is_spring', 'remodeled?', 'age_remodeled_interaction_good',\n",
        "            'sq_footage_fsb', 'sqfootage_fsb_squared', 'grlivarea_squared', 'heating_qual_ex', 'heating_qual_pr', 'heating_qual_fa', 'finished_bsmt', 'pos1_feedr_art', 'pos2_feedr_art',\n",
        "            'pos1_pos2_sum1', 'pos1_pos2_sum2', 'kitchen_numeric_squared', 'garage_cars_squared', 'atypical_function', 'exterior_exc', 'salecond_abnorml', 'no_fireplace', 'lotfrontage_squared',\n",
        "            'garagearea_squared', 'sq_footage_fsbg', 'banked_land', 'HLS_land', 'salecond_family', 'paved_drive_numeric', 'paved_drive_squared', 'OpenPorchSF', 'WoodDeckSF', 'EnclosedPorch',\n",
        "            'ScreenPorch', 'garageQual_numeric_squared', 'garage_unf', 'garage_Fin', 'no_central_air', 'Foundation__CBlock', 'Foundation__PConc', 'Foundation__Slab', 'Foundation__Stone', 'Foundation__Wood']\n",
        "\n",
        "X = df[features].values\n",
        "y = df.logprice\n",
        "\n",
        "X_train, X_test, y_train, y_test = train_test_split(X, y, test_size=0.25, random_state=42)\n",
        "\n",
        "\n",
        "lr = LinearRegression()\n",
        "lr.fit(X_train, y_train)\n",
        "\n",
        "\n",
        "oos_pred = lr.predict(X_test)\n",
        "oos_mse = mean_squared_error(y_test, oos_pred)\n",
        "oos_r2 = r2_score(y_test, oos_pred)\n",
        "rmse = (np.sqrt(oos_mse))\n",
        "rmse, oos_r2"
      ],
      "execution_count": 517,
      "outputs": [
        {
          "output_type": "execute_result",
          "data": {
            "text/plain": [
              "(0.11361714411204174, 0.9254510305704424)"
            ]
          },
          "metadata": {
            "tags": []
          },
          "execution_count": 517
        }
      ]
    },
    {
      "metadata": {
        "id": "eq0KMvP8_rWn",
        "colab_type": "code",
        "colab": {
          "base_uri": "https://localhost:8080/",
          "height": 104
        },
        "outputId": "48e47ecf-fc64-434b-8ea4-ebba3a23e82f"
      },
      "cell_type": "code",
      "source": [
        "from sklearn.ensemble import GradientBoostingRegressor\n",
        "from sklearn.ensemble import RandomForestRegressor\n",
        "from sklearn.linear_model import Ridge\n",
        "from sklearn.linear_model import Lasso\n",
        "\n",
        "features = ['LotArea','OverallQual', 'OverallCond', 'GrLivArea','GarageArea', 'FullBath', 'HalfBath', 'fullhalfbath_interaction', 'BedroomAbvGr',\n",
        "            'sold_pre_2008', 'age_sold','age_sold_squared', 'years_since_remod', 'age_remod_interaction', '1stFlrSF', '2ndFlrSF', 'floor_interaction', 'mszoning_RL', 'mszoning_c',\n",
        "            'mszoning_RM', 'mszoning_FV', 'good_area', 'bad_area', 'one_fam_home', 'townhouse', 'miscfeature_isnone', 'has_shed', 'new_home', 'attached_garage',\n",
        "            'detchd_garage', 'lotarea_squared', 'overallqual_squared', 'overallcond_squared', 'is_start_of_school', 'is_spring', 'remodeled?', 'age_remodeled_interaction_good',\n",
        "            'sq_footage_fsb', 'sqfootage_fsb_squared', 'grlivarea_squared', 'heating_qual_ex', 'heating_qual_pr', 'heating_qual_fa', 'finished_bsmt', 'pos1_feedr_art', 'pos2_feedr_art',\n",
        "            'pos1_pos2_sum1', 'pos1_pos2_sum2', 'kitchen_numeric_squared', 'garage_cars_squared', 'atypical_function', 'exterior_exc', 'salecond_abnorml', 'no_fireplace', 'lotfrontage_squared',\n",
        "            'garagearea_squared', 'sq_footage_fsbg', 'banked_land', 'HLS_land', 'salecond_family', 'paved_drive_numeric', 'paved_drive_squared', 'OpenPorchSF', 'WoodDeckSF', 'EnclosedPorch',\n",
        "            'ScreenPorch', 'garageQual_numeric_squared', 'garage_unf', 'garage_Fin', 'no_central_air', 'Foundation__CBlock', 'Foundation__PConc', 'Foundation__Slab', 'Foundation__Stone', 'Foundation__Wood']\n",
        "\n",
        "X = df[features].values\n",
        "y = df.logprice\n",
        "\n",
        "X_train, X_test, y_train, y_test = train_test_split(X, y, test_size=0.25, random_state=42)\n",
        "\n",
        "\n",
        "lr = Ridge()\n",
        "lr.fit(X_train, y_train)\n",
        "\n",
        "\n",
        "oos_pred = lr.predict(X_test)\n",
        "oos_mse = mean_squared_error(y_test, oos_pred)\n",
        "oos_r2 = r2_score(y_test, oos_pred)\n",
        "rmse = (np.sqrt(oos_mse))\n",
        "rmse, oos_r2"
      ],
      "execution_count": 516,
      "outputs": [
        {
          "output_type": "stream",
          "text": [
            "/usr/local/lib/python3.6/dist-packages/sklearn/linear_model/ridge.py:125: LinAlgWarning: scipy.linalg.solve\n",
            "Ill-conditioned matrix detected. Result is not guaranteed to be accurate.\n",
            "Reciprocal condition number2.676626e-22\n",
            "  overwrite_a=True).T\n"
          ],
          "name": "stderr"
        },
        {
          "output_type": "execute_result",
          "data": {
            "text/plain": [
              "(0.1149007310643315, 0.9237570852872352)"
            ]
          },
          "metadata": {
            "tags": []
          },
          "execution_count": 516
        }
      ]
    },
    {
      "metadata": {
        "id": "aFlCJbnqAWWN",
        "colab_type": "code",
        "colab": {
          "base_uri": "https://localhost:8080/",
          "height": 34
        },
        "outputId": "dfb844e8-f4cc-487d-845c-1850a4f49e04"
      },
      "cell_type": "code",
      "source": [
        "from sklearn.ensemble import GradientBoostingRegressor\n",
        "from sklearn.ensemble import RandomForestRegressor\n",
        "from sklearn.linear_model import Ridge\n",
        "from sklearn.linear_model import Lasso\n",
        "\n",
        "features = ['LotArea','OverallQual', 'OverallCond', 'GrLivArea','GarageArea', 'FullBath', 'HalfBath', 'fullhalfbath_interaction', 'BedroomAbvGr',\n",
        "            'sold_pre_2008', 'age_sold','age_sold_squared', 'years_since_remod', 'age_remod_interaction', '1stFlrSF', '2ndFlrSF', 'floor_interaction', 'mszoning_RL', 'mszoning_c',\n",
        "            'mszoning_RM', 'mszoning_FV', 'good_area', 'bad_area', 'one_fam_home', 'townhouse', 'miscfeature_isnone', 'has_shed', 'new_home', 'attached_garage',\n",
        "            'detchd_garage', 'lotarea_squared', 'overallqual_squared', 'overallcond_squared', 'is_start_of_school', 'is_spring', 'remodeled?', 'age_remodeled_interaction_good',\n",
        "            'sq_footage_fsb', 'sqfootage_fsb_squared', 'grlivarea_squared', 'heating_qual_ex', 'heating_qual_pr', 'heating_qual_fa', 'finished_bsmt', 'pos1_feedr_art', 'pos2_feedr_art',\n",
        "            'pos1_pos2_sum1', 'pos1_pos2_sum2', 'kitchen_numeric_squared', 'garage_cars_squared', 'atypical_function', 'exterior_exc', 'salecond_abnorml', 'no_fireplace', 'lotfrontage_squared',\n",
        "            'garagearea_squared', 'sq_footage_fsbg', 'banked_land', 'HLS_land', 'salecond_family', 'paved_drive_numeric', 'paved_drive_squared', 'OpenPorchSF', 'WoodDeckSF', 'EnclosedPorch',\n",
        "            'ScreenPorch', 'garageQual_numeric_squared', 'garage_unf', 'garage_Fin', 'no_central_air', 'Foundation__CBlock', 'Foundation__PConc', 'Foundation__Slab', 'Foundation__Stone', 'Foundation__Wood']\n",
        "\n",
        "X = df[features].values\n",
        "y = df.logprice\n",
        "\n",
        "X_train, X_test, y_train, y_test = train_test_split(X, y, test_size=0.25, random_state=42)\n",
        "\n",
        "\n",
        "lr = LinearRegression()\n",
        "lr.fit(X_train, y_train)\n",
        "\n",
        "\n",
        "oos_pred = lr.predict(X_test)\n",
        "oos_mse = mean_squared_error(y_test, oos_pred)\n",
        "oos_r2 = r2_score(y_test, oos_pred)\n",
        "rmse = (np.sqrt(oos_mse))\n",
        "rmse, oos_r2"
      ],
      "execution_count": 524,
      "outputs": [
        {
          "output_type": "execute_result",
          "data": {
            "text/plain": [
              "(0.11361714411204174, 0.9254510305704424)"
            ]
          },
          "metadata": {
            "tags": []
          },
          "execution_count": 524
        }
      ]
    },
    {
      "metadata": {
        "id": "zHmu0AOmAhSJ",
        "colab_type": "code",
        "colab": {
          "base_uri": "https://localhost:8080/",
          "height": 217
        },
        "outputId": "aa41447d-fe2c-4e43-b324-ffd0afd2c97c"
      },
      "cell_type": "code",
      "source": [
        "df.head()"
      ],
      "execution_count": 526,
      "outputs": [
        {
          "output_type": "execute_result",
          "data": {
            "text/html": [
              "<div>\n",
              "<style scoped>\n",
              "    .dataframe tbody tr th:only-of-type {\n",
              "        vertical-align: middle;\n",
              "    }\n",
              "\n",
              "    .dataframe tbody tr th {\n",
              "        vertical-align: top;\n",
              "    }\n",
              "\n",
              "    .dataframe thead th {\n",
              "        text-align: right;\n",
              "    }\n",
              "</style>\n",
              "<table border=\"1\" class=\"dataframe\">\n",
              "  <thead>\n",
              "    <tr style=\"text-align: right;\">\n",
              "      <th></th>\n",
              "      <th>Id</th>\n",
              "      <th>MSSubClass</th>\n",
              "      <th>MSZoning</th>\n",
              "      <th>LotFrontage</th>\n",
              "      <th>LotArea</th>\n",
              "      <th>Street</th>\n",
              "      <th>Alley</th>\n",
              "      <th>LotShape</th>\n",
              "      <th>LandContour</th>\n",
              "      <th>Utilities</th>\n",
              "      <th>LotConfig</th>\n",
              "      <th>LandSlope</th>\n",
              "      <th>Neighborhood</th>\n",
              "      <th>Condition1</th>\n",
              "      <th>Condition2</th>\n",
              "      <th>BldgType</th>\n",
              "      <th>HouseStyle</th>\n",
              "      <th>OverallQual</th>\n",
              "      <th>OverallCond</th>\n",
              "      <th>YearBuilt</th>\n",
              "      <th>YearRemodAdd</th>\n",
              "      <th>RoofStyle</th>\n",
              "      <th>RoofMatl</th>\n",
              "      <th>Exterior1st</th>\n",
              "      <th>Exterior2nd</th>\n",
              "      <th>MasVnrType</th>\n",
              "      <th>MasVnrArea</th>\n",
              "      <th>ExterQual</th>\n",
              "      <th>ExterCond</th>\n",
              "      <th>BsmtQual</th>\n",
              "      <th>BsmtCond</th>\n",
              "      <th>BsmtExposure</th>\n",
              "      <th>BsmtFinType1</th>\n",
              "      <th>BsmtFinSF1</th>\n",
              "      <th>BsmtFinType2</th>\n",
              "      <th>BsmtFinSF2</th>\n",
              "      <th>BsmtUnfSF</th>\n",
              "      <th>TotalBsmtSF</th>\n",
              "      <th>Heating</th>\n",
              "      <th>HeatingQC</th>\n",
              "      <th>CentralAir</th>\n",
              "      <th>Electrical</th>\n",
              "      <th>1stFlrSF</th>\n",
              "      <th>2ndFlrSF</th>\n",
              "      <th>LowQualFinSF</th>\n",
              "      <th>GrLivArea</th>\n",
              "      <th>BsmtFullBath</th>\n",
              "      <th>BsmtHalfBath</th>\n",
              "      <th>FullBath</th>\n",
              "      <th>HalfBath</th>\n",
              "      <th>BedroomAbvGr</th>\n",
              "      <th>KitchenAbvGr</th>\n",
              "      <th>KitchenQual</th>\n",
              "      <th>TotRmsAbvGrd</th>\n",
              "      <th>Functional</th>\n",
              "      <th>Fireplaces</th>\n",
              "      <th>FireplaceQu</th>\n",
              "      <th>GarageType</th>\n",
              "      <th>GarageYrBlt</th>\n",
              "      <th>GarageFinish</th>\n",
              "      <th>GarageCars</th>\n",
              "      <th>GarageArea</th>\n",
              "      <th>GarageQual</th>\n",
              "      <th>GarageCond</th>\n",
              "      <th>PavedDrive</th>\n",
              "      <th>WoodDeckSF</th>\n",
              "      <th>OpenPorchSF</th>\n",
              "      <th>EnclosedPorch</th>\n",
              "      <th>3SsnPorch</th>\n",
              "      <th>ScreenPorch</th>\n",
              "      <th>PoolArea</th>\n",
              "      <th>PoolQC</th>\n",
              "      <th>Fence</th>\n",
              "      <th>MiscFeature</th>\n",
              "      <th>MiscVal</th>\n",
              "      <th>MoSold</th>\n",
              "      <th>YrSold</th>\n",
              "      <th>SaleType</th>\n",
              "      <th>SaleCondition</th>\n",
              "      <th>SalePrice</th>\n",
              "      <th>matching_exterior_type</th>\n",
              "      <th>logprice</th>\n",
              "      <th>fullhalfbath_interaction</th>\n",
              "      <th>sold_pre_2008</th>\n",
              "      <th>age_sold</th>\n",
              "      <th>years_since_remod</th>\n",
              "      <th>age_remod_interaction</th>\n",
              "      <th>age_sold_squared</th>\n",
              "      <th>years_since_remod_squared</th>\n",
              "      <th>age_remod_interaction_squared</th>\n",
              "      <th>floor_interaction</th>\n",
              "      <th>mszoning_RL</th>\n",
              "      <th>mszoning_c</th>\n",
              "      <th>mszoning_RM</th>\n",
              "      <th>mszoning_FV</th>\n",
              "      <th>good_area</th>\n",
              "      <th>bad_area</th>\n",
              "      <th>one_fam_home</th>\n",
              "      <th>townhouse</th>\n",
              "      <th>miscfeature_isnone</th>\n",
              "      <th>has_shed</th>\n",
              "      <th>new_home</th>\n",
              "      <th>saletype_cod</th>\n",
              "      <th>saletype_lowdn_lowint</th>\n",
              "      <th>attached_garage</th>\n",
              "      <th>detchd_garage</th>\n",
              "      <th>lotarea_squared</th>\n",
              "      <th>overallqual_squared</th>\n",
              "      <th>overallcond_squared</th>\n",
              "      <th>is_start_of_school</th>\n",
              "      <th>is_spring</th>\n",
              "      <th>remodeled?</th>\n",
              "      <th>age_remodeled_interaction_good</th>\n",
              "      <th>sq_footage_fsb</th>\n",
              "      <th>sqfootage_fsb_squared</th>\n",
              "      <th>fullbath_squared</th>\n",
              "      <th>grlivarea_squared</th>\n",
              "      <th>heating_gasa</th>\n",
              "      <th>heating_qual_ex</th>\n",
              "      <th>heating_qual_pr</th>\n",
              "      <th>heating_qual_fa</th>\n",
              "      <th>bsmt_unfin_percent</th>\n",
              "      <th>finished_bsmt</th>\n",
              "      <th>pos1_feedr_art</th>\n",
              "      <th>pos2_feedr_art</th>\n",
              "      <th>pos1_pos2_sum1</th>\n",
              "      <th>pos1_pos2_sum2</th>\n",
              "      <th>onehalf_fin</th>\n",
              "      <th>onehalf_unfin</th>\n",
              "      <th>kitchen_numeric</th>\n",
              "      <th>kitchen_numeric_squared</th>\n",
              "      <th>garage_cars_squared</th>\n",
              "      <th>atypical_function</th>\n",
              "      <th>exterior_exc</th>\n",
              "      <th>salecond_partial</th>\n",
              "      <th>salecond_abnorml</th>\n",
              "      <th>no_fireplace</th>\n",
              "      <th>two_or_more_fireplaces</th>\n",
              "      <th>lotfrontage_squared</th>\n",
              "      <th>electrical_is_brkr</th>\n",
              "      <th>electrical_is_F</th>\n",
              "      <th>electrical_is_A</th>\n",
              "      <th>electrical_is_P</th>\n",
              "      <th>overallcond_5over</th>\n",
              "      <th>garagearea_squared</th>\n",
              "      <th>sq_footage_fsbg</th>\n",
              "      <th>sq_footage_fsbg_squared</th>\n",
              "      <th>banked_land</th>\n",
              "      <th>HLS_land</th>\n",
              "      <th>landslope_mod_sev</th>\n",
              "      <th>land_interaction</th>\n",
              "      <th>salecond_adjland</th>\n",
              "      <th>salecond_alloca</th>\n",
              "      <th>salecond_family</th>\n",
              "      <th>has_pool</th>\n",
              "      <th>pool_exc</th>\n",
              "      <th>paved_drive_numeric</th>\n",
              "      <th>paved_drive_squared</th>\n",
              "      <th>OpenPorchSF_squared</th>\n",
              "      <th>WoodDeckSF_squared</th>\n",
              "      <th>EnclosedPorch_squared</th>\n",
              "      <th>ScreenPorch_squared</th>\n",
              "      <th>garageQual_numeric</th>\n",
              "      <th>garageQual_numeric_squared</th>\n",
              "      <th>garage_unf</th>\n",
              "      <th>garage_Fin</th>\n",
              "      <th>no_central_air</th>\n",
              "      <th>Foundation__BrkTil</th>\n",
              "      <th>Foundation__CBlock</th>\n",
              "      <th>Foundation__PConc</th>\n",
              "      <th>Foundation__Slab</th>\n",
              "      <th>Foundation__Stone</th>\n",
              "      <th>Foundation__Wood</th>\n",
              "    </tr>\n",
              "  </thead>\n",
              "  <tbody>\n",
              "    <tr>\n",
              "      <th>0</th>\n",
              "      <td>1</td>\n",
              "      <td>60</td>\n",
              "      <td>RL</td>\n",
              "      <td>65.0</td>\n",
              "      <td>8450</td>\n",
              "      <td>Pave</td>\n",
              "      <td>NaN</td>\n",
              "      <td>Reg</td>\n",
              "      <td>Lvl</td>\n",
              "      <td>AllPub</td>\n",
              "      <td>Inside</td>\n",
              "      <td>Gtl</td>\n",
              "      <td>CollgCr</td>\n",
              "      <td>Norm</td>\n",
              "      <td>Norm</td>\n",
              "      <td>1Fam</td>\n",
              "      <td>2Story</td>\n",
              "      <td>7</td>\n",
              "      <td>5</td>\n",
              "      <td>2003</td>\n",
              "      <td>2003</td>\n",
              "      <td>Gable</td>\n",
              "      <td>CompShg</td>\n",
              "      <td>VinylSd</td>\n",
              "      <td>VinylSd</td>\n",
              "      <td>BrkFace</td>\n",
              "      <td>196.0</td>\n",
              "      <td>Gd</td>\n",
              "      <td>TA</td>\n",
              "      <td>Gd</td>\n",
              "      <td>TA</td>\n",
              "      <td>No</td>\n",
              "      <td>GLQ</td>\n",
              "      <td>706</td>\n",
              "      <td>Unf</td>\n",
              "      <td>0</td>\n",
              "      <td>150</td>\n",
              "      <td>856</td>\n",
              "      <td>GasA</td>\n",
              "      <td>Ex</td>\n",
              "      <td>Y</td>\n",
              "      <td>SBrkr</td>\n",
              "      <td>856</td>\n",
              "      <td>854</td>\n",
              "      <td>0</td>\n",
              "      <td>1710</td>\n",
              "      <td>1</td>\n",
              "      <td>0</td>\n",
              "      <td>2</td>\n",
              "      <td>1</td>\n",
              "      <td>3</td>\n",
              "      <td>1</td>\n",
              "      <td>Gd</td>\n",
              "      <td>8</td>\n",
              "      <td>Typ</td>\n",
              "      <td>0</td>\n",
              "      <td>NaN</td>\n",
              "      <td>Attchd</td>\n",
              "      <td>2003.0</td>\n",
              "      <td>RFn</td>\n",
              "      <td>2</td>\n",
              "      <td>548</td>\n",
              "      <td>TA</td>\n",
              "      <td>TA</td>\n",
              "      <td>Y</td>\n",
              "      <td>0</td>\n",
              "      <td>61</td>\n",
              "      <td>0</td>\n",
              "      <td>0</td>\n",
              "      <td>0</td>\n",
              "      <td>0</td>\n",
              "      <td>NaN</td>\n",
              "      <td>NaN</td>\n",
              "      <td>None</td>\n",
              "      <td>0</td>\n",
              "      <td>2</td>\n",
              "      <td>2008</td>\n",
              "      <td>WD</td>\n",
              "      <td>Normal</td>\n",
              "      <td>208500</td>\n",
              "      <td>True</td>\n",
              "      <td>12.247694</td>\n",
              "      <td>2</td>\n",
              "      <td>False</td>\n",
              "      <td>5</td>\n",
              "      <td>5</td>\n",
              "      <td>25</td>\n",
              "      <td>25</td>\n",
              "      <td>5</td>\n",
              "      <td>125</td>\n",
              "      <td>731024</td>\n",
              "      <td>True</td>\n",
              "      <td>False</td>\n",
              "      <td>False</td>\n",
              "      <td>False</td>\n",
              "      <td>False</td>\n",
              "      <td>False</td>\n",
              "      <td>True</td>\n",
              "      <td>False</td>\n",
              "      <td>True</td>\n",
              "      <td>False</td>\n",
              "      <td>False</td>\n",
              "      <td>False</td>\n",
              "      <td>False</td>\n",
              "      <td>True</td>\n",
              "      <td>False</td>\n",
              "      <td>71402500</td>\n",
              "      <td>49</td>\n",
              "      <td>25</td>\n",
              "      <td>False</td>\n",
              "      <td>False</td>\n",
              "      <td>False</td>\n",
              "      <td>0</td>\n",
              "      <td>2416</td>\n",
              "      <td>5837056</td>\n",
              "      <td>4</td>\n",
              "      <td>2924100</td>\n",
              "      <td>True</td>\n",
              "      <td>True</td>\n",
              "      <td>False</td>\n",
              "      <td>False</td>\n",
              "      <td>0.175234</td>\n",
              "      <td>False</td>\n",
              "      <td>False</td>\n",
              "      <td>False</td>\n",
              "      <td>False</td>\n",
              "      <td>False</td>\n",
              "      <td>False</td>\n",
              "      <td>False</td>\n",
              "      <td>4</td>\n",
              "      <td>16</td>\n",
              "      <td>4</td>\n",
              "      <td>False</td>\n",
              "      <td>False</td>\n",
              "      <td>False</td>\n",
              "      <td>False</td>\n",
              "      <td>True</td>\n",
              "      <td>False</td>\n",
              "      <td>4225.0</td>\n",
              "      <td>True</td>\n",
              "      <td>False</td>\n",
              "      <td>False</td>\n",
              "      <td>False</td>\n",
              "      <td>True</td>\n",
              "      <td>300304</td>\n",
              "      <td>2964</td>\n",
              "      <td>8785296</td>\n",
              "      <td>False</td>\n",
              "      <td>False</td>\n",
              "      <td>False</td>\n",
              "      <td>False</td>\n",
              "      <td>False</td>\n",
              "      <td>False</td>\n",
              "      <td>False</td>\n",
              "      <td>False</td>\n",
              "      <td>False</td>\n",
              "      <td>2</td>\n",
              "      <td>4</td>\n",
              "      <td>3721</td>\n",
              "      <td>0</td>\n",
              "      <td>0</td>\n",
              "      <td>0</td>\n",
              "      <td>2</td>\n",
              "      <td>4</td>\n",
              "      <td>False</td>\n",
              "      <td>False</td>\n",
              "      <td>False</td>\n",
              "      <td>0</td>\n",
              "      <td>0</td>\n",
              "      <td>1</td>\n",
              "      <td>0</td>\n",
              "      <td>0</td>\n",
              "      <td>0</td>\n",
              "    </tr>\n",
              "    <tr>\n",
              "      <th>1</th>\n",
              "      <td>2</td>\n",
              "      <td>20</td>\n",
              "      <td>RL</td>\n",
              "      <td>80.0</td>\n",
              "      <td>9600</td>\n",
              "      <td>Pave</td>\n",
              "      <td>NaN</td>\n",
              "      <td>Reg</td>\n",
              "      <td>Lvl</td>\n",
              "      <td>AllPub</td>\n",
              "      <td>FR2</td>\n",
              "      <td>Gtl</td>\n",
              "      <td>Veenker</td>\n",
              "      <td>Feedr</td>\n",
              "      <td>Norm</td>\n",
              "      <td>1Fam</td>\n",
              "      <td>1Story</td>\n",
              "      <td>6</td>\n",
              "      <td>8</td>\n",
              "      <td>1976</td>\n",
              "      <td>1976</td>\n",
              "      <td>Gable</td>\n",
              "      <td>CompShg</td>\n",
              "      <td>MetalSd</td>\n",
              "      <td>MetalSd</td>\n",
              "      <td>None</td>\n",
              "      <td>0.0</td>\n",
              "      <td>TA</td>\n",
              "      <td>TA</td>\n",
              "      <td>Gd</td>\n",
              "      <td>TA</td>\n",
              "      <td>Gd</td>\n",
              "      <td>ALQ</td>\n",
              "      <td>978</td>\n",
              "      <td>Unf</td>\n",
              "      <td>0</td>\n",
              "      <td>284</td>\n",
              "      <td>1262</td>\n",
              "      <td>GasA</td>\n",
              "      <td>Ex</td>\n",
              "      <td>Y</td>\n",
              "      <td>SBrkr</td>\n",
              "      <td>1262</td>\n",
              "      <td>0</td>\n",
              "      <td>0</td>\n",
              "      <td>1262</td>\n",
              "      <td>0</td>\n",
              "      <td>1</td>\n",
              "      <td>2</td>\n",
              "      <td>0</td>\n",
              "      <td>3</td>\n",
              "      <td>1</td>\n",
              "      <td>TA</td>\n",
              "      <td>6</td>\n",
              "      <td>Typ</td>\n",
              "      <td>1</td>\n",
              "      <td>TA</td>\n",
              "      <td>Attchd</td>\n",
              "      <td>1976.0</td>\n",
              "      <td>RFn</td>\n",
              "      <td>2</td>\n",
              "      <td>460</td>\n",
              "      <td>TA</td>\n",
              "      <td>TA</td>\n",
              "      <td>Y</td>\n",
              "      <td>298</td>\n",
              "      <td>0</td>\n",
              "      <td>0</td>\n",
              "      <td>0</td>\n",
              "      <td>0</td>\n",
              "      <td>0</td>\n",
              "      <td>NaN</td>\n",
              "      <td>NaN</td>\n",
              "      <td>None</td>\n",
              "      <td>0</td>\n",
              "      <td>5</td>\n",
              "      <td>2007</td>\n",
              "      <td>WD</td>\n",
              "      <td>Normal</td>\n",
              "      <td>181500</td>\n",
              "      <td>True</td>\n",
              "      <td>12.109011</td>\n",
              "      <td>0</td>\n",
              "      <td>True</td>\n",
              "      <td>31</td>\n",
              "      <td>31</td>\n",
              "      <td>961</td>\n",
              "      <td>961</td>\n",
              "      <td>31</td>\n",
              "      <td>29791</td>\n",
              "      <td>0</td>\n",
              "      <td>True</td>\n",
              "      <td>False</td>\n",
              "      <td>False</td>\n",
              "      <td>False</td>\n",
              "      <td>False</td>\n",
              "      <td>False</td>\n",
              "      <td>True</td>\n",
              "      <td>False</td>\n",
              "      <td>True</td>\n",
              "      <td>False</td>\n",
              "      <td>False</td>\n",
              "      <td>False</td>\n",
              "      <td>False</td>\n",
              "      <td>True</td>\n",
              "      <td>False</td>\n",
              "      <td>92160000</td>\n",
              "      <td>36</td>\n",
              "      <td>64</td>\n",
              "      <td>False</td>\n",
              "      <td>True</td>\n",
              "      <td>False</td>\n",
              "      <td>0</td>\n",
              "      <td>2240</td>\n",
              "      <td>5017600</td>\n",
              "      <td>4</td>\n",
              "      <td>1592644</td>\n",
              "      <td>True</td>\n",
              "      <td>True</td>\n",
              "      <td>False</td>\n",
              "      <td>False</td>\n",
              "      <td>0.225040</td>\n",
              "      <td>False</td>\n",
              "      <td>True</td>\n",
              "      <td>False</td>\n",
              "      <td>True</td>\n",
              "      <td>False</td>\n",
              "      <td>False</td>\n",
              "      <td>False</td>\n",
              "      <td>3</td>\n",
              "      <td>9</td>\n",
              "      <td>4</td>\n",
              "      <td>False</td>\n",
              "      <td>False</td>\n",
              "      <td>False</td>\n",
              "      <td>False</td>\n",
              "      <td>False</td>\n",
              "      <td>False</td>\n",
              "      <td>6400.0</td>\n",
              "      <td>True</td>\n",
              "      <td>False</td>\n",
              "      <td>False</td>\n",
              "      <td>False</td>\n",
              "      <td>True</td>\n",
              "      <td>211600</td>\n",
              "      <td>2700</td>\n",
              "      <td>7290000</td>\n",
              "      <td>False</td>\n",
              "      <td>False</td>\n",
              "      <td>False</td>\n",
              "      <td>False</td>\n",
              "      <td>False</td>\n",
              "      <td>False</td>\n",
              "      <td>False</td>\n",
              "      <td>False</td>\n",
              "      <td>False</td>\n",
              "      <td>2</td>\n",
              "      <td>4</td>\n",
              "      <td>0</td>\n",
              "      <td>88804</td>\n",
              "      <td>0</td>\n",
              "      <td>0</td>\n",
              "      <td>2</td>\n",
              "      <td>4</td>\n",
              "      <td>False</td>\n",
              "      <td>False</td>\n",
              "      <td>False</td>\n",
              "      <td>0</td>\n",
              "      <td>1</td>\n",
              "      <td>0</td>\n",
              "      <td>0</td>\n",
              "      <td>0</td>\n",
              "      <td>0</td>\n",
              "    </tr>\n",
              "    <tr>\n",
              "      <th>2</th>\n",
              "      <td>3</td>\n",
              "      <td>60</td>\n",
              "      <td>RL</td>\n",
              "      <td>68.0</td>\n",
              "      <td>11250</td>\n",
              "      <td>Pave</td>\n",
              "      <td>NaN</td>\n",
              "      <td>IR1</td>\n",
              "      <td>Lvl</td>\n",
              "      <td>AllPub</td>\n",
              "      <td>Inside</td>\n",
              "      <td>Gtl</td>\n",
              "      <td>CollgCr</td>\n",
              "      <td>Norm</td>\n",
              "      <td>Norm</td>\n",
              "      <td>1Fam</td>\n",
              "      <td>2Story</td>\n",
              "      <td>7</td>\n",
              "      <td>5</td>\n",
              "      <td>2001</td>\n",
              "      <td>2002</td>\n",
              "      <td>Gable</td>\n",
              "      <td>CompShg</td>\n",
              "      <td>VinylSd</td>\n",
              "      <td>VinylSd</td>\n",
              "      <td>BrkFace</td>\n",
              "      <td>162.0</td>\n",
              "      <td>Gd</td>\n",
              "      <td>TA</td>\n",
              "      <td>Gd</td>\n",
              "      <td>TA</td>\n",
              "      <td>Mn</td>\n",
              "      <td>GLQ</td>\n",
              "      <td>486</td>\n",
              "      <td>Unf</td>\n",
              "      <td>0</td>\n",
              "      <td>434</td>\n",
              "      <td>920</td>\n",
              "      <td>GasA</td>\n",
              "      <td>Ex</td>\n",
              "      <td>Y</td>\n",
              "      <td>SBrkr</td>\n",
              "      <td>920</td>\n",
              "      <td>866</td>\n",
              "      <td>0</td>\n",
              "      <td>1786</td>\n",
              "      <td>1</td>\n",
              "      <td>0</td>\n",
              "      <td>2</td>\n",
              "      <td>1</td>\n",
              "      <td>3</td>\n",
              "      <td>1</td>\n",
              "      <td>Gd</td>\n",
              "      <td>6</td>\n",
              "      <td>Typ</td>\n",
              "      <td>1</td>\n",
              "      <td>TA</td>\n",
              "      <td>Attchd</td>\n",
              "      <td>2001.0</td>\n",
              "      <td>RFn</td>\n",
              "      <td>2</td>\n",
              "      <td>608</td>\n",
              "      <td>TA</td>\n",
              "      <td>TA</td>\n",
              "      <td>Y</td>\n",
              "      <td>0</td>\n",
              "      <td>42</td>\n",
              "      <td>0</td>\n",
              "      <td>0</td>\n",
              "      <td>0</td>\n",
              "      <td>0</td>\n",
              "      <td>NaN</td>\n",
              "      <td>NaN</td>\n",
              "      <td>None</td>\n",
              "      <td>0</td>\n",
              "      <td>9</td>\n",
              "      <td>2008</td>\n",
              "      <td>WD</td>\n",
              "      <td>Normal</td>\n",
              "      <td>223500</td>\n",
              "      <td>True</td>\n",
              "      <td>12.317167</td>\n",
              "      <td>2</td>\n",
              "      <td>False</td>\n",
              "      <td>7</td>\n",
              "      <td>6</td>\n",
              "      <td>42</td>\n",
              "      <td>49</td>\n",
              "      <td>6</td>\n",
              "      <td>294</td>\n",
              "      <td>796720</td>\n",
              "      <td>True</td>\n",
              "      <td>False</td>\n",
              "      <td>False</td>\n",
              "      <td>False</td>\n",
              "      <td>False</td>\n",
              "      <td>False</td>\n",
              "      <td>True</td>\n",
              "      <td>False</td>\n",
              "      <td>True</td>\n",
              "      <td>False</td>\n",
              "      <td>False</td>\n",
              "      <td>False</td>\n",
              "      <td>False</td>\n",
              "      <td>True</td>\n",
              "      <td>False</td>\n",
              "      <td>126562500</td>\n",
              "      <td>49</td>\n",
              "      <td>25</td>\n",
              "      <td>True</td>\n",
              "      <td>False</td>\n",
              "      <td>True</td>\n",
              "      <td>7</td>\n",
              "      <td>2272</td>\n",
              "      <td>5161984</td>\n",
              "      <td>4</td>\n",
              "      <td>3189796</td>\n",
              "      <td>True</td>\n",
              "      <td>True</td>\n",
              "      <td>False</td>\n",
              "      <td>False</td>\n",
              "      <td>0.471739</td>\n",
              "      <td>False</td>\n",
              "      <td>False</td>\n",
              "      <td>False</td>\n",
              "      <td>False</td>\n",
              "      <td>False</td>\n",
              "      <td>False</td>\n",
              "      <td>False</td>\n",
              "      <td>4</td>\n",
              "      <td>16</td>\n",
              "      <td>4</td>\n",
              "      <td>False</td>\n",
              "      <td>False</td>\n",
              "      <td>False</td>\n",
              "      <td>False</td>\n",
              "      <td>False</td>\n",
              "      <td>False</td>\n",
              "      <td>4624.0</td>\n",
              "      <td>True</td>\n",
              "      <td>False</td>\n",
              "      <td>False</td>\n",
              "      <td>False</td>\n",
              "      <td>True</td>\n",
              "      <td>369664</td>\n",
              "      <td>2880</td>\n",
              "      <td>8294400</td>\n",
              "      <td>False</td>\n",
              "      <td>False</td>\n",
              "      <td>False</td>\n",
              "      <td>False</td>\n",
              "      <td>False</td>\n",
              "      <td>False</td>\n",
              "      <td>False</td>\n",
              "      <td>False</td>\n",
              "      <td>False</td>\n",
              "      <td>2</td>\n",
              "      <td>4</td>\n",
              "      <td>1764</td>\n",
              "      <td>0</td>\n",
              "      <td>0</td>\n",
              "      <td>0</td>\n",
              "      <td>2</td>\n",
              "      <td>4</td>\n",
              "      <td>False</td>\n",
              "      <td>False</td>\n",
              "      <td>False</td>\n",
              "      <td>0</td>\n",
              "      <td>0</td>\n",
              "      <td>1</td>\n",
              "      <td>0</td>\n",
              "      <td>0</td>\n",
              "      <td>0</td>\n",
              "    </tr>\n",
              "    <tr>\n",
              "      <th>3</th>\n",
              "      <td>4</td>\n",
              "      <td>70</td>\n",
              "      <td>RL</td>\n",
              "      <td>60.0</td>\n",
              "      <td>9550</td>\n",
              "      <td>Pave</td>\n",
              "      <td>NaN</td>\n",
              "      <td>IR1</td>\n",
              "      <td>Lvl</td>\n",
              "      <td>AllPub</td>\n",
              "      <td>Corner</td>\n",
              "      <td>Gtl</td>\n",
              "      <td>Crawfor</td>\n",
              "      <td>Norm</td>\n",
              "      <td>Norm</td>\n",
              "      <td>1Fam</td>\n",
              "      <td>2Story</td>\n",
              "      <td>7</td>\n",
              "      <td>5</td>\n",
              "      <td>1915</td>\n",
              "      <td>1970</td>\n",
              "      <td>Gable</td>\n",
              "      <td>CompShg</td>\n",
              "      <td>Wd Sdng</td>\n",
              "      <td>Wd Shng</td>\n",
              "      <td>None</td>\n",
              "      <td>0.0</td>\n",
              "      <td>TA</td>\n",
              "      <td>TA</td>\n",
              "      <td>TA</td>\n",
              "      <td>Gd</td>\n",
              "      <td>No</td>\n",
              "      <td>ALQ</td>\n",
              "      <td>216</td>\n",
              "      <td>Unf</td>\n",
              "      <td>0</td>\n",
              "      <td>540</td>\n",
              "      <td>756</td>\n",
              "      <td>GasA</td>\n",
              "      <td>Gd</td>\n",
              "      <td>Y</td>\n",
              "      <td>SBrkr</td>\n",
              "      <td>961</td>\n",
              "      <td>756</td>\n",
              "      <td>0</td>\n",
              "      <td>1717</td>\n",
              "      <td>1</td>\n",
              "      <td>0</td>\n",
              "      <td>1</td>\n",
              "      <td>0</td>\n",
              "      <td>3</td>\n",
              "      <td>1</td>\n",
              "      <td>Gd</td>\n",
              "      <td>7</td>\n",
              "      <td>Typ</td>\n",
              "      <td>1</td>\n",
              "      <td>Gd</td>\n",
              "      <td>Detchd</td>\n",
              "      <td>1998.0</td>\n",
              "      <td>Unf</td>\n",
              "      <td>3</td>\n",
              "      <td>642</td>\n",
              "      <td>TA</td>\n",
              "      <td>TA</td>\n",
              "      <td>Y</td>\n",
              "      <td>0</td>\n",
              "      <td>35</td>\n",
              "      <td>272</td>\n",
              "      <td>0</td>\n",
              "      <td>0</td>\n",
              "      <td>0</td>\n",
              "      <td>NaN</td>\n",
              "      <td>NaN</td>\n",
              "      <td>None</td>\n",
              "      <td>0</td>\n",
              "      <td>2</td>\n",
              "      <td>2006</td>\n",
              "      <td>WD</td>\n",
              "      <td>Abnorml</td>\n",
              "      <td>140000</td>\n",
              "      <td>False</td>\n",
              "      <td>11.849398</td>\n",
              "      <td>0</td>\n",
              "      <td>True</td>\n",
              "      <td>91</td>\n",
              "      <td>36</td>\n",
              "      <td>3276</td>\n",
              "      <td>8281</td>\n",
              "      <td>36</td>\n",
              "      <td>298116</td>\n",
              "      <td>726516</td>\n",
              "      <td>True</td>\n",
              "      <td>False</td>\n",
              "      <td>False</td>\n",
              "      <td>False</td>\n",
              "      <td>False</td>\n",
              "      <td>False</td>\n",
              "      <td>True</td>\n",
              "      <td>False</td>\n",
              "      <td>True</td>\n",
              "      <td>False</td>\n",
              "      <td>False</td>\n",
              "      <td>False</td>\n",
              "      <td>False</td>\n",
              "      <td>False</td>\n",
              "      <td>True</td>\n",
              "      <td>91202500</td>\n",
              "      <td>49</td>\n",
              "      <td>25</td>\n",
              "      <td>False</td>\n",
              "      <td>False</td>\n",
              "      <td>True</td>\n",
              "      <td>91</td>\n",
              "      <td>1933</td>\n",
              "      <td>3736489</td>\n",
              "      <td>1</td>\n",
              "      <td>2948089</td>\n",
              "      <td>True</td>\n",
              "      <td>False</td>\n",
              "      <td>False</td>\n",
              "      <td>False</td>\n",
              "      <td>0.714286</td>\n",
              "      <td>False</td>\n",
              "      <td>False</td>\n",
              "      <td>False</td>\n",
              "      <td>False</td>\n",
              "      <td>False</td>\n",
              "      <td>False</td>\n",
              "      <td>False</td>\n",
              "      <td>4</td>\n",
              "      <td>16</td>\n",
              "      <td>9</td>\n",
              "      <td>False</td>\n",
              "      <td>False</td>\n",
              "      <td>False</td>\n",
              "      <td>True</td>\n",
              "      <td>False</td>\n",
              "      <td>False</td>\n",
              "      <td>3600.0</td>\n",
              "      <td>True</td>\n",
              "      <td>False</td>\n",
              "      <td>False</td>\n",
              "      <td>False</td>\n",
              "      <td>True</td>\n",
              "      <td>412164</td>\n",
              "      <td>2575</td>\n",
              "      <td>6630625</td>\n",
              "      <td>False</td>\n",
              "      <td>False</td>\n",
              "      <td>False</td>\n",
              "      <td>False</td>\n",
              "      <td>False</td>\n",
              "      <td>False</td>\n",
              "      <td>False</td>\n",
              "      <td>False</td>\n",
              "      <td>False</td>\n",
              "      <td>2</td>\n",
              "      <td>4</td>\n",
              "      <td>1225</td>\n",
              "      <td>0</td>\n",
              "      <td>73984</td>\n",
              "      <td>0</td>\n",
              "      <td>2</td>\n",
              "      <td>4</td>\n",
              "      <td>True</td>\n",
              "      <td>False</td>\n",
              "      <td>False</td>\n",
              "      <td>1</td>\n",
              "      <td>0</td>\n",
              "      <td>0</td>\n",
              "      <td>0</td>\n",
              "      <td>0</td>\n",
              "      <td>0</td>\n",
              "    </tr>\n",
              "    <tr>\n",
              "      <th>4</th>\n",
              "      <td>5</td>\n",
              "      <td>60</td>\n",
              "      <td>RL</td>\n",
              "      <td>84.0</td>\n",
              "      <td>14260</td>\n",
              "      <td>Pave</td>\n",
              "      <td>NaN</td>\n",
              "      <td>IR1</td>\n",
              "      <td>Lvl</td>\n",
              "      <td>AllPub</td>\n",
              "      <td>FR2</td>\n",
              "      <td>Gtl</td>\n",
              "      <td>NoRidge</td>\n",
              "      <td>Norm</td>\n",
              "      <td>Norm</td>\n",
              "      <td>1Fam</td>\n",
              "      <td>2Story</td>\n",
              "      <td>8</td>\n",
              "      <td>5</td>\n",
              "      <td>2000</td>\n",
              "      <td>2000</td>\n",
              "      <td>Gable</td>\n",
              "      <td>CompShg</td>\n",
              "      <td>VinylSd</td>\n",
              "      <td>VinylSd</td>\n",
              "      <td>BrkFace</td>\n",
              "      <td>350.0</td>\n",
              "      <td>Gd</td>\n",
              "      <td>TA</td>\n",
              "      <td>Gd</td>\n",
              "      <td>TA</td>\n",
              "      <td>Av</td>\n",
              "      <td>GLQ</td>\n",
              "      <td>655</td>\n",
              "      <td>Unf</td>\n",
              "      <td>0</td>\n",
              "      <td>490</td>\n",
              "      <td>1145</td>\n",
              "      <td>GasA</td>\n",
              "      <td>Ex</td>\n",
              "      <td>Y</td>\n",
              "      <td>SBrkr</td>\n",
              "      <td>1145</td>\n",
              "      <td>1053</td>\n",
              "      <td>0</td>\n",
              "      <td>2198</td>\n",
              "      <td>1</td>\n",
              "      <td>0</td>\n",
              "      <td>2</td>\n",
              "      <td>1</td>\n",
              "      <td>4</td>\n",
              "      <td>1</td>\n",
              "      <td>Gd</td>\n",
              "      <td>9</td>\n",
              "      <td>Typ</td>\n",
              "      <td>1</td>\n",
              "      <td>TA</td>\n",
              "      <td>Attchd</td>\n",
              "      <td>2000.0</td>\n",
              "      <td>RFn</td>\n",
              "      <td>3</td>\n",
              "      <td>836</td>\n",
              "      <td>TA</td>\n",
              "      <td>TA</td>\n",
              "      <td>Y</td>\n",
              "      <td>192</td>\n",
              "      <td>84</td>\n",
              "      <td>0</td>\n",
              "      <td>0</td>\n",
              "      <td>0</td>\n",
              "      <td>0</td>\n",
              "      <td>NaN</td>\n",
              "      <td>NaN</td>\n",
              "      <td>None</td>\n",
              "      <td>0</td>\n",
              "      <td>12</td>\n",
              "      <td>2008</td>\n",
              "      <td>WD</td>\n",
              "      <td>Normal</td>\n",
              "      <td>250000</td>\n",
              "      <td>True</td>\n",
              "      <td>12.429216</td>\n",
              "      <td>2</td>\n",
              "      <td>False</td>\n",
              "      <td>8</td>\n",
              "      <td>8</td>\n",
              "      <td>64</td>\n",
              "      <td>64</td>\n",
              "      <td>8</td>\n",
              "      <td>512</td>\n",
              "      <td>1205685</td>\n",
              "      <td>True</td>\n",
              "      <td>False</td>\n",
              "      <td>False</td>\n",
              "      <td>False</td>\n",
              "      <td>True</td>\n",
              "      <td>False</td>\n",
              "      <td>True</td>\n",
              "      <td>False</td>\n",
              "      <td>True</td>\n",
              "      <td>False</td>\n",
              "      <td>False</td>\n",
              "      <td>False</td>\n",
              "      <td>False</td>\n",
              "      <td>True</td>\n",
              "      <td>False</td>\n",
              "      <td>203347600</td>\n",
              "      <td>64</td>\n",
              "      <td>25</td>\n",
              "      <td>False</td>\n",
              "      <td>False</td>\n",
              "      <td>False</td>\n",
              "      <td>0</td>\n",
              "      <td>2853</td>\n",
              "      <td>8139609</td>\n",
              "      <td>4</td>\n",
              "      <td>4831204</td>\n",
              "      <td>True</td>\n",
              "      <td>True</td>\n",
              "      <td>False</td>\n",
              "      <td>False</td>\n",
              "      <td>0.427948</td>\n",
              "      <td>False</td>\n",
              "      <td>False</td>\n",
              "      <td>False</td>\n",
              "      <td>False</td>\n",
              "      <td>False</td>\n",
              "      <td>False</td>\n",
              "      <td>False</td>\n",
              "      <td>4</td>\n",
              "      <td>16</td>\n",
              "      <td>9</td>\n",
              "      <td>False</td>\n",
              "      <td>False</td>\n",
              "      <td>False</td>\n",
              "      <td>False</td>\n",
              "      <td>False</td>\n",
              "      <td>False</td>\n",
              "      <td>7056.0</td>\n",
              "      <td>True</td>\n",
              "      <td>False</td>\n",
              "      <td>False</td>\n",
              "      <td>False</td>\n",
              "      <td>True</td>\n",
              "      <td>698896</td>\n",
              "      <td>3689</td>\n",
              "      <td>13608721</td>\n",
              "      <td>False</td>\n",
              "      <td>False</td>\n",
              "      <td>False</td>\n",
              "      <td>False</td>\n",
              "      <td>False</td>\n",
              "      <td>False</td>\n",
              "      <td>False</td>\n",
              "      <td>False</td>\n",
              "      <td>False</td>\n",
              "      <td>2</td>\n",
              "      <td>4</td>\n",
              "      <td>7056</td>\n",
              "      <td>36864</td>\n",
              "      <td>0</td>\n",
              "      <td>0</td>\n",
              "      <td>2</td>\n",
              "      <td>4</td>\n",
              "      <td>False</td>\n",
              "      <td>False</td>\n",
              "      <td>False</td>\n",
              "      <td>0</td>\n",
              "      <td>0</td>\n",
              "      <td>1</td>\n",
              "      <td>0</td>\n",
              "      <td>0</td>\n",
              "      <td>0</td>\n",
              "    </tr>\n",
              "  </tbody>\n",
              "</table>\n",
              "</div>"
            ],
            "text/plain": [
              "   Id  MSSubClass MSZoning  LotFrontage  LotArea Street Alley LotShape  \\\n",
              "0   1          60       RL         65.0     8450   Pave   NaN      Reg   \n",
              "1   2          20       RL         80.0     9600   Pave   NaN      Reg   \n",
              "2   3          60       RL         68.0    11250   Pave   NaN      IR1   \n",
              "3   4          70       RL         60.0     9550   Pave   NaN      IR1   \n",
              "4   5          60       RL         84.0    14260   Pave   NaN      IR1   \n",
              "\n",
              "  LandContour Utilities LotConfig LandSlope Neighborhood Condition1  \\\n",
              "0         Lvl    AllPub    Inside       Gtl      CollgCr       Norm   \n",
              "1         Lvl    AllPub       FR2       Gtl      Veenker      Feedr   \n",
              "2         Lvl    AllPub    Inside       Gtl      CollgCr       Norm   \n",
              "3         Lvl    AllPub    Corner       Gtl      Crawfor       Norm   \n",
              "4         Lvl    AllPub       FR2       Gtl      NoRidge       Norm   \n",
              "\n",
              "  Condition2 BldgType HouseStyle  OverallQual  OverallCond  YearBuilt  \\\n",
              "0       Norm     1Fam     2Story            7            5       2003   \n",
              "1       Norm     1Fam     1Story            6            8       1976   \n",
              "2       Norm     1Fam     2Story            7            5       2001   \n",
              "3       Norm     1Fam     2Story            7            5       1915   \n",
              "4       Norm     1Fam     2Story            8            5       2000   \n",
              "\n",
              "   YearRemodAdd RoofStyle RoofMatl Exterior1st Exterior2nd MasVnrType  \\\n",
              "0          2003     Gable  CompShg     VinylSd     VinylSd    BrkFace   \n",
              "1          1976     Gable  CompShg     MetalSd     MetalSd       None   \n",
              "2          2002     Gable  CompShg     VinylSd     VinylSd    BrkFace   \n",
              "3          1970     Gable  CompShg     Wd Sdng     Wd Shng       None   \n",
              "4          2000     Gable  CompShg     VinylSd     VinylSd    BrkFace   \n",
              "\n",
              "   MasVnrArea ExterQual ExterCond BsmtQual BsmtCond BsmtExposure BsmtFinType1  \\\n",
              "0       196.0        Gd        TA       Gd       TA           No          GLQ   \n",
              "1         0.0        TA        TA       Gd       TA           Gd          ALQ   \n",
              "2       162.0        Gd        TA       Gd       TA           Mn          GLQ   \n",
              "3         0.0        TA        TA       TA       Gd           No          ALQ   \n",
              "4       350.0        Gd        TA       Gd       TA           Av          GLQ   \n",
              "\n",
              "   BsmtFinSF1 BsmtFinType2  BsmtFinSF2  BsmtUnfSF  TotalBsmtSF Heating  \\\n",
              "0         706          Unf           0        150          856    GasA   \n",
              "1         978          Unf           0        284         1262    GasA   \n",
              "2         486          Unf           0        434          920    GasA   \n",
              "3         216          Unf           0        540          756    GasA   \n",
              "4         655          Unf           0        490         1145    GasA   \n",
              "\n",
              "  HeatingQC CentralAir Electrical  1stFlrSF  2ndFlrSF  LowQualFinSF  \\\n",
              "0        Ex          Y      SBrkr       856       854             0   \n",
              "1        Ex          Y      SBrkr      1262         0             0   \n",
              "2        Ex          Y      SBrkr       920       866             0   \n",
              "3        Gd          Y      SBrkr       961       756             0   \n",
              "4        Ex          Y      SBrkr      1145      1053             0   \n",
              "\n",
              "   GrLivArea  BsmtFullBath  BsmtHalfBath  FullBath  HalfBath  BedroomAbvGr  \\\n",
              "0       1710             1             0         2         1             3   \n",
              "1       1262             0             1         2         0             3   \n",
              "2       1786             1             0         2         1             3   \n",
              "3       1717             1             0         1         0             3   \n",
              "4       2198             1             0         2         1             4   \n",
              "\n",
              "   KitchenAbvGr KitchenQual  TotRmsAbvGrd Functional  Fireplaces FireplaceQu  \\\n",
              "0             1          Gd             8        Typ           0         NaN   \n",
              "1             1          TA             6        Typ           1          TA   \n",
              "2             1          Gd             6        Typ           1          TA   \n",
              "3             1          Gd             7        Typ           1          Gd   \n",
              "4             1          Gd             9        Typ           1          TA   \n",
              "\n",
              "  GarageType  GarageYrBlt GarageFinish  GarageCars  GarageArea GarageQual  \\\n",
              "0     Attchd       2003.0          RFn           2         548         TA   \n",
              "1     Attchd       1976.0          RFn           2         460         TA   \n",
              "2     Attchd       2001.0          RFn           2         608         TA   \n",
              "3     Detchd       1998.0          Unf           3         642         TA   \n",
              "4     Attchd       2000.0          RFn           3         836         TA   \n",
              "\n",
              "  GarageCond PavedDrive  WoodDeckSF  OpenPorchSF  EnclosedPorch  3SsnPorch  \\\n",
              "0         TA          Y           0           61              0          0   \n",
              "1         TA          Y         298            0              0          0   \n",
              "2         TA          Y           0           42              0          0   \n",
              "3         TA          Y           0           35            272          0   \n",
              "4         TA          Y         192           84              0          0   \n",
              "\n",
              "   ScreenPorch  PoolArea PoolQC Fence MiscFeature  MiscVal  MoSold  YrSold  \\\n",
              "0            0         0    NaN   NaN        None        0       2    2008   \n",
              "1            0         0    NaN   NaN        None        0       5    2007   \n",
              "2            0         0    NaN   NaN        None        0       9    2008   \n",
              "3            0         0    NaN   NaN        None        0       2    2006   \n",
              "4            0         0    NaN   NaN        None        0      12    2008   \n",
              "\n",
              "  SaleType SaleCondition  SalePrice  matching_exterior_type   logprice  \\\n",
              "0       WD        Normal     208500                    True  12.247694   \n",
              "1       WD        Normal     181500                    True  12.109011   \n",
              "2       WD        Normal     223500                    True  12.317167   \n",
              "3       WD       Abnorml     140000                   False  11.849398   \n",
              "4       WD        Normal     250000                    True  12.429216   \n",
              "\n",
              "   fullhalfbath_interaction  sold_pre_2008  age_sold  years_since_remod  \\\n",
              "0                         2          False         5                  5   \n",
              "1                         0           True        31                 31   \n",
              "2                         2          False         7                  6   \n",
              "3                         0           True        91                 36   \n",
              "4                         2          False         8                  8   \n",
              "\n",
              "   age_remod_interaction  age_sold_squared  years_since_remod_squared  \\\n",
              "0                     25                25                          5   \n",
              "1                    961               961                         31   \n",
              "2                     42                49                          6   \n",
              "3                   3276              8281                         36   \n",
              "4                     64                64                          8   \n",
              "\n",
              "   age_remod_interaction_squared  floor_interaction  mszoning_RL  mszoning_c  \\\n",
              "0                            125             731024         True       False   \n",
              "1                          29791                  0         True       False   \n",
              "2                            294             796720         True       False   \n",
              "3                         298116             726516         True       False   \n",
              "4                            512            1205685         True       False   \n",
              "\n",
              "   mszoning_RM  mszoning_FV  good_area  bad_area  one_fam_home  townhouse  \\\n",
              "0        False        False      False     False          True      False   \n",
              "1        False        False      False     False          True      False   \n",
              "2        False        False      False     False          True      False   \n",
              "3        False        False      False     False          True      False   \n",
              "4        False        False       True     False          True      False   \n",
              "\n",
              "   miscfeature_isnone  has_shed  new_home  saletype_cod  \\\n",
              "0                True     False     False         False   \n",
              "1                True     False     False         False   \n",
              "2                True     False     False         False   \n",
              "3                True     False     False         False   \n",
              "4                True     False     False         False   \n",
              "\n",
              "   saletype_lowdn_lowint  attached_garage  detchd_garage  lotarea_squared  \\\n",
              "0                  False             True          False         71402500   \n",
              "1                  False             True          False         92160000   \n",
              "2                  False             True          False        126562500   \n",
              "3                  False            False           True         91202500   \n",
              "4                  False             True          False        203347600   \n",
              "\n",
              "   overallqual_squared  overallcond_squared  is_start_of_school  is_spring  \\\n",
              "0                   49                   25               False      False   \n",
              "1                   36                   64               False       True   \n",
              "2                   49                   25                True      False   \n",
              "3                   49                   25               False      False   \n",
              "4                   64                   25               False      False   \n",
              "\n",
              "   remodeled?  age_remodeled_interaction_good  sq_footage_fsb  \\\n",
              "0       False                               0            2416   \n",
              "1       False                               0            2240   \n",
              "2        True                               7            2272   \n",
              "3        True                              91            1933   \n",
              "4       False                               0            2853   \n",
              "\n",
              "   sqfootage_fsb_squared  fullbath_squared  grlivarea_squared  heating_gasa  \\\n",
              "0                5837056                 4            2924100          True   \n",
              "1                5017600                 4            1592644          True   \n",
              "2                5161984                 4            3189796          True   \n",
              "3                3736489                 1            2948089          True   \n",
              "4                8139609                 4            4831204          True   \n",
              "\n",
              "   heating_qual_ex  heating_qual_pr  heating_qual_fa  bsmt_unfin_percent  \\\n",
              "0             True            False            False            0.175234   \n",
              "1             True            False            False            0.225040   \n",
              "2             True            False            False            0.471739   \n",
              "3            False            False            False            0.714286   \n",
              "4             True            False            False            0.427948   \n",
              "\n",
              "   finished_bsmt  pos1_feedr_art  pos2_feedr_art  pos1_pos2_sum1  \\\n",
              "0          False           False           False           False   \n",
              "1          False            True           False            True   \n",
              "2          False           False           False           False   \n",
              "3          False           False           False           False   \n",
              "4          False           False           False           False   \n",
              "\n",
              "   pos1_pos2_sum2  onehalf_fin  onehalf_unfin  kitchen_numeric  \\\n",
              "0           False        False          False                4   \n",
              "1           False        False          False                3   \n",
              "2           False        False          False                4   \n",
              "3           False        False          False                4   \n",
              "4           False        False          False                4   \n",
              "\n",
              "   kitchen_numeric_squared  garage_cars_squared  atypical_function  \\\n",
              "0                       16                    4              False   \n",
              "1                        9                    4              False   \n",
              "2                       16                    4              False   \n",
              "3                       16                    9              False   \n",
              "4                       16                    9              False   \n",
              "\n",
              "   exterior_exc  salecond_partial  salecond_abnorml  no_fireplace  \\\n",
              "0         False             False             False          True   \n",
              "1         False             False             False         False   \n",
              "2         False             False             False         False   \n",
              "3         False             False              True         False   \n",
              "4         False             False             False         False   \n",
              "\n",
              "   two_or_more_fireplaces  lotfrontage_squared  electrical_is_brkr  \\\n",
              "0                   False               4225.0                True   \n",
              "1                   False               6400.0                True   \n",
              "2                   False               4624.0                True   \n",
              "3                   False               3600.0                True   \n",
              "4                   False               7056.0                True   \n",
              "\n",
              "   electrical_is_F  electrical_is_A  electrical_is_P  overallcond_5over  \\\n",
              "0            False            False            False               True   \n",
              "1            False            False            False               True   \n",
              "2            False            False            False               True   \n",
              "3            False            False            False               True   \n",
              "4            False            False            False               True   \n",
              "\n",
              "   garagearea_squared  sq_footage_fsbg  sq_footage_fsbg_squared  banked_land  \\\n",
              "0              300304             2964                  8785296        False   \n",
              "1              211600             2700                  7290000        False   \n",
              "2              369664             2880                  8294400        False   \n",
              "3              412164             2575                  6630625        False   \n",
              "4              698896             3689                 13608721        False   \n",
              "\n",
              "   HLS_land  landslope_mod_sev  land_interaction  salecond_adjland  \\\n",
              "0     False              False             False             False   \n",
              "1     False              False             False             False   \n",
              "2     False              False             False             False   \n",
              "3     False              False             False             False   \n",
              "4     False              False             False             False   \n",
              "\n",
              "   salecond_alloca  salecond_family  has_pool  pool_exc  paved_drive_numeric  \\\n",
              "0            False            False     False     False                    2   \n",
              "1            False            False     False     False                    2   \n",
              "2            False            False     False     False                    2   \n",
              "3            False            False     False     False                    2   \n",
              "4            False            False     False     False                    2   \n",
              "\n",
              "   paved_drive_squared  OpenPorchSF_squared  WoodDeckSF_squared  \\\n",
              "0                    4                 3721                   0   \n",
              "1                    4                    0               88804   \n",
              "2                    4                 1764                   0   \n",
              "3                    4                 1225                   0   \n",
              "4                    4                 7056               36864   \n",
              "\n",
              "   EnclosedPorch_squared  ScreenPorch_squared  garageQual_numeric  \\\n",
              "0                      0                    0                   2   \n",
              "1                      0                    0                   2   \n",
              "2                      0                    0                   2   \n",
              "3                  73984                    0                   2   \n",
              "4                      0                    0                   2   \n",
              "\n",
              "   garageQual_numeric_squared  garage_unf  garage_Fin  no_central_air  \\\n",
              "0                           4       False       False           False   \n",
              "1                           4       False       False           False   \n",
              "2                           4       False       False           False   \n",
              "3                           4        True       False           False   \n",
              "4                           4       False       False           False   \n",
              "\n",
              "   Foundation__BrkTil  Foundation__CBlock  Foundation__PConc  \\\n",
              "0                   0                   0                  1   \n",
              "1                   0                   1                  0   \n",
              "2                   0                   0                  1   \n",
              "3                   1                   0                  0   \n",
              "4                   0                   0                  1   \n",
              "\n",
              "   Foundation__Slab  Foundation__Stone  Foundation__Wood  \n",
              "0                 0                  0                 0  \n",
              "1                 0                  0                 0  \n",
              "2                 0                  0                 0  \n",
              "3                 0                  0                 0  \n",
              "4                 0                  0                 0  "
            ]
          },
          "metadata": {
            "tags": []
          },
          "execution_count": 526
        }
      ]
    },
    {
      "metadata": {
        "id": "TMs4B9-4AvN5",
        "colab_type": "code",
        "colab": {
          "base_uri": "https://localhost:8080/",
          "height": 257
        },
        "outputId": "e4acd698-fdf3-4d4a-b9f4-021797335b43"
      },
      "cell_type": "code",
      "source": [
        "df.pivot_table(index='RoofStyle', values='SalePrice')"
      ],
      "execution_count": 531,
      "outputs": [
        {
          "output_type": "execute_result",
          "data": {
            "text/html": [
              "<div>\n",
              "<style scoped>\n",
              "    .dataframe tbody tr th:only-of-type {\n",
              "        vertical-align: middle;\n",
              "    }\n",
              "\n",
              "    .dataframe tbody tr th {\n",
              "        vertical-align: top;\n",
              "    }\n",
              "\n",
              "    .dataframe thead th {\n",
              "        text-align: right;\n",
              "    }\n",
              "</style>\n",
              "<table border=\"1\" class=\"dataframe\">\n",
              "  <thead>\n",
              "    <tr style=\"text-align: right;\">\n",
              "      <th></th>\n",
              "      <th>SalePrice</th>\n",
              "    </tr>\n",
              "    <tr>\n",
              "      <th>RoofStyle</th>\n",
              "      <th></th>\n",
              "    </tr>\n",
              "  </thead>\n",
              "  <tbody>\n",
              "    <tr>\n",
              "      <th>Flat</th>\n",
              "      <td>194690.000000</td>\n",
              "    </tr>\n",
              "    <tr>\n",
              "      <th>Gable</th>\n",
              "      <td>171483.956179</td>\n",
              "    </tr>\n",
              "    <tr>\n",
              "      <th>Gambrel</th>\n",
              "      <td>148909.090909</td>\n",
              "    </tr>\n",
              "    <tr>\n",
              "      <th>Hip</th>\n",
              "      <td>218876.933566</td>\n",
              "    </tr>\n",
              "    <tr>\n",
              "      <th>Mansard</th>\n",
              "      <td>180568.428571</td>\n",
              "    </tr>\n",
              "    <tr>\n",
              "      <th>Shed</th>\n",
              "      <td>225000.000000</td>\n",
              "    </tr>\n",
              "  </tbody>\n",
              "</table>\n",
              "</div>"
            ],
            "text/plain": [
              "               SalePrice\n",
              "RoofStyle               \n",
              "Flat       194690.000000\n",
              "Gable      171483.956179\n",
              "Gambrel    148909.090909\n",
              "Hip        218876.933566\n",
              "Mansard    180568.428571\n",
              "Shed       225000.000000"
            ]
          },
          "metadata": {
            "tags": []
          },
          "execution_count": 531
        }
      ]
    },
    {
      "metadata": {
        "id": "8JcJySaaBnsN",
        "colab_type": "code",
        "colab": {
          "base_uri": "https://localhost:8080/",
          "height": 138
        },
        "outputId": "4593ce06-89e1-4337-c50e-5e6eb5312b12"
      },
      "cell_type": "code",
      "source": [
        "df.RoofStyle.value_counts()"
      ],
      "execution_count": 535,
      "outputs": [
        {
          "output_type": "execute_result",
          "data": {
            "text/plain": [
              "Gable      1141\n",
              "Hip         286\n",
              "Flat         13\n",
              "Gambrel      11\n",
              "Mansard       7\n",
              "Shed          2\n",
              "Name: RoofStyle, dtype: int64"
            ]
          },
          "metadata": {
            "tags": []
          },
          "execution_count": 535
        }
      ]
    },
    {
      "metadata": {
        "id": "bER8r41qA6jm",
        "colab_type": "code",
        "colab": {}
      },
      "cell_type": "code",
      "source": [
        "df['RoofStyle_Hip'] = (df.RoofStyle == 'Hip')\n",
        "df['RoofStyle_Gambrel'] = (df.RoofStyle == 'Gambrel')"
      ],
      "execution_count": 0,
      "outputs": []
    },
    {
      "metadata": {
        "id": "_JaSJzzoBBjF",
        "colab_type": "code",
        "colab": {
          "base_uri": "https://localhost:8080/",
          "height": 34
        },
        "outputId": "d53b6b8c-43f5-402c-a60d-94a41d3d30f8"
      },
      "cell_type": "code",
      "source": [
        "from sklearn.ensemble import GradientBoostingRegressor\n",
        "from sklearn.ensemble import RandomForestRegressor\n",
        "from sklearn.linear_model import Ridge\n",
        "from sklearn.linear_model import Lasso\n",
        "\n",
        "features = ['LotArea','OverallQual', 'OverallCond', 'GrLivArea','GarageArea', 'FullBath', 'HalfBath', 'fullhalfbath_interaction', 'BedroomAbvGr',\n",
        "            'sold_pre_2008', 'age_sold','age_sold_squared', 'years_since_remod', 'age_remod_interaction', '1stFlrSF', '2ndFlrSF', 'floor_interaction', 'mszoning_RL', 'mszoning_c',\n",
        "            'mszoning_RM', 'mszoning_FV', 'good_area', 'bad_area', 'one_fam_home', 'townhouse', 'miscfeature_isnone', 'has_shed', 'new_home', 'attached_garage',\n",
        "            'detchd_garage', 'lotarea_squared', 'overallqual_squared', 'overallcond_squared', 'is_start_of_school', 'is_spring', 'remodeled?', 'age_remodeled_interaction_good',\n",
        "            'sq_footage_fsb', 'sqfootage_fsb_squared', 'grlivarea_squared', 'heating_qual_ex', 'heating_qual_pr', 'heating_qual_fa', 'finished_bsmt', 'pos1_feedr_art', 'pos2_feedr_art',\n",
        "            'pos1_pos2_sum1', 'pos1_pos2_sum2', 'kitchen_numeric_squared', 'garage_cars_squared', 'atypical_function', 'salecond_abnorml', 'no_fireplace', 'lotfrontage_squared',\n",
        "            'garagearea_squared', 'sq_footage_fsbg', 'banked_land', 'HLS_land', 'salecond_family', 'paved_drive_numeric', 'paved_drive_squared', 'OpenPorchSF', 'WoodDeckSF', 'EnclosedPorch',\n",
        "            'ScreenPorch', 'garageQual_numeric_squared', 'garage_unf', 'garage_Fin', 'no_central_air', 'Foundation__CBlock', 'Foundation__PConc', 'Foundation__Slab', 'Foundation__Stone', 'Foundation__Wood',\n",
        "            'RoofStyle_Hip', 'RoofStyle_Gambrel']\n",
        "\n",
        "X = df[features].values\n",
        "y = df.logprice\n",
        "\n",
        "X_train, X_test, y_train, y_test = train_test_split(X, y, test_size=0.25, random_state=42)\n",
        "\n",
        "\n",
        "lr = LinearRegression()\n",
        "lr.fit(X_train, y_train)\n",
        "\n",
        "\n",
        "oos_pred = lr.predict(X_test)\n",
        "oos_mse = mean_squared_error(y_test, oos_pred)\n",
        "oos_r2 = r2_score(y_test, oos_pred)\n",
        "rmse = (np.sqrt(oos_mse))\n",
        "rmse, oos_r2"
      ],
      "execution_count": 583,
      "outputs": [
        {
          "output_type": "execute_result",
          "data": {
            "text/plain": [
              "(0.1135252551431264, 0.9255715662148456)"
            ]
          },
          "metadata": {
            "tags": []
          },
          "execution_count": 583
        }
      ]
    },
    {
      "metadata": {
        "id": "VI02uVopBjGo",
        "colab_type": "code",
        "colab": {
          "base_uri": "https://localhost:8080/",
          "height": 217
        },
        "outputId": "7976b3af-92fc-46f8-bda8-e10199539be6"
      },
      "cell_type": "code",
      "source": [
        "df.head()"
      ],
      "execution_count": 543,
      "outputs": [
        {
          "output_type": "execute_result",
          "data": {
            "text/html": [
              "<div>\n",
              "<style scoped>\n",
              "    .dataframe tbody tr th:only-of-type {\n",
              "        vertical-align: middle;\n",
              "    }\n",
              "\n",
              "    .dataframe tbody tr th {\n",
              "        vertical-align: top;\n",
              "    }\n",
              "\n",
              "    .dataframe thead th {\n",
              "        text-align: right;\n",
              "    }\n",
              "</style>\n",
              "<table border=\"1\" class=\"dataframe\">\n",
              "  <thead>\n",
              "    <tr style=\"text-align: right;\">\n",
              "      <th></th>\n",
              "      <th>Id</th>\n",
              "      <th>MSSubClass</th>\n",
              "      <th>MSZoning</th>\n",
              "      <th>LotFrontage</th>\n",
              "      <th>LotArea</th>\n",
              "      <th>Street</th>\n",
              "      <th>Alley</th>\n",
              "      <th>LotShape</th>\n",
              "      <th>LandContour</th>\n",
              "      <th>Utilities</th>\n",
              "      <th>LotConfig</th>\n",
              "      <th>LandSlope</th>\n",
              "      <th>Neighborhood</th>\n",
              "      <th>Condition1</th>\n",
              "      <th>Condition2</th>\n",
              "      <th>BldgType</th>\n",
              "      <th>HouseStyle</th>\n",
              "      <th>OverallQual</th>\n",
              "      <th>OverallCond</th>\n",
              "      <th>YearBuilt</th>\n",
              "      <th>YearRemodAdd</th>\n",
              "      <th>RoofStyle</th>\n",
              "      <th>RoofMatl</th>\n",
              "      <th>Exterior1st</th>\n",
              "      <th>Exterior2nd</th>\n",
              "      <th>MasVnrType</th>\n",
              "      <th>MasVnrArea</th>\n",
              "      <th>ExterQual</th>\n",
              "      <th>ExterCond</th>\n",
              "      <th>BsmtQual</th>\n",
              "      <th>BsmtCond</th>\n",
              "      <th>BsmtExposure</th>\n",
              "      <th>BsmtFinType1</th>\n",
              "      <th>BsmtFinSF1</th>\n",
              "      <th>BsmtFinType2</th>\n",
              "      <th>BsmtFinSF2</th>\n",
              "      <th>BsmtUnfSF</th>\n",
              "      <th>TotalBsmtSF</th>\n",
              "      <th>Heating</th>\n",
              "      <th>HeatingQC</th>\n",
              "      <th>CentralAir</th>\n",
              "      <th>Electrical</th>\n",
              "      <th>1stFlrSF</th>\n",
              "      <th>2ndFlrSF</th>\n",
              "      <th>LowQualFinSF</th>\n",
              "      <th>GrLivArea</th>\n",
              "      <th>BsmtFullBath</th>\n",
              "      <th>BsmtHalfBath</th>\n",
              "      <th>FullBath</th>\n",
              "      <th>HalfBath</th>\n",
              "      <th>BedroomAbvGr</th>\n",
              "      <th>KitchenAbvGr</th>\n",
              "      <th>KitchenQual</th>\n",
              "      <th>TotRmsAbvGrd</th>\n",
              "      <th>Functional</th>\n",
              "      <th>Fireplaces</th>\n",
              "      <th>FireplaceQu</th>\n",
              "      <th>GarageType</th>\n",
              "      <th>GarageYrBlt</th>\n",
              "      <th>GarageFinish</th>\n",
              "      <th>GarageCars</th>\n",
              "      <th>GarageArea</th>\n",
              "      <th>GarageQual</th>\n",
              "      <th>GarageCond</th>\n",
              "      <th>PavedDrive</th>\n",
              "      <th>WoodDeckSF</th>\n",
              "      <th>OpenPorchSF</th>\n",
              "      <th>EnclosedPorch</th>\n",
              "      <th>3SsnPorch</th>\n",
              "      <th>ScreenPorch</th>\n",
              "      <th>PoolArea</th>\n",
              "      <th>PoolQC</th>\n",
              "      <th>Fence</th>\n",
              "      <th>MiscFeature</th>\n",
              "      <th>MiscVal</th>\n",
              "      <th>MoSold</th>\n",
              "      <th>YrSold</th>\n",
              "      <th>SaleType</th>\n",
              "      <th>SaleCondition</th>\n",
              "      <th>SalePrice</th>\n",
              "      <th>matching_exterior_type</th>\n",
              "      <th>logprice</th>\n",
              "      <th>fullhalfbath_interaction</th>\n",
              "      <th>sold_pre_2008</th>\n",
              "      <th>age_sold</th>\n",
              "      <th>years_since_remod</th>\n",
              "      <th>age_remod_interaction</th>\n",
              "      <th>age_sold_squared</th>\n",
              "      <th>years_since_remod_squared</th>\n",
              "      <th>age_remod_interaction_squared</th>\n",
              "      <th>floor_interaction</th>\n",
              "      <th>mszoning_RL</th>\n",
              "      <th>mszoning_c</th>\n",
              "      <th>mszoning_RM</th>\n",
              "      <th>mszoning_FV</th>\n",
              "      <th>good_area</th>\n",
              "      <th>bad_area</th>\n",
              "      <th>one_fam_home</th>\n",
              "      <th>townhouse</th>\n",
              "      <th>miscfeature_isnone</th>\n",
              "      <th>has_shed</th>\n",
              "      <th>new_home</th>\n",
              "      <th>saletype_cod</th>\n",
              "      <th>saletype_lowdn_lowint</th>\n",
              "      <th>attached_garage</th>\n",
              "      <th>detchd_garage</th>\n",
              "      <th>lotarea_squared</th>\n",
              "      <th>overallqual_squared</th>\n",
              "      <th>overallcond_squared</th>\n",
              "      <th>is_start_of_school</th>\n",
              "      <th>is_spring</th>\n",
              "      <th>remodeled?</th>\n",
              "      <th>age_remodeled_interaction_good</th>\n",
              "      <th>sq_footage_fsb</th>\n",
              "      <th>sqfootage_fsb_squared</th>\n",
              "      <th>fullbath_squared</th>\n",
              "      <th>grlivarea_squared</th>\n",
              "      <th>heating_gasa</th>\n",
              "      <th>heating_qual_ex</th>\n",
              "      <th>heating_qual_pr</th>\n",
              "      <th>heating_qual_fa</th>\n",
              "      <th>bsmt_unfin_percent</th>\n",
              "      <th>finished_bsmt</th>\n",
              "      <th>pos1_feedr_art</th>\n",
              "      <th>pos2_feedr_art</th>\n",
              "      <th>pos1_pos2_sum1</th>\n",
              "      <th>pos1_pos2_sum2</th>\n",
              "      <th>onehalf_fin</th>\n",
              "      <th>onehalf_unfin</th>\n",
              "      <th>kitchen_numeric</th>\n",
              "      <th>kitchen_numeric_squared</th>\n",
              "      <th>garage_cars_squared</th>\n",
              "      <th>atypical_function</th>\n",
              "      <th>exterior_exc</th>\n",
              "      <th>salecond_partial</th>\n",
              "      <th>salecond_abnorml</th>\n",
              "      <th>no_fireplace</th>\n",
              "      <th>two_or_more_fireplaces</th>\n",
              "      <th>lotfrontage_squared</th>\n",
              "      <th>electrical_is_brkr</th>\n",
              "      <th>electrical_is_F</th>\n",
              "      <th>electrical_is_A</th>\n",
              "      <th>electrical_is_P</th>\n",
              "      <th>overallcond_5over</th>\n",
              "      <th>garagearea_squared</th>\n",
              "      <th>sq_footage_fsbg</th>\n",
              "      <th>sq_footage_fsbg_squared</th>\n",
              "      <th>banked_land</th>\n",
              "      <th>HLS_land</th>\n",
              "      <th>landslope_mod_sev</th>\n",
              "      <th>land_interaction</th>\n",
              "      <th>salecond_adjland</th>\n",
              "      <th>salecond_alloca</th>\n",
              "      <th>salecond_family</th>\n",
              "      <th>has_pool</th>\n",
              "      <th>pool_exc</th>\n",
              "      <th>paved_drive_numeric</th>\n",
              "      <th>paved_drive_squared</th>\n",
              "      <th>OpenPorchSF_squared</th>\n",
              "      <th>WoodDeckSF_squared</th>\n",
              "      <th>EnclosedPorch_squared</th>\n",
              "      <th>ScreenPorch_squared</th>\n",
              "      <th>garageQual_numeric</th>\n",
              "      <th>garageQual_numeric_squared</th>\n",
              "      <th>garage_unf</th>\n",
              "      <th>garage_Fin</th>\n",
              "      <th>no_central_air</th>\n",
              "      <th>Foundation__BrkTil</th>\n",
              "      <th>Foundation__CBlock</th>\n",
              "      <th>Foundation__PConc</th>\n",
              "      <th>Foundation__Slab</th>\n",
              "      <th>Foundation__Stone</th>\n",
              "      <th>Foundation__Wood</th>\n",
              "      <th>RoofStyle_Hip</th>\n",
              "      <th>RoofStyle_Gambrel</th>\n",
              "    </tr>\n",
              "  </thead>\n",
              "  <tbody>\n",
              "    <tr>\n",
              "      <th>0</th>\n",
              "      <td>1</td>\n",
              "      <td>60</td>\n",
              "      <td>RL</td>\n",
              "      <td>65.0</td>\n",
              "      <td>8450</td>\n",
              "      <td>Pave</td>\n",
              "      <td>NaN</td>\n",
              "      <td>Reg</td>\n",
              "      <td>Lvl</td>\n",
              "      <td>AllPub</td>\n",
              "      <td>Inside</td>\n",
              "      <td>Gtl</td>\n",
              "      <td>CollgCr</td>\n",
              "      <td>Norm</td>\n",
              "      <td>Norm</td>\n",
              "      <td>1Fam</td>\n",
              "      <td>2Story</td>\n",
              "      <td>7</td>\n",
              "      <td>5</td>\n",
              "      <td>2003</td>\n",
              "      <td>2003</td>\n",
              "      <td>Gable</td>\n",
              "      <td>CompShg</td>\n",
              "      <td>VinylSd</td>\n",
              "      <td>VinylSd</td>\n",
              "      <td>BrkFace</td>\n",
              "      <td>196.0</td>\n",
              "      <td>Gd</td>\n",
              "      <td>TA</td>\n",
              "      <td>Gd</td>\n",
              "      <td>TA</td>\n",
              "      <td>No</td>\n",
              "      <td>GLQ</td>\n",
              "      <td>706</td>\n",
              "      <td>Unf</td>\n",
              "      <td>0</td>\n",
              "      <td>150</td>\n",
              "      <td>856</td>\n",
              "      <td>GasA</td>\n",
              "      <td>Ex</td>\n",
              "      <td>Y</td>\n",
              "      <td>SBrkr</td>\n",
              "      <td>856</td>\n",
              "      <td>854</td>\n",
              "      <td>0</td>\n",
              "      <td>1710</td>\n",
              "      <td>1</td>\n",
              "      <td>0</td>\n",
              "      <td>2</td>\n",
              "      <td>1</td>\n",
              "      <td>3</td>\n",
              "      <td>1</td>\n",
              "      <td>Gd</td>\n",
              "      <td>8</td>\n",
              "      <td>Typ</td>\n",
              "      <td>0</td>\n",
              "      <td>NaN</td>\n",
              "      <td>Attchd</td>\n",
              "      <td>2003.0</td>\n",
              "      <td>RFn</td>\n",
              "      <td>2</td>\n",
              "      <td>548</td>\n",
              "      <td>TA</td>\n",
              "      <td>TA</td>\n",
              "      <td>Y</td>\n",
              "      <td>0</td>\n",
              "      <td>61</td>\n",
              "      <td>0</td>\n",
              "      <td>0</td>\n",
              "      <td>0</td>\n",
              "      <td>0</td>\n",
              "      <td>NaN</td>\n",
              "      <td>NaN</td>\n",
              "      <td>None</td>\n",
              "      <td>0</td>\n",
              "      <td>2</td>\n",
              "      <td>2008</td>\n",
              "      <td>WD</td>\n",
              "      <td>Normal</td>\n",
              "      <td>208500</td>\n",
              "      <td>True</td>\n",
              "      <td>12.247694</td>\n",
              "      <td>2</td>\n",
              "      <td>False</td>\n",
              "      <td>5</td>\n",
              "      <td>5</td>\n",
              "      <td>25</td>\n",
              "      <td>25</td>\n",
              "      <td>5</td>\n",
              "      <td>125</td>\n",
              "      <td>731024</td>\n",
              "      <td>True</td>\n",
              "      <td>False</td>\n",
              "      <td>False</td>\n",
              "      <td>False</td>\n",
              "      <td>False</td>\n",
              "      <td>False</td>\n",
              "      <td>True</td>\n",
              "      <td>False</td>\n",
              "      <td>True</td>\n",
              "      <td>False</td>\n",
              "      <td>False</td>\n",
              "      <td>False</td>\n",
              "      <td>False</td>\n",
              "      <td>True</td>\n",
              "      <td>False</td>\n",
              "      <td>71402500</td>\n",
              "      <td>49</td>\n",
              "      <td>25</td>\n",
              "      <td>False</td>\n",
              "      <td>False</td>\n",
              "      <td>False</td>\n",
              "      <td>0</td>\n",
              "      <td>2416</td>\n",
              "      <td>5837056</td>\n",
              "      <td>4</td>\n",
              "      <td>2924100</td>\n",
              "      <td>True</td>\n",
              "      <td>True</td>\n",
              "      <td>False</td>\n",
              "      <td>False</td>\n",
              "      <td>0.175234</td>\n",
              "      <td>False</td>\n",
              "      <td>False</td>\n",
              "      <td>False</td>\n",
              "      <td>False</td>\n",
              "      <td>False</td>\n",
              "      <td>False</td>\n",
              "      <td>False</td>\n",
              "      <td>4</td>\n",
              "      <td>16</td>\n",
              "      <td>4</td>\n",
              "      <td>False</td>\n",
              "      <td>False</td>\n",
              "      <td>False</td>\n",
              "      <td>False</td>\n",
              "      <td>True</td>\n",
              "      <td>False</td>\n",
              "      <td>4225.0</td>\n",
              "      <td>True</td>\n",
              "      <td>False</td>\n",
              "      <td>False</td>\n",
              "      <td>False</td>\n",
              "      <td>True</td>\n",
              "      <td>300304</td>\n",
              "      <td>2964</td>\n",
              "      <td>8785296</td>\n",
              "      <td>False</td>\n",
              "      <td>False</td>\n",
              "      <td>False</td>\n",
              "      <td>False</td>\n",
              "      <td>False</td>\n",
              "      <td>False</td>\n",
              "      <td>False</td>\n",
              "      <td>False</td>\n",
              "      <td>False</td>\n",
              "      <td>2</td>\n",
              "      <td>4</td>\n",
              "      <td>3721</td>\n",
              "      <td>0</td>\n",
              "      <td>0</td>\n",
              "      <td>0</td>\n",
              "      <td>2</td>\n",
              "      <td>4</td>\n",
              "      <td>False</td>\n",
              "      <td>False</td>\n",
              "      <td>False</td>\n",
              "      <td>0</td>\n",
              "      <td>0</td>\n",
              "      <td>1</td>\n",
              "      <td>0</td>\n",
              "      <td>0</td>\n",
              "      <td>0</td>\n",
              "      <td>False</td>\n",
              "      <td>False</td>\n",
              "    </tr>\n",
              "    <tr>\n",
              "      <th>1</th>\n",
              "      <td>2</td>\n",
              "      <td>20</td>\n",
              "      <td>RL</td>\n",
              "      <td>80.0</td>\n",
              "      <td>9600</td>\n",
              "      <td>Pave</td>\n",
              "      <td>NaN</td>\n",
              "      <td>Reg</td>\n",
              "      <td>Lvl</td>\n",
              "      <td>AllPub</td>\n",
              "      <td>FR2</td>\n",
              "      <td>Gtl</td>\n",
              "      <td>Veenker</td>\n",
              "      <td>Feedr</td>\n",
              "      <td>Norm</td>\n",
              "      <td>1Fam</td>\n",
              "      <td>1Story</td>\n",
              "      <td>6</td>\n",
              "      <td>8</td>\n",
              "      <td>1976</td>\n",
              "      <td>1976</td>\n",
              "      <td>Gable</td>\n",
              "      <td>CompShg</td>\n",
              "      <td>MetalSd</td>\n",
              "      <td>MetalSd</td>\n",
              "      <td>None</td>\n",
              "      <td>0.0</td>\n",
              "      <td>TA</td>\n",
              "      <td>TA</td>\n",
              "      <td>Gd</td>\n",
              "      <td>TA</td>\n",
              "      <td>Gd</td>\n",
              "      <td>ALQ</td>\n",
              "      <td>978</td>\n",
              "      <td>Unf</td>\n",
              "      <td>0</td>\n",
              "      <td>284</td>\n",
              "      <td>1262</td>\n",
              "      <td>GasA</td>\n",
              "      <td>Ex</td>\n",
              "      <td>Y</td>\n",
              "      <td>SBrkr</td>\n",
              "      <td>1262</td>\n",
              "      <td>0</td>\n",
              "      <td>0</td>\n",
              "      <td>1262</td>\n",
              "      <td>0</td>\n",
              "      <td>1</td>\n",
              "      <td>2</td>\n",
              "      <td>0</td>\n",
              "      <td>3</td>\n",
              "      <td>1</td>\n",
              "      <td>TA</td>\n",
              "      <td>6</td>\n",
              "      <td>Typ</td>\n",
              "      <td>1</td>\n",
              "      <td>TA</td>\n",
              "      <td>Attchd</td>\n",
              "      <td>1976.0</td>\n",
              "      <td>RFn</td>\n",
              "      <td>2</td>\n",
              "      <td>460</td>\n",
              "      <td>TA</td>\n",
              "      <td>TA</td>\n",
              "      <td>Y</td>\n",
              "      <td>298</td>\n",
              "      <td>0</td>\n",
              "      <td>0</td>\n",
              "      <td>0</td>\n",
              "      <td>0</td>\n",
              "      <td>0</td>\n",
              "      <td>NaN</td>\n",
              "      <td>NaN</td>\n",
              "      <td>None</td>\n",
              "      <td>0</td>\n",
              "      <td>5</td>\n",
              "      <td>2007</td>\n",
              "      <td>WD</td>\n",
              "      <td>Normal</td>\n",
              "      <td>181500</td>\n",
              "      <td>True</td>\n",
              "      <td>12.109011</td>\n",
              "      <td>0</td>\n",
              "      <td>True</td>\n",
              "      <td>31</td>\n",
              "      <td>31</td>\n",
              "      <td>961</td>\n",
              "      <td>961</td>\n",
              "      <td>31</td>\n",
              "      <td>29791</td>\n",
              "      <td>0</td>\n",
              "      <td>True</td>\n",
              "      <td>False</td>\n",
              "      <td>False</td>\n",
              "      <td>False</td>\n",
              "      <td>False</td>\n",
              "      <td>False</td>\n",
              "      <td>True</td>\n",
              "      <td>False</td>\n",
              "      <td>True</td>\n",
              "      <td>False</td>\n",
              "      <td>False</td>\n",
              "      <td>False</td>\n",
              "      <td>False</td>\n",
              "      <td>True</td>\n",
              "      <td>False</td>\n",
              "      <td>92160000</td>\n",
              "      <td>36</td>\n",
              "      <td>64</td>\n",
              "      <td>False</td>\n",
              "      <td>True</td>\n",
              "      <td>False</td>\n",
              "      <td>0</td>\n",
              "      <td>2240</td>\n",
              "      <td>5017600</td>\n",
              "      <td>4</td>\n",
              "      <td>1592644</td>\n",
              "      <td>True</td>\n",
              "      <td>True</td>\n",
              "      <td>False</td>\n",
              "      <td>False</td>\n",
              "      <td>0.225040</td>\n",
              "      <td>False</td>\n",
              "      <td>True</td>\n",
              "      <td>False</td>\n",
              "      <td>True</td>\n",
              "      <td>False</td>\n",
              "      <td>False</td>\n",
              "      <td>False</td>\n",
              "      <td>3</td>\n",
              "      <td>9</td>\n",
              "      <td>4</td>\n",
              "      <td>False</td>\n",
              "      <td>False</td>\n",
              "      <td>False</td>\n",
              "      <td>False</td>\n",
              "      <td>False</td>\n",
              "      <td>False</td>\n",
              "      <td>6400.0</td>\n",
              "      <td>True</td>\n",
              "      <td>False</td>\n",
              "      <td>False</td>\n",
              "      <td>False</td>\n",
              "      <td>True</td>\n",
              "      <td>211600</td>\n",
              "      <td>2700</td>\n",
              "      <td>7290000</td>\n",
              "      <td>False</td>\n",
              "      <td>False</td>\n",
              "      <td>False</td>\n",
              "      <td>False</td>\n",
              "      <td>False</td>\n",
              "      <td>False</td>\n",
              "      <td>False</td>\n",
              "      <td>False</td>\n",
              "      <td>False</td>\n",
              "      <td>2</td>\n",
              "      <td>4</td>\n",
              "      <td>0</td>\n",
              "      <td>88804</td>\n",
              "      <td>0</td>\n",
              "      <td>0</td>\n",
              "      <td>2</td>\n",
              "      <td>4</td>\n",
              "      <td>False</td>\n",
              "      <td>False</td>\n",
              "      <td>False</td>\n",
              "      <td>0</td>\n",
              "      <td>1</td>\n",
              "      <td>0</td>\n",
              "      <td>0</td>\n",
              "      <td>0</td>\n",
              "      <td>0</td>\n",
              "      <td>False</td>\n",
              "      <td>False</td>\n",
              "    </tr>\n",
              "    <tr>\n",
              "      <th>2</th>\n",
              "      <td>3</td>\n",
              "      <td>60</td>\n",
              "      <td>RL</td>\n",
              "      <td>68.0</td>\n",
              "      <td>11250</td>\n",
              "      <td>Pave</td>\n",
              "      <td>NaN</td>\n",
              "      <td>IR1</td>\n",
              "      <td>Lvl</td>\n",
              "      <td>AllPub</td>\n",
              "      <td>Inside</td>\n",
              "      <td>Gtl</td>\n",
              "      <td>CollgCr</td>\n",
              "      <td>Norm</td>\n",
              "      <td>Norm</td>\n",
              "      <td>1Fam</td>\n",
              "      <td>2Story</td>\n",
              "      <td>7</td>\n",
              "      <td>5</td>\n",
              "      <td>2001</td>\n",
              "      <td>2002</td>\n",
              "      <td>Gable</td>\n",
              "      <td>CompShg</td>\n",
              "      <td>VinylSd</td>\n",
              "      <td>VinylSd</td>\n",
              "      <td>BrkFace</td>\n",
              "      <td>162.0</td>\n",
              "      <td>Gd</td>\n",
              "      <td>TA</td>\n",
              "      <td>Gd</td>\n",
              "      <td>TA</td>\n",
              "      <td>Mn</td>\n",
              "      <td>GLQ</td>\n",
              "      <td>486</td>\n",
              "      <td>Unf</td>\n",
              "      <td>0</td>\n",
              "      <td>434</td>\n",
              "      <td>920</td>\n",
              "      <td>GasA</td>\n",
              "      <td>Ex</td>\n",
              "      <td>Y</td>\n",
              "      <td>SBrkr</td>\n",
              "      <td>920</td>\n",
              "      <td>866</td>\n",
              "      <td>0</td>\n",
              "      <td>1786</td>\n",
              "      <td>1</td>\n",
              "      <td>0</td>\n",
              "      <td>2</td>\n",
              "      <td>1</td>\n",
              "      <td>3</td>\n",
              "      <td>1</td>\n",
              "      <td>Gd</td>\n",
              "      <td>6</td>\n",
              "      <td>Typ</td>\n",
              "      <td>1</td>\n",
              "      <td>TA</td>\n",
              "      <td>Attchd</td>\n",
              "      <td>2001.0</td>\n",
              "      <td>RFn</td>\n",
              "      <td>2</td>\n",
              "      <td>608</td>\n",
              "      <td>TA</td>\n",
              "      <td>TA</td>\n",
              "      <td>Y</td>\n",
              "      <td>0</td>\n",
              "      <td>42</td>\n",
              "      <td>0</td>\n",
              "      <td>0</td>\n",
              "      <td>0</td>\n",
              "      <td>0</td>\n",
              "      <td>NaN</td>\n",
              "      <td>NaN</td>\n",
              "      <td>None</td>\n",
              "      <td>0</td>\n",
              "      <td>9</td>\n",
              "      <td>2008</td>\n",
              "      <td>WD</td>\n",
              "      <td>Normal</td>\n",
              "      <td>223500</td>\n",
              "      <td>True</td>\n",
              "      <td>12.317167</td>\n",
              "      <td>2</td>\n",
              "      <td>False</td>\n",
              "      <td>7</td>\n",
              "      <td>6</td>\n",
              "      <td>42</td>\n",
              "      <td>49</td>\n",
              "      <td>6</td>\n",
              "      <td>294</td>\n",
              "      <td>796720</td>\n",
              "      <td>True</td>\n",
              "      <td>False</td>\n",
              "      <td>False</td>\n",
              "      <td>False</td>\n",
              "      <td>False</td>\n",
              "      <td>False</td>\n",
              "      <td>True</td>\n",
              "      <td>False</td>\n",
              "      <td>True</td>\n",
              "      <td>False</td>\n",
              "      <td>False</td>\n",
              "      <td>False</td>\n",
              "      <td>False</td>\n",
              "      <td>True</td>\n",
              "      <td>False</td>\n",
              "      <td>126562500</td>\n",
              "      <td>49</td>\n",
              "      <td>25</td>\n",
              "      <td>True</td>\n",
              "      <td>False</td>\n",
              "      <td>True</td>\n",
              "      <td>7</td>\n",
              "      <td>2272</td>\n",
              "      <td>5161984</td>\n",
              "      <td>4</td>\n",
              "      <td>3189796</td>\n",
              "      <td>True</td>\n",
              "      <td>True</td>\n",
              "      <td>False</td>\n",
              "      <td>False</td>\n",
              "      <td>0.471739</td>\n",
              "      <td>False</td>\n",
              "      <td>False</td>\n",
              "      <td>False</td>\n",
              "      <td>False</td>\n",
              "      <td>False</td>\n",
              "      <td>False</td>\n",
              "      <td>False</td>\n",
              "      <td>4</td>\n",
              "      <td>16</td>\n",
              "      <td>4</td>\n",
              "      <td>False</td>\n",
              "      <td>False</td>\n",
              "      <td>False</td>\n",
              "      <td>False</td>\n",
              "      <td>False</td>\n",
              "      <td>False</td>\n",
              "      <td>4624.0</td>\n",
              "      <td>True</td>\n",
              "      <td>False</td>\n",
              "      <td>False</td>\n",
              "      <td>False</td>\n",
              "      <td>True</td>\n",
              "      <td>369664</td>\n",
              "      <td>2880</td>\n",
              "      <td>8294400</td>\n",
              "      <td>False</td>\n",
              "      <td>False</td>\n",
              "      <td>False</td>\n",
              "      <td>False</td>\n",
              "      <td>False</td>\n",
              "      <td>False</td>\n",
              "      <td>False</td>\n",
              "      <td>False</td>\n",
              "      <td>False</td>\n",
              "      <td>2</td>\n",
              "      <td>4</td>\n",
              "      <td>1764</td>\n",
              "      <td>0</td>\n",
              "      <td>0</td>\n",
              "      <td>0</td>\n",
              "      <td>2</td>\n",
              "      <td>4</td>\n",
              "      <td>False</td>\n",
              "      <td>False</td>\n",
              "      <td>False</td>\n",
              "      <td>0</td>\n",
              "      <td>0</td>\n",
              "      <td>1</td>\n",
              "      <td>0</td>\n",
              "      <td>0</td>\n",
              "      <td>0</td>\n",
              "      <td>False</td>\n",
              "      <td>False</td>\n",
              "    </tr>\n",
              "    <tr>\n",
              "      <th>3</th>\n",
              "      <td>4</td>\n",
              "      <td>70</td>\n",
              "      <td>RL</td>\n",
              "      <td>60.0</td>\n",
              "      <td>9550</td>\n",
              "      <td>Pave</td>\n",
              "      <td>NaN</td>\n",
              "      <td>IR1</td>\n",
              "      <td>Lvl</td>\n",
              "      <td>AllPub</td>\n",
              "      <td>Corner</td>\n",
              "      <td>Gtl</td>\n",
              "      <td>Crawfor</td>\n",
              "      <td>Norm</td>\n",
              "      <td>Norm</td>\n",
              "      <td>1Fam</td>\n",
              "      <td>2Story</td>\n",
              "      <td>7</td>\n",
              "      <td>5</td>\n",
              "      <td>1915</td>\n",
              "      <td>1970</td>\n",
              "      <td>Gable</td>\n",
              "      <td>CompShg</td>\n",
              "      <td>Wd Sdng</td>\n",
              "      <td>Wd Shng</td>\n",
              "      <td>None</td>\n",
              "      <td>0.0</td>\n",
              "      <td>TA</td>\n",
              "      <td>TA</td>\n",
              "      <td>TA</td>\n",
              "      <td>Gd</td>\n",
              "      <td>No</td>\n",
              "      <td>ALQ</td>\n",
              "      <td>216</td>\n",
              "      <td>Unf</td>\n",
              "      <td>0</td>\n",
              "      <td>540</td>\n",
              "      <td>756</td>\n",
              "      <td>GasA</td>\n",
              "      <td>Gd</td>\n",
              "      <td>Y</td>\n",
              "      <td>SBrkr</td>\n",
              "      <td>961</td>\n",
              "      <td>756</td>\n",
              "      <td>0</td>\n",
              "      <td>1717</td>\n",
              "      <td>1</td>\n",
              "      <td>0</td>\n",
              "      <td>1</td>\n",
              "      <td>0</td>\n",
              "      <td>3</td>\n",
              "      <td>1</td>\n",
              "      <td>Gd</td>\n",
              "      <td>7</td>\n",
              "      <td>Typ</td>\n",
              "      <td>1</td>\n",
              "      <td>Gd</td>\n",
              "      <td>Detchd</td>\n",
              "      <td>1998.0</td>\n",
              "      <td>Unf</td>\n",
              "      <td>3</td>\n",
              "      <td>642</td>\n",
              "      <td>TA</td>\n",
              "      <td>TA</td>\n",
              "      <td>Y</td>\n",
              "      <td>0</td>\n",
              "      <td>35</td>\n",
              "      <td>272</td>\n",
              "      <td>0</td>\n",
              "      <td>0</td>\n",
              "      <td>0</td>\n",
              "      <td>NaN</td>\n",
              "      <td>NaN</td>\n",
              "      <td>None</td>\n",
              "      <td>0</td>\n",
              "      <td>2</td>\n",
              "      <td>2006</td>\n",
              "      <td>WD</td>\n",
              "      <td>Abnorml</td>\n",
              "      <td>140000</td>\n",
              "      <td>False</td>\n",
              "      <td>11.849398</td>\n",
              "      <td>0</td>\n",
              "      <td>True</td>\n",
              "      <td>91</td>\n",
              "      <td>36</td>\n",
              "      <td>3276</td>\n",
              "      <td>8281</td>\n",
              "      <td>36</td>\n",
              "      <td>298116</td>\n",
              "      <td>726516</td>\n",
              "      <td>True</td>\n",
              "      <td>False</td>\n",
              "      <td>False</td>\n",
              "      <td>False</td>\n",
              "      <td>False</td>\n",
              "      <td>False</td>\n",
              "      <td>True</td>\n",
              "      <td>False</td>\n",
              "      <td>True</td>\n",
              "      <td>False</td>\n",
              "      <td>False</td>\n",
              "      <td>False</td>\n",
              "      <td>False</td>\n",
              "      <td>False</td>\n",
              "      <td>True</td>\n",
              "      <td>91202500</td>\n",
              "      <td>49</td>\n",
              "      <td>25</td>\n",
              "      <td>False</td>\n",
              "      <td>False</td>\n",
              "      <td>True</td>\n",
              "      <td>91</td>\n",
              "      <td>1933</td>\n",
              "      <td>3736489</td>\n",
              "      <td>1</td>\n",
              "      <td>2948089</td>\n",
              "      <td>True</td>\n",
              "      <td>False</td>\n",
              "      <td>False</td>\n",
              "      <td>False</td>\n",
              "      <td>0.714286</td>\n",
              "      <td>False</td>\n",
              "      <td>False</td>\n",
              "      <td>False</td>\n",
              "      <td>False</td>\n",
              "      <td>False</td>\n",
              "      <td>False</td>\n",
              "      <td>False</td>\n",
              "      <td>4</td>\n",
              "      <td>16</td>\n",
              "      <td>9</td>\n",
              "      <td>False</td>\n",
              "      <td>False</td>\n",
              "      <td>False</td>\n",
              "      <td>True</td>\n",
              "      <td>False</td>\n",
              "      <td>False</td>\n",
              "      <td>3600.0</td>\n",
              "      <td>True</td>\n",
              "      <td>False</td>\n",
              "      <td>False</td>\n",
              "      <td>False</td>\n",
              "      <td>True</td>\n",
              "      <td>412164</td>\n",
              "      <td>2575</td>\n",
              "      <td>6630625</td>\n",
              "      <td>False</td>\n",
              "      <td>False</td>\n",
              "      <td>False</td>\n",
              "      <td>False</td>\n",
              "      <td>False</td>\n",
              "      <td>False</td>\n",
              "      <td>False</td>\n",
              "      <td>False</td>\n",
              "      <td>False</td>\n",
              "      <td>2</td>\n",
              "      <td>4</td>\n",
              "      <td>1225</td>\n",
              "      <td>0</td>\n",
              "      <td>73984</td>\n",
              "      <td>0</td>\n",
              "      <td>2</td>\n",
              "      <td>4</td>\n",
              "      <td>True</td>\n",
              "      <td>False</td>\n",
              "      <td>False</td>\n",
              "      <td>1</td>\n",
              "      <td>0</td>\n",
              "      <td>0</td>\n",
              "      <td>0</td>\n",
              "      <td>0</td>\n",
              "      <td>0</td>\n",
              "      <td>False</td>\n",
              "      <td>False</td>\n",
              "    </tr>\n",
              "    <tr>\n",
              "      <th>4</th>\n",
              "      <td>5</td>\n",
              "      <td>60</td>\n",
              "      <td>RL</td>\n",
              "      <td>84.0</td>\n",
              "      <td>14260</td>\n",
              "      <td>Pave</td>\n",
              "      <td>NaN</td>\n",
              "      <td>IR1</td>\n",
              "      <td>Lvl</td>\n",
              "      <td>AllPub</td>\n",
              "      <td>FR2</td>\n",
              "      <td>Gtl</td>\n",
              "      <td>NoRidge</td>\n",
              "      <td>Norm</td>\n",
              "      <td>Norm</td>\n",
              "      <td>1Fam</td>\n",
              "      <td>2Story</td>\n",
              "      <td>8</td>\n",
              "      <td>5</td>\n",
              "      <td>2000</td>\n",
              "      <td>2000</td>\n",
              "      <td>Gable</td>\n",
              "      <td>CompShg</td>\n",
              "      <td>VinylSd</td>\n",
              "      <td>VinylSd</td>\n",
              "      <td>BrkFace</td>\n",
              "      <td>350.0</td>\n",
              "      <td>Gd</td>\n",
              "      <td>TA</td>\n",
              "      <td>Gd</td>\n",
              "      <td>TA</td>\n",
              "      <td>Av</td>\n",
              "      <td>GLQ</td>\n",
              "      <td>655</td>\n",
              "      <td>Unf</td>\n",
              "      <td>0</td>\n",
              "      <td>490</td>\n",
              "      <td>1145</td>\n",
              "      <td>GasA</td>\n",
              "      <td>Ex</td>\n",
              "      <td>Y</td>\n",
              "      <td>SBrkr</td>\n",
              "      <td>1145</td>\n",
              "      <td>1053</td>\n",
              "      <td>0</td>\n",
              "      <td>2198</td>\n",
              "      <td>1</td>\n",
              "      <td>0</td>\n",
              "      <td>2</td>\n",
              "      <td>1</td>\n",
              "      <td>4</td>\n",
              "      <td>1</td>\n",
              "      <td>Gd</td>\n",
              "      <td>9</td>\n",
              "      <td>Typ</td>\n",
              "      <td>1</td>\n",
              "      <td>TA</td>\n",
              "      <td>Attchd</td>\n",
              "      <td>2000.0</td>\n",
              "      <td>RFn</td>\n",
              "      <td>3</td>\n",
              "      <td>836</td>\n",
              "      <td>TA</td>\n",
              "      <td>TA</td>\n",
              "      <td>Y</td>\n",
              "      <td>192</td>\n",
              "      <td>84</td>\n",
              "      <td>0</td>\n",
              "      <td>0</td>\n",
              "      <td>0</td>\n",
              "      <td>0</td>\n",
              "      <td>NaN</td>\n",
              "      <td>NaN</td>\n",
              "      <td>None</td>\n",
              "      <td>0</td>\n",
              "      <td>12</td>\n",
              "      <td>2008</td>\n",
              "      <td>WD</td>\n",
              "      <td>Normal</td>\n",
              "      <td>250000</td>\n",
              "      <td>True</td>\n",
              "      <td>12.429216</td>\n",
              "      <td>2</td>\n",
              "      <td>False</td>\n",
              "      <td>8</td>\n",
              "      <td>8</td>\n",
              "      <td>64</td>\n",
              "      <td>64</td>\n",
              "      <td>8</td>\n",
              "      <td>512</td>\n",
              "      <td>1205685</td>\n",
              "      <td>True</td>\n",
              "      <td>False</td>\n",
              "      <td>False</td>\n",
              "      <td>False</td>\n",
              "      <td>True</td>\n",
              "      <td>False</td>\n",
              "      <td>True</td>\n",
              "      <td>False</td>\n",
              "      <td>True</td>\n",
              "      <td>False</td>\n",
              "      <td>False</td>\n",
              "      <td>False</td>\n",
              "      <td>False</td>\n",
              "      <td>True</td>\n",
              "      <td>False</td>\n",
              "      <td>203347600</td>\n",
              "      <td>64</td>\n",
              "      <td>25</td>\n",
              "      <td>False</td>\n",
              "      <td>False</td>\n",
              "      <td>False</td>\n",
              "      <td>0</td>\n",
              "      <td>2853</td>\n",
              "      <td>8139609</td>\n",
              "      <td>4</td>\n",
              "      <td>4831204</td>\n",
              "      <td>True</td>\n",
              "      <td>True</td>\n",
              "      <td>False</td>\n",
              "      <td>False</td>\n",
              "      <td>0.427948</td>\n",
              "      <td>False</td>\n",
              "      <td>False</td>\n",
              "      <td>False</td>\n",
              "      <td>False</td>\n",
              "      <td>False</td>\n",
              "      <td>False</td>\n",
              "      <td>False</td>\n",
              "      <td>4</td>\n",
              "      <td>16</td>\n",
              "      <td>9</td>\n",
              "      <td>False</td>\n",
              "      <td>False</td>\n",
              "      <td>False</td>\n",
              "      <td>False</td>\n",
              "      <td>False</td>\n",
              "      <td>False</td>\n",
              "      <td>7056.0</td>\n",
              "      <td>True</td>\n",
              "      <td>False</td>\n",
              "      <td>False</td>\n",
              "      <td>False</td>\n",
              "      <td>True</td>\n",
              "      <td>698896</td>\n",
              "      <td>3689</td>\n",
              "      <td>13608721</td>\n",
              "      <td>False</td>\n",
              "      <td>False</td>\n",
              "      <td>False</td>\n",
              "      <td>False</td>\n",
              "      <td>False</td>\n",
              "      <td>False</td>\n",
              "      <td>False</td>\n",
              "      <td>False</td>\n",
              "      <td>False</td>\n",
              "      <td>2</td>\n",
              "      <td>4</td>\n",
              "      <td>7056</td>\n",
              "      <td>36864</td>\n",
              "      <td>0</td>\n",
              "      <td>0</td>\n",
              "      <td>2</td>\n",
              "      <td>4</td>\n",
              "      <td>False</td>\n",
              "      <td>False</td>\n",
              "      <td>False</td>\n",
              "      <td>0</td>\n",
              "      <td>0</td>\n",
              "      <td>1</td>\n",
              "      <td>0</td>\n",
              "      <td>0</td>\n",
              "      <td>0</td>\n",
              "      <td>False</td>\n",
              "      <td>False</td>\n",
              "    </tr>\n",
              "  </tbody>\n",
              "</table>\n",
              "</div>"
            ],
            "text/plain": [
              "   Id  MSSubClass MSZoning  LotFrontage  LotArea Street Alley LotShape  \\\n",
              "0   1          60       RL         65.0     8450   Pave   NaN      Reg   \n",
              "1   2          20       RL         80.0     9600   Pave   NaN      Reg   \n",
              "2   3          60       RL         68.0    11250   Pave   NaN      IR1   \n",
              "3   4          70       RL         60.0     9550   Pave   NaN      IR1   \n",
              "4   5          60       RL         84.0    14260   Pave   NaN      IR1   \n",
              "\n",
              "  LandContour Utilities LotConfig LandSlope Neighborhood Condition1  \\\n",
              "0         Lvl    AllPub    Inside       Gtl      CollgCr       Norm   \n",
              "1         Lvl    AllPub       FR2       Gtl      Veenker      Feedr   \n",
              "2         Lvl    AllPub    Inside       Gtl      CollgCr       Norm   \n",
              "3         Lvl    AllPub    Corner       Gtl      Crawfor       Norm   \n",
              "4         Lvl    AllPub       FR2       Gtl      NoRidge       Norm   \n",
              "\n",
              "  Condition2 BldgType HouseStyle  OverallQual  OverallCond  YearBuilt  \\\n",
              "0       Norm     1Fam     2Story            7            5       2003   \n",
              "1       Norm     1Fam     1Story            6            8       1976   \n",
              "2       Norm     1Fam     2Story            7            5       2001   \n",
              "3       Norm     1Fam     2Story            7            5       1915   \n",
              "4       Norm     1Fam     2Story            8            5       2000   \n",
              "\n",
              "   YearRemodAdd RoofStyle RoofMatl Exterior1st Exterior2nd MasVnrType  \\\n",
              "0          2003     Gable  CompShg     VinylSd     VinylSd    BrkFace   \n",
              "1          1976     Gable  CompShg     MetalSd     MetalSd       None   \n",
              "2          2002     Gable  CompShg     VinylSd     VinylSd    BrkFace   \n",
              "3          1970     Gable  CompShg     Wd Sdng     Wd Shng       None   \n",
              "4          2000     Gable  CompShg     VinylSd     VinylSd    BrkFace   \n",
              "\n",
              "   MasVnrArea ExterQual ExterCond BsmtQual BsmtCond BsmtExposure BsmtFinType1  \\\n",
              "0       196.0        Gd        TA       Gd       TA           No          GLQ   \n",
              "1         0.0        TA        TA       Gd       TA           Gd          ALQ   \n",
              "2       162.0        Gd        TA       Gd       TA           Mn          GLQ   \n",
              "3         0.0        TA        TA       TA       Gd           No          ALQ   \n",
              "4       350.0        Gd        TA       Gd       TA           Av          GLQ   \n",
              "\n",
              "   BsmtFinSF1 BsmtFinType2  BsmtFinSF2  BsmtUnfSF  TotalBsmtSF Heating  \\\n",
              "0         706          Unf           0        150          856    GasA   \n",
              "1         978          Unf           0        284         1262    GasA   \n",
              "2         486          Unf           0        434          920    GasA   \n",
              "3         216          Unf           0        540          756    GasA   \n",
              "4         655          Unf           0        490         1145    GasA   \n",
              "\n",
              "  HeatingQC CentralAir Electrical  1stFlrSF  2ndFlrSF  LowQualFinSF  \\\n",
              "0        Ex          Y      SBrkr       856       854             0   \n",
              "1        Ex          Y      SBrkr      1262         0             0   \n",
              "2        Ex          Y      SBrkr       920       866             0   \n",
              "3        Gd          Y      SBrkr       961       756             0   \n",
              "4        Ex          Y      SBrkr      1145      1053             0   \n",
              "\n",
              "   GrLivArea  BsmtFullBath  BsmtHalfBath  FullBath  HalfBath  BedroomAbvGr  \\\n",
              "0       1710             1             0         2         1             3   \n",
              "1       1262             0             1         2         0             3   \n",
              "2       1786             1             0         2         1             3   \n",
              "3       1717             1             0         1         0             3   \n",
              "4       2198             1             0         2         1             4   \n",
              "\n",
              "   KitchenAbvGr KitchenQual  TotRmsAbvGrd Functional  Fireplaces FireplaceQu  \\\n",
              "0             1          Gd             8        Typ           0         NaN   \n",
              "1             1          TA             6        Typ           1          TA   \n",
              "2             1          Gd             6        Typ           1          TA   \n",
              "3             1          Gd             7        Typ           1          Gd   \n",
              "4             1          Gd             9        Typ           1          TA   \n",
              "\n",
              "  GarageType  GarageYrBlt GarageFinish  GarageCars  GarageArea GarageQual  \\\n",
              "0     Attchd       2003.0          RFn           2         548         TA   \n",
              "1     Attchd       1976.0          RFn           2         460         TA   \n",
              "2     Attchd       2001.0          RFn           2         608         TA   \n",
              "3     Detchd       1998.0          Unf           3         642         TA   \n",
              "4     Attchd       2000.0          RFn           3         836         TA   \n",
              "\n",
              "  GarageCond PavedDrive  WoodDeckSF  OpenPorchSF  EnclosedPorch  3SsnPorch  \\\n",
              "0         TA          Y           0           61              0          0   \n",
              "1         TA          Y         298            0              0          0   \n",
              "2         TA          Y           0           42              0          0   \n",
              "3         TA          Y           0           35            272          0   \n",
              "4         TA          Y         192           84              0          0   \n",
              "\n",
              "   ScreenPorch  PoolArea PoolQC Fence MiscFeature  MiscVal  MoSold  YrSold  \\\n",
              "0            0         0    NaN   NaN        None        0       2    2008   \n",
              "1            0         0    NaN   NaN        None        0       5    2007   \n",
              "2            0         0    NaN   NaN        None        0       9    2008   \n",
              "3            0         0    NaN   NaN        None        0       2    2006   \n",
              "4            0         0    NaN   NaN        None        0      12    2008   \n",
              "\n",
              "  SaleType SaleCondition  SalePrice  matching_exterior_type   logprice  \\\n",
              "0       WD        Normal     208500                    True  12.247694   \n",
              "1       WD        Normal     181500                    True  12.109011   \n",
              "2       WD        Normal     223500                    True  12.317167   \n",
              "3       WD       Abnorml     140000                   False  11.849398   \n",
              "4       WD        Normal     250000                    True  12.429216   \n",
              "\n",
              "   fullhalfbath_interaction  sold_pre_2008  age_sold  years_since_remod  \\\n",
              "0                         2          False         5                  5   \n",
              "1                         0           True        31                 31   \n",
              "2                         2          False         7                  6   \n",
              "3                         0           True        91                 36   \n",
              "4                         2          False         8                  8   \n",
              "\n",
              "   age_remod_interaction  age_sold_squared  years_since_remod_squared  \\\n",
              "0                     25                25                          5   \n",
              "1                    961               961                         31   \n",
              "2                     42                49                          6   \n",
              "3                   3276              8281                         36   \n",
              "4                     64                64                          8   \n",
              "\n",
              "   age_remod_interaction_squared  floor_interaction  mszoning_RL  mszoning_c  \\\n",
              "0                            125             731024         True       False   \n",
              "1                          29791                  0         True       False   \n",
              "2                            294             796720         True       False   \n",
              "3                         298116             726516         True       False   \n",
              "4                            512            1205685         True       False   \n",
              "\n",
              "   mszoning_RM  mszoning_FV  good_area  bad_area  one_fam_home  townhouse  \\\n",
              "0        False        False      False     False          True      False   \n",
              "1        False        False      False     False          True      False   \n",
              "2        False        False      False     False          True      False   \n",
              "3        False        False      False     False          True      False   \n",
              "4        False        False       True     False          True      False   \n",
              "\n",
              "   miscfeature_isnone  has_shed  new_home  saletype_cod  \\\n",
              "0                True     False     False         False   \n",
              "1                True     False     False         False   \n",
              "2                True     False     False         False   \n",
              "3                True     False     False         False   \n",
              "4                True     False     False         False   \n",
              "\n",
              "   saletype_lowdn_lowint  attached_garage  detchd_garage  lotarea_squared  \\\n",
              "0                  False             True          False         71402500   \n",
              "1                  False             True          False         92160000   \n",
              "2                  False             True          False        126562500   \n",
              "3                  False            False           True         91202500   \n",
              "4                  False             True          False        203347600   \n",
              "\n",
              "   overallqual_squared  overallcond_squared  is_start_of_school  is_spring  \\\n",
              "0                   49                   25               False      False   \n",
              "1                   36                   64               False       True   \n",
              "2                   49                   25                True      False   \n",
              "3                   49                   25               False      False   \n",
              "4                   64                   25               False      False   \n",
              "\n",
              "   remodeled?  age_remodeled_interaction_good  sq_footage_fsb  \\\n",
              "0       False                               0            2416   \n",
              "1       False                               0            2240   \n",
              "2        True                               7            2272   \n",
              "3        True                              91            1933   \n",
              "4       False                               0            2853   \n",
              "\n",
              "   sqfootage_fsb_squared  fullbath_squared  grlivarea_squared  heating_gasa  \\\n",
              "0                5837056                 4            2924100          True   \n",
              "1                5017600                 4            1592644          True   \n",
              "2                5161984                 4            3189796          True   \n",
              "3                3736489                 1            2948089          True   \n",
              "4                8139609                 4            4831204          True   \n",
              "\n",
              "   heating_qual_ex  heating_qual_pr  heating_qual_fa  bsmt_unfin_percent  \\\n",
              "0             True            False            False            0.175234   \n",
              "1             True            False            False            0.225040   \n",
              "2             True            False            False            0.471739   \n",
              "3            False            False            False            0.714286   \n",
              "4             True            False            False            0.427948   \n",
              "\n",
              "   finished_bsmt  pos1_feedr_art  pos2_feedr_art  pos1_pos2_sum1  \\\n",
              "0          False           False           False           False   \n",
              "1          False            True           False            True   \n",
              "2          False           False           False           False   \n",
              "3          False           False           False           False   \n",
              "4          False           False           False           False   \n",
              "\n",
              "   pos1_pos2_sum2  onehalf_fin  onehalf_unfin  kitchen_numeric  \\\n",
              "0           False        False          False                4   \n",
              "1           False        False          False                3   \n",
              "2           False        False          False                4   \n",
              "3           False        False          False                4   \n",
              "4           False        False          False                4   \n",
              "\n",
              "   kitchen_numeric_squared  garage_cars_squared  atypical_function  \\\n",
              "0                       16                    4              False   \n",
              "1                        9                    4              False   \n",
              "2                       16                    4              False   \n",
              "3                       16                    9              False   \n",
              "4                       16                    9              False   \n",
              "\n",
              "   exterior_exc  salecond_partial  salecond_abnorml  no_fireplace  \\\n",
              "0         False             False             False          True   \n",
              "1         False             False             False         False   \n",
              "2         False             False             False         False   \n",
              "3         False             False              True         False   \n",
              "4         False             False             False         False   \n",
              "\n",
              "   two_or_more_fireplaces  lotfrontage_squared  electrical_is_brkr  \\\n",
              "0                   False               4225.0                True   \n",
              "1                   False               6400.0                True   \n",
              "2                   False               4624.0                True   \n",
              "3                   False               3600.0                True   \n",
              "4                   False               7056.0                True   \n",
              "\n",
              "   electrical_is_F  electrical_is_A  electrical_is_P  overallcond_5over  \\\n",
              "0            False            False            False               True   \n",
              "1            False            False            False               True   \n",
              "2            False            False            False               True   \n",
              "3            False            False            False               True   \n",
              "4            False            False            False               True   \n",
              "\n",
              "   garagearea_squared  sq_footage_fsbg  sq_footage_fsbg_squared  banked_land  \\\n",
              "0              300304             2964                  8785296        False   \n",
              "1              211600             2700                  7290000        False   \n",
              "2              369664             2880                  8294400        False   \n",
              "3              412164             2575                  6630625        False   \n",
              "4              698896             3689                 13608721        False   \n",
              "\n",
              "   HLS_land  landslope_mod_sev  land_interaction  salecond_adjland  \\\n",
              "0     False              False             False             False   \n",
              "1     False              False             False             False   \n",
              "2     False              False             False             False   \n",
              "3     False              False             False             False   \n",
              "4     False              False             False             False   \n",
              "\n",
              "   salecond_alloca  salecond_family  has_pool  pool_exc  paved_drive_numeric  \\\n",
              "0            False            False     False     False                    2   \n",
              "1            False            False     False     False                    2   \n",
              "2            False            False     False     False                    2   \n",
              "3            False            False     False     False                    2   \n",
              "4            False            False     False     False                    2   \n",
              "\n",
              "   paved_drive_squared  OpenPorchSF_squared  WoodDeckSF_squared  \\\n",
              "0                    4                 3721                   0   \n",
              "1                    4                    0               88804   \n",
              "2                    4                 1764                   0   \n",
              "3                    4                 1225                   0   \n",
              "4                    4                 7056               36864   \n",
              "\n",
              "   EnclosedPorch_squared  ScreenPorch_squared  garageQual_numeric  \\\n",
              "0                      0                    0                   2   \n",
              "1                      0                    0                   2   \n",
              "2                      0                    0                   2   \n",
              "3                  73984                    0                   2   \n",
              "4                      0                    0                   2   \n",
              "\n",
              "   garageQual_numeric_squared  garage_unf  garage_Fin  no_central_air  \\\n",
              "0                           4       False       False           False   \n",
              "1                           4       False       False           False   \n",
              "2                           4       False       False           False   \n",
              "3                           4        True       False           False   \n",
              "4                           4       False       False           False   \n",
              "\n",
              "   Foundation__BrkTil  Foundation__CBlock  Foundation__PConc  \\\n",
              "0                   0                   0                  1   \n",
              "1                   0                   1                  0   \n",
              "2                   0                   0                  1   \n",
              "3                   1                   0                  0   \n",
              "4                   0                   0                  1   \n",
              "\n",
              "   Foundation__Slab  Foundation__Stone  Foundation__Wood  RoofStyle_Hip  \\\n",
              "0                 0                  0                 0          False   \n",
              "1                 0                  0                 0          False   \n",
              "2                 0                  0                 0          False   \n",
              "3                 0                  0                 0          False   \n",
              "4                 0                  0                 0          False   \n",
              "\n",
              "   RoofStyle_Gambrel  \n",
              "0              False  \n",
              "1              False  \n",
              "2              False  \n",
              "3              False  \n",
              "4              False  "
            ]
          },
          "metadata": {
            "tags": []
          },
          "execution_count": 543
        }
      ]
    },
    {
      "metadata": {
        "id": "3XTFl5t0CW4c",
        "colab_type": "code",
        "colab": {
          "base_uri": "https://localhost:8080/",
          "height": 317
        },
        "outputId": "302d1ee4-86f0-46e1-8f6f-29a3e5a8816a"
      },
      "cell_type": "code",
      "source": [
        "df.pivot_table(index='RoofMatl', values='SalePrice')"
      ],
      "execution_count": 549,
      "outputs": [
        {
          "output_type": "execute_result",
          "data": {
            "text/html": [
              "<div>\n",
              "<style scoped>\n",
              "    .dataframe tbody tr th:only-of-type {\n",
              "        vertical-align: middle;\n",
              "    }\n",
              "\n",
              "    .dataframe tbody tr th {\n",
              "        vertical-align: top;\n",
              "    }\n",
              "\n",
              "    .dataframe thead th {\n",
              "        text-align: right;\n",
              "    }\n",
              "</style>\n",
              "<table border=\"1\" class=\"dataframe\">\n",
              "  <thead>\n",
              "    <tr style=\"text-align: right;\">\n",
              "      <th></th>\n",
              "      <th>SalePrice</th>\n",
              "    </tr>\n",
              "    <tr>\n",
              "      <th>RoofMatl</th>\n",
              "      <th></th>\n",
              "    </tr>\n",
              "  </thead>\n",
              "  <tbody>\n",
              "    <tr>\n",
              "      <th>ClyTile</th>\n",
              "      <td>160000.000000</td>\n",
              "    </tr>\n",
              "    <tr>\n",
              "      <th>CompShg</th>\n",
              "      <td>179803.679219</td>\n",
              "    </tr>\n",
              "    <tr>\n",
              "      <th>Membran</th>\n",
              "      <td>241500.000000</td>\n",
              "    </tr>\n",
              "    <tr>\n",
              "      <th>Metal</th>\n",
              "      <td>180000.000000</td>\n",
              "    </tr>\n",
              "    <tr>\n",
              "      <th>Roll</th>\n",
              "      <td>137000.000000</td>\n",
              "    </tr>\n",
              "    <tr>\n",
              "      <th>Tar&amp;Grv</th>\n",
              "      <td>185406.363636</td>\n",
              "    </tr>\n",
              "    <tr>\n",
              "      <th>WdShake</th>\n",
              "      <td>241400.000000</td>\n",
              "    </tr>\n",
              "    <tr>\n",
              "      <th>WdShngl</th>\n",
              "      <td>390250.000000</td>\n",
              "    </tr>\n",
              "  </tbody>\n",
              "</table>\n",
              "</div>"
            ],
            "text/plain": [
              "              SalePrice\n",
              "RoofMatl               \n",
              "ClyTile   160000.000000\n",
              "CompShg   179803.679219\n",
              "Membran   241500.000000\n",
              "Metal     180000.000000\n",
              "Roll      137000.000000\n",
              "Tar&Grv   185406.363636\n",
              "WdShake   241400.000000\n",
              "WdShngl   390250.000000"
            ]
          },
          "metadata": {
            "tags": []
          },
          "execution_count": 549
        }
      ]
    },
    {
      "metadata": {
        "id": "k8FtSQMOChzT",
        "colab_type": "code",
        "colab": {
          "base_uri": "https://localhost:8080/",
          "height": 173
        },
        "outputId": "df69aff5-26fd-47f5-e01c-b765fa099f7e"
      },
      "cell_type": "code",
      "source": [
        "df.RoofMatl.value_counts()"
      ],
      "execution_count": 547,
      "outputs": [
        {
          "output_type": "execute_result",
          "data": {
            "text/plain": [
              "CompShg    1434\n",
              "Tar&Grv      11\n",
              "WdShngl       6\n",
              "WdShake       5\n",
              "Roll          1\n",
              "Metal         1\n",
              "ClyTile       1\n",
              "Membran       1\n",
              "Name: RoofMatl, dtype: int64"
            ]
          },
          "metadata": {
            "tags": []
          },
          "execution_count": 547
        }
      ]
    },
    {
      "metadata": {
        "id": "yHQo4Q7sCmXS",
        "colab_type": "code",
        "colab": {}
      },
      "cell_type": "code",
      "source": [
        "df['RoofMatl_Wd'] = ((df.RoofMatl == 'WdShngl') | (df.RoofMatl == 'WdShake'))"
      ],
      "execution_count": 0,
      "outputs": []
    },
    {
      "metadata": {
        "id": "Z9fiK37cDDRP",
        "colab_type": "code",
        "colab": {
          "base_uri": "https://localhost:8080/",
          "height": 34
        },
        "outputId": "69236ad9-a9db-4344-8740-5a27f212c17a"
      },
      "cell_type": "code",
      "source": [
        "from sklearn.ensemble import GradientBoostingRegressor\n",
        "from sklearn.ensemble import RandomForestRegressor\n",
        "from sklearn.linear_model import Ridge\n",
        "from sklearn.linear_model import Lasso\n",
        "\n",
        "features = ['LotArea','OverallQual', 'OverallCond', 'GrLivArea','GarageArea', 'FullBath', 'HalfBath', 'fullhalfbath_interaction', 'BedroomAbvGr',\n",
        "            'sold_pre_2008', 'age_sold','age_sold_squared', 'years_since_remod', 'age_remod_interaction', '1stFlrSF', '2ndFlrSF', 'floor_interaction', 'mszoning_RL', 'mszoning_c',\n",
        "            'mszoning_RM', 'mszoning_FV', 'good_area', 'bad_area', 'one_fam_home', 'townhouse', 'miscfeature_isnone', 'has_shed', 'new_home', 'attached_garage',\n",
        "            'detchd_garage', 'lotarea_squared', 'overallqual_squared', 'overallcond_squared', 'is_start_of_school', 'is_spring', 'remodeled?', 'age_remodeled_interaction_good',\n",
        "            'sq_footage_fsb', 'sqfootage_fsb_squared', 'grlivarea_squared', 'heating_qual_ex', 'heating_qual_pr', 'heating_qual_fa', 'finished_bsmt', 'pos1_feedr_art', 'pos2_feedr_art',\n",
        "            'pos1_pos2_sum1', 'pos1_pos2_sum2', 'kitchen_numeric_squared', 'garage_cars_squared', 'atypical_function', 'exterior_exc', 'salecond_abnorml', 'no_fireplace', 'lotfrontage_squared',\n",
        "            'garagearea_squared', 'sq_footage_fsbg', 'banked_land', 'HLS_land', 'salecond_family', 'paved_drive_numeric', 'paved_drive_squared', 'OpenPorchSF', 'WoodDeckSF', 'EnclosedPorch',\n",
        "            'ScreenPorch', 'garageQual_numeric_squared', 'garage_unf', 'garage_Fin', 'no_central_air', 'Foundation__CBlock', 'Foundation__PConc', 'Foundation__Slab', 'Foundation__Stone', 'Foundation__Wood',\n",
        "            'RoofStyle_Hip', 'RoofStyle_Gambrel', 'RoofMatl_Wd']\n",
        "\n",
        "X = df[features].values\n",
        "y = df.logprice\n",
        "\n",
        "X_train, X_test, y_train, y_test = train_test_split(X, y, test_size=0.25, random_state=42)\n",
        "\n",
        "\n",
        "lr = LinearRegression()\n",
        "lr.fit(X_train, y_train)\n",
        "\n",
        "\n",
        "oos_pred = lr.predict(X_test)\n",
        "oos_mse = mean_squared_error(y_test, oos_pred)\n",
        "oos_r2 = r2_score(y_test, oos_pred)\n",
        "rmse = (np.sqrt(oos_mse))\n",
        "rmse, oos_r2"
      ],
      "execution_count": 552,
      "outputs": [
        {
          "output_type": "execute_result",
          "data": {
            "text/plain": [
              "(0.11358918124587158, 0.9254877212714051)"
            ]
          },
          "metadata": {
            "tags": []
          },
          "execution_count": 552
        }
      ]
    },
    {
      "metadata": {
        "id": "ZIEFeSkaDLJe",
        "colab_type": "code",
        "colab": {
          "base_uri": "https://localhost:8080/",
          "height": 364
        },
        "outputId": "fd0f3be6-7031-4919-da24-46afdee98ef8"
      },
      "cell_type": "code",
      "source": [
        "plt.scatter(df.TotRmsAbvGrd, np.log(df.SalePrice))"
      ],
      "execution_count": 554,
      "outputs": [
        {
          "output_type": "execute_result",
          "data": {
            "text/plain": [
              "<matplotlib.collections.PathCollection at 0x7f39117dc4e0>"
            ]
          },
          "metadata": {
            "tags": []
          },
          "execution_count": 554
        },
        {
          "output_type": "display_data",
          "data": {
            "image/png": "[encoded data removed]",
            "text/plain": [
              "<Figure size 576x396 with 1 Axes>"
            ]
          },
          "metadata": {
            "tags": []
          }
        }
      ]
    },
    {
      "metadata": {
        "id": "fLZqVA3CDaVI",
        "colab_type": "code",
        "colab": {
          "base_uri": "https://localhost:8080/",
          "height": 34
        },
        "outputId": "219b3797-600b-4dab-ac1e-7fb8339b9634"
      },
      "cell_type": "code",
      "source": [
        "from sklearn.ensemble import GradientBoostingRegressor\n",
        "from sklearn.ensemble import RandomForestRegressor\n",
        "from sklearn.linear_model import Ridge\n",
        "from sklearn.linear_model import Lasso\n",
        "\n",
        "features = ['LotArea','OverallQual', 'OverallCond', 'GrLivArea','GarageArea', 'FullBath', 'HalfBath', 'fullhalfbath_interaction', 'BedroomAbvGr',\n",
        "            'sold_pre_2008', 'age_sold','age_sold_squared', 'years_since_remod', 'age_remod_interaction', '1stFlrSF', '2ndFlrSF', 'floor_interaction', 'mszoning_RL', 'mszoning_c',\n",
        "            'mszoning_RM', 'mszoning_FV', 'good_area', 'bad_area', 'one_fam_home', 'townhouse', 'miscfeature_isnone', 'has_shed', 'new_home', 'attached_garage',\n",
        "            'detchd_garage', 'lotarea_squared', 'overallqual_squared', 'overallcond_squared', 'is_start_of_school', 'is_spring', 'remodeled?', 'age_remodeled_interaction_good',\n",
        "            'sq_footage_fsb', 'sqfootage_fsb_squared', 'grlivarea_squared', 'heating_qual_ex', 'heating_qual_pr', 'heating_qual_fa', 'finished_bsmt', 'pos1_feedr_art', 'pos2_feedr_art',\n",
        "            'pos1_pos2_sum1', 'pos1_pos2_sum2', 'kitchen_numeric_squared', 'garage_cars_squared', 'atypical_function', 'exterior_exc', 'salecond_abnorml', 'no_fireplace', 'lotfrontage_squared',\n",
        "            'garagearea_squared', 'sq_footage_fsbg', 'banked_land', 'HLS_land', 'salecond_family', 'paved_drive_numeric', 'paved_drive_squared', 'OpenPorchSF', 'WoodDeckSF', 'EnclosedPorch',\n",
        "            'ScreenPorch', 'garageQual_numeric_squared', 'garage_unf', 'garage_Fin', 'no_central_air', 'Foundation__CBlock', 'Foundation__PConc', 'Foundation__Slab', 'Foundation__Stone', 'Foundation__Wood',\n",
        "            'RoofStyle_Hip', 'RoofStyle_Gambrel', 'RoofMatl_Wd','TotRmsAbvGrd_squared']\n",
        "\n",
        "X = df[features].values\n",
        "y = df.logprice\n",
        "\n",
        "X_train, X_test, y_train, y_test = train_test_split(X, y, test_size=0.25, random_state=42)\n",
        "\n",
        "\n",
        "lr = LinearRegression()\n",
        "lr.fit(X_train, y_train)\n",
        "\n",
        "\n",
        "oos_pred = lr.predict(X_test)\n",
        "oos_mse = mean_squared_error(y_test, oos_pred)\n",
        "oos_r2 = r2_score(y_test, oos_pred)\n",
        "rmse = (np.sqrt(oos_mse))\n",
        "rmse, oos_r2"
      ],
      "execution_count": 561,
      "outputs": [
        {
          "output_type": "execute_result",
          "data": {
            "text/plain": [
              "(0.11354183982841168, 0.9255498184141017)"
            ]
          },
          "metadata": {
            "tags": []
          },
          "execution_count": 561
        }
      ]
    },
    {
      "metadata": {
        "id": "9HjM5GjsDibv",
        "colab_type": "code",
        "colab": {}
      },
      "cell_type": "code",
      "source": [
        "df['TotRmsAbvGrd_squared'] = df.TotRmsAbvGrd ** 2"
      ],
      "execution_count": 0,
      "outputs": []
    },
    {
      "metadata": {
        "id": "T0IMOGiDDn9S",
        "colab_type": "code",
        "colab": {}
      },
      "cell_type": "code",
      "source": [
        "df['LowQualFinSF_squared'] = df.LowQualFinSF ** 2"
      ],
      "execution_count": 0,
      "outputs": []
    },
    {
      "metadata": {
        "id": "dy3dAjt2D2gB",
        "colab_type": "code",
        "colab": {
          "base_uri": "https://localhost:8080/",
          "height": 34
        },
        "outputId": "ef996422-95e2-40d5-d54c-8d6709311e23"
      },
      "cell_type": "code",
      "source": [
        "from sklearn.ensemble import GradientBoostingRegressor\n",
        "from sklearn.ensemble import RandomForestRegressor\n",
        "from sklearn.linear_model import Ridge\n",
        "from sklearn.linear_model import Lasso\n",
        "\n",
        "features = ['LotArea','OverallQual', 'OverallCond', 'GrLivArea','GarageArea', 'FullBath', 'HalfBath', 'fullhalfbath_interaction', 'BedroomAbvGr',\n",
        "            'sold_pre_2008', 'age_sold','age_sold_squared', 'years_since_remod', 'age_remod_interaction', '1stFlrSF', '2ndFlrSF', 'floor_interaction', 'mszoning_RL', 'mszoning_c',\n",
        "            'mszoning_RM', 'mszoning_FV', 'good_area', 'bad_area', 'one_fam_home', 'townhouse', 'miscfeature_isnone', 'has_shed', 'new_home', 'attached_garage',\n",
        "            'detchd_garage', 'lotarea_squared', 'overallqual_squared', 'overallcond_squared', 'is_start_of_school', 'is_spring', 'remodeled?', 'age_remodeled_interaction_good',\n",
        "            'sq_footage_fsb', 'sqfootage_fsb_squared', 'grlivarea_squared', 'heating_qual_ex', 'heating_qual_pr', 'heating_qual_fa', 'finished_bsmt', 'pos1_feedr_art', 'pos2_feedr_art',\n",
        "            'pos1_pos2_sum1', 'pos1_pos2_sum2', 'kitchen_numeric_squared', 'garage_cars_squared', 'atypical_function', 'exterior_exc', 'salecond_abnorml', 'no_fireplace', 'lotfrontage_squared',\n",
        "            'garagearea_squared', 'sq_footage_fsbg', 'banked_land', 'HLS_land', 'salecond_family', 'paved_drive_numeric', 'paved_drive_squared', 'OpenPorchSF', 'WoodDeckSF', 'EnclosedPorch',\n",
        "            'ScreenPorch', 'garageQual_numeric_squared', 'garage_unf', 'garage_Fin', 'no_central_air', 'Foundation__CBlock', 'Foundation__PConc', 'Foundation__Slab', 'Foundation__Stone', 'Foundation__Wood',\n",
        "            'RoofStyle_Hip', 'RoofStyle_Gambrel', 'RoofMatl_Wd','TotRmsAbvGrd_squared', 'LowQualFinSF', 'LowQualFinSF_squared']\n",
        "\n",
        "X = df[features].values\n",
        "y = df.logprice\n",
        "\n",
        "X_train, X_test, y_train, y_test = train_test_split(X, y, test_size=0.25, random_state=42)\n",
        "\n",
        "\n",
        "lr = LinearRegression()\n",
        "lr.fit(X_train, y_train)\n",
        "\n",
        "\n",
        "oos_pred = lr.predict(X_test)\n",
        "oos_mse = mean_squared_error(y_test, oos_pred)\n",
        "oos_r2 = r2_score(y_test, oos_pred)\n",
        "rmse = (np.sqrt(oos_mse))\n",
        "rmse, oos_r2"
      ],
      "execution_count": 566,
      "outputs": [
        {
          "output_type": "execute_result",
          "data": {
            "text/plain": [
              "(0.1134658534023001, 0.9256494347357169)"
            ]
          },
          "metadata": {
            "tags": []
          },
          "execution_count": 566
        }
      ]
    },
    {
      "metadata": {
        "id": "36XFTmL-EXZl",
        "colab_type": "code",
        "colab": {}
      },
      "cell_type": "code",
      "source": [
        "df['LowQualFinSF_as_pct_fsb'] = df.LowQualFinSF / df.sq_footage_fsb"
      ],
      "execution_count": 0,
      "outputs": []
    },
    {
      "metadata": {
        "id": "QUZS59t8EpcP",
        "colab_type": "code",
        "colab": {
          "base_uri": "https://localhost:8080/",
          "height": 34
        },
        "outputId": "38c25a64-aeef-4ba0-c04c-bd94b720ef8a"
      },
      "cell_type": "code",
      "source": [
        "from sklearn.ensemble import GradientBoostingRegressor\n",
        "from sklearn.ensemble import RandomForestRegressor\n",
        "from sklearn.linear_model import Ridge\n",
        "from sklearn.linear_model import Lasso\n",
        "\n",
        "features = ['LotArea','OverallQual', 'OverallCond', 'GrLivArea','GarageArea', 'FullBath', 'HalfBath', 'fullhalfbath_interaction', 'BedroomAbvGr',\n",
        "            'sold_pre_2008', 'age_sold','age_sold_squared', 'years_since_remod', 'age_remod_interaction', '1stFlrSF', '2ndFlrSF', 'floor_interaction', 'mszoning_RL', 'mszoning_c',\n",
        "            'mszoning_RM', 'mszoning_FV', 'good_area', 'bad_area', 'one_fam_home', 'townhouse', 'miscfeature_isnone', 'has_shed', 'new_home', 'attached_garage',\n",
        "            'detchd_garage', 'lotarea_squared', 'overallqual_squared', 'overallcond_squared', 'is_start_of_school', 'is_spring', 'remodeled?', 'age_remodeled_interaction_good',\n",
        "            'sq_footage_fsb', 'sqfootage_fsb_squared', 'grlivarea_squared', 'heating_qual_ex', 'heating_qual_pr', 'heating_qual_fa', 'finished_bsmt', 'pos1_feedr_art', 'pos2_feedr_art',\n",
        "            'pos1_pos2_sum1', 'pos1_pos2_sum2', 'kitchen_numeric_squared', 'garage_cars_squared', 'atypical_function', 'exterior_exc', 'salecond_abnorml', 'no_fireplace', 'lotfrontage_squared',\n",
        "            'garagearea_squared', 'sq_footage_fsbg', 'banked_land', 'HLS_land', 'salecond_family', 'paved_drive_numeric', 'paved_drive_squared', 'OpenPorchSF', 'WoodDeckSF', 'EnclosedPorch',\n",
        "            'ScreenPorch', 'garageQual_numeric_squared', 'garage_unf', 'garage_Fin', 'no_central_air', 'Foundation__CBlock', 'Foundation__PConc', 'Foundation__Slab', 'Foundation__Stone', 'Foundation__Wood',\n",
        "            'RoofStyle_Hip', 'RoofStyle_Gambrel', 'RoofMatl_Wd','TotRmsAbvGrd_squared', 'LowQualFinSF', 'LowQualFinSF_squared']\n",
        "\n",
        "X = df[features].values\n",
        "y = df.logprice\n",
        "\n",
        "X_train, X_test, y_train, y_test = train_test_split(X, y, test_size=0.25, random_state=42)\n",
        "\n",
        "\n",
        "lr = LinearRegression()\n",
        "lr.fit(X_train, y_train)\n",
        "\n",
        "\n",
        "oos_pred = lr.predict(X_test)\n",
        "oos_mse = mean_squared_error(y_test, oos_pred)\n",
        "oos_r2 = r2_score(y_test, oos_pred)\n",
        "rmse = (np.sqrt(oos_mse))\n",
        "rmse, oos_r2"
      ],
      "execution_count": 569,
      "outputs": [
        {
          "output_type": "execute_result",
          "data": {
            "text/plain": [
              "(0.1134658534023001, 0.9256494347357169)"
            ]
          },
          "metadata": {
            "tags": []
          },
          "execution_count": 569
        }
      ]
    },
    {
      "metadata": {
        "id": "IdYkXd-BEvK3",
        "colab_type": "code",
        "colab": {
          "base_uri": "https://localhost:8080/",
          "height": 121
        },
        "outputId": "6c7b6f64-4abf-40dc-c680-b40e6eeb5c0e"
      },
      "cell_type": "code",
      "source": [
        "df.ExterCond.value_counts()"
      ],
      "execution_count": 570,
      "outputs": [
        {
          "output_type": "execute_result",
          "data": {
            "text/plain": [
              "TA    1282\n",
              "Gd     146\n",
              "Fa      28\n",
              "Ex       3\n",
              "Po       1\n",
              "Name: ExterCond, dtype: int64"
            ]
          },
          "metadata": {
            "tags": []
          },
          "execution_count": 570
        }
      ]
    },
    {
      "metadata": {
        "id": "UH4U-EO0E4Yu",
        "colab_type": "code",
        "colab": {
          "base_uri": "https://localhost:8080/",
          "height": 227
        },
        "outputId": "ed5e145f-2d7c-462c-9531-bf5ac064a911"
      },
      "cell_type": "code",
      "source": [
        "df.pivot_table(index='ExterCond', values='SalePrice')"
      ],
      "execution_count": 571,
      "outputs": [
        {
          "output_type": "execute_result",
          "data": {
            "text/html": [
              "<div>\n",
              "<style scoped>\n",
              "    .dataframe tbody tr th:only-of-type {\n",
              "        vertical-align: middle;\n",
              "    }\n",
              "\n",
              "    .dataframe tbody tr th {\n",
              "        vertical-align: top;\n",
              "    }\n",
              "\n",
              "    .dataframe thead th {\n",
              "        text-align: right;\n",
              "    }\n",
              "</style>\n",
              "<table border=\"1\" class=\"dataframe\">\n",
              "  <thead>\n",
              "    <tr style=\"text-align: right;\">\n",
              "      <th></th>\n",
              "      <th>SalePrice</th>\n",
              "    </tr>\n",
              "    <tr>\n",
              "      <th>ExterCond</th>\n",
              "      <th></th>\n",
              "    </tr>\n",
              "  </thead>\n",
              "  <tbody>\n",
              "    <tr>\n",
              "      <th>Ex</th>\n",
              "      <td>201333.333333</td>\n",
              "    </tr>\n",
              "    <tr>\n",
              "      <th>Fa</th>\n",
              "      <td>102595.142857</td>\n",
              "    </tr>\n",
              "    <tr>\n",
              "      <th>Gd</th>\n",
              "      <td>168897.568493</td>\n",
              "    </tr>\n",
              "    <tr>\n",
              "      <th>Po</th>\n",
              "      <td>76500.000000</td>\n",
              "    </tr>\n",
              "    <tr>\n",
              "      <th>TA</th>\n",
              "      <td>184034.896256</td>\n",
              "    </tr>\n",
              "  </tbody>\n",
              "</table>\n",
              "</div>"
            ],
            "text/plain": [
              "               SalePrice\n",
              "ExterCond               \n",
              "Ex         201333.333333\n",
              "Fa         102595.142857\n",
              "Gd         168897.568493\n",
              "Po          76500.000000\n",
              "TA         184034.896256"
            ]
          },
          "metadata": {
            "tags": []
          },
          "execution_count": 571
        }
      ]
    },
    {
      "metadata": {
        "id": "yMDIWSlME-uF",
        "colab_type": "code",
        "colab": {}
      },
      "cell_type": "code",
      "source": [
        "df['ExterCond_Fa'] = (df.ExterCond == 'Fa')\n",
        "df['ExterCond_Gd'] = (df.ExterCond == 'Gd')"
      ],
      "execution_count": 0,
      "outputs": []
    },
    {
      "metadata": {
        "id": "2kHMzU8NFOIi",
        "colab_type": "code",
        "colab": {
          "base_uri": "https://localhost:8080/",
          "height": 34
        },
        "outputId": "c9addf68-23ea-4f8d-a375-a0524d5e7c96"
      },
      "cell_type": "code",
      "source": [
        "from sklearn.ensemble import GradientBoostingRegressor\n",
        "from sklearn.ensemble import RandomForestRegressor\n",
        "from sklearn.linear_model import Ridge\n",
        "from sklearn.linear_model import Lasso\n",
        "\n",
        "features = ['LotArea','OverallQual', 'OverallCond', 'GrLivArea','GarageArea', 'FullBath', 'HalfBath', 'fullhalfbath_interaction', 'BedroomAbvGr',\n",
        "            'sold_pre_2008', 'age_sold','age_sold_squared', 'years_since_remod', 'age_remod_interaction', '1stFlrSF', '2ndFlrSF', 'floor_interaction', 'mszoning_RL', 'mszoning_c',\n",
        "            'mszoning_RM', 'mszoning_FV', 'good_area', 'bad_area', 'one_fam_home', 'townhouse', 'miscfeature_isnone', 'has_shed', 'new_home', 'attached_garage',\n",
        "            'detchd_garage', 'lotarea_squared', 'overallqual_squared', 'overallcond_squared', 'is_start_of_school', 'is_spring', 'remodeled?', 'age_remodeled_interaction_good',\n",
        "            'sq_footage_fsb', 'sqfootage_fsb_squared', 'grlivarea_squared', 'heating_qual_ex', 'heating_qual_pr', 'heating_qual_fa', 'finished_bsmt', 'pos1_feedr_art', 'pos2_feedr_art',\n",
        "            'pos1_pos2_sum1', 'pos1_pos2_sum2', 'kitchen_numeric_squared', 'garage_cars_squared', 'atypical_function', 'exterior_exc', 'salecond_abnorml', 'no_fireplace', 'lotfrontage_squared',\n",
        "            'garagearea_squared', 'sq_footage_fsbg', 'banked_land', 'HLS_land', 'salecond_family', 'paved_drive_numeric', 'paved_drive_squared', 'OpenPorchSF', 'WoodDeckSF', 'EnclosedPorch',\n",
        "            'ScreenPorch', 'garageQual_numeric_squared', 'garage_unf', 'garage_Fin', 'no_central_air', 'Foundation__CBlock', 'Foundation__PConc', 'Foundation__Slab', 'Foundation__Stone', 'Foundation__Wood',\n",
        "            'RoofStyle_Hip', 'RoofStyle_Gambrel', 'RoofMatl_Wd','TotRmsAbvGrd_squared', 'LowQualFinSF', 'LowQualFinSF_squared']\n",
        "\n",
        "X = df[features].values\n",
        "y = df.logprice\n",
        "\n",
        "X_train, X_test, y_train, y_test = train_test_split(X, y, test_size=0.25, random_state=42)\n",
        "\n",
        "\n",
        "lr = LinearRegression()\n",
        "lr.fit(X_train, y_train)\n",
        "\n",
        "\n",
        "oos_pred = lr.predict(X_test)\n",
        "oos_mse = mean_squared_error(y_test, oos_pred)\n",
        "oos_r2 = r2_score(y_test, oos_pred)\n",
        "rmse = (np.sqrt(oos_mse))\n",
        "rmse, oos_r2"
      ],
      "execution_count": 576,
      "outputs": [
        {
          "output_type": "execute_result",
          "data": {
            "text/plain": [
              "(0.1134658534023001, 0.9256494347357169)"
            ]
          },
          "metadata": {
            "tags": []
          },
          "execution_count": 576
        }
      ]
    },
    {
      "metadata": {
        "id": "itQ4WSKiFVOW",
        "colab_type": "code",
        "colab": {
          "base_uri": "https://localhost:8080/",
          "height": 104
        },
        "outputId": "5804d548-5ad1-4201-d4f2-a7bc2eb7a393"
      },
      "cell_type": "code",
      "source": [
        "df.ExterQual.value_counts()"
      ],
      "execution_count": 578,
      "outputs": [
        {
          "output_type": "execute_result",
          "data": {
            "text/plain": [
              "TA    906\n",
              "Gd    488\n",
              "Ex     52\n",
              "Fa     14\n",
              "Name: ExterQual, dtype: int64"
            ]
          },
          "metadata": {
            "tags": []
          },
          "execution_count": 578
        }
      ]
    },
    {
      "metadata": {
        "id": "xUha9gfWFj9w",
        "colab_type": "code",
        "colab": {}
      },
      "cell_type": "code",
      "source": [
        "df['ExterQual_numeric'] = df.ExterQual.map({'Po':0, 'Fa':1, 'TA':2, 'Gd':3, 'Ex':4})\n",
        "df['ExterQual_numeric_squared'] = df.ExterQual_numeric ** 2"
      ],
      "execution_count": 0,
      "outputs": []
    },
    {
      "metadata": {
        "id": "v2JEEJOYF7yA",
        "colab_type": "code",
        "colab": {
          "base_uri": "https://localhost:8080/",
          "height": 34
        },
        "outputId": "f2e723ad-e766-4943-e60c-925d6e435971"
      },
      "cell_type": "code",
      "source": [
        "from sklearn.ensemble import GradientBoostingRegressor\n",
        "from sklearn.ensemble import RandomForestRegressor\n",
        "from sklearn.linear_model import Ridge\n",
        "from sklearn.linear_model import Lasso\n",
        "\n",
        "features = ['LotArea','OverallQual', 'OverallCond', 'GrLivArea','GarageArea', 'FullBath', 'HalfBath', 'fullhalfbath_interaction', 'BedroomAbvGr',\n",
        "            'sold_pre_2008', 'age_sold','age_sold_squared', 'years_since_remod', 'age_remod_interaction', '1stFlrSF', '2ndFlrSF', 'floor_interaction', 'mszoning_RL', 'mszoning_c',\n",
        "            'mszoning_RM', 'mszoning_FV', 'good_area', 'bad_area', 'one_fam_home', 'townhouse', 'miscfeature_isnone', 'has_shed', 'new_home', 'attached_garage',\n",
        "            'detchd_garage', 'lotarea_squared', 'overallqual_squared', 'overallcond_squared', 'is_start_of_school', 'is_spring', 'remodeled?', 'age_remodeled_interaction_good',\n",
        "            'sq_footage_fsb', 'sqfootage_fsb_squared', 'grlivarea_squared', 'heating_qual_ex', 'heating_qual_pr', 'heating_qual_fa', 'finished_bsmt', 'pos1_feedr_art', 'pos2_feedr_art',\n",
        "            'pos1_pos2_sum1', 'pos1_pos2_sum2', 'kitchen_numeric_squared', 'garage_cars_squared', 'atypical_function', 'exterior_exc', 'salecond_abnorml', 'no_fireplace', 'lotfrontage_squared',\n",
        "            'garagearea_squared', 'sq_footage_fsbg', 'banked_land', 'HLS_land', 'salecond_family', 'paved_drive_numeric', 'paved_drive_squared', 'OpenPorchSF', 'WoodDeckSF', 'EnclosedPorch',\n",
        "            'ScreenPorch', 'garageQual_numeric_squared', 'garage_unf', 'garage_Fin', 'no_central_air', 'Foundation__CBlock', 'Foundation__PConc', 'Foundation__Slab', 'Foundation__Stone', 'Foundation__Wood',\n",
        "            'RoofStyle_Hip', 'RoofStyle_Gambrel', 'RoofMatl_Wd','TotRmsAbvGrd_squared', 'LowQualFinSF', 'LowQualFinSF_squared']\n",
        "\n",
        "X = df[features].values\n",
        "y = df.logprice\n",
        "\n",
        "X_train, X_test, y_train, y_test = train_test_split(X, y, test_size=0.25, random_state=42)\n",
        "\n",
        "\n",
        "lr = LinearRegression()\n",
        "lr.fit(X_train, y_train)\n",
        "\n",
        "\n",
        "oos_pred = lr.predict(X_test)\n",
        "oos_mse = mean_squared_error(y_test, oos_pred)\n",
        "oos_r2 = r2_score(y_test, oos_pred)\n",
        "rmse = (np.sqrt(oos_mse))\n",
        "rmse, oos_r2"
      ],
      "execution_count": 586,
      "outputs": [
        {
          "output_type": "execute_result",
          "data": {
            "text/plain": [
              "(0.1134658534023001, 0.9256494347357169)"
            ]
          },
          "metadata": {
            "tags": []
          },
          "execution_count": 586
        }
      ]
    },
    {
      "metadata": {
        "id": "TdWYLwhTGAfu",
        "colab_type": "code",
        "colab": {
          "base_uri": "https://localhost:8080/",
          "height": 295
        },
        "outputId": "9a2f5f62-bfd0-4bed-b7ed-bf9bbe92f3ee"
      },
      "cell_type": "code",
      "source": [
        "df.Exterior1st.value_counts()"
      ],
      "execution_count": 587,
      "outputs": [
        {
          "output_type": "execute_result",
          "data": {
            "text/plain": [
              "VinylSd    515\n",
              "HdBoard    222\n",
              "MetalSd    220\n",
              "Wd Sdng    206\n",
              "Plywood    108\n",
              "CemntBd     61\n",
              "BrkFace     50\n",
              "WdShing     26\n",
              "Stucco      25\n",
              "AsbShng     20\n",
              "BrkComm      2\n",
              "Stone        2\n",
              "ImStucc      1\n",
              "AsphShn      1\n",
              "CBlock       1\n",
              "Name: Exterior1st, dtype: int64"
            ]
          },
          "metadata": {
            "tags": []
          },
          "execution_count": 587
        }
      ]
    },
    {
      "metadata": {
        "id": "1Pu8DrRJGvY7",
        "colab_type": "code",
        "colab": {
          "base_uri": "https://localhost:8080/",
          "height": 364
        },
        "outputId": "ca6010e1-316d-4a0d-cc64-1c657520d144"
      },
      "cell_type": "code",
      "source": [
        "df.pivot_table(index='Exterior1st', values='SalePrice').plot.barh()"
      ],
      "execution_count": 589,
      "outputs": [
        {
          "output_type": "execute_result",
          "data": {
            "text/plain": [
              "<matplotlib.axes._subplots.AxesSubplot at 0x7f391185d780>"
            ]
          },
          "metadata": {
            "tags": []
          },
          "execution_count": 589
        },
        {
          "output_type": "display_data",
          "data": {
            "image/png": "[encoded data removed]",
            "text/plain": [
              "<Figure size 576x396 with 1 Axes>"
            ]
          },
          "metadata": {
            "tags": []
          }
        }
      ]
    },
    {
      "metadata": {
        "id": "9e7LG2HZG3iJ",
        "colab_type": "code",
        "colab": {}
      },
      "cell_type": "code",
      "source": [
        "df['Exterior1st_VinylSd'] = (df.Exterior1st == 'VinylSd')\n",
        "df['Exterior1st_MetalSd'] = (df.Exterior1st == 'MetalSd')\n",
        "df['Exterior1st_WdSdng'] = ((df.Exterior1st == 'Wd Sdng') | (df.Exterior1st == 'WdShing'))\n",
        "df['Exterior1st_HdBoard'] = (df.Exterior1st == 'HdBoard')\n",
        "df['Exterior1st_CemntBd'] = (df.Exterior1st == 'CemntBd')\n",
        "df['Exterior1st_BrkFace'] = (df.Exterior1st == 'BrkFace')\n",
        "df['Exterior1st_AsbShng'] = (df.Exterior1st == 'AsbShng')\n"
      ],
      "execution_count": 0,
      "outputs": []
    },
    {
      "metadata": {
        "id": "8rvCmQR6H0ke",
        "colab_type": "code",
        "colab": {
          "base_uri": "https://localhost:8080/",
          "height": 34
        },
        "outputId": "96480e42-be3a-4359-97fe-e6fa780983a0"
      },
      "cell_type": "code",
      "source": [
        "from sklearn.ensemble import GradientBoostingRegressor\n",
        "from sklearn.ensemble import RandomForestRegressor\n",
        "from sklearn.linear_model import Ridge\n",
        "from sklearn.linear_model import Lasso\n",
        "\n",
        "features = ['LotArea','OverallQual', 'OverallCond', 'GrLivArea','GarageArea', 'FullBath', 'HalfBath', 'fullhalfbath_interaction', 'BedroomAbvGr',\n",
        "            'sold_pre_2008', 'age_sold','age_sold_squared', 'years_since_remod', 'age_remod_interaction', '1stFlrSF', '2ndFlrSF', 'floor_interaction', 'mszoning_RL', 'mszoning_c',\n",
        "            'mszoning_RM', 'mszoning_FV', 'good_area', 'bad_area', 'one_fam_home', 'townhouse', 'miscfeature_isnone', 'has_shed', 'new_home', 'attached_garage',\n",
        "            'detchd_garage', 'lotarea_squared', 'overallqual_squared', 'overallcond_squared', 'is_start_of_school', 'is_spring', 'remodeled?', 'age_remodeled_interaction_good',\n",
        "            'sq_footage_fsb', 'sqfootage_fsb_squared', 'grlivarea_squared', 'heating_qual_ex', 'heating_qual_pr', 'heating_qual_fa', 'finished_bsmt', 'pos1_feedr_art', 'pos2_feedr_art',\n",
        "            'pos1_pos2_sum1', 'pos1_pos2_sum2', 'kitchen_numeric_squared', 'garage_cars_squared', 'atypical_function', 'exterior_exc', 'salecond_abnorml', 'no_fireplace', 'lotfrontage_squared',\n",
        "            'garagearea_squared', 'sq_footage_fsbg', 'banked_land', 'HLS_land', 'salecond_family', 'paved_drive_numeric', 'paved_drive_squared', 'OpenPorchSF', 'WoodDeckSF', 'EnclosedPorch',\n",
        "            'ScreenPorch', 'garageQual_numeric_squared', 'garage_unf', 'garage_Fin', 'no_central_air', 'Foundation__CBlock', 'Foundation__PConc', 'Foundation__Slab', 'Foundation__Stone', 'Foundation__Wood',\n",
        "            'RoofStyle_Hip', 'RoofStyle_Gambrel', 'RoofMatl_Wd','TotRmsAbvGrd_squared', 'LowQualFinSF', 'LowQualFinSF_squared', 'Exterior1st_VinylSd', 'Exterior1st_MetalSd', 'Exterior1st_WdSdng']\n",
        "\n",
        "X = df[features].values\n",
        "y = df.logprice\n",
        "\n",
        "X_train, X_test, y_train, y_test = train_test_split(X, y, test_size=0.25, random_state=42)\n",
        "\n",
        "\n",
        "lr = LinearRegression()\n",
        "lr.fit(X_train, y_train)\n",
        "\n",
        "\n",
        "oos_pred = lr.predict(X_test)\n",
        "oos_mse = mean_squared_error(y_test, oos_pred)\n",
        "oos_r2 = r2_score(y_test, oos_pred)\n",
        "rmse = (np.sqrt(oos_mse))\n",
        "rmse, oos_r2"
      ],
      "execution_count": 612,
      "outputs": [
        {
          "output_type": "execute_result",
          "data": {
            "text/plain": [
              "(0.11332212973595311, 0.9258376705395875)"
            ]
          },
          "metadata": {
            "tags": []
          },
          "execution_count": 612
        }
      ]
    },
    {
      "metadata": {
        "id": "5DuZCxCaIZes",
        "colab_type": "code",
        "colab": {
          "base_uri": "https://localhost:8080/",
          "height": 104
        },
        "outputId": "586757e5-36fd-4425-86b9-adf0e1ae0cab"
      },
      "cell_type": "code",
      "source": [
        "from sklearn.ensemble import GradientBoostingRegressor\n",
        "from sklearn.ensemble import RandomForestRegressor\n",
        "from sklearn.linear_model import Ridge\n",
        "from sklearn.linear_model import Lasso\n",
        "\n",
        "features = ['LotArea','OverallQual', 'OverallCond', 'GrLivArea','GarageArea', 'FullBath', 'HalfBath', 'fullhalfbath_interaction', 'BedroomAbvGr',\n",
        "            'sold_pre_2008', 'age_sold','age_sold_squared', 'years_since_remod', 'age_remod_interaction', '1stFlrSF', '2ndFlrSF', 'floor_interaction', 'mszoning_RL', 'mszoning_c',\n",
        "            'mszoning_RM', 'mszoning_FV', 'good_area', 'bad_area', 'one_fam_home', 'townhouse', 'miscfeature_isnone', 'has_shed', 'new_home', 'attached_garage',\n",
        "            'detchd_garage', 'lotarea_squared', 'overallqual_squared', 'overallcond_squared', 'is_start_of_school', 'is_spring', 'remodeled?', 'age_remodeled_interaction_good',\n",
        "            'sq_footage_fsb', 'sqfootage_fsb_squared', 'grlivarea_squared', 'heating_qual_ex', 'heating_qual_pr', 'heating_qual_fa', 'finished_bsmt', 'pos1_feedr_art', 'pos2_feedr_art',\n",
        "            'pos1_pos2_sum1', 'pos1_pos2_sum2', 'kitchen_numeric_squared', 'garage_cars_squared', 'atypical_function', 'exterior_exc', 'salecond_abnorml', 'no_fireplace', 'lotfrontage_squared',\n",
        "            'garagearea_squared', 'sq_footage_fsbg', 'banked_land', 'HLS_land', 'salecond_family', 'paved_drive_numeric', 'paved_drive_squared', 'OpenPorchSF', 'WoodDeckSF', 'EnclosedPorch',\n",
        "            'ScreenPorch', 'garageQual_numeric_squared', 'garage_unf', 'garage_Fin', 'no_central_air', 'Foundation__CBlock', 'Foundation__PConc', 'Foundation__Slab', 'Foundation__Stone', 'Foundation__Wood',\n",
        "            'RoofStyle_Hip', 'RoofStyle_Gambrel', 'RoofMatl_Wd','TotRmsAbvGrd_squared', 'LowQualFinSF', 'LowQualFinSF_squared', 'Exterior1st_VinylSd', 'Exterior1st_MetalSd', 'Exterior1st_WdSdng']\n",
        "\n",
        "X = df[features].values\n",
        "y = df.logprice\n",
        "\n",
        "X_train, X_test, y_train, y_test = train_test_split(X, y, test_size=0.25, random_state=42)\n",
        "\n",
        "\n",
        "lr = Ridge()\n",
        "lr.fit(X_train, y_train)\n",
        "\n",
        "\n",
        "oos_pred = lr.predict(X_test)\n",
        "oos_mse = mean_squared_error(y_test, oos_pred)\n",
        "oos_r2 = r2_score(y_test, oos_pred)\n",
        "rmse = (np.sqrt(oos_mse))\n",
        "rmse, oos_r2"
      ],
      "execution_count": 613,
      "outputs": [
        {
          "output_type": "stream",
          "text": [
            "/usr/local/lib/python3.6/dist-packages/sklearn/linear_model/ridge.py:125: LinAlgWarning: scipy.linalg.solve\n",
            "Ill-conditioned matrix detected. Result is not guaranteed to be accurate.\n",
            "Reciprocal condition number2.675991e-22\n",
            "  overwrite_a=True).T\n"
          ],
          "name": "stderr"
        },
        {
          "output_type": "execute_result",
          "data": {
            "text/plain": [
              "(0.11438186960717796, 0.92444411641912)"
            ]
          },
          "metadata": {
            "tags": []
          },
          "execution_count": 613
        }
      ]
    },
    {
      "metadata": {
        "id": "eY640XctI23P",
        "colab_type": "code",
        "colab": {
          "base_uri": "https://localhost:8080/",
          "height": 197
        },
        "outputId": "48f0014e-cb9c-4fef-9c52-65e4f188035d"
      },
      "cell_type": "code",
      "source": [
        "df.pivot_table(index='MasVnrType', values='SalePrice')"
      ],
      "execution_count": 614,
      "outputs": [
        {
          "output_type": "execute_result",
          "data": {
            "text/html": [
              "<div>\n",
              "<style scoped>\n",
              "    .dataframe tbody tr th:only-of-type {\n",
              "        vertical-align: middle;\n",
              "    }\n",
              "\n",
              "    .dataframe tbody tr th {\n",
              "        vertical-align: top;\n",
              "    }\n",
              "\n",
              "    .dataframe thead th {\n",
              "        text-align: right;\n",
              "    }\n",
              "</style>\n",
              "<table border=\"1\" class=\"dataframe\">\n",
              "  <thead>\n",
              "    <tr style=\"text-align: right;\">\n",
              "      <th></th>\n",
              "      <th>SalePrice</th>\n",
              "    </tr>\n",
              "    <tr>\n",
              "      <th>MasVnrType</th>\n",
              "      <th></th>\n",
              "    </tr>\n",
              "  </thead>\n",
              "  <tbody>\n",
              "    <tr>\n",
              "      <th>BrkCmn</th>\n",
              "      <td>146318.066667</td>\n",
              "    </tr>\n",
              "    <tr>\n",
              "      <th>BrkFace</th>\n",
              "      <td>204691.871910</td>\n",
              "    </tr>\n",
              "    <tr>\n",
              "      <th>None</th>\n",
              "      <td>156221.891204</td>\n",
              "    </tr>\n",
              "    <tr>\n",
              "      <th>Stone</th>\n",
              "      <td>265583.625000</td>\n",
              "    </tr>\n",
              "  </tbody>\n",
              "</table>\n",
              "</div>"
            ],
            "text/plain": [
              "                SalePrice\n",
              "MasVnrType               \n",
              "BrkCmn      146318.066667\n",
              "BrkFace     204691.871910\n",
              "None        156221.891204\n",
              "Stone       265583.625000"
            ]
          },
          "metadata": {
            "tags": []
          },
          "execution_count": 614
        }
      ]
    },
    {
      "metadata": {
        "id": "jpEiT_KOJKyn",
        "colab_type": "code",
        "colab": {
          "base_uri": "https://localhost:8080/",
          "height": 104
        },
        "outputId": "c8580fbb-8cbc-4aa9-96ae-237b585c673f"
      },
      "cell_type": "code",
      "source": [
        "df.MasVnrType.value_counts()"
      ],
      "execution_count": 615,
      "outputs": [
        {
          "output_type": "execute_result",
          "data": {
            "text/plain": [
              "None       864\n",
              "BrkFace    445\n",
              "Stone      128\n",
              "BrkCmn      15\n",
              "Name: MasVnrType, dtype: int64"
            ]
          },
          "metadata": {
            "tags": []
          },
          "execution_count": 615
        }
      ]
    },
    {
      "metadata": {
        "id": "AafxbWuFJN2z",
        "colab_type": "code",
        "colab": {}
      },
      "cell_type": "code",
      "source": [
        "df['MasVnrType_Stone'] = (df.MasVnrType == 'Stone')\n",
        "df['MasVnrType_BrkFace'] = (df.MasVnrType == 'BrkFace')\n",
        "df['MasVnrType_BrkCmn'] = (df.MasVnrType == 'BrkCmn')"
      ],
      "execution_count": 0,
      "outputs": []
    },
    {
      "metadata": {
        "id": "CPlhvJtWJawI",
        "colab_type": "code",
        "colab": {
          "base_uri": "https://localhost:8080/",
          "height": 34
        },
        "outputId": "355e855f-419a-4934-d723-8d14bd21618a"
      },
      "cell_type": "code",
      "source": [
        "from sklearn.ensemble import GradientBoostingRegressor\n",
        "from sklearn.ensemble import RandomForestRegressor\n",
        "from sklearn.linear_model import Ridge\n",
        "from sklearn.linear_model import Lasso\n",
        "\n",
        "features = ['LotArea','OverallQual', 'OverallCond', 'GrLivArea','GarageArea', 'FullBath', 'HalfBath', 'fullhalfbath_interaction', 'BedroomAbvGr',\n",
        "            'sold_pre_2008', 'age_sold','age_sold_squared', 'years_since_remod', 'age_remod_interaction', '1stFlrSF', '2ndFlrSF', 'floor_interaction', 'mszoning_RL', 'mszoning_c',\n",
        "            'mszoning_RM', 'mszoning_FV', 'good_area', 'bad_area', 'one_fam_home', 'townhouse', 'miscfeature_isnone', 'has_shed', 'new_home', 'attached_garage',\n",
        "            'detchd_garage', 'lotarea_squared', 'overallqual_squared', 'overallcond_squared', 'is_start_of_school', 'is_spring', 'remodeled?', 'age_remodeled_interaction_good',\n",
        "            'sq_footage_fsb', 'sqfootage_fsb_squared', 'grlivarea_squared', 'heating_qual_ex', 'heating_qual_pr', 'heating_qual_fa', 'finished_bsmt', 'pos1_feedr_art', 'pos2_feedr_art',\n",
        "            'pos1_pos2_sum1', 'pos1_pos2_sum2', 'kitchen_numeric_squared', 'garage_cars_squared', 'atypical_function', 'exterior_exc', 'salecond_abnorml', 'no_fireplace', 'lotfrontage_squared',\n",
        "            'garagearea_squared', 'sq_footage_fsbg', 'banked_land', 'HLS_land', 'salecond_family', 'paved_drive_numeric', 'paved_drive_squared', 'OpenPorchSF', 'WoodDeckSF', 'EnclosedPorch',\n",
        "            'ScreenPorch', 'garageQual_numeric_squared', 'garage_unf', 'garage_Fin', 'no_central_air', 'Foundation__CBlock', 'Foundation__PConc', 'Foundation__Slab', 'Foundation__Stone', 'Foundation__Wood',\n",
        "            'RoofStyle_Hip', 'RoofStyle_Gambrel', 'RoofMatl_Wd','TotRmsAbvGrd_squared', 'LowQualFinSF', 'LowQualFinSF_squared', 'Exterior1st_VinylSd', 'Exterior1st_MetalSd', 'Exterior1st_WdSdng', 'MasVnrType_Stone',\n",
        "            'MasVnrType_BrkCmn']\n",
        "\n",
        "X = df[features].values\n",
        "y = df.logprice\n",
        "\n",
        "X_train, X_test, y_train, y_test = train_test_split(X, y, test_size=0.25, random_state=42)\n",
        "\n",
        "\n",
        "lr = LinearRegression()\n",
        "lr.fit(X_train, y_train)\n",
        "\n",
        "\n",
        "oos_pred = lr.predict(X_test)\n",
        "oos_mse = mean_squared_error(y_test, oos_pred)\n",
        "oos_r2 = r2_score(y_test, oos_pred)\n",
        "rmse = (np.sqrt(oos_mse))\n",
        "rmse, oos_r2"
      ],
      "execution_count": 623,
      "outputs": [
        {
          "output_type": "execute_result",
          "data": {
            "text/plain": [
              "(0.11298004099825668, 0.9262847465875031)"
            ]
          },
          "metadata": {
            "tags": []
          },
          "execution_count": 623
        }
      ]
    },
    {
      "metadata": {
        "id": "-HT1lO7xJij6",
        "colab_type": "code",
        "colab": {
          "base_uri": "https://localhost:8080/",
          "height": 364
        },
        "outputId": "a4d7920d-2913-4d46-d775-9461162a3c3c"
      },
      "cell_type": "code",
      "source": [
        "plt.scatter(df.MasVnrArea, df.SalePrice)"
      ],
      "execution_count": 624,
      "outputs": [
        {
          "output_type": "execute_result",
          "data": {
            "text/plain": [
              "<matplotlib.collections.PathCollection at 0x7f3911669940>"
            ]
          },
          "metadata": {
            "tags": []
          },
          "execution_count": 624
        },
        {
          "output_type": "display_data",
          "data": {
            "image/png": "[encoded data removed]",
            "text/plain": [
              "<Figure size 576x396 with 1 Axes>"
            ]
          },
          "metadata": {
            "tags": []
          }
        }
      ]
    },
    {
      "metadata": {
        "id": "G32UlCvNJ_i1",
        "colab_type": "code",
        "colab": {
          "base_uri": "https://localhost:8080/",
          "height": 34
        },
        "outputId": "853cacee-6802-49f2-ca36-3ee07ce10bc3"
      },
      "cell_type": "code",
      "source": [
        "df.shape[0]"
      ],
      "execution_count": 625,
      "outputs": [
        {
          "output_type": "execute_result",
          "data": {
            "text/plain": [
              "1460"
            ]
          },
          "metadata": {
            "tags": []
          },
          "execution_count": 625
        }
      ]
    },
    {
      "metadata": {
        "id": "rzklffdUKDqH",
        "colab_type": "code",
        "colab": {
          "base_uri": "https://localhost:8080/",
          "height": 34
        },
        "outputId": "df95320c-8ba0-4667-87e0-64234a37b188"
      },
      "cell_type": "code",
      "source": [
        "df[df.MasVnrArea > 0].SalePrice.mean()"
      ],
      "execution_count": 627,
      "outputs": [
        {
          "output_type": "execute_result",
          "data": {
            "text/plain": [
              "215662.74111675128"
            ]
          },
          "metadata": {
            "tags": []
          },
          "execution_count": 627
        }
      ]
    },
    {
      "metadata": {
        "id": "FnH5q7MYKG1m",
        "colab_type": "code",
        "colab": {}
      },
      "cell_type": "code",
      "source": [
        "df['has_MasVnr'] = (df.MasVnrArea > 0)"
      ],
      "execution_count": 0,
      "outputs": []
    },
    {
      "metadata": {
        "id": "6C3IEqNQKXhO",
        "colab_type": "code",
        "colab": {
          "base_uri": "https://localhost:8080/",
          "height": 34
        },
        "outputId": "2d388a4e-49d7-4c0d-d524-ea9327dd49f4"
      },
      "cell_type": "code",
      "source": [
        "from sklearn.ensemble import GradientBoostingRegressor\n",
        "from sklearn.ensemble import RandomForestRegressor\n",
        "from sklearn.linear_model import Ridge\n",
        "from sklearn.linear_model import Lasso\n",
        "\n",
        "features = ['LotArea','OverallQual', 'OverallCond', 'GrLivArea','GarageArea', 'FullBath', 'HalfBath', 'fullhalfbath_interaction', 'BedroomAbvGr',\n",
        "            'sold_pre_2008', 'age_sold','age_sold_squared', 'years_since_remod', 'age_remod_interaction', '1stFlrSF', '2ndFlrSF', 'floor_interaction', 'mszoning_RL', 'mszoning_c',\n",
        "            'mszoning_RM', 'mszoning_FV', 'good_area', 'bad_area', 'one_fam_home', 'townhouse', 'miscfeature_isnone', 'has_shed', 'new_home', 'attached_garage',\n",
        "            'detchd_garage', 'lotarea_squared', 'overallqual_squared', 'overallcond_squared', 'is_start_of_school', 'is_spring', 'remodeled?', 'age_remodeled_interaction_good',\n",
        "            'sq_footage_fsb', 'sqfootage_fsb_squared', 'grlivarea_squared', 'heating_qual_ex', 'heating_qual_pr', 'heating_qual_fa', 'finished_bsmt', 'pos1_feedr_art', 'pos2_feedr_art',\n",
        "            'pos1_pos2_sum1', 'pos1_pos2_sum2', 'kitchen_numeric_squared', 'garage_cars_squared', 'atypical_function', 'exterior_exc', 'salecond_abnorml', 'no_fireplace', 'lotfrontage_squared',\n",
        "            'garagearea_squared', 'sq_footage_fsbg', 'banked_land', 'HLS_land', 'salecond_family', 'paved_drive_numeric', 'paved_drive_squared', 'OpenPorchSF', 'WoodDeckSF', 'EnclosedPorch',\n",
        "            'ScreenPorch', 'garageQual_numeric_squared', 'garage_unf', 'garage_Fin', 'no_central_air', 'Foundation__CBlock', 'Foundation__PConc', 'Foundation__Slab', 'Foundation__Stone', 'Foundation__Wood',\n",
        "            'RoofStyle_Hip', 'RoofStyle_Gambrel', 'RoofMatl_Wd','TotRmsAbvGrd_squared', 'LowQualFinSF', 'LowQualFinSF_squared', 'Exterior1st_VinylSd', 'Exterior1st_MetalSd', 'Exterior1st_WdSdng', 'MasVnrType_Stone',\n",
        "            'MasVnrType_BrkCmn']\n",
        "\n",
        "X = df[features].values\n",
        "y = df.logprice\n",
        "\n",
        "X_train, X_test, y_train, y_test = train_test_split(X, y, test_size=0.25, random_state=42)\n",
        "\n",
        "\n",
        "lr = LinearRegression()\n",
        "lr.fit(X_train, y_train)\n",
        "\n",
        "\n",
        "oos_pred = lr.predict(X_test)\n",
        "oos_mse = mean_squared_error(y_test, oos_pred)\n",
        "oos_r2 = r2_score(y_test, oos_pred)\n",
        "rmse = (np.sqrt(oos_mse))\n",
        "rmse, oos_r2"
      ],
      "execution_count": 631,
      "outputs": [
        {
          "output_type": "execute_result",
          "data": {
            "text/plain": [
              "(0.11298004099825668, 0.9262847465875031)"
            ]
          },
          "metadata": {
            "tags": []
          },
          "execution_count": 631
        }
      ]
    },
    {
      "metadata": {
        "id": "IjOGR0eNKbTF",
        "colab_type": "code",
        "colab": {
          "base_uri": "https://localhost:8080/",
          "height": 34
        },
        "outputId": "d131d45a-261b-4274-e627-0a630ca91e5a"
      },
      "cell_type": "code",
      "source": [
        "df.MasVnrArea.isna().sum()"
      ],
      "execution_count": 634,
      "outputs": [
        {
          "output_type": "execute_result",
          "data": {
            "text/plain": [
              "8"
            ]
          },
          "metadata": {
            "tags": []
          },
          "execution_count": 634
        }
      ]
    },
    {
      "metadata": {
        "id": "MWFkYR6LK-rg",
        "colab_type": "code",
        "colab": {}
      },
      "cell_type": "code",
      "source": [
        "df.MasVnrArea = df.MasVnrArea.fillna(0)"
      ],
      "execution_count": 0,
      "outputs": []
    },
    {
      "metadata": {
        "id": "4i9SIxZOLJI_",
        "colab_type": "code",
        "colab": {}
      },
      "cell_type": "code",
      "source": [
        "df['MasVnrArea_squared'] = df.MasVnrArea ** 2"
      ],
      "execution_count": 0,
      "outputs": []
    },
    {
      "metadata": {
        "id": "fF2K6P8wLRoR",
        "colab_type": "code",
        "colab": {
          "base_uri": "https://localhost:8080/",
          "height": 34
        },
        "outputId": "da52fa63-5e88-4035-9db0-19185e31076a"
      },
      "cell_type": "code",
      "source": [
        "from sklearn.ensemble import GradientBoostingRegressor\n",
        "from sklearn.ensemble import RandomForestRegressor\n",
        "from sklearn.linear_model import Ridge\n",
        "from sklearn.linear_model import Lasso\n",
        "\n",
        "features = ['LotArea','OverallQual', 'OverallCond', 'GrLivArea','GarageArea', 'FullBath', 'HalfBath', 'fullhalfbath_interaction', 'BedroomAbvGr',\n",
        "            'sold_pre_2008', 'age_sold','age_sold_squared', 'years_since_remod', 'age_remod_interaction', '1stFlrSF', '2ndFlrSF', 'floor_interaction', 'mszoning_RL', 'mszoning_c',\n",
        "            'mszoning_RM', 'mszoning_FV', 'good_area', 'bad_area', 'one_fam_home', 'townhouse', 'miscfeature_isnone', 'has_shed', 'new_home', 'attached_garage',\n",
        "            'detchd_garage', 'lotarea_squared', 'overallqual_squared', 'overallcond_squared', 'is_start_of_school', 'is_spring', 'remodeled?', 'age_remodeled_interaction_good',\n",
        "            'sq_footage_fsb', 'sqfootage_fsb_squared', 'grlivarea_squared', 'heating_qual_ex', 'heating_qual_pr', 'heating_qual_fa', 'finished_bsmt', 'pos1_feedr_art', 'pos2_feedr_art',\n",
        "            'pos1_pos2_sum1', 'pos1_pos2_sum2', 'kitchen_numeric_squared', 'garage_cars_squared', 'atypical_function', 'exterior_exc', 'salecond_abnorml', 'no_fireplace', 'lotfrontage_squared',\n",
        "            'garagearea_squared', 'sq_footage_fsbg', 'banked_land', 'HLS_land', 'salecond_family', 'paved_drive_numeric', 'paved_drive_squared', 'OpenPorchSF', 'WoodDeckSF', 'EnclosedPorch',\n",
        "            'ScreenPorch', 'garageQual_numeric_squared', 'garage_unf', 'garage_Fin', 'no_central_air', 'Foundation__CBlock', 'Foundation__PConc', 'Foundation__Slab', 'Foundation__Stone', 'Foundation__Wood',\n",
        "            'RoofStyle_Hip', 'RoofStyle_Gambrel', 'RoofMatl_Wd','TotRmsAbvGrd_squared', 'LowQualFinSF', 'LowQualFinSF_squared', 'Exterior1st_VinylSd', 'Exterior1st_MetalSd', 'Exterior1st_WdSdng', 'MasVnrType_Stone',\n",
        "            'MasVnrType_BrkCmn']\n",
        "\n",
        "X = df[features].values\n",
        "y = df.logprice\n",
        "\n",
        "X_train, X_test, y_train, y_test = train_test_split(X, y, test_size=0.25, random_state=42)\n",
        "\n",
        "\n",
        "lr = LinearRegression()\n",
        "lr.fit(X_train, y_train)\n",
        "\n",
        "\n",
        "oos_pred = lr.predict(X_test)\n",
        "oos_mse = mean_squared_error(y_test, oos_pred)\n",
        "oos_r2 = r2_score(y_test, oos_pred)\n",
        "rmse = (np.sqrt(oos_mse))\n",
        "rmse, oos_r2"
      ],
      "execution_count": 641,
      "outputs": [
        {
          "output_type": "execute_result",
          "data": {
            "text/plain": [
              "(0.11298004099825668, 0.9262847465875031)"
            ]
          },
          "metadata": {
            "tags": []
          },
          "execution_count": 641
        }
      ]
    },
    {
      "metadata": {
        "id": "vzNNS-_cLf9u",
        "colab_type": "code",
        "colab": {}
      },
      "cell_type": "code",
      "source": [
        "df['street_grvl'] = (df.Street == 'Grvl')"
      ],
      "execution_count": 0,
      "outputs": []
    },
    {
      "metadata": {
        "id": "1mmxhvu5LvRB",
        "colab_type": "code",
        "colab": {
          "base_uri": "https://localhost:8080/",
          "height": 34
        },
        "outputId": "d570ac3c-3eff-4aad-9616-95628a92f3cd"
      },
      "cell_type": "code",
      "source": [
        "from sklearn.ensemble import GradientBoostingRegressor\n",
        "from sklearn.ensemble import RandomForestRegressor\n",
        "from sklearn.linear_model import Ridge\n",
        "from sklearn.linear_model import Lasso\n",
        "\n",
        "features = ['LotArea','OverallQual', 'OverallCond', 'GrLivArea','GarageArea', 'FullBath', 'HalfBath', 'fullhalfbath_interaction', 'BedroomAbvGr',\n",
        "            'sold_pre_2008', 'age_sold','age_sold_squared', 'years_since_remod', 'age_remod_interaction', '1stFlrSF', '2ndFlrSF', 'floor_interaction', 'mszoning_RL', 'mszoning_c',\n",
        "            'mszoning_RM', 'mszoning_FV', 'good_area', 'bad_area', 'one_fam_home', 'townhouse', 'miscfeature_isnone', 'has_shed', 'new_home', 'attached_garage',\n",
        "            'detchd_garage', 'lotarea_squared', 'overallqual_squared', 'overallcond_squared', 'is_start_of_school', 'is_spring', 'remodeled?', 'age_remodeled_interaction_good',\n",
        "            'sq_footage_fsb', 'sqfootage_fsb_squared', 'grlivarea_squared', 'heating_qual_ex', 'heating_qual_pr', 'heating_qual_fa', 'finished_bsmt', 'pos1_feedr_art', 'pos2_feedr_art',\n",
        "            'pos1_pos2_sum1', 'pos1_pos2_sum2', 'kitchen_numeric_squared', 'garage_cars_squared', 'atypical_function', 'exterior_exc', 'salecond_abnorml', 'no_fireplace', 'lotfrontage_squared',\n",
        "            'garagearea_squared', 'sq_footage_fsbg', 'banked_land', 'HLS_land', 'salecond_family', 'paved_drive_numeric', 'paved_drive_squared', 'OpenPorchSF', 'WoodDeckSF', 'EnclosedPorch',\n",
        "            'ScreenPorch', 'garageQual_numeric_squared', 'garage_unf', 'garage_Fin', 'no_central_air', 'Foundation__CBlock', 'Foundation__PConc', 'Foundation__Slab', 'Foundation__Stone', 'Foundation__Wood',\n",
        "            'RoofStyle_Hip', 'RoofStyle_Gambrel', 'RoofMatl_Wd','TotRmsAbvGrd_squared', 'LowQualFinSF', 'LowQualFinSF_squared', 'Exterior1st_VinylSd', 'Exterior1st_MetalSd', 'Exterior1st_WdSdng', 'MasVnrType_Stone',\n",
        "            'MasVnrType_BrkCmn', 'street_grvl']\n",
        "\n",
        "X = df[features].values\n",
        "y = df.logprice\n",
        "\n",
        "X_train, X_test, y_train, y_test = train_test_split(X, y, test_size=0.25, random_state=42)\n",
        "\n",
        "\n",
        "lr = LinearRegression()\n",
        "lr.fit(X_train, y_train)\n",
        "\n",
        "\n",
        "oos_pred = lr.predict(X_test)\n",
        "oos_mse = mean_squared_error(y_test, oos_pred)\n",
        "oos_r2 = r2_score(y_test, oos_pred)\n",
        "rmse = (np.sqrt(oos_mse))\n",
        "rmse, oos_r2"
      ],
      "execution_count": 647,
      "outputs": [
        {
          "output_type": "execute_result",
          "data": {
            "text/plain": [
              "(0.11296985700926777, 0.9262980353328036)"
            ]
          },
          "metadata": {
            "tags": []
          },
          "execution_count": 647
        }
      ]
    },
    {
      "metadata": {
        "id": "F-UuPdz1NB_i",
        "colab_type": "code",
        "colab": {
          "base_uri": "https://localhost:8080/",
          "height": 34
        },
        "outputId": "e6d79d6a-48fb-48e5-982c-b4dfca68a078"
      },
      "cell_type": "code",
      "source": [
        "df[df.Neighborhood == 'Crawfor'].SalePrice.mean()"
      ],
      "execution_count": 649,
      "outputs": [
        {
          "output_type": "execute_result",
          "data": {
            "text/plain": [
              "210624.72549019608"
            ]
          },
          "metadata": {
            "tags": []
          },
          "execution_count": 649
        }
      ]
    },
    {
      "metadata": {
        "id": "VZ3hUpdrNMny",
        "colab_type": "code",
        "colab": {}
      },
      "cell_type": "code",
      "source": [
        "df['Neighborhood_Crawfor'] = (df.Neighborhood == 'Crawfor')"
      ],
      "execution_count": 0,
      "outputs": []
    },
    {
      "metadata": {
        "id": "V6K2rTM-Nagc",
        "colab_type": "code",
        "colab": {
          "base_uri": "https://localhost:8080/",
          "height": 34
        },
        "outputId": "954c4b78-267d-410e-edef-97715c7663a0"
      },
      "cell_type": "code",
      "source": [
        "from sklearn.ensemble import GradientBoostingRegressor\n",
        "from sklearn.ensemble import RandomForestRegressor\n",
        "from sklearn.linear_model import Ridge\n",
        "from sklearn.linear_model import Lasso\n",
        "\n",
        "features = ['LotArea','OverallQual', 'OverallCond', 'GrLivArea','GarageArea', 'FullBath', 'HalfBath', 'fullhalfbath_interaction', 'BedroomAbvGr',\n",
        "            'sold_pre_2008', 'age_sold','age_sold_squared', 'years_since_remod', 'age_remod_interaction', '1stFlrSF', '2ndFlrSF', 'floor_interaction', 'mszoning_RL', 'mszoning_c',\n",
        "            'mszoning_RM', 'mszoning_FV', 'good_area', 'bad_area', 'one_fam_home', 'townhouse', 'miscfeature_isnone', 'has_shed', 'new_home', 'attached_garage',\n",
        "            'detchd_garage', 'lotarea_squared', 'overallqual_squared', 'overallcond_squared', 'is_start_of_school', 'is_spring', 'remodeled?', 'age_remodeled_interaction_good',\n",
        "            'sq_footage_fsb', 'sqfootage_fsb_squared', 'grlivarea_squared', 'heating_qual_ex', 'heating_qual_pr', 'heating_qual_fa', 'finished_bsmt', 'pos1_feedr_art', 'pos2_feedr_art',\n",
        "            'pos1_pos2_sum1', 'pos1_pos2_sum2', 'kitchen_numeric_squared', 'garage_cars_squared', 'atypical_function', 'exterior_exc', 'salecond_abnorml', 'no_fireplace', 'lotfrontage_squared',\n",
        "            'garagearea_squared', 'sq_footage_fsbg', 'banked_land', 'HLS_land', 'salecond_family', 'paved_drive_numeric', 'paved_drive_squared', 'OpenPorchSF', 'WoodDeckSF', 'EnclosedPorch',\n",
        "            'ScreenPorch', 'garageQual_numeric_squared', 'garage_unf', 'garage_Fin', 'no_central_air', 'Foundation__CBlock', 'Foundation__PConc', 'Foundation__Slab', 'Foundation__Stone', 'Foundation__Wood',\n",
        "            'RoofStyle_Hip', 'RoofStyle_Gambrel', 'RoofMatl_Wd','TotRmsAbvGrd_squared', 'LowQualFinSF', 'LowQualFinSF_squared', 'Exterior1st_VinylSd', 'Exterior1st_MetalSd', 'Exterior1st_WdSdng', 'MasVnrType_Stone',\n",
        "            'MasVnrType_BrkCmn', 'street_grvl', 'Neighborhood_Crawfor']\n",
        "\n",
        "X = df[features].values\n",
        "y = df.logprice\n",
        "\n",
        "X_train, X_test, y_train, y_test = train_test_split(X, y, test_size=0.25, random_state=42)\n",
        "\n",
        "\n",
        "lr = LinearRegression()\n",
        "lr.fit(X_train, y_train)\n",
        "\n",
        "\n",
        "oos_pred = lr.predict(X_test)\n",
        "oos_mse = mean_squared_error(y_test, oos_pred)\n",
        "oos_r2 = r2_score(y_test, oos_pred)\n",
        "rmse = (np.sqrt(oos_mse))\n",
        "rmse, oos_r2"
      ],
      "execution_count": 651,
      "outputs": [
        {
          "output_type": "execute_result",
          "data": {
            "text/plain": [
              "(0.11017698535576208, 0.9298971495635044)"
            ]
          },
          "metadata": {
            "tags": []
          },
          "execution_count": 651
        }
      ]
    },
    {
      "metadata": {
        "id": "5Moa49-9OItM",
        "colab_type": "code",
        "colab": {}
      },
      "cell_type": "code",
      "source": [
        "df['Neighborhood_Crawfor'] = (df.Neighborhood == 'Crawfor')\n",
        "df['Neighborhood_2'] = df.Neighborhood\n",
        "df = pd.get_dummies(df, prefix='Neighborhood', columns=['Neighborhood_2'])\n",
        "\n",
        "features = ['LotArea','OverallQual', 'OverallCond', 'GrLivArea','GarageArea', 'FullBath', 'HalfBath', 'fullhalfbath_interaction', 'BedroomAbvGr',\n",
        "            'sold_pre_2008', 'age_sold','age_sold_squared', 'years_since_remod', 'age_remod_interaction', '1stFlrSF', '2ndFlrSF', 'floor_interaction', 'mszoning_RL', 'mszoning_c',\n",
        "            'mszoning_RM', 'mszoning_FV', 'good_area', 'bad_area', 'one_fam_home', 'townhouse', 'miscfeature_isnone', 'has_shed', 'new_home', 'attached_garage',\n",
        "            'detchd_garage', 'lotarea_squared', 'overallqual_squared', 'overallcond_squared', 'is_start_of_school', 'is_spring', 'remodeled?', 'age_remodeled_interaction_good',\n",
        "            'sq_footage_fsb', 'sqfootage_fsb_squared', 'grlivarea_squared', 'heating_qual_ex', 'heating_qual_pr', 'heating_qual_fa', 'finished_bsmt', 'pos1_feedr_art', 'pos2_feedr_art',\n",
        "            'pos1_pos2_sum1', 'pos1_pos2_sum2', 'kitchen_numeric_squared', 'garage_cars_squared', 'atypical_function', 'exterior_exc', 'salecond_abnorml', 'no_fireplace', 'lotfrontage_squared',\n",
        "            'garagearea_squared', 'sq_footage_fsbg', 'banked_land', 'HLS_land', 'salecond_family', 'paved_drive_numeric', 'paved_drive_squared', 'OpenPorchSF', 'WoodDeckSF', 'EnclosedPorch',\n",
        "            'ScreenPorch', 'garageQual_numeric_squared', 'garage_unf', 'garage_Fin', 'no_central_air', 'Foundation__CBlock', 'Foundation__PConc', 'Foundation__Slab', 'Foundation__Stone', 'Foundation__Wood',\n",
        "            'RoofStyle_Hip', 'RoofStyle_Gambrel', 'RoofMatl_Wd','TotRmsAbvGrd_squared', 'LowQualFinSF', 'LowQualFinSF_squared', 'Exterior1st_VinylSd', 'Exterior1st_MetalSd', 'Exterior1st_WdSdng', 'MasVnrType_Stone',\n",
        "            'MasVnrType_BrkCmn', 'street_grvl', 'Neighborhood_Crawfor']\n",
        "\n",
        "for n in list(df.Neighborhood.unique()):\n",
        "  if ('Neighborhood_' + n) not in features:\n",
        "    features.append('Neighborhood_' + n)\n",
        "\n"
      ],
      "execution_count": 0,
      "outputs": []
    },
    {
      "metadata": {
        "id": "l7DxmfPhOZv2",
        "colab_type": "code",
        "colab": {
          "base_uri": "https://localhost:8080/",
          "height": 104
        },
        "outputId": "260c9889-5a38-476f-df2d-4bdf235ac7bd"
      },
      "cell_type": "code",
      "source": [
        "df.Neighborhood_2.unique()"
      ],
      "execution_count": 657,
      "outputs": [
        {
          "output_type": "execute_result",
          "data": {
            "text/plain": [
              "array(['CollgCr', 'Veenker', 'Crawfor', 'NoRidge', 'Mitchel', 'Somerst',\n",
              "       'NWAmes', 'OldTown', 'BrkSide', 'Sawyer', 'NridgHt', 'NAmes',\n",
              "       'SawyerW', 'IDOTRR', 'MeadowV', 'Edwards', 'Timber', 'Gilbert',\n",
              "       'StoneBr', 'ClearCr', 'NPkVill', 'Blmngtn', 'BrDale', 'SWISU',\n",
              "       'Blueste'], dtype=object)"
            ]
          },
          "metadata": {
            "tags": []
          },
          "execution_count": 657
        }
      ]
    },
    {
      "metadata": {
        "id": "GydJcZHCOphf",
        "colab_type": "code",
        "colab": {
          "base_uri": "https://localhost:8080/",
          "height": 34
        },
        "outputId": "b7860fa0-9ed7-4109-c318-4ae3d03340b7"
      },
      "cell_type": "code",
      "source": [
        "len(features)"
      ],
      "execution_count": 661,
      "outputs": [
        {
          "output_type": "execute_result",
          "data": {
            "text/plain": [
              "112"
            ]
          },
          "metadata": {
            "tags": []
          },
          "execution_count": 661
        }
      ]
    },
    {
      "metadata": {
        "id": "3jRnotkaPDB5",
        "colab_type": "code",
        "colab": {
          "base_uri": "https://localhost:8080/",
          "height": 34
        },
        "outputId": "e7cbffef-10dc-41c4-ccc9-0c3ff49e85b9"
      },
      "cell_type": "code",
      "source": [
        "from sklearn.ensemble import GradientBoostingRegressor\n",
        "from sklearn.ensemble import RandomForestRegressor\n",
        "from sklearn.linear_model import Ridge\n",
        "from sklearn.linear_model import Lasso\n",
        "\n",
        "X = df[features].values\n",
        "y = df.logprice\n",
        "\n",
        "X_train, X_test, y_train, y_test = train_test_split(X, y, test_size=0.25, random_state=42)\n",
        "\n",
        "\n",
        "lr = LinearRegression()\n",
        "lr.fit(X_train, y_train)\n",
        "\n",
        "\n",
        "oos_pred = lr.predict(X_test)\n",
        "oos_mse = mean_squared_error(y_test, oos_pred)\n",
        "oos_r2 = r2_score(y_test, oos_pred)\n",
        "rmse = (np.sqrt(oos_mse))\n",
        "rmse, oos_r2"
      ],
      "execution_count": 662,
      "outputs": [
        {
          "output_type": "execute_result",
          "data": {
            "text/plain": [
              "(0.10949566101942906, 0.9307614879293321)"
            ]
          },
          "metadata": {
            "tags": []
          },
          "execution_count": 662
        }
      ]
    },
    {
      "metadata": {
        "id": "ajlb8PuGPHDN",
        "colab_type": "code",
        "colab": {
          "base_uri": "https://localhost:8080/",
          "height": 469
        },
        "outputId": "989e15fb-8b7d-4146-9010-b7b5925a3ff4"
      },
      "cell_type": "code",
      "source": [
        "df.Neighborhood.value_counts()"
      ],
      "execution_count": 665,
      "outputs": [
        {
          "output_type": "execute_result",
          "data": {
            "text/plain": [
              "NAmes      225\n",
              "CollgCr    150\n",
              "OldTown    113\n",
              "Edwards    100\n",
              "Somerst     86\n",
              "Gilbert     79\n",
              "NridgHt     77\n",
              "Sawyer      74\n",
              "NWAmes      73\n",
              "SawyerW     59\n",
              "BrkSide     58\n",
              "Crawfor     51\n",
              "Mitchel     49\n",
              "NoRidge     41\n",
              "Timber      38\n",
              "IDOTRR      37\n",
              "ClearCr     28\n",
              "StoneBr     25\n",
              "SWISU       25\n",
              "MeadowV     17\n",
              "Blmngtn     17\n",
              "BrDale      16\n",
              "Veenker     11\n",
              "NPkVill      9\n",
              "Blueste      2\n",
              "Name: Neighborhood, dtype: int64"
            ]
          },
          "metadata": {
            "tags": []
          },
          "execution_count": 665
        }
      ]
    },
    {
      "metadata": {
        "id": "eWoODrNlPaZC",
        "colab_type": "code",
        "colab": {
          "base_uri": "https://localhost:8080/",
          "height": 34
        },
        "outputId": "c3217c9d-c7b4-4a67-f853-716f81054747"
      },
      "cell_type": "code",
      "source": [
        "len(features)"
      ],
      "execution_count": 667,
      "outputs": [
        {
          "output_type": "execute_result",
          "data": {
            "text/plain": [
              "112"
            ]
          },
          "metadata": {
            "tags": []
          },
          "execution_count": 667
        }
      ]
    },
    {
      "metadata": {
        "id": "FuM66koyPkaU",
        "colab_type": "code",
        "colab": {}
      },
      "cell_type": "code",
      "source": [
        "features.remove('good_area')\n",
        "features.remove('bad_area')"
      ],
      "execution_count": 0,
      "outputs": []
    },
    {
      "metadata": {
        "id": "TGD73-NNP23w",
        "colab_type": "code",
        "colab": {
          "base_uri": "https://localhost:8080/",
          "height": 34
        },
        "outputId": "037cd33e-04c9-464b-f8d3-a07994167839"
      },
      "cell_type": "code",
      "source": [
        "from sklearn.ensemble import GradientBoostingRegressor\n",
        "from sklearn.ensemble import RandomForestRegressor\n",
        "from sklearn.linear_model import Ridge\n",
        "from sklearn.linear_model import Lasso\n",
        "\n",
        "X = df[features].values\n",
        "y = df.logprice\n",
        "\n",
        "X_train, X_test, y_train, y_test = train_test_split(X, y, test_size=0.25, random_state=42)\n",
        "\n",
        "\n",
        "lr = LinearRegression()\n",
        "lr.fit(X_train, y_train)\n",
        "\n",
        "\n",
        "oos_pred = lr.predict(X_test)\n",
        "oos_mse = mean_squared_error(y_test, oos_pred)\n",
        "oos_r2 = r2_score(y_test, oos_pred)\n",
        "rmse = (np.sqrt(oos_mse))\n",
        "rmse, oos_r2"
      ],
      "execution_count": 737,
      "outputs": [
        {
          "output_type": "execute_result",
          "data": {
            "text/plain": [
              "(0.10949566357787381, 0.9307614846937169)"
            ]
          },
          "metadata": {
            "tags": []
          },
          "execution_count": 737
        }
      ]
    },
    {
      "metadata": {
        "id": "3-vNUPEQRXrO",
        "colab_type": "code",
        "colab": {
          "base_uri": "https://localhost:8080/",
          "height": 104
        },
        "outputId": "aefde6e7-90d0-49be-f8f8-13c06856d8c7"
      },
      "cell_type": "code",
      "source": [
        "from sklearn.ensemble import GradientBoostingRegressor\n",
        "from sklearn.ensemble import RandomForestRegressor\n",
        "from sklearn.linear_model import Ridge\n",
        "from sklearn.linear_model import Lasso\n",
        "\n",
        "X = df[features].values\n",
        "y = df.logprice\n",
        "\n",
        "X_train, X_test, y_train, y_test = train_test_split(X, y, test_size=0.25, random_state=42)\n",
        "\n",
        "lr = Ridge()\n",
        "lr.fit(X_train, y_train)\n",
        "\n",
        "\n",
        "oos_pred = lr.predict(X_test)\n",
        "oos_mse = mean_squared_error(y_test, oos_pred)\n",
        "oos_r2 = r2_score(y_test, oos_pred)\n",
        "rmse = (np.sqrt(oos_mse))\n",
        "rmse, oos_r2"
      ],
      "execution_count": 739,
      "outputs": [
        {
          "output_type": "stream",
          "text": [
            "/usr/local/lib/python3.6/dist-packages/sklearn/linear_model/ridge.py:125: LinAlgWarning: scipy.linalg.solve\n",
            "Ill-conditioned matrix detected. Result is not guaranteed to be accurate.\n",
            "Reciprocal condition number2.421563e-22\n",
            "  overwrite_a=True).T\n"
          ],
          "name": "stderr"
        },
        {
          "output_type": "execute_result",
          "data": {
            "text/plain": [
              "(0.10999837466209683, 0.9301242563327278)"
            ]
          },
          "metadata": {
            "tags": []
          },
          "execution_count": 739
        }
      ]
    },
    {
      "metadata": {
        "id": "KqMHkztZRvA8",
        "colab_type": "code",
        "colab": {
          "base_uri": "https://localhost:8080/",
          "height": 121
        },
        "outputId": "d67e6606-bff1-4753-f0c7-75f66e40d6e4"
      },
      "cell_type": "code",
      "source": [
        "df.LotConfig.value_counts()"
      ],
      "execution_count": 741,
      "outputs": [
        {
          "output_type": "execute_result",
          "data": {
            "text/plain": [
              "Inside     1052\n",
              "Corner      263\n",
              "CulDSac      94\n",
              "FR2          47\n",
              "FR3           4\n",
              "Name: LotConfig, dtype: int64"
            ]
          },
          "metadata": {
            "tags": []
          },
          "execution_count": 741
        }
      ]
    },
    {
      "metadata": {
        "id": "lqiXSZvvSCu6",
        "colab_type": "code",
        "colab": {}
      },
      "cell_type": "code",
      "source": [
        "df['LotConfig_Culdasac'] = (df.LotConfig == 'CullDSac')\n",
        "features.append('LotConfig_Culdasac')"
      ],
      "execution_count": 0,
      "outputs": []
    },
    {
      "metadata": {
        "id": "y_gN4NyGSLeD",
        "colab_type": "code",
        "colab": {}
      },
      "cell_type": "code",
      "source": [
        "features.append('LotConfig_Culdasac')"
      ],
      "execution_count": 0,
      "outputs": []
    },
    {
      "metadata": {
        "id": "p7yBfp4dSsSs",
        "colab_type": "code",
        "colab": {
          "base_uri": "https://localhost:8080/",
          "height": 34
        },
        "outputId": "71cbdbd9-9bef-4d66-9565-2dd9346c6730"
      },
      "cell_type": "code",
      "source": [
        "from sklearn.ensemble import GradientBoostingRegressor\n",
        "from sklearn.ensemble import RandomForestRegressor\n",
        "from sklearn.linear_model import Ridge\n",
        "from sklearn.linear_model import Lasso\n",
        "\n",
        "X = df[features].values\n",
        "y = df.logprice\n",
        "\n",
        "X_train, X_test, y_train, y_test = train_test_split(X, y, test_size=0.25, random_state=42)\n",
        "\n",
        "\n",
        "lr = LinearRegression()\n",
        "lr.fit(X_train, y_train)\n",
        "\n",
        "\n",
        "oos_pred = lr.predict(X_test)\n",
        "oos_mse = mean_squared_error(y_test, oos_pred)\n",
        "oos_r2 = r2_score(y_test, oos_pred)\n",
        "rmse = (np.sqrt(oos_mse))\n",
        "rmse, oos_r2"
      ],
      "execution_count": 747,
      "outputs": [
        {
          "output_type": "execute_result",
          "data": {
            "text/plain": [
              "(0.10949566357464978, 0.9307614846977943)"
            ]
          },
          "metadata": {
            "tags": []
          },
          "execution_count": 747
        }
      ]
    },
    {
      "metadata": {
        "id": "moXDP3g5Sub4",
        "colab_type": "code",
        "colab": {}
      },
      "cell_type": "code",
      "source": [
        "from sklearn.linear_model import LogisticRegression\n",
        "\n"
      ],
      "execution_count": 0,
      "outputs": []
    },
    {
      "metadata": {
        "id": "n74AzRZYS2Ei",
        "colab_type": "code",
        "colab": {}
      },
      "cell_type": "code",
      "source": [
        ""
      ],
      "execution_count": 0,
      "outputs": []
    }
  ]
}