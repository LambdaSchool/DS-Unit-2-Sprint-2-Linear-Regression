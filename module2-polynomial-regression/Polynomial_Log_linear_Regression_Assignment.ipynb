{
  "nbformat": 4,
  "nbformat_minor": 0,
  "metadata": {
    "colab": {
      "name": "Polynomial/Log-linear Regression Assignment.ipynb",
      "version": "0.3.2",
      "provenance": [],
      "collapsed_sections": [],
      "include_colab_link": true
    },
    "kernelspec": {
      "name": "python3",
      "display_name": "Python 3"
    }
  },
  "cells": [
    {
      "cell_type": "markdown",
      "metadata": {
        "id": "view-in-github",
        "colab_type": "text"
      },
      "source": [
        "<a href=\"https://colab.research.google.com/github/ShreyasJothish/DS-Unit-2-Sprint-2-Linear-Regression/blob/master/module2-polynomial-regression/Polynomial_Log_linear_Regression_Assignment.ipynb\" target=\"_parent\"><img src=\"https://colab.research.google.com/assets/colab-badge.svg\" alt=\"Open In Colab\"/></a>"
      ]
    },
    {
      "metadata": {
        "id": "Dc4kEVNWo4yZ",
        "colab_type": "text"
      },
      "cell_type": "markdown",
      "source": [
        "# Intermediate Linear Regression Practice\n",
        "\n",
        "## Use a Linear Regression model to get the lowest RMSE possible on the following dataset:\n",
        "\n",
        "[Dataset Folder](https://github.com/ryanleeallred/datasets/tree/master/Ames%20Housing%20Data)\n",
        "\n",
        "[Raw CSV](https://raw.githubusercontent.com/ryanleeallred/datasets/master/Ames%20Housing%20Data/train.csv)\n",
        "\n",
        "## You model must include (at least):\n",
        "- A log-transformed y variable\n",
        "- Two polynomial features\n",
        "- One interaction feature\n",
        "- 10 other engineered features\n",
        "\n",
        "What is the lowest Root-Mean-Squared Error that you are able to obtain? Share your best RMSEs in Slack!\n",
        "\n",
        "Notes:\n",
        "\n",
        "There may be some data cleaning that you need to do on some features of this dataset. Linear Regression will only accept numeric values and will not accept\n",
        "\n",
        "Note* There may not be a clear candidate for an interaction term in this dataset. Include one anyway, sometimes it's a good practice for predictive modeling feature engineering in general. "
      ]
    },
    {
      "metadata": {
        "id": "K1yY_PAAIcUk",
        "colab_type": "code",
        "colab": {
          "base_uri": "https://localhost:8080/",
          "height": 211
        },
        "outputId": "cb98d740-d4c8-49c0-abb9-73b80c35d230"
      },
      "cell_type": "code",
      "source": [
        "!pip install -U seaborn"
      ],
      "execution_count": 1,
      "outputs": [
        {
          "output_type": "stream",
          "text": [
            "Requirement already up-to-date: seaborn in /usr/local/lib/python3.6/dist-packages (0.9.0)\n",
            "Requirement already satisfied, skipping upgrade: pandas>=0.15.2 in /usr/local/lib/python3.6/dist-packages (from seaborn) (0.22.0)\n",
            "Requirement already satisfied, skipping upgrade: numpy>=1.9.3 in /usr/local/lib/python3.6/dist-packages (from seaborn) (1.14.6)\n",
            "Requirement already satisfied, skipping upgrade: scipy>=0.14.0 in /usr/local/lib/python3.6/dist-packages (from seaborn) (1.1.0)\n",
            "Requirement already satisfied, skipping upgrade: matplotlib>=1.4.3 in /usr/local/lib/python3.6/dist-packages (from seaborn) (2.1.2)\n",
            "Requirement already satisfied, skipping upgrade: python-dateutil>=2 in /usr/local/lib/python3.6/dist-packages (from pandas>=0.15.2->seaborn) (2.5.3)\n",
            "Requirement already satisfied, skipping upgrade: pytz>=2011k in /usr/local/lib/python3.6/dist-packages (from pandas>=0.15.2->seaborn) (2018.9)\n",
            "Requirement already satisfied, skipping upgrade: cycler>=0.10 in /usr/local/lib/python3.6/dist-packages (from matplotlib>=1.4.3->seaborn) (0.10.0)\n",
            "Requirement already satisfied, skipping upgrade: six>=1.10 in /usr/local/lib/python3.6/dist-packages (from matplotlib>=1.4.3->seaborn) (1.11.0)\n",
            "Requirement already satisfied, skipping upgrade: pyparsing!=2.0.4,!=2.1.2,!=2.1.6,>=2.0.1 in /usr/local/lib/python3.6/dist-packages (from matplotlib>=1.4.3->seaborn) (2.3.0)\n"
          ],
          "name": "stdout"
        }
      ]
    },
    {
      "metadata": {
        "id": "XYZSkixpo2qD",
        "colab_type": "code",
        "colab": {}
      },
      "cell_type": "code",
      "source": [
        "# Imports all in one place\n",
        "import pandas as pd\n",
        "import numpy as np\n",
        "import seaborn as sns\n",
        "from sklearn.linear_model import LinearRegression\n",
        "from sklearn.metrics import mean_squared_error, r2_score\n",
        "from sklearn.model_selection import train_test_split"
      ],
      "execution_count": 0,
      "outputs": []
    },
    {
      "metadata": {
        "id": "lX9XDSVJI2fo",
        "colab_type": "code",
        "colab": {}
      },
      "cell_type": "code",
      "source": [
        "# Data clean up and using only Ordinal and Numerical features\n",
        "dataurl = \"https://raw.githubusercontent.com/ryanleeallred/datasets/master/Ames%20Housing%20Data/train.csv\"\n",
        "df = pd.read_csv(dataurl)"
      ],
      "execution_count": 0,
      "outputs": []
    },
    {
      "metadata": {
        "id": "QR05hyeOJDJc",
        "colab_type": "code",
        "colab": {
          "base_uri": "https://localhost:8080/",
          "height": 347
        },
        "outputId": "80c6bdf0-012e-44b0-91dc-6189f4c2f5d7"
      },
      "cell_type": "code",
      "source": [
        "pd.set_option('display.max_rows', 100)\n",
        "print(df.shape)\n",
        "print(df.columns)"
      ],
      "execution_count": 4,
      "outputs": [
        {
          "output_type": "stream",
          "text": [
            "(1460, 81)\n",
            "Index(['Id', 'MSSubClass', 'MSZoning', 'LotFrontage', 'LotArea', 'Street',\n",
            "       'Alley', 'LotShape', 'LandContour', 'Utilities', 'LotConfig',\n",
            "       'LandSlope', 'Neighborhood', 'Condition1', 'Condition2', 'BldgType',\n",
            "       'HouseStyle', 'OverallQual', 'OverallCond', 'YearBuilt', 'YearRemodAdd',\n",
            "       'RoofStyle', 'RoofMatl', 'Exterior1st', 'Exterior2nd', 'MasVnrType',\n",
            "       'MasVnrArea', 'ExterQual', 'ExterCond', 'Foundation', 'BsmtQual',\n",
            "       'BsmtCond', 'BsmtExposure', 'BsmtFinType1', 'BsmtFinSF1',\n",
            "       'BsmtFinType2', 'BsmtFinSF2', 'BsmtUnfSF', 'TotalBsmtSF', 'Heating',\n",
            "       'HeatingQC', 'CentralAir', 'Electrical', '1stFlrSF', '2ndFlrSF',\n",
            "       'LowQualFinSF', 'GrLivArea', 'BsmtFullBath', 'BsmtHalfBath', 'FullBath',\n",
            "       'HalfBath', 'BedroomAbvGr', 'KitchenAbvGr', 'KitchenQual',\n",
            "       'TotRmsAbvGrd', 'Functional', 'Fireplaces', 'FireplaceQu', 'GarageType',\n",
            "       'GarageYrBlt', 'GarageFinish', 'GarageCars', 'GarageArea', 'GarageQual',\n",
            "       'GarageCond', 'PavedDrive', 'WoodDeckSF', 'OpenPorchSF',\n",
            "       'EnclosedPorch', '3SsnPorch', 'ScreenPorch', 'PoolArea', 'PoolQC',\n",
            "       'Fence', 'MiscFeature', 'MiscVal', 'MoSold', 'YrSold', 'SaleType',\n",
            "       'SaleCondition', 'SalePrice'],\n",
            "      dtype='object')\n"
          ],
          "name": "stdout"
        }
      ]
    },
    {
      "metadata": {
        "id": "4J6SDrcTVvPU",
        "colab_type": "code",
        "colab": {
          "base_uri": "https://localhost:8080/",
          "height": 251
        },
        "outputId": "3dc29bac-da4f-4dc5-ebbe-7bbab00363a3"
      },
      "cell_type": "code",
      "source": [
        "df_num = df[[\"LotFrontage\",\n",
        "\"LotArea\",\n",
        "\"OverallQual\",\n",
        "\"OverallCond\",\n",
        "\"BsmtFinSF1\",\n",
        "\"BsmtFinSF2\",\n",
        "\"BsmtUnfSF\",\n",
        "\"TotalBsmtSF\",\n",
        "\"1stFlrSF\",\n",
        "\"2ndFlrSF\",\n",
        "\"LowQualFinSF\",\n",
        "\"GrLivArea\",\n",
        "\"BsmtFullBath\",\n",
        "\"BsmtHalfBath\",\n",
        "\"FullBath\",\n",
        "\"HalfBath\",\n",
        "\"TotRmsAbvGrd\",\n",
        "\"Fireplaces\",\n",
        "\"GarageCars\",\n",
        "\"GarageArea\",\n",
        "\"WoodDeckSF\",\n",
        "\"OpenPorchSF\",\n",
        "\"EnclosedPorch\",\n",
        "\"3SsnPorch\",\n",
        "\"ScreenPorch\",\n",
        "\"PoolArea\"]].copy()\n",
        "df_num.sample(5)"
      ],
      "execution_count": 5,
      "outputs": [
        {
          "output_type": "execute_result",
          "data": {
            "text/html": [
              "<div>\n",
              "<style scoped>\n",
              "    .dataframe tbody tr th:only-of-type {\n",
              "        vertical-align: middle;\n",
              "    }\n",
              "\n",
              "    .dataframe tbody tr th {\n",
              "        vertical-align: top;\n",
              "    }\n",
              "\n",
              "    .dataframe thead th {\n",
              "        text-align: right;\n",
              "    }\n",
              "</style>\n",
              "<table border=\"1\" class=\"dataframe\">\n",
              "  <thead>\n",
              "    <tr style=\"text-align: right;\">\n",
              "      <th></th>\n",
              "      <th>LotFrontage</th>\n",
              "      <th>LotArea</th>\n",
              "      <th>OverallQual</th>\n",
              "      <th>OverallCond</th>\n",
              "      <th>BsmtFinSF1</th>\n",
              "      <th>BsmtFinSF2</th>\n",
              "      <th>BsmtUnfSF</th>\n",
              "      <th>TotalBsmtSF</th>\n",
              "      <th>1stFlrSF</th>\n",
              "      <th>2ndFlrSF</th>\n",
              "      <th>...</th>\n",
              "      <th>TotRmsAbvGrd</th>\n",
              "      <th>Fireplaces</th>\n",
              "      <th>GarageCars</th>\n",
              "      <th>GarageArea</th>\n",
              "      <th>WoodDeckSF</th>\n",
              "      <th>OpenPorchSF</th>\n",
              "      <th>EnclosedPorch</th>\n",
              "      <th>3SsnPorch</th>\n",
              "      <th>ScreenPorch</th>\n",
              "      <th>PoolArea</th>\n",
              "    </tr>\n",
              "  </thead>\n",
              "  <tbody>\n",
              "    <tr>\n",
              "      <th>229</th>\n",
              "      <td>43.0</td>\n",
              "      <td>3182</td>\n",
              "      <td>7</td>\n",
              "      <td>5</td>\n",
              "      <td>16</td>\n",
              "      <td>0</td>\n",
              "      <td>1357</td>\n",
              "      <td>1373</td>\n",
              "      <td>1555</td>\n",
              "      <td>0</td>\n",
              "      <td>...</td>\n",
              "      <td>7</td>\n",
              "      <td>1</td>\n",
              "      <td>2</td>\n",
              "      <td>430</td>\n",
              "      <td>143</td>\n",
              "      <td>20</td>\n",
              "      <td>0</td>\n",
              "      <td>0</td>\n",
              "      <td>0</td>\n",
              "      <td>0</td>\n",
              "    </tr>\n",
              "    <tr>\n",
              "      <th>759</th>\n",
              "      <td>65.0</td>\n",
              "      <td>12257</td>\n",
              "      <td>8</td>\n",
              "      <td>5</td>\n",
              "      <td>56</td>\n",
              "      <td>64</td>\n",
              "      <td>1198</td>\n",
              "      <td>1318</td>\n",
              "      <td>1328</td>\n",
              "      <td>1203</td>\n",
              "      <td>...</td>\n",
              "      <td>9</td>\n",
              "      <td>1</td>\n",
              "      <td>3</td>\n",
              "      <td>752</td>\n",
              "      <td>222</td>\n",
              "      <td>98</td>\n",
              "      <td>0</td>\n",
              "      <td>0</td>\n",
              "      <td>0</td>\n",
              "      <td>0</td>\n",
              "    </tr>\n",
              "    <tr>\n",
              "      <th>396</th>\n",
              "      <td>60.0</td>\n",
              "      <td>7200</td>\n",
              "      <td>5</td>\n",
              "      <td>5</td>\n",
              "      <td>777</td>\n",
              "      <td>0</td>\n",
              "      <td>117</td>\n",
              "      <td>894</td>\n",
              "      <td>894</td>\n",
              "      <td>0</td>\n",
              "      <td>...</td>\n",
              "      <td>6</td>\n",
              "      <td>0</td>\n",
              "      <td>2</td>\n",
              "      <td>600</td>\n",
              "      <td>215</td>\n",
              "      <td>0</td>\n",
              "      <td>0</td>\n",
              "      <td>0</td>\n",
              "      <td>0</td>\n",
              "      <td>0</td>\n",
              "    </tr>\n",
              "    <tr>\n",
              "      <th>289</th>\n",
              "      <td>60.0</td>\n",
              "      <td>8730</td>\n",
              "      <td>6</td>\n",
              "      <td>7</td>\n",
              "      <td>0</td>\n",
              "      <td>0</td>\n",
              "      <td>698</td>\n",
              "      <td>698</td>\n",
              "      <td>698</td>\n",
              "      <td>698</td>\n",
              "      <td>...</td>\n",
              "      <td>7</td>\n",
              "      <td>0</td>\n",
              "      <td>1</td>\n",
              "      <td>384</td>\n",
              "      <td>0</td>\n",
              "      <td>0</td>\n",
              "      <td>0</td>\n",
              "      <td>0</td>\n",
              "      <td>259</td>\n",
              "      <td>0</td>\n",
              "    </tr>\n",
              "    <tr>\n",
              "      <th>1183</th>\n",
              "      <td>60.0</td>\n",
              "      <td>10800</td>\n",
              "      <td>5</td>\n",
              "      <td>6</td>\n",
              "      <td>821</td>\n",
              "      <td>0</td>\n",
              "      <td>299</td>\n",
              "      <td>1120</td>\n",
              "      <td>1130</td>\n",
              "      <td>0</td>\n",
              "      <td>...</td>\n",
              "      <td>5</td>\n",
              "      <td>1</td>\n",
              "      <td>2</td>\n",
              "      <td>720</td>\n",
              "      <td>229</td>\n",
              "      <td>0</td>\n",
              "      <td>0</td>\n",
              "      <td>0</td>\n",
              "      <td>0</td>\n",
              "      <td>0</td>\n",
              "    </tr>\n",
              "  </tbody>\n",
              "</table>\n",
              "<p>5 rows × 26 columns</p>\n",
              "</div>"
            ],
            "text/plain": [
              "      LotFrontage  LotArea  OverallQual  OverallCond  BsmtFinSF1  BsmtFinSF2  \\\n",
              "229          43.0     3182            7            5          16           0   \n",
              "759          65.0    12257            8            5          56          64   \n",
              "396          60.0     7200            5            5         777           0   \n",
              "289          60.0     8730            6            7           0           0   \n",
              "1183         60.0    10800            5            6         821           0   \n",
              "\n",
              "      BsmtUnfSF  TotalBsmtSF  1stFlrSF  2ndFlrSF    ...     TotRmsAbvGrd  \\\n",
              "229        1357         1373      1555         0    ...                7   \n",
              "759        1198         1318      1328      1203    ...                9   \n",
              "396         117          894       894         0    ...                6   \n",
              "289         698          698       698       698    ...                7   \n",
              "1183        299         1120      1130         0    ...                5   \n",
              "\n",
              "      Fireplaces  GarageCars  GarageArea  WoodDeckSF  OpenPorchSF  \\\n",
              "229            1           2         430         143           20   \n",
              "759            1           3         752         222           98   \n",
              "396            0           2         600         215            0   \n",
              "289            0           1         384           0            0   \n",
              "1183           1           2         720         229            0   \n",
              "\n",
              "      EnclosedPorch  3SsnPorch  ScreenPorch  PoolArea  \n",
              "229               0          0            0         0  \n",
              "759               0          0            0         0  \n",
              "396               0          0            0         0  \n",
              "289               0          0          259         0  \n",
              "1183              0          0            0         0  \n",
              "\n",
              "[5 rows x 26 columns]"
            ]
          },
          "metadata": {
            "tags": []
          },
          "execution_count": 5
        }
      ]
    },
    {
      "metadata": {
        "id": "mWKT2YhxX7Bd",
        "colab_type": "code",
        "colab": {
          "base_uri": "https://localhost:8080/",
          "height": 485
        },
        "outputId": "0b1188a7-441b-4b35-8db5-e47e7d4824ae"
      },
      "cell_type": "code",
      "source": [
        "df_num.isnull().sum()"
      ],
      "execution_count": 6,
      "outputs": [
        {
          "output_type": "execute_result",
          "data": {
            "text/plain": [
              "LotFrontage      259\n",
              "LotArea            0\n",
              "OverallQual        0\n",
              "OverallCond        0\n",
              "BsmtFinSF1         0\n",
              "BsmtFinSF2         0\n",
              "BsmtUnfSF          0\n",
              "TotalBsmtSF        0\n",
              "1stFlrSF           0\n",
              "2ndFlrSF           0\n",
              "LowQualFinSF       0\n",
              "GrLivArea          0\n",
              "BsmtFullBath       0\n",
              "BsmtHalfBath       0\n",
              "FullBath           0\n",
              "HalfBath           0\n",
              "TotRmsAbvGrd       0\n",
              "Fireplaces         0\n",
              "GarageCars         0\n",
              "GarageArea         0\n",
              "WoodDeckSF         0\n",
              "OpenPorchSF        0\n",
              "EnclosedPorch      0\n",
              "3SsnPorch          0\n",
              "ScreenPorch        0\n",
              "PoolArea           0\n",
              "dtype: int64"
            ]
          },
          "metadata": {
            "tags": []
          },
          "execution_count": 6
        }
      ]
    },
    {
      "metadata": {
        "id": "Caim2eQ_YDUC",
        "colab_type": "code",
        "colab": {
          "base_uri": "https://localhost:8080/",
          "height": 485
        },
        "outputId": "e42dbc1a-c546-4c31-8971-d8a1d04f9d53"
      },
      "cell_type": "code",
      "source": [
        "LotFrontage_mean = df_num.LotFrontage.mean()\n",
        "#df_num.loc[:,'LotFrontage'].fillna(LotFrontage_mean, inplace=True)\n",
        "df_num.LotFrontage.fillna(df_num.LotFrontage.mean(), inplace=True)\n",
        "\n",
        "# Rechecking\n",
        "df_num.isnull().sum()"
      ],
      "execution_count": 7,
      "outputs": [
        {
          "output_type": "execute_result",
          "data": {
            "text/plain": [
              "LotFrontage      0\n",
              "LotArea          0\n",
              "OverallQual      0\n",
              "OverallCond      0\n",
              "BsmtFinSF1       0\n",
              "BsmtFinSF2       0\n",
              "BsmtUnfSF        0\n",
              "TotalBsmtSF      0\n",
              "1stFlrSF         0\n",
              "2ndFlrSF         0\n",
              "LowQualFinSF     0\n",
              "GrLivArea        0\n",
              "BsmtFullBath     0\n",
              "BsmtHalfBath     0\n",
              "FullBath         0\n",
              "HalfBath         0\n",
              "TotRmsAbvGrd     0\n",
              "Fireplaces       0\n",
              "GarageCars       0\n",
              "GarageArea       0\n",
              "WoodDeckSF       0\n",
              "OpenPorchSF      0\n",
              "EnclosedPorch    0\n",
              "3SsnPorch        0\n",
              "ScreenPorch      0\n",
              "PoolArea         0\n",
              "dtype: int64"
            ]
          },
          "metadata": {
            "tags": []
          },
          "execution_count": 7
        }
      ]
    },
    {
      "metadata": {
        "id": "cGHalxsqdVrC",
        "colab_type": "code",
        "colab": {
          "base_uri": "https://localhost:8080/",
          "height": 260
        },
        "outputId": "96b49ae8-0a81-4e2b-c711-25f223323296"
      },
      "cell_type": "code",
      "source": [
        "df_ord = df[[\"ExterQual\",\n",
        "\"ExterCond\",\n",
        "\"BsmtQual\",\n",
        "\"BsmtCond\",\n",
        "\"BsmtExposure\",\n",
        "\"HeatingQC\",\n",
        "\"CentralAir\",\n",
        "\"KitchenQual\",\n",
        "\"FireplaceQu\",\n",
        "\"GarageQual\",\n",
        "\"GarageCond\",\n",
        "\"PoolQC\",\n",
        "\"Fence\"]].copy()\n",
        "df_ord.isnull().sum()"
      ],
      "execution_count": 8,
      "outputs": [
        {
          "output_type": "execute_result",
          "data": {
            "text/plain": [
              "ExterQual          0\n",
              "ExterCond          0\n",
              "BsmtQual          37\n",
              "BsmtCond          37\n",
              "BsmtExposure      38\n",
              "HeatingQC          0\n",
              "CentralAir         0\n",
              "KitchenQual        0\n",
              "FireplaceQu      690\n",
              "GarageQual        81\n",
              "GarageCond        81\n",
              "PoolQC          1453\n",
              "Fence           1179\n",
              "dtype: int64"
            ]
          },
          "metadata": {
            "tags": []
          },
          "execution_count": 8
        }
      ]
    },
    {
      "metadata": {
        "id": "_y6hBHxadxW-",
        "colab_type": "code",
        "colab": {}
      },
      "cell_type": "code",
      "source": [
        "# Dropping FireplaceQu, PoolQC and Fence since most of the values are NaN\n",
        "df_ord.drop(columns=[\"FireplaceQu\", \"PoolQC\", \"Fence\"], inplace=True)\n",
        "df_ord.fillna(method='backfill', inplace=True)"
      ],
      "execution_count": 0,
      "outputs": []
    },
    {
      "metadata": {
        "id": "sv948I4BiApk",
        "colab_type": "code",
        "colab": {
          "base_uri": "https://localhost:8080/",
          "height": 191
        },
        "outputId": "7573c981-24d8-4fdf-b084-71bac9393a48"
      },
      "cell_type": "code",
      "source": [
        "!pip install category_encoders"
      ],
      "execution_count": 10,
      "outputs": [
        {
          "output_type": "stream",
          "text": [
            "Requirement already satisfied: category_encoders in /usr/local/lib/python3.6/dist-packages (1.3.0)\n",
            "Requirement already satisfied: scikit-learn>=0.17.1 in /usr/local/lib/python3.6/dist-packages (from category_encoders) (0.20.2)\n",
            "Requirement already satisfied: numpy>=1.11.1 in /usr/local/lib/python3.6/dist-packages (from category_encoders) (1.14.6)\n",
            "Requirement already satisfied: statsmodels>=0.6.1 in /usr/local/lib/python3.6/dist-packages (from category_encoders) (0.8.0)\n",
            "Requirement already satisfied: patsy>=0.4.1 in /usr/local/lib/python3.6/dist-packages (from category_encoders) (0.5.1)\n",
            "Requirement already satisfied: scipy>=0.17.0 in /usr/local/lib/python3.6/dist-packages (from category_encoders) (1.1.0)\n",
            "Requirement already satisfied: pandas>=0.20.1 in /usr/local/lib/python3.6/dist-packages (from category_encoders) (0.22.0)\n",
            "Requirement already satisfied: six in /usr/local/lib/python3.6/dist-packages (from patsy>=0.4.1->category_encoders) (1.11.0)\n",
            "Requirement already satisfied: python-dateutil>=2 in /usr/local/lib/python3.6/dist-packages (from pandas>=0.20.1->category_encoders) (2.5.3)\n",
            "Requirement already satisfied: pytz>=2011k in /usr/local/lib/python3.6/dist-packages (from pandas>=0.20.1->category_encoders) (2018.9)\n"
          ],
          "name": "stdout"
        }
      ]
    },
    {
      "metadata": {
        "id": "bG4gXVsEeXIW",
        "colab_type": "code",
        "colab": {
          "base_uri": "https://localhost:8080/",
          "height": 251
        },
        "outputId": "270060ff-82dc-494e-fa8a-b642fdeaae86"
      },
      "cell_type": "code",
      "source": [
        "import category_encoders as ce\n",
        "\n",
        "encoder = ce.binary.BinaryEncoder()\n",
        "\n",
        "df_ord_binenc = encoder.fit_transform(df_ord)\n",
        "df_ord_binenc.head()"
      ],
      "execution_count": 11,
      "outputs": [
        {
          "output_type": "execute_result",
          "data": {
            "text/html": [
              "<div>\n",
              "<style scoped>\n",
              "    .dataframe tbody tr th:only-of-type {\n",
              "        vertical-align: middle;\n",
              "    }\n",
              "\n",
              "    .dataframe tbody tr th {\n",
              "        vertical-align: top;\n",
              "    }\n",
              "\n",
              "    .dataframe thead th {\n",
              "        text-align: right;\n",
              "    }\n",
              "</style>\n",
              "<table border=\"1\" class=\"dataframe\">\n",
              "  <thead>\n",
              "    <tr style=\"text-align: right;\">\n",
              "      <th></th>\n",
              "      <th>ExterQual_0</th>\n",
              "      <th>ExterQual_1</th>\n",
              "      <th>ExterQual_2</th>\n",
              "      <th>ExterCond_0</th>\n",
              "      <th>ExterCond_1</th>\n",
              "      <th>ExterCond_2</th>\n",
              "      <th>ExterCond_3</th>\n",
              "      <th>BsmtQual_0</th>\n",
              "      <th>BsmtQual_1</th>\n",
              "      <th>BsmtQual_2</th>\n",
              "      <th>...</th>\n",
              "      <th>KitchenQual_1</th>\n",
              "      <th>KitchenQual_2</th>\n",
              "      <th>GarageQual_0</th>\n",
              "      <th>GarageQual_1</th>\n",
              "      <th>GarageQual_2</th>\n",
              "      <th>GarageQual_3</th>\n",
              "      <th>GarageCond_0</th>\n",
              "      <th>GarageCond_1</th>\n",
              "      <th>GarageCond_2</th>\n",
              "      <th>GarageCond_3</th>\n",
              "    </tr>\n",
              "  </thead>\n",
              "  <tbody>\n",
              "    <tr>\n",
              "      <th>0</th>\n",
              "      <td>0</td>\n",
              "      <td>0</td>\n",
              "      <td>1</td>\n",
              "      <td>0</td>\n",
              "      <td>0</td>\n",
              "      <td>0</td>\n",
              "      <td>1</td>\n",
              "      <td>0</td>\n",
              "      <td>0</td>\n",
              "      <td>1</td>\n",
              "      <td>...</td>\n",
              "      <td>0</td>\n",
              "      <td>1</td>\n",
              "      <td>0</td>\n",
              "      <td>0</td>\n",
              "      <td>0</td>\n",
              "      <td>1</td>\n",
              "      <td>0</td>\n",
              "      <td>0</td>\n",
              "      <td>0</td>\n",
              "      <td>1</td>\n",
              "    </tr>\n",
              "    <tr>\n",
              "      <th>1</th>\n",
              "      <td>0</td>\n",
              "      <td>1</td>\n",
              "      <td>0</td>\n",
              "      <td>0</td>\n",
              "      <td>0</td>\n",
              "      <td>0</td>\n",
              "      <td>1</td>\n",
              "      <td>0</td>\n",
              "      <td>0</td>\n",
              "      <td>1</td>\n",
              "      <td>...</td>\n",
              "      <td>1</td>\n",
              "      <td>0</td>\n",
              "      <td>0</td>\n",
              "      <td>0</td>\n",
              "      <td>0</td>\n",
              "      <td>1</td>\n",
              "      <td>0</td>\n",
              "      <td>0</td>\n",
              "      <td>0</td>\n",
              "      <td>1</td>\n",
              "    </tr>\n",
              "    <tr>\n",
              "      <th>2</th>\n",
              "      <td>0</td>\n",
              "      <td>0</td>\n",
              "      <td>1</td>\n",
              "      <td>0</td>\n",
              "      <td>0</td>\n",
              "      <td>0</td>\n",
              "      <td>1</td>\n",
              "      <td>0</td>\n",
              "      <td>0</td>\n",
              "      <td>1</td>\n",
              "      <td>...</td>\n",
              "      <td>0</td>\n",
              "      <td>1</td>\n",
              "      <td>0</td>\n",
              "      <td>0</td>\n",
              "      <td>0</td>\n",
              "      <td>1</td>\n",
              "      <td>0</td>\n",
              "      <td>0</td>\n",
              "      <td>0</td>\n",
              "      <td>1</td>\n",
              "    </tr>\n",
              "    <tr>\n",
              "      <th>3</th>\n",
              "      <td>0</td>\n",
              "      <td>1</td>\n",
              "      <td>0</td>\n",
              "      <td>0</td>\n",
              "      <td>0</td>\n",
              "      <td>0</td>\n",
              "      <td>1</td>\n",
              "      <td>0</td>\n",
              "      <td>1</td>\n",
              "      <td>0</td>\n",
              "      <td>...</td>\n",
              "      <td>0</td>\n",
              "      <td>1</td>\n",
              "      <td>0</td>\n",
              "      <td>0</td>\n",
              "      <td>0</td>\n",
              "      <td>1</td>\n",
              "      <td>0</td>\n",
              "      <td>0</td>\n",
              "      <td>0</td>\n",
              "      <td>1</td>\n",
              "    </tr>\n",
              "    <tr>\n",
              "      <th>4</th>\n",
              "      <td>0</td>\n",
              "      <td>0</td>\n",
              "      <td>1</td>\n",
              "      <td>0</td>\n",
              "      <td>0</td>\n",
              "      <td>0</td>\n",
              "      <td>1</td>\n",
              "      <td>0</td>\n",
              "      <td>0</td>\n",
              "      <td>1</td>\n",
              "      <td>...</td>\n",
              "      <td>0</td>\n",
              "      <td>1</td>\n",
              "      <td>0</td>\n",
              "      <td>0</td>\n",
              "      <td>0</td>\n",
              "      <td>1</td>\n",
              "      <td>0</td>\n",
              "      <td>0</td>\n",
              "      <td>0</td>\n",
              "      <td>1</td>\n",
              "    </tr>\n",
              "  </tbody>\n",
              "</table>\n",
              "<p>5 rows × 33 columns</p>\n",
              "</div>"
            ],
            "text/plain": [
              "   ExterQual_0  ExterQual_1  ExterQual_2  ExterCond_0  ExterCond_1  \\\n",
              "0            0            0            1            0            0   \n",
              "1            0            1            0            0            0   \n",
              "2            0            0            1            0            0   \n",
              "3            0            1            0            0            0   \n",
              "4            0            0            1            0            0   \n",
              "\n",
              "   ExterCond_2  ExterCond_3  BsmtQual_0  BsmtQual_1  BsmtQual_2      ...       \\\n",
              "0            0            1           0           0           1      ...        \n",
              "1            0            1           0           0           1      ...        \n",
              "2            0            1           0           0           1      ...        \n",
              "3            0            1           0           1           0      ...        \n",
              "4            0            1           0           0           1      ...        \n",
              "\n",
              "   KitchenQual_1  KitchenQual_2  GarageQual_0  GarageQual_1  GarageQual_2  \\\n",
              "0              0              1             0             0             0   \n",
              "1              1              0             0             0             0   \n",
              "2              0              1             0             0             0   \n",
              "3              0              1             0             0             0   \n",
              "4              0              1             0             0             0   \n",
              "\n",
              "   GarageQual_3  GarageCond_0  GarageCond_1  GarageCond_2  GarageCond_3  \n",
              "0             1             0             0             0             1  \n",
              "1             1             0             0             0             1  \n",
              "2             1             0             0             0             1  \n",
              "3             1             0             0             0             1  \n",
              "4             1             0             0             0             1  \n",
              "\n",
              "[5 rows x 33 columns]"
            ]
          },
          "metadata": {
            "tags": []
          },
          "execution_count": 11
        }
      ]
    },
    {
      "metadata": {
        "id": "dum2HY3ihBuA",
        "colab_type": "code",
        "colab": {
          "base_uri": "https://localhost:8080/",
          "height": 69
        },
        "outputId": "595364f7-98a9-4e6d-8f77-6e87acdc170c"
      },
      "cell_type": "code",
      "source": [
        "X = df_num.join(df_ord_binenc)\n",
        "\n",
        "print(df_num.shape)\n",
        "print(df_ord_binenc.shape)\n",
        "print(X.shape)"
      ],
      "execution_count": 12,
      "outputs": [
        {
          "output_type": "stream",
          "text": [
            "(1460, 26)\n",
            "(1460, 33)\n",
            "(1460, 59)\n"
          ],
          "name": "stdout"
        }
      ]
    },
    {
      "metadata": {
        "id": "4TeJ_pWjtFkL",
        "colab_type": "code",
        "colab": {}
      },
      "cell_type": "code",
      "source": [
        "# log-transformed y variable\n",
        "y = np.log(df['SalePrice'])"
      ],
      "execution_count": 0,
      "outputs": []
    },
    {
      "metadata": {
        "id": "i75kweetu7B6",
        "colab_type": "code",
        "colab": {
          "base_uri": "https://localhost:8080/",
          "height": 329
        },
        "outputId": "f197cb9e-f6ed-4a73-afe0-5d008001f0ba"
      },
      "cell_type": "code",
      "source": [
        "# Slit into test and train datasets\n",
        "X_train, X_test, Y_train, Y_test = train_test_split(X, y, test_size=.5, random_state=42)\n",
        "\n",
        "# fit model using train datasets\n",
        "model = LinearRegression()\n",
        "model.fit(X_train, Y_train)\n",
        "\n",
        "# Create new predictions using x_test\n",
        "y_pred = model.predict(X_test)\n",
        "\n",
        "# Measure Accuracy using y_test and y_pred\n",
        "RMSE = (np.sqrt(mean_squared_error(Y_test, y_pred)))\n",
        "R2 = r2_score(Y_test, y_pred)\n",
        "\n",
        "print('RMSE is {}'.format(RMSE))\n",
        "print('R^2 is {}'.format(R2))\n",
        "\n",
        "print(\"coefficients: \", model.coef_)\n",
        "print(\"intercepts: \", model.intercept_)"
      ],
      "execution_count": 16,
      "outputs": [
        {
          "output_type": "stream",
          "text": [
            "RMSE is 0.16149132010191228\n",
            "R^2 is 0.8436072152250504\n",
            "coefficients:  [-1.14992303e-04  2.10578812e-06  7.22529379e-02  3.18903424e-02\n",
            " -5.44710472e-06  3.22131675e-05 -1.54067068e-05  1.13593526e-05\n",
            "  9.56828371e-05 -5.98843065e-07  1.76357569e-05  1.12719753e-04\n",
            "  5.41756542e-02  3.47262367e-02  5.50502018e-02  6.00141961e-02\n",
            "  8.78978945e-03  3.16365241e-02  1.00450554e-01  1.60196619e-06\n",
            "  7.30952476e-05  6.60468545e-05  1.27752933e-04  4.75912497e-04\n",
            "  2.88615925e-04 -7.96153598e-04 -3.20108102e-03 -1.65041106e-02\n",
            "  3.64070393e-02 -2.08166817e-17 -4.71230236e-02  2.67604409e-02\n",
            "  4.64551736e-02  1.86757691e-02  6.80117332e-02  1.14065559e-01\n",
            " -1.00567382e-01 -7.68652764e-02 -9.46220079e-02 -2.85542722e-02\n",
            "  1.23807033e-02 -4.49685337e-02  3.46944695e-17 -6.78024505e-02\n",
            " -3.33726208e-02 -9.09741565e-03 -7.02836940e-02  7.02836940e-02\n",
            "  9.73378309e-02  6.00509573e-02  1.08079177e-01  0.00000000e+00\n",
            "  4.40698560e-03  7.89987059e-02  1.16637895e-01  0.00000000e+00\n",
            "  1.93730266e-01  1.06348377e-01  1.53315181e-01]\n",
            "intercepts:  10.29883638853245\n"
          ],
          "name": "stdout"
        }
      ]
    },
    {
      "metadata": {
        "id": "CVh0fg_5v9lh",
        "colab_type": "code",
        "colab": {}
      },
      "cell_type": "code",
      "source": [
        "# Two polynomial features\n",
        "X['OverallQual_Sq'] = X['OverallQual'] ** 2\n",
        "X['OverallCond_Sq'] = X['OverallCond'] ** 2"
      ],
      "execution_count": 0,
      "outputs": []
    },
    {
      "metadata": {
        "id": "J_KFehwGxTsA",
        "colab_type": "code",
        "colab": {
          "base_uri": "https://localhost:8080/",
          "height": 347
        },
        "outputId": "b42983d0-f340-4654-d6a1-a90e24263f12"
      },
      "cell_type": "code",
      "source": [
        "# Slit into test and train datasets\n",
        "X_train, X_test, Y_train, Y_test = train_test_split(X, y, test_size=.5, random_state=42)\n",
        "\n",
        "# fit model using train datasets\n",
        "model = LinearRegression()\n",
        "model.fit(X_train, Y_train)\n",
        "\n",
        "# Create new predictions using x_test\n",
        "y_pred = model.predict(X_test)\n",
        "\n",
        "# Measure Accuracy using y_test and y_pred\n",
        "RMSE = (np.sqrt(mean_squared_error(Y_test, y_pred)))\n",
        "R2 = r2_score(Y_test, y_pred)\n",
        "\n",
        "print('RMSE is {}'.format(RMSE))\n",
        "print('R^2 is {}'.format(R2))\n",
        "\n",
        "print(\"coefficients: \", model.coef_)\n",
        "print(\"intercepts: \", model.intercept_)"
      ],
      "execution_count": 19,
      "outputs": [
        {
          "output_type": "stream",
          "text": [
            "RMSE is 0.16085205781477196\n",
            "R^2 is 0.844842924141786\n",
            "coefficients:  [-7.89674965e-05  2.09726351e-06  1.12579123e-01  1.03538806e-01\n",
            " -6.16304952e-06  2.92748983e-05 -1.55188770e-05  7.59296883e-06\n",
            "  1.04283167e-04  4.07386220e-06  5.07354412e-06  1.13430571e-04\n",
            "  5.44853848e-02  3.37299919e-02  5.23142107e-02  5.79340146e-02\n",
            "  8.17822671e-03  3.01373114e-02  9.95073120e-02  8.09474051e-06\n",
            "  8.28442896e-05  6.57092142e-05  1.19232662e-04  4.67350640e-04\n",
            "  2.79401371e-04 -7.94080598e-04  1.54833883e-02 -9.04568597e-04\n",
            "  5.37364293e-02 -1.14491749e-16  2.39281582e-02  3.30515204e-02\n",
            "  4.53752322e-02  3.06275808e-02  7.24925840e-02  1.15665820e-01\n",
            "  9.29124752e-02 -6.63058484e-02 -8.28372554e-02 -2.89734103e-02\n",
            "  1.22901455e-02 -4.52249551e-02 -4.16333634e-17 -6.32936969e-02\n",
            " -3.33852972e-02 -9.74895402e-03 -6.76556943e-02  6.76556943e-02\n",
            "  1.16231163e-01  6.97952070e-02  1.21784194e-01 -1.38777878e-17\n",
            "  1.01981938e-01  7.99102048e-02  1.16142764e-01  0.00000000e+00\n",
            "  8.30806984e-02  9.90425416e-02  1.38643425e-01 -3.44504498e-03\n",
            " -6.16835984e-03]\n",
            "intercepts:  9.957118335428884\n"
          ],
          "name": "stdout"
        }
      ]
    },
    {
      "metadata": {
        "id": "Z-qdxi1dxvbO",
        "colab_type": "code",
        "colab": {}
      },
      "cell_type": "code",
      "source": [
        "# One interaction feature\n",
        "X['TotRmsAbvGrd_Fireplaces'] = X['TotRmsAbvGrd'] * X['Fireplaces']"
      ],
      "execution_count": 0,
      "outputs": []
    },
    {
      "metadata": {
        "id": "aulfwkNOybP_",
        "colab_type": "code",
        "colab": {
          "base_uri": "https://localhost:8080/",
          "height": 347
        },
        "outputId": "c19e53f7-0e7a-4ea5-ad31-35606f230362"
      },
      "cell_type": "code",
      "source": [
        "# Slit into test and train datasets\n",
        "X_train, X_test, Y_train, Y_test = train_test_split(X, y, test_size=.5, random_state=42)\n",
        "\n",
        "# fit model using train datasets\n",
        "model = LinearRegression()\n",
        "model.fit(X_train, Y_train)\n",
        "\n",
        "# Create new predictions using x_test\n",
        "y_pred = model.predict(X_test)\n",
        "\n",
        "# Measure Accuracy using y_test and y_pred\n",
        "RMSE = (np.sqrt(mean_squared_error(Y_test, y_pred)))\n",
        "R2 = r2_score(Y_test, y_pred)\n",
        "\n",
        "print('RMSE is {}'.format(RMSE))\n",
        "print('R^2 is {}'.format(R2))\n",
        "\n",
        "print(\"coefficients: \", model.coef_)\n",
        "print(\"intercepts: \", model.intercept_)"
      ],
      "execution_count": 21,
      "outputs": [
        {
          "output_type": "stream",
          "text": [
            "RMSE is 0.16028549616134788\n",
            "R^2 is 0.8459340041932921\n",
            "coefficients:  [-1.02499545e-04  2.18874643e-06  9.53297459e-02  9.99054358e-02\n",
            " -3.28339990e-06  3.82878068e-05 -2.02527661e-05  1.47516466e-05\n",
            "  1.15021501e-04  2.04357496e-05 -2.72880178e-05  1.08169227e-04\n",
            "  5.04168625e-02  2.61519007e-02  5.24684669e-02  5.76190157e-02\n",
            "  1.62844719e-02  1.31777510e-01  1.00323568e-01  3.41376910e-06\n",
            "  7.42369203e-05  6.22022701e-05  9.64658828e-05  4.67386160e-04\n",
            "  2.72797647e-04 -6.82362856e-04  2.00221391e-02  2.77408812e-03\n",
            "  5.46905807e-02 -1.00613962e-16  3.03840559e-02  4.10941670e-02\n",
            "  5.48404498e-02  3.38690441e-02  7.15261902e-02  1.16471908e-01\n",
            "  6.25426121e-02 -7.17904299e-02 -9.32692500e-02 -2.54276433e-02\n",
            "  1.35901372e-02 -4.21133607e-02  1.11022302e-16 -5.85030766e-02\n",
            " -3.01824788e-02 -7.02910146e-03 -6.72524180e-02  6.72524180e-02\n",
            "  1.16381334e-01  7.33043861e-02  1.29669185e-01  4.85722573e-17\n",
            "  1.79675470e-01  6.16315389e-02  9.02850842e-02  0.00000000e+00\n",
            " -2.43046319e-02  9.59453058e-02  1.42430305e-01 -2.05746615e-03\n",
            " -5.67339964e-03 -1.57136681e-02]\n",
            "intercepts:  9.961633102910236\n"
          ],
          "name": "stdout"
        }
      ]
    },
    {
      "metadata": {
        "id": "_4auvoCwx1cg",
        "colab_type": "code",
        "colab": {}
      },
      "cell_type": "code",
      "source": [
        "# 10 other engineered features"
      ],
      "execution_count": 0,
      "outputs": []
    },
    {
      "metadata": {
        "id": "Uvbg4rRPW2Ex",
        "colab_type": "text"
      },
      "cell_type": "markdown",
      "source": [
        "# Stretch Goals\n",
        "\n",
        "- Write a blog post explaining one of today's topics.\n",
        "- Find a new regression dataset from the UCI machine learning repository and use it to test out your new modeling skillz.\n",
        " [ - UCI Machine Learning Repository - Regression Datasets](https://)\n",
        "- Make a list for yourself of common feature engineering techniques. Browse Kaggle kernels to learn more methods.\n",
        "- Start studying for tomorrow's topic: Gradient Descent\n",
        "- Try and make the ultimate model with this dataset. clean as many features as possible, engineer the most sensible features as possible and see how accurate of a prediction you can make. \n",
        "- Learn about the \"Dummy Variable Trap\" and how it applies to linear regression modeling.\n",
        "- Learning about using linear regression to model time series data"
      ]
    }
  ]
}