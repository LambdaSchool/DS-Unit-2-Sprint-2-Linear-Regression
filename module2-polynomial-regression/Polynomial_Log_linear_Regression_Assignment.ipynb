{
 "cells": [
  {
   "cell_type": "markdown",
   "metadata": {
    "colab_type": "text",
    "id": "Dc4kEVNWo4yZ"
   },
   "source": [
    "# Intermediate Linear Regression Practice\n",
    "\n",
    "## Use a Linear Regression model to get the lowest RMSE possible on the following dataset:\n",
    "\n",
    "[Dataset Folder](https://github.com/ryanleeallred/datasets/tree/master/Ames%20Housing%20Data)\n",
    "\n",
    "[Raw CSV](https://raw.githubusercontent.com/ryanleeallred/datasets/master/Ames%20Housing%20Data/train.csv)\n",
    "\n",
    "## You model must include (at least):\n",
    "- A log-transformed y variable\n",
    "- Two polynomial features\n",
    "- One interaction feature\n",
    "- 10 other engineered features\n",
    "\n",
    "What is the lowest Root-Mean-Squared Error that you are able to obtain? Share your best RMSEs in Slack!\n",
    "\n",
    "Notes:\n",
    "\n",
    "There may be some data cleaning that you need to do on some features of this dataset. Linear Regression will only accept numeric values and will not accept\n",
    "\n",
    "Note* There may not be a clear candidate for an interaction term in this dataset. Include one anyway, sometimes it's a good practice for predictive modeling feature engineering in general. "
   ]
  },
  {
   "cell_type": "code",
   "execution_count": 1,
   "metadata": {
    "colab": {},
    "colab_type": "code",
    "id": "XYZSkixpo2qD",
    "scrolled": true
   },
   "outputs": [
    {
     "data": {
      "text/html": [
       "<div>\n",
       "<style scoped>\n",
       "    .dataframe tbody tr th:only-of-type {\n",
       "        vertical-align: middle;\n",
       "    }\n",
       "\n",
       "    .dataframe tbody tr th {\n",
       "        vertical-align: top;\n",
       "    }\n",
       "\n",
       "    .dataframe thead th {\n",
       "        text-align: right;\n",
       "    }\n",
       "</style>\n",
       "<table border=\"1\" class=\"dataframe\">\n",
       "  <thead>\n",
       "    <tr style=\"text-align: right;\">\n",
       "      <th></th>\n",
       "      <th>Id</th>\n",
       "      <th>MSSubClass</th>\n",
       "      <th>MSZoning</th>\n",
       "      <th>LotFrontage</th>\n",
       "      <th>LotArea</th>\n",
       "      <th>Street</th>\n",
       "      <th>Alley</th>\n",
       "      <th>LotShape</th>\n",
       "      <th>LandContour</th>\n",
       "      <th>Utilities</th>\n",
       "      <th>...</th>\n",
       "      <th>PoolArea</th>\n",
       "      <th>PoolQC</th>\n",
       "      <th>Fence</th>\n",
       "      <th>MiscFeature</th>\n",
       "      <th>MiscVal</th>\n",
       "      <th>MoSold</th>\n",
       "      <th>YrSold</th>\n",
       "      <th>SaleType</th>\n",
       "      <th>SaleCondition</th>\n",
       "      <th>SalePrice</th>\n",
       "    </tr>\n",
       "  </thead>\n",
       "  <tbody>\n",
       "    <tr>\n",
       "      <th>0</th>\n",
       "      <td>1</td>\n",
       "      <td>60</td>\n",
       "      <td>RL</td>\n",
       "      <td>65.0</td>\n",
       "      <td>8450</td>\n",
       "      <td>Pave</td>\n",
       "      <td>0</td>\n",
       "      <td>Reg</td>\n",
       "      <td>Lvl</td>\n",
       "      <td>AllPub</td>\n",
       "      <td>...</td>\n",
       "      <td>0</td>\n",
       "      <td>0</td>\n",
       "      <td>0</td>\n",
       "      <td>0</td>\n",
       "      <td>0</td>\n",
       "      <td>2</td>\n",
       "      <td>2008</td>\n",
       "      <td>WD</td>\n",
       "      <td>Normal</td>\n",
       "      <td>208500</td>\n",
       "    </tr>\n",
       "    <tr>\n",
       "      <th>1</th>\n",
       "      <td>2</td>\n",
       "      <td>20</td>\n",
       "      <td>RL</td>\n",
       "      <td>80.0</td>\n",
       "      <td>9600</td>\n",
       "      <td>Pave</td>\n",
       "      <td>0</td>\n",
       "      <td>Reg</td>\n",
       "      <td>Lvl</td>\n",
       "      <td>AllPub</td>\n",
       "      <td>...</td>\n",
       "      <td>0</td>\n",
       "      <td>0</td>\n",
       "      <td>0</td>\n",
       "      <td>0</td>\n",
       "      <td>0</td>\n",
       "      <td>5</td>\n",
       "      <td>2007</td>\n",
       "      <td>WD</td>\n",
       "      <td>Normal</td>\n",
       "      <td>181500</td>\n",
       "    </tr>\n",
       "    <tr>\n",
       "      <th>2</th>\n",
       "      <td>3</td>\n",
       "      <td>60</td>\n",
       "      <td>RL</td>\n",
       "      <td>68.0</td>\n",
       "      <td>11250</td>\n",
       "      <td>Pave</td>\n",
       "      <td>0</td>\n",
       "      <td>IR1</td>\n",
       "      <td>Lvl</td>\n",
       "      <td>AllPub</td>\n",
       "      <td>...</td>\n",
       "      <td>0</td>\n",
       "      <td>0</td>\n",
       "      <td>0</td>\n",
       "      <td>0</td>\n",
       "      <td>0</td>\n",
       "      <td>9</td>\n",
       "      <td>2008</td>\n",
       "      <td>WD</td>\n",
       "      <td>Normal</td>\n",
       "      <td>223500</td>\n",
       "    </tr>\n",
       "    <tr>\n",
       "      <th>3</th>\n",
       "      <td>4</td>\n",
       "      <td>70</td>\n",
       "      <td>RL</td>\n",
       "      <td>60.0</td>\n",
       "      <td>9550</td>\n",
       "      <td>Pave</td>\n",
       "      <td>0</td>\n",
       "      <td>IR1</td>\n",
       "      <td>Lvl</td>\n",
       "      <td>AllPub</td>\n",
       "      <td>...</td>\n",
       "      <td>0</td>\n",
       "      <td>0</td>\n",
       "      <td>0</td>\n",
       "      <td>0</td>\n",
       "      <td>0</td>\n",
       "      <td>2</td>\n",
       "      <td>2006</td>\n",
       "      <td>WD</td>\n",
       "      <td>Abnorml</td>\n",
       "      <td>140000</td>\n",
       "    </tr>\n",
       "    <tr>\n",
       "      <th>4</th>\n",
       "      <td>5</td>\n",
       "      <td>60</td>\n",
       "      <td>RL</td>\n",
       "      <td>84.0</td>\n",
       "      <td>14260</td>\n",
       "      <td>Pave</td>\n",
       "      <td>0</td>\n",
       "      <td>IR1</td>\n",
       "      <td>Lvl</td>\n",
       "      <td>AllPub</td>\n",
       "      <td>...</td>\n",
       "      <td>0</td>\n",
       "      <td>0</td>\n",
       "      <td>0</td>\n",
       "      <td>0</td>\n",
       "      <td>0</td>\n",
       "      <td>12</td>\n",
       "      <td>2008</td>\n",
       "      <td>WD</td>\n",
       "      <td>Normal</td>\n",
       "      <td>250000</td>\n",
       "    </tr>\n",
       "  </tbody>\n",
       "</table>\n",
       "<p>5 rows × 81 columns</p>\n",
       "</div>"
      ],
      "text/plain": [
       "   Id  MSSubClass MSZoning  LotFrontage  LotArea Street Alley LotShape  \\\n",
       "0   1          60       RL         65.0     8450   Pave     0      Reg   \n",
       "1   2          20       RL         80.0     9600   Pave     0      Reg   \n",
       "2   3          60       RL         68.0    11250   Pave     0      IR1   \n",
       "3   4          70       RL         60.0     9550   Pave     0      IR1   \n",
       "4   5          60       RL         84.0    14260   Pave     0      IR1   \n",
       "\n",
       "  LandContour Utilities    ...     PoolArea PoolQC Fence MiscFeature MiscVal  \\\n",
       "0         Lvl    AllPub    ...            0      0     0           0       0   \n",
       "1         Lvl    AllPub    ...            0      0     0           0       0   \n",
       "2         Lvl    AllPub    ...            0      0     0           0       0   \n",
       "3         Lvl    AllPub    ...            0      0     0           0       0   \n",
       "4         Lvl    AllPub    ...            0      0     0           0       0   \n",
       "\n",
       "  MoSold YrSold  SaleType  SaleCondition  SalePrice  \n",
       "0      2   2008        WD         Normal     208500  \n",
       "1      5   2007        WD         Normal     181500  \n",
       "2      9   2008        WD         Normal     223500  \n",
       "3      2   2006        WD        Abnorml     140000  \n",
       "4     12   2008        WD         Normal     250000  \n",
       "\n",
       "[5 rows x 81 columns]"
      ]
     },
     "execution_count": 1,
     "metadata": {},
     "output_type": "execute_result"
    }
   ],
   "source": [
    "##### Your Code Here #####\n",
    "import pandas as pd\n",
    "import numpy as np\n",
    "import seaborn as sns\n",
    "import matplotlib.pyplot as plt\n",
    "from sklearn.model_selection import train_test_split\n",
    "from sklearn.linear_model import LinearRegression\n",
    "from sklearn.metrics import mean_squared_error, r2_score\n",
    "model = LinearRegression()\n",
    "df = pd.read_csv(\"https://raw.githubusercontent.com/ryanleeallred/datasets/master/Ames%20Housing%20Data/train.csv\")\n",
    "df = df.replace(np.nan,0)\n",
    "df.head()"
   ]
  },
  {
   "cell_type": "code",
   "execution_count": 2,
   "metadata": {},
   "outputs": [],
   "source": [
    "df = df[(df[\"SalePrice\"] <= df[\"SalePrice\"].quantile(.95)) & (df[\"SalePrice\"] >= df[\"SalePrice\"].quantile(.05))]"
   ]
  },
  {
   "cell_type": "code",
   "execution_count": 3,
   "metadata": {},
   "outputs": [],
   "source": [
    "# y = df[\"price\"]\n",
    "# x = df[[\"bedrooms\",\"sqft_lot\"]]\n",
    "def lr(x,y):\n",
    "    \n",
    "    X_train, X_test, Y_train, Y_test = train_test_split(x,y, test_size = 0.1)\n",
    "\n",
    "    m1 = model.fit(X_train, Y_train)\n",
    "\n",
    "    y_test_prediction = model.predict(X_test)\n",
    "    MSE = mean_squared_error(Y_test, y_test_prediction)\n",
    "    RMSE = np.sqrt(mean_squared_error(Y_test, y_test_prediction))\n",
    "    R2 = r2_score(Y_test, y_test_prediction)\n",
    "    return MSE,RMSE,R2,m1.coef_,m1.intercept_\n",
    "    "
   ]
  },
  {
   "cell_type": "code",
   "execution_count": 4,
   "metadata": {},
   "outputs": [
    {
     "data": {
      "text/plain": [
       "array(['Id', 'MSSubClass', 'MSZoning', 'LotFrontage', 'LotArea', 'Street',\n",
       "       'Alley', 'LotShape', 'LandContour', 'Utilities', 'LotConfig',\n",
       "       'LandSlope', 'Neighborhood', 'Condition1', 'Condition2',\n",
       "       'BldgType', 'HouseStyle', 'OverallQual', 'OverallCond',\n",
       "       'YearBuilt', 'YearRemodAdd', 'RoofStyle', 'RoofMatl',\n",
       "       'Exterior1st', 'Exterior2nd', 'MasVnrType', 'MasVnrArea',\n",
       "       'ExterQual', 'ExterCond', 'Foundation', 'BsmtQual', 'BsmtCond',\n",
       "       'BsmtExposure', 'BsmtFinType1', 'BsmtFinSF1', 'BsmtFinType2',\n",
       "       'BsmtFinSF2', 'BsmtUnfSF', 'TotalBsmtSF', 'Heating', 'HeatingQC',\n",
       "       'CentralAir', 'Electrical', '1stFlrSF', '2ndFlrSF', 'LowQualFinSF',\n",
       "       'GrLivArea', 'BsmtFullBath', 'BsmtHalfBath', 'FullBath',\n",
       "       'HalfBath', 'BedroomAbvGr', 'KitchenAbvGr', 'KitchenQual',\n",
       "       'TotRmsAbvGrd', 'Functional', 'Fireplaces', 'FireplaceQu',\n",
       "       'GarageType', 'GarageYrBlt', 'GarageFinish', 'GarageCars',\n",
       "       'GarageArea', 'GarageQual', 'GarageCond', 'PavedDrive',\n",
       "       'WoodDeckSF', 'OpenPorchSF', 'EnclosedPorch', '3SsnPorch',\n",
       "       'ScreenPorch', 'PoolArea', 'PoolQC', 'Fence', 'MiscFeature',\n",
       "       'MiscVal', 'MoSold', 'YrSold', 'SaleType', 'SaleCondition',\n",
       "       'SalePrice', 'lnPrice'], dtype=object)"
      ]
     },
     "execution_count": 4,
     "metadata": {},
     "output_type": "execute_result"
    }
   ],
   "source": [
    "df[\"lnPrice\"] = df[\"SalePrice\"].apply(np.log)\n",
    "y = df[\"lnPrice\"]\n",
    "df.columns.values"
   ]
  },
  {
   "cell_type": "code",
   "execution_count": 5,
   "metadata": {},
   "outputs": [
    {
     "data": {
      "text/plain": [
       "<matplotlib.collections.PathCollection at 0x2b1d3a005c0>"
      ]
     },
     "execution_count": 5,
     "metadata": {},
     "output_type": "execute_result"
    },
    {
     "data": {
      "image/png": "[encoded data removed]",
      "text/plain": [
       "<Figure size 432x288 with 1 Axes>"
      ]
     },
     "metadata": {},
     "output_type": "display_data"
    }
   ],
   "source": [
    "#plt.scatter(df[\"RoofMatl\"].replace(0,\"\"),df[\"lnPrice\"])\n",
    "\n",
    "plt.scatter(df[\"MSSubClass\"],df[\"lnPrice\"])\n"
   ]
  },
  {
   "cell_type": "code",
   "execution_count": 6,
   "metadata": {},
   "outputs": [
    {
     "data": {
      "text/html": [
       "<div>\n",
       "<style scoped>\n",
       "    .dataframe tbody tr th:only-of-type {\n",
       "        vertical-align: middle;\n",
       "    }\n",
       "\n",
       "    .dataframe tbody tr th {\n",
       "        vertical-align: top;\n",
       "    }\n",
       "\n",
       "    .dataframe thead th {\n",
       "        text-align: right;\n",
       "    }\n",
       "</style>\n",
       "<table border=\"1\" class=\"dataframe\">\n",
       "  <thead>\n",
       "    <tr style=\"text-align: right;\">\n",
       "      <th></th>\n",
       "      <th>Id</th>\n",
       "      <th>MSSubClass</th>\n",
       "      <th>MSZoning</th>\n",
       "      <th>LotFrontage</th>\n",
       "      <th>LotArea</th>\n",
       "      <th>Street</th>\n",
       "      <th>Alley</th>\n",
       "      <th>LotShape</th>\n",
       "      <th>LandContour</th>\n",
       "      <th>Utilities</th>\n",
       "      <th>...</th>\n",
       "      <th>PoolQC</th>\n",
       "      <th>Fence</th>\n",
       "      <th>MiscFeature</th>\n",
       "      <th>MiscVal</th>\n",
       "      <th>MoSold</th>\n",
       "      <th>YrSold</th>\n",
       "      <th>SaleType</th>\n",
       "      <th>SaleCondition</th>\n",
       "      <th>SalePrice</th>\n",
       "      <th>lnPrice</th>\n",
       "    </tr>\n",
       "  </thead>\n",
       "  <tbody>\n",
       "    <tr>\n",
       "      <th>0</th>\n",
       "      <td>1</td>\n",
       "      <td>60</td>\n",
       "      <td>RL</td>\n",
       "      <td>65.0</td>\n",
       "      <td>8450</td>\n",
       "      <td>Pave</td>\n",
       "      <td>0</td>\n",
       "      <td>Reg</td>\n",
       "      <td>Lvl</td>\n",
       "      <td>AllPub</td>\n",
       "      <td>...</td>\n",
       "      <td>0</td>\n",
       "      <td>0</td>\n",
       "      <td>0</td>\n",
       "      <td>0</td>\n",
       "      <td>2</td>\n",
       "      <td>2008</td>\n",
       "      <td>WD</td>\n",
       "      <td>Normal</td>\n",
       "      <td>208500</td>\n",
       "      <td>12.247694</td>\n",
       "    </tr>\n",
       "    <tr>\n",
       "      <th>1</th>\n",
       "      <td>2</td>\n",
       "      <td>20</td>\n",
       "      <td>RL</td>\n",
       "      <td>80.0</td>\n",
       "      <td>9600</td>\n",
       "      <td>Pave</td>\n",
       "      <td>0</td>\n",
       "      <td>Reg</td>\n",
       "      <td>Lvl</td>\n",
       "      <td>AllPub</td>\n",
       "      <td>...</td>\n",
       "      <td>0</td>\n",
       "      <td>0</td>\n",
       "      <td>0</td>\n",
       "      <td>0</td>\n",
       "      <td>5</td>\n",
       "      <td>2007</td>\n",
       "      <td>WD</td>\n",
       "      <td>Normal</td>\n",
       "      <td>181500</td>\n",
       "      <td>12.109011</td>\n",
       "    </tr>\n",
       "    <tr>\n",
       "      <th>2</th>\n",
       "      <td>3</td>\n",
       "      <td>60</td>\n",
       "      <td>RL</td>\n",
       "      <td>68.0</td>\n",
       "      <td>11250</td>\n",
       "      <td>Pave</td>\n",
       "      <td>0</td>\n",
       "      <td>IR1</td>\n",
       "      <td>Lvl</td>\n",
       "      <td>AllPub</td>\n",
       "      <td>...</td>\n",
       "      <td>0</td>\n",
       "      <td>0</td>\n",
       "      <td>0</td>\n",
       "      <td>0</td>\n",
       "      <td>9</td>\n",
       "      <td>2008</td>\n",
       "      <td>WD</td>\n",
       "      <td>Normal</td>\n",
       "      <td>223500</td>\n",
       "      <td>12.317167</td>\n",
       "    </tr>\n",
       "    <tr>\n",
       "      <th>3</th>\n",
       "      <td>4</td>\n",
       "      <td>70</td>\n",
       "      <td>RL</td>\n",
       "      <td>60.0</td>\n",
       "      <td>9550</td>\n",
       "      <td>Pave</td>\n",
       "      <td>0</td>\n",
       "      <td>IR1</td>\n",
       "      <td>Lvl</td>\n",
       "      <td>AllPub</td>\n",
       "      <td>...</td>\n",
       "      <td>0</td>\n",
       "      <td>0</td>\n",
       "      <td>0</td>\n",
       "      <td>0</td>\n",
       "      <td>2</td>\n",
       "      <td>2006</td>\n",
       "      <td>WD</td>\n",
       "      <td>Abnorml</td>\n",
       "      <td>140000</td>\n",
       "      <td>11.849398</td>\n",
       "    </tr>\n",
       "    <tr>\n",
       "      <th>4</th>\n",
       "      <td>5</td>\n",
       "      <td>60</td>\n",
       "      <td>RL</td>\n",
       "      <td>84.0</td>\n",
       "      <td>14260</td>\n",
       "      <td>Pave</td>\n",
       "      <td>0</td>\n",
       "      <td>IR1</td>\n",
       "      <td>Lvl</td>\n",
       "      <td>AllPub</td>\n",
       "      <td>...</td>\n",
       "      <td>0</td>\n",
       "      <td>0</td>\n",
       "      <td>0</td>\n",
       "      <td>0</td>\n",
       "      <td>12</td>\n",
       "      <td>2008</td>\n",
       "      <td>WD</td>\n",
       "      <td>Normal</td>\n",
       "      <td>250000</td>\n",
       "      <td>12.429216</td>\n",
       "    </tr>\n",
       "  </tbody>\n",
       "</table>\n",
       "<p>5 rows × 82 columns</p>\n",
       "</div>"
      ],
      "text/plain": [
       "   Id  MSSubClass MSZoning  LotFrontage  LotArea Street Alley LotShape  \\\n",
       "0   1          60       RL         65.0     8450   Pave     0      Reg   \n",
       "1   2          20       RL         80.0     9600   Pave     0      Reg   \n",
       "2   3          60       RL         68.0    11250   Pave     0      IR1   \n",
       "3   4          70       RL         60.0     9550   Pave     0      IR1   \n",
       "4   5          60       RL         84.0    14260   Pave     0      IR1   \n",
       "\n",
       "  LandContour Utilities    ...     PoolQC Fence MiscFeature MiscVal MoSold  \\\n",
       "0         Lvl    AllPub    ...          0     0           0       0      2   \n",
       "1         Lvl    AllPub    ...          0     0           0       0      5   \n",
       "2         Lvl    AllPub    ...          0     0           0       0      9   \n",
       "3         Lvl    AllPub    ...          0     0           0       0      2   \n",
       "4         Lvl    AllPub    ...          0     0           0       0     12   \n",
       "\n",
       "  YrSold SaleType  SaleCondition  SalePrice    lnPrice  \n",
       "0   2008       WD         Normal     208500  12.247694  \n",
       "1   2007       WD         Normal     181500  12.109011  \n",
       "2   2008       WD         Normal     223500  12.317167  \n",
       "3   2006       WD        Abnorml     140000  11.849398  \n",
       "4   2008       WD         Normal     250000  12.429216  \n",
       "\n",
       "[5 rows x 82 columns]"
      ]
     },
     "execution_count": 6,
     "metadata": {},
     "output_type": "execute_result"
    }
   ],
   "source": [
    "df.head()"
   ]
  },
  {
   "cell_type": "markdown",
   "metadata": {},
   "source": [
    "## neighborhood"
   ]
  },
  {
   "cell_type": "code",
   "execution_count": 7,
   "metadata": {},
   "outputs": [
    {
     "data": {
      "text/plain": [
       "(0.041158216494018816,\n",
       " 0.20287487891313408,\n",
       " 0.5570951774048454,\n",
       " array([1.46755165e+13, 1.46755165e+13, 1.46755165e+13, 1.46755165e+13,\n",
       "        1.46755165e+13, 1.46755165e+13, 1.46755165e+13, 1.46755165e+13,\n",
       "        1.46755165e+13, 1.46755165e+13, 1.46755165e+13, 1.46755165e+13,\n",
       "        1.46755165e+13, 1.46755165e+13, 1.46755165e+13, 1.46755165e+13,\n",
       "        1.46755165e+13, 1.46755165e+13, 1.46755165e+13, 1.46755165e+13,\n",
       "        1.46755165e+13, 1.46755165e+13, 1.46755165e+13, 1.46755165e+13,\n",
       "        1.46755165e+13]),\n",
       " -14675516472471.299)"
      ]
     },
     "execution_count": 7,
     "metadata": {},
     "output_type": "execute_result"
    }
   ],
   "source": [
    "df_neighborhoods= pd.get_dummies(df[\"Neighborhood\"])\n",
    "\n",
    "\n",
    "lr(x=df_neighborhoods, y = y )"
   ]
  },
  {
   "cell_type": "markdown",
   "metadata": {},
   "source": [
    "## MSZoning"
   ]
  },
  {
   "cell_type": "code",
   "execution_count": 8,
   "metadata": {},
   "outputs": [
    {
     "data": {
      "text/plain": [
       "(0.045828996794391896,\n",
       " 0.21407708143188028,\n",
       " 0.5391292858770371,\n",
       " array([3.21673989e+11, 3.21673989e+11, 3.21673989e+11, 3.21673989e+11,\n",
       "        3.21673989e+11, 3.21673989e+11, 3.21673989e+11, 3.21673989e+11,\n",
       "        3.21673989e+11, 3.21673989e+11, 3.21673989e+11, 3.21673989e+11,\n",
       "        3.21673989e+11, 3.21673989e+11, 3.21673989e+11, 3.21673989e+11,\n",
       "        3.21673989e+11, 3.21673989e+11, 3.21673989e+11, 3.21673989e+11,\n",
       "        3.21673989e+11, 3.21673989e+11, 3.21673989e+11, 3.21673989e+11,\n",
       "        3.21673989e+11]),\n",
       " -321673988915.5435)"
      ]
     },
     "execution_count": 8,
     "metadata": {},
     "output_type": "execute_result"
    }
   ],
   "source": [
    "## MSZoning\n",
    "\n",
    "df_MSZoning= pd.get_dummies(df[\"Neighborhood\"])\n",
    "\n",
    "\n",
    "\n",
    "lr(x=df_MSZoning, y = y )"
   ]
  },
  {
   "cell_type": "markdown",
   "metadata": {},
   "source": [
    "## Sale Condition"
   ]
  },
  {
   "cell_type": "code",
   "execution_count": 9,
   "metadata": {},
   "outputs": [
    {
     "data": {
      "text/plain": [
       "(0.08994305543566274,\n",
       " 0.29990507737559685,\n",
       " 0.07060550119891584,\n",
       " array([-0.09081942, -0.20405425, -0.00251195, -0.07587469,  0.05668841,\n",
       "         0.3165719 ]),\n",
       " 11.95400866234076)"
      ]
     },
     "execution_count": 9,
     "metadata": {},
     "output_type": "execute_result"
    }
   ],
   "source": [
    "df_SaleCondition= pd.get_dummies(df[\"SaleCondition\"])\n",
    "\n",
    "\n",
    "lr(x=df_SaleCondition, y = y )"
   ]
  },
  {
   "cell_type": "markdown",
   "metadata": {},
   "source": [
    "## Has Pool"
   ]
  },
  {
   "cell_type": "code",
   "execution_count": 10,
   "metadata": {},
   "outputs": [
    {
     "data": {
      "text/plain": [
       "(0.10752912052397214,\n",
       " 0.3279163315908071,\n",
       " 0.00965341498329142,\n",
       " array([0.16700524]),\n",
       " 12.020026207432736)"
      ]
     },
     "execution_count": 10,
     "metadata": {},
     "output_type": "execute_result"
    }
   ],
   "source": [
    "df_hasPool = df[\"PoolArea\"].apply(lambda x: 1 if x>0 else 0)\n",
    "\n",
    "\n",
    "lr(x=np.array(df_hasPool).reshape(-1,1), y = y )"
   ]
  },
  {
   "cell_type": "markdown",
   "metadata": {},
   "source": [
    "## HouseSTyle"
   ]
  },
  {
   "cell_type": "code",
   "execution_count": 11,
   "metadata": {},
   "outputs": [
    {
     "data": {
      "text/plain": [
       "(0.09107860425373099,\n",
       " 0.3017923197394708,\n",
       " 0.04701865591576315,\n",
       " array([-0.08797273, -0.21017414, -0.02322422, -0.05386196,  0.05432377,\n",
       "         0.32090928]),\n",
       " 11.954211326704112)"
      ]
     },
     "execution_count": 11,
     "metadata": {},
     "output_type": "execute_result"
    }
   ],
   "source": [
    "df_HouseStyle = pd.get_dummies(df[\"HouseStyle\"])\n",
    "\n",
    "\n",
    "lr(x=df_SaleCondition, y = y )"
   ]
  },
  {
   "cell_type": "markdown",
   "metadata": {},
   "source": [
    "## OverallCond"
   ]
  },
  {
   "cell_type": "code",
   "execution_count": 12,
   "metadata": {},
   "outputs": [
    {
     "data": {
      "text/plain": [
       "(0.06658102994023192,\n",
       " 0.2580330016494633,\n",
       " 0.10133128113839385,\n",
       " array([-0.19695878, -0.18066065,  0.17610236, -0.01600087,  0.0052305 ,\n",
       "        -0.0087477 ,  0.22103514]),\n",
       " 11.928139656477793)"
      ]
     },
     "execution_count": 12,
     "metadata": {},
     "output_type": "execute_result"
    }
   ],
   "source": [
    "df_OverallCond = pd.get_dummies(df[\"OverallCond\"])\n",
    "\n",
    "\n",
    "lr(x=df_OverallCond, y = y )"
   ]
  },
  {
   "cell_type": "markdown",
   "metadata": {},
   "source": [
    "## OverallQual"
   ]
  },
  {
   "cell_type": "code",
   "execution_count": 13,
   "metadata": {},
   "outputs": [
    {
     "data": {
      "text/plain": [
       "(0.030957865395623573,\n",
       " 0.1759484736950667,\n",
       " 0.571728683029396,\n",
       " array([ 0.01765672,  0.20978392, -0.00292943]),\n",
       " 10.751632968426811)"
      ]
     },
     "execution_count": 13,
     "metadata": {},
     "output_type": "execute_result"
    }
   ],
   "source": [
    "lr(x=pd.concat([df[\"OverallCond\"], df[\"OverallQual\"],df[\"OverallCond\"] * df[\"OverallQual\"]], axis=1), y = y )"
   ]
  },
  {
   "cell_type": "code",
   "execution_count": 14,
   "metadata": {},
   "outputs": [
    {
     "data": {
      "text/plain": [
       "(0.030881699347028863,\n",
       " 0.17573189621417298,\n",
       " 0.6438761857162001,\n",
       " array([0.19061823]),\n",
       " 10.863695199116638)"
      ]
     },
     "execution_count": 14,
     "metadata": {},
     "output_type": "execute_result"
    }
   ],
   "source": [
    "lr(x=pd.concat([df[\"OverallQual\"]],axis=1),y=y)"
   ]
  },
  {
   "cell_type": "code",
   "execution_count": 15,
   "metadata": {},
   "outputs": [
    {
     "data": {
      "text/plain": [
       "(0.06886082846001085,\n",
       " 0.26241346851869257,\n",
       " 0.2468873562405549,\n",
       " array([0.0827369]),\n",
       " 11.485500920212141)"
      ]
     },
     "execution_count": 15,
     "metadata": {},
     "output_type": "execute_result"
    }
   ],
   "source": [
    "lr(x=pd.concat([df[\"TotRmsAbvGrd\"]],axis=1),y=y)"
   ]
  },
  {
   "cell_type": "code",
   "execution_count": 16,
   "metadata": {},
   "outputs": [
    {
     "data": {
      "text/plain": [
       "0        7\n",
       "1        6\n",
       "2        7\n",
       "3        7\n",
       "4        8\n",
       "5        5\n",
       "6        8\n",
       "7        7\n",
       "8        7\n",
       "9        5\n",
       "10       5\n",
       "12       5\n",
       "13       7\n",
       "14       6\n",
       "15       7\n",
       "16       6\n",
       "17       4\n",
       "18       5\n",
       "19       5\n",
       "20       8\n",
       "21       7\n",
       "22       8\n",
       "23       5\n",
       "24       5\n",
       "25       8\n",
       "26       5\n",
       "27       8\n",
       "28       5\n",
       "31       5\n",
       "32       8\n",
       "        ..\n",
       "1427     5\n",
       "1428     5\n",
       "1429     6\n",
       "1430     5\n",
       "1431     6\n",
       "1433     6\n",
       "1434     5\n",
       "1435     6\n",
       "1436     4\n",
       "1438     6\n",
       "1439     7\n",
       "1440     6\n",
       "1441     6\n",
       "1442    10\n",
       "1443     6\n",
       "1444     7\n",
       "1445     6\n",
       "1446     5\n",
       "1447     8\n",
       "1448     4\n",
       "1449     5\n",
       "1450     5\n",
       "1451     8\n",
       "1452     5\n",
       "1454     7\n",
       "1455     6\n",
       "1456     6\n",
       "1457     7\n",
       "1458     5\n",
       "1459     5\n",
       "Name: OverallQual, Length: 1316, dtype: int64"
      ]
     },
     "execution_count": 16,
     "metadata": {},
     "output_type": "execute_result"
    }
   ],
   "source": [
    "#Thermometer\n",
    "#df_OverallQual.head()\n",
    "df[\"OverallQual\"]"
   ]
  },
  {
   "cell_type": "markdown",
   "metadata": {},
   "source": [
    "## Exterior Quality"
   ]
  },
  {
   "cell_type": "code",
   "execution_count": 17,
   "metadata": {},
   "outputs": [
    {
     "data": {
      "text/plain": [
       "(0.04439849380403657,\n",
       " 0.21070950098188873,\n",
       " 0.48537985033315423,\n",
       " array([ 0.37227197, -0.36898722,  0.19124593, -0.19453068]),\n",
       " 12.074618224993495)"
      ]
     },
     "execution_count": 17,
     "metadata": {},
     "output_type": "execute_result"
    }
   ],
   "source": [
    "df_ExterQual = pd.get_dummies(df[\"ExterQual\"])\n",
    "\n",
    "\n",
    "lr(x=df_ExterQual, y = y )"
   ]
  },
  {
   "cell_type": "code",
   "execution_count": 18,
   "metadata": {},
   "outputs": [
    {
     "ename": "NameError",
     "evalue": "name 'df_OverallQual' is not defined",
     "output_type": "error",
     "traceback": [
      "\u001b[1;31m---------------------------------------------------------------------------\u001b[0m",
      "\u001b[1;31mNameError\u001b[0m                                 Traceback (most recent call last)",
      "\u001b[1;32m<ipython-input-18-ae7895bc03b8>\u001b[0m in \u001b[0;36m<module>\u001b[1;34m()\u001b[0m\n\u001b[1;32m----> 1\u001b[1;33m \u001b[0mlr\u001b[0m\u001b[1;33m(\u001b[0m\u001b[0mx\u001b[0m\u001b[1;33m=\u001b[0m\u001b[0mpd\u001b[0m\u001b[1;33m.\u001b[0m\u001b[0mconcat\u001b[0m\u001b[1;33m(\u001b[0m\u001b[1;33m[\u001b[0m\u001b[0mdf_ExterQual\u001b[0m\u001b[1;33m,\u001b[0m\u001b[0mdf_OverallQual\u001b[0m\u001b[1;33m]\u001b[0m\u001b[1;33m,\u001b[0m\u001b[0maxis\u001b[0m\u001b[1;33m=\u001b[0m\u001b[1;36m1\u001b[0m\u001b[1;33m)\u001b[0m\u001b[1;33m,\u001b[0m \u001b[0my\u001b[0m \u001b[1;33m=\u001b[0m \u001b[0my\u001b[0m \u001b[1;33m)\u001b[0m\u001b[1;33m\u001b[0m\u001b[0m\n\u001b[0m",
      "\u001b[1;31mNameError\u001b[0m: name 'df_OverallQual' is not defined"
     ]
    }
   ],
   "source": [
    "lr(x=pd.concat([df_ExterQual,df_OverallQual],axis=1), y = y )"
   ]
  },
  {
   "cell_type": "markdown",
   "metadata": {},
   "source": [
    "## Year Sold"
   ]
  },
  {
   "cell_type": "code",
   "execution_count": 19,
   "metadata": {},
   "outputs": [
    {
     "data": {
      "text/plain": [
       "(0.08533230111646024,\n",
       " 0.2921169305542906,\n",
       " -0.00624356758473521,\n",
       " array([ 0.00224971,  0.0184989 , -0.00161323, -0.0122383 , -0.00689708]),\n",
       " 12.021413808605319)"
      ]
     },
     "execution_count": 19,
     "metadata": {},
     "output_type": "execute_result"
    }
   ],
   "source": [
    "df_YearSold = pd.get_dummies(df[\"YrSold\"])\n",
    "\n",
    "\n",
    "lr(x=df_YearSold, y =y )"
   ]
  },
  {
   "cell_type": "markdown",
   "metadata": {},
   "source": [
    "## BLDGType"
   ]
  },
  {
   "cell_type": "code",
   "execution_count": 20,
   "metadata": {},
   "outputs": [
    {
     "data": {
      "text/plain": [
       "(0.0802554474215345,\n",
       " 0.2832939240815703,\n",
       " 0.016722581010014004,\n",
       " array([ 0.13614832, -0.12503254, -0.11563536, -0.05597945,  0.16049902]),\n",
       " 11.902851382352)"
      ]
     },
     "execution_count": 20,
     "metadata": {},
     "output_type": "execute_result"
    }
   ],
   "source": [
    "df_BldgType = pd.get_dummies(df[\"BldgType\"])\n",
    "\n",
    "\n",
    "lr(x=df_BldgType, y = y )"
   ]
  },
  {
   "cell_type": "code",
   "execution_count": 21,
   "metadata": {},
   "outputs": [
    {
     "data": {
      "text/plain": [
       "(0.07114881157915504,\n",
       " 0.2667373456776442,\n",
       " 0.128671755498856,\n",
       " array([ 0.13975509, -0.24002263,  0.03853077, -0.14777319,  0.20950997]),\n",
       " 12.081765289907338)"
      ]
     },
     "execution_count": 21,
     "metadata": {},
     "output_type": "execute_result"
    }
   ],
   "source": [
    "df[\"MasVnrType\"]= df[\"MasVnrType\"].replace(0,\"\")\n",
    "df_MasVnrType = pd.get_dummies(df[\"MasVnrType\"])\n",
    "\n",
    "\n",
    "lr(x=df_MasVnrType, y = y )"
   ]
  },
  {
   "cell_type": "markdown",
   "metadata": {},
   "source": [
    "## ScreenPorch"
   ]
  },
  {
   "cell_type": "code",
   "execution_count": 22,
   "metadata": {},
   "outputs": [
    {
     "data": {
      "text/plain": [
       "(0.09672668507156286,\n",
       " 0.3110091398521318,\n",
       " -0.028416805976662962,\n",
       " array([ 0.00129948, -0.13970505]),\n",
       " 12.009015663700334)"
      ]
     },
     "execution_count": 22,
     "metadata": {},
     "output_type": "execute_result"
    }
   ],
   "source": [
    "df_hasScreenPorch = df[\"ScreenPorch\"].apply(lambda x : 1 if x >0 else 0)\n",
    "df_SP = pd.concat([df[\"ScreenPorch\"],df_hasScreenPorch],axis=1 )\n",
    "\n",
    "\n",
    "lr(x=df_SP, y = y )"
   ]
  },
  {
   "cell_type": "code",
   "execution_count": 23,
   "metadata": {},
   "outputs": [
    {
     "data": {
      "text/plain": [
       "(0.07842393412950555,\n",
       " 0.28004273625556786,\n",
       " 0.06808374394230055,\n",
       " array([1.35638345e+12, 1.35638345e+12, 1.35638345e+12, 1.35638345e+12,\n",
       "        1.35638345e+12, 1.35638345e+12, 1.35638345e+12, 1.35638345e+12,\n",
       "        1.35638345e+12]),\n",
       " -1356383451077.6152)"
      ]
     },
     "execution_count": 23,
     "metadata": {},
     "output_type": "execute_result"
    }
   ],
   "source": [
    "df_Condition1 = pd.get_dummies(df[\"Condition1\"])\n",
    "\n",
    "\n",
    "lr(x=df_Condition1, y = y )\n"
   ]
  },
  {
   "cell_type": "code",
   "execution_count": null,
   "metadata": {},
   "outputs": [],
   "source": []
  },
  {
   "cell_type": "markdown",
   "metadata": {},
   "source": [
    "LotShape"
   ]
  },
  {
   "cell_type": "code",
   "execution_count": 24,
   "metadata": {},
   "outputs": [
    {
     "data": {
      "text/plain": [
       "(0.08539675855166938,\n",
       " 0.29222723786750165,\n",
       " 0.17943073932074483,\n",
       " array([-0.00103108,  0.05969596,  0.11679923, -0.17546411]),\n",
       " 12.132178250393732)"
      ]
     },
     "execution_count": 24,
     "metadata": {},
     "output_type": "execute_result"
    }
   ],
   "source": [
    "df_LotShape =  pd.get_dummies(df[\"LotShape\"])\n",
    "\n",
    "\n",
    "\n",
    "lr(x=df_LotShape, y = y )"
   ]
  },
  {
   "cell_type": "markdown",
   "metadata": {},
   "source": [
    "## LotConfig"
   ]
  },
  {
   "cell_type": "code",
   "execution_count": null,
   "metadata": {},
   "outputs": [],
   "source": []
  },
  {
   "cell_type": "code",
   "execution_count": 25,
   "metadata": {},
   "outputs": [
    {
     "ename": "SyntaxError",
     "evalue": "invalid syntax (<ipython-input-25-d6ddc6afc487>, line 1)",
     "output_type": "error",
     "traceback": [
      "\u001b[1;36m  File \u001b[1;32m\"<ipython-input-25-d6ddc6afc487>\"\u001b[1;36m, line \u001b[1;32m1\u001b[0m\n\u001b[1;33m    df_LandShape =  df[\"df_LandShape\"y(lambda x : 1 if x >0 else 0)\u001b[0m\n\u001b[1;37m                                     ^\u001b[0m\n\u001b[1;31mSyntaxError\u001b[0m\u001b[1;31m:\u001b[0m invalid syntax\n"
     ]
    }
   ],
   "source": [
    "df_LandShape =  df[\"df_LandShape\"y(lambda x : 1 if x >0 else 0)\n",
    "\n",
    "\n",
    "\n",
    "lr(x=df_LotConfig, y = y )"
   ]
  },
  {
   "cell_type": "markdown",
   "metadata": {},
   "source": [
    "# Basics"
   ]
  },
  {
   "cell_type": "code",
   "execution_count": 26,
   "metadata": {},
   "outputs": [
    {
     "data": {
      "text/plain": [
       "(0.05226312122848869,\n",
       " 0.2286112884975033,\n",
       " 0.3628858500761063,\n",
       " array([0.26871333]),\n",
       " 11.548575334136803)"
      ]
     },
     "execution_count": 26,
     "metadata": {},
     "output_type": "execute_result"
    }
   ],
   "source": [
    "lr(x=np.array(df[\"GarageCars\"]).reshape(-1,1), y = y )"
   ]
  },
  {
   "cell_type": "code",
   "execution_count": 27,
   "metadata": {},
   "outputs": [
    {
     "data": {
      "text/plain": [
       "(0.07321601177458405,\n",
       " 0.27058457416228304,\n",
       " 0.1460885197934555,\n",
       " array([0.20736334]),\n",
       " 11.895395067706112)"
      ]
     },
     "execution_count": 27,
     "metadata": {},
     "output_type": "execute_result"
    }
   ],
   "source": [
    "lr(x=np.array(df[\"Fireplaces\"]).reshape(-1,1), y = y )"
   ]
  },
  {
   "cell_type": "code",
   "execution_count": 28,
   "metadata": {},
   "outputs": [
    {
     "data": {
      "text/plain": [
       "(0.08644113043713902,\n",
       " 0.2940087251037612,\n",
       " 0.0008094891201014809,\n",
       " array([-0.00040891]),\n",
       " 12.041118634422629)"
      ]
     },
     "execution_count": 28,
     "metadata": {},
     "output_type": "execute_result"
    }
   ],
   "source": [
    "lr(x=np.array(df[\"MSSubClass\"]).reshape(-1,1), y = y )"
   ]
  },
  {
   "cell_type": "code",
   "execution_count": 29,
   "metadata": {},
   "outputs": [
    {
     "data": {
      "text/plain": [
       "(0.05397592816951865,\n",
       " 0.23232720066647092,\n",
       " 0.32796651041173586,\n",
       " array([0.3183984 , 0.13068312]),\n",
       " 11.474835935269558)"
      ]
     },
     "execution_count": 29,
     "metadata": {},
     "output_type": "execute_result"
    }
   ],
   "source": [
    "lr(x=df[[\"FullBath\",\"HalfBath\"]],y=y)"
   ]
  },
  {
   "cell_type": "code",
   "execution_count": 30,
   "metadata": {},
   "outputs": [
    {
     "data": {
      "text/plain": [
       "(0.060252897819541476,\n",
       " 0.24546465696621475,\n",
       " 0.34418367644384606,\n",
       " array([0.20734868]),\n",
       " 11.51788051290675)"
      ]
     },
     "execution_count": 30,
     "metadata": {},
     "output_type": "execute_result"
    }
   ],
   "source": [
    "\n",
    "baths = df[\"BsmtFullBath\"]+df[\"BsmtHalfBath\"]+df[\"FullBath\"]+df[\"HalfBath\"]\n",
    "\n",
    "\n",
    "lr(x=np.array(baths).reshape(-1,1), y = y )"
   ]
  },
  {
   "cell_type": "code",
   "execution_count": 31,
   "metadata": {},
   "outputs": [
    {
     "data": {
      "text/plain": [
       "(0.09225158171696438,\n",
       " 0.30372945480635294,\n",
       " 0.0033161900452185478,\n",
       " array([ 0.09279261, -0.12959003, -0.15102211, -0.06408407, -0.07955403,\n",
       "         0.33145763]),\n",
       " 12.136979275407962)"
      ]
     },
     "execution_count": 31,
     "metadata": {},
     "output_type": "execute_result"
    }
   ],
   "source": [
    "df_roof= pd.get_dummies(df[\"RoofStyle\"])\n",
    "lr(x=df_roof, y = y )"
   ]
  },
  {
   "cell_type": "markdown",
   "metadata": {},
   "source": [
    "## Central Air"
   ]
  },
  {
   "cell_type": "code",
   "execution_count": 32,
   "metadata": {},
   "outputs": [
    {
     "data": {
      "text/plain": [
       "(0.09094224445500836,\n",
       " 0.30156631850226306,\n",
       " 0.0819228660737944,\n",
       " array([0.31988764]),\n",
       " 11.713765595647883)"
      ]
     },
     "execution_count": 32,
     "metadata": {},
     "output_type": "execute_result"
    }
   ],
   "source": [
    "df['CentralAir']=df['CentralAir'].replace(\"N\",0)\n",
    "df['CentralAir']=df['CentralAir'].replace(\"Y\",1)\n",
    "lr(np.array(df[\"CentralAir\"]).reshape(-1,1),y)"
   ]
  },
  {
   "cell_type": "code",
   "execution_count": 33,
   "metadata": {},
   "outputs": [
    {
     "data": {
      "text/plain": [
       "(0.08385043164921335,\n",
       " 0.2895693900418574,\n",
       " -0.016827833186758623,\n",
       " array([0.0608532]),\n",
       " 11.847088803847829)"
      ]
     },
     "execution_count": 33,
     "metadata": {},
     "output_type": "execute_result"
    }
   ],
   "source": [
    "lr(np.array(df[\"BedroomAbvGr\"]).reshape(-1,1),y)"
   ]
  },
  {
   "cell_type": "markdown",
   "metadata": {},
   "source": [
    "# SQFT Calcs"
   ]
  },
  {
   "cell_type": "code",
   "execution_count": 34,
   "metadata": {},
   "outputs": [
    {
     "data": {
      "text/plain": [
       "(0.08082867165286757,\n",
       " 0.28430383685920874,\n",
       " 0.23818368400322698,\n",
       " array([ 0.05627753, -0.00037788]),\n",
       " 10.564065008822727)"
      ]
     },
     "execution_count": 34,
     "metadata": {},
     "output_type": "execute_result"
    }
   ],
   "source": [
    "sq1f= df[[\"1stFlrSF\"]]**0.5\n",
    "f1 = pd.concat([sq1f,df[\"1stFlrSF\"]],axis=1)\n",
    "lr(f1, df[\"lnPrice\"])"
   ]
  },
  {
   "cell_type": "code",
   "execution_count": 35,
   "metadata": {},
   "outputs": [
    {
     "data": {
      "text/plain": [
       "(0.05984825893817987,\n",
       " 0.24463903805030765,\n",
       " 0.2665227001777487,\n",
       " array([-0.03820082,  0.00144647]),\n",
       " 11.983810309545367)"
      ]
     },
     "execution_count": 35,
     "metadata": {},
     "output_type": "execute_result"
    }
   ],
   "source": [
    "sq2f= df[[\"2ndFlrSF\"]]**0.5\n",
    "f2 = pd.concat([sq2f,df[\"2ndFlrSF\"]],axis=1)\n",
    "lr(f2 , df[\"lnPrice\"])"
   ]
  },
  {
   "cell_type": "code",
   "execution_count": 36,
   "metadata": {},
   "outputs": [
    {
     "data": {
      "text/plain": [
       "(0.05176618427790511,\n",
       " 0.2275218325302104,\n",
       " 0.43381930162262483,\n",
       " array([0.00058597]),\n",
       " 11.271887005809436)"
      ]
     },
     "execution_count": 36,
     "metadata": {},
     "output_type": "execute_result"
    }
   ],
   "source": [
    "f12 = df[\"1stFlrSF\"]+df[\"2ndFlrSF\"]\n",
    "euc_f12 = np.sqrt(df[\"1stFlrSF\"]**2+df[\"2ndFlrSF\"]**2)\n",
    "lr(np.array(euc_f12).reshape(-1,1) , df[\"lnPrice\"])"
   ]
  },
  {
   "cell_type": "code",
   "execution_count": 37,
   "metadata": {},
   "outputs": [
    {
     "data": {
      "text/plain": [
       "(0.08467832390857319,\n",
       " 0.2909954018684371,\n",
       " 0.13237442108839437,\n",
       " array([ 1.34871651e-03, -1.79353946e-06]),\n",
       " 11.93765309424791)"
      ]
     },
     "execution_count": 37,
     "metadata": {},
     "output_type": "execute_result"
    }
   ],
   "source": [
    "wd = df[\"WoodDeckSF\"]\n",
    "wd2 = wd**2\n",
    "wd= pd.concat([wd,wd2],axis=1)\n",
    "lr(wd, df[\"lnPrice\"])"
   ]
  },
  {
   "cell_type": "code",
   "execution_count": 38,
   "metadata": {},
   "outputs": [],
   "source": [
    "sqfteq = pd.concat([df[\"1stFlrSF\"],df[\"1stFlrSF\"]**2,df[\"2ndFlrSF\"],df[\"2ndFlrSF\"]**2,df[\"1stFlrSF\"]*df[\"2ndFlrSF\"]],axis=1)"
   ]
  },
  {
   "cell_type": "code",
   "execution_count": 39,
   "metadata": {},
   "outputs": [
    {
     "data": {
      "text/plain": [
       "(0.03525403793868616,\n",
       " 0.18776058675527768,\n",
       " 0.5979812079505598,\n",
       " array([ 1.01107326e-03, -1.16600891e-07,  6.96263712e-04,  2.27049452e-07,\n",
       "        -4.85834951e-07]),\n",
       " 10.892112379147562)"
      ]
     },
     "execution_count": 39,
     "metadata": {},
     "output_type": "execute_result"
    }
   ],
   "source": [
    "lr(sqfteq,y)"
   ]
  },
  {
   "cell_type": "code",
   "execution_count": null,
   "metadata": {},
   "outputs": [],
   "source": []
  },
  {
   "cell_type": "markdown",
   "metadata": {},
   "source": [
    "## Multi"
   ]
  },
  {
   "cell_type": "code",
   "execution_count": 40,
   "metadata": {},
   "outputs": [],
   "source": [
    "#df_neighborhoods, df_hasPool,df_SaleCondition,df_MSZoning"
   ]
  },
  {
   "cell_type": "code",
   "execution_count": 41,
   "metadata": {},
   "outputs": [
    {
     "data": {
      "text/plain": [
       "(0.018258703796373926,\n",
       " 0.1351247712167311,\n",
       " 0.7922249734517421,\n",
       " array([ 4.24956678e+05,  4.24956560e+05,  4.24956495e+05,  4.24956674e+05,\n",
       "         4.24956811e+05,  4.24956779e+05,  4.24956804e+05,  4.24956636e+05,\n",
       "         4.24956749e+05,  4.24956654e+05,  4.24956548e+05,  4.24956713e+05,\n",
       "         4.24956665e+05,  4.24956597e+05,  4.24956700e+05,  4.24956835e+05,\n",
       "         4.24956846e+05,  4.24956598e+05,  4.24956651e+05,  4.24956688e+05,\n",
       "         4.24956708e+05,  4.24956812e+05,  4.24956795e+05,  4.24956785e+05,\n",
       "         4.24956825e+05,  6.41638842e-04, -1.17324463e-07,  2.35852344e-04,\n",
       "         1.29161119e-07, -1.67657837e-07,  2.89282725e-04, -2.90022456e-02,\n",
       "         4.35082332e-02,  7.75625373e-02,  5.16906211e-02,  1.04530574e-01,\n",
       "        -4.17227973e-03,  2.96368337e-02, -1.19975230e-02,  8.34519861e-02]),\n",
       " -424946.0528774049)"
      ]
     },
     "execution_count": 41,
     "metadata": {},
     "output_type": "execute_result"
    }
   ],
   "source": [
    "df_multi= pd.concat([df_neighborhoods,sqfteq,df_SP,df[\"GarageCars\"],df[\"OverallQual\"],baths, df[\"CentralAir\"],\\\n",
    "                     df[\"TotRmsAbvGrd\"],df[\"Fireplaces\"],df[\"BedroomAbvGr\"], df_hasPool ],axis=1)\n",
    "\n",
    "\n",
    "lr(df_multi, df[\"lnPrice\"])"
   ]
  },
  {
   "cell_type": "code",
   "execution_count": 42,
   "metadata": {},
   "outputs": [
    {
     "data": {
      "text/plain": [
       "(0.01265904920414831,\n",
       " 0.11251244021950776,\n",
       " 0.858534150151704,\n",
       " array([-1.05177891e+06, -1.05177903e+06, -1.05177908e+06, -1.05177889e+06,\n",
       "        -1.05177878e+06, -1.05177881e+06, -1.05177877e+06, -1.05177894e+06,\n",
       "        -1.05177884e+06, -1.05177892e+06, -1.05177904e+06, -1.05177888e+06,\n",
       "        -1.05177892e+06, -1.05177899e+06, -1.05177890e+06, -1.05177876e+06,\n",
       "        -1.05177874e+06, -1.05177899e+06, -1.05177893e+06, -1.05177890e+06,\n",
       "        -1.05177887e+06, -1.05177879e+06, -1.05177881e+06, -1.05177881e+06,\n",
       "        -1.05177875e+06,  6.65910182e-04, -1.27732298e-07,  2.61571462e-04,\n",
       "         1.30712105e-07, -1.91583269e-07,  3.90146426e-04, -3.90274994e-02,\n",
       "         4.85796143e-02,  7.81476378e-02,  5.17882832e-02,  1.01906445e-01,\n",
       "        -5.85693450e-03,  2.81850020e-02, -1.00300657e-02,  7.18457540e-02]),\n",
       " 1051789.5148361938)"
      ]
     },
     "execution_count": 42,
     "metadata": {},
     "output_type": "execute_result"
    }
   ],
   "source": [
    "df_multi1= pd.concat([df_MSZoning, sqfteq,df_SP,df[\"GarageCars\"],df[\"OverallQual\"],baths, df[\"CentralAir\"],\\\n",
    "                     df[\"TotRmsAbvGrd\"],df[\"Fireplaces\"],df[\"BedroomAbvGr\"], df_hasPool ],axis=1)\n",
    "\n",
    "\n",
    "lr(df_multi1, df[\"lnPrice\"])"
   ]
  },
  {
   "cell_type": "code",
   "execution_count": 43,
   "metadata": {},
   "outputs": [
    {
     "data": {
      "text/plain": [
       "(0.018439500144360715,\n",
       " 0.13579212106878924,\n",
       " 0.8208856575062264,\n",
       " array([ 1.24213504e-01,  4.90774664e-05,  7.33454095e-05, -6.96346817e-06,\n",
       "         1.54840782e-04,  5.69537698e-03,  3.09923711e-04]),\n",
       " 10.762677524772046)"
      ]
     },
     "execution_count": 43,
     "metadata": {},
     "output_type": "execute_result"
    }
   ],
   "source": [
    "df_Samir = df[[\"OverallQual\", \"BsmtFinSF1\", \"TotalBsmtSF\", \"1stFlrSF\",  \"GrLivArea\", \"TotRmsAbvGrd\", \"GarageArea\"]]\n",
    "lr(df_Samir,y)"
   ]
  },
  {
   "cell_type": "code",
   "execution_count": 44,
   "metadata": {},
   "outputs": [
    {
     "data": {
      "text/html": [
       "<div>\n",
       "<style scoped>\n",
       "    .dataframe tbody tr th:only-of-type {\n",
       "        vertical-align: middle;\n",
       "    }\n",
       "\n",
       "    .dataframe tbody tr th {\n",
       "        vertical-align: top;\n",
       "    }\n",
       "\n",
       "    .dataframe thead th {\n",
       "        text-align: right;\n",
       "    }\n",
       "</style>\n",
       "<table border=\"1\" class=\"dataframe\">\n",
       "  <thead>\n",
       "    <tr style=\"text-align: right;\">\n",
       "      <th></th>\n",
       "      <th>Blmngtn</th>\n",
       "      <th>Blueste</th>\n",
       "      <th>BrDale</th>\n",
       "      <th>BrkSide</th>\n",
       "      <th>ClearCr</th>\n",
       "      <th>CollgCr</th>\n",
       "      <th>Crawfor</th>\n",
       "      <th>Edwards</th>\n",
       "      <th>Gilbert</th>\n",
       "      <th>IDOTRR</th>\n",
       "      <th>...</th>\n",
       "      <th>ScreenPorch</th>\n",
       "      <th>ScreenPorch</th>\n",
       "      <th>GarageCars</th>\n",
       "      <th>OverallQual</th>\n",
       "      <th>0</th>\n",
       "      <th>CentralAir</th>\n",
       "      <th>TotRmsAbvGrd</th>\n",
       "      <th>Fireplaces</th>\n",
       "      <th>BedroomAbvGr</th>\n",
       "      <th>PoolArea</th>\n",
       "    </tr>\n",
       "  </thead>\n",
       "  <tbody>\n",
       "    <tr>\n",
       "      <th>0</th>\n",
       "      <td>0</td>\n",
       "      <td>0</td>\n",
       "      <td>0</td>\n",
       "      <td>0</td>\n",
       "      <td>0</td>\n",
       "      <td>1</td>\n",
       "      <td>0</td>\n",
       "      <td>0</td>\n",
       "      <td>0</td>\n",
       "      <td>0</td>\n",
       "      <td>...</td>\n",
       "      <td>0</td>\n",
       "      <td>0</td>\n",
       "      <td>2</td>\n",
       "      <td>7</td>\n",
       "      <td>4</td>\n",
       "      <td>1</td>\n",
       "      <td>8</td>\n",
       "      <td>0</td>\n",
       "      <td>3</td>\n",
       "      <td>0</td>\n",
       "    </tr>\n",
       "    <tr>\n",
       "      <th>1</th>\n",
       "      <td>0</td>\n",
       "      <td>0</td>\n",
       "      <td>0</td>\n",
       "      <td>0</td>\n",
       "      <td>0</td>\n",
       "      <td>0</td>\n",
       "      <td>0</td>\n",
       "      <td>0</td>\n",
       "      <td>0</td>\n",
       "      <td>0</td>\n",
       "      <td>...</td>\n",
       "      <td>0</td>\n",
       "      <td>0</td>\n",
       "      <td>2</td>\n",
       "      <td>6</td>\n",
       "      <td>3</td>\n",
       "      <td>1</td>\n",
       "      <td>6</td>\n",
       "      <td>1</td>\n",
       "      <td>3</td>\n",
       "      <td>0</td>\n",
       "    </tr>\n",
       "    <tr>\n",
       "      <th>2</th>\n",
       "      <td>0</td>\n",
       "      <td>0</td>\n",
       "      <td>0</td>\n",
       "      <td>0</td>\n",
       "      <td>0</td>\n",
       "      <td>1</td>\n",
       "      <td>0</td>\n",
       "      <td>0</td>\n",
       "      <td>0</td>\n",
       "      <td>0</td>\n",
       "      <td>...</td>\n",
       "      <td>0</td>\n",
       "      <td>0</td>\n",
       "      <td>2</td>\n",
       "      <td>7</td>\n",
       "      <td>4</td>\n",
       "      <td>1</td>\n",
       "      <td>6</td>\n",
       "      <td>1</td>\n",
       "      <td>3</td>\n",
       "      <td>0</td>\n",
       "    </tr>\n",
       "    <tr>\n",
       "      <th>3</th>\n",
       "      <td>0</td>\n",
       "      <td>0</td>\n",
       "      <td>0</td>\n",
       "      <td>0</td>\n",
       "      <td>0</td>\n",
       "      <td>0</td>\n",
       "      <td>1</td>\n",
       "      <td>0</td>\n",
       "      <td>0</td>\n",
       "      <td>0</td>\n",
       "      <td>...</td>\n",
       "      <td>0</td>\n",
       "      <td>0</td>\n",
       "      <td>3</td>\n",
       "      <td>7</td>\n",
       "      <td>2</td>\n",
       "      <td>1</td>\n",
       "      <td>7</td>\n",
       "      <td>1</td>\n",
       "      <td>3</td>\n",
       "      <td>0</td>\n",
       "    </tr>\n",
       "    <tr>\n",
       "      <th>4</th>\n",
       "      <td>0</td>\n",
       "      <td>0</td>\n",
       "      <td>0</td>\n",
       "      <td>0</td>\n",
       "      <td>0</td>\n",
       "      <td>0</td>\n",
       "      <td>0</td>\n",
       "      <td>0</td>\n",
       "      <td>0</td>\n",
       "      <td>0</td>\n",
       "      <td>...</td>\n",
       "      <td>0</td>\n",
       "      <td>0</td>\n",
       "      <td>3</td>\n",
       "      <td>8</td>\n",
       "      <td>4</td>\n",
       "      <td>1</td>\n",
       "      <td>9</td>\n",
       "      <td>1</td>\n",
       "      <td>4</td>\n",
       "      <td>0</td>\n",
       "    </tr>\n",
       "  </tbody>\n",
       "</table>\n",
       "<p>5 rows × 40 columns</p>\n",
       "</div>"
      ],
      "text/plain": [
       "   Blmngtn  Blueste  BrDale  BrkSide  ClearCr  CollgCr  Crawfor  Edwards  \\\n",
       "0        0        0       0        0        0        1        0        0   \n",
       "1        0        0       0        0        0        0        0        0   \n",
       "2        0        0       0        0        0        1        0        0   \n",
       "3        0        0       0        0        0        0        1        0   \n",
       "4        0        0       0        0        0        0        0        0   \n",
       "\n",
       "   Gilbert  IDOTRR    ...     ScreenPorch  ScreenPorch  GarageCars  \\\n",
       "0        0       0    ...               0            0           2   \n",
       "1        0       0    ...               0            0           2   \n",
       "2        0       0    ...               0            0           2   \n",
       "3        0       0    ...               0            0           3   \n",
       "4        0       0    ...               0            0           3   \n",
       "\n",
       "   OverallQual  0  CentralAir  TotRmsAbvGrd  Fireplaces  BedroomAbvGr  \\\n",
       "0            7  4           1             8           0             3   \n",
       "1            6  3           1             6           1             3   \n",
       "2            7  4           1             6           1             3   \n",
       "3            7  2           1             7           1             3   \n",
       "4            8  4           1             9           1             4   \n",
       "\n",
       "   PoolArea  \n",
       "0         0  \n",
       "1         0  \n",
       "2         0  \n",
       "3         0  \n",
       "4         0  \n",
       "\n",
       "[5 rows x 40 columns]"
      ]
     },
     "execution_count": 44,
     "metadata": {},
     "output_type": "execute_result"
    }
   ],
   "source": [
    "df_multi.head()"
   ]
  },
  {
   "cell_type": "markdown",
   "metadata": {
    "colab_type": "text",
    "id": "Uvbg4rRPW2Ex"
   },
   "source": [
    "# Stretch Goals\n",
    "\n",
    "- Write a blog post explaining one of today's topics.\n",
    "- Find a new regression dataset from the UCI machine learning repository and use it to test out your new modeling skillz.\n",
    " [ - UCI Machine Learning Repository - Regression Datasets](https://)\n",
    "- Make a list for yourself of common feature engineering techniques. Browse Kaggle kernels to learn more methods.\n",
    "- Start studying for tomorrow's topic: Gradient Descent\n",
    "- Try and make the ultimate model with this dataset. clean as many features as possible, engineer the most sensible features as possible and see how accurate of a prediction you can make. \n",
    "- Learn about the \"Dummy Variable Trap\" and how it applies to linear regression modeling.\n",
    "- Learning about using linear regression to model time series data"
   ]
  },
  {
   "cell_type": "code",
   "execution_count": 45,
   "metadata": {},
   "outputs": [],
   "source": [
    "y = np.log(y)"
   ]
  },
  {
   "cell_type": "code",
   "execution_count": 47,
   "metadata": {},
   "outputs": [
    {
     "data": {
      "text/plain": [
       "count    1316.000000\n",
       "mean        2.486279\n",
       "std         0.025046\n",
       "min         2.432305\n",
       "25%         2.467859\n",
       "50%         2.485032\n",
       "75%         2.503955\n",
       "max         2.541181\n",
       "Name: lnPrice, dtype: float64"
      ]
     },
     "execution_count": 47,
     "metadata": {},
     "output_type": "execute_result"
    }
   ],
   "source": [
    "y.describe()"
   ]
  },
  {
   "cell_type": "code",
   "execution_count": null,
   "metadata": {},
   "outputs": [],
   "source": []
  },
  {
   "cell_type": "code",
   "execution_count": null,
   "metadata": {},
   "outputs": [],
   "source": []
  }
 ],
 "metadata": {
  "colab": {
   "name": "Polynomial/Log-linear Regression Assignment.ipynb",
   "provenance": [],
   "version": "0.3.2"
  },
  "kernelspec": {
   "display_name": "Python 3",
   "language": "python",
   "name": "python3"
  },
  "language_info": {
   "codemirror_mode": {
    "name": "ipython",
    "version": 3
   },
   "file_extension": ".py",
   "mimetype": "text/x-python",
   "name": "python",
   "nbconvert_exporter": "python",
   "pygments_lexer": "ipython3",
   "version": "3.6.5"
  }
 },
 "nbformat": 4,
 "nbformat_minor": 1
}
