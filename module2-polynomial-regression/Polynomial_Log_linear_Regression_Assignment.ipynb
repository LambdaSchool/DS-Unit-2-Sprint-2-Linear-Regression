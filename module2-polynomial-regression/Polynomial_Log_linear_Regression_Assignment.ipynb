{
  "nbformat": 4,
  "nbformat_minor": 0,
  "metadata": {
    "colab": {
      "name": "Polynomial/Log-linear Regression Assignment.ipynb",
      "version": "0.3.2",
      "provenance": [],
      "collapsed_sections": [],
      "include_colab_link": true
    },
    "kernelspec": {
      "name": "python3",
      "display_name": "Python 3"
    }
  },
  "cells": [
    {
      "cell_type": "markdown",
      "metadata": {
        "id": "view-in-github",
        "colab_type": "text"
      },
      "source": [
        "<a href=\"https://colab.research.google.com/github/ShreyasJothish/DS-Unit-2-Sprint-2-Linear-Regression/blob/master/module2-polynomial-regression/Polynomial_Log_linear_Regression_Assignment.ipynb\" target=\"_parent\"><img src=\"https://colab.research.google.com/assets/colab-badge.svg\" alt=\"Open In Colab\"/></a>"
      ]
    },
    {
      "metadata": {
        "id": "Dc4kEVNWo4yZ",
        "colab_type": "text"
      },
      "cell_type": "markdown",
      "source": [
        "# Intermediate Linear Regression Practice\n",
        "\n",
        "## Use a Linear Regression model to get the lowest RMSE possible on the following dataset:\n",
        "\n",
        "[Dataset Folder](https://github.com/ryanleeallred/datasets/tree/master/Ames%20Housing%20Data)\n",
        "\n",
        "[Raw CSV](https://raw.githubusercontent.com/ryanleeallred/datasets/master/Ames%20Housing%20Data/train.csv)\n",
        "\n",
        "## You model must include (at least):\n",
        "- A log-transformed y variable\n",
        "- Two polynomial features\n",
        "- One interaction feature\n",
        "- 10 other engineered features\n",
        "\n",
        "What is the lowest Root-Mean-Squared Error that you are able to obtain? Share your best RMSEs in Slack!\n",
        "\n",
        "Notes:\n",
        "\n",
        "There may be some data cleaning that you need to do on some features of this dataset. Linear Regression will only accept numeric values and will not accept\n",
        "\n",
        "Note* There may not be a clear candidate for an interaction term in this dataset. Include one anyway, sometimes it's a good practice for predictive modeling feature engineering in general. "
      ]
    },
    {
      "metadata": {
        "id": "K1yY_PAAIcUk",
        "colab_type": "code",
        "outputId": "d5742197-d61f-4fca-9231-16287058279c",
        "colab": {
          "base_uri": "https://localhost:8080/",
          "height": 211
        }
      },
      "cell_type": "code",
      "source": [
        "!pip install -U seaborn"
      ],
      "execution_count": 1,
      "outputs": [
        {
          "output_type": "stream",
          "text": [
            "Requirement already up-to-date: seaborn in /usr/local/lib/python3.6/dist-packages (0.9.0)\n",
            "Requirement already satisfied, skipping upgrade: scipy>=0.14.0 in /usr/local/lib/python3.6/dist-packages (from seaborn) (1.1.0)\n",
            "Requirement already satisfied, skipping upgrade: numpy>=1.9.3 in /usr/local/lib/python3.6/dist-packages (from seaborn) (1.14.6)\n",
            "Requirement already satisfied, skipping upgrade: matplotlib>=1.4.3 in /usr/local/lib/python3.6/dist-packages (from seaborn) (2.1.2)\n",
            "Requirement already satisfied, skipping upgrade: pandas>=0.15.2 in /usr/local/lib/python3.6/dist-packages (from seaborn) (0.22.0)\n",
            "Requirement already satisfied, skipping upgrade: python-dateutil>=2.1 in /usr/local/lib/python3.6/dist-packages (from matplotlib>=1.4.3->seaborn) (2.5.3)\n",
            "Requirement already satisfied, skipping upgrade: pytz in /usr/local/lib/python3.6/dist-packages (from matplotlib>=1.4.3->seaborn) (2018.9)\n",
            "Requirement already satisfied, skipping upgrade: cycler>=0.10 in /usr/local/lib/python3.6/dist-packages (from matplotlib>=1.4.3->seaborn) (0.10.0)\n",
            "Requirement already satisfied, skipping upgrade: pyparsing!=2.0.4,!=2.1.2,!=2.1.6,>=2.0.1 in /usr/local/lib/python3.6/dist-packages (from matplotlib>=1.4.3->seaborn) (2.3.0)\n",
            "Requirement already satisfied, skipping upgrade: six>=1.10 in /usr/local/lib/python3.6/dist-packages (from matplotlib>=1.4.3->seaborn) (1.11.0)\n"
          ],
          "name": "stdout"
        }
      ]
    },
    {
      "metadata": {
        "id": "XYZSkixpo2qD",
        "colab_type": "code",
        "colab": {}
      },
      "cell_type": "code",
      "source": [
        "# Imports all in one place\n",
        "import pandas as pd\n",
        "import numpy as np\n",
        "import seaborn as sns\n",
        "from sklearn.linear_model import LinearRegression\n",
        "from sklearn.metrics import mean_squared_error, r2_score\n",
        "from sklearn.model_selection import train_test_split"
      ],
      "execution_count": 0,
      "outputs": []
    },
    {
      "metadata": {
        "id": "lX9XDSVJI2fo",
        "colab_type": "code",
        "colab": {}
      },
      "cell_type": "code",
      "source": [
        "# Data clean up and using only Ordinal and Numerical features\n",
        "dataurl = \"https://raw.githubusercontent.com/ryanleeallred/datasets/master/Ames%20Housing%20Data/train.csv\"\n",
        "df = pd.read_csv(dataurl)"
      ],
      "execution_count": 0,
      "outputs": []
    },
    {
      "metadata": {
        "id": "QR05hyeOJDJc",
        "colab_type": "code",
        "outputId": "5364b939-0964-46ed-8e9c-756755f8a98d",
        "colab": {
          "base_uri": "https://localhost:8080/",
          "height": 347
        }
      },
      "cell_type": "code",
      "source": [
        "pd.set_option('display.max_rows', 100)\n",
        "print(df.shape)\n",
        "print(df.columns)"
      ],
      "execution_count": 4,
      "outputs": [
        {
          "output_type": "stream",
          "text": [
            "(1460, 81)\n",
            "Index(['Id', 'MSSubClass', 'MSZoning', 'LotFrontage', 'LotArea', 'Street',\n",
            "       'Alley', 'LotShape', 'LandContour', 'Utilities', 'LotConfig',\n",
            "       'LandSlope', 'Neighborhood', 'Condition1', 'Condition2', 'BldgType',\n",
            "       'HouseStyle', 'OverallQual', 'OverallCond', 'YearBuilt', 'YearRemodAdd',\n",
            "       'RoofStyle', 'RoofMatl', 'Exterior1st', 'Exterior2nd', 'MasVnrType',\n",
            "       'MasVnrArea', 'ExterQual', 'ExterCond', 'Foundation', 'BsmtQual',\n",
            "       'BsmtCond', 'BsmtExposure', 'BsmtFinType1', 'BsmtFinSF1',\n",
            "       'BsmtFinType2', 'BsmtFinSF2', 'BsmtUnfSF', 'TotalBsmtSF', 'Heating',\n",
            "       'HeatingQC', 'CentralAir', 'Electrical', '1stFlrSF', '2ndFlrSF',\n",
            "       'LowQualFinSF', 'GrLivArea', 'BsmtFullBath', 'BsmtHalfBath', 'FullBath',\n",
            "       'HalfBath', 'BedroomAbvGr', 'KitchenAbvGr', 'KitchenQual',\n",
            "       'TotRmsAbvGrd', 'Functional', 'Fireplaces', 'FireplaceQu', 'GarageType',\n",
            "       'GarageYrBlt', 'GarageFinish', 'GarageCars', 'GarageArea', 'GarageQual',\n",
            "       'GarageCond', 'PavedDrive', 'WoodDeckSF', 'OpenPorchSF',\n",
            "       'EnclosedPorch', '3SsnPorch', 'ScreenPorch', 'PoolArea', 'PoolQC',\n",
            "       'Fence', 'MiscFeature', 'MiscVal', 'MoSold', 'YrSold', 'SaleType',\n",
            "       'SaleCondition', 'SalePrice'],\n",
            "      dtype='object')\n"
          ],
          "name": "stdout"
        }
      ]
    },
    {
      "metadata": {
        "id": "4J6SDrcTVvPU",
        "colab_type": "code",
        "outputId": "1629776d-2298-4a44-85bc-c43e50e3e19a",
        "colab": {
          "base_uri": "https://localhost:8080/",
          "height": 251
        }
      },
      "cell_type": "code",
      "source": [
        "df_num = df[[\"LotFrontage\",\n",
        "\"LotArea\",\n",
        "\"OverallQual\",\n",
        "\"OverallCond\",\n",
        "\"BsmtFinSF1\",\n",
        "\"BsmtFinSF2\",\n",
        "\"BsmtUnfSF\",\n",
        "\"TotalBsmtSF\",\n",
        "\"1stFlrSF\",\n",
        "\"2ndFlrSF\",\n",
        "\"LowQualFinSF\",\n",
        "\"GrLivArea\",\n",
        "\"BsmtFullBath\",\n",
        "\"BsmtHalfBath\",\n",
        "\"FullBath\",\n",
        "\"HalfBath\",\n",
        "\"TotRmsAbvGrd\",\n",
        "\"Fireplaces\",\n",
        "\"GarageCars\",\n",
        "\"GarageArea\",\n",
        "\"WoodDeckSF\",\n",
        "\"OpenPorchSF\",\n",
        "\"EnclosedPorch\",\n",
        "\"3SsnPorch\",\n",
        "\"ScreenPorch\",\n",
        "\"PoolArea\"]].copy()\n",
        "df_num.sample(5)"
      ],
      "execution_count": 5,
      "outputs": [
        {
          "output_type": "execute_result",
          "data": {
            "text/html": [
              "<div>\n",
              "<style scoped>\n",
              "    .dataframe tbody tr th:only-of-type {\n",
              "        vertical-align: middle;\n",
              "    }\n",
              "\n",
              "    .dataframe tbody tr th {\n",
              "        vertical-align: top;\n",
              "    }\n",
              "\n",
              "    .dataframe thead th {\n",
              "        text-align: right;\n",
              "    }\n",
              "</style>\n",
              "<table border=\"1\" class=\"dataframe\">\n",
              "  <thead>\n",
              "    <tr style=\"text-align: right;\">\n",
              "      <th></th>\n",
              "      <th>LotFrontage</th>\n",
              "      <th>LotArea</th>\n",
              "      <th>OverallQual</th>\n",
              "      <th>OverallCond</th>\n",
              "      <th>BsmtFinSF1</th>\n",
              "      <th>BsmtFinSF2</th>\n",
              "      <th>BsmtUnfSF</th>\n",
              "      <th>TotalBsmtSF</th>\n",
              "      <th>1stFlrSF</th>\n",
              "      <th>2ndFlrSF</th>\n",
              "      <th>...</th>\n",
              "      <th>TotRmsAbvGrd</th>\n",
              "      <th>Fireplaces</th>\n",
              "      <th>GarageCars</th>\n",
              "      <th>GarageArea</th>\n",
              "      <th>WoodDeckSF</th>\n",
              "      <th>OpenPorchSF</th>\n",
              "      <th>EnclosedPorch</th>\n",
              "      <th>3SsnPorch</th>\n",
              "      <th>ScreenPorch</th>\n",
              "      <th>PoolArea</th>\n",
              "    </tr>\n",
              "  </thead>\n",
              "  <tbody>\n",
              "    <tr>\n",
              "      <th>556</th>\n",
              "      <td>69.0</td>\n",
              "      <td>14850</td>\n",
              "      <td>5</td>\n",
              "      <td>5</td>\n",
              "      <td>895</td>\n",
              "      <td>0</td>\n",
              "      <td>197</td>\n",
              "      <td>1092</td>\n",
              "      <td>1092</td>\n",
              "      <td>0</td>\n",
              "      <td>...</td>\n",
              "      <td>6</td>\n",
              "      <td>1</td>\n",
              "      <td>1</td>\n",
              "      <td>299</td>\n",
              "      <td>268</td>\n",
              "      <td>0</td>\n",
              "      <td>0</td>\n",
              "      <td>0</td>\n",
              "      <td>122</td>\n",
              "      <td>0</td>\n",
              "    </tr>\n",
              "    <tr>\n",
              "      <th>1060</th>\n",
              "      <td>41.0</td>\n",
              "      <td>4920</td>\n",
              "      <td>8</td>\n",
              "      <td>5</td>\n",
              "      <td>616</td>\n",
              "      <td>0</td>\n",
              "      <td>722</td>\n",
              "      <td>1338</td>\n",
              "      <td>1338</td>\n",
              "      <td>0</td>\n",
              "      <td>...</td>\n",
              "      <td>6</td>\n",
              "      <td>0</td>\n",
              "      <td>2</td>\n",
              "      <td>582</td>\n",
              "      <td>0</td>\n",
              "      <td>0</td>\n",
              "      <td>170</td>\n",
              "      <td>0</td>\n",
              "      <td>0</td>\n",
              "      <td>0</td>\n",
              "    </tr>\n",
              "    <tr>\n",
              "      <th>1417</th>\n",
              "      <td>NaN</td>\n",
              "      <td>16545</td>\n",
              "      <td>8</td>\n",
              "      <td>5</td>\n",
              "      <td>781</td>\n",
              "      <td>0</td>\n",
              "      <td>503</td>\n",
              "      <td>1284</td>\n",
              "      <td>1310</td>\n",
              "      <td>1140</td>\n",
              "      <td>...</td>\n",
              "      <td>7</td>\n",
              "      <td>1</td>\n",
              "      <td>3</td>\n",
              "      <td>1069</td>\n",
              "      <td>0</td>\n",
              "      <td>126</td>\n",
              "      <td>0</td>\n",
              "      <td>0</td>\n",
              "      <td>0</td>\n",
              "      <td>0</td>\n",
              "    </tr>\n",
              "    <tr>\n",
              "      <th>1283</th>\n",
              "      <td>94.0</td>\n",
              "      <td>9400</td>\n",
              "      <td>6</td>\n",
              "      <td>5</td>\n",
              "      <td>0</td>\n",
              "      <td>0</td>\n",
              "      <td>912</td>\n",
              "      <td>912</td>\n",
              "      <td>912</td>\n",
              "      <td>912</td>\n",
              "      <td>...</td>\n",
              "      <td>8</td>\n",
              "      <td>0</td>\n",
              "      <td>0</td>\n",
              "      <td>0</td>\n",
              "      <td>128</td>\n",
              "      <td>0</td>\n",
              "      <td>0</td>\n",
              "      <td>0</td>\n",
              "      <td>0</td>\n",
              "      <td>0</td>\n",
              "    </tr>\n",
              "    <tr>\n",
              "      <th>1223</th>\n",
              "      <td>89.0</td>\n",
              "      <td>10680</td>\n",
              "      <td>5</td>\n",
              "      <td>3</td>\n",
              "      <td>756</td>\n",
              "      <td>0</td>\n",
              "      <td>1380</td>\n",
              "      <td>2136</td>\n",
              "      <td>2136</td>\n",
              "      <td>0</td>\n",
              "      <td>...</td>\n",
              "      <td>7</td>\n",
              "      <td>0</td>\n",
              "      <td>2</td>\n",
              "      <td>528</td>\n",
              "      <td>0</td>\n",
              "      <td>30</td>\n",
              "      <td>0</td>\n",
              "      <td>0</td>\n",
              "      <td>0</td>\n",
              "      <td>0</td>\n",
              "    </tr>\n",
              "  </tbody>\n",
              "</table>\n",
              "<p>5 rows × 26 columns</p>\n",
              "</div>"
            ],
            "text/plain": [
              "      LotFrontage  LotArea  OverallQual  OverallCond  BsmtFinSF1  BsmtFinSF2  \\\n",
              "556          69.0    14850            5            5         895           0   \n",
              "1060         41.0     4920            8            5         616           0   \n",
              "1417          NaN    16545            8            5         781           0   \n",
              "1283         94.0     9400            6            5           0           0   \n",
              "1223         89.0    10680            5            3         756           0   \n",
              "\n",
              "      BsmtUnfSF  TotalBsmtSF  1stFlrSF  2ndFlrSF    ...     TotRmsAbvGrd  \\\n",
              "556         197         1092      1092         0    ...                6   \n",
              "1060        722         1338      1338         0    ...                6   \n",
              "1417        503         1284      1310      1140    ...                7   \n",
              "1283        912          912       912       912    ...                8   \n",
              "1223       1380         2136      2136         0    ...                7   \n",
              "\n",
              "      Fireplaces  GarageCars  GarageArea  WoodDeckSF  OpenPorchSF  \\\n",
              "556            1           1         299         268            0   \n",
              "1060           0           2         582           0            0   \n",
              "1417           1           3        1069           0          126   \n",
              "1283           0           0           0         128            0   \n",
              "1223           0           2         528           0           30   \n",
              "\n",
              "      EnclosedPorch  3SsnPorch  ScreenPorch  PoolArea  \n",
              "556               0          0          122         0  \n",
              "1060            170          0            0         0  \n",
              "1417              0          0            0         0  \n",
              "1283              0          0            0         0  \n",
              "1223              0          0            0         0  \n",
              "\n",
              "[5 rows x 26 columns]"
            ]
          },
          "metadata": {
            "tags": []
          },
          "execution_count": 5
        }
      ]
    },
    {
      "metadata": {
        "id": "mWKT2YhxX7Bd",
        "colab_type": "code",
        "outputId": "8538831c-a3e5-4081-d3a4-27b8e5a735e9",
        "colab": {
          "base_uri": "https://localhost:8080/",
          "height": 485
        }
      },
      "cell_type": "code",
      "source": [
        "df_num.isnull().sum()"
      ],
      "execution_count": 6,
      "outputs": [
        {
          "output_type": "execute_result",
          "data": {
            "text/plain": [
              "LotFrontage      259\n",
              "LotArea            0\n",
              "OverallQual        0\n",
              "OverallCond        0\n",
              "BsmtFinSF1         0\n",
              "BsmtFinSF2         0\n",
              "BsmtUnfSF          0\n",
              "TotalBsmtSF        0\n",
              "1stFlrSF           0\n",
              "2ndFlrSF           0\n",
              "LowQualFinSF       0\n",
              "GrLivArea          0\n",
              "BsmtFullBath       0\n",
              "BsmtHalfBath       0\n",
              "FullBath           0\n",
              "HalfBath           0\n",
              "TotRmsAbvGrd       0\n",
              "Fireplaces         0\n",
              "GarageCars         0\n",
              "GarageArea         0\n",
              "WoodDeckSF         0\n",
              "OpenPorchSF        0\n",
              "EnclosedPorch      0\n",
              "3SsnPorch          0\n",
              "ScreenPorch        0\n",
              "PoolArea           0\n",
              "dtype: int64"
            ]
          },
          "metadata": {
            "tags": []
          },
          "execution_count": 6
        }
      ]
    },
    {
      "metadata": {
        "id": "Caim2eQ_YDUC",
        "colab_type": "code",
        "outputId": "07db0f64-2ba3-4cf3-c88b-91ad4a41c2fa",
        "colab": {
          "base_uri": "https://localhost:8080/",
          "height": 485
        }
      },
      "cell_type": "code",
      "source": [
        "LotFrontage_mean = df_num.LotFrontage.mean()\n",
        "#df_num.loc[:,'LotFrontage'].fillna(LotFrontage_mean, inplace=True)\n",
        "df_num.LotFrontage.fillna(df_num.LotFrontage.mean(), inplace=True)\n",
        "\n",
        "# Rechecking\n",
        "df_num.isnull().sum()"
      ],
      "execution_count": 7,
      "outputs": [
        {
          "output_type": "execute_result",
          "data": {
            "text/plain": [
              "LotFrontage      0\n",
              "LotArea          0\n",
              "OverallQual      0\n",
              "OverallCond      0\n",
              "BsmtFinSF1       0\n",
              "BsmtFinSF2       0\n",
              "BsmtUnfSF        0\n",
              "TotalBsmtSF      0\n",
              "1stFlrSF         0\n",
              "2ndFlrSF         0\n",
              "LowQualFinSF     0\n",
              "GrLivArea        0\n",
              "BsmtFullBath     0\n",
              "BsmtHalfBath     0\n",
              "FullBath         0\n",
              "HalfBath         0\n",
              "TotRmsAbvGrd     0\n",
              "Fireplaces       0\n",
              "GarageCars       0\n",
              "GarageArea       0\n",
              "WoodDeckSF       0\n",
              "OpenPorchSF      0\n",
              "EnclosedPorch    0\n",
              "3SsnPorch        0\n",
              "ScreenPorch      0\n",
              "PoolArea         0\n",
              "dtype: int64"
            ]
          },
          "metadata": {
            "tags": []
          },
          "execution_count": 7
        }
      ]
    },
    {
      "metadata": {
        "id": "cGHalxsqdVrC",
        "colab_type": "code",
        "outputId": "5fe05bb9-112c-45fe-b141-310d5f6d4074",
        "colab": {
          "base_uri": "https://localhost:8080/",
          "height": 260
        }
      },
      "cell_type": "code",
      "source": [
        "df_ord = df[[\"ExterQual\",\n",
        "\"ExterCond\",\n",
        "\"BsmtQual\",\n",
        "\"BsmtCond\",\n",
        "\"BsmtExposure\",\n",
        "\"HeatingQC\",\n",
        "\"CentralAir\",\n",
        "\"KitchenQual\",\n",
        "\"FireplaceQu\",\n",
        "\"GarageQual\",\n",
        "\"GarageCond\",\n",
        "\"PoolQC\",\n",
        "\"Fence\"]].copy()\n",
        "df_ord.isnull().sum()"
      ],
      "execution_count": 8,
      "outputs": [
        {
          "output_type": "execute_result",
          "data": {
            "text/plain": [
              "ExterQual          0\n",
              "ExterCond          0\n",
              "BsmtQual          37\n",
              "BsmtCond          37\n",
              "BsmtExposure      38\n",
              "HeatingQC          0\n",
              "CentralAir         0\n",
              "KitchenQual        0\n",
              "FireplaceQu      690\n",
              "GarageQual        81\n",
              "GarageCond        81\n",
              "PoolQC          1453\n",
              "Fence           1179\n",
              "dtype: int64"
            ]
          },
          "metadata": {
            "tags": []
          },
          "execution_count": 8
        }
      ]
    },
    {
      "metadata": {
        "id": "_y6hBHxadxW-",
        "colab_type": "code",
        "colab": {}
      },
      "cell_type": "code",
      "source": [
        "# Dropping FireplaceQu, PoolQC and Fence since most of the values are NaN\n",
        "df_ord.drop(columns=[\"FireplaceQu\", \"PoolQC\", \"Fence\"], inplace=True)\n",
        "df_ord.fillna(method='backfill', inplace=True)"
      ],
      "execution_count": 0,
      "outputs": []
    },
    {
      "metadata": {
        "id": "sv948I4BiApk",
        "colab_type": "code",
        "outputId": "cc1b2e72-ff3e-4222-fd2e-76e69a0f302a",
        "colab": {
          "base_uri": "https://localhost:8080/",
          "height": 191
        }
      },
      "cell_type": "code",
      "source": [
        "!pip install category_encoders"
      ],
      "execution_count": 10,
      "outputs": [
        {
          "output_type": "stream",
          "text": [
            "Requirement already satisfied: category_encoders in /usr/local/lib/python3.6/dist-packages (1.3.0)\n",
            "Requirement already satisfied: patsy>=0.4.1 in /usr/local/lib/python3.6/dist-packages (from category_encoders) (0.5.1)\n",
            "Requirement already satisfied: scikit-learn>=0.17.1 in /usr/local/lib/python3.6/dist-packages (from category_encoders) (0.20.2)\n",
            "Requirement already satisfied: numpy>=1.11.1 in /usr/local/lib/python3.6/dist-packages (from category_encoders) (1.14.6)\n",
            "Requirement already satisfied: statsmodels>=0.6.1 in /usr/local/lib/python3.6/dist-packages (from category_encoders) (0.8.0)\n",
            "Requirement already satisfied: scipy>=0.17.0 in /usr/local/lib/python3.6/dist-packages (from category_encoders) (1.1.0)\n",
            "Requirement already satisfied: pandas>=0.20.1 in /usr/local/lib/python3.6/dist-packages (from category_encoders) (0.22.0)\n",
            "Requirement already satisfied: six in /usr/local/lib/python3.6/dist-packages (from patsy>=0.4.1->category_encoders) (1.11.0)\n",
            "Requirement already satisfied: pytz>=2011k in /usr/local/lib/python3.6/dist-packages (from pandas>=0.20.1->category_encoders) (2018.9)\n",
            "Requirement already satisfied: python-dateutil>=2 in /usr/local/lib/python3.6/dist-packages (from pandas>=0.20.1->category_encoders) (2.5.3)\n"
          ],
          "name": "stdout"
        }
      ]
    },
    {
      "metadata": {
        "id": "bG4gXVsEeXIW",
        "colab_type": "code",
        "outputId": "261faf89-08b7-49c3-fa05-30c0ba30dda5",
        "colab": {
          "base_uri": "https://localhost:8080/",
          "height": 251
        }
      },
      "cell_type": "code",
      "source": [
        "import category_encoders as ce\n",
        "\n",
        "encoder = ce.binary.BinaryEncoder()\n",
        "\n",
        "df_ord_binenc = encoder.fit_transform(df_ord)\n",
        "df_ord_binenc.head()"
      ],
      "execution_count": 11,
      "outputs": [
        {
          "output_type": "execute_result",
          "data": {
            "text/html": [
              "<div>\n",
              "<style scoped>\n",
              "    .dataframe tbody tr th:only-of-type {\n",
              "        vertical-align: middle;\n",
              "    }\n",
              "\n",
              "    .dataframe tbody tr th {\n",
              "        vertical-align: top;\n",
              "    }\n",
              "\n",
              "    .dataframe thead th {\n",
              "        text-align: right;\n",
              "    }\n",
              "</style>\n",
              "<table border=\"1\" class=\"dataframe\">\n",
              "  <thead>\n",
              "    <tr style=\"text-align: right;\">\n",
              "      <th></th>\n",
              "      <th>ExterQual_0</th>\n",
              "      <th>ExterQual_1</th>\n",
              "      <th>ExterQual_2</th>\n",
              "      <th>ExterCond_0</th>\n",
              "      <th>ExterCond_1</th>\n",
              "      <th>ExterCond_2</th>\n",
              "      <th>ExterCond_3</th>\n",
              "      <th>BsmtQual_0</th>\n",
              "      <th>BsmtQual_1</th>\n",
              "      <th>BsmtQual_2</th>\n",
              "      <th>...</th>\n",
              "      <th>KitchenQual_1</th>\n",
              "      <th>KitchenQual_2</th>\n",
              "      <th>GarageQual_0</th>\n",
              "      <th>GarageQual_1</th>\n",
              "      <th>GarageQual_2</th>\n",
              "      <th>GarageQual_3</th>\n",
              "      <th>GarageCond_0</th>\n",
              "      <th>GarageCond_1</th>\n",
              "      <th>GarageCond_2</th>\n",
              "      <th>GarageCond_3</th>\n",
              "    </tr>\n",
              "  </thead>\n",
              "  <tbody>\n",
              "    <tr>\n",
              "      <th>0</th>\n",
              "      <td>0</td>\n",
              "      <td>0</td>\n",
              "      <td>1</td>\n",
              "      <td>0</td>\n",
              "      <td>0</td>\n",
              "      <td>0</td>\n",
              "      <td>1</td>\n",
              "      <td>0</td>\n",
              "      <td>0</td>\n",
              "      <td>1</td>\n",
              "      <td>...</td>\n",
              "      <td>0</td>\n",
              "      <td>1</td>\n",
              "      <td>0</td>\n",
              "      <td>0</td>\n",
              "      <td>0</td>\n",
              "      <td>1</td>\n",
              "      <td>0</td>\n",
              "      <td>0</td>\n",
              "      <td>0</td>\n",
              "      <td>1</td>\n",
              "    </tr>\n",
              "    <tr>\n",
              "      <th>1</th>\n",
              "      <td>0</td>\n",
              "      <td>1</td>\n",
              "      <td>0</td>\n",
              "      <td>0</td>\n",
              "      <td>0</td>\n",
              "      <td>0</td>\n",
              "      <td>1</td>\n",
              "      <td>0</td>\n",
              "      <td>0</td>\n",
              "      <td>1</td>\n",
              "      <td>...</td>\n",
              "      <td>1</td>\n",
              "      <td>0</td>\n",
              "      <td>0</td>\n",
              "      <td>0</td>\n",
              "      <td>0</td>\n",
              "      <td>1</td>\n",
              "      <td>0</td>\n",
              "      <td>0</td>\n",
              "      <td>0</td>\n",
              "      <td>1</td>\n",
              "    </tr>\n",
              "    <tr>\n",
              "      <th>2</th>\n",
              "      <td>0</td>\n",
              "      <td>0</td>\n",
              "      <td>1</td>\n",
              "      <td>0</td>\n",
              "      <td>0</td>\n",
              "      <td>0</td>\n",
              "      <td>1</td>\n",
              "      <td>0</td>\n",
              "      <td>0</td>\n",
              "      <td>1</td>\n",
              "      <td>...</td>\n",
              "      <td>0</td>\n",
              "      <td>1</td>\n",
              "      <td>0</td>\n",
              "      <td>0</td>\n",
              "      <td>0</td>\n",
              "      <td>1</td>\n",
              "      <td>0</td>\n",
              "      <td>0</td>\n",
              "      <td>0</td>\n",
              "      <td>1</td>\n",
              "    </tr>\n",
              "    <tr>\n",
              "      <th>3</th>\n",
              "      <td>0</td>\n",
              "      <td>1</td>\n",
              "      <td>0</td>\n",
              "      <td>0</td>\n",
              "      <td>0</td>\n",
              "      <td>0</td>\n",
              "      <td>1</td>\n",
              "      <td>0</td>\n",
              "      <td>1</td>\n",
              "      <td>0</td>\n",
              "      <td>...</td>\n",
              "      <td>0</td>\n",
              "      <td>1</td>\n",
              "      <td>0</td>\n",
              "      <td>0</td>\n",
              "      <td>0</td>\n",
              "      <td>1</td>\n",
              "      <td>0</td>\n",
              "      <td>0</td>\n",
              "      <td>0</td>\n",
              "      <td>1</td>\n",
              "    </tr>\n",
              "    <tr>\n",
              "      <th>4</th>\n",
              "      <td>0</td>\n",
              "      <td>0</td>\n",
              "      <td>1</td>\n",
              "      <td>0</td>\n",
              "      <td>0</td>\n",
              "      <td>0</td>\n",
              "      <td>1</td>\n",
              "      <td>0</td>\n",
              "      <td>0</td>\n",
              "      <td>1</td>\n",
              "      <td>...</td>\n",
              "      <td>0</td>\n",
              "      <td>1</td>\n",
              "      <td>0</td>\n",
              "      <td>0</td>\n",
              "      <td>0</td>\n",
              "      <td>1</td>\n",
              "      <td>0</td>\n",
              "      <td>0</td>\n",
              "      <td>0</td>\n",
              "      <td>1</td>\n",
              "    </tr>\n",
              "  </tbody>\n",
              "</table>\n",
              "<p>5 rows × 33 columns</p>\n",
              "</div>"
            ],
            "text/plain": [
              "   ExterQual_0  ExterQual_1  ExterQual_2  ExterCond_0  ExterCond_1  \\\n",
              "0            0            0            1            0            0   \n",
              "1            0            1            0            0            0   \n",
              "2            0            0            1            0            0   \n",
              "3            0            1            0            0            0   \n",
              "4            0            0            1            0            0   \n",
              "\n",
              "   ExterCond_2  ExterCond_3  BsmtQual_0  BsmtQual_1  BsmtQual_2      ...       \\\n",
              "0            0            1           0           0           1      ...        \n",
              "1            0            1           0           0           1      ...        \n",
              "2            0            1           0           0           1      ...        \n",
              "3            0            1           0           1           0      ...        \n",
              "4            0            1           0           0           1      ...        \n",
              "\n",
              "   KitchenQual_1  KitchenQual_2  GarageQual_0  GarageQual_1  GarageQual_2  \\\n",
              "0              0              1             0             0             0   \n",
              "1              1              0             0             0             0   \n",
              "2              0              1             0             0             0   \n",
              "3              0              1             0             0             0   \n",
              "4              0              1             0             0             0   \n",
              "\n",
              "   GarageQual_3  GarageCond_0  GarageCond_1  GarageCond_2  GarageCond_3  \n",
              "0             1             0             0             0             1  \n",
              "1             1             0             0             0             1  \n",
              "2             1             0             0             0             1  \n",
              "3             1             0             0             0             1  \n",
              "4             1             0             0             0             1  \n",
              "\n",
              "[5 rows x 33 columns]"
            ]
          },
          "metadata": {
            "tags": []
          },
          "execution_count": 11
        }
      ]
    },
    {
      "metadata": {
        "id": "dum2HY3ihBuA",
        "colab_type": "code",
        "outputId": "cdacfc3f-ffa0-42b1-9611-fc94e5721596",
        "colab": {
          "base_uri": "https://localhost:8080/",
          "height": 69
        }
      },
      "cell_type": "code",
      "source": [
        "X = df_num.join(df_ord_binenc)\n",
        "\n",
        "print(df_num.shape)\n",
        "print(df_ord_binenc.shape)\n",
        "print(X.shape)"
      ],
      "execution_count": 12,
      "outputs": [
        {
          "output_type": "stream",
          "text": [
            "(1460, 26)\n",
            "(1460, 33)\n",
            "(1460, 59)\n"
          ],
          "name": "stdout"
        }
      ]
    },
    {
      "metadata": {
        "id": "4TeJ_pWjtFkL",
        "colab_type": "code",
        "colab": {}
      },
      "cell_type": "code",
      "source": [
        "# log-transformed y variable\n",
        "y = np.log(df['SalePrice'])"
      ],
      "execution_count": 0,
      "outputs": []
    },
    {
      "metadata": {
        "id": "i75kweetu7B6",
        "colab_type": "code",
        "outputId": "b61822ed-c03b-47e9-8520-d972907dd133",
        "colab": {
          "base_uri": "https://localhost:8080/",
          "height": 329
        }
      },
      "cell_type": "code",
      "source": [
        "# Slit into test and train datasets\n",
        "X_train, X_test, Y_train, Y_test = train_test_split(X, y, test_size=.5, random_state=42)\n",
        "\n",
        "# fit model using train datasets\n",
        "model = LinearRegression()\n",
        "model.fit(X_train, Y_train)\n",
        "\n",
        "# Create new predictions using x_test\n",
        "y_pred = model.predict(X_test)\n",
        "\n",
        "# Measure Accuracy using y_test and y_pred\n",
        "RMSE = (np.sqrt(mean_squared_error(Y_test, y_pred)))\n",
        "R2 = r2_score(Y_test, y_pred)\n",
        "\n",
        "print('RMSE is {}'.format(RMSE))\n",
        "print('R^2 is {}'.format(R2))\n",
        "\n",
        "print(\"coefficients: \", model.coef_)\n",
        "print(\"intercepts: \", model.intercept_)"
      ],
      "execution_count": 14,
      "outputs": [
        {
          "output_type": "stream",
          "text": [
            "RMSE is 0.16149132010191228\n",
            "R^2 is 0.8436072152250504\n",
            "coefficients:  [-1.14992303e-04  2.10578812e-06  7.22529379e-02  3.18903424e-02\n",
            " -5.44710472e-06  3.22131675e-05 -1.54067068e-05  1.13593526e-05\n",
            "  9.56828371e-05 -5.98843065e-07  1.76357569e-05  1.12719753e-04\n",
            "  5.41756542e-02  3.47262367e-02  5.50502018e-02  6.00141961e-02\n",
            "  8.78978945e-03  3.16365241e-02  1.00450554e-01  1.60196619e-06\n",
            "  7.30952476e-05  6.60468545e-05  1.27752933e-04  4.75912497e-04\n",
            "  2.88615925e-04 -7.96153598e-04 -3.20108102e-03 -1.65041106e-02\n",
            "  3.64070393e-02 -2.08166817e-17 -4.71230236e-02  2.67604409e-02\n",
            "  4.64551736e-02  1.86757691e-02  6.80117332e-02  1.14065559e-01\n",
            " -1.00567382e-01 -7.68652764e-02 -9.46220079e-02 -2.85542722e-02\n",
            "  1.23807033e-02 -4.49685337e-02  3.46944695e-17 -6.78024505e-02\n",
            " -3.33726208e-02 -9.09741565e-03 -7.02836940e-02  7.02836940e-02\n",
            "  9.73378309e-02  6.00509573e-02  1.08079177e-01  0.00000000e+00\n",
            "  4.40698560e-03  7.89987059e-02  1.16637895e-01  0.00000000e+00\n",
            "  1.93730266e-01  1.06348377e-01  1.53315181e-01]\n",
            "intercepts:  10.29883638853245\n"
          ],
          "name": "stdout"
        }
      ]
    },
    {
      "metadata": {
        "id": "CVh0fg_5v9lh",
        "colab_type": "code",
        "colab": {}
      },
      "cell_type": "code",
      "source": [
        "# Two polynomial features\n",
        "X['OverallQual_Sq'] = X['OverallQual'] ** 2\n",
        "X['OverallCond_Sq'] = X['OverallCond'] ** 2"
      ],
      "execution_count": 0,
      "outputs": []
    },
    {
      "metadata": {
        "id": "J_KFehwGxTsA",
        "colab_type": "code",
        "outputId": "97acbc74-aa1c-4bd5-a2e1-b87753ceaecd",
        "colab": {
          "base_uri": "https://localhost:8080/",
          "height": 347
        }
      },
      "cell_type": "code",
      "source": [
        "# Slit into test and train datasets\n",
        "X_train, X_test, Y_train, Y_test = train_test_split(X, y, test_size=.5, random_state=42)\n",
        "\n",
        "# fit model using train datasets\n",
        "model = LinearRegression()\n",
        "model.fit(X_train, Y_train)\n",
        "\n",
        "# Create new predictions using x_test\n",
        "y_pred = model.predict(X_test)\n",
        "\n",
        "# Measure Accuracy using y_test and y_pred\n",
        "RMSE = (np.sqrt(mean_squared_error(Y_test, y_pred)))\n",
        "R2 = r2_score(Y_test, y_pred)\n",
        "\n",
        "print('RMSE is {}'.format(RMSE))\n",
        "print('R^2 is {}'.format(R2))\n",
        "\n",
        "print(\"coefficients: \", model.coef_)\n",
        "print(\"intercepts: \", model.intercept_)"
      ],
      "execution_count": 16,
      "outputs": [
        {
          "output_type": "stream",
          "text": [
            "RMSE is 0.16085205781477196\n",
            "R^2 is 0.844842924141786\n",
            "coefficients:  [-7.89674965e-05  2.09726351e-06  1.12579123e-01  1.03538806e-01\n",
            " -6.16304952e-06  2.92748983e-05 -1.55188770e-05  7.59296883e-06\n",
            "  1.04283167e-04  4.07386220e-06  5.07354412e-06  1.13430571e-04\n",
            "  5.44853848e-02  3.37299919e-02  5.23142107e-02  5.79340146e-02\n",
            "  8.17822671e-03  3.01373114e-02  9.95073120e-02  8.09474051e-06\n",
            "  8.28442896e-05  6.57092142e-05  1.19232662e-04  4.67350640e-04\n",
            "  2.79401371e-04 -7.94080598e-04  1.54833883e-02 -9.04568597e-04\n",
            "  5.37364293e-02 -1.14491749e-16  2.39281582e-02  3.30515204e-02\n",
            "  4.53752322e-02  3.06275808e-02  7.24925840e-02  1.15665820e-01\n",
            "  9.29124752e-02 -6.63058484e-02 -8.28372554e-02 -2.89734103e-02\n",
            "  1.22901455e-02 -4.52249551e-02 -4.16333634e-17 -6.32936969e-02\n",
            " -3.33852972e-02 -9.74895402e-03 -6.76556943e-02  6.76556943e-02\n",
            "  1.16231163e-01  6.97952070e-02  1.21784194e-01 -1.38777878e-17\n",
            "  1.01981938e-01  7.99102048e-02  1.16142764e-01  0.00000000e+00\n",
            "  8.30806984e-02  9.90425416e-02  1.38643425e-01 -3.44504498e-03\n",
            " -6.16835984e-03]\n",
            "intercepts:  9.957118335428884\n"
          ],
          "name": "stdout"
        }
      ]
    },
    {
      "metadata": {
        "id": "Z-qdxi1dxvbO",
        "colab_type": "code",
        "colab": {}
      },
      "cell_type": "code",
      "source": [
        "# One interaction feature\n",
        "X['TotRmsAbvGrd_Fireplaces'] = X['TotRmsAbvGrd'] * X['Fireplaces']"
      ],
      "execution_count": 0,
      "outputs": []
    },
    {
      "metadata": {
        "id": "aulfwkNOybP_",
        "colab_type": "code",
        "outputId": "a046fe61-b549-423e-a3e4-b2fe3dd0f39b",
        "colab": {
          "base_uri": "https://localhost:8080/",
          "height": 347
        }
      },
      "cell_type": "code",
      "source": [
        "# Slit into test and train datasets\n",
        "X_train, X_test, Y_train, Y_test = train_test_split(X, y, test_size=.5, random_state=42)\n",
        "\n",
        "# fit model using train datasets\n",
        "model = LinearRegression()\n",
        "model.fit(X_train, Y_train)\n",
        "\n",
        "# Create new predictions using x_test\n",
        "y_pred = model.predict(X_test)\n",
        "\n",
        "# Measure Accuracy using y_test and y_pred\n",
        "RMSE = (np.sqrt(mean_squared_error(Y_test, y_pred)))\n",
        "R2 = r2_score(Y_test, y_pred)\n",
        "\n",
        "print('RMSE is {}'.format(RMSE))\n",
        "print('R^2 is {}'.format(R2))\n",
        "\n",
        "print(\"coefficients: \", model.coef_)\n",
        "print(\"intercepts: \", model.intercept_)"
      ],
      "execution_count": 18,
      "outputs": [
        {
          "output_type": "stream",
          "text": [
            "RMSE is 0.16028549616134788\n",
            "R^2 is 0.8459340041932921\n",
            "coefficients:  [-1.02499545e-04  2.18874643e-06  9.53297459e-02  9.99054358e-02\n",
            " -3.28339990e-06  3.82878068e-05 -2.02527661e-05  1.47516466e-05\n",
            "  1.15021501e-04  2.04357496e-05 -2.72880178e-05  1.08169227e-04\n",
            "  5.04168625e-02  2.61519007e-02  5.24684669e-02  5.76190157e-02\n",
            "  1.62844719e-02  1.31777510e-01  1.00323568e-01  3.41376910e-06\n",
            "  7.42369203e-05  6.22022701e-05  9.64658828e-05  4.67386160e-04\n",
            "  2.72797647e-04 -6.82362856e-04  2.00221391e-02  2.77408812e-03\n",
            "  5.46905807e-02 -1.00613962e-16  3.03840559e-02  4.10941670e-02\n",
            "  5.48404498e-02  3.38690441e-02  7.15261902e-02  1.16471908e-01\n",
            "  6.25426121e-02 -7.17904299e-02 -9.32692500e-02 -2.54276433e-02\n",
            "  1.35901372e-02 -4.21133607e-02  1.11022302e-16 -5.85030766e-02\n",
            " -3.01824788e-02 -7.02910146e-03 -6.72524180e-02  6.72524180e-02\n",
            "  1.16381334e-01  7.33043861e-02  1.29669185e-01  4.85722573e-17\n",
            "  1.79675470e-01  6.16315389e-02  9.02850842e-02  0.00000000e+00\n",
            " -2.43046319e-02  9.59453058e-02  1.42430305e-01 -2.05746615e-03\n",
            " -5.67339964e-03 -1.57136681e-02]\n",
            "intercepts:  9.961633102910236\n"
          ],
          "name": "stdout"
        }
      ]
    },
    {
      "metadata": {
        "id": "_4auvoCwx1cg",
        "colab_type": "code",
        "colab": {}
      },
      "cell_type": "code",
      "source": [
        "# 10 other engineered features\n",
        "\n",
        "X['LotFrontagetoLotArea'] = X['LotFrontage'] / X['LotArea']\n",
        "X['1stFlrSF2ndFlrSFSum'] = X['1stFlrSF'] + X['2ndFlrSF']\n",
        "X['TotalBsmtSFto1stFlrSF2ndFlrSFSum'] = X['TotalBsmtSF'] / X['1stFlrSF2ndFlrSFSum']\n",
        "X['BathSum'] = X['BsmtFullBath'] + X['BsmtHalfBath'] + X['FullBath'] + X['HalfBath']\n",
        "X['PorchSum'] = X['EnclosedPorch'] + X['OpenPorchSF']\n",
        "X['ExterQualSum'] = X['ExterQual_0'] + X['ExterQual_1']  + X['ExterQual_2']\n",
        "X['ExterCondSum'] = X['ExterCond_0'] + X['ExterCond_1']  + X['ExterCond_2'] + X['ExterCond_3']\n",
        "X['ExterCondSumtoExterQualSum'] = X['ExterCondSum'] / X['ExterQualSum']"
      ],
      "execution_count": 0,
      "outputs": []
    },
    {
      "metadata": {
        "id": "w4NpChyk_FZl",
        "colab_type": "code",
        "colab": {
          "base_uri": "https://localhost:8080/",
          "height": 1248
        },
        "outputId": "083ae74e-2d49-4021-c3b9-8b858ecd20c0"
      },
      "cell_type": "code",
      "source": [
        "X.isnull().sum()"
      ],
      "execution_count": 20,
      "outputs": [
        {
          "output_type": "execute_result",
          "data": {
            "text/plain": [
              "LotFrontage                         0\n",
              "LotArea                             0\n",
              "OverallQual                         0\n",
              "OverallCond                         0\n",
              "BsmtFinSF1                          0\n",
              "BsmtFinSF2                          0\n",
              "BsmtUnfSF                           0\n",
              "TotalBsmtSF                         0\n",
              "1stFlrSF                            0\n",
              "2ndFlrSF                            0\n",
              "LowQualFinSF                        0\n",
              "GrLivArea                           0\n",
              "BsmtFullBath                        0\n",
              "BsmtHalfBath                        0\n",
              "FullBath                            0\n",
              "HalfBath                            0\n",
              "TotRmsAbvGrd                        0\n",
              "Fireplaces                          0\n",
              "GarageCars                          0\n",
              "GarageArea                          0\n",
              "WoodDeckSF                          0\n",
              "OpenPorchSF                         0\n",
              "EnclosedPorch                       0\n",
              "3SsnPorch                           0\n",
              "ScreenPorch                         0\n",
              "PoolArea                            0\n",
              "ExterQual_0                         0\n",
              "ExterQual_1                         0\n",
              "ExterQual_2                         0\n",
              "ExterCond_0                         0\n",
              "ExterCond_1                         0\n",
              "ExterCond_2                         0\n",
              "ExterCond_3                         0\n",
              "BsmtQual_0                          0\n",
              "BsmtQual_1                          0\n",
              "BsmtQual_2                          0\n",
              "BsmtCond_0                          0\n",
              "BsmtCond_1                          0\n",
              "BsmtCond_2                          0\n",
              "BsmtExposure_0                      0\n",
              "BsmtExposure_1                      0\n",
              "BsmtExposure_2                      0\n",
              "HeatingQC_0                         0\n",
              "HeatingQC_1                         0\n",
              "HeatingQC_2                         0\n",
              "HeatingQC_3                         0\n",
              "CentralAir_0                        0\n",
              "CentralAir_1                        0\n",
              "KitchenQual_0                       0\n",
              "KitchenQual_1                       0\n",
              "KitchenQual_2                       0\n",
              "GarageQual_0                        0\n",
              "GarageQual_1                        0\n",
              "GarageQual_2                        0\n",
              "GarageQual_3                        0\n",
              "GarageCond_0                        0\n",
              "GarageCond_1                        0\n",
              "GarageCond_2                        0\n",
              "GarageCond_3                        0\n",
              "OverallQual_Sq                      0\n",
              "OverallCond_Sq                      0\n",
              "TotRmsAbvGrd_Fireplaces             0\n",
              "LotFrontagetoLotArea                0\n",
              "1stFlrSF2ndFlrSFSum                 0\n",
              "TotalBsmtSFto1stFlrSF2ndFlrSFSum    0\n",
              "BathSum                             0\n",
              "PorchSum                            0\n",
              "ExterQualSum                        0\n",
              "ExterCondSum                        0\n",
              "ExterCondSumtoExterQualSum          0\n",
              "dtype: int64"
            ]
          },
          "metadata": {
            "tags": []
          },
          "execution_count": 20
        }
      ]
    },
    {
      "metadata": {
        "id": "YfvCvNiS-GeW",
        "colab_type": "code",
        "colab": {
          "base_uri": "https://localhost:8080/",
          "height": 381
        },
        "outputId": "f02dc589-2d9c-4b09-932b-6a3c8065c71a"
      },
      "cell_type": "code",
      "source": [
        "# Slit into test and train datasets\n",
        "X_train, X_test, Y_train, Y_test = train_test_split(X, y, test_size=.5, random_state=42)\n",
        "\n",
        "# fit model using train datasets\n",
        "model = LinearRegression()\n",
        "model.fit(X_train, Y_train)\n",
        "\n",
        "# Create new predictions using x_test\n",
        "y_pred = model.predict(X_test)\n",
        "\n",
        "# Measure Accuracy using y_test and y_pred\n",
        "RMSE = (np.sqrt(mean_squared_error(Y_test, y_pred)))\n",
        "R2 = r2_score(Y_test, y_pred)\n",
        "\n",
        "print('RMSE is {}'.format(RMSE))\n",
        "print('R^2 is {}'.format(R2))\n",
        "\n",
        "print(\"coefficients: \", model.coef_)\n",
        "print(\"intercepts: \", model.intercept_)"
      ],
      "execution_count": 21,
      "outputs": [
        {
          "output_type": "stream",
          "text": [
            "RMSE is 0.1563445754538755\n",
            "R^2 is 0.8534168741802581\n",
            "coefficients:  [ 2.17212490e-04  1.45333487e-06  6.92574390e-02  1.07684990e-01\n",
            " -5.62766519e-05 -1.96385353e-05 -8.48894906e-05 -1.60804652e-04\n",
            "  1.35045560e-04  2.98761142e-05 -7.45394957e-05  9.03821605e-05\n",
            "  5.91610475e-04 -1.89016287e-02  2.29371206e-02  3.25547727e-02\n",
            "  1.27738193e-02  1.40969159e-01  9.65076916e-02 -2.35963489e-05\n",
            "  4.95940717e-05 -6.55860767e-06  5.27240971e-05  4.59010153e-04\n",
            "  2.38376648e-04 -6.03100561e-04  1.70218093e-03 -1.45653804e-02\n",
            "  5.33314207e-02 -1.86517468e-14 -5.21225465e-03  3.91567454e-03\n",
            "  2.67847568e-02  4.92915828e-02  6.76290308e-02  1.12872477e-01\n",
            " -3.79861649e-02 -7.97331703e-02 -9.37738945e-02 -4.12933776e-02\n",
            "  5.15194194e-03 -5.34568844e-02  1.99840144e-14 -4.38053268e-02\n",
            " -2.81155107e-02 -6.35304338e-03 -6.64863146e-02  6.64863146e-02\n",
            "  1.31281920e-01  7.35560737e-02  1.33193928e-01  7.54951657e-15\n",
            "  1.34210964e-01  4.37334087e-02  7.61046093e-02 -4.51721993e-15\n",
            " -1.47425457e-02  9.77897206e-02  1.37526658e-01  8.07335838e-05\n",
            " -6.59562552e-03 -1.73519647e-02 -8.95122778e+00  1.64921700e-04\n",
            "  3.84068763e-01  3.71818752e-02  4.61654855e-05  4.04682212e-02\n",
            "  2.54881767e-02  5.25406608e-03]\n",
            "intercepts:  9.836015053873899\n"
          ],
          "name": "stdout"
        }
      ]
    },
    {
      "metadata": {
        "id": "77yHE9iZAQ-a",
        "colab_type": "code",
        "colab": {}
      },
      "cell_type": "code",
      "source": [
        "\"\"\"\n",
        "[ 2.17212490e-04  1.45333487e-06  6.92574390e-02  1.07684990e-01\n",
        " -5.62766519e-05 -1.96385353e-05 -8.48894906e-05 -1.60804652e-04\n",
        "  1.35045560e-04  2.98761142e-05 -7.45394957e-05  9.03821605e-05\n",
        "  5.91610475e-04 -1.89016287e-02  2.29371206e-02  3.25547727e-02\n",
        "  1.27738193e-02  1.40969159e-01  9.65076916e-02 -2.35963489e-05\n",
        "  4.95940717e-05 -6.55860767e-06  5.27240971e-05  4.59010153e-04\n",
        "  2.38376648e-04 -6.03100561e-04  1.70218093e-03 -1.45653804e-02\n",
        "  5.33314207e-02 -1.86517468e-14 -5.21225465e-03  3.91567454e-03\n",
        "  2.67847568e-02  4.92915828e-02  6.76290308e-02  1.12872477e-01\n",
        " -3.79861649e-02 -7.97331703e-02 -9.37738945e-02 -4.12933776e-02\n",
        "  5.15194194e-03 -5.34568844e-02  1.99840144e-14 -4.38053268e-02\n",
        " -2.81155107e-02 -6.35304338e-03 -6.64863146e-02  6.64863146e-02\n",
        "  1.31281920e-01  7.35560737e-02  1.33193928e-01  7.54951657e-15\n",
        "  1.34210964e-01  4.37334087e-02  7.61046093e-02 -4.51721993e-15\n",
        " -1.47425457e-02  9.77897206e-02  1.37526658e-01  8.07335838e-05\n",
        " -6.59562552e-03 -1.73519647e-02 -8.95122778e+00  1.64921700e-04\n",
        "  3.84068763e-01  3.71818752e-02  4.61654855e-05  4.04682212e-02\n",
        "  2.54881767e-02  5.25406608e-03]\n",
        "  \n",
        "  ['LotFrontage', 'LotArea', 'OverallQual', 'OverallCond', 'BsmtFinSF1',\n",
        "       'BsmtFinSF2', 'BsmtUnfSF', 'TotalBsmtSF', '1stFlrSF', '2ndFlrSF',\n",
        "       'LowQualFinSF', 'GrLivArea', 'BsmtFullBath', 'BsmtHalfBath', 'FullBath',\n",
        "       'HalfBath', 'TotRmsAbvGrd', 'Fireplaces', 'GarageCars', 'GarageArea',\n",
        "       'WoodDeckSF', 'OpenPorchSF', 'EnclosedPorch', '3SsnPorch',\n",
        "       'ScreenPorch', 'PoolArea', 'ExterQual_0', 'ExterQual_1', 'ExterQual_2',\n",
        "       'ExterCond_0', 'ExterCond_1', 'ExterCond_2', 'ExterCond_3',\n",
        "       'BsmtQual_0', 'BsmtQual_1', 'BsmtQual_2', 'BsmtCond_0', 'BsmtCond_1',\n",
        "       'BsmtCond_2', 'BsmtExposure_0', 'BsmtExposure_1', 'BsmtExposure_2',\n",
        "       'HeatingQC_0', 'HeatingQC_1', 'HeatingQC_2', 'HeatingQC_3',\n",
        "       'CentralAir_0', 'CentralAir_1', 'KitchenQual_0', 'KitchenQual_1',\n",
        "       'KitchenQual_2', 'GarageQual_0', 'GarageQual_1', 'GarageQual_2',\n",
        "       'GarageQual_3', 'GarageCond_0', 'GarageCond_1', 'GarageCond_2',\n",
        "       'GarageCond_3', 'OverallQual_Sq', 'OverallCond_Sq',\n",
        "       'TotRmsAbvGrd_Fireplaces', 'LotFrontagetoLotArea',\n",
        "       '1stFlrSF2ndFlrSFSum', 'TotalBsmtSFto1stFlrSF2ndFlrSFSum', 'BathSum',\n",
        "       'PorchSum', 'ExterQualSum', 'ExterCondSum',\n",
        "       'ExterCondSumtoExterQualSum']\n",
        "\"\"\"\n",
        "# Selecting positive co-efficient columns.\n",
        "\n",
        "X_pos = X[['TotalBsmtSFto1stFlrSF2ndFlrSFSum',\n",
        "'Fireplaces',\n",
        "'GarageCond_3',\n",
        "'GarageQual_1',\n",
        "'KitchenQual_2',\n",
        "'KitchenQual_0',\n",
        "'BsmtQual_2',\n",
        "'OverallCond',\n",
        "'GarageCond_2',\n",
        "'GarageCars',\n",
        "'GarageQual_3',\n",
        "'KitchenQual_1',\n",
        "'OverallQual',\n",
        "'BsmtQual_1',\n",
        "'CentralAir_1',\n",
        "'ExterQual_2',\n",
        "'BsmtQual_0',\n",
        "'GarageQual_2',\n",
        "'ExterQualSum',\n",
        "'BathSum',\n",
        "'HalfBath',\n",
        "'ExterCond_3',\n",
        "'ExterCondSum',\n",
        "'FullBath',\n",
        "'TotRmsAbvGrd',\n",
        "'ExterCondSumtoExterQualSum',\n",
        "'BsmtExposure_1',\n",
        "'ExterCond_2',\n",
        "'ExterQual_0',\n",
        "'BsmtFullBath',\n",
        "'3SsnPorch',\n",
        "'ScreenPorch',\n",
        "'LotFrontage',\n",
        "'1stFlrSF2ndFlrSFSum',\n",
        "'1stFlrSF',\n",
        "'GrLivArea',\n",
        "'OverallQual_Sq',\n",
        "'EnclosedPorch',\n",
        "'WoodDeckSF',\n",
        "'PorchSum',\n",
        "'2ndFlrSF',\n",
        "'LotArea',\n",
        "'HeatingQC_0',\n",
        "'GarageQual_0']].copy()"
      ],
      "execution_count": 0,
      "outputs": []
    },
    {
      "metadata": {
        "id": "UAK4Q6YMEMin",
        "colab_type": "code",
        "colab": {
          "base_uri": "https://localhost:8080/",
          "height": 260
        },
        "outputId": "3ccc46ae-0110-4dd7-868e-9bee611294d3"
      },
      "cell_type": "code",
      "source": [
        "# Slit into test and train datasets\n",
        "X_train, X_test, Y_train, Y_test = train_test_split(X_pos, y, test_size=.5, random_state=42)\n",
        "\n",
        "# fit model using train datasets\n",
        "model = LinearRegression()\n",
        "model.fit(X_train, Y_train)\n",
        "\n",
        "# Create new predictions using x_test\n",
        "y_pred = model.predict(X_test)\n",
        "\n",
        "# Measure Accuracy using y_test and y_pred\n",
        "RMSE = (np.sqrt(mean_squared_error(Y_test, y_pred)))\n",
        "R2 = r2_score(Y_test, y_pred)\n",
        "\n",
        "print('RMSE is {}'.format(RMSE))\n",
        "print('R^2 is {}'.format(R2))\n",
        "\n",
        "print(\"coefficients: \", model.coef_)\n",
        "print(\"intercepts: \", model.intercept_)"
      ],
      "execution_count": 24,
      "outputs": [
        {
          "output_type": "stream",
          "text": [
            "RMSE is 0.15380997288210765\n",
            "R^2 is 0.8581310564389882\n",
            "coefficients:  [ 1.05442723e-01  3.41632975e-02  9.18954736e-02  1.51340918e-01\n",
            "  1.19494198e-01  1.12504132e-01  1.43051520e-01  3.76338706e-02\n",
            "  3.28286726e-02  1.03684824e-01  9.45214752e-02  6.94892770e-02\n",
            "  1.01857751e-01  8.93418878e-02  1.46966538e-01  6.64070056e-02\n",
            "  4.37671707e-02  5.45714637e-02 -2.44525458e-02  2.49090046e-02\n",
            "  4.32640451e-02  6.14329872e-02 -1.50394276e-02  3.30300195e-02\n",
            "  1.26452485e-02 -2.81315470e-03  4.10266126e-02  3.54105958e-02\n",
            "  3.16116209e-02  3.17834837e-02  5.23676319e-04  2.22703955e-04\n",
            " -3.31175062e-04  1.24237358e-04  8.99983596e-05 -3.12884099e-05\n",
            " -2.65077458e-03  3.93725168e-05  7.33475664e-05  1.60330515e-05\n",
            "  3.42389980e-05  2.21716212e-06  0.00000000e+00  0.00000000e+00]\n",
            "intercepts:  9.927836752411787\n"
          ],
          "name": "stdout"
        }
      ]
    },
    {
      "metadata": {
        "id": "Uvbg4rRPW2Ex",
        "colab_type": "text"
      },
      "cell_type": "markdown",
      "source": [
        "# Stretch Goals\n",
        "\n",
        "- Write a blog post explaining one of today's topics.\n",
        "- Find a new regression dataset from the UCI machine learning repository and use it to test out your new modeling skillz.\n",
        " [ - UCI Machine Learning Repository - Regression Datasets](https://)\n",
        "- Make a list for yourself of common feature engineering techniques. Browse Kaggle kernels to learn more methods.\n",
        "- Start studying for tomorrow's topic: Gradient Descent\n",
        "- Try and make the ultimate model with this dataset. clean as many features as possible, engineer the most sensible features as possible and see how accurate of a prediction you can make. \n",
        "- Learn about the \"Dummy Variable Trap\" and how it applies to linear regression modeling.\n",
        "- Learning about using linear regression to model time series data"
      ]
    }
  ]
}