{
  "nbformat": 4,
  "nbformat_minor": 0,
  "metadata": {
    "colab": {
      "name": "Polynomial/Log-linear Regression Assignment.ipynb",
      "version": "0.3.2",
      "provenance": [],
      "collapsed_sections": [],
      "include_colab_link": true
    },
    "kernelspec": {
      "name": "python3",
      "display_name": "Python 3"
    }
  },
  "cells": [
    {
      "cell_type": "markdown",
      "metadata": {
        "id": "view-in-github",
        "colab_type": "text"
      },
      "source": [
        "<a href=\"https://colab.research.google.com/github/zangell44/DS-Unit-2-Sprint-2-Linear-Regression/blob/master/module2-polynomial-regression/Polynomial_Log_linear_Regression_Assignment.ipynb\" target=\"_parent\"><img src=\"https://colab.research.google.com/assets/colab-badge.svg\" alt=\"Open In Colab\"/></a>"
      ]
    },
    {
      "metadata": {
        "id": "Dc4kEVNWo4yZ",
        "colab_type": "text"
      },
      "cell_type": "markdown",
      "source": [
        "# Intermediate Linear Regression Practice\n",
        "\n",
        "## Use a Linear Regression model to get the lowest RMSE possible on the following dataset:\n",
        "\n",
        "[Dataset Folder](https://github.com/ryanleeallred/datasets/tree/master/Ames%20Housing%20Data)\n",
        "\n",
        "[Raw CSV](https://raw.githubusercontent.com/ryanleeallred/datasets/master/Ames%20Housing%20Data/train.csv)\n",
        "\n",
        "## You model must include (at least):\n",
        "- A log-transformed y variable\n",
        "- Two polynomial features\n",
        "- One interaction feature\n",
        "- 10 other engineered features\n",
        "\n",
        "What is the lowest Root-Mean-Squared Error that you are able to obtain? Share your best RMSEs in Slack!\n",
        "\n",
        "Notes:\n",
        "\n",
        "There may be some data cleaning that you need to do on some features of this dataset. Linear Regression will only accept numeric values and will not accept\n",
        "\n",
        "Note* There may not be a clear candidate for an interaction term in this dataset. Include one anyway, sometimes it's a good practice for predictive modeling feature engineering in general. "
      ]
    },
    {
      "metadata": {
        "id": "vId4SQTLMMKM",
        "colab_type": "code",
        "colab": {}
      },
      "cell_type": "code",
      "source": [
        "# imports\n",
        "import pandas as pd\n",
        "import numpy as np\n",
        "from sklearn.linear_model import LinearRegression\n",
        "from sklearn.model_selection import train_test_split\n",
        "from sklearn.preprocessing import LabelEncoder\n",
        "from sklearn.preprocessing import OneHotEncoder\n",
        "from sklearn.preprocessing import PolynomialFeatures\n",
        "from sklearn.linear_model import Ridge\n",
        "from sklearn.metrics import mean_squared_error as mse"
      ],
      "execution_count": 0,
      "outputs": []
    },
    {
      "metadata": {
        "id": "XYZSkixpo2qD",
        "colab_type": "code",
        "colab": {
          "base_uri": "https://localhost:8080/",
          "height": 294
        },
        "outputId": "05b5e435-6523-42a1-bbb3-1a23e124e864"
      },
      "cell_type": "code",
      "source": [
        "# data import\n",
        "df_raw = pd.read_csv('https://raw.githubusercontent.com/ryanleeallred/datasets/master/Ames%20Housing%20Data/train.csv', index_col=0)\n",
        "print (df_raw.shape)\n",
        "df_raw.head()"
      ],
      "execution_count": 57,
      "outputs": [
        {
          "output_type": "stream",
          "text": [
            "(1460, 80)\n"
          ],
          "name": "stdout"
        },
        {
          "output_type": "execute_result",
          "data": {
            "text/html": [
              "<div>\n",
              "<style scoped>\n",
              "    .dataframe tbody tr th:only-of-type {\n",
              "        vertical-align: middle;\n",
              "    }\n",
              "\n",
              "    .dataframe tbody tr th {\n",
              "        vertical-align: top;\n",
              "    }\n",
              "\n",
              "    .dataframe thead th {\n",
              "        text-align: right;\n",
              "    }\n",
              "</style>\n",
              "<table border=\"1\" class=\"dataframe\">\n",
              "  <thead>\n",
              "    <tr style=\"text-align: right;\">\n",
              "      <th></th>\n",
              "      <th>MSSubClass</th>\n",
              "      <th>MSZoning</th>\n",
              "      <th>LotFrontage</th>\n",
              "      <th>LotArea</th>\n",
              "      <th>Street</th>\n",
              "      <th>Alley</th>\n",
              "      <th>LotShape</th>\n",
              "      <th>LandContour</th>\n",
              "      <th>Utilities</th>\n",
              "      <th>LotConfig</th>\n",
              "      <th>...</th>\n",
              "      <th>PoolArea</th>\n",
              "      <th>PoolQC</th>\n",
              "      <th>Fence</th>\n",
              "      <th>MiscFeature</th>\n",
              "      <th>MiscVal</th>\n",
              "      <th>MoSold</th>\n",
              "      <th>YrSold</th>\n",
              "      <th>SaleType</th>\n",
              "      <th>SaleCondition</th>\n",
              "      <th>SalePrice</th>\n",
              "    </tr>\n",
              "    <tr>\n",
              "      <th>Id</th>\n",
              "      <th></th>\n",
              "      <th></th>\n",
              "      <th></th>\n",
              "      <th></th>\n",
              "      <th></th>\n",
              "      <th></th>\n",
              "      <th></th>\n",
              "      <th></th>\n",
              "      <th></th>\n",
              "      <th></th>\n",
              "      <th></th>\n",
              "      <th></th>\n",
              "      <th></th>\n",
              "      <th></th>\n",
              "      <th></th>\n",
              "      <th></th>\n",
              "      <th></th>\n",
              "      <th></th>\n",
              "      <th></th>\n",
              "      <th></th>\n",
              "      <th></th>\n",
              "    </tr>\n",
              "  </thead>\n",
              "  <tbody>\n",
              "    <tr>\n",
              "      <th>1</th>\n",
              "      <td>60</td>\n",
              "      <td>RL</td>\n",
              "      <td>65.0</td>\n",
              "      <td>8450</td>\n",
              "      <td>Pave</td>\n",
              "      <td>NaN</td>\n",
              "      <td>Reg</td>\n",
              "      <td>Lvl</td>\n",
              "      <td>AllPub</td>\n",
              "      <td>Inside</td>\n",
              "      <td>...</td>\n",
              "      <td>0</td>\n",
              "      <td>NaN</td>\n",
              "      <td>NaN</td>\n",
              "      <td>NaN</td>\n",
              "      <td>0</td>\n",
              "      <td>2</td>\n",
              "      <td>2008</td>\n",
              "      <td>WD</td>\n",
              "      <td>Normal</td>\n",
              "      <td>208500</td>\n",
              "    </tr>\n",
              "    <tr>\n",
              "      <th>2</th>\n",
              "      <td>20</td>\n",
              "      <td>RL</td>\n",
              "      <td>80.0</td>\n",
              "      <td>9600</td>\n",
              "      <td>Pave</td>\n",
              "      <td>NaN</td>\n",
              "      <td>Reg</td>\n",
              "      <td>Lvl</td>\n",
              "      <td>AllPub</td>\n",
              "      <td>FR2</td>\n",
              "      <td>...</td>\n",
              "      <td>0</td>\n",
              "      <td>NaN</td>\n",
              "      <td>NaN</td>\n",
              "      <td>NaN</td>\n",
              "      <td>0</td>\n",
              "      <td>5</td>\n",
              "      <td>2007</td>\n",
              "      <td>WD</td>\n",
              "      <td>Normal</td>\n",
              "      <td>181500</td>\n",
              "    </tr>\n",
              "    <tr>\n",
              "      <th>3</th>\n",
              "      <td>60</td>\n",
              "      <td>RL</td>\n",
              "      <td>68.0</td>\n",
              "      <td>11250</td>\n",
              "      <td>Pave</td>\n",
              "      <td>NaN</td>\n",
              "      <td>IR1</td>\n",
              "      <td>Lvl</td>\n",
              "      <td>AllPub</td>\n",
              "      <td>Inside</td>\n",
              "      <td>...</td>\n",
              "      <td>0</td>\n",
              "      <td>NaN</td>\n",
              "      <td>NaN</td>\n",
              "      <td>NaN</td>\n",
              "      <td>0</td>\n",
              "      <td>9</td>\n",
              "      <td>2008</td>\n",
              "      <td>WD</td>\n",
              "      <td>Normal</td>\n",
              "      <td>223500</td>\n",
              "    </tr>\n",
              "    <tr>\n",
              "      <th>4</th>\n",
              "      <td>70</td>\n",
              "      <td>RL</td>\n",
              "      <td>60.0</td>\n",
              "      <td>9550</td>\n",
              "      <td>Pave</td>\n",
              "      <td>NaN</td>\n",
              "      <td>IR1</td>\n",
              "      <td>Lvl</td>\n",
              "      <td>AllPub</td>\n",
              "      <td>Corner</td>\n",
              "      <td>...</td>\n",
              "      <td>0</td>\n",
              "      <td>NaN</td>\n",
              "      <td>NaN</td>\n",
              "      <td>NaN</td>\n",
              "      <td>0</td>\n",
              "      <td>2</td>\n",
              "      <td>2006</td>\n",
              "      <td>WD</td>\n",
              "      <td>Abnorml</td>\n",
              "      <td>140000</td>\n",
              "    </tr>\n",
              "    <tr>\n",
              "      <th>5</th>\n",
              "      <td>60</td>\n",
              "      <td>RL</td>\n",
              "      <td>84.0</td>\n",
              "      <td>14260</td>\n",
              "      <td>Pave</td>\n",
              "      <td>NaN</td>\n",
              "      <td>IR1</td>\n",
              "      <td>Lvl</td>\n",
              "      <td>AllPub</td>\n",
              "      <td>FR2</td>\n",
              "      <td>...</td>\n",
              "      <td>0</td>\n",
              "      <td>NaN</td>\n",
              "      <td>NaN</td>\n",
              "      <td>NaN</td>\n",
              "      <td>0</td>\n",
              "      <td>12</td>\n",
              "      <td>2008</td>\n",
              "      <td>WD</td>\n",
              "      <td>Normal</td>\n",
              "      <td>250000</td>\n",
              "    </tr>\n",
              "  </tbody>\n",
              "</table>\n",
              "<p>5 rows × 80 columns</p>\n",
              "</div>"
            ],
            "text/plain": [
              "    MSSubClass MSZoning  LotFrontage  LotArea Street Alley LotShape  \\\n",
              "Id                                                                    \n",
              "1           60       RL         65.0     8450   Pave   NaN      Reg   \n",
              "2           20       RL         80.0     9600   Pave   NaN      Reg   \n",
              "3           60       RL         68.0    11250   Pave   NaN      IR1   \n",
              "4           70       RL         60.0     9550   Pave   NaN      IR1   \n",
              "5           60       RL         84.0    14260   Pave   NaN      IR1   \n",
              "\n",
              "   LandContour Utilities LotConfig    ...     PoolArea PoolQC Fence  \\\n",
              "Id                                    ...                             \n",
              "1          Lvl    AllPub    Inside    ...            0    NaN   NaN   \n",
              "2          Lvl    AllPub       FR2    ...            0    NaN   NaN   \n",
              "3          Lvl    AllPub    Inside    ...            0    NaN   NaN   \n",
              "4          Lvl    AllPub    Corner    ...            0    NaN   NaN   \n",
              "5          Lvl    AllPub       FR2    ...            0    NaN   NaN   \n",
              "\n",
              "   MiscFeature MiscVal MoSold  YrSold  SaleType  SaleCondition  SalePrice  \n",
              "Id                                                                         \n",
              "1          NaN       0      2    2008        WD         Normal     208500  \n",
              "2          NaN       0      5    2007        WD         Normal     181500  \n",
              "3          NaN       0      9    2008        WD         Normal     223500  \n",
              "4          NaN       0      2    2006        WD        Abnorml     140000  \n",
              "5          NaN       0     12    2008        WD         Normal     250000  \n",
              "\n",
              "[5 rows x 80 columns]"
            ]
          },
          "metadata": {
            "tags": []
          },
          "execution_count": 57
        }
      ]
    },
    {
      "metadata": {
        "id": "diWBLoj7P3pw",
        "colab_type": "text"
      },
      "cell_type": "markdown",
      "source": [
        "Data cleaning time!"
      ]
    },
    {
      "metadata": {
        "id": "Lm8g9lBFM4_4",
        "colab_type": "code",
        "colab": {}
      },
      "cell_type": "code",
      "source": [
        "# single out target variable\n",
        "target = 'SalePrice'\n",
        "y = np.log(df_raw[target])\n",
        "X = df_raw.drop([target], axis=1).copy()"
      ],
      "execution_count": 0,
      "outputs": []
    },
    {
      "metadata": {
        "id": "A2XpZtiJP6rF",
        "colab_type": "code",
        "colab": {
          "base_uri": "https://localhost:8080/",
          "height": 34
        },
        "outputId": "7d1863af-585f-4e63-ddaa-0c3f24aed1f7"
      },
      "cell_type": "code",
      "source": [
        "# handling null values\n",
        "pd.options.display.max_rows = 999\n",
        "\n",
        "# for some variables, null seems reasonable to represent the feature not\n",
        "# being present for the property (e.g. no fence or pool)\n",
        "# we will fill these ones with the string 'NA' and OHE\n",
        "explainable_nulls = ['Alley', 'MasVnrType', 'BsmtQual',\n",
        "                    'BsmtCond', 'BsmtExposure', 'BsmtFinType1',\n",
        "                    'BsmtFinType2', 'FireplaceQu', 'GarageType',\n",
        "                    'GarageYrBlt', 'GarageFinish', 'GarageQual',\n",
        "                    'GarageCond', 'PoolQC', 'Fence', 'MiscFeature']\n",
        "\n",
        "X[explainable_nulls] = X[explainable_nulls].copy().fillna(value='None')\n",
        "\n",
        "# fill these with zeroes\n",
        "numeric_nulls = ['LotFrontage', 'MasVnrArea']\n",
        "\n",
        "X[numeric_nulls] = X[numeric_nulls].fillna(0)\n",
        "\n",
        "# fill one null in Electrical with 'Mix'\n",
        "X['Electrical'] = X['Electrical'].fillna('Mix')\n",
        "\n",
        "X.isnull().sum().sum()"
      ],
      "execution_count": 59,
      "outputs": [
        {
          "output_type": "execute_result",
          "data": {
            "text/plain": [
              "0"
            ]
          },
          "metadata": {
            "tags": []
          },
          "execution_count": 59
        }
      ]
    },
    {
      "metadata": {
        "id": "8gGtrlJbNJyD",
        "colab_type": "code",
        "colab": {
          "base_uri": "https://localhost:8080/",
          "height": 227
        },
        "outputId": "119a9f0b-d6a2-4886-88e7-164e6c3dd766"
      },
      "cell_type": "code",
      "source": [
        "# encoding categorical variables\n",
        "categorical = ['MSSubClass', 'MSZoning', 'Street', 'Alley',\n",
        "               'LotShape', 'LandContour', 'Utilities',\n",
        "               'LotConfig', 'LandSlope', 'Neighborhood', \n",
        "               'Condition1', 'Condition2', 'BldgType',\n",
        "               'HouseStyle', 'RoofStyle', 'RoofMatl',\n",
        "               'Exterior1st', 'Exterior2nd', 'ExterQual',\n",
        "               'ExterCond', 'Foundation', 'BsmtQual',\n",
        "               'BsmtCond', 'BsmtExposure', 'BsmtFinType1',\n",
        "               'BsmtFinType2', 'Heating', 'HeatingQC',\n",
        "               'CentralAir', 'Electrical', 'KitchenQual',\n",
        "               'Functional', 'FireplaceQu', 'GarageType',\n",
        "               'GarageFinish', 'GarageQual', 'GarageCond',\n",
        "               'PavedDrive', 'PoolQC', 'Fence', 'MiscFeature',\n",
        "               'MiscVal', 'MoSold', 'SaleType', 'SaleCondition',\n",
        "               'MasVnrType']\n",
        "\n",
        "# one hot encode all categorical variables\n",
        "X_processed = pd.get_dummies(X, prefix_sep=\"__\",\n",
        "                              columns=categorical)\n",
        "obj_df = X_processed.select_dtypes(include=['object']).copy()\n",
        "obj_df.head()"
      ],
      "execution_count": 60,
      "outputs": [
        {
          "output_type": "execute_result",
          "data": {
            "text/html": [
              "<div>\n",
              "<style scoped>\n",
              "    .dataframe tbody tr th:only-of-type {\n",
              "        vertical-align: middle;\n",
              "    }\n",
              "\n",
              "    .dataframe tbody tr th {\n",
              "        vertical-align: top;\n",
              "    }\n",
              "\n",
              "    .dataframe thead th {\n",
              "        text-align: right;\n",
              "    }\n",
              "</style>\n",
              "<table border=\"1\" class=\"dataframe\">\n",
              "  <thead>\n",
              "    <tr style=\"text-align: right;\">\n",
              "      <th></th>\n",
              "      <th>GarageYrBlt</th>\n",
              "    </tr>\n",
              "    <tr>\n",
              "      <th>Id</th>\n",
              "      <th></th>\n",
              "    </tr>\n",
              "  </thead>\n",
              "  <tbody>\n",
              "    <tr>\n",
              "      <th>1</th>\n",
              "      <td>2003</td>\n",
              "    </tr>\n",
              "    <tr>\n",
              "      <th>2</th>\n",
              "      <td>1976</td>\n",
              "    </tr>\n",
              "    <tr>\n",
              "      <th>3</th>\n",
              "      <td>2001</td>\n",
              "    </tr>\n",
              "    <tr>\n",
              "      <th>4</th>\n",
              "      <td>1998</td>\n",
              "    </tr>\n",
              "    <tr>\n",
              "      <th>5</th>\n",
              "      <td>2000</td>\n",
              "    </tr>\n",
              "  </tbody>\n",
              "</table>\n",
              "</div>"
            ],
            "text/plain": [
              "   GarageYrBlt\n",
              "Id            \n",
              "1         2003\n",
              "2         1976\n",
              "3         2001\n",
              "4         1998\n",
              "5         2000"
            ]
          },
          "metadata": {
            "tags": []
          },
          "execution_count": 60
        }
      ]
    },
    {
      "metadata": {
        "id": "7nUad6_hP_OP",
        "colab_type": "code",
        "colab": {
          "base_uri": "https://localhost:8080/",
          "height": 34
        },
        "outputId": "fd86a94c-868a-4bb3-cb8f-ffa40e1c51a6"
      },
      "cell_type": "code",
      "source": [
        "# GarageYrBlt should be encoded as an integer instead\n",
        "# TODO later, this is annoying so im just dropping it\n",
        "X_processed.drop('GarageYrBlt', axis=1, inplace=True)\n",
        "X_values = X_processed.values\n",
        "type(X_values)"
      ],
      "execution_count": 61,
      "outputs": [
        {
          "output_type": "execute_result",
          "data": {
            "text/plain": [
              "numpy.ndarray"
            ]
          },
          "metadata": {
            "tags": []
          },
          "execution_count": 61
        }
      ]
    },
    {
      "metadata": {
        "id": "rOc1G4q_QCBe",
        "colab_type": "text"
      },
      "cell_type": "markdown",
      "source": [
        "Data enhancement / feature engineering time!"
      ]
    },
    {
      "metadata": {
        "id": "_zJcuRE8QFk6",
        "colab_type": "code",
        "colab": {}
      },
      "cell_type": "code",
      "source": [
        "# creating polynomial features\n",
        "# this will create squared features AND interaction features, don't know how\n",
        "# to label this though\n",
        "poly2 = PolynomialFeatures(2)\n",
        "X_poly = poly2.fit_transform(X_values)"
      ],
      "execution_count": 0,
      "outputs": []
    },
    {
      "metadata": {
        "id": "PwFhBcM0X2Pd",
        "colab_type": "code",
        "colab": {}
      },
      "cell_type": "code",
      "source": [
        "# splitting data\n",
        "X_train, X_test, y_train, y_test = train_test_split(X_poly, y,\n",
        "                                                   test_size=0.2,\n",
        "                                                   random_state=100)"
      ],
      "execution_count": 0,
      "outputs": []
    },
    {
      "metadata": {
        "id": "lz4GFPMFP_hx",
        "colab_type": "text"
      },
      "cell_type": "markdown",
      "source": [
        "Time for regression!"
      ]
    },
    {
      "metadata": {
        "id": "devkvv1fX0Z-",
        "colab_type": "code",
        "colab": {
          "base_uri": "https://localhost:8080/",
          "height": 34
        },
        "outputId": "85bdf2a6-9822-4b20-a3f1-d9a02993822c"
      },
      "cell_type": "code",
      "source": [
        "lr = LinearRegression()\n",
        "lr.fit(X_train, y_train)\n",
        "lr.score(X_train, y_train)"
      ],
      "execution_count": 64,
      "outputs": [
        {
          "output_type": "execute_result",
          "data": {
            "text/plain": [
              "1.0"
            ]
          },
          "metadata": {
            "tags": []
          },
          "execution_count": 64
        }
      ]
    },
    {
      "metadata": {
        "id": "8bEYK16bgl9a",
        "colab_type": "text"
      },
      "cell_type": "markdown",
      "source": [
        "Fits perfectly on the training data ... but I suspect it would be overfitting given all the features introduced.\n",
        "\n",
        "Let's see how it does on the test set."
      ]
    },
    {
      "metadata": {
        "id": "6OMj4Mq8glZM",
        "colab_type": "code",
        "colab": {
          "base_uri": "https://localhost:8080/",
          "height": 34
        },
        "outputId": "09370fa6-856d-4920-e7a7-0c0775700a60"
      },
      "cell_type": "code",
      "source": [
        "lr.score(X_test, y_test)"
      ],
      "execution_count": 65,
      "outputs": [
        {
          "output_type": "execute_result",
          "data": {
            "text/plain": [
              "0.3481534263855327"
            ]
          },
          "metadata": {
            "tags": []
          },
          "execution_count": 65
        }
      ]
    },
    {
      "metadata": {
        "id": "3geuoG6dg8Y1",
        "colab_type": "text"
      },
      "cell_type": "markdown",
      "source": [
        "Yep, not so good lol. Only able to explain 34% of variation in the test data. We'll have to introduce some penalties to curb these out of control features."
      ]
    },
    {
      "metadata": {
        "id": "G-UUyHVwg8Gu",
        "colab_type": "code",
        "colab": {
          "base_uri": "https://localhost:8080/",
          "height": 87
        },
        "outputId": "c99d2702-1834-43c0-bf85-2c1c447f0993"
      },
      "cell_type": "code",
      "source": [
        "# Ridge regression\n",
        "ridge = Ridge(alpha=2000000000.0) # alpha has to be pretty large because of our feature count\n",
        "ridge.fit(X_train, y_train)\n",
        "\n",
        "# model scoring\n",
        "print ('Training R^2', ridge.score(X_train, y_train))\n",
        "print ('Test R^2', ridge.score(X_test, y_test))\n",
        "print ('Train RMSE', mse(ridge.predict(X_train), y_train)**0.5)\n",
        "print ('Test RMSE', mse(ridge.predict(X_test), y_test)**0.5)"
      ],
      "execution_count": 67,
      "outputs": [
        {
          "output_type": "stream",
          "text": [
            "Training R^2 0.9544541647953265\n",
            "Test R^2 0.868703764504536\n",
            "Train RMSE 0.08436581824815956\n",
            "Test RMSE 0.15034677981591524\n"
          ],
          "name": "stdout"
        }
      ]
    },
    {
      "metadata": {
        "id": "Uvbg4rRPW2Ex",
        "colab_type": "text"
      },
      "cell_type": "markdown",
      "source": [
        "# Stretch Goals\n",
        "\n",
        "- Write a blog post explaining one of today's topics.\n",
        "- Find a new regression dataset from the UCI machine learning repository and use it to test out your new modeling skillz.\n",
        " [ - UCI Machine Learning Repository - Regression Datasets](https://)\n",
        "- Make a list for yourself of common feature engineering techniques. Browse Kaggle kernels to learn more methods.\n",
        "- Start studying for tomorrow's topic: Gradient Descent\n",
        "- Try and make the ultimate model with this dataset. clean as many features as possible, engineer the most sensible features as possible and see how accurate of a prediction you can make. \n",
        "- Learn about the \"Dummy Variable Trap\" and how it applies to linear regression modeling.\n",
        "- Learning about using linear regression to model time series data"
      ]
    }
  ]
}