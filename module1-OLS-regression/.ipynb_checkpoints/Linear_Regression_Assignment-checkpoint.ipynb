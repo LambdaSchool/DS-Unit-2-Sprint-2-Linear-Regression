{
 "cells": [
  {
   "cell_type": "markdown",
   "metadata": {
    "colab_type": "text",
    "id": "g_AhWOYeMfrH"
   },
   "source": [
    "# King County Housing Data - Linear Regression Assignment\n",
    "\n",
    "Data for this assignment was obtained from Kaggle: <https://www.kaggle.com/harlfoxem/housesalesprediction>\n",
    "\n",
    "Complete the following challenges below to improve iteratively your home price estimation and practice implementing predictive linear regression models. "
   ]
  },
  {
   "cell_type": "markdown",
   "metadata": {
    "colab_type": "text",
    "id": "3kcL7V2SHAkp"
   },
   "source": [
    "# Bivariate Regression\n",
    "\n",
    "Pick the X variable that you think will be the most correlated with Y. \n",
    "\n",
    "Split your dataset into a 50-50 test-train-split (50% of data for training, and 50% for testing).\n",
    "\n",
    "Train a regression model using this single X and single Y variable. Once you have trained the model and obtained its coefficients, plot the points on a graph and fit your line of best fit to the graph.\n",
    "\n",
    "Report your Root Mean Squared Error and R-Squared for this model.\n",
    "\n"
   ]
  },
  {
   "cell_type": "code",
   "execution_count": 86,
   "metadata": {},
   "outputs": [],
   "source": [
    "import numpy as np\n",
    "import pandas as pd\n",
    "import matplotlib.pyplot as plt\n",
    "from sklearn.linear_model import LinearRegression\n",
    "from sklearn.model_selection import train_test_split\n",
    "from sklearn.metrics import mean_squared_error, r2_score"
   ]
  },
  {
   "cell_type": "code",
   "execution_count": 87,
   "metadata": {
    "colab": {
     "base_uri": "https://localhost:8080/",
     "height": 239
    },
    "colab_type": "code",
    "id": "G5gPYOmHMPAW",
    "outputId": "9376e44f-f5a8-4627-bb33-d7a900a018a8"
   },
   "outputs": [
    {
     "name": "stdout",
     "output_type": "stream",
     "text": [
      "(21613, 21)\n"
     ]
    },
    {
     "data": {
      "text/html": [
       "<div>\n",
       "<style scoped>\n",
       "    .dataframe tbody tr th:only-of-type {\n",
       "        vertical-align: middle;\n",
       "    }\n",
       "\n",
       "    .dataframe tbody tr th {\n",
       "        vertical-align: top;\n",
       "    }\n",
       "\n",
       "    .dataframe thead th {\n",
       "        text-align: right;\n",
       "    }\n",
       "</style>\n",
       "<table border=\"1\" class=\"dataframe\">\n",
       "  <thead>\n",
       "    <tr style=\"text-align: right;\">\n",
       "      <th></th>\n",
       "      <th>id</th>\n",
       "      <th>date</th>\n",
       "      <th>price</th>\n",
       "      <th>bedrooms</th>\n",
       "      <th>bathrooms</th>\n",
       "      <th>sqft_living</th>\n",
       "      <th>sqft_lot</th>\n",
       "      <th>floors</th>\n",
       "      <th>waterfront</th>\n",
       "      <th>view</th>\n",
       "      <th>condition</th>\n",
       "      <th>grade</th>\n",
       "      <th>sqft_above</th>\n",
       "      <th>sqft_basement</th>\n",
       "      <th>yr_built</th>\n",
       "      <th>yr_renovated</th>\n",
       "      <th>zipcode</th>\n",
       "      <th>lat</th>\n",
       "      <th>long</th>\n",
       "      <th>sqft_living15</th>\n",
       "      <th>sqft_lot15</th>\n",
       "    </tr>\n",
       "  </thead>\n",
       "  <tbody>\n",
       "    <tr>\n",
       "      <th>0</th>\n",
       "      <td>7129300520</td>\n",
       "      <td>20141013T000000</td>\n",
       "      <td>221900.0</td>\n",
       "      <td>3</td>\n",
       "      <td>1.00</td>\n",
       "      <td>1180</td>\n",
       "      <td>5650</td>\n",
       "      <td>1.0</td>\n",
       "      <td>0</td>\n",
       "      <td>0</td>\n",
       "      <td>3</td>\n",
       "      <td>7</td>\n",
       "      <td>1180</td>\n",
       "      <td>0</td>\n",
       "      <td>1955</td>\n",
       "      <td>0</td>\n",
       "      <td>98178</td>\n",
       "      <td>47.5112</td>\n",
       "      <td>-122.257</td>\n",
       "      <td>1340</td>\n",
       "      <td>5650</td>\n",
       "    </tr>\n",
       "    <tr>\n",
       "      <th>1</th>\n",
       "      <td>6414100192</td>\n",
       "      <td>20141209T000000</td>\n",
       "      <td>538000.0</td>\n",
       "      <td>3</td>\n",
       "      <td>2.25</td>\n",
       "      <td>2570</td>\n",
       "      <td>7242</td>\n",
       "      <td>2.0</td>\n",
       "      <td>0</td>\n",
       "      <td>0</td>\n",
       "      <td>3</td>\n",
       "      <td>7</td>\n",
       "      <td>2170</td>\n",
       "      <td>400</td>\n",
       "      <td>1951</td>\n",
       "      <td>1991</td>\n",
       "      <td>98125</td>\n",
       "      <td>47.7210</td>\n",
       "      <td>-122.319</td>\n",
       "      <td>1690</td>\n",
       "      <td>7639</td>\n",
       "    </tr>\n",
       "    <tr>\n",
       "      <th>2</th>\n",
       "      <td>5631500400</td>\n",
       "      <td>20150225T000000</td>\n",
       "      <td>180000.0</td>\n",
       "      <td>2</td>\n",
       "      <td>1.00</td>\n",
       "      <td>770</td>\n",
       "      <td>10000</td>\n",
       "      <td>1.0</td>\n",
       "      <td>0</td>\n",
       "      <td>0</td>\n",
       "      <td>3</td>\n",
       "      <td>6</td>\n",
       "      <td>770</td>\n",
       "      <td>0</td>\n",
       "      <td>1933</td>\n",
       "      <td>0</td>\n",
       "      <td>98028</td>\n",
       "      <td>47.7379</td>\n",
       "      <td>-122.233</td>\n",
       "      <td>2720</td>\n",
       "      <td>8062</td>\n",
       "    </tr>\n",
       "    <tr>\n",
       "      <th>3</th>\n",
       "      <td>2487200875</td>\n",
       "      <td>20141209T000000</td>\n",
       "      <td>604000.0</td>\n",
       "      <td>4</td>\n",
       "      <td>3.00</td>\n",
       "      <td>1960</td>\n",
       "      <td>5000</td>\n",
       "      <td>1.0</td>\n",
       "      <td>0</td>\n",
       "      <td>0</td>\n",
       "      <td>5</td>\n",
       "      <td>7</td>\n",
       "      <td>1050</td>\n",
       "      <td>910</td>\n",
       "      <td>1965</td>\n",
       "      <td>0</td>\n",
       "      <td>98136</td>\n",
       "      <td>47.5208</td>\n",
       "      <td>-122.393</td>\n",
       "      <td>1360</td>\n",
       "      <td>5000</td>\n",
       "    </tr>\n",
       "    <tr>\n",
       "      <th>4</th>\n",
       "      <td>1954400510</td>\n",
       "      <td>20150218T000000</td>\n",
       "      <td>510000.0</td>\n",
       "      <td>3</td>\n",
       "      <td>2.00</td>\n",
       "      <td>1680</td>\n",
       "      <td>8080</td>\n",
       "      <td>1.0</td>\n",
       "      <td>0</td>\n",
       "      <td>0</td>\n",
       "      <td>3</td>\n",
       "      <td>8</td>\n",
       "      <td>1680</td>\n",
       "      <td>0</td>\n",
       "      <td>1987</td>\n",
       "      <td>0</td>\n",
       "      <td>98074</td>\n",
       "      <td>47.6168</td>\n",
       "      <td>-122.045</td>\n",
       "      <td>1800</td>\n",
       "      <td>7503</td>\n",
       "    </tr>\n",
       "  </tbody>\n",
       "</table>\n",
       "</div>"
      ],
      "text/plain": [
       "           id             date     price  bedrooms  bathrooms  sqft_living  \\\n",
       "0  7129300520  20141013T000000  221900.0         3       1.00         1180   \n",
       "1  6414100192  20141209T000000  538000.0         3       2.25         2570   \n",
       "2  5631500400  20150225T000000  180000.0         2       1.00          770   \n",
       "3  2487200875  20141209T000000  604000.0         4       3.00         1960   \n",
       "4  1954400510  20150218T000000  510000.0         3       2.00         1680   \n",
       "\n",
       "   sqft_lot  floors  waterfront  view  condition  grade  sqft_above  \\\n",
       "0      5650     1.0           0     0          3      7        1180   \n",
       "1      7242     2.0           0     0          3      7        2170   \n",
       "2     10000     1.0           0     0          3      6         770   \n",
       "3      5000     1.0           0     0          5      7        1050   \n",
       "4      8080     1.0           0     0          3      8        1680   \n",
       "\n",
       "   sqft_basement  yr_built  yr_renovated  zipcode      lat     long  \\\n",
       "0              0      1955             0    98178  47.5112 -122.257   \n",
       "1            400      1951          1991    98125  47.7210 -122.319   \n",
       "2              0      1933             0    98028  47.7379 -122.233   \n",
       "3            910      1965             0    98136  47.5208 -122.393   \n",
       "4              0      1987             0    98074  47.6168 -122.045   \n",
       "\n",
       "   sqft_living15  sqft_lot15  \n",
       "0           1340        5650  \n",
       "1           1690        7639  \n",
       "2           2720        8062  \n",
       "3           1360        5000  \n",
       "4           1800        7503  "
      ]
     },
     "execution_count": 87,
     "metadata": {},
     "output_type": "execute_result"
    }
   ],
   "source": [
    "df = pd.read_csv('https://raw.githubusercontent.com/ryanleeallred/datasets/master/kc_house_data.csv')\n",
    "pd.set_option('display.max_columns', 100)\n",
    "print(df.shape)\n",
    "df.head()"
   ]
  },
  {
   "cell_type": "code",
   "execution_count": 88,
   "metadata": {
    "colab": {},
    "colab_type": "code",
    "id": "DhBV6VTZGnQ6"
   },
   "outputs": [
    {
     "name": "stdout",
     "output_type": "stream",
     "text": [
      "(10806, 1)\n",
      "(10807, 1)\n",
      "(10806,)\n",
      "(10807,)\n"
     ]
    }
   ],
   "source": [
    "X = df['bedrooms'].values[:, np.newaxis]\n",
    "y = df['price'].values\n",
    "\n",
    "X_train, X_test, Y_train, Y_test = train_test_split(X, y, test_size=.5, random_state=42)\n",
    "\n",
    "print(X_train.shape)\n",
    "print(X_test.shape)\n",
    "print(Y_train.shape)\n",
    "print(Y_test.shape)"
   ]
  },
  {
   "cell_type": "code",
   "execution_count": 89,
   "metadata": {},
   "outputs": [
    {
     "name": "stdout",
     "output_type": "stream",
     "text": [
      "Slope Coefficient:  121771.49525816698\n",
      "\n",
      "Intercept Value:  127548.13222145278\n"
     ]
    }
   ],
   "source": [
    "model = LinearRegression()\n",
    "model.fit(X_train, Y_train)\n",
    "\n",
    "print(\"Slope Coefficient: \", model.coef_[0])\n",
    "print(\"\\nIntercept Value: \", model.intercept_)"
   ]
  },
  {
   "cell_type": "code",
   "execution_count": 90,
   "metadata": {},
   "outputs": [
    {
     "name": "stdout",
     "output_type": "stream",
     "text": [
      "MSE is 135282270279.38022\n",
      "RMSE is 367807.3820349181\n",
      "R^2 is 0.09177413835874848\n"
     ]
    }
   ],
   "source": [
    "y_test_predict = model.predict(X_test)\n",
    "\n",
    "MSE = mean_squared_error(Y_test, y_test_predict)\n",
    "#RootMSE\n",
    "RMSE = (np.sqrt(mean_squared_error(Y_test, y_test_predict)))\n",
    "\n",
    "print('MSE is {}'.format(MSE))\n",
    "print('RMSE is {}'.format(RMSE))\n",
    "\n",
    "R2 = r2_score(Y_test, y_test_predict)\n",
    "\n",
    "print('R^2 is {}'.format(R2))\n",
    "# A helpful interpretation for the R2 is the percentage of the dependent variable that is explained by the model.\n",
    "# In other words, the R2 is the percentage of y that is explained by the x variables included in the model. \n",
    "# For this reason the R2 is also known as the \"coefficient of determination,\" because it explains how much of y \n",
    "# is explained (or determined) by our x varaibles. We won't go into the calculation of R2 today, just know that a\n",
    "# higher R2 percentage is nearly always better and indicates a model that fits the data more closely. "
   ]
  },
  {
   "cell_type": "code",
   "execution_count": 91,
   "metadata": {},
   "outputs": [
    {
     "data": {
      "image/png": "[encoded data removed]",
      "text/plain": [
       "<Figure size 432x288 with 1 Axes>"
      ]
     },
     "metadata": {
      "needs_background": "light"
     },
     "output_type": "display_data"
    }
   ],
   "source": [
    "m_hat = model.coef_[0]\n",
    "b_hat = model.intercept_\n",
    "\n",
    "# Plot the points\n",
    "plt.scatter(df.bedrooms, df.price)\n",
    "\n",
    "# Plot the line\n",
    "y_hat = [m_hat*x + b_hat for x in X]\n",
    "plt.plot(X, y_hat)\n",
    "\n",
    "# Graph axes and title\n",
    "plt.ylabel(\"Price\")\n",
    "plt.xlabel(\"Bedrooms\")\n",
    "plt.title(\"Number of Bedrooms v.s. House Price\")\n",
    "plt.show()"
   ]
  },
  {
   "cell_type": "markdown",
   "metadata": {
    "colab_type": "text",
    "id": "7Y7hg7wYHGZ4"
   },
   "source": [
    "# Two-variable Multiple Regression\n",
    "\n",
    "To ramp up slowly, pick a second X variable that you think will be the most correlated with Y. \n",
    "\n",
    "Split your dataset into a 50-50 test-train-split (50% of data for training, and 50% for testing).\n",
    "\n",
    "Train a regression model using these two X variables. Once you have trained the model and obtained its coefficients, plot the points on a graph and fit your **plane** of best fit to the graph.\n",
    "\n",
    "Report your Root Mean Squared Error and R-squared for this model."
   ]
  },
  {
   "cell_type": "code",
   "execution_count": 92,
   "metadata": {
    "colab": {},
    "colab_type": "code",
    "id": "Ceoln3RCHPQy"
   },
   "outputs": [
    {
     "name": "stdout",
     "output_type": "stream",
     "text": [
      "(10806, 2)\n",
      "(10807, 2)\n",
      "(10806,)\n",
      "(10807,)\n"
     ]
    }
   ],
   "source": [
    "X = df[['bedrooms','sqft_living']].values\n",
    "y = df['price'].values\n",
    "\n",
    "X_train, X_test, Y_train, Y_test = train_test_split(X, y, test_size=.5, random_state=42)\n",
    "\n",
    "print(X_train.shape)\n",
    "print(X_test.shape)\n",
    "print(Y_train.shape)\n",
    "print(Y_test.shape)"
   ]
  },
  {
   "cell_type": "code",
   "execution_count": 93,
   "metadata": {},
   "outputs": [
    {
     "name": "stdout",
     "output_type": "stream",
     "text": [
      "Slope Coefficient:  [-61633.19206584    304.72984939]\n",
      "\n",
      "Intercept Value:  111190.51860875927\n"
     ]
    }
   ],
   "source": [
    "model = LinearRegression()\n",
    "model.fit(X_train, Y_train)\n",
    "\n",
    "print(\"Slope Coefficient: \", model.coef_)\n",
    "print(\"\\nIntercept Value: \", model.intercept_)"
   ]
  },
  {
   "cell_type": "code",
   "execution_count": 94,
   "metadata": {},
   "outputs": [
    {
     "name": "stdout",
     "output_type": "stream",
     "text": [
      "MSE is 73857406595.95146\n",
      "RMSE is 271767.19190504117\n",
      "R^2 is 0.504153747526068\n"
     ]
    }
   ],
   "source": [
    "y_test_predict = model.predict(X_test)\n",
    "\n",
    "MSE = mean_squared_error(Y_test, y_test_predict)\n",
    "#RootMSE\n",
    "RMSE = (np.sqrt(mean_squared_error(Y_test, y_test_predict)))\n",
    "\n",
    "print('MSE is {}'.format(MSE))\n",
    "print('RMSE is {}'.format(RMSE))\n",
    "\n",
    "R2 = r2_score(Y_test, y_test_predict)\n",
    "\n",
    "print('R^2 is {}'.format(R2))"
   ]
  },
  {
   "cell_type": "code",
   "execution_count": 95,
   "metadata": {},
   "outputs": [
    {
     "name": "stdout",
     "output_type": "stream",
     "text": [
      "111190.51860875927\n",
      "304.7298493882088\n"
     ]
    },
    {
     "data": {
      "image/png": "[encoded data removed]",
      "text/plain": [
       "<Figure size 432x288 with 1 Axes>"
      ]
     },
     "metadata": {
      "needs_background": "light"
     },
     "output_type": "display_data"
    }
   ],
   "source": [
    "from mpl_toolkits.mplot3d import Axes3D\n",
    "\n",
    "beta_0 = model.intercept_\n",
    "beta_i = model.coef_[1]\n",
    "\n",
    "print(beta_0)\n",
    "print(beta_i)\n",
    "\n",
    "fig = plt.figure()\n",
    "ax = fig.add_subplot(111, projection='3d')\n",
    "\n",
    "# Plot Points on 3D plot\n",
    "ax.scatter(df['bedrooms'], df['sqft_living'], y, c='red')\n",
    "\n",
    "# Set axes to size of scatter data\n",
    "x1 = np.array(ax.get_xlim())\n",
    "y1 = np.array(ax.get_ylim())\n",
    "xx, yy = np.meshgrid(x1,y1)\n",
    "zz = beta_i*xx + beta_i*yy + beta_0\n",
    "\n",
    "# Plot Plane\n",
    "plt3d = plt.gca(projection='3d')\n",
    "\n",
    "# Add Opacity to Plane \n",
    "plt3d.plot_surface(xx, yy, zz,alpha=0.5)\n",
    "plt.title(\"Regression Plane\")\n",
    "\n",
    "plt.show()"
   ]
  },
  {
   "cell_type": "markdown",
   "metadata": {
    "colab_type": "text",
    "id": "0LRAjm6sHOy-"
   },
   "source": [
    "# Multiple Regression\n",
    "\n",
    "Now using all available X variables, split your data into test and training datasets, train your model, obtain its coefficients, and report the Root Mean Squared Error and R-squared values."
   ]
  },
  {
   "cell_type": "code",
   "execution_count": 96,
   "metadata": {
    "scrolled": true
   },
   "outputs": [],
   "source": [
    "df.head()\n",
    "df = df.drop('date', axis=1)"
   ]
  },
  {
   "cell_type": "code",
   "execution_count": 105,
   "metadata": {
    "colab": {},
    "colab_type": "code",
    "id": "1gEl3jAyI_-r"
   },
   "outputs": [
    {
     "name": "stdout",
     "output_type": "stream",
     "text": [
      "(10806, 19)\n",
      "(10807, 19)\n",
      "(10806,)\n",
      "(10807,)\n"
     ]
    }
   ],
   "source": [
    "y = df['price'].values\n",
    "X = df.drop('price', axis=1).values\n",
    "\n",
    "\n",
    "X_train, X_test, Y_train, Y_test = train_test_split(X, y, test_size=.5, random_state=42)\n",
    "\n",
    "print(X_train.shape)\n",
    "print(X_test.shape)\n",
    "print(Y_train.shape)\n",
    "print(Y_test.shape)"
   ]
  },
  {
   "cell_type": "code",
   "execution_count": 106,
   "metadata": {},
   "outputs": [
    {
     "name": "stdout",
     "output_type": "stream",
     "text": [
      "Slope Coefficient:  [-2.00506453e-06 -3.41181059e+04  3.97473262e+04  9.89756792e+01\n",
      "  9.32592572e-02  1.00895137e+04  5.72441870e+05  5.38583443e+04\n",
      "  2.45630510e+04  9.96587887e+04  5.99886240e+01  3.89870556e+01\n",
      " -2.48106275e+03  2.10197652e+01 -5.41292831e+02  5.90386757e+05\n",
      " -1.82472792e+05  2.65417221e+01 -3.89604248e-01]\n",
      "\n",
      "Intercept Value:  6923623.5525703225\n"
     ]
    }
   ],
   "source": [
    "model = LinearRegression()\n",
    "model.fit(X_train, Y_train)\n",
    "\n",
    "print(\"Slope Coefficient: \", model.coef_)\n",
    "print(\"\\nIntercept Value: \", model.intercept_)"
   ]
  },
  {
   "cell_type": "code",
   "execution_count": 107,
   "metadata": {},
   "outputs": [
    {
     "name": "stdout",
     "output_type": "stream",
     "text": [
      "MSE is 46543830648.168526\n",
      "RMSE is 215740.19247272523\n",
      "R^2 is 0.6875251235271402\n"
     ]
    }
   ],
   "source": [
    "y_test_predict = model.predict(X_test)\n",
    "\n",
    "MSE = mean_squared_error(Y_test, y_test_predict)\n",
    "#RootMSE\n",
    "RMSE = (np.sqrt(mean_squared_error(Y_test, y_test_predict)))\n",
    "\n",
    "print('MSE is {}'.format(MSE))\n",
    "print('RMSE is {}'.format(RMSE))\n",
    "\n",
    "R2 = r2_score(Y_test, y_test_predict)\n",
    "\n",
    "print('R^2 is {}'.format(R2))"
   ]
  },
  {
   "cell_type": "markdown",
   "metadata": {
    "colab_type": "text",
    "id": "95Ln3VLJJEH_"
   },
   "source": [
    "# Stretch Goals\n",
    "\n",
    "Pick from these stretch goals the tasks that you feel like will be the most beneficial for you. \n",
    "\n",
    "- Explore the concept of $R^2$, learn how it is calculated and how it relates to covariance, correlation, and variance. \n",
    "- Start to research Polynomial Regression and Log-Linear Regression (tomorrow's topics). Find a new regression dataset and try to implement one of these models. \n",
    "- Research \"Feature Engineering\" see what features you can engineer on the above dataset. How much are you able to improve your accuracy with feature engineering?\n",
    "- Further explore the concept of \"Model Validation\" - we'll spend a whole week on this soon. What other measures of model accuracy could we have used besides Root Mean Squared Error?\n",
    "- Write a blog post explaining the basics of Linear Regression.\n",
    "\n",
    "Remember to share your findings in the slack channel. :)\n"
   ]
  }
 ],
 "metadata": {
  "colab": {
   "collapsed_sections": [],
   "name": "Linear Regression Assignment.ipynb",
   "provenance": [],
   "version": "0.3.2"
  },
  "kernelspec": {
   "display_name": "Python 3",
   "language": "python",
   "name": "python3"
  },
  "language_info": {
   "codemirror_mode": {
    "name": "ipython",
    "version": 3
   },
   "file_extension": ".py",
   "mimetype": "text/x-python",
   "name": "python",
   "nbconvert_exporter": "python",
   "pygments_lexer": "ipython3",
   "version": "3.7.0"
  }
 },
 "nbformat": 4,
 "nbformat_minor": 1
}
