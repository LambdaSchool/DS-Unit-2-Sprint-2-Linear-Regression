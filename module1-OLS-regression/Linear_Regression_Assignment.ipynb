{
  "nbformat": 4,
  "nbformat_minor": 0,
  "metadata": {
    "colab": {
      "name": "Linear Regression Assignment.ipynb",
      "version": "0.3.2",
      "provenance": [],
      "collapsed_sections": [],
      "include_colab_link": true
    },
    "kernelspec": {
      "name": "python3",
      "display_name": "Python 3"
    }
  },
  "cells": [
    {
      "cell_type": "markdown",
      "metadata": {
        "id": "view-in-github",
        "colab_type": "text"
      },
      "source": [
        "<a href=\"https://colab.research.google.com/github/macscheffer/DS-Unit-2-Sprint-2-Linear-Regression/blob/master/module1-OLS-regression/Linear_Regression_Assignment.ipynb\" target=\"_parent\"><img src=\"https://colab.research.google.com/assets/colab-badge.svg\" alt=\"Open In Colab\"/></a>"
      ]
    },
    {
      "metadata": {
        "id": "g_AhWOYeMfrH",
        "colab_type": "text"
      },
      "cell_type": "markdown",
      "source": [
        "# King County Housing Data - Linear Regression Assignment\n",
        "\n",
        "Data for this assignment was obtained from Kaggle: <https://www.kaggle.com/harlfoxem/housesalesprediction>\n",
        "\n",
        "Complete the following challenges below to improve iteratively your home price estimation and practice implementing predictive linear regression models. "
      ]
    },
    {
      "metadata": {
        "id": "3kcL7V2SHAkp",
        "colab_type": "text"
      },
      "cell_type": "markdown",
      "source": [
        "# Bivariate Regression\n",
        "\n",
        "Pick the X variable that you think will be the most correlated with Y. \n",
        "\n",
        "Split your dataset into a 50-50 test-train-split (50% of data for training, and 50% for testing).\n",
        "\n",
        "Train a regression model using this single X and single Y variable. Once you have trained the model and obtained its coefficients, plot the points on a graph and fit your line of best fit to the graph.\n",
        "\n",
        "Report your Root Mean Squared Error and R-Squared for this model.\n",
        "\n"
      ]
    },
    {
      "metadata": {
        "id": "G5gPYOmHMPAW",
        "colab_type": "code",
        "outputId": "3c27e4bd-8d0a-442b-c960-7b569210a98e",
        "colab": {
          "base_uri": "https://localhost:8080/",
          "height": 239
        }
      },
      "cell_type": "code",
      "source": [
        "import pandas as pd\n",
        "\n",
        "df = pd.read_csv('https://raw.githubusercontent.com/ryanleeallred/datasets/master/kc_house_data.csv')\n",
        "pd.set_option('display.max_columns', 100)\n",
        "print(df.shape)\n",
        "df.head()"
      ],
      "execution_count": 596,
      "outputs": [
        {
          "output_type": "stream",
          "text": [
            "(21613, 21)\n"
          ],
          "name": "stdout"
        },
        {
          "output_type": "execute_result",
          "data": {
            "text/html": [
              "<div>\n",
              "<style scoped>\n",
              "    .dataframe tbody tr th:only-of-type {\n",
              "        vertical-align: middle;\n",
              "    }\n",
              "\n",
              "    .dataframe tbody tr th {\n",
              "        vertical-align: top;\n",
              "    }\n",
              "\n",
              "    .dataframe thead th {\n",
              "        text-align: right;\n",
              "    }\n",
              "</style>\n",
              "<table border=\"1\" class=\"dataframe\">\n",
              "  <thead>\n",
              "    <tr style=\"text-align: right;\">\n",
              "      <th></th>\n",
              "      <th>id</th>\n",
              "      <th>date</th>\n",
              "      <th>price</th>\n",
              "      <th>bedrooms</th>\n",
              "      <th>bathrooms</th>\n",
              "      <th>sqft_living</th>\n",
              "      <th>sqft_lot</th>\n",
              "      <th>floors</th>\n",
              "      <th>waterfront</th>\n",
              "      <th>view</th>\n",
              "      <th>condition</th>\n",
              "      <th>grade</th>\n",
              "      <th>sqft_above</th>\n",
              "      <th>sqft_basement</th>\n",
              "      <th>yr_built</th>\n",
              "      <th>yr_renovated</th>\n",
              "      <th>zipcode</th>\n",
              "      <th>lat</th>\n",
              "      <th>long</th>\n",
              "      <th>sqft_living15</th>\n",
              "      <th>sqft_lot15</th>\n",
              "    </tr>\n",
              "  </thead>\n",
              "  <tbody>\n",
              "    <tr>\n",
              "      <th>0</th>\n",
              "      <td>7129300520</td>\n",
              "      <td>20141013T000000</td>\n",
              "      <td>221900.0</td>\n",
              "      <td>3</td>\n",
              "      <td>1.00</td>\n",
              "      <td>1180</td>\n",
              "      <td>5650</td>\n",
              "      <td>1.0</td>\n",
              "      <td>0</td>\n",
              "      <td>0</td>\n",
              "      <td>3</td>\n",
              "      <td>7</td>\n",
              "      <td>1180</td>\n",
              "      <td>0</td>\n",
              "      <td>1955</td>\n",
              "      <td>0</td>\n",
              "      <td>98178</td>\n",
              "      <td>47.5112</td>\n",
              "      <td>-122.257</td>\n",
              "      <td>1340</td>\n",
              "      <td>5650</td>\n",
              "    </tr>\n",
              "    <tr>\n",
              "      <th>1</th>\n",
              "      <td>6414100192</td>\n",
              "      <td>20141209T000000</td>\n",
              "      <td>538000.0</td>\n",
              "      <td>3</td>\n",
              "      <td>2.25</td>\n",
              "      <td>2570</td>\n",
              "      <td>7242</td>\n",
              "      <td>2.0</td>\n",
              "      <td>0</td>\n",
              "      <td>0</td>\n",
              "      <td>3</td>\n",
              "      <td>7</td>\n",
              "      <td>2170</td>\n",
              "      <td>400</td>\n",
              "      <td>1951</td>\n",
              "      <td>1991</td>\n",
              "      <td>98125</td>\n",
              "      <td>47.7210</td>\n",
              "      <td>-122.319</td>\n",
              "      <td>1690</td>\n",
              "      <td>7639</td>\n",
              "    </tr>\n",
              "    <tr>\n",
              "      <th>2</th>\n",
              "      <td>5631500400</td>\n",
              "      <td>20150225T000000</td>\n",
              "      <td>180000.0</td>\n",
              "      <td>2</td>\n",
              "      <td>1.00</td>\n",
              "      <td>770</td>\n",
              "      <td>10000</td>\n",
              "      <td>1.0</td>\n",
              "      <td>0</td>\n",
              "      <td>0</td>\n",
              "      <td>3</td>\n",
              "      <td>6</td>\n",
              "      <td>770</td>\n",
              "      <td>0</td>\n",
              "      <td>1933</td>\n",
              "      <td>0</td>\n",
              "      <td>98028</td>\n",
              "      <td>47.7379</td>\n",
              "      <td>-122.233</td>\n",
              "      <td>2720</td>\n",
              "      <td>8062</td>\n",
              "    </tr>\n",
              "    <tr>\n",
              "      <th>3</th>\n",
              "      <td>2487200875</td>\n",
              "      <td>20141209T000000</td>\n",
              "      <td>604000.0</td>\n",
              "      <td>4</td>\n",
              "      <td>3.00</td>\n",
              "      <td>1960</td>\n",
              "      <td>5000</td>\n",
              "      <td>1.0</td>\n",
              "      <td>0</td>\n",
              "      <td>0</td>\n",
              "      <td>5</td>\n",
              "      <td>7</td>\n",
              "      <td>1050</td>\n",
              "      <td>910</td>\n",
              "      <td>1965</td>\n",
              "      <td>0</td>\n",
              "      <td>98136</td>\n",
              "      <td>47.5208</td>\n",
              "      <td>-122.393</td>\n",
              "      <td>1360</td>\n",
              "      <td>5000</td>\n",
              "    </tr>\n",
              "    <tr>\n",
              "      <th>4</th>\n",
              "      <td>1954400510</td>\n",
              "      <td>20150218T000000</td>\n",
              "      <td>510000.0</td>\n",
              "      <td>3</td>\n",
              "      <td>2.00</td>\n",
              "      <td>1680</td>\n",
              "      <td>8080</td>\n",
              "      <td>1.0</td>\n",
              "      <td>0</td>\n",
              "      <td>0</td>\n",
              "      <td>3</td>\n",
              "      <td>8</td>\n",
              "      <td>1680</td>\n",
              "      <td>0</td>\n",
              "      <td>1987</td>\n",
              "      <td>0</td>\n",
              "      <td>98074</td>\n",
              "      <td>47.6168</td>\n",
              "      <td>-122.045</td>\n",
              "      <td>1800</td>\n",
              "      <td>7503</td>\n",
              "    </tr>\n",
              "  </tbody>\n",
              "</table>\n",
              "</div>"
            ],
            "text/plain": [
              "           id             date     price  bedrooms  bathrooms  sqft_living  \\\n",
              "0  7129300520  20141013T000000  221900.0         3       1.00         1180   \n",
              "1  6414100192  20141209T000000  538000.0         3       2.25         2570   \n",
              "2  5631500400  20150225T000000  180000.0         2       1.00          770   \n",
              "3  2487200875  20141209T000000  604000.0         4       3.00         1960   \n",
              "4  1954400510  20150218T000000  510000.0         3       2.00         1680   \n",
              "\n",
              "   sqft_lot  floors  waterfront  view  condition  grade  sqft_above  \\\n",
              "0      5650     1.0           0     0          3      7        1180   \n",
              "1      7242     2.0           0     0          3      7        2170   \n",
              "2     10000     1.0           0     0          3      6         770   \n",
              "3      5000     1.0           0     0          5      7        1050   \n",
              "4      8080     1.0           0     0          3      8        1680   \n",
              "\n",
              "   sqft_basement  yr_built  yr_renovated  zipcode      lat     long  \\\n",
              "0              0      1955             0    98178  47.5112 -122.257   \n",
              "1            400      1951          1991    98125  47.7210 -122.319   \n",
              "2              0      1933             0    98028  47.7379 -122.233   \n",
              "3            910      1965             0    98136  47.5208 -122.393   \n",
              "4              0      1987             0    98074  47.6168 -122.045   \n",
              "\n",
              "   sqft_living15  sqft_lot15  \n",
              "0           1340        5650  \n",
              "1           1690        7639  \n",
              "2           2720        8062  \n",
              "3           1360        5000  \n",
              "4           1800        7503  "
            ]
          },
          "metadata": {
            "tags": []
          },
          "execution_count": 596
        }
      ]
    },
    {
      "metadata": {
        "id": "DhBV6VTZGnQ6",
        "colab_type": "code",
        "colab": {
          "base_uri": "https://localhost:8080/",
          "height": 34
        },
        "outputId": "67513efa-e24d-410b-f36a-4e503ca5f35f"
      },
      "cell_type": "code",
      "source": [
        "from sklearn.model_selection import train_test_split\n",
        "from sklearn.linear_model import LinearRegression\n",
        "from sklearn.metrics import mean_squared_error, r2_score, mean_absolute_error\n",
        "\n",
        "X = df.loc[:, ['sqft_living']].values\n",
        "y = df.loc[:,['price']].values\n",
        "\n",
        "X_train, X_test, y_train, y_test = train_test_split(X, y, test_size=0.5)\n",
        "\n",
        "X_train.shape"
      ],
      "execution_count": 597,
      "outputs": [
        {
          "output_type": "execute_result",
          "data": {
            "text/plain": [
              "(10806, 1)"
            ]
          },
          "metadata": {
            "tags": []
          },
          "execution_count": 597
        }
      ]
    },
    {
      "metadata": {
        "id": "H-KtQcYptakH",
        "colab_type": "code",
        "colab": {}
      },
      "cell_type": "code",
      "source": [
        "\n",
        "lr = LinearRegression()\n",
        "lr.fit(X_train, y_train)\n",
        "\n",
        "\n",
        "oos_pred = lr.predict(X_test)\n",
        "oos_mse = mean_squared_error(y_test, oos_pred)\n",
        "oos_r2 = r2_score(y_test, oos_pred)\n",
        "rmse = (np.sqrt(oos_mse))"
      ],
      "execution_count": 0,
      "outputs": []
    },
    {
      "metadata": {
        "id": "tCfrOuYBuD_Z",
        "colab_type": "code",
        "colab": {
          "base_uri": "https://localhost:8080/",
          "height": 34
        },
        "outputId": "933d02ae-ccaf-4810-aae1-eed2bdd59e9b"
      },
      "cell_type": "code",
      "source": [
        "rmse, oos_mse, oos_r2"
      ],
      "execution_count": 599,
      "outputs": [
        {
          "output_type": "execute_result",
          "data": {
            "text/plain": [
              "(261224.95845114524, 68238478917.80256, 0.4870198997391556)"
            ]
          },
          "metadata": {
            "tags": []
          },
          "execution_count": 599
        }
      ]
    },
    {
      "metadata": {
        "id": "ipoKBINbuQ0z",
        "colab_type": "code",
        "colab": {
          "base_uri": "https://localhost:8080/",
          "height": 34
        },
        "outputId": "99721db1-e58d-4174-8ef6-dc13ca643901"
      },
      "cell_type": "code",
      "source": [
        "# this is pretty bad lol\n",
        "mean_absolute_error"
      ],
      "execution_count": 600,
      "outputs": [
        {
          "output_type": "execute_result",
          "data": {
            "text/plain": [
              "<function sklearn.metrics.regression.mean_absolute_error>"
            ]
          },
          "metadata": {
            "tags": []
          },
          "execution_count": 600
        }
      ]
    },
    {
      "metadata": {
        "id": "GlVrRVCNuuvr",
        "colab_type": "code",
        "colab": {
          "base_uri": "https://localhost:8080/",
          "height": 361
        },
        "outputId": "29efdd9e-3e91-4fe8-ce70-995a8fec0c1b"
      },
      "cell_type": "code",
      "source": [
        "import matplotlib.pyplot as plt\n",
        "import numpy as np\n",
        "\n",
        "fig, ax = plt.subplots()\n",
        "\n",
        "X_plot = np.arange(X_train.min(), X_train.max(), 1)\n",
        "\n",
        "ax.plot(X_plot, lr.predict(X_plot.reshape(-1,1)), c='red', label='Line of Best Fit')\n",
        "plt.scatter(X_train, y_train)\n",
        "\n",
        "plt.xlabel('living sq footage')\n",
        "plt.ylabel('price');"
      ],
      "execution_count": 601,
      "outputs": [
        {
          "output_type": "display_data",
          "data": {
            "image/png": "[encoded data removed]",
            "text/plain": [
              "<Figure size 576x396 with 1 Axes>"
            ]
          },
          "metadata": {
            "tags": []
          }
        }
      ]
    },
    {
      "metadata": {
        "id": "7Y7hg7wYHGZ4",
        "colab_type": "text"
      },
      "cell_type": "markdown",
      "source": [
        "# Two-variable Multiple Regression\n",
        "\n",
        "To ramp up slowly, pick a second X variable that you think will be the most correlated with Y. \n",
        "\n",
        "Split your dataset into a 50-50 test-train-split (50% of data for training, and 50% for testing).\n",
        "\n",
        "Train a regression model using these two X variables. Once you have trained the model and obtained its coefficients, plot the points on a graph and fit your **plane** of best fit to the graph.\n",
        "\n",
        "Report your Root Mean Squared Error and R-squared for this model."
      ]
    },
    {
      "metadata": {
        "id": "Ceoln3RCHPQy",
        "colab_type": "code",
        "colab": {
          "base_uri": "https://localhost:8080/",
          "height": 121
        },
        "outputId": "4b3360e5-ed97-4b53-c7a1-cc2a9c4d2033"
      },
      "cell_type": "code",
      "source": [
        "df.condition.value_counts()"
      ],
      "execution_count": 602,
      "outputs": [
        {
          "output_type": "execute_result",
          "data": {
            "text/plain": [
              "3    14031\n",
              "4     5679\n",
              "5     1701\n",
              "2      172\n",
              "1       30\n",
              "Name: condition, dtype: int64"
            ]
          },
          "metadata": {
            "tags": []
          },
          "execution_count": 602
        }
      ]
    },
    {
      "metadata": {
        "id": "mISxAOzKyFrS",
        "colab_type": "code",
        "colab": {}
      },
      "cell_type": "code",
      "source": [
        "features = ['sqft_living', 'condition']\n",
        "target = 'price'\n",
        "\n",
        "X = df[features]\n",
        "y = df[target]\n",
        "\n",
        "X_train, X_test, y_train, y_test = train_test_split(X, y,test_size=0.5)"
      ],
      "execution_count": 0,
      "outputs": []
    },
    {
      "metadata": {
        "id": "VljWEz5FyTsx",
        "colab_type": "code",
        "colab": {}
      },
      "cell_type": "code",
      "source": [
        "lr = LinearRegression()\n",
        "lr.fit(X_train, y_train)\n",
        "\n",
        "oos_pred = lr.predict(X_test)\n",
        "oos_mse = mean_squared_error(y_test, oos_pred)\n",
        "oos_r2 = r2_score(y_test, oos_pred)\n"
      ],
      "execution_count": 0,
      "outputs": []
    },
    {
      "metadata": {
        "id": "9pO4RDl2yzG7",
        "colab_type": "code",
        "colab": {
          "base_uri": "https://localhost:8080/",
          "height": 34
        },
        "outputId": "c3a4f0c3-bae0-4241-c4f0-a011416ced7b"
      },
      "cell_type": "code",
      "source": [
        "oos_mse, oos_r2"
      ],
      "execution_count": 605,
      "outputs": [
        {
          "output_type": "execute_result",
          "data": {
            "text/plain": [
              "(68182455193.939705, 0.5029530188077118)"
            ]
          },
          "metadata": {
            "tags": []
          },
          "execution_count": 605
        }
      ]
    },
    {
      "metadata": {
        "id": "vfJvywzZy52O",
        "colab_type": "code",
        "colab": {}
      },
      "cell_type": "code",
      "source": [
        "# still pretty bad. "
      ],
      "execution_count": 0,
      "outputs": []
    },
    {
      "metadata": {
        "id": "0LRAjm6sHOy-",
        "colab_type": "text"
      },
      "cell_type": "markdown",
      "source": [
        "# Multiple Regression\n",
        "\n",
        "Now using all available X variables, split your data into test and training datasets, train your model, obtain its coefficients, and report the Root Mean Squared Error and R-squared values."
      ]
    },
    {
      "metadata": {
        "id": "1gEl3jAyI_-r",
        "colab_type": "code",
        "colab": {}
      },
      "cell_type": "code",
      "source": [
        "X = df.drop(columns=['price', 'id', 'date','zipcode', 'yr_renovated','yr_built'])\n",
        "y = df[target]\n",
        "\n",
        "X_train, X_test, y_train, y_test = train_test_split(X, y,test_size=0.5)\n",
        "\n",
        "lr = LinearRegression()\n",
        "lr.fit(X_train, y_train)\n",
        "\n",
        "oos_pred = lr.predict(X_test)\n",
        "oos_mse = mean_squared_error(y_test, oos_pred)\n",
        "oos_r2 = r2_score(y_test, oos_pred)\n"
      ],
      "execution_count": 0,
      "outputs": []
    },
    {
      "metadata": {
        "id": "lFWbvGrQzhw3",
        "colab_type": "code",
        "colab": {
          "base_uri": "https://localhost:8080/",
          "height": 34
        },
        "outputId": "59de5b0d-9e79-4bf1-b7ce-82b235cfad52"
      },
      "cell_type": "code",
      "source": [
        "oos_mse, np.sqrt(oos_mse)"
      ],
      "execution_count": 608,
      "outputs": [
        {
          "output_type": "execute_result",
          "data": {
            "text/plain": [
              "(46420260340.518364, 215453.61528764924)"
            ]
          },
          "metadata": {
            "tags": []
          },
          "execution_count": 608
        }
      ]
    },
    {
      "metadata": {
        "id": "513N3pSpzkxz",
        "colab_type": "code",
        "colab": {
          "base_uri": "https://localhost:8080/",
          "height": 34
        },
        "outputId": "b33042b9-0955-4fd9-f568-ba085ca8287f"
      },
      "cell_type": "code",
      "source": [
        "oos_r2"
      ],
      "execution_count": 609,
      "outputs": [
        {
          "output_type": "execute_result",
          "data": {
            "text/plain": [
              "0.6778685664930686"
            ]
          },
          "metadata": {
            "tags": []
          },
          "execution_count": 609
        }
      ]
    },
    {
      "metadata": {
        "id": "J3QP05TEz2uP",
        "colab_type": "code",
        "colab": {}
      },
      "cell_type": "code",
      "source": [
        "df['yrs_since_built']  = pd.to_datetime(df.date).dt.year - df.yr_built"
      ],
      "execution_count": 0,
      "outputs": []
    },
    {
      "metadata": {
        "id": "xIsFcXAC0S64",
        "colab_type": "code",
        "colab": {
          "base_uri": "https://localhost:8080/",
          "height": 222
        },
        "outputId": "c2cd191c-bb04-4ad1-9cfe-9b55ada620ee"
      },
      "cell_type": "code",
      "source": [
        "df.head()"
      ],
      "execution_count": 611,
      "outputs": [
        {
          "output_type": "execute_result",
          "data": {
            "text/html": [
              "<div>\n",
              "<style scoped>\n",
              "    .dataframe tbody tr th:only-of-type {\n",
              "        vertical-align: middle;\n",
              "    }\n",
              "\n",
              "    .dataframe tbody tr th {\n",
              "        vertical-align: top;\n",
              "    }\n",
              "\n",
              "    .dataframe thead th {\n",
              "        text-align: right;\n",
              "    }\n",
              "</style>\n",
              "<table border=\"1\" class=\"dataframe\">\n",
              "  <thead>\n",
              "    <tr style=\"text-align: right;\">\n",
              "      <th></th>\n",
              "      <th>id</th>\n",
              "      <th>date</th>\n",
              "      <th>price</th>\n",
              "      <th>bedrooms</th>\n",
              "      <th>bathrooms</th>\n",
              "      <th>sqft_living</th>\n",
              "      <th>sqft_lot</th>\n",
              "      <th>floors</th>\n",
              "      <th>waterfront</th>\n",
              "      <th>view</th>\n",
              "      <th>condition</th>\n",
              "      <th>grade</th>\n",
              "      <th>sqft_above</th>\n",
              "      <th>sqft_basement</th>\n",
              "      <th>yr_built</th>\n",
              "      <th>yr_renovated</th>\n",
              "      <th>zipcode</th>\n",
              "      <th>lat</th>\n",
              "      <th>long</th>\n",
              "      <th>sqft_living15</th>\n",
              "      <th>sqft_lot15</th>\n",
              "      <th>yrs_since_built</th>\n",
              "    </tr>\n",
              "  </thead>\n",
              "  <tbody>\n",
              "    <tr>\n",
              "      <th>0</th>\n",
              "      <td>7129300520</td>\n",
              "      <td>20141013T000000</td>\n",
              "      <td>221900.0</td>\n",
              "      <td>3</td>\n",
              "      <td>1.00</td>\n",
              "      <td>1180</td>\n",
              "      <td>5650</td>\n",
              "      <td>1.0</td>\n",
              "      <td>0</td>\n",
              "      <td>0</td>\n",
              "      <td>3</td>\n",
              "      <td>7</td>\n",
              "      <td>1180</td>\n",
              "      <td>0</td>\n",
              "      <td>1955</td>\n",
              "      <td>0</td>\n",
              "      <td>98178</td>\n",
              "      <td>47.5112</td>\n",
              "      <td>-122.257</td>\n",
              "      <td>1340</td>\n",
              "      <td>5650</td>\n",
              "      <td>59</td>\n",
              "    </tr>\n",
              "    <tr>\n",
              "      <th>1</th>\n",
              "      <td>6414100192</td>\n",
              "      <td>20141209T000000</td>\n",
              "      <td>538000.0</td>\n",
              "      <td>3</td>\n",
              "      <td>2.25</td>\n",
              "      <td>2570</td>\n",
              "      <td>7242</td>\n",
              "      <td>2.0</td>\n",
              "      <td>0</td>\n",
              "      <td>0</td>\n",
              "      <td>3</td>\n",
              "      <td>7</td>\n",
              "      <td>2170</td>\n",
              "      <td>400</td>\n",
              "      <td>1951</td>\n",
              "      <td>1991</td>\n",
              "      <td>98125</td>\n",
              "      <td>47.7210</td>\n",
              "      <td>-122.319</td>\n",
              "      <td>1690</td>\n",
              "      <td>7639</td>\n",
              "      <td>63</td>\n",
              "    </tr>\n",
              "    <tr>\n",
              "      <th>2</th>\n",
              "      <td>5631500400</td>\n",
              "      <td>20150225T000000</td>\n",
              "      <td>180000.0</td>\n",
              "      <td>2</td>\n",
              "      <td>1.00</td>\n",
              "      <td>770</td>\n",
              "      <td>10000</td>\n",
              "      <td>1.0</td>\n",
              "      <td>0</td>\n",
              "      <td>0</td>\n",
              "      <td>3</td>\n",
              "      <td>6</td>\n",
              "      <td>770</td>\n",
              "      <td>0</td>\n",
              "      <td>1933</td>\n",
              "      <td>0</td>\n",
              "      <td>98028</td>\n",
              "      <td>47.7379</td>\n",
              "      <td>-122.233</td>\n",
              "      <td>2720</td>\n",
              "      <td>8062</td>\n",
              "      <td>82</td>\n",
              "    </tr>\n",
              "    <tr>\n",
              "      <th>3</th>\n",
              "      <td>2487200875</td>\n",
              "      <td>20141209T000000</td>\n",
              "      <td>604000.0</td>\n",
              "      <td>4</td>\n",
              "      <td>3.00</td>\n",
              "      <td>1960</td>\n",
              "      <td>5000</td>\n",
              "      <td>1.0</td>\n",
              "      <td>0</td>\n",
              "      <td>0</td>\n",
              "      <td>5</td>\n",
              "      <td>7</td>\n",
              "      <td>1050</td>\n",
              "      <td>910</td>\n",
              "      <td>1965</td>\n",
              "      <td>0</td>\n",
              "      <td>98136</td>\n",
              "      <td>47.5208</td>\n",
              "      <td>-122.393</td>\n",
              "      <td>1360</td>\n",
              "      <td>5000</td>\n",
              "      <td>49</td>\n",
              "    </tr>\n",
              "    <tr>\n",
              "      <th>4</th>\n",
              "      <td>1954400510</td>\n",
              "      <td>20150218T000000</td>\n",
              "      <td>510000.0</td>\n",
              "      <td>3</td>\n",
              "      <td>2.00</td>\n",
              "      <td>1680</td>\n",
              "      <td>8080</td>\n",
              "      <td>1.0</td>\n",
              "      <td>0</td>\n",
              "      <td>0</td>\n",
              "      <td>3</td>\n",
              "      <td>8</td>\n",
              "      <td>1680</td>\n",
              "      <td>0</td>\n",
              "      <td>1987</td>\n",
              "      <td>0</td>\n",
              "      <td>98074</td>\n",
              "      <td>47.6168</td>\n",
              "      <td>-122.045</td>\n",
              "      <td>1800</td>\n",
              "      <td>7503</td>\n",
              "      <td>28</td>\n",
              "    </tr>\n",
              "  </tbody>\n",
              "</table>\n",
              "</div>"
            ],
            "text/plain": [
              "           id             date     price  bedrooms  bathrooms  sqft_living  \\\n",
              "0  7129300520  20141013T000000  221900.0         3       1.00         1180   \n",
              "1  6414100192  20141209T000000  538000.0         3       2.25         2570   \n",
              "2  5631500400  20150225T000000  180000.0         2       1.00          770   \n",
              "3  2487200875  20141209T000000  604000.0         4       3.00         1960   \n",
              "4  1954400510  20150218T000000  510000.0         3       2.00         1680   \n",
              "\n",
              "   sqft_lot  floors  waterfront  view  condition  grade  sqft_above  \\\n",
              "0      5650     1.0           0     0          3      7        1180   \n",
              "1      7242     2.0           0     0          3      7        2170   \n",
              "2     10000     1.0           0     0          3      6         770   \n",
              "3      5000     1.0           0     0          5      7        1050   \n",
              "4      8080     1.0           0     0          3      8        1680   \n",
              "\n",
              "   sqft_basement  yr_built  yr_renovated  zipcode      lat     long  \\\n",
              "0              0      1955             0    98178  47.5112 -122.257   \n",
              "1            400      1951          1991    98125  47.7210 -122.319   \n",
              "2              0      1933             0    98028  47.7379 -122.233   \n",
              "3            910      1965             0    98136  47.5208 -122.393   \n",
              "4              0      1987             0    98074  47.6168 -122.045   \n",
              "\n",
              "   sqft_living15  sqft_lot15  yrs_since_built  \n",
              "0           1340        5650               59  \n",
              "1           1690        7639               63  \n",
              "2           2720        8062               82  \n",
              "3           1360        5000               49  \n",
              "4           1800        7503               28  "
            ]
          },
          "metadata": {
            "tags": []
          },
          "execution_count": 611
        }
      ]
    },
    {
      "metadata": {
        "id": "FOOwIilT0jjg",
        "colab_type": "code",
        "colab": {
          "base_uri": "https://localhost:8080/",
          "height": 34
        },
        "outputId": "2de9cd42-b3bc-43bd-aa11-2b6d520c58b8"
      },
      "cell_type": "code",
      "source": [
        "X = df.drop(columns=['price', 'id', 'date', 'zipcode','yr_renovated', 'yr_built'])\n",
        "y = df[target]\n",
        "\n",
        "X_train, X_test, y_train, y_test = train_test_split(X, y,test_size=0.5)\n",
        "\n",
        "lr = LinearRegression()\n",
        "lr.fit(X_train, y_train)\n",
        "\n",
        "oos_pred = lr.predict(X_test)\n",
        "oos_mse = mean_squared_error(y_test, oos_pred)\n",
        "oos_r2 = r2_score(y_test, oos_pred)\n",
        "\n",
        "oos_mse, oos_r2"
      ],
      "execution_count": 612,
      "outputs": [
        {
          "output_type": "execute_result",
          "data": {
            "text/plain": [
              "(39784243856.60301, 0.6978513494456076)"
            ]
          },
          "metadata": {
            "tags": []
          },
          "execution_count": 612
        }
      ]
    },
    {
      "metadata": {
        "id": "_dENy0ln1n0a",
        "colab_type": "code",
        "colab": {
          "base_uri": "https://localhost:8080/",
          "height": 365
        },
        "outputId": "89841617-3594-4994-97e0-260726ed328b"
      },
      "cell_type": "code",
      "source": [
        "plt.scatter(df.yrs_since_built, df.price)"
      ],
      "execution_count": 613,
      "outputs": [
        {
          "output_type": "execute_result",
          "data": {
            "text/plain": [
              "<matplotlib.collections.PathCollection at 0x7f3563142470>"
            ]
          },
          "metadata": {
            "tags": []
          },
          "execution_count": 613
        },
        {
          "output_type": "display_data",
          "data": {
            "image/png": "[encoded data removed]",
            "text/plain": [
              "<Figure size 576x396 with 1 Axes>"
            ]
          },
          "metadata": {
            "tags": []
          }
        }
      ]
    },
    {
      "metadata": {
        "id": "95Ln3VLJJEH_",
        "colab_type": "text"
      },
      "cell_type": "markdown",
      "source": [
        "# Stretch Goals\n",
        "\n",
        "Pick from these stretch goals the tasks that you feel like will be the most beneficial for you. \n",
        "\n",
        "- Explore the concept of $R^2$, learn how it is calculated and how it relates to covariance, correlation, and variance. \n",
        "- Start to research Polynomial Regression and Log-Linear Regression (tomorrow's topics). Find a new regression dataset and try to implement one of these models. \n",
        "- Research \"Feature Engineering\" see what features you can engineer on the above dataset. How much are you able to improve your accuracy with feature engineering?\n",
        "- Further explore the concept of \"Model Validation\" - we'll spend a whole week on this soon. What other measures of model accuracy could we have used besides Root Mean Squared Error?\n",
        "- Write a blog post explaining the basics of Linear Regression.\n",
        "\n",
        "Remember to share your findings in the slack channel. :)\n"
      ]
    },
    {
      "metadata": {
        "id": "JWL30xM7zs8C",
        "colab_type": "code",
        "colab": {
          "base_uri": "https://localhost:8080/",
          "height": 222
        },
        "outputId": "33f780c4-6396-47fe-e90b-55171c7846a9"
      },
      "cell_type": "code",
      "source": [
        "df.head()"
      ],
      "execution_count": 614,
      "outputs": [
        {
          "output_type": "execute_result",
          "data": {
            "text/html": [
              "<div>\n",
              "<style scoped>\n",
              "    .dataframe tbody tr th:only-of-type {\n",
              "        vertical-align: middle;\n",
              "    }\n",
              "\n",
              "    .dataframe tbody tr th {\n",
              "        vertical-align: top;\n",
              "    }\n",
              "\n",
              "    .dataframe thead th {\n",
              "        text-align: right;\n",
              "    }\n",
              "</style>\n",
              "<table border=\"1\" class=\"dataframe\">\n",
              "  <thead>\n",
              "    <tr style=\"text-align: right;\">\n",
              "      <th></th>\n",
              "      <th>id</th>\n",
              "      <th>date</th>\n",
              "      <th>price</th>\n",
              "      <th>bedrooms</th>\n",
              "      <th>bathrooms</th>\n",
              "      <th>sqft_living</th>\n",
              "      <th>sqft_lot</th>\n",
              "      <th>floors</th>\n",
              "      <th>waterfront</th>\n",
              "      <th>view</th>\n",
              "      <th>condition</th>\n",
              "      <th>grade</th>\n",
              "      <th>sqft_above</th>\n",
              "      <th>sqft_basement</th>\n",
              "      <th>yr_built</th>\n",
              "      <th>yr_renovated</th>\n",
              "      <th>zipcode</th>\n",
              "      <th>lat</th>\n",
              "      <th>long</th>\n",
              "      <th>sqft_living15</th>\n",
              "      <th>sqft_lot15</th>\n",
              "      <th>yrs_since_built</th>\n",
              "    </tr>\n",
              "  </thead>\n",
              "  <tbody>\n",
              "    <tr>\n",
              "      <th>0</th>\n",
              "      <td>7129300520</td>\n",
              "      <td>20141013T000000</td>\n",
              "      <td>221900.0</td>\n",
              "      <td>3</td>\n",
              "      <td>1.00</td>\n",
              "      <td>1180</td>\n",
              "      <td>5650</td>\n",
              "      <td>1.0</td>\n",
              "      <td>0</td>\n",
              "      <td>0</td>\n",
              "      <td>3</td>\n",
              "      <td>7</td>\n",
              "      <td>1180</td>\n",
              "      <td>0</td>\n",
              "      <td>1955</td>\n",
              "      <td>0</td>\n",
              "      <td>98178</td>\n",
              "      <td>47.5112</td>\n",
              "      <td>-122.257</td>\n",
              "      <td>1340</td>\n",
              "      <td>5650</td>\n",
              "      <td>59</td>\n",
              "    </tr>\n",
              "    <tr>\n",
              "      <th>1</th>\n",
              "      <td>6414100192</td>\n",
              "      <td>20141209T000000</td>\n",
              "      <td>538000.0</td>\n",
              "      <td>3</td>\n",
              "      <td>2.25</td>\n",
              "      <td>2570</td>\n",
              "      <td>7242</td>\n",
              "      <td>2.0</td>\n",
              "      <td>0</td>\n",
              "      <td>0</td>\n",
              "      <td>3</td>\n",
              "      <td>7</td>\n",
              "      <td>2170</td>\n",
              "      <td>400</td>\n",
              "      <td>1951</td>\n",
              "      <td>1991</td>\n",
              "      <td>98125</td>\n",
              "      <td>47.7210</td>\n",
              "      <td>-122.319</td>\n",
              "      <td>1690</td>\n",
              "      <td>7639</td>\n",
              "      <td>63</td>\n",
              "    </tr>\n",
              "    <tr>\n",
              "      <th>2</th>\n",
              "      <td>5631500400</td>\n",
              "      <td>20150225T000000</td>\n",
              "      <td>180000.0</td>\n",
              "      <td>2</td>\n",
              "      <td>1.00</td>\n",
              "      <td>770</td>\n",
              "      <td>10000</td>\n",
              "      <td>1.0</td>\n",
              "      <td>0</td>\n",
              "      <td>0</td>\n",
              "      <td>3</td>\n",
              "      <td>6</td>\n",
              "      <td>770</td>\n",
              "      <td>0</td>\n",
              "      <td>1933</td>\n",
              "      <td>0</td>\n",
              "      <td>98028</td>\n",
              "      <td>47.7379</td>\n",
              "      <td>-122.233</td>\n",
              "      <td>2720</td>\n",
              "      <td>8062</td>\n",
              "      <td>82</td>\n",
              "    </tr>\n",
              "    <tr>\n",
              "      <th>3</th>\n",
              "      <td>2487200875</td>\n",
              "      <td>20141209T000000</td>\n",
              "      <td>604000.0</td>\n",
              "      <td>4</td>\n",
              "      <td>3.00</td>\n",
              "      <td>1960</td>\n",
              "      <td>5000</td>\n",
              "      <td>1.0</td>\n",
              "      <td>0</td>\n",
              "      <td>0</td>\n",
              "      <td>5</td>\n",
              "      <td>7</td>\n",
              "      <td>1050</td>\n",
              "      <td>910</td>\n",
              "      <td>1965</td>\n",
              "      <td>0</td>\n",
              "      <td>98136</td>\n",
              "      <td>47.5208</td>\n",
              "      <td>-122.393</td>\n",
              "      <td>1360</td>\n",
              "      <td>5000</td>\n",
              "      <td>49</td>\n",
              "    </tr>\n",
              "    <tr>\n",
              "      <th>4</th>\n",
              "      <td>1954400510</td>\n",
              "      <td>20150218T000000</td>\n",
              "      <td>510000.0</td>\n",
              "      <td>3</td>\n",
              "      <td>2.00</td>\n",
              "      <td>1680</td>\n",
              "      <td>8080</td>\n",
              "      <td>1.0</td>\n",
              "      <td>0</td>\n",
              "      <td>0</td>\n",
              "      <td>3</td>\n",
              "      <td>8</td>\n",
              "      <td>1680</td>\n",
              "      <td>0</td>\n",
              "      <td>1987</td>\n",
              "      <td>0</td>\n",
              "      <td>98074</td>\n",
              "      <td>47.6168</td>\n",
              "      <td>-122.045</td>\n",
              "      <td>1800</td>\n",
              "      <td>7503</td>\n",
              "      <td>28</td>\n",
              "    </tr>\n",
              "  </tbody>\n",
              "</table>\n",
              "</div>"
            ],
            "text/plain": [
              "           id             date     price  bedrooms  bathrooms  sqft_living  \\\n",
              "0  7129300520  20141013T000000  221900.0         3       1.00         1180   \n",
              "1  6414100192  20141209T000000  538000.0         3       2.25         2570   \n",
              "2  5631500400  20150225T000000  180000.0         2       1.00          770   \n",
              "3  2487200875  20141209T000000  604000.0         4       3.00         1960   \n",
              "4  1954400510  20150218T000000  510000.0         3       2.00         1680   \n",
              "\n",
              "   sqft_lot  floors  waterfront  view  condition  grade  sqft_above  \\\n",
              "0      5650     1.0           0     0          3      7        1180   \n",
              "1      7242     2.0           0     0          3      7        2170   \n",
              "2     10000     1.0           0     0          3      6         770   \n",
              "3      5000     1.0           0     0          5      7        1050   \n",
              "4      8080     1.0           0     0          3      8        1680   \n",
              "\n",
              "   sqft_basement  yr_built  yr_renovated  zipcode      lat     long  \\\n",
              "0              0      1955             0    98178  47.5112 -122.257   \n",
              "1            400      1951          1991    98125  47.7210 -122.319   \n",
              "2              0      1933             0    98028  47.7379 -122.233   \n",
              "3            910      1965             0    98136  47.5208 -122.393   \n",
              "4              0      1987             0    98074  47.6168 -122.045   \n",
              "\n",
              "   sqft_living15  sqft_lot15  yrs_since_built  \n",
              "0           1340        5650               59  \n",
              "1           1690        7639               63  \n",
              "2           2720        8062               82  \n",
              "3           1360        5000               49  \n",
              "4           1800        7503               28  "
            ]
          },
          "metadata": {
            "tags": []
          },
          "execution_count": 614
        }
      ]
    },
    {
      "metadata": {
        "id": "xSOJL4Gsztfz",
        "colab_type": "code",
        "colab": {
          "base_uri": "https://localhost:8080/",
          "height": 34
        },
        "outputId": "2cd03a80-a4da-4c0e-a57a-cf831e10fb21"
      },
      "cell_type": "code",
      "source": [
        "X = df.loc[:, ['sqft_living']].values\n",
        "y = df.loc[:,['price']].values\n",
        "\n",
        "X_train, X_test, y_train, y_test = train_test_split(X, y, test_size=0.5)\n",
        "\n",
        "X_train.shape\n",
        "\n",
        "lr = LinearRegression()\n",
        "lr.fit(X_train, y_train)\n",
        "\n",
        "\n",
        "oos_pred = lr.predict(X_test)\n",
        "oos_mse = mean_squared_error(y_test, oos_pred)\n",
        "oos_r2 = r2_score(y_test, oos_pred)\n",
        "\n",
        "oos_mse, oos_r2"
      ],
      "execution_count": 615,
      "outputs": [
        {
          "output_type": "execute_result",
          "data": {
            "text/plain": [
              "(70385073896.01672, 0.49479937894746806)"
            ]
          },
          "metadata": {
            "tags": []
          },
          "execution_count": 615
        }
      ]
    },
    {
      "metadata": {
        "id": "MZ7DQZqK2rZD",
        "colab_type": "code",
        "colab": {
          "base_uri": "https://localhost:8080/",
          "height": 368
        },
        "outputId": "0c46ab3f-6a26-46de-b4ca-0d74fde12811"
      },
      "cell_type": "code",
      "source": [
        "df.price.plot.hist()"
      ],
      "execution_count": 616,
      "outputs": [
        {
          "output_type": "execute_result",
          "data": {
            "text/plain": [
              "<matplotlib.axes._subplots.AxesSubplot at 0x7f35630be9b0>"
            ]
          },
          "metadata": {
            "tags": []
          },
          "execution_count": 616
        },
        {
          "output_type": "display_data",
          "data": {
            "image/png": "[encoded data removed]",
            "text/plain": [
              "<Figure size 576x396 with 1 Axes>"
            ]
          },
          "metadata": {
            "tags": []
          }
        }
      ]
    },
    {
      "metadata": {
        "id": "UcFH6g5_23xB",
        "colab_type": "code",
        "colab": {
          "base_uri": "https://localhost:8080/",
          "height": 364
        },
        "outputId": "3c117131-7773-41ef-b510-ec2491388c82"
      },
      "cell_type": "code",
      "source": [
        "np.log(df.price).plot.hist()"
      ],
      "execution_count": 617,
      "outputs": [
        {
          "output_type": "execute_result",
          "data": {
            "text/plain": [
              "<matplotlib.axes._subplots.AxesSubplot at 0x7f35630bea90>"
            ]
          },
          "metadata": {
            "tags": []
          },
          "execution_count": 617
        },
        {
          "output_type": "display_data",
          "data": {
            "image/png": "[encoded data removed]",
            "text/plain": [
              "<Figure size 576x396 with 1 Axes>"
            ]
          },
          "metadata": {
            "tags": []
          }
        }
      ]
    },
    {
      "metadata": {
        "id": "wv60EbWj3Az_",
        "colab_type": "code",
        "colab": {}
      },
      "cell_type": "code",
      "source": [
        "df['log_price'] = np.log(df.price)"
      ],
      "execution_count": 0,
      "outputs": []
    },
    {
      "metadata": {
        "id": "X4JrkZ2h4kxC",
        "colab_type": "code",
        "colab": {}
      },
      "cell_type": "code",
      "source": [
        "df['sqft_living_squared'] = df.sqft_living ** 2\n",
        "df['sqft_living_log'] = np.log(df.sqft_living)"
      ],
      "execution_count": 0,
      "outputs": []
    },
    {
      "metadata": {
        "id": "Y0ZJv6L03MtQ",
        "colab_type": "code",
        "colab": {
          "base_uri": "https://localhost:8080/",
          "height": 34
        },
        "outputId": "89284be2-fae4-4c2d-f0ed-43d9753c4f17"
      },
      "cell_type": "code",
      "source": [
        "# mse, r2 of sq footage on just price (72999180594.88026, 0.4987502186736058)\n",
        "\n",
        "X = df.loc[:, ['sqft_living']].values\n",
        "y = df.loc[:,['log_price']].values\n",
        "\n",
        "X_train, X_test, y_train, y_test = train_test_split(X, y, test_size=0.5)\n",
        "\n",
        "X_train.shape\n",
        "\n",
        "lr = LinearRegression()\n",
        "lr.fit(X_train, y_train)\n",
        "\n",
        "\n",
        "oos_pred = lr.predict(X_test)\n",
        "oos_mse = mean_squared_error(y_test, oos_pred)\n",
        "oos_r2 = r2_score(y_test, oos_pred)\n",
        "rmse = (np.sqrt(oos_mse))\n",
        "rmse ,oos_mse, oos_r2"
      ],
      "execution_count": 620,
      "outputs": [
        {
          "output_type": "execute_result",
          "data": {
            "text/plain": [
              "(0.37746500212035844, 0.14247982782572222, 0.47939984120168155)"
            ]
          },
          "metadata": {
            "tags": []
          },
          "execution_count": 620
        }
      ]
    },
    {
      "metadata": {
        "id": "LuUNf0WS5JEU",
        "colab_type": "code",
        "colab": {
          "base_uri": "https://localhost:8080/",
          "height": 34
        },
        "outputId": "d9a15316-6fde-4410-81b5-3477526e0158"
      },
      "cell_type": "code",
      "source": [
        "# mse, r2 of sq footage on just price (72999180594.88026, 0.4987502186736058)\n",
        "\n",
        "X = df.loc[:, ['sqft_living_squared']].values\n",
        "y = df.loc[:,['price']].values\n",
        "\n",
        "X_train, X_test, y_train, y_test = train_test_split(X, y, test_size=0.5)\n",
        "\n",
        "X_train.shape\n",
        "\n",
        "lr = LinearRegression()\n",
        "lr.fit(X_train, y_train)\n",
        "\n",
        "\n",
        "oos_pred = lr.predict(X_test)\n",
        "oos_mse = mean_squared_error(y_test, oos_pred)\n",
        "oos_r2 = r2_score(y_test, oos_pred)\n",
        "rmse = (np.sqrt(oos_mse))\n",
        "rmse ,oos_mse, oos_r2"
      ],
      "execution_count": 621,
      "outputs": [
        {
          "output_type": "execute_result",
          "data": {
            "text/plain": [
              "(258498.60104127906, 66821526740.29836, 0.505581727784898)"
            ]
          },
          "metadata": {
            "tags": []
          },
          "execution_count": 621
        }
      ]
    },
    {
      "metadata": {
        "id": "rVQZd-xA54mF",
        "colab_type": "code",
        "colab": {
          "base_uri": "https://localhost:8080/",
          "height": 34
        },
        "outputId": "5a66b83d-a7fd-4bee-a5c4-68d126a8f8d5"
      },
      "cell_type": "code",
      "source": [
        "# mse, r2 of sq footage on just price (72999180594.88026, 0.4987502186736058)\n",
        "\n",
        "X = df.loc[:, ['sqft_living_log']].values\n",
        "y = df.loc[:,['log_price']].values\n",
        "\n",
        "X_train, X_test, y_train, y_test = train_test_split(X, y, test_size=0.5)\n",
        "\n",
        "X_train.shape\n",
        "\n",
        "lr = LinearRegression()\n",
        "lr.fit(X_train, y_train)\n",
        "\n",
        "\n",
        "oos_pred = lr.predict(X_test)\n",
        "oos_mse = mean_squared_error(y_test, oos_pred)\n",
        "oos_r2 = r2_score(y_test, oos_pred)\n",
        "rmse = (np.sqrt(oos_mse))\n",
        "rmse ,oos_mse, oos_r2"
      ],
      "execution_count": 622,
      "outputs": [
        {
          "output_type": "execute_result",
          "data": {
            "text/plain": [
              "(0.3893372851442308, 0.1515835216034801, 0.45346658007609963)"
            ]
          },
          "metadata": {
            "tags": []
          },
          "execution_count": 622
        }
      ]
    },
    {
      "metadata": {
        "id": "azf-IzT83qJf",
        "colab_type": "code",
        "colab": {
          "base_uri": "https://localhost:8080/",
          "height": 34
        },
        "outputId": "65d765c2-41ab-461e-bff9-0c0052b0449d"
      },
      "cell_type": "code",
      "source": [
        "# mse, r2 of sq footage on just price (72999180594.88026, 0.4987502186736058)\n",
        "\n",
        "X = df.loc[:, ['grade']].values\n",
        "y = df.loc[:,['log_price']].values\n",
        "\n",
        "X_train, X_test, y_train, y_test = train_test_split(X, y, test_size=0.5)\n",
        "\n",
        "X_train.shape\n",
        "\n",
        "lr = LinearRegression()\n",
        "lr.fit(X_train, y_train)\n",
        "\n",
        "\n",
        "oos_pred = lr.predict(X_test)\n",
        "oos_mse = mean_squared_error(y_test, oos_pred)\n",
        "oos_r2 = r2_score(y_test, oos_pred)\n",
        "rmse = (np.sqrt(oos_mse))\n",
        "rmse ,oos_mse, oos_r2"
      ],
      "execution_count": 623,
      "outputs": [
        {
          "output_type": "execute_result",
          "data": {
            "text/plain": [
              "(0.37370773258540796, 0.1396574693941268, 0.5037659318672449)"
            ]
          },
          "metadata": {
            "tags": []
          },
          "execution_count": 623
        }
      ]
    },
    {
      "metadata": {
        "id": "kzL6Rh5j5rRa",
        "colab_type": "code",
        "colab": {}
      },
      "cell_type": "code",
      "source": [
        "# just exploring. okay lets try to make some good predictions"
      ],
      "execution_count": 0,
      "outputs": []
    },
    {
      "metadata": {
        "id": "6PtbugN66IjA",
        "colab_type": "code",
        "colab": {
          "base_uri": "https://localhost:8080/",
          "height": 222
        },
        "outputId": "fa64bb5a-e99f-4ab6-eff1-ea189a95792c"
      },
      "cell_type": "code",
      "source": [
        "df.head()"
      ],
      "execution_count": 625,
      "outputs": [
        {
          "output_type": "execute_result",
          "data": {
            "text/html": [
              "<div>\n",
              "<style scoped>\n",
              "    .dataframe tbody tr th:only-of-type {\n",
              "        vertical-align: middle;\n",
              "    }\n",
              "\n",
              "    .dataframe tbody tr th {\n",
              "        vertical-align: top;\n",
              "    }\n",
              "\n",
              "    .dataframe thead th {\n",
              "        text-align: right;\n",
              "    }\n",
              "</style>\n",
              "<table border=\"1\" class=\"dataframe\">\n",
              "  <thead>\n",
              "    <tr style=\"text-align: right;\">\n",
              "      <th></th>\n",
              "      <th>id</th>\n",
              "      <th>date</th>\n",
              "      <th>price</th>\n",
              "      <th>bedrooms</th>\n",
              "      <th>bathrooms</th>\n",
              "      <th>sqft_living</th>\n",
              "      <th>sqft_lot</th>\n",
              "      <th>floors</th>\n",
              "      <th>waterfront</th>\n",
              "      <th>view</th>\n",
              "      <th>condition</th>\n",
              "      <th>grade</th>\n",
              "      <th>sqft_above</th>\n",
              "      <th>sqft_basement</th>\n",
              "      <th>yr_built</th>\n",
              "      <th>yr_renovated</th>\n",
              "      <th>zipcode</th>\n",
              "      <th>lat</th>\n",
              "      <th>long</th>\n",
              "      <th>sqft_living15</th>\n",
              "      <th>sqft_lot15</th>\n",
              "      <th>yrs_since_built</th>\n",
              "      <th>log_price</th>\n",
              "      <th>sqft_living_squared</th>\n",
              "      <th>sqft_living_log</th>\n",
              "    </tr>\n",
              "  </thead>\n",
              "  <tbody>\n",
              "    <tr>\n",
              "      <th>0</th>\n",
              "      <td>7129300520</td>\n",
              "      <td>20141013T000000</td>\n",
              "      <td>221900.0</td>\n",
              "      <td>3</td>\n",
              "      <td>1.00</td>\n",
              "      <td>1180</td>\n",
              "      <td>5650</td>\n",
              "      <td>1.0</td>\n",
              "      <td>0</td>\n",
              "      <td>0</td>\n",
              "      <td>3</td>\n",
              "      <td>7</td>\n",
              "      <td>1180</td>\n",
              "      <td>0</td>\n",
              "      <td>1955</td>\n",
              "      <td>0</td>\n",
              "      <td>98178</td>\n",
              "      <td>47.5112</td>\n",
              "      <td>-122.257</td>\n",
              "      <td>1340</td>\n",
              "      <td>5650</td>\n",
              "      <td>59</td>\n",
              "      <td>12.309982</td>\n",
              "      <td>1392400</td>\n",
              "      <td>7.073270</td>\n",
              "    </tr>\n",
              "    <tr>\n",
              "      <th>1</th>\n",
              "      <td>6414100192</td>\n",
              "      <td>20141209T000000</td>\n",
              "      <td>538000.0</td>\n",
              "      <td>3</td>\n",
              "      <td>2.25</td>\n",
              "      <td>2570</td>\n",
              "      <td>7242</td>\n",
              "      <td>2.0</td>\n",
              "      <td>0</td>\n",
              "      <td>0</td>\n",
              "      <td>3</td>\n",
              "      <td>7</td>\n",
              "      <td>2170</td>\n",
              "      <td>400</td>\n",
              "      <td>1951</td>\n",
              "      <td>1991</td>\n",
              "      <td>98125</td>\n",
              "      <td>47.7210</td>\n",
              "      <td>-122.319</td>\n",
              "      <td>1690</td>\n",
              "      <td>7639</td>\n",
              "      <td>63</td>\n",
              "      <td>13.195614</td>\n",
              "      <td>6604900</td>\n",
              "      <td>7.851661</td>\n",
              "    </tr>\n",
              "    <tr>\n",
              "      <th>2</th>\n",
              "      <td>5631500400</td>\n",
              "      <td>20150225T000000</td>\n",
              "      <td>180000.0</td>\n",
              "      <td>2</td>\n",
              "      <td>1.00</td>\n",
              "      <td>770</td>\n",
              "      <td>10000</td>\n",
              "      <td>1.0</td>\n",
              "      <td>0</td>\n",
              "      <td>0</td>\n",
              "      <td>3</td>\n",
              "      <td>6</td>\n",
              "      <td>770</td>\n",
              "      <td>0</td>\n",
              "      <td>1933</td>\n",
              "      <td>0</td>\n",
              "      <td>98028</td>\n",
              "      <td>47.7379</td>\n",
              "      <td>-122.233</td>\n",
              "      <td>2720</td>\n",
              "      <td>8062</td>\n",
              "      <td>82</td>\n",
              "      <td>12.100712</td>\n",
              "      <td>592900</td>\n",
              "      <td>6.646391</td>\n",
              "    </tr>\n",
              "    <tr>\n",
              "      <th>3</th>\n",
              "      <td>2487200875</td>\n",
              "      <td>20141209T000000</td>\n",
              "      <td>604000.0</td>\n",
              "      <td>4</td>\n",
              "      <td>3.00</td>\n",
              "      <td>1960</td>\n",
              "      <td>5000</td>\n",
              "      <td>1.0</td>\n",
              "      <td>0</td>\n",
              "      <td>0</td>\n",
              "      <td>5</td>\n",
              "      <td>7</td>\n",
              "      <td>1050</td>\n",
              "      <td>910</td>\n",
              "      <td>1965</td>\n",
              "      <td>0</td>\n",
              "      <td>98136</td>\n",
              "      <td>47.5208</td>\n",
              "      <td>-122.393</td>\n",
              "      <td>1360</td>\n",
              "      <td>5000</td>\n",
              "      <td>49</td>\n",
              "      <td>13.311329</td>\n",
              "      <td>3841600</td>\n",
              "      <td>7.580700</td>\n",
              "    </tr>\n",
              "    <tr>\n",
              "      <th>4</th>\n",
              "      <td>1954400510</td>\n",
              "      <td>20150218T000000</td>\n",
              "      <td>510000.0</td>\n",
              "      <td>3</td>\n",
              "      <td>2.00</td>\n",
              "      <td>1680</td>\n",
              "      <td>8080</td>\n",
              "      <td>1.0</td>\n",
              "      <td>0</td>\n",
              "      <td>0</td>\n",
              "      <td>3</td>\n",
              "      <td>8</td>\n",
              "      <td>1680</td>\n",
              "      <td>0</td>\n",
              "      <td>1987</td>\n",
              "      <td>0</td>\n",
              "      <td>98074</td>\n",
              "      <td>47.6168</td>\n",
              "      <td>-122.045</td>\n",
              "      <td>1800</td>\n",
              "      <td>7503</td>\n",
              "      <td>28</td>\n",
              "      <td>13.142166</td>\n",
              "      <td>2822400</td>\n",
              "      <td>7.426549</td>\n",
              "    </tr>\n",
              "  </tbody>\n",
              "</table>\n",
              "</div>"
            ],
            "text/plain": [
              "           id             date     price  bedrooms  bathrooms  sqft_living  \\\n",
              "0  7129300520  20141013T000000  221900.0         3       1.00         1180   \n",
              "1  6414100192  20141209T000000  538000.0         3       2.25         2570   \n",
              "2  5631500400  20150225T000000  180000.0         2       1.00          770   \n",
              "3  2487200875  20141209T000000  604000.0         4       3.00         1960   \n",
              "4  1954400510  20150218T000000  510000.0         3       2.00         1680   \n",
              "\n",
              "   sqft_lot  floors  waterfront  view  condition  grade  sqft_above  \\\n",
              "0      5650     1.0           0     0          3      7        1180   \n",
              "1      7242     2.0           0     0          3      7        2170   \n",
              "2     10000     1.0           0     0          3      6         770   \n",
              "3      5000     1.0           0     0          5      7        1050   \n",
              "4      8080     1.0           0     0          3      8        1680   \n",
              "\n",
              "   sqft_basement  yr_built  yr_renovated  zipcode      lat     long  \\\n",
              "0              0      1955             0    98178  47.5112 -122.257   \n",
              "1            400      1951          1991    98125  47.7210 -122.319   \n",
              "2              0      1933             0    98028  47.7379 -122.233   \n",
              "3            910      1965             0    98136  47.5208 -122.393   \n",
              "4              0      1987             0    98074  47.6168 -122.045   \n",
              "\n",
              "   sqft_living15  sqft_lot15  yrs_since_built  log_price  sqft_living_squared  \\\n",
              "0           1340        5650               59  12.309982              1392400   \n",
              "1           1690        7639               63  13.195614              6604900   \n",
              "2           2720        8062               82  12.100712               592900   \n",
              "3           1360        5000               49  13.311329              3841600   \n",
              "4           1800        7503               28  13.142166              2822400   \n",
              "\n",
              "   sqft_living_log  \n",
              "0         7.073270  \n",
              "1         7.851661  \n",
              "2         6.646391  \n",
              "3         7.580700  \n",
              "4         7.426549  "
            ]
          },
          "metadata": {
            "tags": []
          },
          "execution_count": 625
        }
      ]
    },
    {
      "metadata": {
        "id": "919XxAYl6JqK",
        "colab_type": "code",
        "colab": {}
      },
      "cell_type": "code",
      "source": [
        "# test one: \n",
        "  # sqft_living_squared => 245,040 RMSE"
      ],
      "execution_count": 0,
      "outputs": []
    },
    {
      "metadata": {
        "id": "UPkAa_qN7RrH",
        "colab_type": "code",
        "colab": {
          "base_uri": "https://localhost:8080/",
          "height": 364
        },
        "outputId": "976fc3b6-cdf7-427f-a01d-8ba26a32d465"
      },
      "cell_type": "code",
      "source": [
        "plt.scatter(df.bedrooms, df.log_price)"
      ],
      "execution_count": 627,
      "outputs": [
        {
          "output_type": "execute_result",
          "data": {
            "text/plain": [
              "<matplotlib.collections.PathCollection at 0x7f3562f523c8>"
            ]
          },
          "metadata": {
            "tags": []
          },
          "execution_count": 627
        },
        {
          "output_type": "display_data",
          "data": {
            "image/png": "[encoded data removed]",
            "text/plain": [
              "<Figure size 576x396 with 1 Axes>"
            ]
          },
          "metadata": {
            "tags": []
          }
        }
      ]
    },
    {
      "metadata": {
        "id": "g4ItpQIh7uyy",
        "colab_type": "code",
        "colab": {
          "base_uri": "https://localhost:8080/",
          "height": 365
        },
        "outputId": "3fe16b6a-0762-47bb-e33a-d58c1313627c"
      },
      "cell_type": "code",
      "source": [
        "plt.scatter(df.bedrooms, df.price)"
      ],
      "execution_count": 628,
      "outputs": [
        {
          "output_type": "execute_result",
          "data": {
            "text/plain": [
              "<matplotlib.collections.PathCollection at 0x7f3562f25dd8>"
            ]
          },
          "metadata": {
            "tags": []
          },
          "execution_count": 628
        },
        {
          "output_type": "display_data",
          "data": {
            "image/png": "[encoded data removed]",
            "text/plain": [
              "<Figure size 576x396 with 1 Axes>"
            ]
          },
          "metadata": {
            "tags": []
          }
        }
      ]
    },
    {
      "metadata": {
        "id": "XSZsN4LI8FhF",
        "colab_type": "code",
        "colab": {
          "base_uri": "https://localhost:8080/",
          "height": 364
        },
        "outputId": "ddbbf4c5-4e10-48c1-d35d-e8e838b7f78f"
      },
      "cell_type": "code",
      "source": [
        "plt.scatter(df.grade, df.log_price)"
      ],
      "execution_count": 629,
      "outputs": [
        {
          "output_type": "execute_result",
          "data": {
            "text/plain": [
              "<matplotlib.collections.PathCollection at 0x7f3562e8e630>"
            ]
          },
          "metadata": {
            "tags": []
          },
          "execution_count": 629
        },
        {
          "output_type": "display_data",
          "data": {
            "image/png": "[encoded data removed]",
            "text/plain": [
              "<Figure size 576x396 with 1 Axes>"
            ]
          },
          "metadata": {
            "tags": []
          }
        }
      ]
    },
    {
      "metadata": {
        "id": "mR1BBYo98b6S",
        "colab_type": "code",
        "colab": {}
      },
      "cell_type": "code",
      "source": [
        "df['grade_squared'] = df.grade ** 2"
      ],
      "execution_count": 0,
      "outputs": []
    },
    {
      "metadata": {
        "id": "ExVdBRYK8KEY",
        "colab_type": "code",
        "colab": {
          "base_uri": "https://localhost:8080/",
          "height": 34
        },
        "outputId": "00a7369f-ca94-4586-a19b-45ffe79916b8"
      },
      "cell_type": "code",
      "source": [
        "features = ['sqft_living_squared', 'grade_squared']\n",
        "target = 'price'\n",
        "\n",
        "X = df[features]\n",
        "y = df[target]\n",
        "\n",
        "X_train, X_test, y_train, y_test = train_test_split(X, y,test_size=0.5)\n",
        "\n",
        "lr = LinearRegression()\n",
        "lr.fit(X_train, y_train)\n",
        "\n",
        "oos_pred = lr.predict(X_test)\n",
        "oos_mse = mean_squared_error(y_test, oos_pred)\n",
        "oos_r2 = r2_score(y_test, oos_pred)\n",
        "rmse = (np.sqrt(oos_mse))\n",
        "rmse ,oos_mse, oos_r2"
      ],
      "execution_count": 631,
      "outputs": [
        {
          "output_type": "execute_result",
          "data": {
            "text/plain": [
              "(241482.98542434824, 58314032249.45598, 0.5884827828273065)"
            ]
          },
          "metadata": {
            "tags": []
          },
          "execution_count": 631
        }
      ]
    },
    {
      "metadata": {
        "id": "CTTaZUIc8lw2",
        "colab_type": "code",
        "colab": {}
      },
      "cell_type": "code",
      "source": [
        "# test one: \n",
        "  # sqft_living_squared\n",
        "    # 245,040 RMSE\n",
        "\n",
        "# test two:\n",
        "  # 'sqft_living_squared', 'grade_squared'\n",
        "    # 236,500 RMSE\n",
        "    "
      ],
      "execution_count": 0,
      "outputs": []
    },
    {
      "metadata": {
        "id": "lc611bJU-rT0",
        "colab_type": "code",
        "colab": {
          "base_uri": "https://localhost:8080/",
          "height": 222
        },
        "outputId": "3eb24d26-4229-4f16-bc9c-c2fa1e1b898c"
      },
      "cell_type": "code",
      "source": [
        "df.head()"
      ],
      "execution_count": 632,
      "outputs": [
        {
          "output_type": "execute_result",
          "data": {
            "text/html": [
              "<div>\n",
              "<style scoped>\n",
              "    .dataframe tbody tr th:only-of-type {\n",
              "        vertical-align: middle;\n",
              "    }\n",
              "\n",
              "    .dataframe tbody tr th {\n",
              "        vertical-align: top;\n",
              "    }\n",
              "\n",
              "    .dataframe thead th {\n",
              "        text-align: right;\n",
              "    }\n",
              "</style>\n",
              "<table border=\"1\" class=\"dataframe\">\n",
              "  <thead>\n",
              "    <tr style=\"text-align: right;\">\n",
              "      <th></th>\n",
              "      <th>id</th>\n",
              "      <th>date</th>\n",
              "      <th>price</th>\n",
              "      <th>bedrooms</th>\n",
              "      <th>bathrooms</th>\n",
              "      <th>sqft_living</th>\n",
              "      <th>sqft_lot</th>\n",
              "      <th>floors</th>\n",
              "      <th>waterfront</th>\n",
              "      <th>view</th>\n",
              "      <th>condition</th>\n",
              "      <th>grade</th>\n",
              "      <th>sqft_above</th>\n",
              "      <th>sqft_basement</th>\n",
              "      <th>yr_built</th>\n",
              "      <th>yr_renovated</th>\n",
              "      <th>zipcode</th>\n",
              "      <th>lat</th>\n",
              "      <th>long</th>\n",
              "      <th>sqft_living15</th>\n",
              "      <th>sqft_lot15</th>\n",
              "      <th>yrs_since_built</th>\n",
              "      <th>log_price</th>\n",
              "      <th>sqft_living_squared</th>\n",
              "      <th>sqft_living_log</th>\n",
              "      <th>grade_squared</th>\n",
              "    </tr>\n",
              "  </thead>\n",
              "  <tbody>\n",
              "    <tr>\n",
              "      <th>0</th>\n",
              "      <td>7129300520</td>\n",
              "      <td>20141013T000000</td>\n",
              "      <td>221900.0</td>\n",
              "      <td>3</td>\n",
              "      <td>1.00</td>\n",
              "      <td>1180</td>\n",
              "      <td>5650</td>\n",
              "      <td>1.0</td>\n",
              "      <td>0</td>\n",
              "      <td>0</td>\n",
              "      <td>3</td>\n",
              "      <td>7</td>\n",
              "      <td>1180</td>\n",
              "      <td>0</td>\n",
              "      <td>1955</td>\n",
              "      <td>0</td>\n",
              "      <td>98178</td>\n",
              "      <td>47.5112</td>\n",
              "      <td>-122.257</td>\n",
              "      <td>1340</td>\n",
              "      <td>5650</td>\n",
              "      <td>59</td>\n",
              "      <td>12.309982</td>\n",
              "      <td>1392400</td>\n",
              "      <td>7.073270</td>\n",
              "      <td>49</td>\n",
              "    </tr>\n",
              "    <tr>\n",
              "      <th>1</th>\n",
              "      <td>6414100192</td>\n",
              "      <td>20141209T000000</td>\n",
              "      <td>538000.0</td>\n",
              "      <td>3</td>\n",
              "      <td>2.25</td>\n",
              "      <td>2570</td>\n",
              "      <td>7242</td>\n",
              "      <td>2.0</td>\n",
              "      <td>0</td>\n",
              "      <td>0</td>\n",
              "      <td>3</td>\n",
              "      <td>7</td>\n",
              "      <td>2170</td>\n",
              "      <td>400</td>\n",
              "      <td>1951</td>\n",
              "      <td>1991</td>\n",
              "      <td>98125</td>\n",
              "      <td>47.7210</td>\n",
              "      <td>-122.319</td>\n",
              "      <td>1690</td>\n",
              "      <td>7639</td>\n",
              "      <td>63</td>\n",
              "      <td>13.195614</td>\n",
              "      <td>6604900</td>\n",
              "      <td>7.851661</td>\n",
              "      <td>49</td>\n",
              "    </tr>\n",
              "    <tr>\n",
              "      <th>2</th>\n",
              "      <td>5631500400</td>\n",
              "      <td>20150225T000000</td>\n",
              "      <td>180000.0</td>\n",
              "      <td>2</td>\n",
              "      <td>1.00</td>\n",
              "      <td>770</td>\n",
              "      <td>10000</td>\n",
              "      <td>1.0</td>\n",
              "      <td>0</td>\n",
              "      <td>0</td>\n",
              "      <td>3</td>\n",
              "      <td>6</td>\n",
              "      <td>770</td>\n",
              "      <td>0</td>\n",
              "      <td>1933</td>\n",
              "      <td>0</td>\n",
              "      <td>98028</td>\n",
              "      <td>47.7379</td>\n",
              "      <td>-122.233</td>\n",
              "      <td>2720</td>\n",
              "      <td>8062</td>\n",
              "      <td>82</td>\n",
              "      <td>12.100712</td>\n",
              "      <td>592900</td>\n",
              "      <td>6.646391</td>\n",
              "      <td>36</td>\n",
              "    </tr>\n",
              "    <tr>\n",
              "      <th>3</th>\n",
              "      <td>2487200875</td>\n",
              "      <td>20141209T000000</td>\n",
              "      <td>604000.0</td>\n",
              "      <td>4</td>\n",
              "      <td>3.00</td>\n",
              "      <td>1960</td>\n",
              "      <td>5000</td>\n",
              "      <td>1.0</td>\n",
              "      <td>0</td>\n",
              "      <td>0</td>\n",
              "      <td>5</td>\n",
              "      <td>7</td>\n",
              "      <td>1050</td>\n",
              "      <td>910</td>\n",
              "      <td>1965</td>\n",
              "      <td>0</td>\n",
              "      <td>98136</td>\n",
              "      <td>47.5208</td>\n",
              "      <td>-122.393</td>\n",
              "      <td>1360</td>\n",
              "      <td>5000</td>\n",
              "      <td>49</td>\n",
              "      <td>13.311329</td>\n",
              "      <td>3841600</td>\n",
              "      <td>7.580700</td>\n",
              "      <td>49</td>\n",
              "    </tr>\n",
              "    <tr>\n",
              "      <th>4</th>\n",
              "      <td>1954400510</td>\n",
              "      <td>20150218T000000</td>\n",
              "      <td>510000.0</td>\n",
              "      <td>3</td>\n",
              "      <td>2.00</td>\n",
              "      <td>1680</td>\n",
              "      <td>8080</td>\n",
              "      <td>1.0</td>\n",
              "      <td>0</td>\n",
              "      <td>0</td>\n",
              "      <td>3</td>\n",
              "      <td>8</td>\n",
              "      <td>1680</td>\n",
              "      <td>0</td>\n",
              "      <td>1987</td>\n",
              "      <td>0</td>\n",
              "      <td>98074</td>\n",
              "      <td>47.6168</td>\n",
              "      <td>-122.045</td>\n",
              "      <td>1800</td>\n",
              "      <td>7503</td>\n",
              "      <td>28</td>\n",
              "      <td>13.142166</td>\n",
              "      <td>2822400</td>\n",
              "      <td>7.426549</td>\n",
              "      <td>64</td>\n",
              "    </tr>\n",
              "  </tbody>\n",
              "</table>\n",
              "</div>"
            ],
            "text/plain": [
              "           id             date     price  bedrooms  bathrooms  sqft_living  \\\n",
              "0  7129300520  20141013T000000  221900.0         3       1.00         1180   \n",
              "1  6414100192  20141209T000000  538000.0         3       2.25         2570   \n",
              "2  5631500400  20150225T000000  180000.0         2       1.00          770   \n",
              "3  2487200875  20141209T000000  604000.0         4       3.00         1960   \n",
              "4  1954400510  20150218T000000  510000.0         3       2.00         1680   \n",
              "\n",
              "   sqft_lot  floors  waterfront  view  condition  grade  sqft_above  \\\n",
              "0      5650     1.0           0     0          3      7        1180   \n",
              "1      7242     2.0           0     0          3      7        2170   \n",
              "2     10000     1.0           0     0          3      6         770   \n",
              "3      5000     1.0           0     0          5      7        1050   \n",
              "4      8080     1.0           0     0          3      8        1680   \n",
              "\n",
              "   sqft_basement  yr_built  yr_renovated  zipcode      lat     long  \\\n",
              "0              0      1955             0    98178  47.5112 -122.257   \n",
              "1            400      1951          1991    98125  47.7210 -122.319   \n",
              "2              0      1933             0    98028  47.7379 -122.233   \n",
              "3            910      1965             0    98136  47.5208 -122.393   \n",
              "4              0      1987             0    98074  47.6168 -122.045   \n",
              "\n",
              "   sqft_living15  sqft_lot15  yrs_since_built  log_price  sqft_living_squared  \\\n",
              "0           1340        5650               59  12.309982              1392400   \n",
              "1           1690        7639               63  13.195614              6604900   \n",
              "2           2720        8062               82  12.100712               592900   \n",
              "3           1360        5000               49  13.311329              3841600   \n",
              "4           1800        7503               28  13.142166              2822400   \n",
              "\n",
              "   sqft_living_log  grade_squared  \n",
              "0         7.073270             49  \n",
              "1         7.851661             49  \n",
              "2         6.646391             36  \n",
              "3         7.580700             49  \n",
              "4         7.426549             64  "
            ]
          },
          "metadata": {
            "tags": []
          },
          "execution_count": 632
        }
      ]
    },
    {
      "metadata": {
        "id": "AuENzq1D__gm",
        "colab_type": "code",
        "colab": {
          "base_uri": "https://localhost:8080/",
          "height": 155
        },
        "outputId": "0107e87c-fa87-4301-b244-b8bcb455600f"
      },
      "cell_type": "code",
      "source": [
        "df.zipcode.unique()"
      ],
      "execution_count": 633,
      "outputs": [
        {
          "output_type": "execute_result",
          "data": {
            "text/plain": [
              "array([98178, 98125, 98028, 98136, 98074, 98053, 98003, 98198, 98146,\n",
              "       98038, 98007, 98115, 98107, 98126, 98019, 98103, 98002, 98133,\n",
              "       98040, 98092, 98030, 98119, 98112, 98052, 98027, 98117, 98058,\n",
              "       98001, 98056, 98166, 98023, 98070, 98148, 98105, 98042, 98008,\n",
              "       98059, 98122, 98144, 98004, 98005, 98034, 98075, 98116, 98010,\n",
              "       98118, 98199, 98032, 98045, 98102, 98077, 98108, 98168, 98177,\n",
              "       98065, 98029, 98006, 98109, 98022, 98033, 98155, 98024, 98011,\n",
              "       98031, 98106, 98072, 98188, 98014, 98055, 98039])"
            ]
          },
          "metadata": {
            "tags": []
          },
          "execution_count": 633
        }
      ]
    },
    {
      "metadata": {
        "id": "FhI6v9VzADN8",
        "colab_type": "code",
        "colab": {
          "base_uri": "https://localhost:8080/",
          "height": 445
        },
        "outputId": "38f0eade-521c-4b1c-f5af-4c43654cb18e"
      },
      "cell_type": "code",
      "source": [
        "# i want to try to cluster some by sqft_living, sqft_lot, sqft_basement, sqft_living15, sqft_lot15\n",
        "\n",
        "cols = ['sqft_living', 'sqft_lot', 'sqft_basement', 'sqft_living15', 'sqft_lot15']\n",
        "\n",
        "from sklearn.preprocessing import StandardScaler\n",
        "from sklearn.cluster import KMeans\n",
        "from sklearn.decomposition import PCA\n",
        "import seaborn as sns\n",
        "\n",
        "std_sc = StandardScaler()\n",
        "df_std = std_sc.fit_transform(df[cols])\n",
        "\n",
        "pca_all = PCA(5)\n",
        "pc_all = pca_all.fit_transform(X=df_std)\n",
        "\n",
        "plt.bar(range(0,5), pca_all.explained_variance_ratio_)\n",
        "plt.plot(range(0,5), [sum(pca_all.explained_variance_ratio_[0:i]) for i in range(1,6)], label='cumulative explained variance')\n",
        "\n",
        "plt.xlabel('Principal Components')\n",
        "plt.ylabel('explained variance')\n",
        "plt.title('Explained Variance by # of PCs')\n",
        "plt.legend(loc=7)\n",
        "plt.ylim(0,1.03)\n",
        "plt.show()"
      ],
      "execution_count": 634,
      "outputs": [
        {
          "output_type": "stream",
          "text": [
            "/usr/local/lib/python3.6/dist-packages/sklearn/preprocessing/data.py:625: DataConversionWarning: Data with input dtype int64 were all converted to float64 by StandardScaler.\n",
            "  return self.partial_fit(X, y)\n",
            "/usr/local/lib/python3.6/dist-packages/sklearn/base.py:462: DataConversionWarning: Data with input dtype int64 were all converted to float64 by StandardScaler.\n",
            "  return self.fit(X, **fit_params).transform(X)\n"
          ],
          "name": "stderr"
        },
        {
          "output_type": "display_data",
          "data": {
            "image/png": "[encoded data removed]",
            "text/plain": [
              "<Figure size 576x396 with 1 Axes>"
            ]
          },
          "metadata": {
            "tags": []
          }
        }
      ]
    },
    {
      "metadata": {
        "id": "EMZPnS3gDDf6",
        "colab_type": "code",
        "colab": {
          "base_uri": "https://localhost:8080/",
          "height": 138
        },
        "outputId": "3736af66-5ef6-4471-a954-997b3ccd4ef3"
      },
      "cell_type": "code",
      "source": [
        "pc_all"
      ],
      "execution_count": 635,
      "outputs": [
        {
          "output_type": "execute_result",
          "data": {
            "text/plain": [
              "array([[-1.4359651 ,  0.58335106,  0.00454357,  0.00939024,  0.03945283],\n",
              "       [-0.00270505, -0.36656358,  0.30648562,  0.08459686,  0.60659851],\n",
              "       [-0.5642949 ,  0.25999128, -0.91266602, -0.181134  , -1.55125211],\n",
              "       ...,\n",
              "       [-1.87158531,  0.64532164,  0.23780342,  0.04454536,  0.20580152],\n",
              "       [-1.22300122,  0.25808368, -0.13481657,  0.11536638,  0.30306951],\n",
              "       [-1.88394956,  0.62803089,  0.23498189,  0.05674847,  0.20446523]])"
            ]
          },
          "metadata": {
            "tags": []
          },
          "execution_count": 635
        }
      ]
    },
    {
      "metadata": {
        "id": "A1SVfnWWANzy",
        "colab_type": "code",
        "colab": {}
      },
      "cell_type": "code",
      "source": [
        "pca_2_df = pd.DataFrame({'pc1': pc_all[:,0], 'pc2': pc_all[:,1]})\n",
        "pca_3_df = pd.DataFrame({'pc1': pc_all[:,0], 'pc2': pc_all[:,1], 'pc3': pc_all[:,2]})\n"
      ],
      "execution_count": 0,
      "outputs": []
    },
    {
      "metadata": {
        "id": "WwuF1f6UDZCk",
        "colab_type": "code",
        "colab": {
          "base_uri": "https://localhost:8080/",
          "height": 364
        },
        "outputId": "44275ebd-198e-44f3-c59b-0eb5efeb5919"
      },
      "cell_type": "code",
      "source": [
        "# this does not look like its doing a very good job.\n",
        "plt.scatter(x='pc1', y='pc2', data=pca_2_df)"
      ],
      "execution_count": 637,
      "outputs": [
        {
          "output_type": "execute_result",
          "data": {
            "text/plain": [
              "<matplotlib.collections.PathCollection at 0x7f3562dd3908>"
            ]
          },
          "metadata": {
            "tags": []
          },
          "execution_count": 637
        },
        {
          "output_type": "display_data",
          "data": {
            "image/png": "[encoded data removed]",
            "text/plain": [
              "<Figure size 576x396 with 1 Axes>"
            ]
          },
          "metadata": {
            "tags": []
          }
        }
      ]
    },
    {
      "metadata": {
        "id": "poVMUEueD1Qs",
        "colab_type": "code",
        "colab": {}
      },
      "cell_type": "code",
      "source": [
        "km = KMeans(n_clusters=2)\n",
        "km = km.fit(pca_2_df[['pc1', 'pc2']])\n",
        "pca_2_df['2_means_label'] = km.labels_\n",
        "df['pca2_2_means_label'] = km.labels_"
      ],
      "execution_count": 0,
      "outputs": []
    },
    {
      "metadata": {
        "id": "KT1ZQL-JEDuT",
        "colab_type": "code",
        "colab": {
          "base_uri": "https://localhost:8080/",
          "height": 364
        },
        "outputId": "ad21dcdf-3d41-454d-a19f-2d7b346536f3"
      },
      "cell_type": "code",
      "source": [
        "c = pca_2_df['2_means_label']\n",
        "plt.scatter(x='pc1', y='pc2', data=pca_2_df, c=c)"
      ],
      "execution_count": 639,
      "outputs": [
        {
          "output_type": "execute_result",
          "data": {
            "text/plain": [
              "<matplotlib.collections.PathCollection at 0x7f3562daa9b0>"
            ]
          },
          "metadata": {
            "tags": []
          },
          "execution_count": 639
        },
        {
          "output_type": "display_data",
          "data": {
            "image/png": "[encoded data removed]",
            "text/plain": [
              "<Figure size 576x396 with 1 Axes>"
            ]
          },
          "metadata": {
            "tags": []
          }
        }
      ]
    },
    {
      "metadata": {
        "id": "FUUsU75lDchf",
        "colab_type": "code",
        "colab": {
          "base_uri": "https://localhost:8080/",
          "height": 330
        },
        "outputId": "d5bf038d-b71c-44fa-b765-07cbd8b49041"
      },
      "cell_type": "code",
      "source": [
        "from mpl_toolkits.mplot3d import Axes3D\n",
        "\n",
        "fig = plt.figure()\n",
        "ax = fig.add_subplot(111, projection='3d')\n",
        "plt.title('3 Principal Components')\n",
        "ax.scatter(pca_3_df.pc1, pca_3_df.pc2, pca_3_df.pc3);"
      ],
      "execution_count": 640,
      "outputs": [
        {
          "output_type": "display_data",
          "data": {
            "image/png": "[encoded data removed]",
            "text/plain": [
              "<Figure size 576x396 with 1 Axes>"
            ]
          },
          "metadata": {
            "tags": []
          }
        }
      ]
    },
    {
      "metadata": {
        "id": "Zlb8kblIDmvP",
        "colab_type": "code",
        "colab": {
          "base_uri": "https://localhost:8080/",
          "height": 140
        },
        "outputId": "36da16bd-56d0-44bd-e253-6b1cfe117454"
      },
      "cell_type": "code",
      "source": [
        "df.pivot_table(index='pca2_2_means_label', values='price')"
      ],
      "execution_count": 641,
      "outputs": [
        {
          "output_type": "execute_result",
          "data": {
            "text/html": [
              "<div>\n",
              "<style scoped>\n",
              "    .dataframe tbody tr th:only-of-type {\n",
              "        vertical-align: middle;\n",
              "    }\n",
              "\n",
              "    .dataframe tbody tr th {\n",
              "        vertical-align: top;\n",
              "    }\n",
              "\n",
              "    .dataframe thead th {\n",
              "        text-align: right;\n",
              "    }\n",
              "</style>\n",
              "<table border=\"1\" class=\"dataframe\">\n",
              "  <thead>\n",
              "    <tr style=\"text-align: right;\">\n",
              "      <th></th>\n",
              "      <th>price</th>\n",
              "    </tr>\n",
              "    <tr>\n",
              "      <th>pca2_2_means_label</th>\n",
              "      <th></th>\n",
              "    </tr>\n",
              "  </thead>\n",
              "  <tbody>\n",
              "    <tr>\n",
              "      <th>0</th>\n",
              "      <td>418311.629500</td>\n",
              "    </tr>\n",
              "    <tr>\n",
              "      <th>1</th>\n",
              "      <td>821491.126991</td>\n",
              "    </tr>\n",
              "  </tbody>\n",
              "</table>\n",
              "</div>"
            ],
            "text/plain": [
              "                            price\n",
              "pca2_2_means_label               \n",
              "0                   418311.629500\n",
              "1                   821491.126991"
            ]
          },
          "metadata": {
            "tags": []
          },
          "execution_count": 641
        }
      ]
    },
    {
      "metadata": {
        "id": "9HBVkuGFEdOV",
        "colab_type": "code",
        "colab": {}
      },
      "cell_type": "code",
      "source": [
        "km = KMeans(n_clusters=3)\n",
        "km = km.fit(pca_2_df[['pc1', 'pc2']])\n",
        "pca_2_df['2_means_label'] = km.labels_\n",
        "df['pca2_3_means_label'] = km.labels_"
      ],
      "execution_count": 0,
      "outputs": []
    },
    {
      "metadata": {
        "id": "c3ROjc4SEob5",
        "colab_type": "code",
        "colab": {
          "base_uri": "https://localhost:8080/",
          "height": 171
        },
        "outputId": "e52be93f-285d-45b3-d310-87c2efdc3866"
      },
      "cell_type": "code",
      "source": [
        "# not as good i like the binary 2 means label.\n",
        "df.pivot_table(index='pca2_3_means_label', values='price')"
      ],
      "execution_count": 643,
      "outputs": [
        {
          "output_type": "execute_result",
          "data": {
            "text/html": [
              "<div>\n",
              "<style scoped>\n",
              "    .dataframe tbody tr th:only-of-type {\n",
              "        vertical-align: middle;\n",
              "    }\n",
              "\n",
              "    .dataframe tbody tr th {\n",
              "        vertical-align: top;\n",
              "    }\n",
              "\n",
              "    .dataframe thead th {\n",
              "        text-align: right;\n",
              "    }\n",
              "</style>\n",
              "<table border=\"1\" class=\"dataframe\">\n",
              "  <thead>\n",
              "    <tr style=\"text-align: right;\">\n",
              "      <th></th>\n",
              "      <th>price</th>\n",
              "    </tr>\n",
              "    <tr>\n",
              "      <th>pca2_3_means_label</th>\n",
              "      <th></th>\n",
              "    </tr>\n",
              "  </thead>\n",
              "  <tbody>\n",
              "    <tr>\n",
              "      <th>0</th>\n",
              "      <td>794274.071238</td>\n",
              "    </tr>\n",
              "    <tr>\n",
              "      <th>1</th>\n",
              "      <td>408360.001135</td>\n",
              "    </tr>\n",
              "    <tr>\n",
              "      <th>2</th>\n",
              "      <td>654699.559585</td>\n",
              "    </tr>\n",
              "  </tbody>\n",
              "</table>\n",
              "</div>"
            ],
            "text/plain": [
              "                            price\n",
              "pca2_3_means_label               \n",
              "0                   794274.071238\n",
              "1                   408360.001135\n",
              "2                   654699.559585"
            ]
          },
          "metadata": {
            "tags": []
          },
          "execution_count": 643
        }
      ]
    },
    {
      "metadata": {
        "id": "CvuDqDlPErDP",
        "colab_type": "code",
        "colab": {}
      },
      "cell_type": "code",
      "source": [
        "km = KMeans(n_clusters=2)\n",
        "km = km.fit(pca_3_df[['pc1', 'pc2', 'pc3']])\n",
        "pca_3_df['2_means_label'] = km.labels_\n",
        "df['pca3_2_means_label'] = km.labels_"
      ],
      "execution_count": 0,
      "outputs": []
    },
    {
      "metadata": {
        "id": "DMZeLYOSE9tC",
        "colab_type": "code",
        "colab": {
          "base_uri": "https://localhost:8080/",
          "height": 330
        },
        "outputId": "d28ccd5f-4b5e-4bac-aae2-5c397cfb2b8b"
      },
      "cell_type": "code",
      "source": [
        "from mpl_toolkits.mplot3d import Axes3D\n",
        "\n",
        "fig = plt.figure()\n",
        "ax = fig.add_subplot(111, projection='3d')\n",
        "plt.title('3 Principal Components')\n",
        "ax.scatter(pca_3_df.pc1, pca_3_df.pc2, pca_3_df.pc3, c=pca_3_df['2_means_label'])\n",
        "\n",
        "plt.set_cmap('rainbow');"
      ],
      "execution_count": 645,
      "outputs": [
        {
          "output_type": "display_data",
          "data": {
            "image/png": "[encoded data removed]",
            "text/plain": [
              "<Figure size 576x396 with 1 Axes>"
            ]
          },
          "metadata": {
            "tags": []
          }
        }
      ]
    },
    {
      "metadata": {
        "id": "z3lVn1rdFYon",
        "colab_type": "code",
        "colab": {
          "base_uri": "https://localhost:8080/",
          "height": 69
        },
        "outputId": "3afe5e54-4bf9-4457-8f8d-2907893eec8b"
      },
      "cell_type": "code",
      "source": [
        "df.pca3_2_means_label.value_counts()"
      ],
      "execution_count": 646,
      "outputs": [
        {
          "output_type": "execute_result",
          "data": {
            "text/plain": [
              "0    15271\n",
              "1     6342\n",
              "Name: pca3_2_means_label, dtype: int64"
            ]
          },
          "metadata": {
            "tags": []
          },
          "execution_count": 646
        }
      ]
    },
    {
      "metadata": {
        "id": "1ybc1nD-FfoV",
        "colab_type": "code",
        "colab": {
          "base_uri": "https://localhost:8080/",
          "height": 222
        },
        "outputId": "6d698469-77df-4a5a-fc12-480bc1879938"
      },
      "cell_type": "code",
      "source": [
        "df.head()"
      ],
      "execution_count": 647,
      "outputs": [
        {
          "output_type": "execute_result",
          "data": {
            "text/html": [
              "<div>\n",
              "<style scoped>\n",
              "    .dataframe tbody tr th:only-of-type {\n",
              "        vertical-align: middle;\n",
              "    }\n",
              "\n",
              "    .dataframe tbody tr th {\n",
              "        vertical-align: top;\n",
              "    }\n",
              "\n",
              "    .dataframe thead th {\n",
              "        text-align: right;\n",
              "    }\n",
              "</style>\n",
              "<table border=\"1\" class=\"dataframe\">\n",
              "  <thead>\n",
              "    <tr style=\"text-align: right;\">\n",
              "      <th></th>\n",
              "      <th>id</th>\n",
              "      <th>date</th>\n",
              "      <th>price</th>\n",
              "      <th>bedrooms</th>\n",
              "      <th>bathrooms</th>\n",
              "      <th>sqft_living</th>\n",
              "      <th>sqft_lot</th>\n",
              "      <th>floors</th>\n",
              "      <th>waterfront</th>\n",
              "      <th>view</th>\n",
              "      <th>condition</th>\n",
              "      <th>grade</th>\n",
              "      <th>sqft_above</th>\n",
              "      <th>sqft_basement</th>\n",
              "      <th>yr_built</th>\n",
              "      <th>yr_renovated</th>\n",
              "      <th>zipcode</th>\n",
              "      <th>lat</th>\n",
              "      <th>long</th>\n",
              "      <th>sqft_living15</th>\n",
              "      <th>sqft_lot15</th>\n",
              "      <th>yrs_since_built</th>\n",
              "      <th>log_price</th>\n",
              "      <th>sqft_living_squared</th>\n",
              "      <th>sqft_living_log</th>\n",
              "      <th>grade_squared</th>\n",
              "      <th>pca2_2_means_label</th>\n",
              "      <th>pca2_3_means_label</th>\n",
              "      <th>pca3_2_means_label</th>\n",
              "    </tr>\n",
              "  </thead>\n",
              "  <tbody>\n",
              "    <tr>\n",
              "      <th>0</th>\n",
              "      <td>7129300520</td>\n",
              "      <td>20141013T000000</td>\n",
              "      <td>221900.0</td>\n",
              "      <td>3</td>\n",
              "      <td>1.00</td>\n",
              "      <td>1180</td>\n",
              "      <td>5650</td>\n",
              "      <td>1.0</td>\n",
              "      <td>0</td>\n",
              "      <td>0</td>\n",
              "      <td>3</td>\n",
              "      <td>7</td>\n",
              "      <td>1180</td>\n",
              "      <td>0</td>\n",
              "      <td>1955</td>\n",
              "      <td>0</td>\n",
              "      <td>98178</td>\n",
              "      <td>47.5112</td>\n",
              "      <td>-122.257</td>\n",
              "      <td>1340</td>\n",
              "      <td>5650</td>\n",
              "      <td>59</td>\n",
              "      <td>12.309982</td>\n",
              "      <td>1392400</td>\n",
              "      <td>7.073270</td>\n",
              "      <td>49</td>\n",
              "      <td>0</td>\n",
              "      <td>1</td>\n",
              "      <td>0</td>\n",
              "    </tr>\n",
              "    <tr>\n",
              "      <th>1</th>\n",
              "      <td>6414100192</td>\n",
              "      <td>20141209T000000</td>\n",
              "      <td>538000.0</td>\n",
              "      <td>3</td>\n",
              "      <td>2.25</td>\n",
              "      <td>2570</td>\n",
              "      <td>7242</td>\n",
              "      <td>2.0</td>\n",
              "      <td>0</td>\n",
              "      <td>0</td>\n",
              "      <td>3</td>\n",
              "      <td>7</td>\n",
              "      <td>2170</td>\n",
              "      <td>400</td>\n",
              "      <td>1951</td>\n",
              "      <td>1991</td>\n",
              "      <td>98125</td>\n",
              "      <td>47.7210</td>\n",
              "      <td>-122.319</td>\n",
              "      <td>1690</td>\n",
              "      <td>7639</td>\n",
              "      <td>63</td>\n",
              "      <td>13.195614</td>\n",
              "      <td>6604900</td>\n",
              "      <td>7.851661</td>\n",
              "      <td>49</td>\n",
              "      <td>0</td>\n",
              "      <td>1</td>\n",
              "      <td>0</td>\n",
              "    </tr>\n",
              "    <tr>\n",
              "      <th>2</th>\n",
              "      <td>5631500400</td>\n",
              "      <td>20150225T000000</td>\n",
              "      <td>180000.0</td>\n",
              "      <td>2</td>\n",
              "      <td>1.00</td>\n",
              "      <td>770</td>\n",
              "      <td>10000</td>\n",
              "      <td>1.0</td>\n",
              "      <td>0</td>\n",
              "      <td>0</td>\n",
              "      <td>3</td>\n",
              "      <td>6</td>\n",
              "      <td>770</td>\n",
              "      <td>0</td>\n",
              "      <td>1933</td>\n",
              "      <td>0</td>\n",
              "      <td>98028</td>\n",
              "      <td>47.7379</td>\n",
              "      <td>-122.233</td>\n",
              "      <td>2720</td>\n",
              "      <td>8062</td>\n",
              "      <td>82</td>\n",
              "      <td>12.100712</td>\n",
              "      <td>592900</td>\n",
              "      <td>6.646391</td>\n",
              "      <td>36</td>\n",
              "      <td>0</td>\n",
              "      <td>1</td>\n",
              "      <td>0</td>\n",
              "    </tr>\n",
              "    <tr>\n",
              "      <th>3</th>\n",
              "      <td>2487200875</td>\n",
              "      <td>20141209T000000</td>\n",
              "      <td>604000.0</td>\n",
              "      <td>4</td>\n",
              "      <td>3.00</td>\n",
              "      <td>1960</td>\n",
              "      <td>5000</td>\n",
              "      <td>1.0</td>\n",
              "      <td>0</td>\n",
              "      <td>0</td>\n",
              "      <td>5</td>\n",
              "      <td>7</td>\n",
              "      <td>1050</td>\n",
              "      <td>910</td>\n",
              "      <td>1965</td>\n",
              "      <td>0</td>\n",
              "      <td>98136</td>\n",
              "      <td>47.5208</td>\n",
              "      <td>-122.393</td>\n",
              "      <td>1360</td>\n",
              "      <td>5000</td>\n",
              "      <td>49</td>\n",
              "      <td>13.311329</td>\n",
              "      <td>3841600</td>\n",
              "      <td>7.580700</td>\n",
              "      <td>49</td>\n",
              "      <td>0</td>\n",
              "      <td>1</td>\n",
              "      <td>0</td>\n",
              "    </tr>\n",
              "    <tr>\n",
              "      <th>4</th>\n",
              "      <td>1954400510</td>\n",
              "      <td>20150218T000000</td>\n",
              "      <td>510000.0</td>\n",
              "      <td>3</td>\n",
              "      <td>2.00</td>\n",
              "      <td>1680</td>\n",
              "      <td>8080</td>\n",
              "      <td>1.0</td>\n",
              "      <td>0</td>\n",
              "      <td>0</td>\n",
              "      <td>3</td>\n",
              "      <td>8</td>\n",
              "      <td>1680</td>\n",
              "      <td>0</td>\n",
              "      <td>1987</td>\n",
              "      <td>0</td>\n",
              "      <td>98074</td>\n",
              "      <td>47.6168</td>\n",
              "      <td>-122.045</td>\n",
              "      <td>1800</td>\n",
              "      <td>7503</td>\n",
              "      <td>28</td>\n",
              "      <td>13.142166</td>\n",
              "      <td>2822400</td>\n",
              "      <td>7.426549</td>\n",
              "      <td>64</td>\n",
              "      <td>0</td>\n",
              "      <td>1</td>\n",
              "      <td>0</td>\n",
              "    </tr>\n",
              "  </tbody>\n",
              "</table>\n",
              "</div>"
            ],
            "text/plain": [
              "           id             date     price  bedrooms  bathrooms  sqft_living  \\\n",
              "0  7129300520  20141013T000000  221900.0         3       1.00         1180   \n",
              "1  6414100192  20141209T000000  538000.0         3       2.25         2570   \n",
              "2  5631500400  20150225T000000  180000.0         2       1.00          770   \n",
              "3  2487200875  20141209T000000  604000.0         4       3.00         1960   \n",
              "4  1954400510  20150218T000000  510000.0         3       2.00         1680   \n",
              "\n",
              "   sqft_lot  floors  waterfront  view  condition  grade  sqft_above  \\\n",
              "0      5650     1.0           0     0          3      7        1180   \n",
              "1      7242     2.0           0     0          3      7        2170   \n",
              "2     10000     1.0           0     0          3      6         770   \n",
              "3      5000     1.0           0     0          5      7        1050   \n",
              "4      8080     1.0           0     0          3      8        1680   \n",
              "\n",
              "   sqft_basement  yr_built  yr_renovated  zipcode      lat     long  \\\n",
              "0              0      1955             0    98178  47.5112 -122.257   \n",
              "1            400      1951          1991    98125  47.7210 -122.319   \n",
              "2              0      1933             0    98028  47.7379 -122.233   \n",
              "3            910      1965             0    98136  47.5208 -122.393   \n",
              "4              0      1987             0    98074  47.6168 -122.045   \n",
              "\n",
              "   sqft_living15  sqft_lot15  yrs_since_built  log_price  sqft_living_squared  \\\n",
              "0           1340        5650               59  12.309982              1392400   \n",
              "1           1690        7639               63  13.195614              6604900   \n",
              "2           2720        8062               82  12.100712               592900   \n",
              "3           1360        5000               49  13.311329              3841600   \n",
              "4           1800        7503               28  13.142166              2822400   \n",
              "\n",
              "   sqft_living_log  grade_squared  pca2_2_means_label  pca2_3_means_label  \\\n",
              "0         7.073270             49                   0                   1   \n",
              "1         7.851661             49                   0                   1   \n",
              "2         6.646391             36                   0                   1   \n",
              "3         7.580700             49                   0                   1   \n",
              "4         7.426549             64                   0                   1   \n",
              "\n",
              "   pca3_2_means_label  \n",
              "0                   0  \n",
              "1                   0  \n",
              "2                   0  \n",
              "3                   0  \n",
              "4                   0  "
            ]
          },
          "metadata": {
            "tags": []
          },
          "execution_count": 647
        }
      ]
    },
    {
      "metadata": {
        "id": "EqaqnpwTGNIR",
        "colab_type": "code",
        "colab": {}
      },
      "cell_type": "code",
      "source": [
        ""
      ],
      "execution_count": 0,
      "outputs": []
    },
    {
      "metadata": {
        "id": "Z55zIAGlGQCa",
        "colab_type": "code",
        "colab": {
          "base_uri": "https://localhost:8080/",
          "height": 34
        },
        "outputId": "93488a97-3d61-4cff-a2e5-1034a1035dbf"
      },
      "cell_type": "code",
      "source": [
        "# about the same as without pca2_2_means_label\n",
        "features = ['sqft_living_squared', 'grade_squared', 'pca2_2_means_label']\n",
        "target = 'price'\n",
        "\n",
        "X = df[features]\n",
        "y = df[target]\n",
        "\n",
        "X_train, X_test, y_train, y_test = train_test_split(X, y,test_size=0.5)\n",
        "\n",
        "lr = LinearRegression()\n",
        "lr.fit(X_train, y_train)\n",
        "\n",
        "oos_pred = lr.predict(X_test)\n",
        "oos_mse = mean_squared_error(y_test, oos_pred)\n",
        "oos_r2 = r2_score(y_test, oos_pred)\n",
        "rmse = (np.sqrt(oos_mse))\n",
        "rmse, oos_r2, oos_mse"
      ],
      "execution_count": 648,
      "outputs": [
        {
          "output_type": "execute_result",
          "data": {
            "text/plain": [
              "(239441.89540123596, 0.5925032989918713, 57332421273.336426)"
            ]
          },
          "metadata": {
            "tags": []
          },
          "execution_count": 648
        }
      ]
    },
    {
      "metadata": {
        "id": "RTRBfEIDGg7s",
        "colab_type": "code",
        "colab": {}
      },
      "cell_type": "code",
      "source": [
        "df['has_basement'] = (df.sqft_basement > 0)"
      ],
      "execution_count": 0,
      "outputs": []
    },
    {
      "metadata": {
        "id": "AhIYdsS3HoHH",
        "colab_type": "code",
        "colab": {
          "base_uri": "https://localhost:8080/",
          "height": 34
        },
        "outputId": "7c995796-2135-45a7-ecdc-3306c3d591f2"
      },
      "cell_type": "code",
      "source": [
        "features = ['sqft_living_squared', 'grade_squared', 'waterfront']\n",
        "target = 'price'\n",
        "\n",
        "X = df[features]\n",
        "y = df[target]\n",
        "\n",
        "X_train, X_test, y_train, y_test = train_test_split(X, y,test_size=0.5)\n",
        "\n",
        "lr = LinearRegression()\n",
        "lr.fit(X_train, y_train)\n",
        "\n",
        "oos_pred = lr.predict(X_test)\n",
        "oos_mse = mean_squared_error(y_test, oos_pred)\n",
        "oos_r2 = r2_score(y_test, oos_pred)\n",
        "rmse = (np.sqrt(oos_mse))\n",
        "rmse, oos_r2, oos_mse"
      ],
      "execution_count": 650,
      "outputs": [
        {
          "output_type": "execute_result",
          "data": {
            "text/plain": [
              "(228906.98555470165, 0.6001234345278204, 52398408035.74039)"
            ]
          },
          "metadata": {
            "tags": []
          },
          "execution_count": 650
        }
      ]
    },
    {
      "metadata": {
        "id": "4d2035goKNH3",
        "colab_type": "code",
        "colab": {}
      },
      "cell_type": "code",
      "source": [
        "df['view_4'] = (df.view == 4)\n",
        "df['view_0'] = (df.view == 0)\n",
        "df['view_2'] = (df.view == 2)\n"
      ],
      "execution_count": 0,
      "outputs": []
    },
    {
      "metadata": {
        "id": "XFK2YcznKlUM",
        "colab_type": "code",
        "colab": {
          "base_uri": "https://localhost:8080/",
          "height": 34
        },
        "outputId": "1aa88380-d63c-4fa8-b56b-c46124df29af"
      },
      "cell_type": "code",
      "source": [
        "features = ['sqft_living_squared', 'grade_squared', 'waterfront', 'view_0']\n",
        "target = 'price'\n",
        "\n",
        "X = df[features]\n",
        "y = df[target]\n",
        "\n",
        "X_train, X_test, y_train, y_test = train_test_split(X, y,test_size=0.5)\n",
        "\n",
        "lr = LinearRegression()\n",
        "lr.fit(X_train, y_train)\n",
        "\n",
        "oos_pred = lr.predict(X_test)\n",
        "oos_mse = mean_squared_error(y_test, oos_pred)\n",
        "oos_r2 = r2_score(y_test, oos_pred)\n",
        "rmse = (np.sqrt(oos_mse))\n",
        "rmse, oos_r2, oos_mse"
      ],
      "execution_count": 652,
      "outputs": [
        {
          "output_type": "execute_result",
          "data": {
            "text/plain": [
              "(223795.65602891357, 0.6359450295693532, 50084495657.4118)"
            ]
          },
          "metadata": {
            "tags": []
          },
          "execution_count": 652
        }
      ]
    },
    {
      "metadata": {
        "id": "xYC01RsCLS2W",
        "colab_type": "code",
        "colab": {
          "base_uri": "https://localhost:8080/",
          "height": 121
        },
        "outputId": "37b340fe-fe0d-4afa-c652-9131b57001b5"
      },
      "cell_type": "code",
      "source": [
        "df.condition.value_counts()"
      ],
      "execution_count": 653,
      "outputs": [
        {
          "output_type": "execute_result",
          "data": {
            "text/plain": [
              "3    14031\n",
              "4     5679\n",
              "5     1701\n",
              "2      172\n",
              "1       30\n",
              "Name: condition, dtype: int64"
            ]
          },
          "metadata": {
            "tags": []
          },
          "execution_count": 653
        }
      ]
    },
    {
      "metadata": {
        "id": "vroBIVrRLzQG",
        "colab_type": "code",
        "colab": {}
      },
      "cell_type": "code",
      "source": [
        "df['condition_1or2'] = ((df.condition == 1) | (df.condition ==2))"
      ],
      "execution_count": 0,
      "outputs": []
    },
    {
      "metadata": {
        "id": "X_f6PhygL5Wd",
        "colab_type": "code",
        "colab": {
          "base_uri": "https://localhost:8080/",
          "height": 34
        },
        "outputId": "b63f3f7c-a9f8-4015-aabc-91a63c1d6f9f"
      },
      "cell_type": "code",
      "source": [
        "features = ['sqft_living_squared', 'grade_squared', 'waterfront', 'view_0', 'condition_1or2']\n",
        "target = 'price'\n",
        "\n",
        "X = df[features]\n",
        "y = df[target]\n",
        "\n",
        "X_train, X_test, y_train, y_test = train_test_split(X, y,test_size=0.5)\n",
        "\n",
        "lr = LinearRegression()\n",
        "lr.fit(X_train, y_train)\n",
        "\n",
        "oos_pred = lr.predict(X_test)\n",
        "oos_mse = mean_squared_error(y_test, oos_pred)\n",
        "oos_r2 = r2_score(y_test, oos_pred)\n",
        "rmse = (np.sqrt(oos_mse))\n",
        "rmse, oos_r2, oos_mse"
      ],
      "execution_count": 655,
      "outputs": [
        {
          "output_type": "execute_result",
          "data": {
            "text/plain": [
              "(225410.2405406031, 0.6161769749314467, 50809776540.57254)"
            ]
          },
          "metadata": {
            "tags": []
          },
          "execution_count": 655
        }
      ]
    },
    {
      "metadata": {
        "id": "sc44anCMMMM3",
        "colab_type": "code",
        "colab": {
          "base_uri": "https://localhost:8080/",
          "height": 99
        },
        "outputId": "e7c13421-a67a-42b6-8935-723eb259ceca"
      },
      "cell_type": "code",
      "source": [
        "df.head(1)"
      ],
      "execution_count": 656,
      "outputs": [
        {
          "output_type": "execute_result",
          "data": {
            "text/html": [
              "<div>\n",
              "<style scoped>\n",
              "    .dataframe tbody tr th:only-of-type {\n",
              "        vertical-align: middle;\n",
              "    }\n",
              "\n",
              "    .dataframe tbody tr th {\n",
              "        vertical-align: top;\n",
              "    }\n",
              "\n",
              "    .dataframe thead th {\n",
              "        text-align: right;\n",
              "    }\n",
              "</style>\n",
              "<table border=\"1\" class=\"dataframe\">\n",
              "  <thead>\n",
              "    <tr style=\"text-align: right;\">\n",
              "      <th></th>\n",
              "      <th>id</th>\n",
              "      <th>date</th>\n",
              "      <th>price</th>\n",
              "      <th>bedrooms</th>\n",
              "      <th>bathrooms</th>\n",
              "      <th>sqft_living</th>\n",
              "      <th>sqft_lot</th>\n",
              "      <th>floors</th>\n",
              "      <th>waterfront</th>\n",
              "      <th>view</th>\n",
              "      <th>condition</th>\n",
              "      <th>grade</th>\n",
              "      <th>sqft_above</th>\n",
              "      <th>sqft_basement</th>\n",
              "      <th>yr_built</th>\n",
              "      <th>yr_renovated</th>\n",
              "      <th>zipcode</th>\n",
              "      <th>lat</th>\n",
              "      <th>long</th>\n",
              "      <th>sqft_living15</th>\n",
              "      <th>sqft_lot15</th>\n",
              "      <th>yrs_since_built</th>\n",
              "      <th>log_price</th>\n",
              "      <th>sqft_living_squared</th>\n",
              "      <th>sqft_living_log</th>\n",
              "      <th>grade_squared</th>\n",
              "      <th>pca2_2_means_label</th>\n",
              "      <th>pca2_3_means_label</th>\n",
              "      <th>pca3_2_means_label</th>\n",
              "      <th>has_basement</th>\n",
              "      <th>view_4</th>\n",
              "      <th>view_0</th>\n",
              "      <th>view_2</th>\n",
              "      <th>condition_1or2</th>\n",
              "    </tr>\n",
              "  </thead>\n",
              "  <tbody>\n",
              "    <tr>\n",
              "      <th>0</th>\n",
              "      <td>7129300520</td>\n",
              "      <td>20141013T000000</td>\n",
              "      <td>221900.0</td>\n",
              "      <td>3</td>\n",
              "      <td>1.0</td>\n",
              "      <td>1180</td>\n",
              "      <td>5650</td>\n",
              "      <td>1.0</td>\n",
              "      <td>0</td>\n",
              "      <td>0</td>\n",
              "      <td>3</td>\n",
              "      <td>7</td>\n",
              "      <td>1180</td>\n",
              "      <td>0</td>\n",
              "      <td>1955</td>\n",
              "      <td>0</td>\n",
              "      <td>98178</td>\n",
              "      <td>47.5112</td>\n",
              "      <td>-122.257</td>\n",
              "      <td>1340</td>\n",
              "      <td>5650</td>\n",
              "      <td>59</td>\n",
              "      <td>12.309982</td>\n",
              "      <td>1392400</td>\n",
              "      <td>7.07327</td>\n",
              "      <td>49</td>\n",
              "      <td>0</td>\n",
              "      <td>1</td>\n",
              "      <td>0</td>\n",
              "      <td>False</td>\n",
              "      <td>False</td>\n",
              "      <td>True</td>\n",
              "      <td>False</td>\n",
              "      <td>False</td>\n",
              "    </tr>\n",
              "  </tbody>\n",
              "</table>\n",
              "</div>"
            ],
            "text/plain": [
              "           id             date     price  bedrooms  bathrooms  sqft_living  \\\n",
              "0  7129300520  20141013T000000  221900.0         3        1.0         1180   \n",
              "\n",
              "   sqft_lot  floors  waterfront  view  condition  grade  sqft_above  \\\n",
              "0      5650     1.0           0     0          3      7        1180   \n",
              "\n",
              "   sqft_basement  yr_built  yr_renovated  zipcode      lat     long  \\\n",
              "0              0      1955             0    98178  47.5112 -122.257   \n",
              "\n",
              "   sqft_living15  sqft_lot15  yrs_since_built  log_price  sqft_living_squared  \\\n",
              "0           1340        5650               59  12.309982              1392400   \n",
              "\n",
              "   sqft_living_log  grade_squared  pca2_2_means_label  pca2_3_means_label  \\\n",
              "0          7.07327             49                   0                   1   \n",
              "\n",
              "   pca3_2_means_label  has_basement  view_4  view_0  view_2  condition_1or2  \n",
              "0                   0         False   False    True   False           False  "
            ]
          },
          "metadata": {
            "tags": []
          },
          "execution_count": 656
        }
      ]
    },
    {
      "metadata": {
        "id": "dcnkUcG0MZ6f",
        "colab_type": "code",
        "colab": {
          "base_uri": "https://localhost:8080/",
          "height": 140
        },
        "outputId": "a6a6896e-bde0-4eba-9854-b0fd427f63b3"
      },
      "cell_type": "code",
      "source": [
        "df['renovated'] = (df.yr_renovated > 0)\n",
        "df.pivot_table(index='renovated', values='price')"
      ],
      "execution_count": 657,
      "outputs": [
        {
          "output_type": "execute_result",
          "data": {
            "text/html": [
              "<div>\n",
              "<style scoped>\n",
              "    .dataframe tbody tr th:only-of-type {\n",
              "        vertical-align: middle;\n",
              "    }\n",
              "\n",
              "    .dataframe tbody tr th {\n",
              "        vertical-align: top;\n",
              "    }\n",
              "\n",
              "    .dataframe thead th {\n",
              "        text-align: right;\n",
              "    }\n",
              "</style>\n",
              "<table border=\"1\" class=\"dataframe\">\n",
              "  <thead>\n",
              "    <tr style=\"text-align: right;\">\n",
              "      <th></th>\n",
              "      <th>price</th>\n",
              "    </tr>\n",
              "    <tr>\n",
              "      <th>renovated</th>\n",
              "      <th></th>\n",
              "    </tr>\n",
              "  </thead>\n",
              "  <tbody>\n",
              "    <tr>\n",
              "      <th>False</th>\n",
              "      <td>530360.818155</td>\n",
              "    </tr>\n",
              "    <tr>\n",
              "      <th>True</th>\n",
              "      <td>760379.029540</td>\n",
              "    </tr>\n",
              "  </tbody>\n",
              "</table>\n",
              "</div>"
            ],
            "text/plain": [
              "                   price\n",
              "renovated               \n",
              "False      530360.818155\n",
              "True       760379.029540"
            ]
          },
          "metadata": {
            "tags": []
          },
          "execution_count": 657
        }
      ]
    },
    {
      "metadata": {
        "id": "PkducxNhMcyS",
        "colab_type": "code",
        "colab": {
          "base_uri": "https://localhost:8080/",
          "height": 34
        },
        "outputId": "59ac1aa3-f79f-42d2-a441-cc76d7dc5dc6"
      },
      "cell_type": "code",
      "source": [
        "features = ['sqft_living_squared', 'grade_squared', 'waterfront', 'view_0', 'condition_1or2', 'renovated']\n",
        "target = 'price'\n",
        "\n",
        "X = df[features]\n",
        "y = df[target]\n",
        "\n",
        "X_train, X_test, y_train, y_test = train_test_split(X, y,test_size=0.5)\n",
        "\n",
        "lr = LinearRegression()\n",
        "lr.fit(X_train, y_train)\n",
        "\n",
        "oos_pred = lr.predict(X_test)\n",
        "oos_mse = mean_squared_error(y_test, oos_pred)\n",
        "oos_r2 = r2_score(y_test, oos_pred)\n",
        "rmse = (np.sqrt(oos_mse))\n",
        "rmse, oos_r2, oos_mse"
      ],
      "execution_count": 658,
      "outputs": [
        {
          "output_type": "execute_result",
          "data": {
            "text/plain": [
              "(218345.3209476396, 0.642369133053456, 47674679179.72774)"
            ]
          },
          "metadata": {
            "tags": []
          },
          "execution_count": 658
        }
      ]
    },
    {
      "metadata": {
        "id": "g2sox2auNZir",
        "colab_type": "code",
        "colab": {
          "base_uri": "https://localhost:8080/",
          "height": 69
        },
        "outputId": "59d77b3f-1f80-4767-a7db-919d4062b6c5"
      },
      "cell_type": "code",
      "source": [
        "df['year_sold'] = pd.to_datetime(df.date).dt.year\n",
        "df.year_sold.value_counts()"
      ],
      "execution_count": 659,
      "outputs": [
        {
          "output_type": "execute_result",
          "data": {
            "text/plain": [
              "2014    14633\n",
              "2015     6980\n",
              "Name: year_sold, dtype: int64"
            ]
          },
          "metadata": {
            "tags": []
          },
          "execution_count": 659
        }
      ]
    },
    {
      "metadata": {
        "id": "ehPG5jNTOVKT",
        "colab_type": "code",
        "colab": {
          "base_uri": "https://localhost:8080/",
          "height": 34
        },
        "outputId": "c69bdf63-c0d9-46f9-9ee2-7b9a1d1bb47f"
      },
      "cell_type": "code",
      "source": [
        "features = ['sqft_living_squared', 'grade_squared', 'waterfront', 'view_0', 'condition_1or2', 'renovated', 'year_sold']\n",
        "target = 'price'\n",
        "\n",
        "X = df[features]\n",
        "y = df[target]\n",
        "\n",
        "X_train, X_test, y_train, y_test = train_test_split(X, y,test_size=0.5)\n",
        "\n",
        "lr = LinearRegression()\n",
        "lr.fit(X_train, y_train)\n",
        "\n",
        "oos_pred = lr.predict(X_test)\n",
        "oos_mse = mean_squared_error(y_test, oos_pred)\n",
        "oos_r2 = r2_score(y_test, oos_pred)\n",
        "rmse = (np.sqrt(oos_mse))\n",
        "rmse, oos_r2, oos_mse"
      ],
      "execution_count": 660,
      "outputs": [
        {
          "output_type": "execute_result",
          "data": {
            "text/plain": [
              "(221959.9284774258, 0.6257094333312314, 49266209849.70398)"
            ]
          },
          "metadata": {
            "tags": []
          },
          "execution_count": 660
        }
      ]
    },
    {
      "metadata": {
        "id": "w7YnG6uuO-24",
        "colab_type": "code",
        "colab": {
          "base_uri": "https://localhost:8080/",
          "height": 379
        },
        "outputId": "fe0c8bf1-a68b-4691-8046-d02b9ba53590"
      },
      "cell_type": "code",
      "source": [
        "df.pivot_table(index='bedrooms', values='price').plot.bar()"
      ],
      "execution_count": 661,
      "outputs": [
        {
          "output_type": "execute_result",
          "data": {
            "text/plain": [
              "<matplotlib.axes._subplots.AxesSubplot at 0x7f35620919b0>"
            ]
          },
          "metadata": {
            "tags": []
          },
          "execution_count": 661
        },
        {
          "output_type": "display_data",
          "data": {
            "image/png": "[encoded data removed]",
            "text/plain": [
              "<Figure size 576x396 with 1 Axes>"
            ]
          },
          "metadata": {
            "tags": []
          }
        }
      ]
    },
    {
      "metadata": {
        "id": "vjUZ5fdYPExr",
        "colab_type": "code",
        "colab": {
          "base_uri": "https://localhost:8080/",
          "height": 259
        },
        "outputId": "586ac661-a0c8-489c-8201-7f320793c001"
      },
      "cell_type": "code",
      "source": [
        "df.bedrooms.value_counts()"
      ],
      "execution_count": 662,
      "outputs": [
        {
          "output_type": "execute_result",
          "data": {
            "text/plain": [
              "3     9824\n",
              "4     6882\n",
              "2     2760\n",
              "5     1601\n",
              "6      272\n",
              "1      199\n",
              "7       38\n",
              "8       13\n",
              "0       13\n",
              "9        6\n",
              "10       3\n",
              "11       1\n",
              "33       1\n",
              "Name: bedrooms, dtype: int64"
            ]
          },
          "metadata": {
            "tags": []
          },
          "execution_count": 662
        }
      ]
    },
    {
      "metadata": {
        "id": "o_NC7QInPYDG",
        "colab_type": "code",
        "colab": {}
      },
      "cell_type": "code",
      "source": [
        "df['bedrooms_missing'] = (df.bedrooms == 0)\n",
        "df['bedrooms_alot'] = (df.bedrooms >= 9)\n",
        "df['bedrooms_1'] = (df.bedrooms == 1)\n",
        "df['bedrooms_2'] = (df.bedrooms == 2)\n",
        "df['bedrooms_3'] = (df.bedrooms == 3)\n",
        "df['bedrooms_4'] = (df.bedrooms == 4)\n",
        "df['bedrooms_5'] = (df.bedrooms == 5)\n",
        "df['bedrooms_6'] = (df.bedrooms == 6)\n",
        "df['bedrooms_7'] = (df.bedrooms == 7)\n",
        "df['bedrooms_8'] = (df.bedrooms == 8)"
      ],
      "execution_count": 0,
      "outputs": []
    },
    {
      "metadata": {
        "id": "n_2cVG1ZPlgG",
        "colab_type": "code",
        "colab": {
          "base_uri": "https://localhost:8080/",
          "height": 34
        },
        "outputId": "db69bf39-7463-4c33-bc58-4b70c87b6657"
      },
      "cell_type": "code",
      "source": [
        "features = ['sqft_living_squared', 'grade_squared', 'waterfront', 'view_0', 'condition_1or2', 'renovated', 'year_sold', 'bathrooms']\n",
        "    \n",
        "target = 'price'\n",
        "\n",
        "X = df[features]\n",
        "y = df[target]\n",
        "\n",
        "X_train, X_test, y_train, y_test = train_test_split(X, y,test_size=0.5)\n",
        "\n",
        "lr = LinearRegression()\n",
        "lr.fit(X_train, y_train)\n",
        "\n",
        "oos_pred = lr.predict(X_test)\n",
        "oos_mse = mean_squared_error(y_test, oos_pred)\n",
        "oos_r2 = r2_score(y_test, oos_pred)\n",
        "rmse = (np.sqrt(oos_mse))\n",
        "rmse, oos_r2, oos_mse"
      ],
      "execution_count": 664,
      "outputs": [
        {
          "output_type": "execute_result",
          "data": {
            "text/plain": [
              "(220105.48437128623, 0.6288290019456875, 48446424250.318535)"
            ]
          },
          "metadata": {
            "tags": []
          },
          "execution_count": 664
        }
      ]
    },
    {
      "metadata": {
        "id": "H-UvS0_KQzek",
        "colab_type": "code",
        "colab": {
          "base_uri": "https://localhost:8080/",
          "height": 388
        },
        "outputId": "368bd13e-e4ed-4947-c95b-2005274f04da"
      },
      "cell_type": "code",
      "source": [
        "df.pivot_table(index='bathrooms', values='price').plot.bar()"
      ],
      "execution_count": 665,
      "outputs": [
        {
          "output_type": "execute_result",
          "data": {
            "text/plain": [
              "<matplotlib.axes._subplots.AxesSubplot at 0x7f3562170c88>"
            ]
          },
          "metadata": {
            "tags": []
          },
          "execution_count": 665
        },
        {
          "output_type": "display_data",
          "data": {
            "image/png": "[encoded data removed]",
            "text/plain": [
              "<Figure size 576x396 with 1 Axes>"
            ]
          },
          "metadata": {
            "tags": []
          }
        }
      ]
    },
    {
      "metadata": {
        "id": "IZXui9yIQ-lG",
        "colab_type": "code",
        "colab": {
          "base_uri": "https://localhost:8080/",
          "height": 365
        },
        "outputId": "b6ad147e-3a9c-4b4d-dfca-e766f12a106e"
      },
      "cell_type": "code",
      "source": [
        "plt.scatter(df.bathrooms, df.price)"
      ],
      "execution_count": 666,
      "outputs": [
        {
          "output_type": "execute_result",
          "data": {
            "text/plain": [
              "<matplotlib.collections.PathCollection at 0x7f356237a588>"
            ]
          },
          "metadata": {
            "tags": []
          },
          "execution_count": 666
        },
        {
          "output_type": "display_data",
          "data": {
            "image/png": "[encoded data removed]",
            "text/plain": [
              "<Figure size 576x396 with 1 Axes>"
            ]
          },
          "metadata": {
            "tags": []
          }
        }
      ]
    },
    {
      "metadata": {
        "id": "GAy4ekY4RZUX",
        "colab_type": "code",
        "colab": {
          "base_uri": "https://localhost:8080/",
          "height": 364
        },
        "outputId": "623634ac-3a38-4434-ca3b-fea693975817"
      },
      "cell_type": "code",
      "source": [
        "plt.scatter(df.bathrooms, df.log_price)"
      ],
      "execution_count": 667,
      "outputs": [
        {
          "output_type": "execute_result",
          "data": {
            "text/plain": [
              "<matplotlib.collections.PathCollection at 0x7f35622e26a0>"
            ]
          },
          "metadata": {
            "tags": []
          },
          "execution_count": 667
        },
        {
          "output_type": "display_data",
          "data": {
            "image/png": "[encoded data removed]",
            "text/plain": [
              "<Figure size 576x396 with 1 Axes>"
            ]
          },
          "metadata": {
            "tags": []
          }
        }
      ]
    },
    {
      "metadata": {
        "id": "Y0cZ0nYMRcIt",
        "colab_type": "code",
        "colab": {}
      },
      "cell_type": "code",
      "source": [
        "df['bathrooms_squared'] = df.bathrooms ** 2"
      ],
      "execution_count": 0,
      "outputs": []
    },
    {
      "metadata": {
        "id": "fvkxfiUDRmgJ",
        "colab_type": "code",
        "colab": {
          "base_uri": "https://localhost:8080/",
          "height": 34
        },
        "outputId": "36ecc5cc-1b8b-4b9d-c5f2-1f0b9ff76535"
      },
      "cell_type": "code",
      "source": [
        "features = ['sqft_living_squared', 'grade_squared', 'waterfront', 'view_0', 'condition_1or2', 'renovated', 'year_sold', 'bathrooms']\n",
        "    \n",
        "target = 'price'\n",
        "\n",
        "X = df[features]\n",
        "y = df[target]\n",
        "\n",
        "X_train, X_test, y_train, y_test = train_test_split(X, y,test_size=0.5)\n",
        "\n",
        "lr = LinearRegression()\n",
        "lr.fit(X_train, y_train)\n",
        "\n",
        "oos_pred = lr.predict(X_test)\n",
        "oos_mse = mean_squared_error(y_test, oos_pred)\n",
        "oos_r2 = r2_score(y_test, oos_pred)\n",
        "rmse = (np.sqrt(oos_mse))\n",
        "rmse, oos_r2, oos_mse"
      ],
      "execution_count": 669,
      "outputs": [
        {
          "output_type": "execute_result",
          "data": {
            "text/plain": [
              "(221136.90522743034, 0.6465856939007013, 48901530853.565506)"
            ]
          },
          "metadata": {
            "tags": []
          },
          "execution_count": 669
        }
      ]
    },
    {
      "metadata": {
        "id": "fE4BwTGXRsCD",
        "colab_type": "code",
        "colab": {}
      },
      "cell_type": "code",
      "source": [
        "df['old_not_renovated'] = df.yrs_since_built * df.renovated"
      ],
      "execution_count": 0,
      "outputs": []
    },
    {
      "metadata": {
        "id": "4qJUB2nWStQk",
        "colab_type": "code",
        "colab": {
          "base_uri": "https://localhost:8080/",
          "height": 396
        },
        "outputId": "9f8d2fbb-ec95-4f22-fc33-7d480ee45d71"
      },
      "cell_type": "code",
      "source": [
        "df.pivot_table(index='zipcode', values='price').plot.bar()"
      ],
      "execution_count": 671,
      "outputs": [
        {
          "output_type": "execute_result",
          "data": {
            "text/plain": [
              "<matplotlib.axes._subplots.AxesSubplot at 0x7f35622e2e48>"
            ]
          },
          "metadata": {
            "tags": []
          },
          "execution_count": 671
        },
        {
          "output_type": "display_data",
          "data": {
            "image/png": "[encoded data removed]",
            "text/plain": [
              "<Figure size 576x396 with 1 Axes>"
            ]
          },
          "metadata": {
            "tags": []
          }
        }
      ]
    },
    {
      "metadata": {
        "id": "LjnijpPES8Ls",
        "colab_type": "code",
        "colab": {
          "base_uri": "https://localhost:8080/",
          "height": 364
        },
        "outputId": "2f7aadc4-3b19-4ac9-9300-2aa1a29f0b63"
      },
      "cell_type": "code",
      "source": [
        "plt.scatter(df.sqft_lot, df.log_price)"
      ],
      "execution_count": 672,
      "outputs": [
        {
          "output_type": "execute_result",
          "data": {
            "text/plain": [
              "<matplotlib.collections.PathCollection at 0x7f3561fdf668>"
            ]
          },
          "metadata": {
            "tags": []
          },
          "execution_count": 672
        },
        {
          "output_type": "display_data",
          "data": {
            "image/png": "[encoded data removed]",
            "text/plain": [
              "<Figure size 576x396 with 1 Axes>"
            ]
          },
          "metadata": {
            "tags": []
          }
        }
      ]
    },
    {
      "metadata": {
        "id": "Qc0LYIKDT727",
        "colab_type": "code",
        "colab": {
          "base_uri": "https://localhost:8080/",
          "height": 34
        },
        "outputId": "7a7686ab-a397-44cc-f56b-15861b38b85a"
      },
      "cell_type": "code",
      "source": [
        "features = ['sqft_living_squared', 'grade_squared', 'waterfront', 'view_0', 'condition_1or2', 'renovated', 'year_sold', 'bathrooms', 'sqft_lot']\n",
        "    \n",
        "target = 'price'\n",
        "\n",
        "X = df[features]\n",
        "y = df[target]\n",
        "\n",
        "X_train, X_test, y_train, y_test = train_test_split(X, y,test_size=0.5)\n",
        "\n",
        "lr = LinearRegression()\n",
        "lr.fit(X_train, y_train)\n",
        "\n",
        "oos_pred = lr.predict(X_test)\n",
        "oos_mse = mean_squared_error(y_test, oos_pred)\n",
        "oos_r2 = r2_score(y_test, oos_pred)\n",
        "rmse = (np.sqrt(oos_mse))\n",
        "rmse, oos_r2, oos_mse"
      ],
      "execution_count": 673,
      "outputs": [
        {
          "output_type": "execute_result",
          "data": {
            "text/plain": [
              "(222248.0992577286, 0.6195965644080306, 49394217623.67319)"
            ]
          },
          "metadata": {
            "tags": []
          },
          "execution_count": 673
        }
      ]
    },
    {
      "metadata": {
        "id": "8Ni66lskU27w",
        "colab_type": "code",
        "colab": {}
      },
      "cell_type": "code",
      "source": [
        "df['sqft_interaction'] = df.sqft_living_squared * df.sqft_lot"
      ],
      "execution_count": 0,
      "outputs": []
    },
    {
      "metadata": {
        "id": "j26PhGU0VE9e",
        "colab_type": "code",
        "colab": {
          "base_uri": "https://localhost:8080/",
          "height": 34
        },
        "outputId": "be799e8e-f0cb-4f5b-c3d7-80ab297d0097"
      },
      "cell_type": "code",
      "source": [
        "features = ['sqft_living_squared', 'grade_squared', 'waterfront', 'view_0', 'condition_1or2', 'renovated', 'year_sold', 'bathrooms', 'sqft_interaction']\n",
        "    \n",
        "target = 'price'\n",
        "\n",
        "X = df[features]\n",
        "y = df[target]\n",
        "\n",
        "X_train, X_test, y_train, y_test = train_test_split(X, y,test_size=0.5)\n",
        "\n",
        "lr = LinearRegression()\n",
        "lr.fit(X_train, y_train)\n",
        "\n",
        "oos_pred = lr.predict(X_test)\n",
        "oos_mse = mean_squared_error(y_test, oos_pred)\n",
        "oos_r2 = r2_score(y_test, oos_pred)\n",
        "rmse = (np.sqrt(oos_mse))\n",
        "rmse, oos_r2, oos_mse"
      ],
      "execution_count": 675,
      "outputs": [
        {
          "output_type": "execute_result",
          "data": {
            "text/plain": [
              "(223335.55920336352, 0.6514130400012486, 49878772004.67909)"
            ]
          },
          "metadata": {
            "tags": []
          },
          "execution_count": 675
        }
      ]
    },
    {
      "metadata": {
        "id": "x8L1_pVNVHjW",
        "colab_type": "code",
        "colab": {
          "base_uri": "https://localhost:8080/",
          "height": 365
        },
        "outputId": "1fc7d15b-a02d-4fbe-b7aa-b3361d273fba"
      },
      "cell_type": "code",
      "source": [
        "plt.scatter(df.view, df.price)"
      ],
      "execution_count": 676,
      "outputs": [
        {
          "output_type": "execute_result",
          "data": {
            "text/plain": [
              "<matplotlib.collections.PathCollection at 0x7f3561fc03c8>"
            ]
          },
          "metadata": {
            "tags": []
          },
          "execution_count": 676
        },
        {
          "output_type": "display_data",
          "data": {
            "image/png": "[encoded data removed]",
            "text/plain": [
              "<Figure size 576x396 with 1 Axes>"
            ]
          },
          "metadata": {
            "tags": []
          }
        }
      ]
    },
    {
      "metadata": {
        "id": "r62Rpnp-XPMK",
        "colab_type": "code",
        "colab": {}
      },
      "cell_type": "code",
      "source": [
        "df['view_grade_interaction'] = df.view * df.grade_squared"
      ],
      "execution_count": 0,
      "outputs": []
    },
    {
      "metadata": {
        "id": "PB1gBMFmXxef",
        "colab_type": "code",
        "colab": {
          "base_uri": "https://localhost:8080/",
          "height": 34
        },
        "outputId": "fab15f37-cc19-4afc-c17d-d09779120c51"
      },
      "cell_type": "code",
      "source": [
        "features = ['sqft_living_squared', 'grade_squared', 'waterfront', 'view_0', 'condition_1or2', 'renovated', 'year_sold', 'bathrooms', 'sqft_interaction',\n",
        "            'view_grade_interaction']\n",
        "    \n",
        "target = 'price'\n",
        "\n",
        "X = df[features]\n",
        "y = df[target]\n",
        "\n",
        "X_train, X_test, y_train, y_test = train_test_split(X, y,test_size=0.5)\n",
        "\n",
        "lr = LinearRegression()\n",
        "lr.fit(X_train, y_train)\n",
        "\n",
        "oos_pred = lr.predict(X_test)\n",
        "oos_mse = mean_squared_error(y_test, oos_pred)\n",
        "oos_r2 = r2_score(y_test, oos_pred)\n",
        "rmse = (np.sqrt(oos_mse))\n",
        "rmse, oos_r2, oos_mse"
      ],
      "execution_count": 678,
      "outputs": [
        {
          "output_type": "execute_result",
          "data": {
            "text/plain": [
              "(212300.97411096352, 0.656785573718455, 45071703608.464005)"
            ]
          },
          "metadata": {
            "tags": []
          },
          "execution_count": 678
        }
      ]
    },
    {
      "metadata": {
        "id": "EJAT6XpxXqT3",
        "colab_type": "code",
        "colab": {}
      },
      "cell_type": "code",
      "source": [
        "df.floors = df.floors.map({1:1, 1.5:1.5, 2:2, 3.5: 2.5, 3.0:2.5})"
      ],
      "execution_count": 0,
      "outputs": []
    },
    {
      "metadata": {
        "id": "iK5yh5GpZ-fa",
        "colab_type": "code",
        "colab": {}
      },
      "cell_type": "code",
      "source": [
        "df.floors = df.floors.fillna(2.5)"
      ],
      "execution_count": 0,
      "outputs": []
    },
    {
      "metadata": {
        "id": "lPIvz3aEZKqk",
        "colab_type": "code",
        "colab": {
          "base_uri": "https://localhost:8080/",
          "height": 34
        },
        "outputId": "d02fee30-062e-4d0f-cfc0-07e33945df3e"
      },
      "cell_type": "code",
      "source": [
        "features = ['sqft_living_squared', 'grade_squared', 'waterfront', 'view_0', 'condition_1or2', 'renovated', 'year_sold', 'bathrooms', 'sqft_interaction',\n",
        "            'view_grade_interaction', 'floors']\n",
        "    \n",
        "target = 'price'\n",
        "\n",
        "X = df[features]\n",
        "y = df[target]\n",
        "\n",
        "X_train, X_test, y_train, y_test = train_test_split(X, y,test_size=0.5)\n",
        "\n",
        "lr = LinearRegression()\n",
        "lr.fit(X_train, y_train)\n",
        "\n",
        "oos_pred = lr.predict(X_test)\n",
        "oos_mse = mean_squared_error(y_test, oos_pred)\n",
        "oos_r2 = r2_score(y_test, oos_pred)\n",
        "rmse = (np.sqrt(oos_mse))\n",
        "rmse, oos_r2, oos_mse"
      ],
      "execution_count": 709,
      "outputs": [
        {
          "output_type": "execute_result",
          "data": {
            "text/plain": [
              "(214633.51574006284, 0.6374323791951264, 46067546078.939804)"
            ]
          },
          "metadata": {
            "tags": []
          },
          "execution_count": 709
        }
      ]
    },
    {
      "metadata": {
        "id": "Hsz_YJgZaOJ-",
        "colab_type": "code",
        "colab": {
          "base_uri": "https://localhost:8080/",
          "height": 222
        },
        "outputId": "db1f676e-4210-41d3-935f-788bf673f7d3"
      },
      "cell_type": "code",
      "source": [
        "df.head()"
      ],
      "execution_count": 710,
      "outputs": [
        {
          "output_type": "execute_result",
          "data": {
            "text/html": [
              "<div>\n",
              "<style scoped>\n",
              "    .dataframe tbody tr th:only-of-type {\n",
              "        vertical-align: middle;\n",
              "    }\n",
              "\n",
              "    .dataframe tbody tr th {\n",
              "        vertical-align: top;\n",
              "    }\n",
              "\n",
              "    .dataframe thead th {\n",
              "        text-align: right;\n",
              "    }\n",
              "</style>\n",
              "<table border=\"1\" class=\"dataframe\">\n",
              "  <thead>\n",
              "    <tr style=\"text-align: right;\">\n",
              "      <th></th>\n",
              "      <th>id</th>\n",
              "      <th>date</th>\n",
              "      <th>price</th>\n",
              "      <th>bedrooms</th>\n",
              "      <th>bathrooms</th>\n",
              "      <th>sqft_living</th>\n",
              "      <th>sqft_lot</th>\n",
              "      <th>floors</th>\n",
              "      <th>waterfront</th>\n",
              "      <th>view</th>\n",
              "      <th>condition</th>\n",
              "      <th>grade</th>\n",
              "      <th>sqft_above</th>\n",
              "      <th>sqft_basement</th>\n",
              "      <th>yr_built</th>\n",
              "      <th>yr_renovated</th>\n",
              "      <th>zipcode</th>\n",
              "      <th>lat</th>\n",
              "      <th>long</th>\n",
              "      <th>sqft_living15</th>\n",
              "      <th>sqft_lot15</th>\n",
              "      <th>yrs_since_built</th>\n",
              "      <th>log_price</th>\n",
              "      <th>sqft_living_squared</th>\n",
              "      <th>sqft_living_log</th>\n",
              "      <th>grade_squared</th>\n",
              "      <th>pca2_2_means_label</th>\n",
              "      <th>pca2_3_means_label</th>\n",
              "      <th>pca3_2_means_label</th>\n",
              "      <th>has_basement</th>\n",
              "      <th>view_4</th>\n",
              "      <th>view_0</th>\n",
              "      <th>view_2</th>\n",
              "      <th>condition_1or2</th>\n",
              "      <th>renovated</th>\n",
              "      <th>year_sold</th>\n",
              "      <th>bedrooms_missing</th>\n",
              "      <th>bedrooms_alot</th>\n",
              "      <th>bedrooms_1</th>\n",
              "      <th>bedrooms_2</th>\n",
              "      <th>bedrooms_3</th>\n",
              "      <th>bedrooms_4</th>\n",
              "      <th>bedrooms_5</th>\n",
              "      <th>bedrooms_6</th>\n",
              "      <th>bedrooms_7</th>\n",
              "      <th>bedrooms_8</th>\n",
              "      <th>bathrooms_squared</th>\n",
              "      <th>old_not_renovated</th>\n",
              "      <th>sqft_interaction</th>\n",
              "      <th>view_grade_interaction</th>\n",
              "    </tr>\n",
              "  </thead>\n",
              "  <tbody>\n",
              "    <tr>\n",
              "      <th>0</th>\n",
              "      <td>7129300520</td>\n",
              "      <td>20141013T000000</td>\n",
              "      <td>221900.0</td>\n",
              "      <td>3</td>\n",
              "      <td>1.00</td>\n",
              "      <td>1180</td>\n",
              "      <td>5650</td>\n",
              "      <td>1.0</td>\n",
              "      <td>0</td>\n",
              "      <td>0</td>\n",
              "      <td>3</td>\n",
              "      <td>7</td>\n",
              "      <td>1180</td>\n",
              "      <td>0</td>\n",
              "      <td>1955</td>\n",
              "      <td>0</td>\n",
              "      <td>98178</td>\n",
              "      <td>47.5112</td>\n",
              "      <td>-122.257</td>\n",
              "      <td>1340</td>\n",
              "      <td>5650</td>\n",
              "      <td>59</td>\n",
              "      <td>12.309982</td>\n",
              "      <td>1392400</td>\n",
              "      <td>7.073270</td>\n",
              "      <td>49</td>\n",
              "      <td>0</td>\n",
              "      <td>1</td>\n",
              "      <td>0</td>\n",
              "      <td>False</td>\n",
              "      <td>False</td>\n",
              "      <td>True</td>\n",
              "      <td>False</td>\n",
              "      <td>False</td>\n",
              "      <td>False</td>\n",
              "      <td>2014</td>\n",
              "      <td>False</td>\n",
              "      <td>False</td>\n",
              "      <td>False</td>\n",
              "      <td>False</td>\n",
              "      <td>True</td>\n",
              "      <td>False</td>\n",
              "      <td>False</td>\n",
              "      <td>False</td>\n",
              "      <td>False</td>\n",
              "      <td>False</td>\n",
              "      <td>1.0000</td>\n",
              "      <td>0</td>\n",
              "      <td>7867060000</td>\n",
              "      <td>0</td>\n",
              "    </tr>\n",
              "    <tr>\n",
              "      <th>1</th>\n",
              "      <td>6414100192</td>\n",
              "      <td>20141209T000000</td>\n",
              "      <td>538000.0</td>\n",
              "      <td>3</td>\n",
              "      <td>2.25</td>\n",
              "      <td>2570</td>\n",
              "      <td>7242</td>\n",
              "      <td>2.0</td>\n",
              "      <td>0</td>\n",
              "      <td>0</td>\n",
              "      <td>3</td>\n",
              "      <td>7</td>\n",
              "      <td>2170</td>\n",
              "      <td>400</td>\n",
              "      <td>1951</td>\n",
              "      <td>1991</td>\n",
              "      <td>98125</td>\n",
              "      <td>47.7210</td>\n",
              "      <td>-122.319</td>\n",
              "      <td>1690</td>\n",
              "      <td>7639</td>\n",
              "      <td>63</td>\n",
              "      <td>13.195614</td>\n",
              "      <td>6604900</td>\n",
              "      <td>7.851661</td>\n",
              "      <td>49</td>\n",
              "      <td>0</td>\n",
              "      <td>1</td>\n",
              "      <td>0</td>\n",
              "      <td>True</td>\n",
              "      <td>False</td>\n",
              "      <td>True</td>\n",
              "      <td>False</td>\n",
              "      <td>False</td>\n",
              "      <td>True</td>\n",
              "      <td>2014</td>\n",
              "      <td>False</td>\n",
              "      <td>False</td>\n",
              "      <td>False</td>\n",
              "      <td>False</td>\n",
              "      <td>True</td>\n",
              "      <td>False</td>\n",
              "      <td>False</td>\n",
              "      <td>False</td>\n",
              "      <td>False</td>\n",
              "      <td>False</td>\n",
              "      <td>5.0625</td>\n",
              "      <td>63</td>\n",
              "      <td>47832685800</td>\n",
              "      <td>0</td>\n",
              "    </tr>\n",
              "    <tr>\n",
              "      <th>2</th>\n",
              "      <td>5631500400</td>\n",
              "      <td>20150225T000000</td>\n",
              "      <td>180000.0</td>\n",
              "      <td>2</td>\n",
              "      <td>1.00</td>\n",
              "      <td>770</td>\n",
              "      <td>10000</td>\n",
              "      <td>1.0</td>\n",
              "      <td>0</td>\n",
              "      <td>0</td>\n",
              "      <td>3</td>\n",
              "      <td>6</td>\n",
              "      <td>770</td>\n",
              "      <td>0</td>\n",
              "      <td>1933</td>\n",
              "      <td>0</td>\n",
              "      <td>98028</td>\n",
              "      <td>47.7379</td>\n",
              "      <td>-122.233</td>\n",
              "      <td>2720</td>\n",
              "      <td>8062</td>\n",
              "      <td>82</td>\n",
              "      <td>12.100712</td>\n",
              "      <td>592900</td>\n",
              "      <td>6.646391</td>\n",
              "      <td>36</td>\n",
              "      <td>0</td>\n",
              "      <td>1</td>\n",
              "      <td>0</td>\n",
              "      <td>False</td>\n",
              "      <td>False</td>\n",
              "      <td>True</td>\n",
              "      <td>False</td>\n",
              "      <td>False</td>\n",
              "      <td>False</td>\n",
              "      <td>2015</td>\n",
              "      <td>False</td>\n",
              "      <td>False</td>\n",
              "      <td>False</td>\n",
              "      <td>True</td>\n",
              "      <td>False</td>\n",
              "      <td>False</td>\n",
              "      <td>False</td>\n",
              "      <td>False</td>\n",
              "      <td>False</td>\n",
              "      <td>False</td>\n",
              "      <td>1.0000</td>\n",
              "      <td>0</td>\n",
              "      <td>5929000000</td>\n",
              "      <td>0</td>\n",
              "    </tr>\n",
              "    <tr>\n",
              "      <th>3</th>\n",
              "      <td>2487200875</td>\n",
              "      <td>20141209T000000</td>\n",
              "      <td>604000.0</td>\n",
              "      <td>4</td>\n",
              "      <td>3.00</td>\n",
              "      <td>1960</td>\n",
              "      <td>5000</td>\n",
              "      <td>1.0</td>\n",
              "      <td>0</td>\n",
              "      <td>0</td>\n",
              "      <td>5</td>\n",
              "      <td>7</td>\n",
              "      <td>1050</td>\n",
              "      <td>910</td>\n",
              "      <td>1965</td>\n",
              "      <td>0</td>\n",
              "      <td>98136</td>\n",
              "      <td>47.5208</td>\n",
              "      <td>-122.393</td>\n",
              "      <td>1360</td>\n",
              "      <td>5000</td>\n",
              "      <td>49</td>\n",
              "      <td>13.311329</td>\n",
              "      <td>3841600</td>\n",
              "      <td>7.580700</td>\n",
              "      <td>49</td>\n",
              "      <td>0</td>\n",
              "      <td>1</td>\n",
              "      <td>0</td>\n",
              "      <td>True</td>\n",
              "      <td>False</td>\n",
              "      <td>True</td>\n",
              "      <td>False</td>\n",
              "      <td>False</td>\n",
              "      <td>False</td>\n",
              "      <td>2014</td>\n",
              "      <td>False</td>\n",
              "      <td>False</td>\n",
              "      <td>False</td>\n",
              "      <td>False</td>\n",
              "      <td>False</td>\n",
              "      <td>True</td>\n",
              "      <td>False</td>\n",
              "      <td>False</td>\n",
              "      <td>False</td>\n",
              "      <td>False</td>\n",
              "      <td>9.0000</td>\n",
              "      <td>0</td>\n",
              "      <td>19208000000</td>\n",
              "      <td>0</td>\n",
              "    </tr>\n",
              "    <tr>\n",
              "      <th>4</th>\n",
              "      <td>1954400510</td>\n",
              "      <td>20150218T000000</td>\n",
              "      <td>510000.0</td>\n",
              "      <td>3</td>\n",
              "      <td>2.00</td>\n",
              "      <td>1680</td>\n",
              "      <td>8080</td>\n",
              "      <td>1.0</td>\n",
              "      <td>0</td>\n",
              "      <td>0</td>\n",
              "      <td>3</td>\n",
              "      <td>8</td>\n",
              "      <td>1680</td>\n",
              "      <td>0</td>\n",
              "      <td>1987</td>\n",
              "      <td>0</td>\n",
              "      <td>98074</td>\n",
              "      <td>47.6168</td>\n",
              "      <td>-122.045</td>\n",
              "      <td>1800</td>\n",
              "      <td>7503</td>\n",
              "      <td>28</td>\n",
              "      <td>13.142166</td>\n",
              "      <td>2822400</td>\n",
              "      <td>7.426549</td>\n",
              "      <td>64</td>\n",
              "      <td>0</td>\n",
              "      <td>1</td>\n",
              "      <td>0</td>\n",
              "      <td>False</td>\n",
              "      <td>False</td>\n",
              "      <td>True</td>\n",
              "      <td>False</td>\n",
              "      <td>False</td>\n",
              "      <td>False</td>\n",
              "      <td>2015</td>\n",
              "      <td>False</td>\n",
              "      <td>False</td>\n",
              "      <td>False</td>\n",
              "      <td>False</td>\n",
              "      <td>True</td>\n",
              "      <td>False</td>\n",
              "      <td>False</td>\n",
              "      <td>False</td>\n",
              "      <td>False</td>\n",
              "      <td>False</td>\n",
              "      <td>4.0000</td>\n",
              "      <td>0</td>\n",
              "      <td>22804992000</td>\n",
              "      <td>0</td>\n",
              "    </tr>\n",
              "  </tbody>\n",
              "</table>\n",
              "</div>"
            ],
            "text/plain": [
              "           id             date     price  bedrooms  bathrooms  sqft_living  \\\n",
              "0  7129300520  20141013T000000  221900.0         3       1.00         1180   \n",
              "1  6414100192  20141209T000000  538000.0         3       2.25         2570   \n",
              "2  5631500400  20150225T000000  180000.0         2       1.00          770   \n",
              "3  2487200875  20141209T000000  604000.0         4       3.00         1960   \n",
              "4  1954400510  20150218T000000  510000.0         3       2.00         1680   \n",
              "\n",
              "   sqft_lot  floors  waterfront  view  condition  grade  sqft_above  \\\n",
              "0      5650     1.0           0     0          3      7        1180   \n",
              "1      7242     2.0           0     0          3      7        2170   \n",
              "2     10000     1.0           0     0          3      6         770   \n",
              "3      5000     1.0           0     0          5      7        1050   \n",
              "4      8080     1.0           0     0          3      8        1680   \n",
              "\n",
              "   sqft_basement  yr_built  yr_renovated  zipcode      lat     long  \\\n",
              "0              0      1955             0    98178  47.5112 -122.257   \n",
              "1            400      1951          1991    98125  47.7210 -122.319   \n",
              "2              0      1933             0    98028  47.7379 -122.233   \n",
              "3            910      1965             0    98136  47.5208 -122.393   \n",
              "4              0      1987             0    98074  47.6168 -122.045   \n",
              "\n",
              "   sqft_living15  sqft_lot15  yrs_since_built  log_price  sqft_living_squared  \\\n",
              "0           1340        5650               59  12.309982              1392400   \n",
              "1           1690        7639               63  13.195614              6604900   \n",
              "2           2720        8062               82  12.100712               592900   \n",
              "3           1360        5000               49  13.311329              3841600   \n",
              "4           1800        7503               28  13.142166              2822400   \n",
              "\n",
              "   sqft_living_log  grade_squared  pca2_2_means_label  pca2_3_means_label  \\\n",
              "0         7.073270             49                   0                   1   \n",
              "1         7.851661             49                   0                   1   \n",
              "2         6.646391             36                   0                   1   \n",
              "3         7.580700             49                   0                   1   \n",
              "4         7.426549             64                   0                   1   \n",
              "\n",
              "   pca3_2_means_label  has_basement  view_4  view_0  view_2  condition_1or2  \\\n",
              "0                   0         False   False    True   False           False   \n",
              "1                   0          True   False    True   False           False   \n",
              "2                   0         False   False    True   False           False   \n",
              "3                   0          True   False    True   False           False   \n",
              "4                   0         False   False    True   False           False   \n",
              "\n",
              "   renovated  year_sold  bedrooms_missing  bedrooms_alot  bedrooms_1  \\\n",
              "0      False       2014             False          False       False   \n",
              "1       True       2014             False          False       False   \n",
              "2      False       2015             False          False       False   \n",
              "3      False       2014             False          False       False   \n",
              "4      False       2015             False          False       False   \n",
              "\n",
              "   bedrooms_2  bedrooms_3  bedrooms_4  bedrooms_5  bedrooms_6  bedrooms_7  \\\n",
              "0       False        True       False       False       False       False   \n",
              "1       False        True       False       False       False       False   \n",
              "2        True       False       False       False       False       False   \n",
              "3       False       False        True       False       False       False   \n",
              "4       False        True       False       False       False       False   \n",
              "\n",
              "   bedrooms_8  bathrooms_squared  old_not_renovated  sqft_interaction  \\\n",
              "0       False             1.0000                  0        7867060000   \n",
              "1       False             5.0625                 63       47832685800   \n",
              "2       False             1.0000                  0        5929000000   \n",
              "3       False             9.0000                  0       19208000000   \n",
              "4       False             4.0000                  0       22804992000   \n",
              "\n",
              "   view_grade_interaction  \n",
              "0                       0  \n",
              "1                       0  \n",
              "2                       0  \n",
              "3                       0  \n",
              "4                       0  "
            ]
          },
          "metadata": {
            "tags": []
          },
          "execution_count": 710
        }
      ]
    },
    {
      "metadata": {
        "id": "HO8X1DwZanf5",
        "colab_type": "code",
        "colab": {
          "base_uri": "https://localhost:8080/",
          "height": 259
        },
        "outputId": "a0f0cb79-6dfa-45ef-83bc-1a8bebe26ac0"
      },
      "cell_type": "code",
      "source": [
        "df.bedrooms.value_counts()"
      ],
      "execution_count": 711,
      "outputs": [
        {
          "output_type": "execute_result",
          "data": {
            "text/plain": [
              "3     9824\n",
              "4     6882\n",
              "2     2760\n",
              "5     1601\n",
              "6      272\n",
              "1      199\n",
              "7       38\n",
              "8       13\n",
              "0       13\n",
              "9        6\n",
              "10       3\n",
              "11       1\n",
              "33       1\n",
              "Name: bedrooms, dtype: int64"
            ]
          },
          "metadata": {
            "tags": []
          },
          "execution_count": 711
        }
      ]
    },
    {
      "metadata": {
        "id": "-2U6G-tMbcjz",
        "colab_type": "code",
        "colab": {
          "base_uri": "https://localhost:8080/",
          "height": 173
        },
        "outputId": "2990c28e-dc2e-499d-b53a-c697d03261e2"
      },
      "cell_type": "code",
      "source": [
        "df.bedrooms.describe()"
      ],
      "execution_count": 713,
      "outputs": [
        {
          "output_type": "execute_result",
          "data": {
            "text/plain": [
              "count    21613.000000\n",
              "mean         3.370842\n",
              "std          0.930062\n",
              "min          0.000000\n",
              "25%          3.000000\n",
              "50%          3.000000\n",
              "75%          4.000000\n",
              "max         33.000000\n",
              "Name: bedrooms, dtype: float64"
            ]
          },
          "metadata": {
            "tags": []
          },
          "execution_count": 713
        }
      ]
    },
    {
      "metadata": {
        "id": "zUqPmQiJbe9a",
        "colab_type": "code",
        "colab": {
          "base_uri": "https://localhost:8080/",
          "height": 34
        },
        "outputId": "605603cf-8f4c-4b00-c9a5-fd8ba3a597b9"
      },
      "cell_type": "code",
      "source": [
        "df[df.bedrooms == 11].price.mean()"
      ],
      "execution_count": 725,
      "outputs": [
        {
          "output_type": "execute_result",
          "data": {
            "text/plain": [
              "520000.0"
            ]
          },
          "metadata": {
            "tags": []
          },
          "execution_count": 725
        }
      ]
    },
    {
      "metadata": {
        "id": "N0tkO-c0bkNw",
        "colab_type": "code",
        "colab": {
          "base_uri": "https://localhost:8080/",
          "height": 34
        },
        "outputId": "2f9a02b3-3ee0-4b7b-d170-b272c61d9f89"
      },
      "cell_type": "code",
      "source": [
        "df[df.bedrooms == 3].price.mean()"
      ],
      "execution_count": 720,
      "outputs": [
        {
          "output_type": "execute_result",
          "data": {
            "text/plain": [
              "466232.07848127035"
            ]
          },
          "metadata": {
            "tags": []
          },
          "execution_count": 720
        }
      ]
    },
    {
      "metadata": {
        "id": "sai29oGlbozT",
        "colab_type": "code",
        "colab": {}
      },
      "cell_type": "code",
      "source": [
        "df.bedrooms = df.bedrooms.replace({33:4, 11:3})"
      ],
      "execution_count": 0,
      "outputs": []
    },
    {
      "metadata": {
        "id": "Az5JuWpEbyGX",
        "colab_type": "code",
        "colab": {
          "base_uri": "https://localhost:8080/",
          "height": 379
        },
        "outputId": "7f58bd13-a464-4379-f533-70b961855b4b"
      },
      "cell_type": "code",
      "source": [
        "df.pivot_table(index='bedrooms', values='price').plot.bar()"
      ],
      "execution_count": 729,
      "outputs": [
        {
          "output_type": "execute_result",
          "data": {
            "text/plain": [
              "<matplotlib.axes._subplots.AxesSubplot at 0x7f3561e78748>"
            ]
          },
          "metadata": {
            "tags": []
          },
          "execution_count": 729
        },
        {
          "output_type": "display_data",
          "data": {
            "image/png": "[encoded data removed]",
            "text/plain": [
              "<Figure size 576x396 with 1 Axes>"
            ]
          },
          "metadata": {
            "tags": []
          }
        }
      ]
    },
    {
      "metadata": {
        "id": "bFy-POH-cPiT",
        "colab_type": "code",
        "colab": {}
      },
      "cell_type": "code",
      "source": [
        "df.bedrooms = df.bedrooms.replace({8:7, 9:7, 10:7})"
      ],
      "execution_count": 0,
      "outputs": []
    },
    {
      "metadata": {
        "id": "mVBg7ad3co6c",
        "colab_type": "code",
        "colab": {
          "base_uri": "https://localhost:8080/",
          "height": 374
        },
        "outputId": "5bb69939-eda2-4ef2-a585-a68abd6cb240"
      },
      "cell_type": "code",
      "source": [
        "df.pivot_table(index='bedrooms', values='price').plot.bar()"
      ],
      "execution_count": 731,
      "outputs": [
        {
          "output_type": "execute_result",
          "data": {
            "text/plain": [
              "<matplotlib.axes._subplots.AxesSubplot at 0x7f3561dd0358>"
            ]
          },
          "metadata": {
            "tags": []
          },
          "execution_count": 731
        },
        {
          "output_type": "display_data",
          "data": {
            "image/png": "[encoded data removed]",
            "text/plain": [
              "<Figure size 576x396 with 1 Axes>"
            ]
          },
          "metadata": {
            "tags": []
          }
        }
      ]
    },
    {
      "metadata": {
        "id": "nXgbKrhQcpZk",
        "colab_type": "code",
        "colab": {
          "base_uri": "https://localhost:8080/",
          "height": 34
        },
        "outputId": "900e3d7a-8342-4b4f-cf5e-eff37c9cc8d6"
      },
      "cell_type": "code",
      "source": [
        "(df.bedrooms / df.sqft_living_log).dropna().median()"
      ],
      "execution_count": 741,
      "outputs": [
        {
          "output_type": "execute_result",
          "data": {
            "text/plain": [
              "0.41840306592108295"
            ]
          },
          "metadata": {
            "tags": []
          },
          "execution_count": 741
        }
      ]
    },
    {
      "metadata": {
        "id": "AwZqJ6zIcywi",
        "colab_type": "code",
        "colab": {}
      },
      "cell_type": "code",
      "source": [
        "df['bedrooms_per_sqfoot_median'] = (df.bedrooms / df.sqft_living).dropna().median()\n"
      ],
      "execution_count": 0,
      "outputs": []
    },
    {
      "metadata": {
        "id": "rmCIwHuOew7U",
        "colab_type": "code",
        "colab": {}
      },
      "cell_type": "code",
      "source": [
        "df['bedrooms_zero'] = (df.bedrooms == 0)\n",
        "df['bedrooms_one'] = (df.bedrooms == 1)\n",
        "df['bedrooms_two'] = (df.bedrooms == 2)\n",
        "df['bedrooms_three_more'] = (df.bedrooms >= 3)"
      ],
      "execution_count": 0,
      "outputs": []
    },
    {
      "metadata": {
        "id": "mo8dn9WNdhzu",
        "colab_type": "code",
        "colab": {
          "base_uri": "https://localhost:8080/",
          "height": 34
        },
        "outputId": "ab6d8ef7-f905-4f58-b79d-eae659482802"
      },
      "cell_type": "code",
      "source": [
        "features = ['sqft_living_squared', 'grade_squared', 'waterfront', 'view_0', 'condition_1or2', 'renovated', 'year_sold', 'bathrooms', 'sqft_interaction',\n",
        "            'view_grade_interaction', 'bedrooms_one', 'bedrooms_two']\n",
        "    \n",
        "target = 'price'\n",
        "\n",
        "X = df[features]\n",
        "y = df[target]\n",
        "\n",
        "X_train, X_test, y_train, y_test = train_test_split(X, y,test_size=0.5)\n",
        "\n",
        "lr = LinearRegression()\n",
        "lr.fit(X_train, y_train)\n",
        "\n",
        "oos_pred = lr.predict(X_test)\n",
        "oos_mse = mean_squared_error(y_test, oos_pred)\n",
        "oos_r2 = r2_score(y_test, oos_pred)\n",
        "rmse = (np.sqrt(oos_mse))\n",
        "rmse, oos_r2, oos_mse"
      ],
      "execution_count": 788,
      "outputs": [
        {
          "output_type": "execute_result",
          "data": {
            "text/plain": [
              "(218668.3611244516, 0.6602563290578038, 47815852156.85358)"
            ]
          },
          "metadata": {
            "tags": []
          },
          "execution_count": 788
        }
      ]
    },
    {
      "metadata": {
        "id": "gNQlLY0pdxX4",
        "colab_type": "code",
        "colab": {}
      },
      "cell_type": "code",
      "source": [
        "df['bedrooms_one_or_two'] = ((df.bedrooms == 1) | (df.bedrooms == 2))"
      ],
      "execution_count": 0,
      "outputs": []
    },
    {
      "metadata": {
        "id": "YkdO9G6PgE8O",
        "colab_type": "code",
        "colab": {
          "base_uri": "https://localhost:8080/",
          "height": 34
        },
        "outputId": "88a57fa4-138e-4ee0-f21e-a0e381b1f182"
      },
      "cell_type": "code",
      "source": [
        "features = ['sqft_living_squared', 'grade_squared', 'waterfront', 'view_0', 'condition_1or2', 'renovated', 'year_sold', 'bathrooms', 'sqft_interaction',\n",
        "            'view_grade_interaction', 'bedrooms_one_or_two']\n",
        "    \n",
        "target = 'price'\n",
        "\n",
        "X = df[features]\n",
        "y = df[target]\n",
        "\n",
        "X_train, X_test, y_train, y_test = train_test_split(X, y,test_size=0.5)\n",
        "\n",
        "lr = LinearRegression()\n",
        "lr.fit(X_train, y_train)\n",
        "\n",
        "oos_pred = lr.predict(X_test)\n",
        "oos_mse = mean_squared_error(y_test, oos_pred)\n",
        "oos_r2 = r2_score(y_test, oos_pred)\n",
        "rmse = (np.sqrt(oos_mse))\n",
        "rmse, oos_r2, oos_mse"
      ],
      "execution_count": 806,
      "outputs": [
        {
          "output_type": "execute_result",
          "data": {
            "text/plain": [
              "(213512.98595983005, 0.6485702687100765, 45587795173.48259)"
            ]
          },
          "metadata": {
            "tags": []
          },
          "execution_count": 806
        }
      ]
    },
    {
      "metadata": {
        "id": "4EnCo1BUhRnC",
        "colab_type": "code",
        "colab": {}
      },
      "cell_type": "code",
      "source": [
        "df['month'] = pd.to_datetime(df.date).dt.month"
      ],
      "execution_count": 0,
      "outputs": []
    },
    {
      "metadata": {
        "id": "ffiPIYIMgfac",
        "colab_type": "code",
        "colab": {
          "base_uri": "https://localhost:8080/",
          "height": 34
        },
        "outputId": "a5ee10dc-1414-4b5d-abc6-7af0c39032a5"
      },
      "cell_type": "code",
      "source": [
        "# handle zip codes because this is annoying"
      ],
      "execution_count": 815,
      "outputs": [
        {
          "output_type": "execute_result",
          "data": {
            "text/plain": [
              "(317, 56)"
            ]
          },
          "metadata": {
            "tags": []
          },
          "execution_count": 815
        }
      ]
    },
    {
      "metadata": {
        "id": "zFjHfJnwhC4A",
        "colab_type": "code",
        "colab": {
          "base_uri": "https://localhost:8080/",
          "height": 222
        },
        "outputId": "a3210592-35ae-4681-89a6-cecf9962ac43"
      },
      "cell_type": "code",
      "source": [
        "df.head()"
      ],
      "execution_count": 824,
      "outputs": [
        {
          "output_type": "execute_result",
          "data": {
            "text/html": [
              "<div>\n",
              "<style scoped>\n",
              "    .dataframe tbody tr th:only-of-type {\n",
              "        vertical-align: middle;\n",
              "    }\n",
              "\n",
              "    .dataframe tbody tr th {\n",
              "        vertical-align: top;\n",
              "    }\n",
              "\n",
              "    .dataframe thead th {\n",
              "        text-align: right;\n",
              "    }\n",
              "</style>\n",
              "<table border=\"1\" class=\"dataframe\">\n",
              "  <thead>\n",
              "    <tr style=\"text-align: right;\">\n",
              "      <th></th>\n",
              "      <th>id</th>\n",
              "      <th>date</th>\n",
              "      <th>price</th>\n",
              "      <th>bedrooms</th>\n",
              "      <th>bathrooms</th>\n",
              "      <th>sqft_living</th>\n",
              "      <th>sqft_lot</th>\n",
              "      <th>floors</th>\n",
              "      <th>waterfront</th>\n",
              "      <th>view</th>\n",
              "      <th>condition</th>\n",
              "      <th>grade</th>\n",
              "      <th>sqft_above</th>\n",
              "      <th>sqft_basement</th>\n",
              "      <th>yr_built</th>\n",
              "      <th>yr_renovated</th>\n",
              "      <th>zipcode</th>\n",
              "      <th>lat</th>\n",
              "      <th>long</th>\n",
              "      <th>sqft_living15</th>\n",
              "      <th>sqft_lot15</th>\n",
              "      <th>yrs_since_built</th>\n",
              "      <th>log_price</th>\n",
              "      <th>sqft_living_squared</th>\n",
              "      <th>sqft_living_log</th>\n",
              "      <th>grade_squared</th>\n",
              "      <th>pca2_2_means_label</th>\n",
              "      <th>pca2_3_means_label</th>\n",
              "      <th>pca3_2_means_label</th>\n",
              "      <th>has_basement</th>\n",
              "      <th>view_4</th>\n",
              "      <th>view_0</th>\n",
              "      <th>view_2</th>\n",
              "      <th>condition_1or2</th>\n",
              "      <th>renovated</th>\n",
              "      <th>year_sold</th>\n",
              "      <th>bedrooms_missing</th>\n",
              "      <th>bedrooms_alot</th>\n",
              "      <th>bedrooms_1</th>\n",
              "      <th>bedrooms_2</th>\n",
              "      <th>bedrooms_3</th>\n",
              "      <th>bedrooms_4</th>\n",
              "      <th>bedrooms_5</th>\n",
              "      <th>bedrooms_6</th>\n",
              "      <th>bedrooms_7</th>\n",
              "      <th>bedrooms_8</th>\n",
              "      <th>bathrooms_squared</th>\n",
              "      <th>old_not_renovated</th>\n",
              "      <th>sqft_interaction</th>\n",
              "      <th>view_grade_interaction</th>\n",
              "      <th>bedrooms_per_sqfoot_median</th>\n",
              "      <th>bedrooms_zero</th>\n",
              "      <th>bedrooms_one</th>\n",
              "      <th>bedrooms_two</th>\n",
              "      <th>bedrooms_three_more</th>\n",
              "      <th>bedrooms_one_or_two</th>\n",
              "      <th>month</th>\n",
              "    </tr>\n",
              "  </thead>\n",
              "  <tbody>\n",
              "    <tr>\n",
              "      <th>0</th>\n",
              "      <td>7129300520</td>\n",
              "      <td>20141013T000000</td>\n",
              "      <td>221900.0</td>\n",
              "      <td>3</td>\n",
              "      <td>1.00</td>\n",
              "      <td>1180</td>\n",
              "      <td>5650</td>\n",
              "      <td>1.0</td>\n",
              "      <td>0</td>\n",
              "      <td>0</td>\n",
              "      <td>3</td>\n",
              "      <td>7</td>\n",
              "      <td>1180</td>\n",
              "      <td>0</td>\n",
              "      <td>1955</td>\n",
              "      <td>0</td>\n",
              "      <td>98178</td>\n",
              "      <td>47.5112</td>\n",
              "      <td>-122.257</td>\n",
              "      <td>1340</td>\n",
              "      <td>5650</td>\n",
              "      <td>59</td>\n",
              "      <td>12.309982</td>\n",
              "      <td>1392400</td>\n",
              "      <td>7.073270</td>\n",
              "      <td>49</td>\n",
              "      <td>0</td>\n",
              "      <td>1</td>\n",
              "      <td>0</td>\n",
              "      <td>False</td>\n",
              "      <td>False</td>\n",
              "      <td>True</td>\n",
              "      <td>False</td>\n",
              "      <td>False</td>\n",
              "      <td>False</td>\n",
              "      <td>2014</td>\n",
              "      <td>False</td>\n",
              "      <td>False</td>\n",
              "      <td>False</td>\n",
              "      <td>False</td>\n",
              "      <td>True</td>\n",
              "      <td>False</td>\n",
              "      <td>False</td>\n",
              "      <td>False</td>\n",
              "      <td>False</td>\n",
              "      <td>False</td>\n",
              "      <td>1.0000</td>\n",
              "      <td>0</td>\n",
              "      <td>7867060000</td>\n",
              "      <td>0</td>\n",
              "      <td>0.001734</td>\n",
              "      <td>False</td>\n",
              "      <td>False</td>\n",
              "      <td>False</td>\n",
              "      <td>True</td>\n",
              "      <td>False</td>\n",
              "      <td>10</td>\n",
              "    </tr>\n",
              "    <tr>\n",
              "      <th>1</th>\n",
              "      <td>6414100192</td>\n",
              "      <td>20141209T000000</td>\n",
              "      <td>538000.0</td>\n",
              "      <td>3</td>\n",
              "      <td>2.25</td>\n",
              "      <td>2570</td>\n",
              "      <td>7242</td>\n",
              "      <td>2.0</td>\n",
              "      <td>0</td>\n",
              "      <td>0</td>\n",
              "      <td>3</td>\n",
              "      <td>7</td>\n",
              "      <td>2170</td>\n",
              "      <td>400</td>\n",
              "      <td>1951</td>\n",
              "      <td>1991</td>\n",
              "      <td>98125</td>\n",
              "      <td>47.7210</td>\n",
              "      <td>-122.319</td>\n",
              "      <td>1690</td>\n",
              "      <td>7639</td>\n",
              "      <td>63</td>\n",
              "      <td>13.195614</td>\n",
              "      <td>6604900</td>\n",
              "      <td>7.851661</td>\n",
              "      <td>49</td>\n",
              "      <td>0</td>\n",
              "      <td>1</td>\n",
              "      <td>0</td>\n",
              "      <td>True</td>\n",
              "      <td>False</td>\n",
              "      <td>True</td>\n",
              "      <td>False</td>\n",
              "      <td>False</td>\n",
              "      <td>True</td>\n",
              "      <td>2014</td>\n",
              "      <td>False</td>\n",
              "      <td>False</td>\n",
              "      <td>False</td>\n",
              "      <td>False</td>\n",
              "      <td>True</td>\n",
              "      <td>False</td>\n",
              "      <td>False</td>\n",
              "      <td>False</td>\n",
              "      <td>False</td>\n",
              "      <td>False</td>\n",
              "      <td>5.0625</td>\n",
              "      <td>63</td>\n",
              "      <td>47832685800</td>\n",
              "      <td>0</td>\n",
              "      <td>0.001734</td>\n",
              "      <td>False</td>\n",
              "      <td>False</td>\n",
              "      <td>False</td>\n",
              "      <td>True</td>\n",
              "      <td>False</td>\n",
              "      <td>12</td>\n",
              "    </tr>\n",
              "    <tr>\n",
              "      <th>2</th>\n",
              "      <td>5631500400</td>\n",
              "      <td>20150225T000000</td>\n",
              "      <td>180000.0</td>\n",
              "      <td>2</td>\n",
              "      <td>1.00</td>\n",
              "      <td>770</td>\n",
              "      <td>10000</td>\n",
              "      <td>1.0</td>\n",
              "      <td>0</td>\n",
              "      <td>0</td>\n",
              "      <td>3</td>\n",
              "      <td>6</td>\n",
              "      <td>770</td>\n",
              "      <td>0</td>\n",
              "      <td>1933</td>\n",
              "      <td>0</td>\n",
              "      <td>98028</td>\n",
              "      <td>47.7379</td>\n",
              "      <td>-122.233</td>\n",
              "      <td>2720</td>\n",
              "      <td>8062</td>\n",
              "      <td>82</td>\n",
              "      <td>12.100712</td>\n",
              "      <td>592900</td>\n",
              "      <td>6.646391</td>\n",
              "      <td>36</td>\n",
              "      <td>0</td>\n",
              "      <td>1</td>\n",
              "      <td>0</td>\n",
              "      <td>False</td>\n",
              "      <td>False</td>\n",
              "      <td>True</td>\n",
              "      <td>False</td>\n",
              "      <td>False</td>\n",
              "      <td>False</td>\n",
              "      <td>2015</td>\n",
              "      <td>False</td>\n",
              "      <td>False</td>\n",
              "      <td>False</td>\n",
              "      <td>True</td>\n",
              "      <td>False</td>\n",
              "      <td>False</td>\n",
              "      <td>False</td>\n",
              "      <td>False</td>\n",
              "      <td>False</td>\n",
              "      <td>False</td>\n",
              "      <td>1.0000</td>\n",
              "      <td>0</td>\n",
              "      <td>5929000000</td>\n",
              "      <td>0</td>\n",
              "      <td>0.001734</td>\n",
              "      <td>False</td>\n",
              "      <td>False</td>\n",
              "      <td>True</td>\n",
              "      <td>False</td>\n",
              "      <td>True</td>\n",
              "      <td>2</td>\n",
              "    </tr>\n",
              "    <tr>\n",
              "      <th>3</th>\n",
              "      <td>2487200875</td>\n",
              "      <td>20141209T000000</td>\n",
              "      <td>604000.0</td>\n",
              "      <td>4</td>\n",
              "      <td>3.00</td>\n",
              "      <td>1960</td>\n",
              "      <td>5000</td>\n",
              "      <td>1.0</td>\n",
              "      <td>0</td>\n",
              "      <td>0</td>\n",
              "      <td>5</td>\n",
              "      <td>7</td>\n",
              "      <td>1050</td>\n",
              "      <td>910</td>\n",
              "      <td>1965</td>\n",
              "      <td>0</td>\n",
              "      <td>98136</td>\n",
              "      <td>47.5208</td>\n",
              "      <td>-122.393</td>\n",
              "      <td>1360</td>\n",
              "      <td>5000</td>\n",
              "      <td>49</td>\n",
              "      <td>13.311329</td>\n",
              "      <td>3841600</td>\n",
              "      <td>7.580700</td>\n",
              "      <td>49</td>\n",
              "      <td>0</td>\n",
              "      <td>1</td>\n",
              "      <td>0</td>\n",
              "      <td>True</td>\n",
              "      <td>False</td>\n",
              "      <td>True</td>\n",
              "      <td>False</td>\n",
              "      <td>False</td>\n",
              "      <td>False</td>\n",
              "      <td>2014</td>\n",
              "      <td>False</td>\n",
              "      <td>False</td>\n",
              "      <td>False</td>\n",
              "      <td>False</td>\n",
              "      <td>False</td>\n",
              "      <td>True</td>\n",
              "      <td>False</td>\n",
              "      <td>False</td>\n",
              "      <td>False</td>\n",
              "      <td>False</td>\n",
              "      <td>9.0000</td>\n",
              "      <td>0</td>\n",
              "      <td>19208000000</td>\n",
              "      <td>0</td>\n",
              "      <td>0.001734</td>\n",
              "      <td>False</td>\n",
              "      <td>False</td>\n",
              "      <td>False</td>\n",
              "      <td>True</td>\n",
              "      <td>False</td>\n",
              "      <td>12</td>\n",
              "    </tr>\n",
              "    <tr>\n",
              "      <th>4</th>\n",
              "      <td>1954400510</td>\n",
              "      <td>20150218T000000</td>\n",
              "      <td>510000.0</td>\n",
              "      <td>3</td>\n",
              "      <td>2.00</td>\n",
              "      <td>1680</td>\n",
              "      <td>8080</td>\n",
              "      <td>1.0</td>\n",
              "      <td>0</td>\n",
              "      <td>0</td>\n",
              "      <td>3</td>\n",
              "      <td>8</td>\n",
              "      <td>1680</td>\n",
              "      <td>0</td>\n",
              "      <td>1987</td>\n",
              "      <td>0</td>\n",
              "      <td>98074</td>\n",
              "      <td>47.6168</td>\n",
              "      <td>-122.045</td>\n",
              "      <td>1800</td>\n",
              "      <td>7503</td>\n",
              "      <td>28</td>\n",
              "      <td>13.142166</td>\n",
              "      <td>2822400</td>\n",
              "      <td>7.426549</td>\n",
              "      <td>64</td>\n",
              "      <td>0</td>\n",
              "      <td>1</td>\n",
              "      <td>0</td>\n",
              "      <td>False</td>\n",
              "      <td>False</td>\n",
              "      <td>True</td>\n",
              "      <td>False</td>\n",
              "      <td>False</td>\n",
              "      <td>False</td>\n",
              "      <td>2015</td>\n",
              "      <td>False</td>\n",
              "      <td>False</td>\n",
              "      <td>False</td>\n",
              "      <td>False</td>\n",
              "      <td>True</td>\n",
              "      <td>False</td>\n",
              "      <td>False</td>\n",
              "      <td>False</td>\n",
              "      <td>False</td>\n",
              "      <td>False</td>\n",
              "      <td>4.0000</td>\n",
              "      <td>0</td>\n",
              "      <td>22804992000</td>\n",
              "      <td>0</td>\n",
              "      <td>0.001734</td>\n",
              "      <td>False</td>\n",
              "      <td>False</td>\n",
              "      <td>False</td>\n",
              "      <td>True</td>\n",
              "      <td>False</td>\n",
              "      <td>2</td>\n",
              "    </tr>\n",
              "  </tbody>\n",
              "</table>\n",
              "</div>"
            ],
            "text/plain": [
              "           id             date     price  bedrooms  bathrooms  sqft_living  \\\n",
              "0  7129300520  20141013T000000  221900.0         3       1.00         1180   \n",
              "1  6414100192  20141209T000000  538000.0         3       2.25         2570   \n",
              "2  5631500400  20150225T000000  180000.0         2       1.00          770   \n",
              "3  2487200875  20141209T000000  604000.0         4       3.00         1960   \n",
              "4  1954400510  20150218T000000  510000.0         3       2.00         1680   \n",
              "\n",
              "   sqft_lot  floors  waterfront  view  condition  grade  sqft_above  \\\n",
              "0      5650     1.0           0     0          3      7        1180   \n",
              "1      7242     2.0           0     0          3      7        2170   \n",
              "2     10000     1.0           0     0          3      6         770   \n",
              "3      5000     1.0           0     0          5      7        1050   \n",
              "4      8080     1.0           0     0          3      8        1680   \n",
              "\n",
              "   sqft_basement  yr_built  yr_renovated  zipcode      lat     long  \\\n",
              "0              0      1955             0    98178  47.5112 -122.257   \n",
              "1            400      1951          1991    98125  47.7210 -122.319   \n",
              "2              0      1933             0    98028  47.7379 -122.233   \n",
              "3            910      1965             0    98136  47.5208 -122.393   \n",
              "4              0      1987             0    98074  47.6168 -122.045   \n",
              "\n",
              "   sqft_living15  sqft_lot15  yrs_since_built  log_price  sqft_living_squared  \\\n",
              "0           1340        5650               59  12.309982              1392400   \n",
              "1           1690        7639               63  13.195614              6604900   \n",
              "2           2720        8062               82  12.100712               592900   \n",
              "3           1360        5000               49  13.311329              3841600   \n",
              "4           1800        7503               28  13.142166              2822400   \n",
              "\n",
              "   sqft_living_log  grade_squared  pca2_2_means_label  pca2_3_means_label  \\\n",
              "0         7.073270             49                   0                   1   \n",
              "1         7.851661             49                   0                   1   \n",
              "2         6.646391             36                   0                   1   \n",
              "3         7.580700             49                   0                   1   \n",
              "4         7.426549             64                   0                   1   \n",
              "\n",
              "   pca3_2_means_label  has_basement  view_4  view_0  view_2  condition_1or2  \\\n",
              "0                   0         False   False    True   False           False   \n",
              "1                   0          True   False    True   False           False   \n",
              "2                   0         False   False    True   False           False   \n",
              "3                   0          True   False    True   False           False   \n",
              "4                   0         False   False    True   False           False   \n",
              "\n",
              "   renovated  year_sold  bedrooms_missing  bedrooms_alot  bedrooms_1  \\\n",
              "0      False       2014             False          False       False   \n",
              "1       True       2014             False          False       False   \n",
              "2      False       2015             False          False       False   \n",
              "3      False       2014             False          False       False   \n",
              "4      False       2015             False          False       False   \n",
              "\n",
              "   bedrooms_2  bedrooms_3  bedrooms_4  bedrooms_5  bedrooms_6  bedrooms_7  \\\n",
              "0       False        True       False       False       False       False   \n",
              "1       False        True       False       False       False       False   \n",
              "2        True       False       False       False       False       False   \n",
              "3       False       False        True       False       False       False   \n",
              "4       False        True       False       False       False       False   \n",
              "\n",
              "   bedrooms_8  bathrooms_squared  old_not_renovated  sqft_interaction  \\\n",
              "0       False             1.0000                  0        7867060000   \n",
              "1       False             5.0625                 63       47832685800   \n",
              "2       False             1.0000                  0        5929000000   \n",
              "3       False             9.0000                  0       19208000000   \n",
              "4       False             4.0000                  0       22804992000   \n",
              "\n",
              "   view_grade_interaction  bedrooms_per_sqfoot_median  bedrooms_zero  \\\n",
              "0                       0                    0.001734          False   \n",
              "1                       0                    0.001734          False   \n",
              "2                       0                    0.001734          False   \n",
              "3                       0                    0.001734          False   \n",
              "4                       0                    0.001734          False   \n",
              "\n",
              "   bedrooms_one  bedrooms_two  bedrooms_three_more  bedrooms_one_or_two  month  \n",
              "0         False         False                 True                False     10  \n",
              "1         False         False                 True                False     12  \n",
              "2         False          True                False                 True      2  \n",
              "3         False         False                 True                False     12  \n",
              "4         False         False                 True                False      2  "
            ]
          },
          "metadata": {
            "tags": []
          },
          "execution_count": 824
        }
      ]
    },
    {
      "metadata": {
        "id": "3zyw9WLKhZ4J",
        "colab_type": "code",
        "colab": {}
      },
      "cell_type": "code",
      "source": [
        "df['yrs_since_built_squared'] = df.yrs_since_built ** 2"
      ],
      "execution_count": 0,
      "outputs": []
    },
    {
      "metadata": {
        "id": "czv40GvMhfh5",
        "colab_type": "code",
        "colab": {
          "base_uri": "https://localhost:8080/",
          "height": 34
        },
        "outputId": "54597902-f807-4a08-8fd1-d025e5cc4bc4"
      },
      "cell_type": "code",
      "source": [
        "features = ['sqft_living_squared', 'grade_squared', 'waterfront', 'view_0', 'condition_1or2', 'renovated', 'year_sold', 'bathrooms', 'sqft_interaction',\n",
        "            'view_grade_interaction', 'bedrooms_one_or_two', 'yrs_since_built_squared']\n",
        "    \n",
        "target = 'price'\n",
        "\n",
        "X = df[features]\n",
        "y = df[target]\n",
        "\n",
        "X_train, X_test, y_train, y_test = train_test_split(X, y,test_size=0.5)\n",
        "\n",
        "lr = LinearRegression()\n",
        "lr.fit(X_train, y_train)\n",
        "\n",
        "oos_pred = lr.predict(X_test)\n",
        "oos_mse = mean_squared_error(y_test, oos_pred)\n",
        "oos_r2 = r2_score(y_test, oos_pred)\n",
        "rmse = (np.sqrt(oos_mse))\n",
        "rmse, oos_r2, oos_mse"
      ],
      "execution_count": 834,
      "outputs": [
        {
          "output_type": "execute_result",
          "data": {
            "text/plain": [
              "(205954.65914350038, 0.6998115185773686, 42417321622.91543)"
            ]
          },
          "metadata": {
            "tags": []
          },
          "execution_count": 834
        }
      ]
    },
    {
      "metadata": {
        "id": "2jsK9HofiWyz",
        "colab_type": "code",
        "colab": {
          "base_uri": "https://localhost:8080/",
          "height": 34
        },
        "outputId": "a0b3fc0c-1b0e-45e8-b22b-49322582aa7c"
      },
      "cell_type": "code",
      "source": [
        "features = ['sqft_living_squared', 'grade_squared', 'waterfront', 'view_0', 'condition_1or2', 'renovated', 'year_sold', 'bathrooms', 'sqft_interaction',\n",
        "            'view_grade_interaction', 'bedrooms_one_or_two', 'yrs_since_built_squared', 'sqft_living15']\n",
        "    \n",
        "target = 'price'\n",
        "\n",
        "X = df[features]\n",
        "y = df[target]\n",
        "\n",
        "X_train, X_test, y_train, y_test = train_test_split(X, y,test_size=0.5)\n",
        "\n",
        "lr = LinearRegression()\n",
        "lr.fit(X_train, y_train)\n",
        "\n",
        "oos_pred = lr.predict(X_test)\n",
        "oos_mse = mean_squared_error(y_test, oos_pred)\n",
        "oos_r2 = r2_score(y_test, oos_pred)\n",
        "rmse = (np.sqrt(oos_mse))\n",
        "rmse, oos_r2, oos_mse"
      ],
      "execution_count": 839,
      "outputs": [
        {
          "output_type": "execute_result",
          "data": {
            "text/plain": [
              "(208732.1168819397, 0.6919571560448998, 43569096618.01574)"
            ]
          },
          "metadata": {
            "tags": []
          },
          "execution_count": 839
        }
      ]
    },
    {
      "metadata": {
        "id": "m4-NHWKtinud",
        "colab_type": "code",
        "colab": {}
      },
      "cell_type": "code",
      "source": [
        "df['sqft_living15_squared'] = df.sqft_living15 ** 2"
      ],
      "execution_count": 0,
      "outputs": []
    },
    {
      "metadata": {
        "id": "lYK2fT7RjDX9",
        "colab_type": "code",
        "colab": {
          "base_uri": "https://localhost:8080/",
          "height": 34
        },
        "outputId": "0a7b7d54-95aa-4b0d-aea5-1bdb240c8c64"
      },
      "cell_type": "code",
      "source": [
        "features = ['sqft_living_squared', 'grade_squared', 'waterfront', 'view_0', 'condition_1or2', 'renovated', 'year_sold', 'bathrooms', 'sqft_interaction',\n",
        "            'view_grade_interaction', 'bedrooms_one_or_two', 'yrs_since_built_squared', 'sqft_living15_squared']\n",
        "    \n",
        "target = 'price'\n",
        "\n",
        "X = df[features]\n",
        "y = df[target]\n",
        "\n",
        "X_train, X_test, y_train, y_test = train_test_split(X, y,test_size=0.5)\n",
        "\n",
        "lr = LinearRegression()\n",
        "lr.fit(X_train, y_train)\n",
        "\n",
        "oos_pred = lr.predict(X_test)\n",
        "oos_mse = mean_squared_error(y_test, oos_pred)\n",
        "oos_r2 = r2_score(y_test, oos_pred)\n",
        "rmse = (np.sqrt(oos_mse))\n",
        "rmse, oos_r2, oos_mse"
      ],
      "execution_count": 845,
      "outputs": [
        {
          "output_type": "execute_result",
          "data": {
            "text/plain": [
              "(203941.3814227233, 0.6843196522840043, 41592087056.60871)"
            ]
          },
          "metadata": {
            "tags": []
          },
          "execution_count": 845
        }
      ]
    },
    {
      "metadata": {
        "id": "v9fxziSxjOQU",
        "colab_type": "code",
        "colab": {}
      },
      "cell_type": "code",
      "source": [
        "df['sqftliving_sqftliving15_interaction'] = df.sqft_living_squared - df.sqft_living15_squared"
      ],
      "execution_count": 0,
      "outputs": []
    },
    {
      "metadata": {
        "id": "43UOqX9TjY3v",
        "colab_type": "code",
        "colab": {
          "base_uri": "https://localhost:8080/",
          "height": 34
        },
        "outputId": "96db47f9-efee-4a3a-f4ab-dab0161d91e2"
      },
      "cell_type": "code",
      "source": [
        "features = ['sqft_living_squared', 'grade_squared', 'waterfront', 'view_0', 'condition_1or2', 'renovated', 'year_sold', 'bathrooms', 'sqft_interaction',\n",
        "            'view_grade_interaction', 'bedrooms_one_or_two', 'yrs_since_built_squared', 'sqft_living15_squared']\n",
        "    \n",
        "target = 'price'\n",
        "\n",
        "X = df[features]\n",
        "y = df[target]\n",
        "\n",
        "X_train, X_test, y_train, y_test = train_test_split(X, y,test_size=0.5)\n",
        "\n",
        "lr = LinearRegression()\n",
        "lr.fit(X_train, y_train)\n",
        "\n",
        "oos_pred = lr.predict(X_test)\n",
        "oos_mse = mean_squared_error(y_test, oos_pred)\n",
        "oos_r2 = r2_score(y_test, oos_pred)\n",
        "rmse = (np.sqrt(oos_mse))\n",
        "rmse, oos_r2, oos_mse"
      ],
      "execution_count": 884,
      "outputs": [
        {
          "output_type": "execute_result",
          "data": {
            "text/plain": [
              "(201581.875905895, 0.6941371677509514, 40635252693.73965)"
            ]
          },
          "metadata": {
            "tags": []
          },
          "execution_count": 884
        }
      ]
    },
    {
      "metadata": {
        "id": "UrWo81X6jb24",
        "colab_type": "code",
        "colab": {
          "base_uri": "https://localhost:8080/",
          "height": 222
        },
        "outputId": "3dd6e0b8-dd65-46fb-89f7-3172879e075a"
      },
      "cell_type": "code",
      "source": [
        "df.head()"
      ],
      "execution_count": 885,
      "outputs": [
        {
          "output_type": "execute_result",
          "data": {
            "text/html": [
              "<div>\n",
              "<style scoped>\n",
              "    .dataframe tbody tr th:only-of-type {\n",
              "        vertical-align: middle;\n",
              "    }\n",
              "\n",
              "    .dataframe tbody tr th {\n",
              "        vertical-align: top;\n",
              "    }\n",
              "\n",
              "    .dataframe thead th {\n",
              "        text-align: right;\n",
              "    }\n",
              "</style>\n",
              "<table border=\"1\" class=\"dataframe\">\n",
              "  <thead>\n",
              "    <tr style=\"text-align: right;\">\n",
              "      <th></th>\n",
              "      <th>id</th>\n",
              "      <th>date</th>\n",
              "      <th>price</th>\n",
              "      <th>bedrooms</th>\n",
              "      <th>bathrooms</th>\n",
              "      <th>sqft_living</th>\n",
              "      <th>sqft_lot</th>\n",
              "      <th>floors</th>\n",
              "      <th>waterfront</th>\n",
              "      <th>view</th>\n",
              "      <th>condition</th>\n",
              "      <th>grade</th>\n",
              "      <th>sqft_above</th>\n",
              "      <th>sqft_basement</th>\n",
              "      <th>yr_built</th>\n",
              "      <th>yr_renovated</th>\n",
              "      <th>zipcode</th>\n",
              "      <th>lat</th>\n",
              "      <th>long</th>\n",
              "      <th>sqft_living15</th>\n",
              "      <th>sqft_lot15</th>\n",
              "      <th>yrs_since_built</th>\n",
              "      <th>log_price</th>\n",
              "      <th>sqft_living_squared</th>\n",
              "      <th>sqft_living_log</th>\n",
              "      <th>grade_squared</th>\n",
              "      <th>pca2_2_means_label</th>\n",
              "      <th>pca2_3_means_label</th>\n",
              "      <th>pca3_2_means_label</th>\n",
              "      <th>has_basement</th>\n",
              "      <th>view_4</th>\n",
              "      <th>view_0</th>\n",
              "      <th>view_2</th>\n",
              "      <th>condition_1or2</th>\n",
              "      <th>renovated</th>\n",
              "      <th>year_sold</th>\n",
              "      <th>bedrooms_missing</th>\n",
              "      <th>bedrooms_alot</th>\n",
              "      <th>bedrooms_1</th>\n",
              "      <th>bedrooms_2</th>\n",
              "      <th>bedrooms_3</th>\n",
              "      <th>bedrooms_4</th>\n",
              "      <th>bedrooms_5</th>\n",
              "      <th>bedrooms_6</th>\n",
              "      <th>bedrooms_7</th>\n",
              "      <th>bedrooms_8</th>\n",
              "      <th>bathrooms_squared</th>\n",
              "      <th>old_not_renovated</th>\n",
              "      <th>sqft_interaction</th>\n",
              "      <th>view_grade_interaction</th>\n",
              "      <th>bedrooms_per_sqfoot_median</th>\n",
              "      <th>bedrooms_zero</th>\n",
              "      <th>bedrooms_one</th>\n",
              "      <th>bedrooms_two</th>\n",
              "      <th>bedrooms_three_more</th>\n",
              "      <th>bedrooms_one_or_two</th>\n",
              "      <th>month</th>\n",
              "      <th>yrs_since_built_squared</th>\n",
              "      <th>sqft_living15_squared</th>\n",
              "      <th>sqftliving_sqftliving15_interaction</th>\n",
              "    </tr>\n",
              "  </thead>\n",
              "  <tbody>\n",
              "    <tr>\n",
              "      <th>0</th>\n",
              "      <td>7129300520</td>\n",
              "      <td>20141013T000000</td>\n",
              "      <td>221900.0</td>\n",
              "      <td>3</td>\n",
              "      <td>1.00</td>\n",
              "      <td>1180</td>\n",
              "      <td>5650</td>\n",
              "      <td>1.0</td>\n",
              "      <td>0</td>\n",
              "      <td>0</td>\n",
              "      <td>3</td>\n",
              "      <td>7</td>\n",
              "      <td>1180</td>\n",
              "      <td>0</td>\n",
              "      <td>1955</td>\n",
              "      <td>0</td>\n",
              "      <td>98178</td>\n",
              "      <td>47.5112</td>\n",
              "      <td>-122.257</td>\n",
              "      <td>1340</td>\n",
              "      <td>5650</td>\n",
              "      <td>59</td>\n",
              "      <td>12.309982</td>\n",
              "      <td>1392400</td>\n",
              "      <td>7.073270</td>\n",
              "      <td>49</td>\n",
              "      <td>0</td>\n",
              "      <td>1</td>\n",
              "      <td>0</td>\n",
              "      <td>False</td>\n",
              "      <td>False</td>\n",
              "      <td>True</td>\n",
              "      <td>False</td>\n",
              "      <td>False</td>\n",
              "      <td>False</td>\n",
              "      <td>2014</td>\n",
              "      <td>False</td>\n",
              "      <td>False</td>\n",
              "      <td>False</td>\n",
              "      <td>False</td>\n",
              "      <td>True</td>\n",
              "      <td>False</td>\n",
              "      <td>False</td>\n",
              "      <td>False</td>\n",
              "      <td>False</td>\n",
              "      <td>False</td>\n",
              "      <td>1.0000</td>\n",
              "      <td>0</td>\n",
              "      <td>7867060000</td>\n",
              "      <td>0</td>\n",
              "      <td>0.001734</td>\n",
              "      <td>False</td>\n",
              "      <td>False</td>\n",
              "      <td>False</td>\n",
              "      <td>True</td>\n",
              "      <td>False</td>\n",
              "      <td>10</td>\n",
              "      <td>3481</td>\n",
              "      <td>1795600</td>\n",
              "      <td>-403200</td>\n",
              "    </tr>\n",
              "    <tr>\n",
              "      <th>1</th>\n",
              "      <td>6414100192</td>\n",
              "      <td>20141209T000000</td>\n",
              "      <td>538000.0</td>\n",
              "      <td>3</td>\n",
              "      <td>2.25</td>\n",
              "      <td>2570</td>\n",
              "      <td>7242</td>\n",
              "      <td>2.0</td>\n",
              "      <td>0</td>\n",
              "      <td>0</td>\n",
              "      <td>3</td>\n",
              "      <td>7</td>\n",
              "      <td>2170</td>\n",
              "      <td>400</td>\n",
              "      <td>1951</td>\n",
              "      <td>1991</td>\n",
              "      <td>98125</td>\n",
              "      <td>47.7210</td>\n",
              "      <td>-122.319</td>\n",
              "      <td>1690</td>\n",
              "      <td>7639</td>\n",
              "      <td>63</td>\n",
              "      <td>13.195614</td>\n",
              "      <td>6604900</td>\n",
              "      <td>7.851661</td>\n",
              "      <td>49</td>\n",
              "      <td>0</td>\n",
              "      <td>1</td>\n",
              "      <td>0</td>\n",
              "      <td>True</td>\n",
              "      <td>False</td>\n",
              "      <td>True</td>\n",
              "      <td>False</td>\n",
              "      <td>False</td>\n",
              "      <td>True</td>\n",
              "      <td>2014</td>\n",
              "      <td>False</td>\n",
              "      <td>False</td>\n",
              "      <td>False</td>\n",
              "      <td>False</td>\n",
              "      <td>True</td>\n",
              "      <td>False</td>\n",
              "      <td>False</td>\n",
              "      <td>False</td>\n",
              "      <td>False</td>\n",
              "      <td>False</td>\n",
              "      <td>5.0625</td>\n",
              "      <td>63</td>\n",
              "      <td>47832685800</td>\n",
              "      <td>0</td>\n",
              "      <td>0.001734</td>\n",
              "      <td>False</td>\n",
              "      <td>False</td>\n",
              "      <td>False</td>\n",
              "      <td>True</td>\n",
              "      <td>False</td>\n",
              "      <td>12</td>\n",
              "      <td>3969</td>\n",
              "      <td>2856100</td>\n",
              "      <td>3748800</td>\n",
              "    </tr>\n",
              "    <tr>\n",
              "      <th>2</th>\n",
              "      <td>5631500400</td>\n",
              "      <td>20150225T000000</td>\n",
              "      <td>180000.0</td>\n",
              "      <td>2</td>\n",
              "      <td>1.00</td>\n",
              "      <td>770</td>\n",
              "      <td>10000</td>\n",
              "      <td>1.0</td>\n",
              "      <td>0</td>\n",
              "      <td>0</td>\n",
              "      <td>3</td>\n",
              "      <td>6</td>\n",
              "      <td>770</td>\n",
              "      <td>0</td>\n",
              "      <td>1933</td>\n",
              "      <td>0</td>\n",
              "      <td>98028</td>\n",
              "      <td>47.7379</td>\n",
              "      <td>-122.233</td>\n",
              "      <td>2720</td>\n",
              "      <td>8062</td>\n",
              "      <td>82</td>\n",
              "      <td>12.100712</td>\n",
              "      <td>592900</td>\n",
              "      <td>6.646391</td>\n",
              "      <td>36</td>\n",
              "      <td>0</td>\n",
              "      <td>1</td>\n",
              "      <td>0</td>\n",
              "      <td>False</td>\n",
              "      <td>False</td>\n",
              "      <td>True</td>\n",
              "      <td>False</td>\n",
              "      <td>False</td>\n",
              "      <td>False</td>\n",
              "      <td>2015</td>\n",
              "      <td>False</td>\n",
              "      <td>False</td>\n",
              "      <td>False</td>\n",
              "      <td>True</td>\n",
              "      <td>False</td>\n",
              "      <td>False</td>\n",
              "      <td>False</td>\n",
              "      <td>False</td>\n",
              "      <td>False</td>\n",
              "      <td>False</td>\n",
              "      <td>1.0000</td>\n",
              "      <td>0</td>\n",
              "      <td>5929000000</td>\n",
              "      <td>0</td>\n",
              "      <td>0.001734</td>\n",
              "      <td>False</td>\n",
              "      <td>False</td>\n",
              "      <td>True</td>\n",
              "      <td>False</td>\n",
              "      <td>True</td>\n",
              "      <td>2</td>\n",
              "      <td>6724</td>\n",
              "      <td>7398400</td>\n",
              "      <td>-6805500</td>\n",
              "    </tr>\n",
              "    <tr>\n",
              "      <th>3</th>\n",
              "      <td>2487200875</td>\n",
              "      <td>20141209T000000</td>\n",
              "      <td>604000.0</td>\n",
              "      <td>4</td>\n",
              "      <td>3.00</td>\n",
              "      <td>1960</td>\n",
              "      <td>5000</td>\n",
              "      <td>1.0</td>\n",
              "      <td>0</td>\n",
              "      <td>0</td>\n",
              "      <td>5</td>\n",
              "      <td>7</td>\n",
              "      <td>1050</td>\n",
              "      <td>910</td>\n",
              "      <td>1965</td>\n",
              "      <td>0</td>\n",
              "      <td>98136</td>\n",
              "      <td>47.5208</td>\n",
              "      <td>-122.393</td>\n",
              "      <td>1360</td>\n",
              "      <td>5000</td>\n",
              "      <td>49</td>\n",
              "      <td>13.311329</td>\n",
              "      <td>3841600</td>\n",
              "      <td>7.580700</td>\n",
              "      <td>49</td>\n",
              "      <td>0</td>\n",
              "      <td>1</td>\n",
              "      <td>0</td>\n",
              "      <td>True</td>\n",
              "      <td>False</td>\n",
              "      <td>True</td>\n",
              "      <td>False</td>\n",
              "      <td>False</td>\n",
              "      <td>False</td>\n",
              "      <td>2014</td>\n",
              "      <td>False</td>\n",
              "      <td>False</td>\n",
              "      <td>False</td>\n",
              "      <td>False</td>\n",
              "      <td>False</td>\n",
              "      <td>True</td>\n",
              "      <td>False</td>\n",
              "      <td>False</td>\n",
              "      <td>False</td>\n",
              "      <td>False</td>\n",
              "      <td>9.0000</td>\n",
              "      <td>0</td>\n",
              "      <td>19208000000</td>\n",
              "      <td>0</td>\n",
              "      <td>0.001734</td>\n",
              "      <td>False</td>\n",
              "      <td>False</td>\n",
              "      <td>False</td>\n",
              "      <td>True</td>\n",
              "      <td>False</td>\n",
              "      <td>12</td>\n",
              "      <td>2401</td>\n",
              "      <td>1849600</td>\n",
              "      <td>1992000</td>\n",
              "    </tr>\n",
              "    <tr>\n",
              "      <th>4</th>\n",
              "      <td>1954400510</td>\n",
              "      <td>20150218T000000</td>\n",
              "      <td>510000.0</td>\n",
              "      <td>3</td>\n",
              "      <td>2.00</td>\n",
              "      <td>1680</td>\n",
              "      <td>8080</td>\n",
              "      <td>1.0</td>\n",
              "      <td>0</td>\n",
              "      <td>0</td>\n",
              "      <td>3</td>\n",
              "      <td>8</td>\n",
              "      <td>1680</td>\n",
              "      <td>0</td>\n",
              "      <td>1987</td>\n",
              "      <td>0</td>\n",
              "      <td>98074</td>\n",
              "      <td>47.6168</td>\n",
              "      <td>-122.045</td>\n",
              "      <td>1800</td>\n",
              "      <td>7503</td>\n",
              "      <td>28</td>\n",
              "      <td>13.142166</td>\n",
              "      <td>2822400</td>\n",
              "      <td>7.426549</td>\n",
              "      <td>64</td>\n",
              "      <td>0</td>\n",
              "      <td>1</td>\n",
              "      <td>0</td>\n",
              "      <td>False</td>\n",
              "      <td>False</td>\n",
              "      <td>True</td>\n",
              "      <td>False</td>\n",
              "      <td>False</td>\n",
              "      <td>False</td>\n",
              "      <td>2015</td>\n",
              "      <td>False</td>\n",
              "      <td>False</td>\n",
              "      <td>False</td>\n",
              "      <td>False</td>\n",
              "      <td>True</td>\n",
              "      <td>False</td>\n",
              "      <td>False</td>\n",
              "      <td>False</td>\n",
              "      <td>False</td>\n",
              "      <td>False</td>\n",
              "      <td>4.0000</td>\n",
              "      <td>0</td>\n",
              "      <td>22804992000</td>\n",
              "      <td>0</td>\n",
              "      <td>0.001734</td>\n",
              "      <td>False</td>\n",
              "      <td>False</td>\n",
              "      <td>False</td>\n",
              "      <td>True</td>\n",
              "      <td>False</td>\n",
              "      <td>2</td>\n",
              "      <td>784</td>\n",
              "      <td>3240000</td>\n",
              "      <td>-417600</td>\n",
              "    </tr>\n",
              "  </tbody>\n",
              "</table>\n",
              "</div>"
            ],
            "text/plain": [
              "           id             date     price  bedrooms  bathrooms  sqft_living  \\\n",
              "0  7129300520  20141013T000000  221900.0         3       1.00         1180   \n",
              "1  6414100192  20141209T000000  538000.0         3       2.25         2570   \n",
              "2  5631500400  20150225T000000  180000.0         2       1.00          770   \n",
              "3  2487200875  20141209T000000  604000.0         4       3.00         1960   \n",
              "4  1954400510  20150218T000000  510000.0         3       2.00         1680   \n",
              "\n",
              "   sqft_lot  floors  waterfront  view  condition  grade  sqft_above  \\\n",
              "0      5650     1.0           0     0          3      7        1180   \n",
              "1      7242     2.0           0     0          3      7        2170   \n",
              "2     10000     1.0           0     0          3      6         770   \n",
              "3      5000     1.0           0     0          5      7        1050   \n",
              "4      8080     1.0           0     0          3      8        1680   \n",
              "\n",
              "   sqft_basement  yr_built  yr_renovated  zipcode      lat     long  \\\n",
              "0              0      1955             0    98178  47.5112 -122.257   \n",
              "1            400      1951          1991    98125  47.7210 -122.319   \n",
              "2              0      1933             0    98028  47.7379 -122.233   \n",
              "3            910      1965             0    98136  47.5208 -122.393   \n",
              "4              0      1987             0    98074  47.6168 -122.045   \n",
              "\n",
              "   sqft_living15  sqft_lot15  yrs_since_built  log_price  sqft_living_squared  \\\n",
              "0           1340        5650               59  12.309982              1392400   \n",
              "1           1690        7639               63  13.195614              6604900   \n",
              "2           2720        8062               82  12.100712               592900   \n",
              "3           1360        5000               49  13.311329              3841600   \n",
              "4           1800        7503               28  13.142166              2822400   \n",
              "\n",
              "   sqft_living_log  grade_squared  pca2_2_means_label  pca2_3_means_label  \\\n",
              "0         7.073270             49                   0                   1   \n",
              "1         7.851661             49                   0                   1   \n",
              "2         6.646391             36                   0                   1   \n",
              "3         7.580700             49                   0                   1   \n",
              "4         7.426549             64                   0                   1   \n",
              "\n",
              "   pca3_2_means_label  has_basement  view_4  view_0  view_2  condition_1or2  \\\n",
              "0                   0         False   False    True   False           False   \n",
              "1                   0          True   False    True   False           False   \n",
              "2                   0         False   False    True   False           False   \n",
              "3                   0          True   False    True   False           False   \n",
              "4                   0         False   False    True   False           False   \n",
              "\n",
              "   renovated  year_sold  bedrooms_missing  bedrooms_alot  bedrooms_1  \\\n",
              "0      False       2014             False          False       False   \n",
              "1       True       2014             False          False       False   \n",
              "2      False       2015             False          False       False   \n",
              "3      False       2014             False          False       False   \n",
              "4      False       2015             False          False       False   \n",
              "\n",
              "   bedrooms_2  bedrooms_3  bedrooms_4  bedrooms_5  bedrooms_6  bedrooms_7  \\\n",
              "0       False        True       False       False       False       False   \n",
              "1       False        True       False       False       False       False   \n",
              "2        True       False       False       False       False       False   \n",
              "3       False       False        True       False       False       False   \n",
              "4       False        True       False       False       False       False   \n",
              "\n",
              "   bedrooms_8  bathrooms_squared  old_not_renovated  sqft_interaction  \\\n",
              "0       False             1.0000                  0        7867060000   \n",
              "1       False             5.0625                 63       47832685800   \n",
              "2       False             1.0000                  0        5929000000   \n",
              "3       False             9.0000                  0       19208000000   \n",
              "4       False             4.0000                  0       22804992000   \n",
              "\n",
              "   view_grade_interaction  bedrooms_per_sqfoot_median  bedrooms_zero  \\\n",
              "0                       0                    0.001734          False   \n",
              "1                       0                    0.001734          False   \n",
              "2                       0                    0.001734          False   \n",
              "3                       0                    0.001734          False   \n",
              "4                       0                    0.001734          False   \n",
              "\n",
              "   bedrooms_one  bedrooms_two  bedrooms_three_more  bedrooms_one_or_two  \\\n",
              "0         False         False                 True                False   \n",
              "1         False         False                 True                False   \n",
              "2         False          True                False                 True   \n",
              "3         False         False                 True                False   \n",
              "4         False         False                 True                False   \n",
              "\n",
              "   month  yrs_since_built_squared  sqft_living15_squared  \\\n",
              "0     10                     3481                1795600   \n",
              "1     12                     3969                2856100   \n",
              "2      2                     6724                7398400   \n",
              "3     12                     2401                1849600   \n",
              "4      2                      784                3240000   \n",
              "\n",
              "   sqftliving_sqftliving15_interaction  \n",
              "0                              -403200  \n",
              "1                              3748800  \n",
              "2                             -6805500  \n",
              "3                              1992000  \n",
              "4                              -417600  "
            ]
          },
          "metadata": {
            "tags": []
          },
          "execution_count": 885
        }
      ]
    },
    {
      "metadata": {
        "id": "X2jNOgs1lH2T",
        "colab_type": "code",
        "colab": {}
      },
      "cell_type": "code",
      "source": [
        "km = KMeans(5)\n",
        "km = km.fit(df[['lat','long']])\n",
        "\n",
        "df['five_dif_locations'] = km.labels_"
      ],
      "execution_count": 0,
      "outputs": []
    },
    {
      "metadata": {
        "id": "dUcRtCrnkGc3",
        "colab_type": "code",
        "colab": {
          "base_uri": "https://localhost:8080/",
          "height": 364
        },
        "outputId": "72ea2413-ceb9-4e5e-b74e-35ada22d94af"
      },
      "cell_type": "code",
      "source": [
        "plt.scatter(df.lat,df.long, c=df.five_dif_locations)"
      ],
      "execution_count": 892,
      "outputs": [
        {
          "output_type": "execute_result",
          "data": {
            "text/plain": [
              "<matplotlib.legend.Legend at 0x7f3561601e80>"
            ]
          },
          "metadata": {
            "tags": []
          },
          "execution_count": 892
        },
        {
          "output_type": "display_data",
          "data": {
            "image/png": "[encoded data removed]",
            "text/plain": [
              "<Figure size 576x396 with 1 Axes>"
            ]
          },
          "metadata": {
            "tags": []
          }
        }
      ]
    },
    {
      "metadata": {
        "id": "Z2YQcP9IlGT5",
        "colab_type": "code",
        "colab": {}
      },
      "cell_type": "code",
      "source": [
        "df['loc1'] = (df.five_dif_locations == 0)\n",
        "df['loc2'] = (df.five_dif_locations == 1)\n",
        "df['loc3'] = (df.five_dif_locations == 2)\n",
        "df['loc4'] = (df.five_dif_locations == 3)\n",
        "df['loc5'] = (df.five_dif_locations == 4)"
      ],
      "execution_count": 0,
      "outputs": []
    },
    {
      "metadata": {
        "id": "3AKP1sKGlryF",
        "colab_type": "code",
        "colab": {
          "base_uri": "https://localhost:8080/",
          "height": 34
        },
        "outputId": "4911dfc3-ce7a-41d3-e684-de802f7dd9de"
      },
      "cell_type": "code",
      "source": [
        "features = ['sqft_living_squared', 'grade_squared', 'waterfront', 'view_0', 'condition_1or2', 'renovated', 'year_sold', 'bathrooms', 'sqft_interaction',\n",
        "            'view_grade_interaction', 'bedrooms_one_or_two', 'yrs_since_built_squared', 'sqft_living15_squared', 'loc1', 'loc2', 'loc3', 'loc4']\n",
        "    \n",
        "target = 'price'\n",
        "\n",
        "X = df[features]\n",
        "y = df[target]\n",
        "\n",
        "X_train, X_test, y_train, y_test = train_test_split(X, y,test_size=0.5)\n",
        "\n",
        "lr = LinearRegression()\n",
        "lr.fit(X_train, y_train)\n",
        "\n",
        "oos_pred = lr.predict(X_test)\n",
        "oos_mse = mean_squared_error(y_test, oos_pred)\n",
        "oos_r2 = r2_score(y_test, oos_pred)\n",
        "rmse = (np.sqrt(oos_mse))\n",
        "rmse, oos_r2, oos_mse"
      ],
      "execution_count": 900,
      "outputs": [
        {
          "output_type": "execute_result",
          "data": {
            "text/plain": [
              "(183966.75900963758, 0.7462024693467144, 33843768420.510075)"
            ]
          },
          "metadata": {
            "tags": []
          },
          "execution_count": 900
        }
      ]
    },
    {
      "metadata": {
        "id": "2p6Ouf_-mItw",
        "colab_type": "code",
        "colab": {
          "base_uri": "https://localhost:8080/",
          "height": 222
        },
        "outputId": "0cea4c0a-8314-4d26-ff00-01ea7c183ad2"
      },
      "cell_type": "code",
      "source": [
        "df.head()"
      ],
      "execution_count": 901,
      "outputs": [
        {
          "output_type": "execute_result",
          "data": {
            "text/html": [
              "<div>\n",
              "<style scoped>\n",
              "    .dataframe tbody tr th:only-of-type {\n",
              "        vertical-align: middle;\n",
              "    }\n",
              "\n",
              "    .dataframe tbody tr th {\n",
              "        vertical-align: top;\n",
              "    }\n",
              "\n",
              "    .dataframe thead th {\n",
              "        text-align: right;\n",
              "    }\n",
              "</style>\n",
              "<table border=\"1\" class=\"dataframe\">\n",
              "  <thead>\n",
              "    <tr style=\"text-align: right;\">\n",
              "      <th></th>\n",
              "      <th>id</th>\n",
              "      <th>date</th>\n",
              "      <th>price</th>\n",
              "      <th>bedrooms</th>\n",
              "      <th>bathrooms</th>\n",
              "      <th>sqft_living</th>\n",
              "      <th>sqft_lot</th>\n",
              "      <th>floors</th>\n",
              "      <th>waterfront</th>\n",
              "      <th>view</th>\n",
              "      <th>condition</th>\n",
              "      <th>grade</th>\n",
              "      <th>sqft_above</th>\n",
              "      <th>sqft_basement</th>\n",
              "      <th>yr_built</th>\n",
              "      <th>yr_renovated</th>\n",
              "      <th>zipcode</th>\n",
              "      <th>lat</th>\n",
              "      <th>long</th>\n",
              "      <th>sqft_living15</th>\n",
              "      <th>sqft_lot15</th>\n",
              "      <th>yrs_since_built</th>\n",
              "      <th>log_price</th>\n",
              "      <th>sqft_living_squared</th>\n",
              "      <th>sqft_living_log</th>\n",
              "      <th>grade_squared</th>\n",
              "      <th>pca2_2_means_label</th>\n",
              "      <th>pca2_3_means_label</th>\n",
              "      <th>pca3_2_means_label</th>\n",
              "      <th>has_basement</th>\n",
              "      <th>view_4</th>\n",
              "      <th>view_0</th>\n",
              "      <th>view_2</th>\n",
              "      <th>condition_1or2</th>\n",
              "      <th>renovated</th>\n",
              "      <th>year_sold</th>\n",
              "      <th>bedrooms_missing</th>\n",
              "      <th>bedrooms_alot</th>\n",
              "      <th>bedrooms_1</th>\n",
              "      <th>bedrooms_2</th>\n",
              "      <th>bedrooms_3</th>\n",
              "      <th>bedrooms_4</th>\n",
              "      <th>bedrooms_5</th>\n",
              "      <th>bedrooms_6</th>\n",
              "      <th>bedrooms_7</th>\n",
              "      <th>bedrooms_8</th>\n",
              "      <th>bathrooms_squared</th>\n",
              "      <th>old_not_renovated</th>\n",
              "      <th>sqft_interaction</th>\n",
              "      <th>view_grade_interaction</th>\n",
              "      <th>bedrooms_per_sqfoot_median</th>\n",
              "      <th>bedrooms_zero</th>\n",
              "      <th>bedrooms_one</th>\n",
              "      <th>bedrooms_two</th>\n",
              "      <th>bedrooms_three_more</th>\n",
              "      <th>bedrooms_one_or_two</th>\n",
              "      <th>month</th>\n",
              "      <th>yrs_since_built_squared</th>\n",
              "      <th>sqft_living15_squared</th>\n",
              "      <th>sqftliving_sqftliving15_interaction</th>\n",
              "      <th>five_dif_locations</th>\n",
              "      <th>loc1</th>\n",
              "      <th>loc2</th>\n",
              "      <th>loc3</th>\n",
              "      <th>loc4</th>\n",
              "      <th>loc5</th>\n",
              "    </tr>\n",
              "  </thead>\n",
              "  <tbody>\n",
              "    <tr>\n",
              "      <th>0</th>\n",
              "      <td>7129300520</td>\n",
              "      <td>20141013T000000</td>\n",
              "      <td>221900.0</td>\n",
              "      <td>3</td>\n",
              "      <td>1.00</td>\n",
              "      <td>1180</td>\n",
              "      <td>5650</td>\n",
              "      <td>1.0</td>\n",
              "      <td>0</td>\n",
              "      <td>0</td>\n",
              "      <td>3</td>\n",
              "      <td>7</td>\n",
              "      <td>1180</td>\n",
              "      <td>0</td>\n",
              "      <td>1955</td>\n",
              "      <td>0</td>\n",
              "      <td>98178</td>\n",
              "      <td>47.5112</td>\n",
              "      <td>-122.257</td>\n",
              "      <td>1340</td>\n",
              "      <td>5650</td>\n",
              "      <td>59</td>\n",
              "      <td>12.309982</td>\n",
              "      <td>1392400</td>\n",
              "      <td>7.073270</td>\n",
              "      <td>49</td>\n",
              "      <td>0</td>\n",
              "      <td>1</td>\n",
              "      <td>0</td>\n",
              "      <td>False</td>\n",
              "      <td>False</td>\n",
              "      <td>True</td>\n",
              "      <td>False</td>\n",
              "      <td>False</td>\n",
              "      <td>False</td>\n",
              "      <td>2014</td>\n",
              "      <td>False</td>\n",
              "      <td>False</td>\n",
              "      <td>False</td>\n",
              "      <td>False</td>\n",
              "      <td>True</td>\n",
              "      <td>False</td>\n",
              "      <td>False</td>\n",
              "      <td>False</td>\n",
              "      <td>False</td>\n",
              "      <td>False</td>\n",
              "      <td>1.0000</td>\n",
              "      <td>0</td>\n",
              "      <td>7867060000</td>\n",
              "      <td>0</td>\n",
              "      <td>0.001734</td>\n",
              "      <td>False</td>\n",
              "      <td>False</td>\n",
              "      <td>False</td>\n",
              "      <td>True</td>\n",
              "      <td>False</td>\n",
              "      <td>10</td>\n",
              "      <td>3481</td>\n",
              "      <td>1795600</td>\n",
              "      <td>-403200</td>\n",
              "      <td>3</td>\n",
              "      <td>False</td>\n",
              "      <td>False</td>\n",
              "      <td>False</td>\n",
              "      <td>True</td>\n",
              "      <td>False</td>\n",
              "    </tr>\n",
              "    <tr>\n",
              "      <th>1</th>\n",
              "      <td>6414100192</td>\n",
              "      <td>20141209T000000</td>\n",
              "      <td>538000.0</td>\n",
              "      <td>3</td>\n",
              "      <td>2.25</td>\n",
              "      <td>2570</td>\n",
              "      <td>7242</td>\n",
              "      <td>2.0</td>\n",
              "      <td>0</td>\n",
              "      <td>0</td>\n",
              "      <td>3</td>\n",
              "      <td>7</td>\n",
              "      <td>2170</td>\n",
              "      <td>400</td>\n",
              "      <td>1951</td>\n",
              "      <td>1991</td>\n",
              "      <td>98125</td>\n",
              "      <td>47.7210</td>\n",
              "      <td>-122.319</td>\n",
              "      <td>1690</td>\n",
              "      <td>7639</td>\n",
              "      <td>63</td>\n",
              "      <td>13.195614</td>\n",
              "      <td>6604900</td>\n",
              "      <td>7.851661</td>\n",
              "      <td>49</td>\n",
              "      <td>0</td>\n",
              "      <td>1</td>\n",
              "      <td>0</td>\n",
              "      <td>True</td>\n",
              "      <td>False</td>\n",
              "      <td>True</td>\n",
              "      <td>False</td>\n",
              "      <td>False</td>\n",
              "      <td>True</td>\n",
              "      <td>2014</td>\n",
              "      <td>False</td>\n",
              "      <td>False</td>\n",
              "      <td>False</td>\n",
              "      <td>False</td>\n",
              "      <td>True</td>\n",
              "      <td>False</td>\n",
              "      <td>False</td>\n",
              "      <td>False</td>\n",
              "      <td>False</td>\n",
              "      <td>False</td>\n",
              "      <td>5.0625</td>\n",
              "      <td>63</td>\n",
              "      <td>47832685800</td>\n",
              "      <td>0</td>\n",
              "      <td>0.001734</td>\n",
              "      <td>False</td>\n",
              "      <td>False</td>\n",
              "      <td>False</td>\n",
              "      <td>True</td>\n",
              "      <td>False</td>\n",
              "      <td>12</td>\n",
              "      <td>3969</td>\n",
              "      <td>2856100</td>\n",
              "      <td>3748800</td>\n",
              "      <td>0</td>\n",
              "      <td>True</td>\n",
              "      <td>False</td>\n",
              "      <td>False</td>\n",
              "      <td>False</td>\n",
              "      <td>False</td>\n",
              "    </tr>\n",
              "    <tr>\n",
              "      <th>2</th>\n",
              "      <td>5631500400</td>\n",
              "      <td>20150225T000000</td>\n",
              "      <td>180000.0</td>\n",
              "      <td>2</td>\n",
              "      <td>1.00</td>\n",
              "      <td>770</td>\n",
              "      <td>10000</td>\n",
              "      <td>1.0</td>\n",
              "      <td>0</td>\n",
              "      <td>0</td>\n",
              "      <td>3</td>\n",
              "      <td>6</td>\n",
              "      <td>770</td>\n",
              "      <td>0</td>\n",
              "      <td>1933</td>\n",
              "      <td>0</td>\n",
              "      <td>98028</td>\n",
              "      <td>47.7379</td>\n",
              "      <td>-122.233</td>\n",
              "      <td>2720</td>\n",
              "      <td>8062</td>\n",
              "      <td>82</td>\n",
              "      <td>12.100712</td>\n",
              "      <td>592900</td>\n",
              "      <td>6.646391</td>\n",
              "      <td>36</td>\n",
              "      <td>0</td>\n",
              "      <td>1</td>\n",
              "      <td>0</td>\n",
              "      <td>False</td>\n",
              "      <td>False</td>\n",
              "      <td>True</td>\n",
              "      <td>False</td>\n",
              "      <td>False</td>\n",
              "      <td>False</td>\n",
              "      <td>2015</td>\n",
              "      <td>False</td>\n",
              "      <td>False</td>\n",
              "      <td>False</td>\n",
              "      <td>True</td>\n",
              "      <td>False</td>\n",
              "      <td>False</td>\n",
              "      <td>False</td>\n",
              "      <td>False</td>\n",
              "      <td>False</td>\n",
              "      <td>False</td>\n",
              "      <td>1.0000</td>\n",
              "      <td>0</td>\n",
              "      <td>5929000000</td>\n",
              "      <td>0</td>\n",
              "      <td>0.001734</td>\n",
              "      <td>False</td>\n",
              "      <td>False</td>\n",
              "      <td>True</td>\n",
              "      <td>False</td>\n",
              "      <td>True</td>\n",
              "      <td>2</td>\n",
              "      <td>6724</td>\n",
              "      <td>7398400</td>\n",
              "      <td>-6805500</td>\n",
              "      <td>0</td>\n",
              "      <td>True</td>\n",
              "      <td>False</td>\n",
              "      <td>False</td>\n",
              "      <td>False</td>\n",
              "      <td>False</td>\n",
              "    </tr>\n",
              "    <tr>\n",
              "      <th>3</th>\n",
              "      <td>2487200875</td>\n",
              "      <td>20141209T000000</td>\n",
              "      <td>604000.0</td>\n",
              "      <td>4</td>\n",
              "      <td>3.00</td>\n",
              "      <td>1960</td>\n",
              "      <td>5000</td>\n",
              "      <td>1.0</td>\n",
              "      <td>0</td>\n",
              "      <td>0</td>\n",
              "      <td>5</td>\n",
              "      <td>7</td>\n",
              "      <td>1050</td>\n",
              "      <td>910</td>\n",
              "      <td>1965</td>\n",
              "      <td>0</td>\n",
              "      <td>98136</td>\n",
              "      <td>47.5208</td>\n",
              "      <td>-122.393</td>\n",
              "      <td>1360</td>\n",
              "      <td>5000</td>\n",
              "      <td>49</td>\n",
              "      <td>13.311329</td>\n",
              "      <td>3841600</td>\n",
              "      <td>7.580700</td>\n",
              "      <td>49</td>\n",
              "      <td>0</td>\n",
              "      <td>1</td>\n",
              "      <td>0</td>\n",
              "      <td>True</td>\n",
              "      <td>False</td>\n",
              "      <td>True</td>\n",
              "      <td>False</td>\n",
              "      <td>False</td>\n",
              "      <td>False</td>\n",
              "      <td>2014</td>\n",
              "      <td>False</td>\n",
              "      <td>False</td>\n",
              "      <td>False</td>\n",
              "      <td>False</td>\n",
              "      <td>False</td>\n",
              "      <td>True</td>\n",
              "      <td>False</td>\n",
              "      <td>False</td>\n",
              "      <td>False</td>\n",
              "      <td>False</td>\n",
              "      <td>9.0000</td>\n",
              "      <td>0</td>\n",
              "      <td>19208000000</td>\n",
              "      <td>0</td>\n",
              "      <td>0.001734</td>\n",
              "      <td>False</td>\n",
              "      <td>False</td>\n",
              "      <td>False</td>\n",
              "      <td>True</td>\n",
              "      <td>False</td>\n",
              "      <td>12</td>\n",
              "      <td>2401</td>\n",
              "      <td>1849600</td>\n",
              "      <td>1992000</td>\n",
              "      <td>3</td>\n",
              "      <td>False</td>\n",
              "      <td>False</td>\n",
              "      <td>False</td>\n",
              "      <td>True</td>\n",
              "      <td>False</td>\n",
              "    </tr>\n",
              "    <tr>\n",
              "      <th>4</th>\n",
              "      <td>1954400510</td>\n",
              "      <td>20150218T000000</td>\n",
              "      <td>510000.0</td>\n",
              "      <td>3</td>\n",
              "      <td>2.00</td>\n",
              "      <td>1680</td>\n",
              "      <td>8080</td>\n",
              "      <td>1.0</td>\n",
              "      <td>0</td>\n",
              "      <td>0</td>\n",
              "      <td>3</td>\n",
              "      <td>8</td>\n",
              "      <td>1680</td>\n",
              "      <td>0</td>\n",
              "      <td>1987</td>\n",
              "      <td>0</td>\n",
              "      <td>98074</td>\n",
              "      <td>47.6168</td>\n",
              "      <td>-122.045</td>\n",
              "      <td>1800</td>\n",
              "      <td>7503</td>\n",
              "      <td>28</td>\n",
              "      <td>13.142166</td>\n",
              "      <td>2822400</td>\n",
              "      <td>7.426549</td>\n",
              "      <td>64</td>\n",
              "      <td>0</td>\n",
              "      <td>1</td>\n",
              "      <td>0</td>\n",
              "      <td>False</td>\n",
              "      <td>False</td>\n",
              "      <td>True</td>\n",
              "      <td>False</td>\n",
              "      <td>False</td>\n",
              "      <td>False</td>\n",
              "      <td>2015</td>\n",
              "      <td>False</td>\n",
              "      <td>False</td>\n",
              "      <td>False</td>\n",
              "      <td>False</td>\n",
              "      <td>True</td>\n",
              "      <td>False</td>\n",
              "      <td>False</td>\n",
              "      <td>False</td>\n",
              "      <td>False</td>\n",
              "      <td>False</td>\n",
              "      <td>4.0000</td>\n",
              "      <td>0</td>\n",
              "      <td>22804992000</td>\n",
              "      <td>0</td>\n",
              "      <td>0.001734</td>\n",
              "      <td>False</td>\n",
              "      <td>False</td>\n",
              "      <td>False</td>\n",
              "      <td>True</td>\n",
              "      <td>False</td>\n",
              "      <td>2</td>\n",
              "      <td>784</td>\n",
              "      <td>3240000</td>\n",
              "      <td>-417600</td>\n",
              "      <td>1</td>\n",
              "      <td>False</td>\n",
              "      <td>True</td>\n",
              "      <td>False</td>\n",
              "      <td>False</td>\n",
              "      <td>False</td>\n",
              "    </tr>\n",
              "  </tbody>\n",
              "</table>\n",
              "</div>"
            ],
            "text/plain": [
              "           id             date     price  bedrooms  bathrooms  sqft_living  \\\n",
              "0  7129300520  20141013T000000  221900.0         3       1.00         1180   \n",
              "1  6414100192  20141209T000000  538000.0         3       2.25         2570   \n",
              "2  5631500400  20150225T000000  180000.0         2       1.00          770   \n",
              "3  2487200875  20141209T000000  604000.0         4       3.00         1960   \n",
              "4  1954400510  20150218T000000  510000.0         3       2.00         1680   \n",
              "\n",
              "   sqft_lot  floors  waterfront  view  condition  grade  sqft_above  \\\n",
              "0      5650     1.0           0     0          3      7        1180   \n",
              "1      7242     2.0           0     0          3      7        2170   \n",
              "2     10000     1.0           0     0          3      6         770   \n",
              "3      5000     1.0           0     0          5      7        1050   \n",
              "4      8080     1.0           0     0          3      8        1680   \n",
              "\n",
              "   sqft_basement  yr_built  yr_renovated  zipcode      lat     long  \\\n",
              "0              0      1955             0    98178  47.5112 -122.257   \n",
              "1            400      1951          1991    98125  47.7210 -122.319   \n",
              "2              0      1933             0    98028  47.7379 -122.233   \n",
              "3            910      1965             0    98136  47.5208 -122.393   \n",
              "4              0      1987             0    98074  47.6168 -122.045   \n",
              "\n",
              "   sqft_living15  sqft_lot15  yrs_since_built  log_price  sqft_living_squared  \\\n",
              "0           1340        5650               59  12.309982              1392400   \n",
              "1           1690        7639               63  13.195614              6604900   \n",
              "2           2720        8062               82  12.100712               592900   \n",
              "3           1360        5000               49  13.311329              3841600   \n",
              "4           1800        7503               28  13.142166              2822400   \n",
              "\n",
              "   sqft_living_log  grade_squared  pca2_2_means_label  pca2_3_means_label  \\\n",
              "0         7.073270             49                   0                   1   \n",
              "1         7.851661             49                   0                   1   \n",
              "2         6.646391             36                   0                   1   \n",
              "3         7.580700             49                   0                   1   \n",
              "4         7.426549             64                   0                   1   \n",
              "\n",
              "   pca3_2_means_label  has_basement  view_4  view_0  view_2  condition_1or2  \\\n",
              "0                   0         False   False    True   False           False   \n",
              "1                   0          True   False    True   False           False   \n",
              "2                   0         False   False    True   False           False   \n",
              "3                   0          True   False    True   False           False   \n",
              "4                   0         False   False    True   False           False   \n",
              "\n",
              "   renovated  year_sold  bedrooms_missing  bedrooms_alot  bedrooms_1  \\\n",
              "0      False       2014             False          False       False   \n",
              "1       True       2014             False          False       False   \n",
              "2      False       2015             False          False       False   \n",
              "3      False       2014             False          False       False   \n",
              "4      False       2015             False          False       False   \n",
              "\n",
              "   bedrooms_2  bedrooms_3  bedrooms_4  bedrooms_5  bedrooms_6  bedrooms_7  \\\n",
              "0       False        True       False       False       False       False   \n",
              "1       False        True       False       False       False       False   \n",
              "2        True       False       False       False       False       False   \n",
              "3       False       False        True       False       False       False   \n",
              "4       False        True       False       False       False       False   \n",
              "\n",
              "   bedrooms_8  bathrooms_squared  old_not_renovated  sqft_interaction  \\\n",
              "0       False             1.0000                  0        7867060000   \n",
              "1       False             5.0625                 63       47832685800   \n",
              "2       False             1.0000                  0        5929000000   \n",
              "3       False             9.0000                  0       19208000000   \n",
              "4       False             4.0000                  0       22804992000   \n",
              "\n",
              "   view_grade_interaction  bedrooms_per_sqfoot_median  bedrooms_zero  \\\n",
              "0                       0                    0.001734          False   \n",
              "1                       0                    0.001734          False   \n",
              "2                       0                    0.001734          False   \n",
              "3                       0                    0.001734          False   \n",
              "4                       0                    0.001734          False   \n",
              "\n",
              "   bedrooms_one  bedrooms_two  bedrooms_three_more  bedrooms_one_or_two  \\\n",
              "0         False         False                 True                False   \n",
              "1         False         False                 True                False   \n",
              "2         False          True                False                 True   \n",
              "3         False         False                 True                False   \n",
              "4         False         False                 True                False   \n",
              "\n",
              "   month  yrs_since_built_squared  sqft_living15_squared  \\\n",
              "0     10                     3481                1795600   \n",
              "1     12                     3969                2856100   \n",
              "2      2                     6724                7398400   \n",
              "3     12                     2401                1849600   \n",
              "4      2                      784                3240000   \n",
              "\n",
              "   sqftliving_sqftliving15_interaction  five_dif_locations   loc1   loc2  \\\n",
              "0                              -403200                   3  False  False   \n",
              "1                              3748800                   0   True  False   \n",
              "2                             -6805500                   0   True  False   \n",
              "3                              1992000                   3  False  False   \n",
              "4                              -417600                   1  False   True   \n",
              "\n",
              "    loc3   loc4   loc5  \n",
              "0  False   True  False  \n",
              "1  False  False  False  \n",
              "2  False  False  False  \n",
              "3  False   True  False  \n",
              "4  False  False  False  "
            ]
          },
          "metadata": {
            "tags": []
          },
          "execution_count": 901
        }
      ]
    },
    {
      "metadata": {
        "id": "hR-tdNfAmi9t",
        "colab_type": "code",
        "colab": {
          "base_uri": "https://localhost:8080/",
          "height": 34
        },
        "outputId": "7af2c4cf-8887-4925-c3a3-09a3f34c9c37"
      },
      "cell_type": "code",
      "source": [
        "features = ['sqft_living_squared', 'grade_squared', 'waterfront', 'view_0', 'condition_1or2', 'renovated', 'year_sold', 'bathrooms', 'sqft_interaction',\n",
        "            'view_grade_interaction', 'bedrooms_one_or_two', 'yrs_since_built_squared', 'sqft_living15_squared', 'loc1', 'loc2', 'loc3', 'loc4']\n",
        "    \n",
        "target = 'price'\n",
        "\n",
        "X = df[features]\n",
        "y = df[target]\n",
        "\n",
        "X_train, X_test, y_train, y_test = train_test_split(X, y,test_size=0.5)\n",
        "\n",
        "lr = LinearRegression()\n",
        "lr.fit(X_train, y_train)\n",
        "\n",
        "oos_pred = lr.predict(X_test)\n",
        "oos_mse = mean_squared_error(y_test, oos_pred)\n",
        "oos_r2 = r2_score(y_test, oos_pred)\n",
        "rmse = (np.sqrt(oos_mse))\n",
        "rmse, oos_r2, oos_mse"
      ],
      "execution_count": 914,
      "outputs": [
        {
          "output_type": "execute_result",
          "data": {
            "text/plain": [
              "(183732.28918175728, 0.7503905461803629, 33757554087.96888)"
            ]
          },
          "metadata": {
            "tags": []
          },
          "execution_count": 914
        }
      ]
    },
    {
      "metadata": {
        "id": "KjXBjQGtmpEk",
        "colab_type": "code",
        "colab": {
          "base_uri": "https://localhost:8080/",
          "height": 364
        },
        "outputId": "8dfeeeae-583a-4e77-ed59-de2700efeba2"
      },
      "cell_type": "code",
      "source": [
        "df.pivot_table(index='month', values='price').plot.barh()"
      ],
      "execution_count": 917,
      "outputs": [
        {
          "output_type": "execute_result",
          "data": {
            "text/plain": [
              "<matplotlib.axes._subplots.AxesSubplot at 0x7f3561d712b0>"
            ]
          },
          "metadata": {
            "tags": []
          },
          "execution_count": 917
        },
        {
          "output_type": "display_data",
          "data": {
            "image/png": "[encoded data removed]",
            "text/plain": [
              "<Figure size 576x396 with 1 Axes>"
            ]
          },
          "metadata": {
            "tags": []
          }
        }
      ]
    },
    {
      "metadata": {
        "id": "OWJUSLPinYe0",
        "colab_type": "code",
        "colab": {}
      },
      "cell_type": "code",
      "source": [
        "df['is_winter_months'] = ((df.month >= 11) | (df.month <= 2))"
      ],
      "execution_count": 0,
      "outputs": []
    },
    {
      "metadata": {
        "id": "TC7MXN6XnvCt",
        "colab_type": "code",
        "colab": {
          "base_uri": "https://localhost:8080/",
          "height": 34
        },
        "outputId": "c830012b-36c8-4ff0-dd8c-88a3144dfa91"
      },
      "cell_type": "code",
      "source": [
        "features = ['sqft_living_squared', 'grade_squared', 'waterfront', 'view_0', 'condition_1or2', 'renovated', 'year_sold', 'bathrooms', 'sqft_interaction',\n",
        "            'view_grade_interaction', 'bedrooms_one_or_two', 'yrs_since_built_squared', 'sqft_living15_squared', 'loc1', 'loc2', 'loc3', 'loc4', 'is_winter_months']\n",
        "    \n",
        "target = 'price'\n",
        "\n",
        "X = df[features]\n",
        "y = df[target]\n",
        "\n",
        "X_train, X_test, y_train, y_test = train_test_split(X, y,test_size=0.5)\n",
        "\n",
        "lr = LinearRegression()\n",
        "lr.fit(X_train, y_train)\n",
        "\n",
        "oos_pred = lr.predict(X_test)\n",
        "oos_mse = mean_squared_error(y_test, oos_pred)\n",
        "oos_r2 = r2_score(y_test, oos_pred)\n",
        "rmse = (np.sqrt(oos_mse))\n",
        "rmse, oos_r2, oos_mse"
      ],
      "execution_count": 926,
      "outputs": [
        {
          "output_type": "execute_result",
          "data": {
            "text/plain": [
              "(180835.667478554, 0.754805175912574, 32701538632.414154)"
            ]
          },
          "metadata": {
            "tags": []
          },
          "execution_count": 926
        }
      ]
    },
    {
      "metadata": {
        "id": "wUlE8iZInzHp",
        "colab_type": "code",
        "colab": {}
      },
      "cell_type": "code",
      "source": [
        "df['floors_abv_ground'] = df.floors - df.has_basement"
      ],
      "execution_count": 0,
      "outputs": []
    },
    {
      "metadata": {
        "id": "SWqpLVf2oIwi",
        "colab_type": "code",
        "colab": {
          "base_uri": "https://localhost:8080/",
          "height": 365
        },
        "outputId": "5647d382-755d-44f5-b411-1779b687a22d"
      },
      "cell_type": "code",
      "source": [
        "plt.scatter(df.floors_abv_ground, df.price)"
      ],
      "execution_count": 929,
      "outputs": [
        {
          "output_type": "execute_result",
          "data": {
            "text/plain": [
              "<matplotlib.collections.PathCollection at 0x7f3564004860>"
            ]
          },
          "metadata": {
            "tags": []
          },
          "execution_count": 929
        },
        {
          "output_type": "display_data",
          "data": {
            "image/png": "[encoded data removed]",
            "text/plain": [
              "<Figure size 576x396 with 1 Axes>"
            ]
          },
          "metadata": {
            "tags": []
          }
        }
      ]
    },
    {
      "metadata": {
        "id": "BlnSHO9zoLwK",
        "colab_type": "code",
        "colab": {}
      },
      "cell_type": "code",
      "source": [
        "df['split_level_home'] = (df.floors_abv_ground == 0.5)"
      ],
      "execution_count": 0,
      "outputs": []
    },
    {
      "metadata": {
        "id": "dtDTxX62oazH",
        "colab_type": "code",
        "colab": {
          "base_uri": "https://localhost:8080/",
          "height": 34
        },
        "outputId": "4671d413-37e2-4021-d93f-5d6ac8c93a24"
      },
      "cell_type": "code",
      "source": [
        "features = ['sqft_living_squared', 'grade_squared', 'waterfront', 'view_0', 'condition_1or2', 'renovated', 'year_sold', 'bathrooms', 'sqft_interaction',\n",
        "            'view_grade_interaction', 'bedrooms_one_or_two', 'yrs_since_built_squared', 'sqft_living15_squared', 'loc1', 'loc2', 'loc3', 'loc4', 'is_winter_months']\n",
        "    \n",
        "target = 'price'\n",
        "\n",
        "X = df[features]\n",
        "y = df[target]\n",
        "\n",
        "X_train, X_test, y_train, y_test = train_test_split(X, y,test_size=0.5)\n",
        "\n",
        "lr = LinearRegression()\n",
        "lr.fit(X_train, y_train)\n",
        "\n",
        "oos_pred = lr.predict(X_test)\n",
        "oos_mse = mean_squared_error(y_test, oos_pred)\n",
        "oos_r2 = r2_score(y_test, oos_pred)\n",
        "rmse = (np.sqrt(oos_mse))\n",
        "rmse, oos_r2, oos_mse"
      ],
      "execution_count": 958,
      "outputs": [
        {
          "output_type": "execute_result",
          "data": {
            "text/plain": [
              "(181449.24033400466, 0.7488870340561442, 32923826817.787388)"
            ]
          },
          "metadata": {
            "tags": []
          },
          "execution_count": 958
        }
      ]
    },
    {
      "metadata": {
        "id": "qUTh2VuAoht-",
        "colab_type": "code",
        "colab": {
          "base_uri": "https://localhost:8080/",
          "height": 364
        },
        "outputId": "b82a3d61-511a-45c3-f2cc-edc8068d6bed"
      },
      "cell_type": "code",
      "source": [
        "df.pivot_table(index='month', values='price').plot.barh()"
      ],
      "execution_count": 960,
      "outputs": [
        {
          "output_type": "execute_result",
          "data": {
            "text/plain": [
              "<matplotlib.axes._subplots.AxesSubplot at 0x7f35649fc7b8>"
            ]
          },
          "metadata": {
            "tags": []
          },
          "execution_count": 960
        },
        {
          "output_type": "display_data",
          "data": {
            "image/png": "[encoded data removed]",
            "text/plain": [
              "<Figure size 576x396 with 1 Axes>"
            ]
          },
          "metadata": {
            "tags": []
          }
        }
      ]
    },
    {
      "metadata": {
        "id": "g0rGoOcqo35p",
        "colab_type": "code",
        "colab": {}
      },
      "cell_type": "code",
      "source": [
        "df['first_post_winter_szn'] = ((df.month >=4) & (df.month <=6))"
      ],
      "execution_count": 0,
      "outputs": []
    },
    {
      "metadata": {
        "id": "icj4AURUpIuc",
        "colab_type": "code",
        "colab": {
          "base_uri": "https://localhost:8080/",
          "height": 34
        },
        "outputId": "80c76222-0a2b-4f5c-8238-ea479451089d"
      },
      "cell_type": "code",
      "source": [
        "features = ['sqft_living_squared', 'grade_squared', 'waterfront', 'view_0', 'condition_1or2', 'renovated', 'year_sold', 'bathrooms', 'sqft_interaction',\n",
        "            'view_grade_interaction', 'bedrooms_one_or_two', 'yrs_since_built_squared', 'sqft_living15_squared', 'loc1', 'loc2', 'loc3', 'loc4', 'is_winter_months',\n",
        "            'first_post_winter_szn']\n",
        "    \n",
        "target = 'price'\n",
        "\n",
        "X = df[features]\n",
        "y = df[target]\n",
        "\n",
        "X_train, X_test, y_train, y_test = train_test_split(X, y,test_size=0.5)\n",
        "\n",
        "lr = LinearRegression()\n",
        "lr.fit(X_train, y_train)\n",
        "\n",
        "oos_pred = lr.predict(X_test)\n",
        "oos_mse = mean_squared_error(y_test, oos_pred)\n",
        "oos_r2 = r2_score(y_test, oos_pred)\n",
        "rmse = (np.sqrt(oos_mse))\n",
        "rmse, oos_r2, oos_mse"
      ],
      "execution_count": 974,
      "outputs": [
        {
          "output_type": "execute_result",
          "data": {
            "text/plain": [
              "(179846.24654956, 0.7477606965515031, 32344672397.965115)"
            ]
          },
          "metadata": {
            "tags": []
          },
          "execution_count": 974
        }
      ]
    },
    {
      "metadata": {
        "id": "b8cO_yIJpMfi",
        "colab_type": "code",
        "colab": {
          "base_uri": "https://localhost:8080/",
          "height": 1979
        },
        "outputId": "e19d4667-ef29-4857-bbff-838240ac8199"
      },
      "cell_type": "code",
      "source": [
        "df.pivot_table(index='zipcode', values='price').sort_values('price', ascending=False)"
      ],
      "execution_count": 977,
      "outputs": [
        {
          "output_type": "execute_result",
          "data": {
            "text/html": [
              "<div>\n",
              "<style scoped>\n",
              "    .dataframe tbody tr th:only-of-type {\n",
              "        vertical-align: middle;\n",
              "    }\n",
              "\n",
              "    .dataframe tbody tr th {\n",
              "        vertical-align: top;\n",
              "    }\n",
              "\n",
              "    .dataframe thead th {\n",
              "        text-align: right;\n",
              "    }\n",
              "</style>\n",
              "<table border=\"1\" class=\"dataframe\">\n",
              "  <thead>\n",
              "    <tr style=\"text-align: right;\">\n",
              "      <th></th>\n",
              "      <th>price</th>\n",
              "    </tr>\n",
              "    <tr>\n",
              "      <th>zipcode</th>\n",
              "      <th></th>\n",
              "    </tr>\n",
              "  </thead>\n",
              "  <tbody>\n",
              "    <tr>\n",
              "      <th>98039</th>\n",
              "      <td>2.160607e+06</td>\n",
              "    </tr>\n",
              "    <tr>\n",
              "      <th>98004</th>\n",
              "      <td>1.355927e+06</td>\n",
              "    </tr>\n",
              "    <tr>\n",
              "      <th>98040</th>\n",
              "      <td>1.194230e+06</td>\n",
              "    </tr>\n",
              "    <tr>\n",
              "      <th>98112</th>\n",
              "      <td>1.095499e+06</td>\n",
              "    </tr>\n",
              "    <tr>\n",
              "      <th>98102</th>\n",
              "      <td>9.012583e+05</td>\n",
              "    </tr>\n",
              "    <tr>\n",
              "      <th>98109</th>\n",
              "      <td>8.796236e+05</td>\n",
              "    </tr>\n",
              "    <tr>\n",
              "      <th>98105</th>\n",
              "      <td>8.628252e+05</td>\n",
              "    </tr>\n",
              "    <tr>\n",
              "      <th>98006</th>\n",
              "      <td>8.596848e+05</td>\n",
              "    </tr>\n",
              "    <tr>\n",
              "      <th>98119</th>\n",
              "      <td>8.494480e+05</td>\n",
              "    </tr>\n",
              "    <tr>\n",
              "      <th>98005</th>\n",
              "      <td>8.101649e+05</td>\n",
              "    </tr>\n",
              "    <tr>\n",
              "      <th>98033</th>\n",
              "      <td>8.037195e+05</td>\n",
              "    </tr>\n",
              "    <tr>\n",
              "      <th>98199</th>\n",
              "      <td>7.918208e+05</td>\n",
              "    </tr>\n",
              "    <tr>\n",
              "      <th>98075</th>\n",
              "      <td>7.905767e+05</td>\n",
              "    </tr>\n",
              "    <tr>\n",
              "      <th>98074</th>\n",
              "      <td>6.856058e+05</td>\n",
              "    </tr>\n",
              "    <tr>\n",
              "      <th>98077</th>\n",
              "      <td>6.827749e+05</td>\n",
              "    </tr>\n",
              "    <tr>\n",
              "      <th>98053</th>\n",
              "      <td>6.781631e+05</td>\n",
              "    </tr>\n",
              "    <tr>\n",
              "      <th>98177</th>\n",
              "      <td>6.761854e+05</td>\n",
              "    </tr>\n",
              "    <tr>\n",
              "      <th>98008</th>\n",
              "      <td>6.455074e+05</td>\n",
              "    </tr>\n",
              "    <tr>\n",
              "      <th>98052</th>\n",
              "      <td>6.452315e+05</td>\n",
              "    </tr>\n",
              "    <tr>\n",
              "      <th>98122</th>\n",
              "      <td>6.343602e+05</td>\n",
              "    </tr>\n",
              "    <tr>\n",
              "      <th>98115</th>\n",
              "      <td>6.199005e+05</td>\n",
              "    </tr>\n",
              "    <tr>\n",
              "      <th>98116</th>\n",
              "      <td>6.186342e+05</td>\n",
              "    </tr>\n",
              "    <tr>\n",
              "      <th>98007</th>\n",
              "      <td>6.171051e+05</td>\n",
              "    </tr>\n",
              "    <tr>\n",
              "      <th>98027</th>\n",
              "      <td>6.169906e+05</td>\n",
              "    </tr>\n",
              "    <tr>\n",
              "      <th>98029</th>\n",
              "      <td>6.126536e+05</td>\n",
              "    </tr>\n",
              "    <tr>\n",
              "      <th>98144</th>\n",
              "      <td>5.945477e+05</td>\n",
              "    </tr>\n",
              "    <tr>\n",
              "      <th>98103</th>\n",
              "      <td>5.849192e+05</td>\n",
              "    </tr>\n",
              "    <tr>\n",
              "      <th>98024</th>\n",
              "      <td>5.805268e+05</td>\n",
              "    </tr>\n",
              "    <tr>\n",
              "      <th>98107</th>\n",
              "      <td>5.790534e+05</td>\n",
              "    </tr>\n",
              "    <tr>\n",
              "      <th>98117</th>\n",
              "      <td>5.767950e+05</td>\n",
              "    </tr>\n",
              "    <tr>\n",
              "      <th>...</th>\n",
              "      <td>...</td>\n",
              "    </tr>\n",
              "    <tr>\n",
              "      <th>98014</th>\n",
              "      <td>4.556171e+05</td>\n",
              "    </tr>\n",
              "    <tr>\n",
              "      <th>98045</th>\n",
              "      <td>4.394711e+05</td>\n",
              "    </tr>\n",
              "    <tr>\n",
              "      <th>98019</th>\n",
              "      <td>4.247887e+05</td>\n",
              "    </tr>\n",
              "    <tr>\n",
              "      <th>98126</th>\n",
              "      <td>4.247064e+05</td>\n",
              "    </tr>\n",
              "    <tr>\n",
              "      <th>98155</th>\n",
              "      <td>4.237257e+05</td>\n",
              "    </tr>\n",
              "    <tr>\n",
              "      <th>98010</th>\n",
              "      <td>4.236660e+05</td>\n",
              "    </tr>\n",
              "    <tr>\n",
              "      <th>98056</th>\n",
              "      <td>4.208905e+05</td>\n",
              "    </tr>\n",
              "    <tr>\n",
              "      <th>98118</th>\n",
              "      <td>4.176374e+05</td>\n",
              "    </tr>\n",
              "    <tr>\n",
              "      <th>98133</th>\n",
              "      <td>3.869974e+05</td>\n",
              "    </tr>\n",
              "    <tr>\n",
              "      <th>98038</th>\n",
              "      <td>3.668676e+05</td>\n",
              "    </tr>\n",
              "    <tr>\n",
              "      <th>98146</th>\n",
              "      <td>3.594832e+05</td>\n",
              "    </tr>\n",
              "    <tr>\n",
              "      <th>98108</th>\n",
              "      <td>3.556785e+05</td>\n",
              "    </tr>\n",
              "    <tr>\n",
              "      <th>98058</th>\n",
              "      <td>3.536086e+05</td>\n",
              "    </tr>\n",
              "    <tr>\n",
              "      <th>98092</th>\n",
              "      <td>3.349211e+05</td>\n",
              "    </tr>\n",
              "    <tr>\n",
              "      <th>98106</th>\n",
              "      <td>3.195814e+05</td>\n",
              "    </tr>\n",
              "    <tr>\n",
              "      <th>98022</th>\n",
              "      <td>3.157093e+05</td>\n",
              "    </tr>\n",
              "    <tr>\n",
              "      <th>98042</th>\n",
              "      <td>3.116321e+05</td>\n",
              "    </tr>\n",
              "    <tr>\n",
              "      <th>98178</th>\n",
              "      <td>3.106128e+05</td>\n",
              "    </tr>\n",
              "    <tr>\n",
              "      <th>98055</th>\n",
              "      <td>3.042621e+05</td>\n",
              "    </tr>\n",
              "    <tr>\n",
              "      <th>98198</th>\n",
              "      <td>3.028789e+05</td>\n",
              "    </tr>\n",
              "    <tr>\n",
              "      <th>98031</th>\n",
              "      <td>3.005399e+05</td>\n",
              "    </tr>\n",
              "    <tr>\n",
              "      <th>98030</th>\n",
              "      <td>2.961880e+05</td>\n",
              "    </tr>\n",
              "    <tr>\n",
              "      <th>98003</th>\n",
              "      <td>2.941113e+05</td>\n",
              "    </tr>\n",
              "    <tr>\n",
              "      <th>98188</th>\n",
              "      <td>2.890783e+05</td>\n",
              "    </tr>\n",
              "    <tr>\n",
              "      <th>98023</th>\n",
              "      <td>2.867328e+05</td>\n",
              "    </tr>\n",
              "    <tr>\n",
              "      <th>98148</th>\n",
              "      <td>2.849086e+05</td>\n",
              "    </tr>\n",
              "    <tr>\n",
              "      <th>98001</th>\n",
              "      <td>2.808047e+05</td>\n",
              "    </tr>\n",
              "    <tr>\n",
              "      <th>98032</th>\n",
              "      <td>2.512962e+05</td>\n",
              "    </tr>\n",
              "    <tr>\n",
              "      <th>98168</th>\n",
              "      <td>2.403284e+05</td>\n",
              "    </tr>\n",
              "    <tr>\n",
              "      <th>98002</th>\n",
              "      <td>2.342840e+05</td>\n",
              "    </tr>\n",
              "  </tbody>\n",
              "</table>\n",
              "<p>70 rows × 1 columns</p>\n",
              "</div>"
            ],
            "text/plain": [
              "                price\n",
              "zipcode              \n",
              "98039    2.160607e+06\n",
              "98004    1.355927e+06\n",
              "98040    1.194230e+06\n",
              "98112    1.095499e+06\n",
              "98102    9.012583e+05\n",
              "98109    8.796236e+05\n",
              "98105    8.628252e+05\n",
              "98006    8.596848e+05\n",
              "98119    8.494480e+05\n",
              "98005    8.101649e+05\n",
              "98033    8.037195e+05\n",
              "98199    7.918208e+05\n",
              "98075    7.905767e+05\n",
              "98074    6.856058e+05\n",
              "98077    6.827749e+05\n",
              "98053    6.781631e+05\n",
              "98177    6.761854e+05\n",
              "98008    6.455074e+05\n",
              "98052    6.452315e+05\n",
              "98122    6.343602e+05\n",
              "98115    6.199005e+05\n",
              "98116    6.186342e+05\n",
              "98007    6.171051e+05\n",
              "98027    6.169906e+05\n",
              "98029    6.126536e+05\n",
              "98144    5.945477e+05\n",
              "98103    5.849192e+05\n",
              "98024    5.805268e+05\n",
              "98107    5.790534e+05\n",
              "98117    5.767950e+05\n",
              "...               ...\n",
              "98014    4.556171e+05\n",
              "98045    4.394711e+05\n",
              "98019    4.247887e+05\n",
              "98126    4.247064e+05\n",
              "98155    4.237257e+05\n",
              "98010    4.236660e+05\n",
              "98056    4.208905e+05\n",
              "98118    4.176374e+05\n",
              "98133    3.869974e+05\n",
              "98038    3.668676e+05\n",
              "98146    3.594832e+05\n",
              "98108    3.556785e+05\n",
              "98058    3.536086e+05\n",
              "98092    3.349211e+05\n",
              "98106    3.195814e+05\n",
              "98022    3.157093e+05\n",
              "98042    3.116321e+05\n",
              "98178    3.106128e+05\n",
              "98055    3.042621e+05\n",
              "98198    3.028789e+05\n",
              "98031    3.005399e+05\n",
              "98030    2.961880e+05\n",
              "98003    2.941113e+05\n",
              "98188    2.890783e+05\n",
              "98023    2.867328e+05\n",
              "98148    2.849086e+05\n",
              "98001    2.808047e+05\n",
              "98032    2.512962e+05\n",
              "98168    2.403284e+05\n",
              "98002    2.342840e+05\n",
              "\n",
              "[70 rows x 1 columns]"
            ]
          },
          "metadata": {
            "tags": []
          },
          "execution_count": 977
        }
      ]
    },
    {
      "metadata": {
        "id": "xtLPyfBEprlE",
        "colab_type": "code",
        "colab": {
          "base_uri": "https://localhost:8080/",
          "height": 34
        },
        "outputId": "c6d82ec0-c130-4c8a-b48e-ad17c9fafa45"
      },
      "cell_type": "code",
      "source": [
        "df[df.zipcode == 98039].shape\n",
        "df[((df.zipcode == 98117) | (df.zipcode == 98107) | (df.zipcode == 98024) | (df.zipcode == 98103))]"
      ],
      "execution_count": 978,
      "outputs": [
        {
          "output_type": "execute_result",
          "data": {
            "text/plain": [
              "(50, 70)"
            ]
          },
          "metadata": {
            "tags": []
          },
          "execution_count": 978
        }
      ]
    },
    {
      "metadata": {
        "id": "qOISBM9lp2LU",
        "colab_type": "code",
        "colab": {}
      },
      "cell_type": "code",
      "source": [
        "df['zip_98039'] = (df.zipcode == 98039)\n",
        "df['bad_zips'] = ((df.zipcode == 98117) | (df.zipcode == 98107) | (df.zipcode == 98024) | (df.zipcode == 98103))"
      ],
      "execution_count": 0,
      "outputs": []
    },
    {
      "metadata": {
        "id": "Cqjga-LHp_pC",
        "colab_type": "code",
        "colab": {
          "base_uri": "https://localhost:8080/",
          "height": 34
        },
        "outputId": "3274cf11-cdde-487f-e29c-276cabe68df5"
      },
      "cell_type": "code",
      "source": [
        "features = ['sqft_living_squared', 'grade_squared', 'waterfront', 'view_0', 'condition_1or2', 'renovated', 'year_sold', 'bathrooms', 'sqft_interaction',\n",
        "            'view_grade_interaction', 'bedrooms_one_or_two', 'yrs_since_built_squared', 'sqft_living15_squared', 'loc1', 'loc2', 'loc3', 'loc4', 'is_winter_months',\n",
        "            'first_post_winter_szn', 'zip_98039']\n",
        "    \n",
        "target = 'price'\n",
        "\n",
        "X = df[features]\n",
        "y = df[target]\n",
        "\n",
        "X_train, X_test, y_train, y_test = train_test_split(X, y,test_size=0.5)\n",
        "\n",
        "lr = LinearRegression()\n",
        "lr.fit(X_train, y_train)\n",
        "\n",
        "oos_pred = lr.predict(X_test)\n",
        "oos_mse = mean_squared_error(y_test, oos_pred)\n",
        "oos_r2 = r2_score(y_test, oos_pred)\n",
        "rmse = (np.sqrt(oos_mse))\n",
        "rmse, oos_r2, oos_mse"
      ],
      "execution_count": 984,
      "outputs": [
        {
          "output_type": "execute_result",
          "data": {
            "text/plain": [
              "(177263.5029211063, 0.7592601617087845, 31422349467.86106)"
            ]
          },
          "metadata": {
            "tags": []
          },
          "execution_count": 984
        }
      ]
    },
    {
      "metadata": {
        "id": "zbVCP-Lrqlcz",
        "colab_type": "code",
        "colab": {
          "base_uri": "https://localhost:8080/",
          "height": 34
        },
        "outputId": "cff5bfd2-30c7-4823-b37d-16509a6cfec7"
      },
      "cell_type": "code",
      "source": [
        "features = ['sqft_living_squared', 'grade_squared', 'waterfront', 'view_0', 'condition_1or2', 'renovated', 'year_sold', 'bathrooms', 'sqft_interaction',\n",
        "            'view_grade_interaction', 'bedrooms_one_or_two', 'yrs_since_built_squared', 'sqft_living15_squared', 'loc1', 'loc2', 'loc3', 'loc4', 'is_winter_months',\n",
        "            'first_post_winter_szn', 'zip_98039', 'bad_zips']\n",
        "    \n",
        "target = 'price'\n",
        "\n",
        "X = df[features]\n",
        "y = df[target]\n",
        "\n",
        "X_train, X_test, y_train, y_test = train_test_split(X, y,test_size=0.5)\n",
        "\n",
        "lr = LinearRegression()\n",
        "lr.fit(X_train, y_train)\n",
        "\n",
        "oos_pred = lr.predict(X_test)\n",
        "oos_mse = mean_squared_error(y_test, oos_pred)\n",
        "oos_r2 = r2_score(y_test, oos_pred)\n",
        "rmse = (np.sqrt(oos_mse))\n",
        "rmse, oos_r2, oos_mse"
      ],
      "execution_count": 997,
      "outputs": [
        {
          "output_type": "execute_result",
          "data": {
            "text/plain": [
              "(172122.43289766976, 0.7600256863278323, 29626131906.61283)"
            ]
          },
          "metadata": {
            "tags": []
          },
          "execution_count": 997
        }
      ]
    },
    {
      "metadata": {
        "id": "-R1jDeYWsGNW",
        "colab_type": "code",
        "colab": {
          "base_uri": "https://localhost:8080/",
          "height": 34
        },
        "outputId": "f0c3edf2-d890-4eca-c14b-fa5c07991f56"
      },
      "cell_type": "code",
      "source": [
        "features = ['sqft_living_squared', 'grade_squared', 'waterfront', 'condition_1or2', 'renovated', 'year_sold', 'bathrooms', 'sqft_interaction',\n",
        "            'view_grade_interaction', 'bedrooms_one_or_two', 'yrs_since_built_squared', 'sqft_living15_squared', 'loc1', 'loc2', 'loc3', 'loc4', 'is_winter_months',\n",
        "            'first_post_winter_szn', 'zip_98039', 'bad_zips', 'view_0']\n",
        "    \n",
        "target = 'price'\n",
        "\n",
        "X = df[features]\n",
        "y = df[target]\n",
        "\n",
        "X_train, X_test, y_train, y_test = train_test_split(X, y,test_size=0.5)\n",
        "\n",
        "lr = LinearRegression()\n",
        "lr.fit(X_train, y_train)\n",
        "\n",
        "oos_pred = lr.predict(X_test)\n",
        "oos_mse = mean_squared_error(y_test, oos_pred)\n",
        "oos_r2 = r2_score(y_test, oos_pred)\n",
        "rmse = (np.sqrt(oos_mse))\n",
        "rmse, oos_r2, oos_mse"
      ],
      "execution_count": 1036,
      "outputs": [
        {
          "output_type": "execute_result",
          "data": {
            "text/plain": [
              "(177714.27393297415, 0.7577191207778825, 31582363159.524174)"
            ]
          },
          "metadata": {
            "tags": []
          },
          "execution_count": 1036
        }
      ]
    },
    {
      "metadata": {
        "id": "ZyH8QhJ9sXBu",
        "colab_type": "code",
        "colab": {}
      },
      "cell_type": "code",
      "source": [
        ""
      ],
      "execution_count": 0,
      "outputs": []
    },
    {
      "metadata": {
        "id": "yqBOG_6Ts9gw",
        "colab_type": "code",
        "colab": {
          "base_uri": "https://localhost:8080/",
          "height": 34
        },
        "outputId": "c4f9b61d-4dd5-46cf-d328-55279f0dae1f"
      },
      "cell_type": "code",
      "source": [
        "features = ['sqft_living_squared', 'grade_squared', 'waterfront', 'condition_1or2', 'renovated', 'year_sold', 'bathrooms', 'sqft_interaction',\n",
        "            'view_grade_interaction', 'bedrooms_one_or_two', 'yrs_since_built_squared', 'sqft_living15_squared', 'loc1', 'loc2', 'loc3', 'loc4', 'is_winter_months',\n",
        "            'first_post_winter_szn', 'zip_98039', 'bad_zips', 'view_0','pca3_2_means_label']\n",
        "    \n",
        "target = 'price'\n",
        "\n",
        "X = df[features]\n",
        "y = df[target]\n",
        "\n",
        "X_train, X_test, y_train, y_test = train_test_split(X, y,test_size=0.5)\n",
        "\n",
        "lr = LinearRegression()\n",
        "lr.fit(X_train, y_train)\n",
        "\n",
        "oos_pred = lr.predict(X_test)\n",
        "oos_mse = mean_squared_error(y_test, oos_pred)\n",
        "oos_r2 = r2_score(y_test, oos_pred)\n",
        "rmse = (np.sqrt(oos_mse))\n",
        "rmse, oos_r2, oos_mse"
      ],
      "execution_count": 1066,
      "outputs": [
        {
          "output_type": "execute_result",
          "data": {
            "text/plain": [
              "(173896.77531926217, 0.7674443432043623, 30240088466.437946)"
            ]
          },
          "metadata": {
            "tags": []
          },
          "execution_count": 1066
        }
      ]
    },
    {
      "metadata": {
        "id": "1dRhrTxutQYE",
        "colab_type": "code",
        "colab": {
          "base_uri": "https://localhost:8080/",
          "height": 222
        },
        "outputId": "f2218071-d169-445d-84bf-ad0d430b23e5"
      },
      "cell_type": "code",
      "source": [
        "df.head()"
      ],
      "execution_count": 1067,
      "outputs": [
        {
          "output_type": "execute_result",
          "data": {
            "text/html": [
              "<div>\n",
              "<style scoped>\n",
              "    .dataframe tbody tr th:only-of-type {\n",
              "        vertical-align: middle;\n",
              "    }\n",
              "\n",
              "    .dataframe tbody tr th {\n",
              "        vertical-align: top;\n",
              "    }\n",
              "\n",
              "    .dataframe thead th {\n",
              "        text-align: right;\n",
              "    }\n",
              "</style>\n",
              "<table border=\"1\" class=\"dataframe\">\n",
              "  <thead>\n",
              "    <tr style=\"text-align: right;\">\n",
              "      <th></th>\n",
              "      <th>id</th>\n",
              "      <th>date</th>\n",
              "      <th>price</th>\n",
              "      <th>bedrooms</th>\n",
              "      <th>bathrooms</th>\n",
              "      <th>sqft_living</th>\n",
              "      <th>sqft_lot</th>\n",
              "      <th>floors</th>\n",
              "      <th>waterfront</th>\n",
              "      <th>view</th>\n",
              "      <th>condition</th>\n",
              "      <th>grade</th>\n",
              "      <th>sqft_above</th>\n",
              "      <th>sqft_basement</th>\n",
              "      <th>yr_built</th>\n",
              "      <th>yr_renovated</th>\n",
              "      <th>zipcode</th>\n",
              "      <th>lat</th>\n",
              "      <th>long</th>\n",
              "      <th>sqft_living15</th>\n",
              "      <th>sqft_lot15</th>\n",
              "      <th>yrs_since_built</th>\n",
              "      <th>log_price</th>\n",
              "      <th>sqft_living_squared</th>\n",
              "      <th>sqft_living_log</th>\n",
              "      <th>grade_squared</th>\n",
              "      <th>pca2_2_means_label</th>\n",
              "      <th>pca2_3_means_label</th>\n",
              "      <th>pca3_2_means_label</th>\n",
              "      <th>has_basement</th>\n",
              "      <th>view_4</th>\n",
              "      <th>view_0</th>\n",
              "      <th>view_2</th>\n",
              "      <th>condition_1or2</th>\n",
              "      <th>renovated</th>\n",
              "      <th>year_sold</th>\n",
              "      <th>bedrooms_missing</th>\n",
              "      <th>bedrooms_alot</th>\n",
              "      <th>bedrooms_1</th>\n",
              "      <th>bedrooms_2</th>\n",
              "      <th>bedrooms_3</th>\n",
              "      <th>bedrooms_4</th>\n",
              "      <th>bedrooms_5</th>\n",
              "      <th>bedrooms_6</th>\n",
              "      <th>bedrooms_7</th>\n",
              "      <th>bedrooms_8</th>\n",
              "      <th>bathrooms_squared</th>\n",
              "      <th>old_not_renovated</th>\n",
              "      <th>sqft_interaction</th>\n",
              "      <th>view_grade_interaction</th>\n",
              "      <th>bedrooms_per_sqfoot_median</th>\n",
              "      <th>bedrooms_zero</th>\n",
              "      <th>bedrooms_one</th>\n",
              "      <th>bedrooms_two</th>\n",
              "      <th>bedrooms_three_more</th>\n",
              "      <th>bedrooms_one_or_two</th>\n",
              "      <th>month</th>\n",
              "      <th>yrs_since_built_squared</th>\n",
              "      <th>sqft_living15_squared</th>\n",
              "      <th>sqftliving_sqftliving15_interaction</th>\n",
              "      <th>five_dif_locations</th>\n",
              "      <th>loc1</th>\n",
              "      <th>loc2</th>\n",
              "      <th>loc3</th>\n",
              "      <th>loc4</th>\n",
              "      <th>loc5</th>\n",
              "      <th>is_winter_months</th>\n",
              "      <th>floors_abv_ground</th>\n",
              "      <th>split_level_home</th>\n",
              "      <th>first_post_winter_szn</th>\n",
              "      <th>zip_98039</th>\n",
              "      <th>bad_zips</th>\n",
              "      <th>years_since_renovation</th>\n",
              "    </tr>\n",
              "  </thead>\n",
              "  <tbody>\n",
              "    <tr>\n",
              "      <th>0</th>\n",
              "      <td>7129300520</td>\n",
              "      <td>20141013T000000</td>\n",
              "      <td>221900.0</td>\n",
              "      <td>3</td>\n",
              "      <td>1.00</td>\n",
              "      <td>1180</td>\n",
              "      <td>5650</td>\n",
              "      <td>1.0</td>\n",
              "      <td>0</td>\n",
              "      <td>0</td>\n",
              "      <td>3</td>\n",
              "      <td>7</td>\n",
              "      <td>1180</td>\n",
              "      <td>0</td>\n",
              "      <td>1955</td>\n",
              "      <td>0</td>\n",
              "      <td>98178</td>\n",
              "      <td>47.5112</td>\n",
              "      <td>-122.257</td>\n",
              "      <td>1340</td>\n",
              "      <td>5650</td>\n",
              "      <td>59</td>\n",
              "      <td>12.309982</td>\n",
              "      <td>1392400</td>\n",
              "      <td>7.073270</td>\n",
              "      <td>49</td>\n",
              "      <td>0</td>\n",
              "      <td>1</td>\n",
              "      <td>0</td>\n",
              "      <td>False</td>\n",
              "      <td>False</td>\n",
              "      <td>True</td>\n",
              "      <td>False</td>\n",
              "      <td>False</td>\n",
              "      <td>False</td>\n",
              "      <td>2014</td>\n",
              "      <td>False</td>\n",
              "      <td>False</td>\n",
              "      <td>False</td>\n",
              "      <td>False</td>\n",
              "      <td>True</td>\n",
              "      <td>False</td>\n",
              "      <td>False</td>\n",
              "      <td>False</td>\n",
              "      <td>False</td>\n",
              "      <td>False</td>\n",
              "      <td>1.0000</td>\n",
              "      <td>0</td>\n",
              "      <td>7867060000</td>\n",
              "      <td>0</td>\n",
              "      <td>0.001734</td>\n",
              "      <td>False</td>\n",
              "      <td>False</td>\n",
              "      <td>False</td>\n",
              "      <td>True</td>\n",
              "      <td>False</td>\n",
              "      <td>10</td>\n",
              "      <td>3481</td>\n",
              "      <td>1795600</td>\n",
              "      <td>-403200</td>\n",
              "      <td>3</td>\n",
              "      <td>False</td>\n",
              "      <td>False</td>\n",
              "      <td>False</td>\n",
              "      <td>True</td>\n",
              "      <td>False</td>\n",
              "      <td>False</td>\n",
              "      <td>1.0</td>\n",
              "      <td>False</td>\n",
              "      <td>False</td>\n",
              "      <td>False</td>\n",
              "      <td>False</td>\n",
              "      <td>4056196</td>\n",
              "    </tr>\n",
              "    <tr>\n",
              "      <th>1</th>\n",
              "      <td>6414100192</td>\n",
              "      <td>20141209T000000</td>\n",
              "      <td>538000.0</td>\n",
              "      <td>3</td>\n",
              "      <td>2.25</td>\n",
              "      <td>2570</td>\n",
              "      <td>7242</td>\n",
              "      <td>2.0</td>\n",
              "      <td>0</td>\n",
              "      <td>0</td>\n",
              "      <td>3</td>\n",
              "      <td>7</td>\n",
              "      <td>2170</td>\n",
              "      <td>400</td>\n",
              "      <td>1951</td>\n",
              "      <td>1991</td>\n",
              "      <td>98125</td>\n",
              "      <td>47.7210</td>\n",
              "      <td>-122.319</td>\n",
              "      <td>1690</td>\n",
              "      <td>7639</td>\n",
              "      <td>63</td>\n",
              "      <td>13.195614</td>\n",
              "      <td>6604900</td>\n",
              "      <td>7.851661</td>\n",
              "      <td>49</td>\n",
              "      <td>0</td>\n",
              "      <td>1</td>\n",
              "      <td>0</td>\n",
              "      <td>True</td>\n",
              "      <td>False</td>\n",
              "      <td>True</td>\n",
              "      <td>False</td>\n",
              "      <td>False</td>\n",
              "      <td>True</td>\n",
              "      <td>2014</td>\n",
              "      <td>False</td>\n",
              "      <td>False</td>\n",
              "      <td>False</td>\n",
              "      <td>False</td>\n",
              "      <td>True</td>\n",
              "      <td>False</td>\n",
              "      <td>False</td>\n",
              "      <td>False</td>\n",
              "      <td>False</td>\n",
              "      <td>False</td>\n",
              "      <td>5.0625</td>\n",
              "      <td>63</td>\n",
              "      <td>47832685800</td>\n",
              "      <td>0</td>\n",
              "      <td>0.001734</td>\n",
              "      <td>False</td>\n",
              "      <td>False</td>\n",
              "      <td>False</td>\n",
              "      <td>True</td>\n",
              "      <td>False</td>\n",
              "      <td>12</td>\n",
              "      <td>3969</td>\n",
              "      <td>2856100</td>\n",
              "      <td>3748800</td>\n",
              "      <td>0</td>\n",
              "      <td>True</td>\n",
              "      <td>False</td>\n",
              "      <td>False</td>\n",
              "      <td>False</td>\n",
              "      <td>False</td>\n",
              "      <td>True</td>\n",
              "      <td>1.0</td>\n",
              "      <td>False</td>\n",
              "      <td>False</td>\n",
              "      <td>False</td>\n",
              "      <td>False</td>\n",
              "      <td>529</td>\n",
              "    </tr>\n",
              "    <tr>\n",
              "      <th>2</th>\n",
              "      <td>5631500400</td>\n",
              "      <td>20150225T000000</td>\n",
              "      <td>180000.0</td>\n",
              "      <td>2</td>\n",
              "      <td>1.00</td>\n",
              "      <td>770</td>\n",
              "      <td>10000</td>\n",
              "      <td>1.0</td>\n",
              "      <td>0</td>\n",
              "      <td>0</td>\n",
              "      <td>3</td>\n",
              "      <td>6</td>\n",
              "      <td>770</td>\n",
              "      <td>0</td>\n",
              "      <td>1933</td>\n",
              "      <td>0</td>\n",
              "      <td>98028</td>\n",
              "      <td>47.7379</td>\n",
              "      <td>-122.233</td>\n",
              "      <td>2720</td>\n",
              "      <td>8062</td>\n",
              "      <td>82</td>\n",
              "      <td>12.100712</td>\n",
              "      <td>592900</td>\n",
              "      <td>6.646391</td>\n",
              "      <td>36</td>\n",
              "      <td>0</td>\n",
              "      <td>1</td>\n",
              "      <td>0</td>\n",
              "      <td>False</td>\n",
              "      <td>False</td>\n",
              "      <td>True</td>\n",
              "      <td>False</td>\n",
              "      <td>False</td>\n",
              "      <td>False</td>\n",
              "      <td>2015</td>\n",
              "      <td>False</td>\n",
              "      <td>False</td>\n",
              "      <td>False</td>\n",
              "      <td>True</td>\n",
              "      <td>False</td>\n",
              "      <td>False</td>\n",
              "      <td>False</td>\n",
              "      <td>False</td>\n",
              "      <td>False</td>\n",
              "      <td>False</td>\n",
              "      <td>1.0000</td>\n",
              "      <td>0</td>\n",
              "      <td>5929000000</td>\n",
              "      <td>0</td>\n",
              "      <td>0.001734</td>\n",
              "      <td>False</td>\n",
              "      <td>False</td>\n",
              "      <td>True</td>\n",
              "      <td>False</td>\n",
              "      <td>True</td>\n",
              "      <td>2</td>\n",
              "      <td>6724</td>\n",
              "      <td>7398400</td>\n",
              "      <td>-6805500</td>\n",
              "      <td>0</td>\n",
              "      <td>True</td>\n",
              "      <td>False</td>\n",
              "      <td>False</td>\n",
              "      <td>False</td>\n",
              "      <td>False</td>\n",
              "      <td>True</td>\n",
              "      <td>1.0</td>\n",
              "      <td>False</td>\n",
              "      <td>False</td>\n",
              "      <td>False</td>\n",
              "      <td>False</td>\n",
              "      <td>4060225</td>\n",
              "    </tr>\n",
              "    <tr>\n",
              "      <th>3</th>\n",
              "      <td>2487200875</td>\n",
              "      <td>20141209T000000</td>\n",
              "      <td>604000.0</td>\n",
              "      <td>4</td>\n",
              "      <td>3.00</td>\n",
              "      <td>1960</td>\n",
              "      <td>5000</td>\n",
              "      <td>1.0</td>\n",
              "      <td>0</td>\n",
              "      <td>0</td>\n",
              "      <td>5</td>\n",
              "      <td>7</td>\n",
              "      <td>1050</td>\n",
              "      <td>910</td>\n",
              "      <td>1965</td>\n",
              "      <td>0</td>\n",
              "      <td>98136</td>\n",
              "      <td>47.5208</td>\n",
              "      <td>-122.393</td>\n",
              "      <td>1360</td>\n",
              "      <td>5000</td>\n",
              "      <td>49</td>\n",
              "      <td>13.311329</td>\n",
              "      <td>3841600</td>\n",
              "      <td>7.580700</td>\n",
              "      <td>49</td>\n",
              "      <td>0</td>\n",
              "      <td>1</td>\n",
              "      <td>0</td>\n",
              "      <td>True</td>\n",
              "      <td>False</td>\n",
              "      <td>True</td>\n",
              "      <td>False</td>\n",
              "      <td>False</td>\n",
              "      <td>False</td>\n",
              "      <td>2014</td>\n",
              "      <td>False</td>\n",
              "      <td>False</td>\n",
              "      <td>False</td>\n",
              "      <td>False</td>\n",
              "      <td>False</td>\n",
              "      <td>True</td>\n",
              "      <td>False</td>\n",
              "      <td>False</td>\n",
              "      <td>False</td>\n",
              "      <td>False</td>\n",
              "      <td>9.0000</td>\n",
              "      <td>0</td>\n",
              "      <td>19208000000</td>\n",
              "      <td>0</td>\n",
              "      <td>0.001734</td>\n",
              "      <td>False</td>\n",
              "      <td>False</td>\n",
              "      <td>False</td>\n",
              "      <td>True</td>\n",
              "      <td>False</td>\n",
              "      <td>12</td>\n",
              "      <td>2401</td>\n",
              "      <td>1849600</td>\n",
              "      <td>1992000</td>\n",
              "      <td>3</td>\n",
              "      <td>False</td>\n",
              "      <td>False</td>\n",
              "      <td>False</td>\n",
              "      <td>True</td>\n",
              "      <td>False</td>\n",
              "      <td>True</td>\n",
              "      <td>0.0</td>\n",
              "      <td>False</td>\n",
              "      <td>False</td>\n",
              "      <td>False</td>\n",
              "      <td>False</td>\n",
              "      <td>4056196</td>\n",
              "    </tr>\n",
              "    <tr>\n",
              "      <th>4</th>\n",
              "      <td>1954400510</td>\n",
              "      <td>20150218T000000</td>\n",
              "      <td>510000.0</td>\n",
              "      <td>3</td>\n",
              "      <td>2.00</td>\n",
              "      <td>1680</td>\n",
              "      <td>8080</td>\n",
              "      <td>1.0</td>\n",
              "      <td>0</td>\n",
              "      <td>0</td>\n",
              "      <td>3</td>\n",
              "      <td>8</td>\n",
              "      <td>1680</td>\n",
              "      <td>0</td>\n",
              "      <td>1987</td>\n",
              "      <td>0</td>\n",
              "      <td>98074</td>\n",
              "      <td>47.6168</td>\n",
              "      <td>-122.045</td>\n",
              "      <td>1800</td>\n",
              "      <td>7503</td>\n",
              "      <td>28</td>\n",
              "      <td>13.142166</td>\n",
              "      <td>2822400</td>\n",
              "      <td>7.426549</td>\n",
              "      <td>64</td>\n",
              "      <td>0</td>\n",
              "      <td>1</td>\n",
              "      <td>0</td>\n",
              "      <td>False</td>\n",
              "      <td>False</td>\n",
              "      <td>True</td>\n",
              "      <td>False</td>\n",
              "      <td>False</td>\n",
              "      <td>False</td>\n",
              "      <td>2015</td>\n",
              "      <td>False</td>\n",
              "      <td>False</td>\n",
              "      <td>False</td>\n",
              "      <td>False</td>\n",
              "      <td>True</td>\n",
              "      <td>False</td>\n",
              "      <td>False</td>\n",
              "      <td>False</td>\n",
              "      <td>False</td>\n",
              "      <td>False</td>\n",
              "      <td>4.0000</td>\n",
              "      <td>0</td>\n",
              "      <td>22804992000</td>\n",
              "      <td>0</td>\n",
              "      <td>0.001734</td>\n",
              "      <td>False</td>\n",
              "      <td>False</td>\n",
              "      <td>False</td>\n",
              "      <td>True</td>\n",
              "      <td>False</td>\n",
              "      <td>2</td>\n",
              "      <td>784</td>\n",
              "      <td>3240000</td>\n",
              "      <td>-417600</td>\n",
              "      <td>1</td>\n",
              "      <td>False</td>\n",
              "      <td>True</td>\n",
              "      <td>False</td>\n",
              "      <td>False</td>\n",
              "      <td>False</td>\n",
              "      <td>True</td>\n",
              "      <td>1.0</td>\n",
              "      <td>False</td>\n",
              "      <td>False</td>\n",
              "      <td>False</td>\n",
              "      <td>False</td>\n",
              "      <td>4060225</td>\n",
              "    </tr>\n",
              "  </tbody>\n",
              "</table>\n",
              "</div>"
            ],
            "text/plain": [
              "           id             date     price  bedrooms  bathrooms  sqft_living  \\\n",
              "0  7129300520  20141013T000000  221900.0         3       1.00         1180   \n",
              "1  6414100192  20141209T000000  538000.0         3       2.25         2570   \n",
              "2  5631500400  20150225T000000  180000.0         2       1.00          770   \n",
              "3  2487200875  20141209T000000  604000.0         4       3.00         1960   \n",
              "4  1954400510  20150218T000000  510000.0         3       2.00         1680   \n",
              "\n",
              "   sqft_lot  floors  waterfront  view  condition  grade  sqft_above  \\\n",
              "0      5650     1.0           0     0          3      7        1180   \n",
              "1      7242     2.0           0     0          3      7        2170   \n",
              "2     10000     1.0           0     0          3      6         770   \n",
              "3      5000     1.0           0     0          5      7        1050   \n",
              "4      8080     1.0           0     0          3      8        1680   \n",
              "\n",
              "   sqft_basement  yr_built  yr_renovated  zipcode      lat     long  \\\n",
              "0              0      1955             0    98178  47.5112 -122.257   \n",
              "1            400      1951          1991    98125  47.7210 -122.319   \n",
              "2              0      1933             0    98028  47.7379 -122.233   \n",
              "3            910      1965             0    98136  47.5208 -122.393   \n",
              "4              0      1987             0    98074  47.6168 -122.045   \n",
              "\n",
              "   sqft_living15  sqft_lot15  yrs_since_built  log_price  sqft_living_squared  \\\n",
              "0           1340        5650               59  12.309982              1392400   \n",
              "1           1690        7639               63  13.195614              6604900   \n",
              "2           2720        8062               82  12.100712               592900   \n",
              "3           1360        5000               49  13.311329              3841600   \n",
              "4           1800        7503               28  13.142166              2822400   \n",
              "\n",
              "   sqft_living_log  grade_squared  pca2_2_means_label  pca2_3_means_label  \\\n",
              "0         7.073270             49                   0                   1   \n",
              "1         7.851661             49                   0                   1   \n",
              "2         6.646391             36                   0                   1   \n",
              "3         7.580700             49                   0                   1   \n",
              "4         7.426549             64                   0                   1   \n",
              "\n",
              "   pca3_2_means_label  has_basement  view_4  view_0  view_2  condition_1or2  \\\n",
              "0                   0         False   False    True   False           False   \n",
              "1                   0          True   False    True   False           False   \n",
              "2                   0         False   False    True   False           False   \n",
              "3                   0          True   False    True   False           False   \n",
              "4                   0         False   False    True   False           False   \n",
              "\n",
              "   renovated  year_sold  bedrooms_missing  bedrooms_alot  bedrooms_1  \\\n",
              "0      False       2014             False          False       False   \n",
              "1       True       2014             False          False       False   \n",
              "2      False       2015             False          False       False   \n",
              "3      False       2014             False          False       False   \n",
              "4      False       2015             False          False       False   \n",
              "\n",
              "   bedrooms_2  bedrooms_3  bedrooms_4  bedrooms_5  bedrooms_6  bedrooms_7  \\\n",
              "0       False        True       False       False       False       False   \n",
              "1       False        True       False       False       False       False   \n",
              "2        True       False       False       False       False       False   \n",
              "3       False       False        True       False       False       False   \n",
              "4       False        True       False       False       False       False   \n",
              "\n",
              "   bedrooms_8  bathrooms_squared  old_not_renovated  sqft_interaction  \\\n",
              "0       False             1.0000                  0        7867060000   \n",
              "1       False             5.0625                 63       47832685800   \n",
              "2       False             1.0000                  0        5929000000   \n",
              "3       False             9.0000                  0       19208000000   \n",
              "4       False             4.0000                  0       22804992000   \n",
              "\n",
              "   view_grade_interaction  bedrooms_per_sqfoot_median  bedrooms_zero  \\\n",
              "0                       0                    0.001734          False   \n",
              "1                       0                    0.001734          False   \n",
              "2                       0                    0.001734          False   \n",
              "3                       0                    0.001734          False   \n",
              "4                       0                    0.001734          False   \n",
              "\n",
              "   bedrooms_one  bedrooms_two  bedrooms_three_more  bedrooms_one_or_two  \\\n",
              "0         False         False                 True                False   \n",
              "1         False         False                 True                False   \n",
              "2         False          True                False                 True   \n",
              "3         False         False                 True                False   \n",
              "4         False         False                 True                False   \n",
              "\n",
              "   month  yrs_since_built_squared  sqft_living15_squared  \\\n",
              "0     10                     3481                1795600   \n",
              "1     12                     3969                2856100   \n",
              "2      2                     6724                7398400   \n",
              "3     12                     2401                1849600   \n",
              "4      2                      784                3240000   \n",
              "\n",
              "   sqftliving_sqftliving15_interaction  five_dif_locations   loc1   loc2  \\\n",
              "0                              -403200                   3  False  False   \n",
              "1                              3748800                   0   True  False   \n",
              "2                             -6805500                   0   True  False   \n",
              "3                              1992000                   3  False  False   \n",
              "4                              -417600                   1  False   True   \n",
              "\n",
              "    loc3   loc4   loc5  is_winter_months  floors_abv_ground  split_level_home  \\\n",
              "0  False   True  False             False                1.0             False   \n",
              "1  False  False  False              True                1.0             False   \n",
              "2  False  False  False              True                1.0             False   \n",
              "3  False   True  False              True                0.0             False   \n",
              "4  False  False  False              True                1.0             False   \n",
              "\n",
              "   first_post_winter_szn  zip_98039  bad_zips  years_since_renovation  \n",
              "0                  False      False     False                 4056196  \n",
              "1                  False      False     False                     529  \n",
              "2                  False      False     False                 4060225  \n",
              "3                  False      False     False                 4056196  \n",
              "4                  False      False     False                 4060225  "
            ]
          },
          "metadata": {
            "tags": []
          },
          "execution_count": 1067
        }
      ]
    },
    {
      "metadata": {
        "id": "nqR_x6yVtfXr",
        "colab_type": "code",
        "colab": {}
      },
      "cell_type": "code",
      "source": [
        "df['condition_engineered'] = df.condition ** 2"
      ],
      "execution_count": 0,
      "outputs": []
    },
    {
      "metadata": {
        "id": "SFwiHGuAt-I4",
        "colab_type": "code",
        "colab": {}
      },
      "cell_type": "code",
      "source": [
        "df['condition_engineered'] = df.condition_engineered.replace({16: 9, 25:9})"
      ],
      "execution_count": 0,
      "outputs": []
    },
    {
      "metadata": {
        "id": "tGEMWILUtkzb",
        "colab_type": "code",
        "colab": {
          "base_uri": "https://localhost:8080/",
          "height": 34
        },
        "outputId": "78847270-c532-45f8-a0e4-40b78c29aebc"
      },
      "cell_type": "code",
      "source": [
        "features = ['sqft_living_squared', 'grade_squared', 'waterfront', 'renovated', 'year_sold', 'bathrooms', 'sqft_interaction',\n",
        "            'view_grade_interaction', 'bedrooms_one_or_two', 'yrs_since_built_squared', 'sqft_living15_squared', 'loc1', 'loc2', 'loc3', 'loc4', 'is_winter_months',\n",
        "            'first_post_winter_szn', 'zip_98039', 'bad_zips', 'view_0','pca3_2_means_label', 'condition_engineered']\n",
        "    \n",
        "target = 'price'\n",
        "\n",
        "X = df[features]\n",
        "y = df[target]\n",
        "\n",
        "X_train, X_test, y_train, y_test = train_test_split(X, y,test_size=0.5)\n",
        "\n",
        "lr = LinearRegression()\n",
        "lr.fit(X_train, y_train)\n",
        "\n",
        "oos_pred = lr.predict(X_test)\n",
        "oos_mse = mean_squared_error(y_test, oos_pred)\n",
        "oos_r2 = r2_score(y_test, oos_pred)\n",
        "rmse = (np.sqrt(oos_mse))\n",
        "rmse, oos_r2, oos_mse"
      ],
      "execution_count": 1099,
      "outputs": [
        {
          "output_type": "execute_result",
          "data": {
            "text/plain": [
              "(177374.4415957489, 0.7598163088191187, 31461692531.403744)"
            ]
          },
          "metadata": {
            "tags": []
          },
          "execution_count": 1099
        }
      ]
    },
    {
      "metadata": {
        "id": "NNBmHD4muq7l",
        "colab_type": "code",
        "colab": {}
      },
      "cell_type": "code",
      "source": [
        "df['condition_engineered_grade_interaction'] = df.grade_squared * df.condition_engineered"
      ],
      "execution_count": 0,
      "outputs": []
    },
    {
      "metadata": {
        "id": "_Vzz5rNmu02A",
        "colab_type": "code",
        "colab": {
          "base_uri": "https://localhost:8080/",
          "height": 34
        },
        "outputId": "a974ea2a-b320-4708-be9f-7d50dcfb52c4"
      },
      "cell_type": "code",
      "source": [
        "features = ['sqft_living_squared', 'grade_squared', 'waterfront', 'renovated', 'year_sold', 'bathrooms', 'sqft_interaction',\n",
        "            'view_grade_interaction', 'bedrooms_one_or_two', 'yrs_since_built_squared', 'sqft_living15_squared', 'loc1', 'loc2', 'loc3', 'loc4', 'is_winter_months',\n",
        "            'first_post_winter_szn', 'zip_98039', 'bad_zips', 'view_0','pca3_2_means_label', 'condition_engineered', 'condition_engineered_grade_interaction']\n",
        "    \n",
        "target = 'price'\n",
        "\n",
        "X = df[features]\n",
        "y = df[target]\n",
        "\n",
        "X_train, X_test, y_train, y_test = train_test_split(X, y,test_size=0.5)\n",
        "\n",
        "lr = LinearRegression()\n",
        "lr.fit(X_train, y_train)\n",
        "\n",
        "oos_pred = lr.predict(X_test)\n",
        "oos_mse = mean_squared_error(y_test, oos_pred)\n",
        "oos_r2 = r2_score(y_test, oos_pred)\n",
        "rmse = (np.sqrt(oos_mse))\n",
        "rmse, oos_r2, oos_mse"
      ],
      "execution_count": 1113,
      "outputs": [
        {
          "output_type": "execute_result",
          "data": {
            "text/plain": [
              "(170942.74224360473, 0.7655589899991332, 29221421125.763485)"
            ]
          },
          "metadata": {
            "tags": []
          },
          "execution_count": 1113
        }
      ]
    },
    {
      "metadata": {
        "id": "iKdWl_hTu4bG",
        "colab_type": "code",
        "colab": {}
      },
      "cell_type": "code",
      "source": [
        "# more testing \n",
        "\n",
        "eng_df = df.copy()\n",
        "\n",
        "eng_df = eng_df.drop(['date', 'id'],axis=1)"
      ],
      "execution_count": 0,
      "outputs": []
    },
    {
      "metadata": {
        "id": "imtNCqqKwub2",
        "colab_type": "code",
        "colab": {}
      },
      "cell_type": "code",
      "source": [
        "targets = eng_df.price\n",
        "inputs = eng_df.drop('price',axis=1)\n"
      ],
      "execution_count": 0,
      "outputs": []
    },
    {
      "metadata": {
        "id": "uUhT26fRxFSO",
        "colab_type": "code",
        "colab": {
          "base_uri": "https://localhost:8080/",
          "height": 34
        },
        "outputId": "0189e5bb-86ec-4e4a-f5c0-471774be7722"
      },
      "cell_type": "code",
      "source": [
        "from sklearn.ensemble import RandomForestRegressor\n",
        "\n",
        "X_train, X_test, y_train, y_test = train_test_split(inputs, targets, test_size=0.5)\n",
        "\n",
        "rfg = RandomForestRegressor(n_estimators=200)\n",
        "rfg.fit(X_train, y_train)\n",
        "\n",
        "oos_pred = rfg.predict(X_test)\n",
        "oos_mse = mean_squared_error(y_test, oos_pred)\n",
        "oos_r2 = r2_score(y_test, oos_pred)\n",
        "rmse = (np.sqrt(oos_mse))\n",
        "rmse, oos_r2, oos_mse"
      ],
      "execution_count": 1123,
      "outputs": [
        {
          "output_type": "execute_result",
          "data": {
            "text/plain": [
              "(41491.22602055998, 0.987262564060796, 1721521836.6891935)"
            ]
          },
          "metadata": {
            "tags": []
          },
          "execution_count": 1123
        }
      ]
    },
    {
      "metadata": {
        "id": "WtAPpVqAxphD",
        "colab_type": "code",
        "colab": {}
      },
      "cell_type": "code",
      "source": [
        ""
      ],
      "execution_count": 0,
      "outputs": []
    }
  ]
}