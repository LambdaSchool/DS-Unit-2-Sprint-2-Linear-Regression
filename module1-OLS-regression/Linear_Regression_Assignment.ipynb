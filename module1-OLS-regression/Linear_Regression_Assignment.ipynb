{
  "nbformat": 4,
  "nbformat_minor": 0,
  "metadata": {
    "colab": {
      "name": "Linear Regression Assignment.ipynb",
      "version": "0.3.2",
      "provenance": [],
      "collapsed_sections": []
    },
    "kernelspec": {
      "name": "python3",
      "display_name": "Python 3"
    }
  },
  "cells": [
    {
      "metadata": {
        "id": "g_AhWOYeMfrH",
        "colab_type": "text"
      },
      "cell_type": "markdown",
      "source": [
        "# King County Housing Data - Linear Regression Assignment\n",
        "\n",
        "Data for this assignment was obtained from Kaggle: <https://www.kaggle.com/harlfoxem/housesalesprediction>\n",
        "\n",
        "Complete the following challenges below to improve iteratively your home price estimation and practice implementing predictive linear regression models. "
      ]
    },
    {
      "metadata": {
        "id": "3kcL7V2SHAkp",
        "colab_type": "text"
      },
      "cell_type": "markdown",
      "source": [
        "# Bivariate Regression\n",
        "\n",
        "Pick the X variable that you think will be the most correlated with Y. \n",
        "\n",
        "Split your dataset into a 50-50 test-train-split (50% of data for training, and 50% for testing).\n",
        "\n",
        "Train a regression model using this single X and single Y variable. Once you have trained the model and obtained its coefficients, plot the points on a graph and fit your line of best fit to the graph.\n",
        "\n",
        "Report your Root Mean Squared Error and R-Squared for this model.\n",
        "\n"
      ]
    },
    {
      "metadata": {
        "id": "G5gPYOmHMPAW",
        "colab_type": "code",
        "outputId": "4eaac947-92e6-4b42-a33e-82bd8be12079",
        "colab": {
          "base_uri": "https://localhost:8080/",
          "height": 233
        }
      },
      "cell_type": "code",
      "source": [
        "import pandas as pd\n",
        "\n",
        "df = pd.read_csv('https://raw.githubusercontent.com/ryanleeallred/datasets/master/kc_house_data.csv')\n",
        "pd.set_option('display.max_columns', 100)\n",
        "print(df.shape)\n",
        "df.head()"
      ],
      "execution_count": 1,
      "outputs": [
        {
          "output_type": "stream",
          "text": [
            "(21613, 21)\n"
          ],
          "name": "stdout"
        },
        {
          "output_type": "execute_result",
          "data": {
            "text/html": [
              "<div>\n",
              "<style scoped>\n",
              "    .dataframe tbody tr th:only-of-type {\n",
              "        vertical-align: middle;\n",
              "    }\n",
              "\n",
              "    .dataframe tbody tr th {\n",
              "        vertical-align: top;\n",
              "    }\n",
              "\n",
              "    .dataframe thead th {\n",
              "        text-align: right;\n",
              "    }\n",
              "</style>\n",
              "<table border=\"1\" class=\"dataframe\">\n",
              "  <thead>\n",
              "    <tr style=\"text-align: right;\">\n",
              "      <th></th>\n",
              "      <th>id</th>\n",
              "      <th>date</th>\n",
              "      <th>price</th>\n",
              "      <th>bedrooms</th>\n",
              "      <th>bathrooms</th>\n",
              "      <th>sqft_living</th>\n",
              "      <th>sqft_lot</th>\n",
              "      <th>floors</th>\n",
              "      <th>waterfront</th>\n",
              "      <th>view</th>\n",
              "      <th>condition</th>\n",
              "      <th>grade</th>\n",
              "      <th>sqft_above</th>\n",
              "      <th>sqft_basement</th>\n",
              "      <th>yr_built</th>\n",
              "      <th>yr_renovated</th>\n",
              "      <th>zipcode</th>\n",
              "      <th>lat</th>\n",
              "      <th>long</th>\n",
              "      <th>sqft_living15</th>\n",
              "      <th>sqft_lot15</th>\n",
              "    </tr>\n",
              "  </thead>\n",
              "  <tbody>\n",
              "    <tr>\n",
              "      <th>0</th>\n",
              "      <td>7129300520</td>\n",
              "      <td>20141013T000000</td>\n",
              "      <td>221900.0</td>\n",
              "      <td>3</td>\n",
              "      <td>1.00</td>\n",
              "      <td>1180</td>\n",
              "      <td>5650</td>\n",
              "      <td>1.0</td>\n",
              "      <td>0</td>\n",
              "      <td>0</td>\n",
              "      <td>3</td>\n",
              "      <td>7</td>\n",
              "      <td>1180</td>\n",
              "      <td>0</td>\n",
              "      <td>1955</td>\n",
              "      <td>0</td>\n",
              "      <td>98178</td>\n",
              "      <td>47.5112</td>\n",
              "      <td>-122.257</td>\n",
              "      <td>1340</td>\n",
              "      <td>5650</td>\n",
              "    </tr>\n",
              "    <tr>\n",
              "      <th>1</th>\n",
              "      <td>6414100192</td>\n",
              "      <td>20141209T000000</td>\n",
              "      <td>538000.0</td>\n",
              "      <td>3</td>\n",
              "      <td>2.25</td>\n",
              "      <td>2570</td>\n",
              "      <td>7242</td>\n",
              "      <td>2.0</td>\n",
              "      <td>0</td>\n",
              "      <td>0</td>\n",
              "      <td>3</td>\n",
              "      <td>7</td>\n",
              "      <td>2170</td>\n",
              "      <td>400</td>\n",
              "      <td>1951</td>\n",
              "      <td>1991</td>\n",
              "      <td>98125</td>\n",
              "      <td>47.7210</td>\n",
              "      <td>-122.319</td>\n",
              "      <td>1690</td>\n",
              "      <td>7639</td>\n",
              "    </tr>\n",
              "    <tr>\n",
              "      <th>2</th>\n",
              "      <td>5631500400</td>\n",
              "      <td>20150225T000000</td>\n",
              "      <td>180000.0</td>\n",
              "      <td>2</td>\n",
              "      <td>1.00</td>\n",
              "      <td>770</td>\n",
              "      <td>10000</td>\n",
              "      <td>1.0</td>\n",
              "      <td>0</td>\n",
              "      <td>0</td>\n",
              "      <td>3</td>\n",
              "      <td>6</td>\n",
              "      <td>770</td>\n",
              "      <td>0</td>\n",
              "      <td>1933</td>\n",
              "      <td>0</td>\n",
              "      <td>98028</td>\n",
              "      <td>47.7379</td>\n",
              "      <td>-122.233</td>\n",
              "      <td>2720</td>\n",
              "      <td>8062</td>\n",
              "    </tr>\n",
              "    <tr>\n",
              "      <th>3</th>\n",
              "      <td>2487200875</td>\n",
              "      <td>20141209T000000</td>\n",
              "      <td>604000.0</td>\n",
              "      <td>4</td>\n",
              "      <td>3.00</td>\n",
              "      <td>1960</td>\n",
              "      <td>5000</td>\n",
              "      <td>1.0</td>\n",
              "      <td>0</td>\n",
              "      <td>0</td>\n",
              "      <td>5</td>\n",
              "      <td>7</td>\n",
              "      <td>1050</td>\n",
              "      <td>910</td>\n",
              "      <td>1965</td>\n",
              "      <td>0</td>\n",
              "      <td>98136</td>\n",
              "      <td>47.5208</td>\n",
              "      <td>-122.393</td>\n",
              "      <td>1360</td>\n",
              "      <td>5000</td>\n",
              "    </tr>\n",
              "    <tr>\n",
              "      <th>4</th>\n",
              "      <td>1954400510</td>\n",
              "      <td>20150218T000000</td>\n",
              "      <td>510000.0</td>\n",
              "      <td>3</td>\n",
              "      <td>2.00</td>\n",
              "      <td>1680</td>\n",
              "      <td>8080</td>\n",
              "      <td>1.0</td>\n",
              "      <td>0</td>\n",
              "      <td>0</td>\n",
              "      <td>3</td>\n",
              "      <td>8</td>\n",
              "      <td>1680</td>\n",
              "      <td>0</td>\n",
              "      <td>1987</td>\n",
              "      <td>0</td>\n",
              "      <td>98074</td>\n",
              "      <td>47.6168</td>\n",
              "      <td>-122.045</td>\n",
              "      <td>1800</td>\n",
              "      <td>7503</td>\n",
              "    </tr>\n",
              "  </tbody>\n",
              "</table>\n",
              "</div>"
            ],
            "text/plain": [
              "           id             date     price  bedrooms  bathrooms  sqft_living  \\\n",
              "0  7129300520  20141013T000000  221900.0         3       1.00         1180   \n",
              "1  6414100192  20141209T000000  538000.0         3       2.25         2570   \n",
              "2  5631500400  20150225T000000  180000.0         2       1.00          770   \n",
              "3  2487200875  20141209T000000  604000.0         4       3.00         1960   \n",
              "4  1954400510  20150218T000000  510000.0         3       2.00         1680   \n",
              "\n",
              "   sqft_lot  floors  waterfront  view  condition  grade  sqft_above  \\\n",
              "0      5650     1.0           0     0          3      7        1180   \n",
              "1      7242     2.0           0     0          3      7        2170   \n",
              "2     10000     1.0           0     0          3      6         770   \n",
              "3      5000     1.0           0     0          5      7        1050   \n",
              "4      8080     1.0           0     0          3      8        1680   \n",
              "\n",
              "   sqft_basement  yr_built  yr_renovated  zipcode      lat     long  \\\n",
              "0              0      1955             0    98178  47.5112 -122.257   \n",
              "1            400      1951          1991    98125  47.7210 -122.319   \n",
              "2              0      1933             0    98028  47.7379 -122.233   \n",
              "3            910      1965             0    98136  47.5208 -122.393   \n",
              "4              0      1987             0    98074  47.6168 -122.045   \n",
              "\n",
              "   sqft_living15  sqft_lot15  \n",
              "0           1340        5650  \n",
              "1           1690        7639  \n",
              "2           2720        8062  \n",
              "3           1360        5000  \n",
              "4           1800        7503  "
            ]
          },
          "metadata": {
            "tags": []
          },
          "execution_count": 1
        }
      ]
    },
    {
      "metadata": {
        "id": "Ceoln3RCHPQy",
        "colab_type": "code",
        "colab": {}
      },
      "cell_type": "code",
      "source": [
        "from scipy import stats\n",
        "import numpy as np\n",
        "import pandas as pd\n",
        "import matplotlib.pyplot as plt\n",
        "%matplotlib inline\n",
        "from sklearn.linear_model import LinearRegression\n",
        "from sklearn.model_selection import train_test_split\n",
        "import math\n",
        "import seaborn as sns\n",
        "from sklearn.metrics import mean_squared_error, r2_score\n",
        "from mpl_toolkits.mplot3d import Axes3D\n"
      ],
      "execution_count": 0,
      "outputs": []
    },
    {
      "metadata": {
        "id": "1gEl3jAyI_-r",
        "colab_type": "code",
        "colab": {}
      },
      "cell_type": "code",
      "source": [
        "X = df['sqft_lot'].values[:, np.newaxis]\n",
        "y = df['price'].values\n",
        "X_train, X_test, Y_train, Y_test = train_test_split(X, y, test_size=.2)"
      ],
      "execution_count": 0,
      "outputs": []
    },
    {
      "metadata": {
        "id": "fQ2H7bg5IvFX",
        "colab_type": "code",
        "colab": {}
      },
      "cell_type": "code",
      "source": [
        "model = LinearRegression()\n",
        "model.fit(X_train, Y_train)\n",
        "\n",
        "y_test_predict = model.predict(X_test)\n",
        "MSE = mean_squared_error(Y_test, y_test_predict)\n",
        "RMSE = (np.sqrt(mean_squared_error(Y_test, y_test_predict)))\n",
        "R2 = r2_score(Y_test, y_test_predict)\n",
        "m_hat = model.coef_[0]\n",
        "b_hat = model.intercept_"
      ],
      "execution_count": 0,
      "outputs": []
    },
    {
      "metadata": {
        "id": "NWuyZt6sI0zp",
        "colab_type": "code",
        "colab": {
          "base_uri": "https://localhost:8080/",
          "height": 210
        },
        "outputId": "999aec1e-b430-48bb-ff1e-7bae24a648eb"
      },
      "cell_type": "code",
      "source": [
        "print(\"X_train:\", X_train.shape)\n",
        "print(\"X_test:\", X_test.shape) \n",
        "print(\"Y_train:\", Y_train.shape)\n",
        "print(\"Y_test:\", Y_test.shape) \n",
        "print(\"y_test_predicton:\", y_test_predict)\n",
        "print(\"Slope:\", m_hat)\n",
        "print(\"Intercept:\", b_hat)\n",
        "print('MSE:',MSE)\n",
        "print('RMSE:',RMSE)\n",
        "print('R^2:',R2)"
      ],
      "execution_count": 5,
      "outputs": [
        {
          "output_type": "stream",
          "text": [
            "X_train: (17290, 1)\n",
            "X_test: (4323, 1)\n",
            "Y_train: (17290,)\n",
            "Y_test: (4323,)\n",
            "y_test_predicton: [535482.19838401 535663.99126188 541220.22866882 ... 533228.27482202\n",
            " 546670.16346073 538803.76994906]\n",
            "Slope: 0.7703088045108236\n",
            "Intercept: 529723.3697614912\n",
            "MSE: 132030996771.23578\n",
            "RMSE: 363360.69789017603\n",
            "R^2: 0.01115570971436708\n"
          ],
          "name": "stdout"
        }
      ]
    },
    {
      "metadata": {
        "id": "6srbR2_oJCgX",
        "colab_type": "code",
        "colab": {
          "base_uri": "https://localhost:8080/",
          "height": 294
        },
        "outputId": "22ad303f-19dd-4fa9-a5c9-efd3f5341556"
      },
      "cell_type": "code",
      "source": [
        "plt.scatter(df['sqft_lot'], df['price'])\n",
        "y_hat = [m_hat*x + b_hat for x in X]\n",
        "plt.plot(X, y_hat)\n",
        "plt.ylabel(\"Price\")\n",
        "plt.xlabel(\"sqft lot\")\n",
        "plt.title(\"Sqft Lot and Price\")\n",
        "plt.show()\n"
      ],
      "execution_count": 6,
      "outputs": [
        {
          "output_type": "display_data",
          "data": {
            "image/png": "[encoded data removed]",
            "text/plain": [
              "<Figure size 432x288 with 1 Axes>"
            ]
          },
          "metadata": {
            "tags": []
          }
        }
      ]
    },
    {
      "metadata": {
        "id": "DhBV6VTZGnQ6",
        "colab_type": "code",
        "colab": {}
      },
      "cell_type": "code",
      "source": [
        "##### Your Code Here #####"
      ],
      "execution_count": 0,
      "outputs": []
    },
    {
      "metadata": {
        "id": "7Y7hg7wYHGZ4",
        "colab_type": "text"
      },
      "cell_type": "markdown",
      "source": [
        "# Two-variable Multiple Regression\n",
        "\n",
        "To ramp up slowly, pick a second X variable that you think will be the most correlated with Y. \n",
        "\n",
        "Split your dataset into a 50-50 test-train-split (50% of data for training, and 50% for testing).\n",
        "\n",
        "Train a regression model using these two X variables. Once you have trained the model and obtained its coefficients, plot the points on a graph and fit your **plane** of best fit to the graph.\n",
        "\n",
        "Report your Root Mean Squared Error and R-squared for this model."
      ]
    },
    {
      "metadata": {
        "id": "ZjdPaS_N-3kS",
        "colab_type": "code",
        "colab": {
          "base_uri": "https://localhost:8080/",
          "height": 105
        },
        "outputId": "154f21f1-0e33-472f-e8cf-3d0c35005514"
      },
      "cell_type": "code",
      "source": [
        "X = df[['sqft_living','sqft_lot']]\n",
        "y = df.loc[:, ['price']].values\n",
        "X_train, X_test, Y_train, Y_test = train_test_split(X, y, test_size=.2)\n",
        "model = LinearRegression()\n",
        "model.fit(X_train, Y_train)\n",
        "\n",
        "y_test_predict = model.predict(X_test)\n",
        "MSE = mean_squared_error(Y_test, y_test_predict)\n",
        "RMSE = (np.sqrt(mean_squared_error(Y_test, y_test_predict)))\n",
        "R2 = r2_score(Y_test, y_test_predict)\n",
        "m_hat = model.coef_[0]\n",
        "b_hat = model.intercept_\n",
        "\n",
        "\n",
        "print(\"Slope:\", m_hat)\n",
        "print(\"Intercept:\", b_hat)\n",
        "print('Mean_Squared_Error:',MSE)\n",
        "print('RMSE:',RMSE)\n",
        "print('Root^2:',R2)"
      ],
      "execution_count": 8,
      "outputs": [
        {
          "output_type": "stream",
          "text": [
            "Slope: [ 2.83525566e+02 -2.82251694e-01]\n",
            "Intercept: [-45557.57383448]\n",
            "Mean_Squared_Error: 66543019048.62379\n",
            "RMSE: 257959.33603694942\n",
            "Root^2: 0.49057085768001907\n"
          ],
          "name": "stdout"
        }
      ]
    },
    {
      "metadata": {
        "id": "OeS2n2II_NiO",
        "colab_type": "code",
        "colab": {
          "base_uri": "https://localhost:8080/",
          "height": 248
        },
        "outputId": "ffb6416a-f04b-4af9-97e3-b52d8f72cc8f"
      },
      "cell_type": "code",
      "source": [
        "fig = plt.figure()\n",
        "ax = fig.add_subplot(111, projection='3d')\n",
        "ax.scatter(df['sqft_living'], df['sqft_lot'], df['price'],c='green')\n",
        "\n",
        "x1 = np.array(ax.get_xlim())\n",
        "y1 = np.array(ax.get_ylim())\n",
        "xx, yy = np.meshgrid(x1,y1)\n",
        "beta_i=m_hat\n",
        "beta_0=b_hat\n",
        "zz = beta_i[0]*xx + beta_i[1]*yy + beta_0[0]\n",
        "\n",
        "plt3d = plt.gca(projection='3d')\n",
        "\n",
        "plt3d.plot_surface(xx, yy, zz,alpha=0.5)\n",
        "\n",
        "plt.show()"
      ],
      "execution_count": 9,
      "outputs": [
        {
          "output_type": "display_data",
          "data": {
            "image/png": "[encoded data removed]",
            "text/plain": [
              "<Figure size 432x288 with 1 Axes>"
            ]
          },
          "metadata": {
            "tags": []
          }
        }
      ]
    },
    {
      "metadata": {
        "id": "0LRAjm6sHOy-",
        "colab_type": "text"
      },
      "cell_type": "markdown",
      "source": [
        "# Multiple Regression\n",
        "\n",
        "Now using all available X variables, split your data into test and training datasets, train your model, obtain its coefficients, and report the Root Mean Squared Error and R-squared values."
      ]
    },
    {
      "metadata": {
        "id": "jUdKuCEfJwtG",
        "colab_type": "code",
        "colab": {
          "base_uri": "https://localhost:8080/",
          "height": 175
        },
        "outputId": "586fdcaf-3fd2-4884-f15b-b8cdc61305b2"
      },
      "cell_type": "code",
      "source": [
        "X = df.drop(['price','date'], axis=1)\n",
        "y = df.loc[:, ['price']].values\n",
        "X_train, X_test, Y_train, Y_test = train_test_split(X, y, test_size=.2)\n",
        "model = LinearRegression()\n",
        "model.fit(X_train, Y_train)\n",
        "\n",
        "y_test_predict = model.predict(X_test)\n",
        "MSE = mean_squared_error(Y_test, y_test_predict)\n",
        "RMSE = (np.sqrt(mean_squared_error(Y_test, y_test_predict)))\n",
        "R2 = r2_score(Y_test, y_test_predict)\n",
        "m_hat = model.coef_[0]\n",
        "b_hat = model.intercept_\n",
        "\n",
        "\n",
        "print(\"Slope:\", m_hat)\n",
        "print(\"Intercept:\", b_hat)\n",
        "print('MeanSquaredError:',MSE)\n",
        "print('Root_Mean_Squared_Error:',RMSE)\n",
        "print('R^2:',R2)"
      ],
      "execution_count": 10,
      "outputs": [
        {
          "output_type": "stream",
          "text": [
            "Slope: [-1.29521803e-06 -3.44072835e+04  3.96905966e+04  1.11907348e+02\n",
            "  1.30766504e-01  1.01751037e+04  5.64626789e+05  5.54166913e+04\n",
            "  2.55984846e+04  9.54777237e+04  7.10877606e+01  4.08195874e+01\n",
            " -2.68104915e+03  1.40115004e+01 -5.64797943e+02  5.97704718e+05\n",
            " -2.06164487e+05  2.09525140e+01 -4.09323416e-01]\n",
            "Intercept: [6371680.15065889]\n",
            "MeanSquaredError: 41029090379.499725\n",
            "Root_Mean_Squared_Error: 202556.38814784322\n",
            "R^2: 0.6888977903629089\n"
          ],
          "name": "stdout"
        }
      ]
    },
    {
      "metadata": {
        "id": "95Ln3VLJJEH_",
        "colab_type": "text"
      },
      "cell_type": "markdown",
      "source": [
        "# Stretch Goals\n",
        "\n",
        "Pick from these stretch goals the tasks that you feel like will be the most beneficial for you. \n",
        "\n",
        "- Explore the concept of $R^2$, learn how it is calculated and how it relates to covariance, correlation, and variance. \n",
        "- Start to research Polynomial Regression and Log-Linear Regression (tomorrow's topics). Find a new regression dataset and try to implement one of these models. \n",
        "- Research \"Feature Engineering\" see what features you can engineer on the above dataset. How much are you able to improve your accuracy with feature engineering?\n",
        "- Further explore the concept of \"Model Validation\" - we'll spend a whole week on this soon. What other measures of model accuracy could we have used besides Root Mean Squared Error?\n",
        "- Write a blog post explaining the basics of Linear Regression.\n",
        "\n",
        "Remember to share your findings in the slack channel. :)\n"
      ]
    }
  ]
}