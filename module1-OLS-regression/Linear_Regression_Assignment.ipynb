{
 "cells": [
  {
   "cell_type": "markdown",
   "metadata": {
    "colab_type": "text",
    "id": "g_AhWOYeMfrH"
   },
   "source": [
    "# King County Housing Data - Linear Regression Assignment\n",
    "\n",
    "Data for this assignment was obtained from Kaggle: <https://www.kaggle.com/harlfoxem/housesalesprediction>\n",
    "\n",
    "Complete the following challenges below to improve iteratively your home price estimation and practice implementing predictive linear regression models. "
   ]
  },
  {
   "cell_type": "code",
   "execution_count": 126,
   "metadata": {
    "colab": {},
    "colab_type": "code",
    "id": "DhBV6VTZGnQ6"
   },
   "outputs": [],
   "source": [
    "import pandas as pd\n",
    "import numpy as np\n",
    "import seaborn as sns\n",
    "import matplotlib.pyplot as plt\n",
    "from sklearn.model_selection import train_test_split\n",
    "from sklearn.linear_model import LinearRegression\n",
    "from mpl_toolkits.mplot3d import Axes3D\n",
    "from sklearn.metrics import mean_squared_error \n",
    "from sklearn.metrics import r2_score"
   ]
  },
  {
   "cell_type": "markdown",
   "metadata": {
    "colab_type": "text",
    "id": "3kcL7V2SHAkp"
   },
   "source": [
    "# Bivariate Regression\n",
    "\n",
    "Pick the X variable that you think will be the most correlated with Y. \n",
    "\n",
    "Split your dataset into a 50-50 test-train-split (50% of data for training, and 50% for testing).\n",
    "\n",
    "Train a regression model using this single X and single Y variable. Once you have trained the model and obtained its coefficients, plot the points on a graph and fit your line of best fit to the graph.\n",
    "\n",
    "Report your Root Mean Squared Error and R-Squared for this model.\n",
    "\n"
   ]
  },
  {
   "cell_type": "code",
   "execution_count": 127,
   "metadata": {
    "colab": {
     "base_uri": "https://localhost:8080/",
     "height": 239
    },
    "colab_type": "code",
    "id": "G5gPYOmHMPAW",
    "outputId": "9376e44f-f5a8-4627-bb33-d7a900a018a8"
   },
   "outputs": [
    {
     "name": "stdout",
     "output_type": "stream",
     "text": [
      "(21613, 21)\n"
     ]
    },
    {
     "data": {
      "text/html": [
       "<div>\n",
       "<style scoped>\n",
       "    .dataframe tbody tr th:only-of-type {\n",
       "        vertical-align: middle;\n",
       "    }\n",
       "\n",
       "    .dataframe tbody tr th {\n",
       "        vertical-align: top;\n",
       "    }\n",
       "\n",
       "    .dataframe thead th {\n",
       "        text-align: right;\n",
       "    }\n",
       "</style>\n",
       "<table border=\"1\" class=\"dataframe\">\n",
       "  <thead>\n",
       "    <tr style=\"text-align: right;\">\n",
       "      <th></th>\n",
       "      <th>id</th>\n",
       "      <th>date</th>\n",
       "      <th>price</th>\n",
       "      <th>bedrooms</th>\n",
       "      <th>bathrooms</th>\n",
       "      <th>sqft_living</th>\n",
       "      <th>sqft_lot</th>\n",
       "      <th>floors</th>\n",
       "      <th>waterfront</th>\n",
       "      <th>view</th>\n",
       "      <th>condition</th>\n",
       "      <th>grade</th>\n",
       "      <th>sqft_above</th>\n",
       "      <th>sqft_basement</th>\n",
       "      <th>yr_built</th>\n",
       "      <th>yr_renovated</th>\n",
       "      <th>zipcode</th>\n",
       "      <th>lat</th>\n",
       "      <th>long</th>\n",
       "      <th>sqft_living15</th>\n",
       "      <th>sqft_lot15</th>\n",
       "    </tr>\n",
       "  </thead>\n",
       "  <tbody>\n",
       "    <tr>\n",
       "      <th>0</th>\n",
       "      <td>7129300520</td>\n",
       "      <td>20141013T000000</td>\n",
       "      <td>221900.0</td>\n",
       "      <td>3</td>\n",
       "      <td>1.00</td>\n",
       "      <td>1180</td>\n",
       "      <td>5650</td>\n",
       "      <td>1.0</td>\n",
       "      <td>0</td>\n",
       "      <td>0</td>\n",
       "      <td>3</td>\n",
       "      <td>7</td>\n",
       "      <td>1180</td>\n",
       "      <td>0</td>\n",
       "      <td>1955</td>\n",
       "      <td>0</td>\n",
       "      <td>98178</td>\n",
       "      <td>47.5112</td>\n",
       "      <td>-122.257</td>\n",
       "      <td>1340</td>\n",
       "      <td>5650</td>\n",
       "    </tr>\n",
       "    <tr>\n",
       "      <th>1</th>\n",
       "      <td>6414100192</td>\n",
       "      <td>20141209T000000</td>\n",
       "      <td>538000.0</td>\n",
       "      <td>3</td>\n",
       "      <td>2.25</td>\n",
       "      <td>2570</td>\n",
       "      <td>7242</td>\n",
       "      <td>2.0</td>\n",
       "      <td>0</td>\n",
       "      <td>0</td>\n",
       "      <td>3</td>\n",
       "      <td>7</td>\n",
       "      <td>2170</td>\n",
       "      <td>400</td>\n",
       "      <td>1951</td>\n",
       "      <td>1991</td>\n",
       "      <td>98125</td>\n",
       "      <td>47.7210</td>\n",
       "      <td>-122.319</td>\n",
       "      <td>1690</td>\n",
       "      <td>7639</td>\n",
       "    </tr>\n",
       "    <tr>\n",
       "      <th>2</th>\n",
       "      <td>5631500400</td>\n",
       "      <td>20150225T000000</td>\n",
       "      <td>180000.0</td>\n",
       "      <td>2</td>\n",
       "      <td>1.00</td>\n",
       "      <td>770</td>\n",
       "      <td>10000</td>\n",
       "      <td>1.0</td>\n",
       "      <td>0</td>\n",
       "      <td>0</td>\n",
       "      <td>3</td>\n",
       "      <td>6</td>\n",
       "      <td>770</td>\n",
       "      <td>0</td>\n",
       "      <td>1933</td>\n",
       "      <td>0</td>\n",
       "      <td>98028</td>\n",
       "      <td>47.7379</td>\n",
       "      <td>-122.233</td>\n",
       "      <td>2720</td>\n",
       "      <td>8062</td>\n",
       "    </tr>\n",
       "    <tr>\n",
       "      <th>3</th>\n",
       "      <td>2487200875</td>\n",
       "      <td>20141209T000000</td>\n",
       "      <td>604000.0</td>\n",
       "      <td>4</td>\n",
       "      <td>3.00</td>\n",
       "      <td>1960</td>\n",
       "      <td>5000</td>\n",
       "      <td>1.0</td>\n",
       "      <td>0</td>\n",
       "      <td>0</td>\n",
       "      <td>5</td>\n",
       "      <td>7</td>\n",
       "      <td>1050</td>\n",
       "      <td>910</td>\n",
       "      <td>1965</td>\n",
       "      <td>0</td>\n",
       "      <td>98136</td>\n",
       "      <td>47.5208</td>\n",
       "      <td>-122.393</td>\n",
       "      <td>1360</td>\n",
       "      <td>5000</td>\n",
       "    </tr>\n",
       "    <tr>\n",
       "      <th>4</th>\n",
       "      <td>1954400510</td>\n",
       "      <td>20150218T000000</td>\n",
       "      <td>510000.0</td>\n",
       "      <td>3</td>\n",
       "      <td>2.00</td>\n",
       "      <td>1680</td>\n",
       "      <td>8080</td>\n",
       "      <td>1.0</td>\n",
       "      <td>0</td>\n",
       "      <td>0</td>\n",
       "      <td>3</td>\n",
       "      <td>8</td>\n",
       "      <td>1680</td>\n",
       "      <td>0</td>\n",
       "      <td>1987</td>\n",
       "      <td>0</td>\n",
       "      <td>98074</td>\n",
       "      <td>47.6168</td>\n",
       "      <td>-122.045</td>\n",
       "      <td>1800</td>\n",
       "      <td>7503</td>\n",
       "    </tr>\n",
       "  </tbody>\n",
       "</table>\n",
       "</div>"
      ],
      "text/plain": [
       "           id             date     price  bedrooms  bathrooms  sqft_living  \\\n",
       "0  7129300520  20141013T000000  221900.0         3       1.00         1180   \n",
       "1  6414100192  20141209T000000  538000.0         3       2.25         2570   \n",
       "2  5631500400  20150225T000000  180000.0         2       1.00          770   \n",
       "3  2487200875  20141209T000000  604000.0         4       3.00         1960   \n",
       "4  1954400510  20150218T000000  510000.0         3       2.00         1680   \n",
       "\n",
       "   sqft_lot  floors  waterfront  view  condition  grade  sqft_above  \\\n",
       "0      5650     1.0           0     0          3      7        1180   \n",
       "1      7242     2.0           0     0          3      7        2170   \n",
       "2     10000     1.0           0     0          3      6         770   \n",
       "3      5000     1.0           0     0          5      7        1050   \n",
       "4      8080     1.0           0     0          3      8        1680   \n",
       "\n",
       "   sqft_basement  yr_built  yr_renovated  zipcode      lat     long  \\\n",
       "0              0      1955             0    98178  47.5112 -122.257   \n",
       "1            400      1951          1991    98125  47.7210 -122.319   \n",
       "2              0      1933             0    98028  47.7379 -122.233   \n",
       "3            910      1965             0    98136  47.5208 -122.393   \n",
       "4              0      1987             0    98074  47.6168 -122.045   \n",
       "\n",
       "   sqft_living15  sqft_lot15  \n",
       "0           1340        5650  \n",
       "1           1690        7639  \n",
       "2           2720        8062  \n",
       "3           1360        5000  \n",
       "4           1800        7503  "
      ]
     },
     "execution_count": 127,
     "metadata": {},
     "output_type": "execute_result"
    }
   ],
   "source": [
    "import pandas as pd\n",
    "\n",
    "df = pd.read_csv('https://raw.githubusercontent.com/ryanleeallred/datasets/master/kc_house_data.csv')\n",
    "pd.set_option('display.max_columns', 100)\n",
    "print(df.shape)\n",
    "df.head()"
   ]
  },
  {
   "cell_type": "code",
   "execution_count": 131,
   "metadata": {},
   "outputs": [
    {
     "name": "stdout",
     "output_type": "stream",
     "text": [
      "(21613,) \n",
      "\n",
      "(10806,)\n",
      "(10807,)\n",
      "(10806,)\n",
      "(10807,)\n"
     ]
    },
    {
     "data": {
      "text/plain": [
       "493      2.50\n",
       "4253     3.25\n",
       "18621    3.50\n",
       "1463     1.00\n",
       "12026    1.75\n",
       "Name: bathrooms, dtype: float64"
      ]
     },
     "execution_count": 131,
     "metadata": {},
     "output_type": "execute_result"
    }
   ],
   "source": [
    "from sklearn.model_selection import train_test_split\n",
    "\n",
    "Y = df['price']\n",
    "X = df['bathrooms']\n",
    "\n",
    "X_train, X_test, Y_train, Y_test = train_test_split(X, Y, test_size = 0.5, random_state = 42)\n",
    "\n",
    "print(X.shape, \"\\n\")\n",
    "\n",
    "print(X_train.shape)\n",
    "print(X_test.shape)\n",
    "print(Y_train.shape)\n",
    "print(Y_test.shape)\n",
    "\n",
    "X_train.head()"
   ]
  },
  {
   "cell_type": "code",
   "execution_count": 132,
   "metadata": {},
   "outputs": [
    {
     "name": "stdout",
     "output_type": "stream",
     "text": [
      "Coefficient: \n",
      " 240296.98668777454\n",
      "\n",
      " Intercept:  28306.06679287704\n"
     ]
    }
   ],
   "source": [
    "X_test = X_test.values.reshape(-1, 1)\n",
    "X_train = X_train.values.reshape(-1, 1)\n",
    "\n",
    "model = LinearRegression()\n",
    "model.fit(X_train, Y_train)\n",
    "\n",
    "print(\"Coefficient: \\n\", model.coef_[0])\n",
    "print(\"\\n Intercept: \", model.intercept_)"
   ]
  },
  {
   "cell_type": "code",
   "execution_count": 133,
   "metadata": {},
   "outputs": [
    {
     "data": {
      "image/png": "[encoded data removed]",
      "text/plain": [
       "<Figure size 432x288 with 1 Axes>"
      ]
     },
     "metadata": {
      "needs_background": "light"
     },
     "output_type": "display_data"
    }
   ],
   "source": [
    "m_hat = model.coef_[0]\n",
    "b_hat = model.intercept_\n",
    "\n",
    "plt.scatter(X, Y)\n",
    "y_hat = [m_hat * x + b_hat for x in X]\n",
    "plt.plot(X, y_hat)\n",
    "\n",
    "plt.ylabel(\"Price\")\n",
    "plt.xlabel(\"Number of Bathrooms\")\n",
    "plt.title(\"Bathrooms and Cost\")\n",
    "plt.show()"
   ]
  },
  {
   "cell_type": "code",
   "execution_count": 134,
   "metadata": {},
   "outputs": [
    {
     "data": {
      "image/png": "[encoded data removed]",
      "text/plain": [
       "<Figure size 432x288 with 1 Axes>"
      ]
     },
     "metadata": {
      "needs_background": "light"
     },
     "output_type": "display_data"
    }
   ],
   "source": [
    "# Make a single prediction for 70 degrees farenheit\n",
    "x_value = 2\n",
    "\n",
    "# Plug our temperature into our equation (model)\n",
    "prediction = m_hat * x_value + b_hat\n",
    "# print(\"Prediction\", y_hat)\n",
    "\n",
    "# Plot the points\n",
    "plt.scatter(X, Y)\n",
    "\n",
    "# Plot the line\n",
    "y_hat = [m_hat*x + b_hat for x in X]\n",
    "plt.plot(X, y_hat)\n",
    "plt.plot(x_value, prediction, 'ro')\n",
    "\n",
    "# Graph axes and title\n",
    "plt.ylabel(\"Price\")\n",
    "plt.xlabel(\"Number of Bathrooms\")\n",
    "plt.title(\"Bathrooms and Cost\")\n",
    "plt.show()"
   ]
  },
  {
   "cell_type": "code",
   "execution_count": 135,
   "metadata": {},
   "outputs": [
    {
     "name": "stdout",
     "output_type": "stream",
     "text": [
      "RMSE is 329133.1799664924\n",
      "R2 is 0.27272892874918386\n"
     ]
    }
   ],
   "source": [
    "y_test_predict = model.predict(X_test)\n",
    "\n",
    "RMSE = np.sqrt(mean_squared_error(Y_test, y_test_predict))\n",
    "\n",
    "R2 = r2_score(Y_test, y_test_predict)\n",
    "\n",
    "print('RMSE is {}'.format(RMSE))\n",
    "\n",
    "print('R2 is {}'.format(R2))"
   ]
  },
  {
   "cell_type": "markdown",
   "metadata": {
    "colab_type": "text",
    "id": "7Y7hg7wYHGZ4"
   },
   "source": [
    "# Two-variable Multiple Regression\n",
    "\n",
    "To ramp up slowly, pick a second X variable that you think will be the most correlated with Y. \n",
    "\n",
    "Split your dataset into a 50-50 test-train-split (50% of data for training, and 50% for testing).\n",
    "\n",
    "Train a regression model using these two X variables. Once you have trained the model and obtained its coefficients, plot the points on a graph and fit your **plane** of best fit to the graph.\n",
    "\n",
    "Report your Root Mean Squared Error and R-squared for this model."
   ]
  },
  {
   "cell_type": "code",
   "execution_count": 136,
   "metadata": {},
   "outputs": [
    {
     "data": {
      "text/html": [
       "<div>\n",
       "<style scoped>\n",
       "    .dataframe tbody tr th:only-of-type {\n",
       "        vertical-align: middle;\n",
       "    }\n",
       "\n",
       "    .dataframe tbody tr th {\n",
       "        vertical-align: top;\n",
       "    }\n",
       "\n",
       "    .dataframe thead th {\n",
       "        text-align: right;\n",
       "    }\n",
       "</style>\n",
       "<table border=\"1\" class=\"dataframe\">\n",
       "  <thead>\n",
       "    <tr style=\"text-align: right;\">\n",
       "      <th></th>\n",
       "      <th>price</th>\n",
       "      <th>bedrooms</th>\n",
       "      <th>bathrooms</th>\n",
       "    </tr>\n",
       "  </thead>\n",
       "  <tbody>\n",
       "    <tr>\n",
       "      <th>0</th>\n",
       "      <td>221900.0</td>\n",
       "      <td>3</td>\n",
       "      <td>1.00</td>\n",
       "    </tr>\n",
       "    <tr>\n",
       "      <th>1</th>\n",
       "      <td>538000.0</td>\n",
       "      <td>3</td>\n",
       "      <td>2.25</td>\n",
       "    </tr>\n",
       "    <tr>\n",
       "      <th>2</th>\n",
       "      <td>180000.0</td>\n",
       "      <td>2</td>\n",
       "      <td>1.00</td>\n",
       "    </tr>\n",
       "    <tr>\n",
       "      <th>3</th>\n",
       "      <td>604000.0</td>\n",
       "      <td>4</td>\n",
       "      <td>3.00</td>\n",
       "    </tr>\n",
       "    <tr>\n",
       "      <th>4</th>\n",
       "      <td>510000.0</td>\n",
       "      <td>3</td>\n",
       "      <td>2.00</td>\n",
       "    </tr>\n",
       "  </tbody>\n",
       "</table>\n",
       "</div>"
      ],
      "text/plain": [
       "      price  bedrooms  bathrooms\n",
       "0  221900.0         3       1.00\n",
       "1  538000.0         3       2.25\n",
       "2  180000.0         2       1.00\n",
       "3  604000.0         4       3.00\n",
       "4  510000.0         3       2.00"
      ]
     },
     "execution_count": 136,
     "metadata": {},
     "output_type": "execute_result"
    }
   ],
   "source": [
    "df_copy = df.filter(['price', 'bedrooms', 'bathrooms'])\n",
    "df_copy.head()"
   ]
  },
  {
   "cell_type": "code",
   "execution_count": 137,
   "metadata": {},
   "outputs": [
    {
     "name": "stdout",
     "output_type": "stream",
     "text": [
      "(21613, 1)\n",
      "(21613, 2)\n"
     ]
    }
   ],
   "source": [
    "# The Scikit-Learn code is the same every time.\n",
    "Y1 = df_copy.loc[:, ['price']].values\n",
    "X1 = df_copy.loc[:, ['bedrooms','bathrooms']].values\n",
    "\n",
    "print(Y1.shape)\n",
    "print(X1.shape)"
   ]
  },
  {
   "cell_type": "code",
   "execution_count": 138,
   "metadata": {},
   "outputs": [
    {
     "name": "stdout",
     "output_type": "stream",
     "text": [
      "(21613, 2) \n",
      "\n",
      "(10806, 2)\n",
      "(10807, 2)\n",
      "(10806, 1)\n",
      "(10807, 1)\n"
     ]
    }
   ],
   "source": [
    "X1_train, X1_test, Y1_train, Y1_test = train_test_split(X1, Y1, test_size = 0.5, random_state = 42)\n",
    "\n",
    "print(X1.shape, \"\\n\")\n",
    "\n",
    "print(X1_train.shape)\n",
    "print(X1_test.shape)\n",
    "print(Y1_train.shape)\n",
    "print(Y1_test.shape)"
   ]
  },
  {
   "cell_type": "code",
   "execution_count": 139,
   "metadata": {},
   "outputs": [
    {
     "name": "stdout",
     "output_type": "stream",
     "text": [
      "Slope Coefficients:  [ 20138.26578118 237780.5850233 ]\n",
      "\n",
      "Intercept Value:  [-30642.99594889]\n"
     ]
    }
   ],
   "source": [
    "model = LinearRegression()\n",
    "model.fit(X1, Y1)\n",
    "\n",
    "beta_0 = model.intercept_\n",
    "beta_i = model.coef_[0]\n",
    "\n",
    "print(\"Slope Coefficients: \", beta_i)\n",
    "print(\"\\nIntercept Value: \", beta_0)"
   ]
  },
  {
   "cell_type": "code",
   "execution_count": 141,
   "metadata": {},
   "outputs": [
    {
     "data": {
      "image/png": "[encoded data removed]",
      "text/plain": [
       "<Figure size 432x288 with 1 Axes>"
      ]
     },
     "metadata": {
      "needs_background": "light"
     },
     "output_type": "display_data"
    }
   ],
   "source": [
    "fig = plt.figure()\n",
    "ax = fig.add_subplot(111, projection='3d')\n",
    "\n",
    "# Plot Points on 3D plot\n",
    "ax.scatter(df['bedrooms'], df['bathrooms'], df['price'], c='red')\n",
    "\n",
    "# Set axes to size of scatter data\n",
    "x1 = np.array(ax.get_xlim())\n",
    "y1 = np.array(ax.get_ylim())\n",
    "xx, yy = np.meshgrid(x1,y1)\n",
    "zz = beta_i[0]*xx + beta_i[1]*yy + beta_0[0]\n",
    "\n",
    "# Plot Plane\n",
    "plt3d = plt.gca(projection='3d')\n",
    "\n",
    "# Add Opacity to Plane \n",
    "plt3d.plot_surface(xx, yy, zz, alpha=0.5)\n",
    "plt.title(\"Regression Plane\")\n",
    "\n",
    "plt.show()"
   ]
  },
  {
   "cell_type": "code",
   "execution_count": 142,
   "metadata": {},
   "outputs": [
    {
     "name": "stdout",
     "output_type": "stream",
     "text": [
      "RMSE is 328304.4560987068\n",
      "R2 is 0.2763867071465458\n"
     ]
    }
   ],
   "source": [
    "y_test_predict = model.predict(X1_test)\n",
    "\n",
    "RMSE = np.sqrt(mean_squared_error(Y1_test, y_test_predict))\n",
    "\n",
    "R2 = r2_score(Y1_test, y_test_predict)\n",
    "\n",
    "print('RMSE is {}'.format(RMSE))\n",
    "\n",
    "print('R2 is {}'.format(R2))"
   ]
  },
  {
   "cell_type": "markdown",
   "metadata": {
    "colab_type": "text",
    "id": "0LRAjm6sHOy-"
   },
   "source": [
    "# Multiple Regression\n",
    "\n",
    "Now using all available X variables, split your data into test and training datasets, train your model, obtain its coefficients, and report the Root Mean Squared Error and R-squared values."
   ]
  },
  {
   "cell_type": "code",
   "execution_count": 158,
   "metadata": {
    "colab": {},
    "colab_type": "code",
    "id": "1gEl3jAyI_-r"
   },
   "outputs": [
    {
     "name": "stdout",
     "output_type": "stream",
     "text": [
      "(21613,)\n",
      "(21613, 19)\n"
     ]
    }
   ],
   "source": [
    "# The Scikit-Learn code is the same every time.\n",
    "new_df = df.copy()\n",
    "new_df.head()\n",
    "Y2 = new_df['price']\n",
    "X2 = new_df.drop(['price', 'date'], axis = 1)\n",
    "\n",
    "print(Y2.shape)\n",
    "print(X2.shape)"
   ]
  },
  {
   "cell_type": "code",
   "execution_count": 160,
   "metadata": {},
   "outputs": [
    {
     "name": "stdout",
     "output_type": "stream",
     "text": [
      "(21613, 19) \n",
      "\n",
      "(10806, 19)\n",
      "(10807, 19)\n",
      "(10806,)\n",
      "(10807,)\n"
     ]
    }
   ],
   "source": [
    "X2_train, X2_test, Y2_train, Y2_test = train_test_split(X2, Y2, test_size = 0.5, random_state = 42)\n",
    "\n",
    "print(X2.shape, \"\\n\")\n",
    "\n",
    "print(X2_train.shape)\n",
    "print(X2_test.shape)\n",
    "print(Y2_train.shape)\n",
    "print(Y2_test.shape)"
   ]
  },
  {
   "cell_type": "code",
   "execution_count": 161,
   "metadata": {},
   "outputs": [
    {
     "name": "stdout",
     "output_type": "stream",
     "text": [
      "Slope Coefficients:  -1.2887026742663847e-06\n",
      "\n",
      "Intercept Value:  6938891.719974928\n"
     ]
    }
   ],
   "source": [
    "model = LinearRegression()\n",
    "model.fit(X2, Y2)\n",
    "\n",
    "beta_2 = model.intercept_\n",
    "beta_3 = model.coef_[0]\n",
    "\n",
    "print(\"Slope Coefficients: \", beta_3)\n",
    "print(\"\\nIntercept Value: \", beta_2)"
   ]
  },
  {
   "cell_type": "code",
   "execution_count": 163,
   "metadata": {},
   "outputs": [
    {
     "name": "stdout",
     "output_type": "stream",
     "text": [
      "RMSE is 214576.86199718955\n",
      "R2 is 0.6908859388239821\n"
     ]
    }
   ],
   "source": [
    "y_test_predict = model.predict(X2_test)\n",
    "\n",
    "RMSE = np.sqrt(mean_squared_error(Y2_test, y_test_predict))\n",
    "\n",
    "R2 = r2_score(Y2_test, y_test_predict)\n",
    "\n",
    "print('RMSE is {}'.format(RMSE))\n",
    "\n",
    "print('R2 is {}'.format(R2))"
   ]
  },
  {
   "cell_type": "markdown",
   "metadata": {
    "colab_type": "text",
    "id": "95Ln3VLJJEH_"
   },
   "source": [
    "# Stretch Goals\n",
    "\n",
    "Pick from these stretch goals the tasks that you feel like will be the most beneficial for you. \n",
    "\n",
    "- Explore the concept of $R^2$, learn how it is calculated and how it relates to covariance, correlation, and variance. \n",
    "- Start to research Polynomial Regression and Log-Linear Regression (tomorrow's topics). Find a new regression dataset and try to implement one of these models. \n",
    "- Research \"Feature Engineering\" see what features you can engineer on the above dataset. How much are you able to improve your accuracy with feature engineering?\n",
    "- Further explore the concept of \"Model Validation\" - we'll spend a whole week on this soon. What other measures of model accuracy could we have used besides Root Mean Squared Error?\n",
    "- Write a blog post explaining the basics of Linear Regression.\n",
    "\n",
    "Remember to share your findings in the slack channel. :)\n"
   ]
  }
 ],
 "metadata": {
  "colab": {
   "collapsed_sections": [],
   "name": "Linear Regression Assignment.ipynb",
   "provenance": [],
   "version": "0.3.2"
  },
  "kernelspec": {
   "display_name": "Python 3",
   "language": "python",
   "name": "python3"
  },
  "language_info": {
   "codemirror_mode": {
    "name": "ipython",
    "version": 3
   },
   "file_extension": ".py",
   "mimetype": "text/x-python",
   "name": "python",
   "nbconvert_exporter": "python",
   "pygments_lexer": "ipython3",
   "version": "3.6.6"
  }
 },
 "nbformat": 4,
 "nbformat_minor": 2
}
