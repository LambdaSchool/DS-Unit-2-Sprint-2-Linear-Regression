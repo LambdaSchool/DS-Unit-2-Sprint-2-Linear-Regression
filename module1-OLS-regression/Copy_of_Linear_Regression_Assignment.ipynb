{
  "nbformat": 4,
  "nbformat_minor": 0,
  "metadata": {
    "colab": {
      "name": "Copy of Linear Regression Assignment.ipynb",
      "version": "0.3.2",
      "provenance": [],
      "collapsed_sections": [],
      "include_colab_link": true
    },
    "kernelspec": {
      "name": "python3",
      "display_name": "Python 3"
    }
  },
  "cells": [
    {
      "cell_type": "markdown",
      "metadata": {
        "id": "view-in-github",
        "colab_type": "text"
      },
      "source": [
        "<a href=\"https://colab.research.google.com/github/quinn-dougherty/DS-Unit-2-Sprint-2-Linear-Regression/blob/master/module1-OLS-regression/Copy_of_Linear_Regression_Assignment.ipynb\" target=\"_parent\"><img src=\"https://colab.research.google.com/assets/colab-badge.svg\" alt=\"Open In Colab\"/></a>"
      ]
    },
    {
      "metadata": {
        "id": "g_AhWOYeMfrH",
        "colab_type": "text"
      },
      "cell_type": "markdown",
      "source": [
        "# King County Housing Data - Linear Regression Assignment\n",
        "\n",
        "Data for this assignment was obtained from Kaggle: <https://www.kaggle.com/harlfoxem/housesalesprediction>\n",
        "\n",
        "Complete the following challenges below to improve iteratively your home price estimation and practice implementing predictive linear regression models. "
      ]
    },
    {
      "metadata": {
        "id": "3kcL7V2SHAkp",
        "colab_type": "text"
      },
      "cell_type": "markdown",
      "source": [
        "# Bivariate Regression\n",
        "\n",
        "Pick the X variable that you think will be the most correlated with Y. \n",
        "\n",
        "Split your dataset into a 50-50 test-train-split (50% of data for training, and 50% for testing).\n",
        "\n",
        "Train a regression model using this single X and single Y variable. Once you have trained the model and obtained its coefficients, plot the points on a graph and fit your line of best fit to the graph.\n",
        "\n",
        "Report your Root Mean Squared Error and R-Squared for this model.\n",
        "\n"
      ]
    },
    {
      "metadata": {
        "id": "G5gPYOmHMPAW",
        "colab_type": "code",
        "outputId": "1bda3a3e-943f-4266-a98e-80adbd43dcad",
        "colab": {
          "base_uri": "https://localhost:8080/",
          "height": 244
        }
      },
      "cell_type": "code",
      "source": [
        "import pandas as pd\n",
        "import numpy as np\n",
        "import datetime as dt\n",
        "from sklearn.model_selection import train_test_split\n",
        "from sklearn.linear_model import LinearRegression\n",
        "from sklearn.metrics import mean_squared_error, r2_score\n",
        "import altair as alt\n",
        "alt.data_transformers.enable('default', max_rows=None)\n",
        "\n",
        "df = pd.read_csv('https://raw.githubusercontent.com/ryanleeallred/datasets/master/kc_house_data.csv')\n",
        "pd.set_option('display.max_columns', 100)\n",
        "\n",
        "df.date = pd.to_datetime(df.date)\n",
        "df.date = df.date.map(dt.datetime.toordinal)\n",
        "\n",
        "print(df.shape)\n",
        "df.head()\n",
        "\n"
      ],
      "execution_count": 51,
      "outputs": [
        {
          "output_type": "stream",
          "text": [
            "(21613, 21)\n"
          ],
          "name": "stdout"
        },
        {
          "output_type": "execute_result",
          "data": {
            "text/html": [
              "<div>\n",
              "<style scoped>\n",
              "    .dataframe tbody tr th:only-of-type {\n",
              "        vertical-align: middle;\n",
              "    }\n",
              "\n",
              "    .dataframe tbody tr th {\n",
              "        vertical-align: top;\n",
              "    }\n",
              "\n",
              "    .dataframe thead th {\n",
              "        text-align: right;\n",
              "    }\n",
              "</style>\n",
              "<table border=\"1\" class=\"dataframe\">\n",
              "  <thead>\n",
              "    <tr style=\"text-align: right;\">\n",
              "      <th></th>\n",
              "      <th>id</th>\n",
              "      <th>date</th>\n",
              "      <th>price</th>\n",
              "      <th>bedrooms</th>\n",
              "      <th>bathrooms</th>\n",
              "      <th>sqft_living</th>\n",
              "      <th>sqft_lot</th>\n",
              "      <th>floors</th>\n",
              "      <th>waterfront</th>\n",
              "      <th>view</th>\n",
              "      <th>condition</th>\n",
              "      <th>grade</th>\n",
              "      <th>sqft_above</th>\n",
              "      <th>sqft_basement</th>\n",
              "      <th>yr_built</th>\n",
              "      <th>yr_renovated</th>\n",
              "      <th>zipcode</th>\n",
              "      <th>lat</th>\n",
              "      <th>long</th>\n",
              "      <th>sqft_living15</th>\n",
              "      <th>sqft_lot15</th>\n",
              "    </tr>\n",
              "  </thead>\n",
              "  <tbody>\n",
              "    <tr>\n",
              "      <th>0</th>\n",
              "      <td>7129300520</td>\n",
              "      <td>735519</td>\n",
              "      <td>221900.0</td>\n",
              "      <td>3</td>\n",
              "      <td>1.00</td>\n",
              "      <td>1180</td>\n",
              "      <td>5650</td>\n",
              "      <td>1.0</td>\n",
              "      <td>0</td>\n",
              "      <td>0</td>\n",
              "      <td>3</td>\n",
              "      <td>7</td>\n",
              "      <td>1180</td>\n",
              "      <td>0</td>\n",
              "      <td>1955</td>\n",
              "      <td>0</td>\n",
              "      <td>98178</td>\n",
              "      <td>47.5112</td>\n",
              "      <td>-122.257</td>\n",
              "      <td>1340</td>\n",
              "      <td>5650</td>\n",
              "    </tr>\n",
              "    <tr>\n",
              "      <th>1</th>\n",
              "      <td>6414100192</td>\n",
              "      <td>735576</td>\n",
              "      <td>538000.0</td>\n",
              "      <td>3</td>\n",
              "      <td>2.25</td>\n",
              "      <td>2570</td>\n",
              "      <td>7242</td>\n",
              "      <td>2.0</td>\n",
              "      <td>0</td>\n",
              "      <td>0</td>\n",
              "      <td>3</td>\n",
              "      <td>7</td>\n",
              "      <td>2170</td>\n",
              "      <td>400</td>\n",
              "      <td>1951</td>\n",
              "      <td>1991</td>\n",
              "      <td>98125</td>\n",
              "      <td>47.7210</td>\n",
              "      <td>-122.319</td>\n",
              "      <td>1690</td>\n",
              "      <td>7639</td>\n",
              "    </tr>\n",
              "    <tr>\n",
              "      <th>2</th>\n",
              "      <td>5631500400</td>\n",
              "      <td>735654</td>\n",
              "      <td>180000.0</td>\n",
              "      <td>2</td>\n",
              "      <td>1.00</td>\n",
              "      <td>770</td>\n",
              "      <td>10000</td>\n",
              "      <td>1.0</td>\n",
              "      <td>0</td>\n",
              "      <td>0</td>\n",
              "      <td>3</td>\n",
              "      <td>6</td>\n",
              "      <td>770</td>\n",
              "      <td>0</td>\n",
              "      <td>1933</td>\n",
              "      <td>0</td>\n",
              "      <td>98028</td>\n",
              "      <td>47.7379</td>\n",
              "      <td>-122.233</td>\n",
              "      <td>2720</td>\n",
              "      <td>8062</td>\n",
              "    </tr>\n",
              "    <tr>\n",
              "      <th>3</th>\n",
              "      <td>2487200875</td>\n",
              "      <td>735576</td>\n",
              "      <td>604000.0</td>\n",
              "      <td>4</td>\n",
              "      <td>3.00</td>\n",
              "      <td>1960</td>\n",
              "      <td>5000</td>\n",
              "      <td>1.0</td>\n",
              "      <td>0</td>\n",
              "      <td>0</td>\n",
              "      <td>5</td>\n",
              "      <td>7</td>\n",
              "      <td>1050</td>\n",
              "      <td>910</td>\n",
              "      <td>1965</td>\n",
              "      <td>0</td>\n",
              "      <td>98136</td>\n",
              "      <td>47.5208</td>\n",
              "      <td>-122.393</td>\n",
              "      <td>1360</td>\n",
              "      <td>5000</td>\n",
              "    </tr>\n",
              "    <tr>\n",
              "      <th>4</th>\n",
              "      <td>1954400510</td>\n",
              "      <td>735647</td>\n",
              "      <td>510000.0</td>\n",
              "      <td>3</td>\n",
              "      <td>2.00</td>\n",
              "      <td>1680</td>\n",
              "      <td>8080</td>\n",
              "      <td>1.0</td>\n",
              "      <td>0</td>\n",
              "      <td>0</td>\n",
              "      <td>3</td>\n",
              "      <td>8</td>\n",
              "      <td>1680</td>\n",
              "      <td>0</td>\n",
              "      <td>1987</td>\n",
              "      <td>0</td>\n",
              "      <td>98074</td>\n",
              "      <td>47.6168</td>\n",
              "      <td>-122.045</td>\n",
              "      <td>1800</td>\n",
              "      <td>7503</td>\n",
              "    </tr>\n",
              "  </tbody>\n",
              "</table>\n",
              "</div>"
            ],
            "text/plain": [
              "           id    date     price  bedrooms  bathrooms  sqft_living  sqft_lot  \\\n",
              "0  7129300520  735519  221900.0         3       1.00         1180      5650   \n",
              "1  6414100192  735576  538000.0         3       2.25         2570      7242   \n",
              "2  5631500400  735654  180000.0         2       1.00          770     10000   \n",
              "3  2487200875  735576  604000.0         4       3.00         1960      5000   \n",
              "4  1954400510  735647  510000.0         3       2.00         1680      8080   \n",
              "\n",
              "   floors  waterfront  view  condition  grade  sqft_above  sqft_basement  \\\n",
              "0     1.0           0     0          3      7        1180              0   \n",
              "1     2.0           0     0          3      7        2170            400   \n",
              "2     1.0           0     0          3      6         770              0   \n",
              "3     1.0           0     0          5      7        1050            910   \n",
              "4     1.0           0     0          3      8        1680              0   \n",
              "\n",
              "   yr_built  yr_renovated  zipcode      lat     long  sqft_living15  \\\n",
              "0      1955             0    98178  47.5112 -122.257           1340   \n",
              "1      1951          1991    98125  47.7210 -122.319           1690   \n",
              "2      1933             0    98028  47.7379 -122.233           2720   \n",
              "3      1965             0    98136  47.5208 -122.393           1360   \n",
              "4      1987             0    98074  47.6168 -122.045           1800   \n",
              "\n",
              "   sqft_lot15  \n",
              "0        5650  \n",
              "1        7639  \n",
              "2        8062  \n",
              "3        5000  \n",
              "4        7503  "
            ]
          },
          "metadata": {
            "tags": []
          },
          "execution_count": 51
        }
      ]
    },
    {
      "metadata": {
        "id": "DhBV6VTZGnQ6",
        "colab_type": "code",
        "colab": {}
      },
      "cell_type": "code",
      "source": [
        ""
      ],
      "execution_count": 0,
      "outputs": []
    },
    {
      "metadata": {
        "id": "eg-J0JZWX5eb",
        "colab_type": "code",
        "colab": {}
      },
      "cell_type": "code",
      "source": [
        "class bivar_simple_regr: \n",
        "  def __init__(self, dat, y_feat):\n",
        "    self.df = dat\n",
        "    self.Y_feat = y_feat\n",
        "    self.features = self.df.drop([self.Y_feat], axis=1).columns\n",
        "    self.bivs = self.make_dict()\n",
        "    self.best_feat = self.argmax_bivs()\n",
        "\n",
        "  def make_model(self, feat): \n",
        "\n",
        "    X = self.df[feat].values.reshape(-1,1)\n",
        "    y = self.df[self.Y_feat]\n",
        "\n",
        "    X_train, X_test, y_train, y_test = train_test_split(X, y, \n",
        "                                                      test_size=0.5, \n",
        "                                                      random_state=42)\n",
        "  \n",
        "    model = LinearRegression().fit(X_train, y_train)\n",
        "\n",
        "    Y_test_predict = model.predict(X_test)\n",
        "\n",
        "    MSE = mean_squared_error(y_test, Y_test_predict)\n",
        "\n",
        "    RMSE = np.sqrt(mean_squared_error(y_test, Y_test_predict)) \n",
        "\n",
        "    R2 = r2_score(y_test, Y_test_predict)\n",
        "  \n",
        "    beta = {0: model.intercept_, 1: model.coef_[0]}\n",
        "  \n",
        "    return (beta, R2)\n",
        "\n",
        "  def make_dict(self): \n",
        "    return {feat: self.make_model(feat) for feat in self.features}\n",
        "\n",
        "  def argmax_bivs(self): \n",
        "    '''take a dict feature name -> (beta, R2) and returns the feature name \n",
        "    corresponding to the biggest R2'''\n",
        "    curr_max = - 7**6\n",
        "    curr_best = None\n",
        "    for name in self.bivs.keys(): \n",
        "      dummy = self.bivs[name][1]\n",
        "      if (dummy > curr_max): \n",
        "        curr_best = name\n",
        "        curr_max = dummy\n",
        "    return curr_best\n",
        "  \n",
        "  def report(self): \n",
        "    feat = self.best_feat\n",
        "    \n",
        "    Beta = self.bivs[feat][0]\n",
        "  \n",
        "    R2 = self.bivs[feat][1]\n",
        "  \n",
        "    s1 = f'The best performing feature in predicting price with simple linear regression is {feat} at R2={R2:.3}\\n\\n'\n",
        "  \n",
        "    s2 = f'M = {Beta[1]:.3}\\nb = {Beta[0]:.3}\\nIn other words, price_hat = {Beta[1]:.3}*X + {Beta[0]:.3} '\n",
        "  \n",
        "    s3 = f'where X is the values of {feat} interpreted as a random variable.\\n\\n'\n",
        "  \n",
        "    return s1+s2+s3\n",
        "  \n",
        "  def plot_data(self, feat): \n",
        "    C = alt.Chart(self.df).mark_circle(fillOpacity=0.1).encode(x=feat, y=self.Y_feat)\n",
        "\n",
        "    return C\n",
        "  \n",
        "  def plot_LBF(self, feat): \n",
        "    X = np.linspace(self.df[feat].min(), self.df[feat].max())\n",
        "    \n",
        "    Beta = self.bivs[feat][0]\n",
        "    m = Beta[1]\n",
        "    b = Beta[0]\n",
        "       \n",
        "    C = alt.Chart(pd.DataFrame.from_dict({'x': X, 'y': m * X + b})).mark_line().encode(x='x',y='y')\n",
        "    return C\n",
        "  \n",
        "  def SHOW(self): \n",
        "    print(self.report())\n",
        "    return self.plot_data(self.best_feat) + self.plot_LBF(self.best_feat)\n",
        "\n",
        "\n"
      ],
      "execution_count": 0,
      "outputs": []
    },
    {
      "metadata": {
        "id": "XJClnenwb0KZ",
        "colab_type": "code",
        "colab": {
          "base_uri": "https://localhost:8080/",
          "height": 156
        },
        "outputId": "4b11aa1e-2663-4a4c-88d3-13c32e61c0a8"
      },
      "cell_type": "code",
      "source": [
        "bivar_price = bivar_simple_regr(df, 'price')\n",
        "\n",
        "#bivar_price.SHOW()\n",
        "\n",
        "#bivar_price.bivs\n",
        "\n",
        "droppem = []\n",
        "for name in bivar_price.bivs.keys(): \n",
        "  if bivar_price.bivs[name][1] < 0.1: \n",
        "    droppem.append(name)\n",
        "\n"
      ],
      "execution_count": 63,
      "outputs": [
        {
          "output_type": "stream",
          "text": [
            "0.2727289287491844\n",
            "0.49226256935760826\n",
            "0.15740302402072848\n",
            "0.4309667377739639\n",
            "0.3702620965114556\n",
            "0.10538844274155323\n",
            "0.3384999778053297\n",
            "7\n"
          ],
          "name": "stdout"
        }
      ]
    },
    {
      "metadata": {
        "id": "5ykkLt2lb0PX",
        "colab_type": "code",
        "colab": {
          "base_uri": "https://localhost:8080/",
          "height": 34
        },
        "outputId": "9aecf7a3-fc5b-449d-e6a9-35c37052f04b"
      },
      "cell_type": "code",
      "source": [
        "binom(7,2)"
      ],
      "execution_count": 62,
      "outputs": [
        {
          "output_type": "execute_result",
          "data": {
            "text/plain": [
              "21.0"
            ]
          },
          "metadata": {
            "tags": []
          },
          "execution_count": 62
        }
      ]
    },
    {
      "metadata": {
        "id": "6FMh2eWmb0Np",
        "colab_type": "code",
        "colab": {}
      },
      "cell_type": "code",
      "source": [
        ""
      ],
      "execution_count": 0,
      "outputs": []
    },
    {
      "metadata": {
        "id": "0fH-_jybb0Hp",
        "colab_type": "code",
        "colab": {}
      },
      "cell_type": "code",
      "source": [
        ""
      ],
      "execution_count": 0,
      "outputs": []
    },
    {
      "metadata": {
        "id": "7Y7hg7wYHGZ4",
        "colab_type": "text"
      },
      "cell_type": "markdown",
      "source": [
        "# Two-variable Multiple Regression\n",
        "\n",
        "To ramp up slowly, pick a second X variable that you think will be the most correlated with Y. \n",
        "\n",
        "Split your dataset into a 50-50 test-train-split (50% of data for training, and 50% for testing).\n",
        "\n",
        "Train a regression model using these two X variables. Once you have trained the model and obtained its coefficients, plot the points on a graph and fit your **plane** of best fit to the graph.\n",
        "\n",
        "Report your Root Mean Squared Error and R-squared for this model."
      ]
    },
    {
      "metadata": {
        "id": "Ceoln3RCHPQy",
        "colab_type": "code",
        "colab": {}
      },
      "cell_type": "code",
      "source": [
        "# for a plane of best fit with 2 independent variables, we'll need to test each possible pair of features. \n",
        "# since this amounts to length 2 lists from df.columns with no repetitions and where order doesn't matters; \n",
        "\n",
        "from itertools import combinations\n",
        "from scipy.special import binom\n",
        "binom(len(df.drop(['price'], axis=1).columns), 2)\n",
        "\n",
        "# 190 -- a bit too big. \n",
        "\n",
        "# a lot of the features weren't performing very well in the case of 1 independent variable. \n",
        "# lets assume that they won't perform very well if they contribute to the case of 2. \n",
        "\n",
        "def droppin_em(dat=df): \n",
        "  feat_performance = bivar_simple_regr(dat, 'price').bivs\n",
        "\n",
        "  droppem = []\n",
        "  for name in feat_performance.keys(): \n",
        "    if feat_performance[name][1] < 0.1: \n",
        "      droppem.append(name)\n",
        "  return droppem\n",
        "\n",
        "droppem = droppin_em(df)\n"
      ],
      "execution_count": 0,
      "outputs": []
    },
    {
      "metadata": {
        "id": "vdAhh83cu7MZ",
        "colab_type": "code",
        "colab": {}
      },
      "cell_type": "code",
      "source": [
        ""
      ],
      "execution_count": 0,
      "outputs": []
    },
    {
      "metadata": {
        "id": "h5wdeb7lu7Qw",
        "colab_type": "code",
        "colab": {}
      },
      "cell_type": "code",
      "source": [
        "\n"
      ],
      "execution_count": 0,
      "outputs": []
    },
    {
      "metadata": {
        "id": "3qy48l8Mu7PQ",
        "colab_type": "code",
        "colab": {}
      },
      "cell_type": "code",
      "source": [
        ""
      ],
      "execution_count": 0,
      "outputs": []
    },
    {
      "metadata": {
        "id": "Lk9-zTQfu7KZ",
        "colab_type": "code",
        "colab": {}
      },
      "cell_type": "code",
      "source": [
        ""
      ],
      "execution_count": 0,
      "outputs": []
    },
    {
      "metadata": {
        "id": "970QY6F6u7HV",
        "colab_type": "code",
        "colab": {}
      },
      "cell_type": "code",
      "source": [
        ""
      ],
      "execution_count": 0,
      "outputs": []
    },
    {
      "metadata": {
        "id": "0LRAjm6sHOy-",
        "colab_type": "text"
      },
      "cell_type": "markdown",
      "source": [
        "# Multiple Regression\n",
        "\n",
        "Now using all available X variables, split your data into test and training datasets, train your model, obtain its coefficients, and report the Root Mean Squared Error and R-squared values."
      ]
    },
    {
      "metadata": {
        "id": "1gEl3jAyI_-r",
        "colab_type": "code",
        "colab": {}
      },
      "cell_type": "code",
      "source": [
        "##### Your Code Here #####"
      ],
      "execution_count": 0,
      "outputs": []
    },
    {
      "metadata": {
        "id": "95Ln3VLJJEH_",
        "colab_type": "text"
      },
      "cell_type": "markdown",
      "source": [
        "# Stretch Goals\n",
        "\n",
        "Pick from these stretch goals the tasks that you feel like will be the most beneficial for you. \n",
        "\n",
        "- Explore the concept of $R^2$, learn how it is calculated and how it relates to covariance, correlation, and variance. \n",
        "- Start to research Polynomial Regression and Log-Linear Regression (tomorrow's topics). Find a new regression dataset and try to implement one of these models. \n",
        "- Research \"Feature Engineering\" see what features you can engineer on the above dataset. How much are you able to improve your accuracy with feature engineering?\n",
        "- Further explore the concept of \"Model Validation\" - we'll spend a whole week on this soon. What other measures of model accuracy could we have used besides Root Mean Squared Error?\n",
        "- Write a blog post explaining the basics of Linear Regression.\n",
        "\n",
        "Remember to share your findings in the slack channel. :)\n"
      ]
    }
  ]
}