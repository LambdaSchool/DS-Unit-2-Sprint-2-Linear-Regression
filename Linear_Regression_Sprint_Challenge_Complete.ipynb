{
 "cells": [
  {
   "cell_type": "code",
   "execution_count": 1,
   "metadata": {
    "colab": {
     "base_uri": "https://localhost:8080/",
     "height": 91
    },
    "colab_type": "code",
    "id": "YbiJuv5d2jZ7",
    "outputId": "749ce910-8342-4f4c-af06-77ae4af74804"
   },
   "outputs": [],
   "source": [
    "# Import everything you could ever need. ;)\n",
    "\n",
    "import pandas as pd\n",
    "import numpy as np\n",
    "import matplotlib.pyplot as plt\n",
    "import seaborn as sns\n",
    "import statsmodels.api as sm\n",
    "from statsmodels.stats.outliers_influence import variance_inflation_factor\n",
    "from sklearn.model_selection import train_test_split\n",
    "from sklearn.linear_model import LinearRegression\n",
    "from sklearn.metrics import mean_squared_error, r2_score\n"
   ]
  },
  {
   "cell_type": "code",
   "execution_count": 2,
   "metadata": {
    "colab": {
     "base_uri": "https://localhost:8080/",
     "height": 219
    },
    "colab_type": "code",
    "id": "FgaItuSL3zxO",
    "outputId": "839e29ca-12a8-4379-837b-3f869dff380c"
   },
   "outputs": [
    {
     "name": "stdout",
     "output_type": "stream",
     "text": [
      "(8495, 9)\n"
     ]
    },
    {
     "data": {
      "text/html": [
       "<div>\n",
       "<style scoped>\n",
       "    .dataframe tbody tr th:only-of-type {\n",
       "        vertical-align: middle;\n",
       "    }\n",
       "\n",
       "    .dataframe tbody tr th {\n",
       "        vertical-align: top;\n",
       "    }\n",
       "\n",
       "    .dataframe thead th {\n",
       "        text-align: right;\n",
       "    }\n",
       "</style>\n",
       "<table border=\"1\" class=\"dataframe\">\n",
       "  <thead>\n",
       "    <tr style=\"text-align: right;\">\n",
       "      <th></th>\n",
       "      <th>make</th>\n",
       "      <th>price</th>\n",
       "      <th>body</th>\n",
       "      <th>mileage</th>\n",
       "      <th>engV</th>\n",
       "      <th>engType</th>\n",
       "      <th>registration</th>\n",
       "      <th>year</th>\n",
       "      <th>drive</th>\n",
       "    </tr>\n",
       "  </thead>\n",
       "  <tbody>\n",
       "    <tr>\n",
       "      <th>0</th>\n",
       "      <td>23</td>\n",
       "      <td>15500.0</td>\n",
       "      <td>0</td>\n",
       "      <td>68</td>\n",
       "      <td>2.5</td>\n",
       "      <td>1</td>\n",
       "      <td>1</td>\n",
       "      <td>2010</td>\n",
       "      <td>1</td>\n",
       "    </tr>\n",
       "    <tr>\n",
       "      <th>1</th>\n",
       "      <td>50</td>\n",
       "      <td>20500.0</td>\n",
       "      <td>3</td>\n",
       "      <td>173</td>\n",
       "      <td>1.8</td>\n",
       "      <td>1</td>\n",
       "      <td>1</td>\n",
       "      <td>2011</td>\n",
       "      <td>2</td>\n",
       "    </tr>\n",
       "    <tr>\n",
       "      <th>2</th>\n",
       "      <td>50</td>\n",
       "      <td>35000.0</td>\n",
       "      <td>2</td>\n",
       "      <td>135</td>\n",
       "      <td>5.5</td>\n",
       "      <td>3</td>\n",
       "      <td>1</td>\n",
       "      <td>2008</td>\n",
       "      <td>2</td>\n",
       "    </tr>\n",
       "    <tr>\n",
       "      <th>3</th>\n",
       "      <td>50</td>\n",
       "      <td>17800.0</td>\n",
       "      <td>5</td>\n",
       "      <td>162</td>\n",
       "      <td>1.8</td>\n",
       "      <td>0</td>\n",
       "      <td>1</td>\n",
       "      <td>2012</td>\n",
       "      <td>0</td>\n",
       "    </tr>\n",
       "    <tr>\n",
       "      <th>4</th>\n",
       "      <td>55</td>\n",
       "      <td>16600.0</td>\n",
       "      <td>0</td>\n",
       "      <td>83</td>\n",
       "      <td>2.0</td>\n",
       "      <td>3</td>\n",
       "      <td>1</td>\n",
       "      <td>2013</td>\n",
       "      <td>1</td>\n",
       "    </tr>\n",
       "  </tbody>\n",
       "</table>\n",
       "</div>"
      ],
      "text/plain": [
       "   make    price  body  mileage  engV  engType  registration  year  drive\n",
       "0    23  15500.0     0       68   2.5        1             1  2010      1\n",
       "1    50  20500.0     3      173   1.8        1             1  2011      2\n",
       "2    50  35000.0     2      135   5.5        3             1  2008      2\n",
       "3    50  17800.0     5      162   1.8        0             1  2012      0\n",
       "4    55  16600.0     0       83   2.0        3             1  2013      1"
      ]
     },
     "execution_count": 2,
     "metadata": {},
     "output_type": "execute_result"
    }
   ],
   "source": [
    "# Ukraine Used Car Sale Price Prediction\n",
    "df = pd.read_csv('https://raw.githubusercontent.com/ryanleeallred/datasets/master/car_regression.csv')\n",
    "print(df.shape)\n",
    "df.head()"
   ]
  },
  {
   "cell_type": "markdown",
   "metadata": {
    "colab_type": "text",
    "id": "w9gkF-HNUFAV"
   },
   "source": [
    "# Predictive Modeling with Linear Regression"
   ]
  },
  {
   "cell_type": "markdown",
   "metadata": {
    "colab_type": "text",
    "id": "Vy1SWxcYTAC0"
   },
   "source": [
    "## 1.1 Divide the dataset features into an X matrix and y vector (\"price\" is what we want to predict)."
   ]
  },
  {
   "cell_type": "code",
   "execution_count": 3,
   "metadata": {
    "colab": {},
    "colab_type": "code",
    "id": "dwMbM9tUUaOQ"
   },
   "outputs": [
    {
     "name": "stdout",
     "output_type": "stream",
     "text": [
      "Shapes of X and y, respectively:\n",
      "(8495, 8) (8495,)\n",
      "\n",
      "\n"
     ]
    }
   ],
   "source": [
    "y = df['price'].values\n",
    "X =df.drop('price', axis=1)\n",
    "print ('Shapes of X and y, respectively:')\n",
    "print (X.shape, y.shape)\n",
    "print ('\\n')"
   ]
  },
  {
   "cell_type": "markdown",
   "metadata": {
    "colab_type": "text",
    "id": "Uf_SQswNUPwM"
   },
   "source": [
    "## 1.2 Split the data into test and train datasets using train_test_split"
   ]
  },
  {
   "cell_type": "code",
   "execution_count": 4,
   "metadata": {
    "colab": {},
    "colab_type": "code",
    "id": "iIiELKuKUOgR"
   },
   "outputs": [
    {
     "name": "stdout",
     "output_type": "stream",
     "text": [
      "Shapes of X_train and X_test, respectively:\n",
      "(5946, 8) (2549, 8)\n",
      "\n",
      "\n",
      "Shapes of y_train and y_test, respectively:\n",
      "(5946,) (2549,)\n"
     ]
    }
   ],
   "source": [
    "X_train, X_test, y_train, y_test = train_test_split(X, y, test_size=.3, random_state=42)\n",
    "print ('Shapes of X_train and X_test, respectively:')\n",
    "print (X_train.shape, X_test.shape)\n",
    "print ('\\n')\n",
    "print ('Shapes of y_train and y_test, respectively:')\n",
    "print (y_train.shape, y_test.shape)"
   ]
  },
  {
   "cell_type": "markdown",
   "metadata": {
    "colab_type": "text",
    "id": "0AdXWiwoUstf"
   },
   "source": [
    "## 1.3 Use Scikit-Learn to fit a multiple regression model using your training data."
   ]
  },
  {
   "cell_type": "code",
   "execution_count": 5,
   "metadata": {
    "colab": {},
    "colab_type": "code",
    "id": "Zw70rt71U1xf"
   },
   "outputs": [
    {
     "data": {
      "text/plain": [
       "LinearRegression(copy_X=True, fit_intercept=True, n_jobs=None,\n",
       "         normalize=False)"
      ]
     },
     "execution_count": 5,
     "metadata": {},
     "output_type": "execute_result"
    }
   ],
   "source": [
    "model = LinearRegression()\n",
    "model.fit(X_train, y_train)"
   ]
  },
  {
   "cell_type": "markdown",
   "metadata": {
    "colab_type": "text",
    "id": "82fH2rilU7j3"
   },
   "source": [
    "## 1.4 Report the Intercept and Coefficient Values for the fitted model"
   ]
  },
  {
   "cell_type": "code",
   "execution_count": 6,
   "metadata": {
    "colab": {},
    "colab_type": "code",
    "id": "ue6hCHGqVE83",
    "scrolled": false
   },
   "outputs": [
    {
     "name": "stdout",
     "output_type": "stream",
     "text": [
      "\n",
      " Intercept:  -2263470.834079912\n",
      "Coefficient: \n",
      " [  -33.58366865 -1651.42873719   -39.22295229   258.51438812\n",
      " -1032.35062237  4552.14384808  1137.43759076  8492.7810931 ]\n"
     ]
    }
   ],
   "source": [
    "print(\"\\n Intercept: \", model.intercept_)\n",
    "print(\"Coefficient: \\n\", model.coef_)\n",
    "\n",
    "# This looks good as there should be 8 coefficients for the multiple regression equation \n",
    "# because there are 8 factors in the X matrix being used to predict the y array of price"
   ]
  },
  {
   "cell_type": "markdown",
   "metadata": {
    "colab_type": "text",
    "id": "T0CV0OnDVZbu"
   },
   "source": [
    "## 1.5 Use the test data to make predictions"
   ]
  },
  {
   "cell_type": "code",
   "execution_count": 7,
   "metadata": {
    "colab": {},
    "colab_type": "code",
    "id": "vrR5b5c3VwE5",
    "scrolled": true
   },
   "outputs": [
    {
     "name": "stdout",
     "output_type": "stream",
     "text": [
      "MSE is 413691259.3055986\n",
      "RMSE is 20339.40164571216\n",
      "R^2 is 0.30955115131587385\n"
     ]
    }
   ],
   "source": [
    "y_test_predict = model.predict(X_test)\n",
    "\n",
    "MSE = mean_squared_error(y_test, y_test_predict)\n",
    "\n",
    "RMSE = (np.sqrt(mean_squared_error(y_test, y_test_predict)))\n",
    "\n",
    "print('MSE is {}'.format(MSE))\n",
    "print('RMSE is {}'.format(RMSE))\n",
    "\n",
    "R2 = r2_score(y_test, y_test_predict)\n",
    "\n",
    "print('R^2 is {}'.format(R2))"
   ]
  },
  {
   "cell_type": "code",
   "execution_count": 8,
   "metadata": {},
   "outputs": [],
   "source": [
    "# Mean squared error is pretty high which would indicate that the model deviates quite a bit from the truth\n",
    "# and may indicate the presence of outliers that may be skewing the data\n",
    "\n",
    "# Root mean squared error is also pretty high which indicates a variance of residuals from the correct value \n",
    "# in the same units (dollars) as the y array\n",
    "\n",
    "# R^2 is just a general relative fit of the fitted regression line to the response data. Our measure of 0.309\n",
    "# indicates only 31% or so of the variability of the response data is explained by the included factors"
   ]
  },
  {
   "cell_type": "code",
   "execution_count": 9,
   "metadata": {},
   "outputs": [],
   "source": [
    "# As far as real predictions, in an effective predictive model, one should be able to multiply the values for each\n",
    "# value in the X factors to their residuals from the fitted regression line and then sum these values to get a \n",
    "# prediction for the y, or in this case, the price of the car. \n",
    "\n",
    "# So for instance, the coefficient for mileage is -39.22, so for each additional mile driven, the value of the car\n",
    "# should decrease by 39.22 dollars. "
   ]
  },
  {
   "cell_type": "code",
   "execution_count": 10,
   "metadata": {
    "scrolled": true
   },
   "outputs": [
    {
     "name": "stderr",
     "output_type": "stream",
     "text": [
      "/anaconda2/envs/py3k/lib/python3.7/site-packages/ipykernel_launcher.py:2: SettingWithCopyWarning: \n",
      "A value is trying to be set on a copy of a slice from a DataFrame.\n",
      "Try using .loc[row_indexer,col_indexer] = value instead\n",
      "\n",
      "See the caveats in the documentation: http://pandas.pydata.org/pandas-docs/stable/indexing.html#indexing-view-versus-copy\n",
      "  \n"
     ]
    }
   ],
   "source": [
    "df_with_values_and_predictions = X_test\n",
    "df_with_values_and_predictions['predictions'] = y_test"
   ]
  },
  {
   "cell_type": "code",
   "execution_count": 11,
   "metadata": {},
   "outputs": [
    {
     "data": {
      "text/html": [
       "<div>\n",
       "<style scoped>\n",
       "    .dataframe tbody tr th:only-of-type {\n",
       "        vertical-align: middle;\n",
       "    }\n",
       "\n",
       "    .dataframe tbody tr th {\n",
       "        vertical-align: top;\n",
       "    }\n",
       "\n",
       "    .dataframe thead th {\n",
       "        text-align: right;\n",
       "    }\n",
       "</style>\n",
       "<table border=\"1\" class=\"dataframe\">\n",
       "  <thead>\n",
       "    <tr style=\"text-align: right;\">\n",
       "      <th></th>\n",
       "      <th>make</th>\n",
       "      <th>body</th>\n",
       "      <th>mileage</th>\n",
       "      <th>engV</th>\n",
       "      <th>engType</th>\n",
       "      <th>registration</th>\n",
       "      <th>year</th>\n",
       "      <th>drive</th>\n",
       "      <th>predictions</th>\n",
       "    </tr>\n",
       "  </thead>\n",
       "  <tbody>\n",
       "    <tr>\n",
       "      <th>8221</th>\n",
       "      <td>77</td>\n",
       "      <td>2</td>\n",
       "      <td>52</td>\n",
       "      <td>2.0</td>\n",
       "      <td>3</td>\n",
       "      <td>1</td>\n",
       "      <td>2012</td>\n",
       "      <td>0</td>\n",
       "      <td>25500.0</td>\n",
       "    </tr>\n",
       "    <tr>\n",
       "      <th>4552</th>\n",
       "      <td>49</td>\n",
       "      <td>3</td>\n",
       "      <td>178</td>\n",
       "      <td>2.0</td>\n",
       "      <td>3</td>\n",
       "      <td>1</td>\n",
       "      <td>2005</td>\n",
       "      <td>0</td>\n",
       "      <td>9300.0</td>\n",
       "    </tr>\n",
       "    <tr>\n",
       "      <th>1535</th>\n",
       "      <td>80</td>\n",
       "      <td>1</td>\n",
       "      <td>1</td>\n",
       "      <td>1.5</td>\n",
       "      <td>3</td>\n",
       "      <td>1</td>\n",
       "      <td>2015</td>\n",
       "      <td>0</td>\n",
       "      <td>6500.0</td>\n",
       "    </tr>\n",
       "    <tr>\n",
       "      <th>4228</th>\n",
       "      <td>39</td>\n",
       "      <td>3</td>\n",
       "      <td>150</td>\n",
       "      <td>2.0</td>\n",
       "      <td>1</td>\n",
       "      <td>1</td>\n",
       "      <td>2008</td>\n",
       "      <td>0</td>\n",
       "      <td>8100.0</td>\n",
       "    </tr>\n",
       "    <tr>\n",
       "      <th>5623</th>\n",
       "      <td>50</td>\n",
       "      <td>2</td>\n",
       "      <td>269</td>\n",
       "      <td>2.2</td>\n",
       "      <td>0</td>\n",
       "      <td>1</td>\n",
       "      <td>2006</td>\n",
       "      <td>2</td>\n",
       "      <td>10999.0</td>\n",
       "    </tr>\n",
       "  </tbody>\n",
       "</table>\n",
       "</div>"
      ],
      "text/plain": [
       "      make  body  mileage  engV  engType  registration  year  drive  \\\n",
       "8221    77     2       52   2.0        3             1  2012      0   \n",
       "4552    49     3      178   2.0        3             1  2005      0   \n",
       "1535    80     1        1   1.5        3             1  2015      0   \n",
       "4228    39     3      150   2.0        1             1  2008      0   \n",
       "5623    50     2      269   2.2        0             1  2006      2   \n",
       "\n",
       "      predictions  \n",
       "8221      25500.0  \n",
       "4552       9300.0  \n",
       "1535       6500.0  \n",
       "4228       8100.0  \n",
       "5623      10999.0  "
      ]
     },
     "execution_count": 11,
     "metadata": {},
     "output_type": "execute_result"
    }
   ],
   "source": [
    "df_with_values_and_predictions.head()"
   ]
  },
  {
   "cell_type": "markdown",
   "metadata": {
    "colab_type": "text",
    "id": "ZwQb3gE7VycT"
   },
   "source": [
    "## 1.6 Calculate and report both the Root-Mean-Square error and $R^2$ for the model. "
   ]
  },
  {
   "cell_type": "code",
   "execution_count": 12,
   "metadata": {
    "colab": {},
    "colab_type": "code",
    "id": "Ym2kjxWhU6b2"
   },
   "outputs": [
    {
     "name": "stdout",
     "output_type": "stream",
     "text": [
      "MSE is 413691259.3055986\n",
      "RMSE is 20339.40164571216\n",
      "R^2 is 0.30955115131587385\n"
     ]
    }
   ],
   "source": [
    "# I already did this at the top of 1.5, but here are the answers again:\n",
    "\n",
    "print('MSE is {}'.format(MSE))\n",
    "print('RMSE is {}'.format(RMSE))\n",
    "print('R^2 is {}'.format(R2))"
   ]
  },
  {
   "cell_type": "markdown",
   "metadata": {
    "colab_type": "text",
    "id": "kIXhGHIgXHyJ"
   },
   "source": [
    "## 1.7 How should we interpret the coefficient corresponding to the \"year\" feature?"
   ]
  },
  {
   "cell_type": "markdown",
   "metadata": {
    "colab_type": "text",
    "id": "8jv2n0wAXgHU"
   },
   "source": [
    " So for instance, the coefficient for \"year\" is 1137.43759076, so as year number goes up by 1 (indicating the car being one year newer), the predicted value of the car should go up by 1137.43759076 according to the regression line\n"
   ]
  },
  {
   "cell_type": "markdown",
   "metadata": {
    "colab_type": "text",
    "id": "ckQ5GsOtYsjn"
   },
   "source": [
    "## 1.8 How should we interpret the Root-Mean-Square Error?"
   ]
  },
  {
   "cell_type": "markdown",
   "metadata": {
    "colab_type": "text",
    "id": "F982IeSgYyp6"
   },
   "source": [
    "The root mean squared error is pretty high which indicates a variance of residuals from the correct value \n",
    "in the same units (dollars) as the y array\n",
    "\n",
    "It is the square root of the average of the squared distances from the predictions and observations\n",
    "\n",
    "So the average of all of the squared distances of the actual y values from the predicted y values is 413691259\n",
    "and if you square root that to get an idea of this average deviation in dollars, it is 20,339\n",
    "\n",
    "\n",
    "*The only reason the MSE is squared in the first place is to account for overestimating AND underestimating the \n",
    "true value, so it is basically just to take care of negatives. "
   ]
  },
  {
   "cell_type": "markdown",
   "metadata": {
    "colab_type": "text",
    "id": "T3sZrru_YzFF"
   },
   "source": [
    "## 1.9 How should we interpret the $R^2$?"
   ]
  },
  {
   "cell_type": "markdown",
   "metadata": {
    "colab_type": "text",
    "id": "5pN2Oet_Y5jR"
   },
   "source": [
    "R^2 is just a general relative fit of the fitted regression line to the response data. Our measure of 0.309\n",
    "indicates only 31% or so of the variability of the response data is explained by the included factors in our \n",
    "regression line. It is definitely a more intuitive measure as it only ranges from 0 (no variability explained) \n",
    "to 1 (perfect predictor of all variability)."
   ]
  },
  {
   "cell_type": "markdown",
   "metadata": {
    "colab_type": "text",
    "id": "Z_VNy7e3Y5sT"
   },
   "source": [
    "# Log-Linear and Polynomial Regression"
   ]
  },
  {
   "cell_type": "markdown",
   "metadata": {
    "colab_type": "text",
    "id": "G2T4FSqRZOJA"
   },
   "source": [
    "## 2.1 Engineer a new variable by taking the log of the price varible."
   ]
  },
  {
   "cell_type": "code",
   "execution_count": 13,
   "metadata": {
    "colab": {},
    "colab_type": "code",
    "id": "7EChAFNxZX24"
   },
   "outputs": [],
   "source": [
    "df['ln_price'] = np.log(df['price'])"
   ]
  },
  {
   "cell_type": "code",
   "execution_count": 14,
   "metadata": {},
   "outputs": [
    {
     "data": {
      "text/html": [
       "<div>\n",
       "<style scoped>\n",
       "    .dataframe tbody tr th:only-of-type {\n",
       "        vertical-align: middle;\n",
       "    }\n",
       "\n",
       "    .dataframe tbody tr th {\n",
       "        vertical-align: top;\n",
       "    }\n",
       "\n",
       "    .dataframe thead th {\n",
       "        text-align: right;\n",
       "    }\n",
       "</style>\n",
       "<table border=\"1\" class=\"dataframe\">\n",
       "  <thead>\n",
       "    <tr style=\"text-align: right;\">\n",
       "      <th></th>\n",
       "      <th>make</th>\n",
       "      <th>price</th>\n",
       "      <th>body</th>\n",
       "      <th>mileage</th>\n",
       "      <th>engV</th>\n",
       "      <th>engType</th>\n",
       "      <th>registration</th>\n",
       "      <th>year</th>\n",
       "      <th>drive</th>\n",
       "      <th>ln_price</th>\n",
       "    </tr>\n",
       "  </thead>\n",
       "  <tbody>\n",
       "    <tr>\n",
       "      <th>0</th>\n",
       "      <td>23</td>\n",
       "      <td>15500.0</td>\n",
       "      <td>0</td>\n",
       "      <td>68</td>\n",
       "      <td>2.5</td>\n",
       "      <td>1</td>\n",
       "      <td>1</td>\n",
       "      <td>2010</td>\n",
       "      <td>1</td>\n",
       "      <td>9.648595</td>\n",
       "    </tr>\n",
       "    <tr>\n",
       "      <th>1</th>\n",
       "      <td>50</td>\n",
       "      <td>20500.0</td>\n",
       "      <td>3</td>\n",
       "      <td>173</td>\n",
       "      <td>1.8</td>\n",
       "      <td>1</td>\n",
       "      <td>1</td>\n",
       "      <td>2011</td>\n",
       "      <td>2</td>\n",
       "      <td>9.928180</td>\n",
       "    </tr>\n",
       "    <tr>\n",
       "      <th>2</th>\n",
       "      <td>50</td>\n",
       "      <td>35000.0</td>\n",
       "      <td>2</td>\n",
       "      <td>135</td>\n",
       "      <td>5.5</td>\n",
       "      <td>3</td>\n",
       "      <td>1</td>\n",
       "      <td>2008</td>\n",
       "      <td>2</td>\n",
       "      <td>10.463103</td>\n",
       "    </tr>\n",
       "    <tr>\n",
       "      <th>3</th>\n",
       "      <td>50</td>\n",
       "      <td>17800.0</td>\n",
       "      <td>5</td>\n",
       "      <td>162</td>\n",
       "      <td>1.8</td>\n",
       "      <td>0</td>\n",
       "      <td>1</td>\n",
       "      <td>2012</td>\n",
       "      <td>0</td>\n",
       "      <td>9.786954</td>\n",
       "    </tr>\n",
       "    <tr>\n",
       "      <th>4</th>\n",
       "      <td>55</td>\n",
       "      <td>16600.0</td>\n",
       "      <td>0</td>\n",
       "      <td>83</td>\n",
       "      <td>2.0</td>\n",
       "      <td>3</td>\n",
       "      <td>1</td>\n",
       "      <td>2013</td>\n",
       "      <td>1</td>\n",
       "      <td>9.717158</td>\n",
       "    </tr>\n",
       "  </tbody>\n",
       "</table>\n",
       "</div>"
      ],
      "text/plain": [
       "   make    price  body  mileage  engV  engType  registration  year  drive  \\\n",
       "0    23  15500.0     0       68   2.5        1             1  2010      1   \n",
       "1    50  20500.0     3      173   1.8        1             1  2011      2   \n",
       "2    50  35000.0     2      135   5.5        3             1  2008      2   \n",
       "3    50  17800.0     5      162   1.8        0             1  2012      0   \n",
       "4    55  16600.0     0       83   2.0        3             1  2013      1   \n",
       "\n",
       "    ln_price  \n",
       "0   9.648595  \n",
       "1   9.928180  \n",
       "2  10.463103  \n",
       "3   9.786954  \n",
       "4   9.717158  "
      ]
     },
     "execution_count": 14,
     "metadata": {},
     "output_type": "execute_result"
    }
   ],
   "source": [
    "df.head()\n",
    "\n",
    "# The log normal price should help reduce the skew of the data caused by outliers"
   ]
  },
  {
   "cell_type": "markdown",
   "metadata": {
    "colab_type": "text",
    "id": "R117rxnOZw6q"
   },
   "source": [
    "## 2.2 Use scatterplots or seaborn's pairplot function to do the \"eyeball test\" for non-linearly distributed features."
   ]
  },
  {
   "cell_type": "code",
   "execution_count": 19,
   "metadata": {
    "colab": {},
    "colab_type": "code",
    "id": "8l56Qk7VaBrU"
   },
   "outputs": [
    {
     "name": "stdout",
     "output_type": "stream",
     "text": [
      "Shapes of X_2 and y_2, respectively:\n",
      "(8495, 8) (8495,)\n",
      "\n",
      "\n"
     ]
    }
   ],
   "source": [
    "y_2 = df['ln_price'].values\n",
    "X_2_cols = df.columns.drop('price', 'ln_price')\n",
    "#X_2_cols = X_2_cols.drop('ln_price')\n",
    "X_2 = df.drop('price', axis=1)\n",
    "X_2 = X_2.drop('ln_price', axis=1)\n",
    "print ('Shapes of X_2 and y_2, respectively:')\n",
    "print (X_2.shape, y_2.shape)\n",
    "print ('\\n')"
   ]
  },
  {
   "cell_type": "code",
   "execution_count": 20,
   "metadata": {},
   "outputs": [],
   "source": [
    "sns.set(style=\"ticks\", color_codes=True)\n",
    "fifth_df = df.sample(frac=0.05, replace=True)\n"
   ]
  },
  {
   "cell_type": "code",
   "execution_count": 22,
   "metadata": {
    "scrolled": true
   },
   "outputs": [
    {
     "data": {
      "image/png": "[encoded data removed]",
      "text/plain": [
       "<Figure size 1620x180 with 9 Axes>"
      ]
     },
     "metadata": {},
     "output_type": "display_data"
    }
   ],
   "source": [
    "sns.pairplot(data=fifth_df, y_vars=['ln_price'], x_vars=X_2_cols)\n",
    "plt.show();"
   ]
  },
  {
   "cell_type": "code",
   "execution_count": 35,
   "metadata": {
    "scrolled": true
   },
   "outputs": [
    {
     "data": {
      "text/plain": [
       "<matplotlib.axes._subplots.AxesSubplot at 0x1c486da390>"
      ]
     },
     "execution_count": 35,
     "metadata": {},
     "output_type": "execute_result"
    },
    {
     "data": {
      "image/png": "[encoded data removed]",
      "text/plain": [
       "<Figure size 432x288 with 1 Axes>"
      ]
     },
     "metadata": {},
     "output_type": "display_data"
    }
   ],
   "source": [
    "sns.scatterplot(x=fifth_df['year'], y=fifth_df['ln_price'])"
   ]
  },
  {
   "cell_type": "code",
   "execution_count": 49,
   "metadata": {
    "scrolled": false
   },
   "outputs": [
    {
     "data": {
      "text/plain": [
       "<matplotlib.axes._subplots.AxesSubplot at 0x1c490a3278>"
      ]
     },
     "execution_count": 49,
     "metadata": {},
     "output_type": "execute_result"
    },
    {
     "data": {
      "image/png": "[encoded data removed]",
      "text/plain": [
       "<Figure size 432x288 with 2 Axes>"
      ]
     },
     "metadata": {},
     "output_type": "display_data"
    }
   ],
   "source": [
    "test_df = fifth_df\n",
    "test_df['squared_mileage'] = test_df['mileage']**2\n",
    "sns.set(style=\"whitegrid\")\n",
    "fig, axs = plt.subplots(ncols=2)\n",
    "y_test = test_df['ln_price']\n",
    "sns.residplot(test_df['mileage'], y_test, lowess=True, color=\"r\", ax=axs[0], scatter_kws={'color':'blue'})\n",
    "sns.residplot(test_df['squared_mileage'], y_test, lowess=True, color=\"r\", ax=axs[1], scatter_kws={'color':'blue'})\n",
    "\n",
    "# Not really what I would call improvement"
   ]
  },
  {
   "cell_type": "code",
   "execution_count": 50,
   "metadata": {},
   "outputs": [
    {
     "data": {
      "text/plain": [
       "<matplotlib.axes._subplots.AxesSubplot at 0x1c3e924f60>"
      ]
     },
     "execution_count": 50,
     "metadata": {},
     "output_type": "execute_result"
    },
    {
     "data": {
      "image/png": "[encoded data removed]",
      "text/plain": [
       "<Figure size 432x288 with 2 Axes>"
      ]
     },
     "metadata": {},
     "output_type": "display_data"
    }
   ],
   "source": [
    "test_df['squared_year'] = test_df['year']**2\n",
    "sns.set(style=\"whitegrid\")\n",
    "fig, axs = plt.subplots(ncols=2)\n",
    "sns.residplot(test_df['year'], y_test, lowess=True, color=\"r\", ax=axs[0], scatter_kws={'color':'blue'})\n",
    "sns.residplot(test_df['squared_year'], y_test, lowess=True, color=\"r\", ax=axs[1], scatter_kws={'color':'blue'})\n",
    "\n",
    "# Yep. Still not incredibly improved."
   ]
  },
  {
   "cell_type": "markdown",
   "metadata": {
    "colab_type": "text",
    "id": "QTf4gCaDaiCw"
   },
   "source": [
    "## 2.3 If appropriate, create any polynomial features. "
   ]
  },
  {
   "cell_type": "markdown",
   "metadata": {
    "colab": {},
    "colab_type": "code",
    "id": "ipsCcH83ZMe8"
   },
   "source": [
    "Based on the scatter plots I have run and the pairplots, I just can't justify the creation of any polynomial\n",
    "features based on the presence of non-linear data. Most of this data seems fairly linear or even categorical in nature. There are no incredibly visible relationships that seem to be curved or have much of an inflection point.\n",
    "\n",
    "Mileage and year are pretty linear, but the other features are really more categorical in nature even though they \n",
    "are represented in the dataset as numbers."
   ]
  },
  {
   "cell_type": "markdown",
   "metadata": {
    "colab_type": "text",
    "id": "NJgfD-JLayRA"
   },
   "source": [
    "## 2.4 Use the new log-transformed y variable and your x variables (including any new polynomial features) to fit a new linear regression model. Then report the: intercept, coefficients, RMSE, and $R^2$."
   ]
  },
  {
   "cell_type": "code",
   "execution_count": 38,
   "metadata": {
    "colab": {},
    "colab_type": "code",
    "id": "uXmtVpnPcFij",
    "scrolled": true
   },
   "outputs": [
    {
     "name": "stdout",
     "output_type": "stream",
     "text": [
      "Shapes of X2_train and X2_test, respectively:\n",
      "(5946, 8) (2549, 8)\n",
      "\n",
      "\n",
      "Shapes of y2_train and y2_test, respectively:\n",
      "(5946,) (2549,)\n",
      "\n",
      " Intercept:  -182.53335958514432\n",
      "Coefficient: \n",
      " [-1.28287458e-03 -8.93561128e-02 -8.07709371e-06  8.52168139e-03\n",
      " -5.87473606e-02  7.41638634e-01  9.52550751e-02  3.95277750e-01]\n",
      "\n",
      "\n",
      "MSE is 0.330313808251887\n",
      "RMSE is 0.5747293347758464\n",
      "R^2 is 0.6487462162659794\n"
     ]
    },
    {
     "name": "stderr",
     "output_type": "stream",
     "text": [
      "/anaconda2/envs/py3k/lib/python3.7/site-packages/ipykernel_launcher.py:31: SettingWithCopyWarning: \n",
      "A value is trying to be set on a copy of a slice from a DataFrame.\n",
      "Try using .loc[row_indexer,col_indexer] = value instead\n",
      "\n",
      "See the caveats in the documentation: http://pandas.pydata.org/pandas-docs/stable/indexing.html#indexing-view-versus-copy\n"
     ]
    }
   ],
   "source": [
    "\n",
    "\n",
    "X2_train, X2_test, y2_train, y2_test = train_test_split(X_2, y_2, test_size=.3, random_state=42)\n",
    "print ('Shapes of X2_train and X2_test, respectively:')\n",
    "print (X2_train.shape, X2_test.shape)\n",
    "print ('\\n')\n",
    "print ('Shapes of y2_train and y2_test, respectively:')\n",
    "print (y2_train.shape, y2_test.shape)\n",
    "\n",
    "model = LinearRegression()\n",
    "model.fit(X2_train, y2_train)\n",
    "\n",
    "print(\"\\n Intercept: \", model.intercept_)\n",
    "print(\"Coefficient: \\n\", model.coef_)\n",
    "print ('\\n')\n",
    "y2_test_predict = model.predict(X2_test)\n",
    "\n",
    "MSE = mean_squared_error(y2_test, y2_test_predict)\n",
    "\n",
    "RMSE = (np.sqrt(mean_squared_error(y2_test, y2_test_predict)))\n",
    "\n",
    "print('MSE is {}'.format(MSE))\n",
    "print('RMSE is {}'.format(RMSE))\n",
    "\n",
    "R2 = r2_score(y2_test, y2_test_predict)\n",
    "\n",
    "print('R^2 is {}'.format(R2))\n",
    "\n",
    "\n",
    "df2_with_values_and_predictions = X2_test\n",
    "df2_with_values_and_predictions['predictions'] = y2_test"
   ]
  },
  {
   "cell_type": "code",
   "execution_count": 39,
   "metadata": {},
   "outputs": [
    {
     "data": {
      "text/html": [
       "<div>\n",
       "<style scoped>\n",
       "    .dataframe tbody tr th:only-of-type {\n",
       "        vertical-align: middle;\n",
       "    }\n",
       "\n",
       "    .dataframe tbody tr th {\n",
       "        vertical-align: top;\n",
       "    }\n",
       "\n",
       "    .dataframe thead th {\n",
       "        text-align: right;\n",
       "    }\n",
       "</style>\n",
       "<table border=\"1\" class=\"dataframe\">\n",
       "  <thead>\n",
       "    <tr style=\"text-align: right;\">\n",
       "      <th></th>\n",
       "      <th>make</th>\n",
       "      <th>body</th>\n",
       "      <th>mileage</th>\n",
       "      <th>engV</th>\n",
       "      <th>engType</th>\n",
       "      <th>registration</th>\n",
       "      <th>year</th>\n",
       "      <th>drive</th>\n",
       "      <th>predictions</th>\n",
       "    </tr>\n",
       "  </thead>\n",
       "  <tbody>\n",
       "    <tr>\n",
       "      <th>8221</th>\n",
       "      <td>77</td>\n",
       "      <td>2</td>\n",
       "      <td>52</td>\n",
       "      <td>2.00</td>\n",
       "      <td>3</td>\n",
       "      <td>1</td>\n",
       "      <td>2012</td>\n",
       "      <td>0</td>\n",
       "      <td>10.146434</td>\n",
       "    </tr>\n",
       "    <tr>\n",
       "      <th>4552</th>\n",
       "      <td>49</td>\n",
       "      <td>3</td>\n",
       "      <td>178</td>\n",
       "      <td>2.00</td>\n",
       "      <td>3</td>\n",
       "      <td>1</td>\n",
       "      <td>2005</td>\n",
       "      <td>0</td>\n",
       "      <td>9.137770</td>\n",
       "    </tr>\n",
       "    <tr>\n",
       "      <th>1535</th>\n",
       "      <td>80</td>\n",
       "      <td>1</td>\n",
       "      <td>1</td>\n",
       "      <td>1.50</td>\n",
       "      <td>3</td>\n",
       "      <td>1</td>\n",
       "      <td>2015</td>\n",
       "      <td>0</td>\n",
       "      <td>8.779557</td>\n",
       "    </tr>\n",
       "    <tr>\n",
       "      <th>4228</th>\n",
       "      <td>39</td>\n",
       "      <td>3</td>\n",
       "      <td>150</td>\n",
       "      <td>2.00</td>\n",
       "      <td>1</td>\n",
       "      <td>1</td>\n",
       "      <td>2008</td>\n",
       "      <td>0</td>\n",
       "      <td>8.999619</td>\n",
       "    </tr>\n",
       "    <tr>\n",
       "      <th>5623</th>\n",
       "      <td>50</td>\n",
       "      <td>2</td>\n",
       "      <td>269</td>\n",
       "      <td>2.20</td>\n",
       "      <td>0</td>\n",
       "      <td>1</td>\n",
       "      <td>2006</td>\n",
       "      <td>2</td>\n",
       "      <td>9.305560</td>\n",
       "    </tr>\n",
       "    <tr>\n",
       "      <th>4584</th>\n",
       "      <td>77</td>\n",
       "      <td>3</td>\n",
       "      <td>350</td>\n",
       "      <td>2.00</td>\n",
       "      <td>1</td>\n",
       "      <td>1</td>\n",
       "      <td>2000</td>\n",
       "      <td>0</td>\n",
       "      <td>8.496990</td>\n",
       "    </tr>\n",
       "    <tr>\n",
       "      <th>3792</th>\n",
       "      <td>1</td>\n",
       "      <td>1</td>\n",
       "      <td>60</td>\n",
       "      <td>1.40</td>\n",
       "      <td>3</td>\n",
       "      <td>1</td>\n",
       "      <td>2012</td>\n",
       "      <td>0</td>\n",
       "      <td>9.680281</td>\n",
       "    </tr>\n",
       "    <tr>\n",
       "      <th>7320</th>\n",
       "      <td>44</td>\n",
       "      <td>3</td>\n",
       "      <td>34</td>\n",
       "      <td>1.60</td>\n",
       "      <td>3</td>\n",
       "      <td>1</td>\n",
       "      <td>2009</td>\n",
       "      <td>0</td>\n",
       "      <td>8.202482</td>\n",
       "    </tr>\n",
       "    <tr>\n",
       "      <th>5254</th>\n",
       "      <td>33</td>\n",
       "      <td>1</td>\n",
       "      <td>86</td>\n",
       "      <td>1.40</td>\n",
       "      <td>1</td>\n",
       "      <td>1</td>\n",
       "      <td>2007</td>\n",
       "      <td>0</td>\n",
       "      <td>8.824678</td>\n",
       "    </tr>\n",
       "    <tr>\n",
       "      <th>3661</th>\n",
       "      <td>12</td>\n",
       "      <td>1</td>\n",
       "      <td>133</td>\n",
       "      <td>1.50</td>\n",
       "      <td>3</td>\n",
       "      <td>1</td>\n",
       "      <td>2005</td>\n",
       "      <td>0</td>\n",
       "      <td>8.455318</td>\n",
       "    </tr>\n",
       "    <tr>\n",
       "      <th>1665</th>\n",
       "      <td>12</td>\n",
       "      <td>3</td>\n",
       "      <td>83</td>\n",
       "      <td>1.80</td>\n",
       "      <td>1</td>\n",
       "      <td>1</td>\n",
       "      <td>2011</td>\n",
       "      <td>0</td>\n",
       "      <td>9.210340</td>\n",
       "    </tr>\n",
       "    <tr>\n",
       "      <th>730</th>\n",
       "      <td>74</td>\n",
       "      <td>3</td>\n",
       "      <td>131</td>\n",
       "      <td>1.60</td>\n",
       "      <td>1</td>\n",
       "      <td>1</td>\n",
       "      <td>2007</td>\n",
       "      <td>0</td>\n",
       "      <td>9.071078</td>\n",
       "    </tr>\n",
       "    <tr>\n",
       "      <th>7603</th>\n",
       "      <td>22</td>\n",
       "      <td>4</td>\n",
       "      <td>200</td>\n",
       "      <td>1.90</td>\n",
       "      <td>0</td>\n",
       "      <td>1</td>\n",
       "      <td>2007</td>\n",
       "      <td>0</td>\n",
       "      <td>8.922658</td>\n",
       "    </tr>\n",
       "    <tr>\n",
       "      <th>7309</th>\n",
       "      <td>23</td>\n",
       "      <td>2</td>\n",
       "      <td>254</td>\n",
       "      <td>2.20</td>\n",
       "      <td>0</td>\n",
       "      <td>1</td>\n",
       "      <td>2011</td>\n",
       "      <td>0</td>\n",
       "      <td>8.987072</td>\n",
       "    </tr>\n",
       "    <tr>\n",
       "      <th>3898</th>\n",
       "      <td>33</td>\n",
       "      <td>1</td>\n",
       "      <td>150</td>\n",
       "      <td>1.25</td>\n",
       "      <td>3</td>\n",
       "      <td>1</td>\n",
       "      <td>2011</td>\n",
       "      <td>0</td>\n",
       "      <td>8.922658</td>\n",
       "    </tr>\n",
       "    <tr>\n",
       "      <th>7457</th>\n",
       "      <td>57</td>\n",
       "      <td>4</td>\n",
       "      <td>1</td>\n",
       "      <td>1.20</td>\n",
       "      <td>3</td>\n",
       "      <td>1</td>\n",
       "      <td>2016</td>\n",
       "      <td>0</td>\n",
       "      <td>9.698920</td>\n",
       "    </tr>\n",
       "    <tr>\n",
       "      <th>6934</th>\n",
       "      <td>75</td>\n",
       "      <td>0</td>\n",
       "      <td>155</td>\n",
       "      <td>2.70</td>\n",
       "      <td>1</td>\n",
       "      <td>1</td>\n",
       "      <td>2007</td>\n",
       "      <td>1</td>\n",
       "      <td>8.696176</td>\n",
       "    </tr>\n",
       "    <tr>\n",
       "      <th>4162</th>\n",
       "      <td>55</td>\n",
       "      <td>1</td>\n",
       "      <td>41</td>\n",
       "      <td>1.20</td>\n",
       "      <td>3</td>\n",
       "      <td>1</td>\n",
       "      <td>2013</td>\n",
       "      <td>0</td>\n",
       "      <td>9.259131</td>\n",
       "    </tr>\n",
       "    <tr>\n",
       "      <th>6602</th>\n",
       "      <td>70</td>\n",
       "      <td>0</td>\n",
       "      <td>1</td>\n",
       "      <td>2.00</td>\n",
       "      <td>0</td>\n",
       "      <td>1</td>\n",
       "      <td>2016</td>\n",
       "      <td>1</td>\n",
       "      <td>10.568750</td>\n",
       "    </tr>\n",
       "    <tr>\n",
       "      <th>3593</th>\n",
       "      <td>56</td>\n",
       "      <td>1</td>\n",
       "      <td>190</td>\n",
       "      <td>1.60</td>\n",
       "      <td>1</td>\n",
       "      <td>1</td>\n",
       "      <td>2005</td>\n",
       "      <td>0</td>\n",
       "      <td>8.846497</td>\n",
       "    </tr>\n",
       "    <tr>\n",
       "      <th>7237</th>\n",
       "      <td>55</td>\n",
       "      <td>5</td>\n",
       "      <td>93</td>\n",
       "      <td>2.00</td>\n",
       "      <td>0</td>\n",
       "      <td>1</td>\n",
       "      <td>2013</td>\n",
       "      <td>0</td>\n",
       "      <td>9.116030</td>\n",
       "    </tr>\n",
       "    <tr>\n",
       "      <th>5214</th>\n",
       "      <td>74</td>\n",
       "      <td>0</td>\n",
       "      <td>115</td>\n",
       "      <td>4.00</td>\n",
       "      <td>1</td>\n",
       "      <td>1</td>\n",
       "      <td>2008</td>\n",
       "      <td>1</td>\n",
       "      <td>10.199882</td>\n",
       "    </tr>\n",
       "    <tr>\n",
       "      <th>6646</th>\n",
       "      <td>50</td>\n",
       "      <td>3</td>\n",
       "      <td>222</td>\n",
       "      <td>5.50</td>\n",
       "      <td>3</td>\n",
       "      <td>1</td>\n",
       "      <td>2006</td>\n",
       "      <td>2</td>\n",
       "      <td>9.928180</td>\n",
       "    </tr>\n",
       "    <tr>\n",
       "      <th>2420</th>\n",
       "      <td>57</td>\n",
       "      <td>2</td>\n",
       "      <td>17</td>\n",
       "      <td>1.60</td>\n",
       "      <td>3</td>\n",
       "      <td>1</td>\n",
       "      <td>2011</td>\n",
       "      <td>0</td>\n",
       "      <td>9.994242</td>\n",
       "    </tr>\n",
       "    <tr>\n",
       "      <th>1427</th>\n",
       "      <td>55</td>\n",
       "      <td>3</td>\n",
       "      <td>170</td>\n",
       "      <td>1.80</td>\n",
       "      <td>1</td>\n",
       "      <td>1</td>\n",
       "      <td>2005</td>\n",
       "      <td>0</td>\n",
       "      <td>8.732305</td>\n",
       "    </tr>\n",
       "    <tr>\n",
       "      <th>7380</th>\n",
       "      <td>67</td>\n",
       "      <td>1</td>\n",
       "      <td>66</td>\n",
       "      <td>1.40</td>\n",
       "      <td>3</td>\n",
       "      <td>1</td>\n",
       "      <td>2013</td>\n",
       "      <td>0</td>\n",
       "      <td>9.047821</td>\n",
       "    </tr>\n",
       "    <tr>\n",
       "      <th>4098</th>\n",
       "      <td>4</td>\n",
       "      <td>3</td>\n",
       "      <td>150</td>\n",
       "      <td>1.80</td>\n",
       "      <td>3</td>\n",
       "      <td>1</td>\n",
       "      <td>1985</td>\n",
       "      <td>1</td>\n",
       "      <td>7.524291</td>\n",
       "    </tr>\n",
       "    <tr>\n",
       "      <th>932</th>\n",
       "      <td>4</td>\n",
       "      <td>0</td>\n",
       "      <td>75</td>\n",
       "      <td>3.00</td>\n",
       "      <td>0</td>\n",
       "      <td>1</td>\n",
       "      <td>2013</td>\n",
       "      <td>1</td>\n",
       "      <td>10.661954</td>\n",
       "    </tr>\n",
       "    <tr>\n",
       "      <th>3605</th>\n",
       "      <td>52</td>\n",
       "      <td>0</td>\n",
       "      <td>147</td>\n",
       "      <td>2.50</td>\n",
       "      <td>0</td>\n",
       "      <td>1</td>\n",
       "      <td>2008</td>\n",
       "      <td>1</td>\n",
       "      <td>9.680344</td>\n",
       "    </tr>\n",
       "    <tr>\n",
       "      <th>5527</th>\n",
       "      <td>30</td>\n",
       "      <td>3</td>\n",
       "      <td>177</td>\n",
       "      <td>2.40</td>\n",
       "      <td>3</td>\n",
       "      <td>1</td>\n",
       "      <td>2007</td>\n",
       "      <td>0</td>\n",
       "      <td>9.259131</td>\n",
       "    </tr>\n",
       "    <tr>\n",
       "      <th>...</th>\n",
       "      <td>...</td>\n",
       "      <td>...</td>\n",
       "      <td>...</td>\n",
       "      <td>...</td>\n",
       "      <td>...</td>\n",
       "      <td>...</td>\n",
       "      <td>...</td>\n",
       "      <td>...</td>\n",
       "      <td>...</td>\n",
       "    </tr>\n",
       "    <tr>\n",
       "      <th>4368</th>\n",
       "      <td>59</td>\n",
       "      <td>4</td>\n",
       "      <td>280</td>\n",
       "      <td>1.50</td>\n",
       "      <td>0</td>\n",
       "      <td>1</td>\n",
       "      <td>2005</td>\n",
       "      <td>0</td>\n",
       "      <td>8.853665</td>\n",
       "    </tr>\n",
       "    <tr>\n",
       "      <th>297</th>\n",
       "      <td>55</td>\n",
       "      <td>0</td>\n",
       "      <td>46</td>\n",
       "      <td>1.60</td>\n",
       "      <td>3</td>\n",
       "      <td>1</td>\n",
       "      <td>2013</td>\n",
       "      <td>0</td>\n",
       "      <td>9.615805</td>\n",
       "    </tr>\n",
       "    <tr>\n",
       "      <th>443</th>\n",
       "      <td>50</td>\n",
       "      <td>5</td>\n",
       "      <td>190</td>\n",
       "      <td>2.20</td>\n",
       "      <td>0</td>\n",
       "      <td>1</td>\n",
       "      <td>2009</td>\n",
       "      <td>2</td>\n",
       "      <td>9.517825</td>\n",
       "    </tr>\n",
       "    <tr>\n",
       "      <th>777</th>\n",
       "      <td>52</td>\n",
       "      <td>0</td>\n",
       "      <td>120</td>\n",
       "      <td>3.00</td>\n",
       "      <td>3</td>\n",
       "      <td>1</td>\n",
       "      <td>2008</td>\n",
       "      <td>1</td>\n",
       "      <td>9.375855</td>\n",
       "    </tr>\n",
       "    <tr>\n",
       "      <th>1119</th>\n",
       "      <td>74</td>\n",
       "      <td>0</td>\n",
       "      <td>89</td>\n",
       "      <td>2.00</td>\n",
       "      <td>3</td>\n",
       "      <td>1</td>\n",
       "      <td>2012</td>\n",
       "      <td>1</td>\n",
       "      <td>9.975808</td>\n",
       "    </tr>\n",
       "    <tr>\n",
       "      <th>7177</th>\n",
       "      <td>5</td>\n",
       "      <td>2</td>\n",
       "      <td>138</td>\n",
       "      <td>4.80</td>\n",
       "      <td>3</td>\n",
       "      <td>1</td>\n",
       "      <td>2007</td>\n",
       "      <td>2</td>\n",
       "      <td>9.998798</td>\n",
       "    </tr>\n",
       "    <tr>\n",
       "      <th>7314</th>\n",
       "      <td>76</td>\n",
       "      <td>0</td>\n",
       "      <td>89</td>\n",
       "      <td>1.70</td>\n",
       "      <td>3</td>\n",
       "      <td>1</td>\n",
       "      <td>2009</td>\n",
       "      <td>1</td>\n",
       "      <td>8.732305</td>\n",
       "    </tr>\n",
       "    <tr>\n",
       "      <th>1921</th>\n",
       "      <td>33</td>\n",
       "      <td>3</td>\n",
       "      <td>19</td>\n",
       "      <td>1.40</td>\n",
       "      <td>3</td>\n",
       "      <td>1</td>\n",
       "      <td>2011</td>\n",
       "      <td>0</td>\n",
       "      <td>9.210340</td>\n",
       "    </tr>\n",
       "    <tr>\n",
       "      <th>655</th>\n",
       "      <td>33</td>\n",
       "      <td>0</td>\n",
       "      <td>55</td>\n",
       "      <td>2.00</td>\n",
       "      <td>0</td>\n",
       "      <td>1</td>\n",
       "      <td>2012</td>\n",
       "      <td>1</td>\n",
       "      <td>9.918376</td>\n",
       "    </tr>\n",
       "    <tr>\n",
       "      <th>2229</th>\n",
       "      <td>76</td>\n",
       "      <td>1</td>\n",
       "      <td>50</td>\n",
       "      <td>1.50</td>\n",
       "      <td>3</td>\n",
       "      <td>1</td>\n",
       "      <td>1992</td>\n",
       "      <td>0</td>\n",
       "      <td>7.522941</td>\n",
       "    </tr>\n",
       "    <tr>\n",
       "      <th>6292</th>\n",
       "      <td>23</td>\n",
       "      <td>1</td>\n",
       "      <td>67</td>\n",
       "      <td>1.00</td>\n",
       "      <td>3</td>\n",
       "      <td>1</td>\n",
       "      <td>2013</td>\n",
       "      <td>0</td>\n",
       "      <td>9.323669</td>\n",
       "    </tr>\n",
       "    <tr>\n",
       "      <th>6061</th>\n",
       "      <td>59</td>\n",
       "      <td>2</td>\n",
       "      <td>173</td>\n",
       "      <td>2.30</td>\n",
       "      <td>0</td>\n",
       "      <td>1</td>\n",
       "      <td>2013</td>\n",
       "      <td>0</td>\n",
       "      <td>9.629051</td>\n",
       "    </tr>\n",
       "    <tr>\n",
       "      <th>3128</th>\n",
       "      <td>47</td>\n",
       "      <td>1</td>\n",
       "      <td>114</td>\n",
       "      <td>1.60</td>\n",
       "      <td>3</td>\n",
       "      <td>1</td>\n",
       "      <td>2007</td>\n",
       "      <td>0</td>\n",
       "      <td>9.350102</td>\n",
       "    </tr>\n",
       "    <tr>\n",
       "      <th>4706</th>\n",
       "      <td>4</td>\n",
       "      <td>3</td>\n",
       "      <td>289</td>\n",
       "      <td>2.50</td>\n",
       "      <td>0</td>\n",
       "      <td>0</td>\n",
       "      <td>2002</td>\n",
       "      <td>0</td>\n",
       "      <td>8.128585</td>\n",
       "    </tr>\n",
       "    <tr>\n",
       "      <th>2457</th>\n",
       "      <td>59</td>\n",
       "      <td>4</td>\n",
       "      <td>46</td>\n",
       "      <td>1.60</td>\n",
       "      <td>3</td>\n",
       "      <td>1</td>\n",
       "      <td>2012</td>\n",
       "      <td>0</td>\n",
       "      <td>9.076809</td>\n",
       "    </tr>\n",
       "    <tr>\n",
       "      <th>6793</th>\n",
       "      <td>42</td>\n",
       "      <td>0</td>\n",
       "      <td>50</td>\n",
       "      <td>5.00</td>\n",
       "      <td>3</td>\n",
       "      <td>1</td>\n",
       "      <td>2012</td>\n",
       "      <td>1</td>\n",
       "      <td>10.755773</td>\n",
       "    </tr>\n",
       "    <tr>\n",
       "      <th>2753</th>\n",
       "      <td>70</td>\n",
       "      <td>0</td>\n",
       "      <td>93</td>\n",
       "      <td>3.60</td>\n",
       "      <td>3</td>\n",
       "      <td>1</td>\n",
       "      <td>2008</td>\n",
       "      <td>1</td>\n",
       "      <td>9.588777</td>\n",
       "    </tr>\n",
       "    <tr>\n",
       "      <th>7015</th>\n",
       "      <td>80</td>\n",
       "      <td>1</td>\n",
       "      <td>104</td>\n",
       "      <td>1.20</td>\n",
       "      <td>3</td>\n",
       "      <td>1</td>\n",
       "      <td>2008</td>\n",
       "      <td>0</td>\n",
       "      <td>7.438384</td>\n",
       "    </tr>\n",
       "    <tr>\n",
       "      <th>5473</th>\n",
       "      <td>17</td>\n",
       "      <td>3</td>\n",
       "      <td>215</td>\n",
       "      <td>1.50</td>\n",
       "      <td>1</td>\n",
       "      <td>1</td>\n",
       "      <td>2007</td>\n",
       "      <td>0</td>\n",
       "      <td>7.919356</td>\n",
       "    </tr>\n",
       "    <tr>\n",
       "      <th>558</th>\n",
       "      <td>5</td>\n",
       "      <td>0</td>\n",
       "      <td>98</td>\n",
       "      <td>3.00</td>\n",
       "      <td>3</td>\n",
       "      <td>1</td>\n",
       "      <td>2011</td>\n",
       "      <td>1</td>\n",
       "      <td>10.586584</td>\n",
       "    </tr>\n",
       "    <tr>\n",
       "      <th>7368</th>\n",
       "      <td>76</td>\n",
       "      <td>1</td>\n",
       "      <td>1</td>\n",
       "      <td>1.50</td>\n",
       "      <td>3</td>\n",
       "      <td>1</td>\n",
       "      <td>2006</td>\n",
       "      <td>0</td>\n",
       "      <td>7.919356</td>\n",
       "    </tr>\n",
       "    <tr>\n",
       "      <th>1371</th>\n",
       "      <td>39</td>\n",
       "      <td>3</td>\n",
       "      <td>127</td>\n",
       "      <td>2.70</td>\n",
       "      <td>1</td>\n",
       "      <td>1</td>\n",
       "      <td>2008</td>\n",
       "      <td>0</td>\n",
       "      <td>9.200290</td>\n",
       "    </tr>\n",
       "    <tr>\n",
       "      <th>907</th>\n",
       "      <td>77</td>\n",
       "      <td>5</td>\n",
       "      <td>86</td>\n",
       "      <td>1.20</td>\n",
       "      <td>3</td>\n",
       "      <td>1</td>\n",
       "      <td>2013</td>\n",
       "      <td>0</td>\n",
       "      <td>9.190138</td>\n",
       "    </tr>\n",
       "    <tr>\n",
       "      <th>4291</th>\n",
       "      <td>77</td>\n",
       "      <td>3</td>\n",
       "      <td>1</td>\n",
       "      <td>1.60</td>\n",
       "      <td>0</td>\n",
       "      <td>1</td>\n",
       "      <td>2016</td>\n",
       "      <td>0</td>\n",
       "      <td>10.098232</td>\n",
       "    </tr>\n",
       "    <tr>\n",
       "      <th>1433</th>\n",
       "      <td>56</td>\n",
       "      <td>4</td>\n",
       "      <td>240</td>\n",
       "      <td>2.20</td>\n",
       "      <td>1</td>\n",
       "      <td>0</td>\n",
       "      <td>2001</td>\n",
       "      <td>0</td>\n",
       "      <td>7.649693</td>\n",
       "    </tr>\n",
       "    <tr>\n",
       "      <th>6976</th>\n",
       "      <td>59</td>\n",
       "      <td>5</td>\n",
       "      <td>151</td>\n",
       "      <td>1.50</td>\n",
       "      <td>0</td>\n",
       "      <td>1</td>\n",
       "      <td>2012</td>\n",
       "      <td>0</td>\n",
       "      <td>8.942461</td>\n",
       "    </tr>\n",
       "    <tr>\n",
       "      <th>4823</th>\n",
       "      <td>52</td>\n",
       "      <td>3</td>\n",
       "      <td>420</td>\n",
       "      <td>1.80</td>\n",
       "      <td>3</td>\n",
       "      <td>1</td>\n",
       "      <td>1991</td>\n",
       "      <td>0</td>\n",
       "      <td>7.740664</td>\n",
       "    </tr>\n",
       "    <tr>\n",
       "      <th>7489</th>\n",
       "      <td>56</td>\n",
       "      <td>3</td>\n",
       "      <td>212</td>\n",
       "      <td>2.20</td>\n",
       "      <td>1</td>\n",
       "      <td>1</td>\n",
       "      <td>2000</td>\n",
       "      <td>0</td>\n",
       "      <td>8.516993</td>\n",
       "    </tr>\n",
       "    <tr>\n",
       "      <th>6537</th>\n",
       "      <td>59</td>\n",
       "      <td>4</td>\n",
       "      <td>184</td>\n",
       "      <td>1.50</td>\n",
       "      <td>0</td>\n",
       "      <td>1</td>\n",
       "      <td>2011</td>\n",
       "      <td>0</td>\n",
       "      <td>9.137770</td>\n",
       "    </tr>\n",
       "    <tr>\n",
       "      <th>8324</th>\n",
       "      <td>76</td>\n",
       "      <td>1</td>\n",
       "      <td>107</td>\n",
       "      <td>1.60</td>\n",
       "      <td>3</td>\n",
       "      <td>1</td>\n",
       "      <td>2008</td>\n",
       "      <td>0</td>\n",
       "      <td>8.022897</td>\n",
       "    </tr>\n",
       "  </tbody>\n",
       "</table>\n",
       "<p>2549 rows × 9 columns</p>\n",
       "</div>"
      ],
      "text/plain": [
       "      make  body  mileage  engV  engType  registration  year  drive  \\\n",
       "8221    77     2       52  2.00        3             1  2012      0   \n",
       "4552    49     3      178  2.00        3             1  2005      0   \n",
       "1535    80     1        1  1.50        3             1  2015      0   \n",
       "4228    39     3      150  2.00        1             1  2008      0   \n",
       "5623    50     2      269  2.20        0             1  2006      2   \n",
       "4584    77     3      350  2.00        1             1  2000      0   \n",
       "3792     1     1       60  1.40        3             1  2012      0   \n",
       "7320    44     3       34  1.60        3             1  2009      0   \n",
       "5254    33     1       86  1.40        1             1  2007      0   \n",
       "3661    12     1      133  1.50        3             1  2005      0   \n",
       "1665    12     3       83  1.80        1             1  2011      0   \n",
       "730     74     3      131  1.60        1             1  2007      0   \n",
       "7603    22     4      200  1.90        0             1  2007      0   \n",
       "7309    23     2      254  2.20        0             1  2011      0   \n",
       "3898    33     1      150  1.25        3             1  2011      0   \n",
       "7457    57     4        1  1.20        3             1  2016      0   \n",
       "6934    75     0      155  2.70        1             1  2007      1   \n",
       "4162    55     1       41  1.20        3             1  2013      0   \n",
       "6602    70     0        1  2.00        0             1  2016      1   \n",
       "3593    56     1      190  1.60        1             1  2005      0   \n",
       "7237    55     5       93  2.00        0             1  2013      0   \n",
       "5214    74     0      115  4.00        1             1  2008      1   \n",
       "6646    50     3      222  5.50        3             1  2006      2   \n",
       "2420    57     2       17  1.60        3             1  2011      0   \n",
       "1427    55     3      170  1.80        1             1  2005      0   \n",
       "7380    67     1       66  1.40        3             1  2013      0   \n",
       "4098     4     3      150  1.80        3             1  1985      1   \n",
       "932      4     0       75  3.00        0             1  2013      1   \n",
       "3605    52     0      147  2.50        0             1  2008      1   \n",
       "5527    30     3      177  2.40        3             1  2007      0   \n",
       "...    ...   ...      ...   ...      ...           ...   ...    ...   \n",
       "4368    59     4      280  1.50        0             1  2005      0   \n",
       "297     55     0       46  1.60        3             1  2013      0   \n",
       "443     50     5      190  2.20        0             1  2009      2   \n",
       "777     52     0      120  3.00        3             1  2008      1   \n",
       "1119    74     0       89  2.00        3             1  2012      1   \n",
       "7177     5     2      138  4.80        3             1  2007      2   \n",
       "7314    76     0       89  1.70        3             1  2009      1   \n",
       "1921    33     3       19  1.40        3             1  2011      0   \n",
       "655     33     0       55  2.00        0             1  2012      1   \n",
       "2229    76     1       50  1.50        3             1  1992      0   \n",
       "6292    23     1       67  1.00        3             1  2013      0   \n",
       "6061    59     2      173  2.30        0             1  2013      0   \n",
       "3128    47     1      114  1.60        3             1  2007      0   \n",
       "4706     4     3      289  2.50        0             0  2002      0   \n",
       "2457    59     4       46  1.60        3             1  2012      0   \n",
       "6793    42     0       50  5.00        3             1  2012      1   \n",
       "2753    70     0       93  3.60        3             1  2008      1   \n",
       "7015    80     1      104  1.20        3             1  2008      0   \n",
       "5473    17     3      215  1.50        1             1  2007      0   \n",
       "558      5     0       98  3.00        3             1  2011      1   \n",
       "7368    76     1        1  1.50        3             1  2006      0   \n",
       "1371    39     3      127  2.70        1             1  2008      0   \n",
       "907     77     5       86  1.20        3             1  2013      0   \n",
       "4291    77     3        1  1.60        0             1  2016      0   \n",
       "1433    56     4      240  2.20        1             0  2001      0   \n",
       "6976    59     5      151  1.50        0             1  2012      0   \n",
       "4823    52     3      420  1.80        3             1  1991      0   \n",
       "7489    56     3      212  2.20        1             1  2000      0   \n",
       "6537    59     4      184  1.50        0             1  2011      0   \n",
       "8324    76     1      107  1.60        3             1  2008      0   \n",
       "\n",
       "      predictions  \n",
       "8221    10.146434  \n",
       "4552     9.137770  \n",
       "1535     8.779557  \n",
       "4228     8.999619  \n",
       "5623     9.305560  \n",
       "4584     8.496990  \n",
       "3792     9.680281  \n",
       "7320     8.202482  \n",
       "5254     8.824678  \n",
       "3661     8.455318  \n",
       "1665     9.210340  \n",
       "730      9.071078  \n",
       "7603     8.922658  \n",
       "7309     8.987072  \n",
       "3898     8.922658  \n",
       "7457     9.698920  \n",
       "6934     8.696176  \n",
       "4162     9.259131  \n",
       "6602    10.568750  \n",
       "3593     8.846497  \n",
       "7237     9.116030  \n",
       "5214    10.199882  \n",
       "6646     9.928180  \n",
       "2420     9.994242  \n",
       "1427     8.732305  \n",
       "7380     9.047821  \n",
       "4098     7.524291  \n",
       "932     10.661954  \n",
       "3605     9.680344  \n",
       "5527     9.259131  \n",
       "...           ...  \n",
       "4368     8.853665  \n",
       "297      9.615805  \n",
       "443      9.517825  \n",
       "777      9.375855  \n",
       "1119     9.975808  \n",
       "7177     9.998798  \n",
       "7314     8.732305  \n",
       "1921     9.210340  \n",
       "655      9.918376  \n",
       "2229     7.522941  \n",
       "6292     9.323669  \n",
       "6061     9.629051  \n",
       "3128     9.350102  \n",
       "4706     8.128585  \n",
       "2457     9.076809  \n",
       "6793    10.755773  \n",
       "2753     9.588777  \n",
       "7015     7.438384  \n",
       "5473     7.919356  \n",
       "558     10.586584  \n",
       "7368     7.919356  \n",
       "1371     9.200290  \n",
       "907      9.190138  \n",
       "4291    10.098232  \n",
       "1433     7.649693  \n",
       "6976     8.942461  \n",
       "4823     7.740664  \n",
       "7489     8.516993  \n",
       "6537     9.137770  \n",
       "8324     8.022897  \n",
       "\n",
       "[2549 rows x 9 columns]"
      ]
     },
     "execution_count": 39,
     "metadata": {},
     "output_type": "execute_result"
    }
   ],
   "source": [
    "df2_with_values_and_predictions"
   ]
  },
  {
   "cell_type": "markdown",
   "metadata": {
    "colab_type": "text",
    "id": "hf4_8FXrpHFY"
   },
   "source": [
    "## 2.5 How might we interpret the coefficient on \"year\" in this new regression model?"
   ]
  },
  {
   "cell_type": "markdown",
   "metadata": {
    "colab_type": "text",
    "id": "JVGKvt5WpTf2"
   },
   "source": [
    " Because we log-normalized y, we are no longer looking at exact dollars, but a % change in % amount. \n",
    " For this reason, we would now read the coefficient of \"year\" to mean that for every additional year model, \n",
    " the price should increase by 9.52550751e-02 percent "
   ]
  },
  {
   "cell_type": "markdown",
   "metadata": {
    "colab_type": "text",
    "id": "JUQwzfDRfrQi"
   },
   "source": [
    "# Gradient Descent"
   ]
  },
  {
   "cell_type": "markdown",
   "metadata": {
    "colab_type": "text",
    "id": "M_JLfReVeoYT"
   },
   "source": [
    "## 3.1 What does Gradient Descent seek to minimize?"
   ]
  },
  {
   "cell_type": "markdown",
   "metadata": {
    "colab_type": "text",
    "id": "-ezM_NS2fIJe"
   },
   "source": [
    "It seeks to minimize the cost function  as far as possible by iteratively checking the *cost function* for different coefficients "
   ]
  },
  {
   "cell_type": "markdown",
   "metadata": {
    "colab_type": "text",
    "id": "unqhNRYnfIL4"
   },
   "source": [
    "## 3.2 What is the \"Learning Rate\" and what is its function?"
   ]
  },
  {
   "cell_type": "markdown",
   "metadata": {
    "colab_type": "text",
    "id": "7jhKwIOVfT6B"
   },
   "source": [
    "The learning rate can be thought of as the step size the algorithm takes on its way to finding the global minimum. As the slope of the function decreases on its way to the global minimum (imagine the slope of the ground flattening as you walk towards the bottom of a valley) this new slope is multiplied to the learning rate so as the slope gets flatter, signaling decreasing distance from the minimum, the \"steps\" taken get smaller so not to overshoot the minimum. \n",
    "\n",
    "\"Steps\" that are too large could overshoot the minimum while \"steps\" too small may never reach the minimum. "
   ]
  },
  {
   "cell_type": "markdown",
   "metadata": {
    "colab_type": "text",
    "id": "Gs20FOntprd_"
   },
   "source": [
    "# Model Diagnostics"
   ]
  },
  {
   "cell_type": "markdown",
   "metadata": {
    "colab_type": "text",
    "id": "VJnxkobcpulV"
   },
   "source": [
    "## 4.1 Use statsmodels to run a log-linear or log-polynomial linear regression with robust standard errors."
   ]
  },
  {
   "cell_type": "code",
   "execution_count": 40,
   "metadata": {
    "colab": {},
    "colab_type": "code",
    "id": "QqCVeYBTpvfQ",
    "scrolled": false
   },
   "outputs": [
    {
     "name": "stdout",
     "output_type": "stream",
     "text": [
      "                            OLS Regression Results                            \n",
      "==============================================================================\n",
      "Dep. Variable:                      y   R-squared:                       0.658\n",
      "Model:                            OLS   Adj. R-squared:                  0.658\n",
      "Method:                 Least Squares   F-statistic:                     2040.\n",
      "Date:                Fri, 22 Feb 2019   Prob (F-statistic):               0.00\n",
      "Time:                        13:20:26   Log-Likelihood:                -7167.0\n",
      "No. Observations:                8495   AIC:                         1.435e+04\n",
      "Df Residuals:                    8486   BIC:                         1.442e+04\n",
      "Df Model:                           8                                         \n",
      "Covariance Type:            nonrobust                                         \n",
      "================================================================================\n",
      "                   coef    std err          t      P>|t|      [0.025      0.975]\n",
      "--------------------------------------------------------------------------------\n",
      "const         -181.8341      2.144    -84.810      0.000    -186.037    -177.631\n",
      "make            -0.0016      0.000     -6.052      0.000      -0.002      -0.001\n",
      "body            -0.0959      0.004    -23.483      0.000      -0.104      -0.088\n",
      "mileage      -9.471e-05    7.8e-05     -1.214      0.225      -0.000    5.82e-05\n",
      "engV             0.0092      0.001      8.048      0.000       0.007       0.011\n",
      "engType         -0.0581      0.005    -11.946      0.000      -0.068      -0.049\n",
      "registration     0.7220      0.027     26.530      0.000       0.669       0.775\n",
      "year             0.0949      0.001     89.151      0.000       0.093       0.097\n",
      "drive            0.3908      0.009     44.603      0.000       0.374       0.408\n",
      "==============================================================================\n",
      "Omnibus:                      429.442   Durbin-Watson:                   1.918\n",
      "Prob(Omnibus):                  0.000   Jarque-Bera (JB):             1600.078\n",
      "Skew:                           0.070   Prob(JB):                         0.00\n",
      "Kurtosis:                       5.122   Cond. No.                     7.06e+05\n",
      "==============================================================================\n",
      "\n",
      "Warnings:\n",
      "[1] Standard Errors assume that the covariance matrix of the errors is correctly specified.\n",
      "[2] The condition number is large, 7.06e+05. This might indicate that there are\n",
      "strong multicollinearity or other numerical problems.\n"
     ]
    }
   ],
   "source": [
    "X_2 = sm.add_constant(X_2)\n",
    "\n",
    "model = sm.OLS(y_2, X_2).fit()\n",
    "predictions = model.predict(X_2) \n",
    "\n",
    "print_model = model.summary()\n",
    "print(print_model)\n",
    "\n",
    "\n",
    "# <<<<I *know* I did not use robust standard errors on this one. I am doing it in the next one.>>>>"
   ]
  },
  {
   "cell_type": "markdown",
   "metadata": {},
   "source": [
    "# Looking back at our pairplots, it was visually obvious that the mileage variable had some serious issues with heteroskedasticity, so I will run this again with robust standard errors to correct this heteroskedasticity"
   ]
  },
  {
   "cell_type": "code",
   "execution_count": 41,
   "metadata": {},
   "outputs": [
    {
     "name": "stdout",
     "output_type": "stream",
     "text": [
      "                            OLS Regression Results                            \n",
      "==============================================================================\n",
      "Dep. Variable:                      y   R-squared:                       0.658\n",
      "Model:                            OLS   Adj. R-squared:                  0.658\n",
      "Method:                 Least Squares   F-statistic:                     1654.\n",
      "Date:                Fri, 22 Feb 2019   Prob (F-statistic):               0.00\n",
      "Time:                        13:27:27   Log-Likelihood:                -7167.0\n",
      "No. Observations:                8495   AIC:                         1.435e+04\n",
      "Df Residuals:                    8486   BIC:                         1.442e+04\n",
      "Df Model:                           8                                         \n",
      "Covariance Type:                  HC3                                         \n",
      "================================================================================\n",
      "                   coef    std err          z      P>|z|      [0.025      0.975]\n",
      "--------------------------------------------------------------------------------\n",
      "const         -181.8341      3.453    -52.653      0.000    -188.603    -175.066\n",
      "make            -0.0016      0.000     -5.505      0.000      -0.002      -0.001\n",
      "body            -0.0959      0.004    -23.564      0.000      -0.104      -0.088\n",
      "mileage      -9.471e-05      0.000     -0.890      0.374      -0.000       0.000\n",
      "engV             0.0092      0.002      3.772      0.000       0.004       0.014\n",
      "engType         -0.0581      0.005    -12.043      0.000      -0.068      -0.049\n",
      "registration     0.7220      0.020     36.493      0.000       0.683       0.761\n",
      "year             0.0949      0.002     55.309      0.000       0.092       0.098\n",
      "drive            0.3908      0.010     38.951      0.000       0.371       0.410\n",
      "==============================================================================\n",
      "Omnibus:                      429.442   Durbin-Watson:                   1.918\n",
      "Prob(Omnibus):                  0.000   Jarque-Bera (JB):             1600.078\n",
      "Skew:                           0.070   Prob(JB):                         0.00\n",
      "Kurtosis:                       5.122   Cond. No.                     7.06e+05\n",
      "==============================================================================\n",
      "\n",
      "Warnings:\n",
      "[1] Standard Errors are heteroscedasticity robust (HC3)\n",
      "[2] The condition number is large, 7.06e+05. This might indicate that there are\n",
      "strong multicollinearity or other numerical problems.\n"
     ]
    }
   ],
   "source": [
    "X_2 = sm.add_constant(X_2)\n",
    "\n",
    "model = sm.OLS(y_2, X_2).fit(cov_type='HC3')\n",
    "predictions = model.predict(X_2) \n",
    "\n",
    "print_model = model.summary()\n",
    "print(print_model)"
   ]
  },
  {
   "cell_type": "markdown",
   "metadata": {
    "colab_type": "text",
    "id": "loKma3wspwVs"
   },
   "source": [
    "## 4.2 Calculate the Variance Inflation Factor (VIF) of our X variables. Do we have multicollinearity problems?"
   ]
  },
  {
   "cell_type": "code",
   "execution_count": 42,
   "metadata": {
    "colab": {},
    "colab_type": "code",
    "id": "EN1mPKWhp2Vn",
    "scrolled": true
   },
   "outputs": [
    {
     "name": "stdout",
     "output_type": "stream",
     "text": [
      "Index(['const', 'make', 'body', 'mileage', 'engV', 'engType', 'registration',\n",
      "       'year', 'drive'],\n",
      "      dtype='object') \n",
      "\n",
      "\n",
      "[123262.01363199769, 1.0591492515492278, 1.1583256001339457, 1.5496097971160903, 1.0093210319338708, 1.1411828507373452, 1.0918920928785216, 1.458527718550631, 1.1310208897031022]\n"
     ]
    }
   ],
   "source": [
    "# The statsmodels clearly state we have some issues with multicollinearity, so we will address that know with VIF\n",
    "\n",
    "print(X_2.columns, '\\n\\n')\n",
    "\n",
    "vif = [variance_inflation_factor(X_2.values, i) for i in range(X_2.shape[1])]\n",
    "print(vif)\n"
   ]
  },
  {
   "cell_type": "code",
   "execution_count": 45,
   "metadata": {},
   "outputs": [],
   "source": [
    "# The rule of thumb is that a VIF > 10 is pretty indicative of highly correlated x variables that should typically\n",
    "# be dropped\n",
    "\n",
    "no_const_col = X_2.drop('const', axis=1)"
   ]
  },
  {
   "cell_type": "code",
   "execution_count": 47,
   "metadata": {},
   "outputs": [
    {
     "name": "stdout",
     "output_type": "stream",
     "text": [
      "Index(['make', 'body', 'mileage', 'engV', 'engType', 'registration', 'year',\n",
      "       'drive'],\n",
      "      dtype='object') \n",
      "\n",
      "\n"
     ]
    },
    {
     "data": {
      "text/html": [
       "<div>\n",
       "<style scoped>\n",
       "    .dataframe tbody tr th:only-of-type {\n",
       "        vertical-align: middle;\n",
       "    }\n",
       "\n",
       "    .dataframe tbody tr th {\n",
       "        vertical-align: top;\n",
       "    }\n",
       "\n",
       "    .dataframe thead th {\n",
       "        text-align: right;\n",
       "    }\n",
       "</style>\n",
       "<table border=\"1\" class=\"dataframe\">\n",
       "  <thead>\n",
       "    <tr style=\"text-align: right;\">\n",
       "      <th></th>\n",
       "      <th>make</th>\n",
       "      <th>body</th>\n",
       "      <th>mileage</th>\n",
       "      <th>engV</th>\n",
       "      <th>engType</th>\n",
       "      <th>registration</th>\n",
       "      <th>year</th>\n",
       "      <th>drive</th>\n",
       "    </tr>\n",
       "  </thead>\n",
       "  <tbody>\n",
       "    <tr>\n",
       "      <th>make</th>\n",
       "      <td>1.000000</td>\n",
       "      <td>0.026127</td>\n",
       "      <td>-0.035097</td>\n",
       "      <td>-0.021246</td>\n",
       "      <td>-0.011880</td>\n",
       "      <td>0.104557</td>\n",
       "      <td>-0.013833</td>\n",
       "      <td>-0.196444</td>\n",
       "    </tr>\n",
       "    <tr>\n",
       "      <th>body</th>\n",
       "      <td>0.026127</td>\n",
       "      <td>1.000000</td>\n",
       "      <td>0.287060</td>\n",
       "      <td>-0.025320</td>\n",
       "      <td>-0.184007</td>\n",
       "      <td>-0.082643</td>\n",
       "      <td>-0.154554</td>\n",
       "      <td>-0.162235</td>\n",
       "    </tr>\n",
       "    <tr>\n",
       "      <th>mileage</th>\n",
       "      <td>-0.035097</td>\n",
       "      <td>0.287060</td>\n",
       "      <td>1.000000</td>\n",
       "      <td>0.042081</td>\n",
       "      <td>-0.229644</td>\n",
       "      <td>-0.229354</td>\n",
       "      <td>-0.503135</td>\n",
       "      <td>0.067962</td>\n",
       "    </tr>\n",
       "    <tr>\n",
       "      <th>engV</th>\n",
       "      <td>-0.021246</td>\n",
       "      <td>-0.025320</td>\n",
       "      <td>0.042081</td>\n",
       "      <td>1.000000</td>\n",
       "      <td>-0.004896</td>\n",
       "      <td>-0.015274</td>\n",
       "      <td>-0.041076</td>\n",
       "      <td>0.084756</td>\n",
       "    </tr>\n",
       "    <tr>\n",
       "      <th>engType</th>\n",
       "      <td>-0.011880</td>\n",
       "      <td>-0.184007</td>\n",
       "      <td>-0.229644</td>\n",
       "      <td>-0.004896</td>\n",
       "      <td>1.000000</td>\n",
       "      <td>0.152988</td>\n",
       "      <td>-0.040471</td>\n",
       "      <td>-0.044859</td>\n",
       "    </tr>\n",
       "    <tr>\n",
       "      <th>registration</th>\n",
       "      <td>0.104557</td>\n",
       "      <td>-0.082643</td>\n",
       "      <td>-0.229354</td>\n",
       "      <td>-0.015274</td>\n",
       "      <td>0.152988</td>\n",
       "      <td>1.000000</td>\n",
       "      <td>0.185104</td>\n",
       "      <td>-0.055793</td>\n",
       "    </tr>\n",
       "    <tr>\n",
       "      <th>year</th>\n",
       "      <td>-0.013833</td>\n",
       "      <td>-0.154554</td>\n",
       "      <td>-0.503135</td>\n",
       "      <td>-0.041076</td>\n",
       "      <td>-0.040471</td>\n",
       "      <td>0.185104</td>\n",
       "      <td>1.000000</td>\n",
       "      <td>-0.169709</td>\n",
       "    </tr>\n",
       "    <tr>\n",
       "      <th>drive</th>\n",
       "      <td>-0.196444</td>\n",
       "      <td>-0.162235</td>\n",
       "      <td>0.067962</td>\n",
       "      <td>0.084756</td>\n",
       "      <td>-0.044859</td>\n",
       "      <td>-0.055793</td>\n",
       "      <td>-0.169709</td>\n",
       "      <td>1.000000</td>\n",
       "    </tr>\n",
       "  </tbody>\n",
       "</table>\n",
       "</div>"
      ],
      "text/plain": [
       "                  make      body   mileage      engV   engType  registration  \\\n",
       "make          1.000000  0.026127 -0.035097 -0.021246 -0.011880      0.104557   \n",
       "body          0.026127  1.000000  0.287060 -0.025320 -0.184007     -0.082643   \n",
       "mileage      -0.035097  0.287060  1.000000  0.042081 -0.229644     -0.229354   \n",
       "engV         -0.021246 -0.025320  0.042081  1.000000 -0.004896     -0.015274   \n",
       "engType      -0.011880 -0.184007 -0.229644 -0.004896  1.000000      0.152988   \n",
       "registration  0.104557 -0.082643 -0.229354 -0.015274  0.152988      1.000000   \n",
       "year         -0.013833 -0.154554 -0.503135 -0.041076 -0.040471      0.185104   \n",
       "drive        -0.196444 -0.162235  0.067962  0.084756 -0.044859     -0.055793   \n",
       "\n",
       "                  year     drive  \n",
       "make         -0.013833 -0.196444  \n",
       "body         -0.154554 -0.162235  \n",
       "mileage      -0.503135  0.067962  \n",
       "engV         -0.041076  0.084756  \n",
       "engType      -0.040471 -0.044859  \n",
       "registration  0.185104 -0.055793  \n",
       "year          1.000000 -0.169709  \n",
       "drive        -0.169709  1.000000  "
      ]
     },
     "execution_count": 47,
     "metadata": {},
     "output_type": "execute_result"
    }
   ],
   "source": [
    "print(no_const_col.columns, '\\n\\n')\n",
    "\n",
    "no_const_col.corr()"
   ]
  },
  {
   "cell_type": "code",
   "execution_count": null,
   "metadata": {},
   "outputs": [],
   "source": [
    "# That did quite a bit to help clean up the multicollinearity of the data\n",
    "# some of the variables that are pretty categorical in nature like registration and drive might still look \n",
    "# a bit correlated just due to their nature of being integers with only a few unique values"
   ]
  }
 ],
 "metadata": {
  "colab": {
   "name": "Linear Regression Sprint Challenge.ipynb",
   "provenance": [],
   "version": "0.3.2"
  },
  "kernelspec": {
   "display_name": "Python 3",
   "language": "python",
   "name": "python3"
  },
  "language_info": {
   "codemirror_mode": {
    "name": "ipython",
    "version": 3
   },
   "file_extension": ".py",
   "mimetype": "text/x-python",
   "name": "python",
   "nbconvert_exporter": "python",
   "pygments_lexer": "ipython3",
   "version": "3.7.1"
  }
 },
 "nbformat": 4,
 "nbformat_minor": 1
}
