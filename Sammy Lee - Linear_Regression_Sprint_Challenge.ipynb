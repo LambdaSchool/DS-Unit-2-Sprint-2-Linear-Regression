{
  "nbformat": 4,
  "nbformat_minor": 0,
  "metadata": {
    "colab": {
      "name": "Linear Regression Sprint Challenge.ipynb",
      "version": "0.3.2",
      "provenance": [],
      "collapsed_sections": [],
      "include_colab_link": true
    },
    "kernelspec": {
      "name": "python3",
      "display_name": "Python 3"
    }
  },
  "cells": [
    {
      "cell_type": "markdown",
      "metadata": {
        "id": "view-in-github",
        "colab_type": "text"
      },
      "source": [
        "<a href=\"https://colab.research.google.com/github/Captmoonshot/DS-Unit-2-Sprint-2-Linear-Regression/blob/master/Sammy%20Lee%20-%20Linear_Regression_Sprint_Challenge.ipynb\" target=\"_parent\"><img src=\"https://colab.research.google.com/assets/colab-badge.svg\" alt=\"Open In Colab\"/></a>"
      ]
    },
    {
      "metadata": {
        "id": "YbiJuv5d2jZ7",
        "colab_type": "code",
        "colab": {}
      },
      "cell_type": "code",
      "source": [
        "# Import everything you could ever need. ;)\n",
        "import pandas as pd\n",
        "import numpy as np\n",
        "import matplotlib.pyplot as plt\n",
        "import seaborn as sns\n",
        "import statsmodels.api as sm\n",
        "from statsmodels.stats.outliers_influence import variance_inflation_factor\n",
        "from sklearn.model_selection import train_test_split\n",
        "from sklearn.linear_model import LinearRegression\n",
        "from sklearn.metrics import mean_squared_error, r2_score"
      ],
      "execution_count": 0,
      "outputs": []
    },
    {
      "metadata": {
        "id": "FgaItuSL3zxO",
        "colab_type": "code",
        "outputId": "04a2717e-68ba-43ef-fba8-8683754a1158",
        "colab": {
          "base_uri": "https://localhost:8080/",
          "height": 221
        }
      },
      "cell_type": "code",
      "source": [
        "# Ukraine Used Car Sale Price Prediction\n",
        "df = pd.read_csv('https://raw.githubusercontent.com/ryanleeallred/datasets/master/car_regression.csv')\n",
        "print(df.shape)\n",
        "df.head()"
      ],
      "execution_count": 86,
      "outputs": [
        {
          "output_type": "stream",
          "text": [
            "(8495, 9)\n"
          ],
          "name": "stdout"
        },
        {
          "output_type": "execute_result",
          "data": {
            "text/html": [
              "<div>\n",
              "<style scoped>\n",
              "    .dataframe tbody tr th:only-of-type {\n",
              "        vertical-align: middle;\n",
              "    }\n",
              "\n",
              "    .dataframe tbody tr th {\n",
              "        vertical-align: top;\n",
              "    }\n",
              "\n",
              "    .dataframe thead th {\n",
              "        text-align: right;\n",
              "    }\n",
              "</style>\n",
              "<table border=\"1\" class=\"dataframe\">\n",
              "  <thead>\n",
              "    <tr style=\"text-align: right;\">\n",
              "      <th></th>\n",
              "      <th>make</th>\n",
              "      <th>price</th>\n",
              "      <th>body</th>\n",
              "      <th>mileage</th>\n",
              "      <th>engV</th>\n",
              "      <th>engType</th>\n",
              "      <th>registration</th>\n",
              "      <th>year</th>\n",
              "      <th>drive</th>\n",
              "    </tr>\n",
              "  </thead>\n",
              "  <tbody>\n",
              "    <tr>\n",
              "      <th>0</th>\n",
              "      <td>23</td>\n",
              "      <td>15500.0</td>\n",
              "      <td>0</td>\n",
              "      <td>68</td>\n",
              "      <td>2.5</td>\n",
              "      <td>1</td>\n",
              "      <td>1</td>\n",
              "      <td>2010</td>\n",
              "      <td>1</td>\n",
              "    </tr>\n",
              "    <tr>\n",
              "      <th>1</th>\n",
              "      <td>50</td>\n",
              "      <td>20500.0</td>\n",
              "      <td>3</td>\n",
              "      <td>173</td>\n",
              "      <td>1.8</td>\n",
              "      <td>1</td>\n",
              "      <td>1</td>\n",
              "      <td>2011</td>\n",
              "      <td>2</td>\n",
              "    </tr>\n",
              "    <tr>\n",
              "      <th>2</th>\n",
              "      <td>50</td>\n",
              "      <td>35000.0</td>\n",
              "      <td>2</td>\n",
              "      <td>135</td>\n",
              "      <td>5.5</td>\n",
              "      <td>3</td>\n",
              "      <td>1</td>\n",
              "      <td>2008</td>\n",
              "      <td>2</td>\n",
              "    </tr>\n",
              "    <tr>\n",
              "      <th>3</th>\n",
              "      <td>50</td>\n",
              "      <td>17800.0</td>\n",
              "      <td>5</td>\n",
              "      <td>162</td>\n",
              "      <td>1.8</td>\n",
              "      <td>0</td>\n",
              "      <td>1</td>\n",
              "      <td>2012</td>\n",
              "      <td>0</td>\n",
              "    </tr>\n",
              "    <tr>\n",
              "      <th>4</th>\n",
              "      <td>55</td>\n",
              "      <td>16600.0</td>\n",
              "      <td>0</td>\n",
              "      <td>83</td>\n",
              "      <td>2.0</td>\n",
              "      <td>3</td>\n",
              "      <td>1</td>\n",
              "      <td>2013</td>\n",
              "      <td>1</td>\n",
              "    </tr>\n",
              "  </tbody>\n",
              "</table>\n",
              "</div>"
            ],
            "text/plain": [
              "   make    price  body  mileage  engV  engType  registration  year  drive\n",
              "0    23  15500.0     0       68   2.5        1             1  2010      1\n",
              "1    50  20500.0     3      173   1.8        1             1  2011      2\n",
              "2    50  35000.0     2      135   5.5        3             1  2008      2\n",
              "3    50  17800.0     5      162   1.8        0             1  2012      0\n",
              "4    55  16600.0     0       83   2.0        3             1  2013      1"
            ]
          },
          "metadata": {
            "tags": []
          },
          "execution_count": 86
        }
      ]
    },
    {
      "metadata": {
        "id": "nQqgMCesv-Fv",
        "colab_type": "text"
      },
      "cell_type": "markdown",
      "source": [
        "### Here I'm doing some exploratory data analysis"
      ]
    },
    {
      "metadata": {
        "id": "XQwUgXg0tdOh",
        "colab_type": "code",
        "colab": {
          "base_uri": "https://localhost:8080/",
          "height": 187
        },
        "outputId": "6b971a2e-8b21-49c8-d4c1-77573a7987a4"
      },
      "cell_type": "code",
      "source": [
        "df.dtypes"
      ],
      "execution_count": 87,
      "outputs": [
        {
          "output_type": "execute_result",
          "data": {
            "text/plain": [
              "make              int64\n",
              "price           float64\n",
              "body              int64\n",
              "mileage           int64\n",
              "engV            float64\n",
              "engType           int64\n",
              "registration      int64\n",
              "year              int64\n",
              "drive             int64\n",
              "dtype: object"
            ]
          },
          "metadata": {
            "tags": []
          },
          "execution_count": 87
        }
      ]
    },
    {
      "metadata": {
        "id": "oORFsXFCthfh",
        "colab_type": "code",
        "colab": {
          "base_uri": "https://localhost:8080/",
          "height": 187
        },
        "outputId": "25a0a893-7f9f-47d0-f612-4c5584ee5004"
      },
      "cell_type": "code",
      "source": [
        "df.isna().sum()"
      ],
      "execution_count": 88,
      "outputs": [
        {
          "output_type": "execute_result",
          "data": {
            "text/plain": [
              "make            0\n",
              "price           0\n",
              "body            0\n",
              "mileage         0\n",
              "engV            0\n",
              "engType         0\n",
              "registration    0\n",
              "year            0\n",
              "drive           0\n",
              "dtype: int64"
            ]
          },
          "metadata": {
            "tags": []
          },
          "execution_count": 88
        }
      ]
    },
    {
      "metadata": {
        "id": "EHzBz3botlBn",
        "colab_type": "code",
        "colab": {
          "base_uri": "https://localhost:8080/",
          "height": 34
        },
        "outputId": "9730d761-8f68-4c60-b4d2-be4a51e431bb"
      },
      "cell_type": "code",
      "source": [
        "df.shape"
      ],
      "execution_count": 89,
      "outputs": [
        {
          "output_type": "execute_result",
          "data": {
            "text/plain": [
              "(8495, 9)"
            ]
          },
          "metadata": {
            "tags": []
          },
          "execution_count": 89
        }
      ]
    },
    {
      "metadata": {
        "id": "5kycCGE1tnEE",
        "colab_type": "code",
        "colab": {
          "base_uri": "https://localhost:8080/",
          "height": 297
        },
        "outputId": "07464b6f-7764-47ec-a572-cae8ae11e903"
      },
      "cell_type": "code",
      "source": [
        "df.describe()"
      ],
      "execution_count": 90,
      "outputs": [
        {
          "output_type": "execute_result",
          "data": {
            "text/html": [
              "<div>\n",
              "<style scoped>\n",
              "    .dataframe tbody tr th:only-of-type {\n",
              "        vertical-align: middle;\n",
              "    }\n",
              "\n",
              "    .dataframe tbody tr th {\n",
              "        vertical-align: top;\n",
              "    }\n",
              "\n",
              "    .dataframe thead th {\n",
              "        text-align: right;\n",
              "    }\n",
              "</style>\n",
              "<table border=\"1\" class=\"dataframe\">\n",
              "  <thead>\n",
              "    <tr style=\"text-align: right;\">\n",
              "      <th></th>\n",
              "      <th>make</th>\n",
              "      <th>price</th>\n",
              "      <th>body</th>\n",
              "      <th>mileage</th>\n",
              "      <th>engV</th>\n",
              "      <th>engType</th>\n",
              "      <th>registration</th>\n",
              "      <th>year</th>\n",
              "      <th>drive</th>\n",
              "    </tr>\n",
              "  </thead>\n",
              "  <tbody>\n",
              "    <tr>\n",
              "      <th>count</th>\n",
              "      <td>8495.000000</td>\n",
              "      <td>8495.000000</td>\n",
              "      <td>8495.000000</td>\n",
              "      <td>8495.000000</td>\n",
              "      <td>8495.000000</td>\n",
              "      <td>8495.000000</td>\n",
              "      <td>8495.000000</td>\n",
              "      <td>8495.000000</td>\n",
              "      <td>8495.000000</td>\n",
              "    </tr>\n",
              "    <tr>\n",
              "      <th>mean</th>\n",
              "      <td>46.535491</td>\n",
              "      <td>16185.453305</td>\n",
              "      <td>2.302295</td>\n",
              "      <td>141.744202</td>\n",
              "      <td>2.568337</td>\n",
              "      <td>1.650618</td>\n",
              "      <td>0.941613</td>\n",
              "      <td>2006.500883</td>\n",
              "      <td>0.575868</td>\n",
              "    </tr>\n",
              "    <tr>\n",
              "      <th>std</th>\n",
              "      <td>24.526251</td>\n",
              "      <td>24449.641512</td>\n",
              "      <td>1.610307</td>\n",
              "      <td>97.464062</td>\n",
              "      <td>5.387238</td>\n",
              "      <td>1.341282</td>\n",
              "      <td>0.234488</td>\n",
              "      <td>6.925907</td>\n",
              "      <td>0.741235</td>\n",
              "    </tr>\n",
              "    <tr>\n",
              "      <th>min</th>\n",
              "      <td>0.000000</td>\n",
              "      <td>259.350000</td>\n",
              "      <td>0.000000</td>\n",
              "      <td>0.000000</td>\n",
              "      <td>0.100000</td>\n",
              "      <td>0.000000</td>\n",
              "      <td>0.000000</td>\n",
              "      <td>1959.000000</td>\n",
              "      <td>0.000000</td>\n",
              "    </tr>\n",
              "    <tr>\n",
              "      <th>25%</th>\n",
              "      <td>23.000000</td>\n",
              "      <td>5490.000000</td>\n",
              "      <td>1.000000</td>\n",
              "      <td>74.000000</td>\n",
              "      <td>1.600000</td>\n",
              "      <td>0.000000</td>\n",
              "      <td>1.000000</td>\n",
              "      <td>2004.000000</td>\n",
              "      <td>0.000000</td>\n",
              "    </tr>\n",
              "    <tr>\n",
              "      <th>50%</th>\n",
              "      <td>50.000000</td>\n",
              "      <td>9500.000000</td>\n",
              "      <td>3.000000</td>\n",
              "      <td>130.000000</td>\n",
              "      <td>2.000000</td>\n",
              "      <td>1.000000</td>\n",
              "      <td>1.000000</td>\n",
              "      <td>2008.000000</td>\n",
              "      <td>0.000000</td>\n",
              "    </tr>\n",
              "    <tr>\n",
              "      <th>75%</th>\n",
              "      <td>68.000000</td>\n",
              "      <td>17145.600000</td>\n",
              "      <td>3.000000</td>\n",
              "      <td>197.000000</td>\n",
              "      <td>2.500000</td>\n",
              "      <td>3.000000</td>\n",
              "      <td>1.000000</td>\n",
              "      <td>2011.000000</td>\n",
              "      <td>1.000000</td>\n",
              "    </tr>\n",
              "    <tr>\n",
              "      <th>max</th>\n",
              "      <td>82.000000</td>\n",
              "      <td>547800.000000</td>\n",
              "      <td>5.000000</td>\n",
              "      <td>999.000000</td>\n",
              "      <td>99.990000</td>\n",
              "      <td>3.000000</td>\n",
              "      <td>1.000000</td>\n",
              "      <td>2016.000000</td>\n",
              "      <td>2.000000</td>\n",
              "    </tr>\n",
              "  </tbody>\n",
              "</table>\n",
              "</div>"
            ],
            "text/plain": [
              "              make          price         body      mileage         engV  \\\n",
              "count  8495.000000    8495.000000  8495.000000  8495.000000  8495.000000   \n",
              "mean     46.535491   16185.453305     2.302295   141.744202     2.568337   \n",
              "std      24.526251   24449.641512     1.610307    97.464062     5.387238   \n",
              "min       0.000000     259.350000     0.000000     0.000000     0.100000   \n",
              "25%      23.000000    5490.000000     1.000000    74.000000     1.600000   \n",
              "50%      50.000000    9500.000000     3.000000   130.000000     2.000000   \n",
              "75%      68.000000   17145.600000     3.000000   197.000000     2.500000   \n",
              "max      82.000000  547800.000000     5.000000   999.000000    99.990000   \n",
              "\n",
              "           engType  registration         year        drive  \n",
              "count  8495.000000   8495.000000  8495.000000  8495.000000  \n",
              "mean      1.650618      0.941613  2006.500883     0.575868  \n",
              "std       1.341282      0.234488     6.925907     0.741235  \n",
              "min       0.000000      0.000000  1959.000000     0.000000  \n",
              "25%       0.000000      1.000000  2004.000000     0.000000  \n",
              "50%       1.000000      1.000000  2008.000000     0.000000  \n",
              "75%       3.000000      1.000000  2011.000000     1.000000  \n",
              "max       3.000000      1.000000  2016.000000     2.000000  "
            ]
          },
          "metadata": {
            "tags": []
          },
          "execution_count": 90
        }
      ]
    },
    {
      "metadata": {
        "id": "LhJQVsECt1JX",
        "colab_type": "code",
        "colab": {
          "base_uri": "https://localhost:8080/",
          "height": 68
        },
        "outputId": "b86e9810-d688-4c72-fbb6-3698dec2f5bc"
      },
      "cell_type": "code",
      "source": [
        "df['registration'].value_counts()"
      ],
      "execution_count": 91,
      "outputs": [
        {
          "output_type": "execute_result",
          "data": {
            "text/plain": [
              "1    7999\n",
              "0     496\n",
              "Name: registration, dtype: int64"
            ]
          },
          "metadata": {
            "tags": []
          },
          "execution_count": 91
        }
      ]
    },
    {
      "metadata": {
        "id": "BOrqvJd2ubF-",
        "colab_type": "code",
        "colab": {
          "base_uri": "https://localhost:8080/",
          "height": 376
        },
        "outputId": "b31894df-05c1-456e-c085-a223c36ce2b3"
      },
      "cell_type": "code",
      "source": [
        "df['price'].hist(bins=50)"
      ],
      "execution_count": 92,
      "outputs": [
        {
          "output_type": "execute_result",
          "data": {
            "text/plain": [
              "<matplotlib.axes._subplots.AxesSubplot at 0x7fc04649c8d0>"
            ]
          },
          "metadata": {
            "tags": []
          },
          "execution_count": 92
        },
        {
          "output_type": "display_data",
          "data": {
            "image/png": "[encoded data removed]",
            "text/plain": [
              "<Figure size 576x396 with 1 Axes>"
            ]
          },
          "metadata": {
            "tags": []
          }
        }
      ]
    },
    {
      "metadata": {
        "id": "s_QmLUjbuhuO",
        "colab_type": "code",
        "colab": {
          "base_uri": "https://localhost:8080/",
          "height": 359
        },
        "outputId": "6a64e376-5047-404e-b662-740866b92ebe"
      },
      "cell_type": "code",
      "source": [
        "price_logged = np.log(df['price'])\n",
        "price_logged.hist(bins=50)\n",
        "df['price_logged'] = price_logged"
      ],
      "execution_count": 93,
      "outputs": [
        {
          "output_type": "display_data",
          "data": {
            "image/png": "[encoded data removed]",
            "text/plain": [
              "<Figure size 576x396 with 1 Axes>"
            ]
          },
          "metadata": {
            "tags": []
          }
        }
      ]
    },
    {
      "metadata": {
        "id": "YOIhqOhuvL68",
        "colab_type": "code",
        "colab": {
          "base_uri": "https://localhost:8080/",
          "height": 390
        },
        "outputId": "63a3e7bc-92b0-4bc9-804c-04e75dc8fbd4"
      },
      "cell_type": "code",
      "source": [
        "df.plot.scatter(x='drive', y='price', c='blue')"
      ],
      "execution_count": 94,
      "outputs": [
        {
          "output_type": "execute_result",
          "data": {
            "text/plain": [
              "<matplotlib.axes._subplots.AxesSubplot at 0x7fc0463f9898>"
            ]
          },
          "metadata": {
            "tags": []
          },
          "execution_count": 94
        },
        {
          "output_type": "display_data",
          "data": {
            "image/png": "[encoded data removed]",
            "text/plain": [
              "<Figure size 576x396 with 1 Axes>"
            ]
          },
          "metadata": {
            "tags": []
          }
        }
      ]
    },
    {
      "metadata": {
        "id": "IrSUouFHv1LP",
        "colab_type": "code",
        "colab": {
          "base_uri": "https://localhost:8080/",
          "height": 390
        },
        "outputId": "252da2f6-9bc4-4341-b8a6-89f0f1119f4f"
      },
      "cell_type": "code",
      "source": [
        "df.plot.scatter(x='drive', y='price_logged', c='red')"
      ],
      "execution_count": 95,
      "outputs": [
        {
          "output_type": "execute_result",
          "data": {
            "text/plain": [
              "<matplotlib.axes._subplots.AxesSubplot at 0x7fc046311470>"
            ]
          },
          "metadata": {
            "tags": []
          },
          "execution_count": 95
        },
        {
          "output_type": "display_data",
          "data": {
            "image/png": "[encoded data removed]",
            "text/plain": [
              "<Figure size 576x396 with 1 Axes>"
            ]
          },
          "metadata": {
            "tags": []
          }
        }
      ]
    },
    {
      "metadata": {
        "id": "M67E0dGCwKXg",
        "colab_type": "code",
        "colab": {
          "base_uri": "https://localhost:8080/",
          "height": 204
        },
        "outputId": "cb6afde0-1901-4ddf-8e53-e28f6624d1e6"
      },
      "cell_type": "code",
      "source": [
        "df.head()"
      ],
      "execution_count": 96,
      "outputs": [
        {
          "output_type": "execute_result",
          "data": {
            "text/html": [
              "<div>\n",
              "<style scoped>\n",
              "    .dataframe tbody tr th:only-of-type {\n",
              "        vertical-align: middle;\n",
              "    }\n",
              "\n",
              "    .dataframe tbody tr th {\n",
              "        vertical-align: top;\n",
              "    }\n",
              "\n",
              "    .dataframe thead th {\n",
              "        text-align: right;\n",
              "    }\n",
              "</style>\n",
              "<table border=\"1\" class=\"dataframe\">\n",
              "  <thead>\n",
              "    <tr style=\"text-align: right;\">\n",
              "      <th></th>\n",
              "      <th>make</th>\n",
              "      <th>price</th>\n",
              "      <th>body</th>\n",
              "      <th>mileage</th>\n",
              "      <th>engV</th>\n",
              "      <th>engType</th>\n",
              "      <th>registration</th>\n",
              "      <th>year</th>\n",
              "      <th>drive</th>\n",
              "      <th>price_logged</th>\n",
              "    </tr>\n",
              "  </thead>\n",
              "  <tbody>\n",
              "    <tr>\n",
              "      <th>0</th>\n",
              "      <td>23</td>\n",
              "      <td>15500.0</td>\n",
              "      <td>0</td>\n",
              "      <td>68</td>\n",
              "      <td>2.5</td>\n",
              "      <td>1</td>\n",
              "      <td>1</td>\n",
              "      <td>2010</td>\n",
              "      <td>1</td>\n",
              "      <td>9.648595</td>\n",
              "    </tr>\n",
              "    <tr>\n",
              "      <th>1</th>\n",
              "      <td>50</td>\n",
              "      <td>20500.0</td>\n",
              "      <td>3</td>\n",
              "      <td>173</td>\n",
              "      <td>1.8</td>\n",
              "      <td>1</td>\n",
              "      <td>1</td>\n",
              "      <td>2011</td>\n",
              "      <td>2</td>\n",
              "      <td>9.928180</td>\n",
              "    </tr>\n",
              "    <tr>\n",
              "      <th>2</th>\n",
              "      <td>50</td>\n",
              "      <td>35000.0</td>\n",
              "      <td>2</td>\n",
              "      <td>135</td>\n",
              "      <td>5.5</td>\n",
              "      <td>3</td>\n",
              "      <td>1</td>\n",
              "      <td>2008</td>\n",
              "      <td>2</td>\n",
              "      <td>10.463103</td>\n",
              "    </tr>\n",
              "    <tr>\n",
              "      <th>3</th>\n",
              "      <td>50</td>\n",
              "      <td>17800.0</td>\n",
              "      <td>5</td>\n",
              "      <td>162</td>\n",
              "      <td>1.8</td>\n",
              "      <td>0</td>\n",
              "      <td>1</td>\n",
              "      <td>2012</td>\n",
              "      <td>0</td>\n",
              "      <td>9.786954</td>\n",
              "    </tr>\n",
              "    <tr>\n",
              "      <th>4</th>\n",
              "      <td>55</td>\n",
              "      <td>16600.0</td>\n",
              "      <td>0</td>\n",
              "      <td>83</td>\n",
              "      <td>2.0</td>\n",
              "      <td>3</td>\n",
              "      <td>1</td>\n",
              "      <td>2013</td>\n",
              "      <td>1</td>\n",
              "      <td>9.717158</td>\n",
              "    </tr>\n",
              "  </tbody>\n",
              "</table>\n",
              "</div>"
            ],
            "text/plain": [
              "   make    price  body  mileage  engV  engType  registration  year  drive  \\\n",
              "0    23  15500.0     0       68   2.5        1             1  2010      1   \n",
              "1    50  20500.0     3      173   1.8        1             1  2011      2   \n",
              "2    50  35000.0     2      135   5.5        3             1  2008      2   \n",
              "3    50  17800.0     5      162   1.8        0             1  2012      0   \n",
              "4    55  16600.0     0       83   2.0        3             1  2013      1   \n",
              "\n",
              "   price_logged  \n",
              "0      9.648595  \n",
              "1      9.928180  \n",
              "2     10.463103  \n",
              "3      9.786954  \n",
              "4      9.717158  "
            ]
          },
          "metadata": {
            "tags": []
          },
          "execution_count": 96
        }
      ]
    },
    {
      "metadata": {
        "id": "w9gkF-HNUFAV",
        "colab_type": "text"
      },
      "cell_type": "markdown",
      "source": [
        "# Predictive Modeling with Linear Regression"
      ]
    },
    {
      "metadata": {
        "id": "Vy1SWxcYTAC0",
        "colab_type": "text"
      },
      "cell_type": "markdown",
      "source": [
        "## 1.1 Divide the dataset features into an X matrix and y vector (\"price\" is what we want to predict)."
      ]
    },
    {
      "metadata": {
        "id": "dwMbM9tUUaOQ",
        "colab_type": "code",
        "colab": {
          "base_uri": "https://localhost:8080/",
          "height": 68
        },
        "outputId": "a3e19ae5-59b4-4dda-e289-31d18dd2cc4e"
      },
      "cell_type": "code",
      "source": [
        "df.columns"
      ],
      "execution_count": 97,
      "outputs": [
        {
          "output_type": "execute_result",
          "data": {
            "text/plain": [
              "Index(['make', 'price', 'body', 'mileage', 'engV', 'engType', 'registration',\n",
              "       'year', 'drive', 'price_logged'],\n",
              "      dtype='object')"
            ]
          },
          "metadata": {
            "tags": []
          },
          "execution_count": 97
        }
      ]
    },
    {
      "metadata": {
        "id": "KWLTJMJDwQxq",
        "colab_type": "code",
        "colab": {
          "base_uri": "https://localhost:8080/",
          "height": 221
        },
        "outputId": "27f9b2ff-0154-4408-ca06-e17c430892b9"
      },
      "cell_type": "code",
      "source": [
        "X = df[['make', 'body', 'mileage', 'engV', 'engType', 'registration',\n",
        "       'year', 'drive']].values\n",
        "y = df['price'].values\n",
        "\n",
        "print(X[:5])\n",
        "print()\n",
        "print(y[:5])"
      ],
      "execution_count": 98,
      "outputs": [
        {
          "output_type": "stream",
          "text": [
            "[[2.300e+01 0.000e+00 6.800e+01 2.500e+00 1.000e+00 1.000e+00 2.010e+03\n",
            "  1.000e+00]\n",
            " [5.000e+01 3.000e+00 1.730e+02 1.800e+00 1.000e+00 1.000e+00 2.011e+03\n",
            "  2.000e+00]\n",
            " [5.000e+01 2.000e+00 1.350e+02 5.500e+00 3.000e+00 1.000e+00 2.008e+03\n",
            "  2.000e+00]\n",
            " [5.000e+01 5.000e+00 1.620e+02 1.800e+00 0.000e+00 1.000e+00 2.012e+03\n",
            "  0.000e+00]\n",
            " [5.500e+01 0.000e+00 8.300e+01 2.000e+00 3.000e+00 1.000e+00 2.013e+03\n",
            "  1.000e+00]]\n",
            "\n",
            "[15500. 20500. 35000. 17800. 16600.]\n"
          ],
          "name": "stdout"
        }
      ]
    },
    {
      "metadata": {
        "id": "Uf_SQswNUPwM",
        "colab_type": "text"
      },
      "cell_type": "markdown",
      "source": [
        "## 1.2 Split the data into test and train datasets using train_test_split"
      ]
    },
    {
      "metadata": {
        "id": "iIiELKuKUOgR",
        "colab_type": "code",
        "colab": {}
      },
      "cell_type": "code",
      "source": [
        "X_train, X_test, y_train, y_test = train_test_split(X, y, random_state=42)\n",
        "\n"
      ],
      "execution_count": 0,
      "outputs": []
    },
    {
      "metadata": {
        "id": "0AdXWiwoUstf",
        "colab_type": "text"
      },
      "cell_type": "markdown",
      "source": [
        "## 1.3 Use Scikit-Learn to fit a multiple regression model using your training data."
      ]
    },
    {
      "metadata": {
        "id": "Zw70rt71U1xf",
        "colab_type": "code",
        "colab": {}
      },
      "cell_type": "code",
      "source": [
        "LinReg = LinearRegression().fit(X_train, y_train)"
      ],
      "execution_count": 0,
      "outputs": []
    },
    {
      "metadata": {
        "id": "82fH2rilU7j3",
        "colab_type": "text"
      },
      "cell_type": "markdown",
      "source": [
        "## 1.4 Report the Intercept and Coefficient Values for the fitted model"
      ]
    },
    {
      "metadata": {
        "id": "ue6hCHGqVE83",
        "colab_type": "code",
        "colab": {
          "base_uri": "https://localhost:8080/",
          "height": 102
        },
        "outputId": "bd34055f-2a9a-40df-99cb-738eb12deccd"
      },
      "cell_type": "code",
      "source": [
        "print(\"Coefficients:\\n\", LinReg.coef_)\n",
        "print()\n",
        "print(\"Intercept:\", LinReg.intercept_)"
      ],
      "execution_count": 101,
      "outputs": [
        {
          "output_type": "stream",
          "text": [
            "Coefficients:\n",
            " [  -33.80914554 -1721.02501098   -39.96352172   272.10204943\n",
            " -1085.33344434  4487.51810936  1145.2506681   8462.04541339]\n",
            "\n",
            "Intercept: -2278702.1490454725\n"
          ],
          "name": "stdout"
        }
      ]
    },
    {
      "metadata": {
        "id": "T0CV0OnDVZbu",
        "colab_type": "text"
      },
      "cell_type": "markdown",
      "source": [
        "## 1.5 Use the test data to make predictions"
      ]
    },
    {
      "metadata": {
        "id": "vrR5b5c3VwE5",
        "colab_type": "code",
        "colab": {
          "base_uri": "https://localhost:8080/",
          "height": 68
        },
        "outputId": "0a0af041-fc5a-4d32-f337-576de1aaefe5"
      },
      "cell_type": "code",
      "source": [
        "y_pred = LinReg.predict(X_test)\n",
        "\n",
        "print(\"Some predictions:\\n\", y_pred[:5])"
      ],
      "execution_count": 102,
      "outputs": [
        {
          "output_type": "stream",
          "text": [
            "Some predictions:\n",
            " [19194.45968216  5367.93233327 26151.89784368 12431.42128975\n",
            " 24798.22996019]\n"
          ],
          "name": "stdout"
        }
      ]
    },
    {
      "metadata": {
        "id": "ZwQb3gE7VycT",
        "colab_type": "text"
      },
      "cell_type": "markdown",
      "source": [
        "## 1.6 Calculate and report both the Root-Mean-Square error and $R^2$ for the model. "
      ]
    },
    {
      "metadata": {
        "id": "Ym2kjxWhU6b2",
        "colab_type": "code",
        "colab": {
          "base_uri": "https://localhost:8080/",
          "height": 68
        },
        "outputId": "67f610ab-9248-40da-c4ba-a8509cdf856f"
      },
      "cell_type": "code",
      "source": [
        "print(\"R^2 on Test Set: {:.2f}\".format(LinReg.score(X_test, y_test)))\n",
        "print()\n",
        "print(\"RMSE: {:.2f}\".format(np.sqrt(mean_squared_error(y_test, y_pred))))"
      ],
      "execution_count": 103,
      "outputs": [
        {
          "output_type": "stream",
          "text": [
            "R^2 on Test Set: 0.30\n",
            "\n",
            "RMSE: 20338.84\n"
          ],
          "name": "stdout"
        }
      ]
    },
    {
      "metadata": {
        "id": "kIXhGHIgXHyJ",
        "colab_type": "text"
      },
      "cell_type": "markdown",
      "source": [
        "## 1.7 How should we interpret the coefficient corresponding to the \"year\" feature?"
      ]
    },
    {
      "metadata": {
        "id": "8iA8Q6L7yZKb",
        "colab_type": "code",
        "colab": {
          "base_uri": "https://localhost:8080/",
          "height": 390
        },
        "outputId": "444ce2fd-42cb-4489-c88f-93d79150f60a"
      },
      "cell_type": "code",
      "source": [
        "df.plot.scatter(x='year', y='price', c='green')"
      ],
      "execution_count": 104,
      "outputs": [
        {
          "output_type": "execute_result",
          "data": {
            "text/plain": [
              "<matplotlib.axes._subplots.AxesSubplot at 0x7fc04626f710>"
            ]
          },
          "metadata": {
            "tags": []
          },
          "execution_count": 104
        },
        {
          "output_type": "display_data",
          "data": {
            "image/png": "[encoded data removed]",
            "text/plain": [
              "<Figure size 576x396 with 1 Axes>"
            ]
          },
          "metadata": {
            "tags": []
          }
        }
      ]
    },
    {
      "metadata": {
        "id": "yiqIfLowylPr",
        "colab_type": "code",
        "colab": {
          "base_uri": "https://localhost:8080/",
          "height": 390
        },
        "outputId": "5ef68be5-9ed9-4e82-9ad2-c20dbad7f0fc"
      },
      "cell_type": "code",
      "source": [
        "df.plot.scatter(x='year', y='price_logged', c='green')"
      ],
      "execution_count": 105,
      "outputs": [
        {
          "output_type": "execute_result",
          "data": {
            "text/plain": [
              "<matplotlib.axes._subplots.AxesSubplot at 0x7fc0461d91d0>"
            ]
          },
          "metadata": {
            "tags": []
          },
          "execution_count": 105
        },
        {
          "output_type": "display_data",
          "data": {
            "image/png": "[encoded data removed]",
            "text/plain": [
              "<Figure size 576x396 with 1 Axes>"
            ]
          },
          "metadata": {
            "tags": []
          }
        }
      ]
    },
    {
      "metadata": {
        "id": "8jv2n0wAXgHU",
        "colab_type": "text"
      },
      "cell_type": "markdown",
      "source": [
        "### Answer: The 'year' coefficient should be interpreted as \"every increase in year by one year, price increases by around $1145\"."
      ]
    },
    {
      "metadata": {
        "id": "ckQ5GsOtYsjn",
        "colab_type": "text"
      },
      "cell_type": "markdown",
      "source": [
        "## 1.8 How should we interpret the Root-Mean-Square Error?"
      ]
    },
    {
      "metadata": {
        "id": "F982IeSgYyp6",
        "colab_type": "text"
      },
      "cell_type": "markdown",
      "source": [
        "### Answer: The MSE (Mean Squared Error) is a measure of the vertical spread of the data.  RMSE (Root Mean Squared Error) is the square root of the MSE, and so it's like the standard deviation of the unexplained variance in y in the same units as the y or the dependent variable."
      ]
    },
    {
      "metadata": {
        "id": "T3sZrru_YzFF",
        "colab_type": "text"
      },
      "cell_type": "markdown",
      "source": [
        "## 1.9 How should we interpret the $R^2$?"
      ]
    },
    {
      "metadata": {
        "id": "5pN2Oet_Y5jR",
        "colab_type": "text"
      },
      "cell_type": "markdown",
      "source": [
        "### Answer: R^2 or the Coefficient of Determination is the square of r (Pearson's correlation coefficient).  It always ranges from 0 to 1.  And it shows the percentage variation in y which is explained by all the X variables together.  It is a \"measure of the goodness of fit\".  The downside of R^2 is that the number always goes up with the increase in the number of features, so it doesn't necessarily tell us how good the explanatory variables are individually as predictors."
      ]
    },
    {
      "metadata": {
        "id": "Z_VNy7e3Y5sT",
        "colab_type": "text"
      },
      "cell_type": "markdown",
      "source": [
        "# Log-Linear and Polynomial Regression"
      ]
    },
    {
      "metadata": {
        "id": "G2T4FSqRZOJA",
        "colab_type": "text"
      },
      "cell_type": "markdown",
      "source": [
        "## 2.1 Engineer a new variable by taking the log of the price varible."
      ]
    },
    {
      "metadata": {
        "id": "7EChAFNxZX24",
        "colab_type": "code",
        "colab": {
          "base_uri": "https://localhost:8080/",
          "height": 376
        },
        "outputId": "f493b333-894c-4b71-f3ef-44f27838c997"
      },
      "cell_type": "code",
      "source": [
        "price_logged = np.log(df['price'])\n",
        "\n",
        "price_logged.hist(bins=50)"
      ],
      "execution_count": 106,
      "outputs": [
        {
          "output_type": "execute_result",
          "data": {
            "text/plain": [
              "<matplotlib.axes._subplots.AxesSubplot at 0x7fc0461b3fd0>"
            ]
          },
          "metadata": {
            "tags": []
          },
          "execution_count": 106
        },
        {
          "output_type": "display_data",
          "data": {
            "image/png": "[encoded data removed]",
            "text/plain": [
              "<Figure size 576x396 with 1 Axes>"
            ]
          },
          "metadata": {
            "tags": []
          }
        }
      ]
    },
    {
      "metadata": {
        "id": "R117rxnOZw6q",
        "colab_type": "text"
      },
      "cell_type": "markdown",
      "source": [
        "## 2.2 Use scatterplots or seaborn's pairplot function to do the \"eyeball test\" for non-linearly distributed features."
      ]
    },
    {
      "metadata": {
        "id": "8l56Qk7VaBrU",
        "colab_type": "code",
        "colab": {
          "base_uri": "https://localhost:8080/",
          "height": 205
        },
        "outputId": "f4b9f029-c420-407a-e754-c8666e5c0395"
      },
      "cell_type": "code",
      "source": [
        "##### Your Code Here #####\n",
        "sns.set(style=\"ticks\", color_codes=True)\n",
        "\n",
        "# Generate a list of column headers not including price\n",
        "df_columns = df.columns.drop(['price', 'price_logged'])\n",
        "\n",
        "# Only plot the scatterplot of x variables with our y variable\n",
        "fig = sns.pairplot(data=df, y_vars=['price'], x_vars=df_columns)"
      ],
      "execution_count": 107,
      "outputs": [
        {
          "output_type": "display_data",
          "data": {
            "image/png": "[encoded data removed]",
            "text/plain": [
              "<Figure size 1440x180 with 8 Axes>"
            ]
          },
          "metadata": {
            "tags": []
          }
        }
      ]
    },
    {
      "metadata": {
        "id": "s591uUAW4HfW",
        "colab_type": "code",
        "colab": {
          "base_uri": "https://localhost:8080/",
          "height": 205
        },
        "outputId": "179540b9-1053-4a3f-b436-0e219e57e8de"
      },
      "cell_type": "code",
      "source": [
        "#### Same as above except using price_logged instead of price ####\n",
        "\n",
        "\n",
        "sns.set(style=\"ticks\", color_codes=True)\n",
        "\n",
        "# Generate a list of column headers not including price\n",
        "df_columns = df.columns.drop(['price', 'price_logged'])\n",
        "\n",
        "# Only plot the scatterplot of x variables with our y variable\n",
        "fig = sns.pairplot(data=df, y_vars=['price_logged'], x_vars=df_columns)"
      ],
      "execution_count": 108,
      "outputs": [
        {
          "output_type": "display_data",
          "data": {
            "image/png": "[encoded data removed]",
            "text/plain": [
              "<Figure size 1440x180 with 8 Axes>"
            ]
          },
          "metadata": {
            "tags": []
          }
        }
      ]
    },
    {
      "metadata": {
        "id": "QTf4gCaDaiCw",
        "colab_type": "text"
      },
      "cell_type": "markdown",
      "source": [
        "## 2.3 If appropriate, create any polynomial features. "
      ]
    },
    {
      "metadata": {
        "id": "ipsCcH83ZMe8",
        "colab_type": "code",
        "colab": {
          "base_uri": "https://localhost:8080/",
          "height": 204
        },
        "outputId": "a06274ee-3733-4d94-fb5c-8009cb379408"
      },
      "cell_type": "code",
      "source": [
        "# The 'year' variable looks like a prime candidate for polynomial features\n",
        "\n",
        "df['year_squared'] = df['year']**2\n",
        "\n",
        "\n",
        "df.head()"
      ],
      "execution_count": 109,
      "outputs": [
        {
          "output_type": "execute_result",
          "data": {
            "text/html": [
              "<div>\n",
              "<style scoped>\n",
              "    .dataframe tbody tr th:only-of-type {\n",
              "        vertical-align: middle;\n",
              "    }\n",
              "\n",
              "    .dataframe tbody tr th {\n",
              "        vertical-align: top;\n",
              "    }\n",
              "\n",
              "    .dataframe thead th {\n",
              "        text-align: right;\n",
              "    }\n",
              "</style>\n",
              "<table border=\"1\" class=\"dataframe\">\n",
              "  <thead>\n",
              "    <tr style=\"text-align: right;\">\n",
              "      <th></th>\n",
              "      <th>make</th>\n",
              "      <th>price</th>\n",
              "      <th>body</th>\n",
              "      <th>mileage</th>\n",
              "      <th>engV</th>\n",
              "      <th>engType</th>\n",
              "      <th>registration</th>\n",
              "      <th>year</th>\n",
              "      <th>drive</th>\n",
              "      <th>price_logged</th>\n",
              "      <th>year_squared</th>\n",
              "    </tr>\n",
              "  </thead>\n",
              "  <tbody>\n",
              "    <tr>\n",
              "      <th>0</th>\n",
              "      <td>23</td>\n",
              "      <td>15500.0</td>\n",
              "      <td>0</td>\n",
              "      <td>68</td>\n",
              "      <td>2.5</td>\n",
              "      <td>1</td>\n",
              "      <td>1</td>\n",
              "      <td>2010</td>\n",
              "      <td>1</td>\n",
              "      <td>9.648595</td>\n",
              "      <td>4040100</td>\n",
              "    </tr>\n",
              "    <tr>\n",
              "      <th>1</th>\n",
              "      <td>50</td>\n",
              "      <td>20500.0</td>\n",
              "      <td>3</td>\n",
              "      <td>173</td>\n",
              "      <td>1.8</td>\n",
              "      <td>1</td>\n",
              "      <td>1</td>\n",
              "      <td>2011</td>\n",
              "      <td>2</td>\n",
              "      <td>9.928180</td>\n",
              "      <td>4044121</td>\n",
              "    </tr>\n",
              "    <tr>\n",
              "      <th>2</th>\n",
              "      <td>50</td>\n",
              "      <td>35000.0</td>\n",
              "      <td>2</td>\n",
              "      <td>135</td>\n",
              "      <td>5.5</td>\n",
              "      <td>3</td>\n",
              "      <td>1</td>\n",
              "      <td>2008</td>\n",
              "      <td>2</td>\n",
              "      <td>10.463103</td>\n",
              "      <td>4032064</td>\n",
              "    </tr>\n",
              "    <tr>\n",
              "      <th>3</th>\n",
              "      <td>50</td>\n",
              "      <td>17800.0</td>\n",
              "      <td>5</td>\n",
              "      <td>162</td>\n",
              "      <td>1.8</td>\n",
              "      <td>0</td>\n",
              "      <td>1</td>\n",
              "      <td>2012</td>\n",
              "      <td>0</td>\n",
              "      <td>9.786954</td>\n",
              "      <td>4048144</td>\n",
              "    </tr>\n",
              "    <tr>\n",
              "      <th>4</th>\n",
              "      <td>55</td>\n",
              "      <td>16600.0</td>\n",
              "      <td>0</td>\n",
              "      <td>83</td>\n",
              "      <td>2.0</td>\n",
              "      <td>3</td>\n",
              "      <td>1</td>\n",
              "      <td>2013</td>\n",
              "      <td>1</td>\n",
              "      <td>9.717158</td>\n",
              "      <td>4052169</td>\n",
              "    </tr>\n",
              "  </tbody>\n",
              "</table>\n",
              "</div>"
            ],
            "text/plain": [
              "   make    price  body  mileage  engV  engType  registration  year  drive  \\\n",
              "0    23  15500.0     0       68   2.5        1             1  2010      1   \n",
              "1    50  20500.0     3      173   1.8        1             1  2011      2   \n",
              "2    50  35000.0     2      135   5.5        3             1  2008      2   \n",
              "3    50  17800.0     5      162   1.8        0             1  2012      0   \n",
              "4    55  16600.0     0       83   2.0        3             1  2013      1   \n",
              "\n",
              "   price_logged  year_squared  \n",
              "0      9.648595       4040100  \n",
              "1      9.928180       4044121  \n",
              "2     10.463103       4032064  \n",
              "3      9.786954       4048144  \n",
              "4      9.717158       4052169  "
            ]
          },
          "metadata": {
            "tags": []
          },
          "execution_count": 109
        }
      ]
    },
    {
      "metadata": {
        "id": "NJgfD-JLayRA",
        "colab_type": "text"
      },
      "cell_type": "markdown",
      "source": [
        "## 2.4 Use the new log-transformed y variable and your x variables (including any new polynomial features) to fit a new linear regression model. Then report the: intercept, coefficients, RMSE, and $R^2$."
      ]
    },
    {
      "metadata": {
        "id": "uXmtVpnPcFij",
        "colab_type": "code",
        "colab": {
          "base_uri": "https://localhost:8080/",
          "height": 187
        },
        "outputId": "48174ba2-a2ee-4a79-c2c3-b7be50d79f34"
      },
      "cell_type": "code",
      "source": [
        "X = df[['make', 'body', 'mileage', 'engV', 'engType', 'registration',\n",
        "        'drive','year', 'year_squared']].values\n",
        "y = df['price_logged'].values\n",
        "\n",
        "X_train, X_test, y_train, y_test = train_test_split(X, y, random_state=42)\n",
        "\n",
        "LinReg2 = LinearRegression().fit(X_train, y_train)\n",
        "\n",
        "y_pred = LinReg2.predict(X_test)\n",
        "\n",
        "print('Coefficients:\\n', LinReg2.coef_)\n",
        "print()\n",
        "print('Intercept: ', LinReg2.intercept_)\n",
        "print()\n",
        "print('R^2 for Test set: {:.2f}'.format(LinReg2.score(X_test, y_test)))\n",
        "print()\n",
        "print('RMSE: {:.2f}'.format(np.sqrt(mean_squared_error(y_test, y_pred))))"
      ],
      "execution_count": 117,
      "outputs": [
        {
          "output_type": "stream",
          "text": [
            "Coefficients:\n",
            " [-1.58780120e-03 -9.04554791e-02  6.84115159e-04  8.38817792e-03\n",
            " -4.88819193e-02  6.68632563e-01  3.79037603e-01 -6.09456487e+00\n",
            "  1.54762612e-03]\n",
            "\n",
            "Intercept:  6006.4389287175945\n",
            "\n",
            "R^2 for Test set: 0.67\n",
            "\n",
            "RMSE: 0.56\n"
          ],
          "name": "stdout"
        }
      ]
    },
    {
      "metadata": {
        "id": "xgsDaG3CD5TC",
        "colab_type": "code",
        "colab": {
          "base_uri": "https://localhost:8080/",
          "height": 612
        },
        "outputId": "d94e6d81-4ab8-4d05-c6b5-47d72af64224"
      },
      "cell_type": "code",
      "source": [
        "# Use Statsmodels to run a regression\n",
        "\n",
        "X = df[['make', 'body', 'mileage', 'engV', 'engType', 'registration',\n",
        "        'drive','year', 'year_squared']]\n",
        "y = df['price_logged']\n",
        "\n",
        "\n",
        "# This is like using np.ones to add a vector of ones\n",
        "X = sm.add_constant(X)\n",
        "\n",
        "model = sm.OLS(y, X).fit()\n",
        "predictions = model.predict(X) \n",
        "\n",
        "print_model = model.summary()\n",
        "print(print_model)"
      ],
      "execution_count": 122,
      "outputs": [
        {
          "output_type": "stream",
          "text": [
            "                            OLS Regression Results                            \n",
            "==============================================================================\n",
            "Dep. Variable:           price_logged   R-squared:                       0.674\n",
            "Model:                            OLS   Adj. R-squared:                  0.673\n",
            "Method:                 Least Squares   F-statistic:                     1948.\n",
            "Date:                Fri, 18 Jan 2019   Prob (F-statistic):               0.00\n",
            "Time:                        17:50:38   Log-Likelihood:                -6964.2\n",
            "No. Observations:                8495   AIC:                         1.395e+04\n",
            "Df Residuals:                    8485   BIC:                         1.402e+04\n",
            "Df Model:                           9                                         \n",
            "Covariance Type:            nonrobust                                         \n",
            "================================================================================\n",
            "                   coef    std err          t      P>|t|      [0.025      0.975]\n",
            "--------------------------------------------------------------------------------\n",
            "const         6418.6476    324.059     19.807      0.000    5783.412    7053.883\n",
            "make            -0.0017      0.000     -6.903      0.000      -0.002      -0.001\n",
            "body            -0.0955      0.004    -23.950      0.000      -0.103      -0.088\n",
            "mileage          0.0007   8.52e-05      7.996      0.000       0.001       0.001\n",
            "engV             0.0086      0.001      7.696      0.000       0.006       0.011\n",
            "engType         -0.0476      0.005     -9.953      0.000      -0.057      -0.038\n",
            "registration     0.6552      0.027     24.471      0.000       0.603       0.708\n",
            "drive            0.3756      0.009     43.734      0.000       0.359       0.392\n",
            "year            -6.5067      0.324    -20.076      0.000      -7.142      -5.871\n",
            "year_squared     0.0017    8.1e-05     20.369      0.000       0.001       0.002\n",
            "==============================================================================\n",
            "Omnibus:                      236.710   Durbin-Watson:                   1.921\n",
            "Prob(Omnibus):                  0.000   Jarque-Bera (JB):              571.052\n",
            "Skew:                          -0.088   Prob(JB):                    9.94e-125\n",
            "Kurtosis:                       4.258   Cond. No.                     2.19e+11\n",
            "==============================================================================\n",
            "\n",
            "Warnings:\n",
            "[1] Standard Errors assume that the covariance matrix of the errors is correctly specified.\n",
            "[2] The condition number is large, 2.19e+11. This might indicate that there are\n",
            "strong multicollinearity or other numerical problems.\n"
          ],
          "name": "stdout"
        }
      ]
    },
    {
      "metadata": {
        "id": "j7eE-slHHO0U",
        "colab_type": "code",
        "colab": {
          "base_uri": "https://localhost:8080/",
          "height": 204
        },
        "outputId": "3a85595e-72c4-4d6e-f602-25452d11cb91"
      },
      "cell_type": "code",
      "source": [
        "df['year_square_root'] = np.sqrt(df['year'])\n",
        "df.head()"
      ],
      "execution_count": 123,
      "outputs": [
        {
          "output_type": "execute_result",
          "data": {
            "text/html": [
              "<div>\n",
              "<style scoped>\n",
              "    .dataframe tbody tr th:only-of-type {\n",
              "        vertical-align: middle;\n",
              "    }\n",
              "\n",
              "    .dataframe tbody tr th {\n",
              "        vertical-align: top;\n",
              "    }\n",
              "\n",
              "    .dataframe thead th {\n",
              "        text-align: right;\n",
              "    }\n",
              "</style>\n",
              "<table border=\"1\" class=\"dataframe\">\n",
              "  <thead>\n",
              "    <tr style=\"text-align: right;\">\n",
              "      <th></th>\n",
              "      <th>make</th>\n",
              "      <th>price</th>\n",
              "      <th>body</th>\n",
              "      <th>mileage</th>\n",
              "      <th>engV</th>\n",
              "      <th>engType</th>\n",
              "      <th>registration</th>\n",
              "      <th>year</th>\n",
              "      <th>drive</th>\n",
              "      <th>price_logged</th>\n",
              "      <th>year_squared</th>\n",
              "      <th>year_square_root</th>\n",
              "    </tr>\n",
              "  </thead>\n",
              "  <tbody>\n",
              "    <tr>\n",
              "      <th>0</th>\n",
              "      <td>23</td>\n",
              "      <td>15500.0</td>\n",
              "      <td>0</td>\n",
              "      <td>68</td>\n",
              "      <td>2.5</td>\n",
              "      <td>1</td>\n",
              "      <td>1</td>\n",
              "      <td>2010</td>\n",
              "      <td>1</td>\n",
              "      <td>9.648595</td>\n",
              "      <td>4040100</td>\n",
              "      <td>44.833024</td>\n",
              "    </tr>\n",
              "    <tr>\n",
              "      <th>1</th>\n",
              "      <td>50</td>\n",
              "      <td>20500.0</td>\n",
              "      <td>3</td>\n",
              "      <td>173</td>\n",
              "      <td>1.8</td>\n",
              "      <td>1</td>\n",
              "      <td>1</td>\n",
              "      <td>2011</td>\n",
              "      <td>2</td>\n",
              "      <td>9.928180</td>\n",
              "      <td>4044121</td>\n",
              "      <td>44.844175</td>\n",
              "    </tr>\n",
              "    <tr>\n",
              "      <th>2</th>\n",
              "      <td>50</td>\n",
              "      <td>35000.0</td>\n",
              "      <td>2</td>\n",
              "      <td>135</td>\n",
              "      <td>5.5</td>\n",
              "      <td>3</td>\n",
              "      <td>1</td>\n",
              "      <td>2008</td>\n",
              "      <td>2</td>\n",
              "      <td>10.463103</td>\n",
              "      <td>4032064</td>\n",
              "      <td>44.810713</td>\n",
              "    </tr>\n",
              "    <tr>\n",
              "      <th>3</th>\n",
              "      <td>50</td>\n",
              "      <td>17800.0</td>\n",
              "      <td>5</td>\n",
              "      <td>162</td>\n",
              "      <td>1.8</td>\n",
              "      <td>0</td>\n",
              "      <td>1</td>\n",
              "      <td>2012</td>\n",
              "      <td>0</td>\n",
              "      <td>9.786954</td>\n",
              "      <td>4048144</td>\n",
              "      <td>44.855323</td>\n",
              "    </tr>\n",
              "    <tr>\n",
              "      <th>4</th>\n",
              "      <td>55</td>\n",
              "      <td>16600.0</td>\n",
              "      <td>0</td>\n",
              "      <td>83</td>\n",
              "      <td>2.0</td>\n",
              "      <td>3</td>\n",
              "      <td>1</td>\n",
              "      <td>2013</td>\n",
              "      <td>1</td>\n",
              "      <td>9.717158</td>\n",
              "      <td>4052169</td>\n",
              "      <td>44.866469</td>\n",
              "    </tr>\n",
              "  </tbody>\n",
              "</table>\n",
              "</div>"
            ],
            "text/plain": [
              "   make    price  body  mileage  engV  engType  registration  year  drive  \\\n",
              "0    23  15500.0     0       68   2.5        1             1  2010      1   \n",
              "1    50  20500.0     3      173   1.8        1             1  2011      2   \n",
              "2    50  35000.0     2      135   5.5        3             1  2008      2   \n",
              "3    50  17800.0     5      162   1.8        0             1  2012      0   \n",
              "4    55  16600.0     0       83   2.0        3             1  2013      1   \n",
              "\n",
              "   price_logged  year_squared  year_square_root  \n",
              "0      9.648595       4040100         44.833024  \n",
              "1      9.928180       4044121         44.844175  \n",
              "2     10.463103       4032064         44.810713  \n",
              "3      9.786954       4048144         44.855323  \n",
              "4      9.717158       4052169         44.866469  "
            ]
          },
          "metadata": {
            "tags": []
          },
          "execution_count": 123
        }
      ]
    },
    {
      "metadata": {
        "id": "4j7YFUz8Hc8W",
        "colab_type": "code",
        "colab": {
          "base_uri": "https://localhost:8080/",
          "height": 612
        },
        "outputId": "f22b73f2-1191-430b-c281-de150c32e101"
      },
      "cell_type": "code",
      "source": [
        "X = df[['make', 'body', 'mileage', 'engV', 'engType', 'registration',\n",
        "        'drive','year', 'year_square_root']]\n",
        "y = df['price_logged']\n",
        "\n",
        "\n",
        "# This is like using np.ones to add a vector of ones\n",
        "X = sm.add_constant(X)\n",
        "\n",
        "model = sm.OLS(y, X).fit()\n",
        "predictions = model.predict(X) \n",
        "\n",
        "print_model = model.summary()\n",
        "print(print_model)"
      ],
      "execution_count": 127,
      "outputs": [
        {
          "output_type": "stream",
          "text": [
            "                            OLS Regression Results                            \n",
            "==============================================================================\n",
            "Dep. Variable:           price_logged   R-squared:                       0.674\n",
            "Model:                            OLS   Adj. R-squared:                  0.673\n",
            "Method:                 Least Squares   F-statistic:                     1947.\n",
            "Date:                Fri, 18 Jan 2019   Prob (F-statistic):               0.00\n",
            "Time:                        18:07:28   Log-Likelihood:                -6964.7\n",
            "No. Observations:                8495   AIC:                         1.395e+04\n",
            "Df Residuals:                    8485   BIC:                         1.402e+04\n",
            "Df Model:                           9                                         \n",
            "Covariance Type:            nonrobust                                         \n",
            "====================================================================================\n",
            "                       coef    std err          t      P>|t|      [0.025      0.975]\n",
            "------------------------------------------------------------------------------------\n",
            "const             2.614e+04   1293.515     20.206      0.000    2.36e+04    2.87e+04\n",
            "make                -0.0017      0.000     -6.900      0.000      -0.002      -0.001\n",
            "body                -0.0955      0.004    -23.952      0.000      -0.103      -0.088\n",
            "mileage              0.0007   8.51e-05      7.978      0.000       0.001       0.001\n",
            "engV                 0.0086      0.001      7.693      0.000       0.006       0.011\n",
            "engType             -0.0476      0.005     -9.959      0.000      -0.057      -0.038\n",
            "registration         0.6553      0.027     24.470      0.000       0.603       0.708\n",
            "drive                0.3757      0.009     43.738      0.000       0.359       0.393\n",
            "year                13.2564      0.647     20.493      0.000      11.988      14.524\n",
            "year_square_root -1177.1035     57.853    -20.346      0.000   -1290.509   -1063.698\n",
            "==============================================================================\n",
            "Omnibus:                      236.872   Durbin-Watson:                   1.921\n",
            "Prob(Omnibus):                  0.000   Jarque-Bera (JB):              571.658\n",
            "Skew:                          -0.088   Prob(JB):                    7.35e-125\n",
            "Kurtosis:                       4.259   Cond. No.                     4.37e+08\n",
            "==============================================================================\n",
            "\n",
            "Warnings:\n",
            "[1] Standard Errors assume that the covariance matrix of the errors is correctly specified.\n",
            "[2] The condition number is large, 4.37e+08. This might indicate that there are\n",
            "strong multicollinearity or other numerical problems.\n"
          ],
          "name": "stdout"
        }
      ]
    },
    {
      "metadata": {
        "id": "uslv5ukLH94K",
        "colab_type": "code",
        "colab": {
          "base_uri": "https://localhost:8080/",
          "height": 187
        },
        "outputId": "f8a012a9-2e16-4ba2-cb25-7e885a89cb12"
      },
      "cell_type": "code",
      "source": [
        "X = df[['make', 'body', 'mileage', 'engV', 'engType', 'registration',\n",
        "        'drive','year', 'year_square_root']].values\n",
        "y = df['price_logged'].values\n",
        "\n",
        "X_train, X_test, y_train, y_test = train_test_split(X, y, random_state=42)\n",
        "\n",
        "LinReg2 = LinearRegression().fit(X_train, y_train)\n",
        "\n",
        "y_pred = LinReg2.predict(X_test)\n",
        "\n",
        "print('Coefficients:\\n', LinReg2.coef_)\n",
        "print()\n",
        "print('Intercept: ', LinReg2.intercept_)\n",
        "print()\n",
        "print('R^2 for Test set: {:.2f}'.format(LinReg2.score(X_test, y_test)))\n",
        "print()\n",
        "print('RMSE: {:.2f}'.format(np.sqrt(mean_squared_error(y_test, y_pred))))"
      ],
      "execution_count": 128,
      "outputs": [
        {
          "output_type": "stream",
          "text": [
            "Coefficients:\n",
            " [-1.58708352e-03 -9.04673821e-02  6.82496884e-04  8.38623314e-03\n",
            " -4.89112899e-02  6.68656377e-01  3.79089073e-01  1.24346583e+01\n",
            " -1.10360044e+03]\n",
            "\n",
            "Intercept:  24493.009641679233\n",
            "\n",
            "R^2 for Test set: 0.67\n",
            "\n",
            "RMSE: 0.56\n"
          ],
          "name": "stdout"
        }
      ]
    },
    {
      "metadata": {
        "id": "hf4_8FXrpHFY",
        "colab_type": "text"
      },
      "cell_type": "markdown",
      "source": [
        "## 2.5 How might we interpret the coefficient on \"year\" in this new regression model?"
      ]
    },
    {
      "metadata": {
        "id": "JVGKvt5WpTf2",
        "colab_type": "text"
      },
      "cell_type": "markdown",
      "source": [
        "### Answer: \"A one unit increase in year will result in the increase in  a percentage increase in price equal to the coefficient for year which in this case is (-6.50). \"  However when I run the regression again using the square root of the year instead of year squared above, the model doesn't improve in terms of R^2 or RMSE, but I get a coefficient where the sign flips on the year coefficient.\"\n"
      ]
    },
    {
      "metadata": {
        "id": "JUQwzfDRfrQi",
        "colab_type": "text"
      },
      "cell_type": "markdown",
      "source": [
        "# Gradient Descent"
      ]
    },
    {
      "metadata": {
        "id": "M_JLfReVeoYT",
        "colab_type": "text"
      },
      "cell_type": "markdown",
      "source": [
        "## 3.1 What does Gradient Descent seek to minimize?"
      ]
    },
    {
      "metadata": {
        "id": "-ezM_NS2fIJe",
        "colab_type": "text"
      },
      "cell_type": "markdown",
      "source": [
        "### Answer: The Gradient Descent seeks to minimize the SSE (sum of squared errors) which is the sum of the difference between predictions and actual y-values squared."
      ]
    },
    {
      "metadata": {
        "id": "unqhNRYnfIL4",
        "colab_type": "text"
      },
      "cell_type": "markdown",
      "source": [
        "## 3.2 What is the \"Learning Rate\" and what is its function?"
      ]
    },
    {
      "metadata": {
        "id": "7jhKwIOVfT6B",
        "colab_type": "text"
      },
      "cell_type": "markdown",
      "source": [
        "### Answer: The Learning Rate determines how fast the Gradient Descent tries to minimize the cost function, in other words how big our steps our towards finding the global minimum of MSE of our data."
      ]
    },
    {
      "metadata": {
        "id": "Gs20FOntprd_",
        "colab_type": "text"
      },
      "cell_type": "markdown",
      "source": [
        "# Model Diagnostics"
      ]
    },
    {
      "metadata": {
        "id": "VJnxkobcpulV",
        "colab_type": "text"
      },
      "cell_type": "markdown",
      "source": [
        "## 4.1 Use statsmodels to run a log-linear or log-polynomial linear regression with robust standard errors."
      ]
    },
    {
      "metadata": {
        "id": "QqCVeYBTpvfQ",
        "colab_type": "code",
        "colab": {
          "base_uri": "https://localhost:8080/",
          "height": 612
        },
        "outputId": "f63b1935-17a5-4d5d-de51-d348d5c5967e"
      },
      "cell_type": "code",
      "source": [
        "X = df[['make', 'body', 'mileage', 'engV', 'engType', 'registration',\n",
        "        'drive','year', 'year_squared']]\n",
        "y = df['price_logged']\n",
        "\n",
        "\n",
        "X = sm.add_constant(X)\n",
        "\n",
        "model = sm.OLS(y, X).fit(cov_type='HC3')\n",
        "predictions = model.predict(X) \n",
        "\n",
        "print_model = model.summary()\n",
        "print(print_model)"
      ],
      "execution_count": 134,
      "outputs": [
        {
          "output_type": "stream",
          "text": [
            "                            OLS Regression Results                            \n",
            "==============================================================================\n",
            "Dep. Variable:           price_logged   R-squared:                       0.674\n",
            "Model:                            OLS   Adj. R-squared:                  0.673\n",
            "Method:                 Least Squares   F-statistic:                     1870.\n",
            "Date:                Fri, 18 Jan 2019   Prob (F-statistic):               0.00\n",
            "Time:                        18:27:07   Log-Likelihood:                -6964.2\n",
            "No. Observations:                8495   AIC:                         1.395e+04\n",
            "Df Residuals:                    8485   BIC:                         1.402e+04\n",
            "Df Model:                           9                                         \n",
            "Covariance Type:                  HC3                                         \n",
            "================================================================================\n",
            "                   coef    std err          z      P>|z|      [0.025      0.975]\n",
            "--------------------------------------------------------------------------------\n",
            "const         6418.6476    624.441     10.279      0.000    5194.765    7642.530\n",
            "make            -0.0017      0.000     -6.268      0.000      -0.002      -0.001\n",
            "body            -0.0955      0.004    -24.038      0.000      -0.103      -0.088\n",
            "mileage          0.0007      0.000      6.049      0.000       0.000       0.001\n",
            "engV             0.0086      0.002      3.538      0.000       0.004       0.013\n",
            "engType         -0.0476      0.005     -9.996      0.000      -0.057      -0.038\n",
            "registration     0.6552      0.019     34.061      0.000       0.618       0.693\n",
            "drive            0.3756      0.010     38.331      0.000       0.356       0.395\n",
            "year            -6.5067      0.624    -10.428      0.000      -7.730      -5.284\n",
            "year_squared     0.0017      0.000     10.589      0.000       0.001       0.002\n",
            "==============================================================================\n",
            "Omnibus:                      236.710   Durbin-Watson:                   1.921\n",
            "Prob(Omnibus):                  0.000   Jarque-Bera (JB):              571.052\n",
            "Skew:                          -0.088   Prob(JB):                    9.94e-125\n",
            "Kurtosis:                       4.258   Cond. No.                     2.19e+11\n",
            "==============================================================================\n",
            "\n",
            "Warnings:\n",
            "[1] Standard Errors are heteroscedasticity robust (HC3)\n",
            "[2] The condition number is large, 2.19e+11. This might indicate that there are\n",
            "strong multicollinearity or other numerical problems.\n"
          ],
          "name": "stdout"
        }
      ]
    },
    {
      "metadata": {
        "id": "loKma3wspwVs",
        "colab_type": "text"
      },
      "cell_type": "markdown",
      "source": [
        "## 4.2 Calculate the Variance Inflation Factor (VIF) of our X variables. Do we have multicollinearity problems?"
      ]
    },
    {
      "metadata": {
        "id": "EN1mPKWhp2Vn",
        "colab_type": "code",
        "colab": {
          "base_uri": "https://localhost:8080/",
          "height": 139
        },
        "outputId": "6345e849-b98f-4895-9ff0-09b88cc8a770"
      },
      "cell_type": "code",
      "source": [
        "from statsmodels.stats.outliers_influence import variance_inflation_factor\n",
        "\n",
        "X = df[['make', 'body', 'mileage', 'engV', 'engType', 'registration',\n",
        "        'drive','year', 'year_squared']]\n",
        "\n",
        "print(X.columns, '\\n\\n')\n",
        "\n",
        "vif = [variance_inflation_factor(X.values, i) for i in range(X.shape[1])]\n",
        "print(vif)"
      ],
      "execution_count": 131,
      "outputs": [
        {
          "output_type": "stream",
          "text": [
            "Index(['make', 'body', 'mileage', 'engV', 'engType', 'registration', 'drive',\n",
            "       'year', 'year_squared'],\n",
            "      dtype='object') \n",
            "\n",
            "\n",
            "[4.872366393174108, 3.5263666834182184, 4.842736615172757, 1.2387469265764588, 2.870517349756317, 18.703709581546015, 1.8133725889353451, 125856.9098246065, 124958.67476207382]\n"
          ],
          "name": "stdout"
        }
      ]
    },
    {
      "metadata": {
        "id": "Tc5Bn5TjNLzd",
        "colab_type": "code",
        "colab": {
          "base_uri": "https://localhost:8080/",
          "height": 328
        },
        "outputId": "69d85d3a-2cca-4a55-aff3-0e63d8ec6409"
      },
      "cell_type": "code",
      "source": [
        "X.corr()"
      ],
      "execution_count": 132,
      "outputs": [
        {
          "output_type": "execute_result",
          "data": {
            "text/html": [
              "<div>\n",
              "<style scoped>\n",
              "    .dataframe tbody tr th:only-of-type {\n",
              "        vertical-align: middle;\n",
              "    }\n",
              "\n",
              "    .dataframe tbody tr th {\n",
              "        vertical-align: top;\n",
              "    }\n",
              "\n",
              "    .dataframe thead th {\n",
              "        text-align: right;\n",
              "    }\n",
              "</style>\n",
              "<table border=\"1\" class=\"dataframe\">\n",
              "  <thead>\n",
              "    <tr style=\"text-align: right;\">\n",
              "      <th></th>\n",
              "      <th>make</th>\n",
              "      <th>body</th>\n",
              "      <th>mileage</th>\n",
              "      <th>engV</th>\n",
              "      <th>engType</th>\n",
              "      <th>registration</th>\n",
              "      <th>drive</th>\n",
              "      <th>year</th>\n",
              "      <th>year_squared</th>\n",
              "    </tr>\n",
              "  </thead>\n",
              "  <tbody>\n",
              "    <tr>\n",
              "      <th>make</th>\n",
              "      <td>1.000000</td>\n",
              "      <td>0.026127</td>\n",
              "      <td>-0.035097</td>\n",
              "      <td>-0.021246</td>\n",
              "      <td>-0.011880</td>\n",
              "      <td>0.104557</td>\n",
              "      <td>-0.196444</td>\n",
              "      <td>-0.013833</td>\n",
              "      <td>-0.013679</td>\n",
              "    </tr>\n",
              "    <tr>\n",
              "      <th>body</th>\n",
              "      <td>0.026127</td>\n",
              "      <td>1.000000</td>\n",
              "      <td>0.287060</td>\n",
              "      <td>-0.025320</td>\n",
              "      <td>-0.184007</td>\n",
              "      <td>-0.082643</td>\n",
              "      <td>-0.162235</td>\n",
              "      <td>-0.154554</td>\n",
              "      <td>-0.154919</td>\n",
              "    </tr>\n",
              "    <tr>\n",
              "      <th>mileage</th>\n",
              "      <td>-0.035097</td>\n",
              "      <td>0.287060</td>\n",
              "      <td>1.000000</td>\n",
              "      <td>0.042081</td>\n",
              "      <td>-0.229644</td>\n",
              "      <td>-0.229354</td>\n",
              "      <td>0.067962</td>\n",
              "      <td>-0.503135</td>\n",
              "      <td>-0.504345</td>\n",
              "    </tr>\n",
              "    <tr>\n",
              "      <th>engV</th>\n",
              "      <td>-0.021246</td>\n",
              "      <td>-0.025320</td>\n",
              "      <td>0.042081</td>\n",
              "      <td>1.000000</td>\n",
              "      <td>-0.004896</td>\n",
              "      <td>-0.015274</td>\n",
              "      <td>0.084756</td>\n",
              "      <td>-0.041076</td>\n",
              "      <td>-0.041024</td>\n",
              "    </tr>\n",
              "    <tr>\n",
              "      <th>engType</th>\n",
              "      <td>-0.011880</td>\n",
              "      <td>-0.184007</td>\n",
              "      <td>-0.229644</td>\n",
              "      <td>-0.004896</td>\n",
              "      <td>1.000000</td>\n",
              "      <td>0.152988</td>\n",
              "      <td>-0.044859</td>\n",
              "      <td>-0.040471</td>\n",
              "      <td>-0.040323</td>\n",
              "    </tr>\n",
              "    <tr>\n",
              "      <th>registration</th>\n",
              "      <td>0.104557</td>\n",
              "      <td>-0.082643</td>\n",
              "      <td>-0.229354</td>\n",
              "      <td>-0.015274</td>\n",
              "      <td>0.152988</td>\n",
              "      <td>1.000000</td>\n",
              "      <td>-0.055793</td>\n",
              "      <td>0.185104</td>\n",
              "      <td>0.185613</td>\n",
              "    </tr>\n",
              "    <tr>\n",
              "      <th>drive</th>\n",
              "      <td>-0.196444</td>\n",
              "      <td>-0.162235</td>\n",
              "      <td>0.067962</td>\n",
              "      <td>0.084756</td>\n",
              "      <td>-0.044859</td>\n",
              "      <td>-0.055793</td>\n",
              "      <td>1.000000</td>\n",
              "      <td>-0.169709</td>\n",
              "      <td>-0.169444</td>\n",
              "    </tr>\n",
              "    <tr>\n",
              "      <th>year</th>\n",
              "      <td>-0.013833</td>\n",
              "      <td>-0.154554</td>\n",
              "      <td>-0.503135</td>\n",
              "      <td>-0.041076</td>\n",
              "      <td>-0.040471</td>\n",
              "      <td>0.185104</td>\n",
              "      <td>-0.169709</td>\n",
              "      <td>1.000000</td>\n",
              "      <td>0.999995</td>\n",
              "    </tr>\n",
              "    <tr>\n",
              "      <th>year_squared</th>\n",
              "      <td>-0.013679</td>\n",
              "      <td>-0.154919</td>\n",
              "      <td>-0.504345</td>\n",
              "      <td>-0.041024</td>\n",
              "      <td>-0.040323</td>\n",
              "      <td>0.185613</td>\n",
              "      <td>-0.169444</td>\n",
              "      <td>0.999995</td>\n",
              "      <td>1.000000</td>\n",
              "    </tr>\n",
              "  </tbody>\n",
              "</table>\n",
              "</div>"
            ],
            "text/plain": [
              "                  make      body   mileage      engV   engType  registration  \\\n",
              "make          1.000000  0.026127 -0.035097 -0.021246 -0.011880      0.104557   \n",
              "body          0.026127  1.000000  0.287060 -0.025320 -0.184007     -0.082643   \n",
              "mileage      -0.035097  0.287060  1.000000  0.042081 -0.229644     -0.229354   \n",
              "engV         -0.021246 -0.025320  0.042081  1.000000 -0.004896     -0.015274   \n",
              "engType      -0.011880 -0.184007 -0.229644 -0.004896  1.000000      0.152988   \n",
              "registration  0.104557 -0.082643 -0.229354 -0.015274  0.152988      1.000000   \n",
              "drive        -0.196444 -0.162235  0.067962  0.084756 -0.044859     -0.055793   \n",
              "year         -0.013833 -0.154554 -0.503135 -0.041076 -0.040471      0.185104   \n",
              "year_squared -0.013679 -0.154919 -0.504345 -0.041024 -0.040323      0.185613   \n",
              "\n",
              "                 drive      year  year_squared  \n",
              "make         -0.196444 -0.013833     -0.013679  \n",
              "body         -0.162235 -0.154554     -0.154919  \n",
              "mileage       0.067962 -0.503135     -0.504345  \n",
              "engV          0.084756 -0.041076     -0.041024  \n",
              "engType      -0.044859 -0.040471     -0.040323  \n",
              "registration -0.055793  0.185104      0.185613  \n",
              "drive         1.000000 -0.169709     -0.169444  \n",
              "year         -0.169709  1.000000      0.999995  \n",
              "year_squared -0.169444  0.999995      1.000000  "
            ]
          },
          "metadata": {
            "tags": []
          },
          "execution_count": 132
        }
      ]
    },
    {
      "metadata": {
        "id": "Cc1Jb2FlOU5u",
        "colab_type": "text"
      },
      "cell_type": "markdown",
      "source": [
        "### Answer: A VIF > 10 indicates collinearity problems with the varible and you can do a correlation matrix to figure out which features have high correlations with each other and drop them.  \n",
        "\n",
        "### My model shows high VIF for 'year' and 'year _squared', but the two variables are obviously related by design so that's not what I would deem a collinearity problem.\n",
        "\n",
        "### The other variable with very high VIF around 18 is the \"registration\" variable, and when I run correlation matrix it shows that \"registration\" is highly correlated with \"mileage\".  \n",
        "\n",
        "### Let's see what happens if we do drop the \"registration\" variable."
      ]
    },
    {
      "metadata": {
        "id": "qEg6NtZTPmPy",
        "colab_type": "code",
        "colab": {
          "base_uri": "https://localhost:8080/",
          "height": 170
        },
        "outputId": "d2d2a56a-2d48-4053-f976-96a7cf1a049e"
      },
      "cell_type": "code",
      "source": [
        "X = df[['make', 'body', 'mileage', 'engV', 'engType',\n",
        "        'drive','year', 'year_square_root']].values\n",
        "y = df['price_logged'].values\n",
        "\n",
        "X_train, X_test, y_train, y_test = train_test_split(X, y, random_state=42)\n",
        "\n",
        "LinReg3 = LinearRegression().fit(X_train, y_train)\n",
        "\n",
        "y_pred = LinReg3.predict(X_test)\n",
        "\n",
        "print('Coefficients:\\n', LinReg3.coef_)\n",
        "print()\n",
        "print('Intercept: ', LinReg3.intercept_)\n",
        "print()\n",
        "print('R^2 for Test set: {:.2f}'.format(LinReg3.score(X_test, y_test)))\n",
        "print()\n",
        "print('RMSE: {:.2f}'.format(np.sqrt(mean_squared_error(y_test, y_pred))))"
      ],
      "execution_count": 136,
      "outputs": [
        {
          "output_type": "stream",
          "text": [
            "Coefficients:\n",
            " [-9.73784994e-04 -9.08886059e-02  5.71940936e-04  8.23734639e-03\n",
            " -3.35507252e-02  3.76549790e-01  1.44586971e+01 -1.28438933e+03]\n",
            "\n",
            "Intercept:  28530.61032000063\n",
            "\n",
            "R^2 for Test set: 0.65\n",
            "\n",
            "RMSE: 0.58\n"
          ],
          "name": "stdout"
        }
      ]
    },
    {
      "metadata": {
        "id": "Siyn4ZpPP8vZ",
        "colab_type": "text"
      },
      "cell_type": "markdown",
      "source": [
        "### As expected there's no improvement from dropping the \"Registration\" variable. "
      ]
    },
    {
      "metadata": {
        "id": "voOYN8LSUEzA",
        "colab_type": "text"
      },
      "cell_type": "markdown",
      "source": [
        "### Ignore below I'm just experimenting with different feature engineering."
      ]
    },
    {
      "metadata": {
        "id": "-EziDAdHQuOe",
        "colab_type": "code",
        "colab": {
          "base_uri": "https://localhost:8080/",
          "height": 204
        },
        "outputId": "c2f91c44-534b-43b4-c6db-9cdbe6b6d8fe"
      },
      "cell_type": "code",
      "source": [
        "df.head()"
      ],
      "execution_count": 139,
      "outputs": [
        {
          "output_type": "execute_result",
          "data": {
            "text/html": [
              "<div>\n",
              "<style scoped>\n",
              "    .dataframe tbody tr th:only-of-type {\n",
              "        vertical-align: middle;\n",
              "    }\n",
              "\n",
              "    .dataframe tbody tr th {\n",
              "        vertical-align: top;\n",
              "    }\n",
              "\n",
              "    .dataframe thead th {\n",
              "        text-align: right;\n",
              "    }\n",
              "</style>\n",
              "<table border=\"1\" class=\"dataframe\">\n",
              "  <thead>\n",
              "    <tr style=\"text-align: right;\">\n",
              "      <th></th>\n",
              "      <th>make</th>\n",
              "      <th>price</th>\n",
              "      <th>body</th>\n",
              "      <th>mileage</th>\n",
              "      <th>engV</th>\n",
              "      <th>engType</th>\n",
              "      <th>registration</th>\n",
              "      <th>year</th>\n",
              "      <th>drive</th>\n",
              "      <th>price_logged</th>\n",
              "      <th>year_squared</th>\n",
              "      <th>year_square_root</th>\n",
              "    </tr>\n",
              "  </thead>\n",
              "  <tbody>\n",
              "    <tr>\n",
              "      <th>0</th>\n",
              "      <td>23</td>\n",
              "      <td>15500.0</td>\n",
              "      <td>0</td>\n",
              "      <td>68</td>\n",
              "      <td>2.5</td>\n",
              "      <td>1</td>\n",
              "      <td>1</td>\n",
              "      <td>2010</td>\n",
              "      <td>1</td>\n",
              "      <td>9.648595</td>\n",
              "      <td>4040100</td>\n",
              "      <td>44.833024</td>\n",
              "    </tr>\n",
              "    <tr>\n",
              "      <th>1</th>\n",
              "      <td>50</td>\n",
              "      <td>20500.0</td>\n",
              "      <td>3</td>\n",
              "      <td>173</td>\n",
              "      <td>1.8</td>\n",
              "      <td>1</td>\n",
              "      <td>1</td>\n",
              "      <td>2011</td>\n",
              "      <td>2</td>\n",
              "      <td>9.928180</td>\n",
              "      <td>4044121</td>\n",
              "      <td>44.844175</td>\n",
              "    </tr>\n",
              "    <tr>\n",
              "      <th>2</th>\n",
              "      <td>50</td>\n",
              "      <td>35000.0</td>\n",
              "      <td>2</td>\n",
              "      <td>135</td>\n",
              "      <td>5.5</td>\n",
              "      <td>3</td>\n",
              "      <td>1</td>\n",
              "      <td>2008</td>\n",
              "      <td>2</td>\n",
              "      <td>10.463103</td>\n",
              "      <td>4032064</td>\n",
              "      <td>44.810713</td>\n",
              "    </tr>\n",
              "    <tr>\n",
              "      <th>3</th>\n",
              "      <td>50</td>\n",
              "      <td>17800.0</td>\n",
              "      <td>5</td>\n",
              "      <td>162</td>\n",
              "      <td>1.8</td>\n",
              "      <td>0</td>\n",
              "      <td>1</td>\n",
              "      <td>2012</td>\n",
              "      <td>0</td>\n",
              "      <td>9.786954</td>\n",
              "      <td>4048144</td>\n",
              "      <td>44.855323</td>\n",
              "    </tr>\n",
              "    <tr>\n",
              "      <th>4</th>\n",
              "      <td>55</td>\n",
              "      <td>16600.0</td>\n",
              "      <td>0</td>\n",
              "      <td>83</td>\n",
              "      <td>2.0</td>\n",
              "      <td>3</td>\n",
              "      <td>1</td>\n",
              "      <td>2013</td>\n",
              "      <td>1</td>\n",
              "      <td>9.717158</td>\n",
              "      <td>4052169</td>\n",
              "      <td>44.866469</td>\n",
              "    </tr>\n",
              "  </tbody>\n",
              "</table>\n",
              "</div>"
            ],
            "text/plain": [
              "   make    price  body  mileage  engV  engType  registration  year  drive  \\\n",
              "0    23  15500.0     0       68   2.5        1             1  2010      1   \n",
              "1    50  20500.0     3      173   1.8        1             1  2011      2   \n",
              "2    50  35000.0     2      135   5.5        3             1  2008      2   \n",
              "3    50  17800.0     5      162   1.8        0             1  2012      0   \n",
              "4    55  16600.0     0       83   2.0        3             1  2013      1   \n",
              "\n",
              "   price_logged  year_squared  year_square_root  \n",
              "0      9.648595       4040100         44.833024  \n",
              "1      9.928180       4044121         44.844175  \n",
              "2     10.463103       4032064         44.810713  \n",
              "3      9.786954       4048144         44.855323  \n",
              "4      9.717158       4052169         44.866469  "
            ]
          },
          "metadata": {
            "tags": []
          },
          "execution_count": 139
        }
      ]
    },
    {
      "metadata": {
        "id": "KQMPipf3Rge5",
        "colab_type": "code",
        "colab": {
          "base_uri": "https://localhost:8080/",
          "height": 204
        },
        "outputId": "e2b076d3-bec1-4be8-fe49-d92b6e3ee12a"
      },
      "cell_type": "code",
      "source": [
        "df['mileage_and_registration'] = df['mileage'] * df['registration']\n",
        "df.head()"
      ],
      "execution_count": 140,
      "outputs": [
        {
          "output_type": "execute_result",
          "data": {
            "text/html": [
              "<div>\n",
              "<style scoped>\n",
              "    .dataframe tbody tr th:only-of-type {\n",
              "        vertical-align: middle;\n",
              "    }\n",
              "\n",
              "    .dataframe tbody tr th {\n",
              "        vertical-align: top;\n",
              "    }\n",
              "\n",
              "    .dataframe thead th {\n",
              "        text-align: right;\n",
              "    }\n",
              "</style>\n",
              "<table border=\"1\" class=\"dataframe\">\n",
              "  <thead>\n",
              "    <tr style=\"text-align: right;\">\n",
              "      <th></th>\n",
              "      <th>make</th>\n",
              "      <th>price</th>\n",
              "      <th>body</th>\n",
              "      <th>mileage</th>\n",
              "      <th>engV</th>\n",
              "      <th>engType</th>\n",
              "      <th>registration</th>\n",
              "      <th>year</th>\n",
              "      <th>drive</th>\n",
              "      <th>price_logged</th>\n",
              "      <th>year_squared</th>\n",
              "      <th>year_square_root</th>\n",
              "      <th>mileage_and_registration</th>\n",
              "    </tr>\n",
              "  </thead>\n",
              "  <tbody>\n",
              "    <tr>\n",
              "      <th>0</th>\n",
              "      <td>23</td>\n",
              "      <td>15500.0</td>\n",
              "      <td>0</td>\n",
              "      <td>68</td>\n",
              "      <td>2.5</td>\n",
              "      <td>1</td>\n",
              "      <td>1</td>\n",
              "      <td>2010</td>\n",
              "      <td>1</td>\n",
              "      <td>9.648595</td>\n",
              "      <td>4040100</td>\n",
              "      <td>44.833024</td>\n",
              "      <td>68</td>\n",
              "    </tr>\n",
              "    <tr>\n",
              "      <th>1</th>\n",
              "      <td>50</td>\n",
              "      <td>20500.0</td>\n",
              "      <td>3</td>\n",
              "      <td>173</td>\n",
              "      <td>1.8</td>\n",
              "      <td>1</td>\n",
              "      <td>1</td>\n",
              "      <td>2011</td>\n",
              "      <td>2</td>\n",
              "      <td>9.928180</td>\n",
              "      <td>4044121</td>\n",
              "      <td>44.844175</td>\n",
              "      <td>173</td>\n",
              "    </tr>\n",
              "    <tr>\n",
              "      <th>2</th>\n",
              "      <td>50</td>\n",
              "      <td>35000.0</td>\n",
              "      <td>2</td>\n",
              "      <td>135</td>\n",
              "      <td>5.5</td>\n",
              "      <td>3</td>\n",
              "      <td>1</td>\n",
              "      <td>2008</td>\n",
              "      <td>2</td>\n",
              "      <td>10.463103</td>\n",
              "      <td>4032064</td>\n",
              "      <td>44.810713</td>\n",
              "      <td>135</td>\n",
              "    </tr>\n",
              "    <tr>\n",
              "      <th>3</th>\n",
              "      <td>50</td>\n",
              "      <td>17800.0</td>\n",
              "      <td>5</td>\n",
              "      <td>162</td>\n",
              "      <td>1.8</td>\n",
              "      <td>0</td>\n",
              "      <td>1</td>\n",
              "      <td>2012</td>\n",
              "      <td>0</td>\n",
              "      <td>9.786954</td>\n",
              "      <td>4048144</td>\n",
              "      <td>44.855323</td>\n",
              "      <td>162</td>\n",
              "    </tr>\n",
              "    <tr>\n",
              "      <th>4</th>\n",
              "      <td>55</td>\n",
              "      <td>16600.0</td>\n",
              "      <td>0</td>\n",
              "      <td>83</td>\n",
              "      <td>2.0</td>\n",
              "      <td>3</td>\n",
              "      <td>1</td>\n",
              "      <td>2013</td>\n",
              "      <td>1</td>\n",
              "      <td>9.717158</td>\n",
              "      <td>4052169</td>\n",
              "      <td>44.866469</td>\n",
              "      <td>83</td>\n",
              "    </tr>\n",
              "  </tbody>\n",
              "</table>\n",
              "</div>"
            ],
            "text/plain": [
              "   make    price  body  mileage  engV  engType  registration  year  drive  \\\n",
              "0    23  15500.0     0       68   2.5        1             1  2010      1   \n",
              "1    50  20500.0     3      173   1.8        1             1  2011      2   \n",
              "2    50  35000.0     2      135   5.5        3             1  2008      2   \n",
              "3    50  17800.0     5      162   1.8        0             1  2012      0   \n",
              "4    55  16600.0     0       83   2.0        3             1  2013      1   \n",
              "\n",
              "   price_logged  year_squared  year_square_root  mileage_and_registration  \n",
              "0      9.648595       4040100         44.833024                        68  \n",
              "1      9.928180       4044121         44.844175                       173  \n",
              "2     10.463103       4032064         44.810713                       135  \n",
              "3      9.786954       4048144         44.855323                       162  \n",
              "4      9.717158       4052169         44.866469                        83  "
            ]
          },
          "metadata": {
            "tags": []
          },
          "execution_count": 140
        }
      ]
    },
    {
      "metadata": {
        "id": "8oeYeZTnRynr",
        "colab_type": "code",
        "colab": {
          "base_uri": "https://localhost:8080/",
          "height": 187
        },
        "outputId": "17e30826-9562-4af3-b6e5-6ef8fb6413c5"
      },
      "cell_type": "code",
      "source": [
        "X = df[['make', 'body', 'mileage', 'engV', 'engType', 'registration',\n",
        "        'drive','year', 'year_square_root', 'mileage_and_registration']].values\n",
        "y = df['price_logged'].values\n",
        "\n",
        "X_train, X_test, y_train, y_test = train_test_split(X, y, random_state=42)\n",
        "\n",
        "LinReg3 = LinearRegression().fit(X_train, y_train)\n",
        "\n",
        "y_pred = LinReg3.predict(X_test)\n",
        "\n",
        "print('Coefficients:\\n', LinReg3.coef_)\n",
        "print()\n",
        "print('Intercept: ', LinReg3.intercept_)\n",
        "print()\n",
        "print('R^2 for Test set: {:.2f}'.format(LinReg3.score(X_test, y_test)))\n",
        "print()\n",
        "print('RMSE: {:.2f}'.format(np.sqrt(mean_squared_error(y_test, y_pred))))"
      ],
      "execution_count": 147,
      "outputs": [
        {
          "output_type": "stream",
          "text": [
            "Coefficients:\n",
            " [-1.59903290e-03 -9.06202593e-02  4.13782654e-05  8.36662892e-03\n",
            " -4.90743242e-02  5.12535560e-01  3.79370628e-01  1.25289268e+01\n",
            " -1.11202191e+03  6.75405287e-04]\n",
            "\n",
            "Intercept:  24681.242704985503\n",
            "\n",
            "R^2 for Test set: 0.67\n",
            "\n",
            "RMSE: 0.56\n"
          ],
          "name": "stdout"
        }
      ]
    },
    {
      "metadata": {
        "id": "yfsSOY3sR8UR",
        "colab_type": "code",
        "colab": {
          "base_uri": "https://localhost:8080/",
          "height": 374
        },
        "outputId": "265ff686-76e2-4c5b-9a89-2dfaecdb5276"
      },
      "cell_type": "code",
      "source": [
        "df['mileage_poly'] = df['mileage'].replace(0, 1)\n",
        "df['mileage_poly'].head(20)"
      ],
      "execution_count": 143,
      "outputs": [
        {
          "output_type": "execute_result",
          "data": {
            "text/plain": [
              "0      68\n",
              "1     173\n",
              "2     135\n",
              "3     162\n",
              "4      83\n",
              "5     199\n",
              "6     185\n",
              "7     146\n",
              "8     125\n",
              "9       1\n",
              "10    190\n",
              "11    164\n",
              "12    159\n",
              "13    290\n",
              "14      2\n",
              "15      1\n",
              "16     83\n",
              "17     57\n",
              "18      1\n",
              "19      2\n",
              "Name: mileage_poly, dtype: int64"
            ]
          },
          "metadata": {
            "tags": []
          },
          "execution_count": 143
        }
      ]
    },
    {
      "metadata": {
        "id": "s5XEYZO4SNL1",
        "colab_type": "code",
        "colab": {
          "base_uri": "https://localhost:8080/",
          "height": 187
        },
        "outputId": "bdd6941d-2eef-4447-af4c-7e3c4530dc68"
      },
      "cell_type": "code",
      "source": [
        "X = df[['make', 'body', 'mileage', 'engV', 'engType',\n",
        "        'drive','year', 'year_square_root', 'registration', 'mileage_and_registration', 'mileage_poly']].values\n",
        "y = df['price_logged'].values\n",
        "\n",
        "X_train, X_test, y_train, y_test = train_test_split(X, y, random_state=42)\n",
        "\n",
        "LinReg3 = LinearRegression().fit(X_train, y_train)\n",
        "\n",
        "y_pred = LinReg3.predict(X_test)\n",
        "\n",
        "print('Coefficients:\\n', LinReg3.coef_)\n",
        "print()\n",
        "print('Intercept: ', LinReg3.intercept_)\n",
        "print()\n",
        "print('R^2 for Test set: {:.2f}'.format(LinReg3.score(X_test, y_test)))\n",
        "print()\n",
        "print('RMSE: {:.2f}'.format(np.sqrt(mean_squared_error(y_test, y_pred))))"
      ],
      "execution_count": 148,
      "outputs": [
        {
          "output_type": "stream",
          "text": [
            "Coefficients:\n",
            " [-1.63983617e-03 -8.86684135e-02 -3.62551010e-01  8.15696520e-03\n",
            " -4.65176306e-02  3.76226165e-01  1.06719611e+01 -9.46070902e+02\n",
            "  5.05302617e-01  7.75374385e-04  3.62544148e-01]\n",
            "\n",
            "Intercept:  20973.633705846816\n",
            "\n",
            "R^2 for Test set: 0.67\n",
            "\n",
            "RMSE: 0.56\n"
          ],
          "name": "stdout"
        }
      ]
    },
    {
      "metadata": {
        "id": "R2J1w-8HSZ6B",
        "colab_type": "code",
        "colab": {
          "base_uri": "https://localhost:8080/",
          "height": 224
        },
        "outputId": "a61bb46a-d8fa-414a-8764-b3e558e93492"
      },
      "cell_type": "code",
      "source": [
        "df_dummy = pd.get_dummies(df, prefix=['registration'], columns=['registration'])\n",
        "df_dummy.head()"
      ],
      "execution_count": 145,
      "outputs": [
        {
          "output_type": "execute_result",
          "data": {
            "text/html": [
              "<div>\n",
              "<style scoped>\n",
              "    .dataframe tbody tr th:only-of-type {\n",
              "        vertical-align: middle;\n",
              "    }\n",
              "\n",
              "    .dataframe tbody tr th {\n",
              "        vertical-align: top;\n",
              "    }\n",
              "\n",
              "    .dataframe thead th {\n",
              "        text-align: right;\n",
              "    }\n",
              "</style>\n",
              "<table border=\"1\" class=\"dataframe\">\n",
              "  <thead>\n",
              "    <tr style=\"text-align: right;\">\n",
              "      <th></th>\n",
              "      <th>make</th>\n",
              "      <th>price</th>\n",
              "      <th>body</th>\n",
              "      <th>mileage</th>\n",
              "      <th>engV</th>\n",
              "      <th>engType</th>\n",
              "      <th>year</th>\n",
              "      <th>drive</th>\n",
              "      <th>price_logged</th>\n",
              "      <th>year_squared</th>\n",
              "      <th>year_square_root</th>\n",
              "      <th>mileage_and_registration</th>\n",
              "      <th>mileage_poly</th>\n",
              "      <th>registration_0</th>\n",
              "      <th>registration_1</th>\n",
              "    </tr>\n",
              "  </thead>\n",
              "  <tbody>\n",
              "    <tr>\n",
              "      <th>0</th>\n",
              "      <td>23</td>\n",
              "      <td>15500.0</td>\n",
              "      <td>0</td>\n",
              "      <td>68</td>\n",
              "      <td>2.5</td>\n",
              "      <td>1</td>\n",
              "      <td>2010</td>\n",
              "      <td>1</td>\n",
              "      <td>9.648595</td>\n",
              "      <td>4040100</td>\n",
              "      <td>44.833024</td>\n",
              "      <td>68</td>\n",
              "      <td>68</td>\n",
              "      <td>0</td>\n",
              "      <td>1</td>\n",
              "    </tr>\n",
              "    <tr>\n",
              "      <th>1</th>\n",
              "      <td>50</td>\n",
              "      <td>20500.0</td>\n",
              "      <td>3</td>\n",
              "      <td>173</td>\n",
              "      <td>1.8</td>\n",
              "      <td>1</td>\n",
              "      <td>2011</td>\n",
              "      <td>2</td>\n",
              "      <td>9.928180</td>\n",
              "      <td>4044121</td>\n",
              "      <td>44.844175</td>\n",
              "      <td>173</td>\n",
              "      <td>173</td>\n",
              "      <td>0</td>\n",
              "      <td>1</td>\n",
              "    </tr>\n",
              "    <tr>\n",
              "      <th>2</th>\n",
              "      <td>50</td>\n",
              "      <td>35000.0</td>\n",
              "      <td>2</td>\n",
              "      <td>135</td>\n",
              "      <td>5.5</td>\n",
              "      <td>3</td>\n",
              "      <td>2008</td>\n",
              "      <td>2</td>\n",
              "      <td>10.463103</td>\n",
              "      <td>4032064</td>\n",
              "      <td>44.810713</td>\n",
              "      <td>135</td>\n",
              "      <td>135</td>\n",
              "      <td>0</td>\n",
              "      <td>1</td>\n",
              "    </tr>\n",
              "    <tr>\n",
              "      <th>3</th>\n",
              "      <td>50</td>\n",
              "      <td>17800.0</td>\n",
              "      <td>5</td>\n",
              "      <td>162</td>\n",
              "      <td>1.8</td>\n",
              "      <td>0</td>\n",
              "      <td>2012</td>\n",
              "      <td>0</td>\n",
              "      <td>9.786954</td>\n",
              "      <td>4048144</td>\n",
              "      <td>44.855323</td>\n",
              "      <td>162</td>\n",
              "      <td>162</td>\n",
              "      <td>0</td>\n",
              "      <td>1</td>\n",
              "    </tr>\n",
              "    <tr>\n",
              "      <th>4</th>\n",
              "      <td>55</td>\n",
              "      <td>16600.0</td>\n",
              "      <td>0</td>\n",
              "      <td>83</td>\n",
              "      <td>2.0</td>\n",
              "      <td>3</td>\n",
              "      <td>2013</td>\n",
              "      <td>1</td>\n",
              "      <td>9.717158</td>\n",
              "      <td>4052169</td>\n",
              "      <td>44.866469</td>\n",
              "      <td>83</td>\n",
              "      <td>83</td>\n",
              "      <td>0</td>\n",
              "      <td>1</td>\n",
              "    </tr>\n",
              "  </tbody>\n",
              "</table>\n",
              "</div>"
            ],
            "text/plain": [
              "   make    price  body  mileage  engV  engType  year  drive  price_logged  \\\n",
              "0    23  15500.0     0       68   2.5        1  2010      1      9.648595   \n",
              "1    50  20500.0     3      173   1.8        1  2011      2      9.928180   \n",
              "2    50  35000.0     2      135   5.5        3  2008      2     10.463103   \n",
              "3    50  17800.0     5      162   1.8        0  2012      0      9.786954   \n",
              "4    55  16600.0     0       83   2.0        3  2013      1      9.717158   \n",
              "\n",
              "   year_squared  year_square_root  mileage_and_registration  mileage_poly  \\\n",
              "0       4040100         44.833024                        68            68   \n",
              "1       4044121         44.844175                       173           173   \n",
              "2       4032064         44.810713                       135           135   \n",
              "3       4048144         44.855323                       162           162   \n",
              "4       4052169         44.866469                        83            83   \n",
              "\n",
              "   registration_0  registration_1  \n",
              "0               0               1  \n",
              "1               0               1  \n",
              "2               0               1  \n",
              "3               0               1  \n",
              "4               0               1  "
            ]
          },
          "metadata": {
            "tags": []
          },
          "execution_count": 145
        }
      ]
    },
    {
      "metadata": {
        "id": "nljVZWDjTLj5",
        "colab_type": "code",
        "colab": {
          "base_uri": "https://localhost:8080/",
          "height": 187
        },
        "outputId": "56c342e8-1613-4c67-f8d7-7d4e1a97e859"
      },
      "cell_type": "code",
      "source": [
        "X = df_dummy[['make', 'body', 'mileage', 'engV', 'engType',\n",
        "        'drive','year', 'year_square_root', 'mileage_and_registration', 'mileage_poly', 'registration_0',\n",
        "       'registration_1']].values\n",
        "y = df_dummy['price_logged'].values\n",
        "\n",
        "X_train, X_test, y_train, y_test = train_test_split(X, y, random_state=42)\n",
        "\n",
        "LinReg3 = LinearRegression().fit(X_train, y_train)\n",
        "\n",
        "y_pred = LinReg3.predict(X_test)\n",
        "\n",
        "print('Coefficients:\\n', LinReg3.coef_)\n",
        "print()\n",
        "print('Intercept: ', LinReg3.intercept_)\n",
        "print()\n",
        "print('R^2 for Test set: {:.2f}'.format(LinReg3.score(X_test, y_test)))\n",
        "print()\n",
        "print('RMSE: {:.2f}'.format(np.sqrt(mean_squared_error(y_test, y_pred))))"
      ],
      "execution_count": 150,
      "outputs": [
        {
          "output_type": "stream",
          "text": [
            "Coefficients:\n",
            " [-1.63983617e-03 -8.86684135e-02 -3.62551010e-01  8.15696520e-03\n",
            " -4.65176306e-02  3.76226165e-01  1.06719611e+01 -9.46070902e+02\n",
            "  7.75374385e-04  3.62544148e-01 -2.52651309e-01  2.52651309e-01]\n",
            "\n",
            "Intercept:  20973.886357151605\n",
            "\n",
            "R^2 for Test set: 0.67\n",
            "\n",
            "RMSE: 0.56\n"
          ],
          "name": "stdout"
        }
      ]
    },
    {
      "metadata": {
        "id": "w5WphxKjTtYt",
        "colab_type": "code",
        "colab": {}
      },
      "cell_type": "code",
      "source": [
        "# Some extra feature engineering and some more interaction variables slightly increased R^2 and decreased RMSE.\n",
        "# I suspect removing outliers also would improve accuracy metrics and model diagnostics"
      ],
      "execution_count": 0,
      "outputs": []
    },
    {
      "metadata": {
        "id": "pNNBw0r1Unfj",
        "colab_type": "code",
        "colab": {}
      },
      "cell_type": "code",
      "source": [
        ""
      ],
      "execution_count": 0,
      "outputs": []
    }
  ]
}