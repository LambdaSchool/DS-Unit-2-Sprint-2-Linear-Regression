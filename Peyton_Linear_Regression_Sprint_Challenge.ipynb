{
  "nbformat": 4,
  "nbformat_minor": 0,
  "metadata": {
    "colab": {
      "name": "Peyton Linear Regression Sprint Challenge.ipynb",
      "version": "0.3.2",
      "provenance": [],
      "collapsed_sections": [],
      "include_colab_link": true
    },
    "kernelspec": {
      "name": "python3",
      "display_name": "Python 3"
    }
  },
  "cells": [
    {
      "cell_type": "markdown",
      "metadata": {
        "id": "view-in-github",
        "colab_type": "text"
      },
      "source": [
        "<a href=\"https://colab.research.google.com/github/peytonrunyan/DS-Unit-2-Sprint-2-Linear-Regression/blob/master/Peyton_Linear_Regression_Sprint_Challenge.ipynb\" target=\"_parent\"><img src=\"https://colab.research.google.com/assets/colab-badge.svg\" alt=\"Open In Colab\"/></a>"
      ]
    },
    {
      "metadata": {
        "id": "YbiJuv5d2jZ7",
        "colab_type": "code",
        "outputId": "5318db88-740b-422a-94ac-3641183f77b1",
        "colab": {
          "base_uri": "https://localhost:8080/",
          "height": 72
        }
      },
      "cell_type": "code",
      "source": [
        "# Import everything you could ever need. ;)\n",
        "import pandas as pd\n",
        "import numpy as np\n",
        "import matplotlib.pyplot as plt\n",
        "import seaborn as sns\n",
        "import statsmodels.api as sm\n",
        "from statsmodels.stats.outliers_influence import variance_inflation_factor\n",
        "from sklearn.model_selection import train_test_split\n",
        "from sklearn.linear_model import LinearRegression\n",
        "from sklearn.metrics import mean_squared_error, r2_score"
      ],
      "execution_count": 1,
      "outputs": [
        {
          "output_type": "stream",
          "text": [
            "/usr/local/lib/python3.6/dist-packages/statsmodels/compat/pandas.py:56: FutureWarning: The pandas.core.datetools module is deprecated and will be removed in a future version. Please use the pandas.tseries module instead.\n",
            "  from pandas.core import datetools\n"
          ],
          "name": "stderr"
        }
      ]
    },
    {
      "metadata": {
        "id": "FgaItuSL3zxO",
        "colab_type": "code",
        "outputId": "fee1a59d-8467-42ab-fcf2-7a00c888079c",
        "colab": {
          "base_uri": "https://localhost:8080/",
          "height": 224
        }
      },
      "cell_type": "code",
      "source": [
        "# Ukraine Used Car Sale Price Prediction\n",
        "df = pd.read_csv('https://raw.githubusercontent.com/ryanleeallred/datasets/master/car_regression.csv')\n",
        "print(df.shape)\n",
        "df.head()"
      ],
      "execution_count": 2,
      "outputs": [
        {
          "output_type": "stream",
          "text": [
            "(8495, 9)\n"
          ],
          "name": "stdout"
        },
        {
          "output_type": "execute_result",
          "data": {
            "text/html": [
              "<div>\n",
              "<style scoped>\n",
              "    .dataframe tbody tr th:only-of-type {\n",
              "        vertical-align: middle;\n",
              "    }\n",
              "\n",
              "    .dataframe tbody tr th {\n",
              "        vertical-align: top;\n",
              "    }\n",
              "\n",
              "    .dataframe thead th {\n",
              "        text-align: right;\n",
              "    }\n",
              "</style>\n",
              "<table border=\"1\" class=\"dataframe\">\n",
              "  <thead>\n",
              "    <tr style=\"text-align: right;\">\n",
              "      <th></th>\n",
              "      <th>make</th>\n",
              "      <th>price</th>\n",
              "      <th>body</th>\n",
              "      <th>mileage</th>\n",
              "      <th>engV</th>\n",
              "      <th>engType</th>\n",
              "      <th>registration</th>\n",
              "      <th>year</th>\n",
              "      <th>drive</th>\n",
              "    </tr>\n",
              "  </thead>\n",
              "  <tbody>\n",
              "    <tr>\n",
              "      <th>0</th>\n",
              "      <td>23</td>\n",
              "      <td>15500.0</td>\n",
              "      <td>0</td>\n",
              "      <td>68</td>\n",
              "      <td>2.5</td>\n",
              "      <td>1</td>\n",
              "      <td>1</td>\n",
              "      <td>2010</td>\n",
              "      <td>1</td>\n",
              "    </tr>\n",
              "    <tr>\n",
              "      <th>1</th>\n",
              "      <td>50</td>\n",
              "      <td>20500.0</td>\n",
              "      <td>3</td>\n",
              "      <td>173</td>\n",
              "      <td>1.8</td>\n",
              "      <td>1</td>\n",
              "      <td>1</td>\n",
              "      <td>2011</td>\n",
              "      <td>2</td>\n",
              "    </tr>\n",
              "    <tr>\n",
              "      <th>2</th>\n",
              "      <td>50</td>\n",
              "      <td>35000.0</td>\n",
              "      <td>2</td>\n",
              "      <td>135</td>\n",
              "      <td>5.5</td>\n",
              "      <td>3</td>\n",
              "      <td>1</td>\n",
              "      <td>2008</td>\n",
              "      <td>2</td>\n",
              "    </tr>\n",
              "    <tr>\n",
              "      <th>3</th>\n",
              "      <td>50</td>\n",
              "      <td>17800.0</td>\n",
              "      <td>5</td>\n",
              "      <td>162</td>\n",
              "      <td>1.8</td>\n",
              "      <td>0</td>\n",
              "      <td>1</td>\n",
              "      <td>2012</td>\n",
              "      <td>0</td>\n",
              "    </tr>\n",
              "    <tr>\n",
              "      <th>4</th>\n",
              "      <td>55</td>\n",
              "      <td>16600.0</td>\n",
              "      <td>0</td>\n",
              "      <td>83</td>\n",
              "      <td>2.0</td>\n",
              "      <td>3</td>\n",
              "      <td>1</td>\n",
              "      <td>2013</td>\n",
              "      <td>1</td>\n",
              "    </tr>\n",
              "  </tbody>\n",
              "</table>\n",
              "</div>"
            ],
            "text/plain": [
              "   make    price  body  mileage  engV  engType  registration  year  drive\n",
              "0    23  15500.0     0       68   2.5        1             1  2010      1\n",
              "1    50  20500.0     3      173   1.8        1             1  2011      2\n",
              "2    50  35000.0     2      135   5.5        3             1  2008      2\n",
              "3    50  17800.0     5      162   1.8        0             1  2012      0\n",
              "4    55  16600.0     0       83   2.0        3             1  2013      1"
            ]
          },
          "metadata": {
            "tags": []
          },
          "execution_count": 2
        }
      ]
    },
    {
      "metadata": {
        "id": "gZsc0gZruaBg",
        "colab_type": "code",
        "colab": {
          "base_uri": "https://localhost:8080/",
          "height": 191
        },
        "outputId": "4c4199a1-41e5-4055-880e-6a3e244db130"
      },
      "cell_type": "code",
      "source": [
        "# Check for NaNs\n",
        "df.isna().sum()"
      ],
      "execution_count": 12,
      "outputs": [
        {
          "output_type": "execute_result",
          "data": {
            "text/plain": [
              "make            0\n",
              "price           0\n",
              "body            0\n",
              "mileage         0\n",
              "engV            0\n",
              "engType         0\n",
              "registration    0\n",
              "year            0\n",
              "drive           0\n",
              "dtype: int64"
            ]
          },
          "metadata": {
            "tags": []
          },
          "execution_count": 12
        }
      ]
    },
    {
      "metadata": {
        "id": "w9gkF-HNUFAV",
        "colab_type": "text"
      },
      "cell_type": "markdown",
      "source": [
        "# Predictive Modeling with Linear Regression"
      ]
    },
    {
      "metadata": {
        "id": "Vy1SWxcYTAC0",
        "colab_type": "text"
      },
      "cell_type": "markdown",
      "source": [
        "## 1.1 Divide the dataset features into an X matrix and y vector (\"price\" is what we want to predict)."
      ]
    },
    {
      "metadata": {
        "id": "dwMbM9tUUaOQ",
        "colab_type": "code",
        "colab": {}
      },
      "cell_type": "code",
      "source": [
        "y = df.loc[:, ['price']]\n",
        "X = df.drop('price', axis = 1)"
      ],
      "execution_count": 0,
      "outputs": []
    },
    {
      "metadata": {
        "id": "Uf_SQswNUPwM",
        "colab_type": "text"
      },
      "cell_type": "markdown",
      "source": [
        "## 1.2 Split the data into test and train datasets using train_test_split"
      ]
    },
    {
      "metadata": {
        "id": "iIiELKuKUOgR",
        "colab_type": "code",
        "colab": {}
      },
      "cell_type": "code",
      "source": [
        "X_train, X_test, Y_train, Y_test = train_test_split(X.values, y.values, test_size=.5, random_state=13)"
      ],
      "execution_count": 0,
      "outputs": []
    },
    {
      "metadata": {
        "id": "0AdXWiwoUstf",
        "colab_type": "text"
      },
      "cell_type": "markdown",
      "source": [
        "## 1.3 Use Scikit-Learn to fit a multiple regression model using your training data."
      ]
    },
    {
      "metadata": {
        "id": "Zw70rt71U1xf",
        "colab_type": "code",
        "colab": {
          "base_uri": "https://localhost:8080/",
          "height": 52
        },
        "outputId": "697a380c-548a-4cb8-d3a0-86efb7c2d006"
      },
      "cell_type": "code",
      "source": [
        "model = LinearRegression()\n",
        "model.fit(X_train, Y_train)"
      ],
      "execution_count": 11,
      "outputs": [
        {
          "output_type": "execute_result",
          "data": {
            "text/plain": [
              "LinearRegression(copy_X=True, fit_intercept=True, n_jobs=None,\n",
              "         normalize=False)"
            ]
          },
          "metadata": {
            "tags": []
          },
          "execution_count": 11
        }
      ]
    },
    {
      "metadata": {
        "id": "82fH2rilU7j3",
        "colab_type": "text"
      },
      "cell_type": "markdown",
      "source": [
        "## 1.4 Report the Intercept and Coefficient Values for the fitted model"
      ]
    },
    {
      "metadata": {
        "id": "ue6hCHGqVE83",
        "colab_type": "code",
        "colab": {
          "base_uri": "https://localhost:8080/",
          "height": 173
        },
        "outputId": "61baf952-4df1-4d0e-e6fe-db299052f079"
      },
      "cell_type": "code",
      "source": [
        "#print coefficient values next to names\n",
        "\n",
        "coef = list(X)\n",
        "\n",
        "for i in range(len(coef)):\n",
        "  print(str(coef[i])+':  ' + str(model.coef_[0][i]))\n",
        "print(\"Model Intercept: \", model.intercept_)"
      ],
      "execution_count": 22,
      "outputs": [
        {
          "output_type": "stream",
          "text": [
            "make:  -29.581175544176713\n",
            "body:  -1850.6121303933153\n",
            "mileage:  -38.64156419913161\n",
            "engV:  360.589902385011\n",
            "engType:  -986.1141982549201\n",
            "registration:  4449.813011882961\n",
            "year:  1099.5045296170053\n",
            "drive:  8165.656191003621\n",
            "Model Intercept:  [-2186994.93771366]\n"
          ],
          "name": "stdout"
        }
      ]
    },
    {
      "metadata": {
        "id": "T0CV0OnDVZbu",
        "colab_type": "text"
      },
      "cell_type": "markdown",
      "source": [
        "## 1.5 Use the test data to make predictions"
      ]
    },
    {
      "metadata": {
        "id": "vrR5b5c3VwE5",
        "colab_type": "code",
        "colab": {}
      },
      "cell_type": "code",
      "source": [
        "y_pred = model.predict(X_test)"
      ],
      "execution_count": 0,
      "outputs": []
    },
    {
      "metadata": {
        "id": "ZwQb3gE7VycT",
        "colab_type": "text"
      },
      "cell_type": "markdown",
      "source": [
        "## 1.6 Calculate and report both the Root-Mean-Square error and $R^2$ for the model. "
      ]
    },
    {
      "metadata": {
        "id": "Ym2kjxWhU6b2",
        "colab_type": "code",
        "colab": {
          "base_uri": "https://localhost:8080/",
          "height": 52
        },
        "outputId": "4b9f7ba9-7e46-4a55-d502-1ecd5c0fc828"
      },
      "cell_type": "code",
      "source": [
        "RMSE = (np.sqrt(mean_squared_error(Y_test, y_pred)))\n",
        "R2 = r2_score(Y_test, y_pred)\n",
        "\n",
        "print('RMSE is {}'.format(RMSE))\n",
        "print('R^2 is {}'.format(R2))"
      ],
      "execution_count": 30,
      "outputs": [
        {
          "output_type": "stream",
          "text": [
            "RMSE is 21383.459757070585\n",
            "R^2 is 0.2810050281342944\n"
          ],
          "name": "stdout"
        }
      ]
    },
    {
      "metadata": {
        "id": "kIXhGHIgXHyJ",
        "colab_type": "text"
      },
      "cell_type": "markdown",
      "source": [
        "## 1.7 How should we interpret the coefficient corresponding to the \"year\" feature?"
      ]
    },
    {
      "metadata": {
        "id": "8jv2n0wAXgHU",
        "colab_type": "text"
      },
      "cell_type": "markdown",
      "source": [
        "Every unit increase in \"year\" corresponds to an average increase in the mean of \"price\" by $1,099 "
      ]
    },
    {
      "metadata": {
        "id": "ckQ5GsOtYsjn",
        "colab_type": "text"
      },
      "cell_type": "markdown",
      "source": [
        "## 1.8 How should we interpret the Root-Mean-Square Error?"
      ]
    },
    {
      "metadata": {
        "id": "F982IeSgYyp6",
        "colab_type": "text"
      },
      "cell_type": "markdown",
      "source": [
        "RMSE is the square root of the variance of the residuals, and so can be interpreted as the standard deviation of the unexplained variance in price. "
      ]
    },
    {
      "metadata": {
        "id": "T3sZrru_YzFF",
        "colab_type": "text"
      },
      "cell_type": "markdown",
      "source": [
        "## 1.9 How should we interpret the $R^2$?"
      ]
    },
    {
      "metadata": {
        "id": "5pN2Oet_Y5jR",
        "colab_type": "text"
      },
      "cell_type": "markdown",
      "source": [
        "I've personally got a bone to pick with $R^2$ from an inferential standpoint, but by convention it's interpreted as the amount of variance in your dependent variable explained by the model. This definition is okay as long as it's clear that \"explained by the model\" is not the same as \"correctly explained by the model\". \n",
        "\n",
        "The Greeks explained that Helios wore the sun as a hat and went around the sky on a horse-drawn chariot that eventually dropped into a cup. Their model explained 100% of the variance in position of the Sun, but somehow physicists remain unconvinced. \n",
        "\n",
        "I think \"how close the data are fitted to the regression\" leaves less room for misinterpretation. "
      ]
    },
    {
      "metadata": {
        "id": "Z_VNy7e3Y5sT",
        "colab_type": "text"
      },
      "cell_type": "markdown",
      "source": [
        "# Log-Linear and Polynomial Regression"
      ]
    },
    {
      "metadata": {
        "id": "G2T4FSqRZOJA",
        "colab_type": "text"
      },
      "cell_type": "markdown",
      "source": [
        "## 2.1 Engineer a new variable by taking the log of the price varible."
      ]
    },
    {
      "metadata": {
        "id": "7EChAFNxZX24",
        "colab_type": "code",
        "colab": {}
      },
      "cell_type": "code",
      "source": [
        "#log the price! \n",
        "df['ln_price'] = np.log(df['price'])"
      ],
      "execution_count": 0,
      "outputs": []
    },
    {
      "metadata": {
        "id": "R117rxnOZw6q",
        "colab_type": "text"
      },
      "cell_type": "markdown",
      "source": [
        "## 2.2 Use scatterplots or seaborn's pairplot function to do the \"eyeball test\" for non-linearly distributed features."
      ]
    },
    {
      "metadata": {
        "id": "8l56Qk7VaBrU",
        "colab_type": "code",
        "colab": {
          "base_uri": "https://localhost:8080/",
          "height": 222
        },
        "outputId": "9af85b71-d0f8-45c6-c71d-3341f19616e4"
      },
      "cell_type": "code",
      "source": [
        "sns.set(style=\"ticks\", color_codes=True)\n",
        "\n",
        "x_columns = df.columns.drop('ln_price')\n",
        "x_columns = df.columns.drop('price')\n",
        "\n",
        "#compare all existing columns against price\n",
        "sns.pairplot(data=df, y_vars=['ln_price'], x_vars=x_columns)"
      ],
      "execution_count": 35,
      "outputs": [
        {
          "output_type": "execute_result",
          "data": {
            "text/plain": [
              "<seaborn.axisgrid.PairGrid at 0x7fe678228080>"
            ]
          },
          "metadata": {
            "tags": []
          },
          "execution_count": 35
        },
        {
          "output_type": "display_data",
          "data": {
            "image/png": "[encoded data removed]",
            "text/plain": [
              "<Figure size 1620x180 with 9 Axes>"
            ]
          },
          "metadata": {
            "tags": []
          }
        }
      ]
    },
    {
      "metadata": {
        "id": "QTf4gCaDaiCw",
        "colab_type": "text"
      },
      "cell_type": "markdown",
      "source": [
        "## 2.3 If appropriate, create any polynomial features. "
      ]
    },
    {
      "metadata": {
        "id": "ipsCcH83ZMe8",
        "colab_type": "code",
        "colab": {}
      },
      "cell_type": "code",
      "source": [
        "\"\"\"Year, mileage, engType, adn drive all appear to possibly be curved upward,\n",
        "which suggests that they might benefit from being squared \n",
        "\"\"\"\n",
        "\n",
        "#year\n",
        "df['year_sq'] = df['year']**2\n",
        "\n",
        "#mileage\n",
        "df['mileage_sq'] = df['mileage']**2\n",
        "\n",
        "#engType\n",
        "df['engType_sq'] = df['engType']**2\n",
        "\n",
        "#drive\n",
        "df['drive_sq'] = df['drive']**2\n",
        "\n",
        "x_columns = df.columns.drop('ln_price')\n",
        "x_columns = df.columns.drop('price')"
      ],
      "execution_count": 0,
      "outputs": []
    },
    {
      "metadata": {
        "id": "aq_uT7XhF-aF",
        "colab_type": "code",
        "colab": {
          "base_uri": "https://localhost:8080/",
          "height": 206
        },
        "outputId": "ab50c284-4b72-4044-a8d6-f7e8072c0d6d"
      },
      "cell_type": "code",
      "source": [
        "df.head()"
      ],
      "execution_count": 60,
      "outputs": [
        {
          "output_type": "execute_result",
          "data": {
            "text/html": [
              "<div>\n",
              "<style scoped>\n",
              "    .dataframe tbody tr th:only-of-type {\n",
              "        vertical-align: middle;\n",
              "    }\n",
              "\n",
              "    .dataframe tbody tr th {\n",
              "        vertical-align: top;\n",
              "    }\n",
              "\n",
              "    .dataframe thead th {\n",
              "        text-align: right;\n",
              "    }\n",
              "</style>\n",
              "<table border=\"1\" class=\"dataframe\">\n",
              "  <thead>\n",
              "    <tr style=\"text-align: right;\">\n",
              "      <th></th>\n",
              "      <th>make</th>\n",
              "      <th>price</th>\n",
              "      <th>body</th>\n",
              "      <th>mileage</th>\n",
              "      <th>engV</th>\n",
              "      <th>engType</th>\n",
              "      <th>registration</th>\n",
              "      <th>year</th>\n",
              "      <th>drive</th>\n",
              "      <th>ln_price</th>\n",
              "      <th>year_sq</th>\n",
              "      <th>mileage_sq</th>\n",
              "      <th>engType_sq</th>\n",
              "      <th>drive_sq</th>\n",
              "    </tr>\n",
              "  </thead>\n",
              "  <tbody>\n",
              "    <tr>\n",
              "      <th>0</th>\n",
              "      <td>23</td>\n",
              "      <td>15500.0</td>\n",
              "      <td>0</td>\n",
              "      <td>68</td>\n",
              "      <td>2.5</td>\n",
              "      <td>1</td>\n",
              "      <td>1</td>\n",
              "      <td>2010</td>\n",
              "      <td>1</td>\n",
              "      <td>9.648595</td>\n",
              "      <td>4040100</td>\n",
              "      <td>4624</td>\n",
              "      <td>1</td>\n",
              "      <td>1</td>\n",
              "    </tr>\n",
              "    <tr>\n",
              "      <th>1</th>\n",
              "      <td>50</td>\n",
              "      <td>20500.0</td>\n",
              "      <td>3</td>\n",
              "      <td>173</td>\n",
              "      <td>1.8</td>\n",
              "      <td>1</td>\n",
              "      <td>1</td>\n",
              "      <td>2011</td>\n",
              "      <td>2</td>\n",
              "      <td>9.928180</td>\n",
              "      <td>4044121</td>\n",
              "      <td>29929</td>\n",
              "      <td>1</td>\n",
              "      <td>4</td>\n",
              "    </tr>\n",
              "    <tr>\n",
              "      <th>2</th>\n",
              "      <td>50</td>\n",
              "      <td>35000.0</td>\n",
              "      <td>2</td>\n",
              "      <td>135</td>\n",
              "      <td>5.5</td>\n",
              "      <td>3</td>\n",
              "      <td>1</td>\n",
              "      <td>2008</td>\n",
              "      <td>2</td>\n",
              "      <td>10.463103</td>\n",
              "      <td>4032064</td>\n",
              "      <td>18225</td>\n",
              "      <td>9</td>\n",
              "      <td>4</td>\n",
              "    </tr>\n",
              "    <tr>\n",
              "      <th>3</th>\n",
              "      <td>50</td>\n",
              "      <td>17800.0</td>\n",
              "      <td>5</td>\n",
              "      <td>162</td>\n",
              "      <td>1.8</td>\n",
              "      <td>0</td>\n",
              "      <td>1</td>\n",
              "      <td>2012</td>\n",
              "      <td>0</td>\n",
              "      <td>9.786954</td>\n",
              "      <td>4048144</td>\n",
              "      <td>26244</td>\n",
              "      <td>0</td>\n",
              "      <td>0</td>\n",
              "    </tr>\n",
              "    <tr>\n",
              "      <th>4</th>\n",
              "      <td>55</td>\n",
              "      <td>16600.0</td>\n",
              "      <td>0</td>\n",
              "      <td>83</td>\n",
              "      <td>2.0</td>\n",
              "      <td>3</td>\n",
              "      <td>1</td>\n",
              "      <td>2013</td>\n",
              "      <td>1</td>\n",
              "      <td>9.717158</td>\n",
              "      <td>4052169</td>\n",
              "      <td>6889</td>\n",
              "      <td>9</td>\n",
              "      <td>1</td>\n",
              "    </tr>\n",
              "  </tbody>\n",
              "</table>\n",
              "</div>"
            ],
            "text/plain": [
              "   make    price  body  mileage  engV  engType  registration  year  drive  \\\n",
              "0    23  15500.0     0       68   2.5        1             1  2010      1   \n",
              "1    50  20500.0     3      173   1.8        1             1  2011      2   \n",
              "2    50  35000.0     2      135   5.5        3             1  2008      2   \n",
              "3    50  17800.0     5      162   1.8        0             1  2012      0   \n",
              "4    55  16600.0     0       83   2.0        3             1  2013      1   \n",
              "\n",
              "    ln_price  year_sq  mileage_sq  engType_sq  drive_sq  \n",
              "0   9.648595  4040100        4624           1         1  \n",
              "1   9.928180  4044121       29929           1         4  \n",
              "2  10.463103  4032064       18225           9         4  \n",
              "3   9.786954  4048144       26244           0         0  \n",
              "4   9.717158  4052169        6889           9         1  "
            ]
          },
          "metadata": {
            "tags": []
          },
          "execution_count": 60
        }
      ]
    },
    {
      "metadata": {
        "id": "ItXufiM5GW2Z",
        "colab_type": "code",
        "colab": {
          "base_uri": "https://localhost:8080/",
          "height": 222
        },
        "outputId": "f3e04f82-676e-4f8f-ff88-513d592428f8"
      },
      "cell_type": "code",
      "source": [
        "#plot to examine how the squared features have changed relative to originals\n",
        "sns.pairplot(data=df, y_vars=['ln_price'], x_vars=x_columns)"
      ],
      "execution_count": 61,
      "outputs": [
        {
          "output_type": "execute_result",
          "data": {
            "text/plain": [
              "<seaborn.axisgrid.PairGrid at 0x7fe67512f278>"
            ]
          },
          "metadata": {
            "tags": []
          },
          "execution_count": 61
        },
        {
          "output_type": "display_data",
          "data": {
            "image/png": "[encoded data removed]",
            "text/plain": [
              "<Figure size 2340x180 with 13 Axes>"
            ]
          },
          "metadata": {
            "tags": []
          }
        }
      ]
    },
    {
      "metadata": {
        "id": "NJgfD-JLayRA",
        "colab_type": "text"
      },
      "cell_type": "markdown",
      "source": [
        "## 2.4 Use the new log-transformed y variable and your x variables (including any new polynomial features) to fit a new linear regression model. Then report the: intercept, coefficients, RMSE, and $R^2$."
      ]
    },
    {
      "metadata": {
        "id": "uXmtVpnPcFij",
        "colab_type": "code",
        "colab": {
          "base_uri": "https://localhost:8080/",
          "height": 330
        },
        "outputId": "5f3dabfb-480e-4b07-a2b2-e80de7ab9eac"
      },
      "cell_type": "code",
      "source": [
        "y = df.loc[:, ['ln_price']]\n",
        "X = df.drop(['price','ln_price'], axis = 1)\n",
        "\n",
        "X_train, X_test, Y_train, Y_test = train_test_split(\n",
        "    X.values, y.values, test_size=.5, random_state=13)\n",
        "\n",
        "model = LinearRegression()\n",
        "model.fit(X_train, Y_train)\n",
        "\n",
        "y_pred = model.predict(X_test)\n",
        "\n",
        "print('Coefficients')\n",
        "coef = list(X)\n",
        "for i in range(len(coef)):\n",
        "  print(str(coef[i])+':  ' + str(model.coef_[0][i]))\n",
        "\n",
        "print(\"Model Intercept: \", model.intercept_)\n",
        "print('\\n')\n",
        "\n",
        "RMSE = (np.sqrt(mean_squared_error(Y_test, y_pred)))\n",
        "R2 = r2_score(Y_test, y_pred)\n",
        "\n",
        "print('RMSE is {}'.format(RMSE))\n",
        "print('R^2 is {}'.format(R2))\n"
      ],
      "execution_count": 62,
      "outputs": [
        {
          "output_type": "stream",
          "text": [
            "Coefficients\n",
            "make:  -0.0015770917580411857\n",
            "body:  -0.010439404521053536\n",
            "mileage:  0.0004663839745997466\n",
            "engV:  0.008017254472749445\n",
            "engType:  -0.22495514770436964\n",
            "registration:  0.6873992338708533\n",
            "year:  -5.50357764558097\n",
            "drive:  1.4772402661377075\n",
            "year_sq:  0.0013976811754178708\n",
            "mileage_sq:  1.677207760366478e-07\n",
            "engType_sq:  0.06620523804340456\n",
            "drive_sq:  -0.6012186786552942\n",
            "Model Intercept:  [5424.04050796]\n",
            "\n",
            "\n",
            "RMSE is 0.5192389632586787\n",
            "R^2 is 0.7087673331036639\n"
          ],
          "name": "stdout"
        }
      ]
    },
    {
      "metadata": {
        "id": "G_hT7XbE7yzd",
        "colab_type": "code",
        "colab": {}
      },
      "cell_type": "code",
      "source": [
        "# I don't imagine I should be drawing attention to it, but some of those coeffs \n",
        "# are impossible. Will try to fix this in the last cells of the exam since this\n",
        "# is not explicitly part of the exam (correct coeffs) <<< corrected at the end"
      ],
      "execution_count": 0,
      "outputs": []
    },
    {
      "metadata": {
        "id": "hf4_8FXrpHFY",
        "colab_type": "text"
      },
      "cell_type": "markdown",
      "source": [
        "## 2.5 How might we interpret the coefficient on \"year\" in this new regression model?"
      ]
    },
    {
      "metadata": {
        "id": "JVGKvt5WpTf2",
        "colab_type": "text"
      },
      "cell_type": "markdown",
      "source": [
        "For every unit increase in \"year\" there is a corresponding percentage increase in the mean of \"price\"\n",
        "\n",
        "Worth noting: \"The \"multiplying the coefficient by 100 and interpret it as percent change\" method is only applicable to coefficient within the range of about -.08 to .08. Beyond this range, the original and the exponent of it can start to deviate considerably.\"\n",
        "\n",
        "See here[https://stats.stackexchange.com/questions/61453/interpretation-in-log-linear-regressions-with-coefficients-bigger-than-1]\n",
        "\n",
        "Also worth noting, this is actually incorrect in the above model because we also include a \"year squared\" term. When both the polynomial and linear feature are included, it changes the interpreation of the coefficient of the linear feature.\n",
        "\n",
        "See page 10 here [http://www.medicine.mcgill.ca/epidemiology/Joseph/courses/EPIB-621/multiple.pdf]"
      ]
    },
    {
      "metadata": {
        "id": "JUQwzfDRfrQi",
        "colab_type": "text"
      },
      "cell_type": "markdown",
      "source": [
        "# Gradient Descent"
      ]
    },
    {
      "metadata": {
        "id": "M_JLfReVeoYT",
        "colab_type": "text"
      },
      "cell_type": "markdown",
      "source": [
        "## 3.1 What does Gradient Descent seek to minimize?"
      ]
    },
    {
      "metadata": {
        "id": "-ezM_NS2fIJe",
        "colab_type": "text"
      },
      "cell_type": "markdown",
      "source": [
        "Gradient descent seeks to minimize the loss/cost function. The loss function looks at the distance between our predicted y value and our actual value for each point, squares each of the differenes, and then adds them. The denominator is kind of arbitrary as a scaling factor for our calculation. Gradient descent is ultimately a tool to find the coefficients that reduce the sum of the squared errors as much as possible. "
      ]
    },
    {
      "metadata": {
        "id": "unqhNRYnfIL4",
        "colab_type": "text"
      },
      "cell_type": "markdown",
      "source": [
        "## 3.2 What is the \"Learning Rate\" and what is its function?"
      ]
    },
    {
      "metadata": {
        "id": "7jhKwIOVfT6B",
        "colab_type": "text"
      },
      "cell_type": "markdown",
      "source": [
        "Learning rate is the alpha (or apparently \"gamma\" too depending on who you're talking to) in our loss/cost function. It determines the size of the step that our gradient descent algorithm takes in search of a local minimum. A large learning rate can allow us to find the local minimum with the fewest iterations, but may also jump past the mark entirely. A small learning rate is less likely to miss the mark (if we are dealing with a function with only a single local minimum), but will take many iterations. "
      ]
    },
    {
      "metadata": {
        "id": "Gs20FOntprd_",
        "colab_type": "text"
      },
      "cell_type": "markdown",
      "source": [
        "# Model Diagnostics"
      ]
    },
    {
      "metadata": {
        "id": "VJnxkobcpulV",
        "colab_type": "text"
      },
      "cell_type": "markdown",
      "source": [
        "## 4.1 Use statsmodels to run a log-linear or log-polynomial linear regression with robust standard errors."
      ]
    },
    {
      "metadata": {
        "id": "QqCVeYBTpvfQ",
        "colab_type": "code",
        "colab": {
          "base_uri": "https://localhost:8080/",
          "height": 677
        },
        "outputId": "c9587935-a1df-49b8-e346-b03ff8a60e95"
      },
      "cell_type": "code",
      "source": [
        "X = sm.add_constant(X)\n",
        "\n",
        "model = sm.OLS(y, X).fit(cov_type='HC3')\n",
        "predictions = model.predict(X) \n",
        "\n",
        "print_model = model.summary()\n",
        "print(print_model)"
      ],
      "execution_count": 48,
      "outputs": [
        {
          "output_type": "stream",
          "text": [
            "                            OLS Regression Results                            \n",
            "==============================================================================\n",
            "Dep. Variable:               ln_price   R-squared:                       0.723\n",
            "Model:                            OLS   Adj. R-squared:                  0.722\n",
            "Method:                 Least Squares   F-statistic:                     1725.\n",
            "Date:                Fri, 18 Jan 2019   Prob (F-statistic):               0.00\n",
            "Time:                        17:32:43   Log-Likelihood:                -6275.9\n",
            "No. Observations:                8495   AIC:                         1.258e+04\n",
            "Df Residuals:                    8482   BIC:                         1.267e+04\n",
            "Df Model:                          12                                         \n",
            "Covariance Type:                  HC3                                         \n",
            "================================================================================\n",
            "                   coef    std err          z      P>|z|      [0.025      0.975]\n",
            "--------------------------------------------------------------------------------\n",
            "const         6007.9574    641.168      9.370      0.000    4751.292    7264.623\n",
            "make            -0.0020      0.000     -7.819      0.000      -0.002      -0.001\n",
            "body            -0.0070      0.004     -1.573      0.116      -0.016       0.002\n",
            "mileage          0.0005      0.000      2.142      0.032    4.34e-05       0.001\n",
            "engV             0.0061      0.002      3.046      0.002       0.002       0.010\n",
            "engType         -0.2274      0.023     -9.958      0.000      -0.272      -0.183\n",
            "registration     0.6560      0.019     35.212      0.000       0.620       0.693\n",
            "year            -6.0873      0.641     -9.499      0.000      -7.343      -4.831\n",
            "drive            1.5153      0.033     45.528      0.000       1.450       1.581\n",
            "year_sq          0.0015      0.000      9.641      0.000       0.001       0.002\n",
            "mileage_sq    2.022e-07   5.02e-07      0.403      0.687   -7.81e-07    1.19e-06\n",
            "engType_sq       0.0659      0.007      9.226      0.000       0.052       0.080\n",
            "drive_sq        -0.6264      0.018    -34.694      0.000      -0.662      -0.591\n",
            "==============================================================================\n",
            "Omnibus:                      258.483   Durbin-Watson:                   1.942\n",
            "Prob(Omnibus):                  0.000   Jarque-Bera (JB):              617.925\n",
            "Skew:                          -0.131   Prob(JB):                    6.60e-135\n",
            "Kurtosis:                       4.295   Cond. No.                     2.37e+11\n",
            "==============================================================================\n",
            "\n",
            "Warnings:\n",
            "[1] Standard Errors are heteroscedasticity robust (HC3)\n",
            "[2] The condition number is large, 2.37e+11. This might indicate that there are\n",
            "strong multicollinearity or other numerical problems.\n"
          ],
          "name": "stdout"
        }
      ]
    },
    {
      "metadata": {
        "id": "loKma3wspwVs",
        "colab_type": "text"
      },
      "cell_type": "markdown",
      "source": [
        "## 4.2 Calculate the Variance Inflation Factor (VIF) of our X variables. Do we have multicollinearity problems?"
      ]
    },
    {
      "metadata": {
        "id": "vQIEnCsIB7VM",
        "colab_type": "code",
        "colab": {
          "base_uri": "https://localhost:8080/",
          "height": 260
        },
        "outputId": "c93d5255-af75-4d44-81dd-0a2b2bb0eed3"
      },
      "cell_type": "code",
      "source": [
        "print('VIF')\n",
        "columns = list(X)\n",
        "for i in range(len(columns)):\n",
        "  print(str(columns[i])+':  ' + str(variance_inflation_factor(X.values, i)))"
      ],
      "execution_count": 53,
      "outputs": [
        {
          "output_type": "stream",
          "text": [
            "VIF\n",
            "const:  3462296610.330536\n",
            "make:  1.0619611913443308\n",
            "body:  1.7519118353835763\n",
            "mileage:  7.53277699092819\n",
            "engV:  1.0162298207015188\n",
            "engType:  31.818617802189046\n",
            "registration:  1.1317632239893058\n",
            "year:  166196.42748368587\n",
            "drive:  18.62361165818084\n",
            "year_sq:  166559.7244934088\n",
            "mileage_sq:  5.078334715516184\n",
            "engType_sq:  30.710265837479973\n",
            "drive_sq:  18.36032153912244\n"
          ],
          "name": "stdout"
        }
      ]
    },
    {
      "metadata": {
        "id": "rFM8EJ-ODgmb",
        "colab_type": "code",
        "colab": {}
      },
      "cell_type": "code",
      "source": [
        "\"\"\"Yes, we have multicollinearity problems with the following:\n",
        "engType\n",
        "year\n",
        "drive\n",
        "year_sq\n",
        "engType_sq\n",
        "drive_sq\n",
        "\n"
      ],
      "execution_count": 0,
      "outputs": []
    },
    {
      "metadata": {
        "id": "EN1mPKWhp2Vn",
        "colab_type": "code",
        "colab": {
          "base_uri": "https://localhost:8080/",
          "height": 426
        },
        "outputId": "3d6d27c8-dacd-4264-f9f5-558382ad7549"
      },
      "cell_type": "code",
      "source": [
        "no_const = X.drop('const', axis=1)\n",
        "no_const.corr()"
      ],
      "execution_count": 49,
      "outputs": [
        {
          "output_type": "execute_result",
          "data": {
            "text/html": [
              "<div>\n",
              "<style scoped>\n",
              "    .dataframe tbody tr th:only-of-type {\n",
              "        vertical-align: middle;\n",
              "    }\n",
              "\n",
              "    .dataframe tbody tr th {\n",
              "        vertical-align: top;\n",
              "    }\n",
              "\n",
              "    .dataframe thead th {\n",
              "        text-align: right;\n",
              "    }\n",
              "</style>\n",
              "<table border=\"1\" class=\"dataframe\">\n",
              "  <thead>\n",
              "    <tr style=\"text-align: right;\">\n",
              "      <th></th>\n",
              "      <th>make</th>\n",
              "      <th>body</th>\n",
              "      <th>mileage</th>\n",
              "      <th>engV</th>\n",
              "      <th>engType</th>\n",
              "      <th>registration</th>\n",
              "      <th>year</th>\n",
              "      <th>drive</th>\n",
              "      <th>year_sq</th>\n",
              "      <th>mileage_sq</th>\n",
              "      <th>engType_sq</th>\n",
              "      <th>drive_sq</th>\n",
              "    </tr>\n",
              "  </thead>\n",
              "  <tbody>\n",
              "    <tr>\n",
              "      <th>make</th>\n",
              "      <td>1.000000</td>\n",
              "      <td>0.026127</td>\n",
              "      <td>-0.035097</td>\n",
              "      <td>-0.021246</td>\n",
              "      <td>-0.011880</td>\n",
              "      <td>0.104557</td>\n",
              "      <td>-0.013833</td>\n",
              "      <td>-0.196444</td>\n",
              "      <td>-0.013679</td>\n",
              "      <td>-0.031106</td>\n",
              "      <td>-0.010674</td>\n",
              "      <td>-0.191591</td>\n",
              "    </tr>\n",
              "    <tr>\n",
              "      <th>body</th>\n",
              "      <td>0.026127</td>\n",
              "      <td>1.000000</td>\n",
              "      <td>0.287060</td>\n",
              "      <td>-0.025320</td>\n",
              "      <td>-0.184007</td>\n",
              "      <td>-0.082643</td>\n",
              "      <td>-0.154554</td>\n",
              "      <td>-0.162235</td>\n",
              "      <td>-0.154919</td>\n",
              "      <td>0.195170</td>\n",
              "      <td>-0.162796</td>\n",
              "      <td>0.014063</td>\n",
              "    </tr>\n",
              "    <tr>\n",
              "      <th>mileage</th>\n",
              "      <td>-0.035097</td>\n",
              "      <td>0.287060</td>\n",
              "      <td>1.000000</td>\n",
              "      <td>0.042081</td>\n",
              "      <td>-0.229644</td>\n",
              "      <td>-0.229354</td>\n",
              "      <td>-0.503135</td>\n",
              "      <td>0.067962</td>\n",
              "      <td>-0.504345</td>\n",
              "      <td>0.872954</td>\n",
              "      <td>-0.232794</td>\n",
              "      <td>0.132141</td>\n",
              "    </tr>\n",
              "    <tr>\n",
              "      <th>engV</th>\n",
              "      <td>-0.021246</td>\n",
              "      <td>-0.025320</td>\n",
              "      <td>0.042081</td>\n",
              "      <td>1.000000</td>\n",
              "      <td>-0.004896</td>\n",
              "      <td>-0.015274</td>\n",
              "      <td>-0.041076</td>\n",
              "      <td>0.084756</td>\n",
              "      <td>-0.041024</td>\n",
              "      <td>0.033698</td>\n",
              "      <td>-0.008787</td>\n",
              "      <td>0.063704</td>\n",
              "    </tr>\n",
              "    <tr>\n",
              "      <th>engType</th>\n",
              "      <td>-0.011880</td>\n",
              "      <td>-0.184007</td>\n",
              "      <td>-0.229644</td>\n",
              "      <td>-0.004896</td>\n",
              "      <td>1.000000</td>\n",
              "      <td>0.152988</td>\n",
              "      <td>-0.040471</td>\n",
              "      <td>-0.044859</td>\n",
              "      <td>-0.040323</td>\n",
              "      <td>-0.169311</td>\n",
              "      <td>0.982107</td>\n",
              "      <td>-0.028088</td>\n",
              "    </tr>\n",
              "    <tr>\n",
              "      <th>registration</th>\n",
              "      <td>0.104557</td>\n",
              "      <td>-0.082643</td>\n",
              "      <td>-0.229354</td>\n",
              "      <td>-0.015274</td>\n",
              "      <td>0.152988</td>\n",
              "      <td>1.000000</td>\n",
              "      <td>0.185104</td>\n",
              "      <td>-0.055793</td>\n",
              "      <td>0.185613</td>\n",
              "      <td>-0.163092</td>\n",
              "      <td>0.133624</td>\n",
              "      <td>-0.079760</td>\n",
              "    </tr>\n",
              "    <tr>\n",
              "      <th>year</th>\n",
              "      <td>-0.013833</td>\n",
              "      <td>-0.154554</td>\n",
              "      <td>-0.503135</td>\n",
              "      <td>-0.041076</td>\n",
              "      <td>-0.040471</td>\n",
              "      <td>0.185104</td>\n",
              "      <td>1.000000</td>\n",
              "      <td>-0.169709</td>\n",
              "      <td>0.999995</td>\n",
              "      <td>-0.389608</td>\n",
              "      <td>-0.009716</td>\n",
              "      <td>-0.249121</td>\n",
              "    </tr>\n",
              "    <tr>\n",
              "      <th>drive</th>\n",
              "      <td>-0.196444</td>\n",
              "      <td>-0.162235</td>\n",
              "      <td>0.067962</td>\n",
              "      <td>0.084756</td>\n",
              "      <td>-0.044859</td>\n",
              "      <td>-0.055793</td>\n",
              "      <td>-0.169709</td>\n",
              "      <td>1.000000</td>\n",
              "      <td>-0.169444</td>\n",
              "      <td>0.083042</td>\n",
              "      <td>-0.038055</td>\n",
              "      <td>0.954145</td>\n",
              "    </tr>\n",
              "    <tr>\n",
              "      <th>year_sq</th>\n",
              "      <td>-0.013679</td>\n",
              "      <td>-0.154919</td>\n",
              "      <td>-0.504345</td>\n",
              "      <td>-0.041024</td>\n",
              "      <td>-0.040323</td>\n",
              "      <td>0.185613</td>\n",
              "      <td>0.999995</td>\n",
              "      <td>-0.169444</td>\n",
              "      <td>1.000000</td>\n",
              "      <td>-0.390230</td>\n",
              "      <td>-0.009529</td>\n",
              "      <td>-0.248920</td>\n",
              "    </tr>\n",
              "    <tr>\n",
              "      <th>mileage_sq</th>\n",
              "      <td>-0.031106</td>\n",
              "      <td>0.195170</td>\n",
              "      <td>0.872954</td>\n",
              "      <td>0.033698</td>\n",
              "      <td>-0.169311</td>\n",
              "      <td>-0.163092</td>\n",
              "      <td>-0.389608</td>\n",
              "      <td>0.083042</td>\n",
              "      <td>-0.390230</td>\n",
              "      <td>1.000000</td>\n",
              "      <td>-0.167364</td>\n",
              "      <td>0.132166</td>\n",
              "    </tr>\n",
              "    <tr>\n",
              "      <th>engType_sq</th>\n",
              "      <td>-0.010674</td>\n",
              "      <td>-0.162796</td>\n",
              "      <td>-0.232794</td>\n",
              "      <td>-0.008787</td>\n",
              "      <td>0.982107</td>\n",
              "      <td>0.133624</td>\n",
              "      <td>-0.009716</td>\n",
              "      <td>-0.038055</td>\n",
              "      <td>-0.009529</td>\n",
              "      <td>-0.167364</td>\n",
              "      <td>1.000000</td>\n",
              "      <td>-0.022268</td>\n",
              "    </tr>\n",
              "    <tr>\n",
              "      <th>drive_sq</th>\n",
              "      <td>-0.191591</td>\n",
              "      <td>0.014063</td>\n",
              "      <td>0.132141</td>\n",
              "      <td>0.063704</td>\n",
              "      <td>-0.028088</td>\n",
              "      <td>-0.079760</td>\n",
              "      <td>-0.249121</td>\n",
              "      <td>0.954145</td>\n",
              "      <td>-0.248920</td>\n",
              "      <td>0.132166</td>\n",
              "      <td>-0.022268</td>\n",
              "      <td>1.000000</td>\n",
              "    </tr>\n",
              "  </tbody>\n",
              "</table>\n",
              "</div>"
            ],
            "text/plain": [
              "                  make      body   mileage      engV   engType  registration  \\\n",
              "make          1.000000  0.026127 -0.035097 -0.021246 -0.011880      0.104557   \n",
              "body          0.026127  1.000000  0.287060 -0.025320 -0.184007     -0.082643   \n",
              "mileage      -0.035097  0.287060  1.000000  0.042081 -0.229644     -0.229354   \n",
              "engV         -0.021246 -0.025320  0.042081  1.000000 -0.004896     -0.015274   \n",
              "engType      -0.011880 -0.184007 -0.229644 -0.004896  1.000000      0.152988   \n",
              "registration  0.104557 -0.082643 -0.229354 -0.015274  0.152988      1.000000   \n",
              "year         -0.013833 -0.154554 -0.503135 -0.041076 -0.040471      0.185104   \n",
              "drive        -0.196444 -0.162235  0.067962  0.084756 -0.044859     -0.055793   \n",
              "year_sq      -0.013679 -0.154919 -0.504345 -0.041024 -0.040323      0.185613   \n",
              "mileage_sq   -0.031106  0.195170  0.872954  0.033698 -0.169311     -0.163092   \n",
              "engType_sq   -0.010674 -0.162796 -0.232794 -0.008787  0.982107      0.133624   \n",
              "drive_sq     -0.191591  0.014063  0.132141  0.063704 -0.028088     -0.079760   \n",
              "\n",
              "                  year     drive   year_sq  mileage_sq  engType_sq  drive_sq  \n",
              "make         -0.013833 -0.196444 -0.013679   -0.031106   -0.010674 -0.191591  \n",
              "body         -0.154554 -0.162235 -0.154919    0.195170   -0.162796  0.014063  \n",
              "mileage      -0.503135  0.067962 -0.504345    0.872954   -0.232794  0.132141  \n",
              "engV         -0.041076  0.084756 -0.041024    0.033698   -0.008787  0.063704  \n",
              "engType      -0.040471 -0.044859 -0.040323   -0.169311    0.982107 -0.028088  \n",
              "registration  0.185104 -0.055793  0.185613   -0.163092    0.133624 -0.079760  \n",
              "year          1.000000 -0.169709  0.999995   -0.389608   -0.009716 -0.249121  \n",
              "drive        -0.169709  1.000000 -0.169444    0.083042   -0.038055  0.954145  \n",
              "year_sq       0.999995 -0.169444  1.000000   -0.390230   -0.009529 -0.248920  \n",
              "mileage_sq   -0.389608  0.083042 -0.390230    1.000000   -0.167364  0.132166  \n",
              "engType_sq   -0.009716 -0.038055 -0.009529   -0.167364    1.000000 -0.022268  \n",
              "drive_sq     -0.249121  0.954145 -0.248920    0.132166   -0.022268  1.000000  "
            ]
          },
          "metadata": {
            "tags": []
          },
          "execution_count": 49
        }
      ]
    },
    {
      "metadata": {
        "id": "XxlsWbqrH_nl",
        "colab_type": "text"
      },
      "cell_type": "markdown",
      "source": [
        "##I believe that the above covers the exam, but I'm going to try to fix my coefficients below"
      ]
    },
    {
      "metadata": {
        "id": "4OBs3P7vDRnR",
        "colab_type": "code",
        "colab": {
          "base_uri": "https://localhost:8080/",
          "height": 260
        },
        "outputId": "9285c86c-4d42-40b4-aaae-e0b47720734f"
      },
      "cell_type": "code",
      "source": [
        "#test log-linear coefficients by removing polynomial terms\n",
        "\n",
        "y = df.loc[:, ['ln_price']]\n",
        "X = df.drop(['price','ln_price','engType_sq','year_sq','drive_sq','mileage_sq'], axis = 1)\n",
        "\n",
        "X_train, X_test, Y_train, Y_test = train_test_split(\n",
        "    X.values, y.values, test_size=.5, random_state=13)\n",
        "\n",
        "model = LinearRegression()\n",
        "model.fit(X_train, Y_train)\n",
        "\n",
        "y_pred = model.predict(X_test)\n",
        "\n",
        "print('Coefficients')\n",
        "coef = list(X)\n",
        "for i in range(len(coef)):\n",
        "  print(str(coef[i])+':  ' + str(model.coef_[0][i]))\n",
        "\n",
        "print(\"Model Intercept: \", model.intercept_)\n",
        "print('\\n')\n",
        "\n",
        "RMSE = (np.sqrt(mean_squared_error(Y_test, y_pred)))\n",
        "R2 = r2_score(Y_test, y_pred)\n",
        "\n",
        "print('RMSE is {}'.format(RMSE))\n",
        "print('R^2 is {}'.format(R2))\n"
      ],
      "execution_count": 66,
      "outputs": [
        {
          "output_type": "stream",
          "text": [
            "Coefficients\n",
            "make:  -0.0013056151185597573\n",
            "body:  -0.09393190905504512\n",
            "mileage:  -9.993550533014817e-05\n",
            "engV:  0.012672479922340552\n",
            "engType:  -0.054380738409163125\n",
            "registration:  0.7430708010170006\n",
            "year:  0.09442340204211512\n",
            "drive:  0.40323497514372464\n",
            "Model Intercept:  [-180.84374719]\n",
            "\n",
            "\n",
            "RMSE is 0.5793789180718742\n",
            "R^2 is 0.6373973983338468\n"
          ],
          "name": "stdout"
        }
      ]
    },
    {
      "metadata": {
        "id": "qlwW0qvfHM5I",
        "colab_type": "code",
        "colab": {}
      },
      "cell_type": "code",
      "source": [
        "#Beautiful, it looks like everything is happy again, even if we lost some\n",
        "#R^2. Probably worth diving deeper into log-linear, linear-log, and log-log"
      ],
      "execution_count": 0,
      "outputs": []
    }
  ]
}