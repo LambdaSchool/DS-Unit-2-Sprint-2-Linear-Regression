{
  "nbformat": 4,
  "nbformat_minor": 0,
  "metadata": {
    "colab": {
      "name": "Alejandro Ruperti - Linear Regression Sprint Challenge.ipynb",
      "version": "0.3.2",
      "provenance": [],
      "include_colab_link": true
    },
    "kernelspec": {
      "name": "python3",
      "display_name": "Python 3"
    }
  },
  "cells": [
    {
      "cell_type": "markdown",
      "metadata": {
        "id": "view-in-github",
        "colab_type": "text"
      },
      "source": [
        "<a href=\"https://colab.research.google.com/github/axrd/DS-Unit-2-Sprint-2-Linear-Regression/blob/master/Alejandro_Ruperti_Linear_Regression_Sprint_Challenge.ipynb\" target=\"_parent\"><img src=\"https://colab.research.google.com/assets/colab-badge.svg\" alt=\"Open In Colab\"/></a>"
      ]
    },
    {
      "metadata": {
        "id": "YbiJuv5d2jZ7",
        "colab_type": "code",
        "outputId": "d2d3f54b-ffbb-4969-9344-0ddad9095ff9",
        "colab": {
          "base_uri": "https://localhost:8080/",
          "height": 51
        }
      },
      "cell_type": "code",
      "source": [
        "# Import everything you could ever need. ;)\n",
        "import pandas as pd\n",
        "import numpy as np\n",
        "import matplotlib.pyplot as plt\n",
        "import seaborn as sns\n",
        "import statsmodels.api as sm\n",
        "from statsmodels.stats.outliers_influence import variance_inflation_factor\n",
        "from sklearn.model_selection import train_test_split\n",
        "from sklearn.linear_model import LinearRegression\n",
        "from sklearn.metrics import mean_squared_error, r2_score"
      ],
      "execution_count": 2,
      "outputs": [
        {
          "output_type": "stream",
          "text": [
            "/usr/local/lib/python3.6/dist-packages/statsmodels/compat/pandas.py:56: FutureWarning: The pandas.core.datetools module is deprecated and will be removed in a future version. Please use the pandas.tseries module instead.\n",
            "  from pandas.core import datetools\n"
          ],
          "name": "stderr"
        }
      ]
    },
    {
      "metadata": {
        "id": "FgaItuSL3zxO",
        "colab_type": "code",
        "outputId": "c714dd2d-67dc-4411-f317-80482ce47d73",
        "colab": {
          "base_uri": "https://localhost:8080/",
          "height": 221
        }
      },
      "cell_type": "code",
      "source": [
        "# Ukraine Used Car Sale Price Prediction\n",
        "df = pd.read_csv('https://raw.githubusercontent.com/ryanleeallred/datasets/master/car_regression.csv')\n",
        "print(df.shape)\n",
        "df.head()"
      ],
      "execution_count": 3,
      "outputs": [
        {
          "output_type": "stream",
          "text": [
            "(8495, 9)\n"
          ],
          "name": "stdout"
        },
        {
          "output_type": "execute_result",
          "data": {
            "text/html": [
              "<div>\n",
              "<style scoped>\n",
              "    .dataframe tbody tr th:only-of-type {\n",
              "        vertical-align: middle;\n",
              "    }\n",
              "\n",
              "    .dataframe tbody tr th {\n",
              "        vertical-align: top;\n",
              "    }\n",
              "\n",
              "    .dataframe thead th {\n",
              "        text-align: right;\n",
              "    }\n",
              "</style>\n",
              "<table border=\"1\" class=\"dataframe\">\n",
              "  <thead>\n",
              "    <tr style=\"text-align: right;\">\n",
              "      <th></th>\n",
              "      <th>make</th>\n",
              "      <th>price</th>\n",
              "      <th>body</th>\n",
              "      <th>mileage</th>\n",
              "      <th>engV</th>\n",
              "      <th>engType</th>\n",
              "      <th>registration</th>\n",
              "      <th>year</th>\n",
              "      <th>drive</th>\n",
              "    </tr>\n",
              "  </thead>\n",
              "  <tbody>\n",
              "    <tr>\n",
              "      <th>0</th>\n",
              "      <td>23</td>\n",
              "      <td>15500.0</td>\n",
              "      <td>0</td>\n",
              "      <td>68</td>\n",
              "      <td>2.5</td>\n",
              "      <td>1</td>\n",
              "      <td>1</td>\n",
              "      <td>2010</td>\n",
              "      <td>1</td>\n",
              "    </tr>\n",
              "    <tr>\n",
              "      <th>1</th>\n",
              "      <td>50</td>\n",
              "      <td>20500.0</td>\n",
              "      <td>3</td>\n",
              "      <td>173</td>\n",
              "      <td>1.8</td>\n",
              "      <td>1</td>\n",
              "      <td>1</td>\n",
              "      <td>2011</td>\n",
              "      <td>2</td>\n",
              "    </tr>\n",
              "    <tr>\n",
              "      <th>2</th>\n",
              "      <td>50</td>\n",
              "      <td>35000.0</td>\n",
              "      <td>2</td>\n",
              "      <td>135</td>\n",
              "      <td>5.5</td>\n",
              "      <td>3</td>\n",
              "      <td>1</td>\n",
              "      <td>2008</td>\n",
              "      <td>2</td>\n",
              "    </tr>\n",
              "    <tr>\n",
              "      <th>3</th>\n",
              "      <td>50</td>\n",
              "      <td>17800.0</td>\n",
              "      <td>5</td>\n",
              "      <td>162</td>\n",
              "      <td>1.8</td>\n",
              "      <td>0</td>\n",
              "      <td>1</td>\n",
              "      <td>2012</td>\n",
              "      <td>0</td>\n",
              "    </tr>\n",
              "    <tr>\n",
              "      <th>4</th>\n",
              "      <td>55</td>\n",
              "      <td>16600.0</td>\n",
              "      <td>0</td>\n",
              "      <td>83</td>\n",
              "      <td>2.0</td>\n",
              "      <td>3</td>\n",
              "      <td>1</td>\n",
              "      <td>2013</td>\n",
              "      <td>1</td>\n",
              "    </tr>\n",
              "  </tbody>\n",
              "</table>\n",
              "</div>"
            ],
            "text/plain": [
              "   make    price  body  mileage  engV  engType  registration  year  drive\n",
              "0    23  15500.0     0       68   2.5        1             1  2010      1\n",
              "1    50  20500.0     3      173   1.8        1             1  2011      2\n",
              "2    50  35000.0     2      135   5.5        3             1  2008      2\n",
              "3    50  17800.0     5      162   1.8        0             1  2012      0\n",
              "4    55  16600.0     0       83   2.0        3             1  2013      1"
            ]
          },
          "metadata": {
            "tags": []
          },
          "execution_count": 3
        }
      ]
    },
    {
      "metadata": {
        "id": "w9gkF-HNUFAV",
        "colab_type": "text"
      },
      "cell_type": "markdown",
      "source": [
        "# Predictive Modeling with Linear Regression"
      ]
    },
    {
      "metadata": {
        "id": "Vy1SWxcYTAC0",
        "colab_type": "text"
      },
      "cell_type": "markdown",
      "source": [
        "## 1.1 Divide the dataset features into an X matrix and y vector (\"price\" is what we want to predict)."
      ]
    },
    {
      "metadata": {
        "id": "dwMbM9tUUaOQ",
        "colab_type": "code",
        "colab": {}
      },
      "cell_type": "code",
      "source": [
        "# Creating a y-vector of our target variable 'price' and an X matrix for our features.\n",
        "# Drop 'price' from the X matrix to avoid errors.\n",
        "y = df.price\n",
        "X = df.drop('price', axis = 1)"
      ],
      "execution_count": 0,
      "outputs": []
    },
    {
      "metadata": {
        "id": "Uf_SQswNUPwM",
        "colab_type": "text"
      },
      "cell_type": "markdown",
      "source": [
        "## 1.2 Split the data into test and train datasets using train_test_split"
      ]
    },
    {
      "metadata": {
        "id": "iIiELKuKUOgR",
        "colab_type": "code",
        "colab": {}
      },
      "cell_type": "code",
      "source": [
        "# Split the data evenly (50/50) and set a random state for reproducibility:\n",
        "X_train, X_test, Y_train, Y_test = train_test_split(X, y, test_size=0.5, random_state=42)"
      ],
      "execution_count": 0,
      "outputs": []
    },
    {
      "metadata": {
        "id": "0AdXWiwoUstf",
        "colab_type": "text"
      },
      "cell_type": "markdown",
      "source": [
        "## 1.3 Use Scikit-Learn to fit a multiple regression model using your training data."
      ]
    },
    {
      "metadata": {
        "id": "Zw70rt71U1xf",
        "colab_type": "code",
        "colab": {
          "base_uri": "https://localhost:8080/",
          "height": 51
        },
        "outputId": "0f178114-5f3a-4979-8876-78adef294133"
      },
      "cell_type": "code",
      "source": [
        "# Creating Lin Regression using Scikit-Learn:\n",
        "model = LinearRegression()\n",
        "model.fit(X_train, Y_train)"
      ],
      "execution_count": 6,
      "outputs": [
        {
          "output_type": "execute_result",
          "data": {
            "text/plain": [
              "LinearRegression(copy_X=True, fit_intercept=True, n_jobs=None,\n",
              "         normalize=False)"
            ]
          },
          "metadata": {
            "tags": []
          },
          "execution_count": 6
        }
      ]
    },
    {
      "metadata": {
        "id": "82fH2rilU7j3",
        "colab_type": "text"
      },
      "cell_type": "markdown",
      "source": [
        "## 1.4 Report the Intercept and Coefficient Values for the fitted model"
      ]
    },
    {
      "metadata": {
        "id": "ue6hCHGqVE83",
        "colab_type": "code",
        "colab": {
          "base_uri": "https://localhost:8080/",
          "height": 119
        },
        "outputId": "94350b04-5a1a-4e66-fc69-e2bff01849ea"
      },
      "cell_type": "code",
      "source": [
        "print(\"Coefficients: \\n\", model.coef_)\n",
        "print(\"\\n Intercept: \\n\", model.intercept_)"
      ],
      "execution_count": 7,
      "outputs": [
        {
          "output_type": "stream",
          "text": [
            "Coefficients: \n",
            " [  -35.22479484 -1672.11973555   -37.12848399   269.61582544\n",
            " -1284.74375962  4649.46225339  1098.2829573   7886.89079148]\n",
            "\n",
            " Intercept: \n",
            " -2184591.0115608736\n"
          ],
          "name": "stdout"
        }
      ]
    },
    {
      "metadata": {
        "id": "T0CV0OnDVZbu",
        "colab_type": "text"
      },
      "cell_type": "markdown",
      "source": [
        "## 1.5 Use the test data to make predictions"
      ]
    },
    {
      "metadata": {
        "id": "vrR5b5c3VwE5",
        "colab_type": "code",
        "colab": {}
      },
      "cell_type": "code",
      "source": [
        "# Making predictions using the test set of the data:\n",
        "y_test_pred = model.predict(X_test)"
      ],
      "execution_count": 0,
      "outputs": []
    },
    {
      "metadata": {
        "id": "ZwQb3gE7VycT",
        "colab_type": "text"
      },
      "cell_type": "markdown",
      "source": [
        "## 1.6 Calculate and report both the Root-Mean-Square error and $R^2$ for the model. "
      ]
    },
    {
      "metadata": {
        "id": "Ym2kjxWhU6b2",
        "colab_type": "code",
        "colab": {
          "base_uri": "https://localhost:8080/",
          "height": 68
        },
        "outputId": "60ffe9da-5282-4211-c1d3-51ef3c7279a0"
      },
      "cell_type": "code",
      "source": [
        "# Calculating & printing model's Mean-Square error, Root-Mean-Square Error, and R2:\n",
        "MSE = mean_squared_error(Y_test, y_test_pred)\n",
        "RMSE = (np.sqrt(mean_squared_error(Y_test, y_test_pred)))\n",
        "\n",
        "R2 = r2_score(Y_test, y_test_pred)\n",
        "\n",
        "print('MSE is {}'.format(MSE))\n",
        "print('RMSE is {}'.format(RMSE))\n",
        "print('R^2 is {}'.format(R2))"
      ],
      "execution_count": 11,
      "outputs": [
        {
          "output_type": "stream",
          "text": [
            "MSE is 504905647.2241802\n",
            "RMSE is 22470.10563446866\n",
            "R^2 is 0.2694482951962195\n"
          ],
          "name": "stdout"
        }
      ]
    },
    {
      "metadata": {
        "id": "kIXhGHIgXHyJ",
        "colab_type": "text"
      },
      "cell_type": "markdown",
      "source": [
        "## 1.7 How should we interpret the coefficient corresponding to the \"year\" feature?"
      ]
    },
    {
      "metadata": {
        "id": "8jv2n0wAXgHU",
        "colab_type": "text"
      },
      "cell_type": "markdown",
      "source": [
        "\n",
        "\n",
        "---\n",
        "Coefficients describe how much x is associated with y, or in this case, how much a car's age is associated with it's price. It is an elasticity metric. For every change in year, there's a corresponding change of $1098 on the price. \n",
        "\n",
        "---\n",
        "\n"
      ]
    },
    {
      "metadata": {
        "id": "ckQ5GsOtYsjn",
        "colab_type": "text"
      },
      "cell_type": "markdown",
      "source": [
        "## 1.8 How should we interpret the Root-Mean-Square Error?"
      ]
    },
    {
      "metadata": {
        "id": "RculB2tRz8KG",
        "colab_type": "code",
        "colab": {
          "base_uri": "https://localhost:8080/",
          "height": 170
        },
        "outputId": "307001bc-daf4-42fd-d07b-8c1b5d42ad88"
      },
      "cell_type": "code",
      "source": [
        "df.price.describe()"
      ],
      "execution_count": 10,
      "outputs": [
        {
          "output_type": "execute_result",
          "data": {
            "text/plain": [
              "count      8495.000000\n",
              "mean      16185.453305\n",
              "std       24449.641512\n",
              "min         259.350000\n",
              "25%        5490.000000\n",
              "50%        9500.000000\n",
              "75%       17145.600000\n",
              "max      547800.000000\n",
              "Name: price, dtype: float64"
            ]
          },
          "metadata": {
            "tags": []
          },
          "execution_count": 10
        }
      ]
    },
    {
      "metadata": {
        "id": "F982IeSgYyp6",
        "colab_type": "text"
      },
      "cell_type": "markdown",
      "source": [
        "\n",
        "---\n",
        "\n",
        "\n",
        "RMSE is the square root of the variance of the residuals in a model. It measures the difference between values that are predicted by a model, and those that are actually observed. In other words, it's a measure of a model's *accuracy*.\n",
        "\n",
        "Our model had an RMSE of 22,470.11, which is roughly equivalent to a standard deviation of our target variable \"price\". Put another way, our model does have some predictive power, but the errors can probably be reduced by leveraging polynomial and/or log-linear regression. \n",
        "\n",
        "\n",
        "---\n",
        "\n"
      ]
    },
    {
      "metadata": {
        "id": "T3sZrru_YzFF",
        "colab_type": "text"
      },
      "cell_type": "markdown",
      "source": [
        "## 1.9 How should we interpret the $R^2$?"
      ]
    },
    {
      "metadata": {
        "id": "5pN2Oet_Y5jR",
        "colab_type": "text"
      },
      "cell_type": "markdown",
      "source": [
        "\n",
        "\n",
        "---\n",
        "\n",
        "\n",
        "$R^2$ (or the \"coefficient of determination\") aims to calculate how much of the dependent variable's variation is explained by the independent variable. It represents the 'goodness of fit' of a model on a 0 to 1 scale. Our $R^2$ was a paltry 0.269, which means that our model can only explain ~ 27% of the variation in price. Not a good fit. \n",
        "\n",
        "\n",
        "---\n",
        "\n"
      ]
    },
    {
      "metadata": {
        "id": "Z_VNy7e3Y5sT",
        "colab_type": "text"
      },
      "cell_type": "markdown",
      "source": [
        "# Log-Linear and Polynomial Regression"
      ]
    },
    {
      "metadata": {
        "id": "G2T4FSqRZOJA",
        "colab_type": "text"
      },
      "cell_type": "markdown",
      "source": [
        "## 2.1 Engineer a new variable by taking the log of the price varible."
      ]
    },
    {
      "metadata": {
        "id": "8coTTQR72-Tn",
        "colab_type": "code",
        "colab": {}
      },
      "cell_type": "code",
      "source": [
        "# Creating a new variable: \"Ln(Price)\"\n",
        "df['ln_price'] = np.log(df['price'])"
      ],
      "execution_count": 0,
      "outputs": []
    },
    {
      "metadata": {
        "id": "7EChAFNxZX24",
        "colab_type": "code",
        "colab": {
          "base_uri": "https://localhost:8080/",
          "height": 359
        },
        "outputId": "ceb73691-8cd8-4efa-ccd5-ebd5f205b503"
      },
      "cell_type": "code",
      "source": [
        "# Visualizing the distribution of \"price\":\n",
        "plt.hist(df.price);"
      ],
      "execution_count": 32,
      "outputs": [
        {
          "output_type": "display_data",
          "data": {
            "image/png": "[encoded data removed]",
            "text/plain": [
              "<Figure size 576x396 with 1 Axes>"
            ]
          },
          "metadata": {
            "tags": []
          }
        }
      ]
    },
    {
      "metadata": {
        "id": "0HMKqnbY3cVV",
        "colab_type": "code",
        "colab": {
          "base_uri": "https://localhost:8080/",
          "height": 359
        },
        "outputId": "95f2de5a-510a-4eb1-b57a-62f09d0a6448"
      },
      "cell_type": "code",
      "source": [
        "plt.hist(df.ln_price);"
      ],
      "execution_count": 33,
      "outputs": [
        {
          "output_type": "display_data",
          "data": {
            "image/png": "[encoded data removed]",
            "text/plain": [
              "<Figure size 576x396 with 1 Axes>"
            ]
          },
          "metadata": {
            "tags": []
          }
        }
      ]
    },
    {
      "metadata": {
        "id": "AiSRsWKG3g32",
        "colab_type": "text"
      },
      "cell_type": "markdown",
      "source": [
        "\n",
        "\n",
        "---\n",
        "\n",
        "We can see that Ln(Price) eliminates the skew in our target variable, normalizing it.\n",
        "\n",
        "\n",
        "---\n",
        "\n"
      ]
    },
    {
      "metadata": {
        "id": "R117rxnOZw6q",
        "colab_type": "text"
      },
      "cell_type": "markdown",
      "source": [
        "## 2.2 Use scatterplots or seaborn's pairplot function to do the \"eyeball test\" for non-linearly distributed features."
      ]
    },
    {
      "metadata": {
        "id": "8l56Qk7VaBrU",
        "colab_type": "code",
        "colab": {
          "base_uri": "https://localhost:8080/",
          "height": 185
        },
        "outputId": "357a22ce-111e-44dd-da8b-f6c70c9460b6"
      },
      "cell_type": "code",
      "source": [
        "sns.set(style=\"ticks\", color_codes=True)\n",
        "\n",
        "# Generate a list of column headers not including Ln(price):\n",
        "x_columns = df.columns.drop(['ln_price'])\n",
        "\n",
        "# Plotting scatterplots of x variables with our y variable:\n",
        "sns.pairplot(data=df, y_vars=['ln_price'], x_vars=x_columns);"
      ],
      "execution_count": 37,
      "outputs": [
        {
          "output_type": "display_data",
          "data": {
            "image/png": "[encoded data removed]",
            "text/plain": [
              "<Figure size 1620x180 with 9 Axes>"
            ]
          },
          "metadata": {
            "tags": []
          }
        }
      ]
    },
    {
      "metadata": {
        "id": "jgn9LqlM34I5",
        "colab_type": "text"
      },
      "cell_type": "markdown",
      "source": [
        "\n",
        "\n",
        "---\n",
        "\n",
        "It appears that \"year\" has a non-linear relationship as it displays a slightly ascending parabolic shape. Engineering a \"year_squared\" variable may improve our model. \n",
        "\n",
        "\n",
        "---\n",
        "\n"
      ]
    },
    {
      "metadata": {
        "id": "QTf4gCaDaiCw",
        "colab_type": "text"
      },
      "cell_type": "markdown",
      "source": [
        "## 2.3 If appropriate, create any polynomial features. "
      ]
    },
    {
      "metadata": {
        "id": "ipsCcH83ZMe8",
        "colab_type": "code",
        "colab": {
          "base_uri": "https://localhost:8080/",
          "height": 444
        },
        "outputId": "d2d533dc-edc4-42d1-dc62-e770523be8ab"
      },
      "cell_type": "code",
      "source": [
        "# Creating a new variable: \"year_squared\"\n",
        "df['year_squared'] = df['year']**2\n",
        "\n",
        "plt.hist(df.year)\n"
      ],
      "execution_count": 44,
      "outputs": [
        {
          "output_type": "execute_result",
          "data": {
            "text/plain": [
              "(array([6.000e+00, 2.000e+00, 1.000e+01, 3.400e+01, 1.300e+02, 3.200e+02,\n",
              "        5.080e+02, 1.318e+03, 3.451e+03, 2.716e+03]),\n",
              " array([1959. , 1964.7, 1970.4, 1976.1, 1981.8, 1987.5, 1993.2, 1998.9,\n",
              "        2004.6, 2010.3, 2016. ]),\n",
              " <a list of 10 Patch objects>)"
            ]
          },
          "metadata": {
            "tags": []
          },
          "execution_count": 44
        },
        {
          "output_type": "display_data",
          "data": {
            "image/png": "[encoded data removed]",
            "text/plain": [
              "<Figure size 576x396 with 1 Axes>"
            ]
          },
          "metadata": {
            "tags": []
          }
        }
      ]
    },
    {
      "metadata": {
        "id": "tJfUtW6L6834",
        "colab_type": "code",
        "colab": {
          "base_uri": "https://localhost:8080/",
          "height": 444
        },
        "outputId": "c9aae3bb-6ca2-4925-e045-343369f7cad3"
      },
      "cell_type": "code",
      "source": [
        "plt.hist(df.year_squared)"
      ],
      "execution_count": 45,
      "outputs": [
        {
          "output_type": "execute_result",
          "data": {
            "text/plain": [
              "(array([6.000e+00, 2.000e+00, 1.000e+01, 3.400e+01, 1.300e+02, 3.200e+02,\n",
              "        6.510e+02, 1.175e+03, 3.451e+03, 2.716e+03]),\n",
              " array([3837681. , 3860338.5, 3882996. , 3905653.5, 3928311. , 3950968.5,\n",
              "        3973626. , 3996283.5, 4018941. , 4041598.5, 4064256. ]),\n",
              " <a list of 10 Patch objects>)"
            ]
          },
          "metadata": {
            "tags": []
          },
          "execution_count": 45
        },
        {
          "output_type": "display_data",
          "data": {
            "image/png": "[encoded data removed]",
            "text/plain": [
              "<Figure size 576x396 with 1 Axes>"
            ]
          },
          "metadata": {
            "tags": []
          }
        }
      ]
    },
    {
      "metadata": {
        "id": "NJgfD-JLayRA",
        "colab_type": "text"
      },
      "cell_type": "markdown",
      "source": [
        "## 2.4 Use the new log-transformed y variable and your x variables (including any new polynomial features) to fit a new linear regression model. Then report the: intercept, coefficients, RMSE, and $R^2$."
      ]
    },
    {
      "metadata": {
        "id": "dxJ96Ck1Plky",
        "colab_type": "code",
        "colab": {
          "base_uri": "https://localhost:8080/",
          "height": 204
        },
        "outputId": "6395deb0-602d-4c41-c310-96701efac615"
      },
      "cell_type": "code",
      "source": [
        "# Let's figure out what variables we care about\n",
        "df[df.columns[1:]].corr()['price'][:].sort_values(ascending=False)"
      ],
      "execution_count": 49,
      "outputs": [
        {
          "output_type": "execute_result",
          "data": {
            "text/plain": [
              "price           1.000000\n",
              "ln_price        0.731059\n",
              "year_squared    0.394395\n",
              "year            0.393562\n",
              "drive           0.221952\n",
              "registration    0.124062\n",
              "engV            0.066226\n",
              "engType        -0.021051\n",
              "body           -0.253726\n",
              "mileage        -0.336940\n",
              "Name: price, dtype: float64"
            ]
          },
          "metadata": {
            "tags": []
          },
          "execution_count": 49
        }
      ]
    },
    {
      "metadata": {
        "id": "uXmtVpnPcFij",
        "colab_type": "code",
        "colab": {
          "base_uri": "https://localhost:8080/",
          "height": 187
        },
        "outputId": "e3cb985a-2c36-4dd7-e8b4-0495c7243a5c"
      },
      "cell_type": "code",
      "source": [
        "### Polynomial & Log-Linear Regression:\n",
        "# Creating a y-vector of our target variable 'Ln(price)' and an X matrix for our features.\n",
        "# Separating dependent/independent variables:\n",
        "y = df.loc[:, ['ln_price']].values\n",
        "X = df.loc[:, ['year', 'year_squared', 'make', 'drive', 'registration', 'engV',\n",
        "              'engType', 'body', 'mileage']].values\n",
        "\n",
        "# Split into test and train datasets\n",
        "X_train, X_test, Y_train, Y_test = train_test_split(X, y, test_size=.5, random_state=42)\n",
        "\n",
        "# fit model using train datasets\n",
        "model = LinearRegression()\n",
        "model.fit(X_train, Y_train)\n",
        "\n",
        "# Create new predictions using x_test\n",
        "y_pred = model.predict(X_test)\n",
        "\n",
        "# Measure Accuracy using y_test and y_pred\n",
        "RMSE = (np.sqrt(mean_squared_error(Y_test, y_pred)))\n",
        "R2 = r2_score(Y_test, y_pred)\n",
        "\n",
        "print('RMSE is {}'.format(RMSE))\n",
        "print('R^2 is {}'.format(R2))\n",
        "\n",
        "print(\"\\n Coefficients: \\n\", model.coef_[0])\n",
        "print(\"\\n Intercepts: \\n\", model.intercept_)"
      ],
      "execution_count": 54,
      "outputs": [
        {
          "output_type": "stream",
          "text": [
            "RMSE is 0.5553444740505601\n",
            "R^2 is 0.67241415523167\n",
            "\n",
            " Coefficients: \n",
            " [-6.19087737e+00  1.57155448e-03 -1.61546879e-03  3.82779837e-01\n",
            "  6.70762698e-01  9.64573698e-03 -4.93594088e-02 -8.56238008e-02\n",
            "  6.80416242e-04]\n",
            "\n",
            " Intercepts: \n",
            " [6103.33282126]\n"
          ],
          "name": "stdout"
        }
      ]
    },
    {
      "metadata": {
        "id": "hf4_8FXrpHFY",
        "colab_type": "text"
      },
      "cell_type": "markdown",
      "source": [
        "## 2.5 How might we interpret the coefficient on \"year\" in this new regression model?"
      ]
    },
    {
      "metadata": {
        "id": "JVGKvt5WpTf2",
        "colab_type": "text"
      },
      "cell_type": "markdown",
      "source": [
        "\n",
        "\n",
        "---\n",
        "\n",
        "Since we transformed our price values, our interpretation of coefficients has to change as well. Whereas before they had an elasticity type of interpretation (i.e. for every unit change in price, there is a unit change in x), to having a percentage-terms interpretation. For our model, one unit increase in the year corresponds with a 6.19% increase in the price. \n",
        "\n",
        "---\n",
        "\n"
      ]
    },
    {
      "metadata": {
        "id": "JUQwzfDRfrQi",
        "colab_type": "text"
      },
      "cell_type": "markdown",
      "source": [
        "# Gradient Descent"
      ]
    },
    {
      "metadata": {
        "id": "M_JLfReVeoYT",
        "colab_type": "text"
      },
      "cell_type": "markdown",
      "source": [
        "## 3.1 What does Gradient Descent seek to minimize?"
      ]
    },
    {
      "metadata": {
        "id": "-ezM_NS2fIJe",
        "colab_type": "text"
      },
      "cell_type": "markdown",
      "source": [
        "\n",
        "\n",
        "---\n",
        "\n",
        "When creating predictive models, accuracy is one of (if not the) primary concerns. It can be measured in a variety of different ways depending on the structure of the model. Perhaps the most common structure is regression. A regression takes some observed values, creates a line that fits their distribution, representing predicted values. These can then be compared to actually observed values, and their difference is referred to as a 'residual'. If you accumulate all of these residuals and take their square root, you're left with an absolute measure of fit for your model. This is known as the Root Mean Square Error and is just one of many ways to measure the accuracy of a model. These errors in prediction can be represented as a Cost Function. Intuitively, if you're model suffers from poor accuracy, you're incurring a cost in predictive power. \n",
        "\n",
        "Gradient Descent is an iterative algorithm that seeks to find values that minimize a Cost Function (also known as loss, error, or scoring function) of a predictive model. It does this by taking blind 'steps' in a dimensional space that are proportional to the gradient/slope of the function. One way of conceptualizing this is to imagine you're blindfolded at the edge of a crater. You need to get to the bottom of said crater. How do you navigate there without being able to see? Well you take steps and get a sense for which way is down. You keeping stepping, prioritizing steps that you can feel lead you downward. Once you're at the bottom, the ground flattens again, letting you know that you've arrived. Gradient descent does essentially this, but instead of a crater, you have a Cost Function that you're seeking to minimize and so you're trying to find the global minima of values that represent the lowest possible cost of your predictive power. \n",
        "\n",
        "\n",
        "---\n",
        "\n",
        "\n",
        "\n",
        "\n"
      ]
    },
    {
      "metadata": {
        "id": "unqhNRYnfIL4",
        "colab_type": "text"
      },
      "cell_type": "markdown",
      "source": [
        "## 3.2 What is the \"Learning Rate\" and what is its function?"
      ]
    },
    {
      "metadata": {
        "id": "7jhKwIOVfT6B",
        "colab_type": "text"
      },
      "cell_type": "markdown",
      "source": [
        "\n",
        "\n",
        "---\n",
        "\n",
        "\"Learning Rate\" is a measure of how big of a step we initially take in Gradient Descent. These have to be calibrated somewhat so that you can arrive at the minimum point swiftly. If you're taking steps that are too small, you'll require many many updates before reaching the point. If you're taking steps that are too big, you'll cause drastic updates that will lead to divergent behaviors because you'll esentially overshoot the minimum point.\n",
        "\n",
        "Goint back to our crater example, as soon as you figure out which way is down you can take big steps (i.e. run) down the side of the crater. As the ground starts leveling off, you'll need to take smaller steps to ensure you're still heading towards the bottom of the crater. \n",
        "\n",
        "\n",
        "---\n",
        "\n"
      ]
    },
    {
      "metadata": {
        "id": "Gs20FOntprd_",
        "colab_type": "text"
      },
      "cell_type": "markdown",
      "source": [
        "# Model Diagnostics"
      ]
    },
    {
      "metadata": {
        "id": "VJnxkobcpulV",
        "colab_type": "text"
      },
      "cell_type": "markdown",
      "source": [
        "## 4.1 Use statsmodels to run a log-linear or log-polynomial linear regression with robust standard errors."
      ]
    },
    {
      "metadata": {
        "id": "QqCVeYBTpvfQ",
        "colab_type": "code",
        "colab": {
          "base_uri": "https://localhost:8080/",
          "height": 612
        },
        "outputId": "162a4733-a5ca-4d0d-f25f-8e93fdf0c006"
      },
      "cell_type": "code",
      "source": [
        "# Statsmodels libray for Regression Model Diagnostics.\n",
        "# Maintaing the same engineered features as above.\n",
        "# Running a regression using Robust Standard Errors:\n",
        "\n",
        "\n",
        "X = sm.add_constant(X)\n",
        "\n",
        "model = sm.OLS(y, X).fit(cov_type='HC3')\n",
        "predictions = model.predict(X) \n",
        "\n",
        "print_model = model.summary()\n",
        "print(print_model)"
      ],
      "execution_count": 56,
      "outputs": [
        {
          "output_type": "stream",
          "text": [
            "                            OLS Regression Results                            \n",
            "==============================================================================\n",
            "Dep. Variable:                      y   R-squared:                       0.674\n",
            "Model:                            OLS   Adj. R-squared:                  0.673\n",
            "Method:                 Least Squares   F-statistic:                     1870.\n",
            "Date:                Fri, 18 Jan 2019   Prob (F-statistic):               0.00\n",
            "Time:                        18:44:31   Log-Likelihood:                -6964.2\n",
            "No. Observations:                8495   AIC:                         1.395e+04\n",
            "Df Residuals:                    8485   BIC:                         1.402e+04\n",
            "Df Model:                           9                                         \n",
            "Covariance Type:                  HC3                                         \n",
            "==============================================================================\n",
            "                 coef    std err          z      P>|z|      [0.025      0.975]\n",
            "------------------------------------------------------------------------------\n",
            "const       6418.6476    624.441     10.279      0.000    5194.765    7642.530\n",
            "x1            -6.5067      0.624    -10.428      0.000      -7.730      -5.284\n",
            "x2             0.0017      0.000     10.589      0.000       0.001       0.002\n",
            "x3            -0.0017      0.000     -6.268      0.000      -0.002      -0.001\n",
            "x4             0.3756      0.010     38.331      0.000       0.356       0.395\n",
            "x5             0.6552      0.019     34.061      0.000       0.618       0.693\n",
            "x6             0.0086      0.002      3.538      0.000       0.004       0.013\n",
            "x7            -0.0476      0.005     -9.996      0.000      -0.057      -0.038\n",
            "x8            -0.0955      0.004    -24.038      0.000      -0.103      -0.088\n",
            "x9             0.0007      0.000      6.049      0.000       0.000       0.001\n",
            "==============================================================================\n",
            "Omnibus:                      236.710   Durbin-Watson:                   1.921\n",
            "Prob(Omnibus):                  0.000   Jarque-Bera (JB):              571.052\n",
            "Skew:                          -0.088   Prob(JB):                    9.94e-125\n",
            "Kurtosis:                       4.258   Cond. No.                     2.19e+11\n",
            "==============================================================================\n",
            "\n",
            "Warnings:\n",
            "[1] Standard Errors are heteroscedasticity robust (HC3)\n",
            "[2] The condition number is large, 2.19e+11. This might indicate that there are\n",
            "strong multicollinearity or other numerical problems.\n"
          ],
          "name": "stdout"
        }
      ]
    },
    {
      "metadata": {
        "id": "loKma3wspwVs",
        "colab_type": "text"
      },
      "cell_type": "markdown",
      "source": [
        "## 4.2 Calculate the Variance Inflation Factor (VIF) of our X variables. Do we have multicollinearity problems?"
      ]
    },
    {
      "metadata": {
        "id": "EN1mPKWhp2Vn",
        "colab_type": "code",
        "colab": {
          "base_uri": "https://localhost:8080/",
          "height": 119
        },
        "outputId": "a59ca5d2-3d54-4307-8265-0139a0ae6468"
      },
      "cell_type": "code",
      "source": [
        "X = df[['year', 'make', 'drive', \n",
        "       'registration', 'engV', 'engType', 'body', 'mileage']]\n",
        "\n",
        "print(X.columns, '\\n\\n')\n",
        "\n",
        "vif = [variance_inflation_factor(X.values, i) for i in range(X.shape[1])]\n",
        "print(vif)"
      ],
      "execution_count": 62,
      "outputs": [
        {
          "output_type": "stream",
          "text": [
            "Index(['year', 'make', 'drive', 'registration', 'engV', 'engType', 'body',\n",
            "       'mileage'],\n",
            "      dtype='object') \n",
            "\n",
            "\n",
            "[30.469967624801942, 4.831617998169187, 1.7487353617136145, 18.52979143631658, 1.2385758236552047, 2.733786251462895, 3.506279239170271, 3.676004263355245]\n"
          ],
          "name": "stdout"
        }
      ]
    },
    {
      "metadata": {
        "id": "g6NkEKGxTMcv",
        "colab_type": "text"
      },
      "cell_type": "markdown",
      "source": [
        "\n",
        "\n",
        "---\n",
        "\n",
        "Yes, we probably do have multicollinearity issues. \"Year\", \"Year_Squared\", and \"Registration\" all have VIF > 10. Additionally, the Statsmodels Regression had a really large condition number. \n",
        "\n",
        "---\n",
        "\n"
      ]
    },
    {
      "metadata": {
        "id": "xb1AQpk3TEcq",
        "colab_type": "code",
        "colab": {
          "base_uri": "https://localhost:8080/",
          "height": 328
        },
        "outputId": "1635d397-eb5f-4b4d-bbd1-a886d5f855d1"
      },
      "cell_type": "code",
      "source": [
        "# Seeing correlations:\n",
        "X.corr()"
      ],
      "execution_count": 61,
      "outputs": [
        {
          "output_type": "execute_result",
          "data": {
            "text/html": [
              "<div>\n",
              "<style scoped>\n",
              "    .dataframe tbody tr th:only-of-type {\n",
              "        vertical-align: middle;\n",
              "    }\n",
              "\n",
              "    .dataframe tbody tr th {\n",
              "        vertical-align: top;\n",
              "    }\n",
              "\n",
              "    .dataframe thead th {\n",
              "        text-align: right;\n",
              "    }\n",
              "</style>\n",
              "<table border=\"1\" class=\"dataframe\">\n",
              "  <thead>\n",
              "    <tr style=\"text-align: right;\">\n",
              "      <th></th>\n",
              "      <th>year</th>\n",
              "      <th>year_squared</th>\n",
              "      <th>make</th>\n",
              "      <th>drive</th>\n",
              "      <th>registration</th>\n",
              "      <th>engV</th>\n",
              "      <th>engType</th>\n",
              "      <th>body</th>\n",
              "      <th>mileage</th>\n",
              "    </tr>\n",
              "  </thead>\n",
              "  <tbody>\n",
              "    <tr>\n",
              "      <th>year</th>\n",
              "      <td>1.000000</td>\n",
              "      <td>0.999995</td>\n",
              "      <td>-0.013833</td>\n",
              "      <td>-0.169709</td>\n",
              "      <td>0.185104</td>\n",
              "      <td>-0.041076</td>\n",
              "      <td>-0.040471</td>\n",
              "      <td>-0.154554</td>\n",
              "      <td>-0.503135</td>\n",
              "    </tr>\n",
              "    <tr>\n",
              "      <th>year_squared</th>\n",
              "      <td>0.999995</td>\n",
              "      <td>1.000000</td>\n",
              "      <td>-0.013679</td>\n",
              "      <td>-0.169444</td>\n",
              "      <td>0.185613</td>\n",
              "      <td>-0.041024</td>\n",
              "      <td>-0.040323</td>\n",
              "      <td>-0.154919</td>\n",
              "      <td>-0.504345</td>\n",
              "    </tr>\n",
              "    <tr>\n",
              "      <th>make</th>\n",
              "      <td>-0.013833</td>\n",
              "      <td>-0.013679</td>\n",
              "      <td>1.000000</td>\n",
              "      <td>-0.196444</td>\n",
              "      <td>0.104557</td>\n",
              "      <td>-0.021246</td>\n",
              "      <td>-0.011880</td>\n",
              "      <td>0.026127</td>\n",
              "      <td>-0.035097</td>\n",
              "    </tr>\n",
              "    <tr>\n",
              "      <th>drive</th>\n",
              "      <td>-0.169709</td>\n",
              "      <td>-0.169444</td>\n",
              "      <td>-0.196444</td>\n",
              "      <td>1.000000</td>\n",
              "      <td>-0.055793</td>\n",
              "      <td>0.084756</td>\n",
              "      <td>-0.044859</td>\n",
              "      <td>-0.162235</td>\n",
              "      <td>0.067962</td>\n",
              "    </tr>\n",
              "    <tr>\n",
              "      <th>registration</th>\n",
              "      <td>0.185104</td>\n",
              "      <td>0.185613</td>\n",
              "      <td>0.104557</td>\n",
              "      <td>-0.055793</td>\n",
              "      <td>1.000000</td>\n",
              "      <td>-0.015274</td>\n",
              "      <td>0.152988</td>\n",
              "      <td>-0.082643</td>\n",
              "      <td>-0.229354</td>\n",
              "    </tr>\n",
              "    <tr>\n",
              "      <th>engV</th>\n",
              "      <td>-0.041076</td>\n",
              "      <td>-0.041024</td>\n",
              "      <td>-0.021246</td>\n",
              "      <td>0.084756</td>\n",
              "      <td>-0.015274</td>\n",
              "      <td>1.000000</td>\n",
              "      <td>-0.004896</td>\n",
              "      <td>-0.025320</td>\n",
              "      <td>0.042081</td>\n",
              "    </tr>\n",
              "    <tr>\n",
              "      <th>engType</th>\n",
              "      <td>-0.040471</td>\n",
              "      <td>-0.040323</td>\n",
              "      <td>-0.011880</td>\n",
              "      <td>-0.044859</td>\n",
              "      <td>0.152988</td>\n",
              "      <td>-0.004896</td>\n",
              "      <td>1.000000</td>\n",
              "      <td>-0.184007</td>\n",
              "      <td>-0.229644</td>\n",
              "    </tr>\n",
              "    <tr>\n",
              "      <th>body</th>\n",
              "      <td>-0.154554</td>\n",
              "      <td>-0.154919</td>\n",
              "      <td>0.026127</td>\n",
              "      <td>-0.162235</td>\n",
              "      <td>-0.082643</td>\n",
              "      <td>-0.025320</td>\n",
              "      <td>-0.184007</td>\n",
              "      <td>1.000000</td>\n",
              "      <td>0.287060</td>\n",
              "    </tr>\n",
              "    <tr>\n",
              "      <th>mileage</th>\n",
              "      <td>-0.503135</td>\n",
              "      <td>-0.504345</td>\n",
              "      <td>-0.035097</td>\n",
              "      <td>0.067962</td>\n",
              "      <td>-0.229354</td>\n",
              "      <td>0.042081</td>\n",
              "      <td>-0.229644</td>\n",
              "      <td>0.287060</td>\n",
              "      <td>1.000000</td>\n",
              "    </tr>\n",
              "  </tbody>\n",
              "</table>\n",
              "</div>"
            ],
            "text/plain": [
              "                  year  year_squared      make     drive  registration  \\\n",
              "year          1.000000      0.999995 -0.013833 -0.169709      0.185104   \n",
              "year_squared  0.999995      1.000000 -0.013679 -0.169444      0.185613   \n",
              "make         -0.013833     -0.013679  1.000000 -0.196444      0.104557   \n",
              "drive        -0.169709     -0.169444 -0.196444  1.000000     -0.055793   \n",
              "registration  0.185104      0.185613  0.104557 -0.055793      1.000000   \n",
              "engV         -0.041076     -0.041024 -0.021246  0.084756     -0.015274   \n",
              "engType      -0.040471     -0.040323 -0.011880 -0.044859      0.152988   \n",
              "body         -0.154554     -0.154919  0.026127 -0.162235     -0.082643   \n",
              "mileage      -0.503135     -0.504345 -0.035097  0.067962     -0.229354   \n",
              "\n",
              "                  engV   engType      body   mileage  \n",
              "year         -0.041076 -0.040471 -0.154554 -0.503135  \n",
              "year_squared -0.041024 -0.040323 -0.154919 -0.504345  \n",
              "make         -0.021246 -0.011880  0.026127 -0.035097  \n",
              "drive         0.084756 -0.044859 -0.162235  0.067962  \n",
              "registration -0.015274  0.152988 -0.082643 -0.229354  \n",
              "engV          1.000000 -0.004896 -0.025320  0.042081  \n",
              "engType      -0.004896  1.000000 -0.184007 -0.229644  \n",
              "body         -0.025320 -0.184007  1.000000  0.287060  \n",
              "mileage       0.042081 -0.229644  0.287060  1.000000  "
            ]
          },
          "metadata": {
            "tags": []
          },
          "execution_count": 61
        }
      ]
    },
    {
      "metadata": {
        "id": "qL8WmaIDT-Dz",
        "colab_type": "code",
        "colab": {}
      },
      "cell_type": "code",
      "source": [
        ""
      ],
      "execution_count": 0,
      "outputs": []
    }
  ]
}