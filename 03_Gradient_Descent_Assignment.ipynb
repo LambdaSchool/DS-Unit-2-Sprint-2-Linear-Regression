{
 "cells": [
  {
   "cell_type": "markdown",
   "metadata": {
    "colab_type": "text",
    "id": "Qhm0Y_jqXKRv"
   },
   "source": [
    "# Gradient Descent Implementation Challenge!!\n",
    "\n",
    "## Use gradient descent to find the optimal parameters of a **multiple** regression model. (We only showed an implementation for a bivariate model during lecture.)\n",
    "\n",
    "Implementing gradient descent in any context is not trivial, particularly the step where we calculate the gradient will change based on the number of parameters that we're trying to optimize for. You will need to research what the gradient of a multiple regression model looks like. This challenge is pretty open-ended but I hope it will be thrilling. Please work together, help each other, share resources and generally expand your understanding of gradient descent as you try and achieve this implementation. \n",
    "\n",
    "## Suggestions:\n",
    "\n",
    "Start off with a model that has just two $X$ variables You can use any datasets that have at least two $x$ variables. Potential candidates might be the blood pressure dataset that we used during lecture on Monday: [HERE](https://college.cengage.com/mathematics/brase/understandable_statistics/7e/students/datasets/mlr/excel/mlr02.xls) or any of the housing datasets. You would just need to select from them the two $x$ variables and one $y$ variable that you want to work with. \n",
    "\n",
    "Use Sklearn to find the optimal parameters of your model first. (like we did during the lecture.) So that you can compare the parameter estimates of your gradient-descent linear regression to the estimates of OLS linear regression. If implemented correctly they should be nearly identical.\n",
    "\n",
    "Becoming a Data Scientist is all about striking out into the unknown, getting stuck and then researching and fighting and learning until you get yourself unstuck. Work together! And fight to take your own learning-rate fueled step towards your own optimal understanding of gradient descent! \n"
   ]
  },
  {
   "cell_type": "code",
   "execution_count": 1,
   "metadata": {
    "colab": {
     "base_uri": "https://localhost:8080/",
     "height": 34
    },
    "colab_type": "code",
    "id": "xXTBGjPiZ5Mm",
    "outputId": "3ada5e92-b687-4a1c-f958-4df84df67f23"
   },
   "outputs": [
    {
     "name": "stdout",
     "output_type": "stream",
     "text": [
      "*** No CODEPAGE record, no encoding_override: will use 'ascii'\n"
     ]
    }
   ],
   "source": [
    "import matplotlib.pyplot as plt\n",
    "import numpy as np\n",
    "import pandas as pd\n",
    "from sklearn.linear_model import LinearRegression\n",
    "\n",
    "plt.style.use('seaborn')\n",
    "\n",
    "df = pd.read_excel('https://college.cengage.com/mathematics/brase/'\n",
    "                   'understandable_statistics/7e/students/datasets/'\n",
    "                   'mlr/excel/mlr02.xls', names=['mmHg', 'age', 'weight'])"
   ]
  },
  {
   "cell_type": "code",
   "execution_count": 2,
   "metadata": {},
   "outputs": [
    {
     "name": "stdout",
     "output_type": "stream",
     "text": [
      "[7.48591969 5.52817399]\n",
      "[150.09090909]\n"
     ]
    }
   ],
   "source": [
    "y = df[['mmHg']].values\n",
    "X = df[['age', 'weight']].values\n",
    "\n",
    "X = (X - X.mean(axis=0)) / X.std(axis=0)\n",
    "\n",
    "model = LinearRegression().fit(X, y)\n",
    "print(model.coef_[0], model.intercept_, sep='\\n')"
   ]
  },
  {
   "cell_type": "code",
   "execution_count": 3,
   "metadata": {},
   "outputs": [
    {
     "name": "stdout",
     "output_type": "stream",
     "text": [
      "[[150.09090909   7.47287751   5.54121617]]\n"
     ]
    },
    {
     "data": {
      "image/png": "[encoded data removed]",
      "text/plain": [
       "<Figure size 432x288 with 1 Axes>"
      ]
     },
     "metadata": {},
     "output_type": "display_data"
    }
   ],
   "source": [
    "def cost(X, y, m, n, theta):\n",
    "    predict = X @ theta.T\n",
    "    sq_err = (predict - y) ** 2\n",
    "    return np.sum(sq_err) / (m * n)\n",
    "\n",
    "\n",
    "def multi_gradient_descent(X, y, theta, iters, alpha):\n",
    "    m = X.shape[0]\n",
    "    n = X.shape[1]\n",
    "    # add col of ones\n",
    "    X = np.c_[np.ones(X.shape[0]), X]\n",
    "    \n",
    "    costs = []\n",
    "    for i in range(iters):\n",
    "        theta = theta - (alpha / m) * np.sum(X * (X @ theta.T - y), axis=0)\n",
    "        costs.append(cost(X, y, m, n, theta))\n",
    "        \n",
    "    return theta, costs\n",
    "\n",
    "# one extra theta than cols because of intercept term\n",
    "theta = np.zeros([1, X.shape[1]+1])\n",
    "\n",
    "g, costs = multi_gradient_descent(\n",
    "    X, y, theta, iters=4000, alpha=0.02\n",
    ")\n",
    "\n",
    "print(g)\n",
    "\n",
    "plt.plot(costs);"
   ]
  },
  {
   "cell_type": "markdown",
   "metadata": {
    "colab_type": "text",
    "id": "RCs6EmWhYPM-"
   },
   "source": [
    "## Stretch Goals\n",
    "\n",
    "If you happen upon the most useful resources for accomplishing this challenge first, I want you to spend time today studying other variations of Gradient Descent-Based Optimizers. A good list of the most common optimizers can be found in the Keras Documentation: <https://keras.io/optimizers/>\n",
    "\n",
    "- Try and write a function that can perform gradient descent for arbitarily large (in dimensionality) multiple regression models. \n",
    "- Create a notebook for yourself exploring the different gradient descent based optimizers.\n",
    "- How do the above differ from the \"vanilla\" gradient descent we explored today?\n",
    "- How do these different gradient descent-based optimizers seek to overcome the challenge of finding the global minimum among various local minima?\n",
    "- Write a blog post that reteaches what you have learned about these other gradient descent-based optimizers.\n",
    "\n",
    "[Overview of GD-based optimizers](http://ruder.io/optimizing-gradient-descent/)\n",
    "\n",
    "[Siraj Raval - Evolution of Gradient Descent-Based Optimizers](https://youtu.be/nhqo0u1a6fw)"
   ]
  }
 ],
 "metadata": {
  "colab": {
   "collapsed_sections": [],
   "name": "Gradient Descent Assignment.ipynb",
   "provenance": [],
   "version": "0.3.2"
  },
  "kernelspec": {
   "display_name": "Python 3",
   "language": "python",
   "name": "python3"
  },
  "language_info": {
   "codemirror_mode": {
    "name": "ipython",
    "version": 3
   },
   "file_extension": ".py",
   "mimetype": "text/x-python",
   "name": "python",
   "nbconvert_exporter": "python",
   "pygments_lexer": "ipython3",
   "version": "3.6.4"
  }
 },
 "nbformat": 4,
 "nbformat_minor": 1
}
